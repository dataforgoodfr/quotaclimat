{
 "cells": [
  {
   "cell_type": "markdown",
   "source": [
    "# COP27\n",
    "> Ce notebook sert de marche à suivre pour analyser les données d'une journée de COP"
   ],
   "metadata": {}
  },
  {
   "cell_type": "code",
   "execution_count": 1,
   "source": [
    "import pandas as pd\n",
    "import numpy as np\n",
    "import os\n",
    "import plotly.express as px\n",
    "import plotly.graph_objects as go\n",
    "import matplotlib.pyplot as plt\n",
    "import datetime\n",
    "\n",
    "import sys\n",
    "sys.path.append(\"../../\")\n",
    "\n",
    "%load_ext autoreload\n",
    "%autoreload 2\n",
    "\n",
    "from quotaclimat.utils.plotly_theme import *"
   ],
   "outputs": [],
   "metadata": {}
  },
  {
   "cell_type": "code",
   "execution_count": 2,
   "source": [
    "%%html\n",
    "<style type=\"text/css\">\n",
    "@import url('http://fonts.googleapis.com/css?family=Poppins');\n",
    "</style>"
   ],
   "outputs": [
    {
     "output_type": "display_data",
     "data": {
      "text/html": [
       "<style type=\"text/css\">\n",
       "@import url('http://fonts.googleapis.com/css?family=Poppins');\n",
       "</style>\n"
      ],
      "text/plain": [
       "<IPython.core.display.HTML object>"
      ]
     },
     "metadata": {}
    }
   ],
   "metadata": {}
  },
  {
   "cell_type": "markdown",
   "source": [
    "# Récupération et préparation des données"
   ],
   "metadata": {}
  },
  {
   "cell_type": "markdown",
   "source": [
    "## Récupérer et préparer les données de la journée\n",
    "Choisissez bien le bon fichier"
   ],
   "metadata": {}
  },
  {
   "cell_type": "code",
   "execution_count": 3,
   "source": [
    "from quotaclimat.data_processing.read_format_deduplicate import read_and_format_one\n",
    "from quotaclimat.data_processing.read_format_deduplicate import read_and_format_all_data_dump\n",
    "from quotaclimat.data_processing.read_format_deduplicate import deduplicate_extracts\n",
    "\n",
    "def make_ws_palette(n = 10):\n",
    "    return [f\"rgb({int(x*255)},{int(y*255)},{int(z*255)})\" for x,y,z in list(sns.color_palette(\"RdBu_r\",n_colors=n))]"
   ],
   "outputs": [],
   "metadata": {}
  },
  {
   "cell_type": "code",
   "execution_count": 4,
   "source": [
    "day = \"11\"\n",
    "folder = f\"../../data/COP27/{day}11\"\n",
    "paths = [os.path.join(folder,x) for x in os.listdir(folder)]\n",
    "paths"
   ],
   "outputs": [
    {
     "output_type": "execute_result",
     "data": {
      "text/plain": [
       "['../../data/COP27/1111/20221111_20221111_COP27.xlsx',\n",
       " '../../data/COP27/1111/20221111_20221111_écologie.xlsx']"
      ]
     },
     "metadata": {},
     "execution_count": 4
    }
   ],
   "metadata": {}
  },
  {
   "cell_type": "code",
   "execution_count": 5,
   "source": [
    "path_cop27 = [x for x in paths if \"_COP27\" in x][0]\n",
    "path_ecologie = [x for x in paths if \"écologie\" in x.lower()][0]\n",
    "\n",
    "# IMPORTANT DE RESPECTER CE FORMAT POUR LES FICHIERS\n",
    "assert \"COP27\" in path_cop27\n",
    "assert 'écologie'  in path_ecologie"
   ],
   "outputs": [],
   "metadata": {}
  },
  {
   "cell_type": "code",
   "execution_count": 6,
   "source": [
    "data = read_and_format_one(path_file = path_cop27,path_channels=None)\n",
    "data.shape"
   ],
   "outputs": [
    {
     "output_type": "execute_result",
     "data": {
      "text/plain": [
       "(1122, 14)"
      ]
     },
     "metadata": {},
     "execution_count": 6
    }
   ],
   "metadata": {}
  },
  {
   "cell_type": "code",
   "execution_count": 7,
   "source": [
    "data.keyword.unique()"
   ],
   "outputs": [
    {
     "output_type": "execute_result",
     "data": {
      "text/plain": [
       "array(['COP27'], dtype=object)"
      ]
     },
     "metadata": {},
     "execution_count": 7
    }
   ],
   "metadata": {}
  },
  {
   "cell_type": "markdown",
   "source": [
    "## Filtrer sur les 50 chaînes TV et Radio avec le plus d'audience"
   ],
   "metadata": {}
  },
  {
   "cell_type": "code",
   "execution_count": 8,
   "source": [
    "top_audiences = pd.read_excel(\"../../data/channels.xlsx\",sheet_name = \"top_audiences\")\n",
    "top_audiences[\"channel_id\"] = top_audiences[\"channel_name\"] + \"_\" + top_audiences[\"media\"]\n",
    "top_channels_tv = top_audiences.query(\"media=='TV'\")[\"channel_name\"].tolist()\n",
    "top_channels_radio = top_audiences.query(\"media=='Radio'\")[\"channel_name\"].tolist()\n",
    "\n",
    "top_channels_tv_gen = top_audiences.query(\"type=='Généraliste'\")[\"channel_name\"].tolist()\n",
    "top_channels_tv_info = top_audiences.query(\"type=='Information en continu'\")[\"channel_name\"].tolist()"
   ],
   "outputs": [],
   "metadata": {}
  },
  {
   "cell_type": "code",
   "execution_count": 9,
   "source": [
    "data[\"channel_id\"] = data[\"channel_name\"] + \"_\" + data[\"media\"]\n",
    "data = data.merge(top_audiences[[\"channel_id\",\"type\"]],on = [\"channel_id\"],how = \"inner\")\n",
    "\n",
    "data.loc[data[\"media\"]==\"TV\",\"media2\"] = \"TV\" + \" - \" + data[\"type\"]\n",
    "data.loc[data[\"media\"]==\"Radio\",\"media2\"] = \"Radio\"\n",
    "\n",
    "data.shape"
   ],
   "outputs": [
    {
     "output_type": "execute_result",
     "data": {
      "text/plain": [
       "(467, 17)"
      ]
     },
     "metadata": {},
     "execution_count": 9
    }
   ],
   "metadata": {}
  },
  {
   "cell_type": "markdown",
   "source": [
    "##### Nombre de chaînes TV ou Radio dans l'échantillon\n",
    "Vérifier combien de chaînes sur les 50 parlent du sujet "
   ],
   "metadata": {}
  },
  {
   "cell_type": "code",
   "execution_count": 10,
   "source": [
    "data.drop_duplicates(subset = [\"channel_name\"]).groupby([\"media\"])[\"channel_name\"].count()"
   ],
   "outputs": [
    {
     "output_type": "execute_result",
     "data": {
      "text/plain": [
       "media\n",
       "Radio    15\n",
       "TV       11\n",
       "Name: channel_name, dtype: int64"
      ]
     },
     "metadata": {},
     "execution_count": 10
    }
   ],
   "metadata": {}
  },
  {
   "cell_type": "code",
   "execution_count": 11,
   "source": [
    "data.drop_duplicates(subset = [\"channel_name\"]).groupby([\"media2\"])[\"channel_name\"].count()"
   ],
   "outputs": [
    {
     "output_type": "execute_result",
     "data": {
      "text/plain": [
       "media2\n",
       "Radio                          15\n",
       "TV - Généraliste                6\n",
       "TV - Information en continu     5\n",
       "Name: channel_name, dtype: int64"
      ]
     },
     "metadata": {},
     "execution_count": 11
    }
   ],
   "metadata": {}
  },
  {
   "cell_type": "markdown",
   "source": [
    "## Filtrer dans les horaires d'antenne entre 6h et minuit"
   ],
   "metadata": {}
  },
  {
   "cell_type": "code",
   "execution_count": 12,
   "source": [
    "from quotaclimat.data_analytics.exploration import filter_data_between_hours"
   ],
   "outputs": [],
   "metadata": {}
  },
  {
   "cell_type": "code",
   "execution_count": 13,
   "source": [
    "data = filter_data_between_hours(data,\"06:00\",\"24:00\")"
   ],
   "outputs": [],
   "metadata": {}
  },
  {
   "cell_type": "code",
   "execution_count": 14,
   "source": [
    "data.shape"
   ],
   "outputs": [
    {
     "output_type": "execute_result",
     "data": {
      "text/plain": [
       "(440, 17)"
      ]
     },
     "metadata": {},
     "execution_count": 14
    }
   ],
   "metadata": {
    "scrolled": true
   }
  },
  {
   "cell_type": "markdown",
   "source": [
    "# Préparation des analyses"
   ],
   "metadata": {}
  },
  {
   "cell_type": "code",
   "execution_count": 15,
   "source": [
    "from quotaclimat.utils.channels import TOP_25_CHANNELS,TOP_CHANNELS_TV,TOP_CHANNELS_TV_8\n",
    "from quotaclimat.data_analytics.exploration import show_mentions_by_channel\n",
    "from quotaclimat.data_analytics.exploration import show_mentions_by_time_of_the_day\n",
    "from quotaclimat.data_analytics.exploration import show_mentions_over_time\n",
    "from quotaclimat.data_analytics.exploration import show_mentions_treemap\n",
    "from quotaclimat.data_analytics.exploration import show_piechart_split_tv_radio"
   ],
   "outputs": [],
   "metadata": {}
  },
  {
   "cell_type": "code",
   "execution_count": 16,
   "source": [
    "from quotaclimat.utils.plotly_theme import WARMING_STRIPES_SEQUENCE\n",
    "\n",
    "COLOR_RADIO = WARMING_STRIPES_SEQUENCE[0]\n",
    "COLOR_TV= WARMING_STRIPES_SEQUENCE[1]\n",
    "COLOR_ECO = WARMING_STRIPES_SEQUENCE[3]"
   ],
   "outputs": [],
   "metadata": {}
  },
  {
   "cell_type": "code",
   "execution_count": null,
   "source": [],
   "outputs": [],
   "metadata": {}
  },
  {
   "cell_type": "markdown",
   "source": [
    "## Analyse 1 - volume médiatique total sur les 50 chaînes"
   ],
   "metadata": {}
  },
  {
   "cell_type": "code",
   "execution_count": 17,
   "source": [
    "# Multiplier = n_mentions * 2 min / (n_channels * 60 minutes * 18h * n_days)\n",
    "n_days = 1\n",
    "n_channels = 25 #TV and Radio\n",
    "\n",
    "media_time = data.groupby([\"media\"]).agg({\"count\":\"sum\",\"channel_name\":\"nunique\"})\n",
    "media_time[\"n_channels\"] = 25\n",
    "media_time = media_time.append(pd.DataFrame(media_time.sum(axis = 0).rename(\"Total\")).T)\n",
    "media_time[\"media_time\"] = media_time[\"count\"] * 2\n",
    "media_time[\"total_time\"] = media_time[\"n_channels\"] * n_days * 18 * 60\n",
    "media_time[\"media_part\"] = media_time[\"media_time\"] / media_time[\"total_time\"]\n",
    "\n",
    "media_time"
   ],
   "outputs": [
    {
     "output_type": "stream",
     "name": "stderr",
     "text": [
      "/var/folders/v6/vd9wd_yd6sq8q9yr7gjwfrfc0000gn/T/ipykernel_35457/3862382328.py:7: FutureWarning: The frame.append method is deprecated and will be removed from pandas in a future version. Use pandas.concat instead.\n",
      "  media_time = media_time.append(pd.DataFrame(media_time.sum(axis = 0).rename(\"Total\")).T)\n"
     ]
    },
    {
     "output_type": "execute_result",
     "data": {
      "text/html": [
       "<div>\n",
       "<style scoped>\n",
       "    .dataframe tbody tr th:only-of-type {\n",
       "        vertical-align: middle;\n",
       "    }\n",
       "\n",
       "    .dataframe tbody tr th {\n",
       "        vertical-align: top;\n",
       "    }\n",
       "\n",
       "    .dataframe thead th {\n",
       "        text-align: right;\n",
       "    }\n",
       "</style>\n",
       "<table border=\"1\" class=\"dataframe\">\n",
       "  <thead>\n",
       "    <tr style=\"text-align: right;\">\n",
       "      <th></th>\n",
       "      <th>count</th>\n",
       "      <th>channel_name</th>\n",
       "      <th>n_channels</th>\n",
       "      <th>media_time</th>\n",
       "      <th>total_time</th>\n",
       "      <th>media_part</th>\n",
       "    </tr>\n",
       "  </thead>\n",
       "  <tbody>\n",
       "    <tr>\n",
       "      <th>Radio</th>\n",
       "      <td>274</td>\n",
       "      <td>15</td>\n",
       "      <td>25</td>\n",
       "      <td>548</td>\n",
       "      <td>27000</td>\n",
       "      <td>0.020296</td>\n",
       "    </tr>\n",
       "    <tr>\n",
       "      <th>TV</th>\n",
       "      <td>166</td>\n",
       "      <td>11</td>\n",
       "      <td>25</td>\n",
       "      <td>332</td>\n",
       "      <td>27000</td>\n",
       "      <td>0.012296</td>\n",
       "    </tr>\n",
       "    <tr>\n",
       "      <th>Total</th>\n",
       "      <td>440</td>\n",
       "      <td>26</td>\n",
       "      <td>50</td>\n",
       "      <td>880</td>\n",
       "      <td>54000</td>\n",
       "      <td>0.016296</td>\n",
       "    </tr>\n",
       "  </tbody>\n",
       "</table>\n",
       "</div>"
      ],
      "text/plain": [
       "       count  channel_name  n_channels  media_time  total_time  media_part\n",
       "Radio    274            15          25         548       27000    0.020296\n",
       "TV       166            11          25         332       27000    0.012296\n",
       "Total    440            26          50         880       54000    0.016296"
      ]
     },
     "metadata": {},
     "execution_count": 17
    }
   ],
   "metadata": {}
  },
  {
   "cell_type": "code",
   "execution_count": 18,
   "source": [
    "fig = px.bar(media_time.reset_index(),x = \"index\",y = \"media_part\",height = 400,text_auto = \".1%\")\n",
    "fig.update_layout(yaxis_tickformat='0%',\n",
    "                  title = \"Volume médiatique total sur les 50 chaînes TV et Radio\",\n",
    "                  font_family=\"Poppins\",yaxis_title=\"% du volume médiatique\",xaxis_title = \"\")\n",
    "fig.update_traces(marker_color=[COLOR_RADIO,COLOR_TV])\n",
    "fig"
   ],
   "outputs": [
    {
     "output_type": "display_data",
     "data": {
      "application/vnd.plotly.v1+json": {
       "data": [
        {
         "alignmentgroup": "True",
         "hovertemplate": "index=%{x}<br>media_part=%{y}<extra></extra>",
         "legendgroup": "",
         "marker": {
          "color": [
           "#08306b",
           "#08519c"
          ],
          "pattern": {
           "shape": ""
          }
         },
         "name": "",
         "offsetgroup": "",
         "orientation": "v",
         "showlegend": false,
         "textposition": "auto",
         "texttemplate": "%{y:.1%}",
         "x": [
          "Radio",
          "TV",
          "Total"
         ],
         "xaxis": "x",
         "y": [
          0.020296296296296295,
          0.012296296296296296,
          0.016296296296296295
         ],
         "yaxis": "y",
         "type": "bar"
        }
       ],
       "layout": {
        "template": {
         "data": {
          "barpolar": [
           {
            "marker": {
             "line": {
              "color": "white",
              "width": 0.5
             },
             "pattern": {
              "fillmode": "overlay",
              "size": 10,
              "solidity": 0.2
             }
            },
            "type": "barpolar"
           }
          ],
          "bar": [
           {
            "error_x": {
             "color": "#2a3f5f"
            },
            "error_y": {
             "color": "#2a3f5f"
            },
            "marker": {
             "line": {
              "color": "white",
              "width": 0.5
             },
             "pattern": {
              "fillmode": "overlay",
              "size": 10,
              "solidity": 0.2
             }
            },
            "type": "bar"
           }
          ],
          "carpet": [
           {
            "aaxis": {
             "endlinecolor": "#2a3f5f",
             "gridcolor": "#C8D4E3",
             "linecolor": "#C8D4E3",
             "minorgridcolor": "#C8D4E3",
             "startlinecolor": "#2a3f5f"
            },
            "baxis": {
             "endlinecolor": "#2a3f5f",
             "gridcolor": "#C8D4E3",
             "linecolor": "#C8D4E3",
             "minorgridcolor": "#C8D4E3",
             "startlinecolor": "#2a3f5f"
            },
            "type": "carpet"
           }
          ],
          "choropleth": [
           {
            "colorbar": {
             "outlinewidth": 0,
             "ticks": ""
            },
            "type": "choropleth"
           }
          ],
          "contourcarpet": [
           {
            "colorbar": {
             "outlinewidth": 0,
             "ticks": ""
            },
            "type": "contourcarpet"
           }
          ],
          "contour": [
           {
            "colorbar": {
             "outlinewidth": 0,
             "ticks": ""
            },
            "colorscale": [
             [
              0,
              "#0d0887"
             ],
             [
              0.1111111111111111,
              "#46039f"
             ],
             [
              0.2222222222222222,
              "#7201a8"
             ],
             [
              0.3333333333333333,
              "#9c179e"
             ],
             [
              0.4444444444444444,
              "#bd3786"
             ],
             [
              0.5555555555555556,
              "#d8576b"
             ],
             [
              0.6666666666666666,
              "#ed7953"
             ],
             [
              0.7777777777777778,
              "#fb9f3a"
             ],
             [
              0.8888888888888888,
              "#fdca26"
             ],
             [
              1,
              "#f0f921"
             ]
            ],
            "type": "contour"
           }
          ],
          "heatmapgl": [
           {
            "colorbar": {
             "outlinewidth": 0,
             "ticks": ""
            },
            "colorscale": [
             [
              0,
              "#0d0887"
             ],
             [
              0.1111111111111111,
              "#46039f"
             ],
             [
              0.2222222222222222,
              "#7201a8"
             ],
             [
              0.3333333333333333,
              "#9c179e"
             ],
             [
              0.4444444444444444,
              "#bd3786"
             ],
             [
              0.5555555555555556,
              "#d8576b"
             ],
             [
              0.6666666666666666,
              "#ed7953"
             ],
             [
              0.7777777777777778,
              "#fb9f3a"
             ],
             [
              0.8888888888888888,
              "#fdca26"
             ],
             [
              1,
              "#f0f921"
             ]
            ],
            "type": "heatmapgl"
           }
          ],
          "heatmap": [
           {
            "colorbar": {
             "outlinewidth": 0,
             "ticks": ""
            },
            "colorscale": [
             [
              0,
              "#0d0887"
             ],
             [
              0.1111111111111111,
              "#46039f"
             ],
             [
              0.2222222222222222,
              "#7201a8"
             ],
             [
              0.3333333333333333,
              "#9c179e"
             ],
             [
              0.4444444444444444,
              "#bd3786"
             ],
             [
              0.5555555555555556,
              "#d8576b"
             ],
             [
              0.6666666666666666,
              "#ed7953"
             ],
             [
              0.7777777777777778,
              "#fb9f3a"
             ],
             [
              0.8888888888888888,
              "#fdca26"
             ],
             [
              1,
              "#f0f921"
             ]
            ],
            "type": "heatmap"
           }
          ],
          "histogram2dcontour": [
           {
            "colorbar": {
             "outlinewidth": 0,
             "ticks": ""
            },
            "colorscale": [
             [
              0,
              "#0d0887"
             ],
             [
              0.1111111111111111,
              "#46039f"
             ],
             [
              0.2222222222222222,
              "#7201a8"
             ],
             [
              0.3333333333333333,
              "#9c179e"
             ],
             [
              0.4444444444444444,
              "#bd3786"
             ],
             [
              0.5555555555555556,
              "#d8576b"
             ],
             [
              0.6666666666666666,
              "#ed7953"
             ],
             [
              0.7777777777777778,
              "#fb9f3a"
             ],
             [
              0.8888888888888888,
              "#fdca26"
             ],
             [
              1,
              "#f0f921"
             ]
            ],
            "type": "histogram2dcontour"
           }
          ],
          "histogram2d": [
           {
            "colorbar": {
             "outlinewidth": 0,
             "ticks": ""
            },
            "colorscale": [
             [
              0,
              "#0d0887"
             ],
             [
              0.1111111111111111,
              "#46039f"
             ],
             [
              0.2222222222222222,
              "#7201a8"
             ],
             [
              0.3333333333333333,
              "#9c179e"
             ],
             [
              0.4444444444444444,
              "#bd3786"
             ],
             [
              0.5555555555555556,
              "#d8576b"
             ],
             [
              0.6666666666666666,
              "#ed7953"
             ],
             [
              0.7777777777777778,
              "#fb9f3a"
             ],
             [
              0.8888888888888888,
              "#fdca26"
             ],
             [
              1,
              "#f0f921"
             ]
            ],
            "type": "histogram2d"
           }
          ],
          "histogram": [
           {
            "marker": {
             "pattern": {
              "fillmode": "overlay",
              "size": 10,
              "solidity": 0.2
             }
            },
            "type": "histogram"
           }
          ],
          "mesh3d": [
           {
            "colorbar": {
             "outlinewidth": 0,
             "ticks": ""
            },
            "type": "mesh3d"
           }
          ],
          "parcoords": [
           {
            "line": {
             "colorbar": {
              "outlinewidth": 0,
              "ticks": ""
             }
            },
            "type": "parcoords"
           }
          ],
          "pie": [
           {
            "automargin": true,
            "type": "pie"
           }
          ],
          "scatter3d": [
           {
            "line": {
             "colorbar": {
              "outlinewidth": 0,
              "ticks": ""
             }
            },
            "marker": {
             "colorbar": {
              "outlinewidth": 0,
              "ticks": ""
             }
            },
            "type": "scatter3d"
           }
          ],
          "scattercarpet": [
           {
            "marker": {
             "colorbar": {
              "outlinewidth": 0,
              "ticks": ""
             }
            },
            "type": "scattercarpet"
           }
          ],
          "scattergeo": [
           {
            "marker": {
             "colorbar": {
              "outlinewidth": 0,
              "ticks": ""
             }
            },
            "type": "scattergeo"
           }
          ],
          "scattergl": [
           {
            "marker": {
             "colorbar": {
              "outlinewidth": 0,
              "ticks": ""
             }
            },
            "type": "scattergl"
           }
          ],
          "scattermapbox": [
           {
            "marker": {
             "colorbar": {
              "outlinewidth": 0,
              "ticks": ""
             }
            },
            "type": "scattermapbox"
           }
          ],
          "scatterpolargl": [
           {
            "marker": {
             "colorbar": {
              "outlinewidth": 0,
              "ticks": ""
             }
            },
            "type": "scatterpolargl"
           }
          ],
          "scatterpolar": [
           {
            "marker": {
             "colorbar": {
              "outlinewidth": 0,
              "ticks": ""
             }
            },
            "type": "scatterpolar"
           }
          ],
          "scatter": [
           {
            "fillpattern": {
             "fillmode": "overlay",
             "size": 10,
             "solidity": 0.2
            },
            "type": "scatter"
           }
          ],
          "scatterternary": [
           {
            "marker": {
             "colorbar": {
              "outlinewidth": 0,
              "ticks": ""
             }
            },
            "type": "scatterternary"
           }
          ],
          "surface": [
           {
            "colorbar": {
             "outlinewidth": 0,
             "ticks": ""
            },
            "colorscale": [
             [
              0,
              "#0d0887"
             ],
             [
              0.1111111111111111,
              "#46039f"
             ],
             [
              0.2222222222222222,
              "#7201a8"
             ],
             [
              0.3333333333333333,
              "#9c179e"
             ],
             [
              0.4444444444444444,
              "#bd3786"
             ],
             [
              0.5555555555555556,
              "#d8576b"
             ],
             [
              0.6666666666666666,
              "#ed7953"
             ],
             [
              0.7777777777777778,
              "#fb9f3a"
             ],
             [
              0.8888888888888888,
              "#fdca26"
             ],
             [
              1,
              "#f0f921"
             ]
            ],
            "type": "surface"
           }
          ],
          "table": [
           {
            "cells": {
             "fill": {
              "color": "#EBF0F8"
             },
             "line": {
              "color": "white"
             }
            },
            "header": {
             "fill": {
              "color": "#C8D4E3"
             },
             "line": {
              "color": "white"
             }
            },
            "type": "table"
           }
          ]
         },
         "layout": {
          "annotationdefaults": {
           "arrowcolor": "#2a3f5f",
           "arrowhead": 0,
           "arrowwidth": 1
          },
          "autotypenumbers": "strict",
          "coloraxis": {
           "colorbar": {
            "outlinewidth": 0,
            "ticks": ""
           }
          },
          "colorscale": {
           "diverging": [
            [
             0,
             "#8e0152"
            ],
            [
             0.1,
             "#c51b7d"
            ],
            [
             0.2,
             "#de77ae"
            ],
            [
             0.3,
             "#f1b6da"
            ],
            [
             0.4,
             "#fde0ef"
            ],
            [
             0.5,
             "#f7f7f7"
            ],
            [
             0.6,
             "#e6f5d0"
            ],
            [
             0.7,
             "#b8e186"
            ],
            [
             0.8,
             "#7fbc41"
            ],
            [
             0.9,
             "#4d9221"
            ],
            [
             1,
             "#276419"
            ]
           ],
           "sequential": [
            [
             0,
             "#0d0887"
            ],
            [
             0.1111111111111111,
             "#46039f"
            ],
            [
             0.2222222222222222,
             "#7201a8"
            ],
            [
             0.3333333333333333,
             "#9c179e"
            ],
            [
             0.4444444444444444,
             "#bd3786"
            ],
            [
             0.5555555555555556,
             "#d8576b"
            ],
            [
             0.6666666666666666,
             "#ed7953"
            ],
            [
             0.7777777777777778,
             "#fb9f3a"
            ],
            [
             0.8888888888888888,
             "#fdca26"
            ],
            [
             1,
             "#f0f921"
            ]
           ],
           "sequentialminus": [
            [
             0,
             "#0d0887"
            ],
            [
             0.1111111111111111,
             "#46039f"
            ],
            [
             0.2222222222222222,
             "#7201a8"
            ],
            [
             0.3333333333333333,
             "#9c179e"
            ],
            [
             0.4444444444444444,
             "#bd3786"
            ],
            [
             0.5555555555555556,
             "#d8576b"
            ],
            [
             0.6666666666666666,
             "#ed7953"
            ],
            [
             0.7777777777777778,
             "#fb9f3a"
            ],
            [
             0.8888888888888888,
             "#fdca26"
            ],
            [
             1,
             "#f0f921"
            ]
           ]
          },
          "colorway": [
           "#636efa",
           "#EF553B",
           "#00cc96",
           "#ab63fa",
           "#FFA15A",
           "#19d3f3",
           "#FF6692",
           "#B6E880",
           "#FF97FF",
           "#FECB52"
          ],
          "font": {
           "color": "#2a3f5f"
          },
          "geo": {
           "bgcolor": "white",
           "lakecolor": "white",
           "landcolor": "white",
           "showlakes": true,
           "showland": true,
           "subunitcolor": "#C8D4E3"
          },
          "hoverlabel": {
           "align": "left"
          },
          "hovermode": "closest",
          "mapbox": {
           "style": "light"
          },
          "paper_bgcolor": "white",
          "plot_bgcolor": "white",
          "polar": {
           "angularaxis": {
            "gridcolor": "#EBF0F8",
            "linecolor": "#EBF0F8",
            "ticks": ""
           },
           "bgcolor": "white",
           "radialaxis": {
            "gridcolor": "#EBF0F8",
            "linecolor": "#EBF0F8",
            "ticks": ""
           }
          },
          "scene": {
           "xaxis": {
            "backgroundcolor": "white",
            "gridcolor": "#DFE8F3",
            "gridwidth": 2,
            "linecolor": "#EBF0F8",
            "showbackground": true,
            "ticks": "",
            "zerolinecolor": "#EBF0F8"
           },
           "yaxis": {
            "backgroundcolor": "white",
            "gridcolor": "#DFE8F3",
            "gridwidth": 2,
            "linecolor": "#EBF0F8",
            "showbackground": true,
            "ticks": "",
            "zerolinecolor": "#EBF0F8"
           },
           "zaxis": {
            "backgroundcolor": "white",
            "gridcolor": "#DFE8F3",
            "gridwidth": 2,
            "linecolor": "#EBF0F8",
            "showbackground": true,
            "ticks": "",
            "zerolinecolor": "#EBF0F8"
           }
          },
          "shapedefaults": {
           "line": {
            "color": "#2a3f5f"
           }
          },
          "ternary": {
           "aaxis": {
            "gridcolor": "#DFE8F3",
            "linecolor": "#A2B1C6",
            "ticks": ""
           },
           "baxis": {
            "gridcolor": "#DFE8F3",
            "linecolor": "#A2B1C6",
            "ticks": ""
           },
           "bgcolor": "white",
           "caxis": {
            "gridcolor": "#DFE8F3",
            "linecolor": "#A2B1C6",
            "ticks": ""
           }
          },
          "title": {
           "x": 0.05
          },
          "xaxis": {
           "automargin": true,
           "gridcolor": "#EBF0F8",
           "linecolor": "#EBF0F8",
           "ticks": "",
           "title": {
            "standoff": 15
           },
           "zerolinecolor": "#EBF0F8",
           "zerolinewidth": 2
          },
          "yaxis": {
           "automargin": true,
           "gridcolor": "#EBF0F8",
           "linecolor": "#EBF0F8",
           "ticks": "",
           "title": {
            "standoff": 15
           },
           "zerolinecolor": "#EBF0F8",
           "zerolinewidth": 2
          }
         }
        },
        "xaxis": {
         "anchor": "y",
         "domain": [
          0,
          1
         ],
         "title": {
          "text": ""
         }
        },
        "yaxis": {
         "anchor": "x",
         "domain": [
          0,
          1
         ],
         "title": {
          "text": "% du volume médiatique"
         },
         "tickformat": "0%"
        },
        "legend": {
         "tracegroupgap": 0
        },
        "margin": {
         "t": 60
        },
        "barmode": "relative",
        "height": 400,
        "font": {
         "family": "Poppins"
        },
        "title": {
         "text": "Volume médiatique total sur les 50 chaînes TV et Radio"
        }
       },
       "config": {
        "plotlyServerURL": "https://plot.ly"
       }
      }
     },
     "metadata": {}
    }
   ],
   "metadata": {}
  },
  {
   "cell_type": "markdown",
   "source": [
    "## Analyse 1.2 split par type de TV"
   ],
   "metadata": {}
  },
  {
   "cell_type": "code",
   "execution_count": 19,
   "source": [
    "# Multiplier = n_mentions * 2 min / (n_channels * 60 minutes * 18h * n_days)\n",
    "n_days = 1\n",
    "n_channels = 25 #TV and Radio\n",
    "\n",
    "media_time = data.groupby([\"media2\"]).agg({\"count\":\"sum\",\"channel_name\":\"nunique\"})\n",
    "media_time.loc[\"Radio\",\"n_channels\"] = 25\n",
    "media_time.loc[\"TV - Généraliste\",\"n_channels\"] = 19\n",
    "media_time.loc[\"TV - Information en continu\",\"n_channels\"] = 6\n",
    "media_time = media_time.append(pd.DataFrame(media_time.sum(axis = 0).rename(\"Total\")).T)\n",
    "media_time[\"media_time\"] = media_time[\"count\"] * 2\n",
    "media_time[\"total_time\"] = media_time[\"n_channels\"] * n_days * 18 * 60\n",
    "media_time[\"media_part\"] = media_time[\"media_time\"] / media_time[\"total_time\"]\n",
    "\n",
    "media_time"
   ],
   "outputs": [
    {
     "output_type": "stream",
     "name": "stderr",
     "text": [
      "/var/folders/v6/vd9wd_yd6sq8q9yr7gjwfrfc0000gn/T/ipykernel_35457/816030179.py:9: FutureWarning:\n",
      "\n",
      "The frame.append method is deprecated and will be removed from pandas in a future version. Use pandas.concat instead.\n",
      "\n"
     ]
    },
    {
     "output_type": "execute_result",
     "data": {
      "text/html": [
       "<div>\n",
       "<style scoped>\n",
       "    .dataframe tbody tr th:only-of-type {\n",
       "        vertical-align: middle;\n",
       "    }\n",
       "\n",
       "    .dataframe tbody tr th {\n",
       "        vertical-align: top;\n",
       "    }\n",
       "\n",
       "    .dataframe thead th {\n",
       "        text-align: right;\n",
       "    }\n",
       "</style>\n",
       "<table border=\"1\" class=\"dataframe\">\n",
       "  <thead>\n",
       "    <tr style=\"text-align: right;\">\n",
       "      <th></th>\n",
       "      <th>count</th>\n",
       "      <th>channel_name</th>\n",
       "      <th>n_channels</th>\n",
       "      <th>media_time</th>\n",
       "      <th>total_time</th>\n",
       "      <th>media_part</th>\n",
       "    </tr>\n",
       "  </thead>\n",
       "  <tbody>\n",
       "    <tr>\n",
       "      <th>Radio</th>\n",
       "      <td>274.0</td>\n",
       "      <td>15.0</td>\n",
       "      <td>25.0</td>\n",
       "      <td>548.0</td>\n",
       "      <td>27000.0</td>\n",
       "      <td>0.020296</td>\n",
       "    </tr>\n",
       "    <tr>\n",
       "      <th>TV - Généraliste</th>\n",
       "      <td>18.0</td>\n",
       "      <td>6.0</td>\n",
       "      <td>19.0</td>\n",
       "      <td>36.0</td>\n",
       "      <td>20520.0</td>\n",
       "      <td>0.001754</td>\n",
       "    </tr>\n",
       "    <tr>\n",
       "      <th>TV - Information en continu</th>\n",
       "      <td>148.0</td>\n",
       "      <td>5.0</td>\n",
       "      <td>6.0</td>\n",
       "      <td>296.0</td>\n",
       "      <td>6480.0</td>\n",
       "      <td>0.045679</td>\n",
       "    </tr>\n",
       "    <tr>\n",
       "      <th>Total</th>\n",
       "      <td>440.0</td>\n",
       "      <td>26.0</td>\n",
       "      <td>50.0</td>\n",
       "      <td>880.0</td>\n",
       "      <td>54000.0</td>\n",
       "      <td>0.016296</td>\n",
       "    </tr>\n",
       "  </tbody>\n",
       "</table>\n",
       "</div>"
      ],
      "text/plain": [
       "                             count  channel_name  n_channels  media_time  \\\n",
       "Radio                        274.0          15.0        25.0       548.0   \n",
       "TV - Généraliste              18.0           6.0        19.0        36.0   \n",
       "TV - Information en continu  148.0           5.0         6.0       296.0   \n",
       "Total                        440.0          26.0        50.0       880.0   \n",
       "\n",
       "                             total_time  media_part  \n",
       "Radio                           27000.0    0.020296  \n",
       "TV - Généraliste                20520.0    0.001754  \n",
       "TV - Information en continu      6480.0    0.045679  \n",
       "Total                           54000.0    0.016296  "
      ]
     },
     "metadata": {},
     "execution_count": 19
    }
   ],
   "metadata": {}
  },
  {
   "cell_type": "code",
   "execution_count": 20,
   "source": [
    "fig = px.bar(media_time.reset_index(),x = \"index\",y = \"media_part\",height = 400,text_auto = \".1%\")\n",
    "fig.update_layout(yaxis_tickformat='0%',\n",
    "                  title = \"Volume médiatique total sur les 50 chaînes TV et Radio\",\n",
    "                  font_family=\"Poppins\",yaxis_title=\"% du volume médiatique\",xaxis_title = \"\")\n",
    "fig.update_traces(marker_color=[COLOR_RADIO,COLOR_TV,COLOR_TV])\n",
    "fig"
   ],
   "outputs": [
    {
     "output_type": "display_data",
     "data": {
      "application/vnd.plotly.v1+json": {
       "data": [
        {
         "alignmentgroup": "True",
         "hovertemplate": "index=%{x}<br>media_part=%{y}<extra></extra>",
         "legendgroup": "",
         "marker": {
          "color": [
           "#08306b",
           "#08519c",
           "#08519c"
          ],
          "pattern": {
           "shape": ""
          }
         },
         "name": "",
         "offsetgroup": "",
         "orientation": "v",
         "showlegend": false,
         "textposition": "auto",
         "texttemplate": "%{y:.1%}",
         "x": [
          "Radio",
          "TV - Généraliste",
          "TV - Information en continu",
          "Total"
         ],
         "xaxis": "x",
         "y": [
          0.020296296296296295,
          0.0017543859649122807,
          0.04567901234567901,
          0.016296296296296295
         ],
         "yaxis": "y",
         "type": "bar"
        }
       ],
       "layout": {
        "template": {
         "data": {
          "barpolar": [
           {
            "marker": {
             "line": {
              "color": "white",
              "width": 0.5
             },
             "pattern": {
              "fillmode": "overlay",
              "size": 10,
              "solidity": 0.2
             }
            },
            "type": "barpolar"
           }
          ],
          "bar": [
           {
            "error_x": {
             "color": "#2a3f5f"
            },
            "error_y": {
             "color": "#2a3f5f"
            },
            "marker": {
             "line": {
              "color": "white",
              "width": 0.5
             },
             "pattern": {
              "fillmode": "overlay",
              "size": 10,
              "solidity": 0.2
             }
            },
            "type": "bar"
           }
          ],
          "carpet": [
           {
            "aaxis": {
             "endlinecolor": "#2a3f5f",
             "gridcolor": "#C8D4E3",
             "linecolor": "#C8D4E3",
             "minorgridcolor": "#C8D4E3",
             "startlinecolor": "#2a3f5f"
            },
            "baxis": {
             "endlinecolor": "#2a3f5f",
             "gridcolor": "#C8D4E3",
             "linecolor": "#C8D4E3",
             "minorgridcolor": "#C8D4E3",
             "startlinecolor": "#2a3f5f"
            },
            "type": "carpet"
           }
          ],
          "choropleth": [
           {
            "colorbar": {
             "outlinewidth": 0,
             "ticks": ""
            },
            "type": "choropleth"
           }
          ],
          "contourcarpet": [
           {
            "colorbar": {
             "outlinewidth": 0,
             "ticks": ""
            },
            "type": "contourcarpet"
           }
          ],
          "contour": [
           {
            "colorbar": {
             "outlinewidth": 0,
             "ticks": ""
            },
            "colorscale": [
             [
              0,
              "#0d0887"
             ],
             [
              0.1111111111111111,
              "#46039f"
             ],
             [
              0.2222222222222222,
              "#7201a8"
             ],
             [
              0.3333333333333333,
              "#9c179e"
             ],
             [
              0.4444444444444444,
              "#bd3786"
             ],
             [
              0.5555555555555556,
              "#d8576b"
             ],
             [
              0.6666666666666666,
              "#ed7953"
             ],
             [
              0.7777777777777778,
              "#fb9f3a"
             ],
             [
              0.8888888888888888,
              "#fdca26"
             ],
             [
              1,
              "#f0f921"
             ]
            ],
            "type": "contour"
           }
          ],
          "heatmapgl": [
           {
            "colorbar": {
             "outlinewidth": 0,
             "ticks": ""
            },
            "colorscale": [
             [
              0,
              "#0d0887"
             ],
             [
              0.1111111111111111,
              "#46039f"
             ],
             [
              0.2222222222222222,
              "#7201a8"
             ],
             [
              0.3333333333333333,
              "#9c179e"
             ],
             [
              0.4444444444444444,
              "#bd3786"
             ],
             [
              0.5555555555555556,
              "#d8576b"
             ],
             [
              0.6666666666666666,
              "#ed7953"
             ],
             [
              0.7777777777777778,
              "#fb9f3a"
             ],
             [
              0.8888888888888888,
              "#fdca26"
             ],
             [
              1,
              "#f0f921"
             ]
            ],
            "type": "heatmapgl"
           }
          ],
          "heatmap": [
           {
            "colorbar": {
             "outlinewidth": 0,
             "ticks": ""
            },
            "colorscale": [
             [
              0,
              "#0d0887"
             ],
             [
              0.1111111111111111,
              "#46039f"
             ],
             [
              0.2222222222222222,
              "#7201a8"
             ],
             [
              0.3333333333333333,
              "#9c179e"
             ],
             [
              0.4444444444444444,
              "#bd3786"
             ],
             [
              0.5555555555555556,
              "#d8576b"
             ],
             [
              0.6666666666666666,
              "#ed7953"
             ],
             [
              0.7777777777777778,
              "#fb9f3a"
             ],
             [
              0.8888888888888888,
              "#fdca26"
             ],
             [
              1,
              "#f0f921"
             ]
            ],
            "type": "heatmap"
           }
          ],
          "histogram2dcontour": [
           {
            "colorbar": {
             "outlinewidth": 0,
             "ticks": ""
            },
            "colorscale": [
             [
              0,
              "#0d0887"
             ],
             [
              0.1111111111111111,
              "#46039f"
             ],
             [
              0.2222222222222222,
              "#7201a8"
             ],
             [
              0.3333333333333333,
              "#9c179e"
             ],
             [
              0.4444444444444444,
              "#bd3786"
             ],
             [
              0.5555555555555556,
              "#d8576b"
             ],
             [
              0.6666666666666666,
              "#ed7953"
             ],
             [
              0.7777777777777778,
              "#fb9f3a"
             ],
             [
              0.8888888888888888,
              "#fdca26"
             ],
             [
              1,
              "#f0f921"
             ]
            ],
            "type": "histogram2dcontour"
           }
          ],
          "histogram2d": [
           {
            "colorbar": {
             "outlinewidth": 0,
             "ticks": ""
            },
            "colorscale": [
             [
              0,
              "#0d0887"
             ],
             [
              0.1111111111111111,
              "#46039f"
             ],
             [
              0.2222222222222222,
              "#7201a8"
             ],
             [
              0.3333333333333333,
              "#9c179e"
             ],
             [
              0.4444444444444444,
              "#bd3786"
             ],
             [
              0.5555555555555556,
              "#d8576b"
             ],
             [
              0.6666666666666666,
              "#ed7953"
             ],
             [
              0.7777777777777778,
              "#fb9f3a"
             ],
             [
              0.8888888888888888,
              "#fdca26"
             ],
             [
              1,
              "#f0f921"
             ]
            ],
            "type": "histogram2d"
           }
          ],
          "histogram": [
           {
            "marker": {
             "pattern": {
              "fillmode": "overlay",
              "size": 10,
              "solidity": 0.2
             }
            },
            "type": "histogram"
           }
          ],
          "mesh3d": [
           {
            "colorbar": {
             "outlinewidth": 0,
             "ticks": ""
            },
            "type": "mesh3d"
           }
          ],
          "parcoords": [
           {
            "line": {
             "colorbar": {
              "outlinewidth": 0,
              "ticks": ""
             }
            },
            "type": "parcoords"
           }
          ],
          "pie": [
           {
            "automargin": true,
            "type": "pie"
           }
          ],
          "scatter3d": [
           {
            "line": {
             "colorbar": {
              "outlinewidth": 0,
              "ticks": ""
             }
            },
            "marker": {
             "colorbar": {
              "outlinewidth": 0,
              "ticks": ""
             }
            },
            "type": "scatter3d"
           }
          ],
          "scattercarpet": [
           {
            "marker": {
             "colorbar": {
              "outlinewidth": 0,
              "ticks": ""
             }
            },
            "type": "scattercarpet"
           }
          ],
          "scattergeo": [
           {
            "marker": {
             "colorbar": {
              "outlinewidth": 0,
              "ticks": ""
             }
            },
            "type": "scattergeo"
           }
          ],
          "scattergl": [
           {
            "marker": {
             "colorbar": {
              "outlinewidth": 0,
              "ticks": ""
             }
            },
            "type": "scattergl"
           }
          ],
          "scattermapbox": [
           {
            "marker": {
             "colorbar": {
              "outlinewidth": 0,
              "ticks": ""
             }
            },
            "type": "scattermapbox"
           }
          ],
          "scatterpolargl": [
           {
            "marker": {
             "colorbar": {
              "outlinewidth": 0,
              "ticks": ""
             }
            },
            "type": "scatterpolargl"
           }
          ],
          "scatterpolar": [
           {
            "marker": {
             "colorbar": {
              "outlinewidth": 0,
              "ticks": ""
             }
            },
            "type": "scatterpolar"
           }
          ],
          "scatter": [
           {
            "fillpattern": {
             "fillmode": "overlay",
             "size": 10,
             "solidity": 0.2
            },
            "type": "scatter"
           }
          ],
          "scatterternary": [
           {
            "marker": {
             "colorbar": {
              "outlinewidth": 0,
              "ticks": ""
             }
            },
            "type": "scatterternary"
           }
          ],
          "surface": [
           {
            "colorbar": {
             "outlinewidth": 0,
             "ticks": ""
            },
            "colorscale": [
             [
              0,
              "#0d0887"
             ],
             [
              0.1111111111111111,
              "#46039f"
             ],
             [
              0.2222222222222222,
              "#7201a8"
             ],
             [
              0.3333333333333333,
              "#9c179e"
             ],
             [
              0.4444444444444444,
              "#bd3786"
             ],
             [
              0.5555555555555556,
              "#d8576b"
             ],
             [
              0.6666666666666666,
              "#ed7953"
             ],
             [
              0.7777777777777778,
              "#fb9f3a"
             ],
             [
              0.8888888888888888,
              "#fdca26"
             ],
             [
              1,
              "#f0f921"
             ]
            ],
            "type": "surface"
           }
          ],
          "table": [
           {
            "cells": {
             "fill": {
              "color": "#EBF0F8"
             },
             "line": {
              "color": "white"
             }
            },
            "header": {
             "fill": {
              "color": "#C8D4E3"
             },
             "line": {
              "color": "white"
             }
            },
            "type": "table"
           }
          ]
         },
         "layout": {
          "annotationdefaults": {
           "arrowcolor": "#2a3f5f",
           "arrowhead": 0,
           "arrowwidth": 1
          },
          "autotypenumbers": "strict",
          "coloraxis": {
           "colorbar": {
            "outlinewidth": 0,
            "ticks": ""
           }
          },
          "colorscale": {
           "diverging": [
            [
             0,
             "#8e0152"
            ],
            [
             0.1,
             "#c51b7d"
            ],
            [
             0.2,
             "#de77ae"
            ],
            [
             0.3,
             "#f1b6da"
            ],
            [
             0.4,
             "#fde0ef"
            ],
            [
             0.5,
             "#f7f7f7"
            ],
            [
             0.6,
             "#e6f5d0"
            ],
            [
             0.7,
             "#b8e186"
            ],
            [
             0.8,
             "#7fbc41"
            ],
            [
             0.9,
             "#4d9221"
            ],
            [
             1,
             "#276419"
            ]
           ],
           "sequential": [
            [
             0,
             "#0d0887"
            ],
            [
             0.1111111111111111,
             "#46039f"
            ],
            [
             0.2222222222222222,
             "#7201a8"
            ],
            [
             0.3333333333333333,
             "#9c179e"
            ],
            [
             0.4444444444444444,
             "#bd3786"
            ],
            [
             0.5555555555555556,
             "#d8576b"
            ],
            [
             0.6666666666666666,
             "#ed7953"
            ],
            [
             0.7777777777777778,
             "#fb9f3a"
            ],
            [
             0.8888888888888888,
             "#fdca26"
            ],
            [
             1,
             "#f0f921"
            ]
           ],
           "sequentialminus": [
            [
             0,
             "#0d0887"
            ],
            [
             0.1111111111111111,
             "#46039f"
            ],
            [
             0.2222222222222222,
             "#7201a8"
            ],
            [
             0.3333333333333333,
             "#9c179e"
            ],
            [
             0.4444444444444444,
             "#bd3786"
            ],
            [
             0.5555555555555556,
             "#d8576b"
            ],
            [
             0.6666666666666666,
             "#ed7953"
            ],
            [
             0.7777777777777778,
             "#fb9f3a"
            ],
            [
             0.8888888888888888,
             "#fdca26"
            ],
            [
             1,
             "#f0f921"
            ]
           ]
          },
          "colorway": [
           "#636efa",
           "#EF553B",
           "#00cc96",
           "#ab63fa",
           "#FFA15A",
           "#19d3f3",
           "#FF6692",
           "#B6E880",
           "#FF97FF",
           "#FECB52"
          ],
          "font": {
           "color": "#2a3f5f"
          },
          "geo": {
           "bgcolor": "white",
           "lakecolor": "white",
           "landcolor": "white",
           "showlakes": true,
           "showland": true,
           "subunitcolor": "#C8D4E3"
          },
          "hoverlabel": {
           "align": "left"
          },
          "hovermode": "closest",
          "mapbox": {
           "style": "light"
          },
          "paper_bgcolor": "white",
          "plot_bgcolor": "white",
          "polar": {
           "angularaxis": {
            "gridcolor": "#EBF0F8",
            "linecolor": "#EBF0F8",
            "ticks": ""
           },
           "bgcolor": "white",
           "radialaxis": {
            "gridcolor": "#EBF0F8",
            "linecolor": "#EBF0F8",
            "ticks": ""
           }
          },
          "scene": {
           "xaxis": {
            "backgroundcolor": "white",
            "gridcolor": "#DFE8F3",
            "gridwidth": 2,
            "linecolor": "#EBF0F8",
            "showbackground": true,
            "ticks": "",
            "zerolinecolor": "#EBF0F8"
           },
           "yaxis": {
            "backgroundcolor": "white",
            "gridcolor": "#DFE8F3",
            "gridwidth": 2,
            "linecolor": "#EBF0F8",
            "showbackground": true,
            "ticks": "",
            "zerolinecolor": "#EBF0F8"
           },
           "zaxis": {
            "backgroundcolor": "white",
            "gridcolor": "#DFE8F3",
            "gridwidth": 2,
            "linecolor": "#EBF0F8",
            "showbackground": true,
            "ticks": "",
            "zerolinecolor": "#EBF0F8"
           }
          },
          "shapedefaults": {
           "line": {
            "color": "#2a3f5f"
           }
          },
          "ternary": {
           "aaxis": {
            "gridcolor": "#DFE8F3",
            "linecolor": "#A2B1C6",
            "ticks": ""
           },
           "baxis": {
            "gridcolor": "#DFE8F3",
            "linecolor": "#A2B1C6",
            "ticks": ""
           },
           "bgcolor": "white",
           "caxis": {
            "gridcolor": "#DFE8F3",
            "linecolor": "#A2B1C6",
            "ticks": ""
           }
          },
          "title": {
           "x": 0.05
          },
          "xaxis": {
           "automargin": true,
           "gridcolor": "#EBF0F8",
           "linecolor": "#EBF0F8",
           "ticks": "",
           "title": {
            "standoff": 15
           },
           "zerolinecolor": "#EBF0F8",
           "zerolinewidth": 2
          },
          "yaxis": {
           "automargin": true,
           "gridcolor": "#EBF0F8",
           "linecolor": "#EBF0F8",
           "ticks": "",
           "title": {
            "standoff": 15
           },
           "zerolinecolor": "#EBF0F8",
           "zerolinewidth": 2
          }
         }
        },
        "xaxis": {
         "anchor": "y",
         "domain": [
          0,
          1
         ],
         "title": {
          "text": ""
         }
        },
        "yaxis": {
         "anchor": "x",
         "domain": [
          0,
          1
         ],
         "title": {
          "text": "% du volume médiatique"
         },
         "tickformat": "0%"
        },
        "legend": {
         "tracegroupgap": 0
        },
        "margin": {
         "t": 60
        },
        "barmode": "relative",
        "height": 400,
        "font": {
         "family": "Poppins"
        },
        "title": {
         "text": "Volume médiatique total sur les 50 chaînes TV et Radio"
        }
       },
       "config": {
        "plotlyServerURL": "https://plot.ly"
       }
      }
     },
     "metadata": {}
    }
   ],
   "metadata": {}
  },
  {
   "cell_type": "markdown",
   "source": [
    "## Analyse 2 - TOP 3 TV et Radio"
   ],
   "metadata": {}
  },
  {
   "cell_type": "code",
   "execution_count": 21,
   "source": [
    "# Multiplier for one channel = n_mentions * 2 min / (60 minutes * 18h * n_days)\n",
    "multiplier = 2 / (1 * 60 * 18 * 1)\n",
    "\n",
    "fig = show_mentions_by_channel(data,list_of_channels=top_channels_tv_info,n = 3,\n",
    "                               method = multiplier,height = 400,text_auto = \".1%\")\n",
    "fig.update_layout(yaxis_tickformat='0%',\n",
    "                  title = \"Podium TV - Chaînes d'information en continu\",\n",
    "                  font_family=\"Poppins\",yaxis_title=\"% du volume médiatique\",xaxis_title = \"\")\n",
    "fig.update_traces(marker_color=COLOR_TV)\n",
    "fig"
   ],
   "outputs": [
    {
     "output_type": "display_data",
     "data": {
      "application/vnd.plotly.v1+json": {
       "data": [
        {
         "alignmentgroup": "True",
         "hovertemplate": "media=TV<br>channel_name=%{x}<br>count=%{y}<extra></extra>",
         "legendgroup": "TV",
         "marker": {
          "color": "#08519c",
          "pattern": {
           "shape": ""
          }
         },
         "name": "TV",
         "offsetgroup": "TV",
         "orientation": "v",
         "showlegend": true,
         "textposition": "auto",
         "texttemplate": "%{y:.1%}",
         "x": [
          "France 24",
          "France Info:",
          "CNEWS"
         ],
         "xaxis": "x",
         "y": [
          0.16666666666666669,
          0.09814814814814815,
          0.003703703703703704
         ],
         "yaxis": "y",
         "type": "bar"
        }
       ],
       "layout": {
        "template": {
         "data": {
          "barpolar": [
           {
            "marker": {
             "line": {
              "color": "white",
              "width": 0.5
             },
             "pattern": {
              "fillmode": "overlay",
              "size": 10,
              "solidity": 0.2
             }
            },
            "type": "barpolar"
           }
          ],
          "bar": [
           {
            "error_x": {
             "color": "#2a3f5f"
            },
            "error_y": {
             "color": "#2a3f5f"
            },
            "marker": {
             "line": {
              "color": "white",
              "width": 0.5
             },
             "pattern": {
              "fillmode": "overlay",
              "size": 10,
              "solidity": 0.2
             }
            },
            "type": "bar"
           }
          ],
          "carpet": [
           {
            "aaxis": {
             "endlinecolor": "#2a3f5f",
             "gridcolor": "#C8D4E3",
             "linecolor": "#C8D4E3",
             "minorgridcolor": "#C8D4E3",
             "startlinecolor": "#2a3f5f"
            },
            "baxis": {
             "endlinecolor": "#2a3f5f",
             "gridcolor": "#C8D4E3",
             "linecolor": "#C8D4E3",
             "minorgridcolor": "#C8D4E3",
             "startlinecolor": "#2a3f5f"
            },
            "type": "carpet"
           }
          ],
          "choropleth": [
           {
            "colorbar": {
             "outlinewidth": 0,
             "ticks": ""
            },
            "type": "choropleth"
           }
          ],
          "contourcarpet": [
           {
            "colorbar": {
             "outlinewidth": 0,
             "ticks": ""
            },
            "type": "contourcarpet"
           }
          ],
          "contour": [
           {
            "colorbar": {
             "outlinewidth": 0,
             "ticks": ""
            },
            "colorscale": [
             [
              0,
              "#0d0887"
             ],
             [
              0.1111111111111111,
              "#46039f"
             ],
             [
              0.2222222222222222,
              "#7201a8"
             ],
             [
              0.3333333333333333,
              "#9c179e"
             ],
             [
              0.4444444444444444,
              "#bd3786"
             ],
             [
              0.5555555555555556,
              "#d8576b"
             ],
             [
              0.6666666666666666,
              "#ed7953"
             ],
             [
              0.7777777777777778,
              "#fb9f3a"
             ],
             [
              0.8888888888888888,
              "#fdca26"
             ],
             [
              1,
              "#f0f921"
             ]
            ],
            "type": "contour"
           }
          ],
          "heatmapgl": [
           {
            "colorbar": {
             "outlinewidth": 0,
             "ticks": ""
            },
            "colorscale": [
             [
              0,
              "#0d0887"
             ],
             [
              0.1111111111111111,
              "#46039f"
             ],
             [
              0.2222222222222222,
              "#7201a8"
             ],
             [
              0.3333333333333333,
              "#9c179e"
             ],
             [
              0.4444444444444444,
              "#bd3786"
             ],
             [
              0.5555555555555556,
              "#d8576b"
             ],
             [
              0.6666666666666666,
              "#ed7953"
             ],
             [
              0.7777777777777778,
              "#fb9f3a"
             ],
             [
              0.8888888888888888,
              "#fdca26"
             ],
             [
              1,
              "#f0f921"
             ]
            ],
            "type": "heatmapgl"
           }
          ],
          "heatmap": [
           {
            "colorbar": {
             "outlinewidth": 0,
             "ticks": ""
            },
            "colorscale": [
             [
              0,
              "#0d0887"
             ],
             [
              0.1111111111111111,
              "#46039f"
             ],
             [
              0.2222222222222222,
              "#7201a8"
             ],
             [
              0.3333333333333333,
              "#9c179e"
             ],
             [
              0.4444444444444444,
              "#bd3786"
             ],
             [
              0.5555555555555556,
              "#d8576b"
             ],
             [
              0.6666666666666666,
              "#ed7953"
             ],
             [
              0.7777777777777778,
              "#fb9f3a"
             ],
             [
              0.8888888888888888,
              "#fdca26"
             ],
             [
              1,
              "#f0f921"
             ]
            ],
            "type": "heatmap"
           }
          ],
          "histogram2dcontour": [
           {
            "colorbar": {
             "outlinewidth": 0,
             "ticks": ""
            },
            "colorscale": [
             [
              0,
              "#0d0887"
             ],
             [
              0.1111111111111111,
              "#46039f"
             ],
             [
              0.2222222222222222,
              "#7201a8"
             ],
             [
              0.3333333333333333,
              "#9c179e"
             ],
             [
              0.4444444444444444,
              "#bd3786"
             ],
             [
              0.5555555555555556,
              "#d8576b"
             ],
             [
              0.6666666666666666,
              "#ed7953"
             ],
             [
              0.7777777777777778,
              "#fb9f3a"
             ],
             [
              0.8888888888888888,
              "#fdca26"
             ],
             [
              1,
              "#f0f921"
             ]
            ],
            "type": "histogram2dcontour"
           }
          ],
          "histogram2d": [
           {
            "colorbar": {
             "outlinewidth": 0,
             "ticks": ""
            },
            "colorscale": [
             [
              0,
              "#0d0887"
             ],
             [
              0.1111111111111111,
              "#46039f"
             ],
             [
              0.2222222222222222,
              "#7201a8"
             ],
             [
              0.3333333333333333,
              "#9c179e"
             ],
             [
              0.4444444444444444,
              "#bd3786"
             ],
             [
              0.5555555555555556,
              "#d8576b"
             ],
             [
              0.6666666666666666,
              "#ed7953"
             ],
             [
              0.7777777777777778,
              "#fb9f3a"
             ],
             [
              0.8888888888888888,
              "#fdca26"
             ],
             [
              1,
              "#f0f921"
             ]
            ],
            "type": "histogram2d"
           }
          ],
          "histogram": [
           {
            "marker": {
             "pattern": {
              "fillmode": "overlay",
              "size": 10,
              "solidity": 0.2
             }
            },
            "type": "histogram"
           }
          ],
          "mesh3d": [
           {
            "colorbar": {
             "outlinewidth": 0,
             "ticks": ""
            },
            "type": "mesh3d"
           }
          ],
          "parcoords": [
           {
            "line": {
             "colorbar": {
              "outlinewidth": 0,
              "ticks": ""
             }
            },
            "type": "parcoords"
           }
          ],
          "pie": [
           {
            "automargin": true,
            "type": "pie"
           }
          ],
          "scatter3d": [
           {
            "line": {
             "colorbar": {
              "outlinewidth": 0,
              "ticks": ""
             }
            },
            "marker": {
             "colorbar": {
              "outlinewidth": 0,
              "ticks": ""
             }
            },
            "type": "scatter3d"
           }
          ],
          "scattercarpet": [
           {
            "marker": {
             "colorbar": {
              "outlinewidth": 0,
              "ticks": ""
             }
            },
            "type": "scattercarpet"
           }
          ],
          "scattergeo": [
           {
            "marker": {
             "colorbar": {
              "outlinewidth": 0,
              "ticks": ""
             }
            },
            "type": "scattergeo"
           }
          ],
          "scattergl": [
           {
            "marker": {
             "colorbar": {
              "outlinewidth": 0,
              "ticks": ""
             }
            },
            "type": "scattergl"
           }
          ],
          "scattermapbox": [
           {
            "marker": {
             "colorbar": {
              "outlinewidth": 0,
              "ticks": ""
             }
            },
            "type": "scattermapbox"
           }
          ],
          "scatterpolargl": [
           {
            "marker": {
             "colorbar": {
              "outlinewidth": 0,
              "ticks": ""
             }
            },
            "type": "scatterpolargl"
           }
          ],
          "scatterpolar": [
           {
            "marker": {
             "colorbar": {
              "outlinewidth": 0,
              "ticks": ""
             }
            },
            "type": "scatterpolar"
           }
          ],
          "scatter": [
           {
            "fillpattern": {
             "fillmode": "overlay",
             "size": 10,
             "solidity": 0.2
            },
            "type": "scatter"
           }
          ],
          "scatterternary": [
           {
            "marker": {
             "colorbar": {
              "outlinewidth": 0,
              "ticks": ""
             }
            },
            "type": "scatterternary"
           }
          ],
          "surface": [
           {
            "colorbar": {
             "outlinewidth": 0,
             "ticks": ""
            },
            "colorscale": [
             [
              0,
              "#0d0887"
             ],
             [
              0.1111111111111111,
              "#46039f"
             ],
             [
              0.2222222222222222,
              "#7201a8"
             ],
             [
              0.3333333333333333,
              "#9c179e"
             ],
             [
              0.4444444444444444,
              "#bd3786"
             ],
             [
              0.5555555555555556,
              "#d8576b"
             ],
             [
              0.6666666666666666,
              "#ed7953"
             ],
             [
              0.7777777777777778,
              "#fb9f3a"
             ],
             [
              0.8888888888888888,
              "#fdca26"
             ],
             [
              1,
              "#f0f921"
             ]
            ],
            "type": "surface"
           }
          ],
          "table": [
           {
            "cells": {
             "fill": {
              "color": "#EBF0F8"
             },
             "line": {
              "color": "white"
             }
            },
            "header": {
             "fill": {
              "color": "#C8D4E3"
             },
             "line": {
              "color": "white"
             }
            },
            "type": "table"
           }
          ]
         },
         "layout": {
          "annotationdefaults": {
           "arrowcolor": "#2a3f5f",
           "arrowhead": 0,
           "arrowwidth": 1
          },
          "autotypenumbers": "strict",
          "coloraxis": {
           "colorbar": {
            "outlinewidth": 0,
            "ticks": ""
           }
          },
          "colorscale": {
           "diverging": [
            [
             0,
             "#8e0152"
            ],
            [
             0.1,
             "#c51b7d"
            ],
            [
             0.2,
             "#de77ae"
            ],
            [
             0.3,
             "#f1b6da"
            ],
            [
             0.4,
             "#fde0ef"
            ],
            [
             0.5,
             "#f7f7f7"
            ],
            [
             0.6,
             "#e6f5d0"
            ],
            [
             0.7,
             "#b8e186"
            ],
            [
             0.8,
             "#7fbc41"
            ],
            [
             0.9,
             "#4d9221"
            ],
            [
             1,
             "#276419"
            ]
           ],
           "sequential": [
            [
             0,
             "#0d0887"
            ],
            [
             0.1111111111111111,
             "#46039f"
            ],
            [
             0.2222222222222222,
             "#7201a8"
            ],
            [
             0.3333333333333333,
             "#9c179e"
            ],
            [
             0.4444444444444444,
             "#bd3786"
            ],
            [
             0.5555555555555556,
             "#d8576b"
            ],
            [
             0.6666666666666666,
             "#ed7953"
            ],
            [
             0.7777777777777778,
             "#fb9f3a"
            ],
            [
             0.8888888888888888,
             "#fdca26"
            ],
            [
             1,
             "#f0f921"
            ]
           ],
           "sequentialminus": [
            [
             0,
             "#0d0887"
            ],
            [
             0.1111111111111111,
             "#46039f"
            ],
            [
             0.2222222222222222,
             "#7201a8"
            ],
            [
             0.3333333333333333,
             "#9c179e"
            ],
            [
             0.4444444444444444,
             "#bd3786"
            ],
            [
             0.5555555555555556,
             "#d8576b"
            ],
            [
             0.6666666666666666,
             "#ed7953"
            ],
            [
             0.7777777777777778,
             "#fb9f3a"
            ],
            [
             0.8888888888888888,
             "#fdca26"
            ],
            [
             1,
             "#f0f921"
            ]
           ]
          },
          "colorway": [
           "#636efa",
           "#EF553B",
           "#00cc96",
           "#ab63fa",
           "#FFA15A",
           "#19d3f3",
           "#FF6692",
           "#B6E880",
           "#FF97FF",
           "#FECB52"
          ],
          "font": {
           "color": "#2a3f5f"
          },
          "geo": {
           "bgcolor": "white",
           "lakecolor": "white",
           "landcolor": "white",
           "showlakes": true,
           "showland": true,
           "subunitcolor": "#C8D4E3"
          },
          "hoverlabel": {
           "align": "left"
          },
          "hovermode": "closest",
          "mapbox": {
           "style": "light"
          },
          "paper_bgcolor": "white",
          "plot_bgcolor": "white",
          "polar": {
           "angularaxis": {
            "gridcolor": "#EBF0F8",
            "linecolor": "#EBF0F8",
            "ticks": ""
           },
           "bgcolor": "white",
           "radialaxis": {
            "gridcolor": "#EBF0F8",
            "linecolor": "#EBF0F8",
            "ticks": ""
           }
          },
          "scene": {
           "xaxis": {
            "backgroundcolor": "white",
            "gridcolor": "#DFE8F3",
            "gridwidth": 2,
            "linecolor": "#EBF0F8",
            "showbackground": true,
            "ticks": "",
            "zerolinecolor": "#EBF0F8"
           },
           "yaxis": {
            "backgroundcolor": "white",
            "gridcolor": "#DFE8F3",
            "gridwidth": 2,
            "linecolor": "#EBF0F8",
            "showbackground": true,
            "ticks": "",
            "zerolinecolor": "#EBF0F8"
           },
           "zaxis": {
            "backgroundcolor": "white",
            "gridcolor": "#DFE8F3",
            "gridwidth": 2,
            "linecolor": "#EBF0F8",
            "showbackground": true,
            "ticks": "",
            "zerolinecolor": "#EBF0F8"
           }
          },
          "shapedefaults": {
           "line": {
            "color": "#2a3f5f"
           }
          },
          "ternary": {
           "aaxis": {
            "gridcolor": "#DFE8F3",
            "linecolor": "#A2B1C6",
            "ticks": ""
           },
           "baxis": {
            "gridcolor": "#DFE8F3",
            "linecolor": "#A2B1C6",
            "ticks": ""
           },
           "bgcolor": "white",
           "caxis": {
            "gridcolor": "#DFE8F3",
            "linecolor": "#A2B1C6",
            "ticks": ""
           }
          },
          "title": {
           "x": 0.05
          },
          "xaxis": {
           "automargin": true,
           "gridcolor": "#EBF0F8",
           "linecolor": "#EBF0F8",
           "ticks": "",
           "title": {
            "standoff": 15
           },
           "zerolinecolor": "#EBF0F8",
           "zerolinewidth": 2
          },
          "yaxis": {
           "automargin": true,
           "gridcolor": "#EBF0F8",
           "linecolor": "#EBF0F8",
           "ticks": "",
           "title": {
            "standoff": 15
           },
           "zerolinecolor": "#EBF0F8",
           "zerolinewidth": 2
          }
         }
        },
        "xaxis": {
         "anchor": "y",
         "domain": [
          0,
          1
         ],
         "title": {
          "text": ""
         },
         "categoryorder": "array",
         "categoryarray": [
          "France 24",
          "France Info:",
          "CNEWS"
         ],
         "tickangle": -45
        },
        "yaxis": {
         "anchor": "x",
         "domain": [
          0,
          1
         ],
         "title": {
          "text": "% du volume médiatique"
         },
         "tickformat": "0%"
        },
        "legend": {
         "title": {
          "text": "media"
         },
         "tracegroupgap": 0
        },
        "margin": {
         "t": 60,
         "b": 100
        },
        "barmode": "relative",
        "height": 400,
        "font": {
         "family": "Poppins"
        },
        "title": {
         "text": "Podium TV - Chaînes d'information en continu"
        }
       },
       "config": {
        "plotlyServerURL": "https://plot.ly"
       }
      }
     },
     "metadata": {}
    }
   ],
   "metadata": {}
  },
  {
   "cell_type": "code",
   "execution_count": 22,
   "source": [
    "# Multiplier for one channel = n_mentions * 2 min / (60 minutes * 18h * n_days)\n",
    "multiplier = 2 / (1 * 60 * 18 * 1)\n",
    "\n",
    "fig = show_mentions_by_channel(data,list_of_channels=top_channels_tv_gen,n = 3,\n",
    "                               method = multiplier,height = 400,text_auto = \".1%\")\n",
    "fig.update_layout(yaxis_tickformat='0%',\n",
    "                  title = \"Podium TV -  Chaînes généralistes\",\n",
    "                  font_family=\"Poppins\",yaxis_title=\"% du volume médiatique\",xaxis_title = \"\")\n",
    "fig.update_traces(marker_color=COLOR_TV)\n",
    "fig"
   ],
   "outputs": [
    {
     "output_type": "display_data",
     "data": {
      "application/vnd.plotly.v1+json": {
       "data": [
        {
         "alignmentgroup": "True",
         "hovertemplate": "media=TV<br>channel_name=%{x}<br>count=%{y}<extra></extra>",
         "legendgroup": "TV",
         "marker": {
          "color": "#08519c",
          "pattern": {
           "shape": ""
          }
         },
         "name": "TV",
         "offsetgroup": "TV",
         "orientation": "v",
         "showlegend": true,
         "textposition": "auto",
         "texttemplate": "%{y:.1%}",
         "x": [
          "France 2",
          "TMC",
          "M6"
         ],
         "xaxis": "x",
         "y": [
          0.012962962962962964,
          0.009259259259259259,
          0.003703703703703704
         ],
         "yaxis": "y",
         "type": "bar"
        }
       ],
       "layout": {
        "template": {
         "data": {
          "barpolar": [
           {
            "marker": {
             "line": {
              "color": "white",
              "width": 0.5
             },
             "pattern": {
              "fillmode": "overlay",
              "size": 10,
              "solidity": 0.2
             }
            },
            "type": "barpolar"
           }
          ],
          "bar": [
           {
            "error_x": {
             "color": "#2a3f5f"
            },
            "error_y": {
             "color": "#2a3f5f"
            },
            "marker": {
             "line": {
              "color": "white",
              "width": 0.5
             },
             "pattern": {
              "fillmode": "overlay",
              "size": 10,
              "solidity": 0.2
             }
            },
            "type": "bar"
           }
          ],
          "carpet": [
           {
            "aaxis": {
             "endlinecolor": "#2a3f5f",
             "gridcolor": "#C8D4E3",
             "linecolor": "#C8D4E3",
             "minorgridcolor": "#C8D4E3",
             "startlinecolor": "#2a3f5f"
            },
            "baxis": {
             "endlinecolor": "#2a3f5f",
             "gridcolor": "#C8D4E3",
             "linecolor": "#C8D4E3",
             "minorgridcolor": "#C8D4E3",
             "startlinecolor": "#2a3f5f"
            },
            "type": "carpet"
           }
          ],
          "choropleth": [
           {
            "colorbar": {
             "outlinewidth": 0,
             "ticks": ""
            },
            "type": "choropleth"
           }
          ],
          "contourcarpet": [
           {
            "colorbar": {
             "outlinewidth": 0,
             "ticks": ""
            },
            "type": "contourcarpet"
           }
          ],
          "contour": [
           {
            "colorbar": {
             "outlinewidth": 0,
             "ticks": ""
            },
            "colorscale": [
             [
              0,
              "#0d0887"
             ],
             [
              0.1111111111111111,
              "#46039f"
             ],
             [
              0.2222222222222222,
              "#7201a8"
             ],
             [
              0.3333333333333333,
              "#9c179e"
             ],
             [
              0.4444444444444444,
              "#bd3786"
             ],
             [
              0.5555555555555556,
              "#d8576b"
             ],
             [
              0.6666666666666666,
              "#ed7953"
             ],
             [
              0.7777777777777778,
              "#fb9f3a"
             ],
             [
              0.8888888888888888,
              "#fdca26"
             ],
             [
              1,
              "#f0f921"
             ]
            ],
            "type": "contour"
           }
          ],
          "heatmapgl": [
           {
            "colorbar": {
             "outlinewidth": 0,
             "ticks": ""
            },
            "colorscale": [
             [
              0,
              "#0d0887"
             ],
             [
              0.1111111111111111,
              "#46039f"
             ],
             [
              0.2222222222222222,
              "#7201a8"
             ],
             [
              0.3333333333333333,
              "#9c179e"
             ],
             [
              0.4444444444444444,
              "#bd3786"
             ],
             [
              0.5555555555555556,
              "#d8576b"
             ],
             [
              0.6666666666666666,
              "#ed7953"
             ],
             [
              0.7777777777777778,
              "#fb9f3a"
             ],
             [
              0.8888888888888888,
              "#fdca26"
             ],
             [
              1,
              "#f0f921"
             ]
            ],
            "type": "heatmapgl"
           }
          ],
          "heatmap": [
           {
            "colorbar": {
             "outlinewidth": 0,
             "ticks": ""
            },
            "colorscale": [
             [
              0,
              "#0d0887"
             ],
             [
              0.1111111111111111,
              "#46039f"
             ],
             [
              0.2222222222222222,
              "#7201a8"
             ],
             [
              0.3333333333333333,
              "#9c179e"
             ],
             [
              0.4444444444444444,
              "#bd3786"
             ],
             [
              0.5555555555555556,
              "#d8576b"
             ],
             [
              0.6666666666666666,
              "#ed7953"
             ],
             [
              0.7777777777777778,
              "#fb9f3a"
             ],
             [
              0.8888888888888888,
              "#fdca26"
             ],
             [
              1,
              "#f0f921"
             ]
            ],
            "type": "heatmap"
           }
          ],
          "histogram2dcontour": [
           {
            "colorbar": {
             "outlinewidth": 0,
             "ticks": ""
            },
            "colorscale": [
             [
              0,
              "#0d0887"
             ],
             [
              0.1111111111111111,
              "#46039f"
             ],
             [
              0.2222222222222222,
              "#7201a8"
             ],
             [
              0.3333333333333333,
              "#9c179e"
             ],
             [
              0.4444444444444444,
              "#bd3786"
             ],
             [
              0.5555555555555556,
              "#d8576b"
             ],
             [
              0.6666666666666666,
              "#ed7953"
             ],
             [
              0.7777777777777778,
              "#fb9f3a"
             ],
             [
              0.8888888888888888,
              "#fdca26"
             ],
             [
              1,
              "#f0f921"
             ]
            ],
            "type": "histogram2dcontour"
           }
          ],
          "histogram2d": [
           {
            "colorbar": {
             "outlinewidth": 0,
             "ticks": ""
            },
            "colorscale": [
             [
              0,
              "#0d0887"
             ],
             [
              0.1111111111111111,
              "#46039f"
             ],
             [
              0.2222222222222222,
              "#7201a8"
             ],
             [
              0.3333333333333333,
              "#9c179e"
             ],
             [
              0.4444444444444444,
              "#bd3786"
             ],
             [
              0.5555555555555556,
              "#d8576b"
             ],
             [
              0.6666666666666666,
              "#ed7953"
             ],
             [
              0.7777777777777778,
              "#fb9f3a"
             ],
             [
              0.8888888888888888,
              "#fdca26"
             ],
             [
              1,
              "#f0f921"
             ]
            ],
            "type": "histogram2d"
           }
          ],
          "histogram": [
           {
            "marker": {
             "pattern": {
              "fillmode": "overlay",
              "size": 10,
              "solidity": 0.2
             }
            },
            "type": "histogram"
           }
          ],
          "mesh3d": [
           {
            "colorbar": {
             "outlinewidth": 0,
             "ticks": ""
            },
            "type": "mesh3d"
           }
          ],
          "parcoords": [
           {
            "line": {
             "colorbar": {
              "outlinewidth": 0,
              "ticks": ""
             }
            },
            "type": "parcoords"
           }
          ],
          "pie": [
           {
            "automargin": true,
            "type": "pie"
           }
          ],
          "scatter3d": [
           {
            "line": {
             "colorbar": {
              "outlinewidth": 0,
              "ticks": ""
             }
            },
            "marker": {
             "colorbar": {
              "outlinewidth": 0,
              "ticks": ""
             }
            },
            "type": "scatter3d"
           }
          ],
          "scattercarpet": [
           {
            "marker": {
             "colorbar": {
              "outlinewidth": 0,
              "ticks": ""
             }
            },
            "type": "scattercarpet"
           }
          ],
          "scattergeo": [
           {
            "marker": {
             "colorbar": {
              "outlinewidth": 0,
              "ticks": ""
             }
            },
            "type": "scattergeo"
           }
          ],
          "scattergl": [
           {
            "marker": {
             "colorbar": {
              "outlinewidth": 0,
              "ticks": ""
             }
            },
            "type": "scattergl"
           }
          ],
          "scattermapbox": [
           {
            "marker": {
             "colorbar": {
              "outlinewidth": 0,
              "ticks": ""
             }
            },
            "type": "scattermapbox"
           }
          ],
          "scatterpolargl": [
           {
            "marker": {
             "colorbar": {
              "outlinewidth": 0,
              "ticks": ""
             }
            },
            "type": "scatterpolargl"
           }
          ],
          "scatterpolar": [
           {
            "marker": {
             "colorbar": {
              "outlinewidth": 0,
              "ticks": ""
             }
            },
            "type": "scatterpolar"
           }
          ],
          "scatter": [
           {
            "fillpattern": {
             "fillmode": "overlay",
             "size": 10,
             "solidity": 0.2
            },
            "type": "scatter"
           }
          ],
          "scatterternary": [
           {
            "marker": {
             "colorbar": {
              "outlinewidth": 0,
              "ticks": ""
             }
            },
            "type": "scatterternary"
           }
          ],
          "surface": [
           {
            "colorbar": {
             "outlinewidth": 0,
             "ticks": ""
            },
            "colorscale": [
             [
              0,
              "#0d0887"
             ],
             [
              0.1111111111111111,
              "#46039f"
             ],
             [
              0.2222222222222222,
              "#7201a8"
             ],
             [
              0.3333333333333333,
              "#9c179e"
             ],
             [
              0.4444444444444444,
              "#bd3786"
             ],
             [
              0.5555555555555556,
              "#d8576b"
             ],
             [
              0.6666666666666666,
              "#ed7953"
             ],
             [
              0.7777777777777778,
              "#fb9f3a"
             ],
             [
              0.8888888888888888,
              "#fdca26"
             ],
             [
              1,
              "#f0f921"
             ]
            ],
            "type": "surface"
           }
          ],
          "table": [
           {
            "cells": {
             "fill": {
              "color": "#EBF0F8"
             },
             "line": {
              "color": "white"
             }
            },
            "header": {
             "fill": {
              "color": "#C8D4E3"
             },
             "line": {
              "color": "white"
             }
            },
            "type": "table"
           }
          ]
         },
         "layout": {
          "annotationdefaults": {
           "arrowcolor": "#2a3f5f",
           "arrowhead": 0,
           "arrowwidth": 1
          },
          "autotypenumbers": "strict",
          "coloraxis": {
           "colorbar": {
            "outlinewidth": 0,
            "ticks": ""
           }
          },
          "colorscale": {
           "diverging": [
            [
             0,
             "#8e0152"
            ],
            [
             0.1,
             "#c51b7d"
            ],
            [
             0.2,
             "#de77ae"
            ],
            [
             0.3,
             "#f1b6da"
            ],
            [
             0.4,
             "#fde0ef"
            ],
            [
             0.5,
             "#f7f7f7"
            ],
            [
             0.6,
             "#e6f5d0"
            ],
            [
             0.7,
             "#b8e186"
            ],
            [
             0.8,
             "#7fbc41"
            ],
            [
             0.9,
             "#4d9221"
            ],
            [
             1,
             "#276419"
            ]
           ],
           "sequential": [
            [
             0,
             "#0d0887"
            ],
            [
             0.1111111111111111,
             "#46039f"
            ],
            [
             0.2222222222222222,
             "#7201a8"
            ],
            [
             0.3333333333333333,
             "#9c179e"
            ],
            [
             0.4444444444444444,
             "#bd3786"
            ],
            [
             0.5555555555555556,
             "#d8576b"
            ],
            [
             0.6666666666666666,
             "#ed7953"
            ],
            [
             0.7777777777777778,
             "#fb9f3a"
            ],
            [
             0.8888888888888888,
             "#fdca26"
            ],
            [
             1,
             "#f0f921"
            ]
           ],
           "sequentialminus": [
            [
             0,
             "#0d0887"
            ],
            [
             0.1111111111111111,
             "#46039f"
            ],
            [
             0.2222222222222222,
             "#7201a8"
            ],
            [
             0.3333333333333333,
             "#9c179e"
            ],
            [
             0.4444444444444444,
             "#bd3786"
            ],
            [
             0.5555555555555556,
             "#d8576b"
            ],
            [
             0.6666666666666666,
             "#ed7953"
            ],
            [
             0.7777777777777778,
             "#fb9f3a"
            ],
            [
             0.8888888888888888,
             "#fdca26"
            ],
            [
             1,
             "#f0f921"
            ]
           ]
          },
          "colorway": [
           "#636efa",
           "#EF553B",
           "#00cc96",
           "#ab63fa",
           "#FFA15A",
           "#19d3f3",
           "#FF6692",
           "#B6E880",
           "#FF97FF",
           "#FECB52"
          ],
          "font": {
           "color": "#2a3f5f"
          },
          "geo": {
           "bgcolor": "white",
           "lakecolor": "white",
           "landcolor": "white",
           "showlakes": true,
           "showland": true,
           "subunitcolor": "#C8D4E3"
          },
          "hoverlabel": {
           "align": "left"
          },
          "hovermode": "closest",
          "mapbox": {
           "style": "light"
          },
          "paper_bgcolor": "white",
          "plot_bgcolor": "white",
          "polar": {
           "angularaxis": {
            "gridcolor": "#EBF0F8",
            "linecolor": "#EBF0F8",
            "ticks": ""
           },
           "bgcolor": "white",
           "radialaxis": {
            "gridcolor": "#EBF0F8",
            "linecolor": "#EBF0F8",
            "ticks": ""
           }
          },
          "scene": {
           "xaxis": {
            "backgroundcolor": "white",
            "gridcolor": "#DFE8F3",
            "gridwidth": 2,
            "linecolor": "#EBF0F8",
            "showbackground": true,
            "ticks": "",
            "zerolinecolor": "#EBF0F8"
           },
           "yaxis": {
            "backgroundcolor": "white",
            "gridcolor": "#DFE8F3",
            "gridwidth": 2,
            "linecolor": "#EBF0F8",
            "showbackground": true,
            "ticks": "",
            "zerolinecolor": "#EBF0F8"
           },
           "zaxis": {
            "backgroundcolor": "white",
            "gridcolor": "#DFE8F3",
            "gridwidth": 2,
            "linecolor": "#EBF0F8",
            "showbackground": true,
            "ticks": "",
            "zerolinecolor": "#EBF0F8"
           }
          },
          "shapedefaults": {
           "line": {
            "color": "#2a3f5f"
           }
          },
          "ternary": {
           "aaxis": {
            "gridcolor": "#DFE8F3",
            "linecolor": "#A2B1C6",
            "ticks": ""
           },
           "baxis": {
            "gridcolor": "#DFE8F3",
            "linecolor": "#A2B1C6",
            "ticks": ""
           },
           "bgcolor": "white",
           "caxis": {
            "gridcolor": "#DFE8F3",
            "linecolor": "#A2B1C6",
            "ticks": ""
           }
          },
          "title": {
           "x": 0.05
          },
          "xaxis": {
           "automargin": true,
           "gridcolor": "#EBF0F8",
           "linecolor": "#EBF0F8",
           "ticks": "",
           "title": {
            "standoff": 15
           },
           "zerolinecolor": "#EBF0F8",
           "zerolinewidth": 2
          },
          "yaxis": {
           "automargin": true,
           "gridcolor": "#EBF0F8",
           "linecolor": "#EBF0F8",
           "ticks": "",
           "title": {
            "standoff": 15
           },
           "zerolinecolor": "#EBF0F8",
           "zerolinewidth": 2
          }
         }
        },
        "xaxis": {
         "anchor": "y",
         "domain": [
          0,
          1
         ],
         "title": {
          "text": ""
         },
         "categoryorder": "array",
         "categoryarray": [
          "France 2",
          "TMC",
          "M6"
         ],
         "tickangle": -45
        },
        "yaxis": {
         "anchor": "x",
         "domain": [
          0,
          1
         ],
         "title": {
          "text": "% du volume médiatique"
         },
         "tickformat": "0%"
        },
        "legend": {
         "title": {
          "text": "media"
         },
         "tracegroupgap": 0
        },
        "margin": {
         "t": 60,
         "b": 100
        },
        "barmode": "relative",
        "height": 400,
        "font": {
         "family": "Poppins"
        },
        "title": {
         "text": "Podium TV -  Chaînes généralistes"
        }
       },
       "config": {
        "plotlyServerURL": "https://plot.ly"
       }
      }
     },
     "metadata": {}
    }
   ],
   "metadata": {}
  },
  {
   "cell_type": "code",
   "execution_count": 23,
   "source": [
    "# Multiplier for one channel = n_mentions * 2 min / (60 minutes * 18h * n_days)\n",
    "multiplier = 2 / (1 * 60 * 18 * 1)\n",
    "\n",
    "fig = show_mentions_by_channel(data,list_of_channels=top_channels_radio,n = 3,\n",
    "                               method = multiplier,height = 400,text_auto = \".1%\")\n",
    "\n",
    "fig.update_layout(yaxis_tickformat='0%',\n",
    "                  title = \"Podium Radio\",\n",
    "                  font_family=\"Poppins\",yaxis_title=\"% du volume médiatique\",xaxis_title = \"\")\n",
    "fig.update_traces(marker_color=COLOR_RADIO)\n",
    "fig"
   ],
   "outputs": [
    {
     "output_type": "display_data",
     "data": {
      "application/vnd.plotly.v1+json": {
       "data": [
        {
         "alignmentgroup": "True",
         "hovertemplate": "media=Radio<br>channel_name=%{x}<br>count=%{y}<extra></extra>",
         "legendgroup": "Radio",
         "marker": {
          "color": "#08306b",
          "pattern": {
           "shape": ""
          }
         },
         "name": "Radio",
         "offsetgroup": "Radio",
         "orientation": "v",
         "showlegend": true,
         "textposition": "auto",
         "texttemplate": "%{y:.1%}",
         "x": [
          "France Info",
          "RFI",
          "France Inter"
         ],
         "xaxis": "x",
         "y": [
          0.17962962962962964,
          0.11296296296296297,
          0.06296296296296297
         ],
         "yaxis": "y",
         "type": "bar"
        }
       ],
       "layout": {
        "template": {
         "data": {
          "barpolar": [
           {
            "marker": {
             "line": {
              "color": "white",
              "width": 0.5
             },
             "pattern": {
              "fillmode": "overlay",
              "size": 10,
              "solidity": 0.2
             }
            },
            "type": "barpolar"
           }
          ],
          "bar": [
           {
            "error_x": {
             "color": "#2a3f5f"
            },
            "error_y": {
             "color": "#2a3f5f"
            },
            "marker": {
             "line": {
              "color": "white",
              "width": 0.5
             },
             "pattern": {
              "fillmode": "overlay",
              "size": 10,
              "solidity": 0.2
             }
            },
            "type": "bar"
           }
          ],
          "carpet": [
           {
            "aaxis": {
             "endlinecolor": "#2a3f5f",
             "gridcolor": "#C8D4E3",
             "linecolor": "#C8D4E3",
             "minorgridcolor": "#C8D4E3",
             "startlinecolor": "#2a3f5f"
            },
            "baxis": {
             "endlinecolor": "#2a3f5f",
             "gridcolor": "#C8D4E3",
             "linecolor": "#C8D4E3",
             "minorgridcolor": "#C8D4E3",
             "startlinecolor": "#2a3f5f"
            },
            "type": "carpet"
           }
          ],
          "choropleth": [
           {
            "colorbar": {
             "outlinewidth": 0,
             "ticks": ""
            },
            "type": "choropleth"
           }
          ],
          "contourcarpet": [
           {
            "colorbar": {
             "outlinewidth": 0,
             "ticks": ""
            },
            "type": "contourcarpet"
           }
          ],
          "contour": [
           {
            "colorbar": {
             "outlinewidth": 0,
             "ticks": ""
            },
            "colorscale": [
             [
              0,
              "#0d0887"
             ],
             [
              0.1111111111111111,
              "#46039f"
             ],
             [
              0.2222222222222222,
              "#7201a8"
             ],
             [
              0.3333333333333333,
              "#9c179e"
             ],
             [
              0.4444444444444444,
              "#bd3786"
             ],
             [
              0.5555555555555556,
              "#d8576b"
             ],
             [
              0.6666666666666666,
              "#ed7953"
             ],
             [
              0.7777777777777778,
              "#fb9f3a"
             ],
             [
              0.8888888888888888,
              "#fdca26"
             ],
             [
              1,
              "#f0f921"
             ]
            ],
            "type": "contour"
           }
          ],
          "heatmapgl": [
           {
            "colorbar": {
             "outlinewidth": 0,
             "ticks": ""
            },
            "colorscale": [
             [
              0,
              "#0d0887"
             ],
             [
              0.1111111111111111,
              "#46039f"
             ],
             [
              0.2222222222222222,
              "#7201a8"
             ],
             [
              0.3333333333333333,
              "#9c179e"
             ],
             [
              0.4444444444444444,
              "#bd3786"
             ],
             [
              0.5555555555555556,
              "#d8576b"
             ],
             [
              0.6666666666666666,
              "#ed7953"
             ],
             [
              0.7777777777777778,
              "#fb9f3a"
             ],
             [
              0.8888888888888888,
              "#fdca26"
             ],
             [
              1,
              "#f0f921"
             ]
            ],
            "type": "heatmapgl"
           }
          ],
          "heatmap": [
           {
            "colorbar": {
             "outlinewidth": 0,
             "ticks": ""
            },
            "colorscale": [
             [
              0,
              "#0d0887"
             ],
             [
              0.1111111111111111,
              "#46039f"
             ],
             [
              0.2222222222222222,
              "#7201a8"
             ],
             [
              0.3333333333333333,
              "#9c179e"
             ],
             [
              0.4444444444444444,
              "#bd3786"
             ],
             [
              0.5555555555555556,
              "#d8576b"
             ],
             [
              0.6666666666666666,
              "#ed7953"
             ],
             [
              0.7777777777777778,
              "#fb9f3a"
             ],
             [
              0.8888888888888888,
              "#fdca26"
             ],
             [
              1,
              "#f0f921"
             ]
            ],
            "type": "heatmap"
           }
          ],
          "histogram2dcontour": [
           {
            "colorbar": {
             "outlinewidth": 0,
             "ticks": ""
            },
            "colorscale": [
             [
              0,
              "#0d0887"
             ],
             [
              0.1111111111111111,
              "#46039f"
             ],
             [
              0.2222222222222222,
              "#7201a8"
             ],
             [
              0.3333333333333333,
              "#9c179e"
             ],
             [
              0.4444444444444444,
              "#bd3786"
             ],
             [
              0.5555555555555556,
              "#d8576b"
             ],
             [
              0.6666666666666666,
              "#ed7953"
             ],
             [
              0.7777777777777778,
              "#fb9f3a"
             ],
             [
              0.8888888888888888,
              "#fdca26"
             ],
             [
              1,
              "#f0f921"
             ]
            ],
            "type": "histogram2dcontour"
           }
          ],
          "histogram2d": [
           {
            "colorbar": {
             "outlinewidth": 0,
             "ticks": ""
            },
            "colorscale": [
             [
              0,
              "#0d0887"
             ],
             [
              0.1111111111111111,
              "#46039f"
             ],
             [
              0.2222222222222222,
              "#7201a8"
             ],
             [
              0.3333333333333333,
              "#9c179e"
             ],
             [
              0.4444444444444444,
              "#bd3786"
             ],
             [
              0.5555555555555556,
              "#d8576b"
             ],
             [
              0.6666666666666666,
              "#ed7953"
             ],
             [
              0.7777777777777778,
              "#fb9f3a"
             ],
             [
              0.8888888888888888,
              "#fdca26"
             ],
             [
              1,
              "#f0f921"
             ]
            ],
            "type": "histogram2d"
           }
          ],
          "histogram": [
           {
            "marker": {
             "pattern": {
              "fillmode": "overlay",
              "size": 10,
              "solidity": 0.2
             }
            },
            "type": "histogram"
           }
          ],
          "mesh3d": [
           {
            "colorbar": {
             "outlinewidth": 0,
             "ticks": ""
            },
            "type": "mesh3d"
           }
          ],
          "parcoords": [
           {
            "line": {
             "colorbar": {
              "outlinewidth": 0,
              "ticks": ""
             }
            },
            "type": "parcoords"
           }
          ],
          "pie": [
           {
            "automargin": true,
            "type": "pie"
           }
          ],
          "scatter3d": [
           {
            "line": {
             "colorbar": {
              "outlinewidth": 0,
              "ticks": ""
             }
            },
            "marker": {
             "colorbar": {
              "outlinewidth": 0,
              "ticks": ""
             }
            },
            "type": "scatter3d"
           }
          ],
          "scattercarpet": [
           {
            "marker": {
             "colorbar": {
              "outlinewidth": 0,
              "ticks": ""
             }
            },
            "type": "scattercarpet"
           }
          ],
          "scattergeo": [
           {
            "marker": {
             "colorbar": {
              "outlinewidth": 0,
              "ticks": ""
             }
            },
            "type": "scattergeo"
           }
          ],
          "scattergl": [
           {
            "marker": {
             "colorbar": {
              "outlinewidth": 0,
              "ticks": ""
             }
            },
            "type": "scattergl"
           }
          ],
          "scattermapbox": [
           {
            "marker": {
             "colorbar": {
              "outlinewidth": 0,
              "ticks": ""
             }
            },
            "type": "scattermapbox"
           }
          ],
          "scatterpolargl": [
           {
            "marker": {
             "colorbar": {
              "outlinewidth": 0,
              "ticks": ""
             }
            },
            "type": "scatterpolargl"
           }
          ],
          "scatterpolar": [
           {
            "marker": {
             "colorbar": {
              "outlinewidth": 0,
              "ticks": ""
             }
            },
            "type": "scatterpolar"
           }
          ],
          "scatter": [
           {
            "fillpattern": {
             "fillmode": "overlay",
             "size": 10,
             "solidity": 0.2
            },
            "type": "scatter"
           }
          ],
          "scatterternary": [
           {
            "marker": {
             "colorbar": {
              "outlinewidth": 0,
              "ticks": ""
             }
            },
            "type": "scatterternary"
           }
          ],
          "surface": [
           {
            "colorbar": {
             "outlinewidth": 0,
             "ticks": ""
            },
            "colorscale": [
             [
              0,
              "#0d0887"
             ],
             [
              0.1111111111111111,
              "#46039f"
             ],
             [
              0.2222222222222222,
              "#7201a8"
             ],
             [
              0.3333333333333333,
              "#9c179e"
             ],
             [
              0.4444444444444444,
              "#bd3786"
             ],
             [
              0.5555555555555556,
              "#d8576b"
             ],
             [
              0.6666666666666666,
              "#ed7953"
             ],
             [
              0.7777777777777778,
              "#fb9f3a"
             ],
             [
              0.8888888888888888,
              "#fdca26"
             ],
             [
              1,
              "#f0f921"
             ]
            ],
            "type": "surface"
           }
          ],
          "table": [
           {
            "cells": {
             "fill": {
              "color": "#EBF0F8"
             },
             "line": {
              "color": "white"
             }
            },
            "header": {
             "fill": {
              "color": "#C8D4E3"
             },
             "line": {
              "color": "white"
             }
            },
            "type": "table"
           }
          ]
         },
         "layout": {
          "annotationdefaults": {
           "arrowcolor": "#2a3f5f",
           "arrowhead": 0,
           "arrowwidth": 1
          },
          "autotypenumbers": "strict",
          "coloraxis": {
           "colorbar": {
            "outlinewidth": 0,
            "ticks": ""
           }
          },
          "colorscale": {
           "diverging": [
            [
             0,
             "#8e0152"
            ],
            [
             0.1,
             "#c51b7d"
            ],
            [
             0.2,
             "#de77ae"
            ],
            [
             0.3,
             "#f1b6da"
            ],
            [
             0.4,
             "#fde0ef"
            ],
            [
             0.5,
             "#f7f7f7"
            ],
            [
             0.6,
             "#e6f5d0"
            ],
            [
             0.7,
             "#b8e186"
            ],
            [
             0.8,
             "#7fbc41"
            ],
            [
             0.9,
             "#4d9221"
            ],
            [
             1,
             "#276419"
            ]
           ],
           "sequential": [
            [
             0,
             "#0d0887"
            ],
            [
             0.1111111111111111,
             "#46039f"
            ],
            [
             0.2222222222222222,
             "#7201a8"
            ],
            [
             0.3333333333333333,
             "#9c179e"
            ],
            [
             0.4444444444444444,
             "#bd3786"
            ],
            [
             0.5555555555555556,
             "#d8576b"
            ],
            [
             0.6666666666666666,
             "#ed7953"
            ],
            [
             0.7777777777777778,
             "#fb9f3a"
            ],
            [
             0.8888888888888888,
             "#fdca26"
            ],
            [
             1,
             "#f0f921"
            ]
           ],
           "sequentialminus": [
            [
             0,
             "#0d0887"
            ],
            [
             0.1111111111111111,
             "#46039f"
            ],
            [
             0.2222222222222222,
             "#7201a8"
            ],
            [
             0.3333333333333333,
             "#9c179e"
            ],
            [
             0.4444444444444444,
             "#bd3786"
            ],
            [
             0.5555555555555556,
             "#d8576b"
            ],
            [
             0.6666666666666666,
             "#ed7953"
            ],
            [
             0.7777777777777778,
             "#fb9f3a"
            ],
            [
             0.8888888888888888,
             "#fdca26"
            ],
            [
             1,
             "#f0f921"
            ]
           ]
          },
          "colorway": [
           "#636efa",
           "#EF553B",
           "#00cc96",
           "#ab63fa",
           "#FFA15A",
           "#19d3f3",
           "#FF6692",
           "#B6E880",
           "#FF97FF",
           "#FECB52"
          ],
          "font": {
           "color": "#2a3f5f"
          },
          "geo": {
           "bgcolor": "white",
           "lakecolor": "white",
           "landcolor": "white",
           "showlakes": true,
           "showland": true,
           "subunitcolor": "#C8D4E3"
          },
          "hoverlabel": {
           "align": "left"
          },
          "hovermode": "closest",
          "mapbox": {
           "style": "light"
          },
          "paper_bgcolor": "white",
          "plot_bgcolor": "white",
          "polar": {
           "angularaxis": {
            "gridcolor": "#EBF0F8",
            "linecolor": "#EBF0F8",
            "ticks": ""
           },
           "bgcolor": "white",
           "radialaxis": {
            "gridcolor": "#EBF0F8",
            "linecolor": "#EBF0F8",
            "ticks": ""
           }
          },
          "scene": {
           "xaxis": {
            "backgroundcolor": "white",
            "gridcolor": "#DFE8F3",
            "gridwidth": 2,
            "linecolor": "#EBF0F8",
            "showbackground": true,
            "ticks": "",
            "zerolinecolor": "#EBF0F8"
           },
           "yaxis": {
            "backgroundcolor": "white",
            "gridcolor": "#DFE8F3",
            "gridwidth": 2,
            "linecolor": "#EBF0F8",
            "showbackground": true,
            "ticks": "",
            "zerolinecolor": "#EBF0F8"
           },
           "zaxis": {
            "backgroundcolor": "white",
            "gridcolor": "#DFE8F3",
            "gridwidth": 2,
            "linecolor": "#EBF0F8",
            "showbackground": true,
            "ticks": "",
            "zerolinecolor": "#EBF0F8"
           }
          },
          "shapedefaults": {
           "line": {
            "color": "#2a3f5f"
           }
          },
          "ternary": {
           "aaxis": {
            "gridcolor": "#DFE8F3",
            "linecolor": "#A2B1C6",
            "ticks": ""
           },
           "baxis": {
            "gridcolor": "#DFE8F3",
            "linecolor": "#A2B1C6",
            "ticks": ""
           },
           "bgcolor": "white",
           "caxis": {
            "gridcolor": "#DFE8F3",
            "linecolor": "#A2B1C6",
            "ticks": ""
           }
          },
          "title": {
           "x": 0.05
          },
          "xaxis": {
           "automargin": true,
           "gridcolor": "#EBF0F8",
           "linecolor": "#EBF0F8",
           "ticks": "",
           "title": {
            "standoff": 15
           },
           "zerolinecolor": "#EBF0F8",
           "zerolinewidth": 2
          },
          "yaxis": {
           "automargin": true,
           "gridcolor": "#EBF0F8",
           "linecolor": "#EBF0F8",
           "ticks": "",
           "title": {
            "standoff": 15
           },
           "zerolinecolor": "#EBF0F8",
           "zerolinewidth": 2
          }
         }
        },
        "xaxis": {
         "anchor": "y",
         "domain": [
          0,
          1
         ],
         "title": {
          "text": ""
         },
         "categoryorder": "array",
         "categoryarray": [
          "France Info",
          "RFI",
          "France Inter"
         ],
         "tickangle": -45
        },
        "yaxis": {
         "anchor": "x",
         "domain": [
          0,
          1
         ],
         "title": {
          "text": "% du volume médiatique"
         },
         "tickformat": "0%"
        },
        "legend": {
         "title": {
          "text": "media"
         },
         "tracegroupgap": 0
        },
        "margin": {
         "t": 60,
         "b": 100
        },
        "barmode": "relative",
        "height": 400,
        "font": {
         "family": "Poppins"
        },
        "title": {
         "text": "Podium Radio"
        }
       },
       "config": {
        "plotlyServerURL": "https://plot.ly"
       }
      }
     },
     "metadata": {}
    }
   ],
   "metadata": {}
  },
  {
   "cell_type": "markdown",
   "source": [
    "## Analyse 3 - Classement complet TV et Radio"
   ],
   "metadata": {}
  },
  {
   "cell_type": "code",
   "execution_count": 24,
   "source": [
    "# Multiplier for one channel = n_mentions * 2 min / (60 minutes * 18h * n_days)\n",
    "multiplier = 2 / (1 * 60 * 18 * 1)\n",
    "\n",
    "fig = show_mentions_by_channel(data,list_of_channels=top_channels_tv_info,n = 25,split=\"keyword\",\n",
    "                               method = multiplier,height = 400,text_auto = \".1%\",\n",
    "                                )\n",
    "fig.update_layout(yaxis_tickformat='0%',font_family=\"Poppins\",yaxis_title=\"% du volume médiatique\",legend_title = \"\",title = \"Classement TV - Chaînes d'information en continu\")\n",
    "fig.update_traces(marker_color=COLOR_TV)\n",
    "fig.show()\n",
    "\n",
    "# Multiplier for one channel = n_mentions * 2 min / (60 minutes * 18h * n_days)\n",
    "multiplier = 2 / (1 * 60 * 18 * 1)\n",
    "\n",
    "fig = show_mentions_by_channel(data,list_of_channels=top_channels_tv_gen,n = 25,split=\"keyword\",\n",
    "                               method = multiplier,height = 400,text_auto = \".1%\",\n",
    "                               )\n",
    "fig.update_layout(yaxis_tickformat='0%',font_family=\"Poppins\",yaxis_title=\"% du volume médiatique\",legend_title = \"\",title = \"Classement TV -  Chaînes généralistes\")\n",
    "fig.update_traces(marker_color=COLOR_TV)\n",
    "fig.show()\n",
    "\n",
    "# Multiplier for one channel = n_mentions * 2 min / (60 minutes * 18h * n_days)\n",
    "multiplier = 2 / (1 * 60 * 18 * 1)\n",
    "\n",
    "fig = show_mentions_by_channel(data,list_of_channels=top_channels_radio,n = 25,split = \"keyword\",\n",
    "                               method = multiplier,height = 400,text_auto = \".1%\",\n",
    "                              )\n",
    "fig.update_layout(yaxis_tickformat='0%',font_family=\"Poppins\",yaxis_title=\"% du volume médiatique\",legend_title = \"\",title = \"Classement Radio\")\n",
    "fig.update_traces(marker_color=COLOR_RADIO)\n",
    "fig.show()"
   ],
   "outputs": [
    {
     "output_type": "display_data",
     "data": {
      "application/vnd.plotly.v1+json": {
       "data": [
        {
         "alignmentgroup": "True",
         "hovertemplate": "keyword=COP27<br>channel_name=%{x}<br>count=%{y}<extra></extra>",
         "legendgroup": "COP27",
         "marker": {
          "color": "#08519c",
          "pattern": {
           "shape": ""
          }
         },
         "name": "COP27",
         "offsetgroup": "COP27",
         "orientation": "v",
         "showlegend": true,
         "textposition": "auto",
         "texttemplate": "%{y:.1%}",
         "x": [
          "France 24",
          "France Info:",
          "CNEWS",
          "LCI",
          "BFMTV"
         ],
         "xaxis": "x",
         "y": [
          0.16666666666666669,
          0.09814814814814815,
          0.003703703703703704,
          0.003703703703703704,
          0.001851851851851852
         ],
         "yaxis": "y",
         "type": "bar"
        }
       ],
       "layout": {
        "template": {
         "data": {
          "barpolar": [
           {
            "marker": {
             "line": {
              "color": "white",
              "width": 0.5
             },
             "pattern": {
              "fillmode": "overlay",
              "size": 10,
              "solidity": 0.2
             }
            },
            "type": "barpolar"
           }
          ],
          "bar": [
           {
            "error_x": {
             "color": "#2a3f5f"
            },
            "error_y": {
             "color": "#2a3f5f"
            },
            "marker": {
             "line": {
              "color": "white",
              "width": 0.5
             },
             "pattern": {
              "fillmode": "overlay",
              "size": 10,
              "solidity": 0.2
             }
            },
            "type": "bar"
           }
          ],
          "carpet": [
           {
            "aaxis": {
             "endlinecolor": "#2a3f5f",
             "gridcolor": "#C8D4E3",
             "linecolor": "#C8D4E3",
             "minorgridcolor": "#C8D4E3",
             "startlinecolor": "#2a3f5f"
            },
            "baxis": {
             "endlinecolor": "#2a3f5f",
             "gridcolor": "#C8D4E3",
             "linecolor": "#C8D4E3",
             "minorgridcolor": "#C8D4E3",
             "startlinecolor": "#2a3f5f"
            },
            "type": "carpet"
           }
          ],
          "choropleth": [
           {
            "colorbar": {
             "outlinewidth": 0,
             "ticks": ""
            },
            "type": "choropleth"
           }
          ],
          "contourcarpet": [
           {
            "colorbar": {
             "outlinewidth": 0,
             "ticks": ""
            },
            "type": "contourcarpet"
           }
          ],
          "contour": [
           {
            "colorbar": {
             "outlinewidth": 0,
             "ticks": ""
            },
            "colorscale": [
             [
              0,
              "#0d0887"
             ],
             [
              0.1111111111111111,
              "#46039f"
             ],
             [
              0.2222222222222222,
              "#7201a8"
             ],
             [
              0.3333333333333333,
              "#9c179e"
             ],
             [
              0.4444444444444444,
              "#bd3786"
             ],
             [
              0.5555555555555556,
              "#d8576b"
             ],
             [
              0.6666666666666666,
              "#ed7953"
             ],
             [
              0.7777777777777778,
              "#fb9f3a"
             ],
             [
              0.8888888888888888,
              "#fdca26"
             ],
             [
              1,
              "#f0f921"
             ]
            ],
            "type": "contour"
           }
          ],
          "heatmapgl": [
           {
            "colorbar": {
             "outlinewidth": 0,
             "ticks": ""
            },
            "colorscale": [
             [
              0,
              "#0d0887"
             ],
             [
              0.1111111111111111,
              "#46039f"
             ],
             [
              0.2222222222222222,
              "#7201a8"
             ],
             [
              0.3333333333333333,
              "#9c179e"
             ],
             [
              0.4444444444444444,
              "#bd3786"
             ],
             [
              0.5555555555555556,
              "#d8576b"
             ],
             [
              0.6666666666666666,
              "#ed7953"
             ],
             [
              0.7777777777777778,
              "#fb9f3a"
             ],
             [
              0.8888888888888888,
              "#fdca26"
             ],
             [
              1,
              "#f0f921"
             ]
            ],
            "type": "heatmapgl"
           }
          ],
          "heatmap": [
           {
            "colorbar": {
             "outlinewidth": 0,
             "ticks": ""
            },
            "colorscale": [
             [
              0,
              "#0d0887"
             ],
             [
              0.1111111111111111,
              "#46039f"
             ],
             [
              0.2222222222222222,
              "#7201a8"
             ],
             [
              0.3333333333333333,
              "#9c179e"
             ],
             [
              0.4444444444444444,
              "#bd3786"
             ],
             [
              0.5555555555555556,
              "#d8576b"
             ],
             [
              0.6666666666666666,
              "#ed7953"
             ],
             [
              0.7777777777777778,
              "#fb9f3a"
             ],
             [
              0.8888888888888888,
              "#fdca26"
             ],
             [
              1,
              "#f0f921"
             ]
            ],
            "type": "heatmap"
           }
          ],
          "histogram2dcontour": [
           {
            "colorbar": {
             "outlinewidth": 0,
             "ticks": ""
            },
            "colorscale": [
             [
              0,
              "#0d0887"
             ],
             [
              0.1111111111111111,
              "#46039f"
             ],
             [
              0.2222222222222222,
              "#7201a8"
             ],
             [
              0.3333333333333333,
              "#9c179e"
             ],
             [
              0.4444444444444444,
              "#bd3786"
             ],
             [
              0.5555555555555556,
              "#d8576b"
             ],
             [
              0.6666666666666666,
              "#ed7953"
             ],
             [
              0.7777777777777778,
              "#fb9f3a"
             ],
             [
              0.8888888888888888,
              "#fdca26"
             ],
             [
              1,
              "#f0f921"
             ]
            ],
            "type": "histogram2dcontour"
           }
          ],
          "histogram2d": [
           {
            "colorbar": {
             "outlinewidth": 0,
             "ticks": ""
            },
            "colorscale": [
             [
              0,
              "#0d0887"
             ],
             [
              0.1111111111111111,
              "#46039f"
             ],
             [
              0.2222222222222222,
              "#7201a8"
             ],
             [
              0.3333333333333333,
              "#9c179e"
             ],
             [
              0.4444444444444444,
              "#bd3786"
             ],
             [
              0.5555555555555556,
              "#d8576b"
             ],
             [
              0.6666666666666666,
              "#ed7953"
             ],
             [
              0.7777777777777778,
              "#fb9f3a"
             ],
             [
              0.8888888888888888,
              "#fdca26"
             ],
             [
              1,
              "#f0f921"
             ]
            ],
            "type": "histogram2d"
           }
          ],
          "histogram": [
           {
            "marker": {
             "pattern": {
              "fillmode": "overlay",
              "size": 10,
              "solidity": 0.2
             }
            },
            "type": "histogram"
           }
          ],
          "mesh3d": [
           {
            "colorbar": {
             "outlinewidth": 0,
             "ticks": ""
            },
            "type": "mesh3d"
           }
          ],
          "parcoords": [
           {
            "line": {
             "colorbar": {
              "outlinewidth": 0,
              "ticks": ""
             }
            },
            "type": "parcoords"
           }
          ],
          "pie": [
           {
            "automargin": true,
            "type": "pie"
           }
          ],
          "scatter3d": [
           {
            "line": {
             "colorbar": {
              "outlinewidth": 0,
              "ticks": ""
             }
            },
            "marker": {
             "colorbar": {
              "outlinewidth": 0,
              "ticks": ""
             }
            },
            "type": "scatter3d"
           }
          ],
          "scattercarpet": [
           {
            "marker": {
             "colorbar": {
              "outlinewidth": 0,
              "ticks": ""
             }
            },
            "type": "scattercarpet"
           }
          ],
          "scattergeo": [
           {
            "marker": {
             "colorbar": {
              "outlinewidth": 0,
              "ticks": ""
             }
            },
            "type": "scattergeo"
           }
          ],
          "scattergl": [
           {
            "marker": {
             "colorbar": {
              "outlinewidth": 0,
              "ticks": ""
             }
            },
            "type": "scattergl"
           }
          ],
          "scattermapbox": [
           {
            "marker": {
             "colorbar": {
              "outlinewidth": 0,
              "ticks": ""
             }
            },
            "type": "scattermapbox"
           }
          ],
          "scatterpolargl": [
           {
            "marker": {
             "colorbar": {
              "outlinewidth": 0,
              "ticks": ""
             }
            },
            "type": "scatterpolargl"
           }
          ],
          "scatterpolar": [
           {
            "marker": {
             "colorbar": {
              "outlinewidth": 0,
              "ticks": ""
             }
            },
            "type": "scatterpolar"
           }
          ],
          "scatter": [
           {
            "fillpattern": {
             "fillmode": "overlay",
             "size": 10,
             "solidity": 0.2
            },
            "type": "scatter"
           }
          ],
          "scatterternary": [
           {
            "marker": {
             "colorbar": {
              "outlinewidth": 0,
              "ticks": ""
             }
            },
            "type": "scatterternary"
           }
          ],
          "surface": [
           {
            "colorbar": {
             "outlinewidth": 0,
             "ticks": ""
            },
            "colorscale": [
             [
              0,
              "#0d0887"
             ],
             [
              0.1111111111111111,
              "#46039f"
             ],
             [
              0.2222222222222222,
              "#7201a8"
             ],
             [
              0.3333333333333333,
              "#9c179e"
             ],
             [
              0.4444444444444444,
              "#bd3786"
             ],
             [
              0.5555555555555556,
              "#d8576b"
             ],
             [
              0.6666666666666666,
              "#ed7953"
             ],
             [
              0.7777777777777778,
              "#fb9f3a"
             ],
             [
              0.8888888888888888,
              "#fdca26"
             ],
             [
              1,
              "#f0f921"
             ]
            ],
            "type": "surface"
           }
          ],
          "table": [
           {
            "cells": {
             "fill": {
              "color": "#EBF0F8"
             },
             "line": {
              "color": "white"
             }
            },
            "header": {
             "fill": {
              "color": "#C8D4E3"
             },
             "line": {
              "color": "white"
             }
            },
            "type": "table"
           }
          ]
         },
         "layout": {
          "annotationdefaults": {
           "arrowcolor": "#2a3f5f",
           "arrowhead": 0,
           "arrowwidth": 1
          },
          "autotypenumbers": "strict",
          "coloraxis": {
           "colorbar": {
            "outlinewidth": 0,
            "ticks": ""
           }
          },
          "colorscale": {
           "diverging": [
            [
             0,
             "#8e0152"
            ],
            [
             0.1,
             "#c51b7d"
            ],
            [
             0.2,
             "#de77ae"
            ],
            [
             0.3,
             "#f1b6da"
            ],
            [
             0.4,
             "#fde0ef"
            ],
            [
             0.5,
             "#f7f7f7"
            ],
            [
             0.6,
             "#e6f5d0"
            ],
            [
             0.7,
             "#b8e186"
            ],
            [
             0.8,
             "#7fbc41"
            ],
            [
             0.9,
             "#4d9221"
            ],
            [
             1,
             "#276419"
            ]
           ],
           "sequential": [
            [
             0,
             "#0d0887"
            ],
            [
             0.1111111111111111,
             "#46039f"
            ],
            [
             0.2222222222222222,
             "#7201a8"
            ],
            [
             0.3333333333333333,
             "#9c179e"
            ],
            [
             0.4444444444444444,
             "#bd3786"
            ],
            [
             0.5555555555555556,
             "#d8576b"
            ],
            [
             0.6666666666666666,
             "#ed7953"
            ],
            [
             0.7777777777777778,
             "#fb9f3a"
            ],
            [
             0.8888888888888888,
             "#fdca26"
            ],
            [
             1,
             "#f0f921"
            ]
           ],
           "sequentialminus": [
            [
             0,
             "#0d0887"
            ],
            [
             0.1111111111111111,
             "#46039f"
            ],
            [
             0.2222222222222222,
             "#7201a8"
            ],
            [
             0.3333333333333333,
             "#9c179e"
            ],
            [
             0.4444444444444444,
             "#bd3786"
            ],
            [
             0.5555555555555556,
             "#d8576b"
            ],
            [
             0.6666666666666666,
             "#ed7953"
            ],
            [
             0.7777777777777778,
             "#fb9f3a"
            ],
            [
             0.8888888888888888,
             "#fdca26"
            ],
            [
             1,
             "#f0f921"
            ]
           ]
          },
          "colorway": [
           "#636efa",
           "#EF553B",
           "#00cc96",
           "#ab63fa",
           "#FFA15A",
           "#19d3f3",
           "#FF6692",
           "#B6E880",
           "#FF97FF",
           "#FECB52"
          ],
          "font": {
           "color": "#2a3f5f"
          },
          "geo": {
           "bgcolor": "white",
           "lakecolor": "white",
           "landcolor": "white",
           "showlakes": true,
           "showland": true,
           "subunitcolor": "#C8D4E3"
          },
          "hoverlabel": {
           "align": "left"
          },
          "hovermode": "closest",
          "mapbox": {
           "style": "light"
          },
          "paper_bgcolor": "white",
          "plot_bgcolor": "white",
          "polar": {
           "angularaxis": {
            "gridcolor": "#EBF0F8",
            "linecolor": "#EBF0F8",
            "ticks": ""
           },
           "bgcolor": "white",
           "radialaxis": {
            "gridcolor": "#EBF0F8",
            "linecolor": "#EBF0F8",
            "ticks": ""
           }
          },
          "scene": {
           "xaxis": {
            "backgroundcolor": "white",
            "gridcolor": "#DFE8F3",
            "gridwidth": 2,
            "linecolor": "#EBF0F8",
            "showbackground": true,
            "ticks": "",
            "zerolinecolor": "#EBF0F8"
           },
           "yaxis": {
            "backgroundcolor": "white",
            "gridcolor": "#DFE8F3",
            "gridwidth": 2,
            "linecolor": "#EBF0F8",
            "showbackground": true,
            "ticks": "",
            "zerolinecolor": "#EBF0F8"
           },
           "zaxis": {
            "backgroundcolor": "white",
            "gridcolor": "#DFE8F3",
            "gridwidth": 2,
            "linecolor": "#EBF0F8",
            "showbackground": true,
            "ticks": "",
            "zerolinecolor": "#EBF0F8"
           }
          },
          "shapedefaults": {
           "line": {
            "color": "#2a3f5f"
           }
          },
          "ternary": {
           "aaxis": {
            "gridcolor": "#DFE8F3",
            "linecolor": "#A2B1C6",
            "ticks": ""
           },
           "baxis": {
            "gridcolor": "#DFE8F3",
            "linecolor": "#A2B1C6",
            "ticks": ""
           },
           "bgcolor": "white",
           "caxis": {
            "gridcolor": "#DFE8F3",
            "linecolor": "#A2B1C6",
            "ticks": ""
           }
          },
          "title": {
           "x": 0.05
          },
          "xaxis": {
           "automargin": true,
           "gridcolor": "#EBF0F8",
           "linecolor": "#EBF0F8",
           "ticks": "",
           "title": {
            "standoff": 15
           },
           "zerolinecolor": "#EBF0F8",
           "zerolinewidth": 2
          },
          "yaxis": {
           "automargin": true,
           "gridcolor": "#EBF0F8",
           "linecolor": "#EBF0F8",
           "ticks": "",
           "title": {
            "standoff": 15
           },
           "zerolinecolor": "#EBF0F8",
           "zerolinewidth": 2
          }
         }
        },
        "xaxis": {
         "anchor": "y",
         "domain": [
          0,
          1
         ],
         "title": {},
         "categoryorder": "array",
         "categoryarray": [
          "France 24",
          "France Info:",
          "CNEWS",
          "LCI",
          "BFMTV"
         ],
         "tickangle": -45
        },
        "yaxis": {
         "anchor": "x",
         "domain": [
          0,
          1
         ],
         "title": {
          "text": "% du volume médiatique"
         },
         "tickformat": "0%"
        },
        "legend": {
         "title": {
          "text": ""
         },
         "tracegroupgap": 0
        },
        "margin": {
         "t": 60,
         "b": 100
        },
        "barmode": "relative",
        "height": 400,
        "font": {
         "family": "Poppins"
        },
        "title": {
         "text": "Classement TV - Chaînes d'information en continu"
        }
       },
       "config": {
        "plotlyServerURL": "https://plot.ly"
       }
      }
     },
     "metadata": {}
    },
    {
     "output_type": "display_data",
     "data": {
      "application/vnd.plotly.v1+json": {
       "data": [
        {
         "alignmentgroup": "True",
         "hovertemplate": "keyword=COP27<br>channel_name=%{x}<br>count=%{y}<extra></extra>",
         "legendgroup": "COP27",
         "marker": {
          "color": "#08519c",
          "pattern": {
           "shape": ""
          }
         },
         "name": "COP27",
         "offsetgroup": "COP27",
         "orientation": "v",
         "showlegend": true,
         "textposition": "auto",
         "texttemplate": "%{y:.1%}",
         "x": [
          "France 2",
          "TMC",
          "M6",
          "RMC Story",
          "France 5",
          "TF1"
         ],
         "xaxis": "x",
         "y": [
          0.012962962962962964,
          0.009259259259259259,
          0.003703703703703704,
          0.003703703703703704,
          0.001851851851851852,
          0.001851851851851852
         ],
         "yaxis": "y",
         "type": "bar"
        }
       ],
       "layout": {
        "template": {
         "data": {
          "barpolar": [
           {
            "marker": {
             "line": {
              "color": "white",
              "width": 0.5
             },
             "pattern": {
              "fillmode": "overlay",
              "size": 10,
              "solidity": 0.2
             }
            },
            "type": "barpolar"
           }
          ],
          "bar": [
           {
            "error_x": {
             "color": "#2a3f5f"
            },
            "error_y": {
             "color": "#2a3f5f"
            },
            "marker": {
             "line": {
              "color": "white",
              "width": 0.5
             },
             "pattern": {
              "fillmode": "overlay",
              "size": 10,
              "solidity": 0.2
             }
            },
            "type": "bar"
           }
          ],
          "carpet": [
           {
            "aaxis": {
             "endlinecolor": "#2a3f5f",
             "gridcolor": "#C8D4E3",
             "linecolor": "#C8D4E3",
             "minorgridcolor": "#C8D4E3",
             "startlinecolor": "#2a3f5f"
            },
            "baxis": {
             "endlinecolor": "#2a3f5f",
             "gridcolor": "#C8D4E3",
             "linecolor": "#C8D4E3",
             "minorgridcolor": "#C8D4E3",
             "startlinecolor": "#2a3f5f"
            },
            "type": "carpet"
           }
          ],
          "choropleth": [
           {
            "colorbar": {
             "outlinewidth": 0,
             "ticks": ""
            },
            "type": "choropleth"
           }
          ],
          "contourcarpet": [
           {
            "colorbar": {
             "outlinewidth": 0,
             "ticks": ""
            },
            "type": "contourcarpet"
           }
          ],
          "contour": [
           {
            "colorbar": {
             "outlinewidth": 0,
             "ticks": ""
            },
            "colorscale": [
             [
              0,
              "#0d0887"
             ],
             [
              0.1111111111111111,
              "#46039f"
             ],
             [
              0.2222222222222222,
              "#7201a8"
             ],
             [
              0.3333333333333333,
              "#9c179e"
             ],
             [
              0.4444444444444444,
              "#bd3786"
             ],
             [
              0.5555555555555556,
              "#d8576b"
             ],
             [
              0.6666666666666666,
              "#ed7953"
             ],
             [
              0.7777777777777778,
              "#fb9f3a"
             ],
             [
              0.8888888888888888,
              "#fdca26"
             ],
             [
              1,
              "#f0f921"
             ]
            ],
            "type": "contour"
           }
          ],
          "heatmapgl": [
           {
            "colorbar": {
             "outlinewidth": 0,
             "ticks": ""
            },
            "colorscale": [
             [
              0,
              "#0d0887"
             ],
             [
              0.1111111111111111,
              "#46039f"
             ],
             [
              0.2222222222222222,
              "#7201a8"
             ],
             [
              0.3333333333333333,
              "#9c179e"
             ],
             [
              0.4444444444444444,
              "#bd3786"
             ],
             [
              0.5555555555555556,
              "#d8576b"
             ],
             [
              0.6666666666666666,
              "#ed7953"
             ],
             [
              0.7777777777777778,
              "#fb9f3a"
             ],
             [
              0.8888888888888888,
              "#fdca26"
             ],
             [
              1,
              "#f0f921"
             ]
            ],
            "type": "heatmapgl"
           }
          ],
          "heatmap": [
           {
            "colorbar": {
             "outlinewidth": 0,
             "ticks": ""
            },
            "colorscale": [
             [
              0,
              "#0d0887"
             ],
             [
              0.1111111111111111,
              "#46039f"
             ],
             [
              0.2222222222222222,
              "#7201a8"
             ],
             [
              0.3333333333333333,
              "#9c179e"
             ],
             [
              0.4444444444444444,
              "#bd3786"
             ],
             [
              0.5555555555555556,
              "#d8576b"
             ],
             [
              0.6666666666666666,
              "#ed7953"
             ],
             [
              0.7777777777777778,
              "#fb9f3a"
             ],
             [
              0.8888888888888888,
              "#fdca26"
             ],
             [
              1,
              "#f0f921"
             ]
            ],
            "type": "heatmap"
           }
          ],
          "histogram2dcontour": [
           {
            "colorbar": {
             "outlinewidth": 0,
             "ticks": ""
            },
            "colorscale": [
             [
              0,
              "#0d0887"
             ],
             [
              0.1111111111111111,
              "#46039f"
             ],
             [
              0.2222222222222222,
              "#7201a8"
             ],
             [
              0.3333333333333333,
              "#9c179e"
             ],
             [
              0.4444444444444444,
              "#bd3786"
             ],
             [
              0.5555555555555556,
              "#d8576b"
             ],
             [
              0.6666666666666666,
              "#ed7953"
             ],
             [
              0.7777777777777778,
              "#fb9f3a"
             ],
             [
              0.8888888888888888,
              "#fdca26"
             ],
             [
              1,
              "#f0f921"
             ]
            ],
            "type": "histogram2dcontour"
           }
          ],
          "histogram2d": [
           {
            "colorbar": {
             "outlinewidth": 0,
             "ticks": ""
            },
            "colorscale": [
             [
              0,
              "#0d0887"
             ],
             [
              0.1111111111111111,
              "#46039f"
             ],
             [
              0.2222222222222222,
              "#7201a8"
             ],
             [
              0.3333333333333333,
              "#9c179e"
             ],
             [
              0.4444444444444444,
              "#bd3786"
             ],
             [
              0.5555555555555556,
              "#d8576b"
             ],
             [
              0.6666666666666666,
              "#ed7953"
             ],
             [
              0.7777777777777778,
              "#fb9f3a"
             ],
             [
              0.8888888888888888,
              "#fdca26"
             ],
             [
              1,
              "#f0f921"
             ]
            ],
            "type": "histogram2d"
           }
          ],
          "histogram": [
           {
            "marker": {
             "pattern": {
              "fillmode": "overlay",
              "size": 10,
              "solidity": 0.2
             }
            },
            "type": "histogram"
           }
          ],
          "mesh3d": [
           {
            "colorbar": {
             "outlinewidth": 0,
             "ticks": ""
            },
            "type": "mesh3d"
           }
          ],
          "parcoords": [
           {
            "line": {
             "colorbar": {
              "outlinewidth": 0,
              "ticks": ""
             }
            },
            "type": "parcoords"
           }
          ],
          "pie": [
           {
            "automargin": true,
            "type": "pie"
           }
          ],
          "scatter3d": [
           {
            "line": {
             "colorbar": {
              "outlinewidth": 0,
              "ticks": ""
             }
            },
            "marker": {
             "colorbar": {
              "outlinewidth": 0,
              "ticks": ""
             }
            },
            "type": "scatter3d"
           }
          ],
          "scattercarpet": [
           {
            "marker": {
             "colorbar": {
              "outlinewidth": 0,
              "ticks": ""
             }
            },
            "type": "scattercarpet"
           }
          ],
          "scattergeo": [
           {
            "marker": {
             "colorbar": {
              "outlinewidth": 0,
              "ticks": ""
             }
            },
            "type": "scattergeo"
           }
          ],
          "scattergl": [
           {
            "marker": {
             "colorbar": {
              "outlinewidth": 0,
              "ticks": ""
             }
            },
            "type": "scattergl"
           }
          ],
          "scattermapbox": [
           {
            "marker": {
             "colorbar": {
              "outlinewidth": 0,
              "ticks": ""
             }
            },
            "type": "scattermapbox"
           }
          ],
          "scatterpolargl": [
           {
            "marker": {
             "colorbar": {
              "outlinewidth": 0,
              "ticks": ""
             }
            },
            "type": "scatterpolargl"
           }
          ],
          "scatterpolar": [
           {
            "marker": {
             "colorbar": {
              "outlinewidth": 0,
              "ticks": ""
             }
            },
            "type": "scatterpolar"
           }
          ],
          "scatter": [
           {
            "fillpattern": {
             "fillmode": "overlay",
             "size": 10,
             "solidity": 0.2
            },
            "type": "scatter"
           }
          ],
          "scatterternary": [
           {
            "marker": {
             "colorbar": {
              "outlinewidth": 0,
              "ticks": ""
             }
            },
            "type": "scatterternary"
           }
          ],
          "surface": [
           {
            "colorbar": {
             "outlinewidth": 0,
             "ticks": ""
            },
            "colorscale": [
             [
              0,
              "#0d0887"
             ],
             [
              0.1111111111111111,
              "#46039f"
             ],
             [
              0.2222222222222222,
              "#7201a8"
             ],
             [
              0.3333333333333333,
              "#9c179e"
             ],
             [
              0.4444444444444444,
              "#bd3786"
             ],
             [
              0.5555555555555556,
              "#d8576b"
             ],
             [
              0.6666666666666666,
              "#ed7953"
             ],
             [
              0.7777777777777778,
              "#fb9f3a"
             ],
             [
              0.8888888888888888,
              "#fdca26"
             ],
             [
              1,
              "#f0f921"
             ]
            ],
            "type": "surface"
           }
          ],
          "table": [
           {
            "cells": {
             "fill": {
              "color": "#EBF0F8"
             },
             "line": {
              "color": "white"
             }
            },
            "header": {
             "fill": {
              "color": "#C8D4E3"
             },
             "line": {
              "color": "white"
             }
            },
            "type": "table"
           }
          ]
         },
         "layout": {
          "annotationdefaults": {
           "arrowcolor": "#2a3f5f",
           "arrowhead": 0,
           "arrowwidth": 1
          },
          "autotypenumbers": "strict",
          "coloraxis": {
           "colorbar": {
            "outlinewidth": 0,
            "ticks": ""
           }
          },
          "colorscale": {
           "diverging": [
            [
             0,
             "#8e0152"
            ],
            [
             0.1,
             "#c51b7d"
            ],
            [
             0.2,
             "#de77ae"
            ],
            [
             0.3,
             "#f1b6da"
            ],
            [
             0.4,
             "#fde0ef"
            ],
            [
             0.5,
             "#f7f7f7"
            ],
            [
             0.6,
             "#e6f5d0"
            ],
            [
             0.7,
             "#b8e186"
            ],
            [
             0.8,
             "#7fbc41"
            ],
            [
             0.9,
             "#4d9221"
            ],
            [
             1,
             "#276419"
            ]
           ],
           "sequential": [
            [
             0,
             "#0d0887"
            ],
            [
             0.1111111111111111,
             "#46039f"
            ],
            [
             0.2222222222222222,
             "#7201a8"
            ],
            [
             0.3333333333333333,
             "#9c179e"
            ],
            [
             0.4444444444444444,
             "#bd3786"
            ],
            [
             0.5555555555555556,
             "#d8576b"
            ],
            [
             0.6666666666666666,
             "#ed7953"
            ],
            [
             0.7777777777777778,
             "#fb9f3a"
            ],
            [
             0.8888888888888888,
             "#fdca26"
            ],
            [
             1,
             "#f0f921"
            ]
           ],
           "sequentialminus": [
            [
             0,
             "#0d0887"
            ],
            [
             0.1111111111111111,
             "#46039f"
            ],
            [
             0.2222222222222222,
             "#7201a8"
            ],
            [
             0.3333333333333333,
             "#9c179e"
            ],
            [
             0.4444444444444444,
             "#bd3786"
            ],
            [
             0.5555555555555556,
             "#d8576b"
            ],
            [
             0.6666666666666666,
             "#ed7953"
            ],
            [
             0.7777777777777778,
             "#fb9f3a"
            ],
            [
             0.8888888888888888,
             "#fdca26"
            ],
            [
             1,
             "#f0f921"
            ]
           ]
          },
          "colorway": [
           "#636efa",
           "#EF553B",
           "#00cc96",
           "#ab63fa",
           "#FFA15A",
           "#19d3f3",
           "#FF6692",
           "#B6E880",
           "#FF97FF",
           "#FECB52"
          ],
          "font": {
           "color": "#2a3f5f"
          },
          "geo": {
           "bgcolor": "white",
           "lakecolor": "white",
           "landcolor": "white",
           "showlakes": true,
           "showland": true,
           "subunitcolor": "#C8D4E3"
          },
          "hoverlabel": {
           "align": "left"
          },
          "hovermode": "closest",
          "mapbox": {
           "style": "light"
          },
          "paper_bgcolor": "white",
          "plot_bgcolor": "white",
          "polar": {
           "angularaxis": {
            "gridcolor": "#EBF0F8",
            "linecolor": "#EBF0F8",
            "ticks": ""
           },
           "bgcolor": "white",
           "radialaxis": {
            "gridcolor": "#EBF0F8",
            "linecolor": "#EBF0F8",
            "ticks": ""
           }
          },
          "scene": {
           "xaxis": {
            "backgroundcolor": "white",
            "gridcolor": "#DFE8F3",
            "gridwidth": 2,
            "linecolor": "#EBF0F8",
            "showbackground": true,
            "ticks": "",
            "zerolinecolor": "#EBF0F8"
           },
           "yaxis": {
            "backgroundcolor": "white",
            "gridcolor": "#DFE8F3",
            "gridwidth": 2,
            "linecolor": "#EBF0F8",
            "showbackground": true,
            "ticks": "",
            "zerolinecolor": "#EBF0F8"
           },
           "zaxis": {
            "backgroundcolor": "white",
            "gridcolor": "#DFE8F3",
            "gridwidth": 2,
            "linecolor": "#EBF0F8",
            "showbackground": true,
            "ticks": "",
            "zerolinecolor": "#EBF0F8"
           }
          },
          "shapedefaults": {
           "line": {
            "color": "#2a3f5f"
           }
          },
          "ternary": {
           "aaxis": {
            "gridcolor": "#DFE8F3",
            "linecolor": "#A2B1C6",
            "ticks": ""
           },
           "baxis": {
            "gridcolor": "#DFE8F3",
            "linecolor": "#A2B1C6",
            "ticks": ""
           },
           "bgcolor": "white",
           "caxis": {
            "gridcolor": "#DFE8F3",
            "linecolor": "#A2B1C6",
            "ticks": ""
           }
          },
          "title": {
           "x": 0.05
          },
          "xaxis": {
           "automargin": true,
           "gridcolor": "#EBF0F8",
           "linecolor": "#EBF0F8",
           "ticks": "",
           "title": {
            "standoff": 15
           },
           "zerolinecolor": "#EBF0F8",
           "zerolinewidth": 2
          },
          "yaxis": {
           "automargin": true,
           "gridcolor": "#EBF0F8",
           "linecolor": "#EBF0F8",
           "ticks": "",
           "title": {
            "standoff": 15
           },
           "zerolinecolor": "#EBF0F8",
           "zerolinewidth": 2
          }
         }
        },
        "xaxis": {
         "anchor": "y",
         "domain": [
          0,
          1
         ],
         "title": {},
         "categoryorder": "array",
         "categoryarray": [
          "France 2",
          "TMC",
          "M6",
          "RMC Story",
          "France 5",
          "TF1"
         ],
         "tickangle": -45
        },
        "yaxis": {
         "anchor": "x",
         "domain": [
          0,
          1
         ],
         "title": {
          "text": "% du volume médiatique"
         },
         "tickformat": "0%"
        },
        "legend": {
         "title": {
          "text": ""
         },
         "tracegroupgap": 0
        },
        "margin": {
         "t": 60,
         "b": 100
        },
        "barmode": "relative",
        "height": 400,
        "font": {
         "family": "Poppins"
        },
        "title": {
         "text": "Classement TV -  Chaînes généralistes"
        }
       },
       "config": {
        "plotlyServerURL": "https://plot.ly"
       }
      }
     },
     "metadata": {}
    },
    {
     "output_type": "display_data",
     "data": {
      "application/vnd.plotly.v1+json": {
       "data": [
        {
         "alignmentgroup": "True",
         "hovertemplate": "keyword=COP27<br>channel_name=%{x}<br>count=%{y}<extra></extra>",
         "legendgroup": "COP27",
         "marker": {
          "color": "#08306b",
          "pattern": {
           "shape": ""
          }
         },
         "name": "COP27",
         "offsetgroup": "COP27",
         "orientation": "v",
         "showlegend": true,
         "textposition": "auto",
         "texttemplate": "%{y:.1%}",
         "x": [
          "France Info",
          "RFI",
          "France Inter",
          "France Culture",
          "BFM Business Radio",
          "Radio Classique",
          "Nostalgie",
          "RTL",
          "RMC",
          "Chérie FM",
          "RTL2",
          "France Musique",
          "Fun Radio",
          "Guadeloupe 1ère",
          "NRJ"
         ],
         "xaxis": "x",
         "y": [
          0.17962962962962964,
          0.11296296296296297,
          0.06296296296296297,
          0.05,
          0.024074074074074074,
          0.024074074074074074,
          0.012962962962962964,
          0.012962962962962964,
          0.007407407407407408,
          0.005555555555555556,
          0.005555555555555556,
          0.003703703703703704,
          0.001851851851851852,
          0.001851851851851852,
          0.001851851851851852
         ],
         "yaxis": "y",
         "type": "bar"
        }
       ],
       "layout": {
        "template": {
         "data": {
          "barpolar": [
           {
            "marker": {
             "line": {
              "color": "white",
              "width": 0.5
             },
             "pattern": {
              "fillmode": "overlay",
              "size": 10,
              "solidity": 0.2
             }
            },
            "type": "barpolar"
           }
          ],
          "bar": [
           {
            "error_x": {
             "color": "#2a3f5f"
            },
            "error_y": {
             "color": "#2a3f5f"
            },
            "marker": {
             "line": {
              "color": "white",
              "width": 0.5
             },
             "pattern": {
              "fillmode": "overlay",
              "size": 10,
              "solidity": 0.2
             }
            },
            "type": "bar"
           }
          ],
          "carpet": [
           {
            "aaxis": {
             "endlinecolor": "#2a3f5f",
             "gridcolor": "#C8D4E3",
             "linecolor": "#C8D4E3",
             "minorgridcolor": "#C8D4E3",
             "startlinecolor": "#2a3f5f"
            },
            "baxis": {
             "endlinecolor": "#2a3f5f",
             "gridcolor": "#C8D4E3",
             "linecolor": "#C8D4E3",
             "minorgridcolor": "#C8D4E3",
             "startlinecolor": "#2a3f5f"
            },
            "type": "carpet"
           }
          ],
          "choropleth": [
           {
            "colorbar": {
             "outlinewidth": 0,
             "ticks": ""
            },
            "type": "choropleth"
           }
          ],
          "contourcarpet": [
           {
            "colorbar": {
             "outlinewidth": 0,
             "ticks": ""
            },
            "type": "contourcarpet"
           }
          ],
          "contour": [
           {
            "colorbar": {
             "outlinewidth": 0,
             "ticks": ""
            },
            "colorscale": [
             [
              0,
              "#0d0887"
             ],
             [
              0.1111111111111111,
              "#46039f"
             ],
             [
              0.2222222222222222,
              "#7201a8"
             ],
             [
              0.3333333333333333,
              "#9c179e"
             ],
             [
              0.4444444444444444,
              "#bd3786"
             ],
             [
              0.5555555555555556,
              "#d8576b"
             ],
             [
              0.6666666666666666,
              "#ed7953"
             ],
             [
              0.7777777777777778,
              "#fb9f3a"
             ],
             [
              0.8888888888888888,
              "#fdca26"
             ],
             [
              1,
              "#f0f921"
             ]
            ],
            "type": "contour"
           }
          ],
          "heatmapgl": [
           {
            "colorbar": {
             "outlinewidth": 0,
             "ticks": ""
            },
            "colorscale": [
             [
              0,
              "#0d0887"
             ],
             [
              0.1111111111111111,
              "#46039f"
             ],
             [
              0.2222222222222222,
              "#7201a8"
             ],
             [
              0.3333333333333333,
              "#9c179e"
             ],
             [
              0.4444444444444444,
              "#bd3786"
             ],
             [
              0.5555555555555556,
              "#d8576b"
             ],
             [
              0.6666666666666666,
              "#ed7953"
             ],
             [
              0.7777777777777778,
              "#fb9f3a"
             ],
             [
              0.8888888888888888,
              "#fdca26"
             ],
             [
              1,
              "#f0f921"
             ]
            ],
            "type": "heatmapgl"
           }
          ],
          "heatmap": [
           {
            "colorbar": {
             "outlinewidth": 0,
             "ticks": ""
            },
            "colorscale": [
             [
              0,
              "#0d0887"
             ],
             [
              0.1111111111111111,
              "#46039f"
             ],
             [
              0.2222222222222222,
              "#7201a8"
             ],
             [
              0.3333333333333333,
              "#9c179e"
             ],
             [
              0.4444444444444444,
              "#bd3786"
             ],
             [
              0.5555555555555556,
              "#d8576b"
             ],
             [
              0.6666666666666666,
              "#ed7953"
             ],
             [
              0.7777777777777778,
              "#fb9f3a"
             ],
             [
              0.8888888888888888,
              "#fdca26"
             ],
             [
              1,
              "#f0f921"
             ]
            ],
            "type": "heatmap"
           }
          ],
          "histogram2dcontour": [
           {
            "colorbar": {
             "outlinewidth": 0,
             "ticks": ""
            },
            "colorscale": [
             [
              0,
              "#0d0887"
             ],
             [
              0.1111111111111111,
              "#46039f"
             ],
             [
              0.2222222222222222,
              "#7201a8"
             ],
             [
              0.3333333333333333,
              "#9c179e"
             ],
             [
              0.4444444444444444,
              "#bd3786"
             ],
             [
              0.5555555555555556,
              "#d8576b"
             ],
             [
              0.6666666666666666,
              "#ed7953"
             ],
             [
              0.7777777777777778,
              "#fb9f3a"
             ],
             [
              0.8888888888888888,
              "#fdca26"
             ],
             [
              1,
              "#f0f921"
             ]
            ],
            "type": "histogram2dcontour"
           }
          ],
          "histogram2d": [
           {
            "colorbar": {
             "outlinewidth": 0,
             "ticks": ""
            },
            "colorscale": [
             [
              0,
              "#0d0887"
             ],
             [
              0.1111111111111111,
              "#46039f"
             ],
             [
              0.2222222222222222,
              "#7201a8"
             ],
             [
              0.3333333333333333,
              "#9c179e"
             ],
             [
              0.4444444444444444,
              "#bd3786"
             ],
             [
              0.5555555555555556,
              "#d8576b"
             ],
             [
              0.6666666666666666,
              "#ed7953"
             ],
             [
              0.7777777777777778,
              "#fb9f3a"
             ],
             [
              0.8888888888888888,
              "#fdca26"
             ],
             [
              1,
              "#f0f921"
             ]
            ],
            "type": "histogram2d"
           }
          ],
          "histogram": [
           {
            "marker": {
             "pattern": {
              "fillmode": "overlay",
              "size": 10,
              "solidity": 0.2
             }
            },
            "type": "histogram"
           }
          ],
          "mesh3d": [
           {
            "colorbar": {
             "outlinewidth": 0,
             "ticks": ""
            },
            "type": "mesh3d"
           }
          ],
          "parcoords": [
           {
            "line": {
             "colorbar": {
              "outlinewidth": 0,
              "ticks": ""
             }
            },
            "type": "parcoords"
           }
          ],
          "pie": [
           {
            "automargin": true,
            "type": "pie"
           }
          ],
          "scatter3d": [
           {
            "line": {
             "colorbar": {
              "outlinewidth": 0,
              "ticks": ""
             }
            },
            "marker": {
             "colorbar": {
              "outlinewidth": 0,
              "ticks": ""
             }
            },
            "type": "scatter3d"
           }
          ],
          "scattercarpet": [
           {
            "marker": {
             "colorbar": {
              "outlinewidth": 0,
              "ticks": ""
             }
            },
            "type": "scattercarpet"
           }
          ],
          "scattergeo": [
           {
            "marker": {
             "colorbar": {
              "outlinewidth": 0,
              "ticks": ""
             }
            },
            "type": "scattergeo"
           }
          ],
          "scattergl": [
           {
            "marker": {
             "colorbar": {
              "outlinewidth": 0,
              "ticks": ""
             }
            },
            "type": "scattergl"
           }
          ],
          "scattermapbox": [
           {
            "marker": {
             "colorbar": {
              "outlinewidth": 0,
              "ticks": ""
             }
            },
            "type": "scattermapbox"
           }
          ],
          "scatterpolargl": [
           {
            "marker": {
             "colorbar": {
              "outlinewidth": 0,
              "ticks": ""
             }
            },
            "type": "scatterpolargl"
           }
          ],
          "scatterpolar": [
           {
            "marker": {
             "colorbar": {
              "outlinewidth": 0,
              "ticks": ""
             }
            },
            "type": "scatterpolar"
           }
          ],
          "scatter": [
           {
            "fillpattern": {
             "fillmode": "overlay",
             "size": 10,
             "solidity": 0.2
            },
            "type": "scatter"
           }
          ],
          "scatterternary": [
           {
            "marker": {
             "colorbar": {
              "outlinewidth": 0,
              "ticks": ""
             }
            },
            "type": "scatterternary"
           }
          ],
          "surface": [
           {
            "colorbar": {
             "outlinewidth": 0,
             "ticks": ""
            },
            "colorscale": [
             [
              0,
              "#0d0887"
             ],
             [
              0.1111111111111111,
              "#46039f"
             ],
             [
              0.2222222222222222,
              "#7201a8"
             ],
             [
              0.3333333333333333,
              "#9c179e"
             ],
             [
              0.4444444444444444,
              "#bd3786"
             ],
             [
              0.5555555555555556,
              "#d8576b"
             ],
             [
              0.6666666666666666,
              "#ed7953"
             ],
             [
              0.7777777777777778,
              "#fb9f3a"
             ],
             [
              0.8888888888888888,
              "#fdca26"
             ],
             [
              1,
              "#f0f921"
             ]
            ],
            "type": "surface"
           }
          ],
          "table": [
           {
            "cells": {
             "fill": {
              "color": "#EBF0F8"
             },
             "line": {
              "color": "white"
             }
            },
            "header": {
             "fill": {
              "color": "#C8D4E3"
             },
             "line": {
              "color": "white"
             }
            },
            "type": "table"
           }
          ]
         },
         "layout": {
          "annotationdefaults": {
           "arrowcolor": "#2a3f5f",
           "arrowhead": 0,
           "arrowwidth": 1
          },
          "autotypenumbers": "strict",
          "coloraxis": {
           "colorbar": {
            "outlinewidth": 0,
            "ticks": ""
           }
          },
          "colorscale": {
           "diverging": [
            [
             0,
             "#8e0152"
            ],
            [
             0.1,
             "#c51b7d"
            ],
            [
             0.2,
             "#de77ae"
            ],
            [
             0.3,
             "#f1b6da"
            ],
            [
             0.4,
             "#fde0ef"
            ],
            [
             0.5,
             "#f7f7f7"
            ],
            [
             0.6,
             "#e6f5d0"
            ],
            [
             0.7,
             "#b8e186"
            ],
            [
             0.8,
             "#7fbc41"
            ],
            [
             0.9,
             "#4d9221"
            ],
            [
             1,
             "#276419"
            ]
           ],
           "sequential": [
            [
             0,
             "#0d0887"
            ],
            [
             0.1111111111111111,
             "#46039f"
            ],
            [
             0.2222222222222222,
             "#7201a8"
            ],
            [
             0.3333333333333333,
             "#9c179e"
            ],
            [
             0.4444444444444444,
             "#bd3786"
            ],
            [
             0.5555555555555556,
             "#d8576b"
            ],
            [
             0.6666666666666666,
             "#ed7953"
            ],
            [
             0.7777777777777778,
             "#fb9f3a"
            ],
            [
             0.8888888888888888,
             "#fdca26"
            ],
            [
             1,
             "#f0f921"
            ]
           ],
           "sequentialminus": [
            [
             0,
             "#0d0887"
            ],
            [
             0.1111111111111111,
             "#46039f"
            ],
            [
             0.2222222222222222,
             "#7201a8"
            ],
            [
             0.3333333333333333,
             "#9c179e"
            ],
            [
             0.4444444444444444,
             "#bd3786"
            ],
            [
             0.5555555555555556,
             "#d8576b"
            ],
            [
             0.6666666666666666,
             "#ed7953"
            ],
            [
             0.7777777777777778,
             "#fb9f3a"
            ],
            [
             0.8888888888888888,
             "#fdca26"
            ],
            [
             1,
             "#f0f921"
            ]
           ]
          },
          "colorway": [
           "#636efa",
           "#EF553B",
           "#00cc96",
           "#ab63fa",
           "#FFA15A",
           "#19d3f3",
           "#FF6692",
           "#B6E880",
           "#FF97FF",
           "#FECB52"
          ],
          "font": {
           "color": "#2a3f5f"
          },
          "geo": {
           "bgcolor": "white",
           "lakecolor": "white",
           "landcolor": "white",
           "showlakes": true,
           "showland": true,
           "subunitcolor": "#C8D4E3"
          },
          "hoverlabel": {
           "align": "left"
          },
          "hovermode": "closest",
          "mapbox": {
           "style": "light"
          },
          "paper_bgcolor": "white",
          "plot_bgcolor": "white",
          "polar": {
           "angularaxis": {
            "gridcolor": "#EBF0F8",
            "linecolor": "#EBF0F8",
            "ticks": ""
           },
           "bgcolor": "white",
           "radialaxis": {
            "gridcolor": "#EBF0F8",
            "linecolor": "#EBF0F8",
            "ticks": ""
           }
          },
          "scene": {
           "xaxis": {
            "backgroundcolor": "white",
            "gridcolor": "#DFE8F3",
            "gridwidth": 2,
            "linecolor": "#EBF0F8",
            "showbackground": true,
            "ticks": "",
            "zerolinecolor": "#EBF0F8"
           },
           "yaxis": {
            "backgroundcolor": "white",
            "gridcolor": "#DFE8F3",
            "gridwidth": 2,
            "linecolor": "#EBF0F8",
            "showbackground": true,
            "ticks": "",
            "zerolinecolor": "#EBF0F8"
           },
           "zaxis": {
            "backgroundcolor": "white",
            "gridcolor": "#DFE8F3",
            "gridwidth": 2,
            "linecolor": "#EBF0F8",
            "showbackground": true,
            "ticks": "",
            "zerolinecolor": "#EBF0F8"
           }
          },
          "shapedefaults": {
           "line": {
            "color": "#2a3f5f"
           }
          },
          "ternary": {
           "aaxis": {
            "gridcolor": "#DFE8F3",
            "linecolor": "#A2B1C6",
            "ticks": ""
           },
           "baxis": {
            "gridcolor": "#DFE8F3",
            "linecolor": "#A2B1C6",
            "ticks": ""
           },
           "bgcolor": "white",
           "caxis": {
            "gridcolor": "#DFE8F3",
            "linecolor": "#A2B1C6",
            "ticks": ""
           }
          },
          "title": {
           "x": 0.05
          },
          "xaxis": {
           "automargin": true,
           "gridcolor": "#EBF0F8",
           "linecolor": "#EBF0F8",
           "ticks": "",
           "title": {
            "standoff": 15
           },
           "zerolinecolor": "#EBF0F8",
           "zerolinewidth": 2
          },
          "yaxis": {
           "automargin": true,
           "gridcolor": "#EBF0F8",
           "linecolor": "#EBF0F8",
           "ticks": "",
           "title": {
            "standoff": 15
           },
           "zerolinecolor": "#EBF0F8",
           "zerolinewidth": 2
          }
         }
        },
        "xaxis": {
         "anchor": "y",
         "domain": [
          0,
          1
         ],
         "title": {},
         "categoryorder": "array",
         "categoryarray": [
          "France Info",
          "RFI",
          "France Inter",
          "France Culture",
          "BFM Business Radio",
          "Radio Classique",
          "Nostalgie",
          "RTL",
          "RMC",
          "Chérie FM",
          "RTL2",
          "France Musique",
          "Fun Radio",
          "Guadeloupe 1ère",
          "NRJ"
         ],
         "tickangle": -45
        },
        "yaxis": {
         "anchor": "x",
         "domain": [
          0,
          1
         ],
         "title": {
          "text": "% du volume médiatique"
         },
         "tickformat": "0%"
        },
        "legend": {
         "title": {
          "text": ""
         },
         "tracegroupgap": 0
        },
        "margin": {
         "t": 60,
         "b": 100
        },
        "barmode": "relative",
        "height": 400,
        "font": {
         "family": "Poppins"
        },
        "title": {
         "text": "Classement Radio"
        }
       },
       "config": {
        "plotlyServerURL": "https://plot.ly"
       }
      }
     },
     "metadata": {}
    }
   ],
   "metadata": {
    "scrolled": false
   }
  },
  {
   "cell_type": "markdown",
   "source": [
    "# Autres sujets écologiques"
   ],
   "metadata": {}
  },
  {
   "cell_type": "code",
   "execution_count": 27,
   "source": [
    "data_total = read_and_format_all_data_dump(path_folder = \"../../data/cop27/0911/\",path_channel_metadata=None)\n",
    "\n",
    "data_total[\"channel_id\"] = data_total[\"channel_name\"] + \"_\" + data_total[\"media\"]\n",
    "data_total = data_total.merge(top_audiences[[\"channel_id\",\"type\"]],on = [\"channel_id\"],how = \"inner\")\n",
    "\n",
    "data_total.loc[data_total[\"media\"]==\"TV\",\"media2\"] = \"TV\" + \" - \" + data_total[\"type\"]\n",
    "data_total.loc[data_total[\"media\"]==\"Radio\",\"media2\"] = \"Radio\"\n",
    "\n",
    "data_total = filter_data_between_hours(data_total,\"06:00\",\"24:00\")\n",
    "\n",
    "data_total.loc[data_total[\"keywords\"].map(lambda x : \"COP27\" in x),\"keyword\"] = \"COP27\"\n",
    "\n",
    "data_total.shape"
   ],
   "outputs": [
    {
     "output_type": "execute_result",
     "data": {
      "text/plain": [
       "(595, 18)"
      ]
     },
     "metadata": {},
     "execution_count": 27
    }
   ],
   "metadata": {}
  },
  {
   "cell_type": "code",
   "execution_count": 28,
   "source": [
    "# Multiplier = n_mentions * 2 min / (n_channels * 60 minutes * 18h * n_days)\n",
    "n_days = 1\n",
    "\n",
    "media_time = data_total.groupby([\"media\"]).agg({\"count\":\"sum\",\"channel_name\":\"nunique\"})\n",
    "media_time[\"n_channels\"] = 25\n",
    "media_time = media_time.append(pd.DataFrame(media_time.sum(axis = 0).rename(\"Total\")).T)\n",
    "media_time[\"media_time\"] = media_time[\"count\"] * 2\n",
    "media_time[\"total_time\"] = media_time[\"n_channels\"] * n_days * 18 * 60\n",
    "media_time[\"media_part\"] = media_time[\"media_time\"] / media_time[\"total_time\"]\n",
    "\n",
    "fig = px.bar(media_time.reset_index(),x = \"index\",y = \"media_part\",height = 400,text_auto = \".1%\")\n",
    "fig.update_layout(yaxis_tickformat='0%',\n",
    "                  title = \"Volume médiatique total sur les 50 chaînes TV et Radio\",\n",
    "                  font_family=\"Poppins\",yaxis_title=\"% du volume médiatique\",xaxis_title = \"\")\n",
    "fig.update_traces(marker_color=[COLOR_RADIO,COLOR_TV])\n",
    "fig.show()"
   ],
   "outputs": [
    {
     "output_type": "stream",
     "name": "stderr",
     "text": [
      "/var/folders/v6/vd9wd_yd6sq8q9yr7gjwfrfc0000gn/T/ipykernel_35457/2878716342.py:6: FutureWarning:\n",
      "\n",
      "The frame.append method is deprecated and will be removed from pandas in a future version. Use pandas.concat instead.\n",
      "\n"
     ]
    },
    {
     "output_type": "display_data",
     "data": {
      "application/vnd.plotly.v1+json": {
       "data": [
        {
         "alignmentgroup": "True",
         "hovertemplate": "index=%{x}<br>media_part=%{y}<extra></extra>",
         "legendgroup": "",
         "marker": {
          "color": [
           "#08306b",
           "#08519c"
          ],
          "pattern": {
           "shape": ""
          }
         },
         "name": "",
         "offsetgroup": "",
         "orientation": "v",
         "showlegend": false,
         "textposition": "auto",
         "texttemplate": "%{y:.1%}",
         "x": [
          "Radio",
          "TV",
          "Total"
         ],
         "xaxis": "x",
         "y": [
          0.02562962962962963,
          0.018444444444444444,
          0.022037037037037036
         ],
         "yaxis": "y",
         "type": "bar"
        }
       ],
       "layout": {
        "template": {
         "data": {
          "barpolar": [
           {
            "marker": {
             "line": {
              "color": "white",
              "width": 0.5
             },
             "pattern": {
              "fillmode": "overlay",
              "size": 10,
              "solidity": 0.2
             }
            },
            "type": "barpolar"
           }
          ],
          "bar": [
           {
            "error_x": {
             "color": "#2a3f5f"
            },
            "error_y": {
             "color": "#2a3f5f"
            },
            "marker": {
             "line": {
              "color": "white",
              "width": 0.5
             },
             "pattern": {
              "fillmode": "overlay",
              "size": 10,
              "solidity": 0.2
             }
            },
            "type": "bar"
           }
          ],
          "carpet": [
           {
            "aaxis": {
             "endlinecolor": "#2a3f5f",
             "gridcolor": "#C8D4E3",
             "linecolor": "#C8D4E3",
             "minorgridcolor": "#C8D4E3",
             "startlinecolor": "#2a3f5f"
            },
            "baxis": {
             "endlinecolor": "#2a3f5f",
             "gridcolor": "#C8D4E3",
             "linecolor": "#C8D4E3",
             "minorgridcolor": "#C8D4E3",
             "startlinecolor": "#2a3f5f"
            },
            "type": "carpet"
           }
          ],
          "choropleth": [
           {
            "colorbar": {
             "outlinewidth": 0,
             "ticks": ""
            },
            "type": "choropleth"
           }
          ],
          "contourcarpet": [
           {
            "colorbar": {
             "outlinewidth": 0,
             "ticks": ""
            },
            "type": "contourcarpet"
           }
          ],
          "contour": [
           {
            "colorbar": {
             "outlinewidth": 0,
             "ticks": ""
            },
            "colorscale": [
             [
              0,
              "#0d0887"
             ],
             [
              0.1111111111111111,
              "#46039f"
             ],
             [
              0.2222222222222222,
              "#7201a8"
             ],
             [
              0.3333333333333333,
              "#9c179e"
             ],
             [
              0.4444444444444444,
              "#bd3786"
             ],
             [
              0.5555555555555556,
              "#d8576b"
             ],
             [
              0.6666666666666666,
              "#ed7953"
             ],
             [
              0.7777777777777778,
              "#fb9f3a"
             ],
             [
              0.8888888888888888,
              "#fdca26"
             ],
             [
              1,
              "#f0f921"
             ]
            ],
            "type": "contour"
           }
          ],
          "heatmapgl": [
           {
            "colorbar": {
             "outlinewidth": 0,
             "ticks": ""
            },
            "colorscale": [
             [
              0,
              "#0d0887"
             ],
             [
              0.1111111111111111,
              "#46039f"
             ],
             [
              0.2222222222222222,
              "#7201a8"
             ],
             [
              0.3333333333333333,
              "#9c179e"
             ],
             [
              0.4444444444444444,
              "#bd3786"
             ],
             [
              0.5555555555555556,
              "#d8576b"
             ],
             [
              0.6666666666666666,
              "#ed7953"
             ],
             [
              0.7777777777777778,
              "#fb9f3a"
             ],
             [
              0.8888888888888888,
              "#fdca26"
             ],
             [
              1,
              "#f0f921"
             ]
            ],
            "type": "heatmapgl"
           }
          ],
          "heatmap": [
           {
            "colorbar": {
             "outlinewidth": 0,
             "ticks": ""
            },
            "colorscale": [
             [
              0,
              "#0d0887"
             ],
             [
              0.1111111111111111,
              "#46039f"
             ],
             [
              0.2222222222222222,
              "#7201a8"
             ],
             [
              0.3333333333333333,
              "#9c179e"
             ],
             [
              0.4444444444444444,
              "#bd3786"
             ],
             [
              0.5555555555555556,
              "#d8576b"
             ],
             [
              0.6666666666666666,
              "#ed7953"
             ],
             [
              0.7777777777777778,
              "#fb9f3a"
             ],
             [
              0.8888888888888888,
              "#fdca26"
             ],
             [
              1,
              "#f0f921"
             ]
            ],
            "type": "heatmap"
           }
          ],
          "histogram2dcontour": [
           {
            "colorbar": {
             "outlinewidth": 0,
             "ticks": ""
            },
            "colorscale": [
             [
              0,
              "#0d0887"
             ],
             [
              0.1111111111111111,
              "#46039f"
             ],
             [
              0.2222222222222222,
              "#7201a8"
             ],
             [
              0.3333333333333333,
              "#9c179e"
             ],
             [
              0.4444444444444444,
              "#bd3786"
             ],
             [
              0.5555555555555556,
              "#d8576b"
             ],
             [
              0.6666666666666666,
              "#ed7953"
             ],
             [
              0.7777777777777778,
              "#fb9f3a"
             ],
             [
              0.8888888888888888,
              "#fdca26"
             ],
             [
              1,
              "#f0f921"
             ]
            ],
            "type": "histogram2dcontour"
           }
          ],
          "histogram2d": [
           {
            "colorbar": {
             "outlinewidth": 0,
             "ticks": ""
            },
            "colorscale": [
             [
              0,
              "#0d0887"
             ],
             [
              0.1111111111111111,
              "#46039f"
             ],
             [
              0.2222222222222222,
              "#7201a8"
             ],
             [
              0.3333333333333333,
              "#9c179e"
             ],
             [
              0.4444444444444444,
              "#bd3786"
             ],
             [
              0.5555555555555556,
              "#d8576b"
             ],
             [
              0.6666666666666666,
              "#ed7953"
             ],
             [
              0.7777777777777778,
              "#fb9f3a"
             ],
             [
              0.8888888888888888,
              "#fdca26"
             ],
             [
              1,
              "#f0f921"
             ]
            ],
            "type": "histogram2d"
           }
          ],
          "histogram": [
           {
            "marker": {
             "pattern": {
              "fillmode": "overlay",
              "size": 10,
              "solidity": 0.2
             }
            },
            "type": "histogram"
           }
          ],
          "mesh3d": [
           {
            "colorbar": {
             "outlinewidth": 0,
             "ticks": ""
            },
            "type": "mesh3d"
           }
          ],
          "parcoords": [
           {
            "line": {
             "colorbar": {
              "outlinewidth": 0,
              "ticks": ""
             }
            },
            "type": "parcoords"
           }
          ],
          "pie": [
           {
            "automargin": true,
            "type": "pie"
           }
          ],
          "scatter3d": [
           {
            "line": {
             "colorbar": {
              "outlinewidth": 0,
              "ticks": ""
             }
            },
            "marker": {
             "colorbar": {
              "outlinewidth": 0,
              "ticks": ""
             }
            },
            "type": "scatter3d"
           }
          ],
          "scattercarpet": [
           {
            "marker": {
             "colorbar": {
              "outlinewidth": 0,
              "ticks": ""
             }
            },
            "type": "scattercarpet"
           }
          ],
          "scattergeo": [
           {
            "marker": {
             "colorbar": {
              "outlinewidth": 0,
              "ticks": ""
             }
            },
            "type": "scattergeo"
           }
          ],
          "scattergl": [
           {
            "marker": {
             "colorbar": {
              "outlinewidth": 0,
              "ticks": ""
             }
            },
            "type": "scattergl"
           }
          ],
          "scattermapbox": [
           {
            "marker": {
             "colorbar": {
              "outlinewidth": 0,
              "ticks": ""
             }
            },
            "type": "scattermapbox"
           }
          ],
          "scatterpolargl": [
           {
            "marker": {
             "colorbar": {
              "outlinewidth": 0,
              "ticks": ""
             }
            },
            "type": "scatterpolargl"
           }
          ],
          "scatterpolar": [
           {
            "marker": {
             "colorbar": {
              "outlinewidth": 0,
              "ticks": ""
             }
            },
            "type": "scatterpolar"
           }
          ],
          "scatter": [
           {
            "fillpattern": {
             "fillmode": "overlay",
             "size": 10,
             "solidity": 0.2
            },
            "type": "scatter"
           }
          ],
          "scatterternary": [
           {
            "marker": {
             "colorbar": {
              "outlinewidth": 0,
              "ticks": ""
             }
            },
            "type": "scatterternary"
           }
          ],
          "surface": [
           {
            "colorbar": {
             "outlinewidth": 0,
             "ticks": ""
            },
            "colorscale": [
             [
              0,
              "#0d0887"
             ],
             [
              0.1111111111111111,
              "#46039f"
             ],
             [
              0.2222222222222222,
              "#7201a8"
             ],
             [
              0.3333333333333333,
              "#9c179e"
             ],
             [
              0.4444444444444444,
              "#bd3786"
             ],
             [
              0.5555555555555556,
              "#d8576b"
             ],
             [
              0.6666666666666666,
              "#ed7953"
             ],
             [
              0.7777777777777778,
              "#fb9f3a"
             ],
             [
              0.8888888888888888,
              "#fdca26"
             ],
             [
              1,
              "#f0f921"
             ]
            ],
            "type": "surface"
           }
          ],
          "table": [
           {
            "cells": {
             "fill": {
              "color": "#EBF0F8"
             },
             "line": {
              "color": "white"
             }
            },
            "header": {
             "fill": {
              "color": "#C8D4E3"
             },
             "line": {
              "color": "white"
             }
            },
            "type": "table"
           }
          ]
         },
         "layout": {
          "annotationdefaults": {
           "arrowcolor": "#2a3f5f",
           "arrowhead": 0,
           "arrowwidth": 1
          },
          "autotypenumbers": "strict",
          "coloraxis": {
           "colorbar": {
            "outlinewidth": 0,
            "ticks": ""
           }
          },
          "colorscale": {
           "diverging": [
            [
             0,
             "#8e0152"
            ],
            [
             0.1,
             "#c51b7d"
            ],
            [
             0.2,
             "#de77ae"
            ],
            [
             0.3,
             "#f1b6da"
            ],
            [
             0.4,
             "#fde0ef"
            ],
            [
             0.5,
             "#f7f7f7"
            ],
            [
             0.6,
             "#e6f5d0"
            ],
            [
             0.7,
             "#b8e186"
            ],
            [
             0.8,
             "#7fbc41"
            ],
            [
             0.9,
             "#4d9221"
            ],
            [
             1,
             "#276419"
            ]
           ],
           "sequential": [
            [
             0,
             "#0d0887"
            ],
            [
             0.1111111111111111,
             "#46039f"
            ],
            [
             0.2222222222222222,
             "#7201a8"
            ],
            [
             0.3333333333333333,
             "#9c179e"
            ],
            [
             0.4444444444444444,
             "#bd3786"
            ],
            [
             0.5555555555555556,
             "#d8576b"
            ],
            [
             0.6666666666666666,
             "#ed7953"
            ],
            [
             0.7777777777777778,
             "#fb9f3a"
            ],
            [
             0.8888888888888888,
             "#fdca26"
            ],
            [
             1,
             "#f0f921"
            ]
           ],
           "sequentialminus": [
            [
             0,
             "#0d0887"
            ],
            [
             0.1111111111111111,
             "#46039f"
            ],
            [
             0.2222222222222222,
             "#7201a8"
            ],
            [
             0.3333333333333333,
             "#9c179e"
            ],
            [
             0.4444444444444444,
             "#bd3786"
            ],
            [
             0.5555555555555556,
             "#d8576b"
            ],
            [
             0.6666666666666666,
             "#ed7953"
            ],
            [
             0.7777777777777778,
             "#fb9f3a"
            ],
            [
             0.8888888888888888,
             "#fdca26"
            ],
            [
             1,
             "#f0f921"
            ]
           ]
          },
          "colorway": [
           "#636efa",
           "#EF553B",
           "#00cc96",
           "#ab63fa",
           "#FFA15A",
           "#19d3f3",
           "#FF6692",
           "#B6E880",
           "#FF97FF",
           "#FECB52"
          ],
          "font": {
           "color": "#2a3f5f"
          },
          "geo": {
           "bgcolor": "white",
           "lakecolor": "white",
           "landcolor": "white",
           "showlakes": true,
           "showland": true,
           "subunitcolor": "#C8D4E3"
          },
          "hoverlabel": {
           "align": "left"
          },
          "hovermode": "closest",
          "mapbox": {
           "style": "light"
          },
          "paper_bgcolor": "white",
          "plot_bgcolor": "white",
          "polar": {
           "angularaxis": {
            "gridcolor": "#EBF0F8",
            "linecolor": "#EBF0F8",
            "ticks": ""
           },
           "bgcolor": "white",
           "radialaxis": {
            "gridcolor": "#EBF0F8",
            "linecolor": "#EBF0F8",
            "ticks": ""
           }
          },
          "scene": {
           "xaxis": {
            "backgroundcolor": "white",
            "gridcolor": "#DFE8F3",
            "gridwidth": 2,
            "linecolor": "#EBF0F8",
            "showbackground": true,
            "ticks": "",
            "zerolinecolor": "#EBF0F8"
           },
           "yaxis": {
            "backgroundcolor": "white",
            "gridcolor": "#DFE8F3",
            "gridwidth": 2,
            "linecolor": "#EBF0F8",
            "showbackground": true,
            "ticks": "",
            "zerolinecolor": "#EBF0F8"
           },
           "zaxis": {
            "backgroundcolor": "white",
            "gridcolor": "#DFE8F3",
            "gridwidth": 2,
            "linecolor": "#EBF0F8",
            "showbackground": true,
            "ticks": "",
            "zerolinecolor": "#EBF0F8"
           }
          },
          "shapedefaults": {
           "line": {
            "color": "#2a3f5f"
           }
          },
          "ternary": {
           "aaxis": {
            "gridcolor": "#DFE8F3",
            "linecolor": "#A2B1C6",
            "ticks": ""
           },
           "baxis": {
            "gridcolor": "#DFE8F3",
            "linecolor": "#A2B1C6",
            "ticks": ""
           },
           "bgcolor": "white",
           "caxis": {
            "gridcolor": "#DFE8F3",
            "linecolor": "#A2B1C6",
            "ticks": ""
           }
          },
          "title": {
           "x": 0.05
          },
          "xaxis": {
           "automargin": true,
           "gridcolor": "#EBF0F8",
           "linecolor": "#EBF0F8",
           "ticks": "",
           "title": {
            "standoff": 15
           },
           "zerolinecolor": "#EBF0F8",
           "zerolinewidth": 2
          },
          "yaxis": {
           "automargin": true,
           "gridcolor": "#EBF0F8",
           "linecolor": "#EBF0F8",
           "ticks": "",
           "title": {
            "standoff": 15
           },
           "zerolinecolor": "#EBF0F8",
           "zerolinewidth": 2
          }
         }
        },
        "xaxis": {
         "anchor": "y",
         "domain": [
          0,
          1
         ],
         "title": {
          "text": ""
         }
        },
        "yaxis": {
         "anchor": "x",
         "domain": [
          0,
          1
         ],
         "title": {
          "text": "% du volume médiatique"
         },
         "tickformat": "0%"
        },
        "legend": {
         "tracegroupgap": 0
        },
        "margin": {
         "t": 60
        },
        "barmode": "relative",
        "height": 400,
        "font": {
         "family": "Poppins"
        },
        "title": {
         "text": "Volume médiatique total sur les 50 chaînes TV et Radio"
        }
       },
       "config": {
        "plotlyServerURL": "https://plot.ly"
       }
      }
     },
     "metadata": {}
    }
   ],
   "metadata": {}
  },
  {
   "cell_type": "code",
   "execution_count": 29,
   "source": [
    "# Multiplier = n_mentions * 2 min / (n_channels * 60 minutes * 18h * n_days)\n",
    "n_days = 1\n",
    "\n",
    "media_time = data_total.groupby([\"media2\"]).agg({\"count\":\"sum\",\"channel_name\":\"nunique\"})\n",
    "media_time.loc[\"Radio\",\"n_channels\"] = 25\n",
    "media_time.loc[\"TV - Généraliste\",\"n_channels\"] = 19\n",
    "media_time.loc[\"TV - Information en continu\",\"n_channels\"] = 6\n",
    "media_time = media_time.append(pd.DataFrame(media_time.sum(axis = 0).rename(\"Total\")).T)\n",
    "media_time[\"media_time\"] = media_time[\"count\"] * 2\n",
    "media_time[\"total_time\"] = media_time[\"n_channels\"] * n_days * 18 * 60\n",
    "media_time[\"media_part\"] = media_time[\"media_time\"] / media_time[\"total_time\"]\n",
    "\n",
    "fig = px.bar(media_time.reset_index(),x = \"index\",y = \"media_part\",height = 400,text_auto = \".1%\")\n",
    "fig.update_layout(yaxis_tickformat='0%',\n",
    "                  title = \"Volume médiatique total sur les 50 chaînes TV et Radio\",\n",
    "                  font_family=\"Poppins\",yaxis_title=\"% du volume médiatique\",xaxis_title = \"\")\n",
    "fig.update_traces(marker_color=[COLOR_RADIO,COLOR_TV,COLOR_TV])\n",
    "fig.show()"
   ],
   "outputs": [
    {
     "output_type": "stream",
     "name": "stderr",
     "text": [
      "/var/folders/v6/vd9wd_yd6sq8q9yr7gjwfrfc0000gn/T/ipykernel_35457/2475719873.py:8: FutureWarning:\n",
      "\n",
      "The frame.append method is deprecated and will be removed from pandas in a future version. Use pandas.concat instead.\n",
      "\n"
     ]
    },
    {
     "output_type": "display_data",
     "data": {
      "application/vnd.plotly.v1+json": {
       "data": [
        {
         "alignmentgroup": "True",
         "hovertemplate": "index=%{x}<br>media_part=%{y}<extra></extra>",
         "legendgroup": "",
         "marker": {
          "color": [
           "#08306b",
           "#08519c",
           "#08519c"
          ],
          "pattern": {
           "shape": ""
          }
         },
         "name": "",
         "offsetgroup": "",
         "orientation": "v",
         "showlegend": false,
         "textposition": "auto",
         "texttemplate": "%{y:.1%}",
         "x": [
          "Radio",
          "TV - Généraliste",
          "TV - Information en continu",
          "Total"
         ],
         "xaxis": "x",
         "y": [
          0.02562962962962963,
          0.006920077972709552,
          0.05493827160493827,
          0.022037037037037036
         ],
         "yaxis": "y",
         "type": "bar"
        }
       ],
       "layout": {
        "template": {
         "data": {
          "barpolar": [
           {
            "marker": {
             "line": {
              "color": "white",
              "width": 0.5
             },
             "pattern": {
              "fillmode": "overlay",
              "size": 10,
              "solidity": 0.2
             }
            },
            "type": "barpolar"
           }
          ],
          "bar": [
           {
            "error_x": {
             "color": "#2a3f5f"
            },
            "error_y": {
             "color": "#2a3f5f"
            },
            "marker": {
             "line": {
              "color": "white",
              "width": 0.5
             },
             "pattern": {
              "fillmode": "overlay",
              "size": 10,
              "solidity": 0.2
             }
            },
            "type": "bar"
           }
          ],
          "carpet": [
           {
            "aaxis": {
             "endlinecolor": "#2a3f5f",
             "gridcolor": "#C8D4E3",
             "linecolor": "#C8D4E3",
             "minorgridcolor": "#C8D4E3",
             "startlinecolor": "#2a3f5f"
            },
            "baxis": {
             "endlinecolor": "#2a3f5f",
             "gridcolor": "#C8D4E3",
             "linecolor": "#C8D4E3",
             "minorgridcolor": "#C8D4E3",
             "startlinecolor": "#2a3f5f"
            },
            "type": "carpet"
           }
          ],
          "choropleth": [
           {
            "colorbar": {
             "outlinewidth": 0,
             "ticks": ""
            },
            "type": "choropleth"
           }
          ],
          "contourcarpet": [
           {
            "colorbar": {
             "outlinewidth": 0,
             "ticks": ""
            },
            "type": "contourcarpet"
           }
          ],
          "contour": [
           {
            "colorbar": {
             "outlinewidth": 0,
             "ticks": ""
            },
            "colorscale": [
             [
              0,
              "#0d0887"
             ],
             [
              0.1111111111111111,
              "#46039f"
             ],
             [
              0.2222222222222222,
              "#7201a8"
             ],
             [
              0.3333333333333333,
              "#9c179e"
             ],
             [
              0.4444444444444444,
              "#bd3786"
             ],
             [
              0.5555555555555556,
              "#d8576b"
             ],
             [
              0.6666666666666666,
              "#ed7953"
             ],
             [
              0.7777777777777778,
              "#fb9f3a"
             ],
             [
              0.8888888888888888,
              "#fdca26"
             ],
             [
              1,
              "#f0f921"
             ]
            ],
            "type": "contour"
           }
          ],
          "heatmapgl": [
           {
            "colorbar": {
             "outlinewidth": 0,
             "ticks": ""
            },
            "colorscale": [
             [
              0,
              "#0d0887"
             ],
             [
              0.1111111111111111,
              "#46039f"
             ],
             [
              0.2222222222222222,
              "#7201a8"
             ],
             [
              0.3333333333333333,
              "#9c179e"
             ],
             [
              0.4444444444444444,
              "#bd3786"
             ],
             [
              0.5555555555555556,
              "#d8576b"
             ],
             [
              0.6666666666666666,
              "#ed7953"
             ],
             [
              0.7777777777777778,
              "#fb9f3a"
             ],
             [
              0.8888888888888888,
              "#fdca26"
             ],
             [
              1,
              "#f0f921"
             ]
            ],
            "type": "heatmapgl"
           }
          ],
          "heatmap": [
           {
            "colorbar": {
             "outlinewidth": 0,
             "ticks": ""
            },
            "colorscale": [
             [
              0,
              "#0d0887"
             ],
             [
              0.1111111111111111,
              "#46039f"
             ],
             [
              0.2222222222222222,
              "#7201a8"
             ],
             [
              0.3333333333333333,
              "#9c179e"
             ],
             [
              0.4444444444444444,
              "#bd3786"
             ],
             [
              0.5555555555555556,
              "#d8576b"
             ],
             [
              0.6666666666666666,
              "#ed7953"
             ],
             [
              0.7777777777777778,
              "#fb9f3a"
             ],
             [
              0.8888888888888888,
              "#fdca26"
             ],
             [
              1,
              "#f0f921"
             ]
            ],
            "type": "heatmap"
           }
          ],
          "histogram2dcontour": [
           {
            "colorbar": {
             "outlinewidth": 0,
             "ticks": ""
            },
            "colorscale": [
             [
              0,
              "#0d0887"
             ],
             [
              0.1111111111111111,
              "#46039f"
             ],
             [
              0.2222222222222222,
              "#7201a8"
             ],
             [
              0.3333333333333333,
              "#9c179e"
             ],
             [
              0.4444444444444444,
              "#bd3786"
             ],
             [
              0.5555555555555556,
              "#d8576b"
             ],
             [
              0.6666666666666666,
              "#ed7953"
             ],
             [
              0.7777777777777778,
              "#fb9f3a"
             ],
             [
              0.8888888888888888,
              "#fdca26"
             ],
             [
              1,
              "#f0f921"
             ]
            ],
            "type": "histogram2dcontour"
           }
          ],
          "histogram2d": [
           {
            "colorbar": {
             "outlinewidth": 0,
             "ticks": ""
            },
            "colorscale": [
             [
              0,
              "#0d0887"
             ],
             [
              0.1111111111111111,
              "#46039f"
             ],
             [
              0.2222222222222222,
              "#7201a8"
             ],
             [
              0.3333333333333333,
              "#9c179e"
             ],
             [
              0.4444444444444444,
              "#bd3786"
             ],
             [
              0.5555555555555556,
              "#d8576b"
             ],
             [
              0.6666666666666666,
              "#ed7953"
             ],
             [
              0.7777777777777778,
              "#fb9f3a"
             ],
             [
              0.8888888888888888,
              "#fdca26"
             ],
             [
              1,
              "#f0f921"
             ]
            ],
            "type": "histogram2d"
           }
          ],
          "histogram": [
           {
            "marker": {
             "pattern": {
              "fillmode": "overlay",
              "size": 10,
              "solidity": 0.2
             }
            },
            "type": "histogram"
           }
          ],
          "mesh3d": [
           {
            "colorbar": {
             "outlinewidth": 0,
             "ticks": ""
            },
            "type": "mesh3d"
           }
          ],
          "parcoords": [
           {
            "line": {
             "colorbar": {
              "outlinewidth": 0,
              "ticks": ""
             }
            },
            "type": "parcoords"
           }
          ],
          "pie": [
           {
            "automargin": true,
            "type": "pie"
           }
          ],
          "scatter3d": [
           {
            "line": {
             "colorbar": {
              "outlinewidth": 0,
              "ticks": ""
             }
            },
            "marker": {
             "colorbar": {
              "outlinewidth": 0,
              "ticks": ""
             }
            },
            "type": "scatter3d"
           }
          ],
          "scattercarpet": [
           {
            "marker": {
             "colorbar": {
              "outlinewidth": 0,
              "ticks": ""
             }
            },
            "type": "scattercarpet"
           }
          ],
          "scattergeo": [
           {
            "marker": {
             "colorbar": {
              "outlinewidth": 0,
              "ticks": ""
             }
            },
            "type": "scattergeo"
           }
          ],
          "scattergl": [
           {
            "marker": {
             "colorbar": {
              "outlinewidth": 0,
              "ticks": ""
             }
            },
            "type": "scattergl"
           }
          ],
          "scattermapbox": [
           {
            "marker": {
             "colorbar": {
              "outlinewidth": 0,
              "ticks": ""
             }
            },
            "type": "scattermapbox"
           }
          ],
          "scatterpolargl": [
           {
            "marker": {
             "colorbar": {
              "outlinewidth": 0,
              "ticks": ""
             }
            },
            "type": "scatterpolargl"
           }
          ],
          "scatterpolar": [
           {
            "marker": {
             "colorbar": {
              "outlinewidth": 0,
              "ticks": ""
             }
            },
            "type": "scatterpolar"
           }
          ],
          "scatter": [
           {
            "fillpattern": {
             "fillmode": "overlay",
             "size": 10,
             "solidity": 0.2
            },
            "type": "scatter"
           }
          ],
          "scatterternary": [
           {
            "marker": {
             "colorbar": {
              "outlinewidth": 0,
              "ticks": ""
             }
            },
            "type": "scatterternary"
           }
          ],
          "surface": [
           {
            "colorbar": {
             "outlinewidth": 0,
             "ticks": ""
            },
            "colorscale": [
             [
              0,
              "#0d0887"
             ],
             [
              0.1111111111111111,
              "#46039f"
             ],
             [
              0.2222222222222222,
              "#7201a8"
             ],
             [
              0.3333333333333333,
              "#9c179e"
             ],
             [
              0.4444444444444444,
              "#bd3786"
             ],
             [
              0.5555555555555556,
              "#d8576b"
             ],
             [
              0.6666666666666666,
              "#ed7953"
             ],
             [
              0.7777777777777778,
              "#fb9f3a"
             ],
             [
              0.8888888888888888,
              "#fdca26"
             ],
             [
              1,
              "#f0f921"
             ]
            ],
            "type": "surface"
           }
          ],
          "table": [
           {
            "cells": {
             "fill": {
              "color": "#EBF0F8"
             },
             "line": {
              "color": "white"
             }
            },
            "header": {
             "fill": {
              "color": "#C8D4E3"
             },
             "line": {
              "color": "white"
             }
            },
            "type": "table"
           }
          ]
         },
         "layout": {
          "annotationdefaults": {
           "arrowcolor": "#2a3f5f",
           "arrowhead": 0,
           "arrowwidth": 1
          },
          "autotypenumbers": "strict",
          "coloraxis": {
           "colorbar": {
            "outlinewidth": 0,
            "ticks": ""
           }
          },
          "colorscale": {
           "diverging": [
            [
             0,
             "#8e0152"
            ],
            [
             0.1,
             "#c51b7d"
            ],
            [
             0.2,
             "#de77ae"
            ],
            [
             0.3,
             "#f1b6da"
            ],
            [
             0.4,
             "#fde0ef"
            ],
            [
             0.5,
             "#f7f7f7"
            ],
            [
             0.6,
             "#e6f5d0"
            ],
            [
             0.7,
             "#b8e186"
            ],
            [
             0.8,
             "#7fbc41"
            ],
            [
             0.9,
             "#4d9221"
            ],
            [
             1,
             "#276419"
            ]
           ],
           "sequential": [
            [
             0,
             "#0d0887"
            ],
            [
             0.1111111111111111,
             "#46039f"
            ],
            [
             0.2222222222222222,
             "#7201a8"
            ],
            [
             0.3333333333333333,
             "#9c179e"
            ],
            [
             0.4444444444444444,
             "#bd3786"
            ],
            [
             0.5555555555555556,
             "#d8576b"
            ],
            [
             0.6666666666666666,
             "#ed7953"
            ],
            [
             0.7777777777777778,
             "#fb9f3a"
            ],
            [
             0.8888888888888888,
             "#fdca26"
            ],
            [
             1,
             "#f0f921"
            ]
           ],
           "sequentialminus": [
            [
             0,
             "#0d0887"
            ],
            [
             0.1111111111111111,
             "#46039f"
            ],
            [
             0.2222222222222222,
             "#7201a8"
            ],
            [
             0.3333333333333333,
             "#9c179e"
            ],
            [
             0.4444444444444444,
             "#bd3786"
            ],
            [
             0.5555555555555556,
             "#d8576b"
            ],
            [
             0.6666666666666666,
             "#ed7953"
            ],
            [
             0.7777777777777778,
             "#fb9f3a"
            ],
            [
             0.8888888888888888,
             "#fdca26"
            ],
            [
             1,
             "#f0f921"
            ]
           ]
          },
          "colorway": [
           "#636efa",
           "#EF553B",
           "#00cc96",
           "#ab63fa",
           "#FFA15A",
           "#19d3f3",
           "#FF6692",
           "#B6E880",
           "#FF97FF",
           "#FECB52"
          ],
          "font": {
           "color": "#2a3f5f"
          },
          "geo": {
           "bgcolor": "white",
           "lakecolor": "white",
           "landcolor": "white",
           "showlakes": true,
           "showland": true,
           "subunitcolor": "#C8D4E3"
          },
          "hoverlabel": {
           "align": "left"
          },
          "hovermode": "closest",
          "mapbox": {
           "style": "light"
          },
          "paper_bgcolor": "white",
          "plot_bgcolor": "white",
          "polar": {
           "angularaxis": {
            "gridcolor": "#EBF0F8",
            "linecolor": "#EBF0F8",
            "ticks": ""
           },
           "bgcolor": "white",
           "radialaxis": {
            "gridcolor": "#EBF0F8",
            "linecolor": "#EBF0F8",
            "ticks": ""
           }
          },
          "scene": {
           "xaxis": {
            "backgroundcolor": "white",
            "gridcolor": "#DFE8F3",
            "gridwidth": 2,
            "linecolor": "#EBF0F8",
            "showbackground": true,
            "ticks": "",
            "zerolinecolor": "#EBF0F8"
           },
           "yaxis": {
            "backgroundcolor": "white",
            "gridcolor": "#DFE8F3",
            "gridwidth": 2,
            "linecolor": "#EBF0F8",
            "showbackground": true,
            "ticks": "",
            "zerolinecolor": "#EBF0F8"
           },
           "zaxis": {
            "backgroundcolor": "white",
            "gridcolor": "#DFE8F3",
            "gridwidth": 2,
            "linecolor": "#EBF0F8",
            "showbackground": true,
            "ticks": "",
            "zerolinecolor": "#EBF0F8"
           }
          },
          "shapedefaults": {
           "line": {
            "color": "#2a3f5f"
           }
          },
          "ternary": {
           "aaxis": {
            "gridcolor": "#DFE8F3",
            "linecolor": "#A2B1C6",
            "ticks": ""
           },
           "baxis": {
            "gridcolor": "#DFE8F3",
            "linecolor": "#A2B1C6",
            "ticks": ""
           },
           "bgcolor": "white",
           "caxis": {
            "gridcolor": "#DFE8F3",
            "linecolor": "#A2B1C6",
            "ticks": ""
           }
          },
          "title": {
           "x": 0.05
          },
          "xaxis": {
           "automargin": true,
           "gridcolor": "#EBF0F8",
           "linecolor": "#EBF0F8",
           "ticks": "",
           "title": {
            "standoff": 15
           },
           "zerolinecolor": "#EBF0F8",
           "zerolinewidth": 2
          },
          "yaxis": {
           "automargin": true,
           "gridcolor": "#EBF0F8",
           "linecolor": "#EBF0F8",
           "ticks": "",
           "title": {
            "standoff": 15
           },
           "zerolinecolor": "#EBF0F8",
           "zerolinewidth": 2
          }
         }
        },
        "xaxis": {
         "anchor": "y",
         "domain": [
          0,
          1
         ],
         "title": {
          "text": ""
         }
        },
        "yaxis": {
         "anchor": "x",
         "domain": [
          0,
          1
         ],
         "title": {
          "text": "% du volume médiatique"
         },
         "tickformat": "0%"
        },
        "legend": {
         "tracegroupgap": 0
        },
        "margin": {
         "t": 60
        },
        "barmode": "relative",
        "height": 400,
        "font": {
         "family": "Poppins"
        },
        "title": {
         "text": "Volume médiatique total sur les 50 chaînes TV et Radio"
        }
       },
       "config": {
        "plotlyServerURL": "https://plot.ly"
       }
      }
     },
     "metadata": {}
    }
   ],
   "metadata": {}
  },
  {
   "cell_type": "markdown",
   "source": [
    "## Analyse 3"
   ],
   "metadata": {}
  },
  {
   "cell_type": "code",
   "execution_count": 30,
   "source": [
    "DISCRETE_MAP = {\n",
    "    \"COP27\":WARMING_STRIPES_SEQUENCE[2],\n",
    "    \"écologie\":WARMING_STRIPES_SEQUENCE[0],\n",
    "}\n",
    "\n",
    "# Multiplier for one channel = n_mentions * 2 min / (60 minutes * 18h * n_days)\n",
    "multiplier = 2 / (1 * 60 * 18 * 1)\n",
    "\n",
    "fig = show_mentions_by_channel(data_total,list_of_channels=top_channels_tv_info,n = 25,split=\"keyword\",\n",
    "                               method = multiplier,height = 500,text_auto = \".1%\",\n",
    "                               color_discrete_map = DISCRETE_MAP,\n",
    "                              )\n",
    "fig.update_layout(yaxis_tickformat='0%',font_family=\"Poppins\",yaxis_title=\"% du volume médiatique\",\n",
    "                  title = \"Classement TV - Chaînes d'information en continu\",legend_title = \"\")\n",
    "# fig.update_traces(marker_color='#e6381b')\n",
    "fig.show()\n",
    "\n",
    "# Multiplier for one channel = n_mentions * 2 min / (60 minutes * 18h * n_days)\n",
    "multiplier = 2 / (1 * 60 * 18 * 1)\n",
    "\n",
    "fig = show_mentions_by_channel(data_total,list_of_channels=top_channels_tv_gen,n = 25,split=\"keyword\",\n",
    "                               method = multiplier,height = 500,text_auto = \".1%\",\n",
    "                               color_discrete_map = DISCRETE_MAP,\n",
    "                              )\n",
    "fig.update_layout(yaxis_tickformat='0%',font_family=\"Poppins\",yaxis_title=\"% du volume médiatique\",\n",
    "                  title = \"Classement TV - Chaînes généralistes\",legend_title = \"\")\n",
    "# fig.update_traces(marker_color='#e6381b')\n",
    "fig.show()\n",
    "\n",
    "\n",
    "# Multiplier for one channel = n_mentions * 2 min / (60 minutes * 18h * n_days)\n",
    "multiplier = 2 / (1 * 60 * 18 * 1)\n",
    "\n",
    "fig = show_mentions_by_channel(data_total,list_of_channels=top_channels_radio,n = 25,split = \"keyword\",\n",
    "                               method = multiplier,height = 500,text_auto = \".1%\",\n",
    "                               color_discrete_map = DISCRETE_MAP\n",
    "                              )\n",
    "fig.update_layout(yaxis_tickformat='0%',font_family=\"Poppins\",yaxis_title=\"% du volume médiatique\",title = \"Classement Radio\",legend_title = \"\")\n",
    "# fig.update_traces(marker_color='#f49182')\n",
    "fig.show()"
   ],
   "outputs": [
    {
     "output_type": "display_data",
     "data": {
      "application/vnd.plotly.v1+json": {
       "data": [
        {
         "alignmentgroup": "True",
         "hovertemplate": "keyword=écologie<br>channel_name=%{x}<br>count=%{y}<extra></extra>",
         "legendgroup": "écologie",
         "marker": {
          "color": "rgb(56, 166, 165)",
          "pattern": {
           "shape": ""
          }
         },
         "name": "écologie",
         "offsetgroup": "écologie",
         "orientation": "v",
         "showlegend": true,
         "textposition": "auto",
         "texttemplate": "%{y:.1%}",
         "x": [
          "France Info:",
          "LCP",
          "BFMTV",
          "CNEWS",
          "France 24",
          "LCI"
         ],
         "xaxis": "x",
         "y": [
          0.07777777777777778,
          0.037037037037037035,
          0.03333333333333333,
          0.031481481481481485,
          0.031481481481481485,
          0.005555555555555556
         ],
         "yaxis": "y",
         "type": "bar"
        },
        {
         "alignmentgroup": "True",
         "hovertemplate": "keyword=COP27<br>channel_name=%{x}<br>count=%{y}<extra></extra>",
         "legendgroup": "COP27",
         "marker": {
          "color": "#2171b5",
          "pattern": {
           "shape": ""
          }
         },
         "name": "COP27",
         "offsetgroup": "COP27",
         "orientation": "v",
         "showlegend": true,
         "textposition": "auto",
         "texttemplate": "%{y:.1%}",
         "x": [
          "France 24",
          "LCP",
          "France Info:",
          "BFMTV",
          "CNEWS",
          "LCI"
         ],
         "xaxis": "x",
         "y": [
          0.053703703703703705,
          0.022222222222222223,
          0.014814814814814815,
          0.009259259259259259,
          0.007407407407407408,
          0.005555555555555556
         ],
         "yaxis": "y",
         "type": "bar"
        }
       ],
       "layout": {
        "template": {
         "data": {
          "barpolar": [
           {
            "marker": {
             "line": {
              "color": "white",
              "width": 0.5
             },
             "pattern": {
              "fillmode": "overlay",
              "size": 10,
              "solidity": 0.2
             }
            },
            "type": "barpolar"
           }
          ],
          "bar": [
           {
            "error_x": {
             "color": "#2a3f5f"
            },
            "error_y": {
             "color": "#2a3f5f"
            },
            "marker": {
             "line": {
              "color": "white",
              "width": 0.5
             },
             "pattern": {
              "fillmode": "overlay",
              "size": 10,
              "solidity": 0.2
             }
            },
            "type": "bar"
           }
          ],
          "carpet": [
           {
            "aaxis": {
             "endlinecolor": "#2a3f5f",
             "gridcolor": "#C8D4E3",
             "linecolor": "#C8D4E3",
             "minorgridcolor": "#C8D4E3",
             "startlinecolor": "#2a3f5f"
            },
            "baxis": {
             "endlinecolor": "#2a3f5f",
             "gridcolor": "#C8D4E3",
             "linecolor": "#C8D4E3",
             "minorgridcolor": "#C8D4E3",
             "startlinecolor": "#2a3f5f"
            },
            "type": "carpet"
           }
          ],
          "choropleth": [
           {
            "colorbar": {
             "outlinewidth": 0,
             "ticks": ""
            },
            "type": "choropleth"
           }
          ],
          "contourcarpet": [
           {
            "colorbar": {
             "outlinewidth": 0,
             "ticks": ""
            },
            "type": "contourcarpet"
           }
          ],
          "contour": [
           {
            "colorbar": {
             "outlinewidth": 0,
             "ticks": ""
            },
            "colorscale": [
             [
              0,
              "#0d0887"
             ],
             [
              0.1111111111111111,
              "#46039f"
             ],
             [
              0.2222222222222222,
              "#7201a8"
             ],
             [
              0.3333333333333333,
              "#9c179e"
             ],
             [
              0.4444444444444444,
              "#bd3786"
             ],
             [
              0.5555555555555556,
              "#d8576b"
             ],
             [
              0.6666666666666666,
              "#ed7953"
             ],
             [
              0.7777777777777778,
              "#fb9f3a"
             ],
             [
              0.8888888888888888,
              "#fdca26"
             ],
             [
              1,
              "#f0f921"
             ]
            ],
            "type": "contour"
           }
          ],
          "heatmapgl": [
           {
            "colorbar": {
             "outlinewidth": 0,
             "ticks": ""
            },
            "colorscale": [
             [
              0,
              "#0d0887"
             ],
             [
              0.1111111111111111,
              "#46039f"
             ],
             [
              0.2222222222222222,
              "#7201a8"
             ],
             [
              0.3333333333333333,
              "#9c179e"
             ],
             [
              0.4444444444444444,
              "#bd3786"
             ],
             [
              0.5555555555555556,
              "#d8576b"
             ],
             [
              0.6666666666666666,
              "#ed7953"
             ],
             [
              0.7777777777777778,
              "#fb9f3a"
             ],
             [
              0.8888888888888888,
              "#fdca26"
             ],
             [
              1,
              "#f0f921"
             ]
            ],
            "type": "heatmapgl"
           }
          ],
          "heatmap": [
           {
            "colorbar": {
             "outlinewidth": 0,
             "ticks": ""
            },
            "colorscale": [
             [
              0,
              "#0d0887"
             ],
             [
              0.1111111111111111,
              "#46039f"
             ],
             [
              0.2222222222222222,
              "#7201a8"
             ],
             [
              0.3333333333333333,
              "#9c179e"
             ],
             [
              0.4444444444444444,
              "#bd3786"
             ],
             [
              0.5555555555555556,
              "#d8576b"
             ],
             [
              0.6666666666666666,
              "#ed7953"
             ],
             [
              0.7777777777777778,
              "#fb9f3a"
             ],
             [
              0.8888888888888888,
              "#fdca26"
             ],
             [
              1,
              "#f0f921"
             ]
            ],
            "type": "heatmap"
           }
          ],
          "histogram2dcontour": [
           {
            "colorbar": {
             "outlinewidth": 0,
             "ticks": ""
            },
            "colorscale": [
             [
              0,
              "#0d0887"
             ],
             [
              0.1111111111111111,
              "#46039f"
             ],
             [
              0.2222222222222222,
              "#7201a8"
             ],
             [
              0.3333333333333333,
              "#9c179e"
             ],
             [
              0.4444444444444444,
              "#bd3786"
             ],
             [
              0.5555555555555556,
              "#d8576b"
             ],
             [
              0.6666666666666666,
              "#ed7953"
             ],
             [
              0.7777777777777778,
              "#fb9f3a"
             ],
             [
              0.8888888888888888,
              "#fdca26"
             ],
             [
              1,
              "#f0f921"
             ]
            ],
            "type": "histogram2dcontour"
           }
          ],
          "histogram2d": [
           {
            "colorbar": {
             "outlinewidth": 0,
             "ticks": ""
            },
            "colorscale": [
             [
              0,
              "#0d0887"
             ],
             [
              0.1111111111111111,
              "#46039f"
             ],
             [
              0.2222222222222222,
              "#7201a8"
             ],
             [
              0.3333333333333333,
              "#9c179e"
             ],
             [
              0.4444444444444444,
              "#bd3786"
             ],
             [
              0.5555555555555556,
              "#d8576b"
             ],
             [
              0.6666666666666666,
              "#ed7953"
             ],
             [
              0.7777777777777778,
              "#fb9f3a"
             ],
             [
              0.8888888888888888,
              "#fdca26"
             ],
             [
              1,
              "#f0f921"
             ]
            ],
            "type": "histogram2d"
           }
          ],
          "histogram": [
           {
            "marker": {
             "pattern": {
              "fillmode": "overlay",
              "size": 10,
              "solidity": 0.2
             }
            },
            "type": "histogram"
           }
          ],
          "mesh3d": [
           {
            "colorbar": {
             "outlinewidth": 0,
             "ticks": ""
            },
            "type": "mesh3d"
           }
          ],
          "parcoords": [
           {
            "line": {
             "colorbar": {
              "outlinewidth": 0,
              "ticks": ""
             }
            },
            "type": "parcoords"
           }
          ],
          "pie": [
           {
            "automargin": true,
            "type": "pie"
           }
          ],
          "scatter3d": [
           {
            "line": {
             "colorbar": {
              "outlinewidth": 0,
              "ticks": ""
             }
            },
            "marker": {
             "colorbar": {
              "outlinewidth": 0,
              "ticks": ""
             }
            },
            "type": "scatter3d"
           }
          ],
          "scattercarpet": [
           {
            "marker": {
             "colorbar": {
              "outlinewidth": 0,
              "ticks": ""
             }
            },
            "type": "scattercarpet"
           }
          ],
          "scattergeo": [
           {
            "marker": {
             "colorbar": {
              "outlinewidth": 0,
              "ticks": ""
             }
            },
            "type": "scattergeo"
           }
          ],
          "scattergl": [
           {
            "marker": {
             "colorbar": {
              "outlinewidth": 0,
              "ticks": ""
             }
            },
            "type": "scattergl"
           }
          ],
          "scattermapbox": [
           {
            "marker": {
             "colorbar": {
              "outlinewidth": 0,
              "ticks": ""
             }
            },
            "type": "scattermapbox"
           }
          ],
          "scatterpolargl": [
           {
            "marker": {
             "colorbar": {
              "outlinewidth": 0,
              "ticks": ""
             }
            },
            "type": "scatterpolargl"
           }
          ],
          "scatterpolar": [
           {
            "marker": {
             "colorbar": {
              "outlinewidth": 0,
              "ticks": ""
             }
            },
            "type": "scatterpolar"
           }
          ],
          "scatter": [
           {
            "fillpattern": {
             "fillmode": "overlay",
             "size": 10,
             "solidity": 0.2
            },
            "type": "scatter"
           }
          ],
          "scatterternary": [
           {
            "marker": {
             "colorbar": {
              "outlinewidth": 0,
              "ticks": ""
             }
            },
            "type": "scatterternary"
           }
          ],
          "surface": [
           {
            "colorbar": {
             "outlinewidth": 0,
             "ticks": ""
            },
            "colorscale": [
             [
              0,
              "#0d0887"
             ],
             [
              0.1111111111111111,
              "#46039f"
             ],
             [
              0.2222222222222222,
              "#7201a8"
             ],
             [
              0.3333333333333333,
              "#9c179e"
             ],
             [
              0.4444444444444444,
              "#bd3786"
             ],
             [
              0.5555555555555556,
              "#d8576b"
             ],
             [
              0.6666666666666666,
              "#ed7953"
             ],
             [
              0.7777777777777778,
              "#fb9f3a"
             ],
             [
              0.8888888888888888,
              "#fdca26"
             ],
             [
              1,
              "#f0f921"
             ]
            ],
            "type": "surface"
           }
          ],
          "table": [
           {
            "cells": {
             "fill": {
              "color": "#EBF0F8"
             },
             "line": {
              "color": "white"
             }
            },
            "header": {
             "fill": {
              "color": "#C8D4E3"
             },
             "line": {
              "color": "white"
             }
            },
            "type": "table"
           }
          ]
         },
         "layout": {
          "annotationdefaults": {
           "arrowcolor": "#2a3f5f",
           "arrowhead": 0,
           "arrowwidth": 1
          },
          "autotypenumbers": "strict",
          "coloraxis": {
           "colorbar": {
            "outlinewidth": 0,
            "ticks": ""
           }
          },
          "colorscale": {
           "diverging": [
            [
             0,
             "#8e0152"
            ],
            [
             0.1,
             "#c51b7d"
            ],
            [
             0.2,
             "#de77ae"
            ],
            [
             0.3,
             "#f1b6da"
            ],
            [
             0.4,
             "#fde0ef"
            ],
            [
             0.5,
             "#f7f7f7"
            ],
            [
             0.6,
             "#e6f5d0"
            ],
            [
             0.7,
             "#b8e186"
            ],
            [
             0.8,
             "#7fbc41"
            ],
            [
             0.9,
             "#4d9221"
            ],
            [
             1,
             "#276419"
            ]
           ],
           "sequential": [
            [
             0,
             "#0d0887"
            ],
            [
             0.1111111111111111,
             "#46039f"
            ],
            [
             0.2222222222222222,
             "#7201a8"
            ],
            [
             0.3333333333333333,
             "#9c179e"
            ],
            [
             0.4444444444444444,
             "#bd3786"
            ],
            [
             0.5555555555555556,
             "#d8576b"
            ],
            [
             0.6666666666666666,
             "#ed7953"
            ],
            [
             0.7777777777777778,
             "#fb9f3a"
            ],
            [
             0.8888888888888888,
             "#fdca26"
            ],
            [
             1,
             "#f0f921"
            ]
           ],
           "sequentialminus": [
            [
             0,
             "#0d0887"
            ],
            [
             0.1111111111111111,
             "#46039f"
            ],
            [
             0.2222222222222222,
             "#7201a8"
            ],
            [
             0.3333333333333333,
             "#9c179e"
            ],
            [
             0.4444444444444444,
             "#bd3786"
            ],
            [
             0.5555555555555556,
             "#d8576b"
            ],
            [
             0.6666666666666666,
             "#ed7953"
            ],
            [
             0.7777777777777778,
             "#fb9f3a"
            ],
            [
             0.8888888888888888,
             "#fdca26"
            ],
            [
             1,
             "#f0f921"
            ]
           ]
          },
          "colorway": [
           "#636efa",
           "#EF553B",
           "#00cc96",
           "#ab63fa",
           "#FFA15A",
           "#19d3f3",
           "#FF6692",
           "#B6E880",
           "#FF97FF",
           "#FECB52"
          ],
          "font": {
           "color": "#2a3f5f"
          },
          "geo": {
           "bgcolor": "white",
           "lakecolor": "white",
           "landcolor": "white",
           "showlakes": true,
           "showland": true,
           "subunitcolor": "#C8D4E3"
          },
          "hoverlabel": {
           "align": "left"
          },
          "hovermode": "closest",
          "mapbox": {
           "style": "light"
          },
          "paper_bgcolor": "white",
          "plot_bgcolor": "white",
          "polar": {
           "angularaxis": {
            "gridcolor": "#EBF0F8",
            "linecolor": "#EBF0F8",
            "ticks": ""
           },
           "bgcolor": "white",
           "radialaxis": {
            "gridcolor": "#EBF0F8",
            "linecolor": "#EBF0F8",
            "ticks": ""
           }
          },
          "scene": {
           "xaxis": {
            "backgroundcolor": "white",
            "gridcolor": "#DFE8F3",
            "gridwidth": 2,
            "linecolor": "#EBF0F8",
            "showbackground": true,
            "ticks": "",
            "zerolinecolor": "#EBF0F8"
           },
           "yaxis": {
            "backgroundcolor": "white",
            "gridcolor": "#DFE8F3",
            "gridwidth": 2,
            "linecolor": "#EBF0F8",
            "showbackground": true,
            "ticks": "",
            "zerolinecolor": "#EBF0F8"
           },
           "zaxis": {
            "backgroundcolor": "white",
            "gridcolor": "#DFE8F3",
            "gridwidth": 2,
            "linecolor": "#EBF0F8",
            "showbackground": true,
            "ticks": "",
            "zerolinecolor": "#EBF0F8"
           }
          },
          "shapedefaults": {
           "line": {
            "color": "#2a3f5f"
           }
          },
          "ternary": {
           "aaxis": {
            "gridcolor": "#DFE8F3",
            "linecolor": "#A2B1C6",
            "ticks": ""
           },
           "baxis": {
            "gridcolor": "#DFE8F3",
            "linecolor": "#A2B1C6",
            "ticks": ""
           },
           "bgcolor": "white",
           "caxis": {
            "gridcolor": "#DFE8F3",
            "linecolor": "#A2B1C6",
            "ticks": ""
           }
          },
          "title": {
           "x": 0.05
          },
          "xaxis": {
           "automargin": true,
           "gridcolor": "#EBF0F8",
           "linecolor": "#EBF0F8",
           "ticks": "",
           "title": {
            "standoff": 15
           },
           "zerolinecolor": "#EBF0F8",
           "zerolinewidth": 2
          },
          "yaxis": {
           "automargin": true,
           "gridcolor": "#EBF0F8",
           "linecolor": "#EBF0F8",
           "ticks": "",
           "title": {
            "standoff": 15
           },
           "zerolinecolor": "#EBF0F8",
           "zerolinewidth": 2
          }
         }
        },
        "xaxis": {
         "anchor": "y",
         "domain": [
          0,
          1
         ],
         "title": {},
         "categoryorder": "array",
         "categoryarray": [
          "France Info:",
          "France 24",
          "LCP",
          "BFMTV",
          "CNEWS",
          "LCI"
         ],
         "tickangle": -45
        },
        "yaxis": {
         "anchor": "x",
         "domain": [
          0,
          1
         ],
         "title": {
          "text": "% du volume médiatique"
         },
         "tickformat": "0%"
        },
        "legend": {
         "title": {
          "text": ""
         },
         "tracegroupgap": 0
        },
        "margin": {
         "t": 60,
         "b": 100
        },
        "barmode": "relative",
        "height": 500,
        "font": {
         "family": "Poppins"
        },
        "title": {
         "text": "Classement TV - Chaînes d'information en continu"
        }
       },
       "config": {
        "plotlyServerURL": "https://plot.ly"
       }
      }
     },
     "metadata": {}
    },
    {
     "output_type": "display_data",
     "data": {
      "application/vnd.plotly.v1+json": {
       "data": [
        {
         "alignmentgroup": "True",
         "hovertemplate": "keyword=écologie<br>channel_name=%{x}<br>count=%{y}<extra></extra>",
         "legendgroup": "écologie",
         "marker": {
          "color": "rgb(56, 166, 165)",
          "pattern": {
           "shape": ""
          }
         },
         "name": "écologie",
         "offsetgroup": "écologie",
         "orientation": "v",
         "showlegend": true,
         "textposition": "auto",
         "texttemplate": "%{y:.1%}",
         "x": [
          "France 2",
          "W9",
          "France 5",
          "C8",
          "Canal+",
          "M6",
          "RMC Story",
          "TMC"
         ],
         "xaxis": "x",
         "y": [
          0.02962962962962963,
          0.02777777777777778,
          0.022222222222222223,
          0.009259259259259259,
          0.009259259259259259,
          0.007407407407407408,
          0.005555555555555556,
          0.003703703703703704
         ],
         "yaxis": "y",
         "type": "bar"
        },
        {
         "alignmentgroup": "True",
         "hovertemplate": "keyword=COP27<br>channel_name=%{x}<br>count=%{y}<extra></extra>",
         "legendgroup": "COP27",
         "marker": {
          "color": "#2171b5",
          "pattern": {
           "shape": ""
          }
         },
         "name": "COP27",
         "offsetgroup": "COP27",
         "orientation": "v",
         "showlegend": true,
         "textposition": "auto",
         "texttemplate": "%{y:.1%}",
         "x": [
          "France 2",
          "RMC Story",
          "TMC",
          "Canal+",
          "France 5"
         ],
         "xaxis": "x",
         "y": [
          0.005555555555555556,
          0.003703703703703704,
          0.003703703703703704,
          0.001851851851851852,
          0.001851851851851852
         ],
         "yaxis": "y",
         "type": "bar"
        }
       ],
       "layout": {
        "template": {
         "data": {
          "barpolar": [
           {
            "marker": {
             "line": {
              "color": "white",
              "width": 0.5
             },
             "pattern": {
              "fillmode": "overlay",
              "size": 10,
              "solidity": 0.2
             }
            },
            "type": "barpolar"
           }
          ],
          "bar": [
           {
            "error_x": {
             "color": "#2a3f5f"
            },
            "error_y": {
             "color": "#2a3f5f"
            },
            "marker": {
             "line": {
              "color": "white",
              "width": 0.5
             },
             "pattern": {
              "fillmode": "overlay",
              "size": 10,
              "solidity": 0.2
             }
            },
            "type": "bar"
           }
          ],
          "carpet": [
           {
            "aaxis": {
             "endlinecolor": "#2a3f5f",
             "gridcolor": "#C8D4E3",
             "linecolor": "#C8D4E3",
             "minorgridcolor": "#C8D4E3",
             "startlinecolor": "#2a3f5f"
            },
            "baxis": {
             "endlinecolor": "#2a3f5f",
             "gridcolor": "#C8D4E3",
             "linecolor": "#C8D4E3",
             "minorgridcolor": "#C8D4E3",
             "startlinecolor": "#2a3f5f"
            },
            "type": "carpet"
           }
          ],
          "choropleth": [
           {
            "colorbar": {
             "outlinewidth": 0,
             "ticks": ""
            },
            "type": "choropleth"
           }
          ],
          "contourcarpet": [
           {
            "colorbar": {
             "outlinewidth": 0,
             "ticks": ""
            },
            "type": "contourcarpet"
           }
          ],
          "contour": [
           {
            "colorbar": {
             "outlinewidth": 0,
             "ticks": ""
            },
            "colorscale": [
             [
              0,
              "#0d0887"
             ],
             [
              0.1111111111111111,
              "#46039f"
             ],
             [
              0.2222222222222222,
              "#7201a8"
             ],
             [
              0.3333333333333333,
              "#9c179e"
             ],
             [
              0.4444444444444444,
              "#bd3786"
             ],
             [
              0.5555555555555556,
              "#d8576b"
             ],
             [
              0.6666666666666666,
              "#ed7953"
             ],
             [
              0.7777777777777778,
              "#fb9f3a"
             ],
             [
              0.8888888888888888,
              "#fdca26"
             ],
             [
              1,
              "#f0f921"
             ]
            ],
            "type": "contour"
           }
          ],
          "heatmapgl": [
           {
            "colorbar": {
             "outlinewidth": 0,
             "ticks": ""
            },
            "colorscale": [
             [
              0,
              "#0d0887"
             ],
             [
              0.1111111111111111,
              "#46039f"
             ],
             [
              0.2222222222222222,
              "#7201a8"
             ],
             [
              0.3333333333333333,
              "#9c179e"
             ],
             [
              0.4444444444444444,
              "#bd3786"
             ],
             [
              0.5555555555555556,
              "#d8576b"
             ],
             [
              0.6666666666666666,
              "#ed7953"
             ],
             [
              0.7777777777777778,
              "#fb9f3a"
             ],
             [
              0.8888888888888888,
              "#fdca26"
             ],
             [
              1,
              "#f0f921"
             ]
            ],
            "type": "heatmapgl"
           }
          ],
          "heatmap": [
           {
            "colorbar": {
             "outlinewidth": 0,
             "ticks": ""
            },
            "colorscale": [
             [
              0,
              "#0d0887"
             ],
             [
              0.1111111111111111,
              "#46039f"
             ],
             [
              0.2222222222222222,
              "#7201a8"
             ],
             [
              0.3333333333333333,
              "#9c179e"
             ],
             [
              0.4444444444444444,
              "#bd3786"
             ],
             [
              0.5555555555555556,
              "#d8576b"
             ],
             [
              0.6666666666666666,
              "#ed7953"
             ],
             [
              0.7777777777777778,
              "#fb9f3a"
             ],
             [
              0.8888888888888888,
              "#fdca26"
             ],
             [
              1,
              "#f0f921"
             ]
            ],
            "type": "heatmap"
           }
          ],
          "histogram2dcontour": [
           {
            "colorbar": {
             "outlinewidth": 0,
             "ticks": ""
            },
            "colorscale": [
             [
              0,
              "#0d0887"
             ],
             [
              0.1111111111111111,
              "#46039f"
             ],
             [
              0.2222222222222222,
              "#7201a8"
             ],
             [
              0.3333333333333333,
              "#9c179e"
             ],
             [
              0.4444444444444444,
              "#bd3786"
             ],
             [
              0.5555555555555556,
              "#d8576b"
             ],
             [
              0.6666666666666666,
              "#ed7953"
             ],
             [
              0.7777777777777778,
              "#fb9f3a"
             ],
             [
              0.8888888888888888,
              "#fdca26"
             ],
             [
              1,
              "#f0f921"
             ]
            ],
            "type": "histogram2dcontour"
           }
          ],
          "histogram2d": [
           {
            "colorbar": {
             "outlinewidth": 0,
             "ticks": ""
            },
            "colorscale": [
             [
              0,
              "#0d0887"
             ],
             [
              0.1111111111111111,
              "#46039f"
             ],
             [
              0.2222222222222222,
              "#7201a8"
             ],
             [
              0.3333333333333333,
              "#9c179e"
             ],
             [
              0.4444444444444444,
              "#bd3786"
             ],
             [
              0.5555555555555556,
              "#d8576b"
             ],
             [
              0.6666666666666666,
              "#ed7953"
             ],
             [
              0.7777777777777778,
              "#fb9f3a"
             ],
             [
              0.8888888888888888,
              "#fdca26"
             ],
             [
              1,
              "#f0f921"
             ]
            ],
            "type": "histogram2d"
           }
          ],
          "histogram": [
           {
            "marker": {
             "pattern": {
              "fillmode": "overlay",
              "size": 10,
              "solidity": 0.2
             }
            },
            "type": "histogram"
           }
          ],
          "mesh3d": [
           {
            "colorbar": {
             "outlinewidth": 0,
             "ticks": ""
            },
            "type": "mesh3d"
           }
          ],
          "parcoords": [
           {
            "line": {
             "colorbar": {
              "outlinewidth": 0,
              "ticks": ""
             }
            },
            "type": "parcoords"
           }
          ],
          "pie": [
           {
            "automargin": true,
            "type": "pie"
           }
          ],
          "scatter3d": [
           {
            "line": {
             "colorbar": {
              "outlinewidth": 0,
              "ticks": ""
             }
            },
            "marker": {
             "colorbar": {
              "outlinewidth": 0,
              "ticks": ""
             }
            },
            "type": "scatter3d"
           }
          ],
          "scattercarpet": [
           {
            "marker": {
             "colorbar": {
              "outlinewidth": 0,
              "ticks": ""
             }
            },
            "type": "scattercarpet"
           }
          ],
          "scattergeo": [
           {
            "marker": {
             "colorbar": {
              "outlinewidth": 0,
              "ticks": ""
             }
            },
            "type": "scattergeo"
           }
          ],
          "scattergl": [
           {
            "marker": {
             "colorbar": {
              "outlinewidth": 0,
              "ticks": ""
             }
            },
            "type": "scattergl"
           }
          ],
          "scattermapbox": [
           {
            "marker": {
             "colorbar": {
              "outlinewidth": 0,
              "ticks": ""
             }
            },
            "type": "scattermapbox"
           }
          ],
          "scatterpolargl": [
           {
            "marker": {
             "colorbar": {
              "outlinewidth": 0,
              "ticks": ""
             }
            },
            "type": "scatterpolargl"
           }
          ],
          "scatterpolar": [
           {
            "marker": {
             "colorbar": {
              "outlinewidth": 0,
              "ticks": ""
             }
            },
            "type": "scatterpolar"
           }
          ],
          "scatter": [
           {
            "fillpattern": {
             "fillmode": "overlay",
             "size": 10,
             "solidity": 0.2
            },
            "type": "scatter"
           }
          ],
          "scatterternary": [
           {
            "marker": {
             "colorbar": {
              "outlinewidth": 0,
              "ticks": ""
             }
            },
            "type": "scatterternary"
           }
          ],
          "surface": [
           {
            "colorbar": {
             "outlinewidth": 0,
             "ticks": ""
            },
            "colorscale": [
             [
              0,
              "#0d0887"
             ],
             [
              0.1111111111111111,
              "#46039f"
             ],
             [
              0.2222222222222222,
              "#7201a8"
             ],
             [
              0.3333333333333333,
              "#9c179e"
             ],
             [
              0.4444444444444444,
              "#bd3786"
             ],
             [
              0.5555555555555556,
              "#d8576b"
             ],
             [
              0.6666666666666666,
              "#ed7953"
             ],
             [
              0.7777777777777778,
              "#fb9f3a"
             ],
             [
              0.8888888888888888,
              "#fdca26"
             ],
             [
              1,
              "#f0f921"
             ]
            ],
            "type": "surface"
           }
          ],
          "table": [
           {
            "cells": {
             "fill": {
              "color": "#EBF0F8"
             },
             "line": {
              "color": "white"
             }
            },
            "header": {
             "fill": {
              "color": "#C8D4E3"
             },
             "line": {
              "color": "white"
             }
            },
            "type": "table"
           }
          ]
         },
         "layout": {
          "annotationdefaults": {
           "arrowcolor": "#2a3f5f",
           "arrowhead": 0,
           "arrowwidth": 1
          },
          "autotypenumbers": "strict",
          "coloraxis": {
           "colorbar": {
            "outlinewidth": 0,
            "ticks": ""
           }
          },
          "colorscale": {
           "diverging": [
            [
             0,
             "#8e0152"
            ],
            [
             0.1,
             "#c51b7d"
            ],
            [
             0.2,
             "#de77ae"
            ],
            [
             0.3,
             "#f1b6da"
            ],
            [
             0.4,
             "#fde0ef"
            ],
            [
             0.5,
             "#f7f7f7"
            ],
            [
             0.6,
             "#e6f5d0"
            ],
            [
             0.7,
             "#b8e186"
            ],
            [
             0.8,
             "#7fbc41"
            ],
            [
             0.9,
             "#4d9221"
            ],
            [
             1,
             "#276419"
            ]
           ],
           "sequential": [
            [
             0,
             "#0d0887"
            ],
            [
             0.1111111111111111,
             "#46039f"
            ],
            [
             0.2222222222222222,
             "#7201a8"
            ],
            [
             0.3333333333333333,
             "#9c179e"
            ],
            [
             0.4444444444444444,
             "#bd3786"
            ],
            [
             0.5555555555555556,
             "#d8576b"
            ],
            [
             0.6666666666666666,
             "#ed7953"
            ],
            [
             0.7777777777777778,
             "#fb9f3a"
            ],
            [
             0.8888888888888888,
             "#fdca26"
            ],
            [
             1,
             "#f0f921"
            ]
           ],
           "sequentialminus": [
            [
             0,
             "#0d0887"
            ],
            [
             0.1111111111111111,
             "#46039f"
            ],
            [
             0.2222222222222222,
             "#7201a8"
            ],
            [
             0.3333333333333333,
             "#9c179e"
            ],
            [
             0.4444444444444444,
             "#bd3786"
            ],
            [
             0.5555555555555556,
             "#d8576b"
            ],
            [
             0.6666666666666666,
             "#ed7953"
            ],
            [
             0.7777777777777778,
             "#fb9f3a"
            ],
            [
             0.8888888888888888,
             "#fdca26"
            ],
            [
             1,
             "#f0f921"
            ]
           ]
          },
          "colorway": [
           "#636efa",
           "#EF553B",
           "#00cc96",
           "#ab63fa",
           "#FFA15A",
           "#19d3f3",
           "#FF6692",
           "#B6E880",
           "#FF97FF",
           "#FECB52"
          ],
          "font": {
           "color": "#2a3f5f"
          },
          "geo": {
           "bgcolor": "white",
           "lakecolor": "white",
           "landcolor": "white",
           "showlakes": true,
           "showland": true,
           "subunitcolor": "#C8D4E3"
          },
          "hoverlabel": {
           "align": "left"
          },
          "hovermode": "closest",
          "mapbox": {
           "style": "light"
          },
          "paper_bgcolor": "white",
          "plot_bgcolor": "white",
          "polar": {
           "angularaxis": {
            "gridcolor": "#EBF0F8",
            "linecolor": "#EBF0F8",
            "ticks": ""
           },
           "bgcolor": "white",
           "radialaxis": {
            "gridcolor": "#EBF0F8",
            "linecolor": "#EBF0F8",
            "ticks": ""
           }
          },
          "scene": {
           "xaxis": {
            "backgroundcolor": "white",
            "gridcolor": "#DFE8F3",
            "gridwidth": 2,
            "linecolor": "#EBF0F8",
            "showbackground": true,
            "ticks": "",
            "zerolinecolor": "#EBF0F8"
           },
           "yaxis": {
            "backgroundcolor": "white",
            "gridcolor": "#DFE8F3",
            "gridwidth": 2,
            "linecolor": "#EBF0F8",
            "showbackground": true,
            "ticks": "",
            "zerolinecolor": "#EBF0F8"
           },
           "zaxis": {
            "backgroundcolor": "white",
            "gridcolor": "#DFE8F3",
            "gridwidth": 2,
            "linecolor": "#EBF0F8",
            "showbackground": true,
            "ticks": "",
            "zerolinecolor": "#EBF0F8"
           }
          },
          "shapedefaults": {
           "line": {
            "color": "#2a3f5f"
           }
          },
          "ternary": {
           "aaxis": {
            "gridcolor": "#DFE8F3",
            "linecolor": "#A2B1C6",
            "ticks": ""
           },
           "baxis": {
            "gridcolor": "#DFE8F3",
            "linecolor": "#A2B1C6",
            "ticks": ""
           },
           "bgcolor": "white",
           "caxis": {
            "gridcolor": "#DFE8F3",
            "linecolor": "#A2B1C6",
            "ticks": ""
           }
          },
          "title": {
           "x": 0.05
          },
          "xaxis": {
           "automargin": true,
           "gridcolor": "#EBF0F8",
           "linecolor": "#EBF0F8",
           "ticks": "",
           "title": {
            "standoff": 15
           },
           "zerolinecolor": "#EBF0F8",
           "zerolinewidth": 2
          },
          "yaxis": {
           "automargin": true,
           "gridcolor": "#EBF0F8",
           "linecolor": "#EBF0F8",
           "ticks": "",
           "title": {
            "standoff": 15
           },
           "zerolinecolor": "#EBF0F8",
           "zerolinewidth": 2
          }
         }
        },
        "xaxis": {
         "anchor": "y",
         "domain": [
          0,
          1
         ],
         "title": {},
         "categoryorder": "array",
         "categoryarray": [
          "France 2",
          "W9",
          "France 5",
          "Canal+",
          "C8",
          "RMC Story",
          "M6",
          "TMC"
         ],
         "tickangle": -45
        },
        "yaxis": {
         "anchor": "x",
         "domain": [
          0,
          1
         ],
         "title": {
          "text": "% du volume médiatique"
         },
         "tickformat": "0%"
        },
        "legend": {
         "title": {
          "text": ""
         },
         "tracegroupgap": 0
        },
        "margin": {
         "t": 60,
         "b": 100
        },
        "barmode": "relative",
        "height": 500,
        "font": {
         "family": "Poppins"
        },
        "title": {
         "text": "Classement TV - Chaînes généralistes"
        }
       },
       "config": {
        "plotlyServerURL": "https://plot.ly"
       }
      }
     },
     "metadata": {}
    },
    {
     "output_type": "display_data",
     "data": {
      "application/vnd.plotly.v1+json": {
       "data": [
        {
         "alignmentgroup": "True",
         "hovertemplate": "keyword=écologie<br>channel_name=%{x}<br>count=%{y}<extra></extra>",
         "legendgroup": "écologie",
         "marker": {
          "color": "rgb(56, 166, 165)",
          "pattern": {
           "shape": ""
          }
         },
         "name": "écologie",
         "offsetgroup": "écologie",
         "orientation": "v",
         "showlegend": true,
         "textposition": "auto",
         "texttemplate": "%{y:.1%}",
         "x": [
          "BFM Business Radio",
          "France Info",
          "RFI",
          "France Inter",
          "Nova",
          "France Culture",
          "Fun Radio",
          "RTL",
          "RTL2",
          "Radio Classique",
          "RMC",
          "Chérie FM",
          "Rire et Chansons",
          "Radio FG",
          "Skyrock",
          "Guadeloupe 1ère",
          "France Musique"
         ],
         "xaxis": "x",
         "y": [
          0.10555555555555556,
          0.06296296296296297,
          0.05185185185185186,
          0.03888888888888889,
          0.03888888888888889,
          0.02777777777777778,
          0.016666666666666666,
          0.014814814814814815,
          0.011111111111111112,
          0.009259259259259259,
          0.007407407407407408,
          0.007407407407407408,
          0.005555555555555556,
          0.005555555555555556,
          0.005555555555555556,
          0.005555555555555556,
          0.005555555555555556
         ],
         "yaxis": "y",
         "type": "bar"
        },
        {
         "alignmentgroup": "True",
         "hovertemplate": "keyword=COP27<br>channel_name=%{x}<br>count=%{y}<extra></extra>",
         "legendgroup": "COP27",
         "marker": {
          "color": "#2171b5",
          "pattern": {
           "shape": ""
          }
         },
         "name": "COP27",
         "offsetgroup": "COP27",
         "orientation": "v",
         "showlegend": true,
         "textposition": "auto",
         "texttemplate": "%{y:.1%}",
         "x": [
          "RFI",
          "France Culture",
          "Nova",
          "BFM Business Radio",
          "Radio Classique",
          "France Info",
          "France Inter",
          "Rire et Chansons"
         ],
         "xaxis": "x",
         "y": [
          0.07222222222222223,
          0.031481481481481485,
          0.02592592592592593,
          0.022222222222222223,
          0.014814814814814815,
          0.014814814814814815,
          0.012962962962962964,
          0.007407407407407408
         ],
         "yaxis": "y",
         "type": "bar"
        }
       ],
       "layout": {
        "template": {
         "data": {
          "barpolar": [
           {
            "marker": {
             "line": {
              "color": "white",
              "width": 0.5
             },
             "pattern": {
              "fillmode": "overlay",
              "size": 10,
              "solidity": 0.2
             }
            },
            "type": "barpolar"
           }
          ],
          "bar": [
           {
            "error_x": {
             "color": "#2a3f5f"
            },
            "error_y": {
             "color": "#2a3f5f"
            },
            "marker": {
             "line": {
              "color": "white",
              "width": 0.5
             },
             "pattern": {
              "fillmode": "overlay",
              "size": 10,
              "solidity": 0.2
             }
            },
            "type": "bar"
           }
          ],
          "carpet": [
           {
            "aaxis": {
             "endlinecolor": "#2a3f5f",
             "gridcolor": "#C8D4E3",
             "linecolor": "#C8D4E3",
             "minorgridcolor": "#C8D4E3",
             "startlinecolor": "#2a3f5f"
            },
            "baxis": {
             "endlinecolor": "#2a3f5f",
             "gridcolor": "#C8D4E3",
             "linecolor": "#C8D4E3",
             "minorgridcolor": "#C8D4E3",
             "startlinecolor": "#2a3f5f"
            },
            "type": "carpet"
           }
          ],
          "choropleth": [
           {
            "colorbar": {
             "outlinewidth": 0,
             "ticks": ""
            },
            "type": "choropleth"
           }
          ],
          "contourcarpet": [
           {
            "colorbar": {
             "outlinewidth": 0,
             "ticks": ""
            },
            "type": "contourcarpet"
           }
          ],
          "contour": [
           {
            "colorbar": {
             "outlinewidth": 0,
             "ticks": ""
            },
            "colorscale": [
             [
              0,
              "#0d0887"
             ],
             [
              0.1111111111111111,
              "#46039f"
             ],
             [
              0.2222222222222222,
              "#7201a8"
             ],
             [
              0.3333333333333333,
              "#9c179e"
             ],
             [
              0.4444444444444444,
              "#bd3786"
             ],
             [
              0.5555555555555556,
              "#d8576b"
             ],
             [
              0.6666666666666666,
              "#ed7953"
             ],
             [
              0.7777777777777778,
              "#fb9f3a"
             ],
             [
              0.8888888888888888,
              "#fdca26"
             ],
             [
              1,
              "#f0f921"
             ]
            ],
            "type": "contour"
           }
          ],
          "heatmapgl": [
           {
            "colorbar": {
             "outlinewidth": 0,
             "ticks": ""
            },
            "colorscale": [
             [
              0,
              "#0d0887"
             ],
             [
              0.1111111111111111,
              "#46039f"
             ],
             [
              0.2222222222222222,
              "#7201a8"
             ],
             [
              0.3333333333333333,
              "#9c179e"
             ],
             [
              0.4444444444444444,
              "#bd3786"
             ],
             [
              0.5555555555555556,
              "#d8576b"
             ],
             [
              0.6666666666666666,
              "#ed7953"
             ],
             [
              0.7777777777777778,
              "#fb9f3a"
             ],
             [
              0.8888888888888888,
              "#fdca26"
             ],
             [
              1,
              "#f0f921"
             ]
            ],
            "type": "heatmapgl"
           }
          ],
          "heatmap": [
           {
            "colorbar": {
             "outlinewidth": 0,
             "ticks": ""
            },
            "colorscale": [
             [
              0,
              "#0d0887"
             ],
             [
              0.1111111111111111,
              "#46039f"
             ],
             [
              0.2222222222222222,
              "#7201a8"
             ],
             [
              0.3333333333333333,
              "#9c179e"
             ],
             [
              0.4444444444444444,
              "#bd3786"
             ],
             [
              0.5555555555555556,
              "#d8576b"
             ],
             [
              0.6666666666666666,
              "#ed7953"
             ],
             [
              0.7777777777777778,
              "#fb9f3a"
             ],
             [
              0.8888888888888888,
              "#fdca26"
             ],
             [
              1,
              "#f0f921"
             ]
            ],
            "type": "heatmap"
           }
          ],
          "histogram2dcontour": [
           {
            "colorbar": {
             "outlinewidth": 0,
             "ticks": ""
            },
            "colorscale": [
             [
              0,
              "#0d0887"
             ],
             [
              0.1111111111111111,
              "#46039f"
             ],
             [
              0.2222222222222222,
              "#7201a8"
             ],
             [
              0.3333333333333333,
              "#9c179e"
             ],
             [
              0.4444444444444444,
              "#bd3786"
             ],
             [
              0.5555555555555556,
              "#d8576b"
             ],
             [
              0.6666666666666666,
              "#ed7953"
             ],
             [
              0.7777777777777778,
              "#fb9f3a"
             ],
             [
              0.8888888888888888,
              "#fdca26"
             ],
             [
              1,
              "#f0f921"
             ]
            ],
            "type": "histogram2dcontour"
           }
          ],
          "histogram2d": [
           {
            "colorbar": {
             "outlinewidth": 0,
             "ticks": ""
            },
            "colorscale": [
             [
              0,
              "#0d0887"
             ],
             [
              0.1111111111111111,
              "#46039f"
             ],
             [
              0.2222222222222222,
              "#7201a8"
             ],
             [
              0.3333333333333333,
              "#9c179e"
             ],
             [
              0.4444444444444444,
              "#bd3786"
             ],
             [
              0.5555555555555556,
              "#d8576b"
             ],
             [
              0.6666666666666666,
              "#ed7953"
             ],
             [
              0.7777777777777778,
              "#fb9f3a"
             ],
             [
              0.8888888888888888,
              "#fdca26"
             ],
             [
              1,
              "#f0f921"
             ]
            ],
            "type": "histogram2d"
           }
          ],
          "histogram": [
           {
            "marker": {
             "pattern": {
              "fillmode": "overlay",
              "size": 10,
              "solidity": 0.2
             }
            },
            "type": "histogram"
           }
          ],
          "mesh3d": [
           {
            "colorbar": {
             "outlinewidth": 0,
             "ticks": ""
            },
            "type": "mesh3d"
           }
          ],
          "parcoords": [
           {
            "line": {
             "colorbar": {
              "outlinewidth": 0,
              "ticks": ""
             }
            },
            "type": "parcoords"
           }
          ],
          "pie": [
           {
            "automargin": true,
            "type": "pie"
           }
          ],
          "scatter3d": [
           {
            "line": {
             "colorbar": {
              "outlinewidth": 0,
              "ticks": ""
             }
            },
            "marker": {
             "colorbar": {
              "outlinewidth": 0,
              "ticks": ""
             }
            },
            "type": "scatter3d"
           }
          ],
          "scattercarpet": [
           {
            "marker": {
             "colorbar": {
              "outlinewidth": 0,
              "ticks": ""
             }
            },
            "type": "scattercarpet"
           }
          ],
          "scattergeo": [
           {
            "marker": {
             "colorbar": {
              "outlinewidth": 0,
              "ticks": ""
             }
            },
            "type": "scattergeo"
           }
          ],
          "scattergl": [
           {
            "marker": {
             "colorbar": {
              "outlinewidth": 0,
              "ticks": ""
             }
            },
            "type": "scattergl"
           }
          ],
          "scattermapbox": [
           {
            "marker": {
             "colorbar": {
              "outlinewidth": 0,
              "ticks": ""
             }
            },
            "type": "scattermapbox"
           }
          ],
          "scatterpolargl": [
           {
            "marker": {
             "colorbar": {
              "outlinewidth": 0,
              "ticks": ""
             }
            },
            "type": "scatterpolargl"
           }
          ],
          "scatterpolar": [
           {
            "marker": {
             "colorbar": {
              "outlinewidth": 0,
              "ticks": ""
             }
            },
            "type": "scatterpolar"
           }
          ],
          "scatter": [
           {
            "fillpattern": {
             "fillmode": "overlay",
             "size": 10,
             "solidity": 0.2
            },
            "type": "scatter"
           }
          ],
          "scatterternary": [
           {
            "marker": {
             "colorbar": {
              "outlinewidth": 0,
              "ticks": ""
             }
            },
            "type": "scatterternary"
           }
          ],
          "surface": [
           {
            "colorbar": {
             "outlinewidth": 0,
             "ticks": ""
            },
            "colorscale": [
             [
              0,
              "#0d0887"
             ],
             [
              0.1111111111111111,
              "#46039f"
             ],
             [
              0.2222222222222222,
              "#7201a8"
             ],
             [
              0.3333333333333333,
              "#9c179e"
             ],
             [
              0.4444444444444444,
              "#bd3786"
             ],
             [
              0.5555555555555556,
              "#d8576b"
             ],
             [
              0.6666666666666666,
              "#ed7953"
             ],
             [
              0.7777777777777778,
              "#fb9f3a"
             ],
             [
              0.8888888888888888,
              "#fdca26"
             ],
             [
              1,
              "#f0f921"
             ]
            ],
            "type": "surface"
           }
          ],
          "table": [
           {
            "cells": {
             "fill": {
              "color": "#EBF0F8"
             },
             "line": {
              "color": "white"
             }
            },
            "header": {
             "fill": {
              "color": "#C8D4E3"
             },
             "line": {
              "color": "white"
             }
            },
            "type": "table"
           }
          ]
         },
         "layout": {
          "annotationdefaults": {
           "arrowcolor": "#2a3f5f",
           "arrowhead": 0,
           "arrowwidth": 1
          },
          "autotypenumbers": "strict",
          "coloraxis": {
           "colorbar": {
            "outlinewidth": 0,
            "ticks": ""
           }
          },
          "colorscale": {
           "diverging": [
            [
             0,
             "#8e0152"
            ],
            [
             0.1,
             "#c51b7d"
            ],
            [
             0.2,
             "#de77ae"
            ],
            [
             0.3,
             "#f1b6da"
            ],
            [
             0.4,
             "#fde0ef"
            ],
            [
             0.5,
             "#f7f7f7"
            ],
            [
             0.6,
             "#e6f5d0"
            ],
            [
             0.7,
             "#b8e186"
            ],
            [
             0.8,
             "#7fbc41"
            ],
            [
             0.9,
             "#4d9221"
            ],
            [
             1,
             "#276419"
            ]
           ],
           "sequential": [
            [
             0,
             "#0d0887"
            ],
            [
             0.1111111111111111,
             "#46039f"
            ],
            [
             0.2222222222222222,
             "#7201a8"
            ],
            [
             0.3333333333333333,
             "#9c179e"
            ],
            [
             0.4444444444444444,
             "#bd3786"
            ],
            [
             0.5555555555555556,
             "#d8576b"
            ],
            [
             0.6666666666666666,
             "#ed7953"
            ],
            [
             0.7777777777777778,
             "#fb9f3a"
            ],
            [
             0.8888888888888888,
             "#fdca26"
            ],
            [
             1,
             "#f0f921"
            ]
           ],
           "sequentialminus": [
            [
             0,
             "#0d0887"
            ],
            [
             0.1111111111111111,
             "#46039f"
            ],
            [
             0.2222222222222222,
             "#7201a8"
            ],
            [
             0.3333333333333333,
             "#9c179e"
            ],
            [
             0.4444444444444444,
             "#bd3786"
            ],
            [
             0.5555555555555556,
             "#d8576b"
            ],
            [
             0.6666666666666666,
             "#ed7953"
            ],
            [
             0.7777777777777778,
             "#fb9f3a"
            ],
            [
             0.8888888888888888,
             "#fdca26"
            ],
            [
             1,
             "#f0f921"
            ]
           ]
          },
          "colorway": [
           "#636efa",
           "#EF553B",
           "#00cc96",
           "#ab63fa",
           "#FFA15A",
           "#19d3f3",
           "#FF6692",
           "#B6E880",
           "#FF97FF",
           "#FECB52"
          ],
          "font": {
           "color": "#2a3f5f"
          },
          "geo": {
           "bgcolor": "white",
           "lakecolor": "white",
           "landcolor": "white",
           "showlakes": true,
           "showland": true,
           "subunitcolor": "#C8D4E3"
          },
          "hoverlabel": {
           "align": "left"
          },
          "hovermode": "closest",
          "mapbox": {
           "style": "light"
          },
          "paper_bgcolor": "white",
          "plot_bgcolor": "white",
          "polar": {
           "angularaxis": {
            "gridcolor": "#EBF0F8",
            "linecolor": "#EBF0F8",
            "ticks": ""
           },
           "bgcolor": "white",
           "radialaxis": {
            "gridcolor": "#EBF0F8",
            "linecolor": "#EBF0F8",
            "ticks": ""
           }
          },
          "scene": {
           "xaxis": {
            "backgroundcolor": "white",
            "gridcolor": "#DFE8F3",
            "gridwidth": 2,
            "linecolor": "#EBF0F8",
            "showbackground": true,
            "ticks": "",
            "zerolinecolor": "#EBF0F8"
           },
           "yaxis": {
            "backgroundcolor": "white",
            "gridcolor": "#DFE8F3",
            "gridwidth": 2,
            "linecolor": "#EBF0F8",
            "showbackground": true,
            "ticks": "",
            "zerolinecolor": "#EBF0F8"
           },
           "zaxis": {
            "backgroundcolor": "white",
            "gridcolor": "#DFE8F3",
            "gridwidth": 2,
            "linecolor": "#EBF0F8",
            "showbackground": true,
            "ticks": "",
            "zerolinecolor": "#EBF0F8"
           }
          },
          "shapedefaults": {
           "line": {
            "color": "#2a3f5f"
           }
          },
          "ternary": {
           "aaxis": {
            "gridcolor": "#DFE8F3",
            "linecolor": "#A2B1C6",
            "ticks": ""
           },
           "baxis": {
            "gridcolor": "#DFE8F3",
            "linecolor": "#A2B1C6",
            "ticks": ""
           },
           "bgcolor": "white",
           "caxis": {
            "gridcolor": "#DFE8F3",
            "linecolor": "#A2B1C6",
            "ticks": ""
           }
          },
          "title": {
           "x": 0.05
          },
          "xaxis": {
           "automargin": true,
           "gridcolor": "#EBF0F8",
           "linecolor": "#EBF0F8",
           "ticks": "",
           "title": {
            "standoff": 15
           },
           "zerolinecolor": "#EBF0F8",
           "zerolinewidth": 2
          },
          "yaxis": {
           "automargin": true,
           "gridcolor": "#EBF0F8",
           "linecolor": "#EBF0F8",
           "ticks": "",
           "title": {
            "standoff": 15
           },
           "zerolinecolor": "#EBF0F8",
           "zerolinewidth": 2
          }
         }
        },
        "xaxis": {
         "anchor": "y",
         "domain": [
          0,
          1
         ],
         "title": {},
         "categoryorder": "array",
         "categoryarray": [
          "BFM Business Radio",
          "RFI",
          "France Info",
          "Nova",
          "France Culture",
          "France Inter",
          "Radio Classique",
          "Fun Radio",
          "RTL",
          "Rire et Chansons",
          "RTL2",
          "Chérie FM",
          "RMC",
          "France Musique",
          "Guadeloupe 1ère",
          "Radio FG",
          "Skyrock"
         ],
         "tickangle": -45
        },
        "yaxis": {
         "anchor": "x",
         "domain": [
          0,
          1
         ],
         "title": {
          "text": "% du volume médiatique"
         },
         "tickformat": "0%"
        },
        "legend": {
         "title": {
          "text": ""
         },
         "tracegroupgap": 0
        },
        "margin": {
         "t": 60,
         "b": 100
        },
        "barmode": "relative",
        "height": 500,
        "font": {
         "family": "Poppins"
        },
        "title": {
         "text": "Classement Radio"
        }
       },
       "config": {
        "plotlyServerURL": "https://plot.ly"
       }
      }
     },
     "metadata": {}
    }
   ],
   "metadata": {}
  },
  {
   "cell_type": "markdown",
   "source": [
    "# Analyse des sujets mentionnés"
   ],
   "metadata": {}
  },
  {
   "cell_type": "code",
   "execution_count": 31,
   "source": [
    "from quotaclimat.data_processing.keyword_tool import KeywordsTool\n",
    "\n",
    "kwt = KeywordsTool(case_sensitive=False,lowercase = True)\n",
    "\n",
    "kwt.load_from_airtable(airtable_table_name=\"COP27\",keyword_col = \"name\",variants_col=[\"alternatives_mediatree\",\"alternatives\"])"
   ],
   "outputs": [
    {
     "output_type": "error",
     "ename": "AssertionError",
     "evalue": "",
     "traceback": [
      "\u001b[0;31m---------------------------------------------------------------------------\u001b[0m",
      "\u001b[0;31mAssertionError\u001b[0m                            Traceback (most recent call last)",
      "Cell \u001b[0;32mIn [31], line 5\u001b[0m\n\u001b[1;32m      1\u001b[0m \u001b[38;5;28;01mfrom\u001b[39;00m \u001b[38;5;21;01mquotaclimat\u001b[39;00m\u001b[38;5;21;01m.\u001b[39;00m\u001b[38;5;21;01mdata_processing\u001b[39;00m\u001b[38;5;21;01m.\u001b[39;00m\u001b[38;5;21;01mkeyword_tool\u001b[39;00m \u001b[38;5;28;01mimport\u001b[39;00m KeywordsTool\n\u001b[1;32m      3\u001b[0m kwt \u001b[38;5;241m=\u001b[39m KeywordsTool(case_sensitive\u001b[38;5;241m=\u001b[39m\u001b[38;5;28;01mFalse\u001b[39;00m,lowercase \u001b[38;5;241m=\u001b[39m \u001b[38;5;28;01mTrue\u001b[39;00m)\n\u001b[0;32m----> 5\u001b[0m \u001b[43mkwt\u001b[49m\u001b[38;5;241;43m.\u001b[39;49m\u001b[43mload_from_airtable\u001b[49m\u001b[43m(\u001b[49m\u001b[43mairtable_table_name\u001b[49m\u001b[38;5;241;43m=\u001b[39;49m\u001b[38;5;124;43m\"\u001b[39;49m\u001b[38;5;124;43mCOP27\u001b[39;49m\u001b[38;5;124;43m\"\u001b[39;49m\u001b[43m,\u001b[49m\u001b[43mkeyword_col\u001b[49m\u001b[43m \u001b[49m\u001b[38;5;241;43m=\u001b[39;49m\u001b[43m \u001b[49m\u001b[38;5;124;43m\"\u001b[39;49m\u001b[38;5;124;43mname\u001b[39;49m\u001b[38;5;124;43m\"\u001b[39;49m\u001b[43m,\u001b[49m\u001b[43mvariants_col\u001b[49m\u001b[38;5;241;43m=\u001b[39;49m\u001b[43m[\u001b[49m\u001b[38;5;124;43m\"\u001b[39;49m\u001b[38;5;124;43malternatives_mediatree\u001b[39;49m\u001b[38;5;124;43m\"\u001b[39;49m\u001b[43m,\u001b[49m\u001b[38;5;124;43m\"\u001b[39;49m\u001b[38;5;124;43malternatives\u001b[39;49m\u001b[38;5;124;43m\"\u001b[39;49m\u001b[43m]\u001b[49m\u001b[43m)\u001b[49m\n",
      "File \u001b[0;32m~/Documents/GitHub/dataforgoodfr/quotaclimat/notebooks/COP27/../../quotaclimat/data_processing/keyword_tool.py:124\u001b[0m, in \u001b[0;36mKeywordsTool.load_from_airtable\u001b[0;34m(self, airtable_api_key, airtable_base_id, airtable_table_name, keyword_col, variants_col)\u001b[0m\n\u001b[1;32m    119\u001b[0m     \u001b[38;5;28mself\u001b[39m\u001b[38;5;241m.\u001b[39mload_from_dict(\u001b[38;5;28mself\u001b[39m\u001b[38;5;241m.\u001b[39mkeywords)\n\u001b[1;32m    121\u001b[0m \u001b[38;5;28;01melse\u001b[39;00m:\n\u001b[1;32m    122\u001b[0m \n\u001b[1;32m    123\u001b[0m     \u001b[38;5;66;03m# Load from env file with dotenv\u001b[39;00m\n\u001b[0;32m--> 124\u001b[0m     \u001b[38;5;28;01massert\u001b[39;00m load_dotenv()\n\u001b[1;32m    126\u001b[0m     \u001b[38;5;28mself\u001b[39m\u001b[38;5;241m.\u001b[39mload_from_airtable(\n\u001b[1;32m    127\u001b[0m         airtable_api_key\u001b[38;5;241m=\u001b[39mos\u001b[38;5;241m.\u001b[39menviron[\u001b[38;5;124m\"\u001b[39m\u001b[38;5;124mAIRTABLE_API_KEY\u001b[39m\u001b[38;5;124m\"\u001b[39m]\n\u001b[1;32m    128\u001b[0m         \u001b[38;5;28;01mif\u001b[39;00m airtable_api_key \u001b[38;5;129;01mis\u001b[39;00m \u001b[38;5;28;01mNone\u001b[39;00m\n\u001b[0;32m   (...)\u001b[0m\n\u001b[1;32m    137\u001b[0m         variants_col\u001b[38;5;241m=\u001b[39mvariants_col,\n\u001b[1;32m    138\u001b[0m     )\n\u001b[1;32m    140\u001b[0m \u001b[38;5;28;01mpass\u001b[39;00m\n",
      "\u001b[0;31mAssertionError\u001b[0m: "
     ]
    }
   ],
   "metadata": {}
  },
  {
   "cell_type": "code",
   "execution_count": null,
   "source": [
    "counts_total = kwt.count_keywords_on_corpus(data[\"text\"],as_melted = True)\n",
    "counts_total = counts_total.query(\"name!='Pays'\")"
   ],
   "outputs": [
    {
     "output_type": "error",
     "ename": "NameError",
     "evalue": "name 'kwt' is not defined",
     "traceback": [
      "\u001b[0;31m---------------------------------------------------------------------------\u001b[0m",
      "\u001b[0;31mNameError\u001b[0m                                 Traceback (most recent call last)",
      "Cell \u001b[0;32mIn [32], line 1\u001b[0m\n\u001b[0;32m----> 1\u001b[0m counts_total \u001b[38;5;241m=\u001b[39m \u001b[43mkwt\u001b[49m\u001b[38;5;241m.\u001b[39mcount_keywords_on_corpus(data[\u001b[38;5;124m\"\u001b[39m\u001b[38;5;124mtext\u001b[39m\u001b[38;5;124m\"\u001b[39m],as_melted \u001b[38;5;241m=\u001b[39m \u001b[38;5;28;01mTrue\u001b[39;00m)\n\u001b[1;32m      2\u001b[0m counts_total \u001b[38;5;241m=\u001b[39m counts_total\u001b[38;5;241m.\u001b[39mquery(\u001b[38;5;124m\"\u001b[39m\u001b[38;5;124mname!=\u001b[39m\u001b[38;5;124m'\u001b[39m\u001b[38;5;124mPays\u001b[39m\u001b[38;5;124m'\u001b[39m\u001b[38;5;124m\"\u001b[39m)\n",
      "\u001b[0;31mNameError\u001b[0m: name 'kwt' is not defined"
     ]
    }
   ],
   "metadata": {}
  },
  {
   "cell_type": "code",
   "execution_count": null,
   "source": [
    "px.treemap(\n",
    "    counts_total.groupby([\"name\",\"category\"])[\"count\"].sum().reset_index(),\n",
    "    path = [\"category\",\"name\"],\n",
    "    values = \"count\",\n",
    "    color_discrete_sequence = WARMING_STRIPES_SEQUENCE\n",
    ")"
   ],
   "outputs": [
    {
     "output_type": "error",
     "ename": "NameError",
     "evalue": "name 'counts_total' is not defined",
     "traceback": [
      "\u001b[0;31m---------------------------------------------------------------------------\u001b[0m",
      "\u001b[0;31mNameError\u001b[0m                                 Traceback (most recent call last)",
      "Cell \u001b[0;32mIn [115], line 2\u001b[0m\n\u001b[1;32m      1\u001b[0m px\u001b[38;5;241m.\u001b[39mtreemap(\n\u001b[0;32m----> 2\u001b[0m     \u001b[43mcounts_total\u001b[49m\u001b[38;5;241m.\u001b[39mgroupby([\u001b[38;5;124m\"\u001b[39m\u001b[38;5;124mname\u001b[39m\u001b[38;5;124m\"\u001b[39m,\u001b[38;5;124m\"\u001b[39m\u001b[38;5;124mcategory\u001b[39m\u001b[38;5;124m\"\u001b[39m])[\u001b[38;5;124m\"\u001b[39m\u001b[38;5;124mcount\u001b[39m\u001b[38;5;124m\"\u001b[39m]\u001b[38;5;241m.\u001b[39msum()\u001b[38;5;241m.\u001b[39mreset_index(),\n\u001b[1;32m      3\u001b[0m     path \u001b[38;5;241m=\u001b[39m [\u001b[38;5;124m\"\u001b[39m\u001b[38;5;124mcategory\u001b[39m\u001b[38;5;124m\"\u001b[39m,\u001b[38;5;124m\"\u001b[39m\u001b[38;5;124mname\u001b[39m\u001b[38;5;124m\"\u001b[39m],\n\u001b[1;32m      4\u001b[0m     values \u001b[38;5;241m=\u001b[39m \u001b[38;5;124m\"\u001b[39m\u001b[38;5;124mcount\u001b[39m\u001b[38;5;124m\"\u001b[39m,\n\u001b[1;32m      5\u001b[0m     color_discrete_sequence \u001b[38;5;241m=\u001b[39m WARMING_STRIPES_SEQUENCE\n\u001b[1;32m      6\u001b[0m )\n",
      "\u001b[0;31mNameError\u001b[0m: name 'counts_total' is not defined"
     ]
    }
   ],
   "metadata": {}
  },
  {
   "cell_type": "code",
   "execution_count": null,
   "source": [
    "data_dsm = data.reset_index(drop=True).loc[counts_total.query(\"name=='Fonds marins'\")[\"text_id\"].tolist()]\n",
    "\n",
    "fig = show_mentions_by_channel(data_dsm,n = 25,\n",
    "                               method = \"minutes\",height = 400,text_auto = \".1s\")\n",
    "fig.update_layout(\n",
    "                  font_family=\"Poppins\",yaxis_title=\"% du volume médiatique\",xaxis_title = \"\")\n",
    "fig.update_traces(marker_color='#e6381b')\n",
    "fig"
   ],
   "outputs": [
    {
     "output_type": "error",
     "ename": "NameError",
     "evalue": "name 'counts_total' is not defined",
     "traceback": [
      "\u001b[0;31m---------------------------------------------------------------------------\u001b[0m",
      "\u001b[0;31mNameError\u001b[0m                                 Traceback (most recent call last)",
      "Cell \u001b[0;32mIn [116], line 1\u001b[0m\n\u001b[0;32m----> 1\u001b[0m data_dsm \u001b[38;5;241m=\u001b[39m data\u001b[38;5;241m.\u001b[39mreset_index(drop\u001b[38;5;241m=\u001b[39m\u001b[38;5;28;01mTrue\u001b[39;00m)\u001b[38;5;241m.\u001b[39mloc[\u001b[43mcounts_total\u001b[49m\u001b[38;5;241m.\u001b[39mquery(\u001b[38;5;124m\"\u001b[39m\u001b[38;5;124mname==\u001b[39m\u001b[38;5;124m'\u001b[39m\u001b[38;5;124mFonds marins\u001b[39m\u001b[38;5;124m'\u001b[39m\u001b[38;5;124m\"\u001b[39m)[\u001b[38;5;124m\"\u001b[39m\u001b[38;5;124mtext_id\u001b[39m\u001b[38;5;124m\"\u001b[39m]\u001b[38;5;241m.\u001b[39mtolist()]\n\u001b[1;32m      3\u001b[0m fig \u001b[38;5;241m=\u001b[39m show_mentions_by_channel(data_dsm,n \u001b[38;5;241m=\u001b[39m \u001b[38;5;241m25\u001b[39m,\n\u001b[1;32m      4\u001b[0m                                method \u001b[38;5;241m=\u001b[39m \u001b[38;5;124m\"\u001b[39m\u001b[38;5;124mminutes\u001b[39m\u001b[38;5;124m\"\u001b[39m,height \u001b[38;5;241m=\u001b[39m \u001b[38;5;241m400\u001b[39m,text_auto \u001b[38;5;241m=\u001b[39m \u001b[38;5;124m\"\u001b[39m\u001b[38;5;124m.1s\u001b[39m\u001b[38;5;124m\"\u001b[39m)\n\u001b[1;32m      5\u001b[0m fig\u001b[38;5;241m.\u001b[39mupdate_layout(\n\u001b[1;32m      6\u001b[0m                   font_family\u001b[38;5;241m=\u001b[39m\u001b[38;5;124m\"\u001b[39m\u001b[38;5;124mPoppins\u001b[39m\u001b[38;5;124m\"\u001b[39m,yaxis_title\u001b[38;5;241m=\u001b[39m\u001b[38;5;124m\"\u001b[39m\u001b[38;5;132;01m% d\u001b[39;00m\u001b[38;5;124mu volume médiatique\u001b[39m\u001b[38;5;124m\"\u001b[39m,xaxis_title \u001b[38;5;241m=\u001b[39m \u001b[38;5;124m\"\u001b[39m\u001b[38;5;124m\"\u001b[39m)\n",
      "\u001b[0;31mNameError\u001b[0m: name 'counts_total' is not defined"
     ]
    }
   ],
   "metadata": {}
  },
  {
   "cell_type": "markdown",
   "source": [
    "# Focus 3 jours + classement"
   ],
   "metadata": {}
  },
  {
   "cell_type": "code",
   "execution_count": 160,
   "source": [
    "from tqdm.auto import tqdm\n",
    "\n",
    "data_all_days = []\n",
    "for folder in tqdm([\"05\",\"06\",\"07\",\"08\",\"09\", \"10\", \"11\"]):\n",
    "    \n",
    "    day = f\"{folder}11\"\n",
    "\n",
    "    data_total = read_and_format_all_data_dump(path_folder = f\"../../data/COP27/{day}/\",path_channel_metadata=None)\n",
    "\n",
    "    data_total[\"channel_id\"] = data_total[\"channel_name\"] + \"_\" + data_total[\"media\"]\n",
    "    data_total = data_total.merge(top_audiences[[\"channel_id\",\"type\"]],on = [\"channel_id\"],how = \"inner\")\n",
    "\n",
    "    data_total.loc[data_total[\"media\"]==\"TV\",\"media2\"] = \"TV\" + \" - \" + data_total[\"type\"]\n",
    "    data_total.loc[data_total[\"media\"]==\"Radio\",\"media2\"] = \"Radio\"\n",
    "\n",
    "    data_total = filter_data_between_hours(data_total,\"06:00\",\"24:00\").reset_index(drop = True)\n",
    "    #data_total = data_total[data_total[\"keyword\"].isin(['COP27', 'écologie'])]\n",
    "    #assert sorted(data_total[\"keyword\"].unique()) == ['cop27', 'écologie']\n",
    "    \n",
    "    data_total.loc[data_total[\"keywords\"].map(lambda x : \"cop27\" in x),\"keyword\"] = \"COP27\"\n",
    "    \n",
    "    \n",
    "    data_total[\"day_extract\"] = day\n",
    "    data_all_days.append(data_total)\n",
    "    \n",
    "data_all_days = pd.concat(data_all_days,axis = 0,ignore_index = True)\n",
    "\n",
    "data_all_days[\"day_dt\"] = data_all_days[\"date\"].dt.date\n",
    "data_all_days[\"day_str\"] = data_all_days[\"day_dt\"].map(str)"
   ],
   "outputs": [
    {
     "output_type": "display_data",
     "data": {
      "application/vnd.jupyter.widget-view+json": {
       "version_major": 2,
       "version_minor": 0,
       "model_id": "5bf1d48614924aa98702c2f7374c07c6"
      },
      "text/plain": [
       "  0%|          | 0/7 [00:00<?, ?it/s]"
      ]
     },
     "metadata": {}
    }
   ],
   "metadata": {}
  },
  {
   "cell_type": "code",
   "execution_count": 161,
   "source": [
    "method = \"first\" #average or first\n",
    "ranking = (data_all_days\n",
    "           .groupby([\"channel_name\",\"media\",\"media2\",\"keyword\",\"day_dt\"])[\"count\"].sum()\n",
    "           .unstack(\"day_dt\").fillna(0.0).stack()\n",
    "           .unstack(\"keyword\").fillna(0.0).stack()\n",
    "#            .unstack(\"channel_name\").fillna(0.0).stack()\n",
    "           .reset_index(drop = False)\n",
    "           .rename(columns = {0:\"count\"})\n",
    "          )\n",
    "\n",
    "ranking[\"minutes\"] = ranking[\"count\"] * 2\n",
    "ranking[\"total_time\"] = 18 * 60 * 1\n",
    "ranking[\"media_part\"] = ranking[\"minutes\"] / ranking[\"total_time\"]\n",
    "\n",
    "ranking[\"rank\"] = ranking.groupby([\"media2\",\"day_dt\",\"keyword\"])[\"count\"].transform(\"rank\",ascending = False,method = method)\n",
    "ranking[\"count_total\"] = ranking.groupby([\"channel_name\",\"media2\",\"day_dt\"])[\"count\"].transform(\"sum\")\n",
    "ranking[\"rank_total\"] = ranking.groupby([\"media2\",\"day_dt\",\"keyword\"])[\"count_total\"].transform(\"rank\",ascending = False,method = method)\n",
    "ranking[\"media_part_total\"] = ranking[\"count_total\"] * 2 / ranking[\"total_time\"]\n",
    "ranking[\"day_str\"] = ranking[\"day_dt\"].map(str)\n",
    "ranking.query(\"media2=='TV - Généraliste' and keyword=='COP27'\").head()"
   ],
   "outputs": [
    {
     "output_type": "execute_result",
     "data": {
      "text/html": [
       "<div>\n",
       "<style scoped>\n",
       "    .dataframe tbody tr th:only-of-type {\n",
       "        vertical-align: middle;\n",
       "    }\n",
       "\n",
       "    .dataframe tbody tr th {\n",
       "        vertical-align: top;\n",
       "    }\n",
       "\n",
       "    .dataframe thead th {\n",
       "        text-align: right;\n",
       "    }\n",
       "</style>\n",
       "<table border=\"1\" class=\"dataframe\">\n",
       "  <thead>\n",
       "    <tr style=\"text-align: right;\">\n",
       "      <th></th>\n",
       "      <th>channel_name</th>\n",
       "      <th>media</th>\n",
       "      <th>media2</th>\n",
       "      <th>day_dt</th>\n",
       "      <th>keyword</th>\n",
       "      <th>count</th>\n",
       "      <th>minutes</th>\n",
       "      <th>total_time</th>\n",
       "      <th>media_part</th>\n",
       "      <th>rank</th>\n",
       "      <th>count_total</th>\n",
       "      <th>rank_total</th>\n",
       "      <th>media_part_total</th>\n",
       "      <th>day_str</th>\n",
       "    </tr>\n",
       "  </thead>\n",
       "  <tbody>\n",
       "    <tr>\n",
       "      <th>98</th>\n",
       "      <td>C8</td>\n",
       "      <td>TV</td>\n",
       "      <td>TV - Généraliste</td>\n",
       "      <td>2022-11-05</td>\n",
       "      <td>COP27</td>\n",
       "      <td>1.0</td>\n",
       "      <td>2.0</td>\n",
       "      <td>1080</td>\n",
       "      <td>0.001852</td>\n",
       "      <td>2.0</td>\n",
       "      <td>9.0</td>\n",
       "      <td>2.0</td>\n",
       "      <td>0.016667</td>\n",
       "      <td>2022-11-05</td>\n",
       "    </tr>\n",
       "    <tr>\n",
       "      <th>105</th>\n",
       "      <td>C8</td>\n",
       "      <td>TV</td>\n",
       "      <td>TV - Généraliste</td>\n",
       "      <td>2022-11-06</td>\n",
       "      <td>COP27</td>\n",
       "      <td>0.0</td>\n",
       "      <td>0.0</td>\n",
       "      <td>1080</td>\n",
       "      <td>0.000000</td>\n",
       "      <td>3.0</td>\n",
       "      <td>4.0</td>\n",
       "      <td>5.0</td>\n",
       "      <td>0.007407</td>\n",
       "      <td>2022-11-06</td>\n",
       "    </tr>\n",
       "    <tr>\n",
       "      <th>112</th>\n",
       "      <td>C8</td>\n",
       "      <td>TV</td>\n",
       "      <td>TV - Généraliste</td>\n",
       "      <td>2022-11-07</td>\n",
       "      <td>COP27</td>\n",
       "      <td>0.0</td>\n",
       "      <td>0.0</td>\n",
       "      <td>1080</td>\n",
       "      <td>0.000000</td>\n",
       "      <td>5.0</td>\n",
       "      <td>9.0</td>\n",
       "      <td>7.0</td>\n",
       "      <td>0.016667</td>\n",
       "      <td>2022-11-07</td>\n",
       "    </tr>\n",
       "    <tr>\n",
       "      <th>119</th>\n",
       "      <td>C8</td>\n",
       "      <td>TV</td>\n",
       "      <td>TV - Généraliste</td>\n",
       "      <td>2022-11-08</td>\n",
       "      <td>COP27</td>\n",
       "      <td>0.0</td>\n",
       "      <td>0.0</td>\n",
       "      <td>1080</td>\n",
       "      <td>0.000000</td>\n",
       "      <td>8.0</td>\n",
       "      <td>12.0</td>\n",
       "      <td>6.0</td>\n",
       "      <td>0.022222</td>\n",
       "      <td>2022-11-08</td>\n",
       "    </tr>\n",
       "    <tr>\n",
       "      <th>126</th>\n",
       "      <td>C8</td>\n",
       "      <td>TV</td>\n",
       "      <td>TV - Généraliste</td>\n",
       "      <td>2022-11-09</td>\n",
       "      <td>COP27</td>\n",
       "      <td>0.0</td>\n",
       "      <td>0.0</td>\n",
       "      <td>1080</td>\n",
       "      <td>0.000000</td>\n",
       "      <td>3.0</td>\n",
       "      <td>10.0</td>\n",
       "      <td>8.0</td>\n",
       "      <td>0.018519</td>\n",
       "      <td>2022-11-09</td>\n",
       "    </tr>\n",
       "  </tbody>\n",
       "</table>\n",
       "</div>"
      ],
      "text/plain": [
       "    channel_name media            media2      day_dt keyword  count  minutes  \\\n",
       "98            C8    TV  TV - Généraliste  2022-11-05   COP27    1.0      2.0   \n",
       "105           C8    TV  TV - Généraliste  2022-11-06   COP27    0.0      0.0   \n",
       "112           C8    TV  TV - Généraliste  2022-11-07   COP27    0.0      0.0   \n",
       "119           C8    TV  TV - Généraliste  2022-11-08   COP27    0.0      0.0   \n",
       "126           C8    TV  TV - Généraliste  2022-11-09   COP27    0.0      0.0   \n",
       "\n",
       "     total_time  media_part  rank  count_total  rank_total  media_part_total  \\\n",
       "98         1080    0.001852   2.0          9.0         2.0          0.016667   \n",
       "105        1080    0.000000   3.0          4.0         5.0          0.007407   \n",
       "112        1080    0.000000   5.0          9.0         7.0          0.016667   \n",
       "119        1080    0.000000   8.0         12.0         6.0          0.022222   \n",
       "126        1080    0.000000   3.0         10.0         8.0          0.018519   \n",
       "\n",
       "        day_str  \n",
       "98   2022-11-05  \n",
       "105  2022-11-06  \n",
       "112  2022-11-07  \n",
       "119  2022-11-08  \n",
       "126  2022-11-09  "
      ]
     },
     "metadata": {},
     "execution_count": 161
    }
   ],
   "metadata": {}
  },
  {
   "cell_type": "code",
   "execution_count": 70,
   "source": [
    "import seaborn as sns\n",
    "ranking_data_chart = ranking.query(\"media2=='TV - Généraliste' and keyword=='cop27'\")\n",
    "def show_ranking_chart(ranking_data,title = \"\",height = 500,total = False):\n",
    "    \n",
    "    rank_col = \"rank\" if not total else \"rank_total\"\n",
    "    percent_col = \"media_part\" if not total else \"media_part_total\"\n",
    "    \n",
    "    \n",
    "    annot_labels_data = (ranking_data\n",
    "                         .loc[ranking_data[\"day_dt\"]==ranking_data[\"day_dt\"].max()]\n",
    "                         .sort_values(rank_col,ascending = True)\n",
    "                        )\n",
    "    \n",
    "    fig = px.line(\n",
    "        ranking_data,\n",
    "        x = \"day_dt\",\n",
    "        y = rank_col,\n",
    "        color = \"channel_name\",\n",
    "        text = rank_col,\n",
    "        markers = True,\n",
    "        color_discrete_sequence = make_ws_palette(len(annot_labels_data)),\n",
    "        category_orders = {\"channel_name\":annot_labels_data[\"channel_name\"].tolist()}\n",
    "    )\n",
    "\n",
    "    # fig.update_traces(marker=dict(size=15),selector=dict(mode='markers'))\n",
    "    fig.update_layout(\n",
    "        xaxis_tickmode = \"linear\",yaxis_autorange = \"reversed\",\n",
    "        xaxis_showgrid = False,yaxis_showgrid = False,\n",
    "        xaxis_title = \"Date de la COP27\",\n",
    "        yaxis_title = None,\n",
    "        yaxis_showticklabels = False,\n",
    "    )\n",
    "    fig.update_traces(marker_size= 20,\n",
    "                      marker = dict(line=dict(width=2)),textposition=\"middle center\",\n",
    "                      textfont_size=12,\n",
    "                      textfont_color=\"white\",\n",
    "                     )\n",
    "\n",
    "\n",
    "\n",
    "    annotations = []\n",
    "\n",
    "\n",
    "\n",
    "\n",
    "\n",
    "    # Adding labels    \n",
    "    for i,row in annot_labels_data.iterrows():\n",
    "        annotations.append(dict(xref='paper', x=0.95, y=row[rank_col],\n",
    "                                      xanchor='left', yanchor='middle',\n",
    "                                      text=row[\"channel_name\"] + \" (\"+ f'{row[percent_col]:.1%}'+\")\",\n",
    "                                      font=dict(family='Poppins',\n",
    "                                                size=12),\n",
    "                                      showarrow=False))\n",
    "    #     # labeling the right_side of the plot\n",
    "    #     annotations.append(dict(xref='paper', x=0.95, y=y_trace[11],\n",
    "    #                                   xanchor='left', yanchor='middle',\n",
    "    #                                   text='{}%'.format(y_trace[11]),\n",
    "    #                                   font=dict(family='Arial',\n",
    "    #                                             size=16),\n",
    "\n",
    "\n",
    "    fig.update_layout(\n",
    "    #     width = 1000,\n",
    "        margin_r = 200,\n",
    "        height = height,\n",
    "        annotations=annotations,\n",
    "        showlegend = False,title = title,\n",
    "        font_family = \"Poppins\"\n",
    "                     )\n",
    "    return fig\n",
    "\n",
    "\n",
    "\n"
   ],
   "outputs": [],
   "metadata": {
    "scrolled": false
   }
  },
  {
   "cell_type": "code",
   "execution_count": 71,
   "source": [
    "\n",
    "show_ranking_chart(\n",
    "    ranking.query(\"media2=='TV - Généraliste' and keyword=='COP27'\"),\n",
    "    \"Evolution du classement des chaînes TV généralistes sur la COP27\",\n",
    "    height = 600,\n",
    ").show()\n",
    "\n",
    "show_ranking_chart(\n",
    "    ranking.query(\"media2=='TV - Généraliste' and keyword=='COP27'\"),\n",
    "    \"Evolution du classement des chaînes TV généralistes sur la COP27 et l'écologie\",\n",
    "    height = 600,\n",
    "    total = True\n",
    ").show()"
   ],
   "outputs": [
    {
     "output_type": "display_data",
     "data": {
      "application/vnd.plotly.v1+json": {
       "data": [
        {
         "hovertemplate": "channel_name=TMC<br>day_dt=%{x}<br>rank=%{text}<extra></extra>",
         "legendgroup": "TMC",
         "line": {
          "color": "rgb(28,92,158)",
          "dash": "solid"
         },
         "marker": {
          "symbol": "circle",
          "line": {
           "width": 2
          },
          "size": 20
         },
         "mode": "lines+markers+text",
         "name": "TMC",
         "orientation": "v",
         "showlegend": true,
         "text": [
          10,
          10,
          3,
          7,
          10,
          3,
          1
         ],
         "x": [
          "2022-11-05",
          "2022-11-06",
          "2022-11-07",
          "2022-11-08",
          "2022-11-09",
          "2022-11-10",
          "2022-11-11"
         ],
         "xaxis": "x",
         "y": [
          10,
          10,
          3,
          7,
          10,
          3,
          1
         ],
         "yaxis": "y",
         "type": "scatter",
         "textfont": {
          "color": "white",
          "size": 12
         },
         "textposition": "middle center"
        },
        {
         "hovertemplate": "channel_name=RMC Story<br>day_dt=%{x}<br>rank=%{text}<extra></extra>",
         "legendgroup": "RMC Story",
         "line": {
          "color": "rgb(55,131,186)",
          "dash": "solid"
         },
         "marker": {
          "symbol": "circle",
          "line": {
           "width": 2
          },
          "size": 20
         },
         "mode": "lines+markers+text",
         "name": "RMC Story",
         "orientation": "v",
         "showlegend": true,
         "text": [
          8,
          8,
          1,
          1,
          2,
          9,
          2
         ],
         "x": [
          "2022-11-05",
          "2022-11-06",
          "2022-11-07",
          "2022-11-08",
          "2022-11-09",
          "2022-11-10",
          "2022-11-11"
         ],
         "xaxis": "x",
         "y": [
          8,
          8,
          1,
          1,
          2,
          9,
          2
         ],
         "yaxis": "y",
         "type": "scatter",
         "textfont": {
          "color": "white",
          "size": 12
         },
         "textposition": "middle center"
        },
        {
         "hovertemplate": "channel_name=France 2<br>day_dt=%{x}<br>rank=%{text}<extra></extra>",
         "legendgroup": "France 2",
         "line": {
          "color": "rgb(107,172,208)",
          "dash": "solid"
         },
         "marker": {
          "symbol": "circle",
          "line": {
           "width": 2
          },
          "size": 20
         },
         "mode": "lines+markers+text",
         "name": "France 2",
         "orientation": "v",
         "showlegend": true,
         "text": [
          1,
          1,
          4,
          2,
          1,
          2,
          3
         ],
         "x": [
          "2022-11-05",
          "2022-11-06",
          "2022-11-07",
          "2022-11-08",
          "2022-11-09",
          "2022-11-10",
          "2022-11-11"
         ],
         "xaxis": "x",
         "y": [
          1,
          1,
          4,
          2,
          1,
          2,
          3
         ],
         "yaxis": "y",
         "type": "scatter",
         "textfont": {
          "color": "white",
          "size": 12
         },
         "textposition": "middle center"
        },
        {
         "hovertemplate": "channel_name=France 5<br>day_dt=%{x}<br>rank=%{text}<extra></extra>",
         "legendgroup": "France 5",
         "line": {
          "color": "rgb(167,207,228)",
          "dash": "solid"
         },
         "marker": {
          "symbol": "circle",
          "line": {
           "width": 2
          },
          "size": 20
         },
         "mode": "lines+markers+text",
         "name": "France 5",
         "orientation": "v",
         "showlegend": true,
         "text": [
          3,
          5,
          5,
          3,
          5,
          6,
          4
         ],
         "x": [
          "2022-11-05",
          "2022-11-06",
          "2022-11-07",
          "2022-11-08",
          "2022-11-09",
          "2022-11-10",
          "2022-11-11"
         ],
         "xaxis": "x",
         "y": [
          3,
          5,
          5,
          3,
          5,
          6,
          4
         ],
         "yaxis": "y",
         "type": "scatter",
         "textfont": {
          "color": "white",
          "size": 12
         },
         "textposition": "middle center"
        },
        {
         "hovertemplate": "channel_name=M6<br>day_dt=%{x}<br>rank=%{text}<extra></extra>",
         "legendgroup": "M6",
         "line": {
          "color": "rgb(214,231,241)",
          "dash": "solid"
         },
         "marker": {
          "symbol": "circle",
          "line": {
           "width": 2
          },
          "size": 20
         },
         "mode": "lines+markers+text",
         "name": "M6",
         "orientation": "v",
         "showlegend": true,
         "text": [
          6,
          6,
          8,
          9,
          6,
          7,
          5
         ],
         "x": [
          "2022-11-05",
          "2022-11-06",
          "2022-11-07",
          "2022-11-08",
          "2022-11-09",
          "2022-11-10",
          "2022-11-11"
         ],
         "xaxis": "x",
         "y": [
          6,
          6,
          8,
          9,
          6,
          7,
          5
         ],
         "yaxis": "y",
         "type": "scatter",
         "textfont": {
          "color": "white",
          "size": 12
         },
         "textposition": "middle center"
        },
        {
         "hovertemplate": "channel_name=C8<br>day_dt=%{x}<br>rank=%{text}<extra></extra>",
         "legendgroup": "C8",
         "line": {
          "color": "rgb(247,246,246)",
          "dash": "solid"
         },
         "marker": {
          "symbol": "circle",
          "line": {
           "width": 2
          },
          "size": 20
         },
         "mode": "lines+markers+text",
         "name": "C8",
         "orientation": "v",
         "showlegend": true,
         "text": [
          2,
          3,
          6,
          8,
          3,
          4,
          6
         ],
         "x": [
          "2022-11-05",
          "2022-11-06",
          "2022-11-07",
          "2022-11-08",
          "2022-11-09",
          "2022-11-10",
          "2022-11-11"
         ],
         "xaxis": "x",
         "y": [
          2,
          3,
          6,
          8,
          3,
          4,
          6
         ],
         "yaxis": "y",
         "type": "scatter",
         "textfont": {
          "color": "white",
          "size": 12
         },
         "textposition": "middle center"
        },
        {
         "hovertemplate": "channel_name=Canal+<br>day_dt=%{x}<br>rank=%{text}<extra></extra>",
         "legendgroup": "Canal+",
         "line": {
          "color": "rgb(252,223,206)",
          "dash": "solid"
         },
         "marker": {
          "symbol": "circle",
          "line": {
           "width": 2
          },
          "size": 20
         },
         "mode": "lines+markers+text",
         "name": "Canal+",
         "orientation": "v",
         "showlegend": true,
         "text": [
          5,
          4,
          7,
          5,
          4,
          5,
          7
         ],
         "x": [
          "2022-11-05",
          "2022-11-06",
          "2022-11-07",
          "2022-11-08",
          "2022-11-09",
          "2022-11-10",
          "2022-11-11"
         ],
         "xaxis": "x",
         "y": [
          5,
          4,
          7,
          5,
          4,
          5,
          7
         ],
         "yaxis": "y",
         "type": "scatter",
         "textfont": {
          "color": "white",
          "size": 12
         },
         "textposition": "middle center"
        },
        {
         "hovertemplate": "channel_name=RMC Découverte<br>day_dt=%{x}<br>rank=%{text}<extra></extra>",
         "legendgroup": "RMC Découverte",
         "line": {
          "color": "rgb(247,183,153)",
          "dash": "solid"
         },
         "marker": {
          "symbol": "circle",
          "line": {
           "width": 2
          },
          "size": 20
         },
         "mode": "lines+markers+text",
         "name": "RMC Découverte",
         "orientation": "v",
         "showlegend": true,
         "text": [
          7,
          7,
          9,
          10,
          7,
          8,
          8
         ],
         "x": [
          "2022-11-05",
          "2022-11-06",
          "2022-11-07",
          "2022-11-08",
          "2022-11-09",
          "2022-11-10",
          "2022-11-11"
         ],
         "xaxis": "x",
         "y": [
          7,
          7,
          9,
          10,
          7,
          8,
          8
         ],
         "yaxis": "y",
         "type": "scatter",
         "textfont": {
          "color": "white",
          "size": 12
         },
         "textposition": "middle center"
        },
        {
         "hovertemplate": "channel_name=TF1<br>day_dt=%{x}<br>rank=%{text}<extra></extra>",
         "legendgroup": "TF1",
         "line": {
          "color": "rgb(228,128,101)",
          "dash": "solid"
         },
         "marker": {
          "symbol": "circle",
          "line": {
           "width": 2
          },
          "size": 20
         },
         "mode": "lines+markers+text",
         "name": "TF1",
         "orientation": "v",
         "showlegend": true,
         "text": [
          4,
          2,
          2,
          4,
          8,
          1,
          9
         ],
         "x": [
          "2022-11-05",
          "2022-11-06",
          "2022-11-07",
          "2022-11-08",
          "2022-11-09",
          "2022-11-10",
          "2022-11-11"
         ],
         "xaxis": "x",
         "y": [
          4,
          2,
          2,
          4,
          8,
          1,
          9
         ],
         "yaxis": "y",
         "type": "scatter",
         "textfont": {
          "color": "white",
          "size": 12
         },
         "textposition": "middle center"
        },
        {
         "hovertemplate": "channel_name=TFX<br>day_dt=%{x}<br>rank=%{text}<extra></extra>",
         "legendgroup": "TFX",
         "line": {
          "color": "rgb(201,70,65)",
          "dash": "solid"
         },
         "marker": {
          "symbol": "circle",
          "line": {
           "width": 2
          },
          "size": 20
         },
         "mode": "lines+markers+text",
         "name": "TFX",
         "orientation": "v",
         "showlegend": true,
         "text": [
          9,
          9,
          10,
          6,
          9,
          10,
          10
         ],
         "x": [
          "2022-11-05",
          "2022-11-06",
          "2022-11-07",
          "2022-11-08",
          "2022-11-09",
          "2022-11-10",
          "2022-11-11"
         ],
         "xaxis": "x",
         "y": [
          9,
          9,
          10,
          6,
          9,
          10,
          10
         ],
         "yaxis": "y",
         "type": "scatter",
         "textfont": {
          "color": "white",
          "size": 12
         },
         "textposition": "middle center"
        },
        {
         "hovertemplate": "channel_name=W9<br>day_dt=%{x}<br>rank=%{text}<extra></extra>",
         "legendgroup": "W9",
         "line": {
          "color": "rgb(164,19,40)",
          "dash": "solid"
         },
         "marker": {
          "symbol": "circle",
          "line": {
           "width": 2
          },
          "size": 20
         },
         "mode": "lines+markers+text",
         "name": "W9",
         "orientation": "v",
         "showlegend": true,
         "text": [
          11,
          11,
          11,
          11,
          11,
          11,
          11
         ],
         "x": [
          "2022-11-05",
          "2022-11-06",
          "2022-11-07",
          "2022-11-08",
          "2022-11-09",
          "2022-11-10",
          "2022-11-11"
         ],
         "xaxis": "x",
         "y": [
          11,
          11,
          11,
          11,
          11,
          11,
          11
         ],
         "yaxis": "y",
         "type": "scatter",
         "textfont": {
          "color": "white",
          "size": 12
         },
         "textposition": "middle center"
        }
       ],
       "layout": {
        "template": {
         "data": {
          "barpolar": [
           {
            "marker": {
             "line": {
              "color": "white",
              "width": 0.5
             },
             "pattern": {
              "fillmode": "overlay",
              "size": 10,
              "solidity": 0.2
             }
            },
            "type": "barpolar"
           }
          ],
          "bar": [
           {
            "error_x": {
             "color": "#2a3f5f"
            },
            "error_y": {
             "color": "#2a3f5f"
            },
            "marker": {
             "line": {
              "color": "white",
              "width": 0.5
             },
             "pattern": {
              "fillmode": "overlay",
              "size": 10,
              "solidity": 0.2
             }
            },
            "type": "bar"
           }
          ],
          "carpet": [
           {
            "aaxis": {
             "endlinecolor": "#2a3f5f",
             "gridcolor": "#C8D4E3",
             "linecolor": "#C8D4E3",
             "minorgridcolor": "#C8D4E3",
             "startlinecolor": "#2a3f5f"
            },
            "baxis": {
             "endlinecolor": "#2a3f5f",
             "gridcolor": "#C8D4E3",
             "linecolor": "#C8D4E3",
             "minorgridcolor": "#C8D4E3",
             "startlinecolor": "#2a3f5f"
            },
            "type": "carpet"
           }
          ],
          "choropleth": [
           {
            "colorbar": {
             "outlinewidth": 0,
             "ticks": ""
            },
            "type": "choropleth"
           }
          ],
          "contourcarpet": [
           {
            "colorbar": {
             "outlinewidth": 0,
             "ticks": ""
            },
            "type": "contourcarpet"
           }
          ],
          "contour": [
           {
            "colorbar": {
             "outlinewidth": 0,
             "ticks": ""
            },
            "colorscale": [
             [
              0,
              "#0d0887"
             ],
             [
              0.1111111111111111,
              "#46039f"
             ],
             [
              0.2222222222222222,
              "#7201a8"
             ],
             [
              0.3333333333333333,
              "#9c179e"
             ],
             [
              0.4444444444444444,
              "#bd3786"
             ],
             [
              0.5555555555555556,
              "#d8576b"
             ],
             [
              0.6666666666666666,
              "#ed7953"
             ],
             [
              0.7777777777777778,
              "#fb9f3a"
             ],
             [
              0.8888888888888888,
              "#fdca26"
             ],
             [
              1,
              "#f0f921"
             ]
            ],
            "type": "contour"
           }
          ],
          "heatmapgl": [
           {
            "colorbar": {
             "outlinewidth": 0,
             "ticks": ""
            },
            "colorscale": [
             [
              0,
              "#0d0887"
             ],
             [
              0.1111111111111111,
              "#46039f"
             ],
             [
              0.2222222222222222,
              "#7201a8"
             ],
             [
              0.3333333333333333,
              "#9c179e"
             ],
             [
              0.4444444444444444,
              "#bd3786"
             ],
             [
              0.5555555555555556,
              "#d8576b"
             ],
             [
              0.6666666666666666,
              "#ed7953"
             ],
             [
              0.7777777777777778,
              "#fb9f3a"
             ],
             [
              0.8888888888888888,
              "#fdca26"
             ],
             [
              1,
              "#f0f921"
             ]
            ],
            "type": "heatmapgl"
           }
          ],
          "heatmap": [
           {
            "colorbar": {
             "outlinewidth": 0,
             "ticks": ""
            },
            "colorscale": [
             [
              0,
              "#0d0887"
             ],
             [
              0.1111111111111111,
              "#46039f"
             ],
             [
              0.2222222222222222,
              "#7201a8"
             ],
             [
              0.3333333333333333,
              "#9c179e"
             ],
             [
              0.4444444444444444,
              "#bd3786"
             ],
             [
              0.5555555555555556,
              "#d8576b"
             ],
             [
              0.6666666666666666,
              "#ed7953"
             ],
             [
              0.7777777777777778,
              "#fb9f3a"
             ],
             [
              0.8888888888888888,
              "#fdca26"
             ],
             [
              1,
              "#f0f921"
             ]
            ],
            "type": "heatmap"
           }
          ],
          "histogram2dcontour": [
           {
            "colorbar": {
             "outlinewidth": 0,
             "ticks": ""
            },
            "colorscale": [
             [
              0,
              "#0d0887"
             ],
             [
              0.1111111111111111,
              "#46039f"
             ],
             [
              0.2222222222222222,
              "#7201a8"
             ],
             [
              0.3333333333333333,
              "#9c179e"
             ],
             [
              0.4444444444444444,
              "#bd3786"
             ],
             [
              0.5555555555555556,
              "#d8576b"
             ],
             [
              0.6666666666666666,
              "#ed7953"
             ],
             [
              0.7777777777777778,
              "#fb9f3a"
             ],
             [
              0.8888888888888888,
              "#fdca26"
             ],
             [
              1,
              "#f0f921"
             ]
            ],
            "type": "histogram2dcontour"
           }
          ],
          "histogram2d": [
           {
            "colorbar": {
             "outlinewidth": 0,
             "ticks": ""
            },
            "colorscale": [
             [
              0,
              "#0d0887"
             ],
             [
              0.1111111111111111,
              "#46039f"
             ],
             [
              0.2222222222222222,
              "#7201a8"
             ],
             [
              0.3333333333333333,
              "#9c179e"
             ],
             [
              0.4444444444444444,
              "#bd3786"
             ],
             [
              0.5555555555555556,
              "#d8576b"
             ],
             [
              0.6666666666666666,
              "#ed7953"
             ],
             [
              0.7777777777777778,
              "#fb9f3a"
             ],
             [
              0.8888888888888888,
              "#fdca26"
             ],
             [
              1,
              "#f0f921"
             ]
            ],
            "type": "histogram2d"
           }
          ],
          "histogram": [
           {
            "marker": {
             "pattern": {
              "fillmode": "overlay",
              "size": 10,
              "solidity": 0.2
             }
            },
            "type": "histogram"
           }
          ],
          "mesh3d": [
           {
            "colorbar": {
             "outlinewidth": 0,
             "ticks": ""
            },
            "type": "mesh3d"
           }
          ],
          "parcoords": [
           {
            "line": {
             "colorbar": {
              "outlinewidth": 0,
              "ticks": ""
             }
            },
            "type": "parcoords"
           }
          ],
          "pie": [
           {
            "automargin": true,
            "type": "pie"
           }
          ],
          "scatter3d": [
           {
            "line": {
             "colorbar": {
              "outlinewidth": 0,
              "ticks": ""
             }
            },
            "marker": {
             "colorbar": {
              "outlinewidth": 0,
              "ticks": ""
             }
            },
            "type": "scatter3d"
           }
          ],
          "scattercarpet": [
           {
            "marker": {
             "colorbar": {
              "outlinewidth": 0,
              "ticks": ""
             }
            },
            "type": "scattercarpet"
           }
          ],
          "scattergeo": [
           {
            "marker": {
             "colorbar": {
              "outlinewidth": 0,
              "ticks": ""
             }
            },
            "type": "scattergeo"
           }
          ],
          "scattergl": [
           {
            "marker": {
             "colorbar": {
              "outlinewidth": 0,
              "ticks": ""
             }
            },
            "type": "scattergl"
           }
          ],
          "scattermapbox": [
           {
            "marker": {
             "colorbar": {
              "outlinewidth": 0,
              "ticks": ""
             }
            },
            "type": "scattermapbox"
           }
          ],
          "scatterpolargl": [
           {
            "marker": {
             "colorbar": {
              "outlinewidth": 0,
              "ticks": ""
             }
            },
            "type": "scatterpolargl"
           }
          ],
          "scatterpolar": [
           {
            "marker": {
             "colorbar": {
              "outlinewidth": 0,
              "ticks": ""
             }
            },
            "type": "scatterpolar"
           }
          ],
          "scatter": [
           {
            "fillpattern": {
             "fillmode": "overlay",
             "size": 10,
             "solidity": 0.2
            },
            "type": "scatter"
           }
          ],
          "scatterternary": [
           {
            "marker": {
             "colorbar": {
              "outlinewidth": 0,
              "ticks": ""
             }
            },
            "type": "scatterternary"
           }
          ],
          "surface": [
           {
            "colorbar": {
             "outlinewidth": 0,
             "ticks": ""
            },
            "colorscale": [
             [
              0,
              "#0d0887"
             ],
             [
              0.1111111111111111,
              "#46039f"
             ],
             [
              0.2222222222222222,
              "#7201a8"
             ],
             [
              0.3333333333333333,
              "#9c179e"
             ],
             [
              0.4444444444444444,
              "#bd3786"
             ],
             [
              0.5555555555555556,
              "#d8576b"
             ],
             [
              0.6666666666666666,
              "#ed7953"
             ],
             [
              0.7777777777777778,
              "#fb9f3a"
             ],
             [
              0.8888888888888888,
              "#fdca26"
             ],
             [
              1,
              "#f0f921"
             ]
            ],
            "type": "surface"
           }
          ],
          "table": [
           {
            "cells": {
             "fill": {
              "color": "#EBF0F8"
             },
             "line": {
              "color": "white"
             }
            },
            "header": {
             "fill": {
              "color": "#C8D4E3"
             },
             "line": {
              "color": "white"
             }
            },
            "type": "table"
           }
          ]
         },
         "layout": {
          "annotationdefaults": {
           "arrowcolor": "#2a3f5f",
           "arrowhead": 0,
           "arrowwidth": 1
          },
          "autotypenumbers": "strict",
          "coloraxis": {
           "colorbar": {
            "outlinewidth": 0,
            "ticks": ""
           }
          },
          "colorscale": {
           "diverging": [
            [
             0,
             "#8e0152"
            ],
            [
             0.1,
             "#c51b7d"
            ],
            [
             0.2,
             "#de77ae"
            ],
            [
             0.3,
             "#f1b6da"
            ],
            [
             0.4,
             "#fde0ef"
            ],
            [
             0.5,
             "#f7f7f7"
            ],
            [
             0.6,
             "#e6f5d0"
            ],
            [
             0.7,
             "#b8e186"
            ],
            [
             0.8,
             "#7fbc41"
            ],
            [
             0.9,
             "#4d9221"
            ],
            [
             1,
             "#276419"
            ]
           ],
           "sequential": [
            [
             0,
             "#0d0887"
            ],
            [
             0.1111111111111111,
             "#46039f"
            ],
            [
             0.2222222222222222,
             "#7201a8"
            ],
            [
             0.3333333333333333,
             "#9c179e"
            ],
            [
             0.4444444444444444,
             "#bd3786"
            ],
            [
             0.5555555555555556,
             "#d8576b"
            ],
            [
             0.6666666666666666,
             "#ed7953"
            ],
            [
             0.7777777777777778,
             "#fb9f3a"
            ],
            [
             0.8888888888888888,
             "#fdca26"
            ],
            [
             1,
             "#f0f921"
            ]
           ],
           "sequentialminus": [
            [
             0,
             "#0d0887"
            ],
            [
             0.1111111111111111,
             "#46039f"
            ],
            [
             0.2222222222222222,
             "#7201a8"
            ],
            [
             0.3333333333333333,
             "#9c179e"
            ],
            [
             0.4444444444444444,
             "#bd3786"
            ],
            [
             0.5555555555555556,
             "#d8576b"
            ],
            [
             0.6666666666666666,
             "#ed7953"
            ],
            [
             0.7777777777777778,
             "#fb9f3a"
            ],
            [
             0.8888888888888888,
             "#fdca26"
            ],
            [
             1,
             "#f0f921"
            ]
           ]
          },
          "colorway": [
           "#636efa",
           "#EF553B",
           "#00cc96",
           "#ab63fa",
           "#FFA15A",
           "#19d3f3",
           "#FF6692",
           "#B6E880",
           "#FF97FF",
           "#FECB52"
          ],
          "font": {
           "color": "#2a3f5f"
          },
          "geo": {
           "bgcolor": "white",
           "lakecolor": "white",
           "landcolor": "white",
           "showlakes": true,
           "showland": true,
           "subunitcolor": "#C8D4E3"
          },
          "hoverlabel": {
           "align": "left"
          },
          "hovermode": "closest",
          "mapbox": {
           "style": "light"
          },
          "paper_bgcolor": "white",
          "plot_bgcolor": "white",
          "polar": {
           "angularaxis": {
            "gridcolor": "#EBF0F8",
            "linecolor": "#EBF0F8",
            "ticks": ""
           },
           "bgcolor": "white",
           "radialaxis": {
            "gridcolor": "#EBF0F8",
            "linecolor": "#EBF0F8",
            "ticks": ""
           }
          },
          "scene": {
           "xaxis": {
            "backgroundcolor": "white",
            "gridcolor": "#DFE8F3",
            "gridwidth": 2,
            "linecolor": "#EBF0F8",
            "showbackground": true,
            "ticks": "",
            "zerolinecolor": "#EBF0F8"
           },
           "yaxis": {
            "backgroundcolor": "white",
            "gridcolor": "#DFE8F3",
            "gridwidth": 2,
            "linecolor": "#EBF0F8",
            "showbackground": true,
            "ticks": "",
            "zerolinecolor": "#EBF0F8"
           },
           "zaxis": {
            "backgroundcolor": "white",
            "gridcolor": "#DFE8F3",
            "gridwidth": 2,
            "linecolor": "#EBF0F8",
            "showbackground": true,
            "ticks": "",
            "zerolinecolor": "#EBF0F8"
           }
          },
          "shapedefaults": {
           "line": {
            "color": "#2a3f5f"
           }
          },
          "ternary": {
           "aaxis": {
            "gridcolor": "#DFE8F3",
            "linecolor": "#A2B1C6",
            "ticks": ""
           },
           "baxis": {
            "gridcolor": "#DFE8F3",
            "linecolor": "#A2B1C6",
            "ticks": ""
           },
           "bgcolor": "white",
           "caxis": {
            "gridcolor": "#DFE8F3",
            "linecolor": "#A2B1C6",
            "ticks": ""
           }
          },
          "title": {
           "x": 0.05
          },
          "xaxis": {
           "automargin": true,
           "gridcolor": "#EBF0F8",
           "linecolor": "#EBF0F8",
           "ticks": "",
           "title": {
            "standoff": 15
           },
           "zerolinecolor": "#EBF0F8",
           "zerolinewidth": 2
          },
          "yaxis": {
           "automargin": true,
           "gridcolor": "#EBF0F8",
           "linecolor": "#EBF0F8",
           "ticks": "",
           "title": {
            "standoff": 15
           },
           "zerolinecolor": "#EBF0F8",
           "zerolinewidth": 2
          }
         }
        },
        "xaxis": {
         "anchor": "y",
         "domain": [
          0,
          1
         ],
         "title": {
          "text": "Date de la COP27"
         },
         "tickmode": "linear",
         "showgrid": false
        },
        "yaxis": {
         "anchor": "x",
         "domain": [
          0,
          1
         ],
         "title": {},
         "autorange": "reversed",
         "showgrid": false,
         "showticklabels": false
        },
        "legend": {
         "title": {
          "text": "channel_name"
         },
         "tracegroupgap": 0
        },
        "margin": {
         "t": 60,
         "r": 200
        },
        "font": {
         "family": "Poppins"
        },
        "height": 600,
        "annotations": [
         {
          "font": {
           "family": "Poppins",
           "size": 12
          },
          "showarrow": false,
          "text": "TMC (0.7%)",
          "x": 0.95,
          "xanchor": "left",
          "xref": "paper",
          "y": 1,
          "yanchor": "middle"
         },
         {
          "font": {
           "family": "Poppins",
           "size": 12
          },
          "showarrow": false,
          "text": "RMC Story (0.4%)",
          "x": 0.95,
          "xanchor": "left",
          "xref": "paper",
          "y": 2,
          "yanchor": "middle"
         },
         {
          "font": {
           "family": "Poppins",
           "size": 12
          },
          "showarrow": false,
          "text": "France 2 (0.2%)",
          "x": 0.95,
          "xanchor": "left",
          "xref": "paper",
          "y": 3,
          "yanchor": "middle"
         },
         {
          "font": {
           "family": "Poppins",
           "size": 12
          },
          "showarrow": false,
          "text": "France 5 (0.2%)",
          "x": 0.95,
          "xanchor": "left",
          "xref": "paper",
          "y": 4,
          "yanchor": "middle"
         },
         {
          "font": {
           "family": "Poppins",
           "size": 12
          },
          "showarrow": false,
          "text": "M6 (0.2%)",
          "x": 0.95,
          "xanchor": "left",
          "xref": "paper",
          "y": 5,
          "yanchor": "middle"
         },
         {
          "font": {
           "family": "Poppins",
           "size": 12
          },
          "showarrow": false,
          "text": "C8 (0.0%)",
          "x": 0.95,
          "xanchor": "left",
          "xref": "paper",
          "y": 6,
          "yanchor": "middle"
         },
         {
          "font": {
           "family": "Poppins",
           "size": 12
          },
          "showarrow": false,
          "text": "Canal+ (0.0%)",
          "x": 0.95,
          "xanchor": "left",
          "xref": "paper",
          "y": 7,
          "yanchor": "middle"
         },
         {
          "font": {
           "family": "Poppins",
           "size": 12
          },
          "showarrow": false,
          "text": "RMC Découverte (0.0%)",
          "x": 0.95,
          "xanchor": "left",
          "xref": "paper",
          "y": 8,
          "yanchor": "middle"
         },
         {
          "font": {
           "family": "Poppins",
           "size": 12
          },
          "showarrow": false,
          "text": "TF1 (0.0%)",
          "x": 0.95,
          "xanchor": "left",
          "xref": "paper",
          "y": 9,
          "yanchor": "middle"
         },
         {
          "font": {
           "family": "Poppins",
           "size": 12
          },
          "showarrow": false,
          "text": "TFX (0.0%)",
          "x": 0.95,
          "xanchor": "left",
          "xref": "paper",
          "y": 10,
          "yanchor": "middle"
         },
         {
          "font": {
           "family": "Poppins",
           "size": 12
          },
          "showarrow": false,
          "text": "W9 (0.0%)",
          "x": 0.95,
          "xanchor": "left",
          "xref": "paper",
          "y": 11,
          "yanchor": "middle"
         }
        ],
        "showlegend": false,
        "title": {
         "text": "Evolution du classement des chaînes TV généralistes sur la COP27"
        }
       },
       "config": {
        "plotlyServerURL": "https://plot.ly"
       }
      }
     },
     "metadata": {}
    },
    {
     "output_type": "display_data",
     "data": {
      "application/vnd.plotly.v1+json": {
       "data": [
        {
         "hovertemplate": "channel_name=France 2<br>day_dt=%{x}<br>rank_total=%{text}<extra></extra>",
         "legendgroup": "France 2",
         "line": {
          "color": "rgb(28,92,158)",
          "dash": "solid"
         },
         "marker": {
          "symbol": "circle",
          "line": {
           "width": 2
          },
          "size": 20
         },
         "mode": "lines+markers+text",
         "name": "France 2",
         "orientation": "v",
         "showlegend": true,
         "text": [
          3,
          2,
          2,
          1,
          1,
          2,
          1
         ],
         "x": [
          "2022-11-05",
          "2022-11-06",
          "2022-11-07",
          "2022-11-08",
          "2022-11-09",
          "2022-11-10",
          "2022-11-11"
         ],
         "xaxis": "x",
         "y": [
          3,
          2,
          2,
          1,
          1,
          2,
          1
         ],
         "yaxis": "y",
         "type": "scatter",
         "textfont": {
          "color": "white",
          "size": 12
         },
         "textposition": "middle center"
        },
        {
         "hovertemplate": "channel_name=RMC Story<br>day_dt=%{x}<br>rank_total=%{text}<extra></extra>",
         "legendgroup": "RMC Story",
         "line": {
          "color": "rgb(55,131,186)",
          "dash": "solid"
         },
         "marker": {
          "symbol": "circle",
          "line": {
           "width": 2
          },
          "size": 20
         },
         "mode": "lines+markers+text",
         "name": "RMC Story",
         "orientation": "v",
         "showlegend": true,
         "text": [
          8,
          7,
          1,
          3,
          6,
          6,
          2
         ],
         "x": [
          "2022-11-05",
          "2022-11-06",
          "2022-11-07",
          "2022-11-08",
          "2022-11-09",
          "2022-11-10",
          "2022-11-11"
         ],
         "xaxis": "x",
         "y": [
          8,
          7,
          1,
          3,
          6,
          6,
          2
         ],
         "yaxis": "y",
         "type": "scatter",
         "textfont": {
          "color": "white",
          "size": 12
         },
         "textposition": "middle center"
        },
        {
         "hovertemplate": "channel_name=TMC<br>day_dt=%{x}<br>rank_total=%{text}<extra></extra>",
         "legendgroup": "TMC",
         "line": {
          "color": "rgb(107,172,208)",
          "dash": "solid"
         },
         "marker": {
          "symbol": "circle",
          "line": {
           "width": 2
          },
          "size": 20
         },
         "mode": "lines+markers+text",
         "name": "TMC",
         "orientation": "v",
         "showlegend": true,
         "text": [
          10,
          10,
          4,
          4,
          8,
          3,
          3
         ],
         "x": [
          "2022-11-05",
          "2022-11-06",
          "2022-11-07",
          "2022-11-08",
          "2022-11-09",
          "2022-11-10",
          "2022-11-11"
         ],
         "xaxis": "x",
         "y": [
          10,
          10,
          4,
          4,
          8,
          3,
          3
         ],
         "yaxis": "y",
         "type": "scatter",
         "textfont": {
          "color": "white",
          "size": 12
         },
         "textposition": "middle center"
        },
        {
         "hovertemplate": "channel_name=France 5<br>day_dt=%{x}<br>rank_total=%{text}<extra></extra>",
         "legendgroup": "France 5",
         "line": {
          "color": "rgb(167,207,228)",
          "dash": "solid"
         },
         "marker": {
          "symbol": "circle",
          "line": {
           "width": 2
          },
          "size": 20
         },
         "mode": "lines+markers+text",
         "name": "France 5",
         "orientation": "v",
         "showlegend": true,
         "text": [
          1,
          1,
          3,
          2,
          3,
          1,
          4
         ],
         "x": [
          "2022-11-05",
          "2022-11-06",
          "2022-11-07",
          "2022-11-08",
          "2022-11-09",
          "2022-11-10",
          "2022-11-11"
         ],
         "xaxis": "x",
         "y": [
          1,
          1,
          3,
          2,
          3,
          1,
          4
         ],
         "yaxis": "y",
         "type": "scatter",
         "textfont": {
          "color": "white",
          "size": 12
         },
         "textposition": "middle center"
        },
        {
         "hovertemplate": "channel_name=M6<br>day_dt=%{x}<br>rank_total=%{text}<extra></extra>",
         "legendgroup": "M6",
         "line": {
          "color": "rgb(214,231,241)",
          "dash": "solid"
         },
         "marker": {
          "symbol": "circle",
          "line": {
           "width": 2
          },
          "size": 20
         },
         "mode": "lines+markers+text",
         "name": "M6",
         "orientation": "v",
         "showlegend": true,
         "text": [
          5,
          3,
          5,
          7,
          7,
          10,
          5
         ],
         "x": [
          "2022-11-05",
          "2022-11-06",
          "2022-11-07",
          "2022-11-08",
          "2022-11-09",
          "2022-11-10",
          "2022-11-11"
         ],
         "xaxis": "x",
         "y": [
          5,
          3,
          5,
          7,
          7,
          10,
          5
         ],
         "yaxis": "y",
         "type": "scatter",
         "textfont": {
          "color": "white",
          "size": 12
         },
         "textposition": "middle center"
        },
        {
         "hovertemplate": "channel_name=TF1<br>day_dt=%{x}<br>rank_total=%{text}<extra></extra>",
         "legendgroup": "TF1",
         "line": {
          "color": "rgb(247,246,246)",
          "dash": "solid"
         },
         "marker": {
          "symbol": "circle",
          "line": {
           "width": 2
          },
          "size": 20
         },
         "mode": "lines+markers+text",
         "name": "TF1",
         "orientation": "v",
         "showlegend": true,
         "text": [
          4,
          4,
          6,
          6,
          10,
          4,
          6
         ],
         "x": [
          "2022-11-05",
          "2022-11-06",
          "2022-11-07",
          "2022-11-08",
          "2022-11-09",
          "2022-11-10",
          "2022-11-11"
         ],
         "xaxis": "x",
         "y": [
          4,
          4,
          6,
          6,
          10,
          4,
          6
         ],
         "yaxis": "y",
         "type": "scatter",
         "textfont": {
          "color": "white",
          "size": 12
         },
         "textposition": "middle center"
        },
        {
         "hovertemplate": "channel_name=Canal+<br>day_dt=%{x}<br>rank_total=%{text}<extra></extra>",
         "legendgroup": "Canal+",
         "line": {
          "color": "rgb(252,223,206)",
          "dash": "solid"
         },
         "marker": {
          "symbol": "circle",
          "line": {
           "width": 2
          },
          "size": 20
         },
         "mode": "lines+markers+text",
         "name": "Canal+",
         "orientation": "v",
         "showlegend": true,
         "text": [
          6,
          6,
          9,
          8,
          4,
          5,
          7
         ],
         "x": [
          "2022-11-05",
          "2022-11-06",
          "2022-11-07",
          "2022-11-08",
          "2022-11-09",
          "2022-11-10",
          "2022-11-11"
         ],
         "xaxis": "x",
         "y": [
          6,
          6,
          9,
          8,
          4,
          5,
          7
         ],
         "yaxis": "y",
         "type": "scatter",
         "textfont": {
          "color": "white",
          "size": 12
         },
         "textposition": "middle center"
        },
        {
         "hovertemplate": "channel_name=C8<br>day_dt=%{x}<br>rank_total=%{text}<extra></extra>",
         "legendgroup": "C8",
         "line": {
          "color": "rgb(247,183,153)",
          "dash": "solid"
         },
         "marker": {
          "symbol": "circle",
          "line": {
           "width": 2
          },
          "size": 20
         },
         "mode": "lines+markers+text",
         "name": "C8",
         "orientation": "v",
         "showlegend": true,
         "text": [
          2,
          5,
          7,
          5,
          5,
          8,
          8
         ],
         "x": [
          "2022-11-05",
          "2022-11-06",
          "2022-11-07",
          "2022-11-08",
          "2022-11-09",
          "2022-11-10",
          "2022-11-11"
         ],
         "xaxis": "x",
         "y": [
          2,
          5,
          7,
          5,
          5,
          8,
          8
         ],
         "yaxis": "y",
         "type": "scatter",
         "textfont": {
          "color": "white",
          "size": 12
         },
         "textposition": "middle center"
        },
        {
         "hovertemplate": "channel_name=RMC Découverte<br>day_dt=%{x}<br>rank_total=%{text}<extra></extra>",
         "legendgroup": "RMC Découverte",
         "line": {
          "color": "rgb(228,128,101)",
          "dash": "solid"
         },
         "marker": {
          "symbol": "circle",
          "line": {
           "width": 2
          },
          "size": 20
         },
         "mode": "lines+markers+text",
         "name": "RMC Découverte",
         "orientation": "v",
         "showlegend": true,
         "text": [
          7,
          8,
          8,
          10,
          9,
          7,
          9
         ],
         "x": [
          "2022-11-05",
          "2022-11-06",
          "2022-11-07",
          "2022-11-08",
          "2022-11-09",
          "2022-11-10",
          "2022-11-11"
         ],
         "xaxis": "x",
         "y": [
          7,
          8,
          8,
          10,
          9,
          7,
          9
         ],
         "yaxis": "y",
         "type": "scatter",
         "textfont": {
          "color": "white",
          "size": 12
         },
         "textposition": "middle center"
        },
        {
         "hovertemplate": "channel_name=TFX<br>day_dt=%{x}<br>rank_total=%{text}<extra></extra>",
         "legendgroup": "TFX",
         "line": {
          "color": "rgb(201,70,65)",
          "dash": "solid"
         },
         "marker": {
          "symbol": "circle",
          "line": {
           "width": 2
          },
          "size": 20
         },
         "mode": "lines+markers+text",
         "name": "TFX",
         "orientation": "v",
         "showlegend": true,
         "text": [
          9,
          9,
          10,
          9,
          11,
          9,
          10
         ],
         "x": [
          "2022-11-05",
          "2022-11-06",
          "2022-11-07",
          "2022-11-08",
          "2022-11-09",
          "2022-11-10",
          "2022-11-11"
         ],
         "xaxis": "x",
         "y": [
          9,
          9,
          10,
          9,
          11,
          9,
          10
         ],
         "yaxis": "y",
         "type": "scatter",
         "textfont": {
          "color": "white",
          "size": 12
         },
         "textposition": "middle center"
        },
        {
         "hovertemplate": "channel_name=W9<br>day_dt=%{x}<br>rank_total=%{text}<extra></extra>",
         "legendgroup": "W9",
         "line": {
          "color": "rgb(164,19,40)",
          "dash": "solid"
         },
         "marker": {
          "symbol": "circle",
          "line": {
           "width": 2
          },
          "size": 20
         },
         "mode": "lines+markers+text",
         "name": "W9",
         "orientation": "v",
         "showlegend": true,
         "text": [
          11,
          11,
          11,
          11,
          2,
          11,
          11
         ],
         "x": [
          "2022-11-05",
          "2022-11-06",
          "2022-11-07",
          "2022-11-08",
          "2022-11-09",
          "2022-11-10",
          "2022-11-11"
         ],
         "xaxis": "x",
         "y": [
          11,
          11,
          11,
          11,
          2,
          11,
          11
         ],
         "yaxis": "y",
         "type": "scatter",
         "textfont": {
          "color": "white",
          "size": 12
         },
         "textposition": "middle center"
        }
       ],
       "layout": {
        "template": {
         "data": {
          "barpolar": [
           {
            "marker": {
             "line": {
              "color": "white",
              "width": 0.5
             },
             "pattern": {
              "fillmode": "overlay",
              "size": 10,
              "solidity": 0.2
             }
            },
            "type": "barpolar"
           }
          ],
          "bar": [
           {
            "error_x": {
             "color": "#2a3f5f"
            },
            "error_y": {
             "color": "#2a3f5f"
            },
            "marker": {
             "line": {
              "color": "white",
              "width": 0.5
             },
             "pattern": {
              "fillmode": "overlay",
              "size": 10,
              "solidity": 0.2
             }
            },
            "type": "bar"
           }
          ],
          "carpet": [
           {
            "aaxis": {
             "endlinecolor": "#2a3f5f",
             "gridcolor": "#C8D4E3",
             "linecolor": "#C8D4E3",
             "minorgridcolor": "#C8D4E3",
             "startlinecolor": "#2a3f5f"
            },
            "baxis": {
             "endlinecolor": "#2a3f5f",
             "gridcolor": "#C8D4E3",
             "linecolor": "#C8D4E3",
             "minorgridcolor": "#C8D4E3",
             "startlinecolor": "#2a3f5f"
            },
            "type": "carpet"
           }
          ],
          "choropleth": [
           {
            "colorbar": {
             "outlinewidth": 0,
             "ticks": ""
            },
            "type": "choropleth"
           }
          ],
          "contourcarpet": [
           {
            "colorbar": {
             "outlinewidth": 0,
             "ticks": ""
            },
            "type": "contourcarpet"
           }
          ],
          "contour": [
           {
            "colorbar": {
             "outlinewidth": 0,
             "ticks": ""
            },
            "colorscale": [
             [
              0,
              "#0d0887"
             ],
             [
              0.1111111111111111,
              "#46039f"
             ],
             [
              0.2222222222222222,
              "#7201a8"
             ],
             [
              0.3333333333333333,
              "#9c179e"
             ],
             [
              0.4444444444444444,
              "#bd3786"
             ],
             [
              0.5555555555555556,
              "#d8576b"
             ],
             [
              0.6666666666666666,
              "#ed7953"
             ],
             [
              0.7777777777777778,
              "#fb9f3a"
             ],
             [
              0.8888888888888888,
              "#fdca26"
             ],
             [
              1,
              "#f0f921"
             ]
            ],
            "type": "contour"
           }
          ],
          "heatmapgl": [
           {
            "colorbar": {
             "outlinewidth": 0,
             "ticks": ""
            },
            "colorscale": [
             [
              0,
              "#0d0887"
             ],
             [
              0.1111111111111111,
              "#46039f"
             ],
             [
              0.2222222222222222,
              "#7201a8"
             ],
             [
              0.3333333333333333,
              "#9c179e"
             ],
             [
              0.4444444444444444,
              "#bd3786"
             ],
             [
              0.5555555555555556,
              "#d8576b"
             ],
             [
              0.6666666666666666,
              "#ed7953"
             ],
             [
              0.7777777777777778,
              "#fb9f3a"
             ],
             [
              0.8888888888888888,
              "#fdca26"
             ],
             [
              1,
              "#f0f921"
             ]
            ],
            "type": "heatmapgl"
           }
          ],
          "heatmap": [
           {
            "colorbar": {
             "outlinewidth": 0,
             "ticks": ""
            },
            "colorscale": [
             [
              0,
              "#0d0887"
             ],
             [
              0.1111111111111111,
              "#46039f"
             ],
             [
              0.2222222222222222,
              "#7201a8"
             ],
             [
              0.3333333333333333,
              "#9c179e"
             ],
             [
              0.4444444444444444,
              "#bd3786"
             ],
             [
              0.5555555555555556,
              "#d8576b"
             ],
             [
              0.6666666666666666,
              "#ed7953"
             ],
             [
              0.7777777777777778,
              "#fb9f3a"
             ],
             [
              0.8888888888888888,
              "#fdca26"
             ],
             [
              1,
              "#f0f921"
             ]
            ],
            "type": "heatmap"
           }
          ],
          "histogram2dcontour": [
           {
            "colorbar": {
             "outlinewidth": 0,
             "ticks": ""
            },
            "colorscale": [
             [
              0,
              "#0d0887"
             ],
             [
              0.1111111111111111,
              "#46039f"
             ],
             [
              0.2222222222222222,
              "#7201a8"
             ],
             [
              0.3333333333333333,
              "#9c179e"
             ],
             [
              0.4444444444444444,
              "#bd3786"
             ],
             [
              0.5555555555555556,
              "#d8576b"
             ],
             [
              0.6666666666666666,
              "#ed7953"
             ],
             [
              0.7777777777777778,
              "#fb9f3a"
             ],
             [
              0.8888888888888888,
              "#fdca26"
             ],
             [
              1,
              "#f0f921"
             ]
            ],
            "type": "histogram2dcontour"
           }
          ],
          "histogram2d": [
           {
            "colorbar": {
             "outlinewidth": 0,
             "ticks": ""
            },
            "colorscale": [
             [
              0,
              "#0d0887"
             ],
             [
              0.1111111111111111,
              "#46039f"
             ],
             [
              0.2222222222222222,
              "#7201a8"
             ],
             [
              0.3333333333333333,
              "#9c179e"
             ],
             [
              0.4444444444444444,
              "#bd3786"
             ],
             [
              0.5555555555555556,
              "#d8576b"
             ],
             [
              0.6666666666666666,
              "#ed7953"
             ],
             [
              0.7777777777777778,
              "#fb9f3a"
             ],
             [
              0.8888888888888888,
              "#fdca26"
             ],
             [
              1,
              "#f0f921"
             ]
            ],
            "type": "histogram2d"
           }
          ],
          "histogram": [
           {
            "marker": {
             "pattern": {
              "fillmode": "overlay",
              "size": 10,
              "solidity": 0.2
             }
            },
            "type": "histogram"
           }
          ],
          "mesh3d": [
           {
            "colorbar": {
             "outlinewidth": 0,
             "ticks": ""
            },
            "type": "mesh3d"
           }
          ],
          "parcoords": [
           {
            "line": {
             "colorbar": {
              "outlinewidth": 0,
              "ticks": ""
             }
            },
            "type": "parcoords"
           }
          ],
          "pie": [
           {
            "automargin": true,
            "type": "pie"
           }
          ],
          "scatter3d": [
           {
            "line": {
             "colorbar": {
              "outlinewidth": 0,
              "ticks": ""
             }
            },
            "marker": {
             "colorbar": {
              "outlinewidth": 0,
              "ticks": ""
             }
            },
            "type": "scatter3d"
           }
          ],
          "scattercarpet": [
           {
            "marker": {
             "colorbar": {
              "outlinewidth": 0,
              "ticks": ""
             }
            },
            "type": "scattercarpet"
           }
          ],
          "scattergeo": [
           {
            "marker": {
             "colorbar": {
              "outlinewidth": 0,
              "ticks": ""
             }
            },
            "type": "scattergeo"
           }
          ],
          "scattergl": [
           {
            "marker": {
             "colorbar": {
              "outlinewidth": 0,
              "ticks": ""
             }
            },
            "type": "scattergl"
           }
          ],
          "scattermapbox": [
           {
            "marker": {
             "colorbar": {
              "outlinewidth": 0,
              "ticks": ""
             }
            },
            "type": "scattermapbox"
           }
          ],
          "scatterpolargl": [
           {
            "marker": {
             "colorbar": {
              "outlinewidth": 0,
              "ticks": ""
             }
            },
            "type": "scatterpolargl"
           }
          ],
          "scatterpolar": [
           {
            "marker": {
             "colorbar": {
              "outlinewidth": 0,
              "ticks": ""
             }
            },
            "type": "scatterpolar"
           }
          ],
          "scatter": [
           {
            "fillpattern": {
             "fillmode": "overlay",
             "size": 10,
             "solidity": 0.2
            },
            "type": "scatter"
           }
          ],
          "scatterternary": [
           {
            "marker": {
             "colorbar": {
              "outlinewidth": 0,
              "ticks": ""
             }
            },
            "type": "scatterternary"
           }
          ],
          "surface": [
           {
            "colorbar": {
             "outlinewidth": 0,
             "ticks": ""
            },
            "colorscale": [
             [
              0,
              "#0d0887"
             ],
             [
              0.1111111111111111,
              "#46039f"
             ],
             [
              0.2222222222222222,
              "#7201a8"
             ],
             [
              0.3333333333333333,
              "#9c179e"
             ],
             [
              0.4444444444444444,
              "#bd3786"
             ],
             [
              0.5555555555555556,
              "#d8576b"
             ],
             [
              0.6666666666666666,
              "#ed7953"
             ],
             [
              0.7777777777777778,
              "#fb9f3a"
             ],
             [
              0.8888888888888888,
              "#fdca26"
             ],
             [
              1,
              "#f0f921"
             ]
            ],
            "type": "surface"
           }
          ],
          "table": [
           {
            "cells": {
             "fill": {
              "color": "#EBF0F8"
             },
             "line": {
              "color": "white"
             }
            },
            "header": {
             "fill": {
              "color": "#C8D4E3"
             },
             "line": {
              "color": "white"
             }
            },
            "type": "table"
           }
          ]
         },
         "layout": {
          "annotationdefaults": {
           "arrowcolor": "#2a3f5f",
           "arrowhead": 0,
           "arrowwidth": 1
          },
          "autotypenumbers": "strict",
          "coloraxis": {
           "colorbar": {
            "outlinewidth": 0,
            "ticks": ""
           }
          },
          "colorscale": {
           "diverging": [
            [
             0,
             "#8e0152"
            ],
            [
             0.1,
             "#c51b7d"
            ],
            [
             0.2,
             "#de77ae"
            ],
            [
             0.3,
             "#f1b6da"
            ],
            [
             0.4,
             "#fde0ef"
            ],
            [
             0.5,
             "#f7f7f7"
            ],
            [
             0.6,
             "#e6f5d0"
            ],
            [
             0.7,
             "#b8e186"
            ],
            [
             0.8,
             "#7fbc41"
            ],
            [
             0.9,
             "#4d9221"
            ],
            [
             1,
             "#276419"
            ]
           ],
           "sequential": [
            [
             0,
             "#0d0887"
            ],
            [
             0.1111111111111111,
             "#46039f"
            ],
            [
             0.2222222222222222,
             "#7201a8"
            ],
            [
             0.3333333333333333,
             "#9c179e"
            ],
            [
             0.4444444444444444,
             "#bd3786"
            ],
            [
             0.5555555555555556,
             "#d8576b"
            ],
            [
             0.6666666666666666,
             "#ed7953"
            ],
            [
             0.7777777777777778,
             "#fb9f3a"
            ],
            [
             0.8888888888888888,
             "#fdca26"
            ],
            [
             1,
             "#f0f921"
            ]
           ],
           "sequentialminus": [
            [
             0,
             "#0d0887"
            ],
            [
             0.1111111111111111,
             "#46039f"
            ],
            [
             0.2222222222222222,
             "#7201a8"
            ],
            [
             0.3333333333333333,
             "#9c179e"
            ],
            [
             0.4444444444444444,
             "#bd3786"
            ],
            [
             0.5555555555555556,
             "#d8576b"
            ],
            [
             0.6666666666666666,
             "#ed7953"
            ],
            [
             0.7777777777777778,
             "#fb9f3a"
            ],
            [
             0.8888888888888888,
             "#fdca26"
            ],
            [
             1,
             "#f0f921"
            ]
           ]
          },
          "colorway": [
           "#636efa",
           "#EF553B",
           "#00cc96",
           "#ab63fa",
           "#FFA15A",
           "#19d3f3",
           "#FF6692",
           "#B6E880",
           "#FF97FF",
           "#FECB52"
          ],
          "font": {
           "color": "#2a3f5f"
          },
          "geo": {
           "bgcolor": "white",
           "lakecolor": "white",
           "landcolor": "white",
           "showlakes": true,
           "showland": true,
           "subunitcolor": "#C8D4E3"
          },
          "hoverlabel": {
           "align": "left"
          },
          "hovermode": "closest",
          "mapbox": {
           "style": "light"
          },
          "paper_bgcolor": "white",
          "plot_bgcolor": "white",
          "polar": {
           "angularaxis": {
            "gridcolor": "#EBF0F8",
            "linecolor": "#EBF0F8",
            "ticks": ""
           },
           "bgcolor": "white",
           "radialaxis": {
            "gridcolor": "#EBF0F8",
            "linecolor": "#EBF0F8",
            "ticks": ""
           }
          },
          "scene": {
           "xaxis": {
            "backgroundcolor": "white",
            "gridcolor": "#DFE8F3",
            "gridwidth": 2,
            "linecolor": "#EBF0F8",
            "showbackground": true,
            "ticks": "",
            "zerolinecolor": "#EBF0F8"
           },
           "yaxis": {
            "backgroundcolor": "white",
            "gridcolor": "#DFE8F3",
            "gridwidth": 2,
            "linecolor": "#EBF0F8",
            "showbackground": true,
            "ticks": "",
            "zerolinecolor": "#EBF0F8"
           },
           "zaxis": {
            "backgroundcolor": "white",
            "gridcolor": "#DFE8F3",
            "gridwidth": 2,
            "linecolor": "#EBF0F8",
            "showbackground": true,
            "ticks": "",
            "zerolinecolor": "#EBF0F8"
           }
          },
          "shapedefaults": {
           "line": {
            "color": "#2a3f5f"
           }
          },
          "ternary": {
           "aaxis": {
            "gridcolor": "#DFE8F3",
            "linecolor": "#A2B1C6",
            "ticks": ""
           },
           "baxis": {
            "gridcolor": "#DFE8F3",
            "linecolor": "#A2B1C6",
            "ticks": ""
           },
           "bgcolor": "white",
           "caxis": {
            "gridcolor": "#DFE8F3",
            "linecolor": "#A2B1C6",
            "ticks": ""
           }
          },
          "title": {
           "x": 0.05
          },
          "xaxis": {
           "automargin": true,
           "gridcolor": "#EBF0F8",
           "linecolor": "#EBF0F8",
           "ticks": "",
           "title": {
            "standoff": 15
           },
           "zerolinecolor": "#EBF0F8",
           "zerolinewidth": 2
          },
          "yaxis": {
           "automargin": true,
           "gridcolor": "#EBF0F8",
           "linecolor": "#EBF0F8",
           "ticks": "",
           "title": {
            "standoff": 15
           },
           "zerolinecolor": "#EBF0F8",
           "zerolinewidth": 2
          }
         }
        },
        "xaxis": {
         "anchor": "y",
         "domain": [
          0,
          1
         ],
         "title": {
          "text": "Date de la COP27"
         },
         "tickmode": "linear",
         "showgrid": false
        },
        "yaxis": {
         "anchor": "x",
         "domain": [
          0,
          1
         ],
         "title": {},
         "autorange": "reversed",
         "showgrid": false,
         "showticklabels": false
        },
        "legend": {
         "title": {
          "text": "channel_name"
         },
         "tracegroupgap": 0
        },
        "margin": {
         "t": 60,
         "r": 200
        },
        "font": {
         "family": "Poppins"
        },
        "height": 600,
        "annotations": [
         {
          "font": {
           "family": "Poppins",
           "size": 12
          },
          "showarrow": false,
          "text": "France 2 (3.0%)",
          "x": 0.95,
          "xanchor": "left",
          "xref": "paper",
          "y": 1,
          "yanchor": "middle"
         },
         {
          "font": {
           "family": "Poppins",
           "size": 12
          },
          "showarrow": false,
          "text": "RMC Story (1.5%)",
          "x": 0.95,
          "xanchor": "left",
          "xref": "paper",
          "y": 2,
          "yanchor": "middle"
         },
         {
          "font": {
           "family": "Poppins",
           "size": 12
          },
          "showarrow": false,
          "text": "TMC (1.3%)",
          "x": 0.95,
          "xanchor": "left",
          "xref": "paper",
          "y": 3,
          "yanchor": "middle"
         },
         {
          "font": {
           "family": "Poppins",
           "size": 12
          },
          "showarrow": false,
          "text": "France 5 (1.1%)",
          "x": 0.95,
          "xanchor": "left",
          "xref": "paper",
          "y": 4,
          "yanchor": "middle"
         },
         {
          "font": {
           "family": "Poppins",
           "size": 12
          },
          "showarrow": false,
          "text": "M6 (0.7%)",
          "x": 0.95,
          "xanchor": "left",
          "xref": "paper",
          "y": 5,
          "yanchor": "middle"
         },
         {
          "font": {
           "family": "Poppins",
           "size": 12
          },
          "showarrow": false,
          "text": "TF1 (0.7%)",
          "x": 0.95,
          "xanchor": "left",
          "xref": "paper",
          "y": 6,
          "yanchor": "middle"
         },
         {
          "font": {
           "family": "Poppins",
           "size": 12
          },
          "showarrow": false,
          "text": "Canal+ (0.6%)",
          "x": 0.95,
          "xanchor": "left",
          "xref": "paper",
          "y": 7,
          "yanchor": "middle"
         },
         {
          "font": {
           "family": "Poppins",
           "size": 12
          },
          "showarrow": false,
          "text": "C8 (0.0%)",
          "x": 0.95,
          "xanchor": "left",
          "xref": "paper",
          "y": 8,
          "yanchor": "middle"
         },
         {
          "font": {
           "family": "Poppins",
           "size": 12
          },
          "showarrow": false,
          "text": "RMC Découverte (0.0%)",
          "x": 0.95,
          "xanchor": "left",
          "xref": "paper",
          "y": 9,
          "yanchor": "middle"
         },
         {
          "font": {
           "family": "Poppins",
           "size": 12
          },
          "showarrow": false,
          "text": "TFX (0.0%)",
          "x": 0.95,
          "xanchor": "left",
          "xref": "paper",
          "y": 10,
          "yanchor": "middle"
         },
         {
          "font": {
           "family": "Poppins",
           "size": 12
          },
          "showarrow": false,
          "text": "W9 (0.0%)",
          "x": 0.95,
          "xanchor": "left",
          "xref": "paper",
          "y": 11,
          "yanchor": "middle"
         }
        ],
        "showlegend": false,
        "title": {
         "text": "Evolution du classement des chaînes TV généralistes sur la COP27 et l'écologie"
        }
       },
       "config": {
        "plotlyServerURL": "https://plot.ly"
       }
      }
     },
     "metadata": {}
    }
   ],
   "metadata": {
    "scrolled": false
   }
  },
  {
   "cell_type": "code",
   "execution_count": 56,
   "source": [
    "show_ranking_chart(\n",
    "    ranking.query(\"media2=='TV - Information en continu' and keyword=='COP27'\"),\n",
    "    \"Evolution du classement des chaînes TV d'info en continu sur la COP27\",\n",
    "    height = 400,\n",
    ").show()\n",
    "\n",
    "show_ranking_chart(\n",
    "    ranking.query(\"media2=='TV - Information en continu' and keyword=='COP27'\"),\n",
    "    \"Evolution du classement des chaînes TV d'info en continu sur la COP27 et l'écologie\",\n",
    "    height = 400,\n",
    "    total = True,\n",
    ").show()"
   ],
   "outputs": [
    {
     "output_type": "display_data",
     "data": {
      "application/vnd.plotly.v1+json": {
       "data": [
        {
         "hovertemplate": "channel_name=France 24<br>day_dt=%{x}<br>rank=%{text}<extra></extra>",
         "legendgroup": "France 24",
         "line": {
          "color": "rgb(47,120,181)",
          "dash": "solid"
         },
         "marker": {
          "symbol": "circle",
          "line": {
           "width": 2
          },
          "size": 20
         },
         "mode": "lines+markers+text",
         "name": "France 24",
         "orientation": "v",
         "showlegend": true,
         "text": [
          1,
          1,
          1,
          1,
          1,
          1,
          1
         ],
         "x": [
          "2022-11-05",
          "2022-11-06",
          "2022-11-07",
          "2022-11-08",
          "2022-11-09",
          "2022-11-10",
          "2022-11-11"
         ],
         "xaxis": "x",
         "y": [
          1,
          1,
          1,
          1,
          1,
          1,
          1
         ],
         "yaxis": "y",
         "type": "scatter",
         "textfont": {
          "color": "white",
          "size": 12
         },
         "textposition": "middle center"
        },
        {
         "hovertemplate": "channel_name=France Info:<br>day_dt=%{x}<br>rank=%{text}<extra></extra>",
         "legendgroup": "France Info:",
         "line": {
          "color": "rgb(135,190,218)",
          "dash": "solid"
         },
         "marker": {
          "symbol": "circle",
          "line": {
           "width": 2
          },
          "size": 20
         },
         "mode": "lines+markers+text",
         "name": "France Info:",
         "orientation": "v",
         "showlegend": true,
         "text": [
          2,
          2,
          2,
          2,
          2,
          4,
          2
         ],
         "x": [
          "2022-11-05",
          "2022-11-06",
          "2022-11-07",
          "2022-11-08",
          "2022-11-09",
          "2022-11-10",
          "2022-11-11"
         ],
         "xaxis": "x",
         "y": [
          2,
          2,
          2,
          2,
          2,
          4,
          2
         ],
         "yaxis": "y",
         "type": "scatter",
         "textfont": {
          "color": "white",
          "size": 12
         },
         "textposition": "middle center"
        },
        {
         "hovertemplate": "channel_name=BFMTV<br>day_dt=%{x}<br>rank=%{text}<extra></extra>",
         "legendgroup": "BFMTV",
         "line": {
          "color": "rgb(219,233,241)",
          "dash": "solid"
         },
         "marker": {
          "symbol": "circle",
          "line": {
           "width": 2
          },
          "size": 20
         },
         "mode": "lines+markers+text",
         "name": "BFMTV",
         "orientation": "v",
         "showlegend": true,
         "text": [
          3,
          3,
          4,
          6,
          4,
          6,
          3
         ],
         "x": [
          "2022-11-05",
          "2022-11-06",
          "2022-11-07",
          "2022-11-08",
          "2022-11-09",
          "2022-11-10",
          "2022-11-11"
         ],
         "xaxis": "x",
         "y": [
          3,
          3,
          4,
          6,
          4,
          6,
          3
         ],
         "yaxis": "y",
         "type": "scatter",
         "textfont": {
          "color": "white",
          "size": 12
         },
         "textposition": "middle center"
        },
        {
         "hovertemplate": "channel_name=LCI<br>day_dt=%{x}<br>rank=%{text}<extra></extra>",
         "legendgroup": "LCI",
         "line": {
          "color": "rgb(251,226,212)",
          "dash": "solid"
         },
         "marker": {
          "symbol": "circle",
          "line": {
           "width": 2
          },
          "size": 20
         },
         "mode": "lines+markers+text",
         "name": "LCI",
         "orientation": "v",
         "showlegend": true,
         "text": [
          5,
          4,
          3,
          3,
          6,
          2,
          4
         ],
         "x": [
          "2022-11-05",
          "2022-11-06",
          "2022-11-07",
          "2022-11-08",
          "2022-11-09",
          "2022-11-10",
          "2022-11-11"
         ],
         "xaxis": "x",
         "y": [
          5,
          4,
          3,
          3,
          6,
          2,
          4
         ],
         "yaxis": "y",
         "type": "scatter",
         "textfont": {
          "color": "white",
          "size": 12
         },
         "textposition": "middle center"
        },
        {
         "hovertemplate": "channel_name=CNEWS<br>day_dt=%{x}<br>rank=%{text}<extra></extra>",
         "legendgroup": "CNEWS",
         "line": {
          "color": "rgb(239,155,122)",
          "dash": "solid"
         },
         "marker": {
          "symbol": "circle",
          "line": {
           "width": 2
          },
          "size": 20
         },
         "mode": "lines+markers+text",
         "name": "CNEWS",
         "orientation": "v",
         "showlegend": true,
         "text": [
          4,
          5,
          5,
          5,
          5,
          3,
          5
         ],
         "x": [
          "2022-11-05",
          "2022-11-06",
          "2022-11-07",
          "2022-11-08",
          "2022-11-09",
          "2022-11-10",
          "2022-11-11"
         ],
         "xaxis": "x",
         "y": [
          4,
          5,
          5,
          5,
          5,
          3,
          5
         ],
         "yaxis": "y",
         "type": "scatter",
         "textfont": {
          "color": "white",
          "size": 12
         },
         "textposition": "middle center"
        },
        {
         "hovertemplate": "channel_name=LCP<br>day_dt=%{x}<br>rank=%{text}<extra></extra>",
         "legendgroup": "LCP",
         "line": {
          "color": "rgb(192,53,56)",
          "dash": "solid"
         },
         "marker": {
          "symbol": "circle",
          "line": {
           "width": 2
          },
          "size": 20
         },
         "mode": "lines+markers+text",
         "name": "LCP",
         "orientation": "v",
         "showlegend": true,
         "text": [
          6,
          6,
          6,
          4,
          3,
          5,
          6
         ],
         "x": [
          "2022-11-05",
          "2022-11-06",
          "2022-11-07",
          "2022-11-08",
          "2022-11-09",
          "2022-11-10",
          "2022-11-11"
         ],
         "xaxis": "x",
         "y": [
          6,
          6,
          6,
          4,
          3,
          5,
          6
         ],
         "yaxis": "y",
         "type": "scatter",
         "textfont": {
          "color": "white",
          "size": 12
         },
         "textposition": "middle center"
        }
       ],
       "layout": {
        "template": {
         "data": {
          "barpolar": [
           {
            "marker": {
             "line": {
              "color": "white",
              "width": 0.5
             },
             "pattern": {
              "fillmode": "overlay",
              "size": 10,
              "solidity": 0.2
             }
            },
            "type": "barpolar"
           }
          ],
          "bar": [
           {
            "error_x": {
             "color": "#2a3f5f"
            },
            "error_y": {
             "color": "#2a3f5f"
            },
            "marker": {
             "line": {
              "color": "white",
              "width": 0.5
             },
             "pattern": {
              "fillmode": "overlay",
              "size": 10,
              "solidity": 0.2
             }
            },
            "type": "bar"
           }
          ],
          "carpet": [
           {
            "aaxis": {
             "endlinecolor": "#2a3f5f",
             "gridcolor": "#C8D4E3",
             "linecolor": "#C8D4E3",
             "minorgridcolor": "#C8D4E3",
             "startlinecolor": "#2a3f5f"
            },
            "baxis": {
             "endlinecolor": "#2a3f5f",
             "gridcolor": "#C8D4E3",
             "linecolor": "#C8D4E3",
             "minorgridcolor": "#C8D4E3",
             "startlinecolor": "#2a3f5f"
            },
            "type": "carpet"
           }
          ],
          "choropleth": [
           {
            "colorbar": {
             "outlinewidth": 0,
             "ticks": ""
            },
            "type": "choropleth"
           }
          ],
          "contourcarpet": [
           {
            "colorbar": {
             "outlinewidth": 0,
             "ticks": ""
            },
            "type": "contourcarpet"
           }
          ],
          "contour": [
           {
            "colorbar": {
             "outlinewidth": 0,
             "ticks": ""
            },
            "colorscale": [
             [
              0,
              "#0d0887"
             ],
             [
              0.1111111111111111,
              "#46039f"
             ],
             [
              0.2222222222222222,
              "#7201a8"
             ],
             [
              0.3333333333333333,
              "#9c179e"
             ],
             [
              0.4444444444444444,
              "#bd3786"
             ],
             [
              0.5555555555555556,
              "#d8576b"
             ],
             [
              0.6666666666666666,
              "#ed7953"
             ],
             [
              0.7777777777777778,
              "#fb9f3a"
             ],
             [
              0.8888888888888888,
              "#fdca26"
             ],
             [
              1,
              "#f0f921"
             ]
            ],
            "type": "contour"
           }
          ],
          "heatmapgl": [
           {
            "colorbar": {
             "outlinewidth": 0,
             "ticks": ""
            },
            "colorscale": [
             [
              0,
              "#0d0887"
             ],
             [
              0.1111111111111111,
              "#46039f"
             ],
             [
              0.2222222222222222,
              "#7201a8"
             ],
             [
              0.3333333333333333,
              "#9c179e"
             ],
             [
              0.4444444444444444,
              "#bd3786"
             ],
             [
              0.5555555555555556,
              "#d8576b"
             ],
             [
              0.6666666666666666,
              "#ed7953"
             ],
             [
              0.7777777777777778,
              "#fb9f3a"
             ],
             [
              0.8888888888888888,
              "#fdca26"
             ],
             [
              1,
              "#f0f921"
             ]
            ],
            "type": "heatmapgl"
           }
          ],
          "heatmap": [
           {
            "colorbar": {
             "outlinewidth": 0,
             "ticks": ""
            },
            "colorscale": [
             [
              0,
              "#0d0887"
             ],
             [
              0.1111111111111111,
              "#46039f"
             ],
             [
              0.2222222222222222,
              "#7201a8"
             ],
             [
              0.3333333333333333,
              "#9c179e"
             ],
             [
              0.4444444444444444,
              "#bd3786"
             ],
             [
              0.5555555555555556,
              "#d8576b"
             ],
             [
              0.6666666666666666,
              "#ed7953"
             ],
             [
              0.7777777777777778,
              "#fb9f3a"
             ],
             [
              0.8888888888888888,
              "#fdca26"
             ],
             [
              1,
              "#f0f921"
             ]
            ],
            "type": "heatmap"
           }
          ],
          "histogram2dcontour": [
           {
            "colorbar": {
             "outlinewidth": 0,
             "ticks": ""
            },
            "colorscale": [
             [
              0,
              "#0d0887"
             ],
             [
              0.1111111111111111,
              "#46039f"
             ],
             [
              0.2222222222222222,
              "#7201a8"
             ],
             [
              0.3333333333333333,
              "#9c179e"
             ],
             [
              0.4444444444444444,
              "#bd3786"
             ],
             [
              0.5555555555555556,
              "#d8576b"
             ],
             [
              0.6666666666666666,
              "#ed7953"
             ],
             [
              0.7777777777777778,
              "#fb9f3a"
             ],
             [
              0.8888888888888888,
              "#fdca26"
             ],
             [
              1,
              "#f0f921"
             ]
            ],
            "type": "histogram2dcontour"
           }
          ],
          "histogram2d": [
           {
            "colorbar": {
             "outlinewidth": 0,
             "ticks": ""
            },
            "colorscale": [
             [
              0,
              "#0d0887"
             ],
             [
              0.1111111111111111,
              "#46039f"
             ],
             [
              0.2222222222222222,
              "#7201a8"
             ],
             [
              0.3333333333333333,
              "#9c179e"
             ],
             [
              0.4444444444444444,
              "#bd3786"
             ],
             [
              0.5555555555555556,
              "#d8576b"
             ],
             [
              0.6666666666666666,
              "#ed7953"
             ],
             [
              0.7777777777777778,
              "#fb9f3a"
             ],
             [
              0.8888888888888888,
              "#fdca26"
             ],
             [
              1,
              "#f0f921"
             ]
            ],
            "type": "histogram2d"
           }
          ],
          "histogram": [
           {
            "marker": {
             "pattern": {
              "fillmode": "overlay",
              "size": 10,
              "solidity": 0.2
             }
            },
            "type": "histogram"
           }
          ],
          "mesh3d": [
           {
            "colorbar": {
             "outlinewidth": 0,
             "ticks": ""
            },
            "type": "mesh3d"
           }
          ],
          "parcoords": [
           {
            "line": {
             "colorbar": {
              "outlinewidth": 0,
              "ticks": ""
             }
            },
            "type": "parcoords"
           }
          ],
          "pie": [
           {
            "automargin": true,
            "type": "pie"
           }
          ],
          "scatter3d": [
           {
            "line": {
             "colorbar": {
              "outlinewidth": 0,
              "ticks": ""
             }
            },
            "marker": {
             "colorbar": {
              "outlinewidth": 0,
              "ticks": ""
             }
            },
            "type": "scatter3d"
           }
          ],
          "scattercarpet": [
           {
            "marker": {
             "colorbar": {
              "outlinewidth": 0,
              "ticks": ""
             }
            },
            "type": "scattercarpet"
           }
          ],
          "scattergeo": [
           {
            "marker": {
             "colorbar": {
              "outlinewidth": 0,
              "ticks": ""
             }
            },
            "type": "scattergeo"
           }
          ],
          "scattergl": [
           {
            "marker": {
             "colorbar": {
              "outlinewidth": 0,
              "ticks": ""
             }
            },
            "type": "scattergl"
           }
          ],
          "scattermapbox": [
           {
            "marker": {
             "colorbar": {
              "outlinewidth": 0,
              "ticks": ""
             }
            },
            "type": "scattermapbox"
           }
          ],
          "scatterpolargl": [
           {
            "marker": {
             "colorbar": {
              "outlinewidth": 0,
              "ticks": ""
             }
            },
            "type": "scatterpolargl"
           }
          ],
          "scatterpolar": [
           {
            "marker": {
             "colorbar": {
              "outlinewidth": 0,
              "ticks": ""
             }
            },
            "type": "scatterpolar"
           }
          ],
          "scatter": [
           {
            "fillpattern": {
             "fillmode": "overlay",
             "size": 10,
             "solidity": 0.2
            },
            "type": "scatter"
           }
          ],
          "scatterternary": [
           {
            "marker": {
             "colorbar": {
              "outlinewidth": 0,
              "ticks": ""
             }
            },
            "type": "scatterternary"
           }
          ],
          "surface": [
           {
            "colorbar": {
             "outlinewidth": 0,
             "ticks": ""
            },
            "colorscale": [
             [
              0,
              "#0d0887"
             ],
             [
              0.1111111111111111,
              "#46039f"
             ],
             [
              0.2222222222222222,
              "#7201a8"
             ],
             [
              0.3333333333333333,
              "#9c179e"
             ],
             [
              0.4444444444444444,
              "#bd3786"
             ],
             [
              0.5555555555555556,
              "#d8576b"
             ],
             [
              0.6666666666666666,
              "#ed7953"
             ],
             [
              0.7777777777777778,
              "#fb9f3a"
             ],
             [
              0.8888888888888888,
              "#fdca26"
             ],
             [
              1,
              "#f0f921"
             ]
            ],
            "type": "surface"
           }
          ],
          "table": [
           {
            "cells": {
             "fill": {
              "color": "#EBF0F8"
             },
             "line": {
              "color": "white"
             }
            },
            "header": {
             "fill": {
              "color": "#C8D4E3"
             },
             "line": {
              "color": "white"
             }
            },
            "type": "table"
           }
          ]
         },
         "layout": {
          "annotationdefaults": {
           "arrowcolor": "#2a3f5f",
           "arrowhead": 0,
           "arrowwidth": 1
          },
          "autotypenumbers": "strict",
          "coloraxis": {
           "colorbar": {
            "outlinewidth": 0,
            "ticks": ""
           }
          },
          "colorscale": {
           "diverging": [
            [
             0,
             "#8e0152"
            ],
            [
             0.1,
             "#c51b7d"
            ],
            [
             0.2,
             "#de77ae"
            ],
            [
             0.3,
             "#f1b6da"
            ],
            [
             0.4,
             "#fde0ef"
            ],
            [
             0.5,
             "#f7f7f7"
            ],
            [
             0.6,
             "#e6f5d0"
            ],
            [
             0.7,
             "#b8e186"
            ],
            [
             0.8,
             "#7fbc41"
            ],
            [
             0.9,
             "#4d9221"
            ],
            [
             1,
             "#276419"
            ]
           ],
           "sequential": [
            [
             0,
             "#0d0887"
            ],
            [
             0.1111111111111111,
             "#46039f"
            ],
            [
             0.2222222222222222,
             "#7201a8"
            ],
            [
             0.3333333333333333,
             "#9c179e"
            ],
            [
             0.4444444444444444,
             "#bd3786"
            ],
            [
             0.5555555555555556,
             "#d8576b"
            ],
            [
             0.6666666666666666,
             "#ed7953"
            ],
            [
             0.7777777777777778,
             "#fb9f3a"
            ],
            [
             0.8888888888888888,
             "#fdca26"
            ],
            [
             1,
             "#f0f921"
            ]
           ],
           "sequentialminus": [
            [
             0,
             "#0d0887"
            ],
            [
             0.1111111111111111,
             "#46039f"
            ],
            [
             0.2222222222222222,
             "#7201a8"
            ],
            [
             0.3333333333333333,
             "#9c179e"
            ],
            [
             0.4444444444444444,
             "#bd3786"
            ],
            [
             0.5555555555555556,
             "#d8576b"
            ],
            [
             0.6666666666666666,
             "#ed7953"
            ],
            [
             0.7777777777777778,
             "#fb9f3a"
            ],
            [
             0.8888888888888888,
             "#fdca26"
            ],
            [
             1,
             "#f0f921"
            ]
           ]
          },
          "colorway": [
           "#636efa",
           "#EF553B",
           "#00cc96",
           "#ab63fa",
           "#FFA15A",
           "#19d3f3",
           "#FF6692",
           "#B6E880",
           "#FF97FF",
           "#FECB52"
          ],
          "font": {
           "color": "#2a3f5f"
          },
          "geo": {
           "bgcolor": "white",
           "lakecolor": "white",
           "landcolor": "white",
           "showlakes": true,
           "showland": true,
           "subunitcolor": "#C8D4E3"
          },
          "hoverlabel": {
           "align": "left"
          },
          "hovermode": "closest",
          "mapbox": {
           "style": "light"
          },
          "paper_bgcolor": "white",
          "plot_bgcolor": "white",
          "polar": {
           "angularaxis": {
            "gridcolor": "#EBF0F8",
            "linecolor": "#EBF0F8",
            "ticks": ""
           },
           "bgcolor": "white",
           "radialaxis": {
            "gridcolor": "#EBF0F8",
            "linecolor": "#EBF0F8",
            "ticks": ""
           }
          },
          "scene": {
           "xaxis": {
            "backgroundcolor": "white",
            "gridcolor": "#DFE8F3",
            "gridwidth": 2,
            "linecolor": "#EBF0F8",
            "showbackground": true,
            "ticks": "",
            "zerolinecolor": "#EBF0F8"
           },
           "yaxis": {
            "backgroundcolor": "white",
            "gridcolor": "#DFE8F3",
            "gridwidth": 2,
            "linecolor": "#EBF0F8",
            "showbackground": true,
            "ticks": "",
            "zerolinecolor": "#EBF0F8"
           },
           "zaxis": {
            "backgroundcolor": "white",
            "gridcolor": "#DFE8F3",
            "gridwidth": 2,
            "linecolor": "#EBF0F8",
            "showbackground": true,
            "ticks": "",
            "zerolinecolor": "#EBF0F8"
           }
          },
          "shapedefaults": {
           "line": {
            "color": "#2a3f5f"
           }
          },
          "ternary": {
           "aaxis": {
            "gridcolor": "#DFE8F3",
            "linecolor": "#A2B1C6",
            "ticks": ""
           },
           "baxis": {
            "gridcolor": "#DFE8F3",
            "linecolor": "#A2B1C6",
            "ticks": ""
           },
           "bgcolor": "white",
           "caxis": {
            "gridcolor": "#DFE8F3",
            "linecolor": "#A2B1C6",
            "ticks": ""
           }
          },
          "title": {
           "x": 0.05
          },
          "xaxis": {
           "automargin": true,
           "gridcolor": "#EBF0F8",
           "linecolor": "#EBF0F8",
           "ticks": "",
           "title": {
            "standoff": 15
           },
           "zerolinecolor": "#EBF0F8",
           "zerolinewidth": 2
          },
          "yaxis": {
           "automargin": true,
           "gridcolor": "#EBF0F8",
           "linecolor": "#EBF0F8",
           "ticks": "",
           "title": {
            "standoff": 15
           },
           "zerolinecolor": "#EBF0F8",
           "zerolinewidth": 2
          }
         }
        },
        "xaxis": {
         "anchor": "y",
         "domain": [
          0,
          1
         ],
         "title": {
          "text": "Date de la COP27"
         },
         "tickmode": "linear",
         "showgrid": false
        },
        "yaxis": {
         "anchor": "x",
         "domain": [
          0,
          1
         ],
         "title": {},
         "autorange": "reversed",
         "showgrid": false,
         "showticklabels": false
        },
        "legend": {
         "title": {
          "text": "channel_name"
         },
         "tracegroupgap": 0
        },
        "margin": {
         "t": 60,
         "r": 200
        },
        "font": {
         "family": "Poppins"
        },
        "height": 400,
        "annotations": [
         {
          "font": {
           "family": "Poppins",
           "size": 12
          },
          "showarrow": false,
          "text": "France 24 (7.6%)",
          "x": 0.95,
          "xanchor": "left",
          "xref": "paper",
          "y": 1,
          "yanchor": "middle"
         },
         {
          "font": {
           "family": "Poppins",
           "size": 12
          },
          "showarrow": false,
          "text": "France Info: (2.2%)",
          "x": 0.95,
          "xanchor": "left",
          "xref": "paper",
          "y": 2,
          "yanchor": "middle"
         },
         {
          "font": {
           "family": "Poppins",
           "size": 12
          },
          "showarrow": false,
          "text": "BFMTV (0.2%)",
          "x": 0.95,
          "xanchor": "left",
          "xref": "paper",
          "y": 3,
          "yanchor": "middle"
         },
         {
          "font": {
           "family": "Poppins",
           "size": 12
          },
          "showarrow": false,
          "text": "LCI (0.2%)",
          "x": 0.95,
          "xanchor": "left",
          "xref": "paper",
          "y": 4,
          "yanchor": "middle"
         },
         {
          "font": {
           "family": "Poppins",
           "size": 12
          },
          "showarrow": false,
          "text": "CNEWS (0.0%)",
          "x": 0.95,
          "xanchor": "left",
          "xref": "paper",
          "y": 5,
          "yanchor": "middle"
         },
         {
          "font": {
           "family": "Poppins",
           "size": 12
          },
          "showarrow": false,
          "text": "LCP (0.0%)",
          "x": 0.95,
          "xanchor": "left",
          "xref": "paper",
          "y": 6,
          "yanchor": "middle"
         }
        ],
        "showlegend": false,
        "title": {
         "text": "Evolution du classement des chaînes TV d'info en continu sur la COP27"
        }
       },
       "config": {
        "plotlyServerURL": "https://plot.ly"
       }
      }
     },
     "metadata": {}
    },
    {
     "output_type": "display_data",
     "data": {
      "application/vnd.plotly.v1+json": {
       "data": [
        {
         "hovertemplate": "channel_name=France 24<br>day_dt=%{x}<br>rank_total=%{text}<extra></extra>",
         "legendgroup": "France 24",
         "line": {
          "color": "rgb(47,120,181)",
          "dash": "solid"
         },
         "marker": {
          "symbol": "circle",
          "line": {
           "width": 2
          },
          "size": 20
         },
         "mode": "lines+markers+text",
         "name": "France 24",
         "orientation": "v",
         "showlegend": true,
         "text": [
          1,
          2,
          2,
          1,
          2,
          1,
          1
         ],
         "x": [
          "2022-11-05",
          "2022-11-06",
          "2022-11-07",
          "2022-11-08",
          "2022-11-09",
          "2022-11-10",
          "2022-11-11"
         ],
         "xaxis": "x",
         "y": [
          1,
          2,
          2,
          1,
          2,
          1,
          1
         ],
         "yaxis": "y",
         "type": "scatter",
         "textfont": {
          "color": "white",
          "size": 12
         },
         "textposition": "middle center"
        },
        {
         "hovertemplate": "channel_name=France Info:<br>day_dt=%{x}<br>rank_total=%{text}<extra></extra>",
         "legendgroup": "France Info:",
         "line": {
          "color": "rgb(135,190,218)",
          "dash": "solid"
         },
         "marker": {
          "symbol": "circle",
          "line": {
           "width": 2
          },
          "size": 20
         },
         "mode": "lines+markers+text",
         "name": "France Info:",
         "orientation": "v",
         "showlegend": true,
         "text": [
          2,
          1,
          1,
          2,
          1,
          2,
          2
         ],
         "x": [
          "2022-11-05",
          "2022-11-06",
          "2022-11-07",
          "2022-11-08",
          "2022-11-09",
          "2022-11-10",
          "2022-11-11"
         ],
         "xaxis": "x",
         "y": [
          2,
          1,
          1,
          2,
          1,
          2,
          2
         ],
         "yaxis": "y",
         "type": "scatter",
         "textfont": {
          "color": "white",
          "size": 12
         },
         "textposition": "middle center"
        },
        {
         "hovertemplate": "channel_name=BFMTV<br>day_dt=%{x}<br>rank_total=%{text}<extra></extra>",
         "legendgroup": "BFMTV",
         "line": {
          "color": "rgb(219,233,241)",
          "dash": "solid"
         },
         "marker": {
          "symbol": "circle",
          "line": {
           "width": 2
          },
          "size": 20
         },
         "mode": "lines+markers+text",
         "name": "BFMTV",
         "orientation": "v",
         "showlegend": true,
         "text": [
          3,
          3,
          3,
          5,
          4,
          5,
          3
         ],
         "x": [
          "2022-11-05",
          "2022-11-06",
          "2022-11-07",
          "2022-11-08",
          "2022-11-09",
          "2022-11-10",
          "2022-11-11"
         ],
         "xaxis": "x",
         "y": [
          3,
          3,
          3,
          5,
          4,
          5,
          3
         ],
         "yaxis": "y",
         "type": "scatter",
         "textfont": {
          "color": "white",
          "size": 12
         },
         "textposition": "middle center"
        },
        {
         "hovertemplate": "channel_name=CNEWS<br>day_dt=%{x}<br>rank_total=%{text}<extra></extra>",
         "legendgroup": "CNEWS",
         "line": {
          "color": "rgb(251,226,212)",
          "dash": "solid"
         },
         "marker": {
          "symbol": "circle",
          "line": {
           "width": 2
          },
          "size": 20
         },
         "mode": "lines+markers+text",
         "name": "CNEWS",
         "orientation": "v",
         "showlegend": true,
         "text": [
          5,
          5,
          4,
          4,
          5,
          4,
          4
         ],
         "x": [
          "2022-11-05",
          "2022-11-06",
          "2022-11-07",
          "2022-11-08",
          "2022-11-09",
          "2022-11-10",
          "2022-11-11"
         ],
         "xaxis": "x",
         "y": [
          5,
          5,
          4,
          4,
          5,
          4,
          4
         ],
         "yaxis": "y",
         "type": "scatter",
         "textfont": {
          "color": "white",
          "size": 12
         },
         "textposition": "middle center"
        },
        {
         "hovertemplate": "channel_name=LCI<br>day_dt=%{x}<br>rank_total=%{text}<extra></extra>",
         "legendgroup": "LCI",
         "line": {
          "color": "rgb(239,155,122)",
          "dash": "solid"
         },
         "marker": {
          "symbol": "circle",
          "line": {
           "width": 2
          },
          "size": 20
         },
         "mode": "lines+markers+text",
         "name": "LCI",
         "orientation": "v",
         "showlegend": true,
         "text": [
          6,
          4,
          5,
          6,
          6,
          6,
          5
         ],
         "x": [
          "2022-11-05",
          "2022-11-06",
          "2022-11-07",
          "2022-11-08",
          "2022-11-09",
          "2022-11-10",
          "2022-11-11"
         ],
         "xaxis": "x",
         "y": [
          6,
          4,
          5,
          6,
          6,
          6,
          5
         ],
         "yaxis": "y",
         "type": "scatter",
         "textfont": {
          "color": "white",
          "size": 12
         },
         "textposition": "middle center"
        },
        {
         "hovertemplate": "channel_name=LCP<br>day_dt=%{x}<br>rank_total=%{text}<extra></extra>",
         "legendgroup": "LCP",
         "line": {
          "color": "rgb(192,53,56)",
          "dash": "solid"
         },
         "marker": {
          "symbol": "circle",
          "line": {
           "width": 2
          },
          "size": 20
         },
         "mode": "lines+markers+text",
         "name": "LCP",
         "orientation": "v",
         "showlegend": true,
         "text": [
          4,
          6,
          6,
          3,
          3,
          3,
          6
         ],
         "x": [
          "2022-11-05",
          "2022-11-06",
          "2022-11-07",
          "2022-11-08",
          "2022-11-09",
          "2022-11-10",
          "2022-11-11"
         ],
         "xaxis": "x",
         "y": [
          4,
          6,
          6,
          3,
          3,
          3,
          6
         ],
         "yaxis": "y",
         "type": "scatter",
         "textfont": {
          "color": "white",
          "size": 12
         },
         "textposition": "middle center"
        }
       ],
       "layout": {
        "template": {
         "data": {
          "barpolar": [
           {
            "marker": {
             "line": {
              "color": "white",
              "width": 0.5
             },
             "pattern": {
              "fillmode": "overlay",
              "size": 10,
              "solidity": 0.2
             }
            },
            "type": "barpolar"
           }
          ],
          "bar": [
           {
            "error_x": {
             "color": "#2a3f5f"
            },
            "error_y": {
             "color": "#2a3f5f"
            },
            "marker": {
             "line": {
              "color": "white",
              "width": 0.5
             },
             "pattern": {
              "fillmode": "overlay",
              "size": 10,
              "solidity": 0.2
             }
            },
            "type": "bar"
           }
          ],
          "carpet": [
           {
            "aaxis": {
             "endlinecolor": "#2a3f5f",
             "gridcolor": "#C8D4E3",
             "linecolor": "#C8D4E3",
             "minorgridcolor": "#C8D4E3",
             "startlinecolor": "#2a3f5f"
            },
            "baxis": {
             "endlinecolor": "#2a3f5f",
             "gridcolor": "#C8D4E3",
             "linecolor": "#C8D4E3",
             "minorgridcolor": "#C8D4E3",
             "startlinecolor": "#2a3f5f"
            },
            "type": "carpet"
           }
          ],
          "choropleth": [
           {
            "colorbar": {
             "outlinewidth": 0,
             "ticks": ""
            },
            "type": "choropleth"
           }
          ],
          "contourcarpet": [
           {
            "colorbar": {
             "outlinewidth": 0,
             "ticks": ""
            },
            "type": "contourcarpet"
           }
          ],
          "contour": [
           {
            "colorbar": {
             "outlinewidth": 0,
             "ticks": ""
            },
            "colorscale": [
             [
              0,
              "#0d0887"
             ],
             [
              0.1111111111111111,
              "#46039f"
             ],
             [
              0.2222222222222222,
              "#7201a8"
             ],
             [
              0.3333333333333333,
              "#9c179e"
             ],
             [
              0.4444444444444444,
              "#bd3786"
             ],
             [
              0.5555555555555556,
              "#d8576b"
             ],
             [
              0.6666666666666666,
              "#ed7953"
             ],
             [
              0.7777777777777778,
              "#fb9f3a"
             ],
             [
              0.8888888888888888,
              "#fdca26"
             ],
             [
              1,
              "#f0f921"
             ]
            ],
            "type": "contour"
           }
          ],
          "heatmapgl": [
           {
            "colorbar": {
             "outlinewidth": 0,
             "ticks": ""
            },
            "colorscale": [
             [
              0,
              "#0d0887"
             ],
             [
              0.1111111111111111,
              "#46039f"
             ],
             [
              0.2222222222222222,
              "#7201a8"
             ],
             [
              0.3333333333333333,
              "#9c179e"
             ],
             [
              0.4444444444444444,
              "#bd3786"
             ],
             [
              0.5555555555555556,
              "#d8576b"
             ],
             [
              0.6666666666666666,
              "#ed7953"
             ],
             [
              0.7777777777777778,
              "#fb9f3a"
             ],
             [
              0.8888888888888888,
              "#fdca26"
             ],
             [
              1,
              "#f0f921"
             ]
            ],
            "type": "heatmapgl"
           }
          ],
          "heatmap": [
           {
            "colorbar": {
             "outlinewidth": 0,
             "ticks": ""
            },
            "colorscale": [
             [
              0,
              "#0d0887"
             ],
             [
              0.1111111111111111,
              "#46039f"
             ],
             [
              0.2222222222222222,
              "#7201a8"
             ],
             [
              0.3333333333333333,
              "#9c179e"
             ],
             [
              0.4444444444444444,
              "#bd3786"
             ],
             [
              0.5555555555555556,
              "#d8576b"
             ],
             [
              0.6666666666666666,
              "#ed7953"
             ],
             [
              0.7777777777777778,
              "#fb9f3a"
             ],
             [
              0.8888888888888888,
              "#fdca26"
             ],
             [
              1,
              "#f0f921"
             ]
            ],
            "type": "heatmap"
           }
          ],
          "histogram2dcontour": [
           {
            "colorbar": {
             "outlinewidth": 0,
             "ticks": ""
            },
            "colorscale": [
             [
              0,
              "#0d0887"
             ],
             [
              0.1111111111111111,
              "#46039f"
             ],
             [
              0.2222222222222222,
              "#7201a8"
             ],
             [
              0.3333333333333333,
              "#9c179e"
             ],
             [
              0.4444444444444444,
              "#bd3786"
             ],
             [
              0.5555555555555556,
              "#d8576b"
             ],
             [
              0.6666666666666666,
              "#ed7953"
             ],
             [
              0.7777777777777778,
              "#fb9f3a"
             ],
             [
              0.8888888888888888,
              "#fdca26"
             ],
             [
              1,
              "#f0f921"
             ]
            ],
            "type": "histogram2dcontour"
           }
          ],
          "histogram2d": [
           {
            "colorbar": {
             "outlinewidth": 0,
             "ticks": ""
            },
            "colorscale": [
             [
              0,
              "#0d0887"
             ],
             [
              0.1111111111111111,
              "#46039f"
             ],
             [
              0.2222222222222222,
              "#7201a8"
             ],
             [
              0.3333333333333333,
              "#9c179e"
             ],
             [
              0.4444444444444444,
              "#bd3786"
             ],
             [
              0.5555555555555556,
              "#d8576b"
             ],
             [
              0.6666666666666666,
              "#ed7953"
             ],
             [
              0.7777777777777778,
              "#fb9f3a"
             ],
             [
              0.8888888888888888,
              "#fdca26"
             ],
             [
              1,
              "#f0f921"
             ]
            ],
            "type": "histogram2d"
           }
          ],
          "histogram": [
           {
            "marker": {
             "pattern": {
              "fillmode": "overlay",
              "size": 10,
              "solidity": 0.2
             }
            },
            "type": "histogram"
           }
          ],
          "mesh3d": [
           {
            "colorbar": {
             "outlinewidth": 0,
             "ticks": ""
            },
            "type": "mesh3d"
           }
          ],
          "parcoords": [
           {
            "line": {
             "colorbar": {
              "outlinewidth": 0,
              "ticks": ""
             }
            },
            "type": "parcoords"
           }
          ],
          "pie": [
           {
            "automargin": true,
            "type": "pie"
           }
          ],
          "scatter3d": [
           {
            "line": {
             "colorbar": {
              "outlinewidth": 0,
              "ticks": ""
             }
            },
            "marker": {
             "colorbar": {
              "outlinewidth": 0,
              "ticks": ""
             }
            },
            "type": "scatter3d"
           }
          ],
          "scattercarpet": [
           {
            "marker": {
             "colorbar": {
              "outlinewidth": 0,
              "ticks": ""
             }
            },
            "type": "scattercarpet"
           }
          ],
          "scattergeo": [
           {
            "marker": {
             "colorbar": {
              "outlinewidth": 0,
              "ticks": ""
             }
            },
            "type": "scattergeo"
           }
          ],
          "scattergl": [
           {
            "marker": {
             "colorbar": {
              "outlinewidth": 0,
              "ticks": ""
             }
            },
            "type": "scattergl"
           }
          ],
          "scattermapbox": [
           {
            "marker": {
             "colorbar": {
              "outlinewidth": 0,
              "ticks": ""
             }
            },
            "type": "scattermapbox"
           }
          ],
          "scatterpolargl": [
           {
            "marker": {
             "colorbar": {
              "outlinewidth": 0,
              "ticks": ""
             }
            },
            "type": "scatterpolargl"
           }
          ],
          "scatterpolar": [
           {
            "marker": {
             "colorbar": {
              "outlinewidth": 0,
              "ticks": ""
             }
            },
            "type": "scatterpolar"
           }
          ],
          "scatter": [
           {
            "fillpattern": {
             "fillmode": "overlay",
             "size": 10,
             "solidity": 0.2
            },
            "type": "scatter"
           }
          ],
          "scatterternary": [
           {
            "marker": {
             "colorbar": {
              "outlinewidth": 0,
              "ticks": ""
             }
            },
            "type": "scatterternary"
           }
          ],
          "surface": [
           {
            "colorbar": {
             "outlinewidth": 0,
             "ticks": ""
            },
            "colorscale": [
             [
              0,
              "#0d0887"
             ],
             [
              0.1111111111111111,
              "#46039f"
             ],
             [
              0.2222222222222222,
              "#7201a8"
             ],
             [
              0.3333333333333333,
              "#9c179e"
             ],
             [
              0.4444444444444444,
              "#bd3786"
             ],
             [
              0.5555555555555556,
              "#d8576b"
             ],
             [
              0.6666666666666666,
              "#ed7953"
             ],
             [
              0.7777777777777778,
              "#fb9f3a"
             ],
             [
              0.8888888888888888,
              "#fdca26"
             ],
             [
              1,
              "#f0f921"
             ]
            ],
            "type": "surface"
           }
          ],
          "table": [
           {
            "cells": {
             "fill": {
              "color": "#EBF0F8"
             },
             "line": {
              "color": "white"
             }
            },
            "header": {
             "fill": {
              "color": "#C8D4E3"
             },
             "line": {
              "color": "white"
             }
            },
            "type": "table"
           }
          ]
         },
         "layout": {
          "annotationdefaults": {
           "arrowcolor": "#2a3f5f",
           "arrowhead": 0,
           "arrowwidth": 1
          },
          "autotypenumbers": "strict",
          "coloraxis": {
           "colorbar": {
            "outlinewidth": 0,
            "ticks": ""
           }
          },
          "colorscale": {
           "diverging": [
            [
             0,
             "#8e0152"
            ],
            [
             0.1,
             "#c51b7d"
            ],
            [
             0.2,
             "#de77ae"
            ],
            [
             0.3,
             "#f1b6da"
            ],
            [
             0.4,
             "#fde0ef"
            ],
            [
             0.5,
             "#f7f7f7"
            ],
            [
             0.6,
             "#e6f5d0"
            ],
            [
             0.7,
             "#b8e186"
            ],
            [
             0.8,
             "#7fbc41"
            ],
            [
             0.9,
             "#4d9221"
            ],
            [
             1,
             "#276419"
            ]
           ],
           "sequential": [
            [
             0,
             "#0d0887"
            ],
            [
             0.1111111111111111,
             "#46039f"
            ],
            [
             0.2222222222222222,
             "#7201a8"
            ],
            [
             0.3333333333333333,
             "#9c179e"
            ],
            [
             0.4444444444444444,
             "#bd3786"
            ],
            [
             0.5555555555555556,
             "#d8576b"
            ],
            [
             0.6666666666666666,
             "#ed7953"
            ],
            [
             0.7777777777777778,
             "#fb9f3a"
            ],
            [
             0.8888888888888888,
             "#fdca26"
            ],
            [
             1,
             "#f0f921"
            ]
           ],
           "sequentialminus": [
            [
             0,
             "#0d0887"
            ],
            [
             0.1111111111111111,
             "#46039f"
            ],
            [
             0.2222222222222222,
             "#7201a8"
            ],
            [
             0.3333333333333333,
             "#9c179e"
            ],
            [
             0.4444444444444444,
             "#bd3786"
            ],
            [
             0.5555555555555556,
             "#d8576b"
            ],
            [
             0.6666666666666666,
             "#ed7953"
            ],
            [
             0.7777777777777778,
             "#fb9f3a"
            ],
            [
             0.8888888888888888,
             "#fdca26"
            ],
            [
             1,
             "#f0f921"
            ]
           ]
          },
          "colorway": [
           "#636efa",
           "#EF553B",
           "#00cc96",
           "#ab63fa",
           "#FFA15A",
           "#19d3f3",
           "#FF6692",
           "#B6E880",
           "#FF97FF",
           "#FECB52"
          ],
          "font": {
           "color": "#2a3f5f"
          },
          "geo": {
           "bgcolor": "white",
           "lakecolor": "white",
           "landcolor": "white",
           "showlakes": true,
           "showland": true,
           "subunitcolor": "#C8D4E3"
          },
          "hoverlabel": {
           "align": "left"
          },
          "hovermode": "closest",
          "mapbox": {
           "style": "light"
          },
          "paper_bgcolor": "white",
          "plot_bgcolor": "white",
          "polar": {
           "angularaxis": {
            "gridcolor": "#EBF0F8",
            "linecolor": "#EBF0F8",
            "ticks": ""
           },
           "bgcolor": "white",
           "radialaxis": {
            "gridcolor": "#EBF0F8",
            "linecolor": "#EBF0F8",
            "ticks": ""
           }
          },
          "scene": {
           "xaxis": {
            "backgroundcolor": "white",
            "gridcolor": "#DFE8F3",
            "gridwidth": 2,
            "linecolor": "#EBF0F8",
            "showbackground": true,
            "ticks": "",
            "zerolinecolor": "#EBF0F8"
           },
           "yaxis": {
            "backgroundcolor": "white",
            "gridcolor": "#DFE8F3",
            "gridwidth": 2,
            "linecolor": "#EBF0F8",
            "showbackground": true,
            "ticks": "",
            "zerolinecolor": "#EBF0F8"
           },
           "zaxis": {
            "backgroundcolor": "white",
            "gridcolor": "#DFE8F3",
            "gridwidth": 2,
            "linecolor": "#EBF0F8",
            "showbackground": true,
            "ticks": "",
            "zerolinecolor": "#EBF0F8"
           }
          },
          "shapedefaults": {
           "line": {
            "color": "#2a3f5f"
           }
          },
          "ternary": {
           "aaxis": {
            "gridcolor": "#DFE8F3",
            "linecolor": "#A2B1C6",
            "ticks": ""
           },
           "baxis": {
            "gridcolor": "#DFE8F3",
            "linecolor": "#A2B1C6",
            "ticks": ""
           },
           "bgcolor": "white",
           "caxis": {
            "gridcolor": "#DFE8F3",
            "linecolor": "#A2B1C6",
            "ticks": ""
           }
          },
          "title": {
           "x": 0.05
          },
          "xaxis": {
           "automargin": true,
           "gridcolor": "#EBF0F8",
           "linecolor": "#EBF0F8",
           "ticks": "",
           "title": {
            "standoff": 15
           },
           "zerolinecolor": "#EBF0F8",
           "zerolinewidth": 2
          },
          "yaxis": {
           "automargin": true,
           "gridcolor": "#EBF0F8",
           "linecolor": "#EBF0F8",
           "ticks": "",
           "title": {
            "standoff": 15
           },
           "zerolinecolor": "#EBF0F8",
           "zerolinewidth": 2
          }
         }
        },
        "xaxis": {
         "anchor": "y",
         "domain": [
          0,
          1
         ],
         "title": {
          "text": "Date de la COP27"
         },
         "tickmode": "linear",
         "showgrid": false
        },
        "yaxis": {
         "anchor": "x",
         "domain": [
          0,
          1
         ],
         "title": {},
         "autorange": "reversed",
         "showgrid": false,
         "showticklabels": false
        },
        "legend": {
         "title": {
          "text": "channel_name"
         },
         "tracegroupgap": 0
        },
        "margin": {
         "t": 60,
         "r": 200
        },
        "font": {
         "family": "Poppins"
        },
        "height": 400,
        "annotations": [
         {
          "font": {
           "family": "Poppins",
           "size": 12
          },
          "showarrow": false,
          "text": "France 24 (29.8%)",
          "x": 0.95,
          "xanchor": "left",
          "xref": "paper",
          "y": 1,
          "yanchor": "middle"
         },
         {
          "font": {
           "family": "Poppins",
           "size": 12
          },
          "showarrow": false,
          "text": "France Info: (16.5%)",
          "x": 0.95,
          "xanchor": "left",
          "xref": "paper",
          "y": 2,
          "yanchor": "middle"
         },
         {
          "font": {
           "family": "Poppins",
           "size": 12
          },
          "showarrow": false,
          "text": "BFMTV (3.5%)",
          "x": 0.95,
          "xanchor": "left",
          "xref": "paper",
          "y": 3,
          "yanchor": "middle"
         },
         {
          "font": {
           "family": "Poppins",
           "size": 12
          },
          "showarrow": false,
          "text": "CNEWS (3.3%)",
          "x": 0.95,
          "xanchor": "left",
          "xref": "paper",
          "y": 4,
          "yanchor": "middle"
         },
         {
          "font": {
           "family": "Poppins",
           "size": 12
          },
          "showarrow": false,
          "text": "LCI (1.9%)",
          "x": 0.95,
          "xanchor": "left",
          "xref": "paper",
          "y": 5,
          "yanchor": "middle"
         },
         {
          "font": {
           "family": "Poppins",
           "size": 12
          },
          "showarrow": false,
          "text": "LCP (1.3%)",
          "x": 0.95,
          "xanchor": "left",
          "xref": "paper",
          "y": 6,
          "yanchor": "middle"
         }
        ],
        "showlegend": false,
        "title": {
         "text": "Evolution du classement des chaînes TV d'info en continu sur la COP27 et l'écologie"
        }
       },
       "config": {
        "plotlyServerURL": "https://plot.ly"
       }
      }
     },
     "metadata": {}
    }
   ],
   "metadata": {}
  },
  {
   "cell_type": "code",
   "execution_count": 57,
   "source": [
    "show_ranking_chart(\n",
    "    ranking.query(\"media2=='Radio' and keyword=='COP27'\"),\n",
    "    \"Evolution du classement des chaînes Radio sur la COP27\",\n",
    "    height = 700\n",
    ").show()\n",
    "\n",
    "show_ranking_chart(\n",
    "    ranking.query(\"media2=='Radio' and keyword=='COP27'\"),\n",
    "    \"Evolution du classement des chaînes Radio sur la COP27 et l'écologie\",\n",
    "    height = 700,\n",
    "    total = True,\n",
    ").show()"
   ],
   "outputs": [
    {
     "output_type": "display_data",
     "data": {
      "application/vnd.plotly.v1+json": {
       "data": [
        {
         "hovertemplate": "channel_name=France Info<br>day_dt=%{x}<br>rank=%{text}<extra></extra>",
         "legendgroup": "France Info",
         "line": {
          "color": "rgb(17,71,129)",
          "dash": "solid"
         },
         "marker": {
          "symbol": "circle",
          "line": {
           "width": 2
          },
          "size": 20
         },
         "mode": "lines+markers+text",
         "name": "France Info",
         "orientation": "v",
         "showlegend": true,
         "text": [
          1,
          1,
          1,
          2,
          6,
          5,
          1
         ],
         "x": [
          "2022-11-05",
          "2022-11-06",
          "2022-11-07",
          "2022-11-08",
          "2022-11-09",
          "2022-11-10",
          "2022-11-11"
         ],
         "xaxis": "x",
         "y": [
          1,
          1,
          1,
          2,
          6,
          5,
          1
         ],
         "yaxis": "y",
         "type": "scatter",
         "textfont": {
          "color": "white",
          "size": 12
         },
         "textposition": "middle center"
        },
        {
         "hovertemplate": "channel_name=RFI<br>day_dt=%{x}<br>rank=%{text}<extra></extra>",
         "legendgroup": "RFI",
         "line": {
          "color": "rgb(29,94,161)",
          "dash": "solid"
         },
         "marker": {
          "symbol": "circle",
          "line": {
           "width": 2
          },
          "size": 20
         },
         "mode": "lines+markers+text",
         "name": "RFI",
         "orientation": "v",
         "showlegend": true,
         "text": [
          2,
          2,
          3,
          1,
          1,
          1,
          2
         ],
         "x": [
          "2022-11-05",
          "2022-11-06",
          "2022-11-07",
          "2022-11-08",
          "2022-11-09",
          "2022-11-10",
          "2022-11-11"
         ],
         "xaxis": "x",
         "y": [
          2,
          2,
          3,
          1,
          1,
          1,
          2
         ],
         "yaxis": "y",
         "type": "scatter",
         "textfont": {
          "color": "white",
          "size": 12
         },
         "textposition": "middle center"
        },
        {
         "hovertemplate": "channel_name=France Inter<br>day_dt=%{x}<br>rank=%{text}<extra></extra>",
         "legendgroup": "France Inter",
         "line": {
          "color": "rgb(43,115,178)",
          "dash": "solid"
         },
         "marker": {
          "symbol": "circle",
          "line": {
           "width": 2
          },
          "size": 20
         },
         "mode": "lines+markers+text",
         "name": "France Inter",
         "orientation": "v",
         "showlegend": true,
         "text": [
          5,
          4,
          5,
          12,
          5,
          2,
          3
         ],
         "x": [
          "2022-11-05",
          "2022-11-06",
          "2022-11-07",
          "2022-11-08",
          "2022-11-09",
          "2022-11-10",
          "2022-11-11"
         ],
         "xaxis": "x",
         "y": [
          5,
          4,
          5,
          12,
          5,
          2,
          3
         ],
         "yaxis": "y",
         "type": "scatter",
         "textfont": {
          "color": "white",
          "size": 12
         },
         "textposition": "middle center"
        },
        {
         "hovertemplate": "channel_name=France Culture<br>day_dt=%{x}<br>rank=%{text}<extra></extra>",
         "legendgroup": "France Culture",
         "line": {
          "color": "rgb(57,134,188)",
          "dash": "solid"
         },
         "marker": {
          "symbol": "circle",
          "line": {
           "width": 2
          },
          "size": 20
         },
         "mode": "lines+markers+text",
         "name": "France Culture",
         "orientation": "v",
         "showlegend": true,
         "text": [
          6,
          6,
          6,
          4,
          2,
          7,
          4
         ],
         "x": [
          "2022-11-05",
          "2022-11-06",
          "2022-11-07",
          "2022-11-08",
          "2022-11-09",
          "2022-11-10",
          "2022-11-11"
         ],
         "xaxis": "x",
         "y": [
          6,
          6,
          6,
          4,
          2,
          7,
          4
         ],
         "yaxis": "y",
         "type": "scatter",
         "textfont": {
          "color": "white",
          "size": 12
         },
         "textposition": "middle center"
        },
        {
         "hovertemplate": "channel_name=BFM Business Radio<br>day_dt=%{x}<br>rank=%{text}<extra></extra>",
         "legendgroup": "BFM Business Radio",
         "line": {
          "color": "rgb(79,154,199)",
          "dash": "solid"
         },
         "marker": {
          "symbol": "circle",
          "line": {
           "width": 2
          },
          "size": 20
         },
         "mode": "lines+markers+text",
         "name": "BFM Business Radio",
         "orientation": "v",
         "showlegend": true,
         "text": [
          4,
          9,
          2,
          3,
          4,
          3,
          5
         ],
         "x": [
          "2022-11-05",
          "2022-11-06",
          "2022-11-07",
          "2022-11-08",
          "2022-11-09",
          "2022-11-10",
          "2022-11-11"
         ],
         "xaxis": "x",
         "y": [
          4,
          9,
          2,
          3,
          4,
          3,
          5
         ],
         "yaxis": "y",
         "type": "scatter",
         "textfont": {
          "color": "white",
          "size": 12
         },
         "textposition": "middle center"
        },
        {
         "hovertemplate": "channel_name=Radio Classique<br>day_dt=%{x}<br>rank=%{text}<extra></extra>",
         "legendgroup": "Radio Classique",
         "line": {
          "color": "rgb(113,176,210)",
          "dash": "solid"
         },
         "marker": {
          "symbol": "circle",
          "line": {
           "width": 2
          },
          "size": 20
         },
         "mode": "lines+markers+text",
         "name": "Radio Classique",
         "orientation": "v",
         "showlegend": true,
         "text": [
          18,
          18,
          7,
          8,
          7,
          6,
          6
         ],
         "x": [
          "2022-11-05",
          "2022-11-06",
          "2022-11-07",
          "2022-11-08",
          "2022-11-09",
          "2022-11-10",
          "2022-11-11"
         ],
         "xaxis": "x",
         "y": [
          18,
          18,
          7,
          8,
          7,
          6,
          6
         ],
         "yaxis": "y",
         "type": "scatter",
         "textfont": {
          "color": "white",
          "size": 12
         },
         "textposition": "middle center"
        },
        {
         "hovertemplate": "channel_name=Chérie FM<br>day_dt=%{x}<br>rank=%{text}<extra></extra>",
         "legendgroup": "Chérie FM",
         "line": {
          "color": "rgb(147,197,222)",
          "dash": "solid"
         },
         "marker": {
          "symbol": "circle",
          "line": {
           "width": 2
          },
          "size": 20
         },
         "mode": "lines+markers+text",
         "name": "Chérie FM",
         "orientation": "v",
         "showlegend": true,
         "text": [
          9,
          10,
          11,
          6,
          8,
          4,
          7
         ],
         "x": [
          "2022-11-05",
          "2022-11-06",
          "2022-11-07",
          "2022-11-08",
          "2022-11-09",
          "2022-11-10",
          "2022-11-11"
         ],
         "xaxis": "x",
         "y": [
          9,
          10,
          11,
          6,
          8,
          4,
          7
         ],
         "yaxis": "y",
         "type": "scatter",
         "textfont": {
          "color": "white",
          "size": 12
         },
         "textposition": "middle center"
        },
        {
         "hovertemplate": "channel_name=RMC<br>day_dt=%{x}<br>rank=%{text}<extra></extra>",
         "legendgroup": "RMC",
         "line": {
          "color": "rgb(176,212,230)",
          "dash": "solid"
         },
         "marker": {
          "symbol": "circle",
          "line": {
           "width": 2
          },
          "size": 20
         },
         "mode": "lines+markers+text",
         "name": "RMC",
         "orientation": "v",
         "showlegend": true,
         "text": [
          7,
          5,
          8,
          5,
          11,
          17,
          8
         ],
         "x": [
          "2022-11-05",
          "2022-11-06",
          "2022-11-07",
          "2022-11-08",
          "2022-11-09",
          "2022-11-10",
          "2022-11-11"
         ],
         "xaxis": "x",
         "y": [
          7,
          5,
          8,
          5,
          11,
          17,
          8
         ],
         "yaxis": "y",
         "type": "scatter",
         "textfont": {
          "color": "white",
          "size": 12
         },
         "textposition": "middle center"
        },
        {
         "hovertemplate": "channel_name=RTL<br>day_dt=%{x}<br>rank=%{text}<extra></extra>",
         "legendgroup": "RTL",
         "line": {
          "color": "rgb(204,226,238)",
          "dash": "solid"
         },
         "marker": {
          "symbol": "circle",
          "line": {
           "width": 2
          },
          "size": 20
         },
         "mode": "lines+markers+text",
         "name": "RTL",
         "orientation": "v",
         "showlegend": true,
         "text": [
          3,
          3,
          4,
          13,
          18,
          8,
          9
         ],
         "x": [
          "2022-11-05",
          "2022-11-06",
          "2022-11-07",
          "2022-11-08",
          "2022-11-09",
          "2022-11-10",
          "2022-11-11"
         ],
         "xaxis": "x",
         "y": [
          3,
          3,
          4,
          13,
          18,
          8,
          9
         ],
         "yaxis": "y",
         "type": "scatter",
         "textfont": {
          "color": "white",
          "size": 12
         },
         "textposition": "middle center"
        },
        {
         "hovertemplate": "channel_name=Nostalgie<br>day_dt=%{x}<br>rank=%{text}<extra></extra>",
         "legendgroup": "Nostalgie",
         "line": {
          "color": "rgb(222,235,242)",
          "dash": "solid"
         },
         "marker": {
          "symbol": "circle",
          "line": {
           "width": 2
          },
          "size": 20
         },
         "mode": "lines+markers+text",
         "name": "Nostalgie",
         "orientation": "v",
         "showlegend": true,
         "text": [
          15,
          8,
          9,
          10,
          17,
          15,
          10
         ],
         "x": [
          "2022-11-05",
          "2022-11-06",
          "2022-11-07",
          "2022-11-08",
          "2022-11-09",
          "2022-11-10",
          "2022-11-11"
         ],
         "xaxis": "x",
         "y": [
          15,
          8,
          9,
          10,
          17,
          15,
          10
         ],
         "yaxis": "y",
         "type": "scatter",
         "textfont": {
          "color": "white",
          "size": 12
         },
         "textposition": "middle center"
        },
        {
         "hovertemplate": "channel_name=France Musique<br>day_dt=%{x}<br>rank=%{text}<extra></extra>",
         "legendgroup": "France Musique",
         "line": {
          "color": "rgb(238,243,245)",
          "dash": "solid"
         },
         "marker": {
          "symbol": "circle",
          "line": {
           "width": 2
          },
          "size": 20
         },
         "mode": "lines+markers+text",
         "name": "France Musique",
         "orientation": "v",
         "showlegend": true,
         "text": [
          10,
          11,
          17,
          18,
          13,
          9,
          11
         ],
         "x": [
          "2022-11-05",
          "2022-11-06",
          "2022-11-07",
          "2022-11-08",
          "2022-11-09",
          "2022-11-10",
          "2022-11-11"
         ],
         "xaxis": "x",
         "y": [
          10,
          11,
          17,
          18,
          13,
          9,
          11
         ],
         "yaxis": "y",
         "type": "scatter",
         "textfont": {
          "color": "white",
          "size": 12
         },
         "textposition": "middle center"
        },
        {
         "hovertemplate": "channel_name=Fun Radio<br>day_dt=%{x}<br>rank=%{text}<extra></extra>",
         "legendgroup": "Fun Radio",
         "line": {
          "color": "rgb(248,240,236)",
          "dash": "solid"
         },
         "marker": {
          "symbol": "circle",
          "line": {
           "width": 2
          },
          "size": 20
         },
         "mode": "lines+markers+text",
         "name": "Fun Radio",
         "orientation": "v",
         "showlegend": true,
         "text": [
          11,
          12,
          19,
          19,
          9,
          10,
          12
         ],
         "x": [
          "2022-11-05",
          "2022-11-06",
          "2022-11-07",
          "2022-11-08",
          "2022-11-09",
          "2022-11-10",
          "2022-11-11"
         ],
         "xaxis": "x",
         "y": [
          11,
          12,
          19,
          19,
          9,
          10,
          12
         ],
         "yaxis": "y",
         "type": "scatter",
         "textfont": {
          "color": "white",
          "size": 12
         },
         "textposition": "middle center"
        },
        {
         "hovertemplate": "channel_name=Guadeloupe 1ère<br>day_dt=%{x}<br>rank=%{text}<extra></extra>",
         "legendgroup": "Guadeloupe 1ère",
         "line": {
          "color": "rgb(250,228,215)",
          "dash": "solid"
         },
         "marker": {
          "symbol": "circle",
          "line": {
           "width": 2
          },
          "size": 20
         },
         "mode": "lines+markers+text",
         "name": "Guadeloupe 1ère",
         "orientation": "v",
         "showlegend": true,
         "text": [
          8,
          7,
          12,
          15,
          10,
          11,
          13
         ],
         "x": [
          "2022-11-05",
          "2022-11-06",
          "2022-11-07",
          "2022-11-08",
          "2022-11-09",
          "2022-11-10",
          "2022-11-11"
         ],
         "xaxis": "x",
         "y": [
          8,
          7,
          12,
          15,
          10,
          11,
          13
         ],
         "yaxis": "y",
         "type": "scatter",
         "textfont": {
          "color": "white",
          "size": 12
         },
         "textposition": "middle center"
        },
        {
         "hovertemplate": "channel_name=Latina<br>day_dt=%{x}<br>rank=%{text}<extra></extra>",
         "legendgroup": "Latina",
         "line": {
          "color": "rgb(252,214,193)",
          "dash": "solid"
         },
         "marker": {
          "symbol": "circle",
          "line": {
           "width": 2
          },
          "size": 20
         },
         "mode": "lines+markers+text",
         "name": "Latina",
         "orientation": "v",
         "showlegend": true,
         "text": [
          12,
          13,
          20,
          20,
          14,
          12,
          14
         ],
         "x": [
          "2022-11-05",
          "2022-11-06",
          "2022-11-07",
          "2022-11-08",
          "2022-11-09",
          "2022-11-10",
          "2022-11-11"
         ],
         "xaxis": "x",
         "y": [
          12,
          13,
          20,
          20,
          14,
          12,
          14
         ],
         "yaxis": "y",
         "type": "scatter",
         "textfont": {
          "color": "white",
          "size": 12
         },
         "textposition": "middle center"
        },
        {
         "hovertemplate": "channel_name=Le Mouv<br>day_dt=%{x}<br>rank=%{text}<extra></extra>",
         "legendgroup": "Le Mouv",
         "line": {
          "color": "rgb(248,191,163)",
          "dash": "solid"
         },
         "marker": {
          "symbol": "circle",
          "line": {
           "width": 2
          },
          "size": 20
         },
         "mode": "lines+markers+text",
         "name": "Le Mouv",
         "orientation": "v",
         "showlegend": true,
         "text": [
          13,
          14,
          14,
          21,
          15,
          13,
          15
         ],
         "x": [
          "2022-11-05",
          "2022-11-06",
          "2022-11-07",
          "2022-11-08",
          "2022-11-09",
          "2022-11-10",
          "2022-11-11"
         ],
         "xaxis": "x",
         "y": [
          13,
          14,
          14,
          21,
          15,
          13,
          15
         ],
         "yaxis": "y",
         "type": "scatter",
         "textfont": {
          "color": "white",
          "size": 12
         },
         "textposition": "middle center"
        },
        {
         "hovertemplate": "channel_name=NRJ<br>day_dt=%{x}<br>rank=%{text}<extra></extra>",
         "legendgroup": "NRJ",
         "line": {
          "color": "rgb(244,166,131)",
          "dash": "solid"
         },
         "marker": {
          "symbol": "circle",
          "line": {
           "width": 2
          },
          "size": 20
         },
         "mode": "lines+markers+text",
         "name": "NRJ",
         "orientation": "v",
         "showlegend": true,
         "text": [
          14,
          15,
          13,
          9,
          16,
          14,
          16
         ],
         "x": [
          "2022-11-05",
          "2022-11-06",
          "2022-11-07",
          "2022-11-08",
          "2022-11-09",
          "2022-11-10",
          "2022-11-11"
         ],
         "xaxis": "x",
         "y": [
          14,
          15,
          13,
          9,
          16,
          14,
          16
         ],
         "yaxis": "y",
         "type": "scatter",
         "textfont": {
          "color": "white",
          "size": 12
         },
         "textposition": "middle center"
        },
        {
         "hovertemplate": "channel_name=Nova<br>day_dt=%{x}<br>rank=%{text}<extra></extra>",
         "legendgroup": "Nova",
         "line": {
          "color": "rgb(231,136,108)",
          "dash": "solid"
         },
         "marker": {
          "symbol": "circle",
          "line": {
           "width": 2
          },
          "size": 20
         },
         "mode": "lines+markers+text",
         "name": "Nova",
         "orientation": "v",
         "showlegend": true,
         "text": [
          16,
          16,
          10,
          7,
          3,
          16,
          17
         ],
         "x": [
          "2022-11-05",
          "2022-11-06",
          "2022-11-07",
          "2022-11-08",
          "2022-11-09",
          "2022-11-10",
          "2022-11-11"
         ],
         "xaxis": "x",
         "y": [
          16,
          16,
          10,
          7,
          3,
          16,
          17
         ],
         "yaxis": "y",
         "type": "scatter",
         "textfont": {
          "color": "white",
          "size": 12
         },
         "textposition": "middle center"
        },
        {
         "hovertemplate": "channel_name=RTL2<br>day_dt=%{x}<br>rank=%{text}<extra></extra>",
         "legendgroup": "RTL2",
         "line": {
          "color": "rgb(218,106,85)",
          "dash": "solid"
         },
         "marker": {
          "symbol": "circle",
          "line": {
           "width": 2
          },
          "size": 20
         },
         "mode": "lines+markers+text",
         "name": "RTL2",
         "orientation": "v",
         "showlegend": true,
         "text": [
          17,
          17,
          16,
          22,
          19,
          18,
          18
         ],
         "x": [
          "2022-11-05",
          "2022-11-06",
          "2022-11-07",
          "2022-11-08",
          "2022-11-09",
          "2022-11-10",
          "2022-11-11"
         ],
         "xaxis": "x",
         "y": [
          17,
          17,
          16,
          22,
          19,
          18,
          18
         ],
         "yaxis": "y",
         "type": "scatter",
         "textfont": {
          "color": "white",
          "size": 12
         },
         "textposition": "middle center"
        },
        {
         "hovertemplate": "channel_name=Radio FG<br>day_dt=%{x}<br>rank=%{text}<extra></extra>",
         "legendgroup": "Radio FG",
         "line": {
          "color": "rgb(204,76,67)",
          "dash": "solid"
         },
         "marker": {
          "symbol": "circle",
          "line": {
           "width": 2
          },
          "size": 20
         },
         "mode": "lines+markers+text",
         "name": "Radio FG",
         "orientation": "v",
         "showlegend": true,
         "text": [
          19,
          19,
          21,
          14,
          20,
          19,
          19
         ],
         "x": [
          "2022-11-05",
          "2022-11-06",
          "2022-11-07",
          "2022-11-08",
          "2022-11-09",
          "2022-11-10",
          "2022-11-11"
         ],
         "xaxis": "x",
         "y": [
          19,
          19,
          21,
          14,
          20,
          19,
          19
         ],
         "yaxis": "y",
         "type": "scatter",
         "textfont": {
          "color": "white",
          "size": 12
         },
         "textposition": "middle center"
        },
        {
         "hovertemplate": "channel_name=Rire et Chansons<br>day_dt=%{x}<br>rank=%{text}<extra></extra>",
         "legendgroup": "Rire et Chansons",
         "line": {
          "color": "rgb(188,45,52)",
          "dash": "solid"
         },
         "marker": {
          "symbol": "circle",
          "line": {
           "width": 2
          },
          "size": 20
         },
         "mode": "lines+markers+text",
         "name": "Rire et Chansons",
         "orientation": "v",
         "showlegend": true,
         "text": [
          20,
          20,
          15,
          11,
          12,
          20,
          20
         ],
         "x": [
          "2022-11-05",
          "2022-11-06",
          "2022-11-07",
          "2022-11-08",
          "2022-11-09",
          "2022-11-10",
          "2022-11-11"
         ],
         "xaxis": "x",
         "y": [
          20,
          20,
          15,
          11,
          12,
          20,
          20
         ],
         "yaxis": "y",
         "type": "scatter",
         "textfont": {
          "color": "white",
          "size": 12
         },
         "textposition": "middle center"
        },
        {
         "hovertemplate": "channel_name=Skyrock<br>day_dt=%{x}<br>rank=%{text}<extra></extra>",
         "legendgroup": "Skyrock",
         "line": {
          "color": "rgb(167,20,41)",
          "dash": "solid"
         },
         "marker": {
          "symbol": "circle",
          "line": {
           "width": 2
          },
          "size": 20
         },
         "mode": "lines+markers+text",
         "name": "Skyrock",
         "orientation": "v",
         "showlegend": true,
         "text": [
          21,
          21,
          18,
          16,
          21,
          21,
          21
         ],
         "x": [
          "2022-11-05",
          "2022-11-06",
          "2022-11-07",
          "2022-11-08",
          "2022-11-09",
          "2022-11-10",
          "2022-11-11"
         ],
         "xaxis": "x",
         "y": [
          21,
          21,
          18,
          16,
          21,
          21,
          21
         ],
         "yaxis": "y",
         "type": "scatter",
         "textfont": {
          "color": "white",
          "size": 12
         },
         "textposition": "middle center"
        },
        {
         "hovertemplate": "channel_name=TSF Jazz<br>day_dt=%{x}<br>rank=%{text}<extra></extra>",
         "legendgroup": "TSF Jazz",
         "line": {
          "color": "rgb(135,10,36)",
          "dash": "solid"
         },
         "marker": {
          "symbol": "circle",
          "line": {
           "width": 2
          },
          "size": 20
         },
         "mode": "lines+markers+text",
         "name": "TSF Jazz",
         "orientation": "v",
         "showlegend": true,
         "text": [
          22,
          22,
          22,
          17,
          22,
          22,
          22
         ],
         "x": [
          "2022-11-05",
          "2022-11-06",
          "2022-11-07",
          "2022-11-08",
          "2022-11-09",
          "2022-11-10",
          "2022-11-11"
         ],
         "xaxis": "x",
         "y": [
          22,
          22,
          22,
          17,
          22,
          22,
          22
         ],
         "yaxis": "y",
         "type": "scatter",
         "textfont": {
          "color": "white",
          "size": 12
         },
         "textposition": "middle center"
        }
       ],
       "layout": {
        "template": {
         "data": {
          "barpolar": [
           {
            "marker": {
             "line": {
              "color": "white",
              "width": 0.5
             },
             "pattern": {
              "fillmode": "overlay",
              "size": 10,
              "solidity": 0.2
             }
            },
            "type": "barpolar"
           }
          ],
          "bar": [
           {
            "error_x": {
             "color": "#2a3f5f"
            },
            "error_y": {
             "color": "#2a3f5f"
            },
            "marker": {
             "line": {
              "color": "white",
              "width": 0.5
             },
             "pattern": {
              "fillmode": "overlay",
              "size": 10,
              "solidity": 0.2
             }
            },
            "type": "bar"
           }
          ],
          "carpet": [
           {
            "aaxis": {
             "endlinecolor": "#2a3f5f",
             "gridcolor": "#C8D4E3",
             "linecolor": "#C8D4E3",
             "minorgridcolor": "#C8D4E3",
             "startlinecolor": "#2a3f5f"
            },
            "baxis": {
             "endlinecolor": "#2a3f5f",
             "gridcolor": "#C8D4E3",
             "linecolor": "#C8D4E3",
             "minorgridcolor": "#C8D4E3",
             "startlinecolor": "#2a3f5f"
            },
            "type": "carpet"
           }
          ],
          "choropleth": [
           {
            "colorbar": {
             "outlinewidth": 0,
             "ticks": ""
            },
            "type": "choropleth"
           }
          ],
          "contourcarpet": [
           {
            "colorbar": {
             "outlinewidth": 0,
             "ticks": ""
            },
            "type": "contourcarpet"
           }
          ],
          "contour": [
           {
            "colorbar": {
             "outlinewidth": 0,
             "ticks": ""
            },
            "colorscale": [
             [
              0,
              "#0d0887"
             ],
             [
              0.1111111111111111,
              "#46039f"
             ],
             [
              0.2222222222222222,
              "#7201a8"
             ],
             [
              0.3333333333333333,
              "#9c179e"
             ],
             [
              0.4444444444444444,
              "#bd3786"
             ],
             [
              0.5555555555555556,
              "#d8576b"
             ],
             [
              0.6666666666666666,
              "#ed7953"
             ],
             [
              0.7777777777777778,
              "#fb9f3a"
             ],
             [
              0.8888888888888888,
              "#fdca26"
             ],
             [
              1,
              "#f0f921"
             ]
            ],
            "type": "contour"
           }
          ],
          "heatmapgl": [
           {
            "colorbar": {
             "outlinewidth": 0,
             "ticks": ""
            },
            "colorscale": [
             [
              0,
              "#0d0887"
             ],
             [
              0.1111111111111111,
              "#46039f"
             ],
             [
              0.2222222222222222,
              "#7201a8"
             ],
             [
              0.3333333333333333,
              "#9c179e"
             ],
             [
              0.4444444444444444,
              "#bd3786"
             ],
             [
              0.5555555555555556,
              "#d8576b"
             ],
             [
              0.6666666666666666,
              "#ed7953"
             ],
             [
              0.7777777777777778,
              "#fb9f3a"
             ],
             [
              0.8888888888888888,
              "#fdca26"
             ],
             [
              1,
              "#f0f921"
             ]
            ],
            "type": "heatmapgl"
           }
          ],
          "heatmap": [
           {
            "colorbar": {
             "outlinewidth": 0,
             "ticks": ""
            },
            "colorscale": [
             [
              0,
              "#0d0887"
             ],
             [
              0.1111111111111111,
              "#46039f"
             ],
             [
              0.2222222222222222,
              "#7201a8"
             ],
             [
              0.3333333333333333,
              "#9c179e"
             ],
             [
              0.4444444444444444,
              "#bd3786"
             ],
             [
              0.5555555555555556,
              "#d8576b"
             ],
             [
              0.6666666666666666,
              "#ed7953"
             ],
             [
              0.7777777777777778,
              "#fb9f3a"
             ],
             [
              0.8888888888888888,
              "#fdca26"
             ],
             [
              1,
              "#f0f921"
             ]
            ],
            "type": "heatmap"
           }
          ],
          "histogram2dcontour": [
           {
            "colorbar": {
             "outlinewidth": 0,
             "ticks": ""
            },
            "colorscale": [
             [
              0,
              "#0d0887"
             ],
             [
              0.1111111111111111,
              "#46039f"
             ],
             [
              0.2222222222222222,
              "#7201a8"
             ],
             [
              0.3333333333333333,
              "#9c179e"
             ],
             [
              0.4444444444444444,
              "#bd3786"
             ],
             [
              0.5555555555555556,
              "#d8576b"
             ],
             [
              0.6666666666666666,
              "#ed7953"
             ],
             [
              0.7777777777777778,
              "#fb9f3a"
             ],
             [
              0.8888888888888888,
              "#fdca26"
             ],
             [
              1,
              "#f0f921"
             ]
            ],
            "type": "histogram2dcontour"
           }
          ],
          "histogram2d": [
           {
            "colorbar": {
             "outlinewidth": 0,
             "ticks": ""
            },
            "colorscale": [
             [
              0,
              "#0d0887"
             ],
             [
              0.1111111111111111,
              "#46039f"
             ],
             [
              0.2222222222222222,
              "#7201a8"
             ],
             [
              0.3333333333333333,
              "#9c179e"
             ],
             [
              0.4444444444444444,
              "#bd3786"
             ],
             [
              0.5555555555555556,
              "#d8576b"
             ],
             [
              0.6666666666666666,
              "#ed7953"
             ],
             [
              0.7777777777777778,
              "#fb9f3a"
             ],
             [
              0.8888888888888888,
              "#fdca26"
             ],
             [
              1,
              "#f0f921"
             ]
            ],
            "type": "histogram2d"
           }
          ],
          "histogram": [
           {
            "marker": {
             "pattern": {
              "fillmode": "overlay",
              "size": 10,
              "solidity": 0.2
             }
            },
            "type": "histogram"
           }
          ],
          "mesh3d": [
           {
            "colorbar": {
             "outlinewidth": 0,
             "ticks": ""
            },
            "type": "mesh3d"
           }
          ],
          "parcoords": [
           {
            "line": {
             "colorbar": {
              "outlinewidth": 0,
              "ticks": ""
             }
            },
            "type": "parcoords"
           }
          ],
          "pie": [
           {
            "automargin": true,
            "type": "pie"
           }
          ],
          "scatter3d": [
           {
            "line": {
             "colorbar": {
              "outlinewidth": 0,
              "ticks": ""
             }
            },
            "marker": {
             "colorbar": {
              "outlinewidth": 0,
              "ticks": ""
             }
            },
            "type": "scatter3d"
           }
          ],
          "scattercarpet": [
           {
            "marker": {
             "colorbar": {
              "outlinewidth": 0,
              "ticks": ""
             }
            },
            "type": "scattercarpet"
           }
          ],
          "scattergeo": [
           {
            "marker": {
             "colorbar": {
              "outlinewidth": 0,
              "ticks": ""
             }
            },
            "type": "scattergeo"
           }
          ],
          "scattergl": [
           {
            "marker": {
             "colorbar": {
              "outlinewidth": 0,
              "ticks": ""
             }
            },
            "type": "scattergl"
           }
          ],
          "scattermapbox": [
           {
            "marker": {
             "colorbar": {
              "outlinewidth": 0,
              "ticks": ""
             }
            },
            "type": "scattermapbox"
           }
          ],
          "scatterpolargl": [
           {
            "marker": {
             "colorbar": {
              "outlinewidth": 0,
              "ticks": ""
             }
            },
            "type": "scatterpolargl"
           }
          ],
          "scatterpolar": [
           {
            "marker": {
             "colorbar": {
              "outlinewidth": 0,
              "ticks": ""
             }
            },
            "type": "scatterpolar"
           }
          ],
          "scatter": [
           {
            "fillpattern": {
             "fillmode": "overlay",
             "size": 10,
             "solidity": 0.2
            },
            "type": "scatter"
           }
          ],
          "scatterternary": [
           {
            "marker": {
             "colorbar": {
              "outlinewidth": 0,
              "ticks": ""
             }
            },
            "type": "scatterternary"
           }
          ],
          "surface": [
           {
            "colorbar": {
             "outlinewidth": 0,
             "ticks": ""
            },
            "colorscale": [
             [
              0,
              "#0d0887"
             ],
             [
              0.1111111111111111,
              "#46039f"
             ],
             [
              0.2222222222222222,
              "#7201a8"
             ],
             [
              0.3333333333333333,
              "#9c179e"
             ],
             [
              0.4444444444444444,
              "#bd3786"
             ],
             [
              0.5555555555555556,
              "#d8576b"
             ],
             [
              0.6666666666666666,
              "#ed7953"
             ],
             [
              0.7777777777777778,
              "#fb9f3a"
             ],
             [
              0.8888888888888888,
              "#fdca26"
             ],
             [
              1,
              "#f0f921"
             ]
            ],
            "type": "surface"
           }
          ],
          "table": [
           {
            "cells": {
             "fill": {
              "color": "#EBF0F8"
             },
             "line": {
              "color": "white"
             }
            },
            "header": {
             "fill": {
              "color": "#C8D4E3"
             },
             "line": {
              "color": "white"
             }
            },
            "type": "table"
           }
          ]
         },
         "layout": {
          "annotationdefaults": {
           "arrowcolor": "#2a3f5f",
           "arrowhead": 0,
           "arrowwidth": 1
          },
          "autotypenumbers": "strict",
          "coloraxis": {
           "colorbar": {
            "outlinewidth": 0,
            "ticks": ""
           }
          },
          "colorscale": {
           "diverging": [
            [
             0,
             "#8e0152"
            ],
            [
             0.1,
             "#c51b7d"
            ],
            [
             0.2,
             "#de77ae"
            ],
            [
             0.3,
             "#f1b6da"
            ],
            [
             0.4,
             "#fde0ef"
            ],
            [
             0.5,
             "#f7f7f7"
            ],
            [
             0.6,
             "#e6f5d0"
            ],
            [
             0.7,
             "#b8e186"
            ],
            [
             0.8,
             "#7fbc41"
            ],
            [
             0.9,
             "#4d9221"
            ],
            [
             1,
             "#276419"
            ]
           ],
           "sequential": [
            [
             0,
             "#0d0887"
            ],
            [
             0.1111111111111111,
             "#46039f"
            ],
            [
             0.2222222222222222,
             "#7201a8"
            ],
            [
             0.3333333333333333,
             "#9c179e"
            ],
            [
             0.4444444444444444,
             "#bd3786"
            ],
            [
             0.5555555555555556,
             "#d8576b"
            ],
            [
             0.6666666666666666,
             "#ed7953"
            ],
            [
             0.7777777777777778,
             "#fb9f3a"
            ],
            [
             0.8888888888888888,
             "#fdca26"
            ],
            [
             1,
             "#f0f921"
            ]
           ],
           "sequentialminus": [
            [
             0,
             "#0d0887"
            ],
            [
             0.1111111111111111,
             "#46039f"
            ],
            [
             0.2222222222222222,
             "#7201a8"
            ],
            [
             0.3333333333333333,
             "#9c179e"
            ],
            [
             0.4444444444444444,
             "#bd3786"
            ],
            [
             0.5555555555555556,
             "#d8576b"
            ],
            [
             0.6666666666666666,
             "#ed7953"
            ],
            [
             0.7777777777777778,
             "#fb9f3a"
            ],
            [
             0.8888888888888888,
             "#fdca26"
            ],
            [
             1,
             "#f0f921"
            ]
           ]
          },
          "colorway": [
           "#636efa",
           "#EF553B",
           "#00cc96",
           "#ab63fa",
           "#FFA15A",
           "#19d3f3",
           "#FF6692",
           "#B6E880",
           "#FF97FF",
           "#FECB52"
          ],
          "font": {
           "color": "#2a3f5f"
          },
          "geo": {
           "bgcolor": "white",
           "lakecolor": "white",
           "landcolor": "white",
           "showlakes": true,
           "showland": true,
           "subunitcolor": "#C8D4E3"
          },
          "hoverlabel": {
           "align": "left"
          },
          "hovermode": "closest",
          "mapbox": {
           "style": "light"
          },
          "paper_bgcolor": "white",
          "plot_bgcolor": "white",
          "polar": {
           "angularaxis": {
            "gridcolor": "#EBF0F8",
            "linecolor": "#EBF0F8",
            "ticks": ""
           },
           "bgcolor": "white",
           "radialaxis": {
            "gridcolor": "#EBF0F8",
            "linecolor": "#EBF0F8",
            "ticks": ""
           }
          },
          "scene": {
           "xaxis": {
            "backgroundcolor": "white",
            "gridcolor": "#DFE8F3",
            "gridwidth": 2,
            "linecolor": "#EBF0F8",
            "showbackground": true,
            "ticks": "",
            "zerolinecolor": "#EBF0F8"
           },
           "yaxis": {
            "backgroundcolor": "white",
            "gridcolor": "#DFE8F3",
            "gridwidth": 2,
            "linecolor": "#EBF0F8",
            "showbackground": true,
            "ticks": "",
            "zerolinecolor": "#EBF0F8"
           },
           "zaxis": {
            "backgroundcolor": "white",
            "gridcolor": "#DFE8F3",
            "gridwidth": 2,
            "linecolor": "#EBF0F8",
            "showbackground": true,
            "ticks": "",
            "zerolinecolor": "#EBF0F8"
           }
          },
          "shapedefaults": {
           "line": {
            "color": "#2a3f5f"
           }
          },
          "ternary": {
           "aaxis": {
            "gridcolor": "#DFE8F3",
            "linecolor": "#A2B1C6",
            "ticks": ""
           },
           "baxis": {
            "gridcolor": "#DFE8F3",
            "linecolor": "#A2B1C6",
            "ticks": ""
           },
           "bgcolor": "white",
           "caxis": {
            "gridcolor": "#DFE8F3",
            "linecolor": "#A2B1C6",
            "ticks": ""
           }
          },
          "title": {
           "x": 0.05
          },
          "xaxis": {
           "automargin": true,
           "gridcolor": "#EBF0F8",
           "linecolor": "#EBF0F8",
           "ticks": "",
           "title": {
            "standoff": 15
           },
           "zerolinecolor": "#EBF0F8",
           "zerolinewidth": 2
          },
          "yaxis": {
           "automargin": true,
           "gridcolor": "#EBF0F8",
           "linecolor": "#EBF0F8",
           "ticks": "",
           "title": {
            "standoff": 15
           },
           "zerolinecolor": "#EBF0F8",
           "zerolinewidth": 2
          }
         }
        },
        "xaxis": {
         "anchor": "y",
         "domain": [
          0,
          1
         ],
         "title": {
          "text": "Date de la COP27"
         },
         "tickmode": "linear",
         "showgrid": false
        },
        "yaxis": {
         "anchor": "x",
         "domain": [
          0,
          1
         ],
         "title": {},
         "autorange": "reversed",
         "showgrid": false,
         "showticklabels": false
        },
        "legend": {
         "title": {
          "text": "channel_name"
         },
         "tracegroupgap": 0
        },
        "margin": {
         "t": 60,
         "r": 200
        },
        "font": {
         "family": "Poppins"
        },
        "height": 700,
        "annotations": [
         {
          "font": {
           "family": "Poppins",
           "size": 12
          },
          "showarrow": false,
          "text": "France Info (4.3%)",
          "x": 0.95,
          "xanchor": "left",
          "xref": "paper",
          "y": 1,
          "yanchor": "middle"
         },
         {
          "font": {
           "family": "Poppins",
           "size": 12
          },
          "showarrow": false,
          "text": "RFI (4.3%)",
          "x": 0.95,
          "xanchor": "left",
          "xref": "paper",
          "y": 2,
          "yanchor": "middle"
         },
         {
          "font": {
           "family": "Poppins",
           "size": 12
          },
          "showarrow": false,
          "text": "France Inter (2.4%)",
          "x": 0.95,
          "xanchor": "left",
          "xref": "paper",
          "y": 3,
          "yanchor": "middle"
         },
         {
          "font": {
           "family": "Poppins",
           "size": 12
          },
          "showarrow": false,
          "text": "France Culture (1.5%)",
          "x": 0.95,
          "xanchor": "left",
          "xref": "paper",
          "y": 4,
          "yanchor": "middle"
         },
         {
          "font": {
           "family": "Poppins",
           "size": 12
          },
          "showarrow": false,
          "text": "BFM Business Radio (0.7%)",
          "x": 0.95,
          "xanchor": "left",
          "xref": "paper",
          "y": 5,
          "yanchor": "middle"
         },
         {
          "font": {
           "family": "Poppins",
           "size": 12
          },
          "showarrow": false,
          "text": "Radio Classique (0.7%)",
          "x": 0.95,
          "xanchor": "left",
          "xref": "paper",
          "y": 6,
          "yanchor": "middle"
         },
         {
          "font": {
           "family": "Poppins",
           "size": 12
          },
          "showarrow": false,
          "text": "Chérie FM (0.6%)",
          "x": 0.95,
          "xanchor": "left",
          "xref": "paper",
          "y": 7,
          "yanchor": "middle"
         },
         {
          "font": {
           "family": "Poppins",
           "size": 12
          },
          "showarrow": false,
          "text": "RMC (0.6%)",
          "x": 0.95,
          "xanchor": "left",
          "xref": "paper",
          "y": 8,
          "yanchor": "middle"
         },
         {
          "font": {
           "family": "Poppins",
           "size": 12
          },
          "showarrow": false,
          "text": "RTL (0.6%)",
          "x": 0.95,
          "xanchor": "left",
          "xref": "paper",
          "y": 9,
          "yanchor": "middle"
         },
         {
          "font": {
           "family": "Poppins",
           "size": 12
          },
          "showarrow": false,
          "text": "Nostalgie (0.4%)",
          "x": 0.95,
          "xanchor": "left",
          "xref": "paper",
          "y": 10,
          "yanchor": "middle"
         },
         {
          "font": {
           "family": "Poppins",
           "size": 12
          },
          "showarrow": false,
          "text": "France Musique (0.0%)",
          "x": 0.95,
          "xanchor": "left",
          "xref": "paper",
          "y": 11,
          "yanchor": "middle"
         },
         {
          "font": {
           "family": "Poppins",
           "size": 12
          },
          "showarrow": false,
          "text": "Fun Radio (0.0%)",
          "x": 0.95,
          "xanchor": "left",
          "xref": "paper",
          "y": 12,
          "yanchor": "middle"
         },
         {
          "font": {
           "family": "Poppins",
           "size": 12
          },
          "showarrow": false,
          "text": "Guadeloupe 1ère (0.0%)",
          "x": 0.95,
          "xanchor": "left",
          "xref": "paper",
          "y": 13,
          "yanchor": "middle"
         },
         {
          "font": {
           "family": "Poppins",
           "size": 12
          },
          "showarrow": false,
          "text": "Latina (0.0%)",
          "x": 0.95,
          "xanchor": "left",
          "xref": "paper",
          "y": 14,
          "yanchor": "middle"
         },
         {
          "font": {
           "family": "Poppins",
           "size": 12
          },
          "showarrow": false,
          "text": "Le Mouv (0.0%)",
          "x": 0.95,
          "xanchor": "left",
          "xref": "paper",
          "y": 15,
          "yanchor": "middle"
         },
         {
          "font": {
           "family": "Poppins",
           "size": 12
          },
          "showarrow": false,
          "text": "NRJ (0.0%)",
          "x": 0.95,
          "xanchor": "left",
          "xref": "paper",
          "y": 16,
          "yanchor": "middle"
         },
         {
          "font": {
           "family": "Poppins",
           "size": 12
          },
          "showarrow": false,
          "text": "Nova (0.0%)",
          "x": 0.95,
          "xanchor": "left",
          "xref": "paper",
          "y": 17,
          "yanchor": "middle"
         },
         {
          "font": {
           "family": "Poppins",
           "size": 12
          },
          "showarrow": false,
          "text": "RTL2 (0.0%)",
          "x": 0.95,
          "xanchor": "left",
          "xref": "paper",
          "y": 18,
          "yanchor": "middle"
         },
         {
          "font": {
           "family": "Poppins",
           "size": 12
          },
          "showarrow": false,
          "text": "Radio FG (0.0%)",
          "x": 0.95,
          "xanchor": "left",
          "xref": "paper",
          "y": 19,
          "yanchor": "middle"
         },
         {
          "font": {
           "family": "Poppins",
           "size": 12
          },
          "showarrow": false,
          "text": "Rire et Chansons (0.0%)",
          "x": 0.95,
          "xanchor": "left",
          "xref": "paper",
          "y": 20,
          "yanchor": "middle"
         },
         {
          "font": {
           "family": "Poppins",
           "size": 12
          },
          "showarrow": false,
          "text": "Skyrock (0.0%)",
          "x": 0.95,
          "xanchor": "left",
          "xref": "paper",
          "y": 21,
          "yanchor": "middle"
         },
         {
          "font": {
           "family": "Poppins",
           "size": 12
          },
          "showarrow": false,
          "text": "TSF Jazz (0.0%)",
          "x": 0.95,
          "xanchor": "left",
          "xref": "paper",
          "y": 22,
          "yanchor": "middle"
         }
        ],
        "showlegend": false,
        "title": {
         "text": "Evolution du classement des chaînes Radio sur la COP27"
        }
       },
       "config": {
        "plotlyServerURL": "https://plot.ly"
       }
      }
     },
     "metadata": {}
    },
    {
     "output_type": "display_data",
     "data": {
      "application/vnd.plotly.v1+json": {
       "data": [
        {
         "hovertemplate": "channel_name=France Info<br>day_dt=%{x}<br>rank_total=%{text}<extra></extra>",
         "legendgroup": "France Info",
         "line": {
          "color": "rgb(17,71,129)",
          "dash": "solid"
         },
         "marker": {
          "symbol": "circle",
          "line": {
           "width": 2
          },
          "size": 20
         },
         "mode": "lines+markers+text",
         "name": "France Info",
         "orientation": "v",
         "showlegend": true,
         "text": [
          1,
          1,
          1,
          1,
          3,
          4,
          1
         ],
         "x": [
          "2022-11-05",
          "2022-11-06",
          "2022-11-07",
          "2022-11-08",
          "2022-11-09",
          "2022-11-10",
          "2022-11-11"
         ],
         "xaxis": "x",
         "y": [
          1,
          1,
          1,
          1,
          3,
          4,
          1
         ],
         "yaxis": "y",
         "type": "scatter",
         "textfont": {
          "color": "white",
          "size": 12
         },
         "textposition": "middle center"
        },
        {
         "hovertemplate": "channel_name=RFI<br>day_dt=%{x}<br>rank_total=%{text}<extra></extra>",
         "legendgroup": "RFI",
         "line": {
          "color": "rgb(29,94,161)",
          "dash": "solid"
         },
         "marker": {
          "symbol": "circle",
          "line": {
           "width": 2
          },
          "size": 20
         },
         "mode": "lines+markers+text",
         "name": "RFI",
         "orientation": "v",
         "showlegend": true,
         "text": [
          2,
          2,
          2,
          2,
          2,
          1,
          2
         ],
         "x": [
          "2022-11-05",
          "2022-11-06",
          "2022-11-07",
          "2022-11-08",
          "2022-11-09",
          "2022-11-10",
          "2022-11-11"
         ],
         "xaxis": "x",
         "y": [
          2,
          2,
          2,
          2,
          2,
          1,
          2
         ],
         "yaxis": "y",
         "type": "scatter",
         "textfont": {
          "color": "white",
          "size": 12
         },
         "textposition": "middle center"
        },
        {
         "hovertemplate": "channel_name=France Culture<br>day_dt=%{x}<br>rank_total=%{text}<extra></extra>",
         "legendgroup": "France Culture",
         "line": {
          "color": "rgb(43,115,178)",
          "dash": "solid"
         },
         "marker": {
          "symbol": "circle",
          "line": {
           "width": 2
          },
          "size": 20
         },
         "mode": "lines+markers+text",
         "name": "France Culture",
         "orientation": "v",
         "showlegend": true,
         "text": [
          4,
          7,
          5,
          5,
          5,
          5,
          3
         ],
         "x": [
          "2022-11-05",
          "2022-11-06",
          "2022-11-07",
          "2022-11-08",
          "2022-11-09",
          "2022-11-10",
          "2022-11-11"
         ],
         "xaxis": "x",
         "y": [
          4,
          7,
          5,
          5,
          5,
          5,
          3
         ],
         "yaxis": "y",
         "type": "scatter",
         "textfont": {
          "color": "white",
          "size": 12
         },
         "textposition": "middle center"
        },
        {
         "hovertemplate": "channel_name=France Inter<br>day_dt=%{x}<br>rank_total=%{text}<extra></extra>",
         "legendgroup": "France Inter",
         "line": {
          "color": "rgb(57,134,188)",
          "dash": "solid"
         },
         "marker": {
          "symbol": "circle",
          "line": {
           "width": 2
          },
          "size": 20
         },
         "mode": "lines+markers+text",
         "name": "France Inter",
         "orientation": "v",
         "showlegend": true,
         "text": [
          6,
          3,
          4,
          4,
          6,
          3,
          4
         ],
         "x": [
          "2022-11-05",
          "2022-11-06",
          "2022-11-07",
          "2022-11-08",
          "2022-11-09",
          "2022-11-10",
          "2022-11-11"
         ],
         "xaxis": "x",
         "y": [
          6,
          3,
          4,
          4,
          6,
          3,
          4
         ],
         "yaxis": "y",
         "type": "scatter",
         "textfont": {
          "color": "white",
          "size": 12
         },
         "textposition": "middle center"
        },
        {
         "hovertemplate": "channel_name=BFM Business Radio<br>day_dt=%{x}<br>rank_total=%{text}<extra></extra>",
         "legendgroup": "BFM Business Radio",
         "line": {
          "color": "rgb(79,154,199)",
          "dash": "solid"
         },
         "marker": {
          "symbol": "circle",
          "line": {
           "width": 2
          },
          "size": 20
         },
         "mode": "lines+markers+text",
         "name": "BFM Business Radio",
         "orientation": "v",
         "showlegend": true,
         "text": [
          3,
          5,
          3,
          3,
          1,
          2,
          5
         ],
         "x": [
          "2022-11-05",
          "2022-11-06",
          "2022-11-07",
          "2022-11-08",
          "2022-11-09",
          "2022-11-10",
          "2022-11-11"
         ],
         "xaxis": "x",
         "y": [
          3,
          5,
          3,
          3,
          1,
          2,
          5
         ],
         "yaxis": "y",
         "type": "scatter",
         "textfont": {
          "color": "white",
          "size": 12
         },
         "textposition": "middle center"
        },
        {
         "hovertemplate": "channel_name=Radio Classique<br>day_dt=%{x}<br>rank_total=%{text}<extra></extra>",
         "legendgroup": "Radio Classique",
         "line": {
          "color": "rgb(113,176,210)",
          "dash": "solid"
         },
         "marker": {
          "symbol": "circle",
          "line": {
           "width": 2
          },
          "size": 20
         },
         "mode": "lines+markers+text",
         "name": "Radio Classique",
         "orientation": "v",
         "showlegend": true,
         "text": [
          18,
          18,
          8,
          9,
          7,
          9,
          6
         ],
         "x": [
          "2022-11-05",
          "2022-11-06",
          "2022-11-07",
          "2022-11-08",
          "2022-11-09",
          "2022-11-10",
          "2022-11-11"
         ],
         "xaxis": "x",
         "y": [
          18,
          18,
          8,
          9,
          7,
          9,
          6
         ],
         "yaxis": "y",
         "type": "scatter",
         "textfont": {
          "color": "white",
          "size": 12
         },
         "textposition": "middle center"
        },
        {
         "hovertemplate": "channel_name=RTL<br>day_dt=%{x}<br>rank_total=%{text}<extra></extra>",
         "legendgroup": "RTL",
         "line": {
          "color": "rgb(147,197,222)",
          "dash": "solid"
         },
         "marker": {
          "symbol": "circle",
          "line": {
           "width": 2
          },
          "size": 20
         },
         "mode": "lines+markers+text",
         "name": "RTL",
         "orientation": "v",
         "showlegend": true,
         "text": [
          5,
          4,
          6,
          6,
          9,
          7,
          7
         ],
         "x": [
          "2022-11-05",
          "2022-11-06",
          "2022-11-07",
          "2022-11-08",
          "2022-11-09",
          "2022-11-10",
          "2022-11-11"
         ],
         "xaxis": "x",
         "y": [
          5,
          4,
          6,
          6,
          9,
          7,
          7
         ],
         "yaxis": "y",
         "type": "scatter",
         "textfont": {
          "color": "white",
          "size": 12
         },
         "textposition": "middle center"
        },
        {
         "hovertemplate": "channel_name=RMC<br>day_dt=%{x}<br>rank_total=%{text}<extra></extra>",
         "legendgroup": "RMC",
         "line": {
          "color": "rgb(176,212,230)",
          "dash": "solid"
         },
         "marker": {
          "symbol": "circle",
          "line": {
           "width": 2
          },
          "size": 20
         },
         "mode": "lines+markers+text",
         "name": "RMC",
         "orientation": "v",
         "showlegend": true,
         "text": [
          7,
          6,
          7,
          7,
          12,
          8,
          8
         ],
         "x": [
          "2022-11-05",
          "2022-11-06",
          "2022-11-07",
          "2022-11-08",
          "2022-11-09",
          "2022-11-10",
          "2022-11-11"
         ],
         "xaxis": "x",
         "y": [
          7,
          6,
          7,
          7,
          12,
          8,
          8
         ],
         "yaxis": "y",
         "type": "scatter",
         "textfont": {
          "color": "white",
          "size": 12
         },
         "textposition": "middle center"
        },
        {
         "hovertemplate": "channel_name=Nostalgie<br>day_dt=%{x}<br>rank_total=%{text}<extra></extra>",
         "legendgroup": "Nostalgie",
         "line": {
          "color": "rgb(204,226,238)",
          "dash": "solid"
         },
         "marker": {
          "symbol": "circle",
          "line": {
           "width": 2
          },
          "size": 20
         },
         "mode": "lines+markers+text",
         "name": "Nostalgie",
         "orientation": "v",
         "showlegend": true,
         "text": [
          8,
          8,
          13,
          11,
          20,
          14,
          9
         ],
         "x": [
          "2022-11-05",
          "2022-11-06",
          "2022-11-07",
          "2022-11-08",
          "2022-11-09",
          "2022-11-10",
          "2022-11-11"
         ],
         "xaxis": "x",
         "y": [
          8,
          8,
          13,
          11,
          20,
          14,
          9
         ],
         "yaxis": "y",
         "type": "scatter",
         "textfont": {
          "color": "white",
          "size": 12
         },
         "textposition": "middle center"
        },
        {
         "hovertemplate": "channel_name=RTL2<br>day_dt=%{x}<br>rank_total=%{text}<extra></extra>",
         "legendgroup": "RTL2",
         "line": {
          "color": "rgb(222,235,242)",
          "dash": "solid"
         },
         "marker": {
          "symbol": "circle",
          "line": {
           "width": 2
          },
          "size": 20
         },
         "mode": "lines+markers+text",
         "name": "RTL2",
         "orientation": "v",
         "showlegend": true,
         "text": [
          17,
          17,
          14,
          13,
          13,
          21,
          10
         ],
         "x": [
          "2022-11-05",
          "2022-11-06",
          "2022-11-07",
          "2022-11-08",
          "2022-11-09",
          "2022-11-10",
          "2022-11-11"
         ],
         "xaxis": "x",
         "y": [
          17,
          17,
          14,
          13,
          13,
          21,
          10
         ],
         "yaxis": "y",
         "type": "scatter",
         "textfont": {
          "color": "white",
          "size": 12
         },
         "textposition": "middle center"
        },
        {
         "hovertemplate": "channel_name=Chérie FM<br>day_dt=%{x}<br>rank_total=%{text}<extra></extra>",
         "legendgroup": "Chérie FM",
         "line": {
          "color": "rgb(238,243,245)",
          "dash": "solid"
         },
         "marker": {
          "symbol": "circle",
          "line": {
           "width": 2
          },
          "size": 20
         },
         "mode": "lines+markers+text",
         "name": "Chérie FM",
         "orientation": "v",
         "showlegend": true,
         "text": [
          11,
          10,
          18,
          18,
          10,
          10,
          11
         ],
         "x": [
          "2022-11-05",
          "2022-11-06",
          "2022-11-07",
          "2022-11-08",
          "2022-11-09",
          "2022-11-10",
          "2022-11-11"
         ],
         "xaxis": "x",
         "y": [
          11,
          10,
          18,
          18,
          10,
          10,
          11
         ],
         "yaxis": "y",
         "type": "scatter",
         "textfont": {
          "color": "white",
          "size": 12
         },
         "textposition": "middle center"
        },
        {
         "hovertemplate": "channel_name=France Musique<br>day_dt=%{x}<br>rank_total=%{text}<extra></extra>",
         "legendgroup": "France Musique",
         "line": {
          "color": "rgb(248,240,236)",
          "dash": "solid"
         },
         "marker": {
          "symbol": "circle",
          "line": {
           "width": 2
          },
          "size": 20
         },
         "mode": "lines+markers+text",
         "name": "France Musique",
         "orientation": "v",
         "showlegend": true,
         "text": [
          13,
          12,
          20,
          21,
          15,
          17,
          12
         ],
         "x": [
          "2022-11-05",
          "2022-11-06",
          "2022-11-07",
          "2022-11-08",
          "2022-11-09",
          "2022-11-10",
          "2022-11-11"
         ],
         "xaxis": "x",
         "y": [
          13,
          12,
          20,
          21,
          15,
          17,
          12
         ],
         "yaxis": "y",
         "type": "scatter",
         "textfont": {
          "color": "white",
          "size": 12
         },
         "textposition": "middle center"
        },
        {
         "hovertemplate": "channel_name=Le Mouv<br>day_dt=%{x}<br>rank_total=%{text}<extra></extra>",
         "legendgroup": "Le Mouv",
         "line": {
          "color": "rgb(250,228,215)",
          "dash": "solid"
         },
         "marker": {
          "symbol": "circle",
          "line": {
           "width": 2
          },
          "size": 20
         },
         "mode": "lines+markers+text",
         "name": "Le Mouv",
         "orientation": "v",
         "showlegend": true,
         "text": [
          15,
          15,
          11,
          17,
          18,
          19,
          13
         ],
         "x": [
          "2022-11-05",
          "2022-11-06",
          "2022-11-07",
          "2022-11-08",
          "2022-11-09",
          "2022-11-10",
          "2022-11-11"
         ],
         "xaxis": "x",
         "y": [
          15,
          15,
          11,
          17,
          18,
          19,
          13
         ],
         "yaxis": "y",
         "type": "scatter",
         "textfont": {
          "color": "white",
          "size": 12
         },
         "textposition": "middle center"
        },
        {
         "hovertemplate": "channel_name=Fun Radio<br>day_dt=%{x}<br>rank_total=%{text}<extra></extra>",
         "legendgroup": "Fun Radio",
         "line": {
          "color": "rgb(252,214,193)",
          "dash": "solid"
         },
         "marker": {
          "symbol": "circle",
          "line": {
           "width": 2
          },
          "size": 20
         },
         "mode": "lines+markers+text",
         "name": "Fun Radio",
         "orientation": "v",
         "showlegend": true,
         "text": [
          14,
          13,
          12,
          8,
          8,
          11,
          14
         ],
         "x": [
          "2022-11-05",
          "2022-11-06",
          "2022-11-07",
          "2022-11-08",
          "2022-11-09",
          "2022-11-10",
          "2022-11-11"
         ],
         "xaxis": "x",
         "y": [
          14,
          13,
          12,
          8,
          8,
          11,
          14
         ],
         "yaxis": "y",
         "type": "scatter",
         "textfont": {
          "color": "white",
          "size": 12
         },
         "textposition": "middle center"
        },
        {
         "hovertemplate": "channel_name=Guadeloupe 1ère<br>day_dt=%{x}<br>rank_total=%{text}<extra></extra>",
         "legendgroup": "Guadeloupe 1ère",
         "line": {
          "color": "rgb(248,191,163)",
          "dash": "solid"
         },
         "marker": {
          "symbol": "circle",
          "line": {
           "width": 2
          },
          "size": 20
         },
         "mode": "lines+markers+text",
         "name": "Guadeloupe 1ère",
         "orientation": "v",
         "showlegend": true,
         "text": [
          12,
          9,
          10,
          10,
          14,
          6,
          15
         ],
         "x": [
          "2022-11-05",
          "2022-11-06",
          "2022-11-07",
          "2022-11-08",
          "2022-11-09",
          "2022-11-10",
          "2022-11-11"
         ],
         "xaxis": "x",
         "y": [
          12,
          9,
          10,
          10,
          14,
          6,
          15
         ],
         "yaxis": "y",
         "type": "scatter",
         "textfont": {
          "color": "white",
          "size": 12
         },
         "textposition": "middle center"
        },
        {
         "hovertemplate": "channel_name=NRJ<br>day_dt=%{x}<br>rank_total=%{text}<extra></extra>",
         "legendgroup": "NRJ",
         "line": {
          "color": "rgb(244,166,131)",
          "dash": "solid"
         },
         "marker": {
          "symbol": "circle",
          "line": {
           "width": 2
          },
          "size": 20
         },
         "mode": "lines+markers+text",
         "name": "NRJ",
         "orientation": "v",
         "showlegend": true,
         "text": [
          10,
          11,
          16,
          19,
          19,
          20,
          16
         ],
         "x": [
          "2022-11-05",
          "2022-11-06",
          "2022-11-07",
          "2022-11-08",
          "2022-11-09",
          "2022-11-10",
          "2022-11-11"
         ],
         "xaxis": "x",
         "y": [
          10,
          11,
          16,
          19,
          19,
          20,
          16
         ],
         "yaxis": "y",
         "type": "scatter",
         "textfont": {
          "color": "white",
          "size": 12
         },
         "textposition": "middle center"
        },
        {
         "hovertemplate": "channel_name=Rire et Chansons<br>day_dt=%{x}<br>rank_total=%{text}<extra></extra>",
         "legendgroup": "Rire et Chansons",
         "line": {
          "color": "rgb(231,136,108)",
          "dash": "solid"
         },
         "marker": {
          "symbol": "circle",
          "line": {
           "width": 2
          },
          "size": 20
         },
         "mode": "lines+markers+text",
         "name": "Rire et Chansons",
         "orientation": "v",
         "showlegend": true,
         "text": [
          20,
          20,
          19,
          16,
          11,
          15,
          17
         ],
         "x": [
          "2022-11-05",
          "2022-11-06",
          "2022-11-07",
          "2022-11-08",
          "2022-11-09",
          "2022-11-10",
          "2022-11-11"
         ],
         "xaxis": "x",
         "y": [
          20,
          20,
          19,
          16,
          11,
          15,
          17
         ],
         "yaxis": "y",
         "type": "scatter",
         "textfont": {
          "color": "white",
          "size": 12
         },
         "textposition": "middle center"
        },
        {
         "hovertemplate": "channel_name=Skyrock<br>day_dt=%{x}<br>rank_total=%{text}<extra></extra>",
         "legendgroup": "Skyrock",
         "line": {
          "color": "rgb(218,106,85)",
          "dash": "solid"
         },
         "marker": {
          "symbol": "circle",
          "line": {
           "width": 2
          },
          "size": 20
         },
         "mode": "lines+markers+text",
         "name": "Skyrock",
         "orientation": "v",
         "showlegend": true,
         "text": [
          21,
          21,
          17,
          20,
          17,
          16,
          18
         ],
         "x": [
          "2022-11-05",
          "2022-11-06",
          "2022-11-07",
          "2022-11-08",
          "2022-11-09",
          "2022-11-10",
          "2022-11-11"
         ],
         "xaxis": "x",
         "y": [
          21,
          21,
          17,
          20,
          17,
          16,
          18
         ],
         "yaxis": "y",
         "type": "scatter",
         "textfont": {
          "color": "white",
          "size": 12
         },
         "textposition": "middle center"
        },
        {
         "hovertemplate": "channel_name=Latina<br>day_dt=%{x}<br>rank_total=%{text}<extra></extra>",
         "legendgroup": "Latina",
         "line": {
          "color": "rgb(204,76,67)",
          "dash": "solid"
         },
         "marker": {
          "symbol": "circle",
          "line": {
           "width": 2
          },
          "size": 20
         },
         "mode": "lines+markers+text",
         "name": "Latina",
         "orientation": "v",
         "showlegend": true,
         "text": [
          9,
          14,
          22,
          22,
          21,
          18,
          19
         ],
         "x": [
          "2022-11-05",
          "2022-11-06",
          "2022-11-07",
          "2022-11-08",
          "2022-11-09",
          "2022-11-10",
          "2022-11-11"
         ],
         "xaxis": "x",
         "y": [
          9,
          14,
          22,
          22,
          21,
          18,
          19
         ],
         "yaxis": "y",
         "type": "scatter",
         "textfont": {
          "color": "white",
          "size": 12
         },
         "textposition": "middle center"
        },
        {
         "hovertemplate": "channel_name=Nova<br>day_dt=%{x}<br>rank_total=%{text}<extra></extra>",
         "legendgroup": "Nova",
         "line": {
          "color": "rgb(188,45,52)",
          "dash": "solid"
         },
         "marker": {
          "symbol": "circle",
          "line": {
           "width": 2
          },
          "size": 20
         },
         "mode": "lines+markers+text",
         "name": "Nova",
         "orientation": "v",
         "showlegend": true,
         "text": [
          16,
          16,
          9,
          12,
          4,
          12,
          20
         ],
         "x": [
          "2022-11-05",
          "2022-11-06",
          "2022-11-07",
          "2022-11-08",
          "2022-11-09",
          "2022-11-10",
          "2022-11-11"
         ],
         "xaxis": "x",
         "y": [
          16,
          16,
          9,
          12,
          4,
          12,
          20
         ],
         "yaxis": "y",
         "type": "scatter",
         "textfont": {
          "color": "white",
          "size": 12
         },
         "textposition": "middle center"
        },
        {
         "hovertemplate": "channel_name=Radio FG<br>day_dt=%{x}<br>rank_total=%{text}<extra></extra>",
         "legendgroup": "Radio FG",
         "line": {
          "color": "rgb(167,20,41)",
          "dash": "solid"
         },
         "marker": {
          "symbol": "circle",
          "line": {
           "width": 2
          },
          "size": 20
         },
         "mode": "lines+markers+text",
         "name": "Radio FG",
         "orientation": "v",
         "showlegend": true,
         "text": [
          19,
          19,
          15,
          14,
          16,
          22,
          21
         ],
         "x": [
          "2022-11-05",
          "2022-11-06",
          "2022-11-07",
          "2022-11-08",
          "2022-11-09",
          "2022-11-10",
          "2022-11-11"
         ],
         "xaxis": "x",
         "y": [
          19,
          19,
          15,
          14,
          16,
          22,
          21
         ],
         "yaxis": "y",
         "type": "scatter",
         "textfont": {
          "color": "white",
          "size": 12
         },
         "textposition": "middle center"
        },
        {
         "hovertemplate": "channel_name=TSF Jazz<br>day_dt=%{x}<br>rank_total=%{text}<extra></extra>",
         "legendgroup": "TSF Jazz",
         "line": {
          "color": "rgb(135,10,36)",
          "dash": "solid"
         },
         "marker": {
          "symbol": "circle",
          "line": {
           "width": 2
          },
          "size": 20
         },
         "mode": "lines+markers+text",
         "name": "TSF Jazz",
         "orientation": "v",
         "showlegend": true,
         "text": [
          22,
          22,
          21,
          15,
          22,
          13,
          22
         ],
         "x": [
          "2022-11-05",
          "2022-11-06",
          "2022-11-07",
          "2022-11-08",
          "2022-11-09",
          "2022-11-10",
          "2022-11-11"
         ],
         "xaxis": "x",
         "y": [
          22,
          22,
          21,
          15,
          22,
          13,
          22
         ],
         "yaxis": "y",
         "type": "scatter",
         "textfont": {
          "color": "white",
          "size": 12
         },
         "textposition": "middle center"
        }
       ],
       "layout": {
        "template": {
         "data": {
          "barpolar": [
           {
            "marker": {
             "line": {
              "color": "white",
              "width": 0.5
             },
             "pattern": {
              "fillmode": "overlay",
              "size": 10,
              "solidity": 0.2
             }
            },
            "type": "barpolar"
           }
          ],
          "bar": [
           {
            "error_x": {
             "color": "#2a3f5f"
            },
            "error_y": {
             "color": "#2a3f5f"
            },
            "marker": {
             "line": {
              "color": "white",
              "width": 0.5
             },
             "pattern": {
              "fillmode": "overlay",
              "size": 10,
              "solidity": 0.2
             }
            },
            "type": "bar"
           }
          ],
          "carpet": [
           {
            "aaxis": {
             "endlinecolor": "#2a3f5f",
             "gridcolor": "#C8D4E3",
             "linecolor": "#C8D4E3",
             "minorgridcolor": "#C8D4E3",
             "startlinecolor": "#2a3f5f"
            },
            "baxis": {
             "endlinecolor": "#2a3f5f",
             "gridcolor": "#C8D4E3",
             "linecolor": "#C8D4E3",
             "minorgridcolor": "#C8D4E3",
             "startlinecolor": "#2a3f5f"
            },
            "type": "carpet"
           }
          ],
          "choropleth": [
           {
            "colorbar": {
             "outlinewidth": 0,
             "ticks": ""
            },
            "type": "choropleth"
           }
          ],
          "contourcarpet": [
           {
            "colorbar": {
             "outlinewidth": 0,
             "ticks": ""
            },
            "type": "contourcarpet"
           }
          ],
          "contour": [
           {
            "colorbar": {
             "outlinewidth": 0,
             "ticks": ""
            },
            "colorscale": [
             [
              0,
              "#0d0887"
             ],
             [
              0.1111111111111111,
              "#46039f"
             ],
             [
              0.2222222222222222,
              "#7201a8"
             ],
             [
              0.3333333333333333,
              "#9c179e"
             ],
             [
              0.4444444444444444,
              "#bd3786"
             ],
             [
              0.5555555555555556,
              "#d8576b"
             ],
             [
              0.6666666666666666,
              "#ed7953"
             ],
             [
              0.7777777777777778,
              "#fb9f3a"
             ],
             [
              0.8888888888888888,
              "#fdca26"
             ],
             [
              1,
              "#f0f921"
             ]
            ],
            "type": "contour"
           }
          ],
          "heatmapgl": [
           {
            "colorbar": {
             "outlinewidth": 0,
             "ticks": ""
            },
            "colorscale": [
             [
              0,
              "#0d0887"
             ],
             [
              0.1111111111111111,
              "#46039f"
             ],
             [
              0.2222222222222222,
              "#7201a8"
             ],
             [
              0.3333333333333333,
              "#9c179e"
             ],
             [
              0.4444444444444444,
              "#bd3786"
             ],
             [
              0.5555555555555556,
              "#d8576b"
             ],
             [
              0.6666666666666666,
              "#ed7953"
             ],
             [
              0.7777777777777778,
              "#fb9f3a"
             ],
             [
              0.8888888888888888,
              "#fdca26"
             ],
             [
              1,
              "#f0f921"
             ]
            ],
            "type": "heatmapgl"
           }
          ],
          "heatmap": [
           {
            "colorbar": {
             "outlinewidth": 0,
             "ticks": ""
            },
            "colorscale": [
             [
              0,
              "#0d0887"
             ],
             [
              0.1111111111111111,
              "#46039f"
             ],
             [
              0.2222222222222222,
              "#7201a8"
             ],
             [
              0.3333333333333333,
              "#9c179e"
             ],
             [
              0.4444444444444444,
              "#bd3786"
             ],
             [
              0.5555555555555556,
              "#d8576b"
             ],
             [
              0.6666666666666666,
              "#ed7953"
             ],
             [
              0.7777777777777778,
              "#fb9f3a"
             ],
             [
              0.8888888888888888,
              "#fdca26"
             ],
             [
              1,
              "#f0f921"
             ]
            ],
            "type": "heatmap"
           }
          ],
          "histogram2dcontour": [
           {
            "colorbar": {
             "outlinewidth": 0,
             "ticks": ""
            },
            "colorscale": [
             [
              0,
              "#0d0887"
             ],
             [
              0.1111111111111111,
              "#46039f"
             ],
             [
              0.2222222222222222,
              "#7201a8"
             ],
             [
              0.3333333333333333,
              "#9c179e"
             ],
             [
              0.4444444444444444,
              "#bd3786"
             ],
             [
              0.5555555555555556,
              "#d8576b"
             ],
             [
              0.6666666666666666,
              "#ed7953"
             ],
             [
              0.7777777777777778,
              "#fb9f3a"
             ],
             [
              0.8888888888888888,
              "#fdca26"
             ],
             [
              1,
              "#f0f921"
             ]
            ],
            "type": "histogram2dcontour"
           }
          ],
          "histogram2d": [
           {
            "colorbar": {
             "outlinewidth": 0,
             "ticks": ""
            },
            "colorscale": [
             [
              0,
              "#0d0887"
             ],
             [
              0.1111111111111111,
              "#46039f"
             ],
             [
              0.2222222222222222,
              "#7201a8"
             ],
             [
              0.3333333333333333,
              "#9c179e"
             ],
             [
              0.4444444444444444,
              "#bd3786"
             ],
             [
              0.5555555555555556,
              "#d8576b"
             ],
             [
              0.6666666666666666,
              "#ed7953"
             ],
             [
              0.7777777777777778,
              "#fb9f3a"
             ],
             [
              0.8888888888888888,
              "#fdca26"
             ],
             [
              1,
              "#f0f921"
             ]
            ],
            "type": "histogram2d"
           }
          ],
          "histogram": [
           {
            "marker": {
             "pattern": {
              "fillmode": "overlay",
              "size": 10,
              "solidity": 0.2
             }
            },
            "type": "histogram"
           }
          ],
          "mesh3d": [
           {
            "colorbar": {
             "outlinewidth": 0,
             "ticks": ""
            },
            "type": "mesh3d"
           }
          ],
          "parcoords": [
           {
            "line": {
             "colorbar": {
              "outlinewidth": 0,
              "ticks": ""
             }
            },
            "type": "parcoords"
           }
          ],
          "pie": [
           {
            "automargin": true,
            "type": "pie"
           }
          ],
          "scatter3d": [
           {
            "line": {
             "colorbar": {
              "outlinewidth": 0,
              "ticks": ""
             }
            },
            "marker": {
             "colorbar": {
              "outlinewidth": 0,
              "ticks": ""
             }
            },
            "type": "scatter3d"
           }
          ],
          "scattercarpet": [
           {
            "marker": {
             "colorbar": {
              "outlinewidth": 0,
              "ticks": ""
             }
            },
            "type": "scattercarpet"
           }
          ],
          "scattergeo": [
           {
            "marker": {
             "colorbar": {
              "outlinewidth": 0,
              "ticks": ""
             }
            },
            "type": "scattergeo"
           }
          ],
          "scattergl": [
           {
            "marker": {
             "colorbar": {
              "outlinewidth": 0,
              "ticks": ""
             }
            },
            "type": "scattergl"
           }
          ],
          "scattermapbox": [
           {
            "marker": {
             "colorbar": {
              "outlinewidth": 0,
              "ticks": ""
             }
            },
            "type": "scattermapbox"
           }
          ],
          "scatterpolargl": [
           {
            "marker": {
             "colorbar": {
              "outlinewidth": 0,
              "ticks": ""
             }
            },
            "type": "scatterpolargl"
           }
          ],
          "scatterpolar": [
           {
            "marker": {
             "colorbar": {
              "outlinewidth": 0,
              "ticks": ""
             }
            },
            "type": "scatterpolar"
           }
          ],
          "scatter": [
           {
            "fillpattern": {
             "fillmode": "overlay",
             "size": 10,
             "solidity": 0.2
            },
            "type": "scatter"
           }
          ],
          "scatterternary": [
           {
            "marker": {
             "colorbar": {
              "outlinewidth": 0,
              "ticks": ""
             }
            },
            "type": "scatterternary"
           }
          ],
          "surface": [
           {
            "colorbar": {
             "outlinewidth": 0,
             "ticks": ""
            },
            "colorscale": [
             [
              0,
              "#0d0887"
             ],
             [
              0.1111111111111111,
              "#46039f"
             ],
             [
              0.2222222222222222,
              "#7201a8"
             ],
             [
              0.3333333333333333,
              "#9c179e"
             ],
             [
              0.4444444444444444,
              "#bd3786"
             ],
             [
              0.5555555555555556,
              "#d8576b"
             ],
             [
              0.6666666666666666,
              "#ed7953"
             ],
             [
              0.7777777777777778,
              "#fb9f3a"
             ],
             [
              0.8888888888888888,
              "#fdca26"
             ],
             [
              1,
              "#f0f921"
             ]
            ],
            "type": "surface"
           }
          ],
          "table": [
           {
            "cells": {
             "fill": {
              "color": "#EBF0F8"
             },
             "line": {
              "color": "white"
             }
            },
            "header": {
             "fill": {
              "color": "#C8D4E3"
             },
             "line": {
              "color": "white"
             }
            },
            "type": "table"
           }
          ]
         },
         "layout": {
          "annotationdefaults": {
           "arrowcolor": "#2a3f5f",
           "arrowhead": 0,
           "arrowwidth": 1
          },
          "autotypenumbers": "strict",
          "coloraxis": {
           "colorbar": {
            "outlinewidth": 0,
            "ticks": ""
           }
          },
          "colorscale": {
           "diverging": [
            [
             0,
             "#8e0152"
            ],
            [
             0.1,
             "#c51b7d"
            ],
            [
             0.2,
             "#de77ae"
            ],
            [
             0.3,
             "#f1b6da"
            ],
            [
             0.4,
             "#fde0ef"
            ],
            [
             0.5,
             "#f7f7f7"
            ],
            [
             0.6,
             "#e6f5d0"
            ],
            [
             0.7,
             "#b8e186"
            ],
            [
             0.8,
             "#7fbc41"
            ],
            [
             0.9,
             "#4d9221"
            ],
            [
             1,
             "#276419"
            ]
           ],
           "sequential": [
            [
             0,
             "#0d0887"
            ],
            [
             0.1111111111111111,
             "#46039f"
            ],
            [
             0.2222222222222222,
             "#7201a8"
            ],
            [
             0.3333333333333333,
             "#9c179e"
            ],
            [
             0.4444444444444444,
             "#bd3786"
            ],
            [
             0.5555555555555556,
             "#d8576b"
            ],
            [
             0.6666666666666666,
             "#ed7953"
            ],
            [
             0.7777777777777778,
             "#fb9f3a"
            ],
            [
             0.8888888888888888,
             "#fdca26"
            ],
            [
             1,
             "#f0f921"
            ]
           ],
           "sequentialminus": [
            [
             0,
             "#0d0887"
            ],
            [
             0.1111111111111111,
             "#46039f"
            ],
            [
             0.2222222222222222,
             "#7201a8"
            ],
            [
             0.3333333333333333,
             "#9c179e"
            ],
            [
             0.4444444444444444,
             "#bd3786"
            ],
            [
             0.5555555555555556,
             "#d8576b"
            ],
            [
             0.6666666666666666,
             "#ed7953"
            ],
            [
             0.7777777777777778,
             "#fb9f3a"
            ],
            [
             0.8888888888888888,
             "#fdca26"
            ],
            [
             1,
             "#f0f921"
            ]
           ]
          },
          "colorway": [
           "#636efa",
           "#EF553B",
           "#00cc96",
           "#ab63fa",
           "#FFA15A",
           "#19d3f3",
           "#FF6692",
           "#B6E880",
           "#FF97FF",
           "#FECB52"
          ],
          "font": {
           "color": "#2a3f5f"
          },
          "geo": {
           "bgcolor": "white",
           "lakecolor": "white",
           "landcolor": "white",
           "showlakes": true,
           "showland": true,
           "subunitcolor": "#C8D4E3"
          },
          "hoverlabel": {
           "align": "left"
          },
          "hovermode": "closest",
          "mapbox": {
           "style": "light"
          },
          "paper_bgcolor": "white",
          "plot_bgcolor": "white",
          "polar": {
           "angularaxis": {
            "gridcolor": "#EBF0F8",
            "linecolor": "#EBF0F8",
            "ticks": ""
           },
           "bgcolor": "white",
           "radialaxis": {
            "gridcolor": "#EBF0F8",
            "linecolor": "#EBF0F8",
            "ticks": ""
           }
          },
          "scene": {
           "xaxis": {
            "backgroundcolor": "white",
            "gridcolor": "#DFE8F3",
            "gridwidth": 2,
            "linecolor": "#EBF0F8",
            "showbackground": true,
            "ticks": "",
            "zerolinecolor": "#EBF0F8"
           },
           "yaxis": {
            "backgroundcolor": "white",
            "gridcolor": "#DFE8F3",
            "gridwidth": 2,
            "linecolor": "#EBF0F8",
            "showbackground": true,
            "ticks": "",
            "zerolinecolor": "#EBF0F8"
           },
           "zaxis": {
            "backgroundcolor": "white",
            "gridcolor": "#DFE8F3",
            "gridwidth": 2,
            "linecolor": "#EBF0F8",
            "showbackground": true,
            "ticks": "",
            "zerolinecolor": "#EBF0F8"
           }
          },
          "shapedefaults": {
           "line": {
            "color": "#2a3f5f"
           }
          },
          "ternary": {
           "aaxis": {
            "gridcolor": "#DFE8F3",
            "linecolor": "#A2B1C6",
            "ticks": ""
           },
           "baxis": {
            "gridcolor": "#DFE8F3",
            "linecolor": "#A2B1C6",
            "ticks": ""
           },
           "bgcolor": "white",
           "caxis": {
            "gridcolor": "#DFE8F3",
            "linecolor": "#A2B1C6",
            "ticks": ""
           }
          },
          "title": {
           "x": 0.05
          },
          "xaxis": {
           "automargin": true,
           "gridcolor": "#EBF0F8",
           "linecolor": "#EBF0F8",
           "ticks": "",
           "title": {
            "standoff": 15
           },
           "zerolinecolor": "#EBF0F8",
           "zerolinewidth": 2
          },
          "yaxis": {
           "automargin": true,
           "gridcolor": "#EBF0F8",
           "linecolor": "#EBF0F8",
           "ticks": "",
           "title": {
            "standoff": 15
           },
           "zerolinecolor": "#EBF0F8",
           "zerolinewidth": 2
          }
         }
        },
        "xaxis": {
         "anchor": "y",
         "domain": [
          0,
          1
         ],
         "title": {
          "text": "Date de la COP27"
         },
         "tickmode": "linear",
         "showgrid": false
        },
        "yaxis": {
         "anchor": "x",
         "domain": [
          0,
          1
         ],
         "title": {},
         "autorange": "reversed",
         "showgrid": false,
         "showticklabels": false
        },
        "legend": {
         "title": {
          "text": "channel_name"
         },
         "tracegroupgap": 0
        },
        "margin": {
         "t": 60,
         "r": 200
        },
        "font": {
         "family": "Poppins"
        },
        "height": 700,
        "annotations": [
         {
          "font": {
           "family": "Poppins",
           "size": 12
          },
          "showarrow": false,
          "text": "France Info (25.4%)",
          "x": 0.95,
          "xanchor": "left",
          "xref": "paper",
          "y": 1,
          "yanchor": "middle"
         },
         {
          "font": {
           "family": "Poppins",
           "size": 12
          },
          "showarrow": false,
          "text": "RFI (20.7%)",
          "x": 0.95,
          "xanchor": "left",
          "xref": "paper",
          "y": 2,
          "yanchor": "middle"
         },
         {
          "font": {
           "family": "Poppins",
           "size": 12
          },
          "showarrow": false,
          "text": "France Culture (14.3%)",
          "x": 0.95,
          "xanchor": "left",
          "xref": "paper",
          "y": 3,
          "yanchor": "middle"
         },
         {
          "font": {
           "family": "Poppins",
           "size": 12
          },
          "showarrow": false,
          "text": "France Inter (10.0%)",
          "x": 0.95,
          "xanchor": "left",
          "xref": "paper",
          "y": 4,
          "yanchor": "middle"
         },
         {
          "font": {
           "family": "Poppins",
           "size": 12
          },
          "showarrow": false,
          "text": "BFM Business Radio (7.6%)",
          "x": 0.95,
          "xanchor": "left",
          "xref": "paper",
          "y": 5,
          "yanchor": "middle"
         },
         {
          "font": {
           "family": "Poppins",
           "size": 12
          },
          "showarrow": false,
          "text": "Radio Classique (4.6%)",
          "x": 0.95,
          "xanchor": "left",
          "xref": "paper",
          "y": 6,
          "yanchor": "middle"
         },
         {
          "font": {
           "family": "Poppins",
           "size": 12
          },
          "showarrow": false,
          "text": "RTL (2.6%)",
          "x": 0.95,
          "xanchor": "left",
          "xref": "paper",
          "y": 7,
          "yanchor": "middle"
         },
         {
          "font": {
           "family": "Poppins",
           "size": 12
          },
          "showarrow": false,
          "text": "RMC (2.0%)",
          "x": 0.95,
          "xanchor": "left",
          "xref": "paper",
          "y": 8,
          "yanchor": "middle"
         },
         {
          "font": {
           "family": "Poppins",
           "size": 12
          },
          "showarrow": false,
          "text": "Nostalgie (1.5%)",
          "x": 0.95,
          "xanchor": "left",
          "xref": "paper",
          "y": 9,
          "yanchor": "middle"
         },
         {
          "font": {
           "family": "Poppins",
           "size": 12
          },
          "showarrow": false,
          "text": "RTL2 (1.1%)",
          "x": 0.95,
          "xanchor": "left",
          "xref": "paper",
          "y": 10,
          "yanchor": "middle"
         },
         {
          "font": {
           "family": "Poppins",
           "size": 12
          },
          "showarrow": false,
          "text": "Chérie FM (0.6%)",
          "x": 0.95,
          "xanchor": "left",
          "xref": "paper",
          "y": 11,
          "yanchor": "middle"
         },
         {
          "font": {
           "family": "Poppins",
           "size": 12
          },
          "showarrow": false,
          "text": "France Musique (0.4%)",
          "x": 0.95,
          "xanchor": "left",
          "xref": "paper",
          "y": 12,
          "yanchor": "middle"
         },
         {
          "font": {
           "family": "Poppins",
           "size": 12
          },
          "showarrow": false,
          "text": "Le Mouv (0.4%)",
          "x": 0.95,
          "xanchor": "left",
          "xref": "paper",
          "y": 13,
          "yanchor": "middle"
         },
         {
          "font": {
           "family": "Poppins",
           "size": 12
          },
          "showarrow": false,
          "text": "Fun Radio (0.2%)",
          "x": 0.95,
          "xanchor": "left",
          "xref": "paper",
          "y": 14,
          "yanchor": "middle"
         },
         {
          "font": {
           "family": "Poppins",
           "size": 12
          },
          "showarrow": false,
          "text": "Guadeloupe 1ère (0.2%)",
          "x": 0.95,
          "xanchor": "left",
          "xref": "paper",
          "y": 15,
          "yanchor": "middle"
         },
         {
          "font": {
           "family": "Poppins",
           "size": 12
          },
          "showarrow": false,
          "text": "NRJ (0.2%)",
          "x": 0.95,
          "xanchor": "left",
          "xref": "paper",
          "y": 16,
          "yanchor": "middle"
         },
         {
          "font": {
           "family": "Poppins",
           "size": 12
          },
          "showarrow": false,
          "text": "Rire et Chansons (0.2%)",
          "x": 0.95,
          "xanchor": "left",
          "xref": "paper",
          "y": 17,
          "yanchor": "middle"
         },
         {
          "font": {
           "family": "Poppins",
           "size": 12
          },
          "showarrow": false,
          "text": "Skyrock (0.2%)",
          "x": 0.95,
          "xanchor": "left",
          "xref": "paper",
          "y": 18,
          "yanchor": "middle"
         },
         {
          "font": {
           "family": "Poppins",
           "size": 12
          },
          "showarrow": false,
          "text": "Latina (0.0%)",
          "x": 0.95,
          "xanchor": "left",
          "xref": "paper",
          "y": 19,
          "yanchor": "middle"
         },
         {
          "font": {
           "family": "Poppins",
           "size": 12
          },
          "showarrow": false,
          "text": "Nova (0.0%)",
          "x": 0.95,
          "xanchor": "left",
          "xref": "paper",
          "y": 20,
          "yanchor": "middle"
         },
         {
          "font": {
           "family": "Poppins",
           "size": 12
          },
          "showarrow": false,
          "text": "Radio FG (0.0%)",
          "x": 0.95,
          "xanchor": "left",
          "xref": "paper",
          "y": 21,
          "yanchor": "middle"
         },
         {
          "font": {
           "family": "Poppins",
           "size": 12
          },
          "showarrow": false,
          "text": "TSF Jazz (0.0%)",
          "x": 0.95,
          "xanchor": "left",
          "xref": "paper",
          "y": 22,
          "yanchor": "middle"
         }
        ],
        "showlegend": false,
        "title": {
         "text": "Evolution du classement des chaînes Radio sur la COP27 et l'écologie"
        }
       },
       "config": {
        "plotlyServerURL": "https://plot.ly"
       }
      }
     },
     "metadata": {}
    }
   ],
   "metadata": {}
  },
  {
   "cell_type": "markdown",
   "source": [
    "## Evolution du volume médiatique"
   ],
   "metadata": {}
  },
  {
   "cell_type": "code",
   "execution_count": 58,
   "source": [
    "# Multiplier = n_mentions * 2 min / (n_channels * 60 minutes * 18h * n_days)\n",
    "n_days = 1\n",
    "multiplier = 2 / (50 * 18 * 60)\n",
    "\n",
    "fig = show_mentions_over_time(\n",
    "    data_all_days.query(\"keyword=='COP27'\"),\n",
    "    freq = \"1D\",\n",
    "    text_auto = \".1%\",\n",
    "    method = multiplier,\n",
    "    color_discrete_sequence = WARMING_STRIPES_SEQUENCE\n",
    ")\n",
    "# yaxis_tickformat='0%',\n",
    "fig.update_layout(font_family=\"Poppins\",\n",
    "                  xaxis_tickmode = \"linear\",\n",
    "                  xaxis_title = \"Date de la COP27\",\n",
    "                  yaxis_title=\"% du volume médiatique\",\n",
    "                  title = \"Evolution du volume médiatique sur la COP27\",legend_title = \"\",yaxis_tickformat='0%',\n",
    "                 )\n",
    "fig.show()\n",
    "\n",
    "# Multiplier = n_mentions * 2 min / (n_channels * 60 minutes * 18h * n_days)\n",
    "n_days = 1\n",
    "multiplier = 2 / (50 * 18 * 60)\n",
    "\n",
    "fig = show_mentions_over_time(\n",
    "    data_all_days,\n",
    "    freq = \"1D\",\n",
    "    text_auto = \".1%\",\n",
    "    method = multiplier,\n",
    "    color_discrete_sequence = WARMING_STRIPES_SEQUENCE\n",
    ")\n",
    "# yaxis_tickformat='0%',\n",
    "fig.update_layout(font_family=\"Poppins\",\n",
    "                  xaxis_tickmode = \"linear\",\n",
    "                  xaxis_title = \"Date de la COP27\",\n",
    "                  yaxis_title=\"% du volume médiatique\",\n",
    "                  title = \"Evolution du volume médiatique sur la COP27 et l'écologie\",legend_title = \"\",yaxis_tickformat='0%',\n",
    "                 )\n",
    "# fig.update_traces(marker_color=WARMING_STRIPES_SEQUENCE)\n",
    "fig.show()"
   ],
   "outputs": [
    {
     "output_type": "display_data",
     "data": {
      "application/vnd.plotly.v1+json": {
       "data": [
        {
         "alignmentgroup": "True",
         "hovertemplate": "date=%{x}<br>count=%{y}<extra></extra>",
         "legendgroup": "",
         "marker": {
          "color": "#08306b",
          "pattern": {
           "shape": ""
          }
         },
         "name": "",
         "offsetgroup": "",
         "orientation": "v",
         "showlegend": false,
         "textposition": "auto",
         "texttemplate": "%{y:.1%}",
         "x": [
          "2022-11-05T00:00:00",
          "2022-11-06T00:00:00",
          "2022-11-07T00:00:00",
          "2022-11-08T00:00:00",
          "2022-11-09T00:00:00",
          "2022-11-10T00:00:00",
          "2022-11-11T00:00:00"
         ],
         "xaxis": "x",
         "y": [
          0.004333333333333333,
          0.0076296296296296294,
          0.014333333333333333,
          0.007666666666666666,
          0.00362962962962963,
          0.0026666666666666666,
          0.005555555555555556
         ],
         "yaxis": "y",
         "type": "bar"
        }
       ],
       "layout": {
        "template": {
         "data": {
          "barpolar": [
           {
            "marker": {
             "line": {
              "color": "white",
              "width": 0.5
             },
             "pattern": {
              "fillmode": "overlay",
              "size": 10,
              "solidity": 0.2
             }
            },
            "type": "barpolar"
           }
          ],
          "bar": [
           {
            "error_x": {
             "color": "#2a3f5f"
            },
            "error_y": {
             "color": "#2a3f5f"
            },
            "marker": {
             "line": {
              "color": "white",
              "width": 0.5
             },
             "pattern": {
              "fillmode": "overlay",
              "size": 10,
              "solidity": 0.2
             }
            },
            "type": "bar"
           }
          ],
          "carpet": [
           {
            "aaxis": {
             "endlinecolor": "#2a3f5f",
             "gridcolor": "#C8D4E3",
             "linecolor": "#C8D4E3",
             "minorgridcolor": "#C8D4E3",
             "startlinecolor": "#2a3f5f"
            },
            "baxis": {
             "endlinecolor": "#2a3f5f",
             "gridcolor": "#C8D4E3",
             "linecolor": "#C8D4E3",
             "minorgridcolor": "#C8D4E3",
             "startlinecolor": "#2a3f5f"
            },
            "type": "carpet"
           }
          ],
          "choropleth": [
           {
            "colorbar": {
             "outlinewidth": 0,
             "ticks": ""
            },
            "type": "choropleth"
           }
          ],
          "contourcarpet": [
           {
            "colorbar": {
             "outlinewidth": 0,
             "ticks": ""
            },
            "type": "contourcarpet"
           }
          ],
          "contour": [
           {
            "colorbar": {
             "outlinewidth": 0,
             "ticks": ""
            },
            "colorscale": [
             [
              0,
              "#0d0887"
             ],
             [
              0.1111111111111111,
              "#46039f"
             ],
             [
              0.2222222222222222,
              "#7201a8"
             ],
             [
              0.3333333333333333,
              "#9c179e"
             ],
             [
              0.4444444444444444,
              "#bd3786"
             ],
             [
              0.5555555555555556,
              "#d8576b"
             ],
             [
              0.6666666666666666,
              "#ed7953"
             ],
             [
              0.7777777777777778,
              "#fb9f3a"
             ],
             [
              0.8888888888888888,
              "#fdca26"
             ],
             [
              1,
              "#f0f921"
             ]
            ],
            "type": "contour"
           }
          ],
          "heatmapgl": [
           {
            "colorbar": {
             "outlinewidth": 0,
             "ticks": ""
            },
            "colorscale": [
             [
              0,
              "#0d0887"
             ],
             [
              0.1111111111111111,
              "#46039f"
             ],
             [
              0.2222222222222222,
              "#7201a8"
             ],
             [
              0.3333333333333333,
              "#9c179e"
             ],
             [
              0.4444444444444444,
              "#bd3786"
             ],
             [
              0.5555555555555556,
              "#d8576b"
             ],
             [
              0.6666666666666666,
              "#ed7953"
             ],
             [
              0.7777777777777778,
              "#fb9f3a"
             ],
             [
              0.8888888888888888,
              "#fdca26"
             ],
             [
              1,
              "#f0f921"
             ]
            ],
            "type": "heatmapgl"
           }
          ],
          "heatmap": [
           {
            "colorbar": {
             "outlinewidth": 0,
             "ticks": ""
            },
            "colorscale": [
             [
              0,
              "#0d0887"
             ],
             [
              0.1111111111111111,
              "#46039f"
             ],
             [
              0.2222222222222222,
              "#7201a8"
             ],
             [
              0.3333333333333333,
              "#9c179e"
             ],
             [
              0.4444444444444444,
              "#bd3786"
             ],
             [
              0.5555555555555556,
              "#d8576b"
             ],
             [
              0.6666666666666666,
              "#ed7953"
             ],
             [
              0.7777777777777778,
              "#fb9f3a"
             ],
             [
              0.8888888888888888,
              "#fdca26"
             ],
             [
              1,
              "#f0f921"
             ]
            ],
            "type": "heatmap"
           }
          ],
          "histogram2dcontour": [
           {
            "colorbar": {
             "outlinewidth": 0,
             "ticks": ""
            },
            "colorscale": [
             [
              0,
              "#0d0887"
             ],
             [
              0.1111111111111111,
              "#46039f"
             ],
             [
              0.2222222222222222,
              "#7201a8"
             ],
             [
              0.3333333333333333,
              "#9c179e"
             ],
             [
              0.4444444444444444,
              "#bd3786"
             ],
             [
              0.5555555555555556,
              "#d8576b"
             ],
             [
              0.6666666666666666,
              "#ed7953"
             ],
             [
              0.7777777777777778,
              "#fb9f3a"
             ],
             [
              0.8888888888888888,
              "#fdca26"
             ],
             [
              1,
              "#f0f921"
             ]
            ],
            "type": "histogram2dcontour"
           }
          ],
          "histogram2d": [
           {
            "colorbar": {
             "outlinewidth": 0,
             "ticks": ""
            },
            "colorscale": [
             [
              0,
              "#0d0887"
             ],
             [
              0.1111111111111111,
              "#46039f"
             ],
             [
              0.2222222222222222,
              "#7201a8"
             ],
             [
              0.3333333333333333,
              "#9c179e"
             ],
             [
              0.4444444444444444,
              "#bd3786"
             ],
             [
              0.5555555555555556,
              "#d8576b"
             ],
             [
              0.6666666666666666,
              "#ed7953"
             ],
             [
              0.7777777777777778,
              "#fb9f3a"
             ],
             [
              0.8888888888888888,
              "#fdca26"
             ],
             [
              1,
              "#f0f921"
             ]
            ],
            "type": "histogram2d"
           }
          ],
          "histogram": [
           {
            "marker": {
             "pattern": {
              "fillmode": "overlay",
              "size": 10,
              "solidity": 0.2
             }
            },
            "type": "histogram"
           }
          ],
          "mesh3d": [
           {
            "colorbar": {
             "outlinewidth": 0,
             "ticks": ""
            },
            "type": "mesh3d"
           }
          ],
          "parcoords": [
           {
            "line": {
             "colorbar": {
              "outlinewidth": 0,
              "ticks": ""
             }
            },
            "type": "parcoords"
           }
          ],
          "pie": [
           {
            "automargin": true,
            "type": "pie"
           }
          ],
          "scatter3d": [
           {
            "line": {
             "colorbar": {
              "outlinewidth": 0,
              "ticks": ""
             }
            },
            "marker": {
             "colorbar": {
              "outlinewidth": 0,
              "ticks": ""
             }
            },
            "type": "scatter3d"
           }
          ],
          "scattercarpet": [
           {
            "marker": {
             "colorbar": {
              "outlinewidth": 0,
              "ticks": ""
             }
            },
            "type": "scattercarpet"
           }
          ],
          "scattergeo": [
           {
            "marker": {
             "colorbar": {
              "outlinewidth": 0,
              "ticks": ""
             }
            },
            "type": "scattergeo"
           }
          ],
          "scattergl": [
           {
            "marker": {
             "colorbar": {
              "outlinewidth": 0,
              "ticks": ""
             }
            },
            "type": "scattergl"
           }
          ],
          "scattermapbox": [
           {
            "marker": {
             "colorbar": {
              "outlinewidth": 0,
              "ticks": ""
             }
            },
            "type": "scattermapbox"
           }
          ],
          "scatterpolargl": [
           {
            "marker": {
             "colorbar": {
              "outlinewidth": 0,
              "ticks": ""
             }
            },
            "type": "scatterpolargl"
           }
          ],
          "scatterpolar": [
           {
            "marker": {
             "colorbar": {
              "outlinewidth": 0,
              "ticks": ""
             }
            },
            "type": "scatterpolar"
           }
          ],
          "scatter": [
           {
            "fillpattern": {
             "fillmode": "overlay",
             "size": 10,
             "solidity": 0.2
            },
            "type": "scatter"
           }
          ],
          "scatterternary": [
           {
            "marker": {
             "colorbar": {
              "outlinewidth": 0,
              "ticks": ""
             }
            },
            "type": "scatterternary"
           }
          ],
          "surface": [
           {
            "colorbar": {
             "outlinewidth": 0,
             "ticks": ""
            },
            "colorscale": [
             [
              0,
              "#0d0887"
             ],
             [
              0.1111111111111111,
              "#46039f"
             ],
             [
              0.2222222222222222,
              "#7201a8"
             ],
             [
              0.3333333333333333,
              "#9c179e"
             ],
             [
              0.4444444444444444,
              "#bd3786"
             ],
             [
              0.5555555555555556,
              "#d8576b"
             ],
             [
              0.6666666666666666,
              "#ed7953"
             ],
             [
              0.7777777777777778,
              "#fb9f3a"
             ],
             [
              0.8888888888888888,
              "#fdca26"
             ],
             [
              1,
              "#f0f921"
             ]
            ],
            "type": "surface"
           }
          ],
          "table": [
           {
            "cells": {
             "fill": {
              "color": "#EBF0F8"
             },
             "line": {
              "color": "white"
             }
            },
            "header": {
             "fill": {
              "color": "#C8D4E3"
             },
             "line": {
              "color": "white"
             }
            },
            "type": "table"
           }
          ]
         },
         "layout": {
          "annotationdefaults": {
           "arrowcolor": "#2a3f5f",
           "arrowhead": 0,
           "arrowwidth": 1
          },
          "autotypenumbers": "strict",
          "coloraxis": {
           "colorbar": {
            "outlinewidth": 0,
            "ticks": ""
           }
          },
          "colorscale": {
           "diverging": [
            [
             0,
             "#8e0152"
            ],
            [
             0.1,
             "#c51b7d"
            ],
            [
             0.2,
             "#de77ae"
            ],
            [
             0.3,
             "#f1b6da"
            ],
            [
             0.4,
             "#fde0ef"
            ],
            [
             0.5,
             "#f7f7f7"
            ],
            [
             0.6,
             "#e6f5d0"
            ],
            [
             0.7,
             "#b8e186"
            ],
            [
             0.8,
             "#7fbc41"
            ],
            [
             0.9,
             "#4d9221"
            ],
            [
             1,
             "#276419"
            ]
           ],
           "sequential": [
            [
             0,
             "#0d0887"
            ],
            [
             0.1111111111111111,
             "#46039f"
            ],
            [
             0.2222222222222222,
             "#7201a8"
            ],
            [
             0.3333333333333333,
             "#9c179e"
            ],
            [
             0.4444444444444444,
             "#bd3786"
            ],
            [
             0.5555555555555556,
             "#d8576b"
            ],
            [
             0.6666666666666666,
             "#ed7953"
            ],
            [
             0.7777777777777778,
             "#fb9f3a"
            ],
            [
             0.8888888888888888,
             "#fdca26"
            ],
            [
             1,
             "#f0f921"
            ]
           ],
           "sequentialminus": [
            [
             0,
             "#0d0887"
            ],
            [
             0.1111111111111111,
             "#46039f"
            ],
            [
             0.2222222222222222,
             "#7201a8"
            ],
            [
             0.3333333333333333,
             "#9c179e"
            ],
            [
             0.4444444444444444,
             "#bd3786"
            ],
            [
             0.5555555555555556,
             "#d8576b"
            ],
            [
             0.6666666666666666,
             "#ed7953"
            ],
            [
             0.7777777777777778,
             "#fb9f3a"
            ],
            [
             0.8888888888888888,
             "#fdca26"
            ],
            [
             1,
             "#f0f921"
            ]
           ]
          },
          "colorway": [
           "#636efa",
           "#EF553B",
           "#00cc96",
           "#ab63fa",
           "#FFA15A",
           "#19d3f3",
           "#FF6692",
           "#B6E880",
           "#FF97FF",
           "#FECB52"
          ],
          "font": {
           "color": "#2a3f5f"
          },
          "geo": {
           "bgcolor": "white",
           "lakecolor": "white",
           "landcolor": "white",
           "showlakes": true,
           "showland": true,
           "subunitcolor": "#C8D4E3"
          },
          "hoverlabel": {
           "align": "left"
          },
          "hovermode": "closest",
          "mapbox": {
           "style": "light"
          },
          "paper_bgcolor": "white",
          "plot_bgcolor": "white",
          "polar": {
           "angularaxis": {
            "gridcolor": "#EBF0F8",
            "linecolor": "#EBF0F8",
            "ticks": ""
           },
           "bgcolor": "white",
           "radialaxis": {
            "gridcolor": "#EBF0F8",
            "linecolor": "#EBF0F8",
            "ticks": ""
           }
          },
          "scene": {
           "xaxis": {
            "backgroundcolor": "white",
            "gridcolor": "#DFE8F3",
            "gridwidth": 2,
            "linecolor": "#EBF0F8",
            "showbackground": true,
            "ticks": "",
            "zerolinecolor": "#EBF0F8"
           },
           "yaxis": {
            "backgroundcolor": "white",
            "gridcolor": "#DFE8F3",
            "gridwidth": 2,
            "linecolor": "#EBF0F8",
            "showbackground": true,
            "ticks": "",
            "zerolinecolor": "#EBF0F8"
           },
           "zaxis": {
            "backgroundcolor": "white",
            "gridcolor": "#DFE8F3",
            "gridwidth": 2,
            "linecolor": "#EBF0F8",
            "showbackground": true,
            "ticks": "",
            "zerolinecolor": "#EBF0F8"
           }
          },
          "shapedefaults": {
           "line": {
            "color": "#2a3f5f"
           }
          },
          "ternary": {
           "aaxis": {
            "gridcolor": "#DFE8F3",
            "linecolor": "#A2B1C6",
            "ticks": ""
           },
           "baxis": {
            "gridcolor": "#DFE8F3",
            "linecolor": "#A2B1C6",
            "ticks": ""
           },
           "bgcolor": "white",
           "caxis": {
            "gridcolor": "#DFE8F3",
            "linecolor": "#A2B1C6",
            "ticks": ""
           }
          },
          "title": {
           "x": 0.05
          },
          "xaxis": {
           "automargin": true,
           "gridcolor": "#EBF0F8",
           "linecolor": "#EBF0F8",
           "ticks": "",
           "title": {
            "standoff": 15
           },
           "zerolinecolor": "#EBF0F8",
           "zerolinewidth": 2
          },
          "yaxis": {
           "automargin": true,
           "gridcolor": "#EBF0F8",
           "linecolor": "#EBF0F8",
           "ticks": "",
           "title": {
            "standoff": 15
           },
           "zerolinecolor": "#EBF0F8",
           "zerolinewidth": 2
          }
         }
        },
        "xaxis": {
         "anchor": "y",
         "domain": [
          0,
          1
         ],
         "title": {
          "text": "Date de la COP27"
         },
         "tickmode": "linear"
        },
        "yaxis": {
         "anchor": "x",
         "domain": [
          0,
          1
         ],
         "title": {
          "text": "% du volume médiatique"
         },
         "tickformat": "0%"
        },
        "legend": {
         "tracegroupgap": 0,
         "title": {
          "text": ""
         }
        },
        "margin": {
         "t": 60
        },
        "barmode": "relative",
        "font": {
         "family": "Poppins"
        },
        "title": {
         "text": "Evolution du volume médiatique sur la COP27"
        }
       },
       "config": {
        "plotlyServerURL": "https://plot.ly"
       }
      }
     },
     "metadata": {}
    },
    {
     "output_type": "display_data",
     "data": {
      "application/vnd.plotly.v1+json": {
       "data": [
        {
         "alignmentgroup": "True",
         "hovertemplate": "date=%{x}<br>count=%{y}<extra></extra>",
         "legendgroup": "",
         "marker": {
          "color": "#08306b",
          "pattern": {
           "shape": ""
          }
         },
         "name": "",
         "offsetgroup": "",
         "orientation": "v",
         "showlegend": false,
         "textposition": "auto",
         "texttemplate": "%{y:.1%}",
         "x": [
          "2022-11-05T00:00:00",
          "2022-11-06T00:00:00",
          "2022-11-07T00:00:00",
          "2022-11-08T00:00:00",
          "2022-11-09T00:00:00",
          "2022-11-10T00:00:00",
          "2022-11-11T00:00:00"
         ],
         "xaxis": "x",
         "y": [
          0.024259259259259258,
          0.04303703703703703,
          0.07151851851851852,
          0.053037037037037035,
          0.022037037037037036,
          0.017925925925925925,
          0.03144444444444444
         ],
         "yaxis": "y",
         "type": "bar"
        }
       ],
       "layout": {
        "template": {
         "data": {
          "barpolar": [
           {
            "marker": {
             "line": {
              "color": "white",
              "width": 0.5
             },
             "pattern": {
              "fillmode": "overlay",
              "size": 10,
              "solidity": 0.2
             }
            },
            "type": "barpolar"
           }
          ],
          "bar": [
           {
            "error_x": {
             "color": "#2a3f5f"
            },
            "error_y": {
             "color": "#2a3f5f"
            },
            "marker": {
             "line": {
              "color": "white",
              "width": 0.5
             },
             "pattern": {
              "fillmode": "overlay",
              "size": 10,
              "solidity": 0.2
             }
            },
            "type": "bar"
           }
          ],
          "carpet": [
           {
            "aaxis": {
             "endlinecolor": "#2a3f5f",
             "gridcolor": "#C8D4E3",
             "linecolor": "#C8D4E3",
             "minorgridcolor": "#C8D4E3",
             "startlinecolor": "#2a3f5f"
            },
            "baxis": {
             "endlinecolor": "#2a3f5f",
             "gridcolor": "#C8D4E3",
             "linecolor": "#C8D4E3",
             "minorgridcolor": "#C8D4E3",
             "startlinecolor": "#2a3f5f"
            },
            "type": "carpet"
           }
          ],
          "choropleth": [
           {
            "colorbar": {
             "outlinewidth": 0,
             "ticks": ""
            },
            "type": "choropleth"
           }
          ],
          "contourcarpet": [
           {
            "colorbar": {
             "outlinewidth": 0,
             "ticks": ""
            },
            "type": "contourcarpet"
           }
          ],
          "contour": [
           {
            "colorbar": {
             "outlinewidth": 0,
             "ticks": ""
            },
            "colorscale": [
             [
              0,
              "#0d0887"
             ],
             [
              0.1111111111111111,
              "#46039f"
             ],
             [
              0.2222222222222222,
              "#7201a8"
             ],
             [
              0.3333333333333333,
              "#9c179e"
             ],
             [
              0.4444444444444444,
              "#bd3786"
             ],
             [
              0.5555555555555556,
              "#d8576b"
             ],
             [
              0.6666666666666666,
              "#ed7953"
             ],
             [
              0.7777777777777778,
              "#fb9f3a"
             ],
             [
              0.8888888888888888,
              "#fdca26"
             ],
             [
              1,
              "#f0f921"
             ]
            ],
            "type": "contour"
           }
          ],
          "heatmapgl": [
           {
            "colorbar": {
             "outlinewidth": 0,
             "ticks": ""
            },
            "colorscale": [
             [
              0,
              "#0d0887"
             ],
             [
              0.1111111111111111,
              "#46039f"
             ],
             [
              0.2222222222222222,
              "#7201a8"
             ],
             [
              0.3333333333333333,
              "#9c179e"
             ],
             [
              0.4444444444444444,
              "#bd3786"
             ],
             [
              0.5555555555555556,
              "#d8576b"
             ],
             [
              0.6666666666666666,
              "#ed7953"
             ],
             [
              0.7777777777777778,
              "#fb9f3a"
             ],
             [
              0.8888888888888888,
              "#fdca26"
             ],
             [
              1,
              "#f0f921"
             ]
            ],
            "type": "heatmapgl"
           }
          ],
          "heatmap": [
           {
            "colorbar": {
             "outlinewidth": 0,
             "ticks": ""
            },
            "colorscale": [
             [
              0,
              "#0d0887"
             ],
             [
              0.1111111111111111,
              "#46039f"
             ],
             [
              0.2222222222222222,
              "#7201a8"
             ],
             [
              0.3333333333333333,
              "#9c179e"
             ],
             [
              0.4444444444444444,
              "#bd3786"
             ],
             [
              0.5555555555555556,
              "#d8576b"
             ],
             [
              0.6666666666666666,
              "#ed7953"
             ],
             [
              0.7777777777777778,
              "#fb9f3a"
             ],
             [
              0.8888888888888888,
              "#fdca26"
             ],
             [
              1,
              "#f0f921"
             ]
            ],
            "type": "heatmap"
           }
          ],
          "histogram2dcontour": [
           {
            "colorbar": {
             "outlinewidth": 0,
             "ticks": ""
            },
            "colorscale": [
             [
              0,
              "#0d0887"
             ],
             [
              0.1111111111111111,
              "#46039f"
             ],
             [
              0.2222222222222222,
              "#7201a8"
             ],
             [
              0.3333333333333333,
              "#9c179e"
             ],
             [
              0.4444444444444444,
              "#bd3786"
             ],
             [
              0.5555555555555556,
              "#d8576b"
             ],
             [
              0.6666666666666666,
              "#ed7953"
             ],
             [
              0.7777777777777778,
              "#fb9f3a"
             ],
             [
              0.8888888888888888,
              "#fdca26"
             ],
             [
              1,
              "#f0f921"
             ]
            ],
            "type": "histogram2dcontour"
           }
          ],
          "histogram2d": [
           {
            "colorbar": {
             "outlinewidth": 0,
             "ticks": ""
            },
            "colorscale": [
             [
              0,
              "#0d0887"
             ],
             [
              0.1111111111111111,
              "#46039f"
             ],
             [
              0.2222222222222222,
              "#7201a8"
             ],
             [
              0.3333333333333333,
              "#9c179e"
             ],
             [
              0.4444444444444444,
              "#bd3786"
             ],
             [
              0.5555555555555556,
              "#d8576b"
             ],
             [
              0.6666666666666666,
              "#ed7953"
             ],
             [
              0.7777777777777778,
              "#fb9f3a"
             ],
             [
              0.8888888888888888,
              "#fdca26"
             ],
             [
              1,
              "#f0f921"
             ]
            ],
            "type": "histogram2d"
           }
          ],
          "histogram": [
           {
            "marker": {
             "pattern": {
              "fillmode": "overlay",
              "size": 10,
              "solidity": 0.2
             }
            },
            "type": "histogram"
           }
          ],
          "mesh3d": [
           {
            "colorbar": {
             "outlinewidth": 0,
             "ticks": ""
            },
            "type": "mesh3d"
           }
          ],
          "parcoords": [
           {
            "line": {
             "colorbar": {
              "outlinewidth": 0,
              "ticks": ""
             }
            },
            "type": "parcoords"
           }
          ],
          "pie": [
           {
            "automargin": true,
            "type": "pie"
           }
          ],
          "scatter3d": [
           {
            "line": {
             "colorbar": {
              "outlinewidth": 0,
              "ticks": ""
             }
            },
            "marker": {
             "colorbar": {
              "outlinewidth": 0,
              "ticks": ""
             }
            },
            "type": "scatter3d"
           }
          ],
          "scattercarpet": [
           {
            "marker": {
             "colorbar": {
              "outlinewidth": 0,
              "ticks": ""
             }
            },
            "type": "scattercarpet"
           }
          ],
          "scattergeo": [
           {
            "marker": {
             "colorbar": {
              "outlinewidth": 0,
              "ticks": ""
             }
            },
            "type": "scattergeo"
           }
          ],
          "scattergl": [
           {
            "marker": {
             "colorbar": {
              "outlinewidth": 0,
              "ticks": ""
             }
            },
            "type": "scattergl"
           }
          ],
          "scattermapbox": [
           {
            "marker": {
             "colorbar": {
              "outlinewidth": 0,
              "ticks": ""
             }
            },
            "type": "scattermapbox"
           }
          ],
          "scatterpolargl": [
           {
            "marker": {
             "colorbar": {
              "outlinewidth": 0,
              "ticks": ""
             }
            },
            "type": "scatterpolargl"
           }
          ],
          "scatterpolar": [
           {
            "marker": {
             "colorbar": {
              "outlinewidth": 0,
              "ticks": ""
             }
            },
            "type": "scatterpolar"
           }
          ],
          "scatter": [
           {
            "fillpattern": {
             "fillmode": "overlay",
             "size": 10,
             "solidity": 0.2
            },
            "type": "scatter"
           }
          ],
          "scatterternary": [
           {
            "marker": {
             "colorbar": {
              "outlinewidth": 0,
              "ticks": ""
             }
            },
            "type": "scatterternary"
           }
          ],
          "surface": [
           {
            "colorbar": {
             "outlinewidth": 0,
             "ticks": ""
            },
            "colorscale": [
             [
              0,
              "#0d0887"
             ],
             [
              0.1111111111111111,
              "#46039f"
             ],
             [
              0.2222222222222222,
              "#7201a8"
             ],
             [
              0.3333333333333333,
              "#9c179e"
             ],
             [
              0.4444444444444444,
              "#bd3786"
             ],
             [
              0.5555555555555556,
              "#d8576b"
             ],
             [
              0.6666666666666666,
              "#ed7953"
             ],
             [
              0.7777777777777778,
              "#fb9f3a"
             ],
             [
              0.8888888888888888,
              "#fdca26"
             ],
             [
              1,
              "#f0f921"
             ]
            ],
            "type": "surface"
           }
          ],
          "table": [
           {
            "cells": {
             "fill": {
              "color": "#EBF0F8"
             },
             "line": {
              "color": "white"
             }
            },
            "header": {
             "fill": {
              "color": "#C8D4E3"
             },
             "line": {
              "color": "white"
             }
            },
            "type": "table"
           }
          ]
         },
         "layout": {
          "annotationdefaults": {
           "arrowcolor": "#2a3f5f",
           "arrowhead": 0,
           "arrowwidth": 1
          },
          "autotypenumbers": "strict",
          "coloraxis": {
           "colorbar": {
            "outlinewidth": 0,
            "ticks": ""
           }
          },
          "colorscale": {
           "diverging": [
            [
             0,
             "#8e0152"
            ],
            [
             0.1,
             "#c51b7d"
            ],
            [
             0.2,
             "#de77ae"
            ],
            [
             0.3,
             "#f1b6da"
            ],
            [
             0.4,
             "#fde0ef"
            ],
            [
             0.5,
             "#f7f7f7"
            ],
            [
             0.6,
             "#e6f5d0"
            ],
            [
             0.7,
             "#b8e186"
            ],
            [
             0.8,
             "#7fbc41"
            ],
            [
             0.9,
             "#4d9221"
            ],
            [
             1,
             "#276419"
            ]
           ],
           "sequential": [
            [
             0,
             "#0d0887"
            ],
            [
             0.1111111111111111,
             "#46039f"
            ],
            [
             0.2222222222222222,
             "#7201a8"
            ],
            [
             0.3333333333333333,
             "#9c179e"
            ],
            [
             0.4444444444444444,
             "#bd3786"
            ],
            [
             0.5555555555555556,
             "#d8576b"
            ],
            [
             0.6666666666666666,
             "#ed7953"
            ],
            [
             0.7777777777777778,
             "#fb9f3a"
            ],
            [
             0.8888888888888888,
             "#fdca26"
            ],
            [
             1,
             "#f0f921"
            ]
           ],
           "sequentialminus": [
            [
             0,
             "#0d0887"
            ],
            [
             0.1111111111111111,
             "#46039f"
            ],
            [
             0.2222222222222222,
             "#7201a8"
            ],
            [
             0.3333333333333333,
             "#9c179e"
            ],
            [
             0.4444444444444444,
             "#bd3786"
            ],
            [
             0.5555555555555556,
             "#d8576b"
            ],
            [
             0.6666666666666666,
             "#ed7953"
            ],
            [
             0.7777777777777778,
             "#fb9f3a"
            ],
            [
             0.8888888888888888,
             "#fdca26"
            ],
            [
             1,
             "#f0f921"
            ]
           ]
          },
          "colorway": [
           "#636efa",
           "#EF553B",
           "#00cc96",
           "#ab63fa",
           "#FFA15A",
           "#19d3f3",
           "#FF6692",
           "#B6E880",
           "#FF97FF",
           "#FECB52"
          ],
          "font": {
           "color": "#2a3f5f"
          },
          "geo": {
           "bgcolor": "white",
           "lakecolor": "white",
           "landcolor": "white",
           "showlakes": true,
           "showland": true,
           "subunitcolor": "#C8D4E3"
          },
          "hoverlabel": {
           "align": "left"
          },
          "hovermode": "closest",
          "mapbox": {
           "style": "light"
          },
          "paper_bgcolor": "white",
          "plot_bgcolor": "white",
          "polar": {
           "angularaxis": {
            "gridcolor": "#EBF0F8",
            "linecolor": "#EBF0F8",
            "ticks": ""
           },
           "bgcolor": "white",
           "radialaxis": {
            "gridcolor": "#EBF0F8",
            "linecolor": "#EBF0F8",
            "ticks": ""
           }
          },
          "scene": {
           "xaxis": {
            "backgroundcolor": "white",
            "gridcolor": "#DFE8F3",
            "gridwidth": 2,
            "linecolor": "#EBF0F8",
            "showbackground": true,
            "ticks": "",
            "zerolinecolor": "#EBF0F8"
           },
           "yaxis": {
            "backgroundcolor": "white",
            "gridcolor": "#DFE8F3",
            "gridwidth": 2,
            "linecolor": "#EBF0F8",
            "showbackground": true,
            "ticks": "",
            "zerolinecolor": "#EBF0F8"
           },
           "zaxis": {
            "backgroundcolor": "white",
            "gridcolor": "#DFE8F3",
            "gridwidth": 2,
            "linecolor": "#EBF0F8",
            "showbackground": true,
            "ticks": "",
            "zerolinecolor": "#EBF0F8"
           }
          },
          "shapedefaults": {
           "line": {
            "color": "#2a3f5f"
           }
          },
          "ternary": {
           "aaxis": {
            "gridcolor": "#DFE8F3",
            "linecolor": "#A2B1C6",
            "ticks": ""
           },
           "baxis": {
            "gridcolor": "#DFE8F3",
            "linecolor": "#A2B1C6",
            "ticks": ""
           },
           "bgcolor": "white",
           "caxis": {
            "gridcolor": "#DFE8F3",
            "linecolor": "#A2B1C6",
            "ticks": ""
           }
          },
          "title": {
           "x": 0.05
          },
          "xaxis": {
           "automargin": true,
           "gridcolor": "#EBF0F8",
           "linecolor": "#EBF0F8",
           "ticks": "",
           "title": {
            "standoff": 15
           },
           "zerolinecolor": "#EBF0F8",
           "zerolinewidth": 2
          },
          "yaxis": {
           "automargin": true,
           "gridcolor": "#EBF0F8",
           "linecolor": "#EBF0F8",
           "ticks": "",
           "title": {
            "standoff": 15
           },
           "zerolinecolor": "#EBF0F8",
           "zerolinewidth": 2
          }
         }
        },
        "xaxis": {
         "anchor": "y",
         "domain": [
          0,
          1
         ],
         "title": {
          "text": "Date de la COP27"
         },
         "tickmode": "linear"
        },
        "yaxis": {
         "anchor": "x",
         "domain": [
          0,
          1
         ],
         "title": {
          "text": "% du volume médiatique"
         },
         "tickformat": "0%"
        },
        "legend": {
         "tracegroupgap": 0,
         "title": {
          "text": ""
         }
        },
        "margin": {
         "t": 60
        },
        "barmode": "relative",
        "font": {
         "family": "Poppins"
        },
        "title": {
         "text": "Evolution du volume médiatique sur la COP27 et l'écologie"
        }
       },
       "config": {
        "plotlyServerURL": "https://plot.ly"
       }
      }
     },
     "metadata": {}
    }
   ],
   "metadata": {}
  },
  {
   "cell_type": "code",
   "execution_count": 59,
   "source": [
    "# Multiplier = n_mentions * 2 min / (n_channels * 60 minutes * 18h * n_days)\n",
    "n_days = 1\n",
    "multiplier = 2 / (50 * 18 * 60)\n",
    "\n",
    "fig = show_mentions_over_time(\n",
    "    data_all_days.query(\"keyword=='COP27'\"),\n",
    "    freq = \"1D\",\n",
    "    split = \"media2\",\n",
    "    text_auto = \".1%\",\n",
    "    method = multiplier,\n",
    "    color_discrete_sequence = WARMING_STRIPES_SEQUENCE\n",
    ")\n",
    "# yaxis_tickformat='0%',\n",
    "fig.update_layout(font_family=\"Poppins\",\n",
    "                  xaxis_tickmode = \"linear\",\n",
    "                  xaxis_title = \"Date de la COP27\",\n",
    "                  yaxis_title=\"% du volume médiatique\",\n",
    "                  title = \"Evolution du volume médiatique sur la COP27\",legend_title = \"\",yaxis_tickformat='0%',\n",
    "                 )\n",
    "fig.show()\n",
    "\n",
    "# Multiplier = n_mentions * 2 min / (n_channels * 60 minutes * 18h * n_days)\n",
    "n_days = 1\n",
    "multiplier = 2 / (50 * 18 * 60)\n",
    "\n",
    "fig = show_mentions_over_time(\n",
    "    data_all_days,\n",
    "    freq = \"1D\",\n",
    "    split = \"media2\",\n",
    "    text_auto = \".1%\",\n",
    "    method = multiplier,\n",
    "    color_discrete_sequence = WARMING_STRIPES_SEQUENCE\n",
    ")\n",
    "# yaxis_tickformat='0%',\n",
    "fig.update_layout(font_family=\"Poppins\",\n",
    "                  xaxis_tickmode = \"linear\",\n",
    "                  xaxis_title = \"Date de la COP27\",\n",
    "                  yaxis_title=\"% du volume médiatique\",\n",
    "                  title = \"Evolution du volume médiatique sur la COP27 et l'écologie\",legend_title = \"\",yaxis_tickformat='0%',\n",
    "                 )\n",
    "# fig.update_traces(marker_color=WARMING_STRIPES_SEQUENCE)\n",
    "fig.show()"
   ],
   "outputs": [
    {
     "output_type": "display_data",
     "data": {
      "application/vnd.plotly.v1+json": {
       "data": [
        {
         "alignmentgroup": "True",
         "hovertemplate": "media2=Radio<br>date=%{x}<br>count=%{y}<extra></extra>",
         "legendgroup": "Radio",
         "marker": {
          "color": "#08306b",
          "pattern": {
           "shape": ""
          }
         },
         "name": "Radio",
         "offsetgroup": "Radio",
         "orientation": "v",
         "showlegend": true,
         "textposition": "auto",
         "texttemplate": "%{y:.1%}",
         "x": [
          "2022-11-05T00:00:00",
          "2022-11-06T00:00:00",
          "2022-11-07T00:00:00",
          "2022-11-08T00:00:00",
          "2022-11-09T00:00:00",
          "2022-11-10T00:00:00",
          "2022-11-11T00:00:00"
         ],
         "xaxis": "x",
         "y": [
          0.002962962962962963,
          0.0044444444444444444,
          0.00837037037037037,
          0.004,
          0.0022962962962962963,
          0.001074074074074074,
          0.003185185185185185
         ],
         "yaxis": "y",
         "type": "bar"
        },
        {
         "alignmentgroup": "True",
         "hovertemplate": "media2=TV - Généraliste<br>date=%{x}<br>count=%{y}<extra></extra>",
         "legendgroup": "TV - Généraliste",
         "marker": {
          "color": "#08519c",
          "pattern": {
           "shape": ""
          }
         },
         "name": "TV - Généraliste",
         "offsetgroup": "TV - Généraliste",
         "orientation": "v",
         "showlegend": true,
         "textposition": "auto",
         "texttemplate": "%{y:.1%}",
         "x": [
          "2022-11-05T00:00:00",
          "2022-11-06T00:00:00",
          "2022-11-07T00:00:00",
          "2022-11-08T00:00:00",
          "2022-11-09T00:00:00",
          "2022-11-10T00:00:00",
          "2022-11-11T00:00:00"
         ],
         "xaxis": "x",
         "y": [
          0.00025925925925925926,
          0.00022222222222222223,
          0.0006666666666666666,
          0.0007407407407407407,
          0.00011111111111111112,
          0.00014814814814814815,
          0.0003333333333333333
         ],
         "yaxis": "y",
         "type": "bar"
        },
        {
         "alignmentgroup": "True",
         "hovertemplate": "media2=TV - Information en continu<br>date=%{x}<br>count=%{y}<extra></extra>",
         "legendgroup": "TV - Information en continu",
         "marker": {
          "color": "#2171b5",
          "pattern": {
           "shape": ""
          }
         },
         "name": "TV - Information en continu",
         "offsetgroup": "TV - Information en continu",
         "orientation": "v",
         "showlegend": true,
         "textposition": "auto",
         "texttemplate": "%{y:.1%}",
         "x": [
          "2022-11-05T00:00:00",
          "2022-11-06T00:00:00",
          "2022-11-07T00:00:00",
          "2022-11-08T00:00:00",
          "2022-11-09T00:00:00",
          "2022-11-10T00:00:00",
          "2022-11-11T00:00:00"
         ],
         "xaxis": "x",
         "y": [
          0.0011111111111111111,
          0.002962962962962963,
          0.005296296296296296,
          0.002925925925925926,
          0.0012222222222222222,
          0.0014444444444444444,
          0.002037037037037037
         ],
         "yaxis": "y",
         "type": "bar"
        }
       ],
       "layout": {
        "template": {
         "data": {
          "barpolar": [
           {
            "marker": {
             "line": {
              "color": "white",
              "width": 0.5
             },
             "pattern": {
              "fillmode": "overlay",
              "size": 10,
              "solidity": 0.2
             }
            },
            "type": "barpolar"
           }
          ],
          "bar": [
           {
            "error_x": {
             "color": "#2a3f5f"
            },
            "error_y": {
             "color": "#2a3f5f"
            },
            "marker": {
             "line": {
              "color": "white",
              "width": 0.5
             },
             "pattern": {
              "fillmode": "overlay",
              "size": 10,
              "solidity": 0.2
             }
            },
            "type": "bar"
           }
          ],
          "carpet": [
           {
            "aaxis": {
             "endlinecolor": "#2a3f5f",
             "gridcolor": "#C8D4E3",
             "linecolor": "#C8D4E3",
             "minorgridcolor": "#C8D4E3",
             "startlinecolor": "#2a3f5f"
            },
            "baxis": {
             "endlinecolor": "#2a3f5f",
             "gridcolor": "#C8D4E3",
             "linecolor": "#C8D4E3",
             "minorgridcolor": "#C8D4E3",
             "startlinecolor": "#2a3f5f"
            },
            "type": "carpet"
           }
          ],
          "choropleth": [
           {
            "colorbar": {
             "outlinewidth": 0,
             "ticks": ""
            },
            "type": "choropleth"
           }
          ],
          "contourcarpet": [
           {
            "colorbar": {
             "outlinewidth": 0,
             "ticks": ""
            },
            "type": "contourcarpet"
           }
          ],
          "contour": [
           {
            "colorbar": {
             "outlinewidth": 0,
             "ticks": ""
            },
            "colorscale": [
             [
              0,
              "#0d0887"
             ],
             [
              0.1111111111111111,
              "#46039f"
             ],
             [
              0.2222222222222222,
              "#7201a8"
             ],
             [
              0.3333333333333333,
              "#9c179e"
             ],
             [
              0.4444444444444444,
              "#bd3786"
             ],
             [
              0.5555555555555556,
              "#d8576b"
             ],
             [
              0.6666666666666666,
              "#ed7953"
             ],
             [
              0.7777777777777778,
              "#fb9f3a"
             ],
             [
              0.8888888888888888,
              "#fdca26"
             ],
             [
              1,
              "#f0f921"
             ]
            ],
            "type": "contour"
           }
          ],
          "heatmapgl": [
           {
            "colorbar": {
             "outlinewidth": 0,
             "ticks": ""
            },
            "colorscale": [
             [
              0,
              "#0d0887"
             ],
             [
              0.1111111111111111,
              "#46039f"
             ],
             [
              0.2222222222222222,
              "#7201a8"
             ],
             [
              0.3333333333333333,
              "#9c179e"
             ],
             [
              0.4444444444444444,
              "#bd3786"
             ],
             [
              0.5555555555555556,
              "#d8576b"
             ],
             [
              0.6666666666666666,
              "#ed7953"
             ],
             [
              0.7777777777777778,
              "#fb9f3a"
             ],
             [
              0.8888888888888888,
              "#fdca26"
             ],
             [
              1,
              "#f0f921"
             ]
            ],
            "type": "heatmapgl"
           }
          ],
          "heatmap": [
           {
            "colorbar": {
             "outlinewidth": 0,
             "ticks": ""
            },
            "colorscale": [
             [
              0,
              "#0d0887"
             ],
             [
              0.1111111111111111,
              "#46039f"
             ],
             [
              0.2222222222222222,
              "#7201a8"
             ],
             [
              0.3333333333333333,
              "#9c179e"
             ],
             [
              0.4444444444444444,
              "#bd3786"
             ],
             [
              0.5555555555555556,
              "#d8576b"
             ],
             [
              0.6666666666666666,
              "#ed7953"
             ],
             [
              0.7777777777777778,
              "#fb9f3a"
             ],
             [
              0.8888888888888888,
              "#fdca26"
             ],
             [
              1,
              "#f0f921"
             ]
            ],
            "type": "heatmap"
           }
          ],
          "histogram2dcontour": [
           {
            "colorbar": {
             "outlinewidth": 0,
             "ticks": ""
            },
            "colorscale": [
             [
              0,
              "#0d0887"
             ],
             [
              0.1111111111111111,
              "#46039f"
             ],
             [
              0.2222222222222222,
              "#7201a8"
             ],
             [
              0.3333333333333333,
              "#9c179e"
             ],
             [
              0.4444444444444444,
              "#bd3786"
             ],
             [
              0.5555555555555556,
              "#d8576b"
             ],
             [
              0.6666666666666666,
              "#ed7953"
             ],
             [
              0.7777777777777778,
              "#fb9f3a"
             ],
             [
              0.8888888888888888,
              "#fdca26"
             ],
             [
              1,
              "#f0f921"
             ]
            ],
            "type": "histogram2dcontour"
           }
          ],
          "histogram2d": [
           {
            "colorbar": {
             "outlinewidth": 0,
             "ticks": ""
            },
            "colorscale": [
             [
              0,
              "#0d0887"
             ],
             [
              0.1111111111111111,
              "#46039f"
             ],
             [
              0.2222222222222222,
              "#7201a8"
             ],
             [
              0.3333333333333333,
              "#9c179e"
             ],
             [
              0.4444444444444444,
              "#bd3786"
             ],
             [
              0.5555555555555556,
              "#d8576b"
             ],
             [
              0.6666666666666666,
              "#ed7953"
             ],
             [
              0.7777777777777778,
              "#fb9f3a"
             ],
             [
              0.8888888888888888,
              "#fdca26"
             ],
             [
              1,
              "#f0f921"
             ]
            ],
            "type": "histogram2d"
           }
          ],
          "histogram": [
           {
            "marker": {
             "pattern": {
              "fillmode": "overlay",
              "size": 10,
              "solidity": 0.2
             }
            },
            "type": "histogram"
           }
          ],
          "mesh3d": [
           {
            "colorbar": {
             "outlinewidth": 0,
             "ticks": ""
            },
            "type": "mesh3d"
           }
          ],
          "parcoords": [
           {
            "line": {
             "colorbar": {
              "outlinewidth": 0,
              "ticks": ""
             }
            },
            "type": "parcoords"
           }
          ],
          "pie": [
           {
            "automargin": true,
            "type": "pie"
           }
          ],
          "scatter3d": [
           {
            "line": {
             "colorbar": {
              "outlinewidth": 0,
              "ticks": ""
             }
            },
            "marker": {
             "colorbar": {
              "outlinewidth": 0,
              "ticks": ""
             }
            },
            "type": "scatter3d"
           }
          ],
          "scattercarpet": [
           {
            "marker": {
             "colorbar": {
              "outlinewidth": 0,
              "ticks": ""
             }
            },
            "type": "scattercarpet"
           }
          ],
          "scattergeo": [
           {
            "marker": {
             "colorbar": {
              "outlinewidth": 0,
              "ticks": ""
             }
            },
            "type": "scattergeo"
           }
          ],
          "scattergl": [
           {
            "marker": {
             "colorbar": {
              "outlinewidth": 0,
              "ticks": ""
             }
            },
            "type": "scattergl"
           }
          ],
          "scattermapbox": [
           {
            "marker": {
             "colorbar": {
              "outlinewidth": 0,
              "ticks": ""
             }
            },
            "type": "scattermapbox"
           }
          ],
          "scatterpolargl": [
           {
            "marker": {
             "colorbar": {
              "outlinewidth": 0,
              "ticks": ""
             }
            },
            "type": "scatterpolargl"
           }
          ],
          "scatterpolar": [
           {
            "marker": {
             "colorbar": {
              "outlinewidth": 0,
              "ticks": ""
             }
            },
            "type": "scatterpolar"
           }
          ],
          "scatter": [
           {
            "fillpattern": {
             "fillmode": "overlay",
             "size": 10,
             "solidity": 0.2
            },
            "type": "scatter"
           }
          ],
          "scatterternary": [
           {
            "marker": {
             "colorbar": {
              "outlinewidth": 0,
              "ticks": ""
             }
            },
            "type": "scatterternary"
           }
          ],
          "surface": [
           {
            "colorbar": {
             "outlinewidth": 0,
             "ticks": ""
            },
            "colorscale": [
             [
              0,
              "#0d0887"
             ],
             [
              0.1111111111111111,
              "#46039f"
             ],
             [
              0.2222222222222222,
              "#7201a8"
             ],
             [
              0.3333333333333333,
              "#9c179e"
             ],
             [
              0.4444444444444444,
              "#bd3786"
             ],
             [
              0.5555555555555556,
              "#d8576b"
             ],
             [
              0.6666666666666666,
              "#ed7953"
             ],
             [
              0.7777777777777778,
              "#fb9f3a"
             ],
             [
              0.8888888888888888,
              "#fdca26"
             ],
             [
              1,
              "#f0f921"
             ]
            ],
            "type": "surface"
           }
          ],
          "table": [
           {
            "cells": {
             "fill": {
              "color": "#EBF0F8"
             },
             "line": {
              "color": "white"
             }
            },
            "header": {
             "fill": {
              "color": "#C8D4E3"
             },
             "line": {
              "color": "white"
             }
            },
            "type": "table"
           }
          ]
         },
         "layout": {
          "annotationdefaults": {
           "arrowcolor": "#2a3f5f",
           "arrowhead": 0,
           "arrowwidth": 1
          },
          "autotypenumbers": "strict",
          "coloraxis": {
           "colorbar": {
            "outlinewidth": 0,
            "ticks": ""
           }
          },
          "colorscale": {
           "diverging": [
            [
             0,
             "#8e0152"
            ],
            [
             0.1,
             "#c51b7d"
            ],
            [
             0.2,
             "#de77ae"
            ],
            [
             0.3,
             "#f1b6da"
            ],
            [
             0.4,
             "#fde0ef"
            ],
            [
             0.5,
             "#f7f7f7"
            ],
            [
             0.6,
             "#e6f5d0"
            ],
            [
             0.7,
             "#b8e186"
            ],
            [
             0.8,
             "#7fbc41"
            ],
            [
             0.9,
             "#4d9221"
            ],
            [
             1,
             "#276419"
            ]
           ],
           "sequential": [
            [
             0,
             "#0d0887"
            ],
            [
             0.1111111111111111,
             "#46039f"
            ],
            [
             0.2222222222222222,
             "#7201a8"
            ],
            [
             0.3333333333333333,
             "#9c179e"
            ],
            [
             0.4444444444444444,
             "#bd3786"
            ],
            [
             0.5555555555555556,
             "#d8576b"
            ],
            [
             0.6666666666666666,
             "#ed7953"
            ],
            [
             0.7777777777777778,
             "#fb9f3a"
            ],
            [
             0.8888888888888888,
             "#fdca26"
            ],
            [
             1,
             "#f0f921"
            ]
           ],
           "sequentialminus": [
            [
             0,
             "#0d0887"
            ],
            [
             0.1111111111111111,
             "#46039f"
            ],
            [
             0.2222222222222222,
             "#7201a8"
            ],
            [
             0.3333333333333333,
             "#9c179e"
            ],
            [
             0.4444444444444444,
             "#bd3786"
            ],
            [
             0.5555555555555556,
             "#d8576b"
            ],
            [
             0.6666666666666666,
             "#ed7953"
            ],
            [
             0.7777777777777778,
             "#fb9f3a"
            ],
            [
             0.8888888888888888,
             "#fdca26"
            ],
            [
             1,
             "#f0f921"
            ]
           ]
          },
          "colorway": [
           "#636efa",
           "#EF553B",
           "#00cc96",
           "#ab63fa",
           "#FFA15A",
           "#19d3f3",
           "#FF6692",
           "#B6E880",
           "#FF97FF",
           "#FECB52"
          ],
          "font": {
           "color": "#2a3f5f"
          },
          "geo": {
           "bgcolor": "white",
           "lakecolor": "white",
           "landcolor": "white",
           "showlakes": true,
           "showland": true,
           "subunitcolor": "#C8D4E3"
          },
          "hoverlabel": {
           "align": "left"
          },
          "hovermode": "closest",
          "mapbox": {
           "style": "light"
          },
          "paper_bgcolor": "white",
          "plot_bgcolor": "white",
          "polar": {
           "angularaxis": {
            "gridcolor": "#EBF0F8",
            "linecolor": "#EBF0F8",
            "ticks": ""
           },
           "bgcolor": "white",
           "radialaxis": {
            "gridcolor": "#EBF0F8",
            "linecolor": "#EBF0F8",
            "ticks": ""
           }
          },
          "scene": {
           "xaxis": {
            "backgroundcolor": "white",
            "gridcolor": "#DFE8F3",
            "gridwidth": 2,
            "linecolor": "#EBF0F8",
            "showbackground": true,
            "ticks": "",
            "zerolinecolor": "#EBF0F8"
           },
           "yaxis": {
            "backgroundcolor": "white",
            "gridcolor": "#DFE8F3",
            "gridwidth": 2,
            "linecolor": "#EBF0F8",
            "showbackground": true,
            "ticks": "",
            "zerolinecolor": "#EBF0F8"
           },
           "zaxis": {
            "backgroundcolor": "white",
            "gridcolor": "#DFE8F3",
            "gridwidth": 2,
            "linecolor": "#EBF0F8",
            "showbackground": true,
            "ticks": "",
            "zerolinecolor": "#EBF0F8"
           }
          },
          "shapedefaults": {
           "line": {
            "color": "#2a3f5f"
           }
          },
          "ternary": {
           "aaxis": {
            "gridcolor": "#DFE8F3",
            "linecolor": "#A2B1C6",
            "ticks": ""
           },
           "baxis": {
            "gridcolor": "#DFE8F3",
            "linecolor": "#A2B1C6",
            "ticks": ""
           },
           "bgcolor": "white",
           "caxis": {
            "gridcolor": "#DFE8F3",
            "linecolor": "#A2B1C6",
            "ticks": ""
           }
          },
          "title": {
           "x": 0.05
          },
          "xaxis": {
           "automargin": true,
           "gridcolor": "#EBF0F8",
           "linecolor": "#EBF0F8",
           "ticks": "",
           "title": {
            "standoff": 15
           },
           "zerolinecolor": "#EBF0F8",
           "zerolinewidth": 2
          },
          "yaxis": {
           "automargin": true,
           "gridcolor": "#EBF0F8",
           "linecolor": "#EBF0F8",
           "ticks": "",
           "title": {
            "standoff": 15
           },
           "zerolinecolor": "#EBF0F8",
           "zerolinewidth": 2
          }
         }
        },
        "xaxis": {
         "anchor": "y",
         "domain": [
          0,
          1
         ],
         "title": {
          "text": "Date de la COP27"
         },
         "tickmode": "linear"
        },
        "yaxis": {
         "anchor": "x",
         "domain": [
          0,
          1
         ],
         "title": {
          "text": "% du volume médiatique"
         },
         "tickformat": "0%"
        },
        "legend": {
         "title": {
          "text": ""
         },
         "tracegroupgap": 0
        },
        "margin": {
         "t": 60
        },
        "barmode": "relative",
        "font": {
         "family": "Poppins"
        },
        "title": {
         "text": "Evolution du volume médiatique sur la COP27"
        }
       },
       "config": {
        "plotlyServerURL": "https://plot.ly"
       }
      }
     },
     "metadata": {}
    },
    {
     "output_type": "display_data",
     "data": {
      "application/vnd.plotly.v1+json": {
       "data": [
        {
         "alignmentgroup": "True",
         "hovertemplate": "media2=Radio<br>date=%{x}<br>count=%{y}<extra></extra>",
         "legendgroup": "Radio",
         "marker": {
          "color": "#08306b",
          "pattern": {
           "shape": ""
          }
         },
         "name": "Radio",
         "offsetgroup": "Radio",
         "orientation": "v",
         "showlegend": true,
         "textposition": "auto",
         "texttemplate": "%{y:.1%}",
         "x": [
          "2022-11-05T00:00:00",
          "2022-11-06T00:00:00",
          "2022-11-07T00:00:00",
          "2022-11-08T00:00:00",
          "2022-11-09T00:00:00",
          "2022-11-10T00:00:00",
          "2022-11-11T00:00:00"
         ],
         "xaxis": "x",
         "y": [
          0.012222222222222223,
          0.019037037037037036,
          0.03551851851851852,
          0.029777777777777778,
          0.012814814814814815,
          0.01,
          0.018407407407407407
         ],
         "yaxis": "y",
         "type": "bar"
        },
        {
         "alignmentgroup": "True",
         "hovertemplate": "media2=TV - Généraliste<br>date=%{x}<br>count=%{y}<extra></extra>",
         "legendgroup": "TV - Généraliste",
         "marker": {
          "color": "#08519c",
          "pattern": {
           "shape": ""
          }
         },
         "name": "TV - Généraliste",
         "offsetgroup": "TV - Généraliste",
         "orientation": "v",
         "showlegend": true,
         "textposition": "auto",
         "texttemplate": "%{y:.1%}",
         "x": [
          "2022-11-05T00:00:00",
          "2022-11-06T00:00:00",
          "2022-11-07T00:00:00",
          "2022-11-08T00:00:00",
          "2022-11-09T00:00:00",
          "2022-11-10T00:00:00",
          "2022-11-11T00:00:00"
         ],
         "xaxis": "x",
         "y": [
          0.0027407407407407406,
          0.004074074074074074,
          0.00437037037037037,
          0.005629629629629629,
          0.0026296296296296298,
          0.0017777777777777779,
          0.0017777777777777779
         ],
         "yaxis": "y",
         "type": "bar"
        },
        {
         "alignmentgroup": "True",
         "hovertemplate": "media2=TV - Information en continu<br>date=%{x}<br>count=%{y}<extra></extra>",
         "legendgroup": "TV - Information en continu",
         "marker": {
          "color": "#2171b5",
          "pattern": {
           "shape": ""
          }
         },
         "name": "TV - Information en continu",
         "offsetgroup": "TV - Information en continu",
         "orientation": "v",
         "showlegend": true,
         "textposition": "auto",
         "texttemplate": "%{y:.1%}",
         "x": [
          "2022-11-05T00:00:00",
          "2022-11-06T00:00:00",
          "2022-11-07T00:00:00",
          "2022-11-08T00:00:00",
          "2022-11-09T00:00:00",
          "2022-11-10T00:00:00",
          "2022-11-11T00:00:00"
         ],
         "xaxis": "x",
         "y": [
          0.009296296296296296,
          0.019925925925925927,
          0.03162962962962963,
          0.01762962962962963,
          0.006592592592592593,
          0.006148148148148148,
          0.011259259259259259
         ],
         "yaxis": "y",
         "type": "bar"
        }
       ],
       "layout": {
        "template": {
         "data": {
          "barpolar": [
           {
            "marker": {
             "line": {
              "color": "white",
              "width": 0.5
             },
             "pattern": {
              "fillmode": "overlay",
              "size": 10,
              "solidity": 0.2
             }
            },
            "type": "barpolar"
           }
          ],
          "bar": [
           {
            "error_x": {
             "color": "#2a3f5f"
            },
            "error_y": {
             "color": "#2a3f5f"
            },
            "marker": {
             "line": {
              "color": "white",
              "width": 0.5
             },
             "pattern": {
              "fillmode": "overlay",
              "size": 10,
              "solidity": 0.2
             }
            },
            "type": "bar"
           }
          ],
          "carpet": [
           {
            "aaxis": {
             "endlinecolor": "#2a3f5f",
             "gridcolor": "#C8D4E3",
             "linecolor": "#C8D4E3",
             "minorgridcolor": "#C8D4E3",
             "startlinecolor": "#2a3f5f"
            },
            "baxis": {
             "endlinecolor": "#2a3f5f",
             "gridcolor": "#C8D4E3",
             "linecolor": "#C8D4E3",
             "minorgridcolor": "#C8D4E3",
             "startlinecolor": "#2a3f5f"
            },
            "type": "carpet"
           }
          ],
          "choropleth": [
           {
            "colorbar": {
             "outlinewidth": 0,
             "ticks": ""
            },
            "type": "choropleth"
           }
          ],
          "contourcarpet": [
           {
            "colorbar": {
             "outlinewidth": 0,
             "ticks": ""
            },
            "type": "contourcarpet"
           }
          ],
          "contour": [
           {
            "colorbar": {
             "outlinewidth": 0,
             "ticks": ""
            },
            "colorscale": [
             [
              0,
              "#0d0887"
             ],
             [
              0.1111111111111111,
              "#46039f"
             ],
             [
              0.2222222222222222,
              "#7201a8"
             ],
             [
              0.3333333333333333,
              "#9c179e"
             ],
             [
              0.4444444444444444,
              "#bd3786"
             ],
             [
              0.5555555555555556,
              "#d8576b"
             ],
             [
              0.6666666666666666,
              "#ed7953"
             ],
             [
              0.7777777777777778,
              "#fb9f3a"
             ],
             [
              0.8888888888888888,
              "#fdca26"
             ],
             [
              1,
              "#f0f921"
             ]
            ],
            "type": "contour"
           }
          ],
          "heatmapgl": [
           {
            "colorbar": {
             "outlinewidth": 0,
             "ticks": ""
            },
            "colorscale": [
             [
              0,
              "#0d0887"
             ],
             [
              0.1111111111111111,
              "#46039f"
             ],
             [
              0.2222222222222222,
              "#7201a8"
             ],
             [
              0.3333333333333333,
              "#9c179e"
             ],
             [
              0.4444444444444444,
              "#bd3786"
             ],
             [
              0.5555555555555556,
              "#d8576b"
             ],
             [
              0.6666666666666666,
              "#ed7953"
             ],
             [
              0.7777777777777778,
              "#fb9f3a"
             ],
             [
              0.8888888888888888,
              "#fdca26"
             ],
             [
              1,
              "#f0f921"
             ]
            ],
            "type": "heatmapgl"
           }
          ],
          "heatmap": [
           {
            "colorbar": {
             "outlinewidth": 0,
             "ticks": ""
            },
            "colorscale": [
             [
              0,
              "#0d0887"
             ],
             [
              0.1111111111111111,
              "#46039f"
             ],
             [
              0.2222222222222222,
              "#7201a8"
             ],
             [
              0.3333333333333333,
              "#9c179e"
             ],
             [
              0.4444444444444444,
              "#bd3786"
             ],
             [
              0.5555555555555556,
              "#d8576b"
             ],
             [
              0.6666666666666666,
              "#ed7953"
             ],
             [
              0.7777777777777778,
              "#fb9f3a"
             ],
             [
              0.8888888888888888,
              "#fdca26"
             ],
             [
              1,
              "#f0f921"
             ]
            ],
            "type": "heatmap"
           }
          ],
          "histogram2dcontour": [
           {
            "colorbar": {
             "outlinewidth": 0,
             "ticks": ""
            },
            "colorscale": [
             [
              0,
              "#0d0887"
             ],
             [
              0.1111111111111111,
              "#46039f"
             ],
             [
              0.2222222222222222,
              "#7201a8"
             ],
             [
              0.3333333333333333,
              "#9c179e"
             ],
             [
              0.4444444444444444,
              "#bd3786"
             ],
             [
              0.5555555555555556,
              "#d8576b"
             ],
             [
              0.6666666666666666,
              "#ed7953"
             ],
             [
              0.7777777777777778,
              "#fb9f3a"
             ],
             [
              0.8888888888888888,
              "#fdca26"
             ],
             [
              1,
              "#f0f921"
             ]
            ],
            "type": "histogram2dcontour"
           }
          ],
          "histogram2d": [
           {
            "colorbar": {
             "outlinewidth": 0,
             "ticks": ""
            },
            "colorscale": [
             [
              0,
              "#0d0887"
             ],
             [
              0.1111111111111111,
              "#46039f"
             ],
             [
              0.2222222222222222,
              "#7201a8"
             ],
             [
              0.3333333333333333,
              "#9c179e"
             ],
             [
              0.4444444444444444,
              "#bd3786"
             ],
             [
              0.5555555555555556,
              "#d8576b"
             ],
             [
              0.6666666666666666,
              "#ed7953"
             ],
             [
              0.7777777777777778,
              "#fb9f3a"
             ],
             [
              0.8888888888888888,
              "#fdca26"
             ],
             [
              1,
              "#f0f921"
             ]
            ],
            "type": "histogram2d"
           }
          ],
          "histogram": [
           {
            "marker": {
             "pattern": {
              "fillmode": "overlay",
              "size": 10,
              "solidity": 0.2
             }
            },
            "type": "histogram"
           }
          ],
          "mesh3d": [
           {
            "colorbar": {
             "outlinewidth": 0,
             "ticks": ""
            },
            "type": "mesh3d"
           }
          ],
          "parcoords": [
           {
            "line": {
             "colorbar": {
              "outlinewidth": 0,
              "ticks": ""
             }
            },
            "type": "parcoords"
           }
          ],
          "pie": [
           {
            "automargin": true,
            "type": "pie"
           }
          ],
          "scatter3d": [
           {
            "line": {
             "colorbar": {
              "outlinewidth": 0,
              "ticks": ""
             }
            },
            "marker": {
             "colorbar": {
              "outlinewidth": 0,
              "ticks": ""
             }
            },
            "type": "scatter3d"
           }
          ],
          "scattercarpet": [
           {
            "marker": {
             "colorbar": {
              "outlinewidth": 0,
              "ticks": ""
             }
            },
            "type": "scattercarpet"
           }
          ],
          "scattergeo": [
           {
            "marker": {
             "colorbar": {
              "outlinewidth": 0,
              "ticks": ""
             }
            },
            "type": "scattergeo"
           }
          ],
          "scattergl": [
           {
            "marker": {
             "colorbar": {
              "outlinewidth": 0,
              "ticks": ""
             }
            },
            "type": "scattergl"
           }
          ],
          "scattermapbox": [
           {
            "marker": {
             "colorbar": {
              "outlinewidth": 0,
              "ticks": ""
             }
            },
            "type": "scattermapbox"
           }
          ],
          "scatterpolargl": [
           {
            "marker": {
             "colorbar": {
              "outlinewidth": 0,
              "ticks": ""
             }
            },
            "type": "scatterpolargl"
           }
          ],
          "scatterpolar": [
           {
            "marker": {
             "colorbar": {
              "outlinewidth": 0,
              "ticks": ""
             }
            },
            "type": "scatterpolar"
           }
          ],
          "scatter": [
           {
            "fillpattern": {
             "fillmode": "overlay",
             "size": 10,
             "solidity": 0.2
            },
            "type": "scatter"
           }
          ],
          "scatterternary": [
           {
            "marker": {
             "colorbar": {
              "outlinewidth": 0,
              "ticks": ""
             }
            },
            "type": "scatterternary"
           }
          ],
          "surface": [
           {
            "colorbar": {
             "outlinewidth": 0,
             "ticks": ""
            },
            "colorscale": [
             [
              0,
              "#0d0887"
             ],
             [
              0.1111111111111111,
              "#46039f"
             ],
             [
              0.2222222222222222,
              "#7201a8"
             ],
             [
              0.3333333333333333,
              "#9c179e"
             ],
             [
              0.4444444444444444,
              "#bd3786"
             ],
             [
              0.5555555555555556,
              "#d8576b"
             ],
             [
              0.6666666666666666,
              "#ed7953"
             ],
             [
              0.7777777777777778,
              "#fb9f3a"
             ],
             [
              0.8888888888888888,
              "#fdca26"
             ],
             [
              1,
              "#f0f921"
             ]
            ],
            "type": "surface"
           }
          ],
          "table": [
           {
            "cells": {
             "fill": {
              "color": "#EBF0F8"
             },
             "line": {
              "color": "white"
             }
            },
            "header": {
             "fill": {
              "color": "#C8D4E3"
             },
             "line": {
              "color": "white"
             }
            },
            "type": "table"
           }
          ]
         },
         "layout": {
          "annotationdefaults": {
           "arrowcolor": "#2a3f5f",
           "arrowhead": 0,
           "arrowwidth": 1
          },
          "autotypenumbers": "strict",
          "coloraxis": {
           "colorbar": {
            "outlinewidth": 0,
            "ticks": ""
           }
          },
          "colorscale": {
           "diverging": [
            [
             0,
             "#8e0152"
            ],
            [
             0.1,
             "#c51b7d"
            ],
            [
             0.2,
             "#de77ae"
            ],
            [
             0.3,
             "#f1b6da"
            ],
            [
             0.4,
             "#fde0ef"
            ],
            [
             0.5,
             "#f7f7f7"
            ],
            [
             0.6,
             "#e6f5d0"
            ],
            [
             0.7,
             "#b8e186"
            ],
            [
             0.8,
             "#7fbc41"
            ],
            [
             0.9,
             "#4d9221"
            ],
            [
             1,
             "#276419"
            ]
           ],
           "sequential": [
            [
             0,
             "#0d0887"
            ],
            [
             0.1111111111111111,
             "#46039f"
            ],
            [
             0.2222222222222222,
             "#7201a8"
            ],
            [
             0.3333333333333333,
             "#9c179e"
            ],
            [
             0.4444444444444444,
             "#bd3786"
            ],
            [
             0.5555555555555556,
             "#d8576b"
            ],
            [
             0.6666666666666666,
             "#ed7953"
            ],
            [
             0.7777777777777778,
             "#fb9f3a"
            ],
            [
             0.8888888888888888,
             "#fdca26"
            ],
            [
             1,
             "#f0f921"
            ]
           ],
           "sequentialminus": [
            [
             0,
             "#0d0887"
            ],
            [
             0.1111111111111111,
             "#46039f"
            ],
            [
             0.2222222222222222,
             "#7201a8"
            ],
            [
             0.3333333333333333,
             "#9c179e"
            ],
            [
             0.4444444444444444,
             "#bd3786"
            ],
            [
             0.5555555555555556,
             "#d8576b"
            ],
            [
             0.6666666666666666,
             "#ed7953"
            ],
            [
             0.7777777777777778,
             "#fb9f3a"
            ],
            [
             0.8888888888888888,
             "#fdca26"
            ],
            [
             1,
             "#f0f921"
            ]
           ]
          },
          "colorway": [
           "#636efa",
           "#EF553B",
           "#00cc96",
           "#ab63fa",
           "#FFA15A",
           "#19d3f3",
           "#FF6692",
           "#B6E880",
           "#FF97FF",
           "#FECB52"
          ],
          "font": {
           "color": "#2a3f5f"
          },
          "geo": {
           "bgcolor": "white",
           "lakecolor": "white",
           "landcolor": "white",
           "showlakes": true,
           "showland": true,
           "subunitcolor": "#C8D4E3"
          },
          "hoverlabel": {
           "align": "left"
          },
          "hovermode": "closest",
          "mapbox": {
           "style": "light"
          },
          "paper_bgcolor": "white",
          "plot_bgcolor": "white",
          "polar": {
           "angularaxis": {
            "gridcolor": "#EBF0F8",
            "linecolor": "#EBF0F8",
            "ticks": ""
           },
           "bgcolor": "white",
           "radialaxis": {
            "gridcolor": "#EBF0F8",
            "linecolor": "#EBF0F8",
            "ticks": ""
           }
          },
          "scene": {
           "xaxis": {
            "backgroundcolor": "white",
            "gridcolor": "#DFE8F3",
            "gridwidth": 2,
            "linecolor": "#EBF0F8",
            "showbackground": true,
            "ticks": "",
            "zerolinecolor": "#EBF0F8"
           },
           "yaxis": {
            "backgroundcolor": "white",
            "gridcolor": "#DFE8F3",
            "gridwidth": 2,
            "linecolor": "#EBF0F8",
            "showbackground": true,
            "ticks": "",
            "zerolinecolor": "#EBF0F8"
           },
           "zaxis": {
            "backgroundcolor": "white",
            "gridcolor": "#DFE8F3",
            "gridwidth": 2,
            "linecolor": "#EBF0F8",
            "showbackground": true,
            "ticks": "",
            "zerolinecolor": "#EBF0F8"
           }
          },
          "shapedefaults": {
           "line": {
            "color": "#2a3f5f"
           }
          },
          "ternary": {
           "aaxis": {
            "gridcolor": "#DFE8F3",
            "linecolor": "#A2B1C6",
            "ticks": ""
           },
           "baxis": {
            "gridcolor": "#DFE8F3",
            "linecolor": "#A2B1C6",
            "ticks": ""
           },
           "bgcolor": "white",
           "caxis": {
            "gridcolor": "#DFE8F3",
            "linecolor": "#A2B1C6",
            "ticks": ""
           }
          },
          "title": {
           "x": 0.05
          },
          "xaxis": {
           "automargin": true,
           "gridcolor": "#EBF0F8",
           "linecolor": "#EBF0F8",
           "ticks": "",
           "title": {
            "standoff": 15
           },
           "zerolinecolor": "#EBF0F8",
           "zerolinewidth": 2
          },
          "yaxis": {
           "automargin": true,
           "gridcolor": "#EBF0F8",
           "linecolor": "#EBF0F8",
           "ticks": "",
           "title": {
            "standoff": 15
           },
           "zerolinecolor": "#EBF0F8",
           "zerolinewidth": 2
          }
         }
        },
        "xaxis": {
         "anchor": "y",
         "domain": [
          0,
          1
         ],
         "title": {
          "text": "Date de la COP27"
         },
         "tickmode": "linear"
        },
        "yaxis": {
         "anchor": "x",
         "domain": [
          0,
          1
         ],
         "title": {
          "text": "% du volume médiatique"
         },
         "tickformat": "0%"
        },
        "legend": {
         "title": {
          "text": ""
         },
         "tracegroupgap": 0
        },
        "margin": {
         "t": 60
        },
        "barmode": "relative",
        "font": {
         "family": "Poppins"
        },
        "title": {
         "text": "Evolution du volume médiatique sur la COP27 et l'écologie"
        }
       },
       "config": {
        "plotlyServerURL": "https://plot.ly"
       }
      }
     },
     "metadata": {}
    }
   ],
   "metadata": {}
  },
  {
   "cell_type": "code",
   "execution_count": 60,
   "source": [
    "# Multiplier = n_mentions * 2 min / (n_channels * 60 minutes * 18h * n_days)\n",
    "n_days = 1\n",
    "multiplier = 2 / (50 * 18 * 60)\n",
    "\n",
    "fig = show_mentions_over_time(\n",
    "    data_all_days,\n",
    "    freq = \"1D\",\n",
    "    split = \"keyword\",\n",
    "    text_auto = \".1%\",\n",
    "    method = multiplier,\n",
    "    color_discrete_sequence = WARMING_STRIPES_SEQUENCE\n",
    ")\n",
    "# yaxis_tickformat='0%',\n",
    "fig.update_layout(font_family=\"Poppins\",\n",
    "                  xaxis_tickmode = \"linear\",\n",
    "                  xaxis_title = \"Date de la COP27\",\n",
    "                  yaxis_title=\"% du volume médiatique\",\n",
    "                  title = \"Evolution du volume médiatique sur la COP27 et l'écologie\",legend_title = \"\",yaxis_tickformat='0%',\n",
    "                 )\n",
    "fig.show()"
   ],
   "outputs": [
    {
     "output_type": "display_data",
     "data": {
      "application/vnd.plotly.v1+json": {
       "data": [
        {
         "alignmentgroup": "True",
         "hovertemplate": "keyword=COP27<br>date=%{x}<br>count=%{y}<extra></extra>",
         "legendgroup": "COP27",
         "marker": {
          "color": "#08306b",
          "pattern": {
           "shape": ""
          }
         },
         "name": "COP27",
         "offsetgroup": "COP27",
         "orientation": "v",
         "showlegend": true,
         "textposition": "auto",
         "texttemplate": "%{y:.1%}",
         "x": [
          "2022-11-05T00:00:00",
          "2022-11-06T00:00:00",
          "2022-11-07T00:00:00",
          "2022-11-08T00:00:00",
          "2022-11-09T00:00:00",
          "2022-11-10T00:00:00",
          "2022-11-11T00:00:00"
         ],
         "xaxis": "x",
         "y": [
          0.004333333333333333,
          0.0076296296296296294,
          0.014333333333333333,
          0.007666666666666666,
          0.00362962962962963,
          0.0026666666666666666,
          0.005555555555555556
         ],
         "yaxis": "y",
         "type": "bar"
        },
        {
         "alignmentgroup": "True",
         "hovertemplate": "keyword=écologie<br>date=%{x}<br>count=%{y}<extra></extra>",
         "legendgroup": "écologie",
         "marker": {
          "color": "#08519c",
          "pattern": {
           "shape": ""
          }
         },
         "name": "écologie",
         "offsetgroup": "écologie",
         "orientation": "v",
         "showlegend": true,
         "textposition": "auto",
         "texttemplate": "%{y:.1%}",
         "x": [
          "2022-11-05T00:00:00",
          "2022-11-06T00:00:00",
          "2022-11-07T00:00:00",
          "2022-11-08T00:00:00"
         ],
         "xaxis": "x",
         "y": [
          0.019925925925925927,
          0.03540740740740741,
          0.057185185185185186,
          0.045370370370370366
         ],
         "yaxis": "y",
         "type": "bar"
        },
        {
         "alignmentgroup": "True",
         "hovertemplate": "keyword=écologie<br>date=%{x}<br>count=%{y}<extra></extra>",
         "legendgroup": "écologie",
         "marker": {
          "color": "#2171b5",
          "pattern": {
           "shape": ""
          }
         },
         "name": "écologie",
         "offsetgroup": "écologie",
         "orientation": "v",
         "showlegend": true,
         "textposition": "auto",
         "texttemplate": "%{y:.1%}",
         "x": [
          "2022-11-09T00:00:00",
          "2022-11-10T00:00:00",
          "2022-11-11T00:00:00"
         ],
         "xaxis": "x",
         "y": [
          0.018407407407407407,
          0.015259259259259259,
          0.02588888888888889
         ],
         "yaxis": "y",
         "type": "bar"
        }
       ],
       "layout": {
        "template": {
         "data": {
          "barpolar": [
           {
            "marker": {
             "line": {
              "color": "white",
              "width": 0.5
             },
             "pattern": {
              "fillmode": "overlay",
              "size": 10,
              "solidity": 0.2
             }
            },
            "type": "barpolar"
           }
          ],
          "bar": [
           {
            "error_x": {
             "color": "#2a3f5f"
            },
            "error_y": {
             "color": "#2a3f5f"
            },
            "marker": {
             "line": {
              "color": "white",
              "width": 0.5
             },
             "pattern": {
              "fillmode": "overlay",
              "size": 10,
              "solidity": 0.2
             }
            },
            "type": "bar"
           }
          ],
          "carpet": [
           {
            "aaxis": {
             "endlinecolor": "#2a3f5f",
             "gridcolor": "#C8D4E3",
             "linecolor": "#C8D4E3",
             "minorgridcolor": "#C8D4E3",
             "startlinecolor": "#2a3f5f"
            },
            "baxis": {
             "endlinecolor": "#2a3f5f",
             "gridcolor": "#C8D4E3",
             "linecolor": "#C8D4E3",
             "minorgridcolor": "#C8D4E3",
             "startlinecolor": "#2a3f5f"
            },
            "type": "carpet"
           }
          ],
          "choropleth": [
           {
            "colorbar": {
             "outlinewidth": 0,
             "ticks": ""
            },
            "type": "choropleth"
           }
          ],
          "contourcarpet": [
           {
            "colorbar": {
             "outlinewidth": 0,
             "ticks": ""
            },
            "type": "contourcarpet"
           }
          ],
          "contour": [
           {
            "colorbar": {
             "outlinewidth": 0,
             "ticks": ""
            },
            "colorscale": [
             [
              0,
              "#0d0887"
             ],
             [
              0.1111111111111111,
              "#46039f"
             ],
             [
              0.2222222222222222,
              "#7201a8"
             ],
             [
              0.3333333333333333,
              "#9c179e"
             ],
             [
              0.4444444444444444,
              "#bd3786"
             ],
             [
              0.5555555555555556,
              "#d8576b"
             ],
             [
              0.6666666666666666,
              "#ed7953"
             ],
             [
              0.7777777777777778,
              "#fb9f3a"
             ],
             [
              0.8888888888888888,
              "#fdca26"
             ],
             [
              1,
              "#f0f921"
             ]
            ],
            "type": "contour"
           }
          ],
          "heatmapgl": [
           {
            "colorbar": {
             "outlinewidth": 0,
             "ticks": ""
            },
            "colorscale": [
             [
              0,
              "#0d0887"
             ],
             [
              0.1111111111111111,
              "#46039f"
             ],
             [
              0.2222222222222222,
              "#7201a8"
             ],
             [
              0.3333333333333333,
              "#9c179e"
             ],
             [
              0.4444444444444444,
              "#bd3786"
             ],
             [
              0.5555555555555556,
              "#d8576b"
             ],
             [
              0.6666666666666666,
              "#ed7953"
             ],
             [
              0.7777777777777778,
              "#fb9f3a"
             ],
             [
              0.8888888888888888,
              "#fdca26"
             ],
             [
              1,
              "#f0f921"
             ]
            ],
            "type": "heatmapgl"
           }
          ],
          "heatmap": [
           {
            "colorbar": {
             "outlinewidth": 0,
             "ticks": ""
            },
            "colorscale": [
             [
              0,
              "#0d0887"
             ],
             [
              0.1111111111111111,
              "#46039f"
             ],
             [
              0.2222222222222222,
              "#7201a8"
             ],
             [
              0.3333333333333333,
              "#9c179e"
             ],
             [
              0.4444444444444444,
              "#bd3786"
             ],
             [
              0.5555555555555556,
              "#d8576b"
             ],
             [
              0.6666666666666666,
              "#ed7953"
             ],
             [
              0.7777777777777778,
              "#fb9f3a"
             ],
             [
              0.8888888888888888,
              "#fdca26"
             ],
             [
              1,
              "#f0f921"
             ]
            ],
            "type": "heatmap"
           }
          ],
          "histogram2dcontour": [
           {
            "colorbar": {
             "outlinewidth": 0,
             "ticks": ""
            },
            "colorscale": [
             [
              0,
              "#0d0887"
             ],
             [
              0.1111111111111111,
              "#46039f"
             ],
             [
              0.2222222222222222,
              "#7201a8"
             ],
             [
              0.3333333333333333,
              "#9c179e"
             ],
             [
              0.4444444444444444,
              "#bd3786"
             ],
             [
              0.5555555555555556,
              "#d8576b"
             ],
             [
              0.6666666666666666,
              "#ed7953"
             ],
             [
              0.7777777777777778,
              "#fb9f3a"
             ],
             [
              0.8888888888888888,
              "#fdca26"
             ],
             [
              1,
              "#f0f921"
             ]
            ],
            "type": "histogram2dcontour"
           }
          ],
          "histogram2d": [
           {
            "colorbar": {
             "outlinewidth": 0,
             "ticks": ""
            },
            "colorscale": [
             [
              0,
              "#0d0887"
             ],
             [
              0.1111111111111111,
              "#46039f"
             ],
             [
              0.2222222222222222,
              "#7201a8"
             ],
             [
              0.3333333333333333,
              "#9c179e"
             ],
             [
              0.4444444444444444,
              "#bd3786"
             ],
             [
              0.5555555555555556,
              "#d8576b"
             ],
             [
              0.6666666666666666,
              "#ed7953"
             ],
             [
              0.7777777777777778,
              "#fb9f3a"
             ],
             [
              0.8888888888888888,
              "#fdca26"
             ],
             [
              1,
              "#f0f921"
             ]
            ],
            "type": "histogram2d"
           }
          ],
          "histogram": [
           {
            "marker": {
             "pattern": {
              "fillmode": "overlay",
              "size": 10,
              "solidity": 0.2
             }
            },
            "type": "histogram"
           }
          ],
          "mesh3d": [
           {
            "colorbar": {
             "outlinewidth": 0,
             "ticks": ""
            },
            "type": "mesh3d"
           }
          ],
          "parcoords": [
           {
            "line": {
             "colorbar": {
              "outlinewidth": 0,
              "ticks": ""
             }
            },
            "type": "parcoords"
           }
          ],
          "pie": [
           {
            "automargin": true,
            "type": "pie"
           }
          ],
          "scatter3d": [
           {
            "line": {
             "colorbar": {
              "outlinewidth": 0,
              "ticks": ""
             }
            },
            "marker": {
             "colorbar": {
              "outlinewidth": 0,
              "ticks": ""
             }
            },
            "type": "scatter3d"
           }
          ],
          "scattercarpet": [
           {
            "marker": {
             "colorbar": {
              "outlinewidth": 0,
              "ticks": ""
             }
            },
            "type": "scattercarpet"
           }
          ],
          "scattergeo": [
           {
            "marker": {
             "colorbar": {
              "outlinewidth": 0,
              "ticks": ""
             }
            },
            "type": "scattergeo"
           }
          ],
          "scattergl": [
           {
            "marker": {
             "colorbar": {
              "outlinewidth": 0,
              "ticks": ""
             }
            },
            "type": "scattergl"
           }
          ],
          "scattermapbox": [
           {
            "marker": {
             "colorbar": {
              "outlinewidth": 0,
              "ticks": ""
             }
            },
            "type": "scattermapbox"
           }
          ],
          "scatterpolargl": [
           {
            "marker": {
             "colorbar": {
              "outlinewidth": 0,
              "ticks": ""
             }
            },
            "type": "scatterpolargl"
           }
          ],
          "scatterpolar": [
           {
            "marker": {
             "colorbar": {
              "outlinewidth": 0,
              "ticks": ""
             }
            },
            "type": "scatterpolar"
           }
          ],
          "scatter": [
           {
            "fillpattern": {
             "fillmode": "overlay",
             "size": 10,
             "solidity": 0.2
            },
            "type": "scatter"
           }
          ],
          "scatterternary": [
           {
            "marker": {
             "colorbar": {
              "outlinewidth": 0,
              "ticks": ""
             }
            },
            "type": "scatterternary"
           }
          ],
          "surface": [
           {
            "colorbar": {
             "outlinewidth": 0,
             "ticks": ""
            },
            "colorscale": [
             [
              0,
              "#0d0887"
             ],
             [
              0.1111111111111111,
              "#46039f"
             ],
             [
              0.2222222222222222,
              "#7201a8"
             ],
             [
              0.3333333333333333,
              "#9c179e"
             ],
             [
              0.4444444444444444,
              "#bd3786"
             ],
             [
              0.5555555555555556,
              "#d8576b"
             ],
             [
              0.6666666666666666,
              "#ed7953"
             ],
             [
              0.7777777777777778,
              "#fb9f3a"
             ],
             [
              0.8888888888888888,
              "#fdca26"
             ],
             [
              1,
              "#f0f921"
             ]
            ],
            "type": "surface"
           }
          ],
          "table": [
           {
            "cells": {
             "fill": {
              "color": "#EBF0F8"
             },
             "line": {
              "color": "white"
             }
            },
            "header": {
             "fill": {
              "color": "#C8D4E3"
             },
             "line": {
              "color": "white"
             }
            },
            "type": "table"
           }
          ]
         },
         "layout": {
          "annotationdefaults": {
           "arrowcolor": "#2a3f5f",
           "arrowhead": 0,
           "arrowwidth": 1
          },
          "autotypenumbers": "strict",
          "coloraxis": {
           "colorbar": {
            "outlinewidth": 0,
            "ticks": ""
           }
          },
          "colorscale": {
           "diverging": [
            [
             0,
             "#8e0152"
            ],
            [
             0.1,
             "#c51b7d"
            ],
            [
             0.2,
             "#de77ae"
            ],
            [
             0.3,
             "#f1b6da"
            ],
            [
             0.4,
             "#fde0ef"
            ],
            [
             0.5,
             "#f7f7f7"
            ],
            [
             0.6,
             "#e6f5d0"
            ],
            [
             0.7,
             "#b8e186"
            ],
            [
             0.8,
             "#7fbc41"
            ],
            [
             0.9,
             "#4d9221"
            ],
            [
             1,
             "#276419"
            ]
           ],
           "sequential": [
            [
             0,
             "#0d0887"
            ],
            [
             0.1111111111111111,
             "#46039f"
            ],
            [
             0.2222222222222222,
             "#7201a8"
            ],
            [
             0.3333333333333333,
             "#9c179e"
            ],
            [
             0.4444444444444444,
             "#bd3786"
            ],
            [
             0.5555555555555556,
             "#d8576b"
            ],
            [
             0.6666666666666666,
             "#ed7953"
            ],
            [
             0.7777777777777778,
             "#fb9f3a"
            ],
            [
             0.8888888888888888,
             "#fdca26"
            ],
            [
             1,
             "#f0f921"
            ]
           ],
           "sequentialminus": [
            [
             0,
             "#0d0887"
            ],
            [
             0.1111111111111111,
             "#46039f"
            ],
            [
             0.2222222222222222,
             "#7201a8"
            ],
            [
             0.3333333333333333,
             "#9c179e"
            ],
            [
             0.4444444444444444,
             "#bd3786"
            ],
            [
             0.5555555555555556,
             "#d8576b"
            ],
            [
             0.6666666666666666,
             "#ed7953"
            ],
            [
             0.7777777777777778,
             "#fb9f3a"
            ],
            [
             0.8888888888888888,
             "#fdca26"
            ],
            [
             1,
             "#f0f921"
            ]
           ]
          },
          "colorway": [
           "#636efa",
           "#EF553B",
           "#00cc96",
           "#ab63fa",
           "#FFA15A",
           "#19d3f3",
           "#FF6692",
           "#B6E880",
           "#FF97FF",
           "#FECB52"
          ],
          "font": {
           "color": "#2a3f5f"
          },
          "geo": {
           "bgcolor": "white",
           "lakecolor": "white",
           "landcolor": "white",
           "showlakes": true,
           "showland": true,
           "subunitcolor": "#C8D4E3"
          },
          "hoverlabel": {
           "align": "left"
          },
          "hovermode": "closest",
          "mapbox": {
           "style": "light"
          },
          "paper_bgcolor": "white",
          "plot_bgcolor": "white",
          "polar": {
           "angularaxis": {
            "gridcolor": "#EBF0F8",
            "linecolor": "#EBF0F8",
            "ticks": ""
           },
           "bgcolor": "white",
           "radialaxis": {
            "gridcolor": "#EBF0F8",
            "linecolor": "#EBF0F8",
            "ticks": ""
           }
          },
          "scene": {
           "xaxis": {
            "backgroundcolor": "white",
            "gridcolor": "#DFE8F3",
            "gridwidth": 2,
            "linecolor": "#EBF0F8",
            "showbackground": true,
            "ticks": "",
            "zerolinecolor": "#EBF0F8"
           },
           "yaxis": {
            "backgroundcolor": "white",
            "gridcolor": "#DFE8F3",
            "gridwidth": 2,
            "linecolor": "#EBF0F8",
            "showbackground": true,
            "ticks": "",
            "zerolinecolor": "#EBF0F8"
           },
           "zaxis": {
            "backgroundcolor": "white",
            "gridcolor": "#DFE8F3",
            "gridwidth": 2,
            "linecolor": "#EBF0F8",
            "showbackground": true,
            "ticks": "",
            "zerolinecolor": "#EBF0F8"
           }
          },
          "shapedefaults": {
           "line": {
            "color": "#2a3f5f"
           }
          },
          "ternary": {
           "aaxis": {
            "gridcolor": "#DFE8F3",
            "linecolor": "#A2B1C6",
            "ticks": ""
           },
           "baxis": {
            "gridcolor": "#DFE8F3",
            "linecolor": "#A2B1C6",
            "ticks": ""
           },
           "bgcolor": "white",
           "caxis": {
            "gridcolor": "#DFE8F3",
            "linecolor": "#A2B1C6",
            "ticks": ""
           }
          },
          "title": {
           "x": 0.05
          },
          "xaxis": {
           "automargin": true,
           "gridcolor": "#EBF0F8",
           "linecolor": "#EBF0F8",
           "ticks": "",
           "title": {
            "standoff": 15
           },
           "zerolinecolor": "#EBF0F8",
           "zerolinewidth": 2
          },
          "yaxis": {
           "automargin": true,
           "gridcolor": "#EBF0F8",
           "linecolor": "#EBF0F8",
           "ticks": "",
           "title": {
            "standoff": 15
           },
           "zerolinecolor": "#EBF0F8",
           "zerolinewidth": 2
          }
         }
        },
        "xaxis": {
         "anchor": "y",
         "domain": [
          0,
          1
         ],
         "title": {
          "text": "Date de la COP27"
         },
         "tickmode": "linear"
        },
        "yaxis": {
         "anchor": "x",
         "domain": [
          0,
          1
         ],
         "title": {
          "text": "% du volume médiatique"
         },
         "tickformat": "0%"
        },
        "legend": {
         "title": {
          "text": ""
         },
         "tracegroupgap": 0
        },
        "margin": {
         "t": 60
        },
        "barmode": "relative",
        "font": {
         "family": "Poppins"
        },
        "title": {
         "text": "Evolution du volume médiatique sur la COP27 et l'écologie"
        }
       },
       "config": {
        "plotlyServerURL": "https://plot.ly"
       }
      }
     },
     "metadata": {}
    }
   ],
   "metadata": {}
  },
  {
   "cell_type": "code",
   "execution_count": 61,
   "source": [
    "# Multiplier = n_mentions * 2 min / (n_channels * 60 minutes * 18h * n_days)\n",
    "n_days = 1\n",
    "multiplier = 2 / (50 * 1 * 60)\n",
    "\n",
    "fig = show_mentions_over_time(\n",
    "    data_all_days,\n",
    "    freq = \"1H\",\n",
    "    split = \"media\",\n",
    "    method = multiplier,\n",
    "    color_discrete_sequence = WARMING_STRIPES_SEQUENCE\n",
    ")\n",
    "# yaxis_tickformat='0%',\n",
    "fig.update_layout(font_family=\"Poppins\",\n",
    "                  xaxis_tickmode = \"linear\",\n",
    "                  xaxis_title = \"Date de la COP27\",\n",
    "                  yaxis_title=\"% du volume médiatique\",\n",
    "                  title = \"Evolution du volume médiatique sur la COP27 et l'écologie\",legend_title = \"\",yaxis_tickformat='0%',\n",
    "                 )\n",
    "fig.show()"
   ],
   "outputs": [
    {
     "output_type": "display_data",
     "data": {
      "application/vnd.plotly.v1+json": {
       "data": [
        {
         "alignmentgroup": "True",
         "hovertemplate": "media=Radio<br>date=%{x}<br>count=%{y}<extra></extra>",
         "legendgroup": "Radio",
         "marker": {
          "color": "#08306b",
          "pattern": {
           "shape": ""
          }
         },
         "name": "Radio",
         "offsetgroup": "Radio",
         "orientation": "v",
         "showlegend": true,
         "textposition": "auto",
         "x": [
          "2022-11-05T06:00:00",
          "2022-11-05T07:00:00",
          "2022-11-05T08:00:00",
          "2022-11-05T09:00:00",
          "2022-11-05T10:00:00",
          "2022-11-05T11:00:00",
          "2022-11-05T12:00:00",
          "2022-11-05T13:00:00",
          "2022-11-05T14:00:00",
          "2022-11-05T15:00:00",
          "2022-11-05T16:00:00",
          "2022-11-05T17:00:00",
          "2022-11-05T18:00:00",
          "2022-11-05T19:00:00",
          "2022-11-05T20:00:00",
          "2022-11-05T21:00:00",
          "2022-11-05T22:00:00",
          "2022-11-05T23:00:00",
          "2022-11-06T06:00:00",
          "2022-11-06T07:00:00",
          "2022-11-06T08:00:00",
          "2022-11-06T09:00:00",
          "2022-11-06T10:00:00",
          "2022-11-06T11:00:00",
          "2022-11-06T12:00:00",
          "2022-11-06T13:00:00",
          "2022-11-06T14:00:00",
          "2022-11-06T15:00:00",
          "2022-11-06T16:00:00",
          "2022-11-06T17:00:00",
          "2022-11-06T18:00:00",
          "2022-11-06T19:00:00",
          "2022-11-06T20:00:00",
          "2022-11-06T21:00:00",
          "2022-11-06T22:00:00",
          "2022-11-06T23:00:00",
          "2022-11-07T06:00:00",
          "2022-11-07T07:00:00",
          "2022-11-07T08:00:00",
          "2022-11-07T09:00:00",
          "2022-11-07T10:00:00",
          "2022-11-07T11:00:00",
          "2022-11-07T12:00:00",
          "2022-11-07T13:00:00",
          "2022-11-07T14:00:00",
          "2022-11-07T15:00:00",
          "2022-11-07T16:00:00",
          "2022-11-07T17:00:00",
          "2022-11-07T18:00:00",
          "2022-11-07T19:00:00",
          "2022-11-07T20:00:00",
          "2022-11-07T21:00:00",
          "2022-11-07T22:00:00",
          "2022-11-07T23:00:00",
          "2022-11-08T06:00:00",
          "2022-11-08T07:00:00",
          "2022-11-08T08:00:00",
          "2022-11-08T09:00:00",
          "2022-11-08T10:00:00",
          "2022-11-08T11:00:00",
          "2022-11-08T12:00:00",
          "2022-11-08T13:00:00",
          "2022-11-08T14:00:00",
          "2022-11-08T15:00:00",
          "2022-11-08T16:00:00",
          "2022-11-08T17:00:00",
          "2022-11-08T18:00:00",
          "2022-11-08T19:00:00",
          "2022-11-08T20:00:00",
          "2022-11-08T21:00:00",
          "2022-11-08T22:00:00",
          "2022-11-08T23:00:00",
          "2022-11-09T06:00:00",
          "2022-11-09T07:00:00",
          "2022-11-09T08:00:00",
          "2022-11-09T09:00:00",
          "2022-11-09T10:00:00",
          "2022-11-09T11:00:00",
          "2022-11-09T12:00:00",
          "2022-11-09T13:00:00",
          "2022-11-09T14:00:00",
          "2022-11-09T15:00:00",
          "2022-11-09T16:00:00",
          "2022-11-09T17:00:00",
          "2022-11-09T18:00:00",
          "2022-11-09T19:00:00",
          "2022-11-09T20:00:00",
          "2022-11-09T21:00:00",
          "2022-11-09T22:00:00",
          "2022-11-09T23:00:00",
          "2022-11-10T06:00:00",
          "2022-11-10T07:00:00",
          "2022-11-10T08:00:00",
          "2022-11-10T09:00:00",
          "2022-11-10T10:00:00",
          "2022-11-10T11:00:00",
          "2022-11-10T12:00:00",
          "2022-11-10T13:00:00",
          "2022-11-10T14:00:00",
          "2022-11-10T15:00:00",
          "2022-11-10T16:00:00",
          "2022-11-10T17:00:00",
          "2022-11-10T18:00:00",
          "2022-11-10T19:00:00",
          "2022-11-10T20:00:00",
          "2022-11-10T21:00:00",
          "2022-11-10T22:00:00",
          "2022-11-10T23:00:00",
          "2022-11-11T06:00:00",
          "2022-11-11T07:00:00",
          "2022-11-11T08:00:00",
          "2022-11-11T09:00:00",
          "2022-11-11T10:00:00",
          "2022-11-11T11:00:00",
          "2022-11-11T12:00:00",
          "2022-11-11T13:00:00",
          "2022-11-11T14:00:00",
          "2022-11-11T15:00:00",
          "2022-11-11T16:00:00",
          "2022-11-11T17:00:00",
          "2022-11-11T18:00:00",
          "2022-11-11T19:00:00",
          "2022-11-11T20:00:00",
          "2022-11-11T21:00:00",
          "2022-11-11T22:00:00",
          "2022-11-11T23:00:00"
         ],
         "xaxis": "x",
         "y": [
          0.012666666666666666,
          0.01,
          0.014,
          0.018,
          0.004666666666666666,
          0.018,
          0.022,
          0.012,
          0.006666666666666666,
          0.007333333333333333,
          0.006,
          0.010666666666666666,
          0.026,
          0.016666666666666666,
          0.009333333333333332,
          0.009333333333333332,
          0.007333333333333333,
          0.009333333333333332,
          0.026666666666666665,
          0.029333333333333333,
          0.04133333333333333,
          0.019333333333333334,
          0.026,
          0.01,
          0.024666666666666667,
          0.030666666666666665,
          0.018,
          0.011333333333333332,
          0.012,
          0.011333333333333332,
          0.022,
          0.018666666666666665,
          0.014,
          0.008,
          0.008666666666666666,
          0.010666666666666666,
          0.06866666666666667,
          0.08066666666666666,
          0.06933333333333333,
          0.038,
          0.014,
          0.021333333333333333,
          0.04666666666666666,
          0.038,
          0.03133333333333333,
          0.02,
          0.03,
          0.019333333333333334,
          0.04133333333333333,
          0.033999999999999996,
          0.029333333333333333,
          0.011333333333333332,
          0.021333333333333333,
          0.024666666666666667,
          0.04133333333333333,
          0.056,
          0.05533333333333333,
          0.033999999999999996,
          0.010666666666666666,
          0.020666666666666667,
          0.032,
          0.026,
          0.03,
          0.018666666666666665,
          0.032,
          0.018666666666666665,
          0.03666666666666667,
          0.033999999999999996,
          0.015333333333333332,
          0.032,
          0.024,
          0.018666666666666665,
          0.03866666666666667,
          0.03,
          0.038,
          0.014666666666666666,
          0.004666666666666666,
          0.01,
          0.008666666666666666,
          0.010666666666666666,
          0.011333333333333332,
          0.004666666666666666,
          0.006666666666666666,
          0.0026666666666666666,
          0.006666666666666666,
          0.010666666666666666,
          0.016666666666666666,
          0.005333333333333333,
          0.005333333333333333,
          0.005333333333333333,
          0.006,
          0.013333333333333332,
          0.005333333333333333,
          0.014,
          0.004666666666666666,
          0.009333333333333332,
          0.008666666666666666,
          0.004666666666666666,
          0.016,
          0.02,
          0.004666666666666666,
          0.004,
          0.017333333333333333,
          0.002,
          0.013333333333333332,
          0.018666666666666665,
          0.006,
          0.012,
          0.022666666666666665,
          0.03266666666666666,
          0.03133333333333333,
          0.01,
          0.010666666666666666,
          0.004,
          0.022,
          0.014,
          0.018,
          0.017333333333333333,
          0.011333333333333332,
          0.025333333333333333,
          0.020666666666666667,
          0.02,
          0.017333333333333333,
          0.017333333333333333,
          0.012666666666666666,
          0.024
         ],
         "yaxis": "y",
         "type": "bar"
        },
        {
         "alignmentgroup": "True",
         "hovertemplate": "media=TV<br>date=%{x}<br>count=%{y}<extra></extra>",
         "legendgroup": "TV",
         "marker": {
          "color": "#08519c",
          "pattern": {
           "shape": ""
          }
         },
         "name": "TV",
         "offsetgroup": "TV",
         "orientation": "v",
         "showlegend": true,
         "textposition": "auto",
         "x": [
          "2022-11-05T06:00:00",
          "2022-11-05T07:00:00",
          "2022-11-05T08:00:00",
          "2022-11-05T09:00:00",
          "2022-11-05T10:00:00",
          "2022-11-05T11:00:00",
          "2022-11-05T12:00:00",
          "2022-11-05T13:00:00",
          "2022-11-05T14:00:00",
          "2022-11-05T15:00:00",
          "2022-11-05T16:00:00",
          "2022-11-05T17:00:00",
          "2022-11-05T18:00:00",
          "2022-11-05T19:00:00",
          "2022-11-05T20:00:00",
          "2022-11-05T21:00:00",
          "2022-11-05T22:00:00",
          "2022-11-05T23:00:00",
          "2022-11-06T06:00:00",
          "2022-11-06T07:00:00",
          "2022-11-06T08:00:00",
          "2022-11-06T09:00:00",
          "2022-11-06T10:00:00",
          "2022-11-06T11:00:00",
          "2022-11-06T12:00:00",
          "2022-11-06T13:00:00",
          "2022-11-06T14:00:00",
          "2022-11-06T15:00:00",
          "2022-11-06T16:00:00",
          "2022-11-06T17:00:00",
          "2022-11-06T18:00:00",
          "2022-11-06T19:00:00",
          "2022-11-06T20:00:00",
          "2022-11-06T21:00:00",
          "2022-11-06T22:00:00",
          "2022-11-06T23:00:00",
          "2022-11-07T06:00:00",
          "2022-11-07T07:00:00",
          "2022-11-07T08:00:00",
          "2022-11-07T09:00:00",
          "2022-11-07T10:00:00",
          "2022-11-07T11:00:00",
          "2022-11-07T12:00:00",
          "2022-11-07T13:00:00",
          "2022-11-07T14:00:00",
          "2022-11-07T15:00:00",
          "2022-11-07T16:00:00",
          "2022-11-07T17:00:00",
          "2022-11-07T18:00:00",
          "2022-11-07T19:00:00",
          "2022-11-07T20:00:00",
          "2022-11-07T21:00:00",
          "2022-11-07T22:00:00",
          "2022-11-07T23:00:00",
          "2022-11-08T06:00:00",
          "2022-11-08T07:00:00",
          "2022-11-08T08:00:00",
          "2022-11-08T09:00:00",
          "2022-11-08T10:00:00",
          "2022-11-08T11:00:00",
          "2022-11-08T12:00:00",
          "2022-11-08T13:00:00",
          "2022-11-08T14:00:00",
          "2022-11-08T15:00:00",
          "2022-11-08T16:00:00",
          "2022-11-08T17:00:00",
          "2022-11-08T18:00:00",
          "2022-11-08T19:00:00",
          "2022-11-08T20:00:00",
          "2022-11-08T21:00:00",
          "2022-11-08T22:00:00",
          "2022-11-08T23:00:00",
          "2022-11-09T06:00:00",
          "2022-11-09T07:00:00",
          "2022-11-09T08:00:00",
          "2022-11-09T09:00:00",
          "2022-11-09T10:00:00",
          "2022-11-09T11:00:00",
          "2022-11-09T12:00:00",
          "2022-11-09T13:00:00",
          "2022-11-09T14:00:00",
          "2022-11-09T15:00:00",
          "2022-11-09T16:00:00",
          "2022-11-09T17:00:00",
          "2022-11-09T18:00:00",
          "2022-11-09T19:00:00",
          "2022-11-09T20:00:00",
          "2022-11-09T21:00:00",
          "2022-11-09T22:00:00",
          "2022-11-09T23:00:00",
          "2022-11-10T06:00:00",
          "2022-11-10T07:00:00",
          "2022-11-10T08:00:00",
          "2022-11-10T09:00:00",
          "2022-11-10T10:00:00",
          "2022-11-10T11:00:00",
          "2022-11-10T12:00:00",
          "2022-11-10T13:00:00",
          "2022-11-10T14:00:00",
          "2022-11-10T15:00:00",
          "2022-11-10T16:00:00",
          "2022-11-10T17:00:00",
          "2022-11-10T18:00:00",
          "2022-11-10T19:00:00",
          "2022-11-10T20:00:00",
          "2022-11-10T21:00:00",
          "2022-11-10T22:00:00",
          "2022-11-10T23:00:00",
          "2022-11-11T06:00:00",
          "2022-11-11T07:00:00",
          "2022-11-11T08:00:00",
          "2022-11-11T09:00:00",
          "2022-11-11T10:00:00",
          "2022-11-11T11:00:00",
          "2022-11-11T12:00:00",
          "2022-11-11T13:00:00",
          "2022-11-11T14:00:00",
          "2022-11-11T15:00:00",
          "2022-11-11T16:00:00",
          "2022-11-11T17:00:00",
          "2022-11-11T18:00:00",
          "2022-11-11T19:00:00",
          "2022-11-11T20:00:00",
          "2022-11-11T21:00:00",
          "2022-11-11T22:00:00",
          "2022-11-11T23:00:00"
         ],
         "xaxis": "x",
         "y": [
          0.011333333333333332,
          0.009333333333333332,
          0.008,
          0.013333333333333332,
          0.012,
          0.01,
          0.006666666666666666,
          0.017333333333333333,
          0.006,
          0.0026666666666666666,
          0.011333333333333332,
          0.010666666666666666,
          0.025333333333333333,
          0.017333333333333333,
          0.02333333333333333,
          0.011333333333333332,
          0.013333333333333332,
          0.007333333333333333,
          0.020666666666666667,
          0.028666666666666667,
          0.032,
          0.02733333333333333,
          0.026666666666666665,
          0.024,
          0.025333333333333333,
          0.02,
          0.02333333333333333,
          0.024,
          0.019333333333333334,
          0.026,
          0.020666666666666667,
          0.026666666666666665,
          0.020666666666666667,
          0.024666666666666667,
          0.03133333333333333,
          0.010666666666666666,
          0.03733333333333333,
          0.04733333333333333,
          0.03733333333333333,
          0.03866666666666667,
          0.028,
          0.038,
          0.03133333333333333,
          0.04466666666666667,
          0.028,
          0.03866666666666667,
          0.04133333333333333,
          0.028,
          0.04933333333333333,
          0.04733333333333333,
          0.043333333333333335,
          0.020666666666666667,
          0.032,
          0.016666666666666666,
          0.024,
          0.029333333333333333,
          0.03133333333333333,
          0.026,
          0.016,
          0.016666666666666666,
          0.014666666666666666,
          0.012666666666666666,
          0.026666666666666665,
          0.03,
          0.02333333333333333,
          0.016666666666666666,
          0.019333333333333334,
          0.028,
          0.034666666666666665,
          0.024666666666666667,
          0.021333333333333333,
          0.02333333333333333,
          0.01,
          0.014666666666666666,
          0.017333333333333333,
          0.006,
          0.012,
          0.006,
          0.003333333333333333,
          0.004,
          0.012,
          0.012,
          0.008,
          0.006666666666666666,
          0.008666666666666666,
          0.011333333333333332,
          0.005333333333333333,
          0.01,
          0.005333333333333333,
          0.013333333333333332,
          0.0026666666666666666,
          0.007333333333333333,
          0.004666666666666666,
          0.01,
          0.014666666666666666,
          0.008,
          0.004666666666666666,
          0.010666666666666666,
          0.003333333333333333,
          0.005333333333333333,
          0.005333333333333333,
          0.009333333333333332,
          0.006,
          0.014666666666666666,
          0.008,
          0.016,
          0.008,
          0.004,
          0.021333333333333333,
          0.017333333333333333,
          0.015333333333333332,
          0.014,
          0.009333333333333332,
          0.012666666666666666,
          0.012,
          0.011333333333333332,
          0.014,
          0.006,
          0.018,
          0.016,
          0.008666666666666666,
          0.013333333333333332,
          0.019333333333333334,
          0.012,
          0.006666666666666666,
          0.007333333333333333
         ],
         "yaxis": "y",
         "type": "bar"
        }
       ],
       "layout": {
        "template": {
         "data": {
          "barpolar": [
           {
            "marker": {
             "line": {
              "color": "white",
              "width": 0.5
             },
             "pattern": {
              "fillmode": "overlay",
              "size": 10,
              "solidity": 0.2
             }
            },
            "type": "barpolar"
           }
          ],
          "bar": [
           {
            "error_x": {
             "color": "#2a3f5f"
            },
            "error_y": {
             "color": "#2a3f5f"
            },
            "marker": {
             "line": {
              "color": "white",
              "width": 0.5
             },
             "pattern": {
              "fillmode": "overlay",
              "size": 10,
              "solidity": 0.2
             }
            },
            "type": "bar"
           }
          ],
          "carpet": [
           {
            "aaxis": {
             "endlinecolor": "#2a3f5f",
             "gridcolor": "#C8D4E3",
             "linecolor": "#C8D4E3",
             "minorgridcolor": "#C8D4E3",
             "startlinecolor": "#2a3f5f"
            },
            "baxis": {
             "endlinecolor": "#2a3f5f",
             "gridcolor": "#C8D4E3",
             "linecolor": "#C8D4E3",
             "minorgridcolor": "#C8D4E3",
             "startlinecolor": "#2a3f5f"
            },
            "type": "carpet"
           }
          ],
          "choropleth": [
           {
            "colorbar": {
             "outlinewidth": 0,
             "ticks": ""
            },
            "type": "choropleth"
           }
          ],
          "contourcarpet": [
           {
            "colorbar": {
             "outlinewidth": 0,
             "ticks": ""
            },
            "type": "contourcarpet"
           }
          ],
          "contour": [
           {
            "colorbar": {
             "outlinewidth": 0,
             "ticks": ""
            },
            "colorscale": [
             [
              0,
              "#0d0887"
             ],
             [
              0.1111111111111111,
              "#46039f"
             ],
             [
              0.2222222222222222,
              "#7201a8"
             ],
             [
              0.3333333333333333,
              "#9c179e"
             ],
             [
              0.4444444444444444,
              "#bd3786"
             ],
             [
              0.5555555555555556,
              "#d8576b"
             ],
             [
              0.6666666666666666,
              "#ed7953"
             ],
             [
              0.7777777777777778,
              "#fb9f3a"
             ],
             [
              0.8888888888888888,
              "#fdca26"
             ],
             [
              1,
              "#f0f921"
             ]
            ],
            "type": "contour"
           }
          ],
          "heatmapgl": [
           {
            "colorbar": {
             "outlinewidth": 0,
             "ticks": ""
            },
            "colorscale": [
             [
              0,
              "#0d0887"
             ],
             [
              0.1111111111111111,
              "#46039f"
             ],
             [
              0.2222222222222222,
              "#7201a8"
             ],
             [
              0.3333333333333333,
              "#9c179e"
             ],
             [
              0.4444444444444444,
              "#bd3786"
             ],
             [
              0.5555555555555556,
              "#d8576b"
             ],
             [
              0.6666666666666666,
              "#ed7953"
             ],
             [
              0.7777777777777778,
              "#fb9f3a"
             ],
             [
              0.8888888888888888,
              "#fdca26"
             ],
             [
              1,
              "#f0f921"
             ]
            ],
            "type": "heatmapgl"
           }
          ],
          "heatmap": [
           {
            "colorbar": {
             "outlinewidth": 0,
             "ticks": ""
            },
            "colorscale": [
             [
              0,
              "#0d0887"
             ],
             [
              0.1111111111111111,
              "#46039f"
             ],
             [
              0.2222222222222222,
              "#7201a8"
             ],
             [
              0.3333333333333333,
              "#9c179e"
             ],
             [
              0.4444444444444444,
              "#bd3786"
             ],
             [
              0.5555555555555556,
              "#d8576b"
             ],
             [
              0.6666666666666666,
              "#ed7953"
             ],
             [
              0.7777777777777778,
              "#fb9f3a"
             ],
             [
              0.8888888888888888,
              "#fdca26"
             ],
             [
              1,
              "#f0f921"
             ]
            ],
            "type": "heatmap"
           }
          ],
          "histogram2dcontour": [
           {
            "colorbar": {
             "outlinewidth": 0,
             "ticks": ""
            },
            "colorscale": [
             [
              0,
              "#0d0887"
             ],
             [
              0.1111111111111111,
              "#46039f"
             ],
             [
              0.2222222222222222,
              "#7201a8"
             ],
             [
              0.3333333333333333,
              "#9c179e"
             ],
             [
              0.4444444444444444,
              "#bd3786"
             ],
             [
              0.5555555555555556,
              "#d8576b"
             ],
             [
              0.6666666666666666,
              "#ed7953"
             ],
             [
              0.7777777777777778,
              "#fb9f3a"
             ],
             [
              0.8888888888888888,
              "#fdca26"
             ],
             [
              1,
              "#f0f921"
             ]
            ],
            "type": "histogram2dcontour"
           }
          ],
          "histogram2d": [
           {
            "colorbar": {
             "outlinewidth": 0,
             "ticks": ""
            },
            "colorscale": [
             [
              0,
              "#0d0887"
             ],
             [
              0.1111111111111111,
              "#46039f"
             ],
             [
              0.2222222222222222,
              "#7201a8"
             ],
             [
              0.3333333333333333,
              "#9c179e"
             ],
             [
              0.4444444444444444,
              "#bd3786"
             ],
             [
              0.5555555555555556,
              "#d8576b"
             ],
             [
              0.6666666666666666,
              "#ed7953"
             ],
             [
              0.7777777777777778,
              "#fb9f3a"
             ],
             [
              0.8888888888888888,
              "#fdca26"
             ],
             [
              1,
              "#f0f921"
             ]
            ],
            "type": "histogram2d"
           }
          ],
          "histogram": [
           {
            "marker": {
             "pattern": {
              "fillmode": "overlay",
              "size": 10,
              "solidity": 0.2
             }
            },
            "type": "histogram"
           }
          ],
          "mesh3d": [
           {
            "colorbar": {
             "outlinewidth": 0,
             "ticks": ""
            },
            "type": "mesh3d"
           }
          ],
          "parcoords": [
           {
            "line": {
             "colorbar": {
              "outlinewidth": 0,
              "ticks": ""
             }
            },
            "type": "parcoords"
           }
          ],
          "pie": [
           {
            "automargin": true,
            "type": "pie"
           }
          ],
          "scatter3d": [
           {
            "line": {
             "colorbar": {
              "outlinewidth": 0,
              "ticks": ""
             }
            },
            "marker": {
             "colorbar": {
              "outlinewidth": 0,
              "ticks": ""
             }
            },
            "type": "scatter3d"
           }
          ],
          "scattercarpet": [
           {
            "marker": {
             "colorbar": {
              "outlinewidth": 0,
              "ticks": ""
             }
            },
            "type": "scattercarpet"
           }
          ],
          "scattergeo": [
           {
            "marker": {
             "colorbar": {
              "outlinewidth": 0,
              "ticks": ""
             }
            },
            "type": "scattergeo"
           }
          ],
          "scattergl": [
           {
            "marker": {
             "colorbar": {
              "outlinewidth": 0,
              "ticks": ""
             }
            },
            "type": "scattergl"
           }
          ],
          "scattermapbox": [
           {
            "marker": {
             "colorbar": {
              "outlinewidth": 0,
              "ticks": ""
             }
            },
            "type": "scattermapbox"
           }
          ],
          "scatterpolargl": [
           {
            "marker": {
             "colorbar": {
              "outlinewidth": 0,
              "ticks": ""
             }
            },
            "type": "scatterpolargl"
           }
          ],
          "scatterpolar": [
           {
            "marker": {
             "colorbar": {
              "outlinewidth": 0,
              "ticks": ""
             }
            },
            "type": "scatterpolar"
           }
          ],
          "scatter": [
           {
            "fillpattern": {
             "fillmode": "overlay",
             "size": 10,
             "solidity": 0.2
            },
            "type": "scatter"
           }
          ],
          "scatterternary": [
           {
            "marker": {
             "colorbar": {
              "outlinewidth": 0,
              "ticks": ""
             }
            },
            "type": "scatterternary"
           }
          ],
          "surface": [
           {
            "colorbar": {
             "outlinewidth": 0,
             "ticks": ""
            },
            "colorscale": [
             [
              0,
              "#0d0887"
             ],
             [
              0.1111111111111111,
              "#46039f"
             ],
             [
              0.2222222222222222,
              "#7201a8"
             ],
             [
              0.3333333333333333,
              "#9c179e"
             ],
             [
              0.4444444444444444,
              "#bd3786"
             ],
             [
              0.5555555555555556,
              "#d8576b"
             ],
             [
              0.6666666666666666,
              "#ed7953"
             ],
             [
              0.7777777777777778,
              "#fb9f3a"
             ],
             [
              0.8888888888888888,
              "#fdca26"
             ],
             [
              1,
              "#f0f921"
             ]
            ],
            "type": "surface"
           }
          ],
          "table": [
           {
            "cells": {
             "fill": {
              "color": "#EBF0F8"
             },
             "line": {
              "color": "white"
             }
            },
            "header": {
             "fill": {
              "color": "#C8D4E3"
             },
             "line": {
              "color": "white"
             }
            },
            "type": "table"
           }
          ]
         },
         "layout": {
          "annotationdefaults": {
           "arrowcolor": "#2a3f5f",
           "arrowhead": 0,
           "arrowwidth": 1
          },
          "autotypenumbers": "strict",
          "coloraxis": {
           "colorbar": {
            "outlinewidth": 0,
            "ticks": ""
           }
          },
          "colorscale": {
           "diverging": [
            [
             0,
             "#8e0152"
            ],
            [
             0.1,
             "#c51b7d"
            ],
            [
             0.2,
             "#de77ae"
            ],
            [
             0.3,
             "#f1b6da"
            ],
            [
             0.4,
             "#fde0ef"
            ],
            [
             0.5,
             "#f7f7f7"
            ],
            [
             0.6,
             "#e6f5d0"
            ],
            [
             0.7,
             "#b8e186"
            ],
            [
             0.8,
             "#7fbc41"
            ],
            [
             0.9,
             "#4d9221"
            ],
            [
             1,
             "#276419"
            ]
           ],
           "sequential": [
            [
             0,
             "#0d0887"
            ],
            [
             0.1111111111111111,
             "#46039f"
            ],
            [
             0.2222222222222222,
             "#7201a8"
            ],
            [
             0.3333333333333333,
             "#9c179e"
            ],
            [
             0.4444444444444444,
             "#bd3786"
            ],
            [
             0.5555555555555556,
             "#d8576b"
            ],
            [
             0.6666666666666666,
             "#ed7953"
            ],
            [
             0.7777777777777778,
             "#fb9f3a"
            ],
            [
             0.8888888888888888,
             "#fdca26"
            ],
            [
             1,
             "#f0f921"
            ]
           ],
           "sequentialminus": [
            [
             0,
             "#0d0887"
            ],
            [
             0.1111111111111111,
             "#46039f"
            ],
            [
             0.2222222222222222,
             "#7201a8"
            ],
            [
             0.3333333333333333,
             "#9c179e"
            ],
            [
             0.4444444444444444,
             "#bd3786"
            ],
            [
             0.5555555555555556,
             "#d8576b"
            ],
            [
             0.6666666666666666,
             "#ed7953"
            ],
            [
             0.7777777777777778,
             "#fb9f3a"
            ],
            [
             0.8888888888888888,
             "#fdca26"
            ],
            [
             1,
             "#f0f921"
            ]
           ]
          },
          "colorway": [
           "#636efa",
           "#EF553B",
           "#00cc96",
           "#ab63fa",
           "#FFA15A",
           "#19d3f3",
           "#FF6692",
           "#B6E880",
           "#FF97FF",
           "#FECB52"
          ],
          "font": {
           "color": "#2a3f5f"
          },
          "geo": {
           "bgcolor": "white",
           "lakecolor": "white",
           "landcolor": "white",
           "showlakes": true,
           "showland": true,
           "subunitcolor": "#C8D4E3"
          },
          "hoverlabel": {
           "align": "left"
          },
          "hovermode": "closest",
          "mapbox": {
           "style": "light"
          },
          "paper_bgcolor": "white",
          "plot_bgcolor": "white",
          "polar": {
           "angularaxis": {
            "gridcolor": "#EBF0F8",
            "linecolor": "#EBF0F8",
            "ticks": ""
           },
           "bgcolor": "white",
           "radialaxis": {
            "gridcolor": "#EBF0F8",
            "linecolor": "#EBF0F8",
            "ticks": ""
           }
          },
          "scene": {
           "xaxis": {
            "backgroundcolor": "white",
            "gridcolor": "#DFE8F3",
            "gridwidth": 2,
            "linecolor": "#EBF0F8",
            "showbackground": true,
            "ticks": "",
            "zerolinecolor": "#EBF0F8"
           },
           "yaxis": {
            "backgroundcolor": "white",
            "gridcolor": "#DFE8F3",
            "gridwidth": 2,
            "linecolor": "#EBF0F8",
            "showbackground": true,
            "ticks": "",
            "zerolinecolor": "#EBF0F8"
           },
           "zaxis": {
            "backgroundcolor": "white",
            "gridcolor": "#DFE8F3",
            "gridwidth": 2,
            "linecolor": "#EBF0F8",
            "showbackground": true,
            "ticks": "",
            "zerolinecolor": "#EBF0F8"
           }
          },
          "shapedefaults": {
           "line": {
            "color": "#2a3f5f"
           }
          },
          "ternary": {
           "aaxis": {
            "gridcolor": "#DFE8F3",
            "linecolor": "#A2B1C6",
            "ticks": ""
           },
           "baxis": {
            "gridcolor": "#DFE8F3",
            "linecolor": "#A2B1C6",
            "ticks": ""
           },
           "bgcolor": "white",
           "caxis": {
            "gridcolor": "#DFE8F3",
            "linecolor": "#A2B1C6",
            "ticks": ""
           }
          },
          "title": {
           "x": 0.05
          },
          "xaxis": {
           "automargin": true,
           "gridcolor": "#EBF0F8",
           "linecolor": "#EBF0F8",
           "ticks": "",
           "title": {
            "standoff": 15
           },
           "zerolinecolor": "#EBF0F8",
           "zerolinewidth": 2
          },
          "yaxis": {
           "automargin": true,
           "gridcolor": "#EBF0F8",
           "linecolor": "#EBF0F8",
           "ticks": "",
           "title": {
            "standoff": 15
           },
           "zerolinecolor": "#EBF0F8",
           "zerolinewidth": 2
          }
         }
        },
        "xaxis": {
         "anchor": "y",
         "domain": [
          0,
          1
         ],
         "title": {
          "text": "Date de la COP27"
         },
         "tickmode": "linear"
        },
        "yaxis": {
         "anchor": "x",
         "domain": [
          0,
          1
         ],
         "title": {
          "text": "% du volume médiatique"
         },
         "tickformat": "0%"
        },
        "legend": {
         "title": {
          "text": ""
         },
         "tracegroupgap": 0
        },
        "margin": {
         "t": 60
        },
        "barmode": "relative",
        "font": {
         "family": "Poppins"
        },
        "title": {
         "text": "Evolution du volume médiatique sur la COP27 et l'écologie"
        }
       },
       "config": {
        "plotlyServerURL": "https://plot.ly"
       }
      }
     },
     "metadata": {}
    }
   ],
   "metadata": {}
  },
  {
   "cell_type": "markdown",
   "source": [
    "## Evolution des volumes médiatiques par chaîne"
   ],
   "metadata": {}
  },
  {
   "cell_type": "code",
   "execution_count": 62,
   "source": [
    "ranking_chart_data = ranking.query(\"media2=='TV - Généraliste' and keyword=='COP27'\")\n",
    "rank_col = \"media_part\"\n",
    "\n",
    "annot_labels_data = (ranking_chart_data\n",
    "                     .loc[ ranking_chart_data[\"day_dt\"].map(lambda x : x.day)==7]\n",
    "                     .sort_values(rank_col,ascending = False)\n",
    "                    )\n",
    "px.colors.sequential.RdBu_r\n",
    "fig = px.line(\n",
    "    ranking_chart_data,\n",
    "    x = \"day_dt\",\n",
    "    y = rank_col,\n",
    "    color = \"channel_name\",\n",
    "    text = rank_col,\n",
    "    markers = True,\n",
    "#     color_discrete_map = \"RdBu_r\",\n",
    "    color_discrete_sequence = make_ws_palette(len(annot_labels_data)),\n",
    "    category_orders = {\"channel_name\":annot_labels_data[\"channel_name\"].tolist()}\n",
    ")\n",
    "\n",
    "# fig.update_traces(marker=dict(size=15),selector=dict(mode='markers'))\n",
    "fig.update_layout(\n",
    "    yaxis_tickformat='0%',font_family=\"Poppins\",yaxis_title=\"% du volume médiatique\",\n",
    "    title = \"Evolution des volumes médiatiques par chaîne TV généralistes sur la COP27\",\n",
    "    xaxis_tickmode = \"linear\",\n",
    "    xaxis_title = \"Date de la COP27\",\n",
    "    legend_title = \"\",\n",
    ")\n",
    "fig.update_layout()\n",
    "fig.update_traces(\n",
    "#     marker_size= 40,\n",
    "    texttemplate=\"%{y:.1%}\",\n",
    "#     marker = dict(line=dict(width=2)),\n",
    "    textposition=\"top center\",\n",
    "    textfont_size=12,\n",
    "#     textfont_color=\"white\"\n",
    ")\n",
    "\n",
    "fig"
   ],
   "outputs": [
    {
     "output_type": "display_data",
     "data": {
      "application/vnd.plotly.v1+json": {
       "data": [
        {
         "hovertemplate": "channel_name=RMC Story<br>day_dt=%{x}<br>media_part=%{text}<extra></extra>",
         "legendgroup": "RMC Story",
         "line": {
          "color": "rgb(28,92,158)",
          "dash": "solid"
         },
         "marker": {
          "symbol": "circle"
         },
         "mode": "lines+markers+text",
         "name": "RMC Story",
         "orientation": "v",
         "showlegend": true,
         "text": [
          0,
          0,
          0.011111111111111112,
          0.012962962962962963,
          0.001851851851851852,
          0,
          0.003703703703703704
         ],
         "x": [
          "2022-11-05",
          "2022-11-06",
          "2022-11-07",
          "2022-11-08",
          "2022-11-09",
          "2022-11-10",
          "2022-11-11"
         ],
         "xaxis": "x",
         "y": [
          0,
          0,
          0.011111111111111112,
          0.012962962962962963,
          0.001851851851851852,
          0,
          0.003703703703703704
         ],
         "yaxis": "y",
         "type": "scatter",
         "textfont": {
          "size": 12
         },
         "textposition": "top center",
         "texttemplate": "%{y:.1%}"
        },
        {
         "hovertemplate": "channel_name=TF1<br>day_dt=%{x}<br>media_part=%{text}<extra></extra>",
         "legendgroup": "TF1",
         "line": {
          "color": "rgb(55,131,186)",
          "dash": "solid"
         },
         "marker": {
          "symbol": "circle"
         },
         "mode": "lines+markers+text",
         "name": "TF1",
         "orientation": "v",
         "showlegend": true,
         "text": [
          0.001851851851851852,
          0.003703703703703704,
          0.009259259259259259,
          0.003703703703703704,
          0,
          0.003703703703703704,
          0
         ],
         "x": [
          "2022-11-05",
          "2022-11-06",
          "2022-11-07",
          "2022-11-08",
          "2022-11-09",
          "2022-11-10",
          "2022-11-11"
         ],
         "xaxis": "x",
         "y": [
          0.001851851851851852,
          0.003703703703703704,
          0.009259259259259259,
          0.003703703703703704,
          0,
          0.003703703703703704,
          0
         ],
         "yaxis": "y",
         "type": "scatter",
         "textfont": {
          "size": 12
         },
         "textposition": "top center",
         "texttemplate": "%{y:.1%}"
        },
        {
         "hovertemplate": "channel_name=TMC<br>day_dt=%{x}<br>media_part=%{text}<extra></extra>",
         "legendgroup": "TMC",
         "line": {
          "color": "rgb(107,172,208)",
          "dash": "solid"
         },
         "marker": {
          "symbol": "circle"
         },
         "mode": "lines+markers+text",
         "name": "TMC",
         "orientation": "v",
         "showlegend": true,
         "text": [
          0,
          0,
          0.005555555555555556,
          0.001851851851851852,
          0,
          0.001851851851851852,
          0.007407407407407408
         ],
         "x": [
          "2022-11-05",
          "2022-11-06",
          "2022-11-07",
          "2022-11-08",
          "2022-11-09",
          "2022-11-10",
          "2022-11-11"
         ],
         "xaxis": "x",
         "y": [
          0,
          0,
          0.005555555555555556,
          0.001851851851851852,
          0,
          0.001851851851851852,
          0.007407407407407408
         ],
         "yaxis": "y",
         "type": "scatter",
         "textfont": {
          "size": 12
         },
         "textposition": "top center",
         "texttemplate": "%{y:.1%}"
        },
        {
         "hovertemplate": "channel_name=France 2<br>day_dt=%{x}<br>media_part=%{text}<extra></extra>",
         "legendgroup": "France 2",
         "line": {
          "color": "rgb(167,207,228)",
          "dash": "solid"
         },
         "marker": {
          "symbol": "circle"
         },
         "mode": "lines+markers+text",
         "name": "France 2",
         "orientation": "v",
         "showlegend": true,
         "text": [
          0.007407407407407408,
          0.007407407407407408,
          0.003703703703703704,
          0.009259259259259259,
          0.003703703703703704,
          0.001851851851851852,
          0.001851851851851852
         ],
         "x": [
          "2022-11-05",
          "2022-11-06",
          "2022-11-07",
          "2022-11-08",
          "2022-11-09",
          "2022-11-10",
          "2022-11-11"
         ],
         "xaxis": "x",
         "y": [
          0.007407407407407408,
          0.007407407407407408,
          0.003703703703703704,
          0.009259259259259259,
          0.003703703703703704,
          0.001851851851851852,
          0.001851851851851852
         ],
         "yaxis": "y",
         "type": "scatter",
         "textfont": {
          "size": 12
         },
         "textposition": "top center",
         "texttemplate": "%{y:.1%}"
        },
        {
         "hovertemplate": "channel_name=France 5<br>day_dt=%{x}<br>media_part=%{text}<extra></extra>",
         "legendgroup": "France 5",
         "line": {
          "color": "rgb(214,231,241)",
          "dash": "solid"
         },
         "marker": {
          "symbol": "circle"
         },
         "mode": "lines+markers+text",
         "name": "France 5",
         "orientation": "v",
         "showlegend": true,
         "text": [
          0.001851851851851852,
          0,
          0.003703703703703704,
          0.005555555555555556,
          0,
          0,
          0.001851851851851852
         ],
         "x": [
          "2022-11-05",
          "2022-11-06",
          "2022-11-07",
          "2022-11-08",
          "2022-11-09",
          "2022-11-10",
          "2022-11-11"
         ],
         "xaxis": "x",
         "y": [
          0.001851851851851852,
          0,
          0.003703703703703704,
          0.005555555555555556,
          0,
          0,
          0.001851851851851852
         ],
         "yaxis": "y",
         "type": "scatter",
         "textfont": {
          "size": 12
         },
         "textposition": "top center",
         "texttemplate": "%{y:.1%}"
        },
        {
         "hovertemplate": "channel_name=C8<br>day_dt=%{x}<br>media_part=%{text}<extra></extra>",
         "legendgroup": "C8",
         "line": {
          "color": "rgb(247,246,246)",
          "dash": "solid"
         },
         "marker": {
          "symbol": "circle"
         },
         "mode": "lines+markers+text",
         "name": "C8",
         "orientation": "v",
         "showlegend": true,
         "text": [
          0.001851851851851852,
          0,
          0,
          0,
          0,
          0,
          0
         ],
         "x": [
          "2022-11-05",
          "2022-11-06",
          "2022-11-07",
          "2022-11-08",
          "2022-11-09",
          "2022-11-10",
          "2022-11-11"
         ],
         "xaxis": "x",
         "y": [
          0.001851851851851852,
          0,
          0,
          0,
          0,
          0,
          0
         ],
         "yaxis": "y",
         "type": "scatter",
         "textfont": {
          "size": 12
         },
         "textposition": "top center",
         "texttemplate": "%{y:.1%}"
        },
        {
         "hovertemplate": "channel_name=Canal+<br>day_dt=%{x}<br>media_part=%{text}<extra></extra>",
         "legendgroup": "Canal+",
         "line": {
          "color": "rgb(252,223,206)",
          "dash": "solid"
         },
         "marker": {
          "symbol": "circle"
         },
         "mode": "lines+markers+text",
         "name": "Canal+",
         "orientation": "v",
         "showlegend": true,
         "text": [
          0,
          0,
          0,
          0.001851851851851852,
          0,
          0,
          0
         ],
         "x": [
          "2022-11-05",
          "2022-11-06",
          "2022-11-07",
          "2022-11-08",
          "2022-11-09",
          "2022-11-10",
          "2022-11-11"
         ],
         "xaxis": "x",
         "y": [
          0,
          0,
          0,
          0.001851851851851852,
          0,
          0,
          0
         ],
         "yaxis": "y",
         "type": "scatter",
         "textfont": {
          "size": 12
         },
         "textposition": "top center",
         "texttemplate": "%{y:.1%}"
        },
        {
         "hovertemplate": "channel_name=M6<br>day_dt=%{x}<br>media_part=%{text}<extra></extra>",
         "legendgroup": "M6",
         "line": {
          "color": "rgb(247,183,153)",
          "dash": "solid"
         },
         "marker": {
          "symbol": "circle"
         },
         "mode": "lines+markers+text",
         "name": "M6",
         "orientation": "v",
         "showlegend": true,
         "text": [
          0,
          0,
          0,
          0,
          0,
          0,
          0.001851851851851852
         ],
         "x": [
          "2022-11-05",
          "2022-11-06",
          "2022-11-07",
          "2022-11-08",
          "2022-11-09",
          "2022-11-10",
          "2022-11-11"
         ],
         "xaxis": "x",
         "y": [
          0,
          0,
          0,
          0,
          0,
          0,
          0.001851851851851852
         ],
         "yaxis": "y",
         "type": "scatter",
         "textfont": {
          "size": 12
         },
         "textposition": "top center",
         "texttemplate": "%{y:.1%}"
        },
        {
         "hovertemplate": "channel_name=RMC Découverte<br>day_dt=%{x}<br>media_part=%{text}<extra></extra>",
         "legendgroup": "RMC Découverte",
         "line": {
          "color": "rgb(228,128,101)",
          "dash": "solid"
         },
         "marker": {
          "symbol": "circle"
         },
         "mode": "lines+markers+text",
         "name": "RMC Découverte",
         "orientation": "v",
         "showlegend": true,
         "text": [
          0,
          0,
          0,
          0,
          0,
          0,
          0
         ],
         "x": [
          "2022-11-05",
          "2022-11-06",
          "2022-11-07",
          "2022-11-08",
          "2022-11-09",
          "2022-11-10",
          "2022-11-11"
         ],
         "xaxis": "x",
         "y": [
          0,
          0,
          0,
          0,
          0,
          0,
          0
         ],
         "yaxis": "y",
         "type": "scatter",
         "textfont": {
          "size": 12
         },
         "textposition": "top center",
         "texttemplate": "%{y:.1%}"
        },
        {
         "hovertemplate": "channel_name=TFX<br>day_dt=%{x}<br>media_part=%{text}<extra></extra>",
         "legendgroup": "TFX",
         "line": {
          "color": "rgb(201,70,65)",
          "dash": "solid"
         },
         "marker": {
          "symbol": "circle"
         },
         "mode": "lines+markers+text",
         "name": "TFX",
         "orientation": "v",
         "showlegend": true,
         "text": [
          0,
          0,
          0,
          0.001851851851851852,
          0,
          0,
          0
         ],
         "x": [
          "2022-11-05",
          "2022-11-06",
          "2022-11-07",
          "2022-11-08",
          "2022-11-09",
          "2022-11-10",
          "2022-11-11"
         ],
         "xaxis": "x",
         "y": [
          0,
          0,
          0,
          0.001851851851851852,
          0,
          0,
          0
         ],
         "yaxis": "y",
         "type": "scatter",
         "textfont": {
          "size": 12
         },
         "textposition": "top center",
         "texttemplate": "%{y:.1%}"
        },
        {
         "hovertemplate": "channel_name=W9<br>day_dt=%{x}<br>media_part=%{text}<extra></extra>",
         "legendgroup": "W9",
         "line": {
          "color": "rgb(164,19,40)",
          "dash": "solid"
         },
         "marker": {
          "symbol": "circle"
         },
         "mode": "lines+markers+text",
         "name": "W9",
         "orientation": "v",
         "showlegend": true,
         "text": [
          0,
          0,
          0,
          0,
          0,
          0,
          0
         ],
         "x": [
          "2022-11-05",
          "2022-11-06",
          "2022-11-07",
          "2022-11-08",
          "2022-11-09",
          "2022-11-10",
          "2022-11-11"
         ],
         "xaxis": "x",
         "y": [
          0,
          0,
          0,
          0,
          0,
          0,
          0
         ],
         "yaxis": "y",
         "type": "scatter",
         "textfont": {
          "size": 12
         },
         "textposition": "top center",
         "texttemplate": "%{y:.1%}"
        }
       ],
       "layout": {
        "template": {
         "data": {
          "barpolar": [
           {
            "marker": {
             "line": {
              "color": "white",
              "width": 0.5
             },
             "pattern": {
              "fillmode": "overlay",
              "size": 10,
              "solidity": 0.2
             }
            },
            "type": "barpolar"
           }
          ],
          "bar": [
           {
            "error_x": {
             "color": "#2a3f5f"
            },
            "error_y": {
             "color": "#2a3f5f"
            },
            "marker": {
             "line": {
              "color": "white",
              "width": 0.5
             },
             "pattern": {
              "fillmode": "overlay",
              "size": 10,
              "solidity": 0.2
             }
            },
            "type": "bar"
           }
          ],
          "carpet": [
           {
            "aaxis": {
             "endlinecolor": "#2a3f5f",
             "gridcolor": "#C8D4E3",
             "linecolor": "#C8D4E3",
             "minorgridcolor": "#C8D4E3",
             "startlinecolor": "#2a3f5f"
            },
            "baxis": {
             "endlinecolor": "#2a3f5f",
             "gridcolor": "#C8D4E3",
             "linecolor": "#C8D4E3",
             "minorgridcolor": "#C8D4E3",
             "startlinecolor": "#2a3f5f"
            },
            "type": "carpet"
           }
          ],
          "choropleth": [
           {
            "colorbar": {
             "outlinewidth": 0,
             "ticks": ""
            },
            "type": "choropleth"
           }
          ],
          "contourcarpet": [
           {
            "colorbar": {
             "outlinewidth": 0,
             "ticks": ""
            },
            "type": "contourcarpet"
           }
          ],
          "contour": [
           {
            "colorbar": {
             "outlinewidth": 0,
             "ticks": ""
            },
            "colorscale": [
             [
              0,
              "#0d0887"
             ],
             [
              0.1111111111111111,
              "#46039f"
             ],
             [
              0.2222222222222222,
              "#7201a8"
             ],
             [
              0.3333333333333333,
              "#9c179e"
             ],
             [
              0.4444444444444444,
              "#bd3786"
             ],
             [
              0.5555555555555556,
              "#d8576b"
             ],
             [
              0.6666666666666666,
              "#ed7953"
             ],
             [
              0.7777777777777778,
              "#fb9f3a"
             ],
             [
              0.8888888888888888,
              "#fdca26"
             ],
             [
              1,
              "#f0f921"
             ]
            ],
            "type": "contour"
           }
          ],
          "heatmapgl": [
           {
            "colorbar": {
             "outlinewidth": 0,
             "ticks": ""
            },
            "colorscale": [
             [
              0,
              "#0d0887"
             ],
             [
              0.1111111111111111,
              "#46039f"
             ],
             [
              0.2222222222222222,
              "#7201a8"
             ],
             [
              0.3333333333333333,
              "#9c179e"
             ],
             [
              0.4444444444444444,
              "#bd3786"
             ],
             [
              0.5555555555555556,
              "#d8576b"
             ],
             [
              0.6666666666666666,
              "#ed7953"
             ],
             [
              0.7777777777777778,
              "#fb9f3a"
             ],
             [
              0.8888888888888888,
              "#fdca26"
             ],
             [
              1,
              "#f0f921"
             ]
            ],
            "type": "heatmapgl"
           }
          ],
          "heatmap": [
           {
            "colorbar": {
             "outlinewidth": 0,
             "ticks": ""
            },
            "colorscale": [
             [
              0,
              "#0d0887"
             ],
             [
              0.1111111111111111,
              "#46039f"
             ],
             [
              0.2222222222222222,
              "#7201a8"
             ],
             [
              0.3333333333333333,
              "#9c179e"
             ],
             [
              0.4444444444444444,
              "#bd3786"
             ],
             [
              0.5555555555555556,
              "#d8576b"
             ],
             [
              0.6666666666666666,
              "#ed7953"
             ],
             [
              0.7777777777777778,
              "#fb9f3a"
             ],
             [
              0.8888888888888888,
              "#fdca26"
             ],
             [
              1,
              "#f0f921"
             ]
            ],
            "type": "heatmap"
           }
          ],
          "histogram2dcontour": [
           {
            "colorbar": {
             "outlinewidth": 0,
             "ticks": ""
            },
            "colorscale": [
             [
              0,
              "#0d0887"
             ],
             [
              0.1111111111111111,
              "#46039f"
             ],
             [
              0.2222222222222222,
              "#7201a8"
             ],
             [
              0.3333333333333333,
              "#9c179e"
             ],
             [
              0.4444444444444444,
              "#bd3786"
             ],
             [
              0.5555555555555556,
              "#d8576b"
             ],
             [
              0.6666666666666666,
              "#ed7953"
             ],
             [
              0.7777777777777778,
              "#fb9f3a"
             ],
             [
              0.8888888888888888,
              "#fdca26"
             ],
             [
              1,
              "#f0f921"
             ]
            ],
            "type": "histogram2dcontour"
           }
          ],
          "histogram2d": [
           {
            "colorbar": {
             "outlinewidth": 0,
             "ticks": ""
            },
            "colorscale": [
             [
              0,
              "#0d0887"
             ],
             [
              0.1111111111111111,
              "#46039f"
             ],
             [
              0.2222222222222222,
              "#7201a8"
             ],
             [
              0.3333333333333333,
              "#9c179e"
             ],
             [
              0.4444444444444444,
              "#bd3786"
             ],
             [
              0.5555555555555556,
              "#d8576b"
             ],
             [
              0.6666666666666666,
              "#ed7953"
             ],
             [
              0.7777777777777778,
              "#fb9f3a"
             ],
             [
              0.8888888888888888,
              "#fdca26"
             ],
             [
              1,
              "#f0f921"
             ]
            ],
            "type": "histogram2d"
           }
          ],
          "histogram": [
           {
            "marker": {
             "pattern": {
              "fillmode": "overlay",
              "size": 10,
              "solidity": 0.2
             }
            },
            "type": "histogram"
           }
          ],
          "mesh3d": [
           {
            "colorbar": {
             "outlinewidth": 0,
             "ticks": ""
            },
            "type": "mesh3d"
           }
          ],
          "parcoords": [
           {
            "line": {
             "colorbar": {
              "outlinewidth": 0,
              "ticks": ""
             }
            },
            "type": "parcoords"
           }
          ],
          "pie": [
           {
            "automargin": true,
            "type": "pie"
           }
          ],
          "scatter3d": [
           {
            "line": {
             "colorbar": {
              "outlinewidth": 0,
              "ticks": ""
             }
            },
            "marker": {
             "colorbar": {
              "outlinewidth": 0,
              "ticks": ""
             }
            },
            "type": "scatter3d"
           }
          ],
          "scattercarpet": [
           {
            "marker": {
             "colorbar": {
              "outlinewidth": 0,
              "ticks": ""
             }
            },
            "type": "scattercarpet"
           }
          ],
          "scattergeo": [
           {
            "marker": {
             "colorbar": {
              "outlinewidth": 0,
              "ticks": ""
             }
            },
            "type": "scattergeo"
           }
          ],
          "scattergl": [
           {
            "marker": {
             "colorbar": {
              "outlinewidth": 0,
              "ticks": ""
             }
            },
            "type": "scattergl"
           }
          ],
          "scattermapbox": [
           {
            "marker": {
             "colorbar": {
              "outlinewidth": 0,
              "ticks": ""
             }
            },
            "type": "scattermapbox"
           }
          ],
          "scatterpolargl": [
           {
            "marker": {
             "colorbar": {
              "outlinewidth": 0,
              "ticks": ""
             }
            },
            "type": "scatterpolargl"
           }
          ],
          "scatterpolar": [
           {
            "marker": {
             "colorbar": {
              "outlinewidth": 0,
              "ticks": ""
             }
            },
            "type": "scatterpolar"
           }
          ],
          "scatter": [
           {
            "fillpattern": {
             "fillmode": "overlay",
             "size": 10,
             "solidity": 0.2
            },
            "type": "scatter"
           }
          ],
          "scatterternary": [
           {
            "marker": {
             "colorbar": {
              "outlinewidth": 0,
              "ticks": ""
             }
            },
            "type": "scatterternary"
           }
          ],
          "surface": [
           {
            "colorbar": {
             "outlinewidth": 0,
             "ticks": ""
            },
            "colorscale": [
             [
              0,
              "#0d0887"
             ],
             [
              0.1111111111111111,
              "#46039f"
             ],
             [
              0.2222222222222222,
              "#7201a8"
             ],
             [
              0.3333333333333333,
              "#9c179e"
             ],
             [
              0.4444444444444444,
              "#bd3786"
             ],
             [
              0.5555555555555556,
              "#d8576b"
             ],
             [
              0.6666666666666666,
              "#ed7953"
             ],
             [
              0.7777777777777778,
              "#fb9f3a"
             ],
             [
              0.8888888888888888,
              "#fdca26"
             ],
             [
              1,
              "#f0f921"
             ]
            ],
            "type": "surface"
           }
          ],
          "table": [
           {
            "cells": {
             "fill": {
              "color": "#EBF0F8"
             },
             "line": {
              "color": "white"
             }
            },
            "header": {
             "fill": {
              "color": "#C8D4E3"
             },
             "line": {
              "color": "white"
             }
            },
            "type": "table"
           }
          ]
         },
         "layout": {
          "annotationdefaults": {
           "arrowcolor": "#2a3f5f",
           "arrowhead": 0,
           "arrowwidth": 1
          },
          "autotypenumbers": "strict",
          "coloraxis": {
           "colorbar": {
            "outlinewidth": 0,
            "ticks": ""
           }
          },
          "colorscale": {
           "diverging": [
            [
             0,
             "#8e0152"
            ],
            [
             0.1,
             "#c51b7d"
            ],
            [
             0.2,
             "#de77ae"
            ],
            [
             0.3,
             "#f1b6da"
            ],
            [
             0.4,
             "#fde0ef"
            ],
            [
             0.5,
             "#f7f7f7"
            ],
            [
             0.6,
             "#e6f5d0"
            ],
            [
             0.7,
             "#b8e186"
            ],
            [
             0.8,
             "#7fbc41"
            ],
            [
             0.9,
             "#4d9221"
            ],
            [
             1,
             "#276419"
            ]
           ],
           "sequential": [
            [
             0,
             "#0d0887"
            ],
            [
             0.1111111111111111,
             "#46039f"
            ],
            [
             0.2222222222222222,
             "#7201a8"
            ],
            [
             0.3333333333333333,
             "#9c179e"
            ],
            [
             0.4444444444444444,
             "#bd3786"
            ],
            [
             0.5555555555555556,
             "#d8576b"
            ],
            [
             0.6666666666666666,
             "#ed7953"
            ],
            [
             0.7777777777777778,
             "#fb9f3a"
            ],
            [
             0.8888888888888888,
             "#fdca26"
            ],
            [
             1,
             "#f0f921"
            ]
           ],
           "sequentialminus": [
            [
             0,
             "#0d0887"
            ],
            [
             0.1111111111111111,
             "#46039f"
            ],
            [
             0.2222222222222222,
             "#7201a8"
            ],
            [
             0.3333333333333333,
             "#9c179e"
            ],
            [
             0.4444444444444444,
             "#bd3786"
            ],
            [
             0.5555555555555556,
             "#d8576b"
            ],
            [
             0.6666666666666666,
             "#ed7953"
            ],
            [
             0.7777777777777778,
             "#fb9f3a"
            ],
            [
             0.8888888888888888,
             "#fdca26"
            ],
            [
             1,
             "#f0f921"
            ]
           ]
          },
          "colorway": [
           "#636efa",
           "#EF553B",
           "#00cc96",
           "#ab63fa",
           "#FFA15A",
           "#19d3f3",
           "#FF6692",
           "#B6E880",
           "#FF97FF",
           "#FECB52"
          ],
          "font": {
           "color": "#2a3f5f"
          },
          "geo": {
           "bgcolor": "white",
           "lakecolor": "white",
           "landcolor": "white",
           "showlakes": true,
           "showland": true,
           "subunitcolor": "#C8D4E3"
          },
          "hoverlabel": {
           "align": "left"
          },
          "hovermode": "closest",
          "mapbox": {
           "style": "light"
          },
          "paper_bgcolor": "white",
          "plot_bgcolor": "white",
          "polar": {
           "angularaxis": {
            "gridcolor": "#EBF0F8",
            "linecolor": "#EBF0F8",
            "ticks": ""
           },
           "bgcolor": "white",
           "radialaxis": {
            "gridcolor": "#EBF0F8",
            "linecolor": "#EBF0F8",
            "ticks": ""
           }
          },
          "scene": {
           "xaxis": {
            "backgroundcolor": "white",
            "gridcolor": "#DFE8F3",
            "gridwidth": 2,
            "linecolor": "#EBF0F8",
            "showbackground": true,
            "ticks": "",
            "zerolinecolor": "#EBF0F8"
           },
           "yaxis": {
            "backgroundcolor": "white",
            "gridcolor": "#DFE8F3",
            "gridwidth": 2,
            "linecolor": "#EBF0F8",
            "showbackground": true,
            "ticks": "",
            "zerolinecolor": "#EBF0F8"
           },
           "zaxis": {
            "backgroundcolor": "white",
            "gridcolor": "#DFE8F3",
            "gridwidth": 2,
            "linecolor": "#EBF0F8",
            "showbackground": true,
            "ticks": "",
            "zerolinecolor": "#EBF0F8"
           }
          },
          "shapedefaults": {
           "line": {
            "color": "#2a3f5f"
           }
          },
          "ternary": {
           "aaxis": {
            "gridcolor": "#DFE8F3",
            "linecolor": "#A2B1C6",
            "ticks": ""
           },
           "baxis": {
            "gridcolor": "#DFE8F3",
            "linecolor": "#A2B1C6",
            "ticks": ""
           },
           "bgcolor": "white",
           "caxis": {
            "gridcolor": "#DFE8F3",
            "linecolor": "#A2B1C6",
            "ticks": ""
           }
          },
          "title": {
           "x": 0.05
          },
          "xaxis": {
           "automargin": true,
           "gridcolor": "#EBF0F8",
           "linecolor": "#EBF0F8",
           "ticks": "",
           "title": {
            "standoff": 15
           },
           "zerolinecolor": "#EBF0F8",
           "zerolinewidth": 2
          },
          "yaxis": {
           "automargin": true,
           "gridcolor": "#EBF0F8",
           "linecolor": "#EBF0F8",
           "ticks": "",
           "title": {
            "standoff": 15
           },
           "zerolinecolor": "#EBF0F8",
           "zerolinewidth": 2
          }
         }
        },
        "xaxis": {
         "anchor": "y",
         "domain": [
          0,
          1
         ],
         "title": {
          "text": "Date de la COP27"
         },
         "tickmode": "linear"
        },
        "yaxis": {
         "anchor": "x",
         "domain": [
          0,
          1
         ],
         "title": {
          "text": "% du volume médiatique"
         },
         "tickformat": "0%"
        },
        "legend": {
         "title": {
          "text": ""
         },
         "tracegroupgap": 0
        },
        "margin": {
         "t": 60
        },
        "font": {
         "family": "Poppins"
        },
        "title": {
         "text": "Evolution des volumes médiatiques par chaîne TV généralistes sur la COP27"
        }
       },
       "config": {
        "plotlyServerURL": "https://plot.ly"
       }
      }
     },
     "metadata": {}
    }
   ],
   "metadata": {}
  },
  {
   "cell_type": "code",
   "execution_count": 63,
   "source": [
    "ranking_chart_data = ranking.query(\"media2=='TV - Information en continu' and keyword=='COP27'\")\n",
    "rank_col = \"media_part\"\n",
    "\n",
    "annot_labels_data = (ranking_chart_data\n",
    "                     .loc[ ranking_chart_data[\"day_dt\"].map(lambda x : x.day)==7]\n",
    "                     .sort_values(rank_col,ascending = False)\n",
    "                    )\n",
    "\n",
    "fig = px.line(\n",
    "    ranking_chart_data,\n",
    "    x = \"day_dt\",\n",
    "    y = rank_col,\n",
    "    color = \"channel_name\",\n",
    "    text = rank_col,\n",
    "    markers = True,\n",
    "    color_discrete_sequence = make_ws_palette(len(annot_labels_data)),\n",
    "    category_orders = {\"channel_name\":annot_labels_data[\"channel_name\"].tolist()}\n",
    ")\n",
    "\n",
    "# fig.update_traces(marker=dict(size=15),selector=dict(mode='markers'))\n",
    "fig.update_layout(\n",
    "    yaxis_tickformat='0%',font_family=\"Poppins\",yaxis_title=\"% du volume médiatique\",\n",
    "    title = \"Evolution des volumes médiatiques par chaîne TV d'infos en continu sur la COP27\",\n",
    "    xaxis_tickmode = \"linear\",\n",
    "    xaxis_title = \"Date de la COP27\",\n",
    "    legend_title = \"\",\n",
    ")\n",
    "fig.update_layout()\n",
    "fig.update_traces(\n",
    "#     marker_size= 40,\n",
    "    texttemplate=\"%{y:.1%}\",\n",
    "#     marker = dict(line=dict(width=2)),\n",
    "    textposition=\"top center\",\n",
    "    textfont_size=13,\n",
    "#     textfont_color=\"white\"\n",
    ")\n",
    "\n",
    "fig"
   ],
   "outputs": [
    {
     "output_type": "display_data",
     "data": {
      "application/vnd.plotly.v1+json": {
       "data": [
        {
         "hovertemplate": "channel_name=France 24<br>day_dt=%{x}<br>media_part=%{text}<extra></extra>",
         "legendgroup": "France 24",
         "line": {
          "color": "rgb(47,120,181)",
          "dash": "solid"
         },
         "marker": {
          "symbol": "circle"
         },
         "mode": "lines+markers+text",
         "name": "France 24",
         "orientation": "v",
         "showlegend": true,
         "text": [
          0.02962962962962963,
          0.04814814814814815,
          0.07592592592592592,
          0.053703703703703705,
          0.040740740740740744,
          0.05,
          0.07592592592592592
         ],
         "x": [
          "2022-11-05",
          "2022-11-06",
          "2022-11-07",
          "2022-11-08",
          "2022-11-09",
          "2022-11-10",
          "2022-11-11"
         ],
         "xaxis": "x",
         "y": [
          0.02962962962962963,
          0.04814814814814815,
          0.07592592592592592,
          0.053703703703703705,
          0.040740740740740744,
          0.05,
          0.07592592592592592
         ],
         "yaxis": "y",
         "type": "scatter",
         "textfont": {
          "size": 13
         },
         "textposition": "top center",
         "texttemplate": "%{y:.1%}"
        },
        {
         "hovertemplate": "channel_name=France Info:<br>day_dt=%{x}<br>media_part=%{text}<extra></extra>",
         "legendgroup": "France Info:",
         "line": {
          "color": "rgb(135,190,218)",
          "dash": "solid"
         },
         "marker": {
          "symbol": "circle"
         },
         "mode": "lines+markers+text",
         "name": "France Info:",
         "orientation": "v",
         "showlegend": true,
         "text": [
          0.016666666666666666,
          0.044444444444444446,
          0.06851851851851852,
          0.040740740740740744,
          0.007407407407407408,
          0.003703703703703704,
          0.022222222222222223
         ],
         "x": [
          "2022-11-05",
          "2022-11-06",
          "2022-11-07",
          "2022-11-08",
          "2022-11-09",
          "2022-11-10",
          "2022-11-11"
         ],
         "xaxis": "x",
         "y": [
          0.016666666666666666,
          0.044444444444444446,
          0.06851851851851852,
          0.040740740740740744,
          0.007407407407407408,
          0.003703703703703704,
          0.022222222222222223
         ],
         "yaxis": "y",
         "type": "scatter",
         "textfont": {
          "size": 13
         },
         "textposition": "top center",
         "texttemplate": "%{y:.1%}"
        },
        {
         "hovertemplate": "channel_name=LCI<br>day_dt=%{x}<br>media_part=%{text}<extra></extra>",
         "legendgroup": "LCI",
         "line": {
          "color": "rgb(219,233,241)",
          "dash": "solid"
         },
         "marker": {
          "symbol": "circle"
         },
         "mode": "lines+markers+text",
         "name": "LCI",
         "orientation": "v",
         "showlegend": true,
         "text": [
          0,
          0.016666666666666666,
          0.044444444444444446,
          0.016666666666666666,
          0.001851851851851852,
          0.009259259259259259,
          0.001851851851851852
         ],
         "x": [
          "2022-11-05",
          "2022-11-06",
          "2022-11-07",
          "2022-11-08",
          "2022-11-09",
          "2022-11-10",
          "2022-11-11"
         ],
         "xaxis": "x",
         "y": [
          0,
          0.016666666666666666,
          0.044444444444444446,
          0.016666666666666666,
          0.001851851851851852,
          0.009259259259259259,
          0.001851851851851852
         ],
         "yaxis": "y",
         "type": "scatter",
         "textfont": {
          "size": 13
         },
         "textposition": "top center",
         "texttemplate": "%{y:.1%}"
        },
        {
         "hovertemplate": "channel_name=BFMTV<br>day_dt=%{x}<br>media_part=%{text}<extra></extra>",
         "legendgroup": "BFMTV",
         "line": {
          "color": "rgb(251,226,212)",
          "dash": "solid"
         },
         "marker": {
          "symbol": "circle"
         },
         "mode": "lines+markers+text",
         "name": "BFMTV",
         "orientation": "v",
         "showlegend": true,
         "text": [
          0.005555555555555556,
          0.025925925925925925,
          0.03518518518518519,
          0.005555555555555556,
          0.001851851851851852,
          0,
          0.001851851851851852
         ],
         "x": [
          "2022-11-05",
          "2022-11-06",
          "2022-11-07",
          "2022-11-08",
          "2022-11-09",
          "2022-11-10",
          "2022-11-11"
         ],
         "xaxis": "x",
         "y": [
          0.005555555555555556,
          0.025925925925925925,
          0.03518518518518519,
          0.005555555555555556,
          0.001851851851851852,
          0,
          0.001851851851851852
         ],
         "yaxis": "y",
         "type": "scatter",
         "textfont": {
          "size": 13
         },
         "textposition": "top center",
         "texttemplate": "%{y:.1%}"
        },
        {
         "hovertemplate": "channel_name=CNEWS<br>day_dt=%{x}<br>media_part=%{text}<extra></extra>",
         "legendgroup": "CNEWS",
         "line": {
          "color": "rgb(239,155,122)",
          "dash": "solid"
         },
         "marker": {
          "symbol": "circle"
         },
         "mode": "lines+markers+text",
         "name": "CNEWS",
         "orientation": "v",
         "showlegend": true,
         "text": [
          0.003703703703703704,
          0.012962962962962963,
          0.03518518518518519,
          0.012962962962962963,
          0.001851851851851852,
          0.007407407407407408,
          0
         ],
         "x": [
          "2022-11-05",
          "2022-11-06",
          "2022-11-07",
          "2022-11-08",
          "2022-11-09",
          "2022-11-10",
          "2022-11-11"
         ],
         "xaxis": "x",
         "y": [
          0.003703703703703704,
          0.012962962962962963,
          0.03518518518518519,
          0.012962962962962963,
          0.001851851851851852,
          0.007407407407407408,
          0
         ],
         "yaxis": "y",
         "type": "scatter",
         "textfont": {
          "size": 13
         },
         "textposition": "top center",
         "texttemplate": "%{y:.1%}"
        },
        {
         "hovertemplate": "channel_name=LCP<br>day_dt=%{x}<br>media_part=%{text}<extra></extra>",
         "legendgroup": "LCP",
         "line": {
          "color": "rgb(192,53,56)",
          "dash": "solid"
         },
         "marker": {
          "symbol": "circle"
         },
         "mode": "lines+markers+text",
         "name": "LCP",
         "orientation": "v",
         "showlegend": true,
         "text": [
          0,
          0,
          0.005555555555555556,
          0.016666666666666666,
          0.007407407407407408,
          0.001851851851851852,
          0
         ],
         "x": [
          "2022-11-05",
          "2022-11-06",
          "2022-11-07",
          "2022-11-08",
          "2022-11-09",
          "2022-11-10",
          "2022-11-11"
         ],
         "xaxis": "x",
         "y": [
          0,
          0,
          0.005555555555555556,
          0.016666666666666666,
          0.007407407407407408,
          0.001851851851851852,
          0
         ],
         "yaxis": "y",
         "type": "scatter",
         "textfont": {
          "size": 13
         },
         "textposition": "top center",
         "texttemplate": "%{y:.1%}"
        }
       ],
       "layout": {
        "template": {
         "data": {
          "barpolar": [
           {
            "marker": {
             "line": {
              "color": "white",
              "width": 0.5
             },
             "pattern": {
              "fillmode": "overlay",
              "size": 10,
              "solidity": 0.2
             }
            },
            "type": "barpolar"
           }
          ],
          "bar": [
           {
            "error_x": {
             "color": "#2a3f5f"
            },
            "error_y": {
             "color": "#2a3f5f"
            },
            "marker": {
             "line": {
              "color": "white",
              "width": 0.5
             },
             "pattern": {
              "fillmode": "overlay",
              "size": 10,
              "solidity": 0.2
             }
            },
            "type": "bar"
           }
          ],
          "carpet": [
           {
            "aaxis": {
             "endlinecolor": "#2a3f5f",
             "gridcolor": "#C8D4E3",
             "linecolor": "#C8D4E3",
             "minorgridcolor": "#C8D4E3",
             "startlinecolor": "#2a3f5f"
            },
            "baxis": {
             "endlinecolor": "#2a3f5f",
             "gridcolor": "#C8D4E3",
             "linecolor": "#C8D4E3",
             "minorgridcolor": "#C8D4E3",
             "startlinecolor": "#2a3f5f"
            },
            "type": "carpet"
           }
          ],
          "choropleth": [
           {
            "colorbar": {
             "outlinewidth": 0,
             "ticks": ""
            },
            "type": "choropleth"
           }
          ],
          "contourcarpet": [
           {
            "colorbar": {
             "outlinewidth": 0,
             "ticks": ""
            },
            "type": "contourcarpet"
           }
          ],
          "contour": [
           {
            "colorbar": {
             "outlinewidth": 0,
             "ticks": ""
            },
            "colorscale": [
             [
              0,
              "#0d0887"
             ],
             [
              0.1111111111111111,
              "#46039f"
             ],
             [
              0.2222222222222222,
              "#7201a8"
             ],
             [
              0.3333333333333333,
              "#9c179e"
             ],
             [
              0.4444444444444444,
              "#bd3786"
             ],
             [
              0.5555555555555556,
              "#d8576b"
             ],
             [
              0.6666666666666666,
              "#ed7953"
             ],
             [
              0.7777777777777778,
              "#fb9f3a"
             ],
             [
              0.8888888888888888,
              "#fdca26"
             ],
             [
              1,
              "#f0f921"
             ]
            ],
            "type": "contour"
           }
          ],
          "heatmapgl": [
           {
            "colorbar": {
             "outlinewidth": 0,
             "ticks": ""
            },
            "colorscale": [
             [
              0,
              "#0d0887"
             ],
             [
              0.1111111111111111,
              "#46039f"
             ],
             [
              0.2222222222222222,
              "#7201a8"
             ],
             [
              0.3333333333333333,
              "#9c179e"
             ],
             [
              0.4444444444444444,
              "#bd3786"
             ],
             [
              0.5555555555555556,
              "#d8576b"
             ],
             [
              0.6666666666666666,
              "#ed7953"
             ],
             [
              0.7777777777777778,
              "#fb9f3a"
             ],
             [
              0.8888888888888888,
              "#fdca26"
             ],
             [
              1,
              "#f0f921"
             ]
            ],
            "type": "heatmapgl"
           }
          ],
          "heatmap": [
           {
            "colorbar": {
             "outlinewidth": 0,
             "ticks": ""
            },
            "colorscale": [
             [
              0,
              "#0d0887"
             ],
             [
              0.1111111111111111,
              "#46039f"
             ],
             [
              0.2222222222222222,
              "#7201a8"
             ],
             [
              0.3333333333333333,
              "#9c179e"
             ],
             [
              0.4444444444444444,
              "#bd3786"
             ],
             [
              0.5555555555555556,
              "#d8576b"
             ],
             [
              0.6666666666666666,
              "#ed7953"
             ],
             [
              0.7777777777777778,
              "#fb9f3a"
             ],
             [
              0.8888888888888888,
              "#fdca26"
             ],
             [
              1,
              "#f0f921"
             ]
            ],
            "type": "heatmap"
           }
          ],
          "histogram2dcontour": [
           {
            "colorbar": {
             "outlinewidth": 0,
             "ticks": ""
            },
            "colorscale": [
             [
              0,
              "#0d0887"
             ],
             [
              0.1111111111111111,
              "#46039f"
             ],
             [
              0.2222222222222222,
              "#7201a8"
             ],
             [
              0.3333333333333333,
              "#9c179e"
             ],
             [
              0.4444444444444444,
              "#bd3786"
             ],
             [
              0.5555555555555556,
              "#d8576b"
             ],
             [
              0.6666666666666666,
              "#ed7953"
             ],
             [
              0.7777777777777778,
              "#fb9f3a"
             ],
             [
              0.8888888888888888,
              "#fdca26"
             ],
             [
              1,
              "#f0f921"
             ]
            ],
            "type": "histogram2dcontour"
           }
          ],
          "histogram2d": [
           {
            "colorbar": {
             "outlinewidth": 0,
             "ticks": ""
            },
            "colorscale": [
             [
              0,
              "#0d0887"
             ],
             [
              0.1111111111111111,
              "#46039f"
             ],
             [
              0.2222222222222222,
              "#7201a8"
             ],
             [
              0.3333333333333333,
              "#9c179e"
             ],
             [
              0.4444444444444444,
              "#bd3786"
             ],
             [
              0.5555555555555556,
              "#d8576b"
             ],
             [
              0.6666666666666666,
              "#ed7953"
             ],
             [
              0.7777777777777778,
              "#fb9f3a"
             ],
             [
              0.8888888888888888,
              "#fdca26"
             ],
             [
              1,
              "#f0f921"
             ]
            ],
            "type": "histogram2d"
           }
          ],
          "histogram": [
           {
            "marker": {
             "pattern": {
              "fillmode": "overlay",
              "size": 10,
              "solidity": 0.2
             }
            },
            "type": "histogram"
           }
          ],
          "mesh3d": [
           {
            "colorbar": {
             "outlinewidth": 0,
             "ticks": ""
            },
            "type": "mesh3d"
           }
          ],
          "parcoords": [
           {
            "line": {
             "colorbar": {
              "outlinewidth": 0,
              "ticks": ""
             }
            },
            "type": "parcoords"
           }
          ],
          "pie": [
           {
            "automargin": true,
            "type": "pie"
           }
          ],
          "scatter3d": [
           {
            "line": {
             "colorbar": {
              "outlinewidth": 0,
              "ticks": ""
             }
            },
            "marker": {
             "colorbar": {
              "outlinewidth": 0,
              "ticks": ""
             }
            },
            "type": "scatter3d"
           }
          ],
          "scattercarpet": [
           {
            "marker": {
             "colorbar": {
              "outlinewidth": 0,
              "ticks": ""
             }
            },
            "type": "scattercarpet"
           }
          ],
          "scattergeo": [
           {
            "marker": {
             "colorbar": {
              "outlinewidth": 0,
              "ticks": ""
             }
            },
            "type": "scattergeo"
           }
          ],
          "scattergl": [
           {
            "marker": {
             "colorbar": {
              "outlinewidth": 0,
              "ticks": ""
             }
            },
            "type": "scattergl"
           }
          ],
          "scattermapbox": [
           {
            "marker": {
             "colorbar": {
              "outlinewidth": 0,
              "ticks": ""
             }
            },
            "type": "scattermapbox"
           }
          ],
          "scatterpolargl": [
           {
            "marker": {
             "colorbar": {
              "outlinewidth": 0,
              "ticks": ""
             }
            },
            "type": "scatterpolargl"
           }
          ],
          "scatterpolar": [
           {
            "marker": {
             "colorbar": {
              "outlinewidth": 0,
              "ticks": ""
             }
            },
            "type": "scatterpolar"
           }
          ],
          "scatter": [
           {
            "fillpattern": {
             "fillmode": "overlay",
             "size": 10,
             "solidity": 0.2
            },
            "type": "scatter"
           }
          ],
          "scatterternary": [
           {
            "marker": {
             "colorbar": {
              "outlinewidth": 0,
              "ticks": ""
             }
            },
            "type": "scatterternary"
           }
          ],
          "surface": [
           {
            "colorbar": {
             "outlinewidth": 0,
             "ticks": ""
            },
            "colorscale": [
             [
              0,
              "#0d0887"
             ],
             [
              0.1111111111111111,
              "#46039f"
             ],
             [
              0.2222222222222222,
              "#7201a8"
             ],
             [
              0.3333333333333333,
              "#9c179e"
             ],
             [
              0.4444444444444444,
              "#bd3786"
             ],
             [
              0.5555555555555556,
              "#d8576b"
             ],
             [
              0.6666666666666666,
              "#ed7953"
             ],
             [
              0.7777777777777778,
              "#fb9f3a"
             ],
             [
              0.8888888888888888,
              "#fdca26"
             ],
             [
              1,
              "#f0f921"
             ]
            ],
            "type": "surface"
           }
          ],
          "table": [
           {
            "cells": {
             "fill": {
              "color": "#EBF0F8"
             },
             "line": {
              "color": "white"
             }
            },
            "header": {
             "fill": {
              "color": "#C8D4E3"
             },
             "line": {
              "color": "white"
             }
            },
            "type": "table"
           }
          ]
         },
         "layout": {
          "annotationdefaults": {
           "arrowcolor": "#2a3f5f",
           "arrowhead": 0,
           "arrowwidth": 1
          },
          "autotypenumbers": "strict",
          "coloraxis": {
           "colorbar": {
            "outlinewidth": 0,
            "ticks": ""
           }
          },
          "colorscale": {
           "diverging": [
            [
             0,
             "#8e0152"
            ],
            [
             0.1,
             "#c51b7d"
            ],
            [
             0.2,
             "#de77ae"
            ],
            [
             0.3,
             "#f1b6da"
            ],
            [
             0.4,
             "#fde0ef"
            ],
            [
             0.5,
             "#f7f7f7"
            ],
            [
             0.6,
             "#e6f5d0"
            ],
            [
             0.7,
             "#b8e186"
            ],
            [
             0.8,
             "#7fbc41"
            ],
            [
             0.9,
             "#4d9221"
            ],
            [
             1,
             "#276419"
            ]
           ],
           "sequential": [
            [
             0,
             "#0d0887"
            ],
            [
             0.1111111111111111,
             "#46039f"
            ],
            [
             0.2222222222222222,
             "#7201a8"
            ],
            [
             0.3333333333333333,
             "#9c179e"
            ],
            [
             0.4444444444444444,
             "#bd3786"
            ],
            [
             0.5555555555555556,
             "#d8576b"
            ],
            [
             0.6666666666666666,
             "#ed7953"
            ],
            [
             0.7777777777777778,
             "#fb9f3a"
            ],
            [
             0.8888888888888888,
             "#fdca26"
            ],
            [
             1,
             "#f0f921"
            ]
           ],
           "sequentialminus": [
            [
             0,
             "#0d0887"
            ],
            [
             0.1111111111111111,
             "#46039f"
            ],
            [
             0.2222222222222222,
             "#7201a8"
            ],
            [
             0.3333333333333333,
             "#9c179e"
            ],
            [
             0.4444444444444444,
             "#bd3786"
            ],
            [
             0.5555555555555556,
             "#d8576b"
            ],
            [
             0.6666666666666666,
             "#ed7953"
            ],
            [
             0.7777777777777778,
             "#fb9f3a"
            ],
            [
             0.8888888888888888,
             "#fdca26"
            ],
            [
             1,
             "#f0f921"
            ]
           ]
          },
          "colorway": [
           "#636efa",
           "#EF553B",
           "#00cc96",
           "#ab63fa",
           "#FFA15A",
           "#19d3f3",
           "#FF6692",
           "#B6E880",
           "#FF97FF",
           "#FECB52"
          ],
          "font": {
           "color": "#2a3f5f"
          },
          "geo": {
           "bgcolor": "white",
           "lakecolor": "white",
           "landcolor": "white",
           "showlakes": true,
           "showland": true,
           "subunitcolor": "#C8D4E3"
          },
          "hoverlabel": {
           "align": "left"
          },
          "hovermode": "closest",
          "mapbox": {
           "style": "light"
          },
          "paper_bgcolor": "white",
          "plot_bgcolor": "white",
          "polar": {
           "angularaxis": {
            "gridcolor": "#EBF0F8",
            "linecolor": "#EBF0F8",
            "ticks": ""
           },
           "bgcolor": "white",
           "radialaxis": {
            "gridcolor": "#EBF0F8",
            "linecolor": "#EBF0F8",
            "ticks": ""
           }
          },
          "scene": {
           "xaxis": {
            "backgroundcolor": "white",
            "gridcolor": "#DFE8F3",
            "gridwidth": 2,
            "linecolor": "#EBF0F8",
            "showbackground": true,
            "ticks": "",
            "zerolinecolor": "#EBF0F8"
           },
           "yaxis": {
            "backgroundcolor": "white",
            "gridcolor": "#DFE8F3",
            "gridwidth": 2,
            "linecolor": "#EBF0F8",
            "showbackground": true,
            "ticks": "",
            "zerolinecolor": "#EBF0F8"
           },
           "zaxis": {
            "backgroundcolor": "white",
            "gridcolor": "#DFE8F3",
            "gridwidth": 2,
            "linecolor": "#EBF0F8",
            "showbackground": true,
            "ticks": "",
            "zerolinecolor": "#EBF0F8"
           }
          },
          "shapedefaults": {
           "line": {
            "color": "#2a3f5f"
           }
          },
          "ternary": {
           "aaxis": {
            "gridcolor": "#DFE8F3",
            "linecolor": "#A2B1C6",
            "ticks": ""
           },
           "baxis": {
            "gridcolor": "#DFE8F3",
            "linecolor": "#A2B1C6",
            "ticks": ""
           },
           "bgcolor": "white",
           "caxis": {
            "gridcolor": "#DFE8F3",
            "linecolor": "#A2B1C6",
            "ticks": ""
           }
          },
          "title": {
           "x": 0.05
          },
          "xaxis": {
           "automargin": true,
           "gridcolor": "#EBF0F8",
           "linecolor": "#EBF0F8",
           "ticks": "",
           "title": {
            "standoff": 15
           },
           "zerolinecolor": "#EBF0F8",
           "zerolinewidth": 2
          },
          "yaxis": {
           "automargin": true,
           "gridcolor": "#EBF0F8",
           "linecolor": "#EBF0F8",
           "ticks": "",
           "title": {
            "standoff": 15
           },
           "zerolinecolor": "#EBF0F8",
           "zerolinewidth": 2
          }
         }
        },
        "xaxis": {
         "anchor": "y",
         "domain": [
          0,
          1
         ],
         "title": {
          "text": "Date de la COP27"
         },
         "tickmode": "linear"
        },
        "yaxis": {
         "anchor": "x",
         "domain": [
          0,
          1
         ],
         "title": {
          "text": "% du volume médiatique"
         },
         "tickformat": "0%"
        },
        "legend": {
         "title": {
          "text": ""
         },
         "tracegroupgap": 0
        },
        "margin": {
         "t": 60
        },
        "font": {
         "family": "Poppins"
        },
        "title": {
         "text": "Evolution des volumes médiatiques par chaîne TV d'infos en continu sur la COP27"
        }
       },
       "config": {
        "plotlyServerURL": "https://plot.ly"
       }
      }
     },
     "metadata": {}
    }
   ],
   "metadata": {}
  },
  {
   "cell_type": "code",
   "execution_count": 64,
   "source": [
    "ranking_chart_data = ranking.query(\"media2=='Radio' and keyword=='COP27'\")\n",
    "rank_col = \"media_part\"\n",
    "\n",
    "annot_labels_data = (ranking_chart_data\n",
    "                     .loc[ ranking_chart_data[\"day_dt\"].map(lambda x : x.day)==7]\n",
    "                     .sort_values(rank_col,ascending = False)\n",
    "                    )\n",
    "\n",
    "fig = px.line(\n",
    "    ranking_chart_data,\n",
    "    x = \"day_dt\",\n",
    "    y = rank_col,\n",
    "    color = \"channel_name\",\n",
    "    text = rank_col,\n",
    "    markers = True,\n",
    "    color_discrete_sequence = make_ws_palette(len(annot_labels_data)),\n",
    "    category_orders = {\"channel_name\":annot_labels_data[\"channel_name\"].tolist()}\n",
    ")\n",
    "\n",
    "# fig.update_traces(marker=dict(size=15),selector=dict(mode='markers'))\n",
    "fig.update_layout(\n",
    "    yaxis_tickformat='0%',font_family=\"Poppins\",yaxis_title=\"% du volume médiatique\",\n",
    "    title = \"Evolution des volumes médiatiques par chaîne Radio sur la COP27\",\n",
    "    xaxis_tickmode = \"linear\",\n",
    "    xaxis_title = \"Date de la COP27\",\n",
    "    legend_title = \"\",\n",
    ")\n",
    "fig.update_layout()\n",
    "fig.update_traces(\n",
    "#     marker_size= 40,\n",
    "    texttemplate=\"%{y:.1%}\",\n",
    "#     marker = dict(line=dict(width=2)),\n",
    "    textposition=\"top center\",\n",
    "    textfont_size=12,\n",
    "#     textfont_color=\"white\"\n",
    ")\n",
    "\n",
    "fig"
   ],
   "outputs": [
    {
     "output_type": "display_data",
     "data": {
      "application/vnd.plotly.v1+json": {
       "data": [
        {
         "hovertemplate": "channel_name=France Info<br>day_dt=%{x}<br>media_part=%{text}<extra></extra>",
         "legendgroup": "France Info",
         "line": {
          "color": "rgb(17,71,129)",
          "dash": "solid"
         },
         "marker": {
          "symbol": "circle"
         },
         "mode": "lines+markers+text",
         "name": "France Info",
         "orientation": "v",
         "showlegend": true,
         "text": [
          0.06296296296296296,
          0.07777777777777778,
          0.12037037037037036,
          0.027777777777777776,
          0.009259259259259259,
          0.003703703703703704,
          0.04259259259259259
         ],
         "x": [
          "2022-11-05",
          "2022-11-06",
          "2022-11-07",
          "2022-11-08",
          "2022-11-09",
          "2022-11-10",
          "2022-11-11"
         ],
         "xaxis": "x",
         "y": [
          0.06296296296296296,
          0.07777777777777778,
          0.12037037037037036,
          0.027777777777777776,
          0.009259259259259259,
          0.003703703703703704,
          0.04259259259259259
         ],
         "yaxis": "y",
         "type": "scatter",
         "textfont": {
          "size": 12
         },
         "textposition": "top center",
         "texttemplate": "%{y:.1%}"
        },
        {
         "hovertemplate": "channel_name=BFM Business Radio<br>day_dt=%{x}<br>media_part=%{text}<extra></extra>",
         "legendgroup": "BFM Business Radio",
         "line": {
          "color": "rgb(29,94,161)",
          "dash": "solid"
         },
         "marker": {
          "symbol": "circle"
         },
         "mode": "lines+markers+text",
         "name": "BFM Business Radio",
         "orientation": "v",
         "showlegend": true,
         "text": [
          0.011111111111111112,
          0.005555555555555556,
          0.05,
          0.025925925925925925,
          0.011111111111111112,
          0.009259259259259259,
          0.007407407407407408
         ],
         "x": [
          "2022-11-05",
          "2022-11-06",
          "2022-11-07",
          "2022-11-08",
          "2022-11-09",
          "2022-11-10",
          "2022-11-11"
         ],
         "xaxis": "x",
         "y": [
          0.011111111111111112,
          0.005555555555555556,
          0.05,
          0.025925925925925925,
          0.011111111111111112,
          0.009259259259259259,
          0.007407407407407408
         ],
         "yaxis": "y",
         "type": "scatter",
         "textfont": {
          "size": 12
         },
         "textposition": "top center",
         "texttemplate": "%{y:.1%}"
        },
        {
         "hovertemplate": "channel_name=RFI<br>day_dt=%{x}<br>media_part=%{text}<extra></extra>",
         "legendgroup": "RFI",
         "line": {
          "color": "rgb(43,115,178)",
          "dash": "solid"
         },
         "marker": {
          "symbol": "circle"
         },
         "mode": "lines+markers+text",
         "name": "RFI",
         "orientation": "v",
         "showlegend": true,
         "text": [
          0.02962962962962963,
          0.03518518518518519,
          0.046296296296296294,
          0.03888888888888889,
          0.03333333333333333,
          0.018518518518518517,
          0.04259259259259259
         ],
         "x": [
          "2022-11-05",
          "2022-11-06",
          "2022-11-07",
          "2022-11-08",
          "2022-11-09",
          "2022-11-10",
          "2022-11-11"
         ],
         "xaxis": "x",
         "y": [
          0.02962962962962963,
          0.03518518518518519,
          0.046296296296296294,
          0.03888888888888889,
          0.03333333333333333,
          0.018518518518518517,
          0.04259259259259259
         ],
         "yaxis": "y",
         "type": "scatter",
         "textfont": {
          "size": 12
         },
         "textposition": "top center",
         "texttemplate": "%{y:.1%}"
        },
        {
         "hovertemplate": "channel_name=RTL<br>day_dt=%{x}<br>media_part=%{text}<extra></extra>",
         "legendgroup": "RTL",
         "line": {
          "color": "rgb(57,134,188)",
          "dash": "solid"
         },
         "marker": {
          "symbol": "circle"
         },
         "mode": "lines+markers+text",
         "name": "RTL",
         "orientation": "v",
         "showlegend": true,
         "text": [
          0.020370370370370372,
          0.027777777777777776,
          0.03518518518518519,
          0.005555555555555556,
          0,
          0.001851851851851852,
          0.005555555555555556
         ],
         "x": [
          "2022-11-05",
          "2022-11-06",
          "2022-11-07",
          "2022-11-08",
          "2022-11-09",
          "2022-11-10",
          "2022-11-11"
         ],
         "xaxis": "x",
         "y": [
          0.020370370370370372,
          0.027777777777777776,
          0.03518518518518519,
          0.005555555555555556,
          0,
          0.001851851851851852,
          0.005555555555555556
         ],
         "yaxis": "y",
         "type": "scatter",
         "textfont": {
          "size": 12
         },
         "textposition": "top center",
         "texttemplate": "%{y:.1%}"
        },
        {
         "hovertemplate": "channel_name=France Inter<br>day_dt=%{x}<br>media_part=%{text}<extra></extra>",
         "legendgroup": "France Inter",
         "line": {
          "color": "rgb(79,154,199)",
          "dash": "solid"
         },
         "marker": {
          "symbol": "circle"
         },
         "mode": "lines+markers+text",
         "name": "France Inter",
         "orientation": "v",
         "showlegend": true,
         "text": [
          0.011111111111111112,
          0.025925925925925925,
          0.02962962962962963,
          0.005555555555555556,
          0.011111111111111112,
          0.011111111111111112,
          0.024074074074074074
         ],
         "x": [
          "2022-11-05",
          "2022-11-06",
          "2022-11-07",
          "2022-11-08",
          "2022-11-09",
          "2022-11-10",
          "2022-11-11"
         ],
         "xaxis": "x",
         "y": [
          0.011111111111111112,
          0.025925925925925925,
          0.02962962962962963,
          0.005555555555555556,
          0.011111111111111112,
          0.011111111111111112,
          0.024074074074074074
         ],
         "yaxis": "y",
         "type": "scatter",
         "textfont": {
          "size": 12
         },
         "textposition": "top center",
         "texttemplate": "%{y:.1%}"
        },
        {
         "hovertemplate": "channel_name=France Culture<br>day_dt=%{x}<br>media_part=%{text}<extra></extra>",
         "legendgroup": "France Culture",
         "line": {
          "color": "rgb(113,176,210)",
          "dash": "solid"
         },
         "marker": {
          "symbol": "circle"
         },
         "mode": "lines+markers+text",
         "name": "France Culture",
         "orientation": "v",
         "showlegend": true,
         "text": [
          0.007407407407407408,
          0.007407407407407408,
          0.022222222222222223,
          0.018518518518518517,
          0.020370370370370372,
          0.001851851851851852,
          0.014814814814814815
         ],
         "x": [
          "2022-11-05",
          "2022-11-06",
          "2022-11-07",
          "2022-11-08",
          "2022-11-09",
          "2022-11-10",
          "2022-11-11"
         ],
         "xaxis": "x",
         "y": [
          0.007407407407407408,
          0.007407407407407408,
          0.022222222222222223,
          0.018518518518518517,
          0.020370370370370372,
          0.001851851851851852,
          0.014814814814814815
         ],
         "yaxis": "y",
         "type": "scatter",
         "textfont": {
          "size": 12
         },
         "textposition": "top center",
         "texttemplate": "%{y:.1%}"
        },
        {
         "hovertemplate": "channel_name=Radio Classique<br>day_dt=%{x}<br>media_part=%{text}<extra></extra>",
         "legendgroup": "Radio Classique",
         "line": {
          "color": "rgb(147,197,222)",
          "dash": "solid"
         },
         "marker": {
          "symbol": "circle"
         },
         "mode": "lines+markers+text",
         "name": "Radio Classique",
         "orientation": "v",
         "showlegend": true,
         "text": [
          0,
          0,
          0.022222222222222223,
          0.009259259259259259,
          0.005555555555555556,
          0.003703703703703704,
          0.007407407407407408
         ],
         "x": [
          "2022-11-05",
          "2022-11-06",
          "2022-11-07",
          "2022-11-08",
          "2022-11-09",
          "2022-11-10",
          "2022-11-11"
         ],
         "xaxis": "x",
         "y": [
          0,
          0,
          0.022222222222222223,
          0.009259259259259259,
          0.005555555555555556,
          0.003703703703703704,
          0.007407407407407408
         ],
         "yaxis": "y",
         "type": "scatter",
         "textfont": {
          "size": 12
         },
         "textposition": "top center",
         "texttemplate": "%{y:.1%}"
        },
        {
         "hovertemplate": "channel_name=RMC<br>day_dt=%{x}<br>media_part=%{text}<extra></extra>",
         "legendgroup": "RMC",
         "line": {
          "color": "rgb(176,212,230)",
          "dash": "solid"
         },
         "marker": {
          "symbol": "circle"
         },
         "mode": "lines+markers+text",
         "name": "RMC",
         "orientation": "v",
         "showlegend": true,
         "text": [
          0.003703703703703704,
          0.025925925925925925,
          0.020370370370370372,
          0.012962962962962963,
          0.001851851851851852,
          0,
          0.005555555555555556
         ],
         "x": [
          "2022-11-05",
          "2022-11-06",
          "2022-11-07",
          "2022-11-08",
          "2022-11-09",
          "2022-11-10",
          "2022-11-11"
         ],
         "xaxis": "x",
         "y": [
          0.003703703703703704,
          0.025925925925925925,
          0.020370370370370372,
          0.012962962962962963,
          0.001851851851851852,
          0,
          0.005555555555555556
         ],
         "yaxis": "y",
         "type": "scatter",
         "textfont": {
          "size": 12
         },
         "textposition": "top center",
         "texttemplate": "%{y:.1%}"
        },
        {
         "hovertemplate": "channel_name=Nova<br>day_dt=%{x}<br>media_part=%{text}<extra></extra>",
         "legendgroup": "Nova",
         "line": {
          "color": "rgb(204,226,238)",
          "dash": "solid"
         },
         "marker": {
          "symbol": "circle"
         },
         "mode": "lines+markers+text",
         "name": "Nova",
         "orientation": "v",
         "showlegend": true,
         "text": [
          0,
          0,
          0.012962962962962963,
          0.009259259259259259,
          0.014814814814814815,
          0,
          0
         ],
         "x": [
          "2022-11-05",
          "2022-11-06",
          "2022-11-07",
          "2022-11-08",
          "2022-11-09",
          "2022-11-10",
          "2022-11-11"
         ],
         "xaxis": "x",
         "y": [
          0,
          0,
          0.012962962962962963,
          0.009259259259259259,
          0.014814814814814815,
          0,
          0
         ],
         "yaxis": "y",
         "type": "scatter",
         "textfont": {
          "size": 12
         },
         "textposition": "top center",
         "texttemplate": "%{y:.1%}"
        },
        {
         "hovertemplate": "channel_name=Nostalgie<br>day_dt=%{x}<br>media_part=%{text}<extra></extra>",
         "legendgroup": "Nostalgie",
         "line": {
          "color": "rgb(222,235,242)",
          "dash": "solid"
         },
         "marker": {
          "symbol": "circle"
         },
         "mode": "lines+markers+text",
         "name": "Nostalgie",
         "orientation": "v",
         "showlegend": true,
         "text": [
          0,
          0.007407407407407408,
          0.012962962962962963,
          0.007407407407407408,
          0,
          0,
          0.003703703703703704
         ],
         "x": [
          "2022-11-05",
          "2022-11-06",
          "2022-11-07",
          "2022-11-08",
          "2022-11-09",
          "2022-11-10",
          "2022-11-11"
         ],
         "xaxis": "x",
         "y": [
          0,
          0.007407407407407408,
          0.012962962962962963,
          0.007407407407407408,
          0,
          0,
          0.003703703703703704
         ],
         "yaxis": "y",
         "type": "scatter",
         "textfont": {
          "size": 12
         },
         "textposition": "top center",
         "texttemplate": "%{y:.1%}"
        },
        {
         "hovertemplate": "channel_name=Chérie FM<br>day_dt=%{x}<br>media_part=%{text}<extra></extra>",
         "legendgroup": "Chérie FM",
         "line": {
          "color": "rgb(238,243,245)",
          "dash": "solid"
         },
         "marker": {
          "symbol": "circle"
         },
         "mode": "lines+markers+text",
         "name": "Chérie FM",
         "orientation": "v",
         "showlegend": true,
         "text": [
          0,
          0.001851851851851852,
          0.011111111111111112,
          0.009259259259259259,
          0.001851851851851852,
          0.003703703703703704,
          0.005555555555555556
         ],
         "x": [
          "2022-11-05",
          "2022-11-06",
          "2022-11-07",
          "2022-11-08",
          "2022-11-09",
          "2022-11-10",
          "2022-11-11"
         ],
         "xaxis": "x",
         "y": [
          0,
          0.001851851851851852,
          0.011111111111111112,
          0.009259259259259259,
          0.001851851851851852,
          0.003703703703703704,
          0.005555555555555556
         ],
         "yaxis": "y",
         "type": "scatter",
         "textfont": {
          "size": 12
         },
         "textposition": "top center",
         "texttemplate": "%{y:.1%}"
        },
        {
         "hovertemplate": "channel_name=Guadeloupe 1ère<br>day_dt=%{x}<br>media_part=%{text}<extra></extra>",
         "legendgroup": "Guadeloupe 1ère",
         "line": {
          "color": "rgb(248,240,236)",
          "dash": "solid"
         },
         "marker": {
          "symbol": "circle"
         },
         "mode": "lines+markers+text",
         "name": "Guadeloupe 1ère",
         "orientation": "v",
         "showlegend": true,
         "text": [
          0.001851851851851852,
          0.007407407407407408,
          0.009259259259259259,
          0.003703703703703704,
          0.001851851851851852,
          0,
          0
         ],
         "x": [
          "2022-11-05",
          "2022-11-06",
          "2022-11-07",
          "2022-11-08",
          "2022-11-09",
          "2022-11-10",
          "2022-11-11"
         ],
         "xaxis": "x",
         "y": [
          0.001851851851851852,
          0.007407407407407408,
          0.009259259259259259,
          0.003703703703703704,
          0.001851851851851852,
          0,
          0
         ],
         "yaxis": "y",
         "type": "scatter",
         "textfont": {
          "size": 12
         },
         "textposition": "top center",
         "texttemplate": "%{y:.1%}"
        },
        {
         "hovertemplate": "channel_name=NRJ<br>day_dt=%{x}<br>media_part=%{text}<extra></extra>",
         "legendgroup": "NRJ",
         "line": {
          "color": "rgb(250,228,215)",
          "dash": "solid"
         },
         "marker": {
          "symbol": "circle"
         },
         "mode": "lines+markers+text",
         "name": "NRJ",
         "orientation": "v",
         "showlegend": true,
         "text": [
          0,
          0,
          0.007407407407407408,
          0.007407407407407408,
          0,
          0,
          0
         ],
         "x": [
          "2022-11-05",
          "2022-11-06",
          "2022-11-07",
          "2022-11-08",
          "2022-11-09",
          "2022-11-10",
          "2022-11-11"
         ],
         "xaxis": "x",
         "y": [
          0,
          0,
          0.007407407407407408,
          0.007407407407407408,
          0,
          0,
          0
         ],
         "yaxis": "y",
         "type": "scatter",
         "textfont": {
          "size": 12
         },
         "textposition": "top center",
         "texttemplate": "%{y:.1%}"
        },
        {
         "hovertemplate": "channel_name=Le Mouv<br>day_dt=%{x}<br>media_part=%{text}<extra></extra>",
         "legendgroup": "Le Mouv",
         "line": {
          "color": "rgb(252,214,193)",
          "dash": "solid"
         },
         "marker": {
          "symbol": "circle"
         },
         "mode": "lines+markers+text",
         "name": "Le Mouv",
         "orientation": "v",
         "showlegend": true,
         "text": [
          0,
          0,
          0.005555555555555556,
          0,
          0,
          0,
          0
         ],
         "x": [
          "2022-11-05",
          "2022-11-06",
          "2022-11-07",
          "2022-11-08",
          "2022-11-09",
          "2022-11-10",
          "2022-11-11"
         ],
         "xaxis": "x",
         "y": [
          0,
          0,
          0.005555555555555556,
          0,
          0,
          0,
          0
         ],
         "yaxis": "y",
         "type": "scatter",
         "textfont": {
          "size": 12
         },
         "textposition": "top center",
         "texttemplate": "%{y:.1%}"
        },
        {
         "hovertemplate": "channel_name=Rire et Chansons<br>day_dt=%{x}<br>media_part=%{text}<extra></extra>",
         "legendgroup": "Rire et Chansons",
         "line": {
          "color": "rgb(248,191,163)",
          "dash": "solid"
         },
         "marker": {
          "symbol": "circle"
         },
         "mode": "lines+markers+text",
         "name": "Rire et Chansons",
         "orientation": "v",
         "showlegend": true,
         "text": [
          0,
          0,
          0.005555555555555556,
          0.007407407407407408,
          0.001851851851851852,
          0,
          0
         ],
         "x": [
          "2022-11-05",
          "2022-11-06",
          "2022-11-07",
          "2022-11-08",
          "2022-11-09",
          "2022-11-10",
          "2022-11-11"
         ],
         "xaxis": "x",
         "y": [
          0,
          0,
          0.005555555555555556,
          0.007407407407407408,
          0.001851851851851852,
          0,
          0
         ],
         "yaxis": "y",
         "type": "scatter",
         "textfont": {
          "size": 12
         },
         "textposition": "top center",
         "texttemplate": "%{y:.1%}"
        },
        {
         "hovertemplate": "channel_name=RTL2<br>day_dt=%{x}<br>media_part=%{text}<extra></extra>",
         "legendgroup": "RTL2",
         "line": {
          "color": "rgb(244,166,131)",
          "dash": "solid"
         },
         "marker": {
          "symbol": "circle"
         },
         "mode": "lines+markers+text",
         "name": "RTL2",
         "orientation": "v",
         "showlegend": true,
         "text": [
          0,
          0,
          0.003703703703703704,
          0,
          0,
          0,
          0
         ],
         "x": [
          "2022-11-05",
          "2022-11-06",
          "2022-11-07",
          "2022-11-08",
          "2022-11-09",
          "2022-11-10",
          "2022-11-11"
         ],
         "xaxis": "x",
         "y": [
          0,
          0,
          0.003703703703703704,
          0,
          0,
          0,
          0
         ],
         "yaxis": "y",
         "type": "scatter",
         "textfont": {
          "size": 12
         },
         "textposition": "top center",
         "texttemplate": "%{y:.1%}"
        },
        {
         "hovertemplate": "channel_name=France Musique<br>day_dt=%{x}<br>media_part=%{text}<extra></extra>",
         "legendgroup": "France Musique",
         "line": {
          "color": "rgb(231,136,108)",
          "dash": "solid"
         },
         "marker": {
          "symbol": "circle"
         },
         "mode": "lines+markers+text",
         "name": "France Musique",
         "orientation": "v",
         "showlegend": true,
         "text": [
          0,
          0,
          0.001851851851851852,
          0,
          0,
          0,
          0
         ],
         "x": [
          "2022-11-05",
          "2022-11-06",
          "2022-11-07",
          "2022-11-08",
          "2022-11-09",
          "2022-11-10",
          "2022-11-11"
         ],
         "xaxis": "x",
         "y": [
          0,
          0,
          0.001851851851851852,
          0,
          0,
          0,
          0
         ],
         "yaxis": "y",
         "type": "scatter",
         "textfont": {
          "size": 12
         },
         "textposition": "top center",
         "texttemplate": "%{y:.1%}"
        },
        {
         "hovertemplate": "channel_name=Skyrock<br>day_dt=%{x}<br>media_part=%{text}<extra></extra>",
         "legendgroup": "Skyrock",
         "line": {
          "color": "rgb(218,106,85)",
          "dash": "solid"
         },
         "marker": {
          "symbol": "circle"
         },
         "mode": "lines+markers+text",
         "name": "Skyrock",
         "orientation": "v",
         "showlegend": true,
         "text": [
          0,
          0,
          0.001851851851851852,
          0.003703703703703704,
          0,
          0,
          0
         ],
         "x": [
          "2022-11-05",
          "2022-11-06",
          "2022-11-07",
          "2022-11-08",
          "2022-11-09",
          "2022-11-10",
          "2022-11-11"
         ],
         "xaxis": "x",
         "y": [
          0,
          0,
          0.001851851851851852,
          0.003703703703703704,
          0,
          0,
          0
         ],
         "yaxis": "y",
         "type": "scatter",
         "textfont": {
          "size": 12
         },
         "textposition": "top center",
         "texttemplate": "%{y:.1%}"
        },
        {
         "hovertemplate": "channel_name=Latina<br>day_dt=%{x}<br>media_part=%{text}<extra></extra>",
         "legendgroup": "Latina",
         "line": {
          "color": "rgb(204,76,67)",
          "dash": "solid"
         },
         "marker": {
          "symbol": "circle"
         },
         "mode": "lines+markers+text",
         "name": "Latina",
         "orientation": "v",
         "showlegend": true,
         "text": [
          0,
          0,
          0,
          0,
          0,
          0,
          0
         ],
         "x": [
          "2022-11-05",
          "2022-11-06",
          "2022-11-07",
          "2022-11-08",
          "2022-11-09",
          "2022-11-10",
          "2022-11-11"
         ],
         "xaxis": "x",
         "y": [
          0,
          0,
          0,
          0,
          0,
          0,
          0
         ],
         "yaxis": "y",
         "type": "scatter",
         "textfont": {
          "size": 12
         },
         "textposition": "top center",
         "texttemplate": "%{y:.1%}"
        },
        {
         "hovertemplate": "channel_name=Fun Radio<br>day_dt=%{x}<br>media_part=%{text}<extra></extra>",
         "legendgroup": "Fun Radio",
         "line": {
          "color": "rgb(188,45,52)",
          "dash": "solid"
         },
         "marker": {
          "symbol": "circle"
         },
         "mode": "lines+markers+text",
         "name": "Fun Radio",
         "orientation": "v",
         "showlegend": true,
         "text": [
          0,
          0,
          0,
          0,
          0.001851851851851852,
          0,
          0
         ],
         "x": [
          "2022-11-05",
          "2022-11-06",
          "2022-11-07",
          "2022-11-08",
          "2022-11-09",
          "2022-11-10",
          "2022-11-11"
         ],
         "xaxis": "x",
         "y": [
          0,
          0,
          0,
          0,
          0.001851851851851852,
          0,
          0
         ],
         "yaxis": "y",
         "type": "scatter",
         "textfont": {
          "size": 12
         },
         "textposition": "top center",
         "texttemplate": "%{y:.1%}"
        },
        {
         "hovertemplate": "channel_name=Radio FG<br>day_dt=%{x}<br>media_part=%{text}<extra></extra>",
         "legendgroup": "Radio FG",
         "line": {
          "color": "rgb(167,20,41)",
          "dash": "solid"
         },
         "marker": {
          "symbol": "circle"
         },
         "mode": "lines+markers+text",
         "name": "Radio FG",
         "orientation": "v",
         "showlegend": true,
         "text": [
          0,
          0,
          0,
          0.005555555555555556,
          0,
          0,
          0
         ],
         "x": [
          "2022-11-05",
          "2022-11-06",
          "2022-11-07",
          "2022-11-08",
          "2022-11-09",
          "2022-11-10",
          "2022-11-11"
         ],
         "xaxis": "x",
         "y": [
          0,
          0,
          0,
          0.005555555555555556,
          0,
          0,
          0
         ],
         "yaxis": "y",
         "type": "scatter",
         "textfont": {
          "size": 12
         },
         "textposition": "top center",
         "texttemplate": "%{y:.1%}"
        },
        {
         "hovertemplate": "channel_name=TSF Jazz<br>day_dt=%{x}<br>media_part=%{text}<extra></extra>",
         "legendgroup": "TSF Jazz",
         "line": {
          "color": "rgb(135,10,36)",
          "dash": "solid"
         },
         "marker": {
          "symbol": "circle"
         },
         "mode": "lines+markers+text",
         "name": "TSF Jazz",
         "orientation": "v",
         "showlegend": true,
         "text": [
          0,
          0,
          0,
          0.001851851851851852,
          0,
          0,
          0
         ],
         "x": [
          "2022-11-05",
          "2022-11-06",
          "2022-11-07",
          "2022-11-08",
          "2022-11-09",
          "2022-11-10",
          "2022-11-11"
         ],
         "xaxis": "x",
         "y": [
          0,
          0,
          0,
          0.001851851851851852,
          0,
          0,
          0
         ],
         "yaxis": "y",
         "type": "scatter",
         "textfont": {
          "size": 12
         },
         "textposition": "top center",
         "texttemplate": "%{y:.1%}"
        }
       ],
       "layout": {
        "template": {
         "data": {
          "barpolar": [
           {
            "marker": {
             "line": {
              "color": "white",
              "width": 0.5
             },
             "pattern": {
              "fillmode": "overlay",
              "size": 10,
              "solidity": 0.2
             }
            },
            "type": "barpolar"
           }
          ],
          "bar": [
           {
            "error_x": {
             "color": "#2a3f5f"
            },
            "error_y": {
             "color": "#2a3f5f"
            },
            "marker": {
             "line": {
              "color": "white",
              "width": 0.5
             },
             "pattern": {
              "fillmode": "overlay",
              "size": 10,
              "solidity": 0.2
             }
            },
            "type": "bar"
           }
          ],
          "carpet": [
           {
            "aaxis": {
             "endlinecolor": "#2a3f5f",
             "gridcolor": "#C8D4E3",
             "linecolor": "#C8D4E3",
             "minorgridcolor": "#C8D4E3",
             "startlinecolor": "#2a3f5f"
            },
            "baxis": {
             "endlinecolor": "#2a3f5f",
             "gridcolor": "#C8D4E3",
             "linecolor": "#C8D4E3",
             "minorgridcolor": "#C8D4E3",
             "startlinecolor": "#2a3f5f"
            },
            "type": "carpet"
           }
          ],
          "choropleth": [
           {
            "colorbar": {
             "outlinewidth": 0,
             "ticks": ""
            },
            "type": "choropleth"
           }
          ],
          "contourcarpet": [
           {
            "colorbar": {
             "outlinewidth": 0,
             "ticks": ""
            },
            "type": "contourcarpet"
           }
          ],
          "contour": [
           {
            "colorbar": {
             "outlinewidth": 0,
             "ticks": ""
            },
            "colorscale": [
             [
              0,
              "#0d0887"
             ],
             [
              0.1111111111111111,
              "#46039f"
             ],
             [
              0.2222222222222222,
              "#7201a8"
             ],
             [
              0.3333333333333333,
              "#9c179e"
             ],
             [
              0.4444444444444444,
              "#bd3786"
             ],
             [
              0.5555555555555556,
              "#d8576b"
             ],
             [
              0.6666666666666666,
              "#ed7953"
             ],
             [
              0.7777777777777778,
              "#fb9f3a"
             ],
             [
              0.8888888888888888,
              "#fdca26"
             ],
             [
              1,
              "#f0f921"
             ]
            ],
            "type": "contour"
           }
          ],
          "heatmapgl": [
           {
            "colorbar": {
             "outlinewidth": 0,
             "ticks": ""
            },
            "colorscale": [
             [
              0,
              "#0d0887"
             ],
             [
              0.1111111111111111,
              "#46039f"
             ],
             [
              0.2222222222222222,
              "#7201a8"
             ],
             [
              0.3333333333333333,
              "#9c179e"
             ],
             [
              0.4444444444444444,
              "#bd3786"
             ],
             [
              0.5555555555555556,
              "#d8576b"
             ],
             [
              0.6666666666666666,
              "#ed7953"
             ],
             [
              0.7777777777777778,
              "#fb9f3a"
             ],
             [
              0.8888888888888888,
              "#fdca26"
             ],
             [
              1,
              "#f0f921"
             ]
            ],
            "type": "heatmapgl"
           }
          ],
          "heatmap": [
           {
            "colorbar": {
             "outlinewidth": 0,
             "ticks": ""
            },
            "colorscale": [
             [
              0,
              "#0d0887"
             ],
             [
              0.1111111111111111,
              "#46039f"
             ],
             [
              0.2222222222222222,
              "#7201a8"
             ],
             [
              0.3333333333333333,
              "#9c179e"
             ],
             [
              0.4444444444444444,
              "#bd3786"
             ],
             [
              0.5555555555555556,
              "#d8576b"
             ],
             [
              0.6666666666666666,
              "#ed7953"
             ],
             [
              0.7777777777777778,
              "#fb9f3a"
             ],
             [
              0.8888888888888888,
              "#fdca26"
             ],
             [
              1,
              "#f0f921"
             ]
            ],
            "type": "heatmap"
           }
          ],
          "histogram2dcontour": [
           {
            "colorbar": {
             "outlinewidth": 0,
             "ticks": ""
            },
            "colorscale": [
             [
              0,
              "#0d0887"
             ],
             [
              0.1111111111111111,
              "#46039f"
             ],
             [
              0.2222222222222222,
              "#7201a8"
             ],
             [
              0.3333333333333333,
              "#9c179e"
             ],
             [
              0.4444444444444444,
              "#bd3786"
             ],
             [
              0.5555555555555556,
              "#d8576b"
             ],
             [
              0.6666666666666666,
              "#ed7953"
             ],
             [
              0.7777777777777778,
              "#fb9f3a"
             ],
             [
              0.8888888888888888,
              "#fdca26"
             ],
             [
              1,
              "#f0f921"
             ]
            ],
            "type": "histogram2dcontour"
           }
          ],
          "histogram2d": [
           {
            "colorbar": {
             "outlinewidth": 0,
             "ticks": ""
            },
            "colorscale": [
             [
              0,
              "#0d0887"
             ],
             [
              0.1111111111111111,
              "#46039f"
             ],
             [
              0.2222222222222222,
              "#7201a8"
             ],
             [
              0.3333333333333333,
              "#9c179e"
             ],
             [
              0.4444444444444444,
              "#bd3786"
             ],
             [
              0.5555555555555556,
              "#d8576b"
             ],
             [
              0.6666666666666666,
              "#ed7953"
             ],
             [
              0.7777777777777778,
              "#fb9f3a"
             ],
             [
              0.8888888888888888,
              "#fdca26"
             ],
             [
              1,
              "#f0f921"
             ]
            ],
            "type": "histogram2d"
           }
          ],
          "histogram": [
           {
            "marker": {
             "pattern": {
              "fillmode": "overlay",
              "size": 10,
              "solidity": 0.2
             }
            },
            "type": "histogram"
           }
          ],
          "mesh3d": [
           {
            "colorbar": {
             "outlinewidth": 0,
             "ticks": ""
            },
            "type": "mesh3d"
           }
          ],
          "parcoords": [
           {
            "line": {
             "colorbar": {
              "outlinewidth": 0,
              "ticks": ""
             }
            },
            "type": "parcoords"
           }
          ],
          "pie": [
           {
            "automargin": true,
            "type": "pie"
           }
          ],
          "scatter3d": [
           {
            "line": {
             "colorbar": {
              "outlinewidth": 0,
              "ticks": ""
             }
            },
            "marker": {
             "colorbar": {
              "outlinewidth": 0,
              "ticks": ""
             }
            },
            "type": "scatter3d"
           }
          ],
          "scattercarpet": [
           {
            "marker": {
             "colorbar": {
              "outlinewidth": 0,
              "ticks": ""
             }
            },
            "type": "scattercarpet"
           }
          ],
          "scattergeo": [
           {
            "marker": {
             "colorbar": {
              "outlinewidth": 0,
              "ticks": ""
             }
            },
            "type": "scattergeo"
           }
          ],
          "scattergl": [
           {
            "marker": {
             "colorbar": {
              "outlinewidth": 0,
              "ticks": ""
             }
            },
            "type": "scattergl"
           }
          ],
          "scattermapbox": [
           {
            "marker": {
             "colorbar": {
              "outlinewidth": 0,
              "ticks": ""
             }
            },
            "type": "scattermapbox"
           }
          ],
          "scatterpolargl": [
           {
            "marker": {
             "colorbar": {
              "outlinewidth": 0,
              "ticks": ""
             }
            },
            "type": "scatterpolargl"
           }
          ],
          "scatterpolar": [
           {
            "marker": {
             "colorbar": {
              "outlinewidth": 0,
              "ticks": ""
             }
            },
            "type": "scatterpolar"
           }
          ],
          "scatter": [
           {
            "fillpattern": {
             "fillmode": "overlay",
             "size": 10,
             "solidity": 0.2
            },
            "type": "scatter"
           }
          ],
          "scatterternary": [
           {
            "marker": {
             "colorbar": {
              "outlinewidth": 0,
              "ticks": ""
             }
            },
            "type": "scatterternary"
           }
          ],
          "surface": [
           {
            "colorbar": {
             "outlinewidth": 0,
             "ticks": ""
            },
            "colorscale": [
             [
              0,
              "#0d0887"
             ],
             [
              0.1111111111111111,
              "#46039f"
             ],
             [
              0.2222222222222222,
              "#7201a8"
             ],
             [
              0.3333333333333333,
              "#9c179e"
             ],
             [
              0.4444444444444444,
              "#bd3786"
             ],
             [
              0.5555555555555556,
              "#d8576b"
             ],
             [
              0.6666666666666666,
              "#ed7953"
             ],
             [
              0.7777777777777778,
              "#fb9f3a"
             ],
             [
              0.8888888888888888,
              "#fdca26"
             ],
             [
              1,
              "#f0f921"
             ]
            ],
            "type": "surface"
           }
          ],
          "table": [
           {
            "cells": {
             "fill": {
              "color": "#EBF0F8"
             },
             "line": {
              "color": "white"
             }
            },
            "header": {
             "fill": {
              "color": "#C8D4E3"
             },
             "line": {
              "color": "white"
             }
            },
            "type": "table"
           }
          ]
         },
         "layout": {
          "annotationdefaults": {
           "arrowcolor": "#2a3f5f",
           "arrowhead": 0,
           "arrowwidth": 1
          },
          "autotypenumbers": "strict",
          "coloraxis": {
           "colorbar": {
            "outlinewidth": 0,
            "ticks": ""
           }
          },
          "colorscale": {
           "diverging": [
            [
             0,
             "#8e0152"
            ],
            [
             0.1,
             "#c51b7d"
            ],
            [
             0.2,
             "#de77ae"
            ],
            [
             0.3,
             "#f1b6da"
            ],
            [
             0.4,
             "#fde0ef"
            ],
            [
             0.5,
             "#f7f7f7"
            ],
            [
             0.6,
             "#e6f5d0"
            ],
            [
             0.7,
             "#b8e186"
            ],
            [
             0.8,
             "#7fbc41"
            ],
            [
             0.9,
             "#4d9221"
            ],
            [
             1,
             "#276419"
            ]
           ],
           "sequential": [
            [
             0,
             "#0d0887"
            ],
            [
             0.1111111111111111,
             "#46039f"
            ],
            [
             0.2222222222222222,
             "#7201a8"
            ],
            [
             0.3333333333333333,
             "#9c179e"
            ],
            [
             0.4444444444444444,
             "#bd3786"
            ],
            [
             0.5555555555555556,
             "#d8576b"
            ],
            [
             0.6666666666666666,
             "#ed7953"
            ],
            [
             0.7777777777777778,
             "#fb9f3a"
            ],
            [
             0.8888888888888888,
             "#fdca26"
            ],
            [
             1,
             "#f0f921"
            ]
           ],
           "sequentialminus": [
            [
             0,
             "#0d0887"
            ],
            [
             0.1111111111111111,
             "#46039f"
            ],
            [
             0.2222222222222222,
             "#7201a8"
            ],
            [
             0.3333333333333333,
             "#9c179e"
            ],
            [
             0.4444444444444444,
             "#bd3786"
            ],
            [
             0.5555555555555556,
             "#d8576b"
            ],
            [
             0.6666666666666666,
             "#ed7953"
            ],
            [
             0.7777777777777778,
             "#fb9f3a"
            ],
            [
             0.8888888888888888,
             "#fdca26"
            ],
            [
             1,
             "#f0f921"
            ]
           ]
          },
          "colorway": [
           "#636efa",
           "#EF553B",
           "#00cc96",
           "#ab63fa",
           "#FFA15A",
           "#19d3f3",
           "#FF6692",
           "#B6E880",
           "#FF97FF",
           "#FECB52"
          ],
          "font": {
           "color": "#2a3f5f"
          },
          "geo": {
           "bgcolor": "white",
           "lakecolor": "white",
           "landcolor": "white",
           "showlakes": true,
           "showland": true,
           "subunitcolor": "#C8D4E3"
          },
          "hoverlabel": {
           "align": "left"
          },
          "hovermode": "closest",
          "mapbox": {
           "style": "light"
          },
          "paper_bgcolor": "white",
          "plot_bgcolor": "white",
          "polar": {
           "angularaxis": {
            "gridcolor": "#EBF0F8",
            "linecolor": "#EBF0F8",
            "ticks": ""
           },
           "bgcolor": "white",
           "radialaxis": {
            "gridcolor": "#EBF0F8",
            "linecolor": "#EBF0F8",
            "ticks": ""
           }
          },
          "scene": {
           "xaxis": {
            "backgroundcolor": "white",
            "gridcolor": "#DFE8F3",
            "gridwidth": 2,
            "linecolor": "#EBF0F8",
            "showbackground": true,
            "ticks": "",
            "zerolinecolor": "#EBF0F8"
           },
           "yaxis": {
            "backgroundcolor": "white",
            "gridcolor": "#DFE8F3",
            "gridwidth": 2,
            "linecolor": "#EBF0F8",
            "showbackground": true,
            "ticks": "",
            "zerolinecolor": "#EBF0F8"
           },
           "zaxis": {
            "backgroundcolor": "white",
            "gridcolor": "#DFE8F3",
            "gridwidth": 2,
            "linecolor": "#EBF0F8",
            "showbackground": true,
            "ticks": "",
            "zerolinecolor": "#EBF0F8"
           }
          },
          "shapedefaults": {
           "line": {
            "color": "#2a3f5f"
           }
          },
          "ternary": {
           "aaxis": {
            "gridcolor": "#DFE8F3",
            "linecolor": "#A2B1C6",
            "ticks": ""
           },
           "baxis": {
            "gridcolor": "#DFE8F3",
            "linecolor": "#A2B1C6",
            "ticks": ""
           },
           "bgcolor": "white",
           "caxis": {
            "gridcolor": "#DFE8F3",
            "linecolor": "#A2B1C6",
            "ticks": ""
           }
          },
          "title": {
           "x": 0.05
          },
          "xaxis": {
           "automargin": true,
           "gridcolor": "#EBF0F8",
           "linecolor": "#EBF0F8",
           "ticks": "",
           "title": {
            "standoff": 15
           },
           "zerolinecolor": "#EBF0F8",
           "zerolinewidth": 2
          },
          "yaxis": {
           "automargin": true,
           "gridcolor": "#EBF0F8",
           "linecolor": "#EBF0F8",
           "ticks": "",
           "title": {
            "standoff": 15
           },
           "zerolinecolor": "#EBF0F8",
           "zerolinewidth": 2
          }
         }
        },
        "xaxis": {
         "anchor": "y",
         "domain": [
          0,
          1
         ],
         "title": {
          "text": "Date de la COP27"
         },
         "tickmode": "linear"
        },
        "yaxis": {
         "anchor": "x",
         "domain": [
          0,
          1
         ],
         "title": {
          "text": "% du volume médiatique"
         },
         "tickformat": "0%"
        },
        "legend": {
         "title": {
          "text": ""
         },
         "tracegroupgap": 0
        },
        "margin": {
         "t": 60
        },
        "font": {
         "family": "Poppins"
        },
        "title": {
         "text": "Evolution des volumes médiatiques par chaîne Radio sur la COP27"
        }
       },
       "config": {
        "plotlyServerURL": "https://plot.ly"
       }
      }
     },
     "metadata": {}
    }
   ],
   "metadata": {}
  },
  {
   "cell_type": "markdown",
   "source": [
    "# Comparison autre sujet"
   ],
   "metadata": {}
  },
  {
   "cell_type": "code",
   "execution_count": 162,
   "source": [
    "# Multiplier = n_mentions * 2 min / (n_channels * 60 minutes * 18h * n_days)\n",
    "n_days = 1\n",
    "multiplier = 2 / (50 * 18 * 60)\n",
    "\n",
    "fig = show_mentions_over_time(\n",
    "    data_all_days,\n",
    "    freq = \"1D\",\n",
    "    split = \"keyword\",\n",
    "    text_auto = \".1%\",\n",
    "    method = multiplier,\n",
    "    color_discrete_sequence = WARMING_STRIPES_SEQUENCE\n",
    ")\n",
    "# yaxis_tickformat='0%',\n",
    "fig.update_layout(font_family=\"Poppins\",\n",
    "                  xaxis_tickmode = \"linear\",\n",
    "                  xaxis_title = \"Date de la COP27\",\n",
    "                  yaxis_title=\"% du volume médiatique\",\n",
    "                  title = \"Evolution du volume médiatique sur la COP27 et l'écologie\",legend_title = \"\",yaxis_tickformat='0%',\n",
    "                 )\n",
    "fig.show()"
   ],
   "outputs": [
    {
     "output_type": "display_data",
     "data": {
      "application/vnd.plotly.v1+json": {
       "data": [
        {
         "alignmentgroup": "True",
         "hovertemplate": "keyword=COP27<br>date=%{x}<br>count=%{y}<extra></extra>",
         "legendgroup": "COP27",
         "marker": {
          "color": "#08306b",
          "pattern": {
           "shape": ""
          }
         },
         "name": "COP27",
         "offsetgroup": "COP27",
         "orientation": "v",
         "showlegend": true,
         "textposition": "auto",
         "texttemplate": "%{y:.1%}",
         "x": [
          "2022-11-05T00:00:00",
          "2022-11-06T00:00:00",
          "2022-11-07T00:00:00",
          "2022-11-08T00:00:00",
          "2022-11-09T00:00:00",
          "2022-11-10T00:00:00",
          "2022-11-11T00:00:00"
         ],
         "xaxis": "x",
         "y": [
          0.004333333333333333,
          0.005037037037037037,
          0.009407407407407408,
          0.005629629629629629,
          0.002333333333333333,
          0.0017407407407407406,
          0.0015925925925925925
         ],
         "yaxis": "y",
         "type": "bar"
        },
        {
         "alignmentgroup": "True",
         "hovertemplate": "keyword=midterm<br>date=%{x}<br>count=%{y}<extra></extra>",
         "legendgroup": "midterm",
         "marker": {
          "color": "#08519c",
          "pattern": {
           "shape": ""
          }
         },
         "name": "midterm",
         "offsetgroup": "midterm",
         "orientation": "v",
         "showlegend": true,
         "textposition": "auto",
         "texttemplate": "%{y:.1%}",
         "x": [
          "2022-11-05T00:00:00",
          "2022-11-06T00:00:00",
          "2022-11-07T00:00:00",
          "2022-11-08T00:00:00",
          "2022-11-09T00:00:00",
          "2022-11-10T00:00:00",
          "2022-11-11T00:00:00"
         ],
         "xaxis": "x",
         "y": [
          0.000962962962962963,
          0.02137037037037037,
          0.038296296296296294,
          0.05911111111111111,
          0.05444444444444444,
          0.01974074074074074,
          0.020666666666666667
         ],
         "yaxis": "y",
         "type": "bar"
        },
        {
         "alignmentgroup": "True",
         "hovertemplate": "keyword=écologie<br>date=%{x}<br>count=%{y}<extra></extra>",
         "legendgroup": "écologie",
         "marker": {
          "color": "#2171b5",
          "pattern": {
           "shape": ""
          }
         },
         "name": "écologie",
         "offsetgroup": "écologie",
         "orientation": "v",
         "showlegend": true,
         "textposition": "auto",
         "texttemplate": "%{y:.1%}",
         "x": [
          "2022-11-05T00:00:00",
          "2022-11-06T00:00:00",
          "2022-11-07T00:00:00",
          "2022-11-08T00:00:00"
         ],
         "xaxis": "x",
         "y": [
          0.019925925925925927,
          0.030037037037037036,
          0.047,
          0.03385185185185185
         ],
         "yaxis": "y",
         "type": "bar"
        },
        {
         "alignmentgroup": "True",
         "hovertemplate": "keyword=qatar<br>date=%{x}<br>count=%{y}<extra></extra>",
         "legendgroup": "qatar",
         "marker": {
          "color": "#4292c6",
          "pattern": {
           "shape": ""
          }
         },
         "name": "qatar",
         "offsetgroup": "qatar",
         "orientation": "v",
         "showlegend": true,
         "textposition": "auto",
         "texttemplate": "%{y:.1%}",
         "x": [
          "2022-11-06T00:00:00",
          "2022-11-07T00:00:00",
          "2022-11-08T00:00:00",
          "2022-11-09T00:00:00",
          "2022-11-10T00:00:00",
          "2022-11-11T00:00:00"
         ],
         "xaxis": "x",
         "y": [
          0.0037407407407407407,
          0.010888888888888889,
          0.007037037037037037,
          0.013666666666666667,
          0.015333333333333332,
          0.013555555555555555
         ],
         "yaxis": "y",
         "type": "bar"
        },
        {
         "alignmentgroup": "True",
         "hovertemplate": "keyword=routedurhum<br>date=%{x}<br>count=%{y}<extra></extra>",
         "legendgroup": "routedurhum",
         "marker": {
          "color": "#6baed6",
          "pattern": {
           "shape": ""
          }
         },
         "name": "routedurhum",
         "offsetgroup": "routedurhum",
         "orientation": "v",
         "showlegend": true,
         "textposition": "auto",
         "texttemplate": "%{y:.1%}",
         "x": [
          "2022-11-06T00:00:00",
          "2022-11-07T00:00:00",
          "2022-11-08T00:00:00",
          "2022-11-09T00:00:00",
          "2022-11-10T00:00:00",
          "2022-11-11T00:00:00"
         ],
         "xaxis": "x",
         "y": [
          0.008037037037037037,
          0.0025925925925925925,
          0.0028888888888888888,
          0.010222222222222223,
          0.0035925925925925925,
          0.0035555555555555557
         ],
         "yaxis": "y",
         "type": "bar"
        },
        {
         "alignmentgroup": "True",
         "hovertemplate": "keyword=oceanviking<br>date=%{x}<br>count=%{y}<extra></extra>",
         "legendgroup": "oceanviking",
         "marker": {
          "color": "#9ecae1",
          "pattern": {
           "shape": ""
          }
         },
         "name": "oceanviking",
         "offsetgroup": "oceanviking",
         "orientation": "v",
         "showlegend": true,
         "textposition": "auto",
         "texttemplate": "%{y:.1%}",
         "x": [
          "2022-11-07T00:00:00",
          "2022-11-10T00:00:00",
          "2022-11-11T00:00:00"
         ],
         "xaxis": "x",
         "y": [
          0.0004814814814814815,
          0.01451851851851852,
          0.01785185185185185
         ],
         "yaxis": "y",
         "type": "bar"
        },
        {
         "alignmentgroup": "True",
         "hovertemplate": "keyword=écologie<br>date=%{x}<br>count=%{y}<extra></extra>",
         "legendgroup": "écologie",
         "marker": {
          "color": "#c6dbef",
          "pattern": {
           "shape": ""
          }
         },
         "name": "écologie",
         "offsetgroup": "écologie",
         "orientation": "v",
         "showlegend": true,
         "textposition": "auto",
         "texttemplate": "%{y:.1%}",
         "x": [
          "2022-11-09T00:00:00",
          "2022-11-10T00:00:00",
          "2022-11-11T00:00:00"
         ],
         "xaxis": "x",
         "y": [
          0.01474074074074074,
          0.014296296296296297,
          0.016037037037037037
         ],
         "yaxis": "y",
         "type": "bar"
        }
       ],
       "layout": {
        "template": {
         "data": {
          "barpolar": [
           {
            "marker": {
             "line": {
              "color": "white",
              "width": 0.5
             },
             "pattern": {
              "fillmode": "overlay",
              "size": 10,
              "solidity": 0.2
             }
            },
            "type": "barpolar"
           }
          ],
          "bar": [
           {
            "error_x": {
             "color": "#2a3f5f"
            },
            "error_y": {
             "color": "#2a3f5f"
            },
            "marker": {
             "line": {
              "color": "white",
              "width": 0.5
             },
             "pattern": {
              "fillmode": "overlay",
              "size": 10,
              "solidity": 0.2
             }
            },
            "type": "bar"
           }
          ],
          "carpet": [
           {
            "aaxis": {
             "endlinecolor": "#2a3f5f",
             "gridcolor": "#C8D4E3",
             "linecolor": "#C8D4E3",
             "minorgridcolor": "#C8D4E3",
             "startlinecolor": "#2a3f5f"
            },
            "baxis": {
             "endlinecolor": "#2a3f5f",
             "gridcolor": "#C8D4E3",
             "linecolor": "#C8D4E3",
             "minorgridcolor": "#C8D4E3",
             "startlinecolor": "#2a3f5f"
            },
            "type": "carpet"
           }
          ],
          "choropleth": [
           {
            "colorbar": {
             "outlinewidth": 0,
             "ticks": ""
            },
            "type": "choropleth"
           }
          ],
          "contourcarpet": [
           {
            "colorbar": {
             "outlinewidth": 0,
             "ticks": ""
            },
            "type": "contourcarpet"
           }
          ],
          "contour": [
           {
            "colorbar": {
             "outlinewidth": 0,
             "ticks": ""
            },
            "colorscale": [
             [
              0,
              "#0d0887"
             ],
             [
              0.1111111111111111,
              "#46039f"
             ],
             [
              0.2222222222222222,
              "#7201a8"
             ],
             [
              0.3333333333333333,
              "#9c179e"
             ],
             [
              0.4444444444444444,
              "#bd3786"
             ],
             [
              0.5555555555555556,
              "#d8576b"
             ],
             [
              0.6666666666666666,
              "#ed7953"
             ],
             [
              0.7777777777777778,
              "#fb9f3a"
             ],
             [
              0.8888888888888888,
              "#fdca26"
             ],
             [
              1,
              "#f0f921"
             ]
            ],
            "type": "contour"
           }
          ],
          "heatmapgl": [
           {
            "colorbar": {
             "outlinewidth": 0,
             "ticks": ""
            },
            "colorscale": [
             [
              0,
              "#0d0887"
             ],
             [
              0.1111111111111111,
              "#46039f"
             ],
             [
              0.2222222222222222,
              "#7201a8"
             ],
             [
              0.3333333333333333,
              "#9c179e"
             ],
             [
              0.4444444444444444,
              "#bd3786"
             ],
             [
              0.5555555555555556,
              "#d8576b"
             ],
             [
              0.6666666666666666,
              "#ed7953"
             ],
             [
              0.7777777777777778,
              "#fb9f3a"
             ],
             [
              0.8888888888888888,
              "#fdca26"
             ],
             [
              1,
              "#f0f921"
             ]
            ],
            "type": "heatmapgl"
           }
          ],
          "heatmap": [
           {
            "colorbar": {
             "outlinewidth": 0,
             "ticks": ""
            },
            "colorscale": [
             [
              0,
              "#0d0887"
             ],
             [
              0.1111111111111111,
              "#46039f"
             ],
             [
              0.2222222222222222,
              "#7201a8"
             ],
             [
              0.3333333333333333,
              "#9c179e"
             ],
             [
              0.4444444444444444,
              "#bd3786"
             ],
             [
              0.5555555555555556,
              "#d8576b"
             ],
             [
              0.6666666666666666,
              "#ed7953"
             ],
             [
              0.7777777777777778,
              "#fb9f3a"
             ],
             [
              0.8888888888888888,
              "#fdca26"
             ],
             [
              1,
              "#f0f921"
             ]
            ],
            "type": "heatmap"
           }
          ],
          "histogram2dcontour": [
           {
            "colorbar": {
             "outlinewidth": 0,
             "ticks": ""
            },
            "colorscale": [
             [
              0,
              "#0d0887"
             ],
             [
              0.1111111111111111,
              "#46039f"
             ],
             [
              0.2222222222222222,
              "#7201a8"
             ],
             [
              0.3333333333333333,
              "#9c179e"
             ],
             [
              0.4444444444444444,
              "#bd3786"
             ],
             [
              0.5555555555555556,
              "#d8576b"
             ],
             [
              0.6666666666666666,
              "#ed7953"
             ],
             [
              0.7777777777777778,
              "#fb9f3a"
             ],
             [
              0.8888888888888888,
              "#fdca26"
             ],
             [
              1,
              "#f0f921"
             ]
            ],
            "type": "histogram2dcontour"
           }
          ],
          "histogram2d": [
           {
            "colorbar": {
             "outlinewidth": 0,
             "ticks": ""
            },
            "colorscale": [
             [
              0,
              "#0d0887"
             ],
             [
              0.1111111111111111,
              "#46039f"
             ],
             [
              0.2222222222222222,
              "#7201a8"
             ],
             [
              0.3333333333333333,
              "#9c179e"
             ],
             [
              0.4444444444444444,
              "#bd3786"
             ],
             [
              0.5555555555555556,
              "#d8576b"
             ],
             [
              0.6666666666666666,
              "#ed7953"
             ],
             [
              0.7777777777777778,
              "#fb9f3a"
             ],
             [
              0.8888888888888888,
              "#fdca26"
             ],
             [
              1,
              "#f0f921"
             ]
            ],
            "type": "histogram2d"
           }
          ],
          "histogram": [
           {
            "marker": {
             "pattern": {
              "fillmode": "overlay",
              "size": 10,
              "solidity": 0.2
             }
            },
            "type": "histogram"
           }
          ],
          "mesh3d": [
           {
            "colorbar": {
             "outlinewidth": 0,
             "ticks": ""
            },
            "type": "mesh3d"
           }
          ],
          "parcoords": [
           {
            "line": {
             "colorbar": {
              "outlinewidth": 0,
              "ticks": ""
             }
            },
            "type": "parcoords"
           }
          ],
          "pie": [
           {
            "automargin": true,
            "type": "pie"
           }
          ],
          "scatter3d": [
           {
            "line": {
             "colorbar": {
              "outlinewidth": 0,
              "ticks": ""
             }
            },
            "marker": {
             "colorbar": {
              "outlinewidth": 0,
              "ticks": ""
             }
            },
            "type": "scatter3d"
           }
          ],
          "scattercarpet": [
           {
            "marker": {
             "colorbar": {
              "outlinewidth": 0,
              "ticks": ""
             }
            },
            "type": "scattercarpet"
           }
          ],
          "scattergeo": [
           {
            "marker": {
             "colorbar": {
              "outlinewidth": 0,
              "ticks": ""
             }
            },
            "type": "scattergeo"
           }
          ],
          "scattergl": [
           {
            "marker": {
             "colorbar": {
              "outlinewidth": 0,
              "ticks": ""
             }
            },
            "type": "scattergl"
           }
          ],
          "scattermapbox": [
           {
            "marker": {
             "colorbar": {
              "outlinewidth": 0,
              "ticks": ""
             }
            },
            "type": "scattermapbox"
           }
          ],
          "scatterpolargl": [
           {
            "marker": {
             "colorbar": {
              "outlinewidth": 0,
              "ticks": ""
             }
            },
            "type": "scatterpolargl"
           }
          ],
          "scatterpolar": [
           {
            "marker": {
             "colorbar": {
              "outlinewidth": 0,
              "ticks": ""
             }
            },
            "type": "scatterpolar"
           }
          ],
          "scatter": [
           {
            "fillpattern": {
             "fillmode": "overlay",
             "size": 10,
             "solidity": 0.2
            },
            "type": "scatter"
           }
          ],
          "scatterternary": [
           {
            "marker": {
             "colorbar": {
              "outlinewidth": 0,
              "ticks": ""
             }
            },
            "type": "scatterternary"
           }
          ],
          "surface": [
           {
            "colorbar": {
             "outlinewidth": 0,
             "ticks": ""
            },
            "colorscale": [
             [
              0,
              "#0d0887"
             ],
             [
              0.1111111111111111,
              "#46039f"
             ],
             [
              0.2222222222222222,
              "#7201a8"
             ],
             [
              0.3333333333333333,
              "#9c179e"
             ],
             [
              0.4444444444444444,
              "#bd3786"
             ],
             [
              0.5555555555555556,
              "#d8576b"
             ],
             [
              0.6666666666666666,
              "#ed7953"
             ],
             [
              0.7777777777777778,
              "#fb9f3a"
             ],
             [
              0.8888888888888888,
              "#fdca26"
             ],
             [
              1,
              "#f0f921"
             ]
            ],
            "type": "surface"
           }
          ],
          "table": [
           {
            "cells": {
             "fill": {
              "color": "#EBF0F8"
             },
             "line": {
              "color": "white"
             }
            },
            "header": {
             "fill": {
              "color": "#C8D4E3"
             },
             "line": {
              "color": "white"
             }
            },
            "type": "table"
           }
          ]
         },
         "layout": {
          "annotationdefaults": {
           "arrowcolor": "#2a3f5f",
           "arrowhead": 0,
           "arrowwidth": 1
          },
          "autotypenumbers": "strict",
          "coloraxis": {
           "colorbar": {
            "outlinewidth": 0,
            "ticks": ""
           }
          },
          "colorscale": {
           "diverging": [
            [
             0,
             "#8e0152"
            ],
            [
             0.1,
             "#c51b7d"
            ],
            [
             0.2,
             "#de77ae"
            ],
            [
             0.3,
             "#f1b6da"
            ],
            [
             0.4,
             "#fde0ef"
            ],
            [
             0.5,
             "#f7f7f7"
            ],
            [
             0.6,
             "#e6f5d0"
            ],
            [
             0.7,
             "#b8e186"
            ],
            [
             0.8,
             "#7fbc41"
            ],
            [
             0.9,
             "#4d9221"
            ],
            [
             1,
             "#276419"
            ]
           ],
           "sequential": [
            [
             0,
             "#0d0887"
            ],
            [
             0.1111111111111111,
             "#46039f"
            ],
            [
             0.2222222222222222,
             "#7201a8"
            ],
            [
             0.3333333333333333,
             "#9c179e"
            ],
            [
             0.4444444444444444,
             "#bd3786"
            ],
            [
             0.5555555555555556,
             "#d8576b"
            ],
            [
             0.6666666666666666,
             "#ed7953"
            ],
            [
             0.7777777777777778,
             "#fb9f3a"
            ],
            [
             0.8888888888888888,
             "#fdca26"
            ],
            [
             1,
             "#f0f921"
            ]
           ],
           "sequentialminus": [
            [
             0,
             "#0d0887"
            ],
            [
             0.1111111111111111,
             "#46039f"
            ],
            [
             0.2222222222222222,
             "#7201a8"
            ],
            [
             0.3333333333333333,
             "#9c179e"
            ],
            [
             0.4444444444444444,
             "#bd3786"
            ],
            [
             0.5555555555555556,
             "#d8576b"
            ],
            [
             0.6666666666666666,
             "#ed7953"
            ],
            [
             0.7777777777777778,
             "#fb9f3a"
            ],
            [
             0.8888888888888888,
             "#fdca26"
            ],
            [
             1,
             "#f0f921"
            ]
           ]
          },
          "colorway": [
           "#636efa",
           "#EF553B",
           "#00cc96",
           "#ab63fa",
           "#FFA15A",
           "#19d3f3",
           "#FF6692",
           "#B6E880",
           "#FF97FF",
           "#FECB52"
          ],
          "font": {
           "color": "#2a3f5f"
          },
          "geo": {
           "bgcolor": "white",
           "lakecolor": "white",
           "landcolor": "white",
           "showlakes": true,
           "showland": true,
           "subunitcolor": "#C8D4E3"
          },
          "hoverlabel": {
           "align": "left"
          },
          "hovermode": "closest",
          "mapbox": {
           "style": "light"
          },
          "paper_bgcolor": "white",
          "plot_bgcolor": "white",
          "polar": {
           "angularaxis": {
            "gridcolor": "#EBF0F8",
            "linecolor": "#EBF0F8",
            "ticks": ""
           },
           "bgcolor": "white",
           "radialaxis": {
            "gridcolor": "#EBF0F8",
            "linecolor": "#EBF0F8",
            "ticks": ""
           }
          },
          "scene": {
           "xaxis": {
            "backgroundcolor": "white",
            "gridcolor": "#DFE8F3",
            "gridwidth": 2,
            "linecolor": "#EBF0F8",
            "showbackground": true,
            "ticks": "",
            "zerolinecolor": "#EBF0F8"
           },
           "yaxis": {
            "backgroundcolor": "white",
            "gridcolor": "#DFE8F3",
            "gridwidth": 2,
            "linecolor": "#EBF0F8",
            "showbackground": true,
            "ticks": "",
            "zerolinecolor": "#EBF0F8"
           },
           "zaxis": {
            "backgroundcolor": "white",
            "gridcolor": "#DFE8F3",
            "gridwidth": 2,
            "linecolor": "#EBF0F8",
            "showbackground": true,
            "ticks": "",
            "zerolinecolor": "#EBF0F8"
           }
          },
          "shapedefaults": {
           "line": {
            "color": "#2a3f5f"
           }
          },
          "ternary": {
           "aaxis": {
            "gridcolor": "#DFE8F3",
            "linecolor": "#A2B1C6",
            "ticks": ""
           },
           "baxis": {
            "gridcolor": "#DFE8F3",
            "linecolor": "#A2B1C6",
            "ticks": ""
           },
           "bgcolor": "white",
           "caxis": {
            "gridcolor": "#DFE8F3",
            "linecolor": "#A2B1C6",
            "ticks": ""
           }
          },
          "title": {
           "x": 0.05
          },
          "xaxis": {
           "automargin": true,
           "gridcolor": "#EBF0F8",
           "linecolor": "#EBF0F8",
           "ticks": "",
           "title": {
            "standoff": 15
           },
           "zerolinecolor": "#EBF0F8",
           "zerolinewidth": 2
          },
          "yaxis": {
           "automargin": true,
           "gridcolor": "#EBF0F8",
           "linecolor": "#EBF0F8",
           "ticks": "",
           "title": {
            "standoff": 15
           },
           "zerolinecolor": "#EBF0F8",
           "zerolinewidth": 2
          }
         }
        },
        "xaxis": {
         "anchor": "y",
         "domain": [
          0,
          1
         ],
         "title": {
          "text": "Date de la COP27"
         },
         "tickmode": "linear"
        },
        "yaxis": {
         "anchor": "x",
         "domain": [
          0,
          1
         ],
         "title": {
          "text": "% du volume médiatique"
         },
         "tickformat": "0%"
        },
        "legend": {
         "title": {
          "text": ""
         },
         "tracegroupgap": 0
        },
        "margin": {
         "t": 60
        },
        "barmode": "relative",
        "font": {
         "family": "Poppins"
        },
        "title": {
         "text": "Evolution du volume médiatique sur la COP27 et l'écologie"
        }
       },
       "config": {
        "plotlyServerURL": "https://plot.ly"
       }
      }
     },
     "metadata": {}
    }
   ],
   "metadata": {}
  },
  {
   "cell_type": "code",
   "execution_count": 99,
   "source": [
    "ranking_tv_continue_all_kw = ranking.query(\"media2=='TV - Information en continu' and day_str > '2022-11-05'\")\n"
   ],
   "outputs": [],
   "metadata": {}
  },
  {
   "cell_type": "code",
   "execution_count": 185,
   "source": [
    "'écologie' == 'écologie'"
   ],
   "outputs": [
    {
     "output_type": "execute_result",
     "data": {
      "text/plain": [
       "False"
      ]
     },
     "metadata": {},
     "execution_count": 185
    }
   ],
   "metadata": {}
  },
  {
   "cell_type": "code",
   "execution_count": 186,
   "source": [
    "len('écologie')"
   ],
   "outputs": [
    {
     "output_type": "execute_result",
     "data": {
      "text/plain": [
       "8"
      ]
     },
     "metadata": {},
     "execution_count": 186
    }
   ],
   "metadata": {}
  },
  {
   "cell_type": "code",
   "execution_count": 187,
   "source": [
    "len('écologie')"
   ],
   "outputs": [
    {
     "output_type": "execute_result",
     "data": {
      "text/plain": [
       "9"
      ]
     },
     "metadata": {},
     "execution_count": 187
    }
   ],
   "metadata": {}
  },
  {
   "cell_type": "code",
   "execution_count": 163,
   "source": [
    "data_all_days.groupby('keyword').day_str.min()"
   ],
   "outputs": [
    {
     "output_type": "execute_result",
     "data": {
      "text/plain": [
       "keyword\n",
       "COP27          2022-11-05\n",
       "écologie      2022-11-09\n",
       "midterm        2022-11-05\n",
       "oceanviking    2022-11-07\n",
       "qatar          2022-11-06\n",
       "routedurhum    2022-11-06\n",
       "écologie       2022-11-05\n",
       "Name: day_str, dtype: object"
      ]
     },
     "metadata": {},
     "execution_count": 163
    }
   ],
   "metadata": {}
  },
  {
   "cell_type": "code",
   "execution_count": 148,
   "source": [
    "#ranking.keyword.unique()\n"
   ],
   "outputs": [
    {
     "output_type": "execute_result",
     "data": {
      "text/plain": [
       "False"
      ]
     },
     "metadata": {},
     "execution_count": 148
    }
   ],
   "metadata": {}
  },
  {
   "cell_type": "code",
   "execution_count": 168,
   "source": [
    "ranking_tv_continue_all_kw = ranking.query(\"media2=='Radio' and day_str > '2022-11-05'\")\n",
    "minute_covered_radio = ranking_tv_continue_all_kw.groupby('keyword').minutes.sum()\n",
    "\n",
    "ranking_tv_continue_all_kw = ranking.query(\"media2=='TV - Généraliste' and day_str > '2022-11-05'\")\n",
    "minute_covered_tv_generalist = ranking_tv_continue_all_kw.groupby('keyword').minutes.sum().sort_values()\n",
    "\n",
    "ranking_tv_continue_all_kw = ranking.query(\"media2=='TV - Information en continu' and day_str > '2022-11-05'\")\n",
    "minute_covered_tv_info = ranking_tv_continue_all_kw.groupby('keyword').minutes.sum()\n",
    "\n",
    "\n",
    "\n",
    "all_minutes_df = pd.DataFrame([minute_covered_tv_generalist, minute_covered_radio, minute_covered_tv_info])\n",
    "all_minutes_df.index = ['minute_covered_radio', 'minute_covered_tv_generalist', 'minute_covered_tv_info']"
   ],
   "outputs": [],
   "metadata": {}
  },
  {
   "cell_type": "code",
   "execution_count": 175,
   "source": [
    "all_minutes_df.columns"
   ],
   "outputs": [
    {
     "output_type": "execute_result",
     "data": {
      "text/plain": [
       "Index(['COP27', 'oceanviking', 'routedurhum', 'écologie', 'qatar', 'écologie',\n",
       "       'midterm'],\n",
       "      dtype='object', name='keyword')"
      ]
     },
     "metadata": {},
     "execution_count": 175
    }
   ],
   "metadata": {}
  },
  {
   "cell_type": "code",
   "execution_count": 177,
   "source": [
    "all_minutes_df = all_minutes_df.loc[:, ['COP27', 'oceanviking', 'routedurhum', 'écologie', 'qatar',\n",
    "       'midterm']]"
   ],
   "outputs": [],
   "metadata": {}
  },
  {
   "cell_type": "code",
   "execution_count": 178,
   "source": [
    "all_minutes_df_metled = pd.melt(all_minutes_df.reset_index(), id_vars='index')\n",
    "all_minutes_df_metled.columns = ['Media', 'keyword', 'minutes']"
   ],
   "outputs": [],
   "metadata": {}
  },
  {
   "cell_type": "code",
   "execution_count": 179,
   "source": [
    "all_minutes_df_metled"
   ],
   "outputs": [
    {
     "output_type": "execute_result",
     "data": {
      "text/html": [
       "<div>\n",
       "<style scoped>\n",
       "    .dataframe tbody tr th:only-of-type {\n",
       "        vertical-align: middle;\n",
       "    }\n",
       "\n",
       "    .dataframe tbody tr th {\n",
       "        vertical-align: top;\n",
       "    }\n",
       "\n",
       "    .dataframe thead th {\n",
       "        text-align: right;\n",
       "    }\n",
       "</style>\n",
       "<table border=\"1\" class=\"dataframe\">\n",
       "  <thead>\n",
       "    <tr style=\"text-align: right;\">\n",
       "      <th></th>\n",
       "      <th>Media</th>\n",
       "      <th>keyword</th>\n",
       "      <th>minutes</th>\n",
       "    </tr>\n",
       "  </thead>\n",
       "  <tbody>\n",
       "    <tr>\n",
       "      <th>0</th>\n",
       "      <td>minute_covered_radio</td>\n",
       "      <td>COP27</td>\n",
       "      <td>80.0</td>\n",
       "    </tr>\n",
       "    <tr>\n",
       "      <th>1</th>\n",
       "      <td>minute_covered_tv_generalist</td>\n",
       "      <td>COP27</td>\n",
       "      <td>772.0</td>\n",
       "    </tr>\n",
       "    <tr>\n",
       "      <th>2</th>\n",
       "      <td>minute_covered_tv_info</td>\n",
       "      <td>COP27</td>\n",
       "      <td>538.0</td>\n",
       "    </tr>\n",
       "    <tr>\n",
       "      <th>3</th>\n",
       "      <td>minute_covered_radio</td>\n",
       "      <td>oceanviking</td>\n",
       "      <td>144.0</td>\n",
       "    </tr>\n",
       "    <tr>\n",
       "      <th>4</th>\n",
       "      <td>minute_covered_tv_generalist</td>\n",
       "      <td>oceanviking</td>\n",
       "      <td>698.0</td>\n",
       "    </tr>\n",
       "    <tr>\n",
       "      <th>5</th>\n",
       "      <td>minute_covered_tv_info</td>\n",
       "      <td>oceanviking</td>\n",
       "      <td>932.0</td>\n",
       "    </tr>\n",
       "    <tr>\n",
       "      <th>6</th>\n",
       "      <td>minute_covered_radio</td>\n",
       "      <td>routedurhum</td>\n",
       "      <td>144.0</td>\n",
       "    </tr>\n",
       "    <tr>\n",
       "      <th>7</th>\n",
       "      <td>minute_covered_tv_generalist</td>\n",
       "      <td>routedurhum</td>\n",
       "      <td>968.0</td>\n",
       "    </tr>\n",
       "    <tr>\n",
       "      <th>8</th>\n",
       "      <td>minute_covered_tv_info</td>\n",
       "      <td>routedurhum</td>\n",
       "      <td>556.0</td>\n",
       "    </tr>\n",
       "    <tr>\n",
       "      <th>9</th>\n",
       "      <td>minute_covered_radio</td>\n",
       "      <td>écologie</td>\n",
       "      <td>268.0</td>\n",
       "    </tr>\n",
       "    <tr>\n",
       "      <th>10</th>\n",
       "      <td>minute_covered_tv_generalist</td>\n",
       "      <td>écologie</td>\n",
       "      <td>1388.0</td>\n",
       "    </tr>\n",
       "    <tr>\n",
       "      <th>11</th>\n",
       "      <td>minute_covered_tv_info</td>\n",
       "      <td>écologie</td>\n",
       "      <td>778.0</td>\n",
       "    </tr>\n",
       "    <tr>\n",
       "      <th>12</th>\n",
       "      <td>minute_covered_radio</td>\n",
       "      <td>qatar</td>\n",
       "      <td>296.0</td>\n",
       "    </tr>\n",
       "    <tr>\n",
       "      <th>13</th>\n",
       "      <td>minute_covered_tv_generalist</td>\n",
       "      <td>qatar</td>\n",
       "      <td>2260.0</td>\n",
       "    </tr>\n",
       "    <tr>\n",
       "      <th>14</th>\n",
       "      <td>minute_covered_tv_info</td>\n",
       "      <td>qatar</td>\n",
       "      <td>912.0</td>\n",
       "    </tr>\n",
       "    <tr>\n",
       "      <th>15</th>\n",
       "      <td>minute_covered_radio</td>\n",
       "      <td>midterm</td>\n",
       "      <td>834.0</td>\n",
       "    </tr>\n",
       "    <tr>\n",
       "      <th>16</th>\n",
       "      <td>minute_covered_tv_generalist</td>\n",
       "      <td>midterm</td>\n",
       "      <td>4866.0</td>\n",
       "    </tr>\n",
       "    <tr>\n",
       "      <th>17</th>\n",
       "      <td>minute_covered_tv_info</td>\n",
       "      <td>midterm</td>\n",
       "      <td>5836.0</td>\n",
       "    </tr>\n",
       "  </tbody>\n",
       "</table>\n",
       "</div>"
      ],
      "text/plain": [
       "                           Media      keyword  minutes\n",
       "0           minute_covered_radio        COP27     80.0\n",
       "1   minute_covered_tv_generalist        COP27    772.0\n",
       "2         minute_covered_tv_info        COP27    538.0\n",
       "3           minute_covered_radio  oceanviking    144.0\n",
       "4   minute_covered_tv_generalist  oceanviking    698.0\n",
       "5         minute_covered_tv_info  oceanviking    932.0\n",
       "6           minute_covered_radio  routedurhum    144.0\n",
       "7   minute_covered_tv_generalist  routedurhum    968.0\n",
       "8         minute_covered_tv_info  routedurhum    556.0\n",
       "9           minute_covered_radio    écologie    268.0\n",
       "10  minute_covered_tv_generalist    écologie   1388.0\n",
       "11        minute_covered_tv_info    écologie    778.0\n",
       "12          minute_covered_radio        qatar    296.0\n",
       "13  minute_covered_tv_generalist        qatar   2260.0\n",
       "14        minute_covered_tv_info        qatar    912.0\n",
       "15          minute_covered_radio      midterm    834.0\n",
       "16  minute_covered_tv_generalist      midterm   4866.0\n",
       "17        minute_covered_tv_info      midterm   5836.0"
      ]
     },
     "metadata": {},
     "execution_count": 179
    }
   ],
   "metadata": {}
  },
  {
   "cell_type": "code",
   "execution_count": 184,
   "source": [
    "all_minutes_df.T\n",
    "fig = px.bar(\n",
    "        all_minutes_df_metled,\n",
    "        x='keyword',\n",
    "        y=\"minutes\",\n",
    "        color='Media'\n",
    "\n",
    "    )\n",
    "\n",
    "fig.update_xaxes(tickangle=-45, title=None)\n",
    "fig.update_yaxes(title='Nombre de citation')\n",
    "fig.update_layout(margin={\"b\": 100}, title='Nombre de citation de différent mot cléf par media sur la premiere semaine de la COP')\n"
   ],
   "outputs": [
    {
     "output_type": "display_data",
     "data": {
      "application/vnd.plotly.v1+json": {
       "data": [
        {
         "alignmentgroup": "True",
         "hovertemplate": "Media=minute_covered_radio<br>keyword=%{x}<br>minutes=%{y}<extra></extra>",
         "legendgroup": "minute_covered_radio",
         "marker": {
          "color": "rgb(95, 70, 144)",
          "pattern": {
           "shape": ""
          }
         },
         "name": "minute_covered_radio",
         "offsetgroup": "minute_covered_radio",
         "orientation": "v",
         "showlegend": true,
         "textposition": "auto",
         "x": [
          "COP27",
          "oceanviking",
          "routedurhum",
          "écologie",
          "qatar",
          "midterm"
         ],
         "xaxis": "x",
         "y": [
          80,
          144,
          144,
          268,
          296,
          834
         ],
         "yaxis": "y",
         "type": "bar"
        },
        {
         "alignmentgroup": "True",
         "hovertemplate": "Media=minute_covered_tv_generalist<br>keyword=%{x}<br>minutes=%{y}<extra></extra>",
         "legendgroup": "minute_covered_tv_generalist",
         "marker": {
          "color": "rgb(29, 105, 150)",
          "pattern": {
           "shape": ""
          }
         },
         "name": "minute_covered_tv_generalist",
         "offsetgroup": "minute_covered_tv_generalist",
         "orientation": "v",
         "showlegend": true,
         "textposition": "auto",
         "x": [
          "COP27",
          "oceanviking",
          "routedurhum",
          "écologie",
          "qatar",
          "midterm"
         ],
         "xaxis": "x",
         "y": [
          772,
          698,
          968,
          1388,
          2260,
          4866
         ],
         "yaxis": "y",
         "type": "bar"
        },
        {
         "alignmentgroup": "True",
         "hovertemplate": "Media=minute_covered_tv_info<br>keyword=%{x}<br>minutes=%{y}<extra></extra>",
         "legendgroup": "minute_covered_tv_info",
         "marker": {
          "color": "rgb(56, 166, 165)",
          "pattern": {
           "shape": ""
          }
         },
         "name": "minute_covered_tv_info",
         "offsetgroup": "minute_covered_tv_info",
         "orientation": "v",
         "showlegend": true,
         "textposition": "auto",
         "x": [
          "COP27",
          "oceanviking",
          "routedurhum",
          "écologie",
          "qatar",
          "midterm"
         ],
         "xaxis": "x",
         "y": [
          538,
          932,
          556,
          778,
          912,
          5836
         ],
         "yaxis": "y",
         "type": "bar"
        }
       ],
       "layout": {
        "template": {
         "data": {
          "barpolar": [
           {
            "marker": {
             "line": {
              "color": "white",
              "width": 0.5
             },
             "pattern": {
              "fillmode": "overlay",
              "size": 10,
              "solidity": 0.2
             }
            },
            "type": "barpolar"
           }
          ],
          "bar": [
           {
            "error_x": {
             "color": "#2a3f5f"
            },
            "error_y": {
             "color": "#2a3f5f"
            },
            "marker": {
             "line": {
              "color": "white",
              "width": 0.5
             },
             "pattern": {
              "fillmode": "overlay",
              "size": 10,
              "solidity": 0.2
             }
            },
            "type": "bar"
           }
          ],
          "carpet": [
           {
            "aaxis": {
             "endlinecolor": "#2a3f5f",
             "gridcolor": "#C8D4E3",
             "linecolor": "#C8D4E3",
             "minorgridcolor": "#C8D4E3",
             "startlinecolor": "#2a3f5f"
            },
            "baxis": {
             "endlinecolor": "#2a3f5f",
             "gridcolor": "#C8D4E3",
             "linecolor": "#C8D4E3",
             "minorgridcolor": "#C8D4E3",
             "startlinecolor": "#2a3f5f"
            },
            "type": "carpet"
           }
          ],
          "choropleth": [
           {
            "colorbar": {
             "outlinewidth": 0,
             "ticks": ""
            },
            "type": "choropleth"
           }
          ],
          "contourcarpet": [
           {
            "colorbar": {
             "outlinewidth": 0,
             "ticks": ""
            },
            "type": "contourcarpet"
           }
          ],
          "contour": [
           {
            "colorbar": {
             "outlinewidth": 0,
             "ticks": ""
            },
            "colorscale": [
             [
              0,
              "#0d0887"
             ],
             [
              0.1111111111111111,
              "#46039f"
             ],
             [
              0.2222222222222222,
              "#7201a8"
             ],
             [
              0.3333333333333333,
              "#9c179e"
             ],
             [
              0.4444444444444444,
              "#bd3786"
             ],
             [
              0.5555555555555556,
              "#d8576b"
             ],
             [
              0.6666666666666666,
              "#ed7953"
             ],
             [
              0.7777777777777778,
              "#fb9f3a"
             ],
             [
              0.8888888888888888,
              "#fdca26"
             ],
             [
              1,
              "#f0f921"
             ]
            ],
            "type": "contour"
           }
          ],
          "heatmapgl": [
           {
            "colorbar": {
             "outlinewidth": 0,
             "ticks": ""
            },
            "colorscale": [
             [
              0,
              "#0d0887"
             ],
             [
              0.1111111111111111,
              "#46039f"
             ],
             [
              0.2222222222222222,
              "#7201a8"
             ],
             [
              0.3333333333333333,
              "#9c179e"
             ],
             [
              0.4444444444444444,
              "#bd3786"
             ],
             [
              0.5555555555555556,
              "#d8576b"
             ],
             [
              0.6666666666666666,
              "#ed7953"
             ],
             [
              0.7777777777777778,
              "#fb9f3a"
             ],
             [
              0.8888888888888888,
              "#fdca26"
             ],
             [
              1,
              "#f0f921"
             ]
            ],
            "type": "heatmapgl"
           }
          ],
          "heatmap": [
           {
            "colorbar": {
             "outlinewidth": 0,
             "ticks": ""
            },
            "colorscale": [
             [
              0,
              "#0d0887"
             ],
             [
              0.1111111111111111,
              "#46039f"
             ],
             [
              0.2222222222222222,
              "#7201a8"
             ],
             [
              0.3333333333333333,
              "#9c179e"
             ],
             [
              0.4444444444444444,
              "#bd3786"
             ],
             [
              0.5555555555555556,
              "#d8576b"
             ],
             [
              0.6666666666666666,
              "#ed7953"
             ],
             [
              0.7777777777777778,
              "#fb9f3a"
             ],
             [
              0.8888888888888888,
              "#fdca26"
             ],
             [
              1,
              "#f0f921"
             ]
            ],
            "type": "heatmap"
           }
          ],
          "histogram2dcontour": [
           {
            "colorbar": {
             "outlinewidth": 0,
             "ticks": ""
            },
            "colorscale": [
             [
              0,
              "#0d0887"
             ],
             [
              0.1111111111111111,
              "#46039f"
             ],
             [
              0.2222222222222222,
              "#7201a8"
             ],
             [
              0.3333333333333333,
              "#9c179e"
             ],
             [
              0.4444444444444444,
              "#bd3786"
             ],
             [
              0.5555555555555556,
              "#d8576b"
             ],
             [
              0.6666666666666666,
              "#ed7953"
             ],
             [
              0.7777777777777778,
              "#fb9f3a"
             ],
             [
              0.8888888888888888,
              "#fdca26"
             ],
             [
              1,
              "#f0f921"
             ]
            ],
            "type": "histogram2dcontour"
           }
          ],
          "histogram2d": [
           {
            "colorbar": {
             "outlinewidth": 0,
             "ticks": ""
            },
            "colorscale": [
             [
              0,
              "#0d0887"
             ],
             [
              0.1111111111111111,
              "#46039f"
             ],
             [
              0.2222222222222222,
              "#7201a8"
             ],
             [
              0.3333333333333333,
              "#9c179e"
             ],
             [
              0.4444444444444444,
              "#bd3786"
             ],
             [
              0.5555555555555556,
              "#d8576b"
             ],
             [
              0.6666666666666666,
              "#ed7953"
             ],
             [
              0.7777777777777778,
              "#fb9f3a"
             ],
             [
              0.8888888888888888,
              "#fdca26"
             ],
             [
              1,
              "#f0f921"
             ]
            ],
            "type": "histogram2d"
           }
          ],
          "histogram": [
           {
            "marker": {
             "pattern": {
              "fillmode": "overlay",
              "size": 10,
              "solidity": 0.2
             }
            },
            "type": "histogram"
           }
          ],
          "mesh3d": [
           {
            "colorbar": {
             "outlinewidth": 0,
             "ticks": ""
            },
            "type": "mesh3d"
           }
          ],
          "parcoords": [
           {
            "line": {
             "colorbar": {
              "outlinewidth": 0,
              "ticks": ""
             }
            },
            "type": "parcoords"
           }
          ],
          "pie": [
           {
            "automargin": true,
            "type": "pie"
           }
          ],
          "scatter3d": [
           {
            "line": {
             "colorbar": {
              "outlinewidth": 0,
              "ticks": ""
             }
            },
            "marker": {
             "colorbar": {
              "outlinewidth": 0,
              "ticks": ""
             }
            },
            "type": "scatter3d"
           }
          ],
          "scattercarpet": [
           {
            "marker": {
             "colorbar": {
              "outlinewidth": 0,
              "ticks": ""
             }
            },
            "type": "scattercarpet"
           }
          ],
          "scattergeo": [
           {
            "marker": {
             "colorbar": {
              "outlinewidth": 0,
              "ticks": ""
             }
            },
            "type": "scattergeo"
           }
          ],
          "scattergl": [
           {
            "marker": {
             "colorbar": {
              "outlinewidth": 0,
              "ticks": ""
             }
            },
            "type": "scattergl"
           }
          ],
          "scattermapbox": [
           {
            "marker": {
             "colorbar": {
              "outlinewidth": 0,
              "ticks": ""
             }
            },
            "type": "scattermapbox"
           }
          ],
          "scatterpolargl": [
           {
            "marker": {
             "colorbar": {
              "outlinewidth": 0,
              "ticks": ""
             }
            },
            "type": "scatterpolargl"
           }
          ],
          "scatterpolar": [
           {
            "marker": {
             "colorbar": {
              "outlinewidth": 0,
              "ticks": ""
             }
            },
            "type": "scatterpolar"
           }
          ],
          "scatter": [
           {
            "fillpattern": {
             "fillmode": "overlay",
             "size": 10,
             "solidity": 0.2
            },
            "type": "scatter"
           }
          ],
          "scatterternary": [
           {
            "marker": {
             "colorbar": {
              "outlinewidth": 0,
              "ticks": ""
             }
            },
            "type": "scatterternary"
           }
          ],
          "surface": [
           {
            "colorbar": {
             "outlinewidth": 0,
             "ticks": ""
            },
            "colorscale": [
             [
              0,
              "#0d0887"
             ],
             [
              0.1111111111111111,
              "#46039f"
             ],
             [
              0.2222222222222222,
              "#7201a8"
             ],
             [
              0.3333333333333333,
              "#9c179e"
             ],
             [
              0.4444444444444444,
              "#bd3786"
             ],
             [
              0.5555555555555556,
              "#d8576b"
             ],
             [
              0.6666666666666666,
              "#ed7953"
             ],
             [
              0.7777777777777778,
              "#fb9f3a"
             ],
             [
              0.8888888888888888,
              "#fdca26"
             ],
             [
              1,
              "#f0f921"
             ]
            ],
            "type": "surface"
           }
          ],
          "table": [
           {
            "cells": {
             "fill": {
              "color": "#EBF0F8"
             },
             "line": {
              "color": "white"
             }
            },
            "header": {
             "fill": {
              "color": "#C8D4E3"
             },
             "line": {
              "color": "white"
             }
            },
            "type": "table"
           }
          ]
         },
         "layout": {
          "annotationdefaults": {
           "arrowcolor": "#2a3f5f",
           "arrowhead": 0,
           "arrowwidth": 1
          },
          "autotypenumbers": "strict",
          "coloraxis": {
           "colorbar": {
            "outlinewidth": 0,
            "ticks": ""
           }
          },
          "colorscale": {
           "diverging": [
            [
             0,
             "#8e0152"
            ],
            [
             0.1,
             "#c51b7d"
            ],
            [
             0.2,
             "#de77ae"
            ],
            [
             0.3,
             "#f1b6da"
            ],
            [
             0.4,
             "#fde0ef"
            ],
            [
             0.5,
             "#f7f7f7"
            ],
            [
             0.6,
             "#e6f5d0"
            ],
            [
             0.7,
             "#b8e186"
            ],
            [
             0.8,
             "#7fbc41"
            ],
            [
             0.9,
             "#4d9221"
            ],
            [
             1,
             "#276419"
            ]
           ],
           "sequential": [
            [
             0,
             "#0d0887"
            ],
            [
             0.1111111111111111,
             "#46039f"
            ],
            [
             0.2222222222222222,
             "#7201a8"
            ],
            [
             0.3333333333333333,
             "#9c179e"
            ],
            [
             0.4444444444444444,
             "#bd3786"
            ],
            [
             0.5555555555555556,
             "#d8576b"
            ],
            [
             0.6666666666666666,
             "#ed7953"
            ],
            [
             0.7777777777777778,
             "#fb9f3a"
            ],
            [
             0.8888888888888888,
             "#fdca26"
            ],
            [
             1,
             "#f0f921"
            ]
           ],
           "sequentialminus": [
            [
             0,
             "#0d0887"
            ],
            [
             0.1111111111111111,
             "#46039f"
            ],
            [
             0.2222222222222222,
             "#7201a8"
            ],
            [
             0.3333333333333333,
             "#9c179e"
            ],
            [
             0.4444444444444444,
             "#bd3786"
            ],
            [
             0.5555555555555556,
             "#d8576b"
            ],
            [
             0.6666666666666666,
             "#ed7953"
            ],
            [
             0.7777777777777778,
             "#fb9f3a"
            ],
            [
             0.8888888888888888,
             "#fdca26"
            ],
            [
             1,
             "#f0f921"
            ]
           ]
          },
          "colorway": [
           "#636efa",
           "#EF553B",
           "#00cc96",
           "#ab63fa",
           "#FFA15A",
           "#19d3f3",
           "#FF6692",
           "#B6E880",
           "#FF97FF",
           "#FECB52"
          ],
          "font": {
           "color": "#2a3f5f"
          },
          "geo": {
           "bgcolor": "white",
           "lakecolor": "white",
           "landcolor": "white",
           "showlakes": true,
           "showland": true,
           "subunitcolor": "#C8D4E3"
          },
          "hoverlabel": {
           "align": "left"
          },
          "hovermode": "closest",
          "mapbox": {
           "style": "light"
          },
          "paper_bgcolor": "white",
          "plot_bgcolor": "white",
          "polar": {
           "angularaxis": {
            "gridcolor": "#EBF0F8",
            "linecolor": "#EBF0F8",
            "ticks": ""
           },
           "bgcolor": "white",
           "radialaxis": {
            "gridcolor": "#EBF0F8",
            "linecolor": "#EBF0F8",
            "ticks": ""
           }
          },
          "scene": {
           "xaxis": {
            "backgroundcolor": "white",
            "gridcolor": "#DFE8F3",
            "gridwidth": 2,
            "linecolor": "#EBF0F8",
            "showbackground": true,
            "ticks": "",
            "zerolinecolor": "#EBF0F8"
           },
           "yaxis": {
            "backgroundcolor": "white",
            "gridcolor": "#DFE8F3",
            "gridwidth": 2,
            "linecolor": "#EBF0F8",
            "showbackground": true,
            "ticks": "",
            "zerolinecolor": "#EBF0F8"
           },
           "zaxis": {
            "backgroundcolor": "white",
            "gridcolor": "#DFE8F3",
            "gridwidth": 2,
            "linecolor": "#EBF0F8",
            "showbackground": true,
            "ticks": "",
            "zerolinecolor": "#EBF0F8"
           }
          },
          "shapedefaults": {
           "line": {
            "color": "#2a3f5f"
           }
          },
          "ternary": {
           "aaxis": {
            "gridcolor": "#DFE8F3",
            "linecolor": "#A2B1C6",
            "ticks": ""
           },
           "baxis": {
            "gridcolor": "#DFE8F3",
            "linecolor": "#A2B1C6",
            "ticks": ""
           },
           "bgcolor": "white",
           "caxis": {
            "gridcolor": "#DFE8F3",
            "linecolor": "#A2B1C6",
            "ticks": ""
           }
          },
          "title": {
           "x": 0.05
          },
          "xaxis": {
           "automargin": true,
           "gridcolor": "#EBF0F8",
           "linecolor": "#EBF0F8",
           "ticks": "",
           "title": {
            "standoff": 15
           },
           "zerolinecolor": "#EBF0F8",
           "zerolinewidth": 2
          },
          "yaxis": {
           "automargin": true,
           "gridcolor": "#EBF0F8",
           "linecolor": "#EBF0F8",
           "ticks": "",
           "title": {
            "standoff": 15
           },
           "zerolinecolor": "#EBF0F8",
           "zerolinewidth": 2
          }
         }
        },
        "xaxis": {
         "anchor": "y",
         "domain": [
          0,
          1
         ],
         "title": {},
         "tickangle": -45
        },
        "yaxis": {
         "anchor": "x",
         "domain": [
          0,
          1
         ],
         "title": {
          "text": "Nombre de citation"
         }
        },
        "legend": {
         "title": {
          "text": "Media"
         },
         "tracegroupgap": 0
        },
        "margin": {
         "t": 60,
         "b": 100
        },
        "barmode": "relative",
        "title": {
         "text": "Nombre de citation de différent mot cléf par media sur la premiere semaine de la COP"
        }
       },
       "config": {
        "plotlyServerURL": "https://plot.ly"
       }
      }
     },
     "metadata": {}
    }
   ],
   "metadata": {}
  },
  {
   "cell_type": "code",
   "execution_count": 118,
   "source": [
    "fig = px.pie(ranking.query(\"media2=='Radio' and day_str > '2022-11-05'\")[['keyword', 'minutes']], names=\"keyword\", values=\"minutes\", title=\"Split TV / Radio\")\n",
    "fig.update_traces(textposition=\"inside\", textinfo=\"percent+label\")"
   ],
   "outputs": [
    {
     "output_type": "display_data",
     "data": {
      "application/vnd.plotly.v1+json": {
       "data": [
        {
         "domain": {
          "x": [
           0,
           1
          ],
          "y": [
           0,
           1
          ]
         },
         "hovertemplate": "keyword=%{label}<br>minutes=%{value}<extra></extra>",
         "labels": [
          "COP27",
          "écologie",
          "midterm",
          "oceanviking",
          "qatar",
          "routedurhum",
          "écologie",
          "COP27",
          "écologie",
          "midterm",
          "oceanviking",
          "qatar",
          "routedurhum",
          "écologie",
          "COP27",
          "écologie",
          "midterm",
          "oceanviking",
          "qatar",
          "routedurhum",
          "écologie",
          "COP27",
          "écologie",
          "midterm",
          "oceanviking",
          "qatar",
          "routedurhum",
          "écologie",
          "COP27",
          "écologie",
          "midterm",
          "oceanviking",
          "qatar",
          "routedurhum",
          "écologie",
          "COP27",
          "écologie",
          "midterm",
          "oceanviking",
          "qatar",
          "routedurhum",
          "écologie",
          "COP27",
          "écologie",
          "midterm",
          "oceanviking",
          "qatar",
          "routedurhum",
          "écologie",
          "COP27",
          "écologie",
          "midterm",
          "oceanviking",
          "qatar",
          "routedurhum",
          "écologie",
          "COP27",
          "écologie",
          "midterm",
          "oceanviking",
          "qatar",
          "routedurhum",
          "écologie",
          "COP27",
          "écologie",
          "midterm",
          "oceanviking",
          "qatar",
          "routedurhum",
          "écologie",
          "COP27",
          "écologie",
          "midterm",
          "oceanviking",
          "qatar",
          "routedurhum",
          "écologie",
          "COP27",
          "écologie",
          "midterm",
          "oceanviking",
          "qatar",
          "routedurhum",
          "écologie",
          "COP27",
          "écologie",
          "midterm",
          "oceanviking",
          "qatar",
          "routedurhum",
          "écologie",
          "COP27",
          "écologie",
          "midterm",
          "oceanviking",
          "qatar",
          "routedurhum",
          "écologie",
          "COP27",
          "écologie",
          "midterm",
          "oceanviking",
          "qatar",
          "routedurhum",
          "écologie",
          "COP27",
          "écologie",
          "midterm",
          "oceanviking",
          "qatar",
          "routedurhum",
          "écologie",
          "COP27",
          "écologie",
          "midterm",
          "oceanviking",
          "qatar",
          "routedurhum",
          "écologie",
          "COP27",
          "écologie",
          "midterm",
          "oceanviking",
          "qatar",
          "routedurhum",
          "écologie",
          "COP27",
          "écologie",
          "midterm",
          "oceanviking",
          "qatar",
          "routedurhum",
          "écologie",
          "COP27",
          "écologie",
          "midterm",
          "oceanviking",
          "qatar",
          "routedurhum",
          "écologie",
          "COP27",
          "écologie",
          "midterm",
          "oceanviking",
          "qatar",
          "routedurhum",
          "écologie",
          "COP27",
          "écologie",
          "midterm",
          "oceanviking",
          "qatar",
          "routedurhum",
          "écologie",
          "COP27",
          "écologie",
          "midterm",
          "oceanviking",
          "qatar",
          "routedurhum",
          "écologie",
          "COP27",
          "écologie",
          "midterm",
          "oceanviking",
          "qatar",
          "routedurhum",
          "écologie",
          "COP27",
          "écologie",
          "midterm",
          "oceanviking",
          "qatar",
          "routedurhum",
          "écologie",
          "COP27",
          "écologie",
          "midterm",
          "oceanviking",
          "qatar",
          "routedurhum",
          "écologie",
          "COP27",
          "écologie",
          "midterm",
          "oceanviking",
          "qatar",
          "routedurhum",
          "écologie",
          "COP27",
          "écologie",
          "midterm",
          "oceanviking",
          "qatar",
          "routedurhum",
          "écologie",
          "COP27",
          "écologie",
          "midterm",
          "oceanviking",
          "qatar",
          "routedurhum",
          "écologie",
          "COP27",
          "écologie",
          "midterm",
          "oceanviking",
          "qatar",
          "routedurhum",
          "écologie",
          "COP27",
          "écologie",
          "midterm",
          "oceanviking",
          "qatar",
          "routedurhum",
          "écologie",
          "COP27",
          "écologie",
          "midterm",
          "oceanviking",
          "qatar",
          "routedurhum",
          "écologie",
          "COP27",
          "écologie",
          "midterm",
          "oceanviking",
          "qatar",
          "routedurhum",
          "écologie",
          "COP27",
          "écologie",
          "midterm",
          "oceanviking",
          "qatar",
          "routedurhum",
          "écologie",
          "COP27",
          "écologie",
          "midterm",
          "oceanviking",
          "qatar",
          "routedurhum",
          "écologie",
          "COP27",
          "écologie",
          "midterm",
          "oceanviking",
          "qatar",
          "routedurhum",
          "écologie",
          "COP27",
          "écologie",
          "midterm",
          "oceanviking",
          "qatar",
          "routedurhum",
          "écologie",
          "COP27",
          "écologie",
          "midterm",
          "oceanviking",
          "qatar",
          "routedurhum",
          "écologie",
          "COP27",
          "écologie",
          "midterm",
          "oceanviking",
          "qatar",
          "routedurhum",
          "écologie",
          "COP27",
          "écologie",
          "midterm",
          "oceanviking",
          "qatar",
          "routedurhum",
          "écologie",
          "COP27",
          "écologie",
          "midterm",
          "oceanviking",
          "qatar",
          "routedurhum",
          "écologie",
          "COP27",
          "écologie",
          "midterm",
          "oceanviking",
          "qatar",
          "routedurhum",
          "écologie",
          "COP27",
          "écologie",
          "midterm",
          "oceanviking",
          "qatar",
          "routedurhum",
          "écologie",
          "COP27",
          "écologie",
          "midterm",
          "oceanviking",
          "qatar",
          "routedurhum",
          "écologie",
          "COP27",
          "écologie",
          "midterm",
          "oceanviking",
          "qatar",
          "routedurhum",
          "écologie",
          "COP27",
          "écologie",
          "midterm",
          "oceanviking",
          "qatar",
          "routedurhum",
          "écologie",
          "COP27",
          "écologie",
          "midterm",
          "oceanviking",
          "qatar",
          "routedurhum",
          "écologie",
          "COP27",
          "écologie",
          "midterm",
          "oceanviking",
          "qatar",
          "routedurhum",
          "écologie",
          "COP27",
          "écologie",
          "midterm",
          "oceanviking",
          "qatar",
          "routedurhum",
          "écologie",
          "COP27",
          "écologie",
          "midterm",
          "oceanviking",
          "qatar",
          "routedurhum",
          "écologie",
          "COP27",
          "écologie",
          "midterm",
          "oceanviking",
          "qatar",
          "routedurhum",
          "écologie",
          "COP27",
          "écologie",
          "midterm",
          "oceanviking",
          "qatar",
          "routedurhum",
          "écologie",
          "COP27",
          "écologie",
          "midterm",
          "oceanviking",
          "qatar",
          "routedurhum",
          "écologie",
          "COP27",
          "écologie",
          "midterm",
          "oceanviking",
          "qatar",
          "routedurhum",
          "écologie",
          "COP27",
          "écologie",
          "midterm",
          "oceanviking",
          "qatar",
          "routedurhum",
          "écologie",
          "COP27",
          "écologie",
          "midterm",
          "oceanviking",
          "qatar",
          "routedurhum",
          "écologie",
          "COP27",
          "écologie",
          "midterm",
          "oceanviking",
          "qatar",
          "routedurhum",
          "écologie",
          "COP27",
          "écologie",
          "midterm",
          "oceanviking",
          "qatar",
          "routedurhum",
          "écologie",
          "COP27",
          "écologie",
          "midterm",
          "oceanviking",
          "qatar",
          "routedurhum",
          "écologie",
          "COP27",
          "écologie",
          "midterm",
          "oceanviking",
          "qatar",
          "routedurhum",
          "écologie",
          "COP27",
          "écologie",
          "midterm",
          "oceanviking",
          "qatar",
          "routedurhum",
          "écologie",
          "COP27",
          "écologie",
          "midterm",
          "oceanviking",
          "qatar",
          "routedurhum",
          "écologie",
          "COP27",
          "écologie",
          "midterm",
          "oceanviking",
          "qatar",
          "routedurhum",
          "écologie",
          "COP27",
          "écologie",
          "midterm",
          "oceanviking",
          "qatar",
          "routedurhum",
          "écologie",
          "COP27",
          "écologie",
          "midterm",
          "oceanviking",
          "qatar",
          "routedurhum",
          "écologie",
          "COP27",
          "écologie",
          "midterm",
          "oceanviking",
          "qatar",
          "routedurhum",
          "écologie",
          "COP27",
          "écologie",
          "midterm",
          "oceanviking",
          "qatar",
          "routedurhum",
          "écologie",
          "COP27",
          "écologie",
          "midterm",
          "oceanviking",
          "qatar",
          "routedurhum",
          "écologie",
          "COP27",
          "écologie",
          "midterm",
          "oceanviking",
          "qatar",
          "routedurhum",
          "écologie",
          "COP27",
          "écologie",
          "midterm",
          "oceanviking",
          "qatar",
          "routedurhum",
          "écologie",
          "COP27",
          "écologie",
          "midterm",
          "oceanviking",
          "qatar",
          "routedurhum",
          "écologie",
          "COP27",
          "écologie",
          "midterm",
          "oceanviking",
          "qatar",
          "routedurhum",
          "écologie",
          "COP27",
          "écologie",
          "midterm",
          "oceanviking",
          "qatar",
          "routedurhum",
          "écologie",
          "COP27",
          "écologie",
          "midterm",
          "oceanviking",
          "qatar",
          "routedurhum",
          "écologie",
          "COP27",
          "écologie",
          "midterm",
          "oceanviking",
          "qatar",
          "routedurhum",
          "écologie",
          "COP27",
          "écologie",
          "midterm",
          "oceanviking",
          "qatar",
          "routedurhum",
          "écologie",
          "COP27",
          "écologie",
          "midterm",
          "oceanviking",
          "qatar",
          "routedurhum",
          "écologie",
          "COP27",
          "écologie",
          "midterm",
          "oceanviking",
          "qatar",
          "routedurhum",
          "écologie",
          "COP27",
          "écologie",
          "midterm",
          "oceanviking",
          "qatar",
          "routedurhum",
          "écologie",
          "COP27",
          "écologie",
          "midterm",
          "oceanviking",
          "qatar",
          "routedurhum",
          "écologie",
          "COP27",
          "écologie",
          "midterm",
          "oceanviking",
          "qatar",
          "routedurhum",
          "écologie",
          "COP27",
          "écologie",
          "midterm",
          "oceanviking",
          "qatar",
          "routedurhum",
          "écologie",
          "COP27",
          "écologie",
          "midterm",
          "oceanviking",
          "qatar",
          "routedurhum",
          "écologie",
          "COP27",
          "écologie",
          "midterm",
          "oceanviking",
          "qatar",
          "routedurhum",
          "écologie",
          "COP27",
          "écologie",
          "midterm",
          "oceanviking",
          "qatar",
          "routedurhum",
          "écologie",
          "COP27",
          "écologie",
          "midterm",
          "oceanviking",
          "qatar",
          "routedurhum",
          "écologie",
          "COP27",
          "écologie",
          "midterm",
          "oceanviking",
          "qatar",
          "routedurhum",
          "écologie",
          "COP27",
          "écologie",
          "midterm",
          "oceanviking",
          "qatar",
          "routedurhum",
          "écologie",
          "COP27",
          "écologie",
          "midterm",
          "oceanviking",
          "qatar",
          "routedurhum",
          "écologie",
          "COP27",
          "écologie",
          "midterm",
          "oceanviking",
          "qatar",
          "routedurhum",
          "écologie",
          "COP27",
          "écologie",
          "midterm",
          "oceanviking",
          "qatar",
          "routedurhum",
          "écologie",
          "COP27",
          "écologie",
          "midterm",
          "oceanviking",
          "qatar",
          "routedurhum",
          "écologie",
          "COP27",
          "écologie",
          "midterm",
          "oceanviking",
          "qatar",
          "routedurhum",
          "écologie",
          "COP27",
          "écologie",
          "midterm",
          "oceanviking",
          "qatar",
          "routedurhum",
          "écologie",
          "COP27",
          "écologie",
          "midterm",
          "oceanviking",
          "qatar",
          "routedurhum",
          "écologie",
          "COP27",
          "écologie",
          "midterm",
          "oceanviking",
          "qatar",
          "routedurhum",
          "écologie",
          "COP27",
          "écologie",
          "midterm",
          "oceanviking",
          "qatar",
          "routedurhum",
          "écologie",
          "COP27",
          "écologie",
          "midterm",
          "oceanviking",
          "qatar",
          "routedurhum",
          "écologie",
          "COP27",
          "écologie",
          "midterm",
          "oceanviking",
          "qatar",
          "routedurhum",
          "écologie",
          "COP27",
          "écologie",
          "midterm",
          "oceanviking",
          "qatar",
          "routedurhum",
          "écologie",
          "COP27",
          "écologie",
          "midterm",
          "oceanviking",
          "qatar",
          "routedurhum",
          "écologie",
          "COP27",
          "écologie",
          "midterm",
          "oceanviking",
          "qatar",
          "routedurhum",
          "écologie",
          "COP27",
          "écologie",
          "midterm",
          "oceanviking",
          "qatar",
          "routedurhum",
          "écologie",
          "COP27",
          "écologie",
          "midterm",
          "oceanviking",
          "qatar",
          "routedurhum",
          "écologie",
          "COP27",
          "écologie",
          "midterm",
          "oceanviking",
          "qatar",
          "routedurhum",
          "écologie",
          "COP27",
          "écologie",
          "midterm",
          "oceanviking",
          "qatar",
          "routedurhum",
          "écologie",
          "COP27",
          "écologie",
          "midterm",
          "oceanviking",
          "qatar",
          "routedurhum",
          "écologie",
          "COP27",
          "écologie",
          "midterm",
          "oceanviking",
          "qatar",
          "routedurhum",
          "écologie",
          "COP27",
          "écologie",
          "midterm",
          "oceanviking",
          "qatar",
          "routedurhum",
          "écologie",
          "COP27",
          "écologie",
          "midterm",
          "oceanviking",
          "qatar",
          "routedurhum",
          "écologie",
          "COP27",
          "écologie",
          "midterm",
          "oceanviking",
          "qatar",
          "routedurhum",
          "écologie",
          "COP27",
          "écologie",
          "midterm",
          "oceanviking",
          "qatar",
          "routedurhum",
          "écologie",
          "COP27",
          "écologie",
          "midterm",
          "oceanviking",
          "qatar",
          "routedurhum",
          "écologie",
          "COP27",
          "écologie",
          "midterm",
          "oceanviking",
          "qatar",
          "routedurhum",
          "écologie",
          "COP27",
          "écologie",
          "midterm",
          "oceanviking",
          "qatar",
          "routedurhum",
          "écologie",
          "COP27",
          "écologie",
          "midterm",
          "oceanviking",
          "qatar",
          "routedurhum",
          "écologie",
          "COP27",
          "écologie",
          "midterm",
          "oceanviking",
          "qatar",
          "routedurhum",
          "écologie",
          "COP27",
          "écologie",
          "midterm",
          "oceanviking",
          "qatar",
          "routedurhum",
          "écologie",
          "COP27",
          "écologie",
          "midterm",
          "oceanviking",
          "qatar",
          "routedurhum",
          "écologie",
          "COP27",
          "écologie",
          "midterm",
          "oceanviking",
          "qatar",
          "routedurhum",
          "écologie",
          "COP27",
          "écologie",
          "midterm",
          "oceanviking",
          "qatar",
          "routedurhum",
          "écologie",
          "COP27",
          "écologie",
          "midterm",
          "oceanviking",
          "qatar",
          "routedurhum",
          "écologie",
          "COP27",
          "écologie",
          "midterm",
          "oceanviking",
          "qatar",
          "routedurhum",
          "écologie",
          "COP27",
          "écologie",
          "midterm",
          "oceanviking",
          "qatar",
          "routedurhum",
          "écologie",
          "COP27",
          "écologie",
          "midterm",
          "oceanviking",
          "qatar",
          "routedurhum",
          "écologie",
          "COP27",
          "écologie",
          "midterm",
          "oceanviking",
          "qatar",
          "routedurhum",
          "écologie",
          "COP27",
          "écologie",
          "midterm",
          "oceanviking",
          "qatar",
          "routedurhum",
          "écologie",
          "COP27",
          "écologie",
          "midterm",
          "oceanviking",
          "qatar",
          "routedurhum",
          "écologie",
          "COP27",
          "écologie",
          "midterm",
          "oceanviking",
          "qatar",
          "routedurhum",
          "écologie",
          "COP27",
          "écologie",
          "midterm",
          "oceanviking",
          "qatar",
          "routedurhum",
          "écologie",
          "COP27",
          "écologie",
          "midterm",
          "oceanviking",
          "qatar",
          "routedurhum",
          "écologie",
          "COP27",
          "écologie",
          "midterm",
          "oceanviking",
          "qatar",
          "routedurhum",
          "écologie",
          "COP27",
          "écologie",
          "midterm",
          "oceanviking",
          "qatar",
          "routedurhum",
          "écologie",
          "COP27",
          "écologie",
          "midterm",
          "oceanviking",
          "qatar",
          "routedurhum",
          "écologie",
          "COP27",
          "écologie",
          "midterm",
          "oceanviking",
          "qatar",
          "routedurhum",
          "écologie",
          "COP27",
          "écologie",
          "midterm",
          "oceanviking",
          "qatar",
          "routedurhum",
          "écologie",
          "COP27",
          "écologie",
          "midterm",
          "oceanviking",
          "qatar",
          "routedurhum",
          "écologie",
          "COP27",
          "écologie",
          "midterm",
          "oceanviking",
          "qatar",
          "routedurhum",
          "écologie"
         ],
         "legendgroup": "",
         "name": "",
         "showlegend": true,
         "values": [
          6,
          0,
          6,
          0,
          14,
          0,
          88,
          46,
          0,
          70,
          0,
          14,
          0,
          156,
          24,
          0,
          156,
          0,
          0,
          0,
          146,
          6,
          108,
          178,
          0,
          16,
          2,
          0,
          10,
          96,
          42,
          2,
          6,
          2,
          0,
          6,
          60,
          94,
          0,
          8,
          0,
          0,
          2,
          0,
          4,
          0,
          0,
          0,
          4,
          4,
          0,
          10,
          0,
          4,
          0,
          0,
          2,
          0,
          18,
          0,
          0,
          0,
          2,
          2,
          4,
          8,
          0,
          10,
          4,
          0,
          4,
          0,
          14,
          2,
          4,
          0,
          0,
          0,
          0,
          2,
          4,
          8,
          2,
          0,
          0,
          0,
          0,
          0,
          0,
          0,
          0,
          0,
          0,
          0,
          0,
          0,
          0,
          0,
          0,
          0,
          0,
          0,
          2,
          0,
          0,
          0,
          0,
          0,
          0,
          0,
          0,
          0,
          0,
          0,
          0,
          0,
          2,
          0,
          0,
          0,
          0,
          0,
          0,
          0,
          0,
          0,
          6,
          0,
          22,
          0,
          0,
          0,
          26,
          20,
          0,
          90,
          0,
          8,
          0,
          84,
          12,
          0,
          114,
          0,
          2,
          0,
          90,
          18,
          36,
          136,
          0,
          2,
          0,
          0,
          0,
          34,
          48,
          6,
          4,
          0,
          0,
          10,
          124,
          42,
          36,
          6,
          0,
          0,
          44,
          0,
          110,
          0,
          44,
          136,
          254,
          48,
          0,
          212,
          4,
          112,
          56,
          278,
          32,
          0,
          334,
          0,
          30,
          68,
          228,
          6,
          42,
          270,
          0,
          154,
          160,
          0,
          2,
          72,
          108,
          170,
          124,
          72,
          0,
          2,
          70,
          216,
          110,
          68,
          76,
          0,
          20,
          0,
          66,
          0,
          12,
          36,
          92,
          18,
          0,
          94,
          0,
          20,
          6,
          104,
          4,
          0,
          188,
          0,
          22,
          8,
          106,
          8,
          34,
          168,
          0,
          28,
          40,
          0,
          6,
          74,
          42,
          22,
          28,
          20,
          0,
          10,
          58,
          58,
          46,
          16,
          20,
          0,
          0,
          0,
          0,
          0,
          0,
          0,
          0,
          2,
          0,
          6,
          0,
          0,
          0,
          4,
          0,
          0,
          6,
          0,
          0,
          0,
          2,
          0,
          6,
          2,
          0,
          0,
          2,
          0,
          0,
          0,
          0,
          0,
          0,
          0,
          0,
          0,
          2,
          2,
          4,
          0,
          0,
          0,
          0,
          0,
          0,
          0,
          0,
          0,
          0,
          0,
          0,
          6,
          0,
          12,
          0,
          20,
          0,
          0,
          22,
          0,
          4,
          0,
          20,
          0,
          8,
          14,
          0,
          22,
          8,
          0,
          0,
          4,
          18,
          0,
          20,
          0,
          0,
          0,
          0,
          2,
          2,
          10,
          0,
          0,
          8,
          0,
          0,
          0,
          0,
          0,
          6,
          10,
          0,
          0,
          0,
          0,
          0,
          26,
          4,
          0,
          0,
          0,
          0,
          0,
          24,
          2,
          6,
          0,
          0,
          0,
          0,
          0,
          0,
          24,
          6,
          0,
          0,
          0,
          0,
          0,
          0,
          4,
          0,
          0,
          0,
          0,
          0,
          0,
          0,
          0,
          0,
          0,
          0,
          0,
          0,
          0,
          0,
          0,
          0,
          2,
          0,
          0,
          0,
          0,
          0,
          0,
          0,
          0,
          0,
          0,
          0,
          0,
          0,
          0,
          0,
          0,
          0,
          0,
          0,
          0,
          0,
          0,
          0,
          0,
          0,
          0,
          0,
          0,
          0,
          0,
          0,
          0,
          0,
          0,
          0,
          6,
          0,
          2,
          0,
          16,
          0,
          20,
          0,
          0,
          28,
          0,
          8,
          0,
          14,
          0,
          2,
          0,
          0,
          12,
          0,
          0,
          0,
          0,
          0,
          2,
          14,
          0,
          0,
          0,
          4,
          0,
          10,
          36,
          0,
          0,
          0,
          0,
          0,
          0,
          4,
          0,
          4,
          8,
          0,
          0,
          0,
          14,
          0,
          8,
          4,
          0,
          4,
          0,
          4,
          0,
          2,
          0,
          2,
          20,
          0,
          10,
          0,
          0,
          0,
          0,
          2,
          0,
          14,
          0,
          0,
          0,
          2,
          8,
          4,
          2,
          4,
          0,
          4,
          0,
          6,
          0,
          0,
          6,
          10,
          12,
          0,
          6,
          0,
          2,
          2,
          8,
          4,
          0,
          18,
          0,
          2,
          0,
          12,
          0,
          2,
          20,
          0,
          6,
          14,
          0,
          0,
          2,
          6,
          10,
          2,
          0,
          0,
          0,
          4,
          12,
          6,
          2,
          0,
          0,
          0,
          0,
          0,
          0,
          0,
          0,
          0,
          14,
          0,
          8,
          0,
          6,
          0,
          20,
          4,
          0,
          18,
          0,
          0,
          0,
          14,
          14,
          40,
          20,
          0,
          8,
          0,
          0,
          0,
          4,
          14,
          2,
          6,
          4,
          0,
          0,
          0,
          0,
          0,
          0,
          0,
          0,
          22,
          0,
          102,
          0,
          4,
          12,
          102,
          30,
          0,
          126,
          0,
          40,
          0,
          210,
          24,
          0,
          200,
          0,
          30,
          0,
          170,
          20,
          86,
          214,
          0,
          48,
          2,
          0,
          18,
          86,
          80,
          16,
          68,
          0,
          0,
          6,
          112,
          126,
          28,
          140,
          2,
          0,
          24,
          0,
          10,
          0,
          54,
          10,
          36,
          12,
          0,
          14,
          0,
          76,
          4,
          70,
          10,
          0,
          56,
          0,
          72,
          4,
          40,
          2,
          8,
          24,
          0,
          104,
          18,
          0,
          0,
          18,
          10,
          16,
          146,
          4,
          0,
          4,
          14,
          12,
          44,
          94,
          10,
          0,
          24,
          0,
          34,
          0,
          8,
          22,
          66,
          30,
          0,
          24,
          2,
          26,
          4,
          82,
          6,
          0,
          102,
          0,
          26,
          6,
          68,
          0,
          16,
          64,
          0,
          44,
          26,
          0,
          0,
          20,
          22,
          50,
          26,
          10,
          0,
          0,
          10,
          28,
          46,
          38,
          8,
          0,
          0,
          0,
          0,
          0,
          0,
          0,
          0,
          2,
          0,
          8,
          0,
          10,
          0,
          4,
          0,
          0,
          18,
          0,
          2,
          0,
          8,
          0,
          4,
          20,
          0,
          4,
          2,
          0,
          0,
          0,
          10,
          6,
          10,
          0,
          0,
          0,
          6,
          6,
          12,
          6,
          2,
          0,
          0,
          0,
          0,
          0,
          0,
          0,
          0,
          20,
          0,
          34,
          0,
          14,
          0,
          36,
          10,
          0,
          48,
          0,
          10,
          6,
          20,
          6,
          20,
          64,
          0,
          10,
          20,
          0,
          4,
          8,
          26,
          10,
          40,
          8,
          0,
          4,
          28,
          26,
          16,
          0,
          8,
          0,
          0,
          0,
          0,
          0,
          0,
          0,
          0,
          0,
          0,
          0,
          0,
          6,
          0,
          18,
          4,
          0,
          14,
          0,
          0,
          0,
          8,
          0,
          4,
          20,
          0,
          6,
          0,
          0,
          0,
          0,
          2,
          0,
          14,
          0,
          0,
          0,
          0,
          2,
          0,
          0,
          0,
          0,
          0,
          0,
          0,
          0,
          0,
          0,
          0,
          6,
          0,
          0,
          0,
          0,
          10,
          6,
          6,
          0,
          6,
          0,
          6,
          6,
          6,
          2,
          10,
          8,
          0,
          8,
          10,
          0,
          0,
          2,
          4,
          0,
          14,
          6,
          0,
          0,
          2,
          2,
          0,
          6,
          0,
          0,
          0,
          0,
          0,
          0,
          2,
          0,
          0,
          2,
          0,
          2,
          0,
          0,
          0,
          16,
          0,
          0,
          14,
          0,
          4,
          0,
          6,
          0,
          2,
          8,
          0,
          16,
          0,
          0,
          0,
          2,
          8,
          0,
          8,
          0,
          0,
          0,
          2,
          2,
          8,
          6,
          0,
          0,
          0,
          0,
          0,
          0,
          0,
          0,
          0,
          0,
          0,
          10,
          0,
          2,
          0,
          10,
          0,
          0,
          20,
          0,
          0,
          0,
          10,
          0,
          0,
          16,
          0,
          0,
          0,
          0,
          0,
          4,
          20,
          2,
          8,
          0,
          0,
          0,
          0,
          0,
          0,
          0,
          0,
          0
         ],
         "type": "pie",
         "textinfo": "percent+label",
         "textposition": "inside"
        }
       ],
       "layout": {
        "template": {
         "data": {
          "barpolar": [
           {
            "marker": {
             "line": {
              "color": "white",
              "width": 0.5
             },
             "pattern": {
              "fillmode": "overlay",
              "size": 10,
              "solidity": 0.2
             }
            },
            "type": "barpolar"
           }
          ],
          "bar": [
           {
            "error_x": {
             "color": "#2a3f5f"
            },
            "error_y": {
             "color": "#2a3f5f"
            },
            "marker": {
             "line": {
              "color": "white",
              "width": 0.5
             },
             "pattern": {
              "fillmode": "overlay",
              "size": 10,
              "solidity": 0.2
             }
            },
            "type": "bar"
           }
          ],
          "carpet": [
           {
            "aaxis": {
             "endlinecolor": "#2a3f5f",
             "gridcolor": "#C8D4E3",
             "linecolor": "#C8D4E3",
             "minorgridcolor": "#C8D4E3",
             "startlinecolor": "#2a3f5f"
            },
            "baxis": {
             "endlinecolor": "#2a3f5f",
             "gridcolor": "#C8D4E3",
             "linecolor": "#C8D4E3",
             "minorgridcolor": "#C8D4E3",
             "startlinecolor": "#2a3f5f"
            },
            "type": "carpet"
           }
          ],
          "choropleth": [
           {
            "colorbar": {
             "outlinewidth": 0,
             "ticks": ""
            },
            "type": "choropleth"
           }
          ],
          "contourcarpet": [
           {
            "colorbar": {
             "outlinewidth": 0,
             "ticks": ""
            },
            "type": "contourcarpet"
           }
          ],
          "contour": [
           {
            "colorbar": {
             "outlinewidth": 0,
             "ticks": ""
            },
            "colorscale": [
             [
              0,
              "#0d0887"
             ],
             [
              0.1111111111111111,
              "#46039f"
             ],
             [
              0.2222222222222222,
              "#7201a8"
             ],
             [
              0.3333333333333333,
              "#9c179e"
             ],
             [
              0.4444444444444444,
              "#bd3786"
             ],
             [
              0.5555555555555556,
              "#d8576b"
             ],
             [
              0.6666666666666666,
              "#ed7953"
             ],
             [
              0.7777777777777778,
              "#fb9f3a"
             ],
             [
              0.8888888888888888,
              "#fdca26"
             ],
             [
              1,
              "#f0f921"
             ]
            ],
            "type": "contour"
           }
          ],
          "heatmapgl": [
           {
            "colorbar": {
             "outlinewidth": 0,
             "ticks": ""
            },
            "colorscale": [
             [
              0,
              "#0d0887"
             ],
             [
              0.1111111111111111,
              "#46039f"
             ],
             [
              0.2222222222222222,
              "#7201a8"
             ],
             [
              0.3333333333333333,
              "#9c179e"
             ],
             [
              0.4444444444444444,
              "#bd3786"
             ],
             [
              0.5555555555555556,
              "#d8576b"
             ],
             [
              0.6666666666666666,
              "#ed7953"
             ],
             [
              0.7777777777777778,
              "#fb9f3a"
             ],
             [
              0.8888888888888888,
              "#fdca26"
             ],
             [
              1,
              "#f0f921"
             ]
            ],
            "type": "heatmapgl"
           }
          ],
          "heatmap": [
           {
            "colorbar": {
             "outlinewidth": 0,
             "ticks": ""
            },
            "colorscale": [
             [
              0,
              "#0d0887"
             ],
             [
              0.1111111111111111,
              "#46039f"
             ],
             [
              0.2222222222222222,
              "#7201a8"
             ],
             [
              0.3333333333333333,
              "#9c179e"
             ],
             [
              0.4444444444444444,
              "#bd3786"
             ],
             [
              0.5555555555555556,
              "#d8576b"
             ],
             [
              0.6666666666666666,
              "#ed7953"
             ],
             [
              0.7777777777777778,
              "#fb9f3a"
             ],
             [
              0.8888888888888888,
              "#fdca26"
             ],
             [
              1,
              "#f0f921"
             ]
            ],
            "type": "heatmap"
           }
          ],
          "histogram2dcontour": [
           {
            "colorbar": {
             "outlinewidth": 0,
             "ticks": ""
            },
            "colorscale": [
             [
              0,
              "#0d0887"
             ],
             [
              0.1111111111111111,
              "#46039f"
             ],
             [
              0.2222222222222222,
              "#7201a8"
             ],
             [
              0.3333333333333333,
              "#9c179e"
             ],
             [
              0.4444444444444444,
              "#bd3786"
             ],
             [
              0.5555555555555556,
              "#d8576b"
             ],
             [
              0.6666666666666666,
              "#ed7953"
             ],
             [
              0.7777777777777778,
              "#fb9f3a"
             ],
             [
              0.8888888888888888,
              "#fdca26"
             ],
             [
              1,
              "#f0f921"
             ]
            ],
            "type": "histogram2dcontour"
           }
          ],
          "histogram2d": [
           {
            "colorbar": {
             "outlinewidth": 0,
             "ticks": ""
            },
            "colorscale": [
             [
              0,
              "#0d0887"
             ],
             [
              0.1111111111111111,
              "#46039f"
             ],
             [
              0.2222222222222222,
              "#7201a8"
             ],
             [
              0.3333333333333333,
              "#9c179e"
             ],
             [
              0.4444444444444444,
              "#bd3786"
             ],
             [
              0.5555555555555556,
              "#d8576b"
             ],
             [
              0.6666666666666666,
              "#ed7953"
             ],
             [
              0.7777777777777778,
              "#fb9f3a"
             ],
             [
              0.8888888888888888,
              "#fdca26"
             ],
             [
              1,
              "#f0f921"
             ]
            ],
            "type": "histogram2d"
           }
          ],
          "histogram": [
           {
            "marker": {
             "pattern": {
              "fillmode": "overlay",
              "size": 10,
              "solidity": 0.2
             }
            },
            "type": "histogram"
           }
          ],
          "mesh3d": [
           {
            "colorbar": {
             "outlinewidth": 0,
             "ticks": ""
            },
            "type": "mesh3d"
           }
          ],
          "parcoords": [
           {
            "line": {
             "colorbar": {
              "outlinewidth": 0,
              "ticks": ""
             }
            },
            "type": "parcoords"
           }
          ],
          "pie": [
           {
            "automargin": true,
            "type": "pie"
           }
          ],
          "scatter3d": [
           {
            "line": {
             "colorbar": {
              "outlinewidth": 0,
              "ticks": ""
             }
            },
            "marker": {
             "colorbar": {
              "outlinewidth": 0,
              "ticks": ""
             }
            },
            "type": "scatter3d"
           }
          ],
          "scattercarpet": [
           {
            "marker": {
             "colorbar": {
              "outlinewidth": 0,
              "ticks": ""
             }
            },
            "type": "scattercarpet"
           }
          ],
          "scattergeo": [
           {
            "marker": {
             "colorbar": {
              "outlinewidth": 0,
              "ticks": ""
             }
            },
            "type": "scattergeo"
           }
          ],
          "scattergl": [
           {
            "marker": {
             "colorbar": {
              "outlinewidth": 0,
              "ticks": ""
             }
            },
            "type": "scattergl"
           }
          ],
          "scattermapbox": [
           {
            "marker": {
             "colorbar": {
              "outlinewidth": 0,
              "ticks": ""
             }
            },
            "type": "scattermapbox"
           }
          ],
          "scatterpolargl": [
           {
            "marker": {
             "colorbar": {
              "outlinewidth": 0,
              "ticks": ""
             }
            },
            "type": "scatterpolargl"
           }
          ],
          "scatterpolar": [
           {
            "marker": {
             "colorbar": {
              "outlinewidth": 0,
              "ticks": ""
             }
            },
            "type": "scatterpolar"
           }
          ],
          "scatter": [
           {
            "fillpattern": {
             "fillmode": "overlay",
             "size": 10,
             "solidity": 0.2
            },
            "type": "scatter"
           }
          ],
          "scatterternary": [
           {
            "marker": {
             "colorbar": {
              "outlinewidth": 0,
              "ticks": ""
             }
            },
            "type": "scatterternary"
           }
          ],
          "surface": [
           {
            "colorbar": {
             "outlinewidth": 0,
             "ticks": ""
            },
            "colorscale": [
             [
              0,
              "#0d0887"
             ],
             [
              0.1111111111111111,
              "#46039f"
             ],
             [
              0.2222222222222222,
              "#7201a8"
             ],
             [
              0.3333333333333333,
              "#9c179e"
             ],
             [
              0.4444444444444444,
              "#bd3786"
             ],
             [
              0.5555555555555556,
              "#d8576b"
             ],
             [
              0.6666666666666666,
              "#ed7953"
             ],
             [
              0.7777777777777778,
              "#fb9f3a"
             ],
             [
              0.8888888888888888,
              "#fdca26"
             ],
             [
              1,
              "#f0f921"
             ]
            ],
            "type": "surface"
           }
          ],
          "table": [
           {
            "cells": {
             "fill": {
              "color": "#EBF0F8"
             },
             "line": {
              "color": "white"
             }
            },
            "header": {
             "fill": {
              "color": "#C8D4E3"
             },
             "line": {
              "color": "white"
             }
            },
            "type": "table"
           }
          ]
         },
         "layout": {
          "annotationdefaults": {
           "arrowcolor": "#2a3f5f",
           "arrowhead": 0,
           "arrowwidth": 1
          },
          "autotypenumbers": "strict",
          "coloraxis": {
           "colorbar": {
            "outlinewidth": 0,
            "ticks": ""
           }
          },
          "colorscale": {
           "diverging": [
            [
             0,
             "#8e0152"
            ],
            [
             0.1,
             "#c51b7d"
            ],
            [
             0.2,
             "#de77ae"
            ],
            [
             0.3,
             "#f1b6da"
            ],
            [
             0.4,
             "#fde0ef"
            ],
            [
             0.5,
             "#f7f7f7"
            ],
            [
             0.6,
             "#e6f5d0"
            ],
            [
             0.7,
             "#b8e186"
            ],
            [
             0.8,
             "#7fbc41"
            ],
            [
             0.9,
             "#4d9221"
            ],
            [
             1,
             "#276419"
            ]
           ],
           "sequential": [
            [
             0,
             "#0d0887"
            ],
            [
             0.1111111111111111,
             "#46039f"
            ],
            [
             0.2222222222222222,
             "#7201a8"
            ],
            [
             0.3333333333333333,
             "#9c179e"
            ],
            [
             0.4444444444444444,
             "#bd3786"
            ],
            [
             0.5555555555555556,
             "#d8576b"
            ],
            [
             0.6666666666666666,
             "#ed7953"
            ],
            [
             0.7777777777777778,
             "#fb9f3a"
            ],
            [
             0.8888888888888888,
             "#fdca26"
            ],
            [
             1,
             "#f0f921"
            ]
           ],
           "sequentialminus": [
            [
             0,
             "#0d0887"
            ],
            [
             0.1111111111111111,
             "#46039f"
            ],
            [
             0.2222222222222222,
             "#7201a8"
            ],
            [
             0.3333333333333333,
             "#9c179e"
            ],
            [
             0.4444444444444444,
             "#bd3786"
            ],
            [
             0.5555555555555556,
             "#d8576b"
            ],
            [
             0.6666666666666666,
             "#ed7953"
            ],
            [
             0.7777777777777778,
             "#fb9f3a"
            ],
            [
             0.8888888888888888,
             "#fdca26"
            ],
            [
             1,
             "#f0f921"
            ]
           ]
          },
          "colorway": [
           "#636efa",
           "#EF553B",
           "#00cc96",
           "#ab63fa",
           "#FFA15A",
           "#19d3f3",
           "#FF6692",
           "#B6E880",
           "#FF97FF",
           "#FECB52"
          ],
          "font": {
           "color": "#2a3f5f"
          },
          "geo": {
           "bgcolor": "white",
           "lakecolor": "white",
           "landcolor": "white",
           "showlakes": true,
           "showland": true,
           "subunitcolor": "#C8D4E3"
          },
          "hoverlabel": {
           "align": "left"
          },
          "hovermode": "closest",
          "mapbox": {
           "style": "light"
          },
          "paper_bgcolor": "white",
          "plot_bgcolor": "white",
          "polar": {
           "angularaxis": {
            "gridcolor": "#EBF0F8",
            "linecolor": "#EBF0F8",
            "ticks": ""
           },
           "bgcolor": "white",
           "radialaxis": {
            "gridcolor": "#EBF0F8",
            "linecolor": "#EBF0F8",
            "ticks": ""
           }
          },
          "scene": {
           "xaxis": {
            "backgroundcolor": "white",
            "gridcolor": "#DFE8F3",
            "gridwidth": 2,
            "linecolor": "#EBF0F8",
            "showbackground": true,
            "ticks": "",
            "zerolinecolor": "#EBF0F8"
           },
           "yaxis": {
            "backgroundcolor": "white",
            "gridcolor": "#DFE8F3",
            "gridwidth": 2,
            "linecolor": "#EBF0F8",
            "showbackground": true,
            "ticks": "",
            "zerolinecolor": "#EBF0F8"
           },
           "zaxis": {
            "backgroundcolor": "white",
            "gridcolor": "#DFE8F3",
            "gridwidth": 2,
            "linecolor": "#EBF0F8",
            "showbackground": true,
            "ticks": "",
            "zerolinecolor": "#EBF0F8"
           }
          },
          "shapedefaults": {
           "line": {
            "color": "#2a3f5f"
           }
          },
          "ternary": {
           "aaxis": {
            "gridcolor": "#DFE8F3",
            "linecolor": "#A2B1C6",
            "ticks": ""
           },
           "baxis": {
            "gridcolor": "#DFE8F3",
            "linecolor": "#A2B1C6",
            "ticks": ""
           },
           "bgcolor": "white",
           "caxis": {
            "gridcolor": "#DFE8F3",
            "linecolor": "#A2B1C6",
            "ticks": ""
           }
          },
          "title": {
           "x": 0.05
          },
          "xaxis": {
           "automargin": true,
           "gridcolor": "#EBF0F8",
           "linecolor": "#EBF0F8",
           "ticks": "",
           "title": {
            "standoff": 15
           },
           "zerolinecolor": "#EBF0F8",
           "zerolinewidth": 2
          },
          "yaxis": {
           "automargin": true,
           "gridcolor": "#EBF0F8",
           "linecolor": "#EBF0F8",
           "ticks": "",
           "title": {
            "standoff": 15
           },
           "zerolinecolor": "#EBF0F8",
           "zerolinewidth": 2
          }
         }
        },
        "legend": {
         "tracegroupgap": 0
        },
        "title": {
         "text": "Split TV / Radio"
        }
       },
       "config": {
        "plotlyServerURL": "https://plot.ly"
       }
      }
     },
     "metadata": {}
    }
   ],
   "metadata": {}
  },
  {
   "cell_type": "code",
   "execution_count": null,
   "source": [],
   "outputs": [],
   "metadata": {}
  }
 ],
 "metadata": {
  "interpreter": {
   "hash": "0ff42cd313d39b96e6548fdae68a6a114da09a259a05b6e4c9513dfe461c2a77"
  },
  "kernelspec": {
   "name": "python3",
   "display_name": "Python 3.10.2 64-bit ('quotaclimat': pyenv)"
  },
  "language_info": {
   "codemirror_mode": {
    "name": "ipython",
    "version": 3
   },
   "file_extension": ".py",
   "mimetype": "text/x-python",
   "name": "python",
   "nbconvert_exporter": "python",
   "pygments_lexer": "ipython3",
   "version": "3.10.2"
  },
  "vscode": {
   "interpreter": {
    "hash": "b841845b27b8c69fcb4b40deb2f6b6285a40a87379e4c1cb9a4e3ac80431c2ca"
   }
  }
 },
 "nbformat": 4,
 "nbformat_minor": 5
}