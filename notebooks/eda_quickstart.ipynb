{
 "cells": [
  {
   "cell_type": "markdown",
   "source": [
    "# Quickstart QuotaClimat"
   ],
   "metadata": {}
  },
  {
   "cell_type": "markdown",
   "source": [
    "![](../coverquotaclimat.png)"
   ],
   "metadata": {}
  },
  {
   "cell_type": "markdown",
   "source": [
    "> Notebook python d'exploration pour fournir une base d'analyse et de visualisation pour toute l'équipe"
   ],
   "metadata": {}
  },
  {
   "cell_type": "code",
   "execution_count": 2,
   "source": [
    "import pandas as pd\n",
    "import numpy as np\n",
    "import plotly.express as px\n",
    "import plotly.graph_objects as go\n",
    "import matplotlib.pyplot as plt\n",
    "import datetime"
   ],
   "outputs": [],
   "metadata": {}
  },
  {
   "cell_type": "markdown",
   "source": [
    "##### Charte graphique plotly"
   ],
   "metadata": {}
  },
  {
   "cell_type": "code",
   "execution_count": 3,
   "source": [
    "# CONFIG AND THEMES\n",
    "COLOR_SEQUENCE = [\n",
    "    \"rgb(230, 50, 24)\",\n",
    "    \"rgb(240, 73, 70)\",\n",
    "    \"rgb(243, 127, 125)\",\n",
    "    \"rgb(248, 182, 181)\",\n",
    "    \"rgb(209, 220, 197)\",\n",
    "    \"rgb(137, 168, 141)\",\n",
    "    \"rgb(59, 111, 66)\",\n",
    "    \"rgb(66, 66, 66)\",\n",
    "]\n",
    "\n",
    "SMALL_SEQUENCE2 = [\n",
    "    \"rgb(230, 50, 24)\",\n",
    "    \"rgb(59, 111, 66)\",\n",
    "]\n",
    "\n",
    "WARMING_STRIPES_SEQUENCE =  ['#08306b', '#08519c', '#2171b5', '#4292c6',\n",
    "    '#6baed6', '#9ecae1', '#c6dbef', '#deebf7',\n",
    "    '#fee0d2', '#fcbba1', '#fc9272', '#fb6a4a',\n",
    "    '#ef3b2c', '#cb181d', '#a50f15', '#67000d',\n",
    "]\n",
    "\n",
    "COLOR_SEQUENCE = COLOR_SEQUENCE #+ px.colors.qualitative.Antique\n",
    "px.defaults.template = \"plotly_white\"\n",
    "px.defaults.color_discrete_sequence = COLOR_SEQUENCE\n",
    "\n",
    "# Create Plotly theme to set as default\n",
    "THEME = go.layout.Template()\n",
    "THEME.layout.treemapcolorway = COLOR_SEQUENCE\n",
    "THEME.layout.sunburstcolorway = COLOR_SEQUENCE\n",
    "THEME.layout.colorway = COLOR_SEQUENCE\n",
    "THEME.layout.piecolorway = COLOR_SEQUENCE\n",
    "THEME.layout.font = {\"family\":\"Helvetica\"}\n",
    "px.defaults.template = THEME\n",
    "\n",
    "# Visualize Colormap\n",
    "fig = px.bar(\n",
    "    pd.DataFrame({\"color\":COLOR_SEQUENCE}).assign(value = lambda x : 1,palette = lambda x : \"QUOTACLIMAT\").append(\n",
    "    pd.DataFrame({\"color\":WARMING_STRIPES_SEQUENCE}).assign(value = lambda x : 1,palette = lambda x : \"WARMINGSTRIPES\")\n",
    "    ),\n",
    "    x = \"value\",\n",
    "    y = \"palette\",\n",
    "    color = \"color\",\n",
    "    height = 300,\n",
    "    \n",
    "    color_discrete_sequence=COLOR_SEQUENCE + WARMING_STRIPES_SEQUENCE\n",
    ")\n",
    "fig.update_layout(xaxis={\"showticklabels\":False,\"title\":\"\"},yaxis={\"title\":\"\"},showlegend=False)\n",
    "fig"
   ],
   "outputs": [
    {
     "output_type": "stream",
     "name": "stderr",
     "text": [
      "C:\\Users\\Gregoire\\AppData\\Local\\Temp\\ipykernel_21288\\3701879964.py:39: FutureWarning: The frame.append method is deprecated and will be removed from pandas in a future version. Use pandas.concat instead.\n",
      "  pd.DataFrame({\"color\":COLOR_SEQUENCE}).assign(value = lambda x : 1,palette = lambda x : \"QUOTACLIMAT\").append(\n"
     ]
    },
    {
     "output_type": "display_data",
     "data": {
      "application/vnd.plotly.v1+json": {
       "config": {
        "plotlyServerURL": "https://plot.ly"
       },
       "data": [
        {
         "alignmentgroup": "True",
         "hovertemplate": "color=rgb(230, 50, 24)<br>value=%{x}<br>palette=%{y}<extra></extra>",
         "legendgroup": "rgb(230, 50, 24)",
         "marker": {
          "color": "rgb(230, 50, 24)",
          "pattern": {
           "shape": ""
          }
         },
         "name": "rgb(230, 50, 24)",
         "offsetgroup": "rgb(230, 50, 24)",
         "orientation": "h",
         "showlegend": true,
         "textposition": "auto",
         "type": "bar",
         "x": [
          1
         ],
         "xaxis": "x",
         "y": [
          "QUOTACLIMAT"
         ],
         "yaxis": "y"
        },
        {
         "alignmentgroup": "True",
         "hovertemplate": "color=rgb(240, 73, 70)<br>value=%{x}<br>palette=%{y}<extra></extra>",
         "legendgroup": "rgb(240, 73, 70)",
         "marker": {
          "color": "rgb(240, 73, 70)",
          "pattern": {
           "shape": ""
          }
         },
         "name": "rgb(240, 73, 70)",
         "offsetgroup": "rgb(240, 73, 70)",
         "orientation": "h",
         "showlegend": true,
         "textposition": "auto",
         "type": "bar",
         "x": [
          1
         ],
         "xaxis": "x",
         "y": [
          "QUOTACLIMAT"
         ],
         "yaxis": "y"
        },
        {
         "alignmentgroup": "True",
         "hovertemplate": "color=rgb(243, 127, 125)<br>value=%{x}<br>palette=%{y}<extra></extra>",
         "legendgroup": "rgb(243, 127, 125)",
         "marker": {
          "color": "rgb(243, 127, 125)",
          "pattern": {
           "shape": ""
          }
         },
         "name": "rgb(243, 127, 125)",
         "offsetgroup": "rgb(243, 127, 125)",
         "orientation": "h",
         "showlegend": true,
         "textposition": "auto",
         "type": "bar",
         "x": [
          1
         ],
         "xaxis": "x",
         "y": [
          "QUOTACLIMAT"
         ],
         "yaxis": "y"
        },
        {
         "alignmentgroup": "True",
         "hovertemplate": "color=rgb(248, 182, 181)<br>value=%{x}<br>palette=%{y}<extra></extra>",
         "legendgroup": "rgb(248, 182, 181)",
         "marker": {
          "color": "rgb(248, 182, 181)",
          "pattern": {
           "shape": ""
          }
         },
         "name": "rgb(248, 182, 181)",
         "offsetgroup": "rgb(248, 182, 181)",
         "orientation": "h",
         "showlegend": true,
         "textposition": "auto",
         "type": "bar",
         "x": [
          1
         ],
         "xaxis": "x",
         "y": [
          "QUOTACLIMAT"
         ],
         "yaxis": "y"
        },
        {
         "alignmentgroup": "True",
         "hovertemplate": "color=rgb(209, 220, 197)<br>value=%{x}<br>palette=%{y}<extra></extra>",
         "legendgroup": "rgb(209, 220, 197)",
         "marker": {
          "color": "rgb(209, 220, 197)",
          "pattern": {
           "shape": ""
          }
         },
         "name": "rgb(209, 220, 197)",
         "offsetgroup": "rgb(209, 220, 197)",
         "orientation": "h",
         "showlegend": true,
         "textposition": "auto",
         "type": "bar",
         "x": [
          1
         ],
         "xaxis": "x",
         "y": [
          "QUOTACLIMAT"
         ],
         "yaxis": "y"
        },
        {
         "alignmentgroup": "True",
         "hovertemplate": "color=rgb(137, 168, 141)<br>value=%{x}<br>palette=%{y}<extra></extra>",
         "legendgroup": "rgb(137, 168, 141)",
         "marker": {
          "color": "rgb(137, 168, 141)",
          "pattern": {
           "shape": ""
          }
         },
         "name": "rgb(137, 168, 141)",
         "offsetgroup": "rgb(137, 168, 141)",
         "orientation": "h",
         "showlegend": true,
         "textposition": "auto",
         "type": "bar",
         "x": [
          1
         ],
         "xaxis": "x",
         "y": [
          "QUOTACLIMAT"
         ],
         "yaxis": "y"
        },
        {
         "alignmentgroup": "True",
         "hovertemplate": "color=rgb(59, 111, 66)<br>value=%{x}<br>palette=%{y}<extra></extra>",
         "legendgroup": "rgb(59, 111, 66)",
         "marker": {
          "color": "rgb(59, 111, 66)",
          "pattern": {
           "shape": ""
          }
         },
         "name": "rgb(59, 111, 66)",
         "offsetgroup": "rgb(59, 111, 66)",
         "orientation": "h",
         "showlegend": true,
         "textposition": "auto",
         "type": "bar",
         "x": [
          1
         ],
         "xaxis": "x",
         "y": [
          "QUOTACLIMAT"
         ],
         "yaxis": "y"
        },
        {
         "alignmentgroup": "True",
         "hovertemplate": "color=rgb(66, 66, 66)<br>value=%{x}<br>palette=%{y}<extra></extra>",
         "legendgroup": "rgb(66, 66, 66)",
         "marker": {
          "color": "rgb(66, 66, 66)",
          "pattern": {
           "shape": ""
          }
         },
         "name": "rgb(66, 66, 66)",
         "offsetgroup": "rgb(66, 66, 66)",
         "orientation": "h",
         "showlegend": true,
         "textposition": "auto",
         "type": "bar",
         "x": [
          1
         ],
         "xaxis": "x",
         "y": [
          "QUOTACLIMAT"
         ],
         "yaxis": "y"
        },
        {
         "alignmentgroup": "True",
         "hovertemplate": "color=#08306b<br>value=%{x}<br>palette=%{y}<extra></extra>",
         "legendgroup": "#08306b",
         "marker": {
          "color": "#08306b",
          "pattern": {
           "shape": ""
          }
         },
         "name": "#08306b",
         "offsetgroup": "#08306b",
         "orientation": "h",
         "showlegend": true,
         "textposition": "auto",
         "type": "bar",
         "x": [
          1
         ],
         "xaxis": "x",
         "y": [
          "WARMINGSTRIPES"
         ],
         "yaxis": "y"
        },
        {
         "alignmentgroup": "True",
         "hovertemplate": "color=#08519c<br>value=%{x}<br>palette=%{y}<extra></extra>",
         "legendgroup": "#08519c",
         "marker": {
          "color": "#08519c",
          "pattern": {
           "shape": ""
          }
         },
         "name": "#08519c",
         "offsetgroup": "#08519c",
         "orientation": "h",
         "showlegend": true,
         "textposition": "auto",
         "type": "bar",
         "x": [
          1
         ],
         "xaxis": "x",
         "y": [
          "WARMINGSTRIPES"
         ],
         "yaxis": "y"
        },
        {
         "alignmentgroup": "True",
         "hovertemplate": "color=#2171b5<br>value=%{x}<br>palette=%{y}<extra></extra>",
         "legendgroup": "#2171b5",
         "marker": {
          "color": "#2171b5",
          "pattern": {
           "shape": ""
          }
         },
         "name": "#2171b5",
         "offsetgroup": "#2171b5",
         "orientation": "h",
         "showlegend": true,
         "textposition": "auto",
         "type": "bar",
         "x": [
          1
         ],
         "xaxis": "x",
         "y": [
          "WARMINGSTRIPES"
         ],
         "yaxis": "y"
        },
        {
         "alignmentgroup": "True",
         "hovertemplate": "color=#4292c6<br>value=%{x}<br>palette=%{y}<extra></extra>",
         "legendgroup": "#4292c6",
         "marker": {
          "color": "#4292c6",
          "pattern": {
           "shape": ""
          }
         },
         "name": "#4292c6",
         "offsetgroup": "#4292c6",
         "orientation": "h",
         "showlegend": true,
         "textposition": "auto",
         "type": "bar",
         "x": [
          1
         ],
         "xaxis": "x",
         "y": [
          "WARMINGSTRIPES"
         ],
         "yaxis": "y"
        },
        {
         "alignmentgroup": "True",
         "hovertemplate": "color=#6baed6<br>value=%{x}<br>palette=%{y}<extra></extra>",
         "legendgroup": "#6baed6",
         "marker": {
          "color": "#6baed6",
          "pattern": {
           "shape": ""
          }
         },
         "name": "#6baed6",
         "offsetgroup": "#6baed6",
         "orientation": "h",
         "showlegend": true,
         "textposition": "auto",
         "type": "bar",
         "x": [
          1
         ],
         "xaxis": "x",
         "y": [
          "WARMINGSTRIPES"
         ],
         "yaxis": "y"
        },
        {
         "alignmentgroup": "True",
         "hovertemplate": "color=#9ecae1<br>value=%{x}<br>palette=%{y}<extra></extra>",
         "legendgroup": "#9ecae1",
         "marker": {
          "color": "#9ecae1",
          "pattern": {
           "shape": ""
          }
         },
         "name": "#9ecae1",
         "offsetgroup": "#9ecae1",
         "orientation": "h",
         "showlegend": true,
         "textposition": "auto",
         "type": "bar",
         "x": [
          1
         ],
         "xaxis": "x",
         "y": [
          "WARMINGSTRIPES"
         ],
         "yaxis": "y"
        },
        {
         "alignmentgroup": "True",
         "hovertemplate": "color=#c6dbef<br>value=%{x}<br>palette=%{y}<extra></extra>",
         "legendgroup": "#c6dbef",
         "marker": {
          "color": "#c6dbef",
          "pattern": {
           "shape": ""
          }
         },
         "name": "#c6dbef",
         "offsetgroup": "#c6dbef",
         "orientation": "h",
         "showlegend": true,
         "textposition": "auto",
         "type": "bar",
         "x": [
          1
         ],
         "xaxis": "x",
         "y": [
          "WARMINGSTRIPES"
         ],
         "yaxis": "y"
        },
        {
         "alignmentgroup": "True",
         "hovertemplate": "color=#deebf7<br>value=%{x}<br>palette=%{y}<extra></extra>",
         "legendgroup": "#deebf7",
         "marker": {
          "color": "#deebf7",
          "pattern": {
           "shape": ""
          }
         },
         "name": "#deebf7",
         "offsetgroup": "#deebf7",
         "orientation": "h",
         "showlegend": true,
         "textposition": "auto",
         "type": "bar",
         "x": [
          1
         ],
         "xaxis": "x",
         "y": [
          "WARMINGSTRIPES"
         ],
         "yaxis": "y"
        },
        {
         "alignmentgroup": "True",
         "hovertemplate": "color=#fee0d2<br>value=%{x}<br>palette=%{y}<extra></extra>",
         "legendgroup": "#fee0d2",
         "marker": {
          "color": "#fee0d2",
          "pattern": {
           "shape": ""
          }
         },
         "name": "#fee0d2",
         "offsetgroup": "#fee0d2",
         "orientation": "h",
         "showlegend": true,
         "textposition": "auto",
         "type": "bar",
         "x": [
          1
         ],
         "xaxis": "x",
         "y": [
          "WARMINGSTRIPES"
         ],
         "yaxis": "y"
        },
        {
         "alignmentgroup": "True",
         "hovertemplate": "color=#fcbba1<br>value=%{x}<br>palette=%{y}<extra></extra>",
         "legendgroup": "#fcbba1",
         "marker": {
          "color": "#fcbba1",
          "pattern": {
           "shape": ""
          }
         },
         "name": "#fcbba1",
         "offsetgroup": "#fcbba1",
         "orientation": "h",
         "showlegend": true,
         "textposition": "auto",
         "type": "bar",
         "x": [
          1
         ],
         "xaxis": "x",
         "y": [
          "WARMINGSTRIPES"
         ],
         "yaxis": "y"
        },
        {
         "alignmentgroup": "True",
         "hovertemplate": "color=#fc9272<br>value=%{x}<br>palette=%{y}<extra></extra>",
         "legendgroup": "#fc9272",
         "marker": {
          "color": "#fc9272",
          "pattern": {
           "shape": ""
          }
         },
         "name": "#fc9272",
         "offsetgroup": "#fc9272",
         "orientation": "h",
         "showlegend": true,
         "textposition": "auto",
         "type": "bar",
         "x": [
          1
         ],
         "xaxis": "x",
         "y": [
          "WARMINGSTRIPES"
         ],
         "yaxis": "y"
        },
        {
         "alignmentgroup": "True",
         "hovertemplate": "color=#fb6a4a<br>value=%{x}<br>palette=%{y}<extra></extra>",
         "legendgroup": "#fb6a4a",
         "marker": {
          "color": "#fb6a4a",
          "pattern": {
           "shape": ""
          }
         },
         "name": "#fb6a4a",
         "offsetgroup": "#fb6a4a",
         "orientation": "h",
         "showlegend": true,
         "textposition": "auto",
         "type": "bar",
         "x": [
          1
         ],
         "xaxis": "x",
         "y": [
          "WARMINGSTRIPES"
         ],
         "yaxis": "y"
        },
        {
         "alignmentgroup": "True",
         "hovertemplate": "color=#ef3b2c<br>value=%{x}<br>palette=%{y}<extra></extra>",
         "legendgroup": "#ef3b2c",
         "marker": {
          "color": "#ef3b2c",
          "pattern": {
           "shape": ""
          }
         },
         "name": "#ef3b2c",
         "offsetgroup": "#ef3b2c",
         "orientation": "h",
         "showlegend": true,
         "textposition": "auto",
         "type": "bar",
         "x": [
          1
         ],
         "xaxis": "x",
         "y": [
          "WARMINGSTRIPES"
         ],
         "yaxis": "y"
        },
        {
         "alignmentgroup": "True",
         "hovertemplate": "color=#cb181d<br>value=%{x}<br>palette=%{y}<extra></extra>",
         "legendgroup": "#cb181d",
         "marker": {
          "color": "#cb181d",
          "pattern": {
           "shape": ""
          }
         },
         "name": "#cb181d",
         "offsetgroup": "#cb181d",
         "orientation": "h",
         "showlegend": true,
         "textposition": "auto",
         "type": "bar",
         "x": [
          1
         ],
         "xaxis": "x",
         "y": [
          "WARMINGSTRIPES"
         ],
         "yaxis": "y"
        },
        {
         "alignmentgroup": "True",
         "hovertemplate": "color=#a50f15<br>value=%{x}<br>palette=%{y}<extra></extra>",
         "legendgroup": "#a50f15",
         "marker": {
          "color": "#a50f15",
          "pattern": {
           "shape": ""
          }
         },
         "name": "#a50f15",
         "offsetgroup": "#a50f15",
         "orientation": "h",
         "showlegend": true,
         "textposition": "auto",
         "type": "bar",
         "x": [
          1
         ],
         "xaxis": "x",
         "y": [
          "WARMINGSTRIPES"
         ],
         "yaxis": "y"
        },
        {
         "alignmentgroup": "True",
         "hovertemplate": "color=#67000d<br>value=%{x}<br>palette=%{y}<extra></extra>",
         "legendgroup": "#67000d",
         "marker": {
          "color": "#67000d",
          "pattern": {
           "shape": ""
          }
         },
         "name": "#67000d",
         "offsetgroup": "#67000d",
         "orientation": "h",
         "showlegend": true,
         "textposition": "auto",
         "type": "bar",
         "x": [
          1
         ],
         "xaxis": "x",
         "y": [
          "WARMINGSTRIPES"
         ],
         "yaxis": "y"
        }
       ],
       "layout": {
        "barmode": "relative",
        "height": 300,
        "legend": {
         "title": {
          "text": "color"
         },
         "tracegroupgap": 0
        },
        "margin": {
         "t": 60
        },
        "showlegend": false,
        "template": {
         "layout": {
          "colorway": [
           "rgb(230, 50, 24)",
           "rgb(240, 73, 70)",
           "rgb(243, 127, 125)",
           "rgb(248, 182, 181)",
           "rgb(209, 220, 197)",
           "rgb(137, 168, 141)",
           "rgb(59, 111, 66)",
           "rgb(66, 66, 66)"
          ],
          "font": {
           "family": "Helvetica"
          },
          "piecolorway": [
           "rgb(230, 50, 24)",
           "rgb(240, 73, 70)",
           "rgb(243, 127, 125)",
           "rgb(248, 182, 181)",
           "rgb(209, 220, 197)",
           "rgb(137, 168, 141)",
           "rgb(59, 111, 66)",
           "rgb(66, 66, 66)"
          ],
          "sunburstcolorway": [
           "rgb(230, 50, 24)",
           "rgb(240, 73, 70)",
           "rgb(243, 127, 125)",
           "rgb(248, 182, 181)",
           "rgb(209, 220, 197)",
           "rgb(137, 168, 141)",
           "rgb(59, 111, 66)",
           "rgb(66, 66, 66)"
          ],
          "treemapcolorway": [
           "rgb(230, 50, 24)",
           "rgb(240, 73, 70)",
           "rgb(243, 127, 125)",
           "rgb(248, 182, 181)",
           "rgb(209, 220, 197)",
           "rgb(137, 168, 141)",
           "rgb(59, 111, 66)",
           "rgb(66, 66, 66)"
          ]
         }
        },
        "xaxis": {
         "anchor": "y",
         "domain": [
          0,
          1
         ],
         "showticklabels": false,
         "title": {
          "text": ""
         }
        },
        "yaxis": {
         "anchor": "x",
         "domain": [
          0,
          1
         ],
         "title": {
          "text": ""
         }
        }
       }
      }
     },
     "metadata": {}
    }
   ],
   "metadata": {
    "scrolled": false
   }
  },
  {
   "cell_type": "markdown",
   "source": [
    "# Récupération des données"
   ],
   "metadata": {}
  },
  {
   "cell_type": "markdown",
   "source": [
    ">  A changer plus tard une fois la base de données SQL mise en place"
   ],
   "metadata": {}
  },
  {
   "cell_type": "code",
   "execution_count": 4,
   "source": [
    "import os\n",
    "os.listdir(\"../data/keywords\")"
   ],
   "outputs": [
    {
     "output_type": "execute_result",
     "data": {
      "text/plain": [
       "['20221015_lastmonth_all_activiste.xlsx',\n",
       " '20221015_lastmonth_all_biodiversité.xlsx',\n",
       " '20221015_lastmonth_all_changement climatique.xlsx',\n",
       " '20221015_lastmonth_all_décroissance.xlsx',\n",
       " '20221015_lastmonth_all_GIEC.xlsx',\n",
       " '20221015_lastmonth_all_réchauffement climatique.xlsx',\n",
       " '20221015_lastweek_all_sobriété.xlsx',\n",
       " '20221015_lastyear_bfmtv_changement climatique.xlsx',\n",
       " 'sobriety']"
      ]
     },
     "metadata": {},
     "execution_count": 4
    }
   ],
   "metadata": {}
  },
  {
   "cell_type": "markdown",
   "source": [
    "## Lecture d'un extrait Mediatree"
   ],
   "metadata": {}
  },
  {
   "cell_type": "code",
   "execution_count": 5,
   "source": [
    "data = pd.read_excel('../data/keywords/20221015_lastmonth_all_changement climatique.xlsx')\n",
    "data.head()"
   ],
   "outputs": [
    {
     "output_type": "execute_result",
     "data": {
      "text/html": [
       "<div>\n",
       "<style scoped>\n",
       "    .dataframe tbody tr th:only-of-type {\n",
       "        vertical-align: middle;\n",
       "    }\n",
       "\n",
       "    .dataframe tbody tr th {\n",
       "        vertical-align: top;\n",
       "    }\n",
       "\n",
       "    .dataframe thead th {\n",
       "        text-align: right;\n",
       "    }\n",
       "</style>\n",
       "<table border=\"1\" class=\"dataframe\">\n",
       "  <thead>\n",
       "    <tr style=\"text-align: right;\">\n",
       "      <th></th>\n",
       "      <th>CHANNEL</th>\n",
       "      <th>RADIO</th>\n",
       "      <th>DATE</th>\n",
       "      <th>TEXT</th>\n",
       "      <th>HIGHLIGHT</th>\n",
       "      <th>START CHUNK</th>\n",
       "      <th>END CHUNK</th>\n",
       "      <th>ORIGIN</th>\n",
       "      <th>URL</th>\n",
       "    </tr>\n",
       "  </thead>\n",
       "  <tbody>\n",
       "    <tr>\n",
       "      <th>0</th>\n",
       "      <td>tv-vendee</td>\n",
       "      <td>False</td>\n",
       "      <td>2022-10-06T06-58-00</td>\n",
       "      <td>&lt;unk&gt; &lt;unk&gt; &lt;unk&gt; la fête de la science s' inv...</td>\n",
       "      <td>du onze au seize octobre profitez d' événemen...</td>\n",
       "      <td>2022-10-06T06-58-00</td>\n",
       "      <td>2022-10-06T07-00-00</td>\n",
       "      <td>s2t</td>\n",
       "      <td>https://keywords.mediatree.fr/player/?fifo=tv-...</td>\n",
       "    </tr>\n",
       "    <tr>\n",
       "      <th>1</th>\n",
       "      <td>tv78-edd</td>\n",
       "      <td>False</td>\n",
       "      <td>2022-10-07T13-50-00</td>\n",
       "      <td>en ressources augmentation de la population mo...</td>\n",
       "      <td>qu' il est urgent de valoriser lors de la tra...</td>\n",
       "      <td>2022-10-07T13-50-00</td>\n",
       "      <td>2022-10-07T13-52-00</td>\n",
       "      <td>s2t</td>\n",
       "      <td>https://keywords.mediatree.fr/player/?fifo=tv7...</td>\n",
       "    </tr>\n",
       "    <tr>\n",
       "      <th>2</th>\n",
       "      <td>rcf-nievre-edd</td>\n",
       "      <td>True</td>\n",
       "      <td>2022-10-11T18-12-00</td>\n",
       "      <td>d' adaptation au changement climatique le grac...</td>\n",
       "      <td>d' adaptation au changement climatique le grac...</td>\n",
       "      <td>2022-10-11T18-12-00</td>\n",
       "      <td>2022-10-11T18-14-00</td>\n",
       "      <td>s2t</td>\n",
       "      <td>https://keywords.mediatree.fr/player/?fifo=rcf...</td>\n",
       "    </tr>\n",
       "    <tr>\n",
       "      <th>3</th>\n",
       "      <td>fbleu-vaucluse</td>\n",
       "      <td>True</td>\n",
       "      <td>2022-09-29T07-14-00</td>\n",
       "      <td>notre alimentation oui et c' est le thème de l...</td>\n",
       "      <td>du changement climatique c' est bien ça oui e...</td>\n",
       "      <td>2022-09-29T07-14-00</td>\n",
       "      <td>2022-09-29T07-16-00</td>\n",
       "      <td>s2t</td>\n",
       "      <td>https://keywords.mediatree.fr/player/?fifo=fbl...</td>\n",
       "    </tr>\n",
       "    <tr>\n",
       "      <th>4</th>\n",
       "      <td>tebeo</td>\n",
       "      <td>False</td>\n",
       "      <td>2022-10-09T14-32-00</td>\n",
       "      <td>&lt;unk&gt; les groupes scolaires delestre organisen...</td>\n",
       "      <td>valait le détour &lt;unk&gt; &lt;unk&gt; &lt;unk&gt; &lt;unk&gt; le c...</td>\n",
       "      <td>2022-10-09T14-32-00</td>\n",
       "      <td>2022-10-09T14-34-00</td>\n",
       "      <td>s2t</td>\n",
       "      <td>https://keywords.mediatree.fr/player/?fifo=teb...</td>\n",
       "    </tr>\n",
       "  </tbody>\n",
       "</table>\n",
       "</div>"
      ],
      "text/plain": [
       "          CHANNEL  RADIO                 DATE  \\\n",
       "0       tv-vendee  False  2022-10-06T06-58-00   \n",
       "1        tv78-edd  False  2022-10-07T13-50-00   \n",
       "2  rcf-nievre-edd   True  2022-10-11T18-12-00   \n",
       "3  fbleu-vaucluse   True  2022-09-29T07-14-00   \n",
       "4           tebeo  False  2022-10-09T14-32-00   \n",
       "\n",
       "                                                TEXT  \\\n",
       "0  <unk> <unk> <unk> la fête de la science s' inv...   \n",
       "1  en ressources augmentation de la population mo...   \n",
       "2  d' adaptation au changement climatique le grac...   \n",
       "3  notre alimentation oui et c' est le thème de l...   \n",
       "4  <unk> les groupes scolaires delestre organisen...   \n",
       "\n",
       "                                           HIGHLIGHT          START CHUNK  \\\n",
       "0   du onze au seize octobre profitez d' événemen...  2022-10-06T06-58-00   \n",
       "1   qu' il est urgent de valoriser lors de la tra...  2022-10-07T13-50-00   \n",
       "2  d' adaptation au changement climatique le grac...  2022-10-11T18-12-00   \n",
       "3   du changement climatique c' est bien ça oui e...  2022-09-29T07-14-00   \n",
       "4   valait le détour <unk> <unk> <unk> <unk> le c...  2022-10-09T14-32-00   \n",
       "\n",
       "             END CHUNK ORIGIN  \\\n",
       "0  2022-10-06T07-00-00    s2t   \n",
       "1  2022-10-07T13-52-00    s2t   \n",
       "2  2022-10-11T18-14-00    s2t   \n",
       "3  2022-09-29T07-16-00    s2t   \n",
       "4  2022-10-09T14-34-00    s2t   \n",
       "\n",
       "                                                 URL  \n",
       "0  https://keywords.mediatree.fr/player/?fifo=tv-...  \n",
       "1  https://keywords.mediatree.fr/player/?fifo=tv7...  \n",
       "2  https://keywords.mediatree.fr/player/?fifo=rcf...  \n",
       "3  https://keywords.mediatree.fr/player/?fifo=fbl...  \n",
       "4  https://keywords.mediatree.fr/player/?fifo=teb...  "
      ]
     },
     "metadata": {},
     "execution_count": 5
    }
   ],
   "metadata": {}
  },
  {
   "cell_type": "code",
   "execution_count": 6,
   "source": [
    "channels = pd.read_excel(\"../data/channels.xlsx\")\n",
    "channels.head()"
   ],
   "outputs": [
    {
     "output_type": "execute_result",
     "data": {
      "text/html": [
       "<div>\n",
       "<style scoped>\n",
       "    .dataframe tbody tr th:only-of-type {\n",
       "        vertical-align: middle;\n",
       "    }\n",
       "\n",
       "    .dataframe tbody tr th {\n",
       "        vertical-align: top;\n",
       "    }\n",
       "\n",
       "    .dataframe thead th {\n",
       "        text-align: right;\n",
       "    }\n",
       "</style>\n",
       "<table border=\"1\" class=\"dataframe\">\n",
       "  <thead>\n",
       "    <tr style=\"text-align: right;\">\n",
       "      <th></th>\n",
       "      <th>CHANNEL</th>\n",
       "      <th>CHANNEL_NAME</th>\n",
       "    </tr>\n",
       "  </thead>\n",
       "  <tbody>\n",
       "    <tr>\n",
       "      <th>0</th>\n",
       "      <td>tf1</td>\n",
       "      <td>TF1</td>\n",
       "    </tr>\n",
       "    <tr>\n",
       "      <th>1</th>\n",
       "      <td>france2</td>\n",
       "      <td>France 2</td>\n",
       "    </tr>\n",
       "    <tr>\n",
       "      <th>2</th>\n",
       "      <td>france3</td>\n",
       "      <td>France 3</td>\n",
       "    </tr>\n",
       "    <tr>\n",
       "      <th>3</th>\n",
       "      <td>cplus</td>\n",
       "      <td>Canal+</td>\n",
       "    </tr>\n",
       "    <tr>\n",
       "      <th>4</th>\n",
       "      <td>france5</td>\n",
       "      <td>France 5</td>\n",
       "    </tr>\n",
       "  </tbody>\n",
       "</table>\n",
       "</div>"
      ],
      "text/plain": [
       "   CHANNEL CHANNEL_NAME\n",
       "0      tf1          TF1\n",
       "1  france2     France 2\n",
       "2  france3     France 3\n",
       "3    cplus       Canal+\n",
       "4  france5     France 5"
      ]
     },
     "metadata": {},
     "execution_count": 6
    }
   ],
   "metadata": {}
  },
  {
   "cell_type": "markdown",
   "source": [
    "## Préparation des données"
   ],
   "metadata": {}
  },
  {
   "cell_type": "code",
   "execution_count": 7,
   "source": [
    "def process_mediatree_extract(path_file,path_channels):\n",
    "    data = pd.read_excel(path_file)\n",
    "    channels = pd.read_excel(path_channels)\n",
    "    \n",
    "    data = (\n",
    "        data\n",
    "        .merge(channels,on = \"CHANNEL\")\n",
    "        .rename(columns = {\"START CHUNK\" : \"START_CHUNK\",\"END CHUNK\":\"END_CHUNK\"})\n",
    "        .assign(DATE = lambda x : pd.to_datetime(x[\"DATE\"],format = \"%Y-%m-%dT%H-%M-%S\"))\n",
    "        .assign(TIME = lambda x : x[\"DATE\"].dt.time)\n",
    "        .assign(TIME = lambda x : x[\"TIME\"].map(lambda y : datetime.timedelta(hours=y.hour, minutes=y.minute, seconds=y.second)))\n",
    "        .assign(MEDIA = lambda x : x[\"RADIO\"].map(lambda y : \"Radio\" if y else \"TV\"))\n",
    "        .assign(FILENAME = lambda x : path_file)\n",
    "        .assign(COUNT = lambda x : 1)\n",
    "        .assign(DURATION = lambda x : 2)\n",
    "        .assign(KEYWORD = lambda x : x[\"FILENAME\"].map(lambda y : y.rsplit(\"_\",1)[-1].replace(\".xlsx\",\"\")))\n",
    "        .drop(columns = [\"ORIGIN\",\"START_CHUNK\",\"END_CHUNK\"])\n",
    "        \n",
    "    )\n",
    "\n",
    "    return data\n",
    "    \n",
    "data = process_mediatree_extract('../data/keywords/20221015_lastmonth_all_changement climatique.xlsx',\"../data/channels.xlsx\")\n",
    "data.head()"
   ],
   "outputs": [
    {
     "output_type": "execute_result",
     "data": {
      "text/html": [
       "<div>\n",
       "<style scoped>\n",
       "    .dataframe tbody tr th:only-of-type {\n",
       "        vertical-align: middle;\n",
       "    }\n",
       "\n",
       "    .dataframe tbody tr th {\n",
       "        vertical-align: top;\n",
       "    }\n",
       "\n",
       "    .dataframe thead th {\n",
       "        text-align: right;\n",
       "    }\n",
       "</style>\n",
       "<table border=\"1\" class=\"dataframe\">\n",
       "  <thead>\n",
       "    <tr style=\"text-align: right;\">\n",
       "      <th></th>\n",
       "      <th>CHANNEL</th>\n",
       "      <th>RADIO</th>\n",
       "      <th>DATE</th>\n",
       "      <th>TEXT</th>\n",
       "      <th>HIGHLIGHT</th>\n",
       "      <th>URL</th>\n",
       "      <th>CHANNEL_NAME</th>\n",
       "      <th>TIME</th>\n",
       "      <th>MEDIA</th>\n",
       "      <th>FILENAME</th>\n",
       "      <th>COUNT</th>\n",
       "      <th>DURATION</th>\n",
       "      <th>KEYWORD</th>\n",
       "    </tr>\n",
       "  </thead>\n",
       "  <tbody>\n",
       "    <tr>\n",
       "      <th>0</th>\n",
       "      <td>tv-vendee</td>\n",
       "      <td>False</td>\n",
       "      <td>2022-10-06 06:58:00</td>\n",
       "      <td>&lt;unk&gt; &lt;unk&gt; &lt;unk&gt; la fête de la science s' inv...</td>\n",
       "      <td>du onze au seize octobre profitez d' événemen...</td>\n",
       "      <td>https://keywords.mediatree.fr/player/?fifo=tv-...</td>\n",
       "      <td>TV Vendée</td>\n",
       "      <td>0 days 06:58:00</td>\n",
       "      <td>TV</td>\n",
       "      <td>../data/keywords/20221015_lastmonth_all_change...</td>\n",
       "      <td>1</td>\n",
       "      <td>2</td>\n",
       "      <td>changement climatique</td>\n",
       "    </tr>\n",
       "    <tr>\n",
       "      <th>1</th>\n",
       "      <td>tv-vendee</td>\n",
       "      <td>False</td>\n",
       "      <td>2022-10-07 06:58:00</td>\n",
       "      <td>&lt;unk&gt; la fête de la science s' invite sur le p...</td>\n",
       "      <td>octobre profitez d' événements autour du chan...</td>\n",
       "      <td>https://keywords.mediatree.fr/player/?fifo=tv-...</td>\n",
       "      <td>TV Vendée</td>\n",
       "      <td>0 days 06:58:00</td>\n",
       "      <td>TV</td>\n",
       "      <td>../data/keywords/20221015_lastmonth_all_change...</td>\n",
       "      <td>1</td>\n",
       "      <td>2</td>\n",
       "      <td>changement climatique</td>\n",
       "    </tr>\n",
       "    <tr>\n",
       "      <th>2</th>\n",
       "      <td>tv-vendee</td>\n",
       "      <td>False</td>\n",
       "      <td>2022-10-04 22:14:00</td>\n",
       "      <td>&lt;unk&gt; &lt;unk&gt; &lt;unk&gt; &lt;unk&gt; &lt;unk&gt; &lt;unk&gt; &lt;unk&gt; &lt;unk...</td>\n",
       "      <td>événements autour du changement climatique au...</td>\n",
       "      <td>https://keywords.mediatree.fr/player/?fifo=tv-...</td>\n",
       "      <td>TV Vendée</td>\n",
       "      <td>0 days 22:14:00</td>\n",
       "      <td>TV</td>\n",
       "      <td>../data/keywords/20221015_lastmonth_all_change...</td>\n",
       "      <td>1</td>\n",
       "      <td>2</td>\n",
       "      <td>changement climatique</td>\n",
       "    </tr>\n",
       "    <tr>\n",
       "      <th>3</th>\n",
       "      <td>tv-vendee</td>\n",
       "      <td>False</td>\n",
       "      <td>2022-10-04 11:56:00</td>\n",
       "      <td>ici-là tentez votre chance vous avez jusqu' à ...</td>\n",
       "      <td>de poux rouges du onze au seize octobre profi...</td>\n",
       "      <td>https://keywords.mediatree.fr/player/?fifo=tv-...</td>\n",
       "      <td>TV Vendée</td>\n",
       "      <td>0 days 11:56:00</td>\n",
       "      <td>TV</td>\n",
       "      <td>../data/keywords/20221015_lastmonth_all_change...</td>\n",
       "      <td>1</td>\n",
       "      <td>2</td>\n",
       "      <td>changement climatique</td>\n",
       "    </tr>\n",
       "    <tr>\n",
       "      <th>4</th>\n",
       "      <td>tv-vendee</td>\n",
       "      <td>False</td>\n",
       "      <td>2022-10-04 23:42:00</td>\n",
       "      <td>fin de cette édition merci de l' avoir suivie ...</td>\n",
       "      <td>du changement climatique au programme spectac...</td>\n",
       "      <td>https://keywords.mediatree.fr/player/?fifo=tv-...</td>\n",
       "      <td>TV Vendée</td>\n",
       "      <td>0 days 23:42:00</td>\n",
       "      <td>TV</td>\n",
       "      <td>../data/keywords/20221015_lastmonth_all_change...</td>\n",
       "      <td>1</td>\n",
       "      <td>2</td>\n",
       "      <td>changement climatique</td>\n",
       "    </tr>\n",
       "  </tbody>\n",
       "</table>\n",
       "</div>"
      ],
      "text/plain": [
       "     CHANNEL  RADIO                DATE  \\\n",
       "0  tv-vendee  False 2022-10-06 06:58:00   \n",
       "1  tv-vendee  False 2022-10-07 06:58:00   \n",
       "2  tv-vendee  False 2022-10-04 22:14:00   \n",
       "3  tv-vendee  False 2022-10-04 11:56:00   \n",
       "4  tv-vendee  False 2022-10-04 23:42:00   \n",
       "\n",
       "                                                TEXT  \\\n",
       "0  <unk> <unk> <unk> la fête de la science s' inv...   \n",
       "1  <unk> la fête de la science s' invite sur le p...   \n",
       "2  <unk> <unk> <unk> <unk> <unk> <unk> <unk> <unk...   \n",
       "3  ici-là tentez votre chance vous avez jusqu' à ...   \n",
       "4  fin de cette édition merci de l' avoir suivie ...   \n",
       "\n",
       "                                           HIGHLIGHT  \\\n",
       "0   du onze au seize octobre profitez d' événemen...   \n",
       "1   octobre profitez d' événements autour du chan...   \n",
       "2   événements autour du changement climatique au...   \n",
       "3   de poux rouges du onze au seize octobre profi...   \n",
       "4   du changement climatique au programme spectac...   \n",
       "\n",
       "                                                 URL CHANNEL_NAME  \\\n",
       "0  https://keywords.mediatree.fr/player/?fifo=tv-...    TV Vendée   \n",
       "1  https://keywords.mediatree.fr/player/?fifo=tv-...    TV Vendée   \n",
       "2  https://keywords.mediatree.fr/player/?fifo=tv-...    TV Vendée   \n",
       "3  https://keywords.mediatree.fr/player/?fifo=tv-...    TV Vendée   \n",
       "4  https://keywords.mediatree.fr/player/?fifo=tv-...    TV Vendée   \n",
       "\n",
       "             TIME MEDIA                                           FILENAME  \\\n",
       "0 0 days 06:58:00    TV  ../data/keywords/20221015_lastmonth_all_change...   \n",
       "1 0 days 06:58:00    TV  ../data/keywords/20221015_lastmonth_all_change...   \n",
       "2 0 days 22:14:00    TV  ../data/keywords/20221015_lastmonth_all_change...   \n",
       "3 0 days 11:56:00    TV  ../data/keywords/20221015_lastmonth_all_change...   \n",
       "4 0 days 23:42:00    TV  ../data/keywords/20221015_lastmonth_all_change...   \n",
       "\n",
       "   COUNT  DURATION                KEYWORD  \n",
       "0      1         2  changement climatique  \n",
       "1      1         2  changement climatique  \n",
       "2      1         2  changement climatique  \n",
       "3      1         2  changement climatique  \n",
       "4      1         2  changement climatique  "
      ]
     },
     "metadata": {},
     "execution_count": 7
    }
   ],
   "metadata": {}
  },
  {
   "cell_type": "markdown",
   "source": [
    "# Analyse sur un extrait keyword Mediatree "
   ],
   "metadata": {}
  },
  {
   "cell_type": "code",
   "execution_count": 8,
   "source": [
    "top_channels = channels.head(25)[\"CHANNEL_NAME\"].tolist()\n",
    "top_channels_tv = top_channels[:8]\n",
    "top_channels"
   ],
   "outputs": [
    {
     "output_type": "execute_result",
     "data": {
      "text/plain": [
       "['TF1',\n",
       " 'France 2',\n",
       " 'France 3',\n",
       " 'Canal+',\n",
       " 'France 5',\n",
       " 'M6',\n",
       " 'BFMTV',\n",
       " 'CNEWS',\n",
       " 'LCI',\n",
       " 'Arte',\n",
       " 'Europe 1',\n",
       " 'RMC',\n",
       " 'RTL',\n",
       " 'France Inter',\n",
       " 'Euronews',\n",
       " 'LCP',\n",
       " 'France Info',\n",
       " 'France 24',\n",
       " 'France S',\n",
       " 'TV5Monde',\n",
       " 'BFM Business Radio',\n",
       " 'BFM Business',\n",
       " 'France Culture',\n",
       " 'Radio Classique',\n",
       " 'RFI']"
      ]
     },
     "metadata": {},
     "execution_count": 8
    }
   ],
   "metadata": {}
  },
  {
   "cell_type": "markdown",
   "source": [
    "## Split des chaînes"
   ],
   "metadata": {}
  },
  {
   "cell_type": "code",
   "execution_count": 9,
   "source": [
    "count = data.groupby([\"CHANNEL_NAME\",\"MEDIA\"],as_index = False)[\"COUNT\"].sum().sort_values(\"COUNT\",ascending = False).head(30)\n",
    "\n",
    "fig = px.bar(\n",
    "    count,\n",
    "    x = \"CHANNEL_NAME\",\n",
    "    y = \"COUNT\",\n",
    "    color = \"MEDIA\",\n",
    "    color_discrete_sequence=SMALL_SEQUENCE2,\n",
    "    text_auto = \".2s\",\n",
    "    category_orders={\"CHANNEL_NAME\": count[\"CHANNEL_NAME\"].tolist()},\n",
    "    height = 500,\n",
    "    title = \"Nombre de mentions par chaîne\"\n",
    ")\n",
    "\n",
    "fig.update_xaxes(tickangle=-45,title=None)\n",
    "fig.update_yaxes(title=None)\n",
    "fig.update_layout(margin={\"b\":100})\n",
    "fig.show()"
   ],
   "outputs": [
    {
     "output_type": "display_data",
     "data": {
      "application/vnd.plotly.v1+json": {
       "config": {
        "plotlyServerURL": "https://plot.ly"
       },
       "data": [
        {
         "alignmentgroup": "True",
         "hovertemplate": "MEDIA=TV<br>CHANNEL_NAME=%{x}<br>COUNT=%{y}<extra></extra>",
         "legendgroup": "TV",
         "marker": {
          "color": "rgb(230, 50, 24)",
          "pattern": {
           "shape": ""
          }
         },
         "name": "TV",
         "offsetgroup": "TV",
         "orientation": "v",
         "showlegend": true,
         "textposition": "auto",
         "texttemplate": "%{y:.2s}",
         "type": "bar",
         "x": [
          "Euronews",
          "TéléNantes",
          "TV Vendée",
          "Tébésud",
          "Tébéo",
          "France 24",
          "8 Mont-Blanc",
          "BFM Lyon",
          "B Smart TV",
          "France Info:",
          "TV Tours",
          "viàOccitanie",
          "BFM Paris",
          "BIP TV",
          "LCP",
          "TV5Monde",
          "France 5",
          "D!CI",
          "Grand Lille TV",
          "Télé Grenoble Isère",
          "BFM Grand Littoral"
         ],
         "xaxis": "x",
         "y": [
          313,
          278,
          230,
          194,
          188,
          180,
          155,
          125,
          110,
          110,
          96,
          94,
          92,
          89,
          84,
          80,
          73,
          73,
          64,
          62,
          54
         ],
         "yaxis": "y"
        },
        {
         "alignmentgroup": "True",
         "hovertemplate": "MEDIA=Radio<br>CHANNEL_NAME=%{x}<br>COUNT=%{y}<extra></extra>",
         "legendgroup": "Radio",
         "marker": {
          "color": "rgb(59, 111, 66)",
          "pattern": {
           "shape": ""
          }
         },
         "name": "Radio",
         "offsetgroup": "Radio",
         "orientation": "v",
         "showlegend": true,
         "textposition": "auto",
         "texttemplate": "%{y:.2s}",
         "type": "bar",
         "x": [
          "RFI",
          "BFM Business Radio",
          "France Inter",
          "France Culture",
          "Euradio Nantes",
          "France Info",
          "Sud Radio Paris",
          "France Bleu Savoie",
          "France Bleu Isère"
         ],
         "xaxis": "x",
         "y": [
          281,
          139,
          124,
          101,
          96,
          94,
          90,
          72,
          57
         ],
         "yaxis": "y"
        }
       ],
       "layout": {
        "barmode": "relative",
        "height": 500,
        "legend": {
         "title": {
          "text": "MEDIA"
         },
         "tracegroupgap": 0
        },
        "margin": {
         "b": 100
        },
        "template": {
         "layout": {
          "colorway": [
           "rgb(230, 50, 24)",
           "rgb(240, 73, 70)",
           "rgb(243, 127, 125)",
           "rgb(248, 182, 181)",
           "rgb(209, 220, 197)",
           "rgb(137, 168, 141)",
           "rgb(59, 111, 66)",
           "rgb(66, 66, 66)"
          ],
          "font": {
           "family": "Helvetica"
          },
          "piecolorway": [
           "rgb(230, 50, 24)",
           "rgb(240, 73, 70)",
           "rgb(243, 127, 125)",
           "rgb(248, 182, 181)",
           "rgb(209, 220, 197)",
           "rgb(137, 168, 141)",
           "rgb(59, 111, 66)",
           "rgb(66, 66, 66)"
          ],
          "sunburstcolorway": [
           "rgb(230, 50, 24)",
           "rgb(240, 73, 70)",
           "rgb(243, 127, 125)",
           "rgb(248, 182, 181)",
           "rgb(209, 220, 197)",
           "rgb(137, 168, 141)",
           "rgb(59, 111, 66)",
           "rgb(66, 66, 66)"
          ],
          "treemapcolorway": [
           "rgb(230, 50, 24)",
           "rgb(240, 73, 70)",
           "rgb(243, 127, 125)",
           "rgb(248, 182, 181)",
           "rgb(209, 220, 197)",
           "rgb(137, 168, 141)",
           "rgb(59, 111, 66)",
           "rgb(66, 66, 66)"
          ]
         }
        },
        "title": {
         "text": "Nombre de mentions par chaîne"
        },
        "xaxis": {
         "anchor": "y",
         "categoryarray": [
          "Euronews",
          "RFI",
          "TéléNantes",
          "TV Vendée",
          "Tébésud",
          "Tébéo",
          "France 24",
          "8 Mont-Blanc",
          "BFM Business Radio",
          "BFM Lyon",
          "France Inter",
          "B Smart TV",
          "France Info:",
          "France Culture",
          "Euradio Nantes",
          "TV Tours",
          "viàOccitanie",
          "France Info",
          "BFM Paris",
          "Sud Radio Paris",
          "BIP TV",
          "LCP",
          "TV5Monde",
          "France 5",
          "D!CI",
          "France Bleu Savoie",
          "Grand Lille TV",
          "Télé Grenoble Isère",
          "France Bleu Isère",
          "BFM Grand Littoral"
         ],
         "categoryorder": "array",
         "domain": [
          0,
          1
         ],
         "tickangle": -45,
         "title": {}
        },
        "yaxis": {
         "anchor": "x",
         "domain": [
          0,
          1
         ],
         "title": {}
        }
       }
      }
     },
     "metadata": {}
    }
   ],
   "metadata": {}
  },
  {
   "cell_type": "code",
   "execution_count": 10,
   "source": [
    "count = (data\n",
    "        .loc[data[\"CHANNEL_NAME\"].isin(top_channels)]\n",
    "        .groupby([\"CHANNEL_NAME\",\"MEDIA\"],as_index = False)[\"COUNT\"].sum().sort_values(\"COUNT\",ascending = False)\n",
    ")\n",
    "\n",
    "fig = px.bar(\n",
    "    count,\n",
    "    x = \"CHANNEL_NAME\",\n",
    "    y = \"COUNT\",\n",
    "    color = \"MEDIA\",\n",
    "    color_discrete_sequence=SMALL_SEQUENCE2,\n",
    "    text_auto = \".2s\",\n",
    "    category_orders={\"CHANNEL_NAME\": count[\"CHANNEL_NAME\"].tolist()},\n",
    "    height = 500,\n",
    "    title = \"Nombre de mentions par chaîne\"\n",
    ")\n",
    "\n",
    "fig.update_xaxes(tickangle=-45,title=None)\n",
    "fig.update_yaxes(title=None)\n",
    "fig.update_layout(margin={\"b\":100})\n",
    "fig.show()"
   ],
   "outputs": [
    {
     "output_type": "display_data",
     "data": {
      "application/vnd.plotly.v1+json": {
       "config": {
        "plotlyServerURL": "https://plot.ly"
       },
       "data": [
        {
         "alignmentgroup": "True",
         "hovertemplate": "MEDIA=TV<br>CHANNEL_NAME=%{x}<br>COUNT=%{y}<extra></extra>",
         "legendgroup": "TV",
         "marker": {
          "color": "rgb(230, 50, 24)",
          "pattern": {
           "shape": ""
          }
         },
         "name": "TV",
         "offsetgroup": "TV",
         "orientation": "v",
         "showlegend": true,
         "textposition": "auto",
         "texttemplate": "%{y:.2s}",
         "type": "bar",
         "x": [
          "Euronews",
          "France 24",
          "LCP",
          "TV5Monde",
          "France 5",
          "BFM Business",
          "Arte",
          "France 2",
          "BFMTV",
          "LCI",
          "CNEWS",
          "TF1",
          "M6",
          "Europe 1",
          "Canal+",
          "France Info",
          "BFM Business Radio",
          "RFI"
         ],
         "xaxis": "x",
         "y": [
          313,
          180,
          84,
          80,
          73,
          47,
          42,
          35,
          27,
          22,
          20,
          13,
          3,
          3,
          2,
          1,
          1,
          1
         ],
         "yaxis": "y"
        },
        {
         "alignmentgroup": "True",
         "hovertemplate": "MEDIA=Radio<br>CHANNEL_NAME=%{x}<br>COUNT=%{y}<extra></extra>",
         "legendgroup": "Radio",
         "marker": {
          "color": "rgb(59, 111, 66)",
          "pattern": {
           "shape": ""
          }
         },
         "name": "Radio",
         "offsetgroup": "Radio",
         "orientation": "v",
         "showlegend": true,
         "textposition": "auto",
         "texttemplate": "%{y:.2s}",
         "type": "bar",
         "x": [
          "RFI",
          "BFM Business Radio",
          "France Inter",
          "France Culture",
          "France Info",
          "Europe 1",
          "RTL",
          "RMC",
          "Radio Classique"
         ],
         "xaxis": "x",
         "y": [
          281,
          139,
          124,
          101,
          94,
          37,
          21,
          14,
          12
         ],
         "yaxis": "y"
        }
       ],
       "layout": {
        "barmode": "relative",
        "height": 500,
        "legend": {
         "title": {
          "text": "MEDIA"
         },
         "tracegroupgap": 0
        },
        "margin": {
         "b": 100
        },
        "template": {
         "layout": {
          "colorway": [
           "rgb(230, 50, 24)",
           "rgb(240, 73, 70)",
           "rgb(243, 127, 125)",
           "rgb(248, 182, 181)",
           "rgb(209, 220, 197)",
           "rgb(137, 168, 141)",
           "rgb(59, 111, 66)",
           "rgb(66, 66, 66)"
          ],
          "font": {
           "family": "Helvetica"
          },
          "piecolorway": [
           "rgb(230, 50, 24)",
           "rgb(240, 73, 70)",
           "rgb(243, 127, 125)",
           "rgb(248, 182, 181)",
           "rgb(209, 220, 197)",
           "rgb(137, 168, 141)",
           "rgb(59, 111, 66)",
           "rgb(66, 66, 66)"
          ],
          "sunburstcolorway": [
           "rgb(230, 50, 24)",
           "rgb(240, 73, 70)",
           "rgb(243, 127, 125)",
           "rgb(248, 182, 181)",
           "rgb(209, 220, 197)",
           "rgb(137, 168, 141)",
           "rgb(59, 111, 66)",
           "rgb(66, 66, 66)"
          ],
          "treemapcolorway": [
           "rgb(230, 50, 24)",
           "rgb(240, 73, 70)",
           "rgb(243, 127, 125)",
           "rgb(248, 182, 181)",
           "rgb(209, 220, 197)",
           "rgb(137, 168, 141)",
           "rgb(59, 111, 66)",
           "rgb(66, 66, 66)"
          ]
         }
        },
        "title": {
         "text": "Nombre de mentions par chaîne"
        },
        "xaxis": {
         "anchor": "y",
         "categoryarray": [
          "Euronews",
          "RFI",
          "France 24",
          "BFM Business Radio",
          "France Inter",
          "France Culture",
          "France Info",
          "LCP",
          "TV5Monde",
          "France 5",
          "BFM Business",
          "Arte",
          "Europe 1",
          "France 2",
          "BFMTV",
          "LCI",
          "RTL",
          "CNEWS",
          "RMC",
          "TF1",
          "Radio Classique",
          "M6",
          "Europe 1",
          "Canal+",
          "France Info",
          "BFM Business Radio",
          "RFI"
         ],
         "categoryorder": "array",
         "domain": [
          0,
          1
         ],
         "tickangle": -45,
         "title": {}
        },
        "yaxis": {
         "anchor": "x",
         "domain": [
          0,
          1
         ],
         "title": {}
        }
       }
      }
     },
     "metadata": {}
    }
   ],
   "metadata": {}
  },
  {
   "cell_type": "code",
   "execution_count": 11,
   "source": [
    "count = data.groupby([\"MEDIA\"],as_index = False)[\"COUNT\"].sum().sort_values(\"COUNT\",ascending = False)\n",
    "count\n",
    "\n",
    "fig = px.pie(\n",
    "    count,\n",
    "    names = \"MEDIA\",\n",
    "    values = \"COUNT\",\n",
    "    color_discrete_sequence=SMALL_SEQUENCE2,\n",
    "    title = \"Split TV / Radio\"\n",
    ")\n",
    "fig.update_traces(textposition='inside', textinfo='percent+label')\n",
    "fig.show()"
   ],
   "outputs": [
    {
     "output_type": "display_data",
     "data": {
      "application/vnd.plotly.v1+json": {
       "config": {
        "plotlyServerURL": "https://plot.ly"
       },
       "data": [
        {
         "domain": {
          "x": [
           0,
           1
          ],
          "y": [
           0,
           1
          ]
         },
         "hovertemplate": "MEDIA=%{label}<br>COUNT=%{value}<extra></extra>",
         "labels": [
          "TV",
          "Radio"
         ],
         "legendgroup": "",
         "name": "",
         "showlegend": true,
         "textinfo": "percent+label",
         "textposition": "inside",
         "type": "pie",
         "values": [
          3809,
          3624
         ]
        }
       ],
       "layout": {
        "legend": {
         "tracegroupgap": 0
        },
        "piecolorway": [
         "rgb(230, 50, 24)",
         "rgb(59, 111, 66)"
        ],
        "template": {
         "layout": {
          "colorway": [
           "rgb(230, 50, 24)",
           "rgb(240, 73, 70)",
           "rgb(243, 127, 125)",
           "rgb(248, 182, 181)",
           "rgb(209, 220, 197)",
           "rgb(137, 168, 141)",
           "rgb(59, 111, 66)",
           "rgb(66, 66, 66)"
          ],
          "font": {
           "family": "Helvetica"
          },
          "piecolorway": [
           "rgb(230, 50, 24)",
           "rgb(240, 73, 70)",
           "rgb(243, 127, 125)",
           "rgb(248, 182, 181)",
           "rgb(209, 220, 197)",
           "rgb(137, 168, 141)",
           "rgb(59, 111, 66)",
           "rgb(66, 66, 66)"
          ],
          "sunburstcolorway": [
           "rgb(230, 50, 24)",
           "rgb(240, 73, 70)",
           "rgb(243, 127, 125)",
           "rgb(248, 182, 181)",
           "rgb(209, 220, 197)",
           "rgb(137, 168, 141)",
           "rgb(59, 111, 66)",
           "rgb(66, 66, 66)"
          ],
          "treemapcolorway": [
           "rgb(230, 50, 24)",
           "rgb(240, 73, 70)",
           "rgb(243, 127, 125)",
           "rgb(248, 182, 181)",
           "rgb(209, 220, 197)",
           "rgb(137, 168, 141)",
           "rgb(59, 111, 66)",
           "rgb(66, 66, 66)"
          ]
         }
        },
        "title": {
         "text": "Split TV / Radio"
        }
       }
      }
     },
     "metadata": {}
    }
   ],
   "metadata": {}
  },
  {
   "cell_type": "markdown",
   "source": [
    "## Evolution au cours du temps"
   ],
   "metadata": {}
  },
  {
   "cell_type": "code",
   "execution_count": 12,
   "source": [
    "freq = \"D\"\n",
    "\n",
    "count = (\n",
    "    data.set_index([\"DATE\"])\n",
    "    .groupby([pd.Grouper(freq = freq)],as_index = True)\n",
    "    [\"COUNT\"].sum()\n",
    "    .reset_index()\n",
    ")\n",
    "\n",
    "fig = px.bar(count,x = \"DATE\",y = \"COUNT\",title = \"Evolution du nombre de mention au cours du temps\",height = 400)\n",
    "fig.show()"
   ],
   "outputs": [
    {
     "output_type": "display_data",
     "data": {
      "application/vnd.plotly.v1+json": {
       "config": {
        "plotlyServerURL": "https://plot.ly"
       },
       "data": [
        {
         "alignmentgroup": "True",
         "hovertemplate": "DATE=%{x}<br>COUNT=%{y}<extra></extra>",
         "legendgroup": "",
         "marker": {
          "color": "rgb(230, 50, 24)",
          "pattern": {
           "shape": ""
          }
         },
         "name": "",
         "offsetgroup": "",
         "orientation": "v",
         "showlegend": false,
         "textposition": "auto",
         "type": "bar",
         "x": [
          "2022-09-14T00:00:00",
          "2022-09-15T00:00:00",
          "2022-09-16T00:00:00",
          "2022-09-17T00:00:00",
          "2022-09-18T00:00:00",
          "2022-09-19T00:00:00",
          "2022-09-20T00:00:00",
          "2022-09-21T00:00:00",
          "2022-09-22T00:00:00",
          "2022-09-23T00:00:00",
          "2022-09-24T00:00:00",
          "2022-09-25T00:00:00",
          "2022-09-26T00:00:00",
          "2022-09-27T00:00:00",
          "2022-09-28T00:00:00",
          "2022-09-29T00:00:00",
          "2022-09-30T00:00:00",
          "2022-10-01T00:00:00",
          "2022-10-02T00:00:00",
          "2022-10-03T00:00:00",
          "2022-10-04T00:00:00",
          "2022-10-05T00:00:00",
          "2022-10-06T00:00:00",
          "2022-10-07T00:00:00",
          "2022-10-08T00:00:00",
          "2022-10-09T00:00:00",
          "2022-10-10T00:00:00",
          "2022-10-11T00:00:00",
          "2022-10-12T00:00:00",
          "2022-10-13T00:00:00",
          "2022-10-14T00:00:00",
          "2022-10-15T00:00:00"
         ],
         "xaxis": "x",
         "y": [
          178,
          168,
          229,
          173,
          191,
          209,
          309,
          263,
          271,
          336,
          160,
          144,
          274,
          171,
          290,
          257,
          235,
          133,
          120,
          197,
          232,
          264,
          332,
          363,
          164,
          164,
          367,
          312,
          192,
          454,
          217,
          64
         ],
         "yaxis": "y"
        }
       ],
       "layout": {
        "barmode": "relative",
        "height": 400,
        "legend": {
         "tracegroupgap": 0
        },
        "template": {
         "layout": {
          "colorway": [
           "rgb(230, 50, 24)",
           "rgb(240, 73, 70)",
           "rgb(243, 127, 125)",
           "rgb(248, 182, 181)",
           "rgb(209, 220, 197)",
           "rgb(137, 168, 141)",
           "rgb(59, 111, 66)",
           "rgb(66, 66, 66)"
          ],
          "font": {
           "family": "Helvetica"
          },
          "piecolorway": [
           "rgb(230, 50, 24)",
           "rgb(240, 73, 70)",
           "rgb(243, 127, 125)",
           "rgb(248, 182, 181)",
           "rgb(209, 220, 197)",
           "rgb(137, 168, 141)",
           "rgb(59, 111, 66)",
           "rgb(66, 66, 66)"
          ],
          "sunburstcolorway": [
           "rgb(230, 50, 24)",
           "rgb(240, 73, 70)",
           "rgb(243, 127, 125)",
           "rgb(248, 182, 181)",
           "rgb(209, 220, 197)",
           "rgb(137, 168, 141)",
           "rgb(59, 111, 66)",
           "rgb(66, 66, 66)"
          ],
          "treemapcolorway": [
           "rgb(230, 50, 24)",
           "rgb(240, 73, 70)",
           "rgb(243, 127, 125)",
           "rgb(248, 182, 181)",
           "rgb(209, 220, 197)",
           "rgb(137, 168, 141)",
           "rgb(59, 111, 66)",
           "rgb(66, 66, 66)"
          ]
         }
        },
        "title": {
         "text": "Evolution du nombre de mention au cours du temps"
        },
        "xaxis": {
         "anchor": "y",
         "domain": [
          0,
          1
         ],
         "title": {
          "text": "DATE"
         }
        },
        "yaxis": {
         "anchor": "x",
         "domain": [
          0,
          1
         ],
         "title": {
          "text": "COUNT"
         }
        }
       }
      }
     },
     "metadata": {}
    }
   ],
   "metadata": {}
  },
  {
   "cell_type": "code",
   "execution_count": 13,
   "source": [
    "freq = \"D\"\n",
    "\n",
    "count = (\n",
    "    data.set_index([\"DATE\"])\n",
    "    .groupby([pd.Grouper(freq = freq),\"MEDIA\"],as_index = True)\n",
    "    [\"COUNT\"].sum()\n",
    "    .reset_index()\n",
    ")\n",
    "\n",
    "fig = px.bar(count,\n",
    "             x = \"DATE\",y = \"COUNT\",color = \"MEDIA\",\n",
    "             title = \"Evolution du nombre de mention au cours du temps par type de média\",\n",
    "             height = 400,color_discrete_sequence=SMALL_SEQUENCE2\n",
    ")\n",
    "fig.show()"
   ],
   "outputs": [
    {
     "output_type": "display_data",
     "data": {
      "application/vnd.plotly.v1+json": {
       "config": {
        "plotlyServerURL": "https://plot.ly"
       },
       "data": [
        {
         "alignmentgroup": "True",
         "hovertemplate": "MEDIA=Radio<br>DATE=%{x}<br>COUNT=%{y}<extra></extra>",
         "legendgroup": "Radio",
         "marker": {
          "color": "rgb(230, 50, 24)",
          "pattern": {
           "shape": ""
          }
         },
         "name": "Radio",
         "offsetgroup": "Radio",
         "orientation": "v",
         "showlegend": true,
         "textposition": "auto",
         "type": "bar",
         "x": [
          "2022-09-14T00:00:00",
          "2022-09-15T00:00:00",
          "2022-09-16T00:00:00",
          "2022-09-17T00:00:00",
          "2022-09-18T00:00:00",
          "2022-09-19T00:00:00",
          "2022-09-20T00:00:00",
          "2022-09-21T00:00:00",
          "2022-09-22T00:00:00",
          "2022-09-23T00:00:00",
          "2022-09-24T00:00:00",
          "2022-09-25T00:00:00",
          "2022-09-26T00:00:00",
          "2022-09-27T00:00:00",
          "2022-09-28T00:00:00",
          "2022-09-29T00:00:00",
          "2022-09-30T00:00:00",
          "2022-10-01T00:00:00",
          "2022-10-02T00:00:00",
          "2022-10-03T00:00:00",
          "2022-10-04T00:00:00",
          "2022-10-05T00:00:00",
          "2022-10-06T00:00:00",
          "2022-10-07T00:00:00",
          "2022-10-08T00:00:00",
          "2022-10-09T00:00:00",
          "2022-10-10T00:00:00",
          "2022-10-11T00:00:00",
          "2022-10-12T00:00:00",
          "2022-10-13T00:00:00",
          "2022-10-14T00:00:00",
          "2022-10-15T00:00:00"
         ],
         "xaxis": "x",
         "y": [
          46,
          94,
          108,
          18,
          47,
          73,
          199,
          95,
          120,
          216,
          57,
          47,
          86,
          85,
          163,
          93,
          99,
          38,
          57,
          118,
          162,
          114,
          168,
          241,
          71,
          72,
          182,
          166,
          122,
          292,
          133,
          42
         ],
         "yaxis": "y"
        },
        {
         "alignmentgroup": "True",
         "hovertemplate": "MEDIA=TV<br>DATE=%{x}<br>COUNT=%{y}<extra></extra>",
         "legendgroup": "TV",
         "marker": {
          "color": "rgb(59, 111, 66)",
          "pattern": {
           "shape": ""
          }
         },
         "name": "TV",
         "offsetgroup": "TV",
         "orientation": "v",
         "showlegend": true,
         "textposition": "auto",
         "type": "bar",
         "x": [
          "2022-09-14T00:00:00",
          "2022-09-15T00:00:00",
          "2022-09-16T00:00:00",
          "2022-09-17T00:00:00",
          "2022-09-18T00:00:00",
          "2022-09-19T00:00:00",
          "2022-09-20T00:00:00",
          "2022-09-21T00:00:00",
          "2022-09-22T00:00:00",
          "2022-09-23T00:00:00",
          "2022-09-24T00:00:00",
          "2022-09-25T00:00:00",
          "2022-09-26T00:00:00",
          "2022-09-27T00:00:00",
          "2022-09-28T00:00:00",
          "2022-09-29T00:00:00",
          "2022-09-30T00:00:00",
          "2022-10-01T00:00:00",
          "2022-10-02T00:00:00",
          "2022-10-03T00:00:00",
          "2022-10-04T00:00:00",
          "2022-10-05T00:00:00",
          "2022-10-06T00:00:00",
          "2022-10-07T00:00:00",
          "2022-10-08T00:00:00",
          "2022-10-09T00:00:00",
          "2022-10-10T00:00:00",
          "2022-10-11T00:00:00",
          "2022-10-12T00:00:00",
          "2022-10-13T00:00:00",
          "2022-10-14T00:00:00",
          "2022-10-15T00:00:00"
         ],
         "xaxis": "x",
         "y": [
          132,
          74,
          121,
          155,
          144,
          136,
          110,
          168,
          151,
          120,
          103,
          97,
          188,
          86,
          127,
          164,
          136,
          95,
          63,
          79,
          70,
          150,
          164,
          122,
          93,
          92,
          185,
          146,
          70,
          162,
          84,
          22
         ],
         "yaxis": "y"
        }
       ],
       "layout": {
        "barmode": "relative",
        "height": 400,
        "legend": {
         "title": {
          "text": "MEDIA"
         },
         "tracegroupgap": 0
        },
        "template": {
         "layout": {
          "colorway": [
           "rgb(230, 50, 24)",
           "rgb(240, 73, 70)",
           "rgb(243, 127, 125)",
           "rgb(248, 182, 181)",
           "rgb(209, 220, 197)",
           "rgb(137, 168, 141)",
           "rgb(59, 111, 66)",
           "rgb(66, 66, 66)"
          ],
          "font": {
           "family": "Helvetica"
          },
          "piecolorway": [
           "rgb(230, 50, 24)",
           "rgb(240, 73, 70)",
           "rgb(243, 127, 125)",
           "rgb(248, 182, 181)",
           "rgb(209, 220, 197)",
           "rgb(137, 168, 141)",
           "rgb(59, 111, 66)",
           "rgb(66, 66, 66)"
          ],
          "sunburstcolorway": [
           "rgb(230, 50, 24)",
           "rgb(240, 73, 70)",
           "rgb(243, 127, 125)",
           "rgb(248, 182, 181)",
           "rgb(209, 220, 197)",
           "rgb(137, 168, 141)",
           "rgb(59, 111, 66)",
           "rgb(66, 66, 66)"
          ],
          "treemapcolorway": [
           "rgb(230, 50, 24)",
           "rgb(240, 73, 70)",
           "rgb(243, 127, 125)",
           "rgb(248, 182, 181)",
           "rgb(209, 220, 197)",
           "rgb(137, 168, 141)",
           "rgb(59, 111, 66)",
           "rgb(66, 66, 66)"
          ]
         }
        },
        "title": {
         "text": "Evolution du nombre de mention au cours du temps par type de média"
        },
        "xaxis": {
         "anchor": "y",
         "domain": [
          0,
          1
         ],
         "title": {
          "text": "DATE"
         }
        },
        "yaxis": {
         "anchor": "x",
         "domain": [
          0,
          1
         ],
         "title": {
          "text": "COUNT"
         }
        }
       }
      }
     },
     "metadata": {}
    }
   ],
   "metadata": {}
  },
  {
   "cell_type": "code",
   "execution_count": 14,
   "source": [
    "freq = \"D\"\n",
    "\n",
    "count = (\n",
    "    data.set_index([\"DATE\"])\n",
    "    .groupby([pd.Grouper(freq = freq),\"MEDIA\"],as_index = True)\n",
    "    [\"COUNT\"].sum()\n",
    "    .reset_index()\n",
    ")\n",
    "\n",
    "fig = px.area(count,\n",
    "             x = \"DATE\",y = \"COUNT\",color = \"MEDIA\",\n",
    "             title = \"Evolution du nombre de mention au cours du temps par type de média\",height = 400,color_discrete_sequence=SMALL_SEQUENCE2\n",
    ")\n",
    "fig.show()"
   ],
   "outputs": [
    {
     "output_type": "display_data",
     "data": {
      "application/vnd.plotly.v1+json": {
       "config": {
        "plotlyServerURL": "https://plot.ly"
       },
       "data": [
        {
         "fillpattern": {
          "shape": ""
         },
         "hovertemplate": "MEDIA=Radio<br>DATE=%{x}<br>COUNT=%{y}<extra></extra>",
         "legendgroup": "Radio",
         "line": {
          "color": "rgb(230, 50, 24)"
         },
         "marker": {
          "symbol": "circle"
         },
         "mode": "lines",
         "name": "Radio",
         "orientation": "v",
         "showlegend": true,
         "stackgroup": "1",
         "type": "scatter",
         "x": [
          "2022-09-14T00:00:00",
          "2022-09-15T00:00:00",
          "2022-09-16T00:00:00",
          "2022-09-17T00:00:00",
          "2022-09-18T00:00:00",
          "2022-09-19T00:00:00",
          "2022-09-20T00:00:00",
          "2022-09-21T00:00:00",
          "2022-09-22T00:00:00",
          "2022-09-23T00:00:00",
          "2022-09-24T00:00:00",
          "2022-09-25T00:00:00",
          "2022-09-26T00:00:00",
          "2022-09-27T00:00:00",
          "2022-09-28T00:00:00",
          "2022-09-29T00:00:00",
          "2022-09-30T00:00:00",
          "2022-10-01T00:00:00",
          "2022-10-02T00:00:00",
          "2022-10-03T00:00:00",
          "2022-10-04T00:00:00",
          "2022-10-05T00:00:00",
          "2022-10-06T00:00:00",
          "2022-10-07T00:00:00",
          "2022-10-08T00:00:00",
          "2022-10-09T00:00:00",
          "2022-10-10T00:00:00",
          "2022-10-11T00:00:00",
          "2022-10-12T00:00:00",
          "2022-10-13T00:00:00",
          "2022-10-14T00:00:00",
          "2022-10-15T00:00:00"
         ],
         "xaxis": "x",
         "y": [
          46,
          94,
          108,
          18,
          47,
          73,
          199,
          95,
          120,
          216,
          57,
          47,
          86,
          85,
          163,
          93,
          99,
          38,
          57,
          118,
          162,
          114,
          168,
          241,
          71,
          72,
          182,
          166,
          122,
          292,
          133,
          42
         ],
         "yaxis": "y"
        },
        {
         "fillpattern": {
          "shape": ""
         },
         "hovertemplate": "MEDIA=TV<br>DATE=%{x}<br>COUNT=%{y}<extra></extra>",
         "legendgroup": "TV",
         "line": {
          "color": "rgb(59, 111, 66)"
         },
         "marker": {
          "symbol": "circle"
         },
         "mode": "lines",
         "name": "TV",
         "orientation": "v",
         "showlegend": true,
         "stackgroup": "1",
         "type": "scatter",
         "x": [
          "2022-09-14T00:00:00",
          "2022-09-15T00:00:00",
          "2022-09-16T00:00:00",
          "2022-09-17T00:00:00",
          "2022-09-18T00:00:00",
          "2022-09-19T00:00:00",
          "2022-09-20T00:00:00",
          "2022-09-21T00:00:00",
          "2022-09-22T00:00:00",
          "2022-09-23T00:00:00",
          "2022-09-24T00:00:00",
          "2022-09-25T00:00:00",
          "2022-09-26T00:00:00",
          "2022-09-27T00:00:00",
          "2022-09-28T00:00:00",
          "2022-09-29T00:00:00",
          "2022-09-30T00:00:00",
          "2022-10-01T00:00:00",
          "2022-10-02T00:00:00",
          "2022-10-03T00:00:00",
          "2022-10-04T00:00:00",
          "2022-10-05T00:00:00",
          "2022-10-06T00:00:00",
          "2022-10-07T00:00:00",
          "2022-10-08T00:00:00",
          "2022-10-09T00:00:00",
          "2022-10-10T00:00:00",
          "2022-10-11T00:00:00",
          "2022-10-12T00:00:00",
          "2022-10-13T00:00:00",
          "2022-10-14T00:00:00",
          "2022-10-15T00:00:00"
         ],
         "xaxis": "x",
         "y": [
          132,
          74,
          121,
          155,
          144,
          136,
          110,
          168,
          151,
          120,
          103,
          97,
          188,
          86,
          127,
          164,
          136,
          95,
          63,
          79,
          70,
          150,
          164,
          122,
          93,
          92,
          185,
          146,
          70,
          162,
          84,
          22
         ],
         "yaxis": "y"
        }
       ],
       "layout": {
        "height": 400,
        "legend": {
         "title": {
          "text": "MEDIA"
         },
         "tracegroupgap": 0
        },
        "template": {
         "layout": {
          "colorway": [
           "rgb(230, 50, 24)",
           "rgb(240, 73, 70)",
           "rgb(243, 127, 125)",
           "rgb(248, 182, 181)",
           "rgb(209, 220, 197)",
           "rgb(137, 168, 141)",
           "rgb(59, 111, 66)",
           "rgb(66, 66, 66)"
          ],
          "font": {
           "family": "Helvetica"
          },
          "piecolorway": [
           "rgb(230, 50, 24)",
           "rgb(240, 73, 70)",
           "rgb(243, 127, 125)",
           "rgb(248, 182, 181)",
           "rgb(209, 220, 197)",
           "rgb(137, 168, 141)",
           "rgb(59, 111, 66)",
           "rgb(66, 66, 66)"
          ],
          "sunburstcolorway": [
           "rgb(230, 50, 24)",
           "rgb(240, 73, 70)",
           "rgb(243, 127, 125)",
           "rgb(248, 182, 181)",
           "rgb(209, 220, 197)",
           "rgb(137, 168, 141)",
           "rgb(59, 111, 66)",
           "rgb(66, 66, 66)"
          ],
          "treemapcolorway": [
           "rgb(230, 50, 24)",
           "rgb(240, 73, 70)",
           "rgb(243, 127, 125)",
           "rgb(248, 182, 181)",
           "rgb(209, 220, 197)",
           "rgb(137, 168, 141)",
           "rgb(59, 111, 66)",
           "rgb(66, 66, 66)"
          ]
         }
        },
        "title": {
         "text": "Evolution du nombre de mention au cours du temps par type de média"
        },
        "xaxis": {
         "anchor": "y",
         "domain": [
          0,
          1
         ],
         "title": {
          "text": "DATE"
         }
        },
        "yaxis": {
         "anchor": "x",
         "domain": [
          0,
          1
         ],
         "title": {
          "text": "COUNT"
         }
        }
       }
      }
     },
     "metadata": {}
    }
   ],
   "metadata": {}
  },
  {
   "cell_type": "code",
   "execution_count": 15,
   "source": [
    "freq = \"D\"\n",
    "\n",
    "count = (\n",
    "    data.set_index([\"DATE\"])\n",
    "    .groupby([pd.Grouper(freq = freq),\"MEDIA\"],as_index = True)\n",
    "    [\"COUNT\"].sum()\n",
    "    .reset_index()\n",
    ")\n",
    "\n",
    "fig = px.area(count,\n",
    "             x = \"DATE\",y = \"COUNT\",color = \"MEDIA\",groupnorm='fraction',\n",
    "             title = \"Evolution du nombre de mention au cours du temps par type de média en %\",height = 400,color_discrete_sequence=SMALL_SEQUENCE2,\n",
    ")\n",
    "fig.update_layout(yaxis_tickformat='0%') \n",
    "fig.show()"
   ],
   "outputs": [
    {
     "output_type": "display_data",
     "data": {
      "application/vnd.plotly.v1+json": {
       "config": {
        "plotlyServerURL": "https://plot.ly"
       },
       "data": [
        {
         "fillpattern": {
          "shape": ""
         },
         "groupnorm": "fraction",
         "hovertemplate": "MEDIA=Radio<br>DATE=%{x}<br>COUNT=%{y}<extra></extra>",
         "legendgroup": "Radio",
         "line": {
          "color": "rgb(230, 50, 24)"
         },
         "marker": {
          "symbol": "circle"
         },
         "mode": "lines",
         "name": "Radio",
         "orientation": "v",
         "showlegend": true,
         "stackgroup": "1",
         "type": "scatter",
         "x": [
          "2022-09-14T00:00:00",
          "2022-09-15T00:00:00",
          "2022-09-16T00:00:00",
          "2022-09-17T00:00:00",
          "2022-09-18T00:00:00",
          "2022-09-19T00:00:00",
          "2022-09-20T00:00:00",
          "2022-09-21T00:00:00",
          "2022-09-22T00:00:00",
          "2022-09-23T00:00:00",
          "2022-09-24T00:00:00",
          "2022-09-25T00:00:00",
          "2022-09-26T00:00:00",
          "2022-09-27T00:00:00",
          "2022-09-28T00:00:00",
          "2022-09-29T00:00:00",
          "2022-09-30T00:00:00",
          "2022-10-01T00:00:00",
          "2022-10-02T00:00:00",
          "2022-10-03T00:00:00",
          "2022-10-04T00:00:00",
          "2022-10-05T00:00:00",
          "2022-10-06T00:00:00",
          "2022-10-07T00:00:00",
          "2022-10-08T00:00:00",
          "2022-10-09T00:00:00",
          "2022-10-10T00:00:00",
          "2022-10-11T00:00:00",
          "2022-10-12T00:00:00",
          "2022-10-13T00:00:00",
          "2022-10-14T00:00:00",
          "2022-10-15T00:00:00"
         ],
         "xaxis": "x",
         "y": [
          46,
          94,
          108,
          18,
          47,
          73,
          199,
          95,
          120,
          216,
          57,
          47,
          86,
          85,
          163,
          93,
          99,
          38,
          57,
          118,
          162,
          114,
          168,
          241,
          71,
          72,
          182,
          166,
          122,
          292,
          133,
          42
         ],
         "yaxis": "y"
        },
        {
         "fillpattern": {
          "shape": ""
         },
         "groupnorm": "fraction",
         "hovertemplate": "MEDIA=TV<br>DATE=%{x}<br>COUNT=%{y}<extra></extra>",
         "legendgroup": "TV",
         "line": {
          "color": "rgb(59, 111, 66)"
         },
         "marker": {
          "symbol": "circle"
         },
         "mode": "lines",
         "name": "TV",
         "orientation": "v",
         "showlegend": true,
         "stackgroup": "1",
         "type": "scatter",
         "x": [
          "2022-09-14T00:00:00",
          "2022-09-15T00:00:00",
          "2022-09-16T00:00:00",
          "2022-09-17T00:00:00",
          "2022-09-18T00:00:00",
          "2022-09-19T00:00:00",
          "2022-09-20T00:00:00",
          "2022-09-21T00:00:00",
          "2022-09-22T00:00:00",
          "2022-09-23T00:00:00",
          "2022-09-24T00:00:00",
          "2022-09-25T00:00:00",
          "2022-09-26T00:00:00",
          "2022-09-27T00:00:00",
          "2022-09-28T00:00:00",
          "2022-09-29T00:00:00",
          "2022-09-30T00:00:00",
          "2022-10-01T00:00:00",
          "2022-10-02T00:00:00",
          "2022-10-03T00:00:00",
          "2022-10-04T00:00:00",
          "2022-10-05T00:00:00",
          "2022-10-06T00:00:00",
          "2022-10-07T00:00:00",
          "2022-10-08T00:00:00",
          "2022-10-09T00:00:00",
          "2022-10-10T00:00:00",
          "2022-10-11T00:00:00",
          "2022-10-12T00:00:00",
          "2022-10-13T00:00:00",
          "2022-10-14T00:00:00",
          "2022-10-15T00:00:00"
         ],
         "xaxis": "x",
         "y": [
          132,
          74,
          121,
          155,
          144,
          136,
          110,
          168,
          151,
          120,
          103,
          97,
          188,
          86,
          127,
          164,
          136,
          95,
          63,
          79,
          70,
          150,
          164,
          122,
          93,
          92,
          185,
          146,
          70,
          162,
          84,
          22
         ],
         "yaxis": "y"
        }
       ],
       "layout": {
        "height": 400,
        "legend": {
         "title": {
          "text": "MEDIA"
         },
         "tracegroupgap": 0
        },
        "template": {
         "layout": {
          "colorway": [
           "rgb(230, 50, 24)",
           "rgb(240, 73, 70)",
           "rgb(243, 127, 125)",
           "rgb(248, 182, 181)",
           "rgb(209, 220, 197)",
           "rgb(137, 168, 141)",
           "rgb(59, 111, 66)",
           "rgb(66, 66, 66)"
          ],
          "font": {
           "family": "Helvetica"
          },
          "piecolorway": [
           "rgb(230, 50, 24)",
           "rgb(240, 73, 70)",
           "rgb(243, 127, 125)",
           "rgb(248, 182, 181)",
           "rgb(209, 220, 197)",
           "rgb(137, 168, 141)",
           "rgb(59, 111, 66)",
           "rgb(66, 66, 66)"
          ],
          "sunburstcolorway": [
           "rgb(230, 50, 24)",
           "rgb(240, 73, 70)",
           "rgb(243, 127, 125)",
           "rgb(248, 182, 181)",
           "rgb(209, 220, 197)",
           "rgb(137, 168, 141)",
           "rgb(59, 111, 66)",
           "rgb(66, 66, 66)"
          ],
          "treemapcolorway": [
           "rgb(230, 50, 24)",
           "rgb(240, 73, 70)",
           "rgb(243, 127, 125)",
           "rgb(248, 182, 181)",
           "rgb(209, 220, 197)",
           "rgb(137, 168, 141)",
           "rgb(59, 111, 66)",
           "rgb(66, 66, 66)"
          ]
         }
        },
        "title": {
         "text": "Evolution du nombre de mention au cours du temps par type de média en %"
        },
        "xaxis": {
         "anchor": "y",
         "domain": [
          0,
          1
         ],
         "title": {
          "text": "DATE"
         }
        },
        "yaxis": {
         "anchor": "x",
         "domain": [
          0,
          1
         ],
         "tickformat": "0%",
         "title": {
          "text": "COUNT"
         }
        }
       }
      }
     },
     "metadata": {}
    }
   ],
   "metadata": {}
  },
  {
   "cell_type": "code",
   "execution_count": 16,
   "source": [
    "freq = \"6H\"\n",
    "\n",
    "count = (\n",
    "    data.set_index([\"DATE\"])\n",
    "    .groupby([pd.Grouper(freq = freq),\"MEDIA\"],as_index = True)\n",
    "    [\"COUNT\"].sum()\n",
    "    .reset_index()\n",
    ")\n",
    "\n",
    "fig = px.area(count,\n",
    "             x = \"DATE\",y = \"COUNT\",color = \"MEDIA\",\n",
    "             title = \"Evolution du nombre de mention au cours du temps par type de média\",height = 400,color_discrete_sequence=SMALL_SEQUENCE2\n",
    ")\n",
    "fig.show()"
   ],
   "outputs": [
    {
     "output_type": "display_data",
     "data": {
      "application/vnd.plotly.v1+json": {
       "config": {
        "plotlyServerURL": "https://plot.ly"
       },
       "data": [
        {
         "fillpattern": {
          "shape": ""
         },
         "hovertemplate": "MEDIA=Radio<br>DATE=%{x}<br>COUNT=%{y}<extra></extra>",
         "legendgroup": "Radio",
         "line": {
          "color": "rgb(230, 50, 24)"
         },
         "marker": {
          "symbol": "circle"
         },
         "mode": "lines",
         "name": "Radio",
         "orientation": "v",
         "showlegend": true,
         "stackgroup": "1",
         "type": "scatter",
         "x": [
          "2022-09-14T06:00:00",
          "2022-09-14T12:00:00",
          "2022-09-14T18:00:00",
          "2022-09-15T00:00:00",
          "2022-09-15T06:00:00",
          "2022-09-15T12:00:00",
          "2022-09-15T18:00:00",
          "2022-09-16T00:00:00",
          "2022-09-16T06:00:00",
          "2022-09-16T12:00:00",
          "2022-09-16T18:00:00",
          "2022-09-17T06:00:00",
          "2022-09-17T12:00:00",
          "2022-09-17T18:00:00",
          "2022-09-18T06:00:00",
          "2022-09-18T12:00:00",
          "2022-09-18T18:00:00",
          "2022-09-19T00:00:00",
          "2022-09-19T06:00:00",
          "2022-09-19T12:00:00",
          "2022-09-19T18:00:00",
          "2022-09-20T00:00:00",
          "2022-09-20T06:00:00",
          "2022-09-20T12:00:00",
          "2022-09-20T18:00:00",
          "2022-09-21T00:00:00",
          "2022-09-21T06:00:00",
          "2022-09-21T12:00:00",
          "2022-09-21T18:00:00",
          "2022-09-22T00:00:00",
          "2022-09-22T06:00:00",
          "2022-09-22T12:00:00",
          "2022-09-22T18:00:00",
          "2022-09-23T00:00:00",
          "2022-09-23T06:00:00",
          "2022-09-23T12:00:00",
          "2022-09-23T18:00:00",
          "2022-09-24T06:00:00",
          "2022-09-24T12:00:00",
          "2022-09-24T18:00:00",
          "2022-09-25T06:00:00",
          "2022-09-25T12:00:00",
          "2022-09-25T18:00:00",
          "2022-09-26T00:00:00",
          "2022-09-26T06:00:00",
          "2022-09-26T12:00:00",
          "2022-09-26T18:00:00",
          "2022-09-27T00:00:00",
          "2022-09-27T06:00:00",
          "2022-09-27T12:00:00",
          "2022-09-27T18:00:00",
          "2022-09-28T00:00:00",
          "2022-09-28T06:00:00",
          "2022-09-28T12:00:00",
          "2022-09-28T18:00:00",
          "2022-09-29T00:00:00",
          "2022-09-29T06:00:00",
          "2022-09-29T12:00:00",
          "2022-09-29T18:00:00",
          "2022-09-30T06:00:00",
          "2022-09-30T12:00:00",
          "2022-09-30T18:00:00",
          "2022-10-01T06:00:00",
          "2022-10-01T12:00:00",
          "2022-10-01T18:00:00",
          "2022-10-02T06:00:00",
          "2022-10-02T12:00:00",
          "2022-10-02T18:00:00",
          "2022-10-03T00:00:00",
          "2022-10-03T06:00:00",
          "2022-10-03T12:00:00",
          "2022-10-03T18:00:00",
          "2022-10-04T00:00:00",
          "2022-10-04T06:00:00",
          "2022-10-04T12:00:00",
          "2022-10-04T18:00:00",
          "2022-10-05T00:00:00",
          "2022-10-05T06:00:00",
          "2022-10-05T12:00:00",
          "2022-10-05T18:00:00",
          "2022-10-06T00:00:00",
          "2022-10-06T06:00:00",
          "2022-10-06T12:00:00",
          "2022-10-06T18:00:00",
          "2022-10-07T06:00:00",
          "2022-10-07T12:00:00",
          "2022-10-07T18:00:00",
          "2022-10-08T00:00:00",
          "2022-10-08T06:00:00",
          "2022-10-08T12:00:00",
          "2022-10-08T18:00:00",
          "2022-10-09T06:00:00",
          "2022-10-09T12:00:00",
          "2022-10-09T18:00:00",
          "2022-10-10T00:00:00",
          "2022-10-10T06:00:00",
          "2022-10-10T12:00:00",
          "2022-10-10T18:00:00",
          "2022-10-11T00:00:00",
          "2022-10-11T06:00:00",
          "2022-10-11T12:00:00",
          "2022-10-11T18:00:00",
          "2022-10-12T00:00:00",
          "2022-10-12T06:00:00",
          "2022-10-12T12:00:00",
          "2022-10-12T18:00:00",
          "2022-10-13T00:00:00",
          "2022-10-13T06:00:00",
          "2022-10-13T12:00:00",
          "2022-10-13T18:00:00",
          "2022-10-14T00:00:00",
          "2022-10-14T06:00:00",
          "2022-10-14T12:00:00",
          "2022-10-14T18:00:00",
          "2022-10-15T00:00:00",
          "2022-10-15T06:00:00"
         ],
         "xaxis": "x",
         "y": [
          2,
          23,
          21,
          1,
          59,
          17,
          17,
          4,
          56,
          19,
          29,
          11,
          5,
          2,
          25,
          13,
          9,
          4,
          42,
          11,
          16,
          5,
          104,
          61,
          29,
          2,
          58,
          24,
          11,
          3,
          68,
          32,
          17,
          2,
          123,
          53,
          38,
          40,
          14,
          3,
          26,
          11,
          10,
          2,
          28,
          32,
          24,
          1,
          48,
          18,
          18,
          1,
          86,
          47,
          29,
          1,
          35,
          21,
          36,
          59,
          27,
          13,
          23,
          5,
          10,
          33,
          14,
          10,
          1,
          58,
          34,
          25,
          2,
          101,
          31,
          28,
          1,
          61,
          31,
          21,
          3,
          66,
          55,
          44,
          143,
          54,
          44,
          1,
          57,
          7,
          6,
          57,
          8,
          7,
          1,
          109,
          46,
          26,
          3,
          68,
          52,
          43,
          4,
          60,
          39,
          19,
          10,
          179,
          61,
          42,
          1,
          75,
          30,
          27,
          2,
          40
         ],
         "yaxis": "y"
        },
        {
         "fillpattern": {
          "shape": ""
         },
         "hovertemplate": "MEDIA=TV<br>DATE=%{x}<br>COUNT=%{y}<extra></extra>",
         "legendgroup": "TV",
         "line": {
          "color": "rgb(59, 111, 66)"
         },
         "marker": {
          "symbol": "circle"
         },
         "mode": "lines",
         "name": "TV",
         "orientation": "v",
         "showlegend": true,
         "stackgroup": "1",
         "type": "scatter",
         "x": [
          "2022-09-14T06:00:00",
          "2022-09-14T12:00:00",
          "2022-09-14T18:00:00",
          "2022-09-15T00:00:00",
          "2022-09-15T06:00:00",
          "2022-09-15T12:00:00",
          "2022-09-15T18:00:00",
          "2022-09-16T06:00:00",
          "2022-09-16T12:00:00",
          "2022-09-16T18:00:00",
          "2022-09-17T00:00:00",
          "2022-09-17T06:00:00",
          "2022-09-17T12:00:00",
          "2022-09-17T18:00:00",
          "2022-09-18T00:00:00",
          "2022-09-18T06:00:00",
          "2022-09-18T12:00:00",
          "2022-09-18T18:00:00",
          "2022-09-19T00:00:00",
          "2022-09-19T06:00:00",
          "2022-09-19T12:00:00",
          "2022-09-19T18:00:00",
          "2022-09-20T06:00:00",
          "2022-09-20T12:00:00",
          "2022-09-20T18:00:00",
          "2022-09-21T00:00:00",
          "2022-09-21T06:00:00",
          "2022-09-21T12:00:00",
          "2022-09-21T18:00:00",
          "2022-09-22T00:00:00",
          "2022-09-22T06:00:00",
          "2022-09-22T12:00:00",
          "2022-09-22T18:00:00",
          "2022-09-23T00:00:00",
          "2022-09-23T06:00:00",
          "2022-09-23T12:00:00",
          "2022-09-23T18:00:00",
          "2022-09-24T00:00:00",
          "2022-09-24T06:00:00",
          "2022-09-24T12:00:00",
          "2022-09-24T18:00:00",
          "2022-09-25T00:00:00",
          "2022-09-25T06:00:00",
          "2022-09-25T12:00:00",
          "2022-09-25T18:00:00",
          "2022-09-26T00:00:00",
          "2022-09-26T06:00:00",
          "2022-09-26T12:00:00",
          "2022-09-26T18:00:00",
          "2022-09-27T00:00:00",
          "2022-09-27T06:00:00",
          "2022-09-27T12:00:00",
          "2022-09-27T18:00:00",
          "2022-09-28T00:00:00",
          "2022-09-28T06:00:00",
          "2022-09-28T12:00:00",
          "2022-09-28T18:00:00",
          "2022-09-29T00:00:00",
          "2022-09-29T06:00:00",
          "2022-09-29T12:00:00",
          "2022-09-29T18:00:00",
          "2022-09-30T00:00:00",
          "2022-09-30T06:00:00",
          "2022-09-30T12:00:00",
          "2022-09-30T18:00:00",
          "2022-10-01T00:00:00",
          "2022-10-01T06:00:00",
          "2022-10-01T12:00:00",
          "2022-10-01T18:00:00",
          "2022-10-02T00:00:00",
          "2022-10-02T06:00:00",
          "2022-10-02T12:00:00",
          "2022-10-02T18:00:00",
          "2022-10-03T00:00:00",
          "2022-10-03T06:00:00",
          "2022-10-03T12:00:00",
          "2022-10-03T18:00:00",
          "2022-10-04T06:00:00",
          "2022-10-04T12:00:00",
          "2022-10-04T18:00:00",
          "2022-10-05T00:00:00",
          "2022-10-05T06:00:00",
          "2022-10-05T12:00:00",
          "2022-10-05T18:00:00",
          "2022-10-06T00:00:00",
          "2022-10-06T06:00:00",
          "2022-10-06T12:00:00",
          "2022-10-06T18:00:00",
          "2022-10-07T00:00:00",
          "2022-10-07T06:00:00",
          "2022-10-07T12:00:00",
          "2022-10-07T18:00:00",
          "2022-10-08T06:00:00",
          "2022-10-08T12:00:00",
          "2022-10-08T18:00:00",
          "2022-10-09T00:00:00",
          "2022-10-09T06:00:00",
          "2022-10-09T12:00:00",
          "2022-10-09T18:00:00",
          "2022-10-10T06:00:00",
          "2022-10-10T12:00:00",
          "2022-10-10T18:00:00",
          "2022-10-11T00:00:00",
          "2022-10-11T06:00:00",
          "2022-10-11T12:00:00",
          "2022-10-11T18:00:00",
          "2022-10-12T00:00:00",
          "2022-10-12T06:00:00",
          "2022-10-12T12:00:00",
          "2022-10-12T18:00:00",
          "2022-10-13T00:00:00",
          "2022-10-13T06:00:00",
          "2022-10-13T12:00:00",
          "2022-10-13T18:00:00",
          "2022-10-14T00:00:00",
          "2022-10-14T06:00:00",
          "2022-10-14T12:00:00",
          "2022-10-14T18:00:00",
          "2022-10-15T00:00:00",
          "2022-10-15T06:00:00"
         ],
         "xaxis": "x",
         "y": [
          11,
          90,
          31,
          6,
          24,
          7,
          37,
          26,
          54,
          41,
          13,
          28,
          75,
          39,
          7,
          59,
          39,
          39,
          6,
          25,
          48,
          57,
          35,
          35,
          40,
          16,
          41,
          43,
          68,
          20,
          48,
          61,
          22,
          4,
          53,
          24,
          39,
          4,
          28,
          43,
          28,
          1,
          29,
          34,
          33,
          4,
          66,
          85,
          33,
          3,
          27,
          47,
          9,
          25,
          19,
          38,
          45,
          2,
          51,
          45,
          66,
          30,
          35,
          21,
          50,
          18,
          37,
          25,
          15,
          2,
          23,
          22,
          16,
          4,
          20,
          24,
          31,
          18,
          27,
          25,
          13,
          40,
          39,
          58,
          6,
          45,
          52,
          61,
          1,
          37,
          37,
          47,
          22,
          26,
          45,
          4,
          27,
          40,
          21,
          22,
          85,
          78,
          23,
          79,
          28,
          16,
          10,
          18,
          11,
          31,
          9,
          57,
          40,
          56,
          10,
          27,
          15,
          32,
          7,
          15
         ],
         "yaxis": "y"
        }
       ],
       "layout": {
        "height": 400,
        "legend": {
         "title": {
          "text": "MEDIA"
         },
         "tracegroupgap": 0
        },
        "template": {
         "layout": {
          "colorway": [
           "rgb(230, 50, 24)",
           "rgb(240, 73, 70)",
           "rgb(243, 127, 125)",
           "rgb(248, 182, 181)",
           "rgb(209, 220, 197)",
           "rgb(137, 168, 141)",
           "rgb(59, 111, 66)",
           "rgb(66, 66, 66)"
          ],
          "font": {
           "family": "Helvetica"
          },
          "piecolorway": [
           "rgb(230, 50, 24)",
           "rgb(240, 73, 70)",
           "rgb(243, 127, 125)",
           "rgb(248, 182, 181)",
           "rgb(209, 220, 197)",
           "rgb(137, 168, 141)",
           "rgb(59, 111, 66)",
           "rgb(66, 66, 66)"
          ],
          "sunburstcolorway": [
           "rgb(230, 50, 24)",
           "rgb(240, 73, 70)",
           "rgb(243, 127, 125)",
           "rgb(248, 182, 181)",
           "rgb(209, 220, 197)",
           "rgb(137, 168, 141)",
           "rgb(59, 111, 66)",
           "rgb(66, 66, 66)"
          ],
          "treemapcolorway": [
           "rgb(230, 50, 24)",
           "rgb(240, 73, 70)",
           "rgb(243, 127, 125)",
           "rgb(248, 182, 181)",
           "rgb(209, 220, 197)",
           "rgb(137, 168, 141)",
           "rgb(59, 111, 66)",
           "rgb(66, 66, 66)"
          ]
         }
        },
        "title": {
         "text": "Evolution du nombre de mention au cours du temps par type de média"
        },
        "xaxis": {
         "anchor": "y",
         "domain": [
          0,
          1
         ],
         "title": {
          "text": "DATE"
         }
        },
        "yaxis": {
         "anchor": "x",
         "domain": [
          0,
          1
         ],
         "title": {
          "text": "COUNT"
         }
        }
       }
      }
     },
     "metadata": {}
    }
   ],
   "metadata": {}
  },
  {
   "cell_type": "code",
   "execution_count": 17,
   "source": [
    "freq = \"D\"\n",
    "\n",
    "count = (\n",
    "    data.set_index([\"DATE\"])\n",
    "    .groupby([pd.Grouper(freq = freq),\"MEDIA\",\"CHANNEL_NAME\"],as_index = True)\n",
    "    [\"COUNT\"].sum()\n",
    "    .reset_index()\n",
    ")\n",
    "\n",
    "count = count.loc[count[\"CHANNEL_NAME\"].isin(top_channels_tv)]\n",
    "\n",
    "fig = px.line(count,\n",
    "             x = \"DATE\",y = \"COUNT\",color = \"CHANNEL_NAME\",\n",
    "             title = \"Evolution du nombre de mention au cours du temps par chaîne TV\",height = 400\n",
    ")\n",
    "fig.show()\n",
    "\n",
    "fig = px.bar(count,\n",
    "             x = \"DATE\",y = \"COUNT\",color = \"CHANNEL_NAME\",\n",
    "             title = \"Evolution du nombre de mention au cours du temps par chaîne TV\",height = 400\n",
    ")\n",
    "fig.show()"
   ],
   "outputs": [
    {
     "output_type": "display_data",
     "data": {
      "application/vnd.plotly.v1+json": {
       "config": {
        "plotlyServerURL": "https://plot.ly"
       },
       "data": [
        {
         "hovertemplate": "CHANNEL_NAME=BFMTV<br>DATE=%{x}<br>COUNT=%{y}<extra></extra>",
         "legendgroup": "BFMTV",
         "line": {
          "color": "rgb(230, 50, 24)",
          "dash": "solid"
         },
         "marker": {
          "symbol": "circle"
         },
         "mode": "lines",
         "name": "BFMTV",
         "orientation": "v",
         "showlegend": true,
         "type": "scatter",
         "x": [
          "2022-09-14T00:00:00",
          "2022-09-15T00:00:00",
          "2022-09-16T00:00:00",
          "2022-09-19T00:00:00",
          "2022-09-21T00:00:00",
          "2022-09-22T00:00:00",
          "2022-09-23T00:00:00",
          "2022-09-24T00:00:00",
          "2022-09-28T00:00:00",
          "2022-09-29T00:00:00",
          "2022-09-30T00:00:00",
          "2022-10-01T00:00:00",
          "2022-10-03T00:00:00",
          "2022-10-05T00:00:00",
          "2022-10-06T00:00:00",
          "2022-10-14T00:00:00"
         ],
         "xaxis": "x",
         "y": [
          1,
          1,
          2,
          2,
          1,
          1,
          3,
          1,
          5,
          2,
          1,
          2,
          1,
          2,
          1,
          1
         ],
         "yaxis": "y"
        },
        {
         "hovertemplate": "CHANNEL_NAME=France 5<br>DATE=%{x}<br>COUNT=%{y}<extra></extra>",
         "legendgroup": "France 5",
         "line": {
          "color": "rgb(240, 73, 70)",
          "dash": "solid"
         },
         "marker": {
          "symbol": "circle"
         },
         "mode": "lines",
         "name": "France 5",
         "orientation": "v",
         "showlegend": true,
         "type": "scatter",
         "x": [
          "2022-09-14T00:00:00",
          "2022-09-15T00:00:00",
          "2022-09-16T00:00:00",
          "2022-09-17T00:00:00",
          "2022-09-18T00:00:00",
          "2022-09-19T00:00:00",
          "2022-09-23T00:00:00",
          "2022-09-24T00:00:00",
          "2022-09-25T00:00:00",
          "2022-09-30T00:00:00",
          "2022-10-01T00:00:00",
          "2022-10-02T00:00:00",
          "2022-10-03T00:00:00",
          "2022-10-04T00:00:00",
          "2022-10-05T00:00:00",
          "2022-10-06T00:00:00",
          "2022-10-07T00:00:00",
          "2022-10-08T00:00:00",
          "2022-10-09T00:00:00",
          "2022-10-10T00:00:00",
          "2022-10-11T00:00:00",
          "2022-10-12T00:00:00",
          "2022-10-14T00:00:00"
         ],
         "xaxis": "x",
         "y": [
          1,
          5,
          1,
          2,
          7,
          13,
          1,
          2,
          1,
          2,
          3,
          2,
          1,
          2,
          2,
          1,
          2,
          5,
          7,
          7,
          1,
          1,
          4
         ],
         "yaxis": "y"
        },
        {
         "hovertemplate": "CHANNEL_NAME=France 2<br>DATE=%{x}<br>COUNT=%{y}<extra></extra>",
         "legendgroup": "France 2",
         "line": {
          "color": "rgb(243, 127, 125)",
          "dash": "solid"
         },
         "marker": {
          "symbol": "circle"
         },
         "mode": "lines",
         "name": "France 2",
         "orientation": "v",
         "showlegend": true,
         "type": "scatter",
         "x": [
          "2022-09-15T00:00:00",
          "2022-09-18T00:00:00",
          "2022-09-19T00:00:00",
          "2022-09-20T00:00:00",
          "2022-09-21T00:00:00",
          "2022-09-22T00:00:00",
          "2022-09-23T00:00:00",
          "2022-09-24T00:00:00",
          "2022-09-25T00:00:00",
          "2022-09-28T00:00:00",
          "2022-09-29T00:00:00",
          "2022-09-30T00:00:00",
          "2022-10-01T00:00:00",
          "2022-10-03T00:00:00",
          "2022-10-06T00:00:00",
          "2022-10-07T00:00:00",
          "2022-10-09T00:00:00",
          "2022-10-10T00:00:00",
          "2022-10-11T00:00:00",
          "2022-10-13T00:00:00"
         ],
         "xaxis": "x",
         "y": [
          3,
          2,
          1,
          2,
          1,
          2,
          5,
          1,
          2,
          2,
          1,
          3,
          1,
          1,
          1,
          1,
          1,
          2,
          2,
          1
         ],
         "yaxis": "y"
        },
        {
         "hovertemplate": "CHANNEL_NAME=CNEWS<br>DATE=%{x}<br>COUNT=%{y}<extra></extra>",
         "legendgroup": "CNEWS",
         "line": {
          "color": "rgb(248, 182, 181)",
          "dash": "solid"
         },
         "marker": {
          "symbol": "circle"
         },
         "mode": "lines",
         "name": "CNEWS",
         "orientation": "v",
         "showlegend": true,
         "type": "scatter",
         "x": [
          "2022-09-17T00:00:00",
          "2022-09-21T00:00:00",
          "2022-09-25T00:00:00",
          "2022-09-29T00:00:00",
          "2022-10-05T00:00:00",
          "2022-10-06T00:00:00",
          "2022-10-07T00:00:00",
          "2022-10-08T00:00:00",
          "2022-10-13T00:00:00"
         ],
         "xaxis": "x",
         "y": [
          5,
          4,
          1,
          3,
          2,
          1,
          1,
          1,
          2
         ],
         "yaxis": "y"
        },
        {
         "hovertemplate": "CHANNEL_NAME=TF1<br>DATE=%{x}<br>COUNT=%{y}<extra></extra>",
         "legendgroup": "TF1",
         "line": {
          "color": "rgb(209, 220, 197)",
          "dash": "solid"
         },
         "marker": {
          "symbol": "circle"
         },
         "mode": "lines",
         "name": "TF1",
         "orientation": "v",
         "showlegend": true,
         "type": "scatter",
         "x": [
          "2022-09-19T00:00:00",
          "2022-09-24T00:00:00",
          "2022-09-29T00:00:00",
          "2022-10-01T00:00:00",
          "2022-10-04T00:00:00",
          "2022-10-05T00:00:00",
          "2022-10-08T00:00:00"
         ],
         "xaxis": "x",
         "y": [
          1,
          2,
          1,
          5,
          1,
          2,
          1
         ],
         "yaxis": "y"
        },
        {
         "hovertemplate": "CHANNEL_NAME=Canal+<br>DATE=%{x}<br>COUNT=%{y}<extra></extra>",
         "legendgroup": "Canal+",
         "line": {
          "color": "rgb(137, 168, 141)",
          "dash": "solid"
         },
         "marker": {
          "symbol": "circle"
         },
         "mode": "lines",
         "name": "Canal+",
         "orientation": "v",
         "showlegend": true,
         "type": "scatter",
         "x": [
          "2022-09-25T00:00:00",
          "2022-10-02T00:00:00"
         ],
         "xaxis": "x",
         "y": [
          1,
          1
         ],
         "yaxis": "y"
        },
        {
         "hovertemplate": "CHANNEL_NAME=M6<br>DATE=%{x}<br>COUNT=%{y}<extra></extra>",
         "legendgroup": "M6",
         "line": {
          "color": "rgb(59, 111, 66)",
          "dash": "solid"
         },
         "marker": {
          "symbol": "circle"
         },
         "mode": "lines",
         "name": "M6",
         "orientation": "v",
         "showlegend": true,
         "type": "scatter",
         "x": [
          "2022-10-13T00:00:00",
          "2022-10-14T00:00:00"
         ],
         "xaxis": "x",
         "y": [
          2,
          1
         ],
         "yaxis": "y"
        }
       ],
       "layout": {
        "height": 400,
        "legend": {
         "title": {
          "text": "CHANNEL_NAME"
         },
         "tracegroupgap": 0
        },
        "template": {
         "layout": {
          "colorway": [
           "rgb(230, 50, 24)",
           "rgb(240, 73, 70)",
           "rgb(243, 127, 125)",
           "rgb(248, 182, 181)",
           "rgb(209, 220, 197)",
           "rgb(137, 168, 141)",
           "rgb(59, 111, 66)",
           "rgb(66, 66, 66)"
          ],
          "font": {
           "family": "Helvetica"
          },
          "piecolorway": [
           "rgb(230, 50, 24)",
           "rgb(240, 73, 70)",
           "rgb(243, 127, 125)",
           "rgb(248, 182, 181)",
           "rgb(209, 220, 197)",
           "rgb(137, 168, 141)",
           "rgb(59, 111, 66)",
           "rgb(66, 66, 66)"
          ],
          "sunburstcolorway": [
           "rgb(230, 50, 24)",
           "rgb(240, 73, 70)",
           "rgb(243, 127, 125)",
           "rgb(248, 182, 181)",
           "rgb(209, 220, 197)",
           "rgb(137, 168, 141)",
           "rgb(59, 111, 66)",
           "rgb(66, 66, 66)"
          ],
          "treemapcolorway": [
           "rgb(230, 50, 24)",
           "rgb(240, 73, 70)",
           "rgb(243, 127, 125)",
           "rgb(248, 182, 181)",
           "rgb(209, 220, 197)",
           "rgb(137, 168, 141)",
           "rgb(59, 111, 66)",
           "rgb(66, 66, 66)"
          ]
         }
        },
        "title": {
         "text": "Evolution du nombre de mention au cours du temps par chaîne TV"
        },
        "xaxis": {
         "anchor": "y",
         "domain": [
          0,
          1
         ],
         "title": {
          "text": "DATE"
         }
        },
        "yaxis": {
         "anchor": "x",
         "domain": [
          0,
          1
         ],
         "title": {
          "text": "COUNT"
         }
        }
       }
      }
     },
     "metadata": {}
    },
    {
     "output_type": "display_data",
     "data": {
      "application/vnd.plotly.v1+json": {
       "config": {
        "plotlyServerURL": "https://plot.ly"
       },
       "data": [
        {
         "alignmentgroup": "True",
         "hovertemplate": "CHANNEL_NAME=BFMTV<br>DATE=%{x}<br>COUNT=%{y}<extra></extra>",
         "legendgroup": "BFMTV",
         "marker": {
          "color": "rgb(230, 50, 24)",
          "pattern": {
           "shape": ""
          }
         },
         "name": "BFMTV",
         "offsetgroup": "BFMTV",
         "orientation": "v",
         "showlegend": true,
         "textposition": "auto",
         "type": "bar",
         "x": [
          "2022-09-14T00:00:00",
          "2022-09-15T00:00:00",
          "2022-09-16T00:00:00",
          "2022-09-19T00:00:00",
          "2022-09-21T00:00:00",
          "2022-09-22T00:00:00",
          "2022-09-23T00:00:00",
          "2022-09-24T00:00:00",
          "2022-09-28T00:00:00",
          "2022-09-29T00:00:00",
          "2022-09-30T00:00:00",
          "2022-10-01T00:00:00",
          "2022-10-03T00:00:00",
          "2022-10-05T00:00:00",
          "2022-10-06T00:00:00",
          "2022-10-14T00:00:00"
         ],
         "xaxis": "x",
         "y": [
          1,
          1,
          2,
          2,
          1,
          1,
          3,
          1,
          5,
          2,
          1,
          2,
          1,
          2,
          1,
          1
         ],
         "yaxis": "y"
        },
        {
         "alignmentgroup": "True",
         "hovertemplate": "CHANNEL_NAME=France 5<br>DATE=%{x}<br>COUNT=%{y}<extra></extra>",
         "legendgroup": "France 5",
         "marker": {
          "color": "rgb(240, 73, 70)",
          "pattern": {
           "shape": ""
          }
         },
         "name": "France 5",
         "offsetgroup": "France 5",
         "orientation": "v",
         "showlegend": true,
         "textposition": "auto",
         "type": "bar",
         "x": [
          "2022-09-14T00:00:00",
          "2022-09-15T00:00:00",
          "2022-09-16T00:00:00",
          "2022-09-17T00:00:00",
          "2022-09-18T00:00:00",
          "2022-09-19T00:00:00",
          "2022-09-23T00:00:00",
          "2022-09-24T00:00:00",
          "2022-09-25T00:00:00",
          "2022-09-30T00:00:00",
          "2022-10-01T00:00:00",
          "2022-10-02T00:00:00",
          "2022-10-03T00:00:00",
          "2022-10-04T00:00:00",
          "2022-10-05T00:00:00",
          "2022-10-06T00:00:00",
          "2022-10-07T00:00:00",
          "2022-10-08T00:00:00",
          "2022-10-09T00:00:00",
          "2022-10-10T00:00:00",
          "2022-10-11T00:00:00",
          "2022-10-12T00:00:00",
          "2022-10-14T00:00:00"
         ],
         "xaxis": "x",
         "y": [
          1,
          5,
          1,
          2,
          7,
          13,
          1,
          2,
          1,
          2,
          3,
          2,
          1,
          2,
          2,
          1,
          2,
          5,
          7,
          7,
          1,
          1,
          4
         ],
         "yaxis": "y"
        },
        {
         "alignmentgroup": "True",
         "hovertemplate": "CHANNEL_NAME=France 2<br>DATE=%{x}<br>COUNT=%{y}<extra></extra>",
         "legendgroup": "France 2",
         "marker": {
          "color": "rgb(243, 127, 125)",
          "pattern": {
           "shape": ""
          }
         },
         "name": "France 2",
         "offsetgroup": "France 2",
         "orientation": "v",
         "showlegend": true,
         "textposition": "auto",
         "type": "bar",
         "x": [
          "2022-09-15T00:00:00",
          "2022-09-18T00:00:00",
          "2022-09-19T00:00:00",
          "2022-09-20T00:00:00",
          "2022-09-21T00:00:00",
          "2022-09-22T00:00:00",
          "2022-09-23T00:00:00",
          "2022-09-24T00:00:00",
          "2022-09-25T00:00:00",
          "2022-09-28T00:00:00",
          "2022-09-29T00:00:00",
          "2022-09-30T00:00:00",
          "2022-10-01T00:00:00",
          "2022-10-03T00:00:00",
          "2022-10-06T00:00:00",
          "2022-10-07T00:00:00",
          "2022-10-09T00:00:00",
          "2022-10-10T00:00:00",
          "2022-10-11T00:00:00",
          "2022-10-13T00:00:00"
         ],
         "xaxis": "x",
         "y": [
          3,
          2,
          1,
          2,
          1,
          2,
          5,
          1,
          2,
          2,
          1,
          3,
          1,
          1,
          1,
          1,
          1,
          2,
          2,
          1
         ],
         "yaxis": "y"
        },
        {
         "alignmentgroup": "True",
         "hovertemplate": "CHANNEL_NAME=CNEWS<br>DATE=%{x}<br>COUNT=%{y}<extra></extra>",
         "legendgroup": "CNEWS",
         "marker": {
          "color": "rgb(248, 182, 181)",
          "pattern": {
           "shape": ""
          }
         },
         "name": "CNEWS",
         "offsetgroup": "CNEWS",
         "orientation": "v",
         "showlegend": true,
         "textposition": "auto",
         "type": "bar",
         "x": [
          "2022-09-17T00:00:00",
          "2022-09-21T00:00:00",
          "2022-09-25T00:00:00",
          "2022-09-29T00:00:00",
          "2022-10-05T00:00:00",
          "2022-10-06T00:00:00",
          "2022-10-07T00:00:00",
          "2022-10-08T00:00:00",
          "2022-10-13T00:00:00"
         ],
         "xaxis": "x",
         "y": [
          5,
          4,
          1,
          3,
          2,
          1,
          1,
          1,
          2
         ],
         "yaxis": "y"
        },
        {
         "alignmentgroup": "True",
         "hovertemplate": "CHANNEL_NAME=TF1<br>DATE=%{x}<br>COUNT=%{y}<extra></extra>",
         "legendgroup": "TF1",
         "marker": {
          "color": "rgb(209, 220, 197)",
          "pattern": {
           "shape": ""
          }
         },
         "name": "TF1",
         "offsetgroup": "TF1",
         "orientation": "v",
         "showlegend": true,
         "textposition": "auto",
         "type": "bar",
         "x": [
          "2022-09-19T00:00:00",
          "2022-09-24T00:00:00",
          "2022-09-29T00:00:00",
          "2022-10-01T00:00:00",
          "2022-10-04T00:00:00",
          "2022-10-05T00:00:00",
          "2022-10-08T00:00:00"
         ],
         "xaxis": "x",
         "y": [
          1,
          2,
          1,
          5,
          1,
          2,
          1
         ],
         "yaxis": "y"
        },
        {
         "alignmentgroup": "True",
         "hovertemplate": "CHANNEL_NAME=Canal+<br>DATE=%{x}<br>COUNT=%{y}<extra></extra>",
         "legendgroup": "Canal+",
         "marker": {
          "color": "rgb(137, 168, 141)",
          "pattern": {
           "shape": ""
          }
         },
         "name": "Canal+",
         "offsetgroup": "Canal+",
         "orientation": "v",
         "showlegend": true,
         "textposition": "auto",
         "type": "bar",
         "x": [
          "2022-09-25T00:00:00",
          "2022-10-02T00:00:00"
         ],
         "xaxis": "x",
         "y": [
          1,
          1
         ],
         "yaxis": "y"
        },
        {
         "alignmentgroup": "True",
         "hovertemplate": "CHANNEL_NAME=M6<br>DATE=%{x}<br>COUNT=%{y}<extra></extra>",
         "legendgroup": "M6",
         "marker": {
          "color": "rgb(59, 111, 66)",
          "pattern": {
           "shape": ""
          }
         },
         "name": "M6",
         "offsetgroup": "M6",
         "orientation": "v",
         "showlegend": true,
         "textposition": "auto",
         "type": "bar",
         "x": [
          "2022-10-13T00:00:00",
          "2022-10-14T00:00:00"
         ],
         "xaxis": "x",
         "y": [
          2,
          1
         ],
         "yaxis": "y"
        }
       ],
       "layout": {
        "barmode": "relative",
        "height": 400,
        "legend": {
         "title": {
          "text": "CHANNEL_NAME"
         },
         "tracegroupgap": 0
        },
        "template": {
         "layout": {
          "colorway": [
           "rgb(230, 50, 24)",
           "rgb(240, 73, 70)",
           "rgb(243, 127, 125)",
           "rgb(248, 182, 181)",
           "rgb(209, 220, 197)",
           "rgb(137, 168, 141)",
           "rgb(59, 111, 66)",
           "rgb(66, 66, 66)"
          ],
          "font": {
           "family": "Helvetica"
          },
          "piecolorway": [
           "rgb(230, 50, 24)",
           "rgb(240, 73, 70)",
           "rgb(243, 127, 125)",
           "rgb(248, 182, 181)",
           "rgb(209, 220, 197)",
           "rgb(137, 168, 141)",
           "rgb(59, 111, 66)",
           "rgb(66, 66, 66)"
          ],
          "sunburstcolorway": [
           "rgb(230, 50, 24)",
           "rgb(240, 73, 70)",
           "rgb(243, 127, 125)",
           "rgb(248, 182, 181)",
           "rgb(209, 220, 197)",
           "rgb(137, 168, 141)",
           "rgb(59, 111, 66)",
           "rgb(66, 66, 66)"
          ],
          "treemapcolorway": [
           "rgb(230, 50, 24)",
           "rgb(240, 73, 70)",
           "rgb(243, 127, 125)",
           "rgb(248, 182, 181)",
           "rgb(209, 220, 197)",
           "rgb(137, 168, 141)",
           "rgb(59, 111, 66)",
           "rgb(66, 66, 66)"
          ]
         }
        },
        "title": {
         "text": "Evolution du nombre de mention au cours du temps par chaîne TV"
        },
        "xaxis": {
         "anchor": "y",
         "domain": [
          0,
          1
         ],
         "title": {
          "text": "DATE"
         }
        },
        "yaxis": {
         "anchor": "x",
         "domain": [
          0,
          1
         ],
         "title": {
          "text": "COUNT"
         }
        }
       }
      }
     },
     "metadata": {}
    }
   ],
   "metadata": {}
  },
  {
   "cell_type": "markdown",
   "source": [
    "## Heures de la journée"
   ],
   "metadata": {}
  },
  {
   "cell_type": "code",
   "execution_count": 18,
   "source": [
    "freq = \"1H\"\n",
    "\n",
    "count = (\n",
    "    data\n",
    "    .set_index([\"TIME\"])\n",
    "    .groupby([pd.Grouper(freq = freq)],as_index = True)\n",
    "    [\"COUNT\"].sum()\n",
    "    .reset_index()\n",
    "    .assign(TIME = lambda x: x[\"TIME\"].map(lambda y : str(y)[7:12]))\n",
    ")\n",
    "\n",
    "fig = px.bar(\n",
    "    count,\n",
    "    x = \"TIME\",y = \"COUNT\",\n",
    ")\n",
    "fig.show()"
   ],
   "outputs": [
    {
     "output_type": "display_data",
     "data": {
      "application/vnd.plotly.v1+json": {
       "config": {
        "plotlyServerURL": "https://plot.ly"
       },
       "data": [
        {
         "alignmentgroup": "True",
         "hovertemplate": "TIME=%{x}<br>COUNT=%{y}<extra></extra>",
         "legendgroup": "",
         "marker": {
          "color": "rgb(230, 50, 24)",
          "pattern": {
           "shape": ""
          }
         },
         "name": "",
         "offsetgroup": "",
         "orientation": "v",
         "showlegend": false,
         "textposition": "auto",
         "type": "bar",
         "x": [
          "00:00",
          "01:00",
          "02:00",
          "03:00",
          "04:00",
          "05:00",
          "06:00",
          "07:00",
          "08:00",
          "09:00",
          "10:00",
          "11:00",
          "12:00",
          "13:00",
          "14:00",
          "15:00",
          "16:00",
          "17:00",
          "18:00",
          "19:00",
          "20:00",
          "21:00",
          "22:00",
          "23:00"
         ],
         "xaxis": "x",
         "y": [
          32,
          64,
          25,
          49,
          39,
          94,
          409,
          835,
          713,
          418,
          365,
          352,
          580,
          373,
          303,
          216,
          372,
          311,
          669,
          389,
          203,
          219,
          201,
          202
         ],
         "yaxis": "y"
        }
       ],
       "layout": {
        "barmode": "relative",
        "legend": {
         "tracegroupgap": 0
        },
        "margin": {
         "t": 60
        },
        "template": {
         "layout": {
          "colorway": [
           "rgb(230, 50, 24)",
           "rgb(240, 73, 70)",
           "rgb(243, 127, 125)",
           "rgb(248, 182, 181)",
           "rgb(209, 220, 197)",
           "rgb(137, 168, 141)",
           "rgb(59, 111, 66)",
           "rgb(66, 66, 66)"
          ],
          "font": {
           "family": "Helvetica"
          },
          "piecolorway": [
           "rgb(230, 50, 24)",
           "rgb(240, 73, 70)",
           "rgb(243, 127, 125)",
           "rgb(248, 182, 181)",
           "rgb(209, 220, 197)",
           "rgb(137, 168, 141)",
           "rgb(59, 111, 66)",
           "rgb(66, 66, 66)"
          ],
          "sunburstcolorway": [
           "rgb(230, 50, 24)",
           "rgb(240, 73, 70)",
           "rgb(243, 127, 125)",
           "rgb(248, 182, 181)",
           "rgb(209, 220, 197)",
           "rgb(137, 168, 141)",
           "rgb(59, 111, 66)",
           "rgb(66, 66, 66)"
          ],
          "treemapcolorway": [
           "rgb(230, 50, 24)",
           "rgb(240, 73, 70)",
           "rgb(243, 127, 125)",
           "rgb(248, 182, 181)",
           "rgb(209, 220, 197)",
           "rgb(137, 168, 141)",
           "rgb(59, 111, 66)",
           "rgb(66, 66, 66)"
          ]
         }
        },
        "xaxis": {
         "anchor": "y",
         "domain": [
          0,
          1
         ],
         "title": {
          "text": "TIME"
         }
        },
        "yaxis": {
         "anchor": "x",
         "domain": [
          0,
          1
         ],
         "title": {
          "text": "COUNT"
         }
        }
       }
      }
     },
     "metadata": {}
    }
   ],
   "metadata": {}
  },
  {
   "cell_type": "code",
   "execution_count": 19,
   "source": [
    "count[\"TIME\"].unique()"
   ],
   "outputs": [
    {
     "output_type": "execute_result",
     "data": {
      "text/plain": [
       "array(['00:00', '01:00', '02:00', '03:00', '04:00', '05:00', '06:00',\n",
       "       '07:00', '08:00', '09:00', '10:00', '11:00', '12:00', '13:00',\n",
       "       '14:00', '15:00', '16:00', '17:00', '18:00', '19:00', '20:00',\n",
       "       '21:00', '22:00', '23:00'], dtype=object)"
      ]
     },
     "metadata": {},
     "execution_count": 19
    }
   ],
   "metadata": {}
  },
  {
   "cell_type": "code",
   "execution_count": 20,
   "source": [
    "freq = \"1H\"\n",
    "\n",
    "count = (\n",
    "    data\n",
    "    .set_index([\"TIME\"])\n",
    "    .groupby([pd.Grouper(freq = freq),\"MEDIA\"],as_index = True)\n",
    "    [\"COUNT\"].sum()\n",
    "    .reset_index()\n",
    "    .assign(TIME = lambda x: x[\"TIME\"].map(lambda y : str(y)[7:12]))\n",
    "    .sort_values(\"TIME\",ascending = True)\n",
    ")\n",
    "\n",
    "fig = px.bar(\n",
    "    count,\n",
    "    text_auto = \"s\",\n",
    "    x = \"TIME\",y = \"COUNT\",color=\"MEDIA\",\n",
    "    color_discrete_sequence=SMALL_SEQUENCE2,\n",
    "    height = 400,\n",
    "    category_orders={\"TIME\":count[\"TIME\"].unique()},\n",
    "    title = \"Répartition des mentions par heure de la journée\"\n",
    ")\n",
    "fig.show()\n",
    "\n",
    "\n",
    "fig = px.area(\n",
    "    count,\n",
    "    x = \"TIME\",y = \"COUNT\",color = \"MEDIA\",groupnorm='fraction',\n",
    "    category_orders={\"TIME\":count[\"TIME\"].unique()},\n",
    "    title = \"Répartition des mentions par heure de la journée en %\",height = 400,color_discrete_sequence=SMALL_SEQUENCE2,\n",
    ")\n",
    "fig.update_layout(yaxis_tickformat='0%') \n",
    "fig.show()"
   ],
   "outputs": [
    {
     "output_type": "display_data",
     "data": {
      "application/vnd.plotly.v1+json": {
       "config": {
        "plotlyServerURL": "https://plot.ly"
       },
       "data": [
        {
         "alignmentgroup": "True",
         "hovertemplate": "MEDIA=Radio<br>TIME=%{x}<br>COUNT=%{y}<extra></extra>",
         "legendgroup": "Radio",
         "marker": {
          "color": "rgb(230, 50, 24)",
          "pattern": {
           "shape": ""
          }
         },
         "name": "Radio",
         "offsetgroup": "Radio",
         "orientation": "v",
         "showlegend": true,
         "textposition": "auto",
         "texttemplate": "%{y:s}",
         "type": "bar",
         "x": [
          "00:00",
          "01:00",
          "04:00",
          "05:00",
          "06:00",
          "07:00",
          "08:00",
          "09:00",
          "10:00",
          "11:00",
          "12:00",
          "13:00",
          "14:00",
          "15:00",
          "16:00",
          "17:00",
          "18:00",
          "19:00",
          "20:00",
          "21:00",
          "22:00",
          "23:00"
         ],
         "xaxis": "x",
         "y": [
          10,
          5,
          11,
          29,
          286,
          656,
          478,
          261,
          177,
          142,
          325,
          139,
          103,
          37,
          152,
          139,
          395,
          122,
          47,
          52,
          29,
          29
         ],
         "yaxis": "y"
        },
        {
         "alignmentgroup": "True",
         "hovertemplate": "MEDIA=TV<br>TIME=%{x}<br>COUNT=%{y}<extra></extra>",
         "legendgroup": "TV",
         "marker": {
          "color": "rgb(59, 111, 66)",
          "pattern": {
           "shape": ""
          }
         },
         "name": "TV",
         "offsetgroup": "TV",
         "orientation": "v",
         "showlegend": true,
         "textposition": "auto",
         "texttemplate": "%{y:s}",
         "type": "bar",
         "x": [
          "00:00",
          "01:00",
          "02:00",
          "03:00",
          "04:00",
          "05:00",
          "06:00",
          "07:00",
          "08:00",
          "09:00",
          "10:00",
          "11:00",
          "12:00",
          "13:00",
          "14:00",
          "15:00",
          "16:00",
          "17:00",
          "18:00",
          "19:00",
          "20:00",
          "21:00",
          "22:00",
          "23:00"
         ],
         "xaxis": "x",
         "y": [
          22,
          59,
          25,
          49,
          28,
          65,
          123,
          179,
          235,
          157,
          188,
          210,
          255,
          234,
          200,
          179,
          220,
          172,
          274,
          267,
          156,
          167,
          172,
          173
         ],
         "yaxis": "y"
        }
       ],
       "layout": {
        "barmode": "relative",
        "height": 400,
        "legend": {
         "title": {
          "text": "MEDIA"
         },
         "tracegroupgap": 0
        },
        "template": {
         "layout": {
          "colorway": [
           "rgb(230, 50, 24)",
           "rgb(240, 73, 70)",
           "rgb(243, 127, 125)",
           "rgb(248, 182, 181)",
           "rgb(209, 220, 197)",
           "rgb(137, 168, 141)",
           "rgb(59, 111, 66)",
           "rgb(66, 66, 66)"
          ],
          "font": {
           "family": "Helvetica"
          },
          "piecolorway": [
           "rgb(230, 50, 24)",
           "rgb(240, 73, 70)",
           "rgb(243, 127, 125)",
           "rgb(248, 182, 181)",
           "rgb(209, 220, 197)",
           "rgb(137, 168, 141)",
           "rgb(59, 111, 66)",
           "rgb(66, 66, 66)"
          ],
          "sunburstcolorway": [
           "rgb(230, 50, 24)",
           "rgb(240, 73, 70)",
           "rgb(243, 127, 125)",
           "rgb(248, 182, 181)",
           "rgb(209, 220, 197)",
           "rgb(137, 168, 141)",
           "rgb(59, 111, 66)",
           "rgb(66, 66, 66)"
          ],
          "treemapcolorway": [
           "rgb(230, 50, 24)",
           "rgb(240, 73, 70)",
           "rgb(243, 127, 125)",
           "rgb(248, 182, 181)",
           "rgb(209, 220, 197)",
           "rgb(137, 168, 141)",
           "rgb(59, 111, 66)",
           "rgb(66, 66, 66)"
          ]
         }
        },
        "title": {
         "text": "Répartition des mentions par heure de la journée"
        },
        "xaxis": {
         "anchor": "y",
         "categoryarray": [
          "00:00",
          "01:00",
          "02:00",
          "03:00",
          "04:00",
          "05:00",
          "06:00",
          "07:00",
          "08:00",
          "09:00",
          "10:00",
          "11:00",
          "12:00",
          "13:00",
          "14:00",
          "15:00",
          "16:00",
          "17:00",
          "18:00",
          "19:00",
          "20:00",
          "21:00",
          "22:00",
          "23:00"
         ],
         "categoryorder": "array",
         "domain": [
          0,
          1
         ],
         "title": {
          "text": "TIME"
         }
        },
        "yaxis": {
         "anchor": "x",
         "domain": [
          0,
          1
         ],
         "title": {
          "text": "COUNT"
         }
        }
       }
      }
     },
     "metadata": {}
    },
    {
     "output_type": "display_data",
     "data": {
      "application/vnd.plotly.v1+json": {
       "config": {
        "plotlyServerURL": "https://plot.ly"
       },
       "data": [
        {
         "fillpattern": {
          "shape": ""
         },
         "groupnorm": "fraction",
         "hovertemplate": "MEDIA=Radio<br>TIME=%{x}<br>COUNT=%{y}<extra></extra>",
         "legendgroup": "Radio",
         "line": {
          "color": "rgb(230, 50, 24)"
         },
         "marker": {
          "symbol": "circle"
         },
         "mode": "lines",
         "name": "Radio",
         "orientation": "v",
         "showlegend": true,
         "stackgroup": "1",
         "type": "scatter",
         "x": [
          "00:00",
          "01:00",
          "04:00",
          "05:00",
          "06:00",
          "07:00",
          "08:00",
          "09:00",
          "10:00",
          "11:00",
          "12:00",
          "13:00",
          "14:00",
          "15:00",
          "16:00",
          "17:00",
          "18:00",
          "19:00",
          "20:00",
          "21:00",
          "22:00",
          "23:00"
         ],
         "xaxis": "x",
         "y": [
          10,
          5,
          11,
          29,
          286,
          656,
          478,
          261,
          177,
          142,
          325,
          139,
          103,
          37,
          152,
          139,
          395,
          122,
          47,
          52,
          29,
          29
         ],
         "yaxis": "y"
        },
        {
         "fillpattern": {
          "shape": ""
         },
         "groupnorm": "fraction",
         "hovertemplate": "MEDIA=TV<br>TIME=%{x}<br>COUNT=%{y}<extra></extra>",
         "legendgroup": "TV",
         "line": {
          "color": "rgb(59, 111, 66)"
         },
         "marker": {
          "symbol": "circle"
         },
         "mode": "lines",
         "name": "TV",
         "orientation": "v",
         "showlegend": true,
         "stackgroup": "1",
         "type": "scatter",
         "x": [
          "00:00",
          "01:00",
          "02:00",
          "03:00",
          "04:00",
          "05:00",
          "06:00",
          "07:00",
          "08:00",
          "09:00",
          "10:00",
          "11:00",
          "12:00",
          "13:00",
          "14:00",
          "15:00",
          "16:00",
          "17:00",
          "18:00",
          "19:00",
          "20:00",
          "21:00",
          "22:00",
          "23:00"
         ],
         "xaxis": "x",
         "y": [
          22,
          59,
          25,
          49,
          28,
          65,
          123,
          179,
          235,
          157,
          188,
          210,
          255,
          234,
          200,
          179,
          220,
          172,
          274,
          267,
          156,
          167,
          172,
          173
         ],
         "yaxis": "y"
        }
       ],
       "layout": {
        "height": 400,
        "legend": {
         "title": {
          "text": "MEDIA"
         },
         "tracegroupgap": 0
        },
        "template": {
         "layout": {
          "colorway": [
           "rgb(230, 50, 24)",
           "rgb(240, 73, 70)",
           "rgb(243, 127, 125)",
           "rgb(248, 182, 181)",
           "rgb(209, 220, 197)",
           "rgb(137, 168, 141)",
           "rgb(59, 111, 66)",
           "rgb(66, 66, 66)"
          ],
          "font": {
           "family": "Helvetica"
          },
          "piecolorway": [
           "rgb(230, 50, 24)",
           "rgb(240, 73, 70)",
           "rgb(243, 127, 125)",
           "rgb(248, 182, 181)",
           "rgb(209, 220, 197)",
           "rgb(137, 168, 141)",
           "rgb(59, 111, 66)",
           "rgb(66, 66, 66)"
          ],
          "sunburstcolorway": [
           "rgb(230, 50, 24)",
           "rgb(240, 73, 70)",
           "rgb(243, 127, 125)",
           "rgb(248, 182, 181)",
           "rgb(209, 220, 197)",
           "rgb(137, 168, 141)",
           "rgb(59, 111, 66)",
           "rgb(66, 66, 66)"
          ],
          "treemapcolorway": [
           "rgb(230, 50, 24)",
           "rgb(240, 73, 70)",
           "rgb(243, 127, 125)",
           "rgb(248, 182, 181)",
           "rgb(209, 220, 197)",
           "rgb(137, 168, 141)",
           "rgb(59, 111, 66)",
           "rgb(66, 66, 66)"
          ]
         }
        },
        "title": {
         "text": "Répartition des mentions par heure de la journée en %"
        },
        "xaxis": {
         "anchor": "y",
         "categoryarray": [
          "00:00",
          "01:00",
          "02:00",
          "03:00",
          "04:00",
          "05:00",
          "06:00",
          "07:00",
          "08:00",
          "09:00",
          "10:00",
          "11:00",
          "12:00",
          "13:00",
          "14:00",
          "15:00",
          "16:00",
          "17:00",
          "18:00",
          "19:00",
          "20:00",
          "21:00",
          "22:00",
          "23:00"
         ],
         "categoryorder": "array",
         "domain": [
          0,
          1
         ],
         "title": {
          "text": "TIME"
         }
        },
        "yaxis": {
         "anchor": "x",
         "domain": [
          0,
          1
         ],
         "tickformat": "0%",
         "title": {
          "text": "COUNT"
         }
        }
       }
      }
     },
     "metadata": {}
    }
   ],
   "metadata": {}
  },
  {
   "cell_type": "code",
   "execution_count": 21,
   "source": [
    "freq = \"1H\"\n",
    "\n",
    "count = (\n",
    "    data\n",
    "    .set_index([\"TIME\"])\n",
    "    .groupby([pd.Grouper(freq = freq),\"CHANNEL_NAME\"],as_index = True)\n",
    "    [\"COUNT\"].sum()\n",
    "    .reset_index()\n",
    "    .assign(TIME = lambda x: x[\"TIME\"].map(lambda y : str(y)[7:12]))\n",
    "    .sort_values(\"TIME\",ascending = True)\n",
    ")\n",
    "\n",
    "count = count.loc[count[\"CHANNEL_NAME\"].isin(top_channels_tv)]\n",
    "\n",
    "fig = px.bar(\n",
    "    count,\n",
    "    x = \"TIME\",y = \"COUNT\",color=\"CHANNEL_NAME\",\n",
    "    height = 400,\n",
    "    category_orders={\"TIME\":count[\"TIME\"].unique()},\n",
    "    title = \"Répartition des mentions par heure de la journée\"\n",
    ")\n",
    "fig.show()\n",
    "\n",
    "\n",
    "fig = px.area(\n",
    "    count,\n",
    "    x = \"TIME\",y = \"COUNT\",color = \"CHANNEL_NAME\",groupnorm='fraction',\n",
    "    category_orders={\"TIME\":count[\"TIME\"].unique()},\n",
    "    title = \"Répartition des mentions par heure de la journée en %\",height = 400,\n",
    ")\n",
    "fig.update_layout(yaxis_tickformat='0%') \n",
    "fig.show()"
   ],
   "outputs": [
    {
     "output_type": "display_data",
     "data": {
      "application/vnd.plotly.v1+json": {
       "config": {
        "plotlyServerURL": "https://plot.ly"
       },
       "data": [
        {
         "alignmentgroup": "True",
         "hovertemplate": "CHANNEL_NAME=France 2<br>TIME=%{x}<br>COUNT=%{y}<extra></extra>",
         "legendgroup": "France 2",
         "marker": {
          "color": "rgb(230, 50, 24)",
          "pattern": {
           "shape": ""
          }
         },
         "name": "France 2",
         "offsetgroup": "France 2",
         "orientation": "v",
         "showlegend": true,
         "textposition": "auto",
         "type": "bar",
         "x": [
          "00:00",
          "06:00",
          "07:00",
          "08:00",
          "09:00",
          "10:00",
          "13:00",
          "20:00",
          "22:00"
         ],
         "xaxis": "x",
         "y": [
          2,
          6,
          5,
          7,
          3,
          2,
          2,
          5,
          3
         ],
         "yaxis": "y"
        },
        {
         "alignmentgroup": "True",
         "hovertemplate": "CHANNEL_NAME=BFMTV<br>TIME=%{x}<br>COUNT=%{y}<extra></extra>",
         "legendgroup": "BFMTV",
         "marker": {
          "color": "rgb(240, 73, 70)",
          "pattern": {
           "shape": ""
          }
         },
         "name": "BFMTV",
         "offsetgroup": "BFMTV",
         "orientation": "v",
         "showlegend": true,
         "textposition": "auto",
         "type": "bar",
         "x": [
          "00:00",
          "04:00",
          "05:00",
          "06:00",
          "08:00",
          "10:00",
          "13:00",
          "14:00",
          "16:00",
          "17:00",
          "18:00",
          "19:00",
          "20:00",
          "22:00",
          "23:00"
         ],
         "xaxis": "x",
         "y": [
          2,
          1,
          1,
          3,
          2,
          2,
          1,
          1,
          3,
          1,
          2,
          3,
          3,
          1,
          1
         ],
         "yaxis": "y"
        },
        {
         "alignmentgroup": "True",
         "hovertemplate": "CHANNEL_NAME=Canal+<br>TIME=%{x}<br>COUNT=%{y}<extra></extra>",
         "legendgroup": "Canal+",
         "marker": {
          "color": "rgb(243, 127, 125)",
          "pattern": {
           "shape": ""
          }
         },
         "name": "Canal+",
         "offsetgroup": "Canal+",
         "orientation": "v",
         "showlegend": true,
         "textposition": "auto",
         "type": "bar",
         "x": [
          "05:00",
          "12:00"
         ],
         "xaxis": "x",
         "y": [
          1,
          1
         ],
         "yaxis": "y"
        },
        {
         "alignmentgroup": "True",
         "hovertemplate": "CHANNEL_NAME=CNEWS<br>TIME=%{x}<br>COUNT=%{y}<extra></extra>",
         "legendgroup": "CNEWS",
         "marker": {
          "color": "rgb(248, 182, 181)",
          "pattern": {
           "shape": ""
          }
         },
         "name": "CNEWS",
         "offsetgroup": "CNEWS",
         "orientation": "v",
         "showlegend": true,
         "textposition": "auto",
         "type": "bar",
         "x": [
          "06:00",
          "09:00",
          "10:00",
          "11:00",
          "12:00",
          "13:00",
          "14:00",
          "16:00",
          "17:00",
          "19:00",
          "20:00",
          "21:00",
          "23:00"
         ],
         "xaxis": "x",
         "y": [
          1,
          3,
          1,
          1,
          1,
          1,
          1,
          1,
          3,
          1,
          1,
          2,
          3
         ],
         "yaxis": "y"
        },
        {
         "alignmentgroup": "True",
         "hovertemplate": "CHANNEL_NAME=France 5<br>TIME=%{x}<br>COUNT=%{y}<extra></extra>",
         "legendgroup": "France 5",
         "marker": {
          "color": "rgb(209, 220, 197)",
          "pattern": {
           "shape": ""
          }
         },
         "name": "France 5",
         "offsetgroup": "France 5",
         "orientation": "v",
         "showlegend": true,
         "textposition": "auto",
         "type": "bar",
         "x": [
          "09:00",
          "11:00",
          "13:00",
          "14:00",
          "15:00",
          "16:00",
          "17:00",
          "19:00",
          "20:00",
          "21:00",
          "22:00",
          "23:00"
         ],
         "xaxis": "x",
         "y": [
          2,
          6,
          4,
          3,
          3,
          4,
          7,
          6,
          9,
          11,
          14,
          4
         ],
         "yaxis": "y"
        },
        {
         "alignmentgroup": "True",
         "hovertemplate": "CHANNEL_NAME=TF1<br>TIME=%{x}<br>COUNT=%{y}<extra></extra>",
         "legendgroup": "TF1",
         "marker": {
          "color": "rgb(137, 168, 141)",
          "pattern": {
           "shape": ""
          }
         },
         "name": "TF1",
         "offsetgroup": "TF1",
         "orientation": "v",
         "showlegend": true,
         "textposition": "auto",
         "type": "bar",
         "x": [
          "11:00",
          "20:00"
         ],
         "xaxis": "x",
         "y": [
          7,
          6
         ],
         "yaxis": "y"
        },
        {
         "alignmentgroup": "True",
         "hovertemplate": "CHANNEL_NAME=M6<br>TIME=%{x}<br>COUNT=%{y}<extra></extra>",
         "legendgroup": "M6",
         "marker": {
          "color": "rgb(59, 111, 66)",
          "pattern": {
           "shape": ""
          }
         },
         "name": "M6",
         "offsetgroup": "M6",
         "orientation": "v",
         "showlegend": true,
         "textposition": "auto",
         "type": "bar",
         "x": [
          "13:00",
          "14:00"
         ],
         "xaxis": "x",
         "y": [
          2,
          1
         ],
         "yaxis": "y"
        }
       ],
       "layout": {
        "barmode": "relative",
        "height": 400,
        "legend": {
         "title": {
          "text": "CHANNEL_NAME"
         },
         "tracegroupgap": 0
        },
        "template": {
         "layout": {
          "colorway": [
           "rgb(230, 50, 24)",
           "rgb(240, 73, 70)",
           "rgb(243, 127, 125)",
           "rgb(248, 182, 181)",
           "rgb(209, 220, 197)",
           "rgb(137, 168, 141)",
           "rgb(59, 111, 66)",
           "rgb(66, 66, 66)"
          ],
          "font": {
           "family": "Helvetica"
          },
          "piecolorway": [
           "rgb(230, 50, 24)",
           "rgb(240, 73, 70)",
           "rgb(243, 127, 125)",
           "rgb(248, 182, 181)",
           "rgb(209, 220, 197)",
           "rgb(137, 168, 141)",
           "rgb(59, 111, 66)",
           "rgb(66, 66, 66)"
          ],
          "sunburstcolorway": [
           "rgb(230, 50, 24)",
           "rgb(240, 73, 70)",
           "rgb(243, 127, 125)",
           "rgb(248, 182, 181)",
           "rgb(209, 220, 197)",
           "rgb(137, 168, 141)",
           "rgb(59, 111, 66)",
           "rgb(66, 66, 66)"
          ],
          "treemapcolorway": [
           "rgb(230, 50, 24)",
           "rgb(240, 73, 70)",
           "rgb(243, 127, 125)",
           "rgb(248, 182, 181)",
           "rgb(209, 220, 197)",
           "rgb(137, 168, 141)",
           "rgb(59, 111, 66)",
           "rgb(66, 66, 66)"
          ]
         }
        },
        "title": {
         "text": "Répartition des mentions par heure de la journée"
        },
        "xaxis": {
         "anchor": "y",
         "categoryarray": [
          "00:00",
          "04:00",
          "05:00",
          "06:00",
          "07:00",
          "08:00",
          "09:00",
          "10:00",
          "11:00",
          "12:00",
          "13:00",
          "14:00",
          "15:00",
          "16:00",
          "17:00",
          "18:00",
          "19:00",
          "20:00",
          "21:00",
          "22:00",
          "23:00"
         ],
         "categoryorder": "array",
         "domain": [
          0,
          1
         ],
         "title": {
          "text": "TIME"
         }
        },
        "yaxis": {
         "anchor": "x",
         "domain": [
          0,
          1
         ],
         "title": {
          "text": "COUNT"
         }
        }
       }
      }
     },
     "metadata": {}
    },
    {
     "output_type": "display_data",
     "data": {
      "application/vnd.plotly.v1+json": {
       "config": {
        "plotlyServerURL": "https://plot.ly"
       },
       "data": [
        {
         "fillpattern": {
          "shape": ""
         },
         "groupnorm": "fraction",
         "hovertemplate": "CHANNEL_NAME=France 2<br>TIME=%{x}<br>COUNT=%{y}<extra></extra>",
         "legendgroup": "France 2",
         "line": {
          "color": "rgb(230, 50, 24)"
         },
         "marker": {
          "symbol": "circle"
         },
         "mode": "lines",
         "name": "France 2",
         "orientation": "v",
         "showlegend": true,
         "stackgroup": "1",
         "type": "scatter",
         "x": [
          "00:00",
          "06:00",
          "07:00",
          "08:00",
          "09:00",
          "10:00",
          "13:00",
          "20:00",
          "22:00"
         ],
         "xaxis": "x",
         "y": [
          2,
          6,
          5,
          7,
          3,
          2,
          2,
          5,
          3
         ],
         "yaxis": "y"
        },
        {
         "fillpattern": {
          "shape": ""
         },
         "groupnorm": "fraction",
         "hovertemplate": "CHANNEL_NAME=BFMTV<br>TIME=%{x}<br>COUNT=%{y}<extra></extra>",
         "legendgroup": "BFMTV",
         "line": {
          "color": "rgb(240, 73, 70)"
         },
         "marker": {
          "symbol": "circle"
         },
         "mode": "lines",
         "name": "BFMTV",
         "orientation": "v",
         "showlegend": true,
         "stackgroup": "1",
         "type": "scatter",
         "x": [
          "00:00",
          "04:00",
          "05:00",
          "06:00",
          "08:00",
          "10:00",
          "13:00",
          "14:00",
          "16:00",
          "17:00",
          "18:00",
          "19:00",
          "20:00",
          "22:00",
          "23:00"
         ],
         "xaxis": "x",
         "y": [
          2,
          1,
          1,
          3,
          2,
          2,
          1,
          1,
          3,
          1,
          2,
          3,
          3,
          1,
          1
         ],
         "yaxis": "y"
        },
        {
         "fillpattern": {
          "shape": ""
         },
         "groupnorm": "fraction",
         "hovertemplate": "CHANNEL_NAME=Canal+<br>TIME=%{x}<br>COUNT=%{y}<extra></extra>",
         "legendgroup": "Canal+",
         "line": {
          "color": "rgb(243, 127, 125)"
         },
         "marker": {
          "symbol": "circle"
         },
         "mode": "lines",
         "name": "Canal+",
         "orientation": "v",
         "showlegend": true,
         "stackgroup": "1",
         "type": "scatter",
         "x": [
          "05:00",
          "12:00"
         ],
         "xaxis": "x",
         "y": [
          1,
          1
         ],
         "yaxis": "y"
        },
        {
         "fillpattern": {
          "shape": ""
         },
         "groupnorm": "fraction",
         "hovertemplate": "CHANNEL_NAME=CNEWS<br>TIME=%{x}<br>COUNT=%{y}<extra></extra>",
         "legendgroup": "CNEWS",
         "line": {
          "color": "rgb(248, 182, 181)"
         },
         "marker": {
          "symbol": "circle"
         },
         "mode": "lines",
         "name": "CNEWS",
         "orientation": "v",
         "showlegend": true,
         "stackgroup": "1",
         "type": "scatter",
         "x": [
          "06:00",
          "09:00",
          "10:00",
          "11:00",
          "12:00",
          "13:00",
          "14:00",
          "16:00",
          "17:00",
          "19:00",
          "20:00",
          "21:00",
          "23:00"
         ],
         "xaxis": "x",
         "y": [
          1,
          3,
          1,
          1,
          1,
          1,
          1,
          1,
          3,
          1,
          1,
          2,
          3
         ],
         "yaxis": "y"
        },
        {
         "fillpattern": {
          "shape": ""
         },
         "groupnorm": "fraction",
         "hovertemplate": "CHANNEL_NAME=France 5<br>TIME=%{x}<br>COUNT=%{y}<extra></extra>",
         "legendgroup": "France 5",
         "line": {
          "color": "rgb(209, 220, 197)"
         },
         "marker": {
          "symbol": "circle"
         },
         "mode": "lines",
         "name": "France 5",
         "orientation": "v",
         "showlegend": true,
         "stackgroup": "1",
         "type": "scatter",
         "x": [
          "09:00",
          "11:00",
          "13:00",
          "14:00",
          "15:00",
          "16:00",
          "17:00",
          "19:00",
          "20:00",
          "21:00",
          "22:00",
          "23:00"
         ],
         "xaxis": "x",
         "y": [
          2,
          6,
          4,
          3,
          3,
          4,
          7,
          6,
          9,
          11,
          14,
          4
         ],
         "yaxis": "y"
        },
        {
         "fillpattern": {
          "shape": ""
         },
         "groupnorm": "fraction",
         "hovertemplate": "CHANNEL_NAME=TF1<br>TIME=%{x}<br>COUNT=%{y}<extra></extra>",
         "legendgroup": "TF1",
         "line": {
          "color": "rgb(137, 168, 141)"
         },
         "marker": {
          "symbol": "circle"
         },
         "mode": "lines",
         "name": "TF1",
         "orientation": "v",
         "showlegend": true,
         "stackgroup": "1",
         "type": "scatter",
         "x": [
          "11:00",
          "20:00"
         ],
         "xaxis": "x",
         "y": [
          7,
          6
         ],
         "yaxis": "y"
        },
        {
         "fillpattern": {
          "shape": ""
         },
         "groupnorm": "fraction",
         "hovertemplate": "CHANNEL_NAME=M6<br>TIME=%{x}<br>COUNT=%{y}<extra></extra>",
         "legendgroup": "M6",
         "line": {
          "color": "rgb(59, 111, 66)"
         },
         "marker": {
          "symbol": "circle"
         },
         "mode": "lines",
         "name": "M6",
         "orientation": "v",
         "showlegend": true,
         "stackgroup": "1",
         "type": "scatter",
         "x": [
          "13:00",
          "14:00"
         ],
         "xaxis": "x",
         "y": [
          2,
          1
         ],
         "yaxis": "y"
        }
       ],
       "layout": {
        "height": 400,
        "legend": {
         "title": {
          "text": "CHANNEL_NAME"
         },
         "tracegroupgap": 0
        },
        "template": {
         "layout": {
          "colorway": [
           "rgb(230, 50, 24)",
           "rgb(240, 73, 70)",
           "rgb(243, 127, 125)",
           "rgb(248, 182, 181)",
           "rgb(209, 220, 197)",
           "rgb(137, 168, 141)",
           "rgb(59, 111, 66)",
           "rgb(66, 66, 66)"
          ],
          "font": {
           "family": "Helvetica"
          },
          "piecolorway": [
           "rgb(230, 50, 24)",
           "rgb(240, 73, 70)",
           "rgb(243, 127, 125)",
           "rgb(248, 182, 181)",
           "rgb(209, 220, 197)",
           "rgb(137, 168, 141)",
           "rgb(59, 111, 66)",
           "rgb(66, 66, 66)"
          ],
          "sunburstcolorway": [
           "rgb(230, 50, 24)",
           "rgb(240, 73, 70)",
           "rgb(243, 127, 125)",
           "rgb(248, 182, 181)",
           "rgb(209, 220, 197)",
           "rgb(137, 168, 141)",
           "rgb(59, 111, 66)",
           "rgb(66, 66, 66)"
          ],
          "treemapcolorway": [
           "rgb(230, 50, 24)",
           "rgb(240, 73, 70)",
           "rgb(243, 127, 125)",
           "rgb(248, 182, 181)",
           "rgb(209, 220, 197)",
           "rgb(137, 168, 141)",
           "rgb(59, 111, 66)",
           "rgb(66, 66, 66)"
          ]
         }
        },
        "title": {
         "text": "Répartition des mentions par heure de la journée en %"
        },
        "xaxis": {
         "anchor": "y",
         "categoryarray": [
          "00:00",
          "04:00",
          "05:00",
          "06:00",
          "07:00",
          "08:00",
          "09:00",
          "10:00",
          "11:00",
          "12:00",
          "13:00",
          "14:00",
          "15:00",
          "16:00",
          "17:00",
          "18:00",
          "19:00",
          "20:00",
          "21:00",
          "22:00",
          "23:00"
         ],
         "categoryorder": "array",
         "domain": [
          0,
          1
         ],
         "title": {
          "text": "TIME"
         }
        },
        "yaxis": {
         "anchor": "x",
         "domain": [
          0,
          1
         ],
         "tickformat": "0%",
         "title": {
          "text": "COUNT"
         }
        }
       }
      }
     },
     "metadata": {}
    }
   ],
   "metadata": {}
  },
  {
   "cell_type": "markdown",
   "source": [
    "### Par chaîne"
   ],
   "metadata": {}
  },
  {
   "cell_type": "code",
   "execution_count": 22,
   "source": [
    "freq = \"3H\"\n",
    "\n",
    "count = (\n",
    "    data\n",
    "    .set_index([\"TIME\"])\n",
    "    .groupby([pd.Grouper(freq = freq),\"CHANNEL_NAME\"],as_index = True)\n",
    "    [\"COUNT\"].sum()\n",
    "    .reset_index()\n",
    "    .assign(TIME = lambda x: x[\"TIME\"].map(lambda y : str(y)[7:12]))\n",
    "    .sort_values(\"TIME\",ascending = True)\n",
    ")\n",
    "\n",
    "count = count.loc[count[\"CHANNEL_NAME\"].isin(top_channels_tv)]\n",
    "\n",
    "fig = px.bar(\n",
    "    count,\n",
    "    x = \"TIME\",y = \"COUNT\",color=\"CHANNEL_NAME\",\n",
    "    height = 400,\n",
    "    category_orders={\"TIME\":count[\"TIME\"].unique()},\n",
    "    title = \"Répartition des mentions par heure de la journée\"\n",
    ")\n",
    "fig.show()\n",
    "\n",
    "\n",
    "fig = px.area(\n",
    "    count,\n",
    "    x = \"TIME\",y = \"COUNT\",color = \"CHANNEL_NAME\",groupnorm='fraction',\n",
    "    category_orders={\"TIME\":count[\"TIME\"].unique()},\n",
    "    title = \"Répartition des mentions par heure de la journée en %\",height = 400,\n",
    ")\n",
    "fig.update_layout(yaxis_tickformat='0%') \n",
    "fig.show()"
   ],
   "outputs": [
    {
     "output_type": "display_data",
     "data": {
      "application/vnd.plotly.v1+json": {
       "config": {
        "plotlyServerURL": "https://plot.ly"
       },
       "data": [
        {
         "alignmentgroup": "True",
         "hovertemplate": "CHANNEL_NAME=BFMTV<br>TIME=%{x}<br>COUNT=%{y}<extra></extra>",
         "legendgroup": "BFMTV",
         "marker": {
          "color": "rgb(230, 50, 24)",
          "pattern": {
           "shape": ""
          }
         },
         "name": "BFMTV",
         "offsetgroup": "BFMTV",
         "orientation": "v",
         "showlegend": true,
         "textposition": "auto",
         "type": "bar",
         "x": [
          "00:00",
          "03:00",
          "06:00",
          "09:00",
          "12:00",
          "15:00",
          "18:00",
          "21:00"
         ],
         "xaxis": "x",
         "y": [
          2,
          2,
          5,
          2,
          2,
          4,
          8,
          2
         ],
         "yaxis": "y"
        },
        {
         "alignmentgroup": "True",
         "hovertemplate": "CHANNEL_NAME=France 2<br>TIME=%{x}<br>COUNT=%{y}<extra></extra>",
         "legendgroup": "France 2",
         "marker": {
          "color": "rgb(240, 73, 70)",
          "pattern": {
           "shape": ""
          }
         },
         "name": "France 2",
         "offsetgroup": "France 2",
         "orientation": "v",
         "showlegend": true,
         "textposition": "auto",
         "type": "bar",
         "x": [
          "00:00",
          "06:00",
          "09:00",
          "12:00",
          "18:00",
          "21:00"
         ],
         "xaxis": "x",
         "y": [
          2,
          18,
          5,
          2,
          5,
          3
         ],
         "yaxis": "y"
        },
        {
         "alignmentgroup": "True",
         "hovertemplate": "CHANNEL_NAME=Canal+<br>TIME=%{x}<br>COUNT=%{y}<extra></extra>",
         "legendgroup": "Canal+",
         "marker": {
          "color": "rgb(243, 127, 125)",
          "pattern": {
           "shape": ""
          }
         },
         "name": "Canal+",
         "offsetgroup": "Canal+",
         "orientation": "v",
         "showlegend": true,
         "textposition": "auto",
         "type": "bar",
         "x": [
          "03:00",
          "12:00"
         ],
         "xaxis": "x",
         "y": [
          1,
          1
         ],
         "yaxis": "y"
        },
        {
         "alignmentgroup": "True",
         "hovertemplate": "CHANNEL_NAME=CNEWS<br>TIME=%{x}<br>COUNT=%{y}<extra></extra>",
         "legendgroup": "CNEWS",
         "marker": {
          "color": "rgb(248, 182, 181)",
          "pattern": {
           "shape": ""
          }
         },
         "name": "CNEWS",
         "offsetgroup": "CNEWS",
         "orientation": "v",
         "showlegend": true,
         "textposition": "auto",
         "type": "bar",
         "x": [
          "06:00",
          "09:00",
          "12:00",
          "15:00",
          "18:00",
          "21:00"
         ],
         "xaxis": "x",
         "y": [
          1,
          5,
          3,
          4,
          2,
          5
         ],
         "yaxis": "y"
        },
        {
         "alignmentgroup": "True",
         "hovertemplate": "CHANNEL_NAME=TF1<br>TIME=%{x}<br>COUNT=%{y}<extra></extra>",
         "legendgroup": "TF1",
         "marker": {
          "color": "rgb(209, 220, 197)",
          "pattern": {
           "shape": ""
          }
         },
         "name": "TF1",
         "offsetgroup": "TF1",
         "orientation": "v",
         "showlegend": true,
         "textposition": "auto",
         "type": "bar",
         "x": [
          "09:00",
          "18:00"
         ],
         "xaxis": "x",
         "y": [
          7,
          6
         ],
         "yaxis": "y"
        },
        {
         "alignmentgroup": "True",
         "hovertemplate": "CHANNEL_NAME=France 5<br>TIME=%{x}<br>COUNT=%{y}<extra></extra>",
         "legendgroup": "France 5",
         "marker": {
          "color": "rgb(137, 168, 141)",
          "pattern": {
           "shape": ""
          }
         },
         "name": "France 5",
         "offsetgroup": "France 5",
         "orientation": "v",
         "showlegend": true,
         "textposition": "auto",
         "type": "bar",
         "x": [
          "09:00",
          "12:00",
          "15:00",
          "18:00",
          "21:00"
         ],
         "xaxis": "x",
         "y": [
          8,
          7,
          14,
          15,
          29
         ],
         "yaxis": "y"
        },
        {
         "alignmentgroup": "True",
         "hovertemplate": "CHANNEL_NAME=M6<br>TIME=%{x}<br>COUNT=%{y}<extra></extra>",
         "legendgroup": "M6",
         "marker": {
          "color": "rgb(59, 111, 66)",
          "pattern": {
           "shape": ""
          }
         },
         "name": "M6",
         "offsetgroup": "M6",
         "orientation": "v",
         "showlegend": true,
         "textposition": "auto",
         "type": "bar",
         "x": [
          "12:00"
         ],
         "xaxis": "x",
         "y": [
          3
         ],
         "yaxis": "y"
        }
       ],
       "layout": {
        "barmode": "relative",
        "height": 400,
        "legend": {
         "title": {
          "text": "CHANNEL_NAME"
         },
         "tracegroupgap": 0
        },
        "template": {
         "layout": {
          "colorway": [
           "rgb(230, 50, 24)",
           "rgb(240, 73, 70)",
           "rgb(243, 127, 125)",
           "rgb(248, 182, 181)",
           "rgb(209, 220, 197)",
           "rgb(137, 168, 141)",
           "rgb(59, 111, 66)",
           "rgb(66, 66, 66)"
          ],
          "font": {
           "family": "Helvetica"
          },
          "piecolorway": [
           "rgb(230, 50, 24)",
           "rgb(240, 73, 70)",
           "rgb(243, 127, 125)",
           "rgb(248, 182, 181)",
           "rgb(209, 220, 197)",
           "rgb(137, 168, 141)",
           "rgb(59, 111, 66)",
           "rgb(66, 66, 66)"
          ],
          "sunburstcolorway": [
           "rgb(230, 50, 24)",
           "rgb(240, 73, 70)",
           "rgb(243, 127, 125)",
           "rgb(248, 182, 181)",
           "rgb(209, 220, 197)",
           "rgb(137, 168, 141)",
           "rgb(59, 111, 66)",
           "rgb(66, 66, 66)"
          ],
          "treemapcolorway": [
           "rgb(230, 50, 24)",
           "rgb(240, 73, 70)",
           "rgb(243, 127, 125)",
           "rgb(248, 182, 181)",
           "rgb(209, 220, 197)",
           "rgb(137, 168, 141)",
           "rgb(59, 111, 66)",
           "rgb(66, 66, 66)"
          ]
         }
        },
        "title": {
         "text": "Répartition des mentions par heure de la journée"
        },
        "xaxis": {
         "anchor": "y",
         "categoryarray": [
          "00:00",
          "03:00",
          "06:00",
          "09:00",
          "12:00",
          "15:00",
          "18:00",
          "21:00"
         ],
         "categoryorder": "array",
         "domain": [
          0,
          1
         ],
         "title": {
          "text": "TIME"
         }
        },
        "yaxis": {
         "anchor": "x",
         "domain": [
          0,
          1
         ],
         "title": {
          "text": "COUNT"
         }
        }
       }
      }
     },
     "metadata": {}
    },
    {
     "output_type": "display_data",
     "data": {
      "application/vnd.plotly.v1+json": {
       "config": {
        "plotlyServerURL": "https://plot.ly"
       },
       "data": [
        {
         "fillpattern": {
          "shape": ""
         },
         "groupnorm": "fraction",
         "hovertemplate": "CHANNEL_NAME=BFMTV<br>TIME=%{x}<br>COUNT=%{y}<extra></extra>",
         "legendgroup": "BFMTV",
         "line": {
          "color": "rgb(230, 50, 24)"
         },
         "marker": {
          "symbol": "circle"
         },
         "mode": "lines",
         "name": "BFMTV",
         "orientation": "v",
         "showlegend": true,
         "stackgroup": "1",
         "type": "scatter",
         "x": [
          "00:00",
          "03:00",
          "06:00",
          "09:00",
          "12:00",
          "15:00",
          "18:00",
          "21:00"
         ],
         "xaxis": "x",
         "y": [
          2,
          2,
          5,
          2,
          2,
          4,
          8,
          2
         ],
         "yaxis": "y"
        },
        {
         "fillpattern": {
          "shape": ""
         },
         "groupnorm": "fraction",
         "hovertemplate": "CHANNEL_NAME=France 2<br>TIME=%{x}<br>COUNT=%{y}<extra></extra>",
         "legendgroup": "France 2",
         "line": {
          "color": "rgb(240, 73, 70)"
         },
         "marker": {
          "symbol": "circle"
         },
         "mode": "lines",
         "name": "France 2",
         "orientation": "v",
         "showlegend": true,
         "stackgroup": "1",
         "type": "scatter",
         "x": [
          "00:00",
          "06:00",
          "09:00",
          "12:00",
          "18:00",
          "21:00"
         ],
         "xaxis": "x",
         "y": [
          2,
          18,
          5,
          2,
          5,
          3
         ],
         "yaxis": "y"
        },
        {
         "fillpattern": {
          "shape": ""
         },
         "groupnorm": "fraction",
         "hovertemplate": "CHANNEL_NAME=Canal+<br>TIME=%{x}<br>COUNT=%{y}<extra></extra>",
         "legendgroup": "Canal+",
         "line": {
          "color": "rgb(243, 127, 125)"
         },
         "marker": {
          "symbol": "circle"
         },
         "mode": "lines",
         "name": "Canal+",
         "orientation": "v",
         "showlegend": true,
         "stackgroup": "1",
         "type": "scatter",
         "x": [
          "03:00",
          "12:00"
         ],
         "xaxis": "x",
         "y": [
          1,
          1
         ],
         "yaxis": "y"
        },
        {
         "fillpattern": {
          "shape": ""
         },
         "groupnorm": "fraction",
         "hovertemplate": "CHANNEL_NAME=CNEWS<br>TIME=%{x}<br>COUNT=%{y}<extra></extra>",
         "legendgroup": "CNEWS",
         "line": {
          "color": "rgb(248, 182, 181)"
         },
         "marker": {
          "symbol": "circle"
         },
         "mode": "lines",
         "name": "CNEWS",
         "orientation": "v",
         "showlegend": true,
         "stackgroup": "1",
         "type": "scatter",
         "x": [
          "06:00",
          "09:00",
          "12:00",
          "15:00",
          "18:00",
          "21:00"
         ],
         "xaxis": "x",
         "y": [
          1,
          5,
          3,
          4,
          2,
          5
         ],
         "yaxis": "y"
        },
        {
         "fillpattern": {
          "shape": ""
         },
         "groupnorm": "fraction",
         "hovertemplate": "CHANNEL_NAME=TF1<br>TIME=%{x}<br>COUNT=%{y}<extra></extra>",
         "legendgroup": "TF1",
         "line": {
          "color": "rgb(209, 220, 197)"
         },
         "marker": {
          "symbol": "circle"
         },
         "mode": "lines",
         "name": "TF1",
         "orientation": "v",
         "showlegend": true,
         "stackgroup": "1",
         "type": "scatter",
         "x": [
          "09:00",
          "18:00"
         ],
         "xaxis": "x",
         "y": [
          7,
          6
         ],
         "yaxis": "y"
        },
        {
         "fillpattern": {
          "shape": ""
         },
         "groupnorm": "fraction",
         "hovertemplate": "CHANNEL_NAME=France 5<br>TIME=%{x}<br>COUNT=%{y}<extra></extra>",
         "legendgroup": "France 5",
         "line": {
          "color": "rgb(137, 168, 141)"
         },
         "marker": {
          "symbol": "circle"
         },
         "mode": "lines",
         "name": "France 5",
         "orientation": "v",
         "showlegend": true,
         "stackgroup": "1",
         "type": "scatter",
         "x": [
          "09:00",
          "12:00",
          "15:00",
          "18:00",
          "21:00"
         ],
         "xaxis": "x",
         "y": [
          8,
          7,
          14,
          15,
          29
         ],
         "yaxis": "y"
        },
        {
         "fillpattern": {
          "shape": ""
         },
         "groupnorm": "fraction",
         "hovertemplate": "CHANNEL_NAME=M6<br>TIME=%{x}<br>COUNT=%{y}<extra></extra>",
         "legendgroup": "M6",
         "line": {
          "color": "rgb(59, 111, 66)"
         },
         "marker": {
          "symbol": "circle"
         },
         "mode": "lines",
         "name": "M6",
         "orientation": "v",
         "showlegend": true,
         "stackgroup": "1",
         "type": "scatter",
         "x": [
          "12:00"
         ],
         "xaxis": "x",
         "y": [
          3
         ],
         "yaxis": "y"
        }
       ],
       "layout": {
        "height": 400,
        "legend": {
         "title": {
          "text": "CHANNEL_NAME"
         },
         "tracegroupgap": 0
        },
        "template": {
         "layout": {
          "colorway": [
           "rgb(230, 50, 24)",
           "rgb(240, 73, 70)",
           "rgb(243, 127, 125)",
           "rgb(248, 182, 181)",
           "rgb(209, 220, 197)",
           "rgb(137, 168, 141)",
           "rgb(59, 111, 66)",
           "rgb(66, 66, 66)"
          ],
          "font": {
           "family": "Helvetica"
          },
          "piecolorway": [
           "rgb(230, 50, 24)",
           "rgb(240, 73, 70)",
           "rgb(243, 127, 125)",
           "rgb(248, 182, 181)",
           "rgb(209, 220, 197)",
           "rgb(137, 168, 141)",
           "rgb(59, 111, 66)",
           "rgb(66, 66, 66)"
          ],
          "sunburstcolorway": [
           "rgb(230, 50, 24)",
           "rgb(240, 73, 70)",
           "rgb(243, 127, 125)",
           "rgb(248, 182, 181)",
           "rgb(209, 220, 197)",
           "rgb(137, 168, 141)",
           "rgb(59, 111, 66)",
           "rgb(66, 66, 66)"
          ],
          "treemapcolorway": [
           "rgb(230, 50, 24)",
           "rgb(240, 73, 70)",
           "rgb(243, 127, 125)",
           "rgb(248, 182, 181)",
           "rgb(209, 220, 197)",
           "rgb(137, 168, 141)",
           "rgb(59, 111, 66)",
           "rgb(66, 66, 66)"
          ]
         }
        },
        "title": {
         "text": "Répartition des mentions par heure de la journée en %"
        },
        "xaxis": {
         "anchor": "y",
         "categoryarray": [
          "00:00",
          "03:00",
          "06:00",
          "09:00",
          "12:00",
          "15:00",
          "18:00",
          "21:00"
         ],
         "categoryorder": "array",
         "domain": [
          0,
          1
         ],
         "title": {
          "text": "TIME"
         }
        },
        "yaxis": {
         "anchor": "x",
         "domain": [
          0,
          1
         ],
         "tickformat": "0%",
         "title": {
          "text": "COUNT"
         }
        }
       }
      }
     },
     "metadata": {}
    }
   ],
   "metadata": {}
  },
  {
   "cell_type": "code",
   "execution_count": 23,
   "source": [
    "count"
   ],
   "outputs": [
    {
     "output_type": "execute_result",
     "data": {
      "text/html": [
       "<div>\n",
       "<style scoped>\n",
       "    .dataframe tbody tr th:only-of-type {\n",
       "        vertical-align: middle;\n",
       "    }\n",
       "\n",
       "    .dataframe tbody tr th {\n",
       "        vertical-align: top;\n",
       "    }\n",
       "\n",
       "    .dataframe thead th {\n",
       "        text-align: right;\n",
       "    }\n",
       "</style>\n",
       "<table border=\"1\" class=\"dataframe\">\n",
       "  <thead>\n",
       "    <tr style=\"text-align: right;\">\n",
       "      <th></th>\n",
       "      <th>TIME</th>\n",
       "      <th>CHANNEL_NAME</th>\n",
       "      <th>COUNT</th>\n",
       "    </tr>\n",
       "  </thead>\n",
       "  <tbody>\n",
       "    <tr>\n",
       "      <th>2</th>\n",
       "      <td>00:00</td>\n",
       "      <td>BFMTV</td>\n",
       "      <td>2</td>\n",
       "    </tr>\n",
       "    <tr>\n",
       "      <th>4</th>\n",
       "      <td>00:00</td>\n",
       "      <td>France 2</td>\n",
       "      <td>2</td>\n",
       "    </tr>\n",
       "    <tr>\n",
       "      <th>25</th>\n",
       "      <td>03:00</td>\n",
       "      <td>Canal+</td>\n",
       "      <td>1</td>\n",
       "    </tr>\n",
       "    <tr>\n",
       "      <th>24</th>\n",
       "      <td>03:00</td>\n",
       "      <td>BFMTV</td>\n",
       "      <td>2</td>\n",
       "    </tr>\n",
       "    <tr>\n",
       "      <th>81</th>\n",
       "      <td>06:00</td>\n",
       "      <td>France 2</td>\n",
       "      <td>18</td>\n",
       "    </tr>\n",
       "    <tr>\n",
       "      <th>66</th>\n",
       "      <td>06:00</td>\n",
       "      <td>CNEWS</td>\n",
       "      <td>1</td>\n",
       "    </tr>\n",
       "    <tr>\n",
       "      <th>60</th>\n",
       "      <td>06:00</td>\n",
       "      <td>BFMTV</td>\n",
       "      <td>5</td>\n",
       "    </tr>\n",
       "    <tr>\n",
       "      <th>491</th>\n",
       "      <td>09:00</td>\n",
       "      <td>TF1</td>\n",
       "      <td>7</td>\n",
       "    </tr>\n",
       "    <tr>\n",
       "      <th>342</th>\n",
       "      <td>09:00</td>\n",
       "      <td>France 2</td>\n",
       "      <td>5</td>\n",
       "    </tr>\n",
       "    <tr>\n",
       "      <th>331</th>\n",
       "      <td>09:00</td>\n",
       "      <td>CNEWS</td>\n",
       "      <td>5</td>\n",
       "    </tr>\n",
       "    <tr>\n",
       "      <th>328</th>\n",
       "      <td>09:00</td>\n",
       "      <td>BFMTV</td>\n",
       "      <td>2</td>\n",
       "    </tr>\n",
       "    <tr>\n",
       "      <th>365</th>\n",
       "      <td>09:00</td>\n",
       "      <td>France 5</td>\n",
       "      <td>8</td>\n",
       "    </tr>\n",
       "    <tr>\n",
       "      <th>543</th>\n",
       "      <td>12:00</td>\n",
       "      <td>France 2</td>\n",
       "      <td>2</td>\n",
       "    </tr>\n",
       "    <tr>\n",
       "      <th>531</th>\n",
       "      <td>12:00</td>\n",
       "      <td>Canal+</td>\n",
       "      <td>1</td>\n",
       "    </tr>\n",
       "    <tr>\n",
       "      <th>529</th>\n",
       "      <td>12:00</td>\n",
       "      <td>CNEWS</td>\n",
       "      <td>3</td>\n",
       "    </tr>\n",
       "    <tr>\n",
       "      <th>522</th>\n",
       "      <td>12:00</td>\n",
       "      <td>BFMTV</td>\n",
       "      <td>2</td>\n",
       "    </tr>\n",
       "    <tr>\n",
       "      <th>600</th>\n",
       "      <td>12:00</td>\n",
       "      <td>M6</td>\n",
       "      <td>3</td>\n",
       "    </tr>\n",
       "    <tr>\n",
       "      <th>565</th>\n",
       "      <td>12:00</td>\n",
       "      <td>France 5</td>\n",
       "      <td>7</td>\n",
       "    </tr>\n",
       "    <tr>\n",
       "      <th>720</th>\n",
       "      <td>15:00</td>\n",
       "      <td>France 5</td>\n",
       "      <td>14</td>\n",
       "    </tr>\n",
       "    <tr>\n",
       "      <th>714</th>\n",
       "      <td>15:00</td>\n",
       "      <td>CNEWS</td>\n",
       "      <td>4</td>\n",
       "    </tr>\n",
       "    <tr>\n",
       "      <th>711</th>\n",
       "      <td>15:00</td>\n",
       "      <td>BFMTV</td>\n",
       "      <td>4</td>\n",
       "    </tr>\n",
       "    <tr>\n",
       "      <th>962</th>\n",
       "      <td>18:00</td>\n",
       "      <td>TF1</td>\n",
       "      <td>6</td>\n",
       "    </tr>\n",
       "    <tr>\n",
       "      <th>831</th>\n",
       "      <td>18:00</td>\n",
       "      <td>France 2</td>\n",
       "      <td>5</td>\n",
       "    </tr>\n",
       "    <tr>\n",
       "      <th>823</th>\n",
       "      <td>18:00</td>\n",
       "      <td>CNEWS</td>\n",
       "      <td>2</td>\n",
       "    </tr>\n",
       "    <tr>\n",
       "      <th>818</th>\n",
       "      <td>18:00</td>\n",
       "      <td>BFMTV</td>\n",
       "      <td>8</td>\n",
       "    </tr>\n",
       "    <tr>\n",
       "      <th>857</th>\n",
       "      <td>18:00</td>\n",
       "      <td>France 5</td>\n",
       "      <td>15</td>\n",
       "    </tr>\n",
       "    <tr>\n",
       "      <th>992</th>\n",
       "      <td>21:00</td>\n",
       "      <td>BFMTV</td>\n",
       "      <td>2</td>\n",
       "    </tr>\n",
       "    <tr>\n",
       "      <th>994</th>\n",
       "      <td>21:00</td>\n",
       "      <td>CNEWS</td>\n",
       "      <td>5</td>\n",
       "    </tr>\n",
       "    <tr>\n",
       "      <th>998</th>\n",
       "      <td>21:00</td>\n",
       "      <td>France 2</td>\n",
       "      <td>3</td>\n",
       "    </tr>\n",
       "    <tr>\n",
       "      <th>1004</th>\n",
       "      <td>21:00</td>\n",
       "      <td>France 5</td>\n",
       "      <td>29</td>\n",
       "    </tr>\n",
       "  </tbody>\n",
       "</table>\n",
       "</div>"
      ],
      "text/plain": [
       "       TIME CHANNEL_NAME  COUNT\n",
       "2     00:00        BFMTV      2\n",
       "4     00:00     France 2      2\n",
       "25    03:00       Canal+      1\n",
       "24    03:00        BFMTV      2\n",
       "81    06:00     France 2     18\n",
       "66    06:00        CNEWS      1\n",
       "60    06:00        BFMTV      5\n",
       "491   09:00          TF1      7\n",
       "342   09:00     France 2      5\n",
       "331   09:00        CNEWS      5\n",
       "328   09:00        BFMTV      2\n",
       "365   09:00     France 5      8\n",
       "543   12:00     France 2      2\n",
       "531   12:00       Canal+      1\n",
       "529   12:00        CNEWS      3\n",
       "522   12:00        BFMTV      2\n",
       "600   12:00           M6      3\n",
       "565   12:00     France 5      7\n",
       "720   15:00     France 5     14\n",
       "714   15:00        CNEWS      4\n",
       "711   15:00        BFMTV      4\n",
       "962   18:00          TF1      6\n",
       "831   18:00     France 2      5\n",
       "823   18:00        CNEWS      2\n",
       "818   18:00        BFMTV      8\n",
       "857   18:00     France 5     15\n",
       "992   21:00        BFMTV      2\n",
       "994   21:00        CNEWS      5\n",
       "998   21:00     France 2      3\n",
       "1004  21:00     France 5     29"
      ]
     },
     "metadata": {},
     "execution_count": 23
    }
   ],
   "metadata": {}
  },
  {
   "cell_type": "code",
   "execution_count": null,
   "source": [],
   "outputs": [],
   "metadata": {}
  },
  {
   "cell_type": "code",
   "execution_count": 24,
   "source": [
    "freq = \"4H\"\n",
    "\n",
    "def parse_period(y,freq):\n",
    "    hours = int(str(y)[7:9])\n",
    "    return f\"{hours}-{hours+int(freq.replace('H',''))}h\"\n",
    "\n",
    "count = (\n",
    "    data\n",
    "    .set_index([\"TIME\"])\n",
    "    .groupby([pd.Grouper(freq = freq),\"CHANNEL_NAME\"],as_index = True)\n",
    "    [\"COUNT\"].sum()\n",
    "    .reset_index()\n",
    "    .assign(TIME = lambda x: x[\"TIME\"].map(lambda y : parse_period(y,freq)))\n",
    "    .sort_values(\"TIME\",ascending = True)\n",
    ")\n",
    "\n",
    "count = count.loc[count[\"CHANNEL_NAME\"].isin(top_channels)]\n",
    "\n",
    "fig = px.treemap(\n",
    "    count,\n",
    "    path = [\"CHANNEL_NAME\",\"TIME\"],\n",
    "    values = \"COUNT\",\n",
    ")\n",
    "fig"
   ],
   "outputs": [
    {
     "output_type": "display_data",
     "data": {
      "application/vnd.plotly.v1+json": {
       "config": {
        "plotlyServerURL": "https://plot.ly"
       },
       "data": [
        {
         "branchvalues": "total",
         "domain": {
          "x": [
           0,
           1
          ],
          "y": [
           0,
           1
          ]
         },
         "hovertemplate": "labels=%{label}<br>COUNT=%{value}<br>parent=%{parent}<br>id=%{id}<extra></extra>",
         "ids": [
          "Arte/0-4h",
          "BFMTV/0-4h",
          "Europe 1/0-4h",
          "France 2/0-4h",
          "France 24/0-4h",
          "France Info/0-4h",
          "France Inter/0-4h",
          "LCP/0-4h",
          "RFI/0-4h",
          "TV5Monde/0-4h",
          "Arte/12-16h",
          "BFM Business/12-16h",
          "BFM Business Radio/12-16h",
          "BFMTV/12-16h",
          "CNEWS/12-16h",
          "Canal+/12-16h",
          "Euronews/12-16h",
          "Europe 1/12-16h",
          "France 2/12-16h",
          "France 24/12-16h",
          "France 5/12-16h",
          "France Culture/12-16h",
          "France Info/12-16h",
          "France Inter/12-16h",
          "LCI/12-16h",
          "LCP/12-16h",
          "M6/12-16h",
          "RFI/12-16h",
          "RMC/12-16h",
          "RTL/12-16h",
          "Radio Classique/12-16h",
          "TV5Monde/12-16h",
          "Arte/16-20h",
          "BFM Business/16-20h",
          "BFM Business Radio/16-20h",
          "BFMTV/16-20h",
          "CNEWS/16-20h",
          "Euronews/16-20h",
          "Europe 1/16-20h",
          "France 24/16-20h",
          "France 5/16-20h",
          "France Culture/16-20h",
          "France Info/16-20h",
          "France Inter/16-20h",
          "LCI/16-20h",
          "LCP/16-20h",
          "RFI/16-20h",
          "RMC/16-20h",
          "RTL/16-20h",
          "Radio Classique/16-20h",
          "TV5Monde/16-20h",
          "Arte/20-24h",
          "BFM Business/20-24h",
          "BFM Business Radio/20-24h",
          "BFMTV/20-24h",
          "CNEWS/20-24h",
          "Euronews/20-24h",
          "France 2/20-24h",
          "France 24/20-24h",
          "France 5/20-24h",
          "France Culture/20-24h",
          "France Info/20-24h",
          "France Inter/20-24h",
          "LCI/20-24h",
          "LCP/20-24h",
          "RFI/20-24h",
          "TF1/20-24h",
          "TV5Monde/20-24h",
          "Arte/4-8h",
          "BFM Business/4-8h",
          "BFM Business Radio/4-8h",
          "BFMTV/4-8h",
          "CNEWS/4-8h",
          "Canal+/4-8h",
          "Euronews/4-8h",
          "Europe 1/4-8h",
          "France 2/4-8h",
          "France 24/4-8h",
          "France Culture/4-8h",
          "France Info/4-8h",
          "France Inter/4-8h",
          "LCI/4-8h",
          "LCP/4-8h",
          "RFI/4-8h",
          "RMC/4-8h",
          "RTL/4-8h",
          "Radio Classique/4-8h",
          "TV5Monde/4-8h",
          "Arte/8-12h",
          "BFM Business/8-12h",
          "BFM Business Radio/8-12h",
          "BFMTV/8-12h",
          "CNEWS/8-12h",
          "Euronews/8-12h",
          "Europe 1/8-12h",
          "France 2/8-12h",
          "France 24/8-12h",
          "France 5/8-12h",
          "France Culture/8-12h",
          "France Info/8-12h",
          "France Inter/8-12h",
          "LCI/8-12h",
          "LCP/8-12h",
          "RFI/8-12h",
          "RMC/8-12h",
          "RTL/8-12h",
          "Radio Classique/8-12h",
          "TF1/8-12h",
          "TV5Monde/8-12h",
          "Arte",
          "BFM Business",
          "BFM Business Radio",
          "BFMTV",
          "CNEWS",
          "Canal+",
          "Euronews",
          "Europe 1",
          "France 2",
          "France 24",
          "France 5",
          "France Culture",
          "France Info",
          "France Inter",
          "LCI",
          "LCP",
          "M6",
          "RFI",
          "RMC",
          "RTL",
          "Radio Classique",
          "TF1",
          "TV5Monde"
         ],
         "labels": [
          "0-4h",
          "0-4h",
          "0-4h",
          "0-4h",
          "0-4h",
          "0-4h",
          "0-4h",
          "0-4h",
          "0-4h",
          "0-4h",
          "12-16h",
          "12-16h",
          "12-16h",
          "12-16h",
          "12-16h",
          "12-16h",
          "12-16h",
          "12-16h",
          "12-16h",
          "12-16h",
          "12-16h",
          "12-16h",
          "12-16h",
          "12-16h",
          "12-16h",
          "12-16h",
          "12-16h",
          "12-16h",
          "12-16h",
          "12-16h",
          "12-16h",
          "12-16h",
          "16-20h",
          "16-20h",
          "16-20h",
          "16-20h",
          "16-20h",
          "16-20h",
          "16-20h",
          "16-20h",
          "16-20h",
          "16-20h",
          "16-20h",
          "16-20h",
          "16-20h",
          "16-20h",
          "16-20h",
          "16-20h",
          "16-20h",
          "16-20h",
          "16-20h",
          "20-24h",
          "20-24h",
          "20-24h",
          "20-24h",
          "20-24h",
          "20-24h",
          "20-24h",
          "20-24h",
          "20-24h",
          "20-24h",
          "20-24h",
          "20-24h",
          "20-24h",
          "20-24h",
          "20-24h",
          "20-24h",
          "20-24h",
          "4-8h",
          "4-8h",
          "4-8h",
          "4-8h",
          "4-8h",
          "4-8h",
          "4-8h",
          "4-8h",
          "4-8h",
          "4-8h",
          "4-8h",
          "4-8h",
          "4-8h",
          "4-8h",
          "4-8h",
          "4-8h",
          "4-8h",
          "4-8h",
          "4-8h",
          "4-8h",
          "8-12h",
          "8-12h",
          "8-12h",
          "8-12h",
          "8-12h",
          "8-12h",
          "8-12h",
          "8-12h",
          "8-12h",
          "8-12h",
          "8-12h",
          "8-12h",
          "8-12h",
          "8-12h",
          "8-12h",
          "8-12h",
          "8-12h",
          "8-12h",
          "8-12h",
          "8-12h",
          "8-12h",
          "Arte",
          "BFM Business",
          "BFM Business Radio",
          "BFMTV",
          "CNEWS",
          "Canal+",
          "Euronews",
          "Europe 1",
          "France 2",
          "France 24",
          "France 5",
          "France Culture",
          "France Info",
          "France Inter",
          "LCI",
          "LCP",
          "M6",
          "RFI",
          "RMC",
          "RTL",
          "Radio Classique",
          "TF1",
          "TV5Monde"
         ],
         "name": "",
         "parents": [
          "Arte",
          "BFMTV",
          "Europe 1",
          "France 2",
          "France 24",
          "France Info",
          "France Inter",
          "LCP",
          "RFI",
          "TV5Monde",
          "Arte",
          "BFM Business",
          "BFM Business Radio",
          "BFMTV",
          "CNEWS",
          "Canal+",
          "Euronews",
          "Europe 1",
          "France 2",
          "France 24",
          "France 5",
          "France Culture",
          "France Info",
          "France Inter",
          "LCI",
          "LCP",
          "M6",
          "RFI",
          "RMC",
          "RTL",
          "Radio Classique",
          "TV5Monde",
          "Arte",
          "BFM Business",
          "BFM Business Radio",
          "BFMTV",
          "CNEWS",
          "Euronews",
          "Europe 1",
          "France 24",
          "France 5",
          "France Culture",
          "France Info",
          "France Inter",
          "LCI",
          "LCP",
          "RFI",
          "RMC",
          "RTL",
          "Radio Classique",
          "TV5Monde",
          "Arte",
          "BFM Business",
          "BFM Business Radio",
          "BFMTV",
          "CNEWS",
          "Euronews",
          "France 2",
          "France 24",
          "France 5",
          "France Culture",
          "France Info",
          "France Inter",
          "LCI",
          "LCP",
          "RFI",
          "TF1",
          "TV5Monde",
          "Arte",
          "BFM Business",
          "BFM Business Radio",
          "BFMTV",
          "CNEWS",
          "Canal+",
          "Euronews",
          "Europe 1",
          "France 2",
          "France 24",
          "France Culture",
          "France Info",
          "France Inter",
          "LCI",
          "LCP",
          "RFI",
          "RMC",
          "RTL",
          "Radio Classique",
          "TV5Monde",
          "Arte",
          "BFM Business",
          "BFM Business Radio",
          "BFMTV",
          "CNEWS",
          "Euronews",
          "Europe 1",
          "France 2",
          "France 24",
          "France 5",
          "France Culture",
          "France Info",
          "France Inter",
          "LCI",
          "LCP",
          "RFI",
          "RMC",
          "RTL",
          "Radio Classique",
          "TF1",
          "TV5Monde",
          "",
          "",
          "",
          "",
          "",
          "",
          "",
          "",
          "",
          "",
          "",
          "",
          "",
          "",
          "",
          "",
          "",
          "",
          "",
          "",
          "",
          "",
          ""
         ],
         "type": "treemap",
         "values": [
          2,
          2,
          1,
          2,
          19,
          1,
          1,
          8,
          9,
          4,
          8,
          14,
          18,
          2,
          3,
          1,
          98,
          15,
          2,
          32,
          10,
          19,
          27,
          45,
          1,
          10,
          3,
          86,
          8,
          4,
          1,
          29,
          3,
          11,
          36,
          9,
          5,
          60,
          4,
          25,
          17,
          46,
          12,
          25,
          10,
          29,
          62,
          1,
          4,
          1,
          17,
          25,
          14,
          41,
          5,
          6,
          39,
          8,
          35,
          38,
          12,
          19,
          6,
          1,
          13,
          42,
          6,
          3,
          2,
          3,
          20,
          5,
          1,
          1,
          33,
          9,
          11,
          36,
          11,
          16,
          27,
          7,
          3,
          39,
          4,
          6,
          9,
          7,
          2,
          5,
          25,
          4,
          5,
          83,
          11,
          12,
          33,
          8,
          13,
          20,
          20,
          3,
          21,
          44,
          1,
          7,
          1,
          7,
          20,
          42,
          47,
          140,
          27,
          20,
          2,
          313,
          40,
          35,
          180,
          73,
          101,
          95,
          124,
          22,
          84,
          3,
          282,
          14,
          21,
          12,
          13,
          80
         ]
        }
       ],
       "layout": {
        "legend": {
         "tracegroupgap": 0
        },
        "margin": {
         "t": 60
        },
        "template": {
         "layout": {
          "colorway": [
           "rgb(230, 50, 24)",
           "rgb(240, 73, 70)",
           "rgb(243, 127, 125)",
           "rgb(248, 182, 181)",
           "rgb(209, 220, 197)",
           "rgb(137, 168, 141)",
           "rgb(59, 111, 66)",
           "rgb(66, 66, 66)"
          ],
          "font": {
           "family": "Helvetica"
          },
          "piecolorway": [
           "rgb(230, 50, 24)",
           "rgb(240, 73, 70)",
           "rgb(243, 127, 125)",
           "rgb(248, 182, 181)",
           "rgb(209, 220, 197)",
           "rgb(137, 168, 141)",
           "rgb(59, 111, 66)",
           "rgb(66, 66, 66)"
          ],
          "sunburstcolorway": [
           "rgb(230, 50, 24)",
           "rgb(240, 73, 70)",
           "rgb(243, 127, 125)",
           "rgb(248, 182, 181)",
           "rgb(209, 220, 197)",
           "rgb(137, 168, 141)",
           "rgb(59, 111, 66)",
           "rgb(66, 66, 66)"
          ],
          "treemapcolorway": [
           "rgb(230, 50, 24)",
           "rgb(240, 73, 70)",
           "rgb(243, 127, 125)",
           "rgb(248, 182, 181)",
           "rgb(209, 220, 197)",
           "rgb(137, 168, 141)",
           "rgb(59, 111, 66)",
           "rgb(66, 66, 66)"
          ]
         }
        }
       }
      }
     },
     "metadata": {}
    }
   ],
   "metadata": {}
  },
  {
   "cell_type": "markdown",
   "source": [
    "# Comparer deux fichiers"
   ],
   "metadata": {}
  },
  {
   "cell_type": "code",
   "execution_count": 25,
   "source": [
    "data_climat = process_mediatree_extract('../data/keywords/20221015_lastmonth_all_changement climatique.xlsx',\"../data/channels.xlsx\")\n",
    "data_biodiv = process_mediatree_extract('../data/keywords/20221015_lastmonth_all_biodiversité.xlsx',\"../data/channels.xlsx\")\n",
    "data_agg = pd.concat([data_climat,data_biodiv],axis = 0,ignore_index = True)"
   ],
   "outputs": [],
   "metadata": {}
  },
  {
   "cell_type": "code",
   "execution_count": 26,
   "source": [
    "freq = \"D\"\n",
    "\n",
    "count = (\n",
    "    data_agg.set_index([\"DATE\"])\n",
    "    .groupby([pd.Grouper(freq = freq),\"KEYWORD\"],as_index = True)\n",
    "    [\"COUNT\"].sum()\n",
    "    .reset_index()\n",
    ")\n",
    "\n",
    "fig = px.bar(count,\n",
    "             x = \"DATE\",y = \"COUNT\",color = \"KEYWORD\",\n",
    "             title = \"Evolution du nombre de mention au cours du temps par mot clé\",\n",
    "             height = 400,color_discrete_sequence=SMALL_SEQUENCE2\n",
    ")\n",
    "fig.show()"
   ],
   "outputs": [
    {
     "output_type": "display_data",
     "data": {
      "application/vnd.plotly.v1+json": {
       "config": {
        "plotlyServerURL": "https://plot.ly"
       },
       "data": [
        {
         "alignmentgroup": "True",
         "hovertemplate": "KEYWORD=biodiversité<br>DATE=%{x}<br>COUNT=%{y}<extra></extra>",
         "legendgroup": "biodiversité",
         "marker": {
          "color": "rgb(230, 50, 24)",
          "pattern": {
           "shape": ""
          }
         },
         "name": "biodiversité",
         "offsetgroup": "biodiversité",
         "orientation": "v",
         "showlegend": true,
         "textposition": "auto",
         "type": "bar",
         "x": [
          "2022-09-14T00:00:00",
          "2022-09-15T00:00:00",
          "2022-09-16T00:00:00",
          "2022-09-17T00:00:00",
          "2022-09-18T00:00:00",
          "2022-09-19T00:00:00",
          "2022-09-20T00:00:00",
          "2022-09-21T00:00:00",
          "2022-09-22T00:00:00",
          "2022-09-23T00:00:00",
          "2022-09-24T00:00:00",
          "2022-09-25T00:00:00",
          "2022-09-26T00:00:00",
          "2022-09-27T00:00:00",
          "2022-09-28T00:00:00",
          "2022-09-29T00:00:00",
          "2022-09-30T00:00:00",
          "2022-10-01T00:00:00",
          "2022-10-02T00:00:00",
          "2022-10-03T00:00:00",
          "2022-10-04T00:00:00",
          "2022-10-05T00:00:00",
          "2022-10-06T00:00:00",
          "2022-10-07T00:00:00",
          "2022-10-08T00:00:00",
          "2022-10-09T00:00:00",
          "2022-10-10T00:00:00",
          "2022-10-11T00:00:00",
          "2022-10-12T00:00:00",
          "2022-10-13T00:00:00",
          "2022-10-14T00:00:00",
          "2022-10-15T00:00:00"
         ],
         "xaxis": "x",
         "y": [
          220,
          265,
          317,
          221,
          286,
          272,
          300,
          262,
          321,
          337,
          228,
          195,
          283,
          265,
          217,
          344,
          246,
          155,
          266,
          220,
          242,
          399,
          253,
          249,
          203,
          229,
          307,
          413,
          313,
          616,
          416,
          125
         ],
         "yaxis": "y"
        },
        {
         "alignmentgroup": "True",
         "hovertemplate": "KEYWORD=changement climatique<br>DATE=%{x}<br>COUNT=%{y}<extra></extra>",
         "legendgroup": "changement climatique",
         "marker": {
          "color": "rgb(59, 111, 66)",
          "pattern": {
           "shape": ""
          }
         },
         "name": "changement climatique",
         "offsetgroup": "changement climatique",
         "orientation": "v",
         "showlegend": true,
         "textposition": "auto",
         "type": "bar",
         "x": [
          "2022-09-14T00:00:00",
          "2022-09-15T00:00:00",
          "2022-09-16T00:00:00",
          "2022-09-17T00:00:00",
          "2022-09-18T00:00:00",
          "2022-09-19T00:00:00",
          "2022-09-20T00:00:00",
          "2022-09-21T00:00:00",
          "2022-09-22T00:00:00",
          "2022-09-23T00:00:00",
          "2022-09-24T00:00:00",
          "2022-09-25T00:00:00",
          "2022-09-26T00:00:00",
          "2022-09-27T00:00:00",
          "2022-09-28T00:00:00",
          "2022-09-29T00:00:00",
          "2022-09-30T00:00:00",
          "2022-10-01T00:00:00",
          "2022-10-02T00:00:00",
          "2022-10-03T00:00:00",
          "2022-10-04T00:00:00",
          "2022-10-05T00:00:00",
          "2022-10-06T00:00:00",
          "2022-10-07T00:00:00",
          "2022-10-08T00:00:00",
          "2022-10-09T00:00:00",
          "2022-10-10T00:00:00",
          "2022-10-11T00:00:00",
          "2022-10-12T00:00:00",
          "2022-10-13T00:00:00",
          "2022-10-14T00:00:00",
          "2022-10-15T00:00:00"
         ],
         "xaxis": "x",
         "y": [
          178,
          168,
          229,
          173,
          191,
          209,
          309,
          263,
          271,
          336,
          160,
          144,
          274,
          171,
          290,
          257,
          235,
          133,
          120,
          197,
          232,
          264,
          332,
          363,
          164,
          164,
          367,
          312,
          192,
          454,
          217,
          64
         ],
         "yaxis": "y"
        }
       ],
       "layout": {
        "barmode": "relative",
        "height": 400,
        "legend": {
         "title": {
          "text": "KEYWORD"
         },
         "tracegroupgap": 0
        },
        "template": {
         "layout": {
          "colorway": [
           "rgb(230, 50, 24)",
           "rgb(240, 73, 70)",
           "rgb(243, 127, 125)",
           "rgb(248, 182, 181)",
           "rgb(209, 220, 197)",
           "rgb(137, 168, 141)",
           "rgb(59, 111, 66)",
           "rgb(66, 66, 66)"
          ],
          "font": {
           "family": "Helvetica"
          },
          "piecolorway": [
           "rgb(230, 50, 24)",
           "rgb(240, 73, 70)",
           "rgb(243, 127, 125)",
           "rgb(248, 182, 181)",
           "rgb(209, 220, 197)",
           "rgb(137, 168, 141)",
           "rgb(59, 111, 66)",
           "rgb(66, 66, 66)"
          ],
          "sunburstcolorway": [
           "rgb(230, 50, 24)",
           "rgb(240, 73, 70)",
           "rgb(243, 127, 125)",
           "rgb(248, 182, 181)",
           "rgb(209, 220, 197)",
           "rgb(137, 168, 141)",
           "rgb(59, 111, 66)",
           "rgb(66, 66, 66)"
          ],
          "treemapcolorway": [
           "rgb(230, 50, 24)",
           "rgb(240, 73, 70)",
           "rgb(243, 127, 125)",
           "rgb(248, 182, 181)",
           "rgb(209, 220, 197)",
           "rgb(137, 168, 141)",
           "rgb(59, 111, 66)",
           "rgb(66, 66, 66)"
          ]
         }
        },
        "title": {
         "text": "Evolution du nombre de mention au cours du temps par mot clé"
        },
        "xaxis": {
         "anchor": "y",
         "domain": [
          0,
          1
         ],
         "title": {
          "text": "DATE"
         }
        },
        "yaxis": {
         "anchor": "x",
         "domain": [
          0,
          1
         ],
         "title": {
          "text": "COUNT"
         }
        }
       }
      }
     },
     "metadata": {}
    }
   ],
   "metadata": {}
  },
  {
   "cell_type": "code",
   "execution_count": 27,
   "source": [
    "freq = \"D\"\n",
    "\n",
    "count = (\n",
    "    data_agg.set_index([\"DATE\"])\n",
    "    .groupby([pd.Grouper(freq = freq),\"KEYWORD\"],as_index = True)\n",
    "    [\"COUNT\"].sum()\n",
    "    .reset_index()\n",
    ")\n",
    "\n",
    "fig = px.area(count,\n",
    "             x = \"DATE\",y = \"COUNT\",color = \"KEYWORD\",groupnorm='fraction',\n",
    "             title = \"Evolution du nombre de mention au cours du temps par keyword en %\",height = 400,color_discrete_sequence=SMALL_SEQUENCE2,\n",
    ")\n",
    "fig.update_layout(yaxis_tickformat='0%') \n",
    "fig.show()"
   ],
   "outputs": [
    {
     "output_type": "display_data",
     "data": {
      "application/vnd.plotly.v1+json": {
       "config": {
        "plotlyServerURL": "https://plot.ly"
       },
       "data": [
        {
         "fillpattern": {
          "shape": ""
         },
         "groupnorm": "fraction",
         "hovertemplate": "KEYWORD=biodiversité<br>DATE=%{x}<br>COUNT=%{y}<extra></extra>",
         "legendgroup": "biodiversité",
         "line": {
          "color": "rgb(230, 50, 24)"
         },
         "marker": {
          "symbol": "circle"
         },
         "mode": "lines",
         "name": "biodiversité",
         "orientation": "v",
         "showlegend": true,
         "stackgroup": "1",
         "type": "scatter",
         "x": [
          "2022-09-14T00:00:00",
          "2022-09-15T00:00:00",
          "2022-09-16T00:00:00",
          "2022-09-17T00:00:00",
          "2022-09-18T00:00:00",
          "2022-09-19T00:00:00",
          "2022-09-20T00:00:00",
          "2022-09-21T00:00:00",
          "2022-09-22T00:00:00",
          "2022-09-23T00:00:00",
          "2022-09-24T00:00:00",
          "2022-09-25T00:00:00",
          "2022-09-26T00:00:00",
          "2022-09-27T00:00:00",
          "2022-09-28T00:00:00",
          "2022-09-29T00:00:00",
          "2022-09-30T00:00:00",
          "2022-10-01T00:00:00",
          "2022-10-02T00:00:00",
          "2022-10-03T00:00:00",
          "2022-10-04T00:00:00",
          "2022-10-05T00:00:00",
          "2022-10-06T00:00:00",
          "2022-10-07T00:00:00",
          "2022-10-08T00:00:00",
          "2022-10-09T00:00:00",
          "2022-10-10T00:00:00",
          "2022-10-11T00:00:00",
          "2022-10-12T00:00:00",
          "2022-10-13T00:00:00",
          "2022-10-14T00:00:00",
          "2022-10-15T00:00:00"
         ],
         "xaxis": "x",
         "y": [
          220,
          265,
          317,
          221,
          286,
          272,
          300,
          262,
          321,
          337,
          228,
          195,
          283,
          265,
          217,
          344,
          246,
          155,
          266,
          220,
          242,
          399,
          253,
          249,
          203,
          229,
          307,
          413,
          313,
          616,
          416,
          125
         ],
         "yaxis": "y"
        },
        {
         "fillpattern": {
          "shape": ""
         },
         "groupnorm": "fraction",
         "hovertemplate": "KEYWORD=changement climatique<br>DATE=%{x}<br>COUNT=%{y}<extra></extra>",
         "legendgroup": "changement climatique",
         "line": {
          "color": "rgb(59, 111, 66)"
         },
         "marker": {
          "symbol": "circle"
         },
         "mode": "lines",
         "name": "changement climatique",
         "orientation": "v",
         "showlegend": true,
         "stackgroup": "1",
         "type": "scatter",
         "x": [
          "2022-09-14T00:00:00",
          "2022-09-15T00:00:00",
          "2022-09-16T00:00:00",
          "2022-09-17T00:00:00",
          "2022-09-18T00:00:00",
          "2022-09-19T00:00:00",
          "2022-09-20T00:00:00",
          "2022-09-21T00:00:00",
          "2022-09-22T00:00:00",
          "2022-09-23T00:00:00",
          "2022-09-24T00:00:00",
          "2022-09-25T00:00:00",
          "2022-09-26T00:00:00",
          "2022-09-27T00:00:00",
          "2022-09-28T00:00:00",
          "2022-09-29T00:00:00",
          "2022-09-30T00:00:00",
          "2022-10-01T00:00:00",
          "2022-10-02T00:00:00",
          "2022-10-03T00:00:00",
          "2022-10-04T00:00:00",
          "2022-10-05T00:00:00",
          "2022-10-06T00:00:00",
          "2022-10-07T00:00:00",
          "2022-10-08T00:00:00",
          "2022-10-09T00:00:00",
          "2022-10-10T00:00:00",
          "2022-10-11T00:00:00",
          "2022-10-12T00:00:00",
          "2022-10-13T00:00:00",
          "2022-10-14T00:00:00",
          "2022-10-15T00:00:00"
         ],
         "xaxis": "x",
         "y": [
          178,
          168,
          229,
          173,
          191,
          209,
          309,
          263,
          271,
          336,
          160,
          144,
          274,
          171,
          290,
          257,
          235,
          133,
          120,
          197,
          232,
          264,
          332,
          363,
          164,
          164,
          367,
          312,
          192,
          454,
          217,
          64
         ],
         "yaxis": "y"
        }
       ],
       "layout": {
        "height": 400,
        "legend": {
         "title": {
          "text": "KEYWORD"
         },
         "tracegroupgap": 0
        },
        "template": {
         "layout": {
          "colorway": [
           "rgb(230, 50, 24)",
           "rgb(240, 73, 70)",
           "rgb(243, 127, 125)",
           "rgb(248, 182, 181)",
           "rgb(209, 220, 197)",
           "rgb(137, 168, 141)",
           "rgb(59, 111, 66)",
           "rgb(66, 66, 66)"
          ],
          "font": {
           "family": "Helvetica"
          },
          "piecolorway": [
           "rgb(230, 50, 24)",
           "rgb(240, 73, 70)",
           "rgb(243, 127, 125)",
           "rgb(248, 182, 181)",
           "rgb(209, 220, 197)",
           "rgb(137, 168, 141)",
           "rgb(59, 111, 66)",
           "rgb(66, 66, 66)"
          ],
          "sunburstcolorway": [
           "rgb(230, 50, 24)",
           "rgb(240, 73, 70)",
           "rgb(243, 127, 125)",
           "rgb(248, 182, 181)",
           "rgb(209, 220, 197)",
           "rgb(137, 168, 141)",
           "rgb(59, 111, 66)",
           "rgb(66, 66, 66)"
          ],
          "treemapcolorway": [
           "rgb(230, 50, 24)",
           "rgb(240, 73, 70)",
           "rgb(243, 127, 125)",
           "rgb(248, 182, 181)",
           "rgb(209, 220, 197)",
           "rgb(137, 168, 141)",
           "rgb(59, 111, 66)",
           "rgb(66, 66, 66)"
          ]
         }
        },
        "title": {
         "text": "Evolution du nombre de mention au cours du temps par keyword en %"
        },
        "xaxis": {
         "anchor": "y",
         "domain": [
          0,
          1
         ],
         "title": {
          "text": "DATE"
         }
        },
        "yaxis": {
         "anchor": "x",
         "domain": [
          0,
          1
         ],
         "tickformat": "0%",
         "title": {
          "text": "COUNT"
         }
        }
       }
      }
     },
     "metadata": {}
    }
   ],
   "metadata": {}
  },
  {
   "cell_type": "code",
   "execution_count": 28,
   "source": [
    "\n",
    "count = (\n",
    "    data_agg\n",
    "    .groupby([\"CHANNEL_NAME\",\"MEDIA\",\"KEYWORD\"],as_index = False)\n",
    "    [\"COUNT\"].sum()\n",
    ")\n",
    "\n",
    "count = count.loc[count[\"CHANNEL_NAME\"].isin(top_channels_tv)]\n",
    "\n",
    "fig = px.bar(\n",
    "    count,\n",
    "    x = \"CHANNEL_NAME\",y = \"COUNT\",color=\"KEYWORD\",\n",
    "    height = 400,\n",
    "    title = \"Répartition des mentions par mot clé par chaîne TV principale\",\n",
    "    color_discrete_sequence=SMALL_SEQUENCE2,\n",
    "    text_auto = \"s\",\n",
    ")\n",
    "fig.show()"
   ],
   "outputs": [
    {
     "output_type": "display_data",
     "data": {
      "application/vnd.plotly.v1+json": {
       "config": {
        "plotlyServerURL": "https://plot.ly"
       },
       "data": [
        {
         "alignmentgroup": "True",
         "hovertemplate": "KEYWORD=biodiversité<br>CHANNEL_NAME=%{x}<br>COUNT=%{y}<extra></extra>",
         "legendgroup": "biodiversité",
         "marker": {
          "color": "rgb(230, 50, 24)",
          "pattern": {
           "shape": ""
          }
         },
         "name": "biodiversité",
         "offsetgroup": "biodiversité",
         "orientation": "v",
         "showlegend": true,
         "textposition": "auto",
         "texttemplate": "%{y:s}",
         "type": "bar",
         "x": [
          "BFMTV",
          "CNEWS",
          "Canal+",
          "France 2",
          "France 5",
          "M6",
          "TF1"
         ],
         "xaxis": "x",
         "y": [
          18,
          15,
          1,
          19,
          86,
          13,
          15
         ],
         "yaxis": "y"
        },
        {
         "alignmentgroup": "True",
         "hovertemplate": "KEYWORD=changement climatique<br>CHANNEL_NAME=%{x}<br>COUNT=%{y}<extra></extra>",
         "legendgroup": "changement climatique",
         "marker": {
          "color": "rgb(59, 111, 66)",
          "pattern": {
           "shape": ""
          }
         },
         "name": "changement climatique",
         "offsetgroup": "changement climatique",
         "orientation": "v",
         "showlegend": true,
         "textposition": "auto",
         "texttemplate": "%{y:s}",
         "type": "bar",
         "x": [
          "BFMTV",
          "CNEWS",
          "Canal+",
          "France 2",
          "France 5",
          "M6",
          "TF1"
         ],
         "xaxis": "x",
         "y": [
          27,
          20,
          2,
          35,
          73,
          3,
          13
         ],
         "yaxis": "y"
        }
       ],
       "layout": {
        "barmode": "relative",
        "height": 400,
        "legend": {
         "title": {
          "text": "KEYWORD"
         },
         "tracegroupgap": 0
        },
        "template": {
         "layout": {
          "colorway": [
           "rgb(230, 50, 24)",
           "rgb(240, 73, 70)",
           "rgb(243, 127, 125)",
           "rgb(248, 182, 181)",
           "rgb(209, 220, 197)",
           "rgb(137, 168, 141)",
           "rgb(59, 111, 66)",
           "rgb(66, 66, 66)"
          ],
          "font": {
           "family": "Helvetica"
          },
          "piecolorway": [
           "rgb(230, 50, 24)",
           "rgb(240, 73, 70)",
           "rgb(243, 127, 125)",
           "rgb(248, 182, 181)",
           "rgb(209, 220, 197)",
           "rgb(137, 168, 141)",
           "rgb(59, 111, 66)",
           "rgb(66, 66, 66)"
          ],
          "sunburstcolorway": [
           "rgb(230, 50, 24)",
           "rgb(240, 73, 70)",
           "rgb(243, 127, 125)",
           "rgb(248, 182, 181)",
           "rgb(209, 220, 197)",
           "rgb(137, 168, 141)",
           "rgb(59, 111, 66)",
           "rgb(66, 66, 66)"
          ],
          "treemapcolorway": [
           "rgb(230, 50, 24)",
           "rgb(240, 73, 70)",
           "rgb(243, 127, 125)",
           "rgb(248, 182, 181)",
           "rgb(209, 220, 197)",
           "rgb(137, 168, 141)",
           "rgb(59, 111, 66)",
           "rgb(66, 66, 66)"
          ]
         }
        },
        "title": {
         "text": "Répartition des mentions par mot clé par chaîne TV principale"
        },
        "xaxis": {
         "anchor": "y",
         "domain": [
          0,
          1
         ],
         "title": {
          "text": "CHANNEL_NAME"
         }
        },
        "yaxis": {
         "anchor": "x",
         "domain": [
          0,
          1
         ],
         "title": {
          "text": "COUNT"
         }
        }
       }
      }
     },
     "metadata": {}
    }
   ],
   "metadata": {}
  },
  {
   "cell_type": "code",
   "execution_count": 29,
   "source": [
    "freq = \"4H\"\n",
    "\n",
    "def parse_period(y,freq):\n",
    "    hours = int(str(y)[7:9])\n",
    "    return f\"{hours}-{hours+int(freq.replace('H',''))}h\"\n",
    "\n",
    "count = (\n",
    "    data_agg\n",
    "    .set_index([\"TIME\"])\n",
    "    .groupby([pd.Grouper(freq = freq),\"CHANNEL_NAME\",\"KEYWORD\"],as_index = True)\n",
    "    [\"COUNT\"].sum()\n",
    "    .reset_index()\n",
    "    .assign(TIME = lambda x: x[\"TIME\"].map(lambda y : parse_period(y,freq)))\n",
    "    .sort_values(\"TIME\",ascending = True)\n",
    ")\n",
    "\n",
    "count = count.loc[count[\"CHANNEL_NAME\"].isin(top_channels)]\n",
    "\n",
    "fig = px.treemap(\n",
    "    count,\n",
    "    path = [\"CHANNEL_NAME\",\"KEYWORD\",\"TIME\"],\n",
    "    values = \"COUNT\",\n",
    "    height = 800\n",
    ")\n",
    "fig"
   ],
   "outputs": [
    {
     "output_type": "display_data",
     "data": {
      "application/vnd.plotly.v1+json": {
       "config": {
        "plotlyServerURL": "https://plot.ly"
       },
       "data": [
        {
         "branchvalues": "total",
         "domain": {
          "x": [
           0,
           1
          ],
          "y": [
           0,
           1
          ]
         },
         "hovertemplate": "labels=%{label}<br>COUNT=%{value}<br>parent=%{parent}<br>id=%{id}<extra></extra>",
         "ids": [
          "France 2/biodiversité/0-4h",
          "France 24/biodiversité/0-4h",
          "LCP/biodiversité/0-4h",
          "M6/biodiversité/0-4h",
          "RFI/biodiversité/0-4h",
          "TV5Monde/biodiversité/0-4h",
          "Arte/changement climatique/0-4h",
          "BFMTV/changement climatique/0-4h",
          "Europe 1/changement climatique/0-4h",
          "France 2/changement climatique/0-4h",
          "France 24/changement climatique/0-4h",
          "France Info/changement climatique/0-4h",
          "France Inter/changement climatique/0-4h",
          "LCP/changement climatique/0-4h",
          "RFI/changement climatique/0-4h",
          "TV5Monde/changement climatique/0-4h",
          "Arte/biodiversité/12-16h",
          "BFM Business/biodiversité/12-16h",
          "BFM Business Radio/biodiversité/12-16h",
          "BFMTV/biodiversité/12-16h",
          "CNEWS/biodiversité/12-16h",
          "Euronews/biodiversité/12-16h",
          "Europe 1/biodiversité/12-16h",
          "France 2/biodiversité/12-16h",
          "France 24/biodiversité/12-16h",
          "France 5/biodiversité/12-16h",
          "France Culture/biodiversité/12-16h",
          "France Info/biodiversité/12-16h",
          "France Inter/biodiversité/12-16h",
          "LCI/biodiversité/12-16h",
          "LCP/biodiversité/12-16h",
          "M6/biodiversité/12-16h",
          "RFI/biodiversité/12-16h",
          "RTL/biodiversité/12-16h",
          "Radio Classique/biodiversité/12-16h",
          "TF1/biodiversité/12-16h",
          "TV5Monde/biodiversité/12-16h",
          "Arte/changement climatique/12-16h",
          "BFM Business/changement climatique/12-16h",
          "BFM Business Radio/changement climatique/12-16h",
          "BFMTV/changement climatique/12-16h",
          "CNEWS/changement climatique/12-16h",
          "Canal+/changement climatique/12-16h",
          "Euronews/changement climatique/12-16h",
          "Europe 1/changement climatique/12-16h",
          "France 2/changement climatique/12-16h",
          "France 24/changement climatique/12-16h",
          "France 5/changement climatique/12-16h",
          "France Culture/changement climatique/12-16h",
          "France Info/changement climatique/12-16h",
          "France Inter/changement climatique/12-16h",
          "LCI/changement climatique/12-16h",
          "LCP/changement climatique/12-16h",
          "M6/changement climatique/12-16h",
          "RFI/changement climatique/12-16h",
          "RMC/changement climatique/12-16h",
          "RTL/changement climatique/12-16h",
          "Radio Classique/changement climatique/12-16h",
          "TV5Monde/changement climatique/12-16h",
          "Arte/biodiversité/16-20h",
          "BFM Business/biodiversité/16-20h",
          "BFM Business Radio/biodiversité/16-20h",
          "BFMTV/biodiversité/16-20h",
          "CNEWS/biodiversité/16-20h",
          "Euronews/biodiversité/16-20h",
          "Europe 1/biodiversité/16-20h",
          "France 24/biodiversité/16-20h",
          "France 5/biodiversité/16-20h",
          "France Culture/biodiversité/16-20h",
          "France Info/biodiversité/16-20h",
          "France Inter/biodiversité/16-20h",
          "LCI/biodiversité/16-20h",
          "LCP/biodiversité/16-20h",
          "M6/biodiversité/16-20h",
          "RFI/biodiversité/16-20h",
          "RMC/biodiversité/16-20h",
          "RTL/biodiversité/16-20h",
          "TV5Monde/biodiversité/16-20h",
          "Arte/changement climatique/16-20h",
          "BFM Business/changement climatique/16-20h",
          "BFM Business Radio/changement climatique/16-20h",
          "BFMTV/changement climatique/16-20h",
          "CNEWS/changement climatique/16-20h",
          "Euronews/changement climatique/16-20h",
          "Europe 1/changement climatique/16-20h",
          "France 24/changement climatique/16-20h",
          "France 5/changement climatique/16-20h",
          "France Culture/changement climatique/16-20h",
          "France Info/changement climatique/16-20h",
          "France Inter/changement climatique/16-20h",
          "LCI/changement climatique/16-20h",
          "LCP/changement climatique/16-20h",
          "RFI/changement climatique/16-20h",
          "RMC/changement climatique/16-20h",
          "RTL/changement climatique/16-20h",
          "Radio Classique/changement climatique/16-20h",
          "TV5Monde/changement climatique/16-20h",
          "Arte/biodiversité/20-24h",
          "BFM Business/biodiversité/20-24h",
          "BFM Business Radio/biodiversité/20-24h",
          "BFMTV/biodiversité/20-24h",
          "CNEWS/biodiversité/20-24h",
          "Canal+/biodiversité/20-24h",
          "Euronews/biodiversité/20-24h",
          "France 2/biodiversité/20-24h",
          "France 24/biodiversité/20-24h",
          "France 5/biodiversité/20-24h",
          "France Culture/biodiversité/20-24h",
          "France Info/biodiversité/20-24h",
          "France Inter/biodiversité/20-24h",
          "LCI/biodiversité/20-24h",
          "LCP/biodiversité/20-24h",
          "M6/biodiversité/20-24h",
          "RFI/biodiversité/20-24h",
          "RTL/biodiversité/20-24h",
          "TF1/biodiversité/20-24h",
          "TV5Monde/biodiversité/20-24h",
          "Arte/changement climatique/20-24h",
          "BFM Business/changement climatique/20-24h",
          "BFM Business Radio/changement climatique/20-24h",
          "BFMTV/changement climatique/20-24h",
          "CNEWS/changement climatique/20-24h",
          "Euronews/changement climatique/20-24h",
          "France 2/changement climatique/20-24h",
          "France 24/changement climatique/20-24h",
          "France 5/changement climatique/20-24h",
          "France Culture/changement climatique/20-24h",
          "France Info/changement climatique/20-24h",
          "France Inter/changement climatique/20-24h",
          "LCI/changement climatique/20-24h",
          "LCP/changement climatique/20-24h",
          "RFI/changement climatique/20-24h",
          "TF1/changement climatique/20-24h",
          "TV5Monde/changement climatique/20-24h",
          "Arte/biodiversité/4-8h",
          "BFM Business/biodiversité/4-8h",
          "BFM Business Radio/biodiversité/4-8h",
          "BFMTV/biodiversité/4-8h",
          "Euronews/biodiversité/4-8h",
          "Europe 1/biodiversité/4-8h",
          "France 2/biodiversité/4-8h",
          "France 24/biodiversité/4-8h",
          "France Culture/biodiversité/4-8h",
          "France Info/biodiversité/4-8h",
          "France Inter/biodiversité/4-8h",
          "LCP/biodiversité/4-8h",
          "RFI/biodiversité/4-8h",
          "RMC/biodiversité/4-8h",
          "RTL/biodiversité/4-8h",
          "Radio Classique/biodiversité/4-8h",
          "TV5Monde/biodiversité/4-8h",
          "Arte/changement climatique/4-8h",
          "BFM Business/changement climatique/4-8h",
          "BFM Business Radio/changement climatique/4-8h",
          "BFMTV/changement climatique/4-8h",
          "CNEWS/changement climatique/4-8h",
          "Canal+/changement climatique/4-8h",
          "Euronews/changement climatique/4-8h",
          "Europe 1/changement climatique/4-8h",
          "France 2/changement climatique/4-8h",
          "France 24/changement climatique/4-8h",
          "France Culture/changement climatique/4-8h",
          "France Info/changement climatique/4-8h",
          "France Inter/changement climatique/4-8h",
          "LCI/changement climatique/4-8h",
          "LCP/changement climatique/4-8h",
          "RFI/changement climatique/4-8h",
          "RMC/changement climatique/4-8h",
          "RTL/changement climatique/4-8h",
          "Radio Classique/changement climatique/4-8h",
          "TV5Monde/changement climatique/4-8h",
          "Arte/biodiversité/8-12h",
          "BFM Business/biodiversité/8-12h",
          "BFM Business Radio/biodiversité/8-12h",
          "BFMTV/biodiversité/8-12h",
          "CNEWS/biodiversité/8-12h",
          "Euronews/biodiversité/8-12h",
          "Europe 1/biodiversité/8-12h",
          "France 2/biodiversité/8-12h",
          "France 24/biodiversité/8-12h",
          "France 5/biodiversité/8-12h",
          "France Culture/biodiversité/8-12h",
          "France Info/biodiversité/8-12h",
          "France Inter/biodiversité/8-12h",
          "LCI/biodiversité/8-12h",
          "LCP/biodiversité/8-12h",
          "RFI/biodiversité/8-12h",
          "RMC/biodiversité/8-12h",
          "RTL/biodiversité/8-12h",
          "TF1/biodiversité/8-12h",
          "TV5Monde/biodiversité/8-12h",
          "Arte/changement climatique/8-12h",
          "BFM Business/changement climatique/8-12h",
          "BFM Business Radio/changement climatique/8-12h",
          "BFMTV/changement climatique/8-12h",
          "CNEWS/changement climatique/8-12h",
          "Euronews/changement climatique/8-12h",
          "Europe 1/changement climatique/8-12h",
          "France 2/changement climatique/8-12h",
          "France 24/changement climatique/8-12h",
          "France 5/changement climatique/8-12h",
          "France Culture/changement climatique/8-12h",
          "France Info/changement climatique/8-12h",
          "France Inter/changement climatique/8-12h",
          "LCI/changement climatique/8-12h",
          "LCP/changement climatique/8-12h",
          "RFI/changement climatique/8-12h",
          "RMC/changement climatique/8-12h",
          "RTL/changement climatique/8-12h",
          "Radio Classique/changement climatique/8-12h",
          "TF1/changement climatique/8-12h",
          "TV5Monde/changement climatique/8-12h",
          "Arte/biodiversité",
          "BFM Business/biodiversité",
          "BFM Business Radio/biodiversité",
          "BFMTV/biodiversité",
          "CNEWS/biodiversité",
          "Canal+/biodiversité",
          "Euronews/biodiversité",
          "Europe 1/biodiversité",
          "France 2/biodiversité",
          "France 24/biodiversité",
          "France 5/biodiversité",
          "France Culture/biodiversité",
          "France Info/biodiversité",
          "France Inter/biodiversité",
          "LCI/biodiversité",
          "LCP/biodiversité",
          "M6/biodiversité",
          "RFI/biodiversité",
          "RMC/biodiversité",
          "RTL/biodiversité",
          "Radio Classique/biodiversité",
          "TF1/biodiversité",
          "TV5Monde/biodiversité",
          "Arte/changement climatique",
          "BFM Business/changement climatique",
          "BFM Business Radio/changement climatique",
          "BFMTV/changement climatique",
          "CNEWS/changement climatique",
          "Canal+/changement climatique",
          "Euronews/changement climatique",
          "Europe 1/changement climatique",
          "France 2/changement climatique",
          "France 24/changement climatique",
          "France 5/changement climatique",
          "France Culture/changement climatique",
          "France Info/changement climatique",
          "France Inter/changement climatique",
          "LCI/changement climatique",
          "LCP/changement climatique",
          "M6/changement climatique",
          "RFI/changement climatique",
          "RMC/changement climatique",
          "RTL/changement climatique",
          "Radio Classique/changement climatique",
          "TF1/changement climatique",
          "TV5Monde/changement climatique",
          "Arte",
          "BFM Business",
          "BFM Business Radio",
          "BFMTV",
          "CNEWS",
          "Canal+",
          "Euronews",
          "Europe 1",
          "France 2",
          "France 24",
          "France 5",
          "France Culture",
          "France Info",
          "France Inter",
          "LCI",
          "LCP",
          "M6",
          "RFI",
          "RMC",
          "RTL",
          "Radio Classique",
          "TF1",
          "TV5Monde"
         ],
         "labels": [
          "0-4h",
          "0-4h",
          "0-4h",
          "0-4h",
          "0-4h",
          "0-4h",
          "0-4h",
          "0-4h",
          "0-4h",
          "0-4h",
          "0-4h",
          "0-4h",
          "0-4h",
          "0-4h",
          "0-4h",
          "0-4h",
          "12-16h",
          "12-16h",
          "12-16h",
          "12-16h",
          "12-16h",
          "12-16h",
          "12-16h",
          "12-16h",
          "12-16h",
          "12-16h",
          "12-16h",
          "12-16h",
          "12-16h",
          "12-16h",
          "12-16h",
          "12-16h",
          "12-16h",
          "12-16h",
          "12-16h",
          "12-16h",
          "12-16h",
          "12-16h",
          "12-16h",
          "12-16h",
          "12-16h",
          "12-16h",
          "12-16h",
          "12-16h",
          "12-16h",
          "12-16h",
          "12-16h",
          "12-16h",
          "12-16h",
          "12-16h",
          "12-16h",
          "12-16h",
          "12-16h",
          "12-16h",
          "12-16h",
          "12-16h",
          "12-16h",
          "12-16h",
          "12-16h",
          "16-20h",
          "16-20h",
          "16-20h",
          "16-20h",
          "16-20h",
          "16-20h",
          "16-20h",
          "16-20h",
          "16-20h",
          "16-20h",
          "16-20h",
          "16-20h",
          "16-20h",
          "16-20h",
          "16-20h",
          "16-20h",
          "16-20h",
          "16-20h",
          "16-20h",
          "16-20h",
          "16-20h",
          "16-20h",
          "16-20h",
          "16-20h",
          "16-20h",
          "16-20h",
          "16-20h",
          "16-20h",
          "16-20h",
          "16-20h",
          "16-20h",
          "16-20h",
          "16-20h",
          "16-20h",
          "16-20h",
          "16-20h",
          "16-20h",
          "16-20h",
          "20-24h",
          "20-24h",
          "20-24h",
          "20-24h",
          "20-24h",
          "20-24h",
          "20-24h",
          "20-24h",
          "20-24h",
          "20-24h",
          "20-24h",
          "20-24h",
          "20-24h",
          "20-24h",
          "20-24h",
          "20-24h",
          "20-24h",
          "20-24h",
          "20-24h",
          "20-24h",
          "20-24h",
          "20-24h",
          "20-24h",
          "20-24h",
          "20-24h",
          "20-24h",
          "20-24h",
          "20-24h",
          "20-24h",
          "20-24h",
          "20-24h",
          "20-24h",
          "20-24h",
          "20-24h",
          "20-24h",
          "20-24h",
          "20-24h",
          "4-8h",
          "4-8h",
          "4-8h",
          "4-8h",
          "4-8h",
          "4-8h",
          "4-8h",
          "4-8h",
          "4-8h",
          "4-8h",
          "4-8h",
          "4-8h",
          "4-8h",
          "4-8h",
          "4-8h",
          "4-8h",
          "4-8h",
          "4-8h",
          "4-8h",
          "4-8h",
          "4-8h",
          "4-8h",
          "4-8h",
          "4-8h",
          "4-8h",
          "4-8h",
          "4-8h",
          "4-8h",
          "4-8h",
          "4-8h",
          "4-8h",
          "4-8h",
          "4-8h",
          "4-8h",
          "4-8h",
          "4-8h",
          "4-8h",
          "8-12h",
          "8-12h",
          "8-12h",
          "8-12h",
          "8-12h",
          "8-12h",
          "8-12h",
          "8-12h",
          "8-12h",
          "8-12h",
          "8-12h",
          "8-12h",
          "8-12h",
          "8-12h",
          "8-12h",
          "8-12h",
          "8-12h",
          "8-12h",
          "8-12h",
          "8-12h",
          "8-12h",
          "8-12h",
          "8-12h",
          "8-12h",
          "8-12h",
          "8-12h",
          "8-12h",
          "8-12h",
          "8-12h",
          "8-12h",
          "8-12h",
          "8-12h",
          "8-12h",
          "8-12h",
          "8-12h",
          "8-12h",
          "8-12h",
          "8-12h",
          "8-12h",
          "8-12h",
          "8-12h",
          "biodiversité",
          "biodiversité",
          "biodiversité",
          "biodiversité",
          "biodiversité",
          "biodiversité",
          "biodiversité",
          "biodiversité",
          "biodiversité",
          "biodiversité",
          "biodiversité",
          "biodiversité",
          "biodiversité",
          "biodiversité",
          "biodiversité",
          "biodiversité",
          "biodiversité",
          "biodiversité",
          "biodiversité",
          "biodiversité",
          "biodiversité",
          "biodiversité",
          "biodiversité",
          "changement climatique",
          "changement climatique",
          "changement climatique",
          "changement climatique",
          "changement climatique",
          "changement climatique",
          "changement climatique",
          "changement climatique",
          "changement climatique",
          "changement climatique",
          "changement climatique",
          "changement climatique",
          "changement climatique",
          "changement climatique",
          "changement climatique",
          "changement climatique",
          "changement climatique",
          "changement climatique",
          "changement climatique",
          "changement climatique",
          "changement climatique",
          "changement climatique",
          "changement climatique",
          "Arte",
          "BFM Business",
          "BFM Business Radio",
          "BFMTV",
          "CNEWS",
          "Canal+",
          "Euronews",
          "Europe 1",
          "France 2",
          "France 24",
          "France 5",
          "France Culture",
          "France Info",
          "France Inter",
          "LCI",
          "LCP",
          "M6",
          "RFI",
          "RMC",
          "RTL",
          "Radio Classique",
          "TF1",
          "TV5Monde"
         ],
         "name": "",
         "parents": [
          "France 2/biodiversité",
          "France 24/biodiversité",
          "LCP/biodiversité",
          "M6/biodiversité",
          "RFI/biodiversité",
          "TV5Monde/biodiversité",
          "Arte/changement climatique",
          "BFMTV/changement climatique",
          "Europe 1/changement climatique",
          "France 2/changement climatique",
          "France 24/changement climatique",
          "France Info/changement climatique",
          "France Inter/changement climatique",
          "LCP/changement climatique",
          "RFI/changement climatique",
          "TV5Monde/changement climatique",
          "Arte/biodiversité",
          "BFM Business/biodiversité",
          "BFM Business Radio/biodiversité",
          "BFMTV/biodiversité",
          "CNEWS/biodiversité",
          "Euronews/biodiversité",
          "Europe 1/biodiversité",
          "France 2/biodiversité",
          "France 24/biodiversité",
          "France 5/biodiversité",
          "France Culture/biodiversité",
          "France Info/biodiversité",
          "France Inter/biodiversité",
          "LCI/biodiversité",
          "LCP/biodiversité",
          "M6/biodiversité",
          "RFI/biodiversité",
          "RTL/biodiversité",
          "Radio Classique/biodiversité",
          "TF1/biodiversité",
          "TV5Monde/biodiversité",
          "Arte/changement climatique",
          "BFM Business/changement climatique",
          "BFM Business Radio/changement climatique",
          "BFMTV/changement climatique",
          "CNEWS/changement climatique",
          "Canal+/changement climatique",
          "Euronews/changement climatique",
          "Europe 1/changement climatique",
          "France 2/changement climatique",
          "France 24/changement climatique",
          "France 5/changement climatique",
          "France Culture/changement climatique",
          "France Info/changement climatique",
          "France Inter/changement climatique",
          "LCI/changement climatique",
          "LCP/changement climatique",
          "M6/changement climatique",
          "RFI/changement climatique",
          "RMC/changement climatique",
          "RTL/changement climatique",
          "Radio Classique/changement climatique",
          "TV5Monde/changement climatique",
          "Arte/biodiversité",
          "BFM Business/biodiversité",
          "BFM Business Radio/biodiversité",
          "BFMTV/biodiversité",
          "CNEWS/biodiversité",
          "Euronews/biodiversité",
          "Europe 1/biodiversité",
          "France 24/biodiversité",
          "France 5/biodiversité",
          "France Culture/biodiversité",
          "France Info/biodiversité",
          "France Inter/biodiversité",
          "LCI/biodiversité",
          "LCP/biodiversité",
          "M6/biodiversité",
          "RFI/biodiversité",
          "RMC/biodiversité",
          "RTL/biodiversité",
          "TV5Monde/biodiversité",
          "Arte/changement climatique",
          "BFM Business/changement climatique",
          "BFM Business Radio/changement climatique",
          "BFMTV/changement climatique",
          "CNEWS/changement climatique",
          "Euronews/changement climatique",
          "Europe 1/changement climatique",
          "France 24/changement climatique",
          "France 5/changement climatique",
          "France Culture/changement climatique",
          "France Info/changement climatique",
          "France Inter/changement climatique",
          "LCI/changement climatique",
          "LCP/changement climatique",
          "RFI/changement climatique",
          "RMC/changement climatique",
          "RTL/changement climatique",
          "Radio Classique/changement climatique",
          "TV5Monde/changement climatique",
          "Arte/biodiversité",
          "BFM Business/biodiversité",
          "BFM Business Radio/biodiversité",
          "BFMTV/biodiversité",
          "CNEWS/biodiversité",
          "Canal+/biodiversité",
          "Euronews/biodiversité",
          "France 2/biodiversité",
          "France 24/biodiversité",
          "France 5/biodiversité",
          "France Culture/biodiversité",
          "France Info/biodiversité",
          "France Inter/biodiversité",
          "LCI/biodiversité",
          "LCP/biodiversité",
          "M6/biodiversité",
          "RFI/biodiversité",
          "RTL/biodiversité",
          "TF1/biodiversité",
          "TV5Monde/biodiversité",
          "Arte/changement climatique",
          "BFM Business/changement climatique",
          "BFM Business Radio/changement climatique",
          "BFMTV/changement climatique",
          "CNEWS/changement climatique",
          "Euronews/changement climatique",
          "France 2/changement climatique",
          "France 24/changement climatique",
          "France 5/changement climatique",
          "France Culture/changement climatique",
          "France Info/changement climatique",
          "France Inter/changement climatique",
          "LCI/changement climatique",
          "LCP/changement climatique",
          "RFI/changement climatique",
          "TF1/changement climatique",
          "TV5Monde/changement climatique",
          "Arte/biodiversité",
          "BFM Business/biodiversité",
          "BFM Business Radio/biodiversité",
          "BFMTV/biodiversité",
          "Euronews/biodiversité",
          "Europe 1/biodiversité",
          "France 2/biodiversité",
          "France 24/biodiversité",
          "France Culture/biodiversité",
          "France Info/biodiversité",
          "France Inter/biodiversité",
          "LCP/biodiversité",
          "RFI/biodiversité",
          "RMC/biodiversité",
          "RTL/biodiversité",
          "Radio Classique/biodiversité",
          "TV5Monde/biodiversité",
          "Arte/changement climatique",
          "BFM Business/changement climatique",
          "BFM Business Radio/changement climatique",
          "BFMTV/changement climatique",
          "CNEWS/changement climatique",
          "Canal+/changement climatique",
          "Euronews/changement climatique",
          "Europe 1/changement climatique",
          "France 2/changement climatique",
          "France 24/changement climatique",
          "France Culture/changement climatique",
          "France Info/changement climatique",
          "France Inter/changement climatique",
          "LCI/changement climatique",
          "LCP/changement climatique",
          "RFI/changement climatique",
          "RMC/changement climatique",
          "RTL/changement climatique",
          "Radio Classique/changement climatique",
          "TV5Monde/changement climatique",
          "Arte/biodiversité",
          "BFM Business/biodiversité",
          "BFM Business Radio/biodiversité",
          "BFMTV/biodiversité",
          "CNEWS/biodiversité",
          "Euronews/biodiversité",
          "Europe 1/biodiversité",
          "France 2/biodiversité",
          "France 24/biodiversité",
          "France 5/biodiversité",
          "France Culture/biodiversité",
          "France Info/biodiversité",
          "France Inter/biodiversité",
          "LCI/biodiversité",
          "LCP/biodiversité",
          "RFI/biodiversité",
          "RMC/biodiversité",
          "RTL/biodiversité",
          "TF1/biodiversité",
          "TV5Monde/biodiversité",
          "Arte/changement climatique",
          "BFM Business/changement climatique",
          "BFM Business Radio/changement climatique",
          "BFMTV/changement climatique",
          "CNEWS/changement climatique",
          "Euronews/changement climatique",
          "Europe 1/changement climatique",
          "France 2/changement climatique",
          "France 24/changement climatique",
          "France 5/changement climatique",
          "France Culture/changement climatique",
          "France Info/changement climatique",
          "France Inter/changement climatique",
          "LCI/changement climatique",
          "LCP/changement climatique",
          "RFI/changement climatique",
          "RMC/changement climatique",
          "RTL/changement climatique",
          "Radio Classique/changement climatique",
          "TF1/changement climatique",
          "TV5Monde/changement climatique",
          "Arte",
          "BFM Business",
          "BFM Business Radio",
          "BFMTV",
          "CNEWS",
          "Canal+",
          "Euronews",
          "Europe 1",
          "France 2",
          "France 24",
          "France 5",
          "France Culture",
          "France Info",
          "France Inter",
          "LCI",
          "LCP",
          "M6",
          "RFI",
          "RMC",
          "RTL",
          "Radio Classique",
          "TF1",
          "TV5Monde",
          "Arte",
          "BFM Business",
          "BFM Business Radio",
          "BFMTV",
          "CNEWS",
          "Canal+",
          "Euronews",
          "Europe 1",
          "France 2",
          "France 24",
          "France 5",
          "France Culture",
          "France Info",
          "France Inter",
          "LCI",
          "LCP",
          "M6",
          "RFI",
          "RMC",
          "RTL",
          "Radio Classique",
          "TF1",
          "TV5Monde",
          "",
          "",
          "",
          "",
          "",
          "",
          "",
          "",
          "",
          "",
          "",
          "",
          "",
          "",
          "",
          "",
          "",
          "",
          "",
          "",
          "",
          "",
          ""
         ],
         "type": "treemap",
         "values": [
          1,
          3,
          11,
          1,
          9,
          1,
          2,
          2,
          1,
          2,
          19,
          1,
          1,
          8,
          9,
          4,
          3,
          19,
          22,
          1,
          4,
          33,
          2,
          3,
          16,
          18,
          11,
          23,
          51,
          3,
          24,
          7,
          20,
          4,
          3,
          2,
          17,
          8,
          14,
          18,
          2,
          3,
          1,
          98,
          15,
          2,
          32,
          10,
          19,
          27,
          45,
          1,
          10,
          3,
          86,
          8,
          4,
          1,
          29,
          13,
          12,
          11,
          2,
          5,
          39,
          4,
          15,
          29,
          57,
          15,
          10,
          2,
          31,
          4,
          58,
          1,
          3,
          5,
          3,
          11,
          36,
          9,
          5,
          60,
          4,
          25,
          17,
          46,
          12,
          25,
          10,
          29,
          62,
          1,
          4,
          1,
          17,
          11,
          10,
          9,
          6,
          4,
          1,
          20,
          6,
          11,
          26,
          20,
          7,
          1,
          4,
          5,
          1,
          14,
          1,
          5,
          11,
          25,
          14,
          41,
          5,
          6,
          39,
          8,
          35,
          38,
          12,
          19,
          6,
          1,
          13,
          42,
          6,
          3,
          2,
          2,
          1,
          6,
          5,
          18,
          1,
          14,
          15,
          8,
          41,
          3,
          21,
          4,
          4,
          16,
          3,
          2,
          3,
          20,
          5,
          1,
          1,
          33,
          9,
          11,
          36,
          11,
          16,
          27,
          7,
          3,
          39,
          4,
          6,
          9,
          7,
          2,
          7,
          10,
          3,
          2,
          16,
          5,
          8,
          14,
          13,
          17,
          8,
          21,
          1,
          50,
          25,
          6,
          4,
          8,
          3,
          2,
          5,
          25,
          4,
          5,
          83,
          11,
          12,
          33,
          8,
          13,
          20,
          20,
          3,
          21,
          44,
          1,
          7,
          1,
          7,
          20,
          31,
          50,
          53,
          18,
          15,
          1,
          113,
          29,
          19,
          73,
          86,
          120,
          61,
          124,
          10,
          124,
          13,
          147,
          11,
          16,
          19,
          15,
          40,
          42,
          47,
          140,
          27,
          20,
          2,
          313,
          40,
          35,
          180,
          73,
          101,
          95,
          124,
          22,
          84,
          3,
          282,
          14,
          21,
          12,
          13,
          80,
          73,
          97,
          193,
          45,
          35,
          3,
          426,
          69,
          54,
          253,
          159,
          221,
          156,
          248,
          32,
          208,
          16,
          429,
          25,
          37,
          31,
          28,
          120
         ]
        }
       ],
       "layout": {
        "height": 800,
        "legend": {
         "tracegroupgap": 0
        },
        "margin": {
         "t": 60
        },
        "template": {
         "layout": {
          "colorway": [
           "rgb(230, 50, 24)",
           "rgb(240, 73, 70)",
           "rgb(243, 127, 125)",
           "rgb(248, 182, 181)",
           "rgb(209, 220, 197)",
           "rgb(137, 168, 141)",
           "rgb(59, 111, 66)",
           "rgb(66, 66, 66)"
          ],
          "font": {
           "family": "Helvetica"
          },
          "piecolorway": [
           "rgb(230, 50, 24)",
           "rgb(240, 73, 70)",
           "rgb(243, 127, 125)",
           "rgb(248, 182, 181)",
           "rgb(209, 220, 197)",
           "rgb(137, 168, 141)",
           "rgb(59, 111, 66)",
           "rgb(66, 66, 66)"
          ],
          "sunburstcolorway": [
           "rgb(230, 50, 24)",
           "rgb(240, 73, 70)",
           "rgb(243, 127, 125)",
           "rgb(248, 182, 181)",
           "rgb(209, 220, 197)",
           "rgb(137, 168, 141)",
           "rgb(59, 111, 66)",
           "rgb(66, 66, 66)"
          ],
          "treemapcolorway": [
           "rgb(230, 50, 24)",
           "rgb(240, 73, 70)",
           "rgb(243, 127, 125)",
           "rgb(248, 182, 181)",
           "rgb(209, 220, 197)",
           "rgb(137, 168, 141)",
           "rgb(59, 111, 66)",
           "rgb(66, 66, 66)"
          ]
         }
        }
       }
      }
     },
     "metadata": {}
    }
   ],
   "metadata": {}
  },
  {
   "cell_type": "code",
   "execution_count": null,
   "source": [],
   "outputs": [],
   "metadata": {}
  }
 ],
 "metadata": {
  "kernelspec": {
   "name": "python3",
   "display_name": "Python 3.10.2 64-bit ('quotaclimat': pyenv)"
  },
  "language_info": {
   "codemirror_mode": {
    "name": "ipython",
    "version": 3
   },
   "file_extension": ".py",
   "mimetype": "text/x-python",
   "name": "python",
   "nbconvert_exporter": "python",
   "pygments_lexer": "ipython3",
   "version": "3.10.2"
  },
  "vscode": {
   "interpreter": {
    "hash": "b841845b27b8c69fcb4b40deb2f6b6285a40a87379e4c1cb9a4e3ac80431c2ca"
   }
  },
  "interpreter": {
   "hash": "0ff42cd313d39b96e6548fdae68a6a114da09a259a05b6e4c9513dfe461c2a77"
  }
 },
 "nbformat": 4,
 "nbformat_minor": 5
}