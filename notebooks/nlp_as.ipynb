{
 "cells": [
  {
   "cell_type": "markdown",
   "id": "34f4ff7e",
   "metadata": {},
   "source": [
    "## Import Libraries"
   ]
  },
  {
   "cell_type": "code",
   "execution_count": 29,
   "id": "542928a6",
   "metadata": {
    "scrolled": true
   },
   "outputs": [],
   "source": [
    "import warnings\n",
    "warnings.filterwarnings(\"ignore\")\n",
    "\n",
    "import numpy as np\n",
    "import pandas as pd\n",
    "import os\n",
    "\n",
    "import spacy\n",
    "nlp = spacy.load(\"fr_core_news_lg\")\n",
    "nlp.add_pipe(\"merge_noun_chunks\")\n",
    "nlp.add_pipe(\"merge_entities\")\n",
    "\n",
    "\n",
    "# Import Stop words \n",
    "from spacy.lang.fr.stop_words import STOP_WORDS\n",
    "\n",
    "\n",
    "from spellchecker import SpellChecker\n",
    "spell = SpellChecker(language='fr')"
   ]
  },
  {
   "cell_type": "markdown",
   "id": "0adb9991",
   "metadata": {},
   "source": [
    "## Concatenate Extractions from different keywords"
   ]
  },
  {
   "cell_type": "code",
   "execution_count": 33,
   "id": "1912839e",
   "metadata": {
    "scrolled": true
   },
   "outputs": [
    {
     "data": {
      "text/plain": [
       "['20221015_lastmonth_all_activiste.xlsx',\n",
       " '20221015_lastmonth_all_biodiversité.xlsx',\n",
       " '20221015_lastmonth_all_changement climatique.xlsx',\n",
       " '20221015_lastmonth_all_décroissance.xlsx',\n",
       " '20221015_lastmonth_all_GIEC.xlsx',\n",
       " '20221015_lastmonth_all_réchauffement climatique.xlsx',\n",
       " '20221015_lastweek_all_sobriété.xlsx',\n",
       " '20221015_lastyear_bfmtv_changement climatique.xlsx']"
      ]
     },
     "execution_count": 33,
     "metadata": {},
     "output_type": "execute_result"
    }
   ],
   "source": [
    "path = 'C:\\\\Users\\\\awasa\\\\Documents\\\\data4good\\\\quota_climat\\\\data\\\\keywords'\n",
    "excel = os.listdir(path)\n",
    "excel"
   ]
  },
  {
   "cell_type": "code",
   "execution_count": 34,
   "id": "0bd03f62",
   "metadata": {
    "scrolled": true
   },
   "outputs": [
    {
     "name": "stdout",
     "output_type": "stream",
     "text": [
      "colonnes:  Index(['CHANNEL', 'RADIO', 'DATE', 'TEXT', 'HIGHLIGHT', 'START CHUNK',\n",
      "       'END CHUNK', 'ORIGIN', 'URL'],\n",
      "      dtype='object')\n",
      "format:  (32073, 9)\n"
     ]
    }
   ],
   "source": [
    "df = pd.DataFrame()\n",
    "for f in excel:\n",
    "    file = pd.read_excel(path+'\\\\'+f)\n",
    "    df = pd.concat([df,file]).reset_index(drop=True)\n",
    "\n",
    "print('colonnes: ',df.columns)\n",
    "print('format: ',df.shape)"
   ]
  },
  {
   "cell_type": "code",
   "execution_count": 35,
   "id": "2fc30605",
   "metadata": {
    "scrolled": true
   },
   "outputs": [
    {
     "name": "stdout",
     "output_type": "stream",
     "text": [
      "nb of duplicates:  215\n",
      "nb of duplicates after drop_duplicates:  0\n"
     ]
    }
   ],
   "source": [
    "# Check duplicates\n",
    "print('nb of duplicates: ', df.duplicated().sum())\n",
    "\n",
    "# Remove duplicates\n",
    "df.drop_duplicates(ignore_index=True, inplace=True)\n",
    "\n",
    "print('nb of duplicates after drop_duplicates: ', df.duplicated().sum())"
   ]
  },
  {
   "cell_type": "code",
   "execution_count": 36,
   "id": "22101158",
   "metadata": {
    "scrolled": true
   },
   "outputs": [
    {
     "name": "stdout",
     "output_type": "stream",
     "text": [
      "<class 'pandas.core.frame.DataFrame'>\n",
      "RangeIndex: 31857 entries, 0 to 31856\n",
      "Data columns (total 9 columns):\n",
      " #   Column       Non-Null Count  Dtype \n",
      "---  ------       --------------  ----- \n",
      " 0   CHANNEL      31857 non-null  object\n",
      " 1   RADIO        31857 non-null  bool  \n",
      " 2   DATE         31857 non-null  object\n",
      " 3   TEXT         31857 non-null  object\n",
      " 4   HIGHLIGHT    31857 non-null  object\n",
      " 5   START CHUNK  31857 non-null  object\n",
      " 6   END CHUNK    31857 non-null  object\n",
      " 7   ORIGIN       31857 non-null  object\n",
      " 8   URL          31857 non-null  object\n",
      "dtypes: bool(1), object(8)\n",
      "memory usage: 2.0+ MB\n"
     ]
    }
   ],
   "source": [
    "df = df.drop(index=557).reset_index(drop=True)\n",
    "\n",
    "#info\n",
    "df.info()"
   ]
  },
  {
   "cell_type": "code",
   "execution_count": 37,
   "id": "2ef05401",
   "metadata": {
    "scrolled": true
   },
   "outputs": [],
   "source": [
    "# mise en forme des champs date et heure\n",
    "\n",
    "df['start_date'] = df['START CHUNK'].apply(lambda x: x.split('T')[0]+' '+x.split('T')[1].replace('-',':'))\n",
    "df['start_date'] = pd.to_datetime(df.start_date)\n",
    "\n",
    "df['end_date'] = df['END CHUNK'].apply(lambda x: x.split('T')[0]+' '+x.split('T')[1].replace('-',':'))\n",
    "df['end_date'] = pd.to_datetime(df.end_date)\n",
    "\n",
    "df['duration'] = df.end_date - df.start_date\n",
    "df['duration'] = df.duration / pd.Timedelta(minutes=1)"
   ]
  },
  {
   "cell_type": "markdown",
   "id": "faa0a714",
   "metadata": {},
   "source": [
    "## Text Preprocessing"
   ]
  },
  {
   "cell_type": "code",
   "execution_count": 38,
   "id": "48bcf930",
   "metadata": {
    "scrolled": true
   },
   "outputs": [
    {
     "data": {
      "text/html": [
       "<div>\n",
       "<style scoped>\n",
       "    .dataframe tbody tr th:only-of-type {\n",
       "        vertical-align: middle;\n",
       "    }\n",
       "\n",
       "    .dataframe tbody tr th {\n",
       "        vertical-align: top;\n",
       "    }\n",
       "\n",
       "    .dataframe thead th {\n",
       "        text-align: right;\n",
       "    }\n",
       "</style>\n",
       "<table border=\"1\" class=\"dataframe\">\n",
       "  <thead>\n",
       "    <tr style=\"text-align: right;\">\n",
       "      <th></th>\n",
       "      <th>CHANNEL</th>\n",
       "      <th>RADIO</th>\n",
       "      <th>DATE</th>\n",
       "      <th>TEXT</th>\n",
       "      <th>HIGHLIGHT</th>\n",
       "      <th>START CHUNK</th>\n",
       "      <th>END CHUNK</th>\n",
       "      <th>ORIGIN</th>\n",
       "      <th>URL</th>\n",
       "      <th>start_date</th>\n",
       "      <th>end_date</th>\n",
       "      <th>duration</th>\n",
       "    </tr>\n",
       "  </thead>\n",
       "  <tbody>\n",
       "    <tr>\n",
       "      <th>0</th>\n",
       "      <td>fbleu-provence</td>\n",
       "      <td>True</td>\n",
       "      <td>2022-10-05T16-20-00</td>\n",
       "      <td>tout est nouveau redessiner le cur vidéo &lt;unk&gt;...</td>\n",
       "      <td>des initiatives vous nous parlez d' un atlas ...</td>\n",
       "      <td>2022-10-05T16-20-00</td>\n",
       "      <td>2022-10-05T16-22-00</td>\n",
       "      <td>s2t</td>\n",
       "      <td>https://keywords.mediatree.fr/player/?fifo=fbl...</td>\n",
       "      <td>2022-10-05 16:20:00</td>\n",
       "      <td>2022-10-05 16:22:00</td>\n",
       "      <td>2.0</td>\n",
       "    </tr>\n",
       "    <tr>\n",
       "      <th>1</th>\n",
       "      <td>euronews</td>\n",
       "      <td>False</td>\n",
       "      <td>2022-09-23T22-36-00</td>\n",
       "      <td>youm une ville reprise par les forces ukrainie...</td>\n",
       "      <td>youm une ville reprise par les forces ukrainie...</td>\n",
       "      <td>2022-09-23T22-36-00</td>\n",
       "      <td>2022-09-23T22-38-00</td>\n",
       "      <td>s2t</td>\n",
       "      <td>https://keywords.mediatree.fr/player/?fifo=eur...</td>\n",
       "      <td>2022-09-23 22:36:00</td>\n",
       "      <td>2022-09-23 22:38:00</td>\n",
       "      <td>2.0</td>\n",
       "    </tr>\n",
       "    <tr>\n",
       "      <th>2</th>\n",
       "      <td>bfmlyon</td>\n",
       "      <td>False</td>\n",
       "      <td>2022-10-11T21-10-00</td>\n",
       "      <td>opposition avec un groupe transpartisan qui a ...</td>\n",
       "      <td>ont été faites pour arriver à ce plan de sobr...</td>\n",
       "      <td>2022-10-11T21-10-00</td>\n",
       "      <td>2022-10-11T21-12-00</td>\n",
       "      <td>s2t</td>\n",
       "      <td>https://keywords.mediatree.fr/player/?fifo=bfm...</td>\n",
       "      <td>2022-10-11 21:10:00</td>\n",
       "      <td>2022-10-11 21:12:00</td>\n",
       "      <td>2.0</td>\n",
       "    </tr>\n",
       "    <tr>\n",
       "      <th>3</th>\n",
       "      <td>itele</td>\n",
       "      <td>False</td>\n",
       "      <td>2022-10-12T09-22-00</td>\n",
       "      <td>bon et a toujours eu à en quatre-vingt quinze ...</td>\n",
       "      <td>insécurité en matière de maintenance sobriété...</td>\n",
       "      <td>2022-10-12T09-22-00</td>\n",
       "      <td>2022-10-12T09-24-00</td>\n",
       "      <td>s2t</td>\n",
       "      <td>https://keywords.mediatree.fr/player/?fifo=ite...</td>\n",
       "      <td>2022-10-12 09:22:00</td>\n",
       "      <td>2022-10-12 09:24:00</td>\n",
       "      <td>2.0</td>\n",
       "    </tr>\n",
       "    <tr>\n",
       "      <th>4</th>\n",
       "      <td>fr3-idf</td>\n",
       "      <td>False</td>\n",
       "      <td>2022-09-15T09-10-00</td>\n",
       "      <td>il et elle sillonne les mers du globe où gravi...</td>\n",
       "      <td>de nos océans biodiversité ou encore rencontr...</td>\n",
       "      <td>2022-09-15T09-10-00</td>\n",
       "      <td>2022-09-15T09-12-00</td>\n",
       "      <td>s2t</td>\n",
       "      <td>https://keywords.mediatree.fr/player/?fifo=fr3...</td>\n",
       "      <td>2022-09-15 09:10:00</td>\n",
       "      <td>2022-09-15 09:12:00</td>\n",
       "      <td>2.0</td>\n",
       "    </tr>\n",
       "  </tbody>\n",
       "</table>\n",
       "</div>"
      ],
      "text/plain": [
       "          CHANNEL  RADIO                 DATE  \\\n",
       "0  fbleu-provence   True  2022-10-05T16-20-00   \n",
       "1        euronews  False  2022-09-23T22-36-00   \n",
       "2         bfmlyon  False  2022-10-11T21-10-00   \n",
       "3           itele  False  2022-10-12T09-22-00   \n",
       "4         fr3-idf  False  2022-09-15T09-10-00   \n",
       "\n",
       "                                                TEXT  \\\n",
       "0  tout est nouveau redessiner le cur vidéo <unk>...   \n",
       "1  youm une ville reprise par les forces ukrainie...   \n",
       "2  opposition avec un groupe transpartisan qui a ...   \n",
       "3  bon et a toujours eu à en quatre-vingt quinze ...   \n",
       "4  il et elle sillonne les mers du globe où gravi...   \n",
       "\n",
       "                                           HIGHLIGHT          START CHUNK  \\\n",
       "0   des initiatives vous nous parlez d' un atlas ...  2022-10-05T16-20-00   \n",
       "1  youm une ville reprise par les forces ukrainie...  2022-09-23T22-36-00   \n",
       "2   ont été faites pour arriver à ce plan de sobr...  2022-10-11T21-10-00   \n",
       "3   insécurité en matière de maintenance sobriété...  2022-10-12T09-22-00   \n",
       "4   de nos océans biodiversité ou encore rencontr...  2022-09-15T09-10-00   \n",
       "\n",
       "             END CHUNK ORIGIN  \\\n",
       "0  2022-10-05T16-22-00    s2t   \n",
       "1  2022-09-23T22-38-00    s2t   \n",
       "2  2022-10-11T21-12-00    s2t   \n",
       "3  2022-10-12T09-24-00    s2t   \n",
       "4  2022-09-15T09-12-00    s2t   \n",
       "\n",
       "                                                 URL          start_date  \\\n",
       "0  https://keywords.mediatree.fr/player/?fifo=fbl... 2022-10-05 16:20:00   \n",
       "1  https://keywords.mediatree.fr/player/?fifo=eur... 2022-09-23 22:36:00   \n",
       "2  https://keywords.mediatree.fr/player/?fifo=bfm... 2022-10-11 21:10:00   \n",
       "3  https://keywords.mediatree.fr/player/?fifo=ite... 2022-10-12 09:22:00   \n",
       "4  https://keywords.mediatree.fr/player/?fifo=fr3... 2022-09-15 09:10:00   \n",
       "\n",
       "             end_date  duration  \n",
       "0 2022-10-05 16:22:00       2.0  \n",
       "1 2022-09-23 22:38:00       2.0  \n",
       "2 2022-10-11 21:12:00       2.0  \n",
       "3 2022-10-12 09:24:00       2.0  \n",
       "4 2022-09-15 09:12:00       2.0  "
      ]
     },
     "execution_count": 38,
     "metadata": {},
     "output_type": "execute_result"
    }
   ],
   "source": [
    "# Take sample of 100 rows for faster processing\n",
    "df_ = df.sample(100).reset_index(drop=True)\n",
    "df_.head()"
   ]
  },
  {
   "cell_type": "code",
   "execution_count": 39,
   "id": "661b6300",
   "metadata": {
    "scrolled": true
   },
   "outputs": [],
   "source": [
    "# Remove '<unk>'\n",
    "df_['clean_text'] = df_.TEXT.apply(lambda x: x.replace('<unk>','').strip())"
   ]
  },
  {
   "cell_type": "code",
   "execution_count": 40,
   "id": "5dc64346",
   "metadata": {
    "scrolled": true
   },
   "outputs": [
    {
     "data": {
      "text/plain": [
       "[{'label': 'Sport', 'score': 0.9970038533210754}]"
      ]
     },
     "execution_count": 40,
     "metadata": {},
     "output_type": "execute_result"
    }
   ],
   "source": [
    "# Import TEXT CLASSIFICATION Transformer\n",
    "\n",
    "from transformers import AutoTokenizer, AutoModelForSequenceClassification\n",
    "from transformers import TextClassificationPipeline\n",
    "\n",
    "model_name = 'lincoln/flaubert-mlsum-topic-classification'\n",
    "\n",
    "loaded_tokenizer = AutoTokenizer.from_pretrained(model_name)\n",
    "loaded_model = AutoModelForSequenceClassification.from_pretrained(model_name)\n",
    "\n",
    "classifier = TextClassificationPipeline(model=loaded_model, tokenizer=loaded_tokenizer)\n",
    "classifier(\"Le Bayern Munich prend la grenadine.\", truncation=True)"
   ]
  },
  {
   "cell_type": "code",
   "execution_count": 41,
   "id": "cf0e01c8",
   "metadata": {
    "scrolled": true
   },
   "outputs": [
    {
     "name": "stdout",
     "output_type": "stream",
     "text": [
      "tout est nouveau, redessiner le cur. vidéo zaz, à l' instant, tout là haut, qui nous emmène tout là haut, sur france bleu, provence, ces dix-huit, france, c' est la provence, une animation à seize heures vingt. nous allons rester ici bas, et c' est pas plus mal, pour s' occuper un petit peu mieux de ce qui nous entoure. evan adeline et dans le tour de france des initiatives, vous nous parlez d' un atlas de la biodiversité qu' on peut réaliser chez nous, en provence, dans nos communes. c' est génial, ça, oui, oui, ils sont déjà plus de deux mille quatre cents villages à avoir initié l' inventaire de leur biodiversité locale. mal, ce qui est souhaite dans ce projet, c' est que les travaux de recensement sont réalisés par les citoyens eux-mêmes, l' un des objectifs étant d' apprendre à connaître la faune et la flore qui vous entoure pour mieux la préserver. c' est une initiative soutenue par l' office français de la biodiversité. elle permet également aux élus locaux de prendre des décisions d' urbanisme, notamment lors de l' implantation d' un parking, d' un lotissement, en tenant compte.\n"
     ]
    }
   ],
   "source": [
    "# import RE PUNCTUATION library\n",
    "\n",
    "from deepmultilingualpunctuation import PunctuationModel\n",
    "\n",
    "sample_text = df_.clean_text[0]\n",
    "model = PunctuationModel()\n",
    "result = model.restore_punctuation(sample_text)\n",
    "print(result)"
   ]
  },
  {
   "cell_type": "code",
   "execution_count": 42,
   "id": "010615ac",
   "metadata": {
    "scrolled": true
   },
   "outputs": [
    {
     "data": {
      "text/plain": [
       "['Tout est nouveau, redessiner le cur',\n",
       " \"Vidéo zaz, à l' instant, tout là haut, qui nous emmène tout là haut, sur france bleu, provence, ces dix-huit, france, c' est la provence, une animation à seize heures vingt\",\n",
       " \"Nous allons rester ici bas, et c' est pas plus mal, pour s' occuper un petit peu mieux de ce qui nous entoure\",\n",
       " \"Evan adeline et dans le tour de france des initiatives, vous nous parlez d' un atlas de la biodiversité qu' on peut réaliser chez nous, en provence, dans nos communes\",\n",
       " \"C' est génial, ça, oui, oui, ils sont déjà plus de deux mille quatre cents villages à avoir initié l' inventaire de leur biodiversité locale\",\n",
       " \"Mal, ce qui est souhaite dans ce projet, c' est que les travaux de recensement sont réalisés par les citoyens eux-mêmes, l' un des objectifs étant d' apprendre à connaître la faune et la flore qui vous entoure pour mieux la préserver\",\n",
       " \"C' est une initiative soutenue par l' office français de la biodiversité\",\n",
       " \"Elle permet également aux élus locaux de prendre des décisions d' urbanisme, notamment lors de l' implantation d' un parking, d' un lotissement, en tenant compte\"]"
      ]
     },
     "execution_count": 42,
     "metadata": {},
     "output_type": "execute_result"
    }
   ],
   "source": [
    "# Apply re-punctuation and split text by sentences\n",
    "df_['clean_text'] = df_.clean_text.apply(lambda x: model.restore_punctuation(x))\n",
    "df_['clean_text'] = df_.clean_text.apply(lambda x: [s.strip().capitalize() for s in x.split(\".\") if len(s.strip()) > 0])\n",
    "df_.clean_text[0]"
   ]
  },
  {
   "cell_type": "code",
   "execution_count": 43,
   "id": "51dc2ca1",
   "metadata": {
    "scrolled": true
   },
   "outputs": [
    {
     "data": {
      "text/html": [
       "<div>\n",
       "<style scoped>\n",
       "    .dataframe tbody tr th:only-of-type {\n",
       "        vertical-align: middle;\n",
       "    }\n",
       "\n",
       "    .dataframe tbody tr th {\n",
       "        vertical-align: top;\n",
       "    }\n",
       "\n",
       "    .dataframe thead th {\n",
       "        text-align: right;\n",
       "    }\n",
       "</style>\n",
       "<table border=\"1\" class=\"dataframe\">\n",
       "  <thead>\n",
       "    <tr style=\"text-align: right;\">\n",
       "      <th></th>\n",
       "      <th>CHANNEL</th>\n",
       "      <th>RADIO</th>\n",
       "      <th>DATE</th>\n",
       "      <th>TEXT</th>\n",
       "      <th>HIGHLIGHT</th>\n",
       "      <th>START CHUNK</th>\n",
       "      <th>END CHUNK</th>\n",
       "      <th>ORIGIN</th>\n",
       "      <th>URL</th>\n",
       "      <th>start_date</th>\n",
       "      <th>end_date</th>\n",
       "      <th>duration</th>\n",
       "      <th>clean_text</th>\n",
       "      <th>topic</th>\n",
       "      <th>score</th>\n",
       "    </tr>\n",
       "  </thead>\n",
       "  <tbody>\n",
       "    <tr>\n",
       "      <th>0</th>\n",
       "      <td>fbleu-provence</td>\n",
       "      <td>True</td>\n",
       "      <td>2022-10-05T16-20-00</td>\n",
       "      <td>tout est nouveau redessiner le cur vidéo &lt;unk&gt;...</td>\n",
       "      <td>des initiatives vous nous parlez d' un atlas ...</td>\n",
       "      <td>2022-10-05T16-20-00</td>\n",
       "      <td>2022-10-05T16-22-00</td>\n",
       "      <td>s2t</td>\n",
       "      <td>https://keywords.mediatree.fr/player/?fifo=fbl...</td>\n",
       "      <td>2022-10-05 16:20:00</td>\n",
       "      <td>2022-10-05 16:22:00</td>\n",
       "      <td>2.0</td>\n",
       "      <td>Tout est nouveau, redessiner le cur</td>\n",
       "      <td>Culture</td>\n",
       "      <td>0.471391</td>\n",
       "    </tr>\n",
       "    <tr>\n",
       "      <th>0</th>\n",
       "      <td>fbleu-provence</td>\n",
       "      <td>True</td>\n",
       "      <td>2022-10-05T16-20-00</td>\n",
       "      <td>tout est nouveau redessiner le cur vidéo &lt;unk&gt;...</td>\n",
       "      <td>des initiatives vous nous parlez d' un atlas ...</td>\n",
       "      <td>2022-10-05T16-20-00</td>\n",
       "      <td>2022-10-05T16-22-00</td>\n",
       "      <td>s2t</td>\n",
       "      <td>https://keywords.mediatree.fr/player/?fifo=fbl...</td>\n",
       "      <td>2022-10-05 16:20:00</td>\n",
       "      <td>2022-10-05 16:22:00</td>\n",
       "      <td>2.0</td>\n",
       "      <td>Vidéo zaz, à l' instant, tout là haut, qui nou...</td>\n",
       "      <td>Culture</td>\n",
       "      <td>0.632358</td>\n",
       "    </tr>\n",
       "    <tr>\n",
       "      <th>0</th>\n",
       "      <td>fbleu-provence</td>\n",
       "      <td>True</td>\n",
       "      <td>2022-10-05T16-20-00</td>\n",
       "      <td>tout est nouveau redessiner le cur vidéo &lt;unk&gt;...</td>\n",
       "      <td>des initiatives vous nous parlez d' un atlas ...</td>\n",
       "      <td>2022-10-05T16-20-00</td>\n",
       "      <td>2022-10-05T16-22-00</td>\n",
       "      <td>s2t</td>\n",
       "      <td>https://keywords.mediatree.fr/player/?fifo=fbl...</td>\n",
       "      <td>2022-10-05 16:20:00</td>\n",
       "      <td>2022-10-05 16:22:00</td>\n",
       "      <td>2.0</td>\n",
       "      <td>Nous allons rester ici bas, et c' est pas plus...</td>\n",
       "      <td>Technologie</td>\n",
       "      <td>0.660138</td>\n",
       "    </tr>\n",
       "    <tr>\n",
       "      <th>0</th>\n",
       "      <td>fbleu-provence</td>\n",
       "      <td>True</td>\n",
       "      <td>2022-10-05T16-20-00</td>\n",
       "      <td>tout est nouveau redessiner le cur vidéo &lt;unk&gt;...</td>\n",
       "      <td>des initiatives vous nous parlez d' un atlas ...</td>\n",
       "      <td>2022-10-05T16-20-00</td>\n",
       "      <td>2022-10-05T16-22-00</td>\n",
       "      <td>s2t</td>\n",
       "      <td>https://keywords.mediatree.fr/player/?fifo=fbl...</td>\n",
       "      <td>2022-10-05 16:20:00</td>\n",
       "      <td>2022-10-05 16:22:00</td>\n",
       "      <td>2.0</td>\n",
       "      <td>Evan adeline et dans le tour de france des ini...</td>\n",
       "      <td>Environement</td>\n",
       "      <td>0.760211</td>\n",
       "    </tr>\n",
       "    <tr>\n",
       "      <th>0</th>\n",
       "      <td>fbleu-provence</td>\n",
       "      <td>True</td>\n",
       "      <td>2022-10-05T16-20-00</td>\n",
       "      <td>tout est nouveau redessiner le cur vidéo &lt;unk&gt;...</td>\n",
       "      <td>des initiatives vous nous parlez d' un atlas ...</td>\n",
       "      <td>2022-10-05T16-20-00</td>\n",
       "      <td>2022-10-05T16-22-00</td>\n",
       "      <td>s2t</td>\n",
       "      <td>https://keywords.mediatree.fr/player/?fifo=fbl...</td>\n",
       "      <td>2022-10-05 16:20:00</td>\n",
       "      <td>2022-10-05 16:22:00</td>\n",
       "      <td>2.0</td>\n",
       "      <td>C' est génial, ça, oui, oui, ils sont déjà plu...</td>\n",
       "      <td>Environement</td>\n",
       "      <td>0.705987</td>\n",
       "    </tr>\n",
       "  </tbody>\n",
       "</table>\n",
       "</div>"
      ],
      "text/plain": [
       "          CHANNEL  RADIO                 DATE  \\\n",
       "0  fbleu-provence   True  2022-10-05T16-20-00   \n",
       "0  fbleu-provence   True  2022-10-05T16-20-00   \n",
       "0  fbleu-provence   True  2022-10-05T16-20-00   \n",
       "0  fbleu-provence   True  2022-10-05T16-20-00   \n",
       "0  fbleu-provence   True  2022-10-05T16-20-00   \n",
       "\n",
       "                                                TEXT  \\\n",
       "0  tout est nouveau redessiner le cur vidéo <unk>...   \n",
       "0  tout est nouveau redessiner le cur vidéo <unk>...   \n",
       "0  tout est nouveau redessiner le cur vidéo <unk>...   \n",
       "0  tout est nouveau redessiner le cur vidéo <unk>...   \n",
       "0  tout est nouveau redessiner le cur vidéo <unk>...   \n",
       "\n",
       "                                           HIGHLIGHT          START CHUNK  \\\n",
       "0   des initiatives vous nous parlez d' un atlas ...  2022-10-05T16-20-00   \n",
       "0   des initiatives vous nous parlez d' un atlas ...  2022-10-05T16-20-00   \n",
       "0   des initiatives vous nous parlez d' un atlas ...  2022-10-05T16-20-00   \n",
       "0   des initiatives vous nous parlez d' un atlas ...  2022-10-05T16-20-00   \n",
       "0   des initiatives vous nous parlez d' un atlas ...  2022-10-05T16-20-00   \n",
       "\n",
       "             END CHUNK ORIGIN  \\\n",
       "0  2022-10-05T16-22-00    s2t   \n",
       "0  2022-10-05T16-22-00    s2t   \n",
       "0  2022-10-05T16-22-00    s2t   \n",
       "0  2022-10-05T16-22-00    s2t   \n",
       "0  2022-10-05T16-22-00    s2t   \n",
       "\n",
       "                                                 URL          start_date  \\\n",
       "0  https://keywords.mediatree.fr/player/?fifo=fbl... 2022-10-05 16:20:00   \n",
       "0  https://keywords.mediatree.fr/player/?fifo=fbl... 2022-10-05 16:20:00   \n",
       "0  https://keywords.mediatree.fr/player/?fifo=fbl... 2022-10-05 16:20:00   \n",
       "0  https://keywords.mediatree.fr/player/?fifo=fbl... 2022-10-05 16:20:00   \n",
       "0  https://keywords.mediatree.fr/player/?fifo=fbl... 2022-10-05 16:20:00   \n",
       "\n",
       "             end_date  duration  \\\n",
       "0 2022-10-05 16:22:00       2.0   \n",
       "0 2022-10-05 16:22:00       2.0   \n",
       "0 2022-10-05 16:22:00       2.0   \n",
       "0 2022-10-05 16:22:00       2.0   \n",
       "0 2022-10-05 16:22:00       2.0   \n",
       "\n",
       "                                          clean_text         topic     score  \n",
       "0                Tout est nouveau, redessiner le cur       Culture  0.471391  \n",
       "0  Vidéo zaz, à l' instant, tout là haut, qui nou...       Culture  0.632358  \n",
       "0  Nous allons rester ici bas, et c' est pas plus...   Technologie  0.660138  \n",
       "0  Evan adeline et dans le tour de france des ini...  Environement  0.760211  \n",
       "0  C' est génial, ça, oui, oui, ils sont déjà plu...  Environement  0.705987  "
      ]
     },
     "execution_count": 43,
     "metadata": {},
     "output_type": "execute_result"
    }
   ],
   "source": [
    "# Explode 'clean_text' to get separate row for each sentence.\n",
    "# Use text classification pipeline to get topic and score for each sentence\n",
    "\n",
    "df_ = df_.explode('clean_text')\n",
    "df_['topic'] = df_.clean_text.apply(lambda x: classifier(x, truncation=True))\n",
    "df_['score'] = df_.topic.apply(lambda x: x[0]['score'])\n",
    "df_['topic'] = df_.topic.apply(lambda x: x[0]['label'])\n",
    "\n",
    "df_.head()"
   ]
  },
  {
   "cell_type": "code",
   "execution_count": 44,
   "id": "c48b052e",
   "metadata": {
    "scrolled": true
   },
   "outputs": [
    {
     "name": "stderr",
     "output_type": "stream",
     "text": [
      "No sentence-transformers model found with name C:\\Users\\awasa/.cache\\torch\\sentence_transformers\\dangvantuan_sentence-camembert-large. Creating a new one with MEAN pooling.\n"
     ]
    }
   ],
   "source": [
    "# Create embeddings for each sentence with sentence transformer\n",
    "\n",
    "from sentence_transformers import SentenceTransformer\n",
    "model = SentenceTransformer(\"dangvantuan/sentence-camembert-large\")\n",
    "\n",
    "df_['embedding'] = df_.clean_text.apply(lambda x: model.encode(x))"
   ]
  },
  {
   "cell_type": "code",
   "execution_count": 45,
   "id": "bd820d5b",
   "metadata": {
    "scrolled": true
   },
   "outputs": [
    {
     "data": {
      "text/html": [
       "<div>\n",
       "<style scoped>\n",
       "    .dataframe tbody tr th:only-of-type {\n",
       "        vertical-align: middle;\n",
       "    }\n",
       "\n",
       "    .dataframe tbody tr th {\n",
       "        vertical-align: top;\n",
       "    }\n",
       "\n",
       "    .dataframe thead th {\n",
       "        text-align: right;\n",
       "    }\n",
       "</style>\n",
       "<table border=\"1\" class=\"dataframe\">\n",
       "  <thead>\n",
       "    <tr style=\"text-align: right;\">\n",
       "      <th></th>\n",
       "      <th>index</th>\n",
       "      <th>total_length</th>\n",
       "    </tr>\n",
       "  </thead>\n",
       "  <tbody>\n",
       "    <tr>\n",
       "      <th>0</th>\n",
       "      <td>0</td>\n",
       "      <td>1088</td>\n",
       "    </tr>\n",
       "    <tr>\n",
       "      <th>1</th>\n",
       "      <td>1</td>\n",
       "      <td>1934</td>\n",
       "    </tr>\n",
       "    <tr>\n",
       "      <th>2</th>\n",
       "      <td>2</td>\n",
       "      <td>2306</td>\n",
       "    </tr>\n",
       "    <tr>\n",
       "      <th>3</th>\n",
       "      <td>3</td>\n",
       "      <td>2255</td>\n",
       "    </tr>\n",
       "    <tr>\n",
       "      <th>4</th>\n",
       "      <td>4</td>\n",
       "      <td>2099</td>\n",
       "    </tr>\n",
       "    <tr>\n",
       "      <th>...</th>\n",
       "      <td>...</td>\n",
       "      <td>...</td>\n",
       "    </tr>\n",
       "    <tr>\n",
       "      <th>95</th>\n",
       "      <td>95</td>\n",
       "      <td>2202</td>\n",
       "    </tr>\n",
       "    <tr>\n",
       "      <th>96</th>\n",
       "      <td>96</td>\n",
       "      <td>2055</td>\n",
       "    </tr>\n",
       "    <tr>\n",
       "      <th>97</th>\n",
       "      <td>97</td>\n",
       "      <td>1862</td>\n",
       "    </tr>\n",
       "    <tr>\n",
       "      <th>98</th>\n",
       "      <td>98</td>\n",
       "      <td>2355</td>\n",
       "    </tr>\n",
       "    <tr>\n",
       "      <th>99</th>\n",
       "      <td>99</td>\n",
       "      <td>2048</td>\n",
       "    </tr>\n",
       "  </tbody>\n",
       "</table>\n",
       "<p>100 rows × 2 columns</p>\n",
       "</div>"
      ],
      "text/plain": [
       "    index  total_length\n",
       "0       0          1088\n",
       "1       1          1934\n",
       "2       2          2306\n",
       "3       3          2255\n",
       "4       4          2099\n",
       "..    ...           ...\n",
       "95     95          2202\n",
       "96     96          2055\n",
       "97     97          1862\n",
       "98     98          2355\n",
       "99     99          2048\n",
       "\n",
       "[100 rows x 2 columns]"
      ]
     },
     "execution_count": 45,
     "metadata": {},
     "output_type": "execute_result"
    }
   ],
   "source": [
    "# Get length of each sentence\n",
    "\n",
    "df_['length'] = df_.clean_text.apply(lambda x: len(x))\n",
    "df_.reset_index(inplace=True)\n",
    "\n",
    "index_length = df_.groupby('index', as_index=False).sum()['length'].reset_index()\n",
    "index_length.columns = ['index','total_length']\n",
    "index_length"
   ]
  },
  {
   "cell_type": "code",
   "execution_count": 46,
   "id": "8d542fd3",
   "metadata": {
    "scrolled": true
   },
   "outputs": [
    {
     "data": {
      "text/html": [
       "<div>\n",
       "<style scoped>\n",
       "    .dataframe tbody tr th:only-of-type {\n",
       "        vertical-align: middle;\n",
       "    }\n",
       "\n",
       "    .dataframe tbody tr th {\n",
       "        vertical-align: top;\n",
       "    }\n",
       "\n",
       "    .dataframe thead th {\n",
       "        text-align: right;\n",
       "    }\n",
       "</style>\n",
       "<table border=\"1\" class=\"dataframe\">\n",
       "  <thead>\n",
       "    <tr style=\"text-align: right;\">\n",
       "      <th></th>\n",
       "      <th>index</th>\n",
       "      <th>CHANNEL</th>\n",
       "      <th>RADIO</th>\n",
       "      <th>DATE</th>\n",
       "      <th>TEXT</th>\n",
       "      <th>HIGHLIGHT</th>\n",
       "      <th>START CHUNK</th>\n",
       "      <th>END CHUNK</th>\n",
       "      <th>ORIGIN</th>\n",
       "      <th>URL</th>\n",
       "      <th>...</th>\n",
       "      <th>end_date</th>\n",
       "      <th>duration</th>\n",
       "      <th>clean_text</th>\n",
       "      <th>topic</th>\n",
       "      <th>score</th>\n",
       "      <th>embedding</th>\n",
       "      <th>length</th>\n",
       "      <th>total_length</th>\n",
       "      <th>%_of_time</th>\n",
       "      <th>duration_topic</th>\n",
       "    </tr>\n",
       "  </thead>\n",
       "  <tbody>\n",
       "    <tr>\n",
       "      <th>0</th>\n",
       "      <td>0</td>\n",
       "      <td>fbleu-provence</td>\n",
       "      <td>True</td>\n",
       "      <td>2022-10-05T16-20-00</td>\n",
       "      <td>tout est nouveau redessiner le cur vidéo &lt;unk&gt;...</td>\n",
       "      <td>des initiatives vous nous parlez d' un atlas ...</td>\n",
       "      <td>2022-10-05T16-20-00</td>\n",
       "      <td>2022-10-05T16-22-00</td>\n",
       "      <td>s2t</td>\n",
       "      <td>https://keywords.mediatree.fr/player/?fifo=fbl...</td>\n",
       "      <td>...</td>\n",
       "      <td>2022-10-05 16:22:00</td>\n",
       "      <td>2.0</td>\n",
       "      <td>Tout est nouveau, redessiner le cur</td>\n",
       "      <td>Culture</td>\n",
       "      <td>0.471391</td>\n",
       "      <td>[-0.34050825, -0.045020536, 0.10515621, -0.296...</td>\n",
       "      <td>35</td>\n",
       "      <td>1088</td>\n",
       "      <td>3.2</td>\n",
       "      <td>6.4</td>\n",
       "    </tr>\n",
       "    <tr>\n",
       "      <th>1</th>\n",
       "      <td>0</td>\n",
       "      <td>fbleu-provence</td>\n",
       "      <td>True</td>\n",
       "      <td>2022-10-05T16-20-00</td>\n",
       "      <td>tout est nouveau redessiner le cur vidéo &lt;unk&gt;...</td>\n",
       "      <td>des initiatives vous nous parlez d' un atlas ...</td>\n",
       "      <td>2022-10-05T16-20-00</td>\n",
       "      <td>2022-10-05T16-22-00</td>\n",
       "      <td>s2t</td>\n",
       "      <td>https://keywords.mediatree.fr/player/?fifo=fbl...</td>\n",
       "      <td>...</td>\n",
       "      <td>2022-10-05 16:22:00</td>\n",
       "      <td>2.0</td>\n",
       "      <td>Vidéo zaz, à l' instant, tout là haut, qui nou...</td>\n",
       "      <td>Culture</td>\n",
       "      <td>0.632358</td>\n",
       "      <td>[-0.014821108, 0.37653404, 0.16810067, 0.35504...</td>\n",
       "      <td>172</td>\n",
       "      <td>1088</td>\n",
       "      <td>15.8</td>\n",
       "      <td>31.6</td>\n",
       "    </tr>\n",
       "    <tr>\n",
       "      <th>2</th>\n",
       "      <td>0</td>\n",
       "      <td>fbleu-provence</td>\n",
       "      <td>True</td>\n",
       "      <td>2022-10-05T16-20-00</td>\n",
       "      <td>tout est nouveau redessiner le cur vidéo &lt;unk&gt;...</td>\n",
       "      <td>des initiatives vous nous parlez d' un atlas ...</td>\n",
       "      <td>2022-10-05T16-20-00</td>\n",
       "      <td>2022-10-05T16-22-00</td>\n",
       "      <td>s2t</td>\n",
       "      <td>https://keywords.mediatree.fr/player/?fifo=fbl...</td>\n",
       "      <td>...</td>\n",
       "      <td>2022-10-05 16:22:00</td>\n",
       "      <td>2.0</td>\n",
       "      <td>Nous allons rester ici bas, et c' est pas plus...</td>\n",
       "      <td>Technologie</td>\n",
       "      <td>0.660138</td>\n",
       "      <td>[-0.062644646, -0.07485832, 0.4002879, -0.1496...</td>\n",
       "      <td>109</td>\n",
       "      <td>1088</td>\n",
       "      <td>10.0</td>\n",
       "      <td>20.0</td>\n",
       "    </tr>\n",
       "    <tr>\n",
       "      <th>3</th>\n",
       "      <td>0</td>\n",
       "      <td>fbleu-provence</td>\n",
       "      <td>True</td>\n",
       "      <td>2022-10-05T16-20-00</td>\n",
       "      <td>tout est nouveau redessiner le cur vidéo &lt;unk&gt;...</td>\n",
       "      <td>des initiatives vous nous parlez d' un atlas ...</td>\n",
       "      <td>2022-10-05T16-20-00</td>\n",
       "      <td>2022-10-05T16-22-00</td>\n",
       "      <td>s2t</td>\n",
       "      <td>https://keywords.mediatree.fr/player/?fifo=fbl...</td>\n",
       "      <td>...</td>\n",
       "      <td>2022-10-05 16:22:00</td>\n",
       "      <td>2.0</td>\n",
       "      <td>Evan adeline et dans le tour de france des ini...</td>\n",
       "      <td>Environement</td>\n",
       "      <td>0.760211</td>\n",
       "      <td>[-0.23860705, 0.08348947, -0.09967969, 0.13456...</td>\n",
       "      <td>166</td>\n",
       "      <td>1088</td>\n",
       "      <td>15.3</td>\n",
       "      <td>30.6</td>\n",
       "    </tr>\n",
       "    <tr>\n",
       "      <th>4</th>\n",
       "      <td>0</td>\n",
       "      <td>fbleu-provence</td>\n",
       "      <td>True</td>\n",
       "      <td>2022-10-05T16-20-00</td>\n",
       "      <td>tout est nouveau redessiner le cur vidéo &lt;unk&gt;...</td>\n",
       "      <td>des initiatives vous nous parlez d' un atlas ...</td>\n",
       "      <td>2022-10-05T16-20-00</td>\n",
       "      <td>2022-10-05T16-22-00</td>\n",
       "      <td>s2t</td>\n",
       "      <td>https://keywords.mediatree.fr/player/?fifo=fbl...</td>\n",
       "      <td>...</td>\n",
       "      <td>2022-10-05 16:22:00</td>\n",
       "      <td>2.0</td>\n",
       "      <td>C' est génial, ça, oui, oui, ils sont déjà plu...</td>\n",
       "      <td>Environement</td>\n",
       "      <td>0.705987</td>\n",
       "      <td>[-0.03125396, -0.26751557, 0.047921114, -0.655...</td>\n",
       "      <td>140</td>\n",
       "      <td>1088</td>\n",
       "      <td>12.9</td>\n",
       "      <td>25.8</td>\n",
       "    </tr>\n",
       "  </tbody>\n",
       "</table>\n",
       "<p>5 rows × 21 columns</p>\n",
       "</div>"
      ],
      "text/plain": [
       "   index         CHANNEL  RADIO                 DATE  \\\n",
       "0      0  fbleu-provence   True  2022-10-05T16-20-00   \n",
       "1      0  fbleu-provence   True  2022-10-05T16-20-00   \n",
       "2      0  fbleu-provence   True  2022-10-05T16-20-00   \n",
       "3      0  fbleu-provence   True  2022-10-05T16-20-00   \n",
       "4      0  fbleu-provence   True  2022-10-05T16-20-00   \n",
       "\n",
       "                                                TEXT  \\\n",
       "0  tout est nouveau redessiner le cur vidéo <unk>...   \n",
       "1  tout est nouveau redessiner le cur vidéo <unk>...   \n",
       "2  tout est nouveau redessiner le cur vidéo <unk>...   \n",
       "3  tout est nouveau redessiner le cur vidéo <unk>...   \n",
       "4  tout est nouveau redessiner le cur vidéo <unk>...   \n",
       "\n",
       "                                           HIGHLIGHT          START CHUNK  \\\n",
       "0   des initiatives vous nous parlez d' un atlas ...  2022-10-05T16-20-00   \n",
       "1   des initiatives vous nous parlez d' un atlas ...  2022-10-05T16-20-00   \n",
       "2   des initiatives vous nous parlez d' un atlas ...  2022-10-05T16-20-00   \n",
       "3   des initiatives vous nous parlez d' un atlas ...  2022-10-05T16-20-00   \n",
       "4   des initiatives vous nous parlez d' un atlas ...  2022-10-05T16-20-00   \n",
       "\n",
       "             END CHUNK ORIGIN  \\\n",
       "0  2022-10-05T16-22-00    s2t   \n",
       "1  2022-10-05T16-22-00    s2t   \n",
       "2  2022-10-05T16-22-00    s2t   \n",
       "3  2022-10-05T16-22-00    s2t   \n",
       "4  2022-10-05T16-22-00    s2t   \n",
       "\n",
       "                                                 URL  ...            end_date  \\\n",
       "0  https://keywords.mediatree.fr/player/?fifo=fbl...  ... 2022-10-05 16:22:00   \n",
       "1  https://keywords.mediatree.fr/player/?fifo=fbl...  ... 2022-10-05 16:22:00   \n",
       "2  https://keywords.mediatree.fr/player/?fifo=fbl...  ... 2022-10-05 16:22:00   \n",
       "3  https://keywords.mediatree.fr/player/?fifo=fbl...  ... 2022-10-05 16:22:00   \n",
       "4  https://keywords.mediatree.fr/player/?fifo=fbl...  ... 2022-10-05 16:22:00   \n",
       "\n",
       "  duration                                         clean_text         topic  \\\n",
       "0      2.0                Tout est nouveau, redessiner le cur       Culture   \n",
       "1      2.0  Vidéo zaz, à l' instant, tout là haut, qui nou...       Culture   \n",
       "2      2.0  Nous allons rester ici bas, et c' est pas plus...   Technologie   \n",
       "3      2.0  Evan adeline et dans le tour de france des ini...  Environement   \n",
       "4      2.0  C' est génial, ça, oui, oui, ils sont déjà plu...  Environement   \n",
       "\n",
       "      score                                          embedding length  \\\n",
       "0  0.471391  [-0.34050825, -0.045020536, 0.10515621, -0.296...     35   \n",
       "1  0.632358  [-0.014821108, 0.37653404, 0.16810067, 0.35504...    172   \n",
       "2  0.660138  [-0.062644646, -0.07485832, 0.4002879, -0.1496...    109   \n",
       "3  0.760211  [-0.23860705, 0.08348947, -0.09967969, 0.13456...    166   \n",
       "4  0.705987  [-0.03125396, -0.26751557, 0.047921114, -0.655...    140   \n",
       "\n",
       "   total_length  %_of_time  duration_topic  \n",
       "0          1088        3.2             6.4  \n",
       "1          1088       15.8            31.6  \n",
       "2          1088       10.0            20.0  \n",
       "3          1088       15.3            30.6  \n",
       "4          1088       12.9            25.8  \n",
       "\n",
       "[5 rows x 21 columns]"
      ]
     },
     "execution_count": 46,
     "metadata": {},
     "output_type": "execute_result"
    }
   ],
   "source": [
    "# Calculate the time dedicated for each sentence \n",
    "# determine % of time used for each sentence, then multiply % of time by total duration)\n",
    "\n",
    "df_ = df_.merge(index_length, how='left')\n",
    "df_['%_of_time'] = (df_.length/df_.total_length*100).round(1)\n",
    "df_['duration_topic'] = df_.duration * df_['%_of_time']\n",
    "df_.head()"
   ]
  },
  {
   "cell_type": "code",
   "execution_count": 47,
   "id": "3734bc3e",
   "metadata": {
    "scrolled": true
   },
   "outputs": [
    {
     "data": {
      "text/plain": [
       "427"
      ]
     },
     "execution_count": 47,
     "metadata": {},
     "output_type": "execute_result"
    }
   ],
   "source": [
    "# Only keep rows with topic Environment\n",
    "\n",
    "df_env = df_[df_.topic=='Environement'].reset_index(drop=True)\n",
    "\n",
    "embeddings = np.stack(df_env.embedding)\n",
    "len(embeddings)"
   ]
  },
  {
   "cell_type": "markdown",
   "id": "d8224b51",
   "metadata": {},
   "source": [
    "## Clustering "
   ]
  },
  {
   "cell_type": "code",
   "execution_count": 48,
   "id": "d856aa71",
   "metadata": {
    "scrolled": true
   },
   "outputs": [
    {
     "data": {
      "image/png": "[encoded data removed]",
      "text/plain": [
       "<Figure size 1080x360 with 1 Axes>"
      ]
     },
     "metadata": {
      "needs_background": "light"
     },
     "output_type": "display_data"
    }
   ],
   "source": [
    "# Elbow Method to identify number of topics\n",
    "\n",
    "from sklearn.cluster import KMeans\n",
    "\n",
    "wcss = []\n",
    "for i in range(1,20):\n",
    "    kmeans = KMeans(n_clusters=i, init=\"k-means++\", random_state=0)\n",
    "    kmeans.fit(embeddings)\n",
    "    wcss.append([i, kmeans.inertia_])\n",
    "\n",
    "title = 'Elbow method'\n",
    "pd.DataFrame(wcss, columns=['n_cluster', 'inertia']).set_index('n_cluster').plot(figsize=(15,5), title=title);"
   ]
  },
  {
   "cell_type": "code",
   "execution_count": 49,
   "id": "645d59c8",
   "metadata": {
    "scrolled": true
   },
   "outputs": [],
   "source": [
    "# Apply KMeans clustering algorithm and assign cluster to each row of dataframe\n",
    "\n",
    "from sklearn.cluster import KMeans\n",
    "clustering_model = KMeans(n_clusters=7, random_state=0)\n",
    "clustering_model.fit(embeddings)\n",
    "cluster_assignment = clustering_model.labels_\n",
    "df_env['cluster'] = cluster_assignment\n",
    "df_env['cluster_'] = df_env.cluster.apply(lambda x: 'cluster_' + str(x))"
   ]
  },
  {
   "cell_type": "markdown",
   "id": "e68d7d91",
   "metadata": {},
   "source": [
    "## Text Lemmatization"
   ]
  },
  {
   "cell_type": "code",
   "execution_count": 50,
   "id": "c0d15907",
   "metadata": {
    "scrolled": true
   },
   "outputs": [],
   "source": [
    "import string\n",
    "\n",
    "df_env['lemmas'] = df_env.clean_text.apply(lambda x: ''.join(e.lower() for e in x if e not in string.punctuation))\n",
    "df_env['lemmas'] = df_env.lemmas.apply(lambda x: ' '.join(token.lemma_ for token in nlp(x) if (token.lemma_ not in STOP_WORDS) and len(token)>1))"
   ]
  },
  {
   "cell_type": "markdown",
   "id": "e2ad32e5",
   "metadata": {},
   "source": [
    "## Word Cloud to check main words in each Cluster"
   ]
  },
  {
   "cell_type": "code",
   "execution_count": 51,
   "id": "fffb7ec5",
   "metadata": {
    "scrolled": false
   },
   "outputs": [
    {
     "data": {
      "image/png": "[encoded data removed]",
      "text/plain": [
       "<Figure size 432x288 with 1 Axes>"
      ]
     },
     "metadata": {
      "needs_background": "light"
     },
     "output_type": "display_data"
    },
    {
     "data": {
      "image/png": "[encoded data removed]",
      "text/plain": [
       "<Figure size 432x288 with 1 Axes>"
      ]
     },
     "metadata": {
      "needs_background": "light"
     },
     "output_type": "display_data"
    },
    {
     "data": {
      "image/png": "[encoded data removed]",
      "text/plain": [
       "<Figure size 432x288 with 1 Axes>"
      ]
     },
     "metadata": {
      "needs_background": "light"
     },
     "output_type": "display_data"
    },
    {
     "data": {
      "image/png": "[encoded data removed]",
      "text/plain": [
       "<Figure size 432x288 with 1 Axes>"
      ]
     },
     "metadata": {
      "needs_background": "light"
     },
     "output_type": "display_data"
    },
    {
     "data": {
      "image/png": "[encoded data removed]",
      "text/plain": [
       "<Figure size 432x288 with 1 Axes>"
      ]
     },
     "metadata": {
      "needs_background": "light"
     },
     "output_type": "display_data"
    },
    {
     "data": {
      "image/png": "[encoded data removed]",
      "text/plain": [
       "<Figure size 432x288 with 1 Axes>"
      ]
     },
     "metadata": {
      "needs_background": "light"
     },
     "output_type": "display_data"
    },
    {
     "data": {
      "image/png": "[encoded data removed]",
      "text/plain": [
       "<Figure size 432x288 with 1 Axes>"
      ]
     },
     "metadata": {
      "needs_background": "light"
     },
     "output_type": "display_data"
    }
   ],
   "source": [
    "from wordcloud import WordCloud\n",
    "import matplotlib.pyplot as plt\n",
    "STOP_WORDS.union(['euh','l'])\n",
    "\n",
    "for cluster in df_env.cluster_.unique():\n",
    "  news = df_env[df_env.cluster_ == cluster]\n",
    "  doc = ' '.join(e for e in news.lemmas)\n",
    "  wordcloud = WordCloud(stopwords=STOP_WORDS).generate(doc)\n",
    "\n",
    "  plt.imshow(wordcloud)\n",
    "  plt.axis(\"off\")\n",
    "  plt.title(cluster)\n",
    "  plt.show()"
   ]
  },
  {
   "cell_type": "markdown",
   "id": "eac59d2f",
   "metadata": {},
   "source": [
    "## Calculate Statistics for Analysis "
   ]
  },
  {
   "cell_type": "code",
   "execution_count": 52,
   "id": "8fd51d28",
   "metadata": {
    "scrolled": true
   },
   "outputs": [
    {
     "data": {
      "text/html": [
       "<div>\n",
       "<style scoped>\n",
       "    .dataframe tbody tr th:only-of-type {\n",
       "        vertical-align: middle;\n",
       "    }\n",
       "\n",
       "    .dataframe tbody tr th {\n",
       "        vertical-align: top;\n",
       "    }\n",
       "\n",
       "    .dataframe thead th {\n",
       "        text-align: right;\n",
       "    }\n",
       "</style>\n",
       "<table border=\"1\" class=\"dataframe\">\n",
       "  <thead>\n",
       "    <tr style=\"text-align: right;\">\n",
       "      <th></th>\n",
       "      <th>channel</th>\n",
       "      <th>media</th>\n",
       "      <th>duration</th>\n",
       "      <th>frequency</th>\n",
       "      <th>nb_topics</th>\n",
       "    </tr>\n",
       "  </thead>\n",
       "  <tbody>\n",
       "    <tr>\n",
       "      <th>0</th>\n",
       "      <td>8-mont-blanc</td>\n",
       "      <td>TV</td>\n",
       "      <td>103.2</td>\n",
       "      <td>7</td>\n",
       "      <td>1</td>\n",
       "    </tr>\n",
       "    <tr>\n",
       "      <th>1</th>\n",
       "      <td>arte</td>\n",
       "      <td>TV</td>\n",
       "      <td>26.6</td>\n",
       "      <td>2</td>\n",
       "      <td>2</td>\n",
       "    </tr>\n",
       "    <tr>\n",
       "      <th>2</th>\n",
       "      <td>bergerac</td>\n",
       "      <td>Radio</td>\n",
       "      <td>35.6</td>\n",
       "      <td>2</td>\n",
       "      <td>2</td>\n",
       "    </tr>\n",
       "    <tr>\n",
       "      <th>3</th>\n",
       "      <td>bfmgrandlittoral-edd</td>\n",
       "      <td>TV</td>\n",
       "      <td>31.0</td>\n",
       "      <td>2</td>\n",
       "      <td>2</td>\n",
       "    </tr>\n",
       "    <tr>\n",
       "      <th>4</th>\n",
       "      <td>bfmlyon</td>\n",
       "      <td>TV</td>\n",
       "      <td>63.4</td>\n",
       "      <td>5</td>\n",
       "      <td>3</td>\n",
       "    </tr>\n",
       "    <tr>\n",
       "      <th>...</th>\n",
       "      <td>...</td>\n",
       "      <td>...</td>\n",
       "      <td>...</td>\n",
       "      <td>...</td>\n",
       "      <td>...</td>\n",
       "    </tr>\n",
       "    <tr>\n",
       "      <th>61</th>\n",
       "      <td>telenantes</td>\n",
       "      <td>TV</td>\n",
       "      <td>201.6</td>\n",
       "      <td>18</td>\n",
       "      <td>5</td>\n",
       "    </tr>\n",
       "    <tr>\n",
       "      <th>62</th>\n",
       "      <td>tv-tours</td>\n",
       "      <td>TV</td>\n",
       "      <td>183.0</td>\n",
       "      <td>9</td>\n",
       "      <td>4</td>\n",
       "    </tr>\n",
       "    <tr>\n",
       "      <th>63</th>\n",
       "      <td>tv5</td>\n",
       "      <td>TV</td>\n",
       "      <td>16.4</td>\n",
       "      <td>1</td>\n",
       "      <td>1</td>\n",
       "    </tr>\n",
       "    <tr>\n",
       "      <th>64</th>\n",
       "      <td>vfm</td>\n",
       "      <td>Radio</td>\n",
       "      <td>74.2</td>\n",
       "      <td>5</td>\n",
       "      <td>3</td>\n",
       "    </tr>\n",
       "    <tr>\n",
       "      <th>65</th>\n",
       "      <td>viaoccitanie-edd</td>\n",
       "      <td>TV</td>\n",
       "      <td>101.2</td>\n",
       "      <td>10</td>\n",
       "      <td>3</td>\n",
       "    </tr>\n",
       "  </tbody>\n",
       "</table>\n",
       "<p>66 rows × 5 columns</p>\n",
       "</div>"
      ],
      "text/plain": [
       "                 channel  media  duration  frequency  nb_topics\n",
       "0           8-mont-blanc     TV     103.2          7          1\n",
       "1                   arte     TV      26.6          2          2\n",
       "2               bergerac  Radio      35.6          2          2\n",
       "3   bfmgrandlittoral-edd     TV      31.0          2          2\n",
       "4                bfmlyon     TV      63.4          5          3\n",
       "..                   ...    ...       ...        ...        ...\n",
       "61            telenantes     TV     201.6         18          5\n",
       "62              tv-tours     TV     183.0          9          4\n",
       "63                   tv5     TV      16.4          1          1\n",
       "64                   vfm  Radio      74.2          5          3\n",
       "65      viaoccitanie-edd     TV     101.2         10          3\n",
       "\n",
       "[66 rows x 5 columns]"
      ]
     },
     "execution_count": 52,
     "metadata": {},
     "output_type": "execute_result"
    }
   ],
   "source": [
    "stats = df_env.groupby(['CHANNEL','RADIO'], as_index=False).agg({'duration_topic':'sum','START CHUNK':'count','cluster_':'nunique'})\n",
    "stats.columns = ['channel','media','duration','frequency', 'nb_topics']\n",
    "stats['media'] = stats.media.map({True:'Radio',False:'TV'})\n",
    "stats"
   ]
  },
  {
   "cell_type": "code",
   "execution_count": 53,
   "id": "af280212",
   "metadata": {
    "scrolled": false
   },
   "outputs": [
    {
     "data": {
      "application/vnd.plotly.v1+json": {
       "config": {
        "plotlyServerURL": "https://plot.ly"
       },
       "data": [
        {
         "hovertemplate": "<b>%{hovertext}</b><br><br>channel=8-mont-blanc<br>nb_topics=%{x}<br>frequency=%{y}<br>duration=%{marker.size}<extra></extra>",
         "hovertext": [
          "8-mont-blanc"
         ],
         "legendgroup": "8-mont-blanc",
         "marker": {
          "color": "#636efa",
          "size": [
           103.2
          ],
          "sizemode": "area",
          "sizeref": 0.13116666666666665,
          "symbol": "circle"
         },
         "mode": "markers",
         "name": "8-mont-blanc",
         "orientation": "v",
         "showlegend": true,
         "type": "scatter",
         "x": [
          1
         ],
         "xaxis": "x",
         "y": [
          7
         ],
         "yaxis": "y"
        },
        {
         "hovertemplate": "<b>%{hovertext}</b><br><br>channel=arte<br>nb_topics=%{x}<br>frequency=%{y}<br>duration=%{marker.size}<extra></extra>",
         "hovertext": [
          "arte"
         ],
         "legendgroup": "arte",
         "marker": {
          "color": "#EF553B",
          "size": [
           26.6
          ],
          "sizemode": "area",
          "sizeref": 0.13116666666666665,
          "symbol": "circle"
         },
         "mode": "markers",
         "name": "arte",
         "orientation": "v",
         "showlegend": true,
         "type": "scatter",
         "x": [
          2
         ],
         "xaxis": "x",
         "y": [
          2
         ],
         "yaxis": "y"
        },
        {
         "hovertemplate": "<b>%{hovertext}</b><br><br>channel=bergerac<br>nb_topics=%{x}<br>frequency=%{y}<br>duration=%{marker.size}<extra></extra>",
         "hovertext": [
          "bergerac"
         ],
         "legendgroup": "bergerac",
         "marker": {
          "color": "#00cc96",
          "size": [
           35.599999999999994
          ],
          "sizemode": "area",
          "sizeref": 0.13116666666666665,
          "symbol": "circle"
         },
         "mode": "markers",
         "name": "bergerac",
         "orientation": "v",
         "showlegend": true,
         "type": "scatter",
         "x": [
          2
         ],
         "xaxis": "x",
         "y": [
          2
         ],
         "yaxis": "y"
        },
        {
         "hovertemplate": "<b>%{hovertext}</b><br><br>channel=bfmgrandlittoral-edd<br>nb_topics=%{x}<br>frequency=%{y}<br>duration=%{marker.size}<extra></extra>",
         "hovertext": [
          "bfmgrandlittoral-edd"
         ],
         "legendgroup": "bfmgrandlittoral-edd",
         "marker": {
          "color": "#ab63fa",
          "size": [
           31
          ],
          "sizemode": "area",
          "sizeref": 0.13116666666666665,
          "symbol": "circle"
         },
         "mode": "markers",
         "name": "bfmgrandlittoral-edd",
         "orientation": "v",
         "showlegend": true,
         "type": "scatter",
         "x": [
          2
         ],
         "xaxis": "x",
         "y": [
          2
         ],
         "yaxis": "y"
        },
        {
         "hovertemplate": "<b>%{hovertext}</b><br><br>channel=bfmlyon<br>nb_topics=%{x}<br>frequency=%{y}<br>duration=%{marker.size}<extra></extra>",
         "hovertext": [
          "bfmlyon"
         ],
         "legendgroup": "bfmlyon",
         "marker": {
          "color": "#FFA15A",
          "size": [
           63.4
          ],
          "sizemode": "area",
          "sizeref": 0.13116666666666665,
          "symbol": "circle"
         },
         "mode": "markers",
         "name": "bfmlyon",
         "orientation": "v",
         "showlegend": true,
         "type": "scatter",
         "x": [
          3
         ],
         "xaxis": "x",
         "y": [
          5
         ],
         "yaxis": "y"
        },
        {
         "hovertemplate": "<b>%{hovertext}</b><br><br>channel=bfmtv<br>nb_topics=%{x}<br>frequency=%{y}<br>duration=%{marker.size}<extra></extra>",
         "hovertext": [
          "bfmtv"
         ],
         "legendgroup": "bfmtv",
         "marker": {
          "color": "#19d3f3",
          "size": [
           228
          ],
          "sizemode": "area",
          "sizeref": 0.13116666666666665,
          "symbol": "circle"
         },
         "mode": "markers",
         "name": "bfmtv",
         "orientation": "v",
         "showlegend": true,
         "type": "scatter",
         "x": [
          5
         ],
         "xaxis": "x",
         "y": [
          20
         ],
         "yaxis": "y"
        },
        {
         "hovertemplate": "<b>%{hovertext}</b><br><br>channel=bsmart-edd<br>nb_topics=%{x}<br>frequency=%{y}<br>duration=%{marker.size}<extra></extra>",
         "hovertext": [
          "bsmart-edd"
         ],
         "legendgroup": "bsmart-edd",
         "marker": {
          "color": "#FF6692",
          "size": [
           37.8
          ],
          "sizemode": "area",
          "sizeref": 0.13116666666666665,
          "symbol": "circle"
         },
         "mode": "markers",
         "name": "bsmart-edd",
         "orientation": "v",
         "showlegend": true,
         "type": "scatter",
         "x": [
          1
         ],
         "xaxis": "x",
         "y": [
          2
         ],
         "yaxis": "y"
        },
        {
         "hovertemplate": "<b>%{hovertext}</b><br><br>channel=bull<br>nb_topics=%{x}<br>frequency=%{y}<br>duration=%{marker.size}<extra></extra>",
         "hovertext": [
          "bull"
         ],
         "legendgroup": "bull",
         "marker": {
          "color": "#B6E880",
          "size": [
           81
          ],
          "sizemode": "area",
          "sizeref": 0.13116666666666665,
          "symbol": "circle"
         },
         "mode": "markers",
         "name": "bull",
         "orientation": "v",
         "showlegend": true,
         "type": "scatter",
         "x": [
          3
         ],
         "xaxis": "x",
         "y": [
          5
         ],
         "yaxis": "y"
        },
        {
         "hovertemplate": "<b>%{hovertext}</b><br><br>channel=cheriefmrouen-edd<br>nb_topics=%{x}<br>frequency=%{y}<br>duration=%{marker.size}<extra></extra>",
         "hovertext": [
          "cheriefmrouen-edd"
         ],
         "legendgroup": "cheriefmrouen-edd",
         "marker": {
          "color": "#FF97FF",
          "size": [
           24
          ],
          "sizemode": "area",
          "sizeref": 0.13116666666666665,
          "symbol": "circle"
         },
         "mode": "markers",
         "name": "cheriefmrouen-edd",
         "orientation": "v",
         "showlegend": true,
         "type": "scatter",
         "x": [
          1
         ],
         "xaxis": "x",
         "y": [
          1
         ],
         "yaxis": "y"
        },
        {
         "hovertemplate": "<b>%{hovertext}</b><br><br>channel=dci<br>nb_topics=%{x}<br>frequency=%{y}<br>duration=%{marker.size}<extra></extra>",
         "hovertext": [
          "dci"
         ],
         "legendgroup": "dci",
         "marker": {
          "color": "#FECB52",
          "size": [
           205.6
          ],
          "sizemode": "area",
          "sizeref": 0.13116666666666665,
          "symbol": "circle"
         },
         "mode": "markers",
         "name": "dci",
         "orientation": "v",
         "showlegend": true,
         "type": "scatter",
         "x": [
          5
         ],
         "xaxis": "x",
         "y": [
          15
         ],
         "yaxis": "y"
        },
        {
         "hovertemplate": "<b>%{hovertext}</b><br><br>channel=euronews<br>nb_topics=%{x}<br>frequency=%{y}<br>duration=%{marker.size}<extra></extra>",
         "hovertext": [
          "euronews"
         ],
         "legendgroup": "euronews",
         "marker": {
          "color": "#636efa",
          "size": [
           144
          ],
          "sizemode": "area",
          "sizeref": 0.13116666666666665,
          "symbol": "circle"
         },
         "mode": "markers",
         "name": "euronews",
         "orientation": "v",
         "showlegend": true,
         "type": "scatter",
         "x": [
          3
         ],
         "xaxis": "x",
         "y": [
          8
         ],
         "yaxis": "y"
        },
        {
         "hovertemplate": "<b>%{hovertext}</b><br><br>channel=euroradio-nantes<br>nb_topics=%{x}<br>frequency=%{y}<br>duration=%{marker.size}<extra></extra>",
         "hovertext": [
          "euroradio-nantes"
         ],
         "legendgroup": "euroradio-nantes",
         "marker": {
          "color": "#EF553B",
          "size": [
           357
          ],
          "sizemode": "area",
          "sizeref": 0.13116666666666665,
          "symbol": "circle"
         },
         "mode": "markers",
         "name": "euroradio-nantes",
         "orientation": "v",
         "showlegend": true,
         "type": "scatter",
         "x": [
          3
         ],
         "xaxis": "x",
         "y": [
          22
         ],
         "yaxis": "y"
        },
        {
         "hovertemplate": "<b>%{hovertext}</b><br><br>channel=fbleu-alsace<br>nb_topics=%{x}<br>frequency=%{y}<br>duration=%{marker.size}<extra></extra>",
         "hovertext": [
          "fbleu-alsace"
         ],
         "legendgroup": "fbleu-alsace",
         "marker": {
          "color": "#00cc96",
          "size": [
           27.4
          ],
          "sizemode": "area",
          "sizeref": 0.13116666666666665,
          "symbol": "circle"
         },
         "mode": "markers",
         "name": "fbleu-alsace",
         "orientation": "v",
         "showlegend": true,
         "type": "scatter",
         "x": [
          1
         ],
         "xaxis": "x",
         "y": [
          1
         ],
         "yaxis": "y"
        },
        {
         "hovertemplate": "<b>%{hovertext}</b><br><br>channel=fbleu-auvergne<br>nb_topics=%{x}<br>frequency=%{y}<br>duration=%{marker.size}<extra></extra>",
         "hovertext": [
          "fbleu-auvergne"
         ],
         "legendgroup": "fbleu-auvergne",
         "marker": {
          "color": "#ab63fa",
          "size": [
           177.6
          ],
          "sizemode": "area",
          "sizeref": 0.13116666666666665,
          "symbol": "circle"
         },
         "mode": "markers",
         "name": "fbleu-auvergne",
         "orientation": "v",
         "showlegend": true,
         "type": "scatter",
         "x": [
          5
         ],
         "xaxis": "x",
         "y": [
          13
         ],
         "yaxis": "y"
        },
        {
         "hovertemplate": "<b>%{hovertext}</b><br><br>channel=fbleu-auxerre-edd<br>nb_topics=%{x}<br>frequency=%{y}<br>duration=%{marker.size}<extra></extra>",
         "hovertext": [
          "fbleu-auxerre-edd"
         ],
         "legendgroup": "fbleu-auxerre-edd",
         "marker": {
          "color": "#FFA15A",
          "size": [
           63.2
          ],
          "sizemode": "area",
          "sizeref": 0.13116666666666665,
          "symbol": "circle"
         },
         "mode": "markers",
         "name": "fbleu-auxerre-edd",
         "orientation": "v",
         "showlegend": true,
         "type": "scatter",
         "x": [
          3
         ],
         "xaxis": "x",
         "y": [
          3
         ],
         "yaxis": "y"
        },
        {
         "hovertemplate": "<b>%{hovertext}</b><br><br>channel=fbleu-creuse-edd<br>nb_topics=%{x}<br>frequency=%{y}<br>duration=%{marker.size}<extra></extra>",
         "hovertext": [
          "fbleu-creuse-edd"
         ],
         "legendgroup": "fbleu-creuse-edd",
         "marker": {
          "color": "#19d3f3",
          "size": [
           26.2
          ],
          "sizemode": "area",
          "sizeref": 0.13116666666666665,
          "symbol": "circle"
         },
         "mode": "markers",
         "name": "fbleu-creuse-edd",
         "orientation": "v",
         "showlegend": true,
         "type": "scatter",
         "x": [
          2
         ],
         "xaxis": "x",
         "y": [
          4
         ],
         "yaxis": "y"
        },
        {
         "hovertemplate": "<b>%{hovertext}</b><br><br>channel=fbleu-gascogne-edd<br>nb_topics=%{x}<br>frequency=%{y}<br>duration=%{marker.size}<extra></extra>",
         "hovertext": [
          "fbleu-gascogne-edd"
         ],
         "legendgroup": "fbleu-gascogne-edd",
         "marker": {
          "color": "#FF6692",
          "size": [
           117.19999999999999
          ],
          "sizemode": "area",
          "sizeref": 0.13116666666666665,
          "symbol": "circle"
         },
         "mode": "markers",
         "name": "fbleu-gascogne-edd",
         "orientation": "v",
         "showlegend": true,
         "type": "scatter",
         "x": [
          3
         ],
         "xaxis": "x",
         "y": [
          10
         ],
         "yaxis": "y"
        },
        {
         "hovertemplate": "<b>%{hovertext}</b><br><br>channel=fbleu-h-normandie<br>nb_topics=%{x}<br>frequency=%{y}<br>duration=%{marker.size}<extra></extra>",
         "hovertext": [
          "fbleu-h-normandie"
         ],
         "legendgroup": "fbleu-h-normandie",
         "marker": {
          "color": "#B6E880",
          "size": [
           37
          ],
          "sizemode": "area",
          "sizeref": 0.13116666666666665,
          "symbol": "circle"
         },
         "mode": "markers",
         "name": "fbleu-h-normandie",
         "orientation": "v",
         "showlegend": true,
         "type": "scatter",
         "x": [
          2
         ],
         "xaxis": "x",
         "y": [
          2
         ],
         "yaxis": "y"
        },
        {
         "hovertemplate": "<b>%{hovertext}</b><br><br>channel=fbleu-herault<br>nb_topics=%{x}<br>frequency=%{y}<br>duration=%{marker.size}<extra></extra>",
         "hovertext": [
          "fbleu-herault"
         ],
         "legendgroup": "fbleu-herault",
         "marker": {
          "color": "#FF97FF",
          "size": [
           25.2
          ],
          "sizemode": "area",
          "sizeref": 0.13116666666666665,
          "symbol": "circle"
         },
         "mode": "markers",
         "name": "fbleu-herault",
         "orientation": "v",
         "showlegend": true,
         "type": "scatter",
         "x": [
          1
         ],
         "xaxis": "x",
         "y": [
          1
         ],
         "yaxis": "y"
        },
        {
         "hovertemplate": "<b>%{hovertext}</b><br><br>channel=fbleu-nord<br>nb_topics=%{x}<br>frequency=%{y}<br>duration=%{marker.size}<extra></extra>",
         "hovertext": [
          "fbleu-nord"
         ],
         "legendgroup": "fbleu-nord",
         "marker": {
          "color": "#FECB52",
          "size": [
           40.8
          ],
          "sizemode": "area",
          "sizeref": 0.13116666666666665,
          "symbol": "circle"
         },
         "mode": "markers",
         "name": "fbleu-nord",
         "orientation": "v",
         "showlegend": true,
         "type": "scatter",
         "x": [
          2
         ],
         "xaxis": "x",
         "y": [
          2
         ],
         "yaxis": "y"
        },
        {
         "hovertemplate": "<b>%{hovertext}</b><br><br>channel=fbleu-perigord-edd<br>nb_topics=%{x}<br>frequency=%{y}<br>duration=%{marker.size}<extra></extra>",
         "hovertext": [
          "fbleu-perigord-edd"
         ],
         "legendgroup": "fbleu-perigord-edd",
         "marker": {
          "color": "#636efa",
          "size": [
           26.599999999999998
          ],
          "sizemode": "area",
          "sizeref": 0.13116666666666665,
          "symbol": "circle"
         },
         "mode": "markers",
         "name": "fbleu-perigord-edd",
         "orientation": "v",
         "showlegend": true,
         "type": "scatter",
         "x": [
          2
         ],
         "xaxis": "x",
         "y": [
          2
         ],
         "yaxis": "y"
        },
        {
         "hovertemplate": "<b>%{hovertext}</b><br><br>channel=fbleu-picardie<br>nb_topics=%{x}<br>frequency=%{y}<br>duration=%{marker.size}<extra></extra>",
         "hovertext": [
          "fbleu-picardie"
         ],
         "legendgroup": "fbleu-picardie",
         "marker": {
          "color": "#EF553B",
          "size": [
           141.8
          ],
          "sizemode": "area",
          "sizeref": 0.13116666666666665,
          "symbol": "circle"
         },
         "mode": "markers",
         "name": "fbleu-picardie",
         "orientation": "v",
         "showlegend": true,
         "type": "scatter",
         "x": [
          3
         ],
         "xaxis": "x",
         "y": [
          10
         ],
         "yaxis": "y"
        },
        {
         "hovertemplate": "<b>%{hovertext}</b><br><br>channel=fbleu-provence<br>nb_topics=%{x}<br>frequency=%{y}<br>duration=%{marker.size}<extra></extra>",
         "hovertext": [
          "fbleu-provence"
         ],
         "legendgroup": "fbleu-provence",
         "marker": {
          "color": "#00cc96",
          "size": [
           112.4
          ],
          "sizemode": "area",
          "sizeref": 0.13116666666666665,
          "symbol": "circle"
         },
         "mode": "markers",
         "name": "fbleu-provence",
         "orientation": "v",
         "showlegend": true,
         "type": "scatter",
         "x": [
          1
         ],
         "xaxis": "x",
         "y": [
          4
         ],
         "yaxis": "y"
        },
        {
         "hovertemplate": "<b>%{hovertext}</b><br><br>channel=fbleu-s-lorraine-edd<br>nb_topics=%{x}<br>frequency=%{y}<br>duration=%{marker.size}<extra></extra>",
         "hovertext": [
          "fbleu-s-lorraine-edd"
         ],
         "legendgroup": "fbleu-s-lorraine-edd",
         "marker": {
          "color": "#ab63fa",
          "size": [
           16
          ],
          "sizemode": "area",
          "sizeref": 0.13116666666666665,
          "symbol": "circle"
         },
         "mode": "markers",
         "name": "fbleu-s-lorraine-edd",
         "orientation": "v",
         "showlegend": true,
         "type": "scatter",
         "x": [
          2
         ],
         "xaxis": "x",
         "y": [
          2
         ],
         "yaxis": "y"
        },
        {
         "hovertemplate": "<b>%{hovertext}</b><br><br>channel=fbleu-savoie<br>nb_topics=%{x}<br>frequency=%{y}<br>duration=%{marker.size}<extra></extra>",
         "hovertext": [
          "fbleu-savoie"
         ],
         "legendgroup": "fbleu-savoie",
         "marker": {
          "color": "#FFA15A",
          "size": [
           102.4
          ],
          "sizemode": "area",
          "sizeref": 0.13116666666666665,
          "symbol": "circle"
         },
         "mode": "markers",
         "name": "fbleu-savoie",
         "orientation": "v",
         "showlegend": true,
         "type": "scatter",
         "x": [
          2
         ],
         "xaxis": "x",
         "y": [
          3
         ],
         "yaxis": "y"
        },
        {
         "hovertemplate": "<b>%{hovertext}</b><br><br>channel=flash-edd<br>nb_topics=%{x}<br>frequency=%{y}<br>duration=%{marker.size}<extra></extra>",
         "hovertext": [
          "flash-edd"
         ],
         "legendgroup": "flash-edd",
         "marker": {
          "color": "#19d3f3",
          "size": [
           71.60000000000001
          ],
          "sizemode": "area",
          "sizeref": 0.13116666666666665,
          "symbol": "circle"
         },
         "mode": "markers",
         "name": "flash-edd",
         "orientation": "v",
         "showlegend": true,
         "type": "scatter",
         "x": [
          3
         ],
         "xaxis": "x",
         "y": [
          6
         ],
         "yaxis": "y"
        },
        {
         "hovertemplate": "<b>%{hovertext}</b><br><br>channel=fr3-centre<br>nb_topics=%{x}<br>frequency=%{y}<br>duration=%{marker.size}<extra></extra>",
         "hovertext": [
          "fr3-centre"
         ],
         "legendgroup": "fr3-centre",
         "marker": {
          "color": "#FF6692",
          "size": [
           64.80000000000001
          ],
          "sizemode": "area",
          "sizeref": 0.13116666666666665,
          "symbol": "circle"
         },
         "mode": "markers",
         "name": "fr3-centre",
         "orientation": "v",
         "showlegend": true,
         "type": "scatter",
         "x": [
          2
         ],
         "xaxis": "x",
         "y": [
          6
         ],
         "yaxis": "y"
        },
        {
         "hovertemplate": "<b>%{hovertext}</b><br><br>channel=fr3-champagne<br>nb_topics=%{x}<br>frequency=%{y}<br>duration=%{marker.size}<extra></extra>",
         "hovertext": [
          "fr3-champagne"
         ],
         "legendgroup": "fr3-champagne",
         "marker": {
          "color": "#B6E880",
          "size": [
           85.6
          ],
          "sizemode": "area",
          "sizeref": 0.13116666666666665,
          "symbol": "circle"
         },
         "mode": "markers",
         "name": "fr3-champagne",
         "orientation": "v",
         "showlegend": true,
         "type": "scatter",
         "x": [
          3
         ],
         "xaxis": "x",
         "y": [
          6
         ],
         "yaxis": "y"
        },
        {
         "hovertemplate": "<b>%{hovertext}</b><br><br>channel=fr3-idf<br>nb_topics=%{x}<br>frequency=%{y}<br>duration=%{marker.size}<extra></extra>",
         "hovertext": [
          "fr3-idf"
         ],
         "legendgroup": "fr3-idf",
         "marker": {
          "color": "#FF97FF",
          "size": [
           96
          ],
          "sizemode": "area",
          "sizeref": 0.13116666666666665,
          "symbol": "circle"
         },
         "mode": "markers",
         "name": "fr3-idf",
         "orientation": "v",
         "showlegend": true,
         "type": "scatter",
         "x": [
          3
         ],
         "xaxis": "x",
         "y": [
          7
         ],
         "yaxis": "y"
        },
        {
         "hovertemplate": "<b>%{hovertext}</b><br><br>channel=fr3-midi-pyrennees<br>nb_topics=%{x}<br>frequency=%{y}<br>duration=%{marker.size}<extra></extra>",
         "hovertext": [
          "fr3-midi-pyrennees"
         ],
         "legendgroup": "fr3-midi-pyrennees",
         "marker": {
          "color": "#FECB52",
          "size": [
           21.799999999999997
          ],
          "sizemode": "area",
          "sizeref": 0.13116666666666665,
          "symbol": "circle"
         },
         "mode": "markers",
         "name": "fr3-midi-pyrennees",
         "orientation": "v",
         "showlegend": true,
         "type": "scatter",
         "x": [
          1
         ],
         "xaxis": "x",
         "y": [
          2
         ],
         "yaxis": "y"
        },
        {
         "hovertemplate": "<b>%{hovertext}</b><br><br>channel=fr3-prov-alpes<br>nb_topics=%{x}<br>frequency=%{y}<br>duration=%{marker.size}<extra></extra>",
         "hovertext": [
          "fr3-prov-alpes"
         ],
         "legendgroup": "fr3-prov-alpes",
         "marker": {
          "color": "#636efa",
          "size": [
           41
          ],
          "sizemode": "area",
          "sizeref": 0.13116666666666665,
          "symbol": "circle"
         },
         "mode": "markers",
         "name": "fr3-prov-alpes",
         "orientation": "v",
         "showlegend": true,
         "type": "scatter",
         "x": [
          1
         ],
         "xaxis": "x",
         "y": [
          2
         ],
         "yaxis": "y"
        },
        {
         "hovertemplate": "<b>%{hovertext}</b><br><br>channel=france-culture<br>nb_topics=%{x}<br>frequency=%{y}<br>duration=%{marker.size}<extra></extra>",
         "hovertext": [
          "france-culture"
         ],
         "legendgroup": "france-culture",
         "marker": {
          "color": "#EF553B",
          "size": [
           233
          ],
          "sizemode": "area",
          "sizeref": 0.13116666666666665,
          "symbol": "circle"
         },
         "mode": "markers",
         "name": "france-culture",
         "orientation": "v",
         "showlegend": true,
         "type": "scatter",
         "x": [
          4
         ],
         "xaxis": "x",
         "y": [
          11
         ],
         "yaxis": "y"
        },
        {
         "hovertemplate": "<b>%{hovertext}</b><br><br>channel=france-info<br>nb_topics=%{x}<br>frequency=%{y}<br>duration=%{marker.size}<extra></extra>",
         "hovertext": [
          "france-info"
         ],
         "legendgroup": "france-info",
         "marker": {
          "color": "#00cc96",
          "size": [
           20.799999999999997
          ],
          "sizemode": "area",
          "sizeref": 0.13116666666666665,
          "symbol": "circle"
         },
         "mode": "markers",
         "name": "france-info",
         "orientation": "v",
         "showlegend": true,
         "type": "scatter",
         "x": [
          1
         ],
         "xaxis": "x",
         "y": [
          2
         ],
         "yaxis": "y"
        },
        {
         "hovertemplate": "<b>%{hovertext}</b><br><br>channel=france-inter<br>nb_topics=%{x}<br>frequency=%{y}<br>duration=%{marker.size}<extra></extra>",
         "hovertext": [
          "france-inter"
         ],
         "legendgroup": "france-inter",
         "marker": {
          "color": "#ab63fa",
          "size": [
           261.2
          ],
          "sizemode": "area",
          "sizeref": 0.13116666666666665,
          "symbol": "circle"
         },
         "mode": "markers",
         "name": "france-inter",
         "orientation": "v",
         "showlegend": true,
         "type": "scatter",
         "x": [
          5
         ],
         "xaxis": "x",
         "y": [
          15
         ],
         "yaxis": "y"
        },
        {
         "hovertemplate": "<b>%{hovertext}</b><br><br>channel=france2<br>nb_topics=%{x}<br>frequency=%{y}<br>duration=%{marker.size}<extra></extra>",
         "hovertext": [
          "france2"
         ],
         "legendgroup": "france2",
         "marker": {
          "color": "#FFA15A",
          "size": [
           71.4
          ],
          "sizemode": "area",
          "sizeref": 0.13116666666666665,
          "symbol": "circle"
         },
         "mode": "markers",
         "name": "france2",
         "orientation": "v",
         "showlegend": true,
         "type": "scatter",
         "x": [
          2
         ],
         "xaxis": "x",
         "y": [
          5
         ],
         "yaxis": "y"
        },
        {
         "hovertemplate": "<b>%{hovertext}</b><br><br>channel=france24<br>nb_topics=%{x}<br>frequency=%{y}<br>duration=%{marker.size}<extra></extra>",
         "hovertext": [
          "france24"
         ],
         "legendgroup": "france24",
         "marker": {
          "color": "#19d3f3",
          "size": [
           232.4
          ],
          "sizemode": "area",
          "sizeref": 0.13116666666666665,
          "symbol": "circle"
         },
         "mode": "markers",
         "name": "france24",
         "orientation": "v",
         "showlegend": true,
         "type": "scatter",
         "x": [
          3
         ],
         "xaxis": "x",
         "y": [
          18
         ],
         "yaxis": "y"
        },
        {
         "hovertemplate": "<b>%{hovertext}</b><br><br>channel=france5<br>nb_topics=%{x}<br>frequency=%{y}<br>duration=%{marker.size}<extra></extra>",
         "hovertext": [
          "france5"
         ],
         "legendgroup": "france5",
         "marker": {
          "color": "#FF6692",
          "size": [
           57.6
          ],
          "sizemode": "area",
          "sizeref": 0.13116666666666665,
          "symbol": "circle"
         },
         "mode": "markers",
         "name": "france5",
         "orientation": "v",
         "showlegend": true,
         "type": "scatter",
         "x": [
          2
         ],
         "xaxis": "x",
         "y": [
          3
         ],
         "yaxis": "y"
        },
        {
         "hovertemplate": "<b>%{hovertext}</b><br><br>channel=franceinfotv<br>nb_topics=%{x}<br>frequency=%{y}<br>duration=%{marker.size}<extra></extra>",
         "hovertext": [
          "franceinfotv"
         ],
         "legendgroup": "franceinfotv",
         "marker": {
          "color": "#B6E880",
          "size": [
           115.4
          ],
          "sizemode": "area",
          "sizeref": 0.13116666666666665,
          "symbol": "circle"
         },
         "mode": "markers",
         "name": "franceinfotv",
         "orientation": "v",
         "showlegend": true,
         "type": "scatter",
         "x": [
          2
         ],
         "xaxis": "x",
         "y": [
          6
         ],
         "yaxis": "y"
        },
        {
         "hovertemplate": "<b>%{hovertext}</b><br><br>channel=guadeloupe1-edd<br>nb_topics=%{x}<br>frequency=%{y}<br>duration=%{marker.size}<extra></extra>",
         "hovertext": [
          "guadeloupe1-edd"
         ],
         "legendgroup": "guadeloupe1-edd",
         "marker": {
          "color": "#FF97FF",
          "size": [
           19.4
          ],
          "sizemode": "area",
          "sizeref": 0.13116666666666665,
          "symbol": "circle"
         },
         "mode": "markers",
         "name": "guadeloupe1-edd",
         "orientation": "v",
         "showlegend": true,
         "type": "scatter",
         "x": [
          2
         ],
         "xaxis": "x",
         "y": [
          2
         ],
         "yaxis": "y"
        },
        {
         "hovertemplate": "<b>%{hovertext}</b><br><br>channel=horizon-lba-edd<br>nb_topics=%{x}<br>frequency=%{y}<br>duration=%{marker.size}<extra></extra>",
         "hovertext": [
          "horizon-lba-edd"
         ],
         "legendgroup": "horizon-lba-edd",
         "marker": {
          "color": "#FECB52",
          "size": [
           65.6
          ],
          "sizemode": "area",
          "sizeref": 0.13116666666666665,
          "symbol": "circle"
         },
         "mode": "markers",
         "name": "horizon-lba-edd",
         "orientation": "v",
         "showlegend": true,
         "type": "scatter",
         "x": [
          2
         ],
         "xaxis": "x",
         "y": [
          3
         ],
         "yaxis": "y"
        },
        {
         "hovertemplate": "<b>%{hovertext}</b><br><br>channel=itele<br>nb_topics=%{x}<br>frequency=%{y}<br>duration=%{marker.size}<extra></extra>",
         "hovertext": [
          "itele"
         ],
         "legendgroup": "itele",
         "marker": {
          "color": "#636efa",
          "size": [
           57.800000000000004
          ],
          "sizemode": "area",
          "sizeref": 0.13116666666666665,
          "symbol": "circle"
         },
         "mode": "markers",
         "name": "itele",
         "orientation": "v",
         "showlegend": true,
         "type": "scatter",
         "x": [
          1
         ],
         "xaxis": "x",
         "y": [
          3
         ],
         "yaxis": "y"
        },
        {
         "hovertemplate": "<b>%{hovertext}</b><br><br>channel=lcp<br>nb_topics=%{x}<br>frequency=%{y}<br>duration=%{marker.size}<extra></extra>",
         "hovertext": [
          "lcp"
         ],
         "legendgroup": "lcp",
         "marker": {
          "color": "#EF553B",
          "size": [
           472.2
          ],
          "sizemode": "area",
          "sizeref": 0.13116666666666665,
          "symbol": "circle"
         },
         "mode": "markers",
         "name": "lcp",
         "orientation": "v",
         "showlegend": true,
         "type": "scatter",
         "x": [
          6
         ],
         "xaxis": "x",
         "y": [
          33
         ],
         "yaxis": "y"
        },
        {
         "hovertemplate": "<b>%{hovertext}</b><br><br>channel=lmtv<br>nb_topics=%{x}<br>frequency=%{y}<br>duration=%{marker.size}<extra></extra>",
         "hovertext": [
          "lmtv"
         ],
         "legendgroup": "lmtv",
         "marker": {
          "color": "#00cc96",
          "size": [
           110
          ],
          "sizemode": "area",
          "sizeref": 0.13116666666666665,
          "symbol": "circle"
         },
         "mode": "markers",
         "name": "lmtv",
         "orientation": "v",
         "showlegend": true,
         "type": "scatter",
         "x": [
          3
         ],
         "xaxis": "x",
         "y": [
          8
         ],
         "yaxis": "y"
        },
        {
         "hovertemplate": "<b>%{hovertext}</b><br><br>channel=nice-azur-tv<br>nb_topics=%{x}<br>frequency=%{y}<br>duration=%{marker.size}<extra></extra>",
         "hovertext": [
          "nice-azur-tv"
         ],
         "legendgroup": "nice-azur-tv",
         "marker": {
          "color": "#ab63fa",
          "size": [
           12.4
          ],
          "sizemode": "area",
          "sizeref": 0.13116666666666665,
          "symbol": "circle"
         },
         "mode": "markers",
         "name": "nice-azur-tv",
         "orientation": "v",
         "showlegend": true,
         "type": "scatter",
         "x": [
          1
         ],
         "xaxis": "x",
         "y": [
          1
         ],
         "yaxis": "y"
        },
        {
         "hovertemplate": "<b>%{hovertext}</b><br><br>channel=nostalgiecaen-edd<br>nb_topics=%{x}<br>frequency=%{y}<br>duration=%{marker.size}<extra></extra>",
         "hovertext": [
          "nostalgiecaen-edd"
         ],
         "legendgroup": "nostalgiecaen-edd",
         "marker": {
          "color": "#FFA15A",
          "size": [
           75.2
          ],
          "sizemode": "area",
          "sizeref": 0.13116666666666665,
          "symbol": "circle"
         },
         "mode": "markers",
         "name": "nostalgiecaen-edd",
         "orientation": "v",
         "showlegend": true,
         "type": "scatter",
         "x": [
          3
         ],
         "xaxis": "x",
         "y": [
          8
         ],
         "yaxis": "y"
        },
        {
         "hovertemplate": "<b>%{hovertext}</b><br><br>channel=nrj-abbeville<br>nb_topics=%{x}<br>frequency=%{y}<br>duration=%{marker.size}<extra></extra>",
         "hovertext": [
          "nrj-abbeville"
         ],
         "legendgroup": "nrj-abbeville",
         "marker": {
          "color": "#19d3f3",
          "size": [
           65
          ],
          "sizemode": "area",
          "sizeref": 0.13116666666666665,
          "symbol": "circle"
         },
         "mode": "markers",
         "name": "nrj-abbeville",
         "orientation": "v",
         "showlegend": true,
         "type": "scatter",
         "x": [
          4
         ],
         "xaxis": "x",
         "y": [
          8
         ],
         "yaxis": "y"
        },
        {
         "hovertemplate": "<b>%{hovertext}</b><br><br>channel=nrjbourgenbresse-edd<br>nb_topics=%{x}<br>frequency=%{y}<br>duration=%{marker.size}<extra></extra>",
         "hovertext": [
          "nrjbourgenbresse-edd"
         ],
         "legendgroup": "nrjbourgenbresse-edd",
         "marker": {
          "color": "#FF6692",
          "size": [
           32.2
          ],
          "sizemode": "area",
          "sizeref": 0.13116666666666665,
          "symbol": "circle"
         },
         "mode": "markers",
         "name": "nrjbourgenbresse-edd",
         "orientation": "v",
         "showlegend": true,
         "type": "scatter",
         "x": [
          2
         ],
         "xaxis": "x",
         "y": [
          3
         ],
         "yaxis": "y"
        },
        {
         "hovertemplate": "<b>%{hovertext}</b><br><br>channel=provence-azur-edd<br>nb_topics=%{x}<br>frequency=%{y}<br>duration=%{marker.size}<extra></extra>",
         "hovertext": [
          "provence-azur-edd"
         ],
         "legendgroup": "provence-azur-edd",
         "marker": {
          "color": "#B6E880",
          "size": [
           37.2
          ],
          "sizemode": "area",
          "sizeref": 0.13116666666666665,
          "symbol": "circle"
         },
         "mode": "markers",
         "name": "provence-azur-edd",
         "orientation": "v",
         "showlegend": true,
         "type": "scatter",
         "x": [
          1
         ],
         "xaxis": "x",
         "y": [
          1
         ],
         "yaxis": "y"
        },
        {
         "hovertemplate": "<b>%{hovertext}</b><br><br>channel=radioimmo-edd<br>nb_topics=%{x}<br>frequency=%{y}<br>duration=%{marker.size}<extra></extra>",
         "hovertext": [
          "radioimmo-edd"
         ],
         "legendgroup": "radioimmo-edd",
         "marker": {
          "color": "#FF97FF",
          "size": [
           11.4
          ],
          "sizemode": "area",
          "sizeref": 0.13116666666666665,
          "symbol": "circle"
         },
         "mode": "markers",
         "name": "radioimmo-edd",
         "orientation": "v",
         "showlegend": true,
         "type": "scatter",
         "x": [
          1
         ],
         "xaxis": "x",
         "y": [
          1
         ],
         "yaxis": "y"
        },
        {
         "hovertemplate": "<b>%{hovertext}</b><br><br>channel=radioopenfm-edd<br>nb_topics=%{x}<br>frequency=%{y}<br>duration=%{marker.size}<extra></extra>",
         "hovertext": [
          "radioopenfm-edd"
         ],
         "legendgroup": "radioopenfm-edd",
         "marker": {
          "color": "#FECB52",
          "size": [
           85.80000000000001
          ],
          "sizemode": "area",
          "sizeref": 0.13116666666666665,
          "symbol": "circle"
         },
         "mode": "markers",
         "name": "radioopenfm-edd",
         "orientation": "v",
         "showlegend": true,
         "type": "scatter",
         "x": [
          2
         ],
         "xaxis": "x",
         "y": [
          5
         ],
         "yaxis": "y"
        },
        {
         "hovertemplate": "<b>%{hovertext}</b><br><br>channel=rcf-anjou<br>nb_topics=%{x}<br>frequency=%{y}<br>duration=%{marker.size}<extra></extra>",
         "hovertext": [
          "rcf-anjou"
         ],
         "legendgroup": "rcf-anjou",
         "marker": {
          "color": "#636efa",
          "size": [
           9
          ],
          "sizemode": "area",
          "sizeref": 0.13116666666666665,
          "symbol": "circle"
         },
         "mode": "markers",
         "name": "rcf-anjou",
         "orientation": "v",
         "showlegend": true,
         "type": "scatter",
         "x": [
          1
         ],
         "xaxis": "x",
         "y": [
          1
         ],
         "yaxis": "y"
        },
        {
         "hovertemplate": "<b>%{hovertext}</b><br><br>channel=rcf-bordeaux<br>nb_topics=%{x}<br>frequency=%{y}<br>duration=%{marker.size}<extra></extra>",
         "hovertext": [
          "rcf-bordeaux"
         ],
         "legendgroup": "rcf-bordeaux",
         "marker": {
          "color": "#EF553B",
          "size": [
           58.6
          ],
          "sizemode": "area",
          "sizeref": 0.13116666666666665,
          "symbol": "circle"
         },
         "mode": "markers",
         "name": "rcf-bordeaux",
         "orientation": "v",
         "showlegend": true,
         "type": "scatter",
         "x": [
          3
         ],
         "xaxis": "x",
         "y": [
          5
         ],
         "yaxis": "y"
        },
        {
         "hovertemplate": "<b>%{hovertext}</b><br><br>channel=rcf-h-normandie<br>nb_topics=%{x}<br>frequency=%{y}<br>duration=%{marker.size}<extra></extra>",
         "hovertext": [
          "rcf-h-normandie"
         ],
         "legendgroup": "rcf-h-normandie",
         "marker": {
          "color": "#00cc96",
          "size": [
           15.6
          ],
          "sizemode": "area",
          "sizeref": 0.13116666666666665,
          "symbol": "circle"
         },
         "mode": "markers",
         "name": "rcf-h-normandie",
         "orientation": "v",
         "showlegend": true,
         "type": "scatter",
         "x": [
          1
         ],
         "xaxis": "x",
         "y": [
          1
         ],
         "yaxis": "y"
        },
        {
         "hovertemplate": "<b>%{hovertext}</b><br><br>channel=rcf-nievre-edd<br>nb_topics=%{x}<br>frequency=%{y}<br>duration=%{marker.size}<extra></extra>",
         "hovertext": [
          "rcf-nievre-edd"
         ],
         "legendgroup": "rcf-nievre-edd",
         "marker": {
          "color": "#ab63fa",
          "size": [
           179.2
          ],
          "sizemode": "area",
          "sizeref": 0.13116666666666665,
          "symbol": "circle"
         },
         "mode": "markers",
         "name": "rcf-nievre-edd",
         "orientation": "v",
         "showlegend": true,
         "type": "scatter",
         "x": [
          2
         ],
         "xaxis": "x",
         "y": [
          11
         ],
         "yaxis": "y"
        },
        {
         "hovertemplate": "<b>%{hovertext}</b><br><br>channel=rcf-st-martin<br>nb_topics=%{x}<br>frequency=%{y}<br>duration=%{marker.size}<extra></extra>",
         "hovertext": [
          "rcf-st-martin"
         ],
         "legendgroup": "rcf-st-martin",
         "marker": {
          "color": "#FFA15A",
          "size": [
           150
          ],
          "sizemode": "area",
          "sizeref": 0.13116666666666665,
          "symbol": "circle"
         },
         "mode": "markers",
         "name": "rcf-st-martin",
         "orientation": "v",
         "showlegend": true,
         "type": "scatter",
         "x": [
          4
         ],
         "xaxis": "x",
         "y": [
          10
         ],
         "yaxis": "y"
        },
        {
         "hovertemplate": "<b>%{hovertext}</b><br><br>channel=rcfcharente-edd<br>nb_topics=%{x}<br>frequency=%{y}<br>duration=%{marker.size}<extra></extra>",
         "hovertext": [
          "rcfcharente-edd"
         ],
         "legendgroup": "rcfcharente-edd",
         "marker": {
          "color": "#19d3f3",
          "size": [
           11.8
          ],
          "sizemode": "area",
          "sizeref": 0.13116666666666665,
          "symbol": "circle"
         },
         "mode": "markers",
         "name": "rcfcharente-edd",
         "orientation": "v",
         "showlegend": true,
         "type": "scatter",
         "x": [
          2
         ],
         "xaxis": "x",
         "y": [
          2
         ],
         "yaxis": "y"
        },
        {
         "hovertemplate": "<b>%{hovertext}</b><br><br>channel=rtf-limoges<br>nb_topics=%{x}<br>frequency=%{y}<br>duration=%{marker.size}<extra></extra>",
         "hovertext": [
          "rtf-limoges"
         ],
         "legendgroup": "rtf-limoges",
         "marker": {
          "color": "#FF6692",
          "size": [
           103.2
          ],
          "sizemode": "area",
          "sizeref": 0.13116666666666665,
          "symbol": "circle"
         },
         "mode": "markers",
         "name": "rtf-limoges",
         "orientation": "v",
         "showlegend": true,
         "type": "scatter",
         "x": [
          2
         ],
         "xaxis": "x",
         "y": [
          10
         ],
         "yaxis": "y"
        },
        {
         "hovertemplate": "<b>%{hovertext}</b><br><br>channel=rts1-edd<br>nb_topics=%{x}<br>frequency=%{y}<br>duration=%{marker.size}<extra></extra>",
         "hovertext": [
          "rts1-edd"
         ],
         "legendgroup": "rts1-edd",
         "marker": {
          "color": "#B6E880",
          "size": [
           115.8
          ],
          "sizemode": "area",
          "sizeref": 0.13116666666666665,
          "symbol": "circle"
         },
         "mode": "markers",
         "name": "rts1-edd",
         "orientation": "v",
         "showlegend": true,
         "type": "scatter",
         "x": [
          4
         ],
         "xaxis": "x",
         "y": [
          12
         ],
         "yaxis": "y"
        },
        {
         "hovertemplate": "<b>%{hovertext}</b><br><br>channel=supplychainradio-edd<br>nb_topics=%{x}<br>frequency=%{y}<br>duration=%{marker.size}<extra></extra>",
         "hovertext": [
          "supplychainradio-edd"
         ],
         "legendgroup": "supplychainradio-edd",
         "marker": {
          "color": "#FF97FF",
          "size": [
           104.2
          ],
          "sizemode": "area",
          "sizeref": 0.13116666666666665,
          "symbol": "circle"
         },
         "mode": "markers",
         "name": "supplychainradio-edd",
         "orientation": "v",
         "showlegend": true,
         "type": "scatter",
         "x": [
          3
         ],
         "xaxis": "x",
         "y": [
          9
         ],
         "yaxis": "y"
        },
        {
         "hovertemplate": "<b>%{hovertext}</b><br><br>channel=tebesud-edd<br>nb_topics=%{x}<br>frequency=%{y}<br>duration=%{marker.size}<extra></extra>",
         "hovertext": [
          "tebesud-edd"
         ],
         "legendgroup": "tebesud-edd",
         "marker": {
          "color": "#FECB52",
          "size": [
           137.4
          ],
          "sizemode": "area",
          "sizeref": 0.13116666666666665,
          "symbol": "circle"
         },
         "mode": "markers",
         "name": "tebesud-edd",
         "orientation": "v",
         "showlegend": true,
         "type": "scatter",
         "x": [
          2
         ],
         "xaxis": "x",
         "y": [
          6
         ],
         "yaxis": "y"
        },
        {
         "hovertemplate": "<b>%{hovertext}</b><br><br>channel=teleloire7<br>nb_topics=%{x}<br>frequency=%{y}<br>duration=%{marker.size}<extra></extra>",
         "hovertext": [
          "teleloire7"
         ],
         "legendgroup": "teleloire7",
         "marker": {
          "color": "#636efa",
          "size": [
           136.2
          ],
          "sizemode": "area",
          "sizeref": 0.13116666666666665,
          "symbol": "circle"
         },
         "mode": "markers",
         "name": "teleloire7",
         "orientation": "v",
         "showlegend": true,
         "type": "scatter",
         "x": [
          2
         ],
         "xaxis": "x",
         "y": [
          4
         ],
         "yaxis": "y"
        },
        {
         "hovertemplate": "<b>%{hovertext}</b><br><br>channel=telenantes<br>nb_topics=%{x}<br>frequency=%{y}<br>duration=%{marker.size}<extra></extra>",
         "hovertext": [
          "telenantes"
         ],
         "legendgroup": "telenantes",
         "marker": {
          "color": "#EF553B",
          "size": [
           201.6
          ],
          "sizemode": "area",
          "sizeref": 0.13116666666666665,
          "symbol": "circle"
         },
         "mode": "markers",
         "name": "telenantes",
         "orientation": "v",
         "showlegend": true,
         "type": "scatter",
         "x": [
          5
         ],
         "xaxis": "x",
         "y": [
          18
         ],
         "yaxis": "y"
        },
        {
         "hovertemplate": "<b>%{hovertext}</b><br><br>channel=tv-tours<br>nb_topics=%{x}<br>frequency=%{y}<br>duration=%{marker.size}<extra></extra>",
         "hovertext": [
          "tv-tours"
         ],
         "legendgroup": "tv-tours",
         "marker": {
          "color": "#00cc96",
          "size": [
           183
          ],
          "sizemode": "area",
          "sizeref": 0.13116666666666665,
          "symbol": "circle"
         },
         "mode": "markers",
         "name": "tv-tours",
         "orientation": "v",
         "showlegend": true,
         "type": "scatter",
         "x": [
          4
         ],
         "xaxis": "x",
         "y": [
          9
         ],
         "yaxis": "y"
        },
        {
         "hovertemplate": "<b>%{hovertext}</b><br><br>channel=tv5<br>nb_topics=%{x}<br>frequency=%{y}<br>duration=%{marker.size}<extra></extra>",
         "hovertext": [
          "tv5"
         ],
         "legendgroup": "tv5",
         "marker": {
          "color": "#ab63fa",
          "size": [
           16.4
          ],
          "sizemode": "area",
          "sizeref": 0.13116666666666665,
          "symbol": "circle"
         },
         "mode": "markers",
         "name": "tv5",
         "orientation": "v",
         "showlegend": true,
         "type": "scatter",
         "x": [
          1
         ],
         "xaxis": "x",
         "y": [
          1
         ],
         "yaxis": "y"
        },
        {
         "hovertemplate": "<b>%{hovertext}</b><br><br>channel=vfm<br>nb_topics=%{x}<br>frequency=%{y}<br>duration=%{marker.size}<extra></extra>",
         "hovertext": [
          "vfm"
         ],
         "legendgroup": "vfm",
         "marker": {
          "color": "#FFA15A",
          "size": [
           74.19999999999999
          ],
          "sizemode": "area",
          "sizeref": 0.13116666666666665,
          "symbol": "circle"
         },
         "mode": "markers",
         "name": "vfm",
         "orientation": "v",
         "showlegend": true,
         "type": "scatter",
         "x": [
          3
         ],
         "xaxis": "x",
         "y": [
          5
         ],
         "yaxis": "y"
        },
        {
         "hovertemplate": "<b>%{hovertext}</b><br><br>channel=viaoccitanie-edd<br>nb_topics=%{x}<br>frequency=%{y}<br>duration=%{marker.size}<extra></extra>",
         "hovertext": [
          "viaoccitanie-edd"
         ],
         "legendgroup": "viaoccitanie-edd",
         "marker": {
          "color": "#19d3f3",
          "size": [
           101.2
          ],
          "sizemode": "area",
          "sizeref": 0.13116666666666665,
          "symbol": "circle"
         },
         "mode": "markers",
         "name": "viaoccitanie-edd",
         "orientation": "v",
         "showlegend": true,
         "type": "scatter",
         "x": [
          3
         ],
         "xaxis": "x",
         "y": [
          10
         ],
         "yaxis": "y"
        }
       ],
       "layout": {
        "legend": {
         "itemsizing": "constant",
         "title": {
          "text": "channel"
         },
         "tracegroupgap": 0
        },
        "template": {
         "data": {
          "bar": [
           {
            "error_x": {
             "color": "#2a3f5f"
            },
            "error_y": {
             "color": "#2a3f5f"
            },
            "marker": {
             "line": {
              "color": "#E5ECF6",
              "width": 0.5
             },
             "pattern": {
              "fillmode": "overlay",
              "size": 10,
              "solidity": 0.2
             }
            },
            "type": "bar"
           }
          ],
          "barpolar": [
           {
            "marker": {
             "line": {
              "color": "#E5ECF6",
              "width": 0.5
             },
             "pattern": {
              "fillmode": "overlay",
              "size": 10,
              "solidity": 0.2
             }
            },
            "type": "barpolar"
           }
          ],
          "carpet": [
           {
            "aaxis": {
             "endlinecolor": "#2a3f5f",
             "gridcolor": "white",
             "linecolor": "white",
             "minorgridcolor": "white",
             "startlinecolor": "#2a3f5f"
            },
            "baxis": {
             "endlinecolor": "#2a3f5f",
             "gridcolor": "white",
             "linecolor": "white",
             "minorgridcolor": "white",
             "startlinecolor": "#2a3f5f"
            },
            "type": "carpet"
           }
          ],
          "choropleth": [
           {
            "colorbar": {
             "outlinewidth": 0,
             "ticks": ""
            },
            "type": "choropleth"
           }
          ],
          "contour": [
           {
            "colorbar": {
             "outlinewidth": 0,
             "ticks": ""
            },
            "colorscale": [
             [
              0,
              "#0d0887"
             ],
             [
              0.1111111111111111,
              "#46039f"
             ],
             [
              0.2222222222222222,
              "#7201a8"
             ],
             [
              0.3333333333333333,
              "#9c179e"
             ],
             [
              0.4444444444444444,
              "#bd3786"
             ],
             [
              0.5555555555555556,
              "#d8576b"
             ],
             [
              0.6666666666666666,
              "#ed7953"
             ],
             [
              0.7777777777777778,
              "#fb9f3a"
             ],
             [
              0.8888888888888888,
              "#fdca26"
             ],
             [
              1,
              "#f0f921"
             ]
            ],
            "type": "contour"
           }
          ],
          "contourcarpet": [
           {
            "colorbar": {
             "outlinewidth": 0,
             "ticks": ""
            },
            "type": "contourcarpet"
           }
          ],
          "heatmap": [
           {
            "colorbar": {
             "outlinewidth": 0,
             "ticks": ""
            },
            "colorscale": [
             [
              0,
              "#0d0887"
             ],
             [
              0.1111111111111111,
              "#46039f"
             ],
             [
              0.2222222222222222,
              "#7201a8"
             ],
             [
              0.3333333333333333,
              "#9c179e"
             ],
             [
              0.4444444444444444,
              "#bd3786"
             ],
             [
              0.5555555555555556,
              "#d8576b"
             ],
             [
              0.6666666666666666,
              "#ed7953"
             ],
             [
              0.7777777777777778,
              "#fb9f3a"
             ],
             [
              0.8888888888888888,
              "#fdca26"
             ],
             [
              1,
              "#f0f921"
             ]
            ],
            "type": "heatmap"
           }
          ],
          "heatmapgl": [
           {
            "colorbar": {
             "outlinewidth": 0,
             "ticks": ""
            },
            "colorscale": [
             [
              0,
              "#0d0887"
             ],
             [
              0.1111111111111111,
              "#46039f"
             ],
             [
              0.2222222222222222,
              "#7201a8"
             ],
             [
              0.3333333333333333,
              "#9c179e"
             ],
             [
              0.4444444444444444,
              "#bd3786"
             ],
             [
              0.5555555555555556,
              "#d8576b"
             ],
             [
              0.6666666666666666,
              "#ed7953"
             ],
             [
              0.7777777777777778,
              "#fb9f3a"
             ],
             [
              0.8888888888888888,
              "#fdca26"
             ],
             [
              1,
              "#f0f921"
             ]
            ],
            "type": "heatmapgl"
           }
          ],
          "histogram": [
           {
            "marker": {
             "pattern": {
              "fillmode": "overlay",
              "size": 10,
              "solidity": 0.2
             }
            },
            "type": "histogram"
           }
          ],
          "histogram2d": [
           {
            "colorbar": {
             "outlinewidth": 0,
             "ticks": ""
            },
            "colorscale": [
             [
              0,
              "#0d0887"
             ],
             [
              0.1111111111111111,
              "#46039f"
             ],
             [
              0.2222222222222222,
              "#7201a8"
             ],
             [
              0.3333333333333333,
              "#9c179e"
             ],
             [
              0.4444444444444444,
              "#bd3786"
             ],
             [
              0.5555555555555556,
              "#d8576b"
             ],
             [
              0.6666666666666666,
              "#ed7953"
             ],
             [
              0.7777777777777778,
              "#fb9f3a"
             ],
             [
              0.8888888888888888,
              "#fdca26"
             ],
             [
              1,
              "#f0f921"
             ]
            ],
            "type": "histogram2d"
           }
          ],
          "histogram2dcontour": [
           {
            "colorbar": {
             "outlinewidth": 0,
             "ticks": ""
            },
            "colorscale": [
             [
              0,
              "#0d0887"
             ],
             [
              0.1111111111111111,
              "#46039f"
             ],
             [
              0.2222222222222222,
              "#7201a8"
             ],
             [
              0.3333333333333333,
              "#9c179e"
             ],
             [
              0.4444444444444444,
              "#bd3786"
             ],
             [
              0.5555555555555556,
              "#d8576b"
             ],
             [
              0.6666666666666666,
              "#ed7953"
             ],
             [
              0.7777777777777778,
              "#fb9f3a"
             ],
             [
              0.8888888888888888,
              "#fdca26"
             ],
             [
              1,
              "#f0f921"
             ]
            ],
            "type": "histogram2dcontour"
           }
          ],
          "mesh3d": [
           {
            "colorbar": {
             "outlinewidth": 0,
             "ticks": ""
            },
            "type": "mesh3d"
           }
          ],
          "parcoords": [
           {
            "line": {
             "colorbar": {
              "outlinewidth": 0,
              "ticks": ""
             }
            },
            "type": "parcoords"
           }
          ],
          "pie": [
           {
            "automargin": true,
            "type": "pie"
           }
          ],
          "scatter": [
           {
            "marker": {
             "colorbar": {
              "outlinewidth": 0,
              "ticks": ""
             }
            },
            "type": "scatter"
           }
          ],
          "scatter3d": [
           {
            "line": {
             "colorbar": {
              "outlinewidth": 0,
              "ticks": ""
             }
            },
            "marker": {
             "colorbar": {
              "outlinewidth": 0,
              "ticks": ""
             }
            },
            "type": "scatter3d"
           }
          ],
          "scattercarpet": [
           {
            "marker": {
             "colorbar": {
              "outlinewidth": 0,
              "ticks": ""
             }
            },
            "type": "scattercarpet"
           }
          ],
          "scattergeo": [
           {
            "marker": {
             "colorbar": {
              "outlinewidth": 0,
              "ticks": ""
             }
            },
            "type": "scattergeo"
           }
          ],
          "scattergl": [
           {
            "marker": {
             "colorbar": {
              "outlinewidth": 0,
              "ticks": ""
             }
            },
            "type": "scattergl"
           }
          ],
          "scattermapbox": [
           {
            "marker": {
             "colorbar": {
              "outlinewidth": 0,
              "ticks": ""
             }
            },
            "type": "scattermapbox"
           }
          ],
          "scatterpolar": [
           {
            "marker": {
             "colorbar": {
              "outlinewidth": 0,
              "ticks": ""
             }
            },
            "type": "scatterpolar"
           }
          ],
          "scatterpolargl": [
           {
            "marker": {
             "colorbar": {
              "outlinewidth": 0,
              "ticks": ""
             }
            },
            "type": "scatterpolargl"
           }
          ],
          "scatterternary": [
           {
            "marker": {
             "colorbar": {
              "outlinewidth": 0,
              "ticks": ""
             }
            },
            "type": "scatterternary"
           }
          ],
          "surface": [
           {
            "colorbar": {
             "outlinewidth": 0,
             "ticks": ""
            },
            "colorscale": [
             [
              0,
              "#0d0887"
             ],
             [
              0.1111111111111111,
              "#46039f"
             ],
             [
              0.2222222222222222,
              "#7201a8"
             ],
             [
              0.3333333333333333,
              "#9c179e"
             ],
             [
              0.4444444444444444,
              "#bd3786"
             ],
             [
              0.5555555555555556,
              "#d8576b"
             ],
             [
              0.6666666666666666,
              "#ed7953"
             ],
             [
              0.7777777777777778,
              "#fb9f3a"
             ],
             [
              0.8888888888888888,
              "#fdca26"
             ],
             [
              1,
              "#f0f921"
             ]
            ],
            "type": "surface"
           }
          ],
          "table": [
           {
            "cells": {
             "fill": {
              "color": "#EBF0F8"
             },
             "line": {
              "color": "white"
             }
            },
            "header": {
             "fill": {
              "color": "#C8D4E3"
             },
             "line": {
              "color": "white"
             }
            },
            "type": "table"
           }
          ]
         },
         "layout": {
          "annotationdefaults": {
           "arrowcolor": "#2a3f5f",
           "arrowhead": 0,
           "arrowwidth": 1
          },
          "autotypenumbers": "strict",
          "coloraxis": {
           "colorbar": {
            "outlinewidth": 0,
            "ticks": ""
           }
          },
          "colorscale": {
           "diverging": [
            [
             0,
             "#8e0152"
            ],
            [
             0.1,
             "#c51b7d"
            ],
            [
             0.2,
             "#de77ae"
            ],
            [
             0.3,
             "#f1b6da"
            ],
            [
             0.4,
             "#fde0ef"
            ],
            [
             0.5,
             "#f7f7f7"
            ],
            [
             0.6,
             "#e6f5d0"
            ],
            [
             0.7,
             "#b8e186"
            ],
            [
             0.8,
             "#7fbc41"
            ],
            [
             0.9,
             "#4d9221"
            ],
            [
             1,
             "#276419"
            ]
           ],
           "sequential": [
            [
             0,
             "#0d0887"
            ],
            [
             0.1111111111111111,
             "#46039f"
            ],
            [
             0.2222222222222222,
             "#7201a8"
            ],
            [
             0.3333333333333333,
             "#9c179e"
            ],
            [
             0.4444444444444444,
             "#bd3786"
            ],
            [
             0.5555555555555556,
             "#d8576b"
            ],
            [
             0.6666666666666666,
             "#ed7953"
            ],
            [
             0.7777777777777778,
             "#fb9f3a"
            ],
            [
             0.8888888888888888,
             "#fdca26"
            ],
            [
             1,
             "#f0f921"
            ]
           ],
           "sequentialminus": [
            [
             0,
             "#0d0887"
            ],
            [
             0.1111111111111111,
             "#46039f"
            ],
            [
             0.2222222222222222,
             "#7201a8"
            ],
            [
             0.3333333333333333,
             "#9c179e"
            ],
            [
             0.4444444444444444,
             "#bd3786"
            ],
            [
             0.5555555555555556,
             "#d8576b"
            ],
            [
             0.6666666666666666,
             "#ed7953"
            ],
            [
             0.7777777777777778,
             "#fb9f3a"
            ],
            [
             0.8888888888888888,
             "#fdca26"
            ],
            [
             1,
             "#f0f921"
            ]
           ]
          },
          "colorway": [
           "#636efa",
           "#EF553B",
           "#00cc96",
           "#ab63fa",
           "#FFA15A",
           "#19d3f3",
           "#FF6692",
           "#B6E880",
           "#FF97FF",
           "#FECB52"
          ],
          "font": {
           "color": "#2a3f5f"
          },
          "geo": {
           "bgcolor": "white",
           "lakecolor": "white",
           "landcolor": "#E5ECF6",
           "showlakes": true,
           "showland": true,
           "subunitcolor": "white"
          },
          "hoverlabel": {
           "align": "left"
          },
          "hovermode": "closest",
          "mapbox": {
           "style": "light"
          },
          "paper_bgcolor": "white",
          "plot_bgcolor": "#E5ECF6",
          "polar": {
           "angularaxis": {
            "gridcolor": "white",
            "linecolor": "white",
            "ticks": ""
           },
           "bgcolor": "#E5ECF6",
           "radialaxis": {
            "gridcolor": "white",
            "linecolor": "white",
            "ticks": ""
           }
          },
          "scene": {
           "xaxis": {
            "backgroundcolor": "#E5ECF6",
            "gridcolor": "white",
            "gridwidth": 2,
            "linecolor": "white",
            "showbackground": true,
            "ticks": "",
            "zerolinecolor": "white"
           },
           "yaxis": {
            "backgroundcolor": "#E5ECF6",
            "gridcolor": "white",
            "gridwidth": 2,
            "linecolor": "white",
            "showbackground": true,
            "ticks": "",
            "zerolinecolor": "white"
           },
           "zaxis": {
            "backgroundcolor": "#E5ECF6",
            "gridcolor": "white",
            "gridwidth": 2,
            "linecolor": "white",
            "showbackground": true,
            "ticks": "",
            "zerolinecolor": "white"
           }
          },
          "shapedefaults": {
           "line": {
            "color": "#2a3f5f"
           }
          },
          "ternary": {
           "aaxis": {
            "gridcolor": "white",
            "linecolor": "white",
            "ticks": ""
           },
           "baxis": {
            "gridcolor": "white",
            "linecolor": "white",
            "ticks": ""
           },
           "bgcolor": "#E5ECF6",
           "caxis": {
            "gridcolor": "white",
            "linecolor": "white",
            "ticks": ""
           }
          },
          "title": {
           "x": 0.05
          },
          "xaxis": {
           "automargin": true,
           "gridcolor": "white",
           "linecolor": "white",
           "ticks": "",
           "title": {
            "standoff": 15
           },
           "zerolinecolor": "white",
           "zerolinewidth": 2
          },
          "yaxis": {
           "automargin": true,
           "gridcolor": "white",
           "linecolor": "white",
           "ticks": "",
           "title": {
            "standoff": 15
           },
           "zerolinecolor": "white",
           "zerolinewidth": 2
          }
         }
        },
        "title": {
         "text": "Place du Changement Climatique dans les médias TV et Radio"
        },
        "xaxis": {
         "anchor": "y",
         "domain": [
          0,
          1
         ],
         "title": {
          "text": "nb_topics"
         },
         "type": "log"
        },
        "yaxis": {
         "anchor": "x",
         "domain": [
          0,
          1
         ],
         "title": {
          "text": "frequency"
         }
        }
       }
      },
      "text/html": [
       "<div>                            <div id=\"c0a2bcb1-df99-4aa0-97b0-2e76facf5dec\" class=\"plotly-graph-div\" style=\"height:525px; width:100%;\"></div>            <script type=\"text/javascript\">                require([\"plotly\"], function(Plotly) {                    window.PLOTLYENV=window.PLOTLYENV || {};                                    if (document.getElementById(\"c0a2bcb1-df99-4aa0-97b0-2e76facf5dec\")) {                    Plotly.newPlot(                        \"c0a2bcb1-df99-4aa0-97b0-2e76facf5dec\",                        [{\"hovertemplate\":\"<b>%{hovertext}</b><br><br>channel=8-mont-blanc<br>nb_topics=%{x}<br>frequency=%{y}<br>duration=%{marker.size}<extra></extra>\",\"hovertext\":[\"8-mont-blanc\"],\"legendgroup\":\"8-mont-blanc\",\"marker\":{\"color\":\"#636efa\",\"size\":[103.2],\"sizemode\":\"area\",\"sizeref\":0.13116666666666665,\"symbol\":\"circle\"},\"mode\":\"markers\",\"name\":\"8-mont-blanc\",\"orientation\":\"v\",\"showlegend\":true,\"x\":[1],\"xaxis\":\"x\",\"y\":[7],\"yaxis\":\"y\",\"type\":\"scatter\"},{\"hovertemplate\":\"<b>%{hovertext}</b><br><br>channel=arte<br>nb_topics=%{x}<br>frequency=%{y}<br>duration=%{marker.size}<extra></extra>\",\"hovertext\":[\"arte\"],\"legendgroup\":\"arte\",\"marker\":{\"color\":\"#EF553B\",\"size\":[26.6],\"sizemode\":\"area\",\"sizeref\":0.13116666666666665,\"symbol\":\"circle\"},\"mode\":\"markers\",\"name\":\"arte\",\"orientation\":\"v\",\"showlegend\":true,\"x\":[2],\"xaxis\":\"x\",\"y\":[2],\"yaxis\":\"y\",\"type\":\"scatter\"},{\"hovertemplate\":\"<b>%{hovertext}</b><br><br>channel=bergerac<br>nb_topics=%{x}<br>frequency=%{y}<br>duration=%{marker.size}<extra></extra>\",\"hovertext\":[\"bergerac\"],\"legendgroup\":\"bergerac\",\"marker\":{\"color\":\"#00cc96\",\"size\":[35.599999999999994],\"sizemode\":\"area\",\"sizeref\":0.13116666666666665,\"symbol\":\"circle\"},\"mode\":\"markers\",\"name\":\"bergerac\",\"orientation\":\"v\",\"showlegend\":true,\"x\":[2],\"xaxis\":\"x\",\"y\":[2],\"yaxis\":\"y\",\"type\":\"scatter\"},{\"hovertemplate\":\"<b>%{hovertext}</b><br><br>channel=bfmgrandlittoral-edd<br>nb_topics=%{x}<br>frequency=%{y}<br>duration=%{marker.size}<extra></extra>\",\"hovertext\":[\"bfmgrandlittoral-edd\"],\"legendgroup\":\"bfmgrandlittoral-edd\",\"marker\":{\"color\":\"#ab63fa\",\"size\":[31.0],\"sizemode\":\"area\",\"sizeref\":0.13116666666666665,\"symbol\":\"circle\"},\"mode\":\"markers\",\"name\":\"bfmgrandlittoral-edd\",\"orientation\":\"v\",\"showlegend\":true,\"x\":[2],\"xaxis\":\"x\",\"y\":[2],\"yaxis\":\"y\",\"type\":\"scatter\"},{\"hovertemplate\":\"<b>%{hovertext}</b><br><br>channel=bfmlyon<br>nb_topics=%{x}<br>frequency=%{y}<br>duration=%{marker.size}<extra></extra>\",\"hovertext\":[\"bfmlyon\"],\"legendgroup\":\"bfmlyon\",\"marker\":{\"color\":\"#FFA15A\",\"size\":[63.4],\"sizemode\":\"area\",\"sizeref\":0.13116666666666665,\"symbol\":\"circle\"},\"mode\":\"markers\",\"name\":\"bfmlyon\",\"orientation\":\"v\",\"showlegend\":true,\"x\":[3],\"xaxis\":\"x\",\"y\":[5],\"yaxis\":\"y\",\"type\":\"scatter\"},{\"hovertemplate\":\"<b>%{hovertext}</b><br><br>channel=bfmtv<br>nb_topics=%{x}<br>frequency=%{y}<br>duration=%{marker.size}<extra></extra>\",\"hovertext\":[\"bfmtv\"],\"legendgroup\":\"bfmtv\",\"marker\":{\"color\":\"#19d3f3\",\"size\":[228.0],\"sizemode\":\"area\",\"sizeref\":0.13116666666666665,\"symbol\":\"circle\"},\"mode\":\"markers\",\"name\":\"bfmtv\",\"orientation\":\"v\",\"showlegend\":true,\"x\":[5],\"xaxis\":\"x\",\"y\":[20],\"yaxis\":\"y\",\"type\":\"scatter\"},{\"hovertemplate\":\"<b>%{hovertext}</b><br><br>channel=bsmart-edd<br>nb_topics=%{x}<br>frequency=%{y}<br>duration=%{marker.size}<extra></extra>\",\"hovertext\":[\"bsmart-edd\"],\"legendgroup\":\"bsmart-edd\",\"marker\":{\"color\":\"#FF6692\",\"size\":[37.8],\"sizemode\":\"area\",\"sizeref\":0.13116666666666665,\"symbol\":\"circle\"},\"mode\":\"markers\",\"name\":\"bsmart-edd\",\"orientation\":\"v\",\"showlegend\":true,\"x\":[1],\"xaxis\":\"x\",\"y\":[2],\"yaxis\":\"y\",\"type\":\"scatter\"},{\"hovertemplate\":\"<b>%{hovertext}</b><br><br>channel=bull<br>nb_topics=%{x}<br>frequency=%{y}<br>duration=%{marker.size}<extra></extra>\",\"hovertext\":[\"bull\"],\"legendgroup\":\"bull\",\"marker\":{\"color\":\"#B6E880\",\"size\":[81.0],\"sizemode\":\"area\",\"sizeref\":0.13116666666666665,\"symbol\":\"circle\"},\"mode\":\"markers\",\"name\":\"bull\",\"orientation\":\"v\",\"showlegend\":true,\"x\":[3],\"xaxis\":\"x\",\"y\":[5],\"yaxis\":\"y\",\"type\":\"scatter\"},{\"hovertemplate\":\"<b>%{hovertext}</b><br><br>channel=cheriefmrouen-edd<br>nb_topics=%{x}<br>frequency=%{y}<br>duration=%{marker.size}<extra></extra>\",\"hovertext\":[\"cheriefmrouen-edd\"],\"legendgroup\":\"cheriefmrouen-edd\",\"marker\":{\"color\":\"#FF97FF\",\"size\":[24.0],\"sizemode\":\"area\",\"sizeref\":0.13116666666666665,\"symbol\":\"circle\"},\"mode\":\"markers\",\"name\":\"cheriefmrouen-edd\",\"orientation\":\"v\",\"showlegend\":true,\"x\":[1],\"xaxis\":\"x\",\"y\":[1],\"yaxis\":\"y\",\"type\":\"scatter\"},{\"hovertemplate\":\"<b>%{hovertext}</b><br><br>channel=dci<br>nb_topics=%{x}<br>frequency=%{y}<br>duration=%{marker.size}<extra></extra>\",\"hovertext\":[\"dci\"],\"legendgroup\":\"dci\",\"marker\":{\"color\":\"#FECB52\",\"size\":[205.6],\"sizemode\":\"area\",\"sizeref\":0.13116666666666665,\"symbol\":\"circle\"},\"mode\":\"markers\",\"name\":\"dci\",\"orientation\":\"v\",\"showlegend\":true,\"x\":[5],\"xaxis\":\"x\",\"y\":[15],\"yaxis\":\"y\",\"type\":\"scatter\"},{\"hovertemplate\":\"<b>%{hovertext}</b><br><br>channel=euronews<br>nb_topics=%{x}<br>frequency=%{y}<br>duration=%{marker.size}<extra></extra>\",\"hovertext\":[\"euronews\"],\"legendgroup\":\"euronews\",\"marker\":{\"color\":\"#636efa\",\"size\":[144.0],\"sizemode\":\"area\",\"sizeref\":0.13116666666666665,\"symbol\":\"circle\"},\"mode\":\"markers\",\"name\":\"euronews\",\"orientation\":\"v\",\"showlegend\":true,\"x\":[3],\"xaxis\":\"x\",\"y\":[8],\"yaxis\":\"y\",\"type\":\"scatter\"},{\"hovertemplate\":\"<b>%{hovertext}</b><br><br>channel=euroradio-nantes<br>nb_topics=%{x}<br>frequency=%{y}<br>duration=%{marker.size}<extra></extra>\",\"hovertext\":[\"euroradio-nantes\"],\"legendgroup\":\"euroradio-nantes\",\"marker\":{\"color\":\"#EF553B\",\"size\":[357.0],\"sizemode\":\"area\",\"sizeref\":0.13116666666666665,\"symbol\":\"circle\"},\"mode\":\"markers\",\"name\":\"euroradio-nantes\",\"orientation\":\"v\",\"showlegend\":true,\"x\":[3],\"xaxis\":\"x\",\"y\":[22],\"yaxis\":\"y\",\"type\":\"scatter\"},{\"hovertemplate\":\"<b>%{hovertext}</b><br><br>channel=fbleu-alsace<br>nb_topics=%{x}<br>frequency=%{y}<br>duration=%{marker.size}<extra></extra>\",\"hovertext\":[\"fbleu-alsace\"],\"legendgroup\":\"fbleu-alsace\",\"marker\":{\"color\":\"#00cc96\",\"size\":[27.4],\"sizemode\":\"area\",\"sizeref\":0.13116666666666665,\"symbol\":\"circle\"},\"mode\":\"markers\",\"name\":\"fbleu-alsace\",\"orientation\":\"v\",\"showlegend\":true,\"x\":[1],\"xaxis\":\"x\",\"y\":[1],\"yaxis\":\"y\",\"type\":\"scatter\"},{\"hovertemplate\":\"<b>%{hovertext}</b><br><br>channel=fbleu-auvergne<br>nb_topics=%{x}<br>frequency=%{y}<br>duration=%{marker.size}<extra></extra>\",\"hovertext\":[\"fbleu-auvergne\"],\"legendgroup\":\"fbleu-auvergne\",\"marker\":{\"color\":\"#ab63fa\",\"size\":[177.6],\"sizemode\":\"area\",\"sizeref\":0.13116666666666665,\"symbol\":\"circle\"},\"mode\":\"markers\",\"name\":\"fbleu-auvergne\",\"orientation\":\"v\",\"showlegend\":true,\"x\":[5],\"xaxis\":\"x\",\"y\":[13],\"yaxis\":\"y\",\"type\":\"scatter\"},{\"hovertemplate\":\"<b>%{hovertext}</b><br><br>channel=fbleu-auxerre-edd<br>nb_topics=%{x}<br>frequency=%{y}<br>duration=%{marker.size}<extra></extra>\",\"hovertext\":[\"fbleu-auxerre-edd\"],\"legendgroup\":\"fbleu-auxerre-edd\",\"marker\":{\"color\":\"#FFA15A\",\"size\":[63.2],\"sizemode\":\"area\",\"sizeref\":0.13116666666666665,\"symbol\":\"circle\"},\"mode\":\"markers\",\"name\":\"fbleu-auxerre-edd\",\"orientation\":\"v\",\"showlegend\":true,\"x\":[3],\"xaxis\":\"x\",\"y\":[3],\"yaxis\":\"y\",\"type\":\"scatter\"},{\"hovertemplate\":\"<b>%{hovertext}</b><br><br>channel=fbleu-creuse-edd<br>nb_topics=%{x}<br>frequency=%{y}<br>duration=%{marker.size}<extra></extra>\",\"hovertext\":[\"fbleu-creuse-edd\"],\"legendgroup\":\"fbleu-creuse-edd\",\"marker\":{\"color\":\"#19d3f3\",\"size\":[26.2],\"sizemode\":\"area\",\"sizeref\":0.13116666666666665,\"symbol\":\"circle\"},\"mode\":\"markers\",\"name\":\"fbleu-creuse-edd\",\"orientation\":\"v\",\"showlegend\":true,\"x\":[2],\"xaxis\":\"x\",\"y\":[4],\"yaxis\":\"y\",\"type\":\"scatter\"},{\"hovertemplate\":\"<b>%{hovertext}</b><br><br>channel=fbleu-gascogne-edd<br>nb_topics=%{x}<br>frequency=%{y}<br>duration=%{marker.size}<extra></extra>\",\"hovertext\":[\"fbleu-gascogne-edd\"],\"legendgroup\":\"fbleu-gascogne-edd\",\"marker\":{\"color\":\"#FF6692\",\"size\":[117.19999999999999],\"sizemode\":\"area\",\"sizeref\":0.13116666666666665,\"symbol\":\"circle\"},\"mode\":\"markers\",\"name\":\"fbleu-gascogne-edd\",\"orientation\":\"v\",\"showlegend\":true,\"x\":[3],\"xaxis\":\"x\",\"y\":[10],\"yaxis\":\"y\",\"type\":\"scatter\"},{\"hovertemplate\":\"<b>%{hovertext}</b><br><br>channel=fbleu-h-normandie<br>nb_topics=%{x}<br>frequency=%{y}<br>duration=%{marker.size}<extra></extra>\",\"hovertext\":[\"fbleu-h-normandie\"],\"legendgroup\":\"fbleu-h-normandie\",\"marker\":{\"color\":\"#B6E880\",\"size\":[37.0],\"sizemode\":\"area\",\"sizeref\":0.13116666666666665,\"symbol\":\"circle\"},\"mode\":\"markers\",\"name\":\"fbleu-h-normandie\",\"orientation\":\"v\",\"showlegend\":true,\"x\":[2],\"xaxis\":\"x\",\"y\":[2],\"yaxis\":\"y\",\"type\":\"scatter\"},{\"hovertemplate\":\"<b>%{hovertext}</b><br><br>channel=fbleu-herault<br>nb_topics=%{x}<br>frequency=%{y}<br>duration=%{marker.size}<extra></extra>\",\"hovertext\":[\"fbleu-herault\"],\"legendgroup\":\"fbleu-herault\",\"marker\":{\"color\":\"#FF97FF\",\"size\":[25.2],\"sizemode\":\"area\",\"sizeref\":0.13116666666666665,\"symbol\":\"circle\"},\"mode\":\"markers\",\"name\":\"fbleu-herault\",\"orientation\":\"v\",\"showlegend\":true,\"x\":[1],\"xaxis\":\"x\",\"y\":[1],\"yaxis\":\"y\",\"type\":\"scatter\"},{\"hovertemplate\":\"<b>%{hovertext}</b><br><br>channel=fbleu-nord<br>nb_topics=%{x}<br>frequency=%{y}<br>duration=%{marker.size}<extra></extra>\",\"hovertext\":[\"fbleu-nord\"],\"legendgroup\":\"fbleu-nord\",\"marker\":{\"color\":\"#FECB52\",\"size\":[40.8],\"sizemode\":\"area\",\"sizeref\":0.13116666666666665,\"symbol\":\"circle\"},\"mode\":\"markers\",\"name\":\"fbleu-nord\",\"orientation\":\"v\",\"showlegend\":true,\"x\":[2],\"xaxis\":\"x\",\"y\":[2],\"yaxis\":\"y\",\"type\":\"scatter\"},{\"hovertemplate\":\"<b>%{hovertext}</b><br><br>channel=fbleu-perigord-edd<br>nb_topics=%{x}<br>frequency=%{y}<br>duration=%{marker.size}<extra></extra>\",\"hovertext\":[\"fbleu-perigord-edd\"],\"legendgroup\":\"fbleu-perigord-edd\",\"marker\":{\"color\":\"#636efa\",\"size\":[26.599999999999998],\"sizemode\":\"area\",\"sizeref\":0.13116666666666665,\"symbol\":\"circle\"},\"mode\":\"markers\",\"name\":\"fbleu-perigord-edd\",\"orientation\":\"v\",\"showlegend\":true,\"x\":[2],\"xaxis\":\"x\",\"y\":[2],\"yaxis\":\"y\",\"type\":\"scatter\"},{\"hovertemplate\":\"<b>%{hovertext}</b><br><br>channel=fbleu-picardie<br>nb_topics=%{x}<br>frequency=%{y}<br>duration=%{marker.size}<extra></extra>\",\"hovertext\":[\"fbleu-picardie\"],\"legendgroup\":\"fbleu-picardie\",\"marker\":{\"color\":\"#EF553B\",\"size\":[141.8],\"sizemode\":\"area\",\"sizeref\":0.13116666666666665,\"symbol\":\"circle\"},\"mode\":\"markers\",\"name\":\"fbleu-picardie\",\"orientation\":\"v\",\"showlegend\":true,\"x\":[3],\"xaxis\":\"x\",\"y\":[10],\"yaxis\":\"y\",\"type\":\"scatter\"},{\"hovertemplate\":\"<b>%{hovertext}</b><br><br>channel=fbleu-provence<br>nb_topics=%{x}<br>frequency=%{y}<br>duration=%{marker.size}<extra></extra>\",\"hovertext\":[\"fbleu-provence\"],\"legendgroup\":\"fbleu-provence\",\"marker\":{\"color\":\"#00cc96\",\"size\":[112.4],\"sizemode\":\"area\",\"sizeref\":0.13116666666666665,\"symbol\":\"circle\"},\"mode\":\"markers\",\"name\":\"fbleu-provence\",\"orientation\":\"v\",\"showlegend\":true,\"x\":[1],\"xaxis\":\"x\",\"y\":[4],\"yaxis\":\"y\",\"type\":\"scatter\"},{\"hovertemplate\":\"<b>%{hovertext}</b><br><br>channel=fbleu-s-lorraine-edd<br>nb_topics=%{x}<br>frequency=%{y}<br>duration=%{marker.size}<extra></extra>\",\"hovertext\":[\"fbleu-s-lorraine-edd\"],\"legendgroup\":\"fbleu-s-lorraine-edd\",\"marker\":{\"color\":\"#ab63fa\",\"size\":[16.0],\"sizemode\":\"area\",\"sizeref\":0.13116666666666665,\"symbol\":\"circle\"},\"mode\":\"markers\",\"name\":\"fbleu-s-lorraine-edd\",\"orientation\":\"v\",\"showlegend\":true,\"x\":[2],\"xaxis\":\"x\",\"y\":[2],\"yaxis\":\"y\",\"type\":\"scatter\"},{\"hovertemplate\":\"<b>%{hovertext}</b><br><br>channel=fbleu-savoie<br>nb_topics=%{x}<br>frequency=%{y}<br>duration=%{marker.size}<extra></extra>\",\"hovertext\":[\"fbleu-savoie\"],\"legendgroup\":\"fbleu-savoie\",\"marker\":{\"color\":\"#FFA15A\",\"size\":[102.4],\"sizemode\":\"area\",\"sizeref\":0.13116666666666665,\"symbol\":\"circle\"},\"mode\":\"markers\",\"name\":\"fbleu-savoie\",\"orientation\":\"v\",\"showlegend\":true,\"x\":[2],\"xaxis\":\"x\",\"y\":[3],\"yaxis\":\"y\",\"type\":\"scatter\"},{\"hovertemplate\":\"<b>%{hovertext}</b><br><br>channel=flash-edd<br>nb_topics=%{x}<br>frequency=%{y}<br>duration=%{marker.size}<extra></extra>\",\"hovertext\":[\"flash-edd\"],\"legendgroup\":\"flash-edd\",\"marker\":{\"color\":\"#19d3f3\",\"size\":[71.60000000000001],\"sizemode\":\"area\",\"sizeref\":0.13116666666666665,\"symbol\":\"circle\"},\"mode\":\"markers\",\"name\":\"flash-edd\",\"orientation\":\"v\",\"showlegend\":true,\"x\":[3],\"xaxis\":\"x\",\"y\":[6],\"yaxis\":\"y\",\"type\":\"scatter\"},{\"hovertemplate\":\"<b>%{hovertext}</b><br><br>channel=fr3-centre<br>nb_topics=%{x}<br>frequency=%{y}<br>duration=%{marker.size}<extra></extra>\",\"hovertext\":[\"fr3-centre\"],\"legendgroup\":\"fr3-centre\",\"marker\":{\"color\":\"#FF6692\",\"size\":[64.80000000000001],\"sizemode\":\"area\",\"sizeref\":0.13116666666666665,\"symbol\":\"circle\"},\"mode\":\"markers\",\"name\":\"fr3-centre\",\"orientation\":\"v\",\"showlegend\":true,\"x\":[2],\"xaxis\":\"x\",\"y\":[6],\"yaxis\":\"y\",\"type\":\"scatter\"},{\"hovertemplate\":\"<b>%{hovertext}</b><br><br>channel=fr3-champagne<br>nb_topics=%{x}<br>frequency=%{y}<br>duration=%{marker.size}<extra></extra>\",\"hovertext\":[\"fr3-champagne\"],\"legendgroup\":\"fr3-champagne\",\"marker\":{\"color\":\"#B6E880\",\"size\":[85.6],\"sizemode\":\"area\",\"sizeref\":0.13116666666666665,\"symbol\":\"circle\"},\"mode\":\"markers\",\"name\":\"fr3-champagne\",\"orientation\":\"v\",\"showlegend\":true,\"x\":[3],\"xaxis\":\"x\",\"y\":[6],\"yaxis\":\"y\",\"type\":\"scatter\"},{\"hovertemplate\":\"<b>%{hovertext}</b><br><br>channel=fr3-idf<br>nb_topics=%{x}<br>frequency=%{y}<br>duration=%{marker.size}<extra></extra>\",\"hovertext\":[\"fr3-idf\"],\"legendgroup\":\"fr3-idf\",\"marker\":{\"color\":\"#FF97FF\",\"size\":[96.0],\"sizemode\":\"area\",\"sizeref\":0.13116666666666665,\"symbol\":\"circle\"},\"mode\":\"markers\",\"name\":\"fr3-idf\",\"orientation\":\"v\",\"showlegend\":true,\"x\":[3],\"xaxis\":\"x\",\"y\":[7],\"yaxis\":\"y\",\"type\":\"scatter\"},{\"hovertemplate\":\"<b>%{hovertext}</b><br><br>channel=fr3-midi-pyrennees<br>nb_topics=%{x}<br>frequency=%{y}<br>duration=%{marker.size}<extra></extra>\",\"hovertext\":[\"fr3-midi-pyrennees\"],\"legendgroup\":\"fr3-midi-pyrennees\",\"marker\":{\"color\":\"#FECB52\",\"size\":[21.799999999999997],\"sizemode\":\"area\",\"sizeref\":0.13116666666666665,\"symbol\":\"circle\"},\"mode\":\"markers\",\"name\":\"fr3-midi-pyrennees\",\"orientation\":\"v\",\"showlegend\":true,\"x\":[1],\"xaxis\":\"x\",\"y\":[2],\"yaxis\":\"y\",\"type\":\"scatter\"},{\"hovertemplate\":\"<b>%{hovertext}</b><br><br>channel=fr3-prov-alpes<br>nb_topics=%{x}<br>frequency=%{y}<br>duration=%{marker.size}<extra></extra>\",\"hovertext\":[\"fr3-prov-alpes\"],\"legendgroup\":\"fr3-prov-alpes\",\"marker\":{\"color\":\"#636efa\",\"size\":[41.0],\"sizemode\":\"area\",\"sizeref\":0.13116666666666665,\"symbol\":\"circle\"},\"mode\":\"markers\",\"name\":\"fr3-prov-alpes\",\"orientation\":\"v\",\"showlegend\":true,\"x\":[1],\"xaxis\":\"x\",\"y\":[2],\"yaxis\":\"y\",\"type\":\"scatter\"},{\"hovertemplate\":\"<b>%{hovertext}</b><br><br>channel=france-culture<br>nb_topics=%{x}<br>frequency=%{y}<br>duration=%{marker.size}<extra></extra>\",\"hovertext\":[\"france-culture\"],\"legendgroup\":\"france-culture\",\"marker\":{\"color\":\"#EF553B\",\"size\":[233.0],\"sizemode\":\"area\",\"sizeref\":0.13116666666666665,\"symbol\":\"circle\"},\"mode\":\"markers\",\"name\":\"france-culture\",\"orientation\":\"v\",\"showlegend\":true,\"x\":[4],\"xaxis\":\"x\",\"y\":[11],\"yaxis\":\"y\",\"type\":\"scatter\"},{\"hovertemplate\":\"<b>%{hovertext}</b><br><br>channel=france-info<br>nb_topics=%{x}<br>frequency=%{y}<br>duration=%{marker.size}<extra></extra>\",\"hovertext\":[\"france-info\"],\"legendgroup\":\"france-info\",\"marker\":{\"color\":\"#00cc96\",\"size\":[20.799999999999997],\"sizemode\":\"area\",\"sizeref\":0.13116666666666665,\"symbol\":\"circle\"},\"mode\":\"markers\",\"name\":\"france-info\",\"orientation\":\"v\",\"showlegend\":true,\"x\":[1],\"xaxis\":\"x\",\"y\":[2],\"yaxis\":\"y\",\"type\":\"scatter\"},{\"hovertemplate\":\"<b>%{hovertext}</b><br><br>channel=france-inter<br>nb_topics=%{x}<br>frequency=%{y}<br>duration=%{marker.size}<extra></extra>\",\"hovertext\":[\"france-inter\"],\"legendgroup\":\"france-inter\",\"marker\":{\"color\":\"#ab63fa\",\"size\":[261.2],\"sizemode\":\"area\",\"sizeref\":0.13116666666666665,\"symbol\":\"circle\"},\"mode\":\"markers\",\"name\":\"france-inter\",\"orientation\":\"v\",\"showlegend\":true,\"x\":[5],\"xaxis\":\"x\",\"y\":[15],\"yaxis\":\"y\",\"type\":\"scatter\"},{\"hovertemplate\":\"<b>%{hovertext}</b><br><br>channel=france2<br>nb_topics=%{x}<br>frequency=%{y}<br>duration=%{marker.size}<extra></extra>\",\"hovertext\":[\"france2\"],\"legendgroup\":\"france2\",\"marker\":{\"color\":\"#FFA15A\",\"size\":[71.4],\"sizemode\":\"area\",\"sizeref\":0.13116666666666665,\"symbol\":\"circle\"},\"mode\":\"markers\",\"name\":\"france2\",\"orientation\":\"v\",\"showlegend\":true,\"x\":[2],\"xaxis\":\"x\",\"y\":[5],\"yaxis\":\"y\",\"type\":\"scatter\"},{\"hovertemplate\":\"<b>%{hovertext}</b><br><br>channel=france24<br>nb_topics=%{x}<br>frequency=%{y}<br>duration=%{marker.size}<extra></extra>\",\"hovertext\":[\"france24\"],\"legendgroup\":\"france24\",\"marker\":{\"color\":\"#19d3f3\",\"size\":[232.4],\"sizemode\":\"area\",\"sizeref\":0.13116666666666665,\"symbol\":\"circle\"},\"mode\":\"markers\",\"name\":\"france24\",\"orientation\":\"v\",\"showlegend\":true,\"x\":[3],\"xaxis\":\"x\",\"y\":[18],\"yaxis\":\"y\",\"type\":\"scatter\"},{\"hovertemplate\":\"<b>%{hovertext}</b><br><br>channel=france5<br>nb_topics=%{x}<br>frequency=%{y}<br>duration=%{marker.size}<extra></extra>\",\"hovertext\":[\"france5\"],\"legendgroup\":\"france5\",\"marker\":{\"color\":\"#FF6692\",\"size\":[57.6],\"sizemode\":\"area\",\"sizeref\":0.13116666666666665,\"symbol\":\"circle\"},\"mode\":\"markers\",\"name\":\"france5\",\"orientation\":\"v\",\"showlegend\":true,\"x\":[2],\"xaxis\":\"x\",\"y\":[3],\"yaxis\":\"y\",\"type\":\"scatter\"},{\"hovertemplate\":\"<b>%{hovertext}</b><br><br>channel=franceinfotv<br>nb_topics=%{x}<br>frequency=%{y}<br>duration=%{marker.size}<extra></extra>\",\"hovertext\":[\"franceinfotv\"],\"legendgroup\":\"franceinfotv\",\"marker\":{\"color\":\"#B6E880\",\"size\":[115.4],\"sizemode\":\"area\",\"sizeref\":0.13116666666666665,\"symbol\":\"circle\"},\"mode\":\"markers\",\"name\":\"franceinfotv\",\"orientation\":\"v\",\"showlegend\":true,\"x\":[2],\"xaxis\":\"x\",\"y\":[6],\"yaxis\":\"y\",\"type\":\"scatter\"},{\"hovertemplate\":\"<b>%{hovertext}</b><br><br>channel=guadeloupe1-edd<br>nb_topics=%{x}<br>frequency=%{y}<br>duration=%{marker.size}<extra></extra>\",\"hovertext\":[\"guadeloupe1-edd\"],\"legendgroup\":\"guadeloupe1-edd\",\"marker\":{\"color\":\"#FF97FF\",\"size\":[19.4],\"sizemode\":\"area\",\"sizeref\":0.13116666666666665,\"symbol\":\"circle\"},\"mode\":\"markers\",\"name\":\"guadeloupe1-edd\",\"orientation\":\"v\",\"showlegend\":true,\"x\":[2],\"xaxis\":\"x\",\"y\":[2],\"yaxis\":\"y\",\"type\":\"scatter\"},{\"hovertemplate\":\"<b>%{hovertext}</b><br><br>channel=horizon-lba-edd<br>nb_topics=%{x}<br>frequency=%{y}<br>duration=%{marker.size}<extra></extra>\",\"hovertext\":[\"horizon-lba-edd\"],\"legendgroup\":\"horizon-lba-edd\",\"marker\":{\"color\":\"#FECB52\",\"size\":[65.6],\"sizemode\":\"area\",\"sizeref\":0.13116666666666665,\"symbol\":\"circle\"},\"mode\":\"markers\",\"name\":\"horizon-lba-edd\",\"orientation\":\"v\",\"showlegend\":true,\"x\":[2],\"xaxis\":\"x\",\"y\":[3],\"yaxis\":\"y\",\"type\":\"scatter\"},{\"hovertemplate\":\"<b>%{hovertext}</b><br><br>channel=itele<br>nb_topics=%{x}<br>frequency=%{y}<br>duration=%{marker.size}<extra></extra>\",\"hovertext\":[\"itele\"],\"legendgroup\":\"itele\",\"marker\":{\"color\":\"#636efa\",\"size\":[57.800000000000004],\"sizemode\":\"area\",\"sizeref\":0.13116666666666665,\"symbol\":\"circle\"},\"mode\":\"markers\",\"name\":\"itele\",\"orientation\":\"v\",\"showlegend\":true,\"x\":[1],\"xaxis\":\"x\",\"y\":[3],\"yaxis\":\"y\",\"type\":\"scatter\"},{\"hovertemplate\":\"<b>%{hovertext}</b><br><br>channel=lcp<br>nb_topics=%{x}<br>frequency=%{y}<br>duration=%{marker.size}<extra></extra>\",\"hovertext\":[\"lcp\"],\"legendgroup\":\"lcp\",\"marker\":{\"color\":\"#EF553B\",\"size\":[472.2],\"sizemode\":\"area\",\"sizeref\":0.13116666666666665,\"symbol\":\"circle\"},\"mode\":\"markers\",\"name\":\"lcp\",\"orientation\":\"v\",\"showlegend\":true,\"x\":[6],\"xaxis\":\"x\",\"y\":[33],\"yaxis\":\"y\",\"type\":\"scatter\"},{\"hovertemplate\":\"<b>%{hovertext}</b><br><br>channel=lmtv<br>nb_topics=%{x}<br>frequency=%{y}<br>duration=%{marker.size}<extra></extra>\",\"hovertext\":[\"lmtv\"],\"legendgroup\":\"lmtv\",\"marker\":{\"color\":\"#00cc96\",\"size\":[110.0],\"sizemode\":\"area\",\"sizeref\":0.13116666666666665,\"symbol\":\"circle\"},\"mode\":\"markers\",\"name\":\"lmtv\",\"orientation\":\"v\",\"showlegend\":true,\"x\":[3],\"xaxis\":\"x\",\"y\":[8],\"yaxis\":\"y\",\"type\":\"scatter\"},{\"hovertemplate\":\"<b>%{hovertext}</b><br><br>channel=nice-azur-tv<br>nb_topics=%{x}<br>frequency=%{y}<br>duration=%{marker.size}<extra></extra>\",\"hovertext\":[\"nice-azur-tv\"],\"legendgroup\":\"nice-azur-tv\",\"marker\":{\"color\":\"#ab63fa\",\"size\":[12.4],\"sizemode\":\"area\",\"sizeref\":0.13116666666666665,\"symbol\":\"circle\"},\"mode\":\"markers\",\"name\":\"nice-azur-tv\",\"orientation\":\"v\",\"showlegend\":true,\"x\":[1],\"xaxis\":\"x\",\"y\":[1],\"yaxis\":\"y\",\"type\":\"scatter\"},{\"hovertemplate\":\"<b>%{hovertext}</b><br><br>channel=nostalgiecaen-edd<br>nb_topics=%{x}<br>frequency=%{y}<br>duration=%{marker.size}<extra></extra>\",\"hovertext\":[\"nostalgiecaen-edd\"],\"legendgroup\":\"nostalgiecaen-edd\",\"marker\":{\"color\":\"#FFA15A\",\"size\":[75.2],\"sizemode\":\"area\",\"sizeref\":0.13116666666666665,\"symbol\":\"circle\"},\"mode\":\"markers\",\"name\":\"nostalgiecaen-edd\",\"orientation\":\"v\",\"showlegend\":true,\"x\":[3],\"xaxis\":\"x\",\"y\":[8],\"yaxis\":\"y\",\"type\":\"scatter\"},{\"hovertemplate\":\"<b>%{hovertext}</b><br><br>channel=nrj-abbeville<br>nb_topics=%{x}<br>frequency=%{y}<br>duration=%{marker.size}<extra></extra>\",\"hovertext\":[\"nrj-abbeville\"],\"legendgroup\":\"nrj-abbeville\",\"marker\":{\"color\":\"#19d3f3\",\"size\":[65.0],\"sizemode\":\"area\",\"sizeref\":0.13116666666666665,\"symbol\":\"circle\"},\"mode\":\"markers\",\"name\":\"nrj-abbeville\",\"orientation\":\"v\",\"showlegend\":true,\"x\":[4],\"xaxis\":\"x\",\"y\":[8],\"yaxis\":\"y\",\"type\":\"scatter\"},{\"hovertemplate\":\"<b>%{hovertext}</b><br><br>channel=nrjbourgenbresse-edd<br>nb_topics=%{x}<br>frequency=%{y}<br>duration=%{marker.size}<extra></extra>\",\"hovertext\":[\"nrjbourgenbresse-edd\"],\"legendgroup\":\"nrjbourgenbresse-edd\",\"marker\":{\"color\":\"#FF6692\",\"size\":[32.2],\"sizemode\":\"area\",\"sizeref\":0.13116666666666665,\"symbol\":\"circle\"},\"mode\":\"markers\",\"name\":\"nrjbourgenbresse-edd\",\"orientation\":\"v\",\"showlegend\":true,\"x\":[2],\"xaxis\":\"x\",\"y\":[3],\"yaxis\":\"y\",\"type\":\"scatter\"},{\"hovertemplate\":\"<b>%{hovertext}</b><br><br>channel=provence-azur-edd<br>nb_topics=%{x}<br>frequency=%{y}<br>duration=%{marker.size}<extra></extra>\",\"hovertext\":[\"provence-azur-edd\"],\"legendgroup\":\"provence-azur-edd\",\"marker\":{\"color\":\"#B6E880\",\"size\":[37.2],\"sizemode\":\"area\",\"sizeref\":0.13116666666666665,\"symbol\":\"circle\"},\"mode\":\"markers\",\"name\":\"provence-azur-edd\",\"orientation\":\"v\",\"showlegend\":true,\"x\":[1],\"xaxis\":\"x\",\"y\":[1],\"yaxis\":\"y\",\"type\":\"scatter\"},{\"hovertemplate\":\"<b>%{hovertext}</b><br><br>channel=radioimmo-edd<br>nb_topics=%{x}<br>frequency=%{y}<br>duration=%{marker.size}<extra></extra>\",\"hovertext\":[\"radioimmo-edd\"],\"legendgroup\":\"radioimmo-edd\",\"marker\":{\"color\":\"#FF97FF\",\"size\":[11.4],\"sizemode\":\"area\",\"sizeref\":0.13116666666666665,\"symbol\":\"circle\"},\"mode\":\"markers\",\"name\":\"radioimmo-edd\",\"orientation\":\"v\",\"showlegend\":true,\"x\":[1],\"xaxis\":\"x\",\"y\":[1],\"yaxis\":\"y\",\"type\":\"scatter\"},{\"hovertemplate\":\"<b>%{hovertext}</b><br><br>channel=radioopenfm-edd<br>nb_topics=%{x}<br>frequency=%{y}<br>duration=%{marker.size}<extra></extra>\",\"hovertext\":[\"radioopenfm-edd\"],\"legendgroup\":\"radioopenfm-edd\",\"marker\":{\"color\":\"#FECB52\",\"size\":[85.80000000000001],\"sizemode\":\"area\",\"sizeref\":0.13116666666666665,\"symbol\":\"circle\"},\"mode\":\"markers\",\"name\":\"radioopenfm-edd\",\"orientation\":\"v\",\"showlegend\":true,\"x\":[2],\"xaxis\":\"x\",\"y\":[5],\"yaxis\":\"y\",\"type\":\"scatter\"},{\"hovertemplate\":\"<b>%{hovertext}</b><br><br>channel=rcf-anjou<br>nb_topics=%{x}<br>frequency=%{y}<br>duration=%{marker.size}<extra></extra>\",\"hovertext\":[\"rcf-anjou\"],\"legendgroup\":\"rcf-anjou\",\"marker\":{\"color\":\"#636efa\",\"size\":[9.0],\"sizemode\":\"area\",\"sizeref\":0.13116666666666665,\"symbol\":\"circle\"},\"mode\":\"markers\",\"name\":\"rcf-anjou\",\"orientation\":\"v\",\"showlegend\":true,\"x\":[1],\"xaxis\":\"x\",\"y\":[1],\"yaxis\":\"y\",\"type\":\"scatter\"},{\"hovertemplate\":\"<b>%{hovertext}</b><br><br>channel=rcf-bordeaux<br>nb_topics=%{x}<br>frequency=%{y}<br>duration=%{marker.size}<extra></extra>\",\"hovertext\":[\"rcf-bordeaux\"],\"legendgroup\":\"rcf-bordeaux\",\"marker\":{\"color\":\"#EF553B\",\"size\":[58.6],\"sizemode\":\"area\",\"sizeref\":0.13116666666666665,\"symbol\":\"circle\"},\"mode\":\"markers\",\"name\":\"rcf-bordeaux\",\"orientation\":\"v\",\"showlegend\":true,\"x\":[3],\"xaxis\":\"x\",\"y\":[5],\"yaxis\":\"y\",\"type\":\"scatter\"},{\"hovertemplate\":\"<b>%{hovertext}</b><br><br>channel=rcf-h-normandie<br>nb_topics=%{x}<br>frequency=%{y}<br>duration=%{marker.size}<extra></extra>\",\"hovertext\":[\"rcf-h-normandie\"],\"legendgroup\":\"rcf-h-normandie\",\"marker\":{\"color\":\"#00cc96\",\"size\":[15.6],\"sizemode\":\"area\",\"sizeref\":0.13116666666666665,\"symbol\":\"circle\"},\"mode\":\"markers\",\"name\":\"rcf-h-normandie\",\"orientation\":\"v\",\"showlegend\":true,\"x\":[1],\"xaxis\":\"x\",\"y\":[1],\"yaxis\":\"y\",\"type\":\"scatter\"},{\"hovertemplate\":\"<b>%{hovertext}</b><br><br>channel=rcf-nievre-edd<br>nb_topics=%{x}<br>frequency=%{y}<br>duration=%{marker.size}<extra></extra>\",\"hovertext\":[\"rcf-nievre-edd\"],\"legendgroup\":\"rcf-nievre-edd\",\"marker\":{\"color\":\"#ab63fa\",\"size\":[179.2],\"sizemode\":\"area\",\"sizeref\":0.13116666666666665,\"symbol\":\"circle\"},\"mode\":\"markers\",\"name\":\"rcf-nievre-edd\",\"orientation\":\"v\",\"showlegend\":true,\"x\":[2],\"xaxis\":\"x\",\"y\":[11],\"yaxis\":\"y\",\"type\":\"scatter\"},{\"hovertemplate\":\"<b>%{hovertext}</b><br><br>channel=rcf-st-martin<br>nb_topics=%{x}<br>frequency=%{y}<br>duration=%{marker.size}<extra></extra>\",\"hovertext\":[\"rcf-st-martin\"],\"legendgroup\":\"rcf-st-martin\",\"marker\":{\"color\":\"#FFA15A\",\"size\":[150.0],\"sizemode\":\"area\",\"sizeref\":0.13116666666666665,\"symbol\":\"circle\"},\"mode\":\"markers\",\"name\":\"rcf-st-martin\",\"orientation\":\"v\",\"showlegend\":true,\"x\":[4],\"xaxis\":\"x\",\"y\":[10],\"yaxis\":\"y\",\"type\":\"scatter\"},{\"hovertemplate\":\"<b>%{hovertext}</b><br><br>channel=rcfcharente-edd<br>nb_topics=%{x}<br>frequency=%{y}<br>duration=%{marker.size}<extra></extra>\",\"hovertext\":[\"rcfcharente-edd\"],\"legendgroup\":\"rcfcharente-edd\",\"marker\":{\"color\":\"#19d3f3\",\"size\":[11.8],\"sizemode\":\"area\",\"sizeref\":0.13116666666666665,\"symbol\":\"circle\"},\"mode\":\"markers\",\"name\":\"rcfcharente-edd\",\"orientation\":\"v\",\"showlegend\":true,\"x\":[2],\"xaxis\":\"x\",\"y\":[2],\"yaxis\":\"y\",\"type\":\"scatter\"},{\"hovertemplate\":\"<b>%{hovertext}</b><br><br>channel=rtf-limoges<br>nb_topics=%{x}<br>frequency=%{y}<br>duration=%{marker.size}<extra></extra>\",\"hovertext\":[\"rtf-limoges\"],\"legendgroup\":\"rtf-limoges\",\"marker\":{\"color\":\"#FF6692\",\"size\":[103.2],\"sizemode\":\"area\",\"sizeref\":0.13116666666666665,\"symbol\":\"circle\"},\"mode\":\"markers\",\"name\":\"rtf-limoges\",\"orientation\":\"v\",\"showlegend\":true,\"x\":[2],\"xaxis\":\"x\",\"y\":[10],\"yaxis\":\"y\",\"type\":\"scatter\"},{\"hovertemplate\":\"<b>%{hovertext}</b><br><br>channel=rts1-edd<br>nb_topics=%{x}<br>frequency=%{y}<br>duration=%{marker.size}<extra></extra>\",\"hovertext\":[\"rts1-edd\"],\"legendgroup\":\"rts1-edd\",\"marker\":{\"color\":\"#B6E880\",\"size\":[115.8],\"sizemode\":\"area\",\"sizeref\":0.13116666666666665,\"symbol\":\"circle\"},\"mode\":\"markers\",\"name\":\"rts1-edd\",\"orientation\":\"v\",\"showlegend\":true,\"x\":[4],\"xaxis\":\"x\",\"y\":[12],\"yaxis\":\"y\",\"type\":\"scatter\"},{\"hovertemplate\":\"<b>%{hovertext}</b><br><br>channel=supplychainradio-edd<br>nb_topics=%{x}<br>frequency=%{y}<br>duration=%{marker.size}<extra></extra>\",\"hovertext\":[\"supplychainradio-edd\"],\"legendgroup\":\"supplychainradio-edd\",\"marker\":{\"color\":\"#FF97FF\",\"size\":[104.2],\"sizemode\":\"area\",\"sizeref\":0.13116666666666665,\"symbol\":\"circle\"},\"mode\":\"markers\",\"name\":\"supplychainradio-edd\",\"orientation\":\"v\",\"showlegend\":true,\"x\":[3],\"xaxis\":\"x\",\"y\":[9],\"yaxis\":\"y\",\"type\":\"scatter\"},{\"hovertemplate\":\"<b>%{hovertext}</b><br><br>channel=tebesud-edd<br>nb_topics=%{x}<br>frequency=%{y}<br>duration=%{marker.size}<extra></extra>\",\"hovertext\":[\"tebesud-edd\"],\"legendgroup\":\"tebesud-edd\",\"marker\":{\"color\":\"#FECB52\",\"size\":[137.4],\"sizemode\":\"area\",\"sizeref\":0.13116666666666665,\"symbol\":\"circle\"},\"mode\":\"markers\",\"name\":\"tebesud-edd\",\"orientation\":\"v\",\"showlegend\":true,\"x\":[2],\"xaxis\":\"x\",\"y\":[6],\"yaxis\":\"y\",\"type\":\"scatter\"},{\"hovertemplate\":\"<b>%{hovertext}</b><br><br>channel=teleloire7<br>nb_topics=%{x}<br>frequency=%{y}<br>duration=%{marker.size}<extra></extra>\",\"hovertext\":[\"teleloire7\"],\"legendgroup\":\"teleloire7\",\"marker\":{\"color\":\"#636efa\",\"size\":[136.2],\"sizemode\":\"area\",\"sizeref\":0.13116666666666665,\"symbol\":\"circle\"},\"mode\":\"markers\",\"name\":\"teleloire7\",\"orientation\":\"v\",\"showlegend\":true,\"x\":[2],\"xaxis\":\"x\",\"y\":[4],\"yaxis\":\"y\",\"type\":\"scatter\"},{\"hovertemplate\":\"<b>%{hovertext}</b><br><br>channel=telenantes<br>nb_topics=%{x}<br>frequency=%{y}<br>duration=%{marker.size}<extra></extra>\",\"hovertext\":[\"telenantes\"],\"legendgroup\":\"telenantes\",\"marker\":{\"color\":\"#EF553B\",\"size\":[201.6],\"sizemode\":\"area\",\"sizeref\":0.13116666666666665,\"symbol\":\"circle\"},\"mode\":\"markers\",\"name\":\"telenantes\",\"orientation\":\"v\",\"showlegend\":true,\"x\":[5],\"xaxis\":\"x\",\"y\":[18],\"yaxis\":\"y\",\"type\":\"scatter\"},{\"hovertemplate\":\"<b>%{hovertext}</b><br><br>channel=tv-tours<br>nb_topics=%{x}<br>frequency=%{y}<br>duration=%{marker.size}<extra></extra>\",\"hovertext\":[\"tv-tours\"],\"legendgroup\":\"tv-tours\",\"marker\":{\"color\":\"#00cc96\",\"size\":[183.0],\"sizemode\":\"area\",\"sizeref\":0.13116666666666665,\"symbol\":\"circle\"},\"mode\":\"markers\",\"name\":\"tv-tours\",\"orientation\":\"v\",\"showlegend\":true,\"x\":[4],\"xaxis\":\"x\",\"y\":[9],\"yaxis\":\"y\",\"type\":\"scatter\"},{\"hovertemplate\":\"<b>%{hovertext}</b><br><br>channel=tv5<br>nb_topics=%{x}<br>frequency=%{y}<br>duration=%{marker.size}<extra></extra>\",\"hovertext\":[\"tv5\"],\"legendgroup\":\"tv5\",\"marker\":{\"color\":\"#ab63fa\",\"size\":[16.4],\"sizemode\":\"area\",\"sizeref\":0.13116666666666665,\"symbol\":\"circle\"},\"mode\":\"markers\",\"name\":\"tv5\",\"orientation\":\"v\",\"showlegend\":true,\"x\":[1],\"xaxis\":\"x\",\"y\":[1],\"yaxis\":\"y\",\"type\":\"scatter\"},{\"hovertemplate\":\"<b>%{hovertext}</b><br><br>channel=vfm<br>nb_topics=%{x}<br>frequency=%{y}<br>duration=%{marker.size}<extra></extra>\",\"hovertext\":[\"vfm\"],\"legendgroup\":\"vfm\",\"marker\":{\"color\":\"#FFA15A\",\"size\":[74.19999999999999],\"sizemode\":\"area\",\"sizeref\":0.13116666666666665,\"symbol\":\"circle\"},\"mode\":\"markers\",\"name\":\"vfm\",\"orientation\":\"v\",\"showlegend\":true,\"x\":[3],\"xaxis\":\"x\",\"y\":[5],\"yaxis\":\"y\",\"type\":\"scatter\"},{\"hovertemplate\":\"<b>%{hovertext}</b><br><br>channel=viaoccitanie-edd<br>nb_topics=%{x}<br>frequency=%{y}<br>duration=%{marker.size}<extra></extra>\",\"hovertext\":[\"viaoccitanie-edd\"],\"legendgroup\":\"viaoccitanie-edd\",\"marker\":{\"color\":\"#19d3f3\",\"size\":[101.2],\"sizemode\":\"area\",\"sizeref\":0.13116666666666665,\"symbol\":\"circle\"},\"mode\":\"markers\",\"name\":\"viaoccitanie-edd\",\"orientation\":\"v\",\"showlegend\":true,\"x\":[3],\"xaxis\":\"x\",\"y\":[10],\"yaxis\":\"y\",\"type\":\"scatter\"}],                        {\"template\":{\"data\":{\"bar\":[{\"error_x\":{\"color\":\"#2a3f5f\"},\"error_y\":{\"color\":\"#2a3f5f\"},\"marker\":{\"line\":{\"color\":\"#E5ECF6\",\"width\":0.5},\"pattern\":{\"fillmode\":\"overlay\",\"size\":10,\"solidity\":0.2}},\"type\":\"bar\"}],\"barpolar\":[{\"marker\":{\"line\":{\"color\":\"#E5ECF6\",\"width\":0.5},\"pattern\":{\"fillmode\":\"overlay\",\"size\":10,\"solidity\":0.2}},\"type\":\"barpolar\"}],\"carpet\":[{\"aaxis\":{\"endlinecolor\":\"#2a3f5f\",\"gridcolor\":\"white\",\"linecolor\":\"white\",\"minorgridcolor\":\"white\",\"startlinecolor\":\"#2a3f5f\"},\"baxis\":{\"endlinecolor\":\"#2a3f5f\",\"gridcolor\":\"white\",\"linecolor\":\"white\",\"minorgridcolor\":\"white\",\"startlinecolor\":\"#2a3f5f\"},\"type\":\"carpet\"}],\"choropleth\":[{\"colorbar\":{\"outlinewidth\":0,\"ticks\":\"\"},\"type\":\"choropleth\"}],\"contour\":[{\"colorbar\":{\"outlinewidth\":0,\"ticks\":\"\"},\"colorscale\":[[0.0,\"#0d0887\"],[0.1111111111111111,\"#46039f\"],[0.2222222222222222,\"#7201a8\"],[0.3333333333333333,\"#9c179e\"],[0.4444444444444444,\"#bd3786\"],[0.5555555555555556,\"#d8576b\"],[0.6666666666666666,\"#ed7953\"],[0.7777777777777778,\"#fb9f3a\"],[0.8888888888888888,\"#fdca26\"],[1.0,\"#f0f921\"]],\"type\":\"contour\"}],\"contourcarpet\":[{\"colorbar\":{\"outlinewidth\":0,\"ticks\":\"\"},\"type\":\"contourcarpet\"}],\"heatmap\":[{\"colorbar\":{\"outlinewidth\":0,\"ticks\":\"\"},\"colorscale\":[[0.0,\"#0d0887\"],[0.1111111111111111,\"#46039f\"],[0.2222222222222222,\"#7201a8\"],[0.3333333333333333,\"#9c179e\"],[0.4444444444444444,\"#bd3786\"],[0.5555555555555556,\"#d8576b\"],[0.6666666666666666,\"#ed7953\"],[0.7777777777777778,\"#fb9f3a\"],[0.8888888888888888,\"#fdca26\"],[1.0,\"#f0f921\"]],\"type\":\"heatmap\"}],\"heatmapgl\":[{\"colorbar\":{\"outlinewidth\":0,\"ticks\":\"\"},\"colorscale\":[[0.0,\"#0d0887\"],[0.1111111111111111,\"#46039f\"],[0.2222222222222222,\"#7201a8\"],[0.3333333333333333,\"#9c179e\"],[0.4444444444444444,\"#bd3786\"],[0.5555555555555556,\"#d8576b\"],[0.6666666666666666,\"#ed7953\"],[0.7777777777777778,\"#fb9f3a\"],[0.8888888888888888,\"#fdca26\"],[1.0,\"#f0f921\"]],\"type\":\"heatmapgl\"}],\"histogram\":[{\"marker\":{\"pattern\":{\"fillmode\":\"overlay\",\"size\":10,\"solidity\":0.2}},\"type\":\"histogram\"}],\"histogram2d\":[{\"colorbar\":{\"outlinewidth\":0,\"ticks\":\"\"},\"colorscale\":[[0.0,\"#0d0887\"],[0.1111111111111111,\"#46039f\"],[0.2222222222222222,\"#7201a8\"],[0.3333333333333333,\"#9c179e\"],[0.4444444444444444,\"#bd3786\"],[0.5555555555555556,\"#d8576b\"],[0.6666666666666666,\"#ed7953\"],[0.7777777777777778,\"#fb9f3a\"],[0.8888888888888888,\"#fdca26\"],[1.0,\"#f0f921\"]],\"type\":\"histogram2d\"}],\"histogram2dcontour\":[{\"colorbar\":{\"outlinewidth\":0,\"ticks\":\"\"},\"colorscale\":[[0.0,\"#0d0887\"],[0.1111111111111111,\"#46039f\"],[0.2222222222222222,\"#7201a8\"],[0.3333333333333333,\"#9c179e\"],[0.4444444444444444,\"#bd3786\"],[0.5555555555555556,\"#d8576b\"],[0.6666666666666666,\"#ed7953\"],[0.7777777777777778,\"#fb9f3a\"],[0.8888888888888888,\"#fdca26\"],[1.0,\"#f0f921\"]],\"type\":\"histogram2dcontour\"}],\"mesh3d\":[{\"colorbar\":{\"outlinewidth\":0,\"ticks\":\"\"},\"type\":\"mesh3d\"}],\"parcoords\":[{\"line\":{\"colorbar\":{\"outlinewidth\":0,\"ticks\":\"\"}},\"type\":\"parcoords\"}],\"pie\":[{\"automargin\":true,\"type\":\"pie\"}],\"scatter\":[{\"marker\":{\"colorbar\":{\"outlinewidth\":0,\"ticks\":\"\"}},\"type\":\"scatter\"}],\"scatter3d\":[{\"line\":{\"colorbar\":{\"outlinewidth\":0,\"ticks\":\"\"}},\"marker\":{\"colorbar\":{\"outlinewidth\":0,\"ticks\":\"\"}},\"type\":\"scatter3d\"}],\"scattercarpet\":[{\"marker\":{\"colorbar\":{\"outlinewidth\":0,\"ticks\":\"\"}},\"type\":\"scattercarpet\"}],\"scattergeo\":[{\"marker\":{\"colorbar\":{\"outlinewidth\":0,\"ticks\":\"\"}},\"type\":\"scattergeo\"}],\"scattergl\":[{\"marker\":{\"colorbar\":{\"outlinewidth\":0,\"ticks\":\"\"}},\"type\":\"scattergl\"}],\"scattermapbox\":[{\"marker\":{\"colorbar\":{\"outlinewidth\":0,\"ticks\":\"\"}},\"type\":\"scattermapbox\"}],\"scatterpolar\":[{\"marker\":{\"colorbar\":{\"outlinewidth\":0,\"ticks\":\"\"}},\"type\":\"scatterpolar\"}],\"scatterpolargl\":[{\"marker\":{\"colorbar\":{\"outlinewidth\":0,\"ticks\":\"\"}},\"type\":\"scatterpolargl\"}],\"scatterternary\":[{\"marker\":{\"colorbar\":{\"outlinewidth\":0,\"ticks\":\"\"}},\"type\":\"scatterternary\"}],\"surface\":[{\"colorbar\":{\"outlinewidth\":0,\"ticks\":\"\"},\"colorscale\":[[0.0,\"#0d0887\"],[0.1111111111111111,\"#46039f\"],[0.2222222222222222,\"#7201a8\"],[0.3333333333333333,\"#9c179e\"],[0.4444444444444444,\"#bd3786\"],[0.5555555555555556,\"#d8576b\"],[0.6666666666666666,\"#ed7953\"],[0.7777777777777778,\"#fb9f3a\"],[0.8888888888888888,\"#fdca26\"],[1.0,\"#f0f921\"]],\"type\":\"surface\"}],\"table\":[{\"cells\":{\"fill\":{\"color\":\"#EBF0F8\"},\"line\":{\"color\":\"white\"}},\"header\":{\"fill\":{\"color\":\"#C8D4E3\"},\"line\":{\"color\":\"white\"}},\"type\":\"table\"}]},\"layout\":{\"annotationdefaults\":{\"arrowcolor\":\"#2a3f5f\",\"arrowhead\":0,\"arrowwidth\":1},\"autotypenumbers\":\"strict\",\"coloraxis\":{\"colorbar\":{\"outlinewidth\":0,\"ticks\":\"\"}},\"colorscale\":{\"diverging\":[[0,\"#8e0152\"],[0.1,\"#c51b7d\"],[0.2,\"#de77ae\"],[0.3,\"#f1b6da\"],[0.4,\"#fde0ef\"],[0.5,\"#f7f7f7\"],[0.6,\"#e6f5d0\"],[0.7,\"#b8e186\"],[0.8,\"#7fbc41\"],[0.9,\"#4d9221\"],[1,\"#276419\"]],\"sequential\":[[0.0,\"#0d0887\"],[0.1111111111111111,\"#46039f\"],[0.2222222222222222,\"#7201a8\"],[0.3333333333333333,\"#9c179e\"],[0.4444444444444444,\"#bd3786\"],[0.5555555555555556,\"#d8576b\"],[0.6666666666666666,\"#ed7953\"],[0.7777777777777778,\"#fb9f3a\"],[0.8888888888888888,\"#fdca26\"],[1.0,\"#f0f921\"]],\"sequentialminus\":[[0.0,\"#0d0887\"],[0.1111111111111111,\"#46039f\"],[0.2222222222222222,\"#7201a8\"],[0.3333333333333333,\"#9c179e\"],[0.4444444444444444,\"#bd3786\"],[0.5555555555555556,\"#d8576b\"],[0.6666666666666666,\"#ed7953\"],[0.7777777777777778,\"#fb9f3a\"],[0.8888888888888888,\"#fdca26\"],[1.0,\"#f0f921\"]]},\"colorway\":[\"#636efa\",\"#EF553B\",\"#00cc96\",\"#ab63fa\",\"#FFA15A\",\"#19d3f3\",\"#FF6692\",\"#B6E880\",\"#FF97FF\",\"#FECB52\"],\"font\":{\"color\":\"#2a3f5f\"},\"geo\":{\"bgcolor\":\"white\",\"lakecolor\":\"white\",\"landcolor\":\"#E5ECF6\",\"showlakes\":true,\"showland\":true,\"subunitcolor\":\"white\"},\"hoverlabel\":{\"align\":\"left\"},\"hovermode\":\"closest\",\"mapbox\":{\"style\":\"light\"},\"paper_bgcolor\":\"white\",\"plot_bgcolor\":\"#E5ECF6\",\"polar\":{\"angularaxis\":{\"gridcolor\":\"white\",\"linecolor\":\"white\",\"ticks\":\"\"},\"bgcolor\":\"#E5ECF6\",\"radialaxis\":{\"gridcolor\":\"white\",\"linecolor\":\"white\",\"ticks\":\"\"}},\"scene\":{\"xaxis\":{\"backgroundcolor\":\"#E5ECF6\",\"gridcolor\":\"white\",\"gridwidth\":2,\"linecolor\":\"white\",\"showbackground\":true,\"ticks\":\"\",\"zerolinecolor\":\"white\"},\"yaxis\":{\"backgroundcolor\":\"#E5ECF6\",\"gridcolor\":\"white\",\"gridwidth\":2,\"linecolor\":\"white\",\"showbackground\":true,\"ticks\":\"\",\"zerolinecolor\":\"white\"},\"zaxis\":{\"backgroundcolor\":\"#E5ECF6\",\"gridcolor\":\"white\",\"gridwidth\":2,\"linecolor\":\"white\",\"showbackground\":true,\"ticks\":\"\",\"zerolinecolor\":\"white\"}},\"shapedefaults\":{\"line\":{\"color\":\"#2a3f5f\"}},\"ternary\":{\"aaxis\":{\"gridcolor\":\"white\",\"linecolor\":\"white\",\"ticks\":\"\"},\"baxis\":{\"gridcolor\":\"white\",\"linecolor\":\"white\",\"ticks\":\"\"},\"bgcolor\":\"#E5ECF6\",\"caxis\":{\"gridcolor\":\"white\",\"linecolor\":\"white\",\"ticks\":\"\"}},\"title\":{\"x\":0.05},\"xaxis\":{\"automargin\":true,\"gridcolor\":\"white\",\"linecolor\":\"white\",\"ticks\":\"\",\"title\":{\"standoff\":15},\"zerolinecolor\":\"white\",\"zerolinewidth\":2},\"yaxis\":{\"automargin\":true,\"gridcolor\":\"white\",\"linecolor\":\"white\",\"ticks\":\"\",\"title\":{\"standoff\":15},\"zerolinecolor\":\"white\",\"zerolinewidth\":2}}},\"xaxis\":{\"anchor\":\"y\",\"domain\":[0.0,1.0],\"title\":{\"text\":\"nb_topics\"},\"type\":\"log\"},\"yaxis\":{\"anchor\":\"x\",\"domain\":[0.0,1.0],\"title\":{\"text\":\"frequency\"}},\"legend\":{\"title\":{\"text\":\"channel\"},\"tracegroupgap\":0,\"itemsizing\":\"constant\"},\"title\":{\"text\":\"Place du Changement Climatique dans les m\\u00e9dias TV et Radio\"}},                        {\"responsive\": true}                    ).then(function(){\n",
       "                            \n",
       "var gd = document.getElementById('c0a2bcb1-df99-4aa0-97b0-2e76facf5dec');\n",
       "var x = new MutationObserver(function (mutations, observer) {{\n",
       "        var display = window.getComputedStyle(gd).display;\n",
       "        if (!display || display === 'none') {{\n",
       "            console.log([gd, 'removed!']);\n",
       "            Plotly.purge(gd);\n",
       "            observer.disconnect();\n",
       "        }}\n",
       "}});\n",
       "\n",
       "// Listen for the removal of the full notebook cells\n",
       "var notebookContainer = gd.closest('#notebook-container');\n",
       "if (notebookContainer) {{\n",
       "    x.observe(notebookContainer, {childList: true});\n",
       "}}\n",
       "\n",
       "// Listen for the clearing of the current output cell\n",
       "var outputEl = gd.closest('.output');\n",
       "if (outputEl) {{\n",
       "    x.observe(outputEl, {childList: true});\n",
       "}}\n",
       "\n",
       "                        })                };                });            </script>        </div>"
      ]
     },
     "metadata": {},
     "output_type": "display_data"
    }
   ],
   "source": [
    "import plotly.express as px\n",
    "fig = px.scatter(stats, x=\"nb_topics\", y=\"frequency\",size=\"duration\", color=\"channel\", hover_name=\"channel\", \n",
    "                 title='Place du Changement Climatique dans les médias TV et Radio', log_x=True, size_max=60)\n",
    "fig.show()"
   ]
  },
  {
   "cell_type": "code",
   "execution_count": 54,
   "id": "6370d9b4",
   "metadata": {
    "scrolled": true
   },
   "outputs": [
    {
     "data": {
      "application/vnd.plotly.v1+json": {
       "config": {
        "plotlyServerURL": "https://plot.ly"
       },
       "data": [
        {
         "alignmentgroup": "True",
         "bingroup": "x",
         "histfunc": "sum",
         "hovertemplate": "media=TV<br>channel=%{x}<br>sum of duration=%{y}<extra></extra>",
         "legendgroup": "TV",
         "marker": {
          "color": "#636efa",
          "pattern": {
           "shape": ""
          }
         },
         "name": "TV",
         "offsetgroup": "TV",
         "orientation": "v",
         "showlegend": true,
         "type": "histogram",
         "x": [
          "8-mont-blanc",
          "arte",
          "bfmgrandlittoral-edd",
          "bfmlyon",
          "bfmtv",
          "bsmart-edd",
          "dci",
          "euronews",
          "fr3-centre",
          "fr3-champagne",
          "fr3-idf",
          "fr3-midi-pyrennees",
          "fr3-prov-alpes",
          "france2",
          "france24",
          "france5",
          "franceinfotv",
          "itele",
          "lcp",
          "lmtv",
          "nice-azur-tv",
          "provence-azur-edd",
          "tebesud-edd",
          "teleloire7",
          "telenantes",
          "tv-tours",
          "tv5",
          "viaoccitanie-edd"
         ],
         "xaxis": "x",
         "y": [
          103.2,
          26.6,
          31,
          63.4,
          228,
          37.8,
          205.6,
          144,
          64.80000000000001,
          85.6,
          96,
          21.799999999999997,
          41,
          71.4,
          232.4,
          57.6,
          115.4,
          57.800000000000004,
          472.2,
          110,
          12.4,
          37.2,
          137.4,
          136.2,
          201.6,
          183,
          16.4,
          101.2
         ],
         "yaxis": "y"
        },
        {
         "alignmentgroup": "True",
         "bingroup": "x",
         "histfunc": "sum",
         "hovertemplate": "media=Radio<br>channel=%{x}<br>sum of duration=%{y}<extra></extra>",
         "legendgroup": "Radio",
         "marker": {
          "color": "#EF553B",
          "pattern": {
           "shape": ""
          }
         },
         "name": "Radio",
         "offsetgroup": "Radio",
         "orientation": "v",
         "showlegend": true,
         "type": "histogram",
         "x": [
          "bergerac",
          "bull",
          "cheriefmrouen-edd",
          "euroradio-nantes",
          "fbleu-alsace",
          "fbleu-auvergne",
          "fbleu-auxerre-edd",
          "fbleu-creuse-edd",
          "fbleu-gascogne-edd",
          "fbleu-h-normandie",
          "fbleu-herault",
          "fbleu-nord",
          "fbleu-perigord-edd",
          "fbleu-picardie",
          "fbleu-provence",
          "fbleu-s-lorraine-edd",
          "fbleu-savoie",
          "flash-edd",
          "france-culture",
          "france-info",
          "france-inter",
          "guadeloupe1-edd",
          "horizon-lba-edd",
          "nostalgiecaen-edd",
          "nrj-abbeville",
          "nrjbourgenbresse-edd",
          "radioimmo-edd",
          "radioopenfm-edd",
          "rcf-anjou",
          "rcf-bordeaux",
          "rcf-h-normandie",
          "rcf-nievre-edd",
          "rcf-st-martin",
          "rcfcharente-edd",
          "rtf-limoges",
          "rts1-edd",
          "supplychainradio-edd",
          "vfm"
         ],
         "xaxis": "x",
         "y": [
          35.599999999999994,
          81,
          24,
          357,
          27.4,
          177.6,
          63.2,
          26.2,
          117.19999999999999,
          37,
          25.2,
          40.8,
          26.599999999999998,
          141.8,
          112.4,
          16,
          102.4,
          71.60000000000001,
          233,
          20.799999999999997,
          261.2,
          19.4,
          65.6,
          75.2,
          65,
          32.2,
          11.4,
          85.80000000000001,
          9,
          58.6,
          15.6,
          179.2,
          150,
          11.8,
          103.2,
          115.8,
          104.2,
          74.19999999999999
         ],
         "yaxis": "y"
        }
       ],
       "layout": {
        "barmode": "relative",
        "legend": {
         "title": {
          "text": "media"
         },
         "tracegroupgap": 0
        },
        "template": {
         "data": {
          "bar": [
           {
            "error_x": {
             "color": "#2a3f5f"
            },
            "error_y": {
             "color": "#2a3f5f"
            },
            "marker": {
             "line": {
              "color": "#E5ECF6",
              "width": 0.5
             },
             "pattern": {
              "fillmode": "overlay",
              "size": 10,
              "solidity": 0.2
             }
            },
            "type": "bar"
           }
          ],
          "barpolar": [
           {
            "marker": {
             "line": {
              "color": "#E5ECF6",
              "width": 0.5
             },
             "pattern": {
              "fillmode": "overlay",
              "size": 10,
              "solidity": 0.2
             }
            },
            "type": "barpolar"
           }
          ],
          "carpet": [
           {
            "aaxis": {
             "endlinecolor": "#2a3f5f",
             "gridcolor": "white",
             "linecolor": "white",
             "minorgridcolor": "white",
             "startlinecolor": "#2a3f5f"
            },
            "baxis": {
             "endlinecolor": "#2a3f5f",
             "gridcolor": "white",
             "linecolor": "white",
             "minorgridcolor": "white",
             "startlinecolor": "#2a3f5f"
            },
            "type": "carpet"
           }
          ],
          "choropleth": [
           {
            "colorbar": {
             "outlinewidth": 0,
             "ticks": ""
            },
            "type": "choropleth"
           }
          ],
          "contour": [
           {
            "colorbar": {
             "outlinewidth": 0,
             "ticks": ""
            },
            "colorscale": [
             [
              0,
              "#0d0887"
             ],
             [
              0.1111111111111111,
              "#46039f"
             ],
             [
              0.2222222222222222,
              "#7201a8"
             ],
             [
              0.3333333333333333,
              "#9c179e"
             ],
             [
              0.4444444444444444,
              "#bd3786"
             ],
             [
              0.5555555555555556,
              "#d8576b"
             ],
             [
              0.6666666666666666,
              "#ed7953"
             ],
             [
              0.7777777777777778,
              "#fb9f3a"
             ],
             [
              0.8888888888888888,
              "#fdca26"
             ],
             [
              1,
              "#f0f921"
             ]
            ],
            "type": "contour"
           }
          ],
          "contourcarpet": [
           {
            "colorbar": {
             "outlinewidth": 0,
             "ticks": ""
            },
            "type": "contourcarpet"
           }
          ],
          "heatmap": [
           {
            "colorbar": {
             "outlinewidth": 0,
             "ticks": ""
            },
            "colorscale": [
             [
              0,
              "#0d0887"
             ],
             [
              0.1111111111111111,
              "#46039f"
             ],
             [
              0.2222222222222222,
              "#7201a8"
             ],
             [
              0.3333333333333333,
              "#9c179e"
             ],
             [
              0.4444444444444444,
              "#bd3786"
             ],
             [
              0.5555555555555556,
              "#d8576b"
             ],
             [
              0.6666666666666666,
              "#ed7953"
             ],
             [
              0.7777777777777778,
              "#fb9f3a"
             ],
             [
              0.8888888888888888,
              "#fdca26"
             ],
             [
              1,
              "#f0f921"
             ]
            ],
            "type": "heatmap"
           }
          ],
          "heatmapgl": [
           {
            "colorbar": {
             "outlinewidth": 0,
             "ticks": ""
            },
            "colorscale": [
             [
              0,
              "#0d0887"
             ],
             [
              0.1111111111111111,
              "#46039f"
             ],
             [
              0.2222222222222222,
              "#7201a8"
             ],
             [
              0.3333333333333333,
              "#9c179e"
             ],
             [
              0.4444444444444444,
              "#bd3786"
             ],
             [
              0.5555555555555556,
              "#d8576b"
             ],
             [
              0.6666666666666666,
              "#ed7953"
             ],
             [
              0.7777777777777778,
              "#fb9f3a"
             ],
             [
              0.8888888888888888,
              "#fdca26"
             ],
             [
              1,
              "#f0f921"
             ]
            ],
            "type": "heatmapgl"
           }
          ],
          "histogram": [
           {
            "marker": {
             "pattern": {
              "fillmode": "overlay",
              "size": 10,
              "solidity": 0.2
             }
            },
            "type": "histogram"
           }
          ],
          "histogram2d": [
           {
            "colorbar": {
             "outlinewidth": 0,
             "ticks": ""
            },
            "colorscale": [
             [
              0,
              "#0d0887"
             ],
             [
              0.1111111111111111,
              "#46039f"
             ],
             [
              0.2222222222222222,
              "#7201a8"
             ],
             [
              0.3333333333333333,
              "#9c179e"
             ],
             [
              0.4444444444444444,
              "#bd3786"
             ],
             [
              0.5555555555555556,
              "#d8576b"
             ],
             [
              0.6666666666666666,
              "#ed7953"
             ],
             [
              0.7777777777777778,
              "#fb9f3a"
             ],
             [
              0.8888888888888888,
              "#fdca26"
             ],
             [
              1,
              "#f0f921"
             ]
            ],
            "type": "histogram2d"
           }
          ],
          "histogram2dcontour": [
           {
            "colorbar": {
             "outlinewidth": 0,
             "ticks": ""
            },
            "colorscale": [
             [
              0,
              "#0d0887"
             ],
             [
              0.1111111111111111,
              "#46039f"
             ],
             [
              0.2222222222222222,
              "#7201a8"
             ],
             [
              0.3333333333333333,
              "#9c179e"
             ],
             [
              0.4444444444444444,
              "#bd3786"
             ],
             [
              0.5555555555555556,
              "#d8576b"
             ],
             [
              0.6666666666666666,
              "#ed7953"
             ],
             [
              0.7777777777777778,
              "#fb9f3a"
             ],
             [
              0.8888888888888888,
              "#fdca26"
             ],
             [
              1,
              "#f0f921"
             ]
            ],
            "type": "histogram2dcontour"
           }
          ],
          "mesh3d": [
           {
            "colorbar": {
             "outlinewidth": 0,
             "ticks": ""
            },
            "type": "mesh3d"
           }
          ],
          "parcoords": [
           {
            "line": {
             "colorbar": {
              "outlinewidth": 0,
              "ticks": ""
             }
            },
            "type": "parcoords"
           }
          ],
          "pie": [
           {
            "automargin": true,
            "type": "pie"
           }
          ],
          "scatter": [
           {
            "marker": {
             "colorbar": {
              "outlinewidth": 0,
              "ticks": ""
             }
            },
            "type": "scatter"
           }
          ],
          "scatter3d": [
           {
            "line": {
             "colorbar": {
              "outlinewidth": 0,
              "ticks": ""
             }
            },
            "marker": {
             "colorbar": {
              "outlinewidth": 0,
              "ticks": ""
             }
            },
            "type": "scatter3d"
           }
          ],
          "scattercarpet": [
           {
            "marker": {
             "colorbar": {
              "outlinewidth": 0,
              "ticks": ""
             }
            },
            "type": "scattercarpet"
           }
          ],
          "scattergeo": [
           {
            "marker": {
             "colorbar": {
              "outlinewidth": 0,
              "ticks": ""
             }
            },
            "type": "scattergeo"
           }
          ],
          "scattergl": [
           {
            "marker": {
             "colorbar": {
              "outlinewidth": 0,
              "ticks": ""
             }
            },
            "type": "scattergl"
           }
          ],
          "scattermapbox": [
           {
            "marker": {
             "colorbar": {
              "outlinewidth": 0,
              "ticks": ""
             }
            },
            "type": "scattermapbox"
           }
          ],
          "scatterpolar": [
           {
            "marker": {
             "colorbar": {
              "outlinewidth": 0,
              "ticks": ""
             }
            },
            "type": "scatterpolar"
           }
          ],
          "scatterpolargl": [
           {
            "marker": {
             "colorbar": {
              "outlinewidth": 0,
              "ticks": ""
             }
            },
            "type": "scatterpolargl"
           }
          ],
          "scatterternary": [
           {
            "marker": {
             "colorbar": {
              "outlinewidth": 0,
              "ticks": ""
             }
            },
            "type": "scatterternary"
           }
          ],
          "surface": [
           {
            "colorbar": {
             "outlinewidth": 0,
             "ticks": ""
            },
            "colorscale": [
             [
              0,
              "#0d0887"
             ],
             [
              0.1111111111111111,
              "#46039f"
             ],
             [
              0.2222222222222222,
              "#7201a8"
             ],
             [
              0.3333333333333333,
              "#9c179e"
             ],
             [
              0.4444444444444444,
              "#bd3786"
             ],
             [
              0.5555555555555556,
              "#d8576b"
             ],
             [
              0.6666666666666666,
              "#ed7953"
             ],
             [
              0.7777777777777778,
              "#fb9f3a"
             ],
             [
              0.8888888888888888,
              "#fdca26"
             ],
             [
              1,
              "#f0f921"
             ]
            ],
            "type": "surface"
           }
          ],
          "table": [
           {
            "cells": {
             "fill": {
              "color": "#EBF0F8"
             },
             "line": {
              "color": "white"
             }
            },
            "header": {
             "fill": {
              "color": "#C8D4E3"
             },
             "line": {
              "color": "white"
             }
            },
            "type": "table"
           }
          ]
         },
         "layout": {
          "annotationdefaults": {
           "arrowcolor": "#2a3f5f",
           "arrowhead": 0,
           "arrowwidth": 1
          },
          "autotypenumbers": "strict",
          "coloraxis": {
           "colorbar": {
            "outlinewidth": 0,
            "ticks": ""
           }
          },
          "colorscale": {
           "diverging": [
            [
             0,
             "#8e0152"
            ],
            [
             0.1,
             "#c51b7d"
            ],
            [
             0.2,
             "#de77ae"
            ],
            [
             0.3,
             "#f1b6da"
            ],
            [
             0.4,
             "#fde0ef"
            ],
            [
             0.5,
             "#f7f7f7"
            ],
            [
             0.6,
             "#e6f5d0"
            ],
            [
             0.7,
             "#b8e186"
            ],
            [
             0.8,
             "#7fbc41"
            ],
            [
             0.9,
             "#4d9221"
            ],
            [
             1,
             "#276419"
            ]
           ],
           "sequential": [
            [
             0,
             "#0d0887"
            ],
            [
             0.1111111111111111,
             "#46039f"
            ],
            [
             0.2222222222222222,
             "#7201a8"
            ],
            [
             0.3333333333333333,
             "#9c179e"
            ],
            [
             0.4444444444444444,
             "#bd3786"
            ],
            [
             0.5555555555555556,
             "#d8576b"
            ],
            [
             0.6666666666666666,
             "#ed7953"
            ],
            [
             0.7777777777777778,
             "#fb9f3a"
            ],
            [
             0.8888888888888888,
             "#fdca26"
            ],
            [
             1,
             "#f0f921"
            ]
           ],
           "sequentialminus": [
            [
             0,
             "#0d0887"
            ],
            [
             0.1111111111111111,
             "#46039f"
            ],
            [
             0.2222222222222222,
             "#7201a8"
            ],
            [
             0.3333333333333333,
             "#9c179e"
            ],
            [
             0.4444444444444444,
             "#bd3786"
            ],
            [
             0.5555555555555556,
             "#d8576b"
            ],
            [
             0.6666666666666666,
             "#ed7953"
            ],
            [
             0.7777777777777778,
             "#fb9f3a"
            ],
            [
             0.8888888888888888,
             "#fdca26"
            ],
            [
             1,
             "#f0f921"
            ]
           ]
          },
          "colorway": [
           "#636efa",
           "#EF553B",
           "#00cc96",
           "#ab63fa",
           "#FFA15A",
           "#19d3f3",
           "#FF6692",
           "#B6E880",
           "#FF97FF",
           "#FECB52"
          ],
          "font": {
           "color": "#2a3f5f"
          },
          "geo": {
           "bgcolor": "white",
           "lakecolor": "white",
           "landcolor": "#E5ECF6",
           "showlakes": true,
           "showland": true,
           "subunitcolor": "white"
          },
          "hoverlabel": {
           "align": "left"
          },
          "hovermode": "closest",
          "mapbox": {
           "style": "light"
          },
          "paper_bgcolor": "white",
          "plot_bgcolor": "#E5ECF6",
          "polar": {
           "angularaxis": {
            "gridcolor": "white",
            "linecolor": "white",
            "ticks": ""
           },
           "bgcolor": "#E5ECF6",
           "radialaxis": {
            "gridcolor": "white",
            "linecolor": "white",
            "ticks": ""
           }
          },
          "scene": {
           "xaxis": {
            "backgroundcolor": "#E5ECF6",
            "gridcolor": "white",
            "gridwidth": 2,
            "linecolor": "white",
            "showbackground": true,
            "ticks": "",
            "zerolinecolor": "white"
           },
           "yaxis": {
            "backgroundcolor": "#E5ECF6",
            "gridcolor": "white",
            "gridwidth": 2,
            "linecolor": "white",
            "showbackground": true,
            "ticks": "",
            "zerolinecolor": "white"
           },
           "zaxis": {
            "backgroundcolor": "#E5ECF6",
            "gridcolor": "white",
            "gridwidth": 2,
            "linecolor": "white",
            "showbackground": true,
            "ticks": "",
            "zerolinecolor": "white"
           }
          },
          "shapedefaults": {
           "line": {
            "color": "#2a3f5f"
           }
          },
          "ternary": {
           "aaxis": {
            "gridcolor": "white",
            "linecolor": "white",
            "ticks": ""
           },
           "baxis": {
            "gridcolor": "white",
            "linecolor": "white",
            "ticks": ""
           },
           "bgcolor": "#E5ECF6",
           "caxis": {
            "gridcolor": "white",
            "linecolor": "white",
            "ticks": ""
           }
          },
          "title": {
           "x": 0.05
          },
          "xaxis": {
           "automargin": true,
           "gridcolor": "white",
           "linecolor": "white",
           "ticks": "",
           "title": {
            "standoff": 15
           },
           "zerolinecolor": "white",
           "zerolinewidth": 2
          },
          "yaxis": {
           "automargin": true,
           "gridcolor": "white",
           "linecolor": "white",
           "ticks": "",
           "title": {
            "standoff": 15
           },
           "zerolinecolor": "white",
           "zerolinewidth": 2
          }
         }
        },
        "title": {
         "text": "Temps Consacré à l'Environnement"
        },
        "xaxis": {
         "anchor": "y",
         "categoryorder": "total descending",
         "domain": [
          0,
          1
         ],
         "title": {
          "text": "channel"
         }
        },
        "yaxis": {
         "anchor": "x",
         "domain": [
          0,
          1
         ],
         "title": {
          "text": "sum of duration"
         }
        }
       }
      },
      "text/html": [
       "<div>                            <div id=\"34ea59c1-d5fc-4133-9d0c-691526485de9\" class=\"plotly-graph-div\" style=\"height:525px; width:100%;\"></div>            <script type=\"text/javascript\">                require([\"plotly\"], function(Plotly) {                    window.PLOTLYENV=window.PLOTLYENV || {};                                    if (document.getElementById(\"34ea59c1-d5fc-4133-9d0c-691526485de9\")) {                    Plotly.newPlot(                        \"34ea59c1-d5fc-4133-9d0c-691526485de9\",                        [{\"alignmentgroup\":\"True\",\"bingroup\":\"x\",\"histfunc\":\"sum\",\"hovertemplate\":\"media=TV<br>channel=%{x}<br>sum of duration=%{y}<extra></extra>\",\"legendgroup\":\"TV\",\"marker\":{\"color\":\"#636efa\",\"pattern\":{\"shape\":\"\"}},\"name\":\"TV\",\"offsetgroup\":\"TV\",\"orientation\":\"v\",\"showlegend\":true,\"x\":[\"8-mont-blanc\",\"arte\",\"bfmgrandlittoral-edd\",\"bfmlyon\",\"bfmtv\",\"bsmart-edd\",\"dci\",\"euronews\",\"fr3-centre\",\"fr3-champagne\",\"fr3-idf\",\"fr3-midi-pyrennees\",\"fr3-prov-alpes\",\"france2\",\"france24\",\"france5\",\"franceinfotv\",\"itele\",\"lcp\",\"lmtv\",\"nice-azur-tv\",\"provence-azur-edd\",\"tebesud-edd\",\"teleloire7\",\"telenantes\",\"tv-tours\",\"tv5\",\"viaoccitanie-edd\"],\"xaxis\":\"x\",\"y\":[103.2,26.6,31.0,63.4,228.0,37.8,205.6,144.0,64.80000000000001,85.6,96.0,21.799999999999997,41.0,71.4,232.4,57.6,115.4,57.800000000000004,472.2,110.0,12.4,37.2,137.4,136.2,201.6,183.0,16.4,101.2],\"yaxis\":\"y\",\"type\":\"histogram\"},{\"alignmentgroup\":\"True\",\"bingroup\":\"x\",\"histfunc\":\"sum\",\"hovertemplate\":\"media=Radio<br>channel=%{x}<br>sum of duration=%{y}<extra></extra>\",\"legendgroup\":\"Radio\",\"marker\":{\"color\":\"#EF553B\",\"pattern\":{\"shape\":\"\"}},\"name\":\"Radio\",\"offsetgroup\":\"Radio\",\"orientation\":\"v\",\"showlegend\":true,\"x\":[\"bergerac\",\"bull\",\"cheriefmrouen-edd\",\"euroradio-nantes\",\"fbleu-alsace\",\"fbleu-auvergne\",\"fbleu-auxerre-edd\",\"fbleu-creuse-edd\",\"fbleu-gascogne-edd\",\"fbleu-h-normandie\",\"fbleu-herault\",\"fbleu-nord\",\"fbleu-perigord-edd\",\"fbleu-picardie\",\"fbleu-provence\",\"fbleu-s-lorraine-edd\",\"fbleu-savoie\",\"flash-edd\",\"france-culture\",\"france-info\",\"france-inter\",\"guadeloupe1-edd\",\"horizon-lba-edd\",\"nostalgiecaen-edd\",\"nrj-abbeville\",\"nrjbourgenbresse-edd\",\"radioimmo-edd\",\"radioopenfm-edd\",\"rcf-anjou\",\"rcf-bordeaux\",\"rcf-h-normandie\",\"rcf-nievre-edd\",\"rcf-st-martin\",\"rcfcharente-edd\",\"rtf-limoges\",\"rts1-edd\",\"supplychainradio-edd\",\"vfm\"],\"xaxis\":\"x\",\"y\":[35.599999999999994,81.0,24.0,357.0,27.4,177.6,63.2,26.2,117.19999999999999,37.0,25.2,40.8,26.599999999999998,141.8,112.4,16.0,102.4,71.60000000000001,233.0,20.799999999999997,261.2,19.4,65.6,75.2,65.0,32.2,11.4,85.80000000000001,9.0,58.6,15.6,179.2,150.0,11.8,103.2,115.8,104.2,74.19999999999999],\"yaxis\":\"y\",\"type\":\"histogram\"}],                        {\"template\":{\"data\":{\"bar\":[{\"error_x\":{\"color\":\"#2a3f5f\"},\"error_y\":{\"color\":\"#2a3f5f\"},\"marker\":{\"line\":{\"color\":\"#E5ECF6\",\"width\":0.5},\"pattern\":{\"fillmode\":\"overlay\",\"size\":10,\"solidity\":0.2}},\"type\":\"bar\"}],\"barpolar\":[{\"marker\":{\"line\":{\"color\":\"#E5ECF6\",\"width\":0.5},\"pattern\":{\"fillmode\":\"overlay\",\"size\":10,\"solidity\":0.2}},\"type\":\"barpolar\"}],\"carpet\":[{\"aaxis\":{\"endlinecolor\":\"#2a3f5f\",\"gridcolor\":\"white\",\"linecolor\":\"white\",\"minorgridcolor\":\"white\",\"startlinecolor\":\"#2a3f5f\"},\"baxis\":{\"endlinecolor\":\"#2a3f5f\",\"gridcolor\":\"white\",\"linecolor\":\"white\",\"minorgridcolor\":\"white\",\"startlinecolor\":\"#2a3f5f\"},\"type\":\"carpet\"}],\"choropleth\":[{\"colorbar\":{\"outlinewidth\":0,\"ticks\":\"\"},\"type\":\"choropleth\"}],\"contour\":[{\"colorbar\":{\"outlinewidth\":0,\"ticks\":\"\"},\"colorscale\":[[0.0,\"#0d0887\"],[0.1111111111111111,\"#46039f\"],[0.2222222222222222,\"#7201a8\"],[0.3333333333333333,\"#9c179e\"],[0.4444444444444444,\"#bd3786\"],[0.5555555555555556,\"#d8576b\"],[0.6666666666666666,\"#ed7953\"],[0.7777777777777778,\"#fb9f3a\"],[0.8888888888888888,\"#fdca26\"],[1.0,\"#f0f921\"]],\"type\":\"contour\"}],\"contourcarpet\":[{\"colorbar\":{\"outlinewidth\":0,\"ticks\":\"\"},\"type\":\"contourcarpet\"}],\"heatmap\":[{\"colorbar\":{\"outlinewidth\":0,\"ticks\":\"\"},\"colorscale\":[[0.0,\"#0d0887\"],[0.1111111111111111,\"#46039f\"],[0.2222222222222222,\"#7201a8\"],[0.3333333333333333,\"#9c179e\"],[0.4444444444444444,\"#bd3786\"],[0.5555555555555556,\"#d8576b\"],[0.6666666666666666,\"#ed7953\"],[0.7777777777777778,\"#fb9f3a\"],[0.8888888888888888,\"#fdca26\"],[1.0,\"#f0f921\"]],\"type\":\"heatmap\"}],\"heatmapgl\":[{\"colorbar\":{\"outlinewidth\":0,\"ticks\":\"\"},\"colorscale\":[[0.0,\"#0d0887\"],[0.1111111111111111,\"#46039f\"],[0.2222222222222222,\"#7201a8\"],[0.3333333333333333,\"#9c179e\"],[0.4444444444444444,\"#bd3786\"],[0.5555555555555556,\"#d8576b\"],[0.6666666666666666,\"#ed7953\"],[0.7777777777777778,\"#fb9f3a\"],[0.8888888888888888,\"#fdca26\"],[1.0,\"#f0f921\"]],\"type\":\"heatmapgl\"}],\"histogram\":[{\"marker\":{\"pattern\":{\"fillmode\":\"overlay\",\"size\":10,\"solidity\":0.2}},\"type\":\"histogram\"}],\"histogram2d\":[{\"colorbar\":{\"outlinewidth\":0,\"ticks\":\"\"},\"colorscale\":[[0.0,\"#0d0887\"],[0.1111111111111111,\"#46039f\"],[0.2222222222222222,\"#7201a8\"],[0.3333333333333333,\"#9c179e\"],[0.4444444444444444,\"#bd3786\"],[0.5555555555555556,\"#d8576b\"],[0.6666666666666666,\"#ed7953\"],[0.7777777777777778,\"#fb9f3a\"],[0.8888888888888888,\"#fdca26\"],[1.0,\"#f0f921\"]],\"type\":\"histogram2d\"}],\"histogram2dcontour\":[{\"colorbar\":{\"outlinewidth\":0,\"ticks\":\"\"},\"colorscale\":[[0.0,\"#0d0887\"],[0.1111111111111111,\"#46039f\"],[0.2222222222222222,\"#7201a8\"],[0.3333333333333333,\"#9c179e\"],[0.4444444444444444,\"#bd3786\"],[0.5555555555555556,\"#d8576b\"],[0.6666666666666666,\"#ed7953\"],[0.7777777777777778,\"#fb9f3a\"],[0.8888888888888888,\"#fdca26\"],[1.0,\"#f0f921\"]],\"type\":\"histogram2dcontour\"}],\"mesh3d\":[{\"colorbar\":{\"outlinewidth\":0,\"ticks\":\"\"},\"type\":\"mesh3d\"}],\"parcoords\":[{\"line\":{\"colorbar\":{\"outlinewidth\":0,\"ticks\":\"\"}},\"type\":\"parcoords\"}],\"pie\":[{\"automargin\":true,\"type\":\"pie\"}],\"scatter\":[{\"marker\":{\"colorbar\":{\"outlinewidth\":0,\"ticks\":\"\"}},\"type\":\"scatter\"}],\"scatter3d\":[{\"line\":{\"colorbar\":{\"outlinewidth\":0,\"ticks\":\"\"}},\"marker\":{\"colorbar\":{\"outlinewidth\":0,\"ticks\":\"\"}},\"type\":\"scatter3d\"}],\"scattercarpet\":[{\"marker\":{\"colorbar\":{\"outlinewidth\":0,\"ticks\":\"\"}},\"type\":\"scattercarpet\"}],\"scattergeo\":[{\"marker\":{\"colorbar\":{\"outlinewidth\":0,\"ticks\":\"\"}},\"type\":\"scattergeo\"}],\"scattergl\":[{\"marker\":{\"colorbar\":{\"outlinewidth\":0,\"ticks\":\"\"}},\"type\":\"scattergl\"}],\"scattermapbox\":[{\"marker\":{\"colorbar\":{\"outlinewidth\":0,\"ticks\":\"\"}},\"type\":\"scattermapbox\"}],\"scatterpolar\":[{\"marker\":{\"colorbar\":{\"outlinewidth\":0,\"ticks\":\"\"}},\"type\":\"scatterpolar\"}],\"scatterpolargl\":[{\"marker\":{\"colorbar\":{\"outlinewidth\":0,\"ticks\":\"\"}},\"type\":\"scatterpolargl\"}],\"scatterternary\":[{\"marker\":{\"colorbar\":{\"outlinewidth\":0,\"ticks\":\"\"}},\"type\":\"scatterternary\"}],\"surface\":[{\"colorbar\":{\"outlinewidth\":0,\"ticks\":\"\"},\"colorscale\":[[0.0,\"#0d0887\"],[0.1111111111111111,\"#46039f\"],[0.2222222222222222,\"#7201a8\"],[0.3333333333333333,\"#9c179e\"],[0.4444444444444444,\"#bd3786\"],[0.5555555555555556,\"#d8576b\"],[0.6666666666666666,\"#ed7953\"],[0.7777777777777778,\"#fb9f3a\"],[0.8888888888888888,\"#fdca26\"],[1.0,\"#f0f921\"]],\"type\":\"surface\"}],\"table\":[{\"cells\":{\"fill\":{\"color\":\"#EBF0F8\"},\"line\":{\"color\":\"white\"}},\"header\":{\"fill\":{\"color\":\"#C8D4E3\"},\"line\":{\"color\":\"white\"}},\"type\":\"table\"}]},\"layout\":{\"annotationdefaults\":{\"arrowcolor\":\"#2a3f5f\",\"arrowhead\":0,\"arrowwidth\":1},\"autotypenumbers\":\"strict\",\"coloraxis\":{\"colorbar\":{\"outlinewidth\":0,\"ticks\":\"\"}},\"colorscale\":{\"diverging\":[[0,\"#8e0152\"],[0.1,\"#c51b7d\"],[0.2,\"#de77ae\"],[0.3,\"#f1b6da\"],[0.4,\"#fde0ef\"],[0.5,\"#f7f7f7\"],[0.6,\"#e6f5d0\"],[0.7,\"#b8e186\"],[0.8,\"#7fbc41\"],[0.9,\"#4d9221\"],[1,\"#276419\"]],\"sequential\":[[0.0,\"#0d0887\"],[0.1111111111111111,\"#46039f\"],[0.2222222222222222,\"#7201a8\"],[0.3333333333333333,\"#9c179e\"],[0.4444444444444444,\"#bd3786\"],[0.5555555555555556,\"#d8576b\"],[0.6666666666666666,\"#ed7953\"],[0.7777777777777778,\"#fb9f3a\"],[0.8888888888888888,\"#fdca26\"],[1.0,\"#f0f921\"]],\"sequentialminus\":[[0.0,\"#0d0887\"],[0.1111111111111111,\"#46039f\"],[0.2222222222222222,\"#7201a8\"],[0.3333333333333333,\"#9c179e\"],[0.4444444444444444,\"#bd3786\"],[0.5555555555555556,\"#d8576b\"],[0.6666666666666666,\"#ed7953\"],[0.7777777777777778,\"#fb9f3a\"],[0.8888888888888888,\"#fdca26\"],[1.0,\"#f0f921\"]]},\"colorway\":[\"#636efa\",\"#EF553B\",\"#00cc96\",\"#ab63fa\",\"#FFA15A\",\"#19d3f3\",\"#FF6692\",\"#B6E880\",\"#FF97FF\",\"#FECB52\"],\"font\":{\"color\":\"#2a3f5f\"},\"geo\":{\"bgcolor\":\"white\",\"lakecolor\":\"white\",\"landcolor\":\"#E5ECF6\",\"showlakes\":true,\"showland\":true,\"subunitcolor\":\"white\"},\"hoverlabel\":{\"align\":\"left\"},\"hovermode\":\"closest\",\"mapbox\":{\"style\":\"light\"},\"paper_bgcolor\":\"white\",\"plot_bgcolor\":\"#E5ECF6\",\"polar\":{\"angularaxis\":{\"gridcolor\":\"white\",\"linecolor\":\"white\",\"ticks\":\"\"},\"bgcolor\":\"#E5ECF6\",\"radialaxis\":{\"gridcolor\":\"white\",\"linecolor\":\"white\",\"ticks\":\"\"}},\"scene\":{\"xaxis\":{\"backgroundcolor\":\"#E5ECF6\",\"gridcolor\":\"white\",\"gridwidth\":2,\"linecolor\":\"white\",\"showbackground\":true,\"ticks\":\"\",\"zerolinecolor\":\"white\"},\"yaxis\":{\"backgroundcolor\":\"#E5ECF6\",\"gridcolor\":\"white\",\"gridwidth\":2,\"linecolor\":\"white\",\"showbackground\":true,\"ticks\":\"\",\"zerolinecolor\":\"white\"},\"zaxis\":{\"backgroundcolor\":\"#E5ECF6\",\"gridcolor\":\"white\",\"gridwidth\":2,\"linecolor\":\"white\",\"showbackground\":true,\"ticks\":\"\",\"zerolinecolor\":\"white\"}},\"shapedefaults\":{\"line\":{\"color\":\"#2a3f5f\"}},\"ternary\":{\"aaxis\":{\"gridcolor\":\"white\",\"linecolor\":\"white\",\"ticks\":\"\"},\"baxis\":{\"gridcolor\":\"white\",\"linecolor\":\"white\",\"ticks\":\"\"},\"bgcolor\":\"#E5ECF6\",\"caxis\":{\"gridcolor\":\"white\",\"linecolor\":\"white\",\"ticks\":\"\"}},\"title\":{\"x\":0.05},\"xaxis\":{\"automargin\":true,\"gridcolor\":\"white\",\"linecolor\":\"white\",\"ticks\":\"\",\"title\":{\"standoff\":15},\"zerolinecolor\":\"white\",\"zerolinewidth\":2},\"yaxis\":{\"automargin\":true,\"gridcolor\":\"white\",\"linecolor\":\"white\",\"ticks\":\"\",\"title\":{\"standoff\":15},\"zerolinecolor\":\"white\",\"zerolinewidth\":2}}},\"xaxis\":{\"anchor\":\"y\",\"domain\":[0.0,1.0],\"title\":{\"text\":\"channel\"},\"categoryorder\":\"total descending\"},\"yaxis\":{\"anchor\":\"x\",\"domain\":[0.0,1.0],\"title\":{\"text\":\"sum of duration\"}},\"legend\":{\"title\":{\"text\":\"media\"},\"tracegroupgap\":0},\"title\":{\"text\":\"Temps Consacr\\u00e9 \\u00e0 l'Environnement\"},\"barmode\":\"relative\"},                        {\"responsive\": true}                    ).then(function(){\n",
       "                            \n",
       "var gd = document.getElementById('34ea59c1-d5fc-4133-9d0c-691526485de9');\n",
       "var x = new MutationObserver(function (mutations, observer) {{\n",
       "        var display = window.getComputedStyle(gd).display;\n",
       "        if (!display || display === 'none') {{\n",
       "            console.log([gd, 'removed!']);\n",
       "            Plotly.purge(gd);\n",
       "            observer.disconnect();\n",
       "        }}\n",
       "}});\n",
       "\n",
       "// Listen for the removal of the full notebook cells\n",
       "var notebookContainer = gd.closest('#notebook-container');\n",
       "if (notebookContainer) {{\n",
       "    x.observe(notebookContainer, {childList: true});\n",
       "}}\n",
       "\n",
       "// Listen for the clearing of the current output cell\n",
       "var outputEl = gd.closest('.output');\n",
       "if (outputEl) {{\n",
       "    x.observe(outputEl, {childList: true});\n",
       "}}\n",
       "\n",
       "                        })                };                });            </script>        </div>"
      ]
     },
     "metadata": {},
     "output_type": "display_data"
    }
   ],
   "source": [
    "fig = px.histogram(stats, x='channel', y='duration', color='media',\n",
    "                  title=\"Temps Consacré à l'Environnement\").update_xaxes(categoryorder='total descending')\n",
    "fig.show()"
   ]
  },
  {
   "cell_type": "code",
   "execution_count": 55,
   "id": "edfd3162",
   "metadata": {
    "scrolled": true
   },
   "outputs": [
    {
     "data": {
      "application/vnd.plotly.v1+json": {
       "config": {
        "plotlyServerURL": "https://plot.ly"
       },
       "data": [
        {
         "alignmentgroup": "True",
         "bingroup": "x",
         "histfunc": "sum",
         "hovertemplate": "media=TV<br>channel=%{x}<br>sum of frequency=%{y}<extra></extra>",
         "legendgroup": "TV",
         "marker": {
          "color": "#636efa",
          "pattern": {
           "shape": ""
          }
         },
         "name": "TV",
         "offsetgroup": "TV",
         "orientation": "v",
         "showlegend": true,
         "type": "histogram",
         "x": [
          "8-mont-blanc",
          "arte",
          "bfmgrandlittoral-edd",
          "bfmlyon",
          "bfmtv",
          "bsmart-edd",
          "dci",
          "euronews",
          "fr3-centre",
          "fr3-champagne",
          "fr3-idf",
          "fr3-midi-pyrennees",
          "fr3-prov-alpes",
          "france2",
          "france24",
          "france5",
          "franceinfotv",
          "itele",
          "lcp",
          "lmtv",
          "nice-azur-tv",
          "provence-azur-edd",
          "tebesud-edd",
          "teleloire7",
          "telenantes",
          "tv-tours",
          "tv5",
          "viaoccitanie-edd"
         ],
         "xaxis": "x",
         "y": [
          7,
          2,
          2,
          5,
          20,
          2,
          15,
          8,
          6,
          6,
          7,
          2,
          2,
          5,
          18,
          3,
          6,
          3,
          33,
          8,
          1,
          1,
          6,
          4,
          18,
          9,
          1,
          10
         ],
         "yaxis": "y"
        },
        {
         "alignmentgroup": "True",
         "bingroup": "x",
         "histfunc": "sum",
         "hovertemplate": "media=Radio<br>channel=%{x}<br>sum of frequency=%{y}<extra></extra>",
         "legendgroup": "Radio",
         "marker": {
          "color": "#EF553B",
          "pattern": {
           "shape": ""
          }
         },
         "name": "Radio",
         "offsetgroup": "Radio",
         "orientation": "v",
         "showlegend": true,
         "type": "histogram",
         "x": [
          "bergerac",
          "bull",
          "cheriefmrouen-edd",
          "euroradio-nantes",
          "fbleu-alsace",
          "fbleu-auvergne",
          "fbleu-auxerre-edd",
          "fbleu-creuse-edd",
          "fbleu-gascogne-edd",
          "fbleu-h-normandie",
          "fbleu-herault",
          "fbleu-nord",
          "fbleu-perigord-edd",
          "fbleu-picardie",
          "fbleu-provence",
          "fbleu-s-lorraine-edd",
          "fbleu-savoie",
          "flash-edd",
          "france-culture",
          "france-info",
          "france-inter",
          "guadeloupe1-edd",
          "horizon-lba-edd",
          "nostalgiecaen-edd",
          "nrj-abbeville",
          "nrjbourgenbresse-edd",
          "radioimmo-edd",
          "radioopenfm-edd",
          "rcf-anjou",
          "rcf-bordeaux",
          "rcf-h-normandie",
          "rcf-nievre-edd",
          "rcf-st-martin",
          "rcfcharente-edd",
          "rtf-limoges",
          "rts1-edd",
          "supplychainradio-edd",
          "vfm"
         ],
         "xaxis": "x",
         "y": [
          2,
          5,
          1,
          22,
          1,
          13,
          3,
          4,
          10,
          2,
          1,
          2,
          2,
          10,
          4,
          2,
          3,
          6,
          11,
          2,
          15,
          2,
          3,
          8,
          8,
          3,
          1,
          5,
          1,
          5,
          1,
          11,
          10,
          2,
          10,
          12,
          9,
          5
         ],
         "yaxis": "y"
        }
       ],
       "layout": {
        "barmode": "relative",
        "legend": {
         "title": {
          "text": "media"
         },
         "tracegroupgap": 0
        },
        "template": {
         "data": {
          "bar": [
           {
            "error_x": {
             "color": "#2a3f5f"
            },
            "error_y": {
             "color": "#2a3f5f"
            },
            "marker": {
             "line": {
              "color": "#E5ECF6",
              "width": 0.5
             },
             "pattern": {
              "fillmode": "overlay",
              "size": 10,
              "solidity": 0.2
             }
            },
            "type": "bar"
           }
          ],
          "barpolar": [
           {
            "marker": {
             "line": {
              "color": "#E5ECF6",
              "width": 0.5
             },
             "pattern": {
              "fillmode": "overlay",
              "size": 10,
              "solidity": 0.2
             }
            },
            "type": "barpolar"
           }
          ],
          "carpet": [
           {
            "aaxis": {
             "endlinecolor": "#2a3f5f",
             "gridcolor": "white",
             "linecolor": "white",
             "minorgridcolor": "white",
             "startlinecolor": "#2a3f5f"
            },
            "baxis": {
             "endlinecolor": "#2a3f5f",
             "gridcolor": "white",
             "linecolor": "white",
             "minorgridcolor": "white",
             "startlinecolor": "#2a3f5f"
            },
            "type": "carpet"
           }
          ],
          "choropleth": [
           {
            "colorbar": {
             "outlinewidth": 0,
             "ticks": ""
            },
            "type": "choropleth"
           }
          ],
          "contour": [
           {
            "colorbar": {
             "outlinewidth": 0,
             "ticks": ""
            },
            "colorscale": [
             [
              0,
              "#0d0887"
             ],
             [
              0.1111111111111111,
              "#46039f"
             ],
             [
              0.2222222222222222,
              "#7201a8"
             ],
             [
              0.3333333333333333,
              "#9c179e"
             ],
             [
              0.4444444444444444,
              "#bd3786"
             ],
             [
              0.5555555555555556,
              "#d8576b"
             ],
             [
              0.6666666666666666,
              "#ed7953"
             ],
             [
              0.7777777777777778,
              "#fb9f3a"
             ],
             [
              0.8888888888888888,
              "#fdca26"
             ],
             [
              1,
              "#f0f921"
             ]
            ],
            "type": "contour"
           }
          ],
          "contourcarpet": [
           {
            "colorbar": {
             "outlinewidth": 0,
             "ticks": ""
            },
            "type": "contourcarpet"
           }
          ],
          "heatmap": [
           {
            "colorbar": {
             "outlinewidth": 0,
             "ticks": ""
            },
            "colorscale": [
             [
              0,
              "#0d0887"
             ],
             [
              0.1111111111111111,
              "#46039f"
             ],
             [
              0.2222222222222222,
              "#7201a8"
             ],
             [
              0.3333333333333333,
              "#9c179e"
             ],
             [
              0.4444444444444444,
              "#bd3786"
             ],
             [
              0.5555555555555556,
              "#d8576b"
             ],
             [
              0.6666666666666666,
              "#ed7953"
             ],
             [
              0.7777777777777778,
              "#fb9f3a"
             ],
             [
              0.8888888888888888,
              "#fdca26"
             ],
             [
              1,
              "#f0f921"
             ]
            ],
            "type": "heatmap"
           }
          ],
          "heatmapgl": [
           {
            "colorbar": {
             "outlinewidth": 0,
             "ticks": ""
            },
            "colorscale": [
             [
              0,
              "#0d0887"
             ],
             [
              0.1111111111111111,
              "#46039f"
             ],
             [
              0.2222222222222222,
              "#7201a8"
             ],
             [
              0.3333333333333333,
              "#9c179e"
             ],
             [
              0.4444444444444444,
              "#bd3786"
             ],
             [
              0.5555555555555556,
              "#d8576b"
             ],
             [
              0.6666666666666666,
              "#ed7953"
             ],
             [
              0.7777777777777778,
              "#fb9f3a"
             ],
             [
              0.8888888888888888,
              "#fdca26"
             ],
             [
              1,
              "#f0f921"
             ]
            ],
            "type": "heatmapgl"
           }
          ],
          "histogram": [
           {
            "marker": {
             "pattern": {
              "fillmode": "overlay",
              "size": 10,
              "solidity": 0.2
             }
            },
            "type": "histogram"
           }
          ],
          "histogram2d": [
           {
            "colorbar": {
             "outlinewidth": 0,
             "ticks": ""
            },
            "colorscale": [
             [
              0,
              "#0d0887"
             ],
             [
              0.1111111111111111,
              "#46039f"
             ],
             [
              0.2222222222222222,
              "#7201a8"
             ],
             [
              0.3333333333333333,
              "#9c179e"
             ],
             [
              0.4444444444444444,
              "#bd3786"
             ],
             [
              0.5555555555555556,
              "#d8576b"
             ],
             [
              0.6666666666666666,
              "#ed7953"
             ],
             [
              0.7777777777777778,
              "#fb9f3a"
             ],
             [
              0.8888888888888888,
              "#fdca26"
             ],
             [
              1,
              "#f0f921"
             ]
            ],
            "type": "histogram2d"
           }
          ],
          "histogram2dcontour": [
           {
            "colorbar": {
             "outlinewidth": 0,
             "ticks": ""
            },
            "colorscale": [
             [
              0,
              "#0d0887"
             ],
             [
              0.1111111111111111,
              "#46039f"
             ],
             [
              0.2222222222222222,
              "#7201a8"
             ],
             [
              0.3333333333333333,
              "#9c179e"
             ],
             [
              0.4444444444444444,
              "#bd3786"
             ],
             [
              0.5555555555555556,
              "#d8576b"
             ],
             [
              0.6666666666666666,
              "#ed7953"
             ],
             [
              0.7777777777777778,
              "#fb9f3a"
             ],
             [
              0.8888888888888888,
              "#fdca26"
             ],
             [
              1,
              "#f0f921"
             ]
            ],
            "type": "histogram2dcontour"
           }
          ],
          "mesh3d": [
           {
            "colorbar": {
             "outlinewidth": 0,
             "ticks": ""
            },
            "type": "mesh3d"
           }
          ],
          "parcoords": [
           {
            "line": {
             "colorbar": {
              "outlinewidth": 0,
              "ticks": ""
             }
            },
            "type": "parcoords"
           }
          ],
          "pie": [
           {
            "automargin": true,
            "type": "pie"
           }
          ],
          "scatter": [
           {
            "marker": {
             "colorbar": {
              "outlinewidth": 0,
              "ticks": ""
             }
            },
            "type": "scatter"
           }
          ],
          "scatter3d": [
           {
            "line": {
             "colorbar": {
              "outlinewidth": 0,
              "ticks": ""
             }
            },
            "marker": {
             "colorbar": {
              "outlinewidth": 0,
              "ticks": ""
             }
            },
            "type": "scatter3d"
           }
          ],
          "scattercarpet": [
           {
            "marker": {
             "colorbar": {
              "outlinewidth": 0,
              "ticks": ""
             }
            },
            "type": "scattercarpet"
           }
          ],
          "scattergeo": [
           {
            "marker": {
             "colorbar": {
              "outlinewidth": 0,
              "ticks": ""
             }
            },
            "type": "scattergeo"
           }
          ],
          "scattergl": [
           {
            "marker": {
             "colorbar": {
              "outlinewidth": 0,
              "ticks": ""
             }
            },
            "type": "scattergl"
           }
          ],
          "scattermapbox": [
           {
            "marker": {
             "colorbar": {
              "outlinewidth": 0,
              "ticks": ""
             }
            },
            "type": "scattermapbox"
           }
          ],
          "scatterpolar": [
           {
            "marker": {
             "colorbar": {
              "outlinewidth": 0,
              "ticks": ""
             }
            },
            "type": "scatterpolar"
           }
          ],
          "scatterpolargl": [
           {
            "marker": {
             "colorbar": {
              "outlinewidth": 0,
              "ticks": ""
             }
            },
            "type": "scatterpolargl"
           }
          ],
          "scatterternary": [
           {
            "marker": {
             "colorbar": {
              "outlinewidth": 0,
              "ticks": ""
             }
            },
            "type": "scatterternary"
           }
          ],
          "surface": [
           {
            "colorbar": {
             "outlinewidth": 0,
             "ticks": ""
            },
            "colorscale": [
             [
              0,
              "#0d0887"
             ],
             [
              0.1111111111111111,
              "#46039f"
             ],
             [
              0.2222222222222222,
              "#7201a8"
             ],
             [
              0.3333333333333333,
              "#9c179e"
             ],
             [
              0.4444444444444444,
              "#bd3786"
             ],
             [
              0.5555555555555556,
              "#d8576b"
             ],
             [
              0.6666666666666666,
              "#ed7953"
             ],
             [
              0.7777777777777778,
              "#fb9f3a"
             ],
             [
              0.8888888888888888,
              "#fdca26"
             ],
             [
              1,
              "#f0f921"
             ]
            ],
            "type": "surface"
           }
          ],
          "table": [
           {
            "cells": {
             "fill": {
              "color": "#EBF0F8"
             },
             "line": {
              "color": "white"
             }
            },
            "header": {
             "fill": {
              "color": "#C8D4E3"
             },
             "line": {
              "color": "white"
             }
            },
            "type": "table"
           }
          ]
         },
         "layout": {
          "annotationdefaults": {
           "arrowcolor": "#2a3f5f",
           "arrowhead": 0,
           "arrowwidth": 1
          },
          "autotypenumbers": "strict",
          "coloraxis": {
           "colorbar": {
            "outlinewidth": 0,
            "ticks": ""
           }
          },
          "colorscale": {
           "diverging": [
            [
             0,
             "#8e0152"
            ],
            [
             0.1,
             "#c51b7d"
            ],
            [
             0.2,
             "#de77ae"
            ],
            [
             0.3,
             "#f1b6da"
            ],
            [
             0.4,
             "#fde0ef"
            ],
            [
             0.5,
             "#f7f7f7"
            ],
            [
             0.6,
             "#e6f5d0"
            ],
            [
             0.7,
             "#b8e186"
            ],
            [
             0.8,
             "#7fbc41"
            ],
            [
             0.9,
             "#4d9221"
            ],
            [
             1,
             "#276419"
            ]
           ],
           "sequential": [
            [
             0,
             "#0d0887"
            ],
            [
             0.1111111111111111,
             "#46039f"
            ],
            [
             0.2222222222222222,
             "#7201a8"
            ],
            [
             0.3333333333333333,
             "#9c179e"
            ],
            [
             0.4444444444444444,
             "#bd3786"
            ],
            [
             0.5555555555555556,
             "#d8576b"
            ],
            [
             0.6666666666666666,
             "#ed7953"
            ],
            [
             0.7777777777777778,
             "#fb9f3a"
            ],
            [
             0.8888888888888888,
             "#fdca26"
            ],
            [
             1,
             "#f0f921"
            ]
           ],
           "sequentialminus": [
            [
             0,
             "#0d0887"
            ],
            [
             0.1111111111111111,
             "#46039f"
            ],
            [
             0.2222222222222222,
             "#7201a8"
            ],
            [
             0.3333333333333333,
             "#9c179e"
            ],
            [
             0.4444444444444444,
             "#bd3786"
            ],
            [
             0.5555555555555556,
             "#d8576b"
            ],
            [
             0.6666666666666666,
             "#ed7953"
            ],
            [
             0.7777777777777778,
             "#fb9f3a"
            ],
            [
             0.8888888888888888,
             "#fdca26"
            ],
            [
             1,
             "#f0f921"
            ]
           ]
          },
          "colorway": [
           "#636efa",
           "#EF553B",
           "#00cc96",
           "#ab63fa",
           "#FFA15A",
           "#19d3f3",
           "#FF6692",
           "#B6E880",
           "#FF97FF",
           "#FECB52"
          ],
          "font": {
           "color": "#2a3f5f"
          },
          "geo": {
           "bgcolor": "white",
           "lakecolor": "white",
           "landcolor": "#E5ECF6",
           "showlakes": true,
           "showland": true,
           "subunitcolor": "white"
          },
          "hoverlabel": {
           "align": "left"
          },
          "hovermode": "closest",
          "mapbox": {
           "style": "light"
          },
          "paper_bgcolor": "white",
          "plot_bgcolor": "#E5ECF6",
          "polar": {
           "angularaxis": {
            "gridcolor": "white",
            "linecolor": "white",
            "ticks": ""
           },
           "bgcolor": "#E5ECF6",
           "radialaxis": {
            "gridcolor": "white",
            "linecolor": "white",
            "ticks": ""
           }
          },
          "scene": {
           "xaxis": {
            "backgroundcolor": "#E5ECF6",
            "gridcolor": "white",
            "gridwidth": 2,
            "linecolor": "white",
            "showbackground": true,
            "ticks": "",
            "zerolinecolor": "white"
           },
           "yaxis": {
            "backgroundcolor": "#E5ECF6",
            "gridcolor": "white",
            "gridwidth": 2,
            "linecolor": "white",
            "showbackground": true,
            "ticks": "",
            "zerolinecolor": "white"
           },
           "zaxis": {
            "backgroundcolor": "#E5ECF6",
            "gridcolor": "white",
            "gridwidth": 2,
            "linecolor": "white",
            "showbackground": true,
            "ticks": "",
            "zerolinecolor": "white"
           }
          },
          "shapedefaults": {
           "line": {
            "color": "#2a3f5f"
           }
          },
          "ternary": {
           "aaxis": {
            "gridcolor": "white",
            "linecolor": "white",
            "ticks": ""
           },
           "baxis": {
            "gridcolor": "white",
            "linecolor": "white",
            "ticks": ""
           },
           "bgcolor": "#E5ECF6",
           "caxis": {
            "gridcolor": "white",
            "linecolor": "white",
            "ticks": ""
           }
          },
          "title": {
           "x": 0.05
          },
          "xaxis": {
           "automargin": true,
           "gridcolor": "white",
           "linecolor": "white",
           "ticks": "",
           "title": {
            "standoff": 15
           },
           "zerolinecolor": "white",
           "zerolinewidth": 2
          },
          "yaxis": {
           "automargin": true,
           "gridcolor": "white",
           "linecolor": "white",
           "ticks": "",
           "title": {
            "standoff": 15
           },
           "zerolinecolor": "white",
           "zerolinewidth": 2
          }
         }
        },
        "title": {
         "text": "Fréquences des Sujets Relatifs à l'Environnement"
        },
        "xaxis": {
         "anchor": "y",
         "categoryorder": "total descending",
         "domain": [
          0,
          1
         ],
         "title": {
          "text": "channel"
         }
        },
        "yaxis": {
         "anchor": "x",
         "domain": [
          0,
          1
         ],
         "title": {
          "text": "sum of frequency"
         }
        }
       }
      },
      "text/html": [
       "<div>                            <div id=\"8329ffc5-1bc1-4062-a758-2684affc4202\" class=\"plotly-graph-div\" style=\"height:525px; width:100%;\"></div>            <script type=\"text/javascript\">                require([\"plotly\"], function(Plotly) {                    window.PLOTLYENV=window.PLOTLYENV || {};                                    if (document.getElementById(\"8329ffc5-1bc1-4062-a758-2684affc4202\")) {                    Plotly.newPlot(                        \"8329ffc5-1bc1-4062-a758-2684affc4202\",                        [{\"alignmentgroup\":\"True\",\"bingroup\":\"x\",\"histfunc\":\"sum\",\"hovertemplate\":\"media=TV<br>channel=%{x}<br>sum of frequency=%{y}<extra></extra>\",\"legendgroup\":\"TV\",\"marker\":{\"color\":\"#636efa\",\"pattern\":{\"shape\":\"\"}},\"name\":\"TV\",\"offsetgroup\":\"TV\",\"orientation\":\"v\",\"showlegend\":true,\"x\":[\"8-mont-blanc\",\"arte\",\"bfmgrandlittoral-edd\",\"bfmlyon\",\"bfmtv\",\"bsmart-edd\",\"dci\",\"euronews\",\"fr3-centre\",\"fr3-champagne\",\"fr3-idf\",\"fr3-midi-pyrennees\",\"fr3-prov-alpes\",\"france2\",\"france24\",\"france5\",\"franceinfotv\",\"itele\",\"lcp\",\"lmtv\",\"nice-azur-tv\",\"provence-azur-edd\",\"tebesud-edd\",\"teleloire7\",\"telenantes\",\"tv-tours\",\"tv5\",\"viaoccitanie-edd\"],\"xaxis\":\"x\",\"y\":[7,2,2,5,20,2,15,8,6,6,7,2,2,5,18,3,6,3,33,8,1,1,6,4,18,9,1,10],\"yaxis\":\"y\",\"type\":\"histogram\"},{\"alignmentgroup\":\"True\",\"bingroup\":\"x\",\"histfunc\":\"sum\",\"hovertemplate\":\"media=Radio<br>channel=%{x}<br>sum of frequency=%{y}<extra></extra>\",\"legendgroup\":\"Radio\",\"marker\":{\"color\":\"#EF553B\",\"pattern\":{\"shape\":\"\"}},\"name\":\"Radio\",\"offsetgroup\":\"Radio\",\"orientation\":\"v\",\"showlegend\":true,\"x\":[\"bergerac\",\"bull\",\"cheriefmrouen-edd\",\"euroradio-nantes\",\"fbleu-alsace\",\"fbleu-auvergne\",\"fbleu-auxerre-edd\",\"fbleu-creuse-edd\",\"fbleu-gascogne-edd\",\"fbleu-h-normandie\",\"fbleu-herault\",\"fbleu-nord\",\"fbleu-perigord-edd\",\"fbleu-picardie\",\"fbleu-provence\",\"fbleu-s-lorraine-edd\",\"fbleu-savoie\",\"flash-edd\",\"france-culture\",\"france-info\",\"france-inter\",\"guadeloupe1-edd\",\"horizon-lba-edd\",\"nostalgiecaen-edd\",\"nrj-abbeville\",\"nrjbourgenbresse-edd\",\"radioimmo-edd\",\"radioopenfm-edd\",\"rcf-anjou\",\"rcf-bordeaux\",\"rcf-h-normandie\",\"rcf-nievre-edd\",\"rcf-st-martin\",\"rcfcharente-edd\",\"rtf-limoges\",\"rts1-edd\",\"supplychainradio-edd\",\"vfm\"],\"xaxis\":\"x\",\"y\":[2,5,1,22,1,13,3,4,10,2,1,2,2,10,4,2,3,6,11,2,15,2,3,8,8,3,1,5,1,5,1,11,10,2,10,12,9,5],\"yaxis\":\"y\",\"type\":\"histogram\"}],                        {\"template\":{\"data\":{\"bar\":[{\"error_x\":{\"color\":\"#2a3f5f\"},\"error_y\":{\"color\":\"#2a3f5f\"},\"marker\":{\"line\":{\"color\":\"#E5ECF6\",\"width\":0.5},\"pattern\":{\"fillmode\":\"overlay\",\"size\":10,\"solidity\":0.2}},\"type\":\"bar\"}],\"barpolar\":[{\"marker\":{\"line\":{\"color\":\"#E5ECF6\",\"width\":0.5},\"pattern\":{\"fillmode\":\"overlay\",\"size\":10,\"solidity\":0.2}},\"type\":\"barpolar\"}],\"carpet\":[{\"aaxis\":{\"endlinecolor\":\"#2a3f5f\",\"gridcolor\":\"white\",\"linecolor\":\"white\",\"minorgridcolor\":\"white\",\"startlinecolor\":\"#2a3f5f\"},\"baxis\":{\"endlinecolor\":\"#2a3f5f\",\"gridcolor\":\"white\",\"linecolor\":\"white\",\"minorgridcolor\":\"white\",\"startlinecolor\":\"#2a3f5f\"},\"type\":\"carpet\"}],\"choropleth\":[{\"colorbar\":{\"outlinewidth\":0,\"ticks\":\"\"},\"type\":\"choropleth\"}],\"contour\":[{\"colorbar\":{\"outlinewidth\":0,\"ticks\":\"\"},\"colorscale\":[[0.0,\"#0d0887\"],[0.1111111111111111,\"#46039f\"],[0.2222222222222222,\"#7201a8\"],[0.3333333333333333,\"#9c179e\"],[0.4444444444444444,\"#bd3786\"],[0.5555555555555556,\"#d8576b\"],[0.6666666666666666,\"#ed7953\"],[0.7777777777777778,\"#fb9f3a\"],[0.8888888888888888,\"#fdca26\"],[1.0,\"#f0f921\"]],\"type\":\"contour\"}],\"contourcarpet\":[{\"colorbar\":{\"outlinewidth\":0,\"ticks\":\"\"},\"type\":\"contourcarpet\"}],\"heatmap\":[{\"colorbar\":{\"outlinewidth\":0,\"ticks\":\"\"},\"colorscale\":[[0.0,\"#0d0887\"],[0.1111111111111111,\"#46039f\"],[0.2222222222222222,\"#7201a8\"],[0.3333333333333333,\"#9c179e\"],[0.4444444444444444,\"#bd3786\"],[0.5555555555555556,\"#d8576b\"],[0.6666666666666666,\"#ed7953\"],[0.7777777777777778,\"#fb9f3a\"],[0.8888888888888888,\"#fdca26\"],[1.0,\"#f0f921\"]],\"type\":\"heatmap\"}],\"heatmapgl\":[{\"colorbar\":{\"outlinewidth\":0,\"ticks\":\"\"},\"colorscale\":[[0.0,\"#0d0887\"],[0.1111111111111111,\"#46039f\"],[0.2222222222222222,\"#7201a8\"],[0.3333333333333333,\"#9c179e\"],[0.4444444444444444,\"#bd3786\"],[0.5555555555555556,\"#d8576b\"],[0.6666666666666666,\"#ed7953\"],[0.7777777777777778,\"#fb9f3a\"],[0.8888888888888888,\"#fdca26\"],[1.0,\"#f0f921\"]],\"type\":\"heatmapgl\"}],\"histogram\":[{\"marker\":{\"pattern\":{\"fillmode\":\"overlay\",\"size\":10,\"solidity\":0.2}},\"type\":\"histogram\"}],\"histogram2d\":[{\"colorbar\":{\"outlinewidth\":0,\"ticks\":\"\"},\"colorscale\":[[0.0,\"#0d0887\"],[0.1111111111111111,\"#46039f\"],[0.2222222222222222,\"#7201a8\"],[0.3333333333333333,\"#9c179e\"],[0.4444444444444444,\"#bd3786\"],[0.5555555555555556,\"#d8576b\"],[0.6666666666666666,\"#ed7953\"],[0.7777777777777778,\"#fb9f3a\"],[0.8888888888888888,\"#fdca26\"],[1.0,\"#f0f921\"]],\"type\":\"histogram2d\"}],\"histogram2dcontour\":[{\"colorbar\":{\"outlinewidth\":0,\"ticks\":\"\"},\"colorscale\":[[0.0,\"#0d0887\"],[0.1111111111111111,\"#46039f\"],[0.2222222222222222,\"#7201a8\"],[0.3333333333333333,\"#9c179e\"],[0.4444444444444444,\"#bd3786\"],[0.5555555555555556,\"#d8576b\"],[0.6666666666666666,\"#ed7953\"],[0.7777777777777778,\"#fb9f3a\"],[0.8888888888888888,\"#fdca26\"],[1.0,\"#f0f921\"]],\"type\":\"histogram2dcontour\"}],\"mesh3d\":[{\"colorbar\":{\"outlinewidth\":0,\"ticks\":\"\"},\"type\":\"mesh3d\"}],\"parcoords\":[{\"line\":{\"colorbar\":{\"outlinewidth\":0,\"ticks\":\"\"}},\"type\":\"parcoords\"}],\"pie\":[{\"automargin\":true,\"type\":\"pie\"}],\"scatter\":[{\"marker\":{\"colorbar\":{\"outlinewidth\":0,\"ticks\":\"\"}},\"type\":\"scatter\"}],\"scatter3d\":[{\"line\":{\"colorbar\":{\"outlinewidth\":0,\"ticks\":\"\"}},\"marker\":{\"colorbar\":{\"outlinewidth\":0,\"ticks\":\"\"}},\"type\":\"scatter3d\"}],\"scattercarpet\":[{\"marker\":{\"colorbar\":{\"outlinewidth\":0,\"ticks\":\"\"}},\"type\":\"scattercarpet\"}],\"scattergeo\":[{\"marker\":{\"colorbar\":{\"outlinewidth\":0,\"ticks\":\"\"}},\"type\":\"scattergeo\"}],\"scattergl\":[{\"marker\":{\"colorbar\":{\"outlinewidth\":0,\"ticks\":\"\"}},\"type\":\"scattergl\"}],\"scattermapbox\":[{\"marker\":{\"colorbar\":{\"outlinewidth\":0,\"ticks\":\"\"}},\"type\":\"scattermapbox\"}],\"scatterpolar\":[{\"marker\":{\"colorbar\":{\"outlinewidth\":0,\"ticks\":\"\"}},\"type\":\"scatterpolar\"}],\"scatterpolargl\":[{\"marker\":{\"colorbar\":{\"outlinewidth\":0,\"ticks\":\"\"}},\"type\":\"scatterpolargl\"}],\"scatterternary\":[{\"marker\":{\"colorbar\":{\"outlinewidth\":0,\"ticks\":\"\"}},\"type\":\"scatterternary\"}],\"surface\":[{\"colorbar\":{\"outlinewidth\":0,\"ticks\":\"\"},\"colorscale\":[[0.0,\"#0d0887\"],[0.1111111111111111,\"#46039f\"],[0.2222222222222222,\"#7201a8\"],[0.3333333333333333,\"#9c179e\"],[0.4444444444444444,\"#bd3786\"],[0.5555555555555556,\"#d8576b\"],[0.6666666666666666,\"#ed7953\"],[0.7777777777777778,\"#fb9f3a\"],[0.8888888888888888,\"#fdca26\"],[1.0,\"#f0f921\"]],\"type\":\"surface\"}],\"table\":[{\"cells\":{\"fill\":{\"color\":\"#EBF0F8\"},\"line\":{\"color\":\"white\"}},\"header\":{\"fill\":{\"color\":\"#C8D4E3\"},\"line\":{\"color\":\"white\"}},\"type\":\"table\"}]},\"layout\":{\"annotationdefaults\":{\"arrowcolor\":\"#2a3f5f\",\"arrowhead\":0,\"arrowwidth\":1},\"autotypenumbers\":\"strict\",\"coloraxis\":{\"colorbar\":{\"outlinewidth\":0,\"ticks\":\"\"}},\"colorscale\":{\"diverging\":[[0,\"#8e0152\"],[0.1,\"#c51b7d\"],[0.2,\"#de77ae\"],[0.3,\"#f1b6da\"],[0.4,\"#fde0ef\"],[0.5,\"#f7f7f7\"],[0.6,\"#e6f5d0\"],[0.7,\"#b8e186\"],[0.8,\"#7fbc41\"],[0.9,\"#4d9221\"],[1,\"#276419\"]],\"sequential\":[[0.0,\"#0d0887\"],[0.1111111111111111,\"#46039f\"],[0.2222222222222222,\"#7201a8\"],[0.3333333333333333,\"#9c179e\"],[0.4444444444444444,\"#bd3786\"],[0.5555555555555556,\"#d8576b\"],[0.6666666666666666,\"#ed7953\"],[0.7777777777777778,\"#fb9f3a\"],[0.8888888888888888,\"#fdca26\"],[1.0,\"#f0f921\"]],\"sequentialminus\":[[0.0,\"#0d0887\"],[0.1111111111111111,\"#46039f\"],[0.2222222222222222,\"#7201a8\"],[0.3333333333333333,\"#9c179e\"],[0.4444444444444444,\"#bd3786\"],[0.5555555555555556,\"#d8576b\"],[0.6666666666666666,\"#ed7953\"],[0.7777777777777778,\"#fb9f3a\"],[0.8888888888888888,\"#fdca26\"],[1.0,\"#f0f921\"]]},\"colorway\":[\"#636efa\",\"#EF553B\",\"#00cc96\",\"#ab63fa\",\"#FFA15A\",\"#19d3f3\",\"#FF6692\",\"#B6E880\",\"#FF97FF\",\"#FECB52\"],\"font\":{\"color\":\"#2a3f5f\"},\"geo\":{\"bgcolor\":\"white\",\"lakecolor\":\"white\",\"landcolor\":\"#E5ECF6\",\"showlakes\":true,\"showland\":true,\"subunitcolor\":\"white\"},\"hoverlabel\":{\"align\":\"left\"},\"hovermode\":\"closest\",\"mapbox\":{\"style\":\"light\"},\"paper_bgcolor\":\"white\",\"plot_bgcolor\":\"#E5ECF6\",\"polar\":{\"angularaxis\":{\"gridcolor\":\"white\",\"linecolor\":\"white\",\"ticks\":\"\"},\"bgcolor\":\"#E5ECF6\",\"radialaxis\":{\"gridcolor\":\"white\",\"linecolor\":\"white\",\"ticks\":\"\"}},\"scene\":{\"xaxis\":{\"backgroundcolor\":\"#E5ECF6\",\"gridcolor\":\"white\",\"gridwidth\":2,\"linecolor\":\"white\",\"showbackground\":true,\"ticks\":\"\",\"zerolinecolor\":\"white\"},\"yaxis\":{\"backgroundcolor\":\"#E5ECF6\",\"gridcolor\":\"white\",\"gridwidth\":2,\"linecolor\":\"white\",\"showbackground\":true,\"ticks\":\"\",\"zerolinecolor\":\"white\"},\"zaxis\":{\"backgroundcolor\":\"#E5ECF6\",\"gridcolor\":\"white\",\"gridwidth\":2,\"linecolor\":\"white\",\"showbackground\":true,\"ticks\":\"\",\"zerolinecolor\":\"white\"}},\"shapedefaults\":{\"line\":{\"color\":\"#2a3f5f\"}},\"ternary\":{\"aaxis\":{\"gridcolor\":\"white\",\"linecolor\":\"white\",\"ticks\":\"\"},\"baxis\":{\"gridcolor\":\"white\",\"linecolor\":\"white\",\"ticks\":\"\"},\"bgcolor\":\"#E5ECF6\",\"caxis\":{\"gridcolor\":\"white\",\"linecolor\":\"white\",\"ticks\":\"\"}},\"title\":{\"x\":0.05},\"xaxis\":{\"automargin\":true,\"gridcolor\":\"white\",\"linecolor\":\"white\",\"ticks\":\"\",\"title\":{\"standoff\":15},\"zerolinecolor\":\"white\",\"zerolinewidth\":2},\"yaxis\":{\"automargin\":true,\"gridcolor\":\"white\",\"linecolor\":\"white\",\"ticks\":\"\",\"title\":{\"standoff\":15},\"zerolinecolor\":\"white\",\"zerolinewidth\":2}}},\"xaxis\":{\"anchor\":\"y\",\"domain\":[0.0,1.0],\"title\":{\"text\":\"channel\"},\"categoryorder\":\"total descending\"},\"yaxis\":{\"anchor\":\"x\",\"domain\":[0.0,1.0],\"title\":{\"text\":\"sum of frequency\"}},\"legend\":{\"title\":{\"text\":\"media\"},\"tracegroupgap\":0},\"title\":{\"text\":\"Fr\\u00e9quences des Sujets Relatifs \\u00e0 l'Environnement\"},\"barmode\":\"relative\"},                        {\"responsive\": true}                    ).then(function(){\n",
       "                            \n",
       "var gd = document.getElementById('8329ffc5-1bc1-4062-a758-2684affc4202');\n",
       "var x = new MutationObserver(function (mutations, observer) {{\n",
       "        var display = window.getComputedStyle(gd).display;\n",
       "        if (!display || display === 'none') {{\n",
       "            console.log([gd, 'removed!']);\n",
       "            Plotly.purge(gd);\n",
       "            observer.disconnect();\n",
       "        }}\n",
       "}});\n",
       "\n",
       "// Listen for the removal of the full notebook cells\n",
       "var notebookContainer = gd.closest('#notebook-container');\n",
       "if (notebookContainer) {{\n",
       "    x.observe(notebookContainer, {childList: true});\n",
       "}}\n",
       "\n",
       "// Listen for the clearing of the current output cell\n",
       "var outputEl = gd.closest('.output');\n",
       "if (outputEl) {{\n",
       "    x.observe(outputEl, {childList: true});\n",
       "}}\n",
       "\n",
       "                        })                };                });            </script>        </div>"
      ]
     },
     "metadata": {},
     "output_type": "display_data"
    }
   ],
   "source": [
    "fig = px.histogram(stats, x='channel', y='frequency', color='media',\n",
    "                  title=\"Fréquences des Sujets Relatifs à l'Environnement\").update_xaxes(categoryorder='total descending')\n",
    "fig.show()"
   ]
  },
  {
   "cell_type": "code",
   "execution_count": 56,
   "id": "75d9fa8b",
   "metadata": {
    "scrolled": true
   },
   "outputs": [
    {
     "data": {
      "application/vnd.plotly.v1+json": {
       "config": {
        "plotlyServerURL": "https://plot.ly"
       },
       "data": [
        {
         "alignmentgroup": "True",
         "bingroup": "x",
         "histfunc": "sum",
         "hovertemplate": "media=TV<br>channel=%{x}<br>sum of nb_topics=%{y}<extra></extra>",
         "legendgroup": "TV",
         "marker": {
          "color": "#636efa",
          "pattern": {
           "shape": ""
          }
         },
         "name": "TV",
         "offsetgroup": "TV",
         "orientation": "v",
         "showlegend": true,
         "type": "histogram",
         "x": [
          "8-mont-blanc",
          "arte",
          "bfmgrandlittoral-edd",
          "bfmlyon",
          "bfmtv",
          "bsmart-edd",
          "dci",
          "euronews",
          "fr3-centre",
          "fr3-champagne",
          "fr3-idf",
          "fr3-midi-pyrennees",
          "fr3-prov-alpes",
          "france2",
          "france24",
          "france5",
          "franceinfotv",
          "itele",
          "lcp",
          "lmtv",
          "nice-azur-tv",
          "provence-azur-edd",
          "tebesud-edd",
          "teleloire7",
          "telenantes",
          "tv-tours",
          "tv5",
          "viaoccitanie-edd"
         ],
         "xaxis": "x",
         "y": [
          1,
          2,
          2,
          3,
          5,
          1,
          5,
          3,
          2,
          3,
          3,
          1,
          1,
          2,
          3,
          2,
          2,
          1,
          6,
          3,
          1,
          1,
          2,
          2,
          5,
          4,
          1,
          3
         ],
         "yaxis": "y"
        },
        {
         "alignmentgroup": "True",
         "bingroup": "x",
         "histfunc": "sum",
         "hovertemplate": "media=Radio<br>channel=%{x}<br>sum of nb_topics=%{y}<extra></extra>",
         "legendgroup": "Radio",
         "marker": {
          "color": "#EF553B",
          "pattern": {
           "shape": ""
          }
         },
         "name": "Radio",
         "offsetgroup": "Radio",
         "orientation": "v",
         "showlegend": true,
         "type": "histogram",
         "x": [
          "bergerac",
          "bull",
          "cheriefmrouen-edd",
          "euroradio-nantes",
          "fbleu-alsace",
          "fbleu-auvergne",
          "fbleu-auxerre-edd",
          "fbleu-creuse-edd",
          "fbleu-gascogne-edd",
          "fbleu-h-normandie",
          "fbleu-herault",
          "fbleu-nord",
          "fbleu-perigord-edd",
          "fbleu-picardie",
          "fbleu-provence",
          "fbleu-s-lorraine-edd",
          "fbleu-savoie",
          "flash-edd",
          "france-culture",
          "france-info",
          "france-inter",
          "guadeloupe1-edd",
          "horizon-lba-edd",
          "nostalgiecaen-edd",
          "nrj-abbeville",
          "nrjbourgenbresse-edd",
          "radioimmo-edd",
          "radioopenfm-edd",
          "rcf-anjou",
          "rcf-bordeaux",
          "rcf-h-normandie",
          "rcf-nievre-edd",
          "rcf-st-martin",
          "rcfcharente-edd",
          "rtf-limoges",
          "rts1-edd",
          "supplychainradio-edd",
          "vfm"
         ],
         "xaxis": "x",
         "y": [
          2,
          3,
          1,
          3,
          1,
          5,
          3,
          2,
          3,
          2,
          1,
          2,
          2,
          3,
          1,
          2,
          2,
          3,
          4,
          1,
          5,
          2,
          2,
          3,
          4,
          2,
          1,
          2,
          1,
          3,
          1,
          2,
          4,
          2,
          2,
          4,
          3,
          3
         ],
         "yaxis": "y"
        }
       ],
       "layout": {
        "barmode": "relative",
        "legend": {
         "title": {
          "text": "media"
         },
         "tracegroupgap": 0
        },
        "template": {
         "data": {
          "bar": [
           {
            "error_x": {
             "color": "#2a3f5f"
            },
            "error_y": {
             "color": "#2a3f5f"
            },
            "marker": {
             "line": {
              "color": "#E5ECF6",
              "width": 0.5
             },
             "pattern": {
              "fillmode": "overlay",
              "size": 10,
              "solidity": 0.2
             }
            },
            "type": "bar"
           }
          ],
          "barpolar": [
           {
            "marker": {
             "line": {
              "color": "#E5ECF6",
              "width": 0.5
             },
             "pattern": {
              "fillmode": "overlay",
              "size": 10,
              "solidity": 0.2
             }
            },
            "type": "barpolar"
           }
          ],
          "carpet": [
           {
            "aaxis": {
             "endlinecolor": "#2a3f5f",
             "gridcolor": "white",
             "linecolor": "white",
             "minorgridcolor": "white",
             "startlinecolor": "#2a3f5f"
            },
            "baxis": {
             "endlinecolor": "#2a3f5f",
             "gridcolor": "white",
             "linecolor": "white",
             "minorgridcolor": "white",
             "startlinecolor": "#2a3f5f"
            },
            "type": "carpet"
           }
          ],
          "choropleth": [
           {
            "colorbar": {
             "outlinewidth": 0,
             "ticks": ""
            },
            "type": "choropleth"
           }
          ],
          "contour": [
           {
            "colorbar": {
             "outlinewidth": 0,
             "ticks": ""
            },
            "colorscale": [
             [
              0,
              "#0d0887"
             ],
             [
              0.1111111111111111,
              "#46039f"
             ],
             [
              0.2222222222222222,
              "#7201a8"
             ],
             [
              0.3333333333333333,
              "#9c179e"
             ],
             [
              0.4444444444444444,
              "#bd3786"
             ],
             [
              0.5555555555555556,
              "#d8576b"
             ],
             [
              0.6666666666666666,
              "#ed7953"
             ],
             [
              0.7777777777777778,
              "#fb9f3a"
             ],
             [
              0.8888888888888888,
              "#fdca26"
             ],
             [
              1,
              "#f0f921"
             ]
            ],
            "type": "contour"
           }
          ],
          "contourcarpet": [
           {
            "colorbar": {
             "outlinewidth": 0,
             "ticks": ""
            },
            "type": "contourcarpet"
           }
          ],
          "heatmap": [
           {
            "colorbar": {
             "outlinewidth": 0,
             "ticks": ""
            },
            "colorscale": [
             [
              0,
              "#0d0887"
             ],
             [
              0.1111111111111111,
              "#46039f"
             ],
             [
              0.2222222222222222,
              "#7201a8"
             ],
             [
              0.3333333333333333,
              "#9c179e"
             ],
             [
              0.4444444444444444,
              "#bd3786"
             ],
             [
              0.5555555555555556,
              "#d8576b"
             ],
             [
              0.6666666666666666,
              "#ed7953"
             ],
             [
              0.7777777777777778,
              "#fb9f3a"
             ],
             [
              0.8888888888888888,
              "#fdca26"
             ],
             [
              1,
              "#f0f921"
             ]
            ],
            "type": "heatmap"
           }
          ],
          "heatmapgl": [
           {
            "colorbar": {
             "outlinewidth": 0,
             "ticks": ""
            },
            "colorscale": [
             [
              0,
              "#0d0887"
             ],
             [
              0.1111111111111111,
              "#46039f"
             ],
             [
              0.2222222222222222,
              "#7201a8"
             ],
             [
              0.3333333333333333,
              "#9c179e"
             ],
             [
              0.4444444444444444,
              "#bd3786"
             ],
             [
              0.5555555555555556,
              "#d8576b"
             ],
             [
              0.6666666666666666,
              "#ed7953"
             ],
             [
              0.7777777777777778,
              "#fb9f3a"
             ],
             [
              0.8888888888888888,
              "#fdca26"
             ],
             [
              1,
              "#f0f921"
             ]
            ],
            "type": "heatmapgl"
           }
          ],
          "histogram": [
           {
            "marker": {
             "pattern": {
              "fillmode": "overlay",
              "size": 10,
              "solidity": 0.2
             }
            },
            "type": "histogram"
           }
          ],
          "histogram2d": [
           {
            "colorbar": {
             "outlinewidth": 0,
             "ticks": ""
            },
            "colorscale": [
             [
              0,
              "#0d0887"
             ],
             [
              0.1111111111111111,
              "#46039f"
             ],
             [
              0.2222222222222222,
              "#7201a8"
             ],
             [
              0.3333333333333333,
              "#9c179e"
             ],
             [
              0.4444444444444444,
              "#bd3786"
             ],
             [
              0.5555555555555556,
              "#d8576b"
             ],
             [
              0.6666666666666666,
              "#ed7953"
             ],
             [
              0.7777777777777778,
              "#fb9f3a"
             ],
             [
              0.8888888888888888,
              "#fdca26"
             ],
             [
              1,
              "#f0f921"
             ]
            ],
            "type": "histogram2d"
           }
          ],
          "histogram2dcontour": [
           {
            "colorbar": {
             "outlinewidth": 0,
             "ticks": ""
            },
            "colorscale": [
             [
              0,
              "#0d0887"
             ],
             [
              0.1111111111111111,
              "#46039f"
             ],
             [
              0.2222222222222222,
              "#7201a8"
             ],
             [
              0.3333333333333333,
              "#9c179e"
             ],
             [
              0.4444444444444444,
              "#bd3786"
             ],
             [
              0.5555555555555556,
              "#d8576b"
             ],
             [
              0.6666666666666666,
              "#ed7953"
             ],
             [
              0.7777777777777778,
              "#fb9f3a"
             ],
             [
              0.8888888888888888,
              "#fdca26"
             ],
             [
              1,
              "#f0f921"
             ]
            ],
            "type": "histogram2dcontour"
           }
          ],
          "mesh3d": [
           {
            "colorbar": {
             "outlinewidth": 0,
             "ticks": ""
            },
            "type": "mesh3d"
           }
          ],
          "parcoords": [
           {
            "line": {
             "colorbar": {
              "outlinewidth": 0,
              "ticks": ""
             }
            },
            "type": "parcoords"
           }
          ],
          "pie": [
           {
            "automargin": true,
            "type": "pie"
           }
          ],
          "scatter": [
           {
            "marker": {
             "colorbar": {
              "outlinewidth": 0,
              "ticks": ""
             }
            },
            "type": "scatter"
           }
          ],
          "scatter3d": [
           {
            "line": {
             "colorbar": {
              "outlinewidth": 0,
              "ticks": ""
             }
            },
            "marker": {
             "colorbar": {
              "outlinewidth": 0,
              "ticks": ""
             }
            },
            "type": "scatter3d"
           }
          ],
          "scattercarpet": [
           {
            "marker": {
             "colorbar": {
              "outlinewidth": 0,
              "ticks": ""
             }
            },
            "type": "scattercarpet"
           }
          ],
          "scattergeo": [
           {
            "marker": {
             "colorbar": {
              "outlinewidth": 0,
              "ticks": ""
             }
            },
            "type": "scattergeo"
           }
          ],
          "scattergl": [
           {
            "marker": {
             "colorbar": {
              "outlinewidth": 0,
              "ticks": ""
             }
            },
            "type": "scattergl"
           }
          ],
          "scattermapbox": [
           {
            "marker": {
             "colorbar": {
              "outlinewidth": 0,
              "ticks": ""
             }
            },
            "type": "scattermapbox"
           }
          ],
          "scatterpolar": [
           {
            "marker": {
             "colorbar": {
              "outlinewidth": 0,
              "ticks": ""
             }
            },
            "type": "scatterpolar"
           }
          ],
          "scatterpolargl": [
           {
            "marker": {
             "colorbar": {
              "outlinewidth": 0,
              "ticks": ""
             }
            },
            "type": "scatterpolargl"
           }
          ],
          "scatterternary": [
           {
            "marker": {
             "colorbar": {
              "outlinewidth": 0,
              "ticks": ""
             }
            },
            "type": "scatterternary"
           }
          ],
          "surface": [
           {
            "colorbar": {
             "outlinewidth": 0,
             "ticks": ""
            },
            "colorscale": [
             [
              0,
              "#0d0887"
             ],
             [
              0.1111111111111111,
              "#46039f"
             ],
             [
              0.2222222222222222,
              "#7201a8"
             ],
             [
              0.3333333333333333,
              "#9c179e"
             ],
             [
              0.4444444444444444,
              "#bd3786"
             ],
             [
              0.5555555555555556,
              "#d8576b"
             ],
             [
              0.6666666666666666,
              "#ed7953"
             ],
             [
              0.7777777777777778,
              "#fb9f3a"
             ],
             [
              0.8888888888888888,
              "#fdca26"
             ],
             [
              1,
              "#f0f921"
             ]
            ],
            "type": "surface"
           }
          ],
          "table": [
           {
            "cells": {
             "fill": {
              "color": "#EBF0F8"
             },
             "line": {
              "color": "white"
             }
            },
            "header": {
             "fill": {
              "color": "#C8D4E3"
             },
             "line": {
              "color": "white"
             }
            },
            "type": "table"
           }
          ]
         },
         "layout": {
          "annotationdefaults": {
           "arrowcolor": "#2a3f5f",
           "arrowhead": 0,
           "arrowwidth": 1
          },
          "autotypenumbers": "strict",
          "coloraxis": {
           "colorbar": {
            "outlinewidth": 0,
            "ticks": ""
           }
          },
          "colorscale": {
           "diverging": [
            [
             0,
             "#8e0152"
            ],
            [
             0.1,
             "#c51b7d"
            ],
            [
             0.2,
             "#de77ae"
            ],
            [
             0.3,
             "#f1b6da"
            ],
            [
             0.4,
             "#fde0ef"
            ],
            [
             0.5,
             "#f7f7f7"
            ],
            [
             0.6,
             "#e6f5d0"
            ],
            [
             0.7,
             "#b8e186"
            ],
            [
             0.8,
             "#7fbc41"
            ],
            [
             0.9,
             "#4d9221"
            ],
            [
             1,
             "#276419"
            ]
           ],
           "sequential": [
            [
             0,
             "#0d0887"
            ],
            [
             0.1111111111111111,
             "#46039f"
            ],
            [
             0.2222222222222222,
             "#7201a8"
            ],
            [
             0.3333333333333333,
             "#9c179e"
            ],
            [
             0.4444444444444444,
             "#bd3786"
            ],
            [
             0.5555555555555556,
             "#d8576b"
            ],
            [
             0.6666666666666666,
             "#ed7953"
            ],
            [
             0.7777777777777778,
             "#fb9f3a"
            ],
            [
             0.8888888888888888,
             "#fdca26"
            ],
            [
             1,
             "#f0f921"
            ]
           ],
           "sequentialminus": [
            [
             0,
             "#0d0887"
            ],
            [
             0.1111111111111111,
             "#46039f"
            ],
            [
             0.2222222222222222,
             "#7201a8"
            ],
            [
             0.3333333333333333,
             "#9c179e"
            ],
            [
             0.4444444444444444,
             "#bd3786"
            ],
            [
             0.5555555555555556,
             "#d8576b"
            ],
            [
             0.6666666666666666,
             "#ed7953"
            ],
            [
             0.7777777777777778,
             "#fb9f3a"
            ],
            [
             0.8888888888888888,
             "#fdca26"
            ],
            [
             1,
             "#f0f921"
            ]
           ]
          },
          "colorway": [
           "#636efa",
           "#EF553B",
           "#00cc96",
           "#ab63fa",
           "#FFA15A",
           "#19d3f3",
           "#FF6692",
           "#B6E880",
           "#FF97FF",
           "#FECB52"
          ],
          "font": {
           "color": "#2a3f5f"
          },
          "geo": {
           "bgcolor": "white",
           "lakecolor": "white",
           "landcolor": "#E5ECF6",
           "showlakes": true,
           "showland": true,
           "subunitcolor": "white"
          },
          "hoverlabel": {
           "align": "left"
          },
          "hovermode": "closest",
          "mapbox": {
           "style": "light"
          },
          "paper_bgcolor": "white",
          "plot_bgcolor": "#E5ECF6",
          "polar": {
           "angularaxis": {
            "gridcolor": "white",
            "linecolor": "white",
            "ticks": ""
           },
           "bgcolor": "#E5ECF6",
           "radialaxis": {
            "gridcolor": "white",
            "linecolor": "white",
            "ticks": ""
           }
          },
          "scene": {
           "xaxis": {
            "backgroundcolor": "#E5ECF6",
            "gridcolor": "white",
            "gridwidth": 2,
            "linecolor": "white",
            "showbackground": true,
            "ticks": "",
            "zerolinecolor": "white"
           },
           "yaxis": {
            "backgroundcolor": "#E5ECF6",
            "gridcolor": "white",
            "gridwidth": 2,
            "linecolor": "white",
            "showbackground": true,
            "ticks": "",
            "zerolinecolor": "white"
           },
           "zaxis": {
            "backgroundcolor": "#E5ECF6",
            "gridcolor": "white",
            "gridwidth": 2,
            "linecolor": "white",
            "showbackground": true,
            "ticks": "",
            "zerolinecolor": "white"
           }
          },
          "shapedefaults": {
           "line": {
            "color": "#2a3f5f"
           }
          },
          "ternary": {
           "aaxis": {
            "gridcolor": "white",
            "linecolor": "white",
            "ticks": ""
           },
           "baxis": {
            "gridcolor": "white",
            "linecolor": "white",
            "ticks": ""
           },
           "bgcolor": "#E5ECF6",
           "caxis": {
            "gridcolor": "white",
            "linecolor": "white",
            "ticks": ""
           }
          },
          "title": {
           "x": 0.05
          },
          "xaxis": {
           "automargin": true,
           "gridcolor": "white",
           "linecolor": "white",
           "ticks": "",
           "title": {
            "standoff": 15
           },
           "zerolinecolor": "white",
           "zerolinewidth": 2
          },
          "yaxis": {
           "automargin": true,
           "gridcolor": "white",
           "linecolor": "white",
           "ticks": "",
           "title": {
            "standoff": 15
           },
           "zerolinecolor": "white",
           "zerolinewidth": 2
          }
         }
        },
        "title": {
         "text": "Diversité des Thématiques liées à l'Environnement"
        },
        "xaxis": {
         "anchor": "y",
         "categoryorder": "total descending",
         "domain": [
          0,
          1
         ],
         "title": {
          "text": "channel"
         }
        },
        "yaxis": {
         "anchor": "x",
         "domain": [
          0,
          1
         ],
         "title": {
          "text": "sum of nb_topics"
         }
        }
       }
      },
      "text/html": [
       "<div>                            <div id=\"16248119-4743-4d26-bf8c-42f83a53c963\" class=\"plotly-graph-div\" style=\"height:525px; width:100%;\"></div>            <script type=\"text/javascript\">                require([\"plotly\"], function(Plotly) {                    window.PLOTLYENV=window.PLOTLYENV || {};                                    if (document.getElementById(\"16248119-4743-4d26-bf8c-42f83a53c963\")) {                    Plotly.newPlot(                        \"16248119-4743-4d26-bf8c-42f83a53c963\",                        [{\"alignmentgroup\":\"True\",\"bingroup\":\"x\",\"histfunc\":\"sum\",\"hovertemplate\":\"media=TV<br>channel=%{x}<br>sum of nb_topics=%{y}<extra></extra>\",\"legendgroup\":\"TV\",\"marker\":{\"color\":\"#636efa\",\"pattern\":{\"shape\":\"\"}},\"name\":\"TV\",\"offsetgroup\":\"TV\",\"orientation\":\"v\",\"showlegend\":true,\"x\":[\"8-mont-blanc\",\"arte\",\"bfmgrandlittoral-edd\",\"bfmlyon\",\"bfmtv\",\"bsmart-edd\",\"dci\",\"euronews\",\"fr3-centre\",\"fr3-champagne\",\"fr3-idf\",\"fr3-midi-pyrennees\",\"fr3-prov-alpes\",\"france2\",\"france24\",\"france5\",\"franceinfotv\",\"itele\",\"lcp\",\"lmtv\",\"nice-azur-tv\",\"provence-azur-edd\",\"tebesud-edd\",\"teleloire7\",\"telenantes\",\"tv-tours\",\"tv5\",\"viaoccitanie-edd\"],\"xaxis\":\"x\",\"y\":[1,2,2,3,5,1,5,3,2,3,3,1,1,2,3,2,2,1,6,3,1,1,2,2,5,4,1,3],\"yaxis\":\"y\",\"type\":\"histogram\"},{\"alignmentgroup\":\"True\",\"bingroup\":\"x\",\"histfunc\":\"sum\",\"hovertemplate\":\"media=Radio<br>channel=%{x}<br>sum of nb_topics=%{y}<extra></extra>\",\"legendgroup\":\"Radio\",\"marker\":{\"color\":\"#EF553B\",\"pattern\":{\"shape\":\"\"}},\"name\":\"Radio\",\"offsetgroup\":\"Radio\",\"orientation\":\"v\",\"showlegend\":true,\"x\":[\"bergerac\",\"bull\",\"cheriefmrouen-edd\",\"euroradio-nantes\",\"fbleu-alsace\",\"fbleu-auvergne\",\"fbleu-auxerre-edd\",\"fbleu-creuse-edd\",\"fbleu-gascogne-edd\",\"fbleu-h-normandie\",\"fbleu-herault\",\"fbleu-nord\",\"fbleu-perigord-edd\",\"fbleu-picardie\",\"fbleu-provence\",\"fbleu-s-lorraine-edd\",\"fbleu-savoie\",\"flash-edd\",\"france-culture\",\"france-info\",\"france-inter\",\"guadeloupe1-edd\",\"horizon-lba-edd\",\"nostalgiecaen-edd\",\"nrj-abbeville\",\"nrjbourgenbresse-edd\",\"radioimmo-edd\",\"radioopenfm-edd\",\"rcf-anjou\",\"rcf-bordeaux\",\"rcf-h-normandie\",\"rcf-nievre-edd\",\"rcf-st-martin\",\"rcfcharente-edd\",\"rtf-limoges\",\"rts1-edd\",\"supplychainradio-edd\",\"vfm\"],\"xaxis\":\"x\",\"y\":[2,3,1,3,1,5,3,2,3,2,1,2,2,3,1,2,2,3,4,1,5,2,2,3,4,2,1,2,1,3,1,2,4,2,2,4,3,3],\"yaxis\":\"y\",\"type\":\"histogram\"}],                        {\"template\":{\"data\":{\"bar\":[{\"error_x\":{\"color\":\"#2a3f5f\"},\"error_y\":{\"color\":\"#2a3f5f\"},\"marker\":{\"line\":{\"color\":\"#E5ECF6\",\"width\":0.5},\"pattern\":{\"fillmode\":\"overlay\",\"size\":10,\"solidity\":0.2}},\"type\":\"bar\"}],\"barpolar\":[{\"marker\":{\"line\":{\"color\":\"#E5ECF6\",\"width\":0.5},\"pattern\":{\"fillmode\":\"overlay\",\"size\":10,\"solidity\":0.2}},\"type\":\"barpolar\"}],\"carpet\":[{\"aaxis\":{\"endlinecolor\":\"#2a3f5f\",\"gridcolor\":\"white\",\"linecolor\":\"white\",\"minorgridcolor\":\"white\",\"startlinecolor\":\"#2a3f5f\"},\"baxis\":{\"endlinecolor\":\"#2a3f5f\",\"gridcolor\":\"white\",\"linecolor\":\"white\",\"minorgridcolor\":\"white\",\"startlinecolor\":\"#2a3f5f\"},\"type\":\"carpet\"}],\"choropleth\":[{\"colorbar\":{\"outlinewidth\":0,\"ticks\":\"\"},\"type\":\"choropleth\"}],\"contour\":[{\"colorbar\":{\"outlinewidth\":0,\"ticks\":\"\"},\"colorscale\":[[0.0,\"#0d0887\"],[0.1111111111111111,\"#46039f\"],[0.2222222222222222,\"#7201a8\"],[0.3333333333333333,\"#9c179e\"],[0.4444444444444444,\"#bd3786\"],[0.5555555555555556,\"#d8576b\"],[0.6666666666666666,\"#ed7953\"],[0.7777777777777778,\"#fb9f3a\"],[0.8888888888888888,\"#fdca26\"],[1.0,\"#f0f921\"]],\"type\":\"contour\"}],\"contourcarpet\":[{\"colorbar\":{\"outlinewidth\":0,\"ticks\":\"\"},\"type\":\"contourcarpet\"}],\"heatmap\":[{\"colorbar\":{\"outlinewidth\":0,\"ticks\":\"\"},\"colorscale\":[[0.0,\"#0d0887\"],[0.1111111111111111,\"#46039f\"],[0.2222222222222222,\"#7201a8\"],[0.3333333333333333,\"#9c179e\"],[0.4444444444444444,\"#bd3786\"],[0.5555555555555556,\"#d8576b\"],[0.6666666666666666,\"#ed7953\"],[0.7777777777777778,\"#fb9f3a\"],[0.8888888888888888,\"#fdca26\"],[1.0,\"#f0f921\"]],\"type\":\"heatmap\"}],\"heatmapgl\":[{\"colorbar\":{\"outlinewidth\":0,\"ticks\":\"\"},\"colorscale\":[[0.0,\"#0d0887\"],[0.1111111111111111,\"#46039f\"],[0.2222222222222222,\"#7201a8\"],[0.3333333333333333,\"#9c179e\"],[0.4444444444444444,\"#bd3786\"],[0.5555555555555556,\"#d8576b\"],[0.6666666666666666,\"#ed7953\"],[0.7777777777777778,\"#fb9f3a\"],[0.8888888888888888,\"#fdca26\"],[1.0,\"#f0f921\"]],\"type\":\"heatmapgl\"}],\"histogram\":[{\"marker\":{\"pattern\":{\"fillmode\":\"overlay\",\"size\":10,\"solidity\":0.2}},\"type\":\"histogram\"}],\"histogram2d\":[{\"colorbar\":{\"outlinewidth\":0,\"ticks\":\"\"},\"colorscale\":[[0.0,\"#0d0887\"],[0.1111111111111111,\"#46039f\"],[0.2222222222222222,\"#7201a8\"],[0.3333333333333333,\"#9c179e\"],[0.4444444444444444,\"#bd3786\"],[0.5555555555555556,\"#d8576b\"],[0.6666666666666666,\"#ed7953\"],[0.7777777777777778,\"#fb9f3a\"],[0.8888888888888888,\"#fdca26\"],[1.0,\"#f0f921\"]],\"type\":\"histogram2d\"}],\"histogram2dcontour\":[{\"colorbar\":{\"outlinewidth\":0,\"ticks\":\"\"},\"colorscale\":[[0.0,\"#0d0887\"],[0.1111111111111111,\"#46039f\"],[0.2222222222222222,\"#7201a8\"],[0.3333333333333333,\"#9c179e\"],[0.4444444444444444,\"#bd3786\"],[0.5555555555555556,\"#d8576b\"],[0.6666666666666666,\"#ed7953\"],[0.7777777777777778,\"#fb9f3a\"],[0.8888888888888888,\"#fdca26\"],[1.0,\"#f0f921\"]],\"type\":\"histogram2dcontour\"}],\"mesh3d\":[{\"colorbar\":{\"outlinewidth\":0,\"ticks\":\"\"},\"type\":\"mesh3d\"}],\"parcoords\":[{\"line\":{\"colorbar\":{\"outlinewidth\":0,\"ticks\":\"\"}},\"type\":\"parcoords\"}],\"pie\":[{\"automargin\":true,\"type\":\"pie\"}],\"scatter\":[{\"marker\":{\"colorbar\":{\"outlinewidth\":0,\"ticks\":\"\"}},\"type\":\"scatter\"}],\"scatter3d\":[{\"line\":{\"colorbar\":{\"outlinewidth\":0,\"ticks\":\"\"}},\"marker\":{\"colorbar\":{\"outlinewidth\":0,\"ticks\":\"\"}},\"type\":\"scatter3d\"}],\"scattercarpet\":[{\"marker\":{\"colorbar\":{\"outlinewidth\":0,\"ticks\":\"\"}},\"type\":\"scattercarpet\"}],\"scattergeo\":[{\"marker\":{\"colorbar\":{\"outlinewidth\":0,\"ticks\":\"\"}},\"type\":\"scattergeo\"}],\"scattergl\":[{\"marker\":{\"colorbar\":{\"outlinewidth\":0,\"ticks\":\"\"}},\"type\":\"scattergl\"}],\"scattermapbox\":[{\"marker\":{\"colorbar\":{\"outlinewidth\":0,\"ticks\":\"\"}},\"type\":\"scattermapbox\"}],\"scatterpolar\":[{\"marker\":{\"colorbar\":{\"outlinewidth\":0,\"ticks\":\"\"}},\"type\":\"scatterpolar\"}],\"scatterpolargl\":[{\"marker\":{\"colorbar\":{\"outlinewidth\":0,\"ticks\":\"\"}},\"type\":\"scatterpolargl\"}],\"scatterternary\":[{\"marker\":{\"colorbar\":{\"outlinewidth\":0,\"ticks\":\"\"}},\"type\":\"scatterternary\"}],\"surface\":[{\"colorbar\":{\"outlinewidth\":0,\"ticks\":\"\"},\"colorscale\":[[0.0,\"#0d0887\"],[0.1111111111111111,\"#46039f\"],[0.2222222222222222,\"#7201a8\"],[0.3333333333333333,\"#9c179e\"],[0.4444444444444444,\"#bd3786\"],[0.5555555555555556,\"#d8576b\"],[0.6666666666666666,\"#ed7953\"],[0.7777777777777778,\"#fb9f3a\"],[0.8888888888888888,\"#fdca26\"],[1.0,\"#f0f921\"]],\"type\":\"surface\"}],\"table\":[{\"cells\":{\"fill\":{\"color\":\"#EBF0F8\"},\"line\":{\"color\":\"white\"}},\"header\":{\"fill\":{\"color\":\"#C8D4E3\"},\"line\":{\"color\":\"white\"}},\"type\":\"table\"}]},\"layout\":{\"annotationdefaults\":{\"arrowcolor\":\"#2a3f5f\",\"arrowhead\":0,\"arrowwidth\":1},\"autotypenumbers\":\"strict\",\"coloraxis\":{\"colorbar\":{\"outlinewidth\":0,\"ticks\":\"\"}},\"colorscale\":{\"diverging\":[[0,\"#8e0152\"],[0.1,\"#c51b7d\"],[0.2,\"#de77ae\"],[0.3,\"#f1b6da\"],[0.4,\"#fde0ef\"],[0.5,\"#f7f7f7\"],[0.6,\"#e6f5d0\"],[0.7,\"#b8e186\"],[0.8,\"#7fbc41\"],[0.9,\"#4d9221\"],[1,\"#276419\"]],\"sequential\":[[0.0,\"#0d0887\"],[0.1111111111111111,\"#46039f\"],[0.2222222222222222,\"#7201a8\"],[0.3333333333333333,\"#9c179e\"],[0.4444444444444444,\"#bd3786\"],[0.5555555555555556,\"#d8576b\"],[0.6666666666666666,\"#ed7953\"],[0.7777777777777778,\"#fb9f3a\"],[0.8888888888888888,\"#fdca26\"],[1.0,\"#f0f921\"]],\"sequentialminus\":[[0.0,\"#0d0887\"],[0.1111111111111111,\"#46039f\"],[0.2222222222222222,\"#7201a8\"],[0.3333333333333333,\"#9c179e\"],[0.4444444444444444,\"#bd3786\"],[0.5555555555555556,\"#d8576b\"],[0.6666666666666666,\"#ed7953\"],[0.7777777777777778,\"#fb9f3a\"],[0.8888888888888888,\"#fdca26\"],[1.0,\"#f0f921\"]]},\"colorway\":[\"#636efa\",\"#EF553B\",\"#00cc96\",\"#ab63fa\",\"#FFA15A\",\"#19d3f3\",\"#FF6692\",\"#B6E880\",\"#FF97FF\",\"#FECB52\"],\"font\":{\"color\":\"#2a3f5f\"},\"geo\":{\"bgcolor\":\"white\",\"lakecolor\":\"white\",\"landcolor\":\"#E5ECF6\",\"showlakes\":true,\"showland\":true,\"subunitcolor\":\"white\"},\"hoverlabel\":{\"align\":\"left\"},\"hovermode\":\"closest\",\"mapbox\":{\"style\":\"light\"},\"paper_bgcolor\":\"white\",\"plot_bgcolor\":\"#E5ECF6\",\"polar\":{\"angularaxis\":{\"gridcolor\":\"white\",\"linecolor\":\"white\",\"ticks\":\"\"},\"bgcolor\":\"#E5ECF6\",\"radialaxis\":{\"gridcolor\":\"white\",\"linecolor\":\"white\",\"ticks\":\"\"}},\"scene\":{\"xaxis\":{\"backgroundcolor\":\"#E5ECF6\",\"gridcolor\":\"white\",\"gridwidth\":2,\"linecolor\":\"white\",\"showbackground\":true,\"ticks\":\"\",\"zerolinecolor\":\"white\"},\"yaxis\":{\"backgroundcolor\":\"#E5ECF6\",\"gridcolor\":\"white\",\"gridwidth\":2,\"linecolor\":\"white\",\"showbackground\":true,\"ticks\":\"\",\"zerolinecolor\":\"white\"},\"zaxis\":{\"backgroundcolor\":\"#E5ECF6\",\"gridcolor\":\"white\",\"gridwidth\":2,\"linecolor\":\"white\",\"showbackground\":true,\"ticks\":\"\",\"zerolinecolor\":\"white\"}},\"shapedefaults\":{\"line\":{\"color\":\"#2a3f5f\"}},\"ternary\":{\"aaxis\":{\"gridcolor\":\"white\",\"linecolor\":\"white\",\"ticks\":\"\"},\"baxis\":{\"gridcolor\":\"white\",\"linecolor\":\"white\",\"ticks\":\"\"},\"bgcolor\":\"#E5ECF6\",\"caxis\":{\"gridcolor\":\"white\",\"linecolor\":\"white\",\"ticks\":\"\"}},\"title\":{\"x\":0.05},\"xaxis\":{\"automargin\":true,\"gridcolor\":\"white\",\"linecolor\":\"white\",\"ticks\":\"\",\"title\":{\"standoff\":15},\"zerolinecolor\":\"white\",\"zerolinewidth\":2},\"yaxis\":{\"automargin\":true,\"gridcolor\":\"white\",\"linecolor\":\"white\",\"ticks\":\"\",\"title\":{\"standoff\":15},\"zerolinecolor\":\"white\",\"zerolinewidth\":2}}},\"xaxis\":{\"anchor\":\"y\",\"domain\":[0.0,1.0],\"title\":{\"text\":\"channel\"},\"categoryorder\":\"total descending\"},\"yaxis\":{\"anchor\":\"x\",\"domain\":[0.0,1.0],\"title\":{\"text\":\"sum of nb_topics\"}},\"legend\":{\"title\":{\"text\":\"media\"},\"tracegroupgap\":0},\"title\":{\"text\":\"Diversit\\u00e9 des Th\\u00e9matiques li\\u00e9es \\u00e0 l'Environnement\"},\"barmode\":\"relative\"},                        {\"responsive\": true}                    ).then(function(){\n",
       "                            \n",
       "var gd = document.getElementById('16248119-4743-4d26-bf8c-42f83a53c963');\n",
       "var x = new MutationObserver(function (mutations, observer) {{\n",
       "        var display = window.getComputedStyle(gd).display;\n",
       "        if (!display || display === 'none') {{\n",
       "            console.log([gd, 'removed!']);\n",
       "            Plotly.purge(gd);\n",
       "            observer.disconnect();\n",
       "        }}\n",
       "}});\n",
       "\n",
       "// Listen for the removal of the full notebook cells\n",
       "var notebookContainer = gd.closest('#notebook-container');\n",
       "if (notebookContainer) {{\n",
       "    x.observe(notebookContainer, {childList: true});\n",
       "}}\n",
       "\n",
       "// Listen for the clearing of the current output cell\n",
       "var outputEl = gd.closest('.output');\n",
       "if (outputEl) {{\n",
       "    x.observe(outputEl, {childList: true});\n",
       "}}\n",
       "\n",
       "                        })                };                });            </script>        </div>"
      ]
     },
     "metadata": {},
     "output_type": "display_data"
    }
   ],
   "source": [
    "fig = px.histogram(stats, x='channel', y='nb_topics', color='media',\n",
    "                  title=\"Diversité des Thématiques liées à l'Environnement\").update_xaxes(categoryorder='total descending')\n",
    "fig.show()"
   ]
  },
  {
   "cell_type": "code",
   "execution_count": null,
   "id": "c18dc97a",
   "metadata": {
    "scrolled": true
   },
   "outputs": [],
   "source": []
  }
 ],
 "metadata": {
  "kernelspec": {
   "display_name": "Python 3 (ipykernel)",
   "language": "python",
   "name": "python3"
  },
  "language_info": {
   "codemirror_mode": {
    "name": "ipython",
    "version": 3
   },
   "file_extension": ".py",
   "mimetype": "text/x-python",
   "name": "python",
   "nbconvert_exporter": "python",
   "pygments_lexer": "ipython3",
   "version": "3.9.12"
  }
 },
 "nbformat": 4,
 "nbformat_minor": 5
}
