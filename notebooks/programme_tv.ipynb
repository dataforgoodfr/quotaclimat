{
 "cells": [
  {
   "cell_type": "markdown",
   "id": "62a82991-9ba7-4f27-8f77-9efb4063242a",
   "metadata": {},
   "source": [
    "# Parse the XMLtv file from [XMLtv.ch](xmltv.ch)"
   ]
  },
  {
   "cell_type": "code",
   "execution_count": 3,
   "id": "95492133-3fcd-4ed6-93fd-8074dd24708c",
   "metadata": {},
   "outputs": [],
   "source": [
    "from io import BytesIO\n",
    "import pandas as pd\n",
    "from PIL import Image\n",
    "import requests\n",
    "import xmltodict\n",
    "import plotly.express as px\n",
    "\n",
    "pd.options.plotting.backend = \"plotly\"\n"
   ]
  },
  {
   "cell_type": "code",
   "execution_count": 4,
   "id": "df75165b-32fc-44f0-aa84-440aae067923",
   "metadata": {},
   "outputs": [],
   "source": [
    "# Get the latest verion of the file\n",
    "headers = {'User-Agent': 'Mozilla'}\n",
    "URL = \"https://xmltv.ch/xmltv/xmltv-tnt.xml\"\n",
    "\n",
    "response = requests.get(URL, headers=headers)\n",
    "with open(\"../data/xmltv-tnt.xml\", 'wb') as outfile:\n",
    "    _ = outfile.write(response.content)"
   ]
  },
  {
   "cell_type": "code",
   "execution_count": 5,
   "id": "0fbb6feb-2ec0-4cbd-9a49-ccad2e873634",
   "metadata": {},
   "outputs": [],
   "source": [
    "# Reading the data inside the xml\n",
    "with open('../data/xmltv-tnt.xml', 'r', encoding='utf-8') as f:\n",
    "    data = f.read()\n",
    "\n",
    "# Parsing\n",
    "data = xmltodict.parse(data)"
   ]
  },
  {
   "cell_type": "code",
   "execution_count": 6,
   "id": "dcb41bee-b4ad-4140-b491-25b5dbb36736",
   "metadata": {},
   "outputs": [
    {
     "data": {
      "text/html": [
       "<div>\n",
       "<style scoped>\n",
       "    .dataframe tbody tr th:only-of-type {\n",
       "        vertical-align: middle;\n",
       "    }\n",
       "\n",
       "    .dataframe tbody tr th {\n",
       "        vertical-align: top;\n",
       "    }\n",
       "\n",
       "    .dataframe thead th {\n",
       "        text-align: right;\n",
       "    }\n",
       "</style>\n",
       "<table border=\"1\" class=\"dataframe\">\n",
       "  <thead>\n",
       "    <tr style=\"text-align: right;\">\n",
       "      <th></th>\n",
       "      <th>channel_id</th>\n",
       "      <th>channel_name</th>\n",
       "      <th>channel_icon</th>\n",
       "    </tr>\n",
       "  </thead>\n",
       "  <tbody>\n",
       "    <tr>\n",
       "      <th>0</th>\n",
       "      <td>C192.api.telerama.fr</td>\n",
       "      <td>TF1</td>\n",
       "      <td>https://television.telerama.fr/sites/tr_master...</td>\n",
       "    </tr>\n",
       "    <tr>\n",
       "      <th>1</th>\n",
       "      <td>C4.api.telerama.fr</td>\n",
       "      <td>France 2</td>\n",
       "      <td>https://television.telerama.fr/sites/tr_master...</td>\n",
       "    </tr>\n",
       "    <tr>\n",
       "      <th>2</th>\n",
       "      <td>C80.api.telerama.fr</td>\n",
       "      <td>France 3</td>\n",
       "      <td>https://television.telerama.fr/sites/tr_master...</td>\n",
       "    </tr>\n",
       "    <tr>\n",
       "      <th>3</th>\n",
       "      <td>C34.api.telerama.fr</td>\n",
       "      <td>Canal+</td>\n",
       "      <td>https://television.telerama.fr/sites/tr_master...</td>\n",
       "    </tr>\n",
       "    <tr>\n",
       "      <th>4</th>\n",
       "      <td>C111.api.telerama.fr</td>\n",
       "      <td>Arte</td>\n",
       "      <td>https://television.telerama.fr/sites/tr_master...</td>\n",
       "    </tr>\n",
       "  </tbody>\n",
       "</table>\n",
       "</div>"
      ],
      "text/plain": [
       "             channel_id channel_name  \\\n",
       "0  C192.api.telerama.fr          TF1   \n",
       "1    C4.api.telerama.fr     France 2   \n",
       "2   C80.api.telerama.fr     France 3   \n",
       "3   C34.api.telerama.fr       Canal+   \n",
       "4  C111.api.telerama.fr         Arte   \n",
       "\n",
       "                                        channel_icon  \n",
       "0  https://television.telerama.fr/sites/tr_master...  \n",
       "1  https://television.telerama.fr/sites/tr_master...  \n",
       "2  https://television.telerama.fr/sites/tr_master...  \n",
       "3  https://television.telerama.fr/sites/tr_master...  \n",
       "4  https://television.telerama.fr/sites/tr_master...  "
      ]
     },
     "execution_count": 6,
     "metadata": {},
     "output_type": "execute_result"
    }
   ],
   "source": [
    "# channels to dataframe\n",
    "df_channels = pd.DataFrame(data[\"tv\"][\"channel\"])\n",
    "df_channels = pd.json_normalize(df_channels.to_dict(orient=\"records\"))\n",
    "df_channels.rename(columns={\"@id\": \"channel_id\", \"icon.@src\": \"channel_icon\", \"display-name\": \"channel_name\"}, inplace=True)\n",
    "\n",
    "df_channels.head()"
   ]
  },
  {
   "cell_type": "code",
   "execution_count": 7,
   "id": "48a123f4-cfb6-421b-beff-99263bbc7360",
   "metadata": {},
   "outputs": [
    {
     "data": {
      "text/html": [
       "<div>\n",
       "<style scoped>\n",
       "    .dataframe tbody tr th:only-of-type {\n",
       "        vertical-align: middle;\n",
       "    }\n",
       "\n",
       "    .dataframe tbody tr th {\n",
       "        vertical-align: top;\n",
       "    }\n",
       "\n",
       "    .dataframe thead th {\n",
       "        text-align: right;\n",
       "    }\n",
       "</style>\n",
       "<table border=\"1\" class=\"dataframe\">\n",
       "  <thead>\n",
       "    <tr style=\"text-align: right;\">\n",
       "      <th></th>\n",
       "      <th>start</th>\n",
       "      <th>stop</th>\n",
       "      <th>channel</th>\n",
       "      <th>title</th>\n",
       "      <th>subtitle</th>\n",
       "      <th>date</th>\n",
       "      <th>desc_lang</th>\n",
       "      <th>desc_text</th>\n",
       "      <th>category_lang</th>\n",
       "      <th>category_text</th>\n",
       "      <th>...</th>\n",
       "      <th>episodenum_text</th>\n",
       "      <th>audio_stereo</th>\n",
       "      <th>rating_system</th>\n",
       "      <th>rating_value</th>\n",
       "      <th>rating_icon_src</th>\n",
       "      <th>starrating_value</th>\n",
       "      <th>subtitles_type</th>\n",
       "      <th>subtitles_language</th>\n",
       "      <th>channel_name</th>\n",
       "      <th>channel_icon</th>\n",
       "    </tr>\n",
       "  </thead>\n",
       "  <tbody>\n",
       "    <tr>\n",
       "      <th>0</th>\n",
       "      <td>2022-11-04 00:50:00+01:00</td>\n",
       "      <td>2022-11-04 01:35:00+01:00</td>\n",
       "      <td>C192.api.telerama.fr</td>\n",
       "      <td>Esprits criminels</td>\n",
       "      <td>Ancienne blessure</td>\n",
       "      <td>2008</td>\n",
       "      <td>fr</td>\n",
       "      <td>Saison:3 - Episode:14 - Rossi rouvre officieus...</td>\n",
       "      <td>fr</td>\n",
       "      <td>série policière</td>\n",
       "      <td>...</td>\n",
       "      <td>2.13.</td>\n",
       "      <td>bilingual</td>\n",
       "      <td>CSA</td>\n",
       "      <td>-10</td>\n",
       "      <td>http://upload.wikimedia.org/wikipedia/commons/...</td>\n",
       "      <td>NaN</td>\n",
       "      <td>NaN</td>\n",
       "      <td>NaN</td>\n",
       "      <td>TF1</td>\n",
       "      <td>https://television.telerama.fr/sites/tr_master...</td>\n",
       "    </tr>\n",
       "    <tr>\n",
       "      <th>1</th>\n",
       "      <td>2022-11-04 01:35:00+01:00</td>\n",
       "      <td>2022-11-04 02:30:00+01:00</td>\n",
       "      <td>C192.api.telerama.fr</td>\n",
       "      <td>Esprits criminels</td>\n",
       "      <td>Retour vers le passé</td>\n",
       "      <td>2008</td>\n",
       "      <td>fr</td>\n",
       "      <td>Saison:3 - Episode:11 - Le nouveau shérif de F...</td>\n",
       "      <td>fr</td>\n",
       "      <td>série policière</td>\n",
       "      <td>...</td>\n",
       "      <td>2.10.</td>\n",
       "      <td>bilingual</td>\n",
       "      <td>CSA</td>\n",
       "      <td>-12</td>\n",
       "      <td>http://upload.wikimedia.org/wikipedia/commons/...</td>\n",
       "      <td>NaN</td>\n",
       "      <td>NaN</td>\n",
       "      <td>NaN</td>\n",
       "      <td>TF1</td>\n",
       "      <td>https://television.telerama.fr/sites/tr_master...</td>\n",
       "    </tr>\n",
       "    <tr>\n",
       "      <th>2</th>\n",
       "      <td>2022-11-04 02:30:00+01:00</td>\n",
       "      <td>2022-11-04 06:25:00+01:00</td>\n",
       "      <td>C192.api.telerama.fr</td>\n",
       "      <td>Programmes de la nuit</td>\n",
       "      <td>NaN</td>\n",
       "      <td>NaN</td>\n",
       "      <td>fr</td>\n",
       "      <td>Retrouvez tous vos programmes de nuit.</td>\n",
       "      <td>fr</td>\n",
       "      <td>programme indéterminé</td>\n",
       "      <td>...</td>\n",
       "      <td>NaN</td>\n",
       "      <td>NaN</td>\n",
       "      <td>CSA</td>\n",
       "      <td>Tout public</td>\n",
       "      <td>NaN</td>\n",
       "      <td>NaN</td>\n",
       "      <td>NaN</td>\n",
       "      <td>NaN</td>\n",
       "      <td>TF1</td>\n",
       "      <td>https://television.telerama.fr/sites/tr_master...</td>\n",
       "    </tr>\n",
       "  </tbody>\n",
       "</table>\n",
       "<p>3 rows × 24 columns</p>\n",
       "</div>"
      ],
      "text/plain": [
       "                      start                      stop               channel  \\\n",
       "0 2022-11-04 00:50:00+01:00 2022-11-04 01:35:00+01:00  C192.api.telerama.fr   \n",
       "1 2022-11-04 01:35:00+01:00 2022-11-04 02:30:00+01:00  C192.api.telerama.fr   \n",
       "2 2022-11-04 02:30:00+01:00 2022-11-04 06:25:00+01:00  C192.api.telerama.fr   \n",
       "\n",
       "                   title              subtitle  date desc_lang  \\\n",
       "0      Esprits criminels     Ancienne blessure  2008        fr   \n",
       "1      Esprits criminels  Retour vers le passé  2008        fr   \n",
       "2  Programmes de la nuit                   NaN   NaN        fr   \n",
       "\n",
       "                                           desc_text category_lang  \\\n",
       "0  Saison:3 - Episode:14 - Rossi rouvre officieus...            fr   \n",
       "1  Saison:3 - Episode:11 - Le nouveau shérif de F...            fr   \n",
       "2             Retrouvez tous vos programmes de nuit.            fr   \n",
       "\n",
       "           category_text  ... episodenum_text audio_stereo rating_system  \\\n",
       "0        série policière  ...           2.13.    bilingual           CSA   \n",
       "1        série policière  ...           2.10.    bilingual           CSA   \n",
       "2  programme indéterminé  ...             NaN          NaN           CSA   \n",
       "\n",
       "  rating_value                                    rating_icon_src  \\\n",
       "0          -10  http://upload.wikimedia.org/wikipedia/commons/...   \n",
       "1          -12  http://upload.wikimedia.org/wikipedia/commons/...   \n",
       "2  Tout public                                                NaN   \n",
       "\n",
       "  starrating_value subtitles_type subtitles_language channel_name  \\\n",
       "0              NaN            NaN                NaN          TF1   \n",
       "1              NaN            NaN                NaN          TF1   \n",
       "2              NaN            NaN                NaN          TF1   \n",
       "\n",
       "                                        channel_icon  \n",
       "0  https://television.telerama.fr/sites/tr_master...  \n",
       "1  https://television.telerama.fr/sites/tr_master...  \n",
       "2  https://television.telerama.fr/sites/tr_master...  \n",
       "\n",
       "[3 rows x 24 columns]"
      ]
     },
     "execution_count": 7,
     "metadata": {},
     "output_type": "execute_result"
    }
   ],
   "source": [
    "# programs to dataframe\n",
    "df_programs = pd.DataFrame(data[\"tv\"][\"programme\"])\n",
    "df_programs = pd.json_normalize(df_programs.to_dict(orient=\"records\"), sep=\"_\")\n",
    "# Clean column names \n",
    "df_programs.columns = [col.replace(\"@\", \"\").replace(\"#\", \"\").replace(\"-\", \"\") for col in df_programs.columns]\n",
    "# Join with df_channels \n",
    "df_programs = df_programs.join(df_channels.set_index(\"channel_id\"), on=\"channel\")\n",
    "# Drop empty columns\n",
    "df_programs.dropna(axis=1, how='all', inplace=True)\n",
    "# Convert some columns to datetime\n",
    "df_programs[\"start\"] = pd.to_datetime(df_programs[\"start\"], infer_datetime_format=True)\n",
    "df_programs[\"stop\"] = pd.to_datetime(df_programs[\"stop\"], infer_datetime_format=True)\n",
    "\n",
    "df_programs.head(3)"
   ]
  },
  {
   "cell_type": "code",
   "execution_count": 8,
   "id": "6e6d9ef8-785b-4165-b139-9d807849f4e7",
   "metadata": {},
   "outputs": [
    {
     "data": {
      "text/plain": [
       "['start',\n",
       " 'stop',\n",
       " 'channel',\n",
       " 'title',\n",
       " 'subtitle',\n",
       " 'date',\n",
       " 'desc_lang',\n",
       " 'desc_text',\n",
       " 'category_lang',\n",
       " 'category_text',\n",
       " 'length_units',\n",
       " 'length_text',\n",
       " 'icon_src',\n",
       " 'episodenum_system',\n",
       " 'episodenum_text',\n",
       " 'audio_stereo',\n",
       " 'rating_system',\n",
       " 'rating_value',\n",
       " 'rating_icon_src',\n",
       " 'starrating_value',\n",
       " 'subtitles_type',\n",
       " 'subtitles_language',\n",
       " 'channel_name',\n",
       " 'channel_icon']"
      ]
     },
     "execution_count": 8,
     "metadata": {},
     "output_type": "execute_result"
    }
   ],
   "source": [
    "df_programs.columns.tolist()"
   ]
  },
  {
   "cell_type": "code",
   "execution_count": 9,
   "id": "411eb901-b7b2-42ee-b49b-24b11fe99340",
   "metadata": {
    "tags": []
   },
   "outputs": [],
   "source": [
    "# Compute duration in minutes\n",
    "# With this we can ignore \"length.units\" and \"length.text\" which is too convoluted\n",
    "df_programs[\"length_minutes\"] = (df_programs[\"stop\"] - df_programs[\"start\"]).apply(lambda x: int(x.total_seconds() / 60))"
   ]
  },
  {
   "cell_type": "code",
   "execution_count": 10,
   "id": "9648e185-218d-43e2-b52c-e957fb614a96",
   "metadata": {},
   "outputs": [
    {
     "data": {
      "text/plain": [
       "fr     8861\n",
       "NaN    1063\n",
       "Name: desc_lang, dtype: int64"
      ]
     },
     "execution_count": 10,
     "metadata": {},
     "output_type": "execute_result"
    },
    {
     "data": {
      "text/plain": [
       "fr    9924\n",
       "Name: category_lang, dtype: int64"
      ]
     },
     "execution_count": 10,
     "metadata": {},
     "output_type": "execute_result"
    },
    {
     "data": {
      "text/plain": [
       "série d'animation                       1337\n",
       "journal                                  653\n",
       "jeunesse : dessin animé dessin animé     636\n",
       "météo                                    584\n",
       "série humoristique                       504\n",
       "                                        ... \n",
       "emission spéciale                          1\n",
       "jeunesse : dessin animé jeunesse           1\n",
       "sport : cyclisme                           1\n",
       "film sentimental                           1\n",
       "documentaire rock-pop                      1\n",
       "Name: category_text, Length: 186, dtype: int64"
      ]
     },
     "execution_count": 10,
     "metadata": {},
     "output_type": "execute_result"
    },
    {
     "data": {
      "text/plain": [
       "2022     480\n",
       "2021     413\n",
       "2020     346\n",
       "2019     290\n",
       "2018     302\n",
       "2017     319\n",
       "2016     204\n",
       "2015     143\n",
       "2014     116\n",
       "2013     172\n",
       "2012      75\n",
       "2011      57\n",
       "2010     139\n",
       "2009     120\n",
       "2008      88\n",
       "2007      13\n",
       "2006      59\n",
       "2005      16\n",
       "2004      53\n",
       "2003       5\n",
       "2002       2\n",
       "2001      37\n",
       "2000       7\n",
       "1999      27\n",
       "1997       2\n",
       "1996      66\n",
       "1995      71\n",
       "1993      24\n",
       "1992      66\n",
       "1991       1\n",
       "1990       4\n",
       "1989       4\n",
       "1988       2\n",
       "1985       2\n",
       "1984       2\n",
       "1983      18\n",
       "1981       1\n",
       "1980      36\n",
       "1976       2\n",
       "1974       1\n",
       "1972       1\n",
       "1969       1\n",
       "1966       1\n",
       "1957       1\n",
       "1937       1\n",
       "1933       1\n",
       "NaN     6133\n",
       "Name: date, dtype: int64"
      ]
     },
     "execution_count": 10,
     "metadata": {},
     "output_type": "execute_result"
    }
   ],
   "source": [
    "df_programs[\"desc_lang\"].value_counts(dropna=False)\n",
    "df_programs[\"category_lang\"].value_counts(dropna=False)\n",
    "df_programs[\"category_text\"].value_counts(dropna=False)\n",
    "df_programs[\"date\"].value_counts(dropna=False).sort_index(ascending=False)"
   ]
  },
  {
   "cell_type": "code",
   "execution_count": 11,
   "id": "df824e97-2986-4916-acb6-dc2e3ea07a92",
   "metadata": {
    "tags": []
   },
   "outputs": [],
   "source": [
    "# Select only relevant columns\n",
    "columns = [\n",
    "    'start',\n",
    "    'stop',\n",
    "    'length_minutes',\n",
    "    'channel_name',\n",
    "    'title',\n",
    "    'subtitle',\n",
    "    'date',\n",
    "    'desc_text',\n",
    "    'category_text',\n",
    "]\n",
    "df = df_programs[columns]"
   ]
  },
  {
   "cell_type": "code",
   "execution_count": 37,
   "id": "86d539cc-1283-41b6-931c-258efb5ef5e7",
   "metadata": {},
   "outputs": [
    {
     "data": {
      "application/vnd.jupyter.widget-view+json": {
       "model_id": "60102554f2e34188b21e8a2066c5d088",
       "version_major": 2,
       "version_minor": 0
      },
      "text/plain": [
       "VBox(children=(VBox(children=(Dropdown(description='Channel:', options=('TF1', 'France 2', 'France 3', 'Canal+…"
      ]
     },
     "metadata": {},
     "output_type": "display_data"
    }
   ],
   "source": [
    "import ipywidgets as widgets\n",
    "\n",
    "import warnings\n",
    "warnings.filterwarnings(\"ignore\", category=DeprecationWarning) \n",
    "\n",
    "\n",
    "a = widgets.Dropdown(\n",
    "    options=df_channels.channel_name.unique(),\n",
    "    value='TF1',\n",
    "    description='Channel:',\n",
    "    disabled=False,\n",
    ")\n",
    "\n",
    "def fn(a):\n",
    "    print(f' Viewing data for {a}')\n",
    "    df_a = df[df.channel_name == a]\n",
    "    grouped = df_a.groupby(\"category_text\").length_minutes.sum().sort_values(ascending=False)\n",
    "    fig = grouped.plot.barh()\n",
    "    fig.show()\n",
    "\n",
    "out = widgets.interactive_output(fn, {'a': a})\n",
    "\n",
    "widgets.VBox([widgets.VBox([a]), out])"
   ]
  },
  {
   "cell_type": "code",
   "execution_count": 40,
   "id": "5fa56edb",
   "metadata": {},
   "outputs": [
    {
     "data": {
      "application/vnd.plotly.v1+json": {
       "config": {
        "plotlyServerURL": "https://plot.ly"
       },
       "data": [
        {
         "alignmentgroup": "True",
         "hovertemplate": "variable=length_minutes<br>value=%{x}<br>category_text=%{y}<extra></extra>",
         "legendgroup": "length_minutes",
         "marker": {
          "color": "#636efa",
          "pattern": {
           "shape": ""
          }
         },
         "name": "length_minutes",
         "offsetgroup": "length_minutes",
         "orientation": "h",
         "showlegend": true,
         "textposition": "auto",
         "type": "bar",
         "x": [
          2845,
          1805,
          1625,
          1545,
          1400,
          1225,
          1085,
          825,
          760,
          631,
          610,
          590,
          440,
          405,
          385,
          345,
          235,
          200,
          160,
          145,
          145,
          140,
          140,
          130,
          125,
          120,
          110,
          105,
          105,
          105,
          105,
          100,
          100,
          94,
          50,
          50,
          20
         ],
         "xaxis": "x",
         "y": [
          "programme indéterminé",
          "magazine jeunesse",
          "téléréalité",
          "série dramatique",
          "téléfilm sentimental",
          "série policière",
          "journal",
          "divertissement : jeu",
          "divertissement",
          "sport : rugby",
          "magazine de reportages",
          "magazine de société",
          "magazine de télé-achat",
          "feuilleton sentimental",
          "météo",
          "série d'aventures",
          "téléfilm dramatique",
          "magazine du show-biz",
          "film de science-fiction",
          "film d'action",
          "magazine de la gastronomie",
          "magazine de l'environnement",
          "divertissement-humour",
          "téléfilm humoristique",
          "film : comédie",
          "film : thriller",
          "téléfilm romanesque",
          "film sentimental",
          "film d'animation",
          "film : comédie sentimentale",
          "film : comédie dramatique",
          "sport : football",
          "sports mécaniques",
          "magazine de services",
          "loterie",
          "autre",
          "magazine sportif"
         ],
         "yaxis": "y"
        }
       ],
       "layout": {
        "barmode": "relative",
        "legend": {
         "title": {
          "text": "variable"
         },
         "tracegroupgap": 0
        },
        "margin": {
         "t": 60
        },
        "template": {
         "data": {
          "bar": [
           {
            "error_x": {
             "color": "#2a3f5f"
            },
            "error_y": {
             "color": "#2a3f5f"
            },
            "marker": {
             "line": {
              "color": "#E5ECF6",
              "width": 0.5
             },
             "pattern": {
              "fillmode": "overlay",
              "size": 10,
              "solidity": 0.2
             }
            },
            "type": "bar"
           }
          ],
          "barpolar": [
           {
            "marker": {
             "line": {
              "color": "#E5ECF6",
              "width": 0.5
             },
             "pattern": {
              "fillmode": "overlay",
              "size": 10,
              "solidity": 0.2
             }
            },
            "type": "barpolar"
           }
          ],
          "carpet": [
           {
            "aaxis": {
             "endlinecolor": "#2a3f5f",
             "gridcolor": "white",
             "linecolor": "white",
             "minorgridcolor": "white",
             "startlinecolor": "#2a3f5f"
            },
            "baxis": {
             "endlinecolor": "#2a3f5f",
             "gridcolor": "white",
             "linecolor": "white",
             "minorgridcolor": "white",
             "startlinecolor": "#2a3f5f"
            },
            "type": "carpet"
           }
          ],
          "choropleth": [
           {
            "colorbar": {
             "outlinewidth": 0,
             "ticks": ""
            },
            "type": "choropleth"
           }
          ],
          "contour": [
           {
            "colorbar": {
             "outlinewidth": 0,
             "ticks": ""
            },
            "colorscale": [
             [
              0,
              "#0d0887"
             ],
             [
              0.1111111111111111,
              "#46039f"
             ],
             [
              0.2222222222222222,
              "#7201a8"
             ],
             [
              0.3333333333333333,
              "#9c179e"
             ],
             [
              0.4444444444444444,
              "#bd3786"
             ],
             [
              0.5555555555555556,
              "#d8576b"
             ],
             [
              0.6666666666666666,
              "#ed7953"
             ],
             [
              0.7777777777777778,
              "#fb9f3a"
             ],
             [
              0.8888888888888888,
              "#fdca26"
             ],
             [
              1,
              "#f0f921"
             ]
            ],
            "type": "contour"
           }
          ],
          "contourcarpet": [
           {
            "colorbar": {
             "outlinewidth": 0,
             "ticks": ""
            },
            "type": "contourcarpet"
           }
          ],
          "heatmap": [
           {
            "colorbar": {
             "outlinewidth": 0,
             "ticks": ""
            },
            "colorscale": [
             [
              0,
              "#0d0887"
             ],
             [
              0.1111111111111111,
              "#46039f"
             ],
             [
              0.2222222222222222,
              "#7201a8"
             ],
             [
              0.3333333333333333,
              "#9c179e"
             ],
             [
              0.4444444444444444,
              "#bd3786"
             ],
             [
              0.5555555555555556,
              "#d8576b"
             ],
             [
              0.6666666666666666,
              "#ed7953"
             ],
             [
              0.7777777777777778,
              "#fb9f3a"
             ],
             [
              0.8888888888888888,
              "#fdca26"
             ],
             [
              1,
              "#f0f921"
             ]
            ],
            "type": "heatmap"
           }
          ],
          "heatmapgl": [
           {
            "colorbar": {
             "outlinewidth": 0,
             "ticks": ""
            },
            "colorscale": [
             [
              0,
              "#0d0887"
             ],
             [
              0.1111111111111111,
              "#46039f"
             ],
             [
              0.2222222222222222,
              "#7201a8"
             ],
             [
              0.3333333333333333,
              "#9c179e"
             ],
             [
              0.4444444444444444,
              "#bd3786"
             ],
             [
              0.5555555555555556,
              "#d8576b"
             ],
             [
              0.6666666666666666,
              "#ed7953"
             ],
             [
              0.7777777777777778,
              "#fb9f3a"
             ],
             [
              0.8888888888888888,
              "#fdca26"
             ],
             [
              1,
              "#f0f921"
             ]
            ],
            "type": "heatmapgl"
           }
          ],
          "histogram": [
           {
            "marker": {
             "pattern": {
              "fillmode": "overlay",
              "size": 10,
              "solidity": 0.2
             }
            },
            "type": "histogram"
           }
          ],
          "histogram2d": [
           {
            "colorbar": {
             "outlinewidth": 0,
             "ticks": ""
            },
            "colorscale": [
             [
              0,
              "#0d0887"
             ],
             [
              0.1111111111111111,
              "#46039f"
             ],
             [
              0.2222222222222222,
              "#7201a8"
             ],
             [
              0.3333333333333333,
              "#9c179e"
             ],
             [
              0.4444444444444444,
              "#bd3786"
             ],
             [
              0.5555555555555556,
              "#d8576b"
             ],
             [
              0.6666666666666666,
              "#ed7953"
             ],
             [
              0.7777777777777778,
              "#fb9f3a"
             ],
             [
              0.8888888888888888,
              "#fdca26"
             ],
             [
              1,
              "#f0f921"
             ]
            ],
            "type": "histogram2d"
           }
          ],
          "histogram2dcontour": [
           {
            "colorbar": {
             "outlinewidth": 0,
             "ticks": ""
            },
            "colorscale": [
             [
              0,
              "#0d0887"
             ],
             [
              0.1111111111111111,
              "#46039f"
             ],
             [
              0.2222222222222222,
              "#7201a8"
             ],
             [
              0.3333333333333333,
              "#9c179e"
             ],
             [
              0.4444444444444444,
              "#bd3786"
             ],
             [
              0.5555555555555556,
              "#d8576b"
             ],
             [
              0.6666666666666666,
              "#ed7953"
             ],
             [
              0.7777777777777778,
              "#fb9f3a"
             ],
             [
              0.8888888888888888,
              "#fdca26"
             ],
             [
              1,
              "#f0f921"
             ]
            ],
            "type": "histogram2dcontour"
           }
          ],
          "mesh3d": [
           {
            "colorbar": {
             "outlinewidth": 0,
             "ticks": ""
            },
            "type": "mesh3d"
           }
          ],
          "parcoords": [
           {
            "line": {
             "colorbar": {
              "outlinewidth": 0,
              "ticks": ""
             }
            },
            "type": "parcoords"
           }
          ],
          "pie": [
           {
            "automargin": true,
            "type": "pie"
           }
          ],
          "scatter": [
           {
            "fillpattern": {
             "fillmode": "overlay",
             "size": 10,
             "solidity": 0.2
            },
            "type": "scatter"
           }
          ],
          "scatter3d": [
           {
            "line": {
             "colorbar": {
              "outlinewidth": 0,
              "ticks": ""
             }
            },
            "marker": {
             "colorbar": {
              "outlinewidth": 0,
              "ticks": ""
             }
            },
            "type": "scatter3d"
           }
          ],
          "scattercarpet": [
           {
            "marker": {
             "colorbar": {
              "outlinewidth": 0,
              "ticks": ""
             }
            },
            "type": "scattercarpet"
           }
          ],
          "scattergeo": [
           {
            "marker": {
             "colorbar": {
              "outlinewidth": 0,
              "ticks": ""
             }
            },
            "type": "scattergeo"
           }
          ],
          "scattergl": [
           {
            "marker": {
             "colorbar": {
              "outlinewidth": 0,
              "ticks": ""
             }
            },
            "type": "scattergl"
           }
          ],
          "scattermapbox": [
           {
            "marker": {
             "colorbar": {
              "outlinewidth": 0,
              "ticks": ""
             }
            },
            "type": "scattermapbox"
           }
          ],
          "scatterpolar": [
           {
            "marker": {
             "colorbar": {
              "outlinewidth": 0,
              "ticks": ""
             }
            },
            "type": "scatterpolar"
           }
          ],
          "scatterpolargl": [
           {
            "marker": {
             "colorbar": {
              "outlinewidth": 0,
              "ticks": ""
             }
            },
            "type": "scatterpolargl"
           }
          ],
          "scatterternary": [
           {
            "marker": {
             "colorbar": {
              "outlinewidth": 0,
              "ticks": ""
             }
            },
            "type": "scatterternary"
           }
          ],
          "surface": [
           {
            "colorbar": {
             "outlinewidth": 0,
             "ticks": ""
            },
            "colorscale": [
             [
              0,
              "#0d0887"
             ],
             [
              0.1111111111111111,
              "#46039f"
             ],
             [
              0.2222222222222222,
              "#7201a8"
             ],
             [
              0.3333333333333333,
              "#9c179e"
             ],
             [
              0.4444444444444444,
              "#bd3786"
             ],
             [
              0.5555555555555556,
              "#d8576b"
             ],
             [
              0.6666666666666666,
              "#ed7953"
             ],
             [
              0.7777777777777778,
              "#fb9f3a"
             ],
             [
              0.8888888888888888,
              "#fdca26"
             ],
             [
              1,
              "#f0f921"
             ]
            ],
            "type": "surface"
           }
          ],
          "table": [
           {
            "cells": {
             "fill": {
              "color": "#EBF0F8"
             },
             "line": {
              "color": "white"
             }
            },
            "header": {
             "fill": {
              "color": "#C8D4E3"
             },
             "line": {
              "color": "white"
             }
            },
            "type": "table"
           }
          ]
         },
         "layout": {
          "annotationdefaults": {
           "arrowcolor": "#2a3f5f",
           "arrowhead": 0,
           "arrowwidth": 1
          },
          "autotypenumbers": "strict",
          "coloraxis": {
           "colorbar": {
            "outlinewidth": 0,
            "ticks": ""
           }
          },
          "colorscale": {
           "diverging": [
            [
             0,
             "#8e0152"
            ],
            [
             0.1,
             "#c51b7d"
            ],
            [
             0.2,
             "#de77ae"
            ],
            [
             0.3,
             "#f1b6da"
            ],
            [
             0.4,
             "#fde0ef"
            ],
            [
             0.5,
             "#f7f7f7"
            ],
            [
             0.6,
             "#e6f5d0"
            ],
            [
             0.7,
             "#b8e186"
            ],
            [
             0.8,
             "#7fbc41"
            ],
            [
             0.9,
             "#4d9221"
            ],
            [
             1,
             "#276419"
            ]
           ],
           "sequential": [
            [
             0,
             "#0d0887"
            ],
            [
             0.1111111111111111,
             "#46039f"
            ],
            [
             0.2222222222222222,
             "#7201a8"
            ],
            [
             0.3333333333333333,
             "#9c179e"
            ],
            [
             0.4444444444444444,
             "#bd3786"
            ],
            [
             0.5555555555555556,
             "#d8576b"
            ],
            [
             0.6666666666666666,
             "#ed7953"
            ],
            [
             0.7777777777777778,
             "#fb9f3a"
            ],
            [
             0.8888888888888888,
             "#fdca26"
            ],
            [
             1,
             "#f0f921"
            ]
           ],
           "sequentialminus": [
            [
             0,
             "#0d0887"
            ],
            [
             0.1111111111111111,
             "#46039f"
            ],
            [
             0.2222222222222222,
             "#7201a8"
            ],
            [
             0.3333333333333333,
             "#9c179e"
            ],
            [
             0.4444444444444444,
             "#bd3786"
            ],
            [
             0.5555555555555556,
             "#d8576b"
            ],
            [
             0.6666666666666666,
             "#ed7953"
            ],
            [
             0.7777777777777778,
             "#fb9f3a"
            ],
            [
             0.8888888888888888,
             "#fdca26"
            ],
            [
             1,
             "#f0f921"
            ]
           ]
          },
          "colorway": [
           "#636efa",
           "#EF553B",
           "#00cc96",
           "#ab63fa",
           "#FFA15A",
           "#19d3f3",
           "#FF6692",
           "#B6E880",
           "#FF97FF",
           "#FECB52"
          ],
          "font": {
           "color": "#2a3f5f"
          },
          "geo": {
           "bgcolor": "white",
           "lakecolor": "white",
           "landcolor": "#E5ECF6",
           "showlakes": true,
           "showland": true,
           "subunitcolor": "white"
          },
          "hoverlabel": {
           "align": "left"
          },
          "hovermode": "closest",
          "mapbox": {
           "style": "light"
          },
          "paper_bgcolor": "white",
          "plot_bgcolor": "#E5ECF6",
          "polar": {
           "angularaxis": {
            "gridcolor": "white",
            "linecolor": "white",
            "ticks": ""
           },
           "bgcolor": "#E5ECF6",
           "radialaxis": {
            "gridcolor": "white",
            "linecolor": "white",
            "ticks": ""
           }
          },
          "scene": {
           "xaxis": {
            "backgroundcolor": "#E5ECF6",
            "gridcolor": "white",
            "gridwidth": 2,
            "linecolor": "white",
            "showbackground": true,
            "ticks": "",
            "zerolinecolor": "white"
           },
           "yaxis": {
            "backgroundcolor": "#E5ECF6",
            "gridcolor": "white",
            "gridwidth": 2,
            "linecolor": "white",
            "showbackground": true,
            "ticks": "",
            "zerolinecolor": "white"
           },
           "zaxis": {
            "backgroundcolor": "#E5ECF6",
            "gridcolor": "white",
            "gridwidth": 2,
            "linecolor": "white",
            "showbackground": true,
            "ticks": "",
            "zerolinecolor": "white"
           }
          },
          "shapedefaults": {
           "line": {
            "color": "#2a3f5f"
           }
          },
          "ternary": {
           "aaxis": {
            "gridcolor": "white",
            "linecolor": "white",
            "ticks": ""
           },
           "baxis": {
            "gridcolor": "white",
            "linecolor": "white",
            "ticks": ""
           },
           "bgcolor": "#E5ECF6",
           "caxis": {
            "gridcolor": "white",
            "linecolor": "white",
            "ticks": ""
           }
          },
          "title": {
           "x": 0.05
          },
          "xaxis": {
           "automargin": true,
           "gridcolor": "white",
           "linecolor": "white",
           "ticks": "",
           "title": {
            "standoff": 15
           },
           "zerolinecolor": "white",
           "zerolinewidth": 2
          },
          "yaxis": {
           "automargin": true,
           "gridcolor": "white",
           "linecolor": "white",
           "ticks": "",
           "title": {
            "standoff": 15
           },
           "zerolinecolor": "white",
           "zerolinewidth": 2
          }
         }
        },
        "xaxis": {
         "anchor": "y",
         "domain": [
          0,
          1
         ],
         "title": {
          "text": "value"
         }
        },
        "yaxis": {
         "anchor": "x",
         "domain": [
          0,
          1
         ],
         "title": {
          "text": "category_text"
         }
        }
       }
      }
     },
     "metadata": {},
     "output_type": "display_data"
    }
   ],
   "source": [
    "# The widgets might not work so here's an example\n",
    "selected_channel = \"TF1\"\n",
    "df_a = df[df.channel_name == selected_channel]\n",
    "grouped = df_a.groupby(\"category_text\").length_minutes.sum().sort_values(ascending=False)\n",
    "fig = grouped.plot.barh()\n",
    "fig.show()"
   ]
  },
  {
   "cell_type": "code",
   "execution_count": 85,
   "id": "998ab401",
   "metadata": {},
   "outputs": [
    {
     "data": {
      "text/plain": [
       "channel_name  category_text           \n",
       "6ter          documentaire animalier      180\n",
       "              documentaire téléréalité    345\n",
       "              magazine culinaire          255\n",
       "              magazine de télé-achat      125\n",
       "              programme indéterminé       290\n",
       "                                         ... \n",
       "W9            magazine de télé-achat      170\n",
       "              météo                         5\n",
       "              programme indéterminé       180\n",
       "              série humoristique          470\n",
       "              téléfilm sentimental        310\n",
       "Name: length_minutes, Length: 244, dtype: int64"
      ]
     },
     "execution_count": 85,
     "metadata": {},
     "output_type": "execute_result"
    },
    {
     "data": {
      "text/html": [
       "<div>\n",
       "<style scoped>\n",
       "    .dataframe tbody tr th:only-of-type {\n",
       "        vertical-align: middle;\n",
       "    }\n",
       "\n",
       "    .dataframe tbody tr th {\n",
       "        vertical-align: top;\n",
       "    }\n",
       "\n",
       "    .dataframe thead th {\n",
       "        text-align: right;\n",
       "    }\n",
       "</style>\n",
       "<table border=\"1\" class=\"dataframe\">\n",
       "  <thead>\n",
       "    <tr style=\"text-align: right;\">\n",
       "      <th></th>\n",
       "      <th>category_text</th>\n",
       "      <th>channel_name</th>\n",
       "      <th>length_minutes</th>\n",
       "    </tr>\n",
       "  </thead>\n",
       "  <tbody>\n",
       "    <tr>\n",
       "      <th>0</th>\n",
       "      <td>autre</td>\n",
       "      <td>Arte</td>\n",
       "      <td>0</td>\n",
       "    </tr>\n",
       "    <tr>\n",
       "      <th>1</th>\n",
       "      <td>autre</td>\n",
       "      <td>RMC Découverte</td>\n",
       "      <td>273</td>\n",
       "    </tr>\n",
       "    <tr>\n",
       "      <th>2</th>\n",
       "      <td>autre</td>\n",
       "      <td>RMC Story</td>\n",
       "      <td>170</td>\n",
       "    </tr>\n",
       "    <tr>\n",
       "      <th>3</th>\n",
       "      <td>clips</td>\n",
       "      <td>CSTAR</td>\n",
       "      <td>680</td>\n",
       "    </tr>\n",
       "    <tr>\n",
       "      <th>4</th>\n",
       "      <td>clips</td>\n",
       "      <td>M6</td>\n",
       "      <td>60</td>\n",
       "    </tr>\n",
       "    <tr>\n",
       "      <th>...</th>\n",
       "      <td>...</td>\n",
       "      <td>...</td>\n",
       "      <td>...</td>\n",
       "    </tr>\n",
       "    <tr>\n",
       "      <th>239</th>\n",
       "      <td>téléfilm sentimental</td>\n",
       "      <td>TF1 Séries Films</td>\n",
       "      <td>580</td>\n",
       "    </tr>\n",
       "    <tr>\n",
       "      <th>240</th>\n",
       "      <td>téléfilm sentimental</td>\n",
       "      <td>TMC</td>\n",
       "      <td>230</td>\n",
       "    </tr>\n",
       "    <tr>\n",
       "      <th>241</th>\n",
       "      <td>téléfilm sentimental</td>\n",
       "      <td>W9</td>\n",
       "      <td>310</td>\n",
       "    </tr>\n",
       "    <tr>\n",
       "      <th>242</th>\n",
       "      <td>téléréalité</td>\n",
       "      <td>TF1</td>\n",
       "      <td>275</td>\n",
       "    </tr>\n",
       "    <tr>\n",
       "      <th>243</th>\n",
       "      <td>téléréalité</td>\n",
       "      <td>TFX</td>\n",
       "      <td>705</td>\n",
       "    </tr>\n",
       "  </tbody>\n",
       "</table>\n",
       "<p>244 rows × 3 columns</p>\n",
       "</div>"
      ],
      "text/plain": [
       "            category_text      channel_name  length_minutes\n",
       "0                   autre              Arte               0\n",
       "1                   autre    RMC Découverte             273\n",
       "2                   autre         RMC Story             170\n",
       "3                   clips             CSTAR             680\n",
       "4                   clips                M6              60\n",
       "..                    ...               ...             ...\n",
       "239  téléfilm sentimental  TF1 Séries Films             580\n",
       "240  téléfilm sentimental               TMC             230\n",
       "241  téléfilm sentimental                W9             310\n",
       "242           téléréalité               TF1             275\n",
       "243           téléréalité               TFX             705\n",
       "\n",
       "[244 rows x 3 columns]"
      ]
     },
     "execution_count": 85,
     "metadata": {},
     "output_type": "execute_result"
    }
   ],
   "source": [
    "# Show one day of data\n",
    "start_date = \"2022-11-05\"\n",
    "end_date = \"2022-11-06\"\n",
    "\n",
    "df_day = df_programs[(df_programs.start >= start_date) & (df_programs.stop < end_date)]\n",
    "df_day = df_programs[(df_programs.start >= start_date) & (df_programs.start < end_date)]\n",
    "\n",
    "df_day.groupby([\"channel_name\", \"category_text\"]).length_minutes.sum()\n",
    "\n",
    "df_day.groupby([\"category_text\", \"channel_name\"]).length_minutes.sum().reset_index()"
   ]
  },
  {
   "cell_type": "code",
   "execution_count": 92,
   "id": "ecb4186f",
   "metadata": {},
   "outputs": [
    {
     "data": {
      "text/html": [
       "<div>\n",
       "<style scoped>\n",
       "    .dataframe tbody tr th:only-of-type {\n",
       "        vertical-align: middle;\n",
       "    }\n",
       "\n",
       "    .dataframe tbody tr th {\n",
       "        vertical-align: top;\n",
       "    }\n",
       "\n",
       "    .dataframe thead th {\n",
       "        text-align: right;\n",
       "    }\n",
       "</style>\n",
       "<table border=\"1\" class=\"dataframe\">\n",
       "  <thead>\n",
       "    <tr style=\"text-align: right;\">\n",
       "      <th></th>\n",
       "      <th>category_text</th>\n",
       "      <th>channel_name</th>\n",
       "      <th>count</th>\n",
       "      <th>sum</th>\n",
       "    </tr>\n",
       "  </thead>\n",
       "  <tbody>\n",
       "    <tr>\n",
       "      <th>0</th>\n",
       "      <td>autre</td>\n",
       "      <td>Arte</td>\n",
       "      <td>1</td>\n",
       "      <td>0</td>\n",
       "    </tr>\n",
       "    <tr>\n",
       "      <th>1</th>\n",
       "      <td>autre</td>\n",
       "      <td>RMC Découverte</td>\n",
       "      <td>1</td>\n",
       "      <td>273</td>\n",
       "    </tr>\n",
       "    <tr>\n",
       "      <th>2</th>\n",
       "      <td>autre</td>\n",
       "      <td>RMC Story</td>\n",
       "      <td>1</td>\n",
       "      <td>170</td>\n",
       "    </tr>\n",
       "    <tr>\n",
       "      <th>3</th>\n",
       "      <td>clips</td>\n",
       "      <td>CSTAR</td>\n",
       "      <td>7</td>\n",
       "      <td>680</td>\n",
       "    </tr>\n",
       "    <tr>\n",
       "      <th>4</th>\n",
       "      <td>clips</td>\n",
       "      <td>M6</td>\n",
       "      <td>1</td>\n",
       "      <td>60</td>\n",
       "    </tr>\n",
       "    <tr>\n",
       "      <th>...</th>\n",
       "      <td>...</td>\n",
       "      <td>...</td>\n",
       "      <td>...</td>\n",
       "      <td>...</td>\n",
       "    </tr>\n",
       "    <tr>\n",
       "      <th>239</th>\n",
       "      <td>téléfilm sentimental</td>\n",
       "      <td>TF1 Séries Films</td>\n",
       "      <td>6</td>\n",
       "      <td>580</td>\n",
       "    </tr>\n",
       "    <tr>\n",
       "      <th>240</th>\n",
       "      <td>téléfilm sentimental</td>\n",
       "      <td>TMC</td>\n",
       "      <td>2</td>\n",
       "      <td>230</td>\n",
       "    </tr>\n",
       "    <tr>\n",
       "      <th>241</th>\n",
       "      <td>téléfilm sentimental</td>\n",
       "      <td>W9</td>\n",
       "      <td>3</td>\n",
       "      <td>310</td>\n",
       "    </tr>\n",
       "    <tr>\n",
       "      <th>242</th>\n",
       "      <td>téléréalité</td>\n",
       "      <td>TF1</td>\n",
       "      <td>3</td>\n",
       "      <td>275</td>\n",
       "    </tr>\n",
       "    <tr>\n",
       "      <th>243</th>\n",
       "      <td>téléréalité</td>\n",
       "      <td>TFX</td>\n",
       "      <td>19</td>\n",
       "      <td>705</td>\n",
       "    </tr>\n",
       "  </tbody>\n",
       "</table>\n",
       "<p>244 rows × 4 columns</p>\n",
       "</div>"
      ],
      "text/plain": [
       "            category_text      channel_name  count  sum\n",
       "0                   autre              Arte      1    0\n",
       "1                   autre    RMC Découverte      1  273\n",
       "2                   autre         RMC Story      1  170\n",
       "3                   clips             CSTAR      7  680\n",
       "4                   clips                M6      1   60\n",
       "..                    ...               ...    ...  ...\n",
       "239  téléfilm sentimental  TF1 Séries Films      6  580\n",
       "240  téléfilm sentimental               TMC      2  230\n",
       "241  téléfilm sentimental                W9      3  310\n",
       "242           téléréalité               TF1      3  275\n",
       "243           téléréalité               TFX     19  705\n",
       "\n",
       "[244 rows x 4 columns]"
      ]
     },
     "execution_count": 92,
     "metadata": {},
     "output_type": "execute_result"
    }
   ],
   "source": [
    "df_day.groupby([\"category_text\", \"channel_name\"]).length_minutes.agg([\"count\", \"sum\"]).reset_index()"
   ]
  },
  {
   "cell_type": "code",
   "execution_count": 101,
   "id": "8d0dd169",
   "metadata": {},
   "outputs": [
    {
     "data": {
      "text/html": [
       "<div>\n",
       "<style scoped>\n",
       "    .dataframe tbody tr th:only-of-type {\n",
       "        vertical-align: middle;\n",
       "    }\n",
       "\n",
       "    .dataframe tbody tr th {\n",
       "        vertical-align: top;\n",
       "    }\n",
       "\n",
       "    .dataframe thead th {\n",
       "        text-align: right;\n",
       "    }\n",
       "</style>\n",
       "<table border=\"1\" class=\"dataframe\">\n",
       "  <thead>\n",
       "    <tr style=\"text-align: right;\">\n",
       "      <th></th>\n",
       "      <th>channel_name</th>\n",
       "      <th>category_text</th>\n",
       "      <th>count</th>\n",
       "      <th>sum</th>\n",
       "      <th>mean</th>\n",
       "    </tr>\n",
       "  </thead>\n",
       "  <tbody>\n",
       "    <tr>\n",
       "      <th>0</th>\n",
       "      <td>6ter</td>\n",
       "      <td>documentaire animalier</td>\n",
       "      <td>6</td>\n",
       "      <td>180</td>\n",
       "      <td>30.000000</td>\n",
       "    </tr>\n",
       "    <tr>\n",
       "      <th>1</th>\n",
       "      <td>6ter</td>\n",
       "      <td>documentaire téléréalité</td>\n",
       "      <td>12</td>\n",
       "      <td>345</td>\n",
       "      <td>28.750000</td>\n",
       "    </tr>\n",
       "    <tr>\n",
       "      <th>2</th>\n",
       "      <td>6ter</td>\n",
       "      <td>magazine culinaire</td>\n",
       "      <td>3</td>\n",
       "      <td>255</td>\n",
       "      <td>85.000000</td>\n",
       "    </tr>\n",
       "    <tr>\n",
       "      <th>3</th>\n",
       "      <td>6ter</td>\n",
       "      <td>magazine de télé-achat</td>\n",
       "      <td>1</td>\n",
       "      <td>125</td>\n",
       "      <td>125.000000</td>\n",
       "    </tr>\n",
       "    <tr>\n",
       "      <th>4</th>\n",
       "      <td>6ter</td>\n",
       "      <td>programme indéterminé</td>\n",
       "      <td>1</td>\n",
       "      <td>290</td>\n",
       "      <td>290.000000</td>\n",
       "    </tr>\n",
       "    <tr>\n",
       "      <th>...</th>\n",
       "      <td>...</td>\n",
       "      <td>...</td>\n",
       "      <td>...</td>\n",
       "      <td>...</td>\n",
       "      <td>...</td>\n",
       "    </tr>\n",
       "    <tr>\n",
       "      <th>239</th>\n",
       "      <td>W9</td>\n",
       "      <td>magazine de télé-achat</td>\n",
       "      <td>1</td>\n",
       "      <td>170</td>\n",
       "      <td>170.000000</td>\n",
       "    </tr>\n",
       "    <tr>\n",
       "      <th>240</th>\n",
       "      <td>W9</td>\n",
       "      <td>météo</td>\n",
       "      <td>1</td>\n",
       "      <td>5</td>\n",
       "      <td>5.000000</td>\n",
       "    </tr>\n",
       "    <tr>\n",
       "      <th>241</th>\n",
       "      <td>W9</td>\n",
       "      <td>programme indéterminé</td>\n",
       "      <td>1</td>\n",
       "      <td>180</td>\n",
       "      <td>180.000000</td>\n",
       "    </tr>\n",
       "    <tr>\n",
       "      <th>242</th>\n",
       "      <td>W9</td>\n",
       "      <td>série humoristique</td>\n",
       "      <td>3</td>\n",
       "      <td>470</td>\n",
       "      <td>156.666667</td>\n",
       "    </tr>\n",
       "    <tr>\n",
       "      <th>243</th>\n",
       "      <td>W9</td>\n",
       "      <td>téléfilm sentimental</td>\n",
       "      <td>3</td>\n",
       "      <td>310</td>\n",
       "      <td>103.333333</td>\n",
       "    </tr>\n",
       "  </tbody>\n",
       "</table>\n",
       "<p>244 rows × 5 columns</p>\n",
       "</div>"
      ],
      "text/plain": [
       "    channel_name             category_text  count  sum        mean\n",
       "0           6ter    documentaire animalier      6  180   30.000000\n",
       "1           6ter  documentaire téléréalité     12  345   28.750000\n",
       "2           6ter        magazine culinaire      3  255   85.000000\n",
       "3           6ter    magazine de télé-achat      1  125  125.000000\n",
       "4           6ter     programme indéterminé      1  290  290.000000\n",
       "..           ...                       ...    ...  ...         ...\n",
       "239           W9    magazine de télé-achat      1  170  170.000000\n",
       "240           W9                     météo      1    5    5.000000\n",
       "241           W9     programme indéterminé      1  180  180.000000\n",
       "242           W9        série humoristique      3  470  156.666667\n",
       "243           W9      téléfilm sentimental      3  310  103.333333\n",
       "\n",
       "[244 rows x 5 columns]"
      ]
     },
     "execution_count": 101,
     "metadata": {},
     "output_type": "execute_result"
    },
    {
     "data": {
      "application/vnd.plotly.v1+json": {
       "config": {
        "plotlyServerURL": "https://plot.ly"
       },
       "data": [
        {
         "alignmentgroup": "True",
         "customdata": [
          [
           "documentaire animalier",
           6,
           30
          ],
          [
           "documentaire animalier",
           3,
           13.333333333333334
          ],
          [
           "documentaire animalier",
           1,
           35
          ]
         ],
         "hovertemplate": "category_text=%{customdata[0]}<br>channel_name=%{x}<br>sum=%{y}<br>count=%{customdata[1]}<br>mean=%{customdata[2]}<extra></extra>",
         "legendgroup": "documentaire animalier",
         "marker": {
          "color": "#636efa",
          "pattern": {
           "shape": ""
          }
         },
         "name": "documentaire animalier",
         "offsetgroup": "documentaire animalier",
         "orientation": "v",
         "showlegend": true,
         "textposition": "auto",
         "type": "bar",
         "x": [
          "6ter",
          "France 4",
          "France 5"
         ],
         "xaxis": "x",
         "y": [
          180,
          40,
          35
         ],
         "yaxis": "y"
        },
        {
         "alignmentgroup": "True",
         "customdata": [
          [
           "documentaire téléréalité",
           12,
           28.75
          ],
          [
           "documentaire téléréalité",
           7,
           34.285714285714285
          ],
          [
           "documentaire téléréalité",
           11,
           55.90909090909091
          ]
         ],
         "hovertemplate": "category_text=%{customdata[0]}<br>channel_name=%{x}<br>sum=%{y}<br>count=%{customdata[1]}<br>mean=%{customdata[2]}<extra></extra>",
         "legendgroup": "documentaire téléréalité",
         "marker": {
          "color": "#EF553B",
          "pattern": {
           "shape": ""
          }
         },
         "name": "documentaire téléréalité",
         "offsetgroup": "documentaire téléréalité",
         "orientation": "v",
         "showlegend": true,
         "textposition": "auto",
         "type": "bar",
         "x": [
          "6ter",
          "CSTAR",
          "RMC Découverte"
         ],
         "xaxis": "x",
         "y": [
          345,
          240,
          615
         ],
         "yaxis": "y"
        },
        {
         "alignmentgroup": "True",
         "customdata": [
          [
           "magazine culinaire",
           3,
           85
          ],
          [
           "magazine culinaire",
           4,
           20
          ]
         ],
         "hovertemplate": "category_text=%{customdata[0]}<br>channel_name=%{x}<br>sum=%{y}<br>count=%{customdata[1]}<br>mean=%{customdata[2]}<extra></extra>",
         "legendgroup": "magazine culinaire",
         "marker": {
          "color": "#00cc96",
          "pattern": {
           "shape": ""
          }
         },
         "name": "magazine culinaire",
         "offsetgroup": "magazine culinaire",
         "orientation": "v",
         "showlegend": true,
         "textposition": "auto",
         "type": "bar",
         "x": [
          "6ter",
          "France 3"
         ],
         "xaxis": "x",
         "y": [
          255,
          80
         ],
         "yaxis": "y"
        },
        {
         "alignmentgroup": "True",
         "customdata": [
          [
           "magazine de télé-achat",
           1,
           125
          ],
          [
           "magazine de télé-achat",
           1,
           169
          ],
          [
           "magazine de télé-achat",
           1,
           180
          ],
          [
           "magazine de télé-achat",
           1,
           180
          ],
          [
           "magazine de télé-achat",
           1,
           20
          ],
          [
           "magazine de télé-achat",
           1,
           120
          ],
          [
           "magazine de télé-achat",
           1,
           170
          ]
         ],
         "hovertemplate": "category_text=%{customdata[0]}<br>channel_name=%{x}<br>sum=%{y}<br>count=%{customdata[1]}<br>mean=%{customdata[2]}<extra></extra>",
         "legendgroup": "magazine de télé-achat",
         "marker": {
          "color": "#ab63fa",
          "pattern": {
           "shape": ""
          }
         },
         "name": "magazine de télé-achat",
         "offsetgroup": "magazine de télé-achat",
         "orientation": "v",
         "showlegend": true,
         "textposition": "auto",
         "type": "bar",
         "x": [
          "6ter",
          "C8",
          "Chérie 25",
          "NRJ 12",
          "TF1",
          "TMC",
          "W9"
         ],
         "xaxis": "x",
         "y": [
          125,
          169,
          180,
          180,
          20,
          120,
          170
         ],
         "yaxis": "y"
        },
        {
         "alignmentgroup": "True",
         "customdata": [
          [
           "programme indéterminé",
           1,
           290
          ],
          [
           "programme indéterminé",
           1,
           360
          ],
          [
           "programme indéterminé",
           1,
           95
          ],
          [
           "programme indéterminé",
           1,
           325
          ],
          [
           "programme indéterminé",
           1,
           390
          ],
          [
           "programme indéterminé",
           1,
           195
          ],
          [
           "programme indéterminé",
           1,
           250
          ],
          [
           "programme indéterminé",
           1,
           135
          ],
          [
           "programme indéterminé",
           1,
           295
          ],
          [
           "programme indéterminé",
           1,
           275
          ],
          [
           "programme indéterminé",
           1,
           335
          ],
          [
           "programme indéterminé",
           1,
           180
          ]
         ],
         "hovertemplate": "category_text=%{customdata[0]}<br>channel_name=%{x}<br>sum=%{y}<br>count=%{customdata[1]}<br>mean=%{customdata[2]}<extra></extra>",
         "legendgroup": "programme indéterminé",
         "marker": {
          "color": "#FFA15A",
          "pattern": {
           "shape": ""
          }
         },
         "name": "programme indéterminé",
         "offsetgroup": "programme indéterminé",
         "orientation": "v",
         "showlegend": true,
         "textposition": "auto",
         "type": "bar",
         "x": [
          "6ter",
          "BFMTV",
          "C8",
          "Chérie 25",
          "LCI",
          "M6",
          "NRJ 12",
          "TF1",
          "TF1 Séries Films",
          "TFX",
          "TMC",
          "W9"
         ],
         "xaxis": "x",
         "y": [
          290,
          360,
          95,
          325,
          390,
          195,
          250,
          135,
          295,
          275,
          335,
          180
         ],
         "yaxis": "y"
        },
        {
         "alignmentgroup": "True",
         "customdata": [
          [
           "série policière",
           1,
           50
          ],
          [
           "série policière",
           2,
           92.5
          ],
          [
           "série policière",
           1,
           55
          ],
          [
           "série policière",
           8,
           55.625
          ],
          [
           "série policière",
           6,
           70.83333333333333
          ]
         ],
         "hovertemplate": "category_text=%{customdata[0]}<br>channel_name=%{x}<br>sum=%{y}<br>count=%{customdata[1]}<br>mean=%{customdata[2]}<extra></extra>",
         "legendgroup": "série policière",
         "marker": {
          "color": "#19d3f3",
          "pattern": {
           "shape": ""
          }
         },
         "name": "série policière",
         "offsetgroup": "série policière",
         "orientation": "v",
         "showlegend": true,
         "textposition": "auto",
         "type": "bar",
         "x": [
          "6ter",
          "France 3",
          "M6",
          "RMC Story",
          "TMC"
         ],
         "xaxis": "x",
         "y": [
          50,
          185,
          55,
          445,
          425
         ],
         "yaxis": "y"
        },
        {
         "alignmentgroup": "True",
         "customdata": [
          [
           "téléfilm dramatique",
           1,
           105
          ],
          [
           "téléfilm dramatique",
           1,
           100
          ]
         ],
         "hovertemplate": "category_text=%{customdata[0]}<br>channel_name=%{x}<br>sum=%{y}<br>count=%{customdata[1]}<br>mean=%{customdata[2]}<extra></extra>",
         "legendgroup": "téléfilm dramatique",
         "marker": {
          "color": "#FF6692",
          "pattern": {
           "shape": ""
          }
         },
         "name": "téléfilm dramatique",
         "offsetgroup": "téléfilm dramatique",
         "orientation": "v",
         "showlegend": true,
         "textposition": "auto",
         "type": "bar",
         "x": [
          "6ter",
          "TF1 Séries Films"
         ],
         "xaxis": "x",
         "y": [
          105,
          100
         ],
         "yaxis": "y"
        },
        {
         "alignmentgroup": "True",
         "customdata": [
          [
           "téléfilm humoristique",
           1,
           105
          ]
         ],
         "hovertemplate": "category_text=%{customdata[0]}<br>channel_name=%{x}<br>sum=%{y}<br>count=%{customdata[1]}<br>mean=%{customdata[2]}<extra></extra>",
         "legendgroup": "téléfilm humoristique",
         "marker": {
          "color": "#B6E880",
          "pattern": {
           "shape": ""
          }
         },
         "name": "téléfilm humoristique",
         "offsetgroup": "téléfilm humoristique",
         "orientation": "v",
         "showlegend": true,
         "textposition": "auto",
         "type": "bar",
         "x": [
          "6ter"
         ],
         "xaxis": "x",
         "y": [
          105
         ],
         "yaxis": "y"
        },
        {
         "alignmentgroup": "True",
         "customdata": [
          [
           "autre",
           1,
           0
          ],
          [
           "autre",
           1,
           273
          ],
          [
           "autre",
           1,
           170
          ]
         ],
         "hovertemplate": "category_text=%{customdata[0]}<br>channel_name=%{x}<br>sum=%{y}<br>count=%{customdata[1]}<br>mean=%{customdata[2]}<extra></extra>",
         "legendgroup": "autre",
         "marker": {
          "color": "#FF97FF",
          "pattern": {
           "shape": ""
          }
         },
         "name": "autre",
         "offsetgroup": "autre",
         "orientation": "v",
         "showlegend": true,
         "textposition": "auto",
         "type": "bar",
         "x": [
          "Arte",
          "RMC Découverte",
          "RMC Story"
         ],
         "xaxis": "x",
         "y": [
          0,
          273,
          170
         ],
         "yaxis": "y"
        },
        {
         "alignmentgroup": "True",
         "customdata": [
          [
           "documentaire nature",
           1,
           45
          ],
          [
           "documentaire nature",
           1,
           44
          ],
          [
           "documentaire nature",
           1,
           10
          ]
         ],
         "hovertemplate": "category_text=%{customdata[0]}<br>channel_name=%{x}<br>sum=%{y}<br>count=%{customdata[1]}<br>mean=%{customdata[2]}<extra></extra>",
         "legendgroup": "documentaire nature",
         "marker": {
          "color": "#FECB52",
          "pattern": {
           "shape": ""
          }
         },
         "name": "documentaire nature",
         "offsetgroup": "documentaire nature",
         "orientation": "v",
         "showlegend": true,
         "textposition": "auto",
         "type": "bar",
         "x": [
          "Arte",
          "Canal+",
          "France 2"
         ],
         "xaxis": "x",
         "y": [
          45,
          44,
          10
         ],
         "yaxis": "y"
        },
        {
         "alignmentgroup": "True",
         "customdata": [
          [
           "documentaire société",
           1,
           31
          ],
          [
           "documentaire société",
           5,
           25
          ],
          [
           "documentaire société",
           1,
           31
          ],
          [
           "documentaire société",
           1,
           60
          ],
          [
           "documentaire société",
           2,
           26
          ],
          [
           "documentaire société",
           4,
           41.75
          ],
          [
           "documentaire société",
           4,
           68.75
          ]
         ],
         "hovertemplate": "category_text=%{customdata[0]}<br>channel_name=%{x}<br>sum=%{y}<br>count=%{customdata[1]}<br>mean=%{customdata[2]}<extra></extra>",
         "legendgroup": "documentaire société",
         "marker": {
          "color": "#636efa",
          "pattern": {
           "shape": ""
          }
         },
         "name": "documentaire société",
         "offsetgroup": "documentaire société",
         "orientation": "v",
         "showlegend": true,
         "textposition": "auto",
         "type": "bar",
         "x": [
          "Arte",
          "CSTAR",
          "France 3",
          "France 4",
          "Franceinfo",
          "La Chaîne parlementaire",
          "RMC Story"
         ],
         "xaxis": "x",
         "y": [
          31,
          125,
          31,
          60,
          52,
          167,
          275
         ],
         "yaxis": "y"
        },
        {
         "alignmentgroup": "True",
         "customdata": [
          [
           "film : comédie",
           1,
           90
          ],
          [
           "film : comédie",
           2,
           89.5
          ]
         ],
         "hovertemplate": "category_text=%{customdata[0]}<br>channel_name=%{x}<br>sum=%{y}<br>count=%{customdata[1]}<br>mean=%{customdata[2]}<extra></extra>",
         "legendgroup": "film : comédie",
         "marker": {
          "color": "#EF553B",
          "pattern": {
           "shape": ""
          }
         },
         "name": "film : comédie",
         "offsetgroup": "film : comédie",
         "orientation": "v",
         "showlegend": true,
         "textposition": "auto",
         "type": "bar",
         "x": [
          "Arte",
          "Canal+"
         ],
         "xaxis": "x",
         "y": [
          90,
          179
         ],
         "yaxis": "y"
        },
        {
         "alignmentgroup": "True",
         "customdata": [
          [
           "magazine culturel",
           1,
           10
          ],
          [
           "magazine culturel",
           3,
           23
          ]
         ],
         "hovertemplate": "category_text=%{customdata[0]}<br>channel_name=%{x}<br>sum=%{y}<br>count=%{customdata[1]}<br>mean=%{customdata[2]}<extra></extra>",
         "legendgroup": "magazine culturel",
         "marker": {
          "color": "#00cc96",
          "pattern": {
           "shape": ""
          }
         },
         "name": "magazine culturel",
         "offsetgroup": "magazine culturel",
         "orientation": "v",
         "showlegend": true,
         "textposition": "auto",
         "type": "bar",
         "x": [
          "Arte",
          "CNEWS"
         ],
         "xaxis": "x",
         "y": [
          10,
          69
         ],
         "yaxis": "y"
        },
        {
         "alignmentgroup": "True",
         "customdata": [
          [
           "magazine historique",
           1,
           20
          ],
          [
           "magazine historique",
           2,
           28.5
          ]
         ],
         "hovertemplate": "category_text=%{customdata[0]}<br>channel_name=%{x}<br>sum=%{y}<br>count=%{customdata[1]}<br>mean=%{customdata[2]}<extra></extra>",
         "legendgroup": "magazine historique",
         "marker": {
          "color": "#ab63fa",
          "pattern": {
           "shape": ""
          }
         },
         "name": "magazine historique",
         "offsetgroup": "magazine historique",
         "orientation": "v",
         "showlegend": true,
         "textposition": "auto",
         "type": "bar",
         "x": [
          "Arte",
          "CNEWS"
         ],
         "xaxis": "x",
         "y": [
          20,
          57
         ],
         "yaxis": "y"
        },
        {
         "alignmentgroup": "True",
         "customdata": [
          [
           "magazine musical",
           1,
           30
          ],
          [
           "magazine musical",
           1,
           30
          ],
          [
           "magazine musical",
           2,
           37.5
          ]
         ],
         "hovertemplate": "category_text=%{customdata[0]}<br>channel_name=%{x}<br>sum=%{y}<br>count=%{customdata[1]}<br>mean=%{customdata[2]}<extra></extra>",
         "legendgroup": "magazine musical",
         "marker": {
          "color": "#FFA15A",
          "pattern": {
           "shape": ""
          }
         },
         "name": "magazine musical",
         "offsetgroup": "magazine musical",
         "orientation": "v",
         "showlegend": true,
         "textposition": "auto",
         "type": "bar",
         "x": [
          "Arte",
          "France 3",
          "France 4"
         ],
         "xaxis": "x",
         "y": [
          30,
          30,
          75
         ],
         "yaxis": "y"
        },
        {
         "alignmentgroup": "True",
         "customdata": [
          [
           "journal",
           1,
           240
          ],
          [
           "journal",
           1,
           1
          ],
          [
           "journal",
           18,
           31.38888888888889
          ],
          [
           "journal",
           4,
           23.75
          ],
          [
           "journal",
           5,
           22
          ],
          [
           "journal",
           9,
           80
          ],
          [
           "journal",
           2,
           32.5
          ],
          [
           "journal",
           2,
           40
          ],
          [
           "journal",
           1,
           5
          ]
         ],
         "hovertemplate": "category_text=%{customdata[0]}<br>channel_name=%{x}<br>sum=%{y}<br>count=%{customdata[1]}<br>mean=%{customdata[2]}<extra></extra>",
         "legendgroup": "journal",
         "marker": {
          "color": "#19d3f3",
          "pattern": {
           "shape": ""
          }
         },
         "name": "journal",
         "offsetgroup": "journal",
         "orientation": "v",
         "showlegend": true,
         "textposition": "auto",
         "type": "bar",
         "x": [
          "BFMTV",
          "C8",
          "CNEWS",
          "France 2",
          "France 3",
          "Franceinfo",
          "M6",
          "TF1",
          "TFX"
         ],
         "xaxis": "x",
         "y": [
          240,
          1,
          565,
          95,
          110,
          720,
          65,
          80,
          5
         ],
         "yaxis": "y"
        },
        {
         "alignmentgroup": "True",
         "customdata": [
          [
           "magazine d'actualité",
           4,
           135
          ],
          [
           "magazine d'actualité",
           2,
           60.5
          ],
          [
           "magazine d'actualité",
           1,
           35
          ],
          [
           "magazine d'actualité",
           5,
           34.2
          ],
          [
           "magazine d'actualité",
           6,
           155
          ],
          [
           "magazine d'actualité",
           2,
           30
          ],
          [
           "magazine d'actualité",
           3,
           50
          ]
         ],
         "hovertemplate": "category_text=%{customdata[0]}<br>channel_name=%{x}<br>sum=%{y}<br>count=%{customdata[1]}<br>mean=%{customdata[2]}<extra></extra>",
         "legendgroup": "magazine d'actualité",
         "marker": {
          "color": "#FF6692",
          "pattern": {
           "shape": ""
          }
         },
         "name": "magazine d'actualité",
         "offsetgroup": "magazine d'actualité",
         "orientation": "v",
         "showlegend": true,
         "textposition": "auto",
         "type": "bar",
         "x": [
          "BFMTV",
          "CNEWS",
          "France 2",
          "Franceinfo",
          "LCI",
          "La Chaîne parlementaire",
          "M6"
         ],
         "xaxis": "x",
         "y": [
          540,
          121,
          35,
          171,
          930,
          60,
          150
         ],
         "yaxis": "y"
        },
        {
         "alignmentgroup": "True",
         "customdata": [
          [
           "magazine d'information",
           3,
           100
          ],
          [
           "magazine d'information",
           2,
           132.5
          ],
          [
           "magazine d'information",
           2,
           12.5
          ],
          [
           "magazine d'information",
           2,
           40
          ],
          [
           "magazine d'information",
           1,
           389
          ],
          [
           "magazine d'information",
           2,
           28.5
          ]
         ],
         "hovertemplate": "category_text=%{customdata[0]}<br>channel_name=%{x}<br>sum=%{y}<br>count=%{customdata[1]}<br>mean=%{customdata[2]}<extra></extra>",
         "legendgroup": "magazine d'information",
         "marker": {
          "color": "#B6E880",
          "pattern": {
           "shape": ""
          }
         },
         "name": "magazine d'information",
         "offsetgroup": "magazine d'information",
         "orientation": "v",
         "showlegend": true,
         "textposition": "auto",
         "type": "bar",
         "x": [
          "BFMTV",
          "CNEWS",
          "France 2",
          "France 5",
          "Franceinfo",
          "La Chaîne parlementaire"
         ],
         "xaxis": "x",
         "y": [
          300,
          265,
          25,
          80,
          389,
          57
         ],
         "yaxis": "y"
        },
        {
         "alignmentgroup": "True",
         "customdata": [
          [
           "divertissement-humour",
           1,
           126
          ],
          [
           "divertissement-humour",
           1,
           100
          ],
          [
           "divertissement-humour",
           2,
           47.5
          ],
          [
           "divertissement-humour",
           1,
           45
          ]
         ],
         "hovertemplate": "category_text=%{customdata[0]}<br>channel_name=%{x}<br>sum=%{y}<br>count=%{customdata[1]}<br>mean=%{customdata[2]}<extra></extra>",
         "legendgroup": "divertissement-humour",
         "marker": {
          "color": "#FF97FF",
          "pattern": {
           "shape": ""
          }
         },
         "name": "divertissement-humour",
         "offsetgroup": "divertissement-humour",
         "orientation": "v",
         "showlegend": true,
         "textposition": "auto",
         "type": "bar",
         "x": [
          "C8",
          "France 3",
          "NRJ 12",
          "TF1"
         ],
         "xaxis": "x",
         "y": [
          126,
          100,
          95,
          45
         ],
         "yaxis": "y"
        },
        {
         "alignmentgroup": "True",
         "customdata": [
          [
           "documentaire histoire",
           3,
           63
          ],
          [
           "documentaire histoire",
           1,
           60
          ],
          [
           "documentaire histoire",
           2,
           56
          ]
         ],
         "hovertemplate": "category_text=%{customdata[0]}<br>channel_name=%{x}<br>sum=%{y}<br>count=%{customdata[1]}<br>mean=%{customdata[2]}<extra></extra>",
         "legendgroup": "documentaire histoire",
         "marker": {
          "color": "#FECB52",
          "pattern": {
           "shape": ""
          }
         },
         "name": "documentaire histoire",
         "offsetgroup": "documentaire histoire",
         "orientation": "v",
         "showlegend": true,
         "textposition": "auto",
         "type": "bar",
         "x": [
          "C8",
          "France 5",
          "La Chaîne parlementaire"
         ],
         "xaxis": "x",
         "y": [
          189,
          60,
          112
         ],
         "yaxis": "y"
        },
        {
         "alignmentgroup": "True",
         "customdata": [
          [
           "magazine de découvertes",
           1,
           2
          ],
          [
           "magazine de découvertes",
           2,
           90
          ],
          [
           "magazine de découvertes",
           1,
           30
          ]
         ],
         "hovertemplate": "category_text=%{customdata[0]}<br>channel_name=%{x}<br>sum=%{y}<br>count=%{customdata[1]}<br>mean=%{customdata[2]}<extra></extra>",
         "legendgroup": "magazine de découvertes",
         "marker": {
          "color": "#636efa",
          "pattern": {
           "shape": ""
          }
         },
         "name": "magazine de découvertes",
         "offsetgroup": "magazine de découvertes",
         "orientation": "v",
         "showlegend": true,
         "textposition": "auto",
         "type": "bar",
         "x": [
          "C8",
          "France 5",
          "La Chaîne parlementaire"
         ],
         "xaxis": "x",
         "y": [
          2,
          180,
          30
         ],
         "yaxis": "y"
        },
        {
         "alignmentgroup": "True",
         "customdata": [
          [
           "magazine de l'automobile",
           3,
           76
          ],
          [
           "magazine de l'automobile",
           6,
           60
          ]
         ],
         "hovertemplate": "category_text=%{customdata[0]}<br>channel_name=%{x}<br>sum=%{y}<br>count=%{customdata[1]}<br>mean=%{customdata[2]}<extra></extra>",
         "legendgroup": "magazine de l'automobile",
         "marker": {
          "color": "#EF553B",
          "pattern": {
           "shape": ""
          }
         },
         "name": "magazine de l'automobile",
         "offsetgroup": "magazine de l'automobile",
         "orientation": "v",
         "showlegend": true,
         "textposition": "auto",
         "type": "bar",
         "x": [
          "C8",
          "L'Equipe"
         ],
         "xaxis": "x",
         "y": [
          228,
          360
         ],
         "yaxis": "y"
        },
        {
         "alignmentgroup": "True",
         "customdata": [
          [
           "magazine de l'emploi",
           1,
           20
          ]
         ],
         "hovertemplate": "category_text=%{customdata[0]}<br>channel_name=%{x}<br>sum=%{y}<br>count=%{customdata[1]}<br>mean=%{customdata[2]}<extra></extra>",
         "legendgroup": "magazine de l'emploi",
         "marker": {
          "color": "#00cc96",
          "pattern": {
           "shape": ""
          }
         },
         "name": "magazine de l'emploi",
         "offsetgroup": "magazine de l'emploi",
         "orientation": "v",
         "showlegend": true,
         "textposition": "auto",
         "type": "bar",
         "x": [
          "C8"
         ],
         "xaxis": "x",
         "y": [
          20
         ],
         "yaxis": "y"
        },
        {
         "alignmentgroup": "True",
         "customdata": [
          [
           "magazine de société",
           2,
           104.5
          ],
          [
           "magazine de société",
           1,
           59
          ],
          [
           "magazine de société",
           12,
           69.16666666666667
          ],
          [
           "magazine de société",
           1,
           59
          ],
          [
           "magazine de société",
           2,
           28.5
          ],
          [
           "magazine de société",
           2,
           87.5
          ],
          [
           "magazine de société",
           1,
           65
          ],
          [
           "magazine de société",
           2,
           132.5
          ],
          [
           "magazine de société",
           1,
           5
          ],
          [
           "magazine de société",
           2,
           90
          ]
         ],
         "hovertemplate": "category_text=%{customdata[0]}<br>channel_name=%{x}<br>sum=%{y}<br>count=%{customdata[1]}<br>mean=%{customdata[2]}<extra></extra>",
         "legendgroup": "magazine de société",
         "marker": {
          "color": "#ab63fa",
          "pattern": {
           "shape": ""
          }
         },
         "name": "magazine de société",
         "offsetgroup": "magazine de société",
         "orientation": "v",
         "showlegend": true,
         "textposition": "auto",
         "type": "bar",
         "x": [
          "C8",
          "CNEWS",
          "Chérie 25",
          "France 2",
          "La Chaîne parlementaire",
          "RMC Story",
          "TF1",
          "TFX",
          "TMC",
          "W9"
         ],
         "xaxis": "x",
         "y": [
          209,
          59,
          830,
          59,
          57,
          175,
          65,
          265,
          5,
          180
         ],
         "yaxis": "y"
        },
        {
         "alignmentgroup": "True",
         "customdata": [
          [
           "musique : dance music",
           1,
           69
          ]
         ],
         "hovertemplate": "category_text=%{customdata[0]}<br>channel_name=%{x}<br>sum=%{y}<br>count=%{customdata[1]}<br>mean=%{customdata[2]}<extra></extra>",
         "legendgroup": "musique : dance music",
         "marker": {
          "color": "#FFA15A",
          "pattern": {
           "shape": ""
          }
         },
         "name": "musique : dance music",
         "offsetgroup": "musique : dance music",
         "orientation": "v",
         "showlegend": true,
         "textposition": "auto",
         "type": "bar",
         "x": [
          "C8"
         ],
         "xaxis": "x",
         "y": [
          69
         ],
         "yaxis": "y"
        },
        {
         "alignmentgroup": "True",
         "customdata": [
          [
           "sport : tennis",
           1,
           309
          ]
         ],
         "hovertemplate": "category_text=%{customdata[0]}<br>channel_name=%{x}<br>sum=%{y}<br>count=%{customdata[1]}<br>mean=%{customdata[2]}<extra></extra>",
         "legendgroup": "sport : tennis",
         "marker": {
          "color": "#19d3f3",
          "pattern": {
           "shape": ""
          }
         },
         "name": "sport : tennis",
         "offsetgroup": "sport : tennis",
         "orientation": "v",
         "showlegend": true,
         "textposition": "auto",
         "type": "bar",
         "x": [
          "C8"
         ],
         "xaxis": "x",
         "y": [
          309
         ],
         "yaxis": "y"
        },
        {
         "alignmentgroup": "True",
         "customdata": [
          [
           "divertissement",
           4,
           3.25
          ],
          [
           "divertissement",
           1,
           4
          ],
          [
           "divertissement",
           3,
           28.333333333333332
          ],
          [
           "divertissement",
           2,
           55
          ],
          [
           "divertissement",
           1,
           100
          ]
         ],
         "hovertemplate": "category_text=%{customdata[0]}<br>channel_name=%{x}<br>sum=%{y}<br>count=%{customdata[1]}<br>mean=%{customdata[2]}<extra></extra>",
         "legendgroup": "divertissement",
         "marker": {
          "color": "#FF6692",
          "pattern": {
           "shape": ""
          }
         },
         "name": "divertissement",
         "offsetgroup": "divertissement",
         "orientation": "v",
         "showlegend": true,
         "textposition": "auto",
         "type": "bar",
         "x": [
          "CNEWS",
          "CSTAR",
          "Canal+",
          "TF1",
          "TMC"
         ],
         "xaxis": "x",
         "y": [
          13,
          4,
          85,
          110,
          100
         ],
         "yaxis": "y"
        },
        {
         "alignmentgroup": "True",
         "customdata": [
          [
           "magazine de l'économie",
           7,
           8.142857142857142
          ],
          [
           "magazine de l'économie",
           1,
           18
          ]
         ],
         "hovertemplate": "category_text=%{customdata[0]}<br>channel_name=%{x}<br>sum=%{y}<br>count=%{customdata[1]}<br>mean=%{customdata[2]}<extra></extra>",
         "legendgroup": "magazine de l'économie",
         "marker": {
          "color": "#B6E880",
          "pattern": {
           "shape": ""
          }
         },
         "name": "magazine de l'économie",
         "offsetgroup": "magazine de l'économie",
         "orientation": "v",
         "showlegend": true,
         "textposition": "auto",
         "type": "bar",
         "x": [
          "CNEWS",
          "Franceinfo"
         ],
         "xaxis": "x",
         "y": [
          57,
          18
         ],
         "yaxis": "y"
        },
        {
         "alignmentgroup": "True",
         "customdata": [
          [
           "magazine de la santé",
           1,
           27
          ]
         ],
         "hovertemplate": "category_text=%{customdata[0]}<br>channel_name=%{x}<br>sum=%{y}<br>count=%{customdata[1]}<br>mean=%{customdata[2]}<extra></extra>",
         "legendgroup": "magazine de la santé",
         "marker": {
          "color": "#FF97FF",
          "pattern": {
           "shape": ""
          }
         },
         "name": "magazine de la santé",
         "offsetgroup": "magazine de la santé",
         "orientation": "v",
         "showlegend": true,
         "textposition": "auto",
         "type": "bar",
         "x": [
          "CNEWS"
         ],
         "xaxis": "x",
         "y": [
          27
         ],
         "yaxis": "y"
        },
        {
         "alignmentgroup": "True",
         "customdata": [
          [
           "magazine politique",
           2,
           88
          ],
          [
           "magazine politique",
           2,
           2.5
          ],
          [
           "magazine politique",
           1,
           26
          ],
          [
           "magazine politique",
           1,
           120
          ],
          [
           "magazine politique",
           11,
           38.45454545454545
          ]
         ],
         "hovertemplate": "category_text=%{customdata[0]}<br>channel_name=%{x}<br>sum=%{y}<br>count=%{customdata[1]}<br>mean=%{customdata[2]}<extra></extra>",
         "legendgroup": "magazine politique",
         "marker": {
          "color": "#FECB52",
          "pattern": {
           "shape": ""
          }
         },
         "name": "magazine politique",
         "offsetgroup": "magazine politique",
         "orientation": "v",
         "showlegend": true,
         "textposition": "auto",
         "type": "bar",
         "x": [
          "CNEWS",
          "France 3",
          "Franceinfo",
          "LCI",
          "La Chaîne parlementaire"
         ],
         "xaxis": "x",
         "y": [
          176,
          5,
          26,
          120,
          423
         ],
         "yaxis": "y"
        },
        {
         "alignmentgroup": "True",
         "customdata": [
          [
           "météo",
           23,
           1.3043478260869565
          ],
          [
           "météo",
           4,
           6.5
          ],
          [
           "météo",
           6,
           5.166666666666667
          ],
          [
           "météo",
           3,
           8.333333333333334
          ],
          [
           "météo",
           3,
           6.666666666666667
          ],
          [
           "météo",
           2,
           5
          ],
          [
           "météo",
           1,
           5
          ]
         ],
         "hovertemplate": "category_text=%{customdata[0]}<br>channel_name=%{x}<br>sum=%{y}<br>count=%{customdata[1]}<br>mean=%{customdata[2]}<extra></extra>",
         "legendgroup": "météo",
         "marker": {
          "color": "#636efa",
          "pattern": {
           "shape": ""
          }
         },
         "name": "météo",
         "offsetgroup": "météo",
         "orientation": "v",
         "showlegend": true,
         "textposition": "auto",
         "type": "bar",
         "x": [
          "CNEWS",
          "France 2",
          "France 3",
          "M6",
          "TF1",
          "TMC",
          "W9"
         ],
         "xaxis": "x",
         "y": [
          30,
          26,
          31,
          25,
          20,
          10,
          5
         ],
         "yaxis": "y"
        },
        {
         "alignmentgroup": "True",
         "customdata": [
          [
           "clips",
           7,
           97.14285714285714
          ],
          [
           "clips",
           1,
           60
          ],
          [
           "clips",
           2,
           117.5
          ]
         ],
         "hovertemplate": "category_text=%{customdata[0]}<br>channel_name=%{x}<br>sum=%{y}<br>count=%{customdata[1]}<br>mean=%{customdata[2]}<extra></extra>",
         "legendgroup": "clips",
         "marker": {
          "color": "#EF553B",
          "pattern": {
           "shape": ""
          }
         },
         "name": "clips",
         "offsetgroup": "clips",
         "orientation": "v",
         "showlegend": true,
         "textposition": "auto",
         "type": "bar",
         "x": [
          "CSTAR",
          "M6",
          "W9"
         ],
         "xaxis": "x",
         "y": [
          680,
          60,
          235
         ],
         "yaxis": "y"
        },
        {
         "alignmentgroup": "True",
         "customdata": [
          [
           "magazine de reportages",
           4,
           101.5
          ],
          [
           "magazine de reportages",
           1,
           130
          ],
          [
           "magazine de reportages",
           2,
           77.5
          ]
         ],
         "hovertemplate": "category_text=%{customdata[0]}<br>channel_name=%{x}<br>sum=%{y}<br>count=%{customdata[1]}<br>mean=%{customdata[2]}<extra></extra>",
         "legendgroup": "magazine de reportages",
         "marker": {
          "color": "#00cc96",
          "pattern": {
           "shape": ""
          }
         },
         "name": "magazine de reportages",
         "offsetgroup": "magazine de reportages",
         "orientation": "v",
         "showlegend": true,
         "textposition": "auto",
         "type": "bar",
         "x": [
          "CSTAR",
          "France 5",
          "TF1"
         ],
         "xaxis": "x",
         "y": [
          406,
          130,
          155
         ],
         "yaxis": "y"
        },
        {
         "alignmentgroup": "True",
         "customdata": [
          [
           "documentaire culture",
           1,
           18
          ],
          [
           "documentaire culture",
           2,
           30
          ]
         ],
         "hovertemplate": "category_text=%{customdata[0]}<br>channel_name=%{x}<br>sum=%{y}<br>count=%{customdata[1]}<br>mean=%{customdata[2]}<extra></extra>",
         "legendgroup": "documentaire culture",
         "marker": {
          "color": "#ab63fa",
          "pattern": {
           "shape": ""
          }
         },
         "name": "documentaire culture",
         "offsetgroup": "documentaire culture",
         "orientation": "v",
         "showlegend": true,
         "textposition": "auto",
         "type": "bar",
         "x": [
          "Canal+",
          "France 4"
         ],
         "xaxis": "x",
         "y": [
          18,
          60
         ],
         "yaxis": "y"
        },
        {
         "alignmentgroup": "True",
         "customdata": [
          [
           "film : court métrage",
           1,
           18
          ]
         ],
         "hovertemplate": "category_text=%{customdata[0]}<br>channel_name=%{x}<br>sum=%{y}<br>count=%{customdata[1]}<br>mean=%{customdata[2]}<extra></extra>",
         "legendgroup": "film : court métrage",
         "marker": {
          "color": "#FFA15A",
          "pattern": {
           "shape": ""
          }
         },
         "name": "film : court métrage",
         "offsetgroup": "film : court métrage",
         "orientation": "v",
         "showlegend": true,
         "textposition": "auto",
         "type": "bar",
         "x": [
          "Canal+"
         ],
         "xaxis": "x",
         "y": [
          18
         ],
         "yaxis": "y"
        },
        {
         "alignmentgroup": "True",
         "customdata": [
          [
           "film d'aventures",
           1,
           109
          ]
         ],
         "hovertemplate": "category_text=%{customdata[0]}<br>channel_name=%{x}<br>sum=%{y}<br>count=%{customdata[1]}<br>mean=%{customdata[2]}<extra></extra>",
         "legendgroup": "film d'aventures",
         "marker": {
          "color": "#19d3f3",
          "pattern": {
           "shape": ""
          }
         },
         "name": "film d'aventures",
         "offsetgroup": "film d'aventures",
         "orientation": "v",
         "showlegend": true,
         "textposition": "auto",
         "type": "bar",
         "x": [
          "Canal+"
         ],
         "xaxis": "x",
         "y": [
          109
         ],
         "yaxis": "y"
        },
        {
         "alignmentgroup": "True",
         "customdata": [
          [
           "film d'horreur",
           1,
           111
          ]
         ],
         "hovertemplate": "category_text=%{customdata[0]}<br>channel_name=%{x}<br>sum=%{y}<br>count=%{customdata[1]}<br>mean=%{customdata[2]}<extra></extra>",
         "legendgroup": "film d'horreur",
         "marker": {
          "color": "#FF6692",
          "pattern": {
           "shape": ""
          }
         },
         "name": "film d'horreur",
         "offsetgroup": "film d'horreur",
         "orientation": "v",
         "showlegend": true,
         "textposition": "auto",
         "type": "bar",
         "x": [
          "Canal+"
         ],
         "xaxis": "x",
         "y": [
          111
         ],
         "yaxis": "y"
        },
        {
         "alignmentgroup": "True",
         "customdata": [
          [
           "film pour la jeunesse",
           1,
           119
          ]
         ],
         "hovertemplate": "category_text=%{customdata[0]}<br>channel_name=%{x}<br>sum=%{y}<br>count=%{customdata[1]}<br>mean=%{customdata[2]}<extra></extra>",
         "legendgroup": "film pour la jeunesse",
         "marker": {
          "color": "#B6E880",
          "pattern": {
           "shape": ""
          }
         },
         "name": "film pour la jeunesse",
         "offsetgroup": "film pour la jeunesse",
         "orientation": "v",
         "showlegend": true,
         "textposition": "auto",
         "type": "bar",
         "x": [
          "Canal+"
         ],
         "xaxis": "x",
         "y": [
          119
         ],
         "yaxis": "y"
        },
        {
         "alignmentgroup": "True",
         "customdata": [
          [
           "magazine du cinéma",
           2,
           35.5
          ],
          [
           "magazine du cinéma",
           1,
           1
          ]
         ],
         "hovertemplate": "category_text=%{customdata[0]}<br>channel_name=%{x}<br>sum=%{y}<br>count=%{customdata[1]}<br>mean=%{customdata[2]}<extra></extra>",
         "legendgroup": "magazine du cinéma",
         "marker": {
          "color": "#FF97FF",
          "pattern": {
           "shape": ""
          }
         },
         "name": "magazine du cinéma",
         "offsetgroup": "magazine du cinéma",
         "orientation": "v",
         "showlegend": true,
         "textposition": "auto",
         "type": "bar",
         "x": [
          "Canal+",
          "France 3"
         ],
         "xaxis": "x",
         "y": [
          71,
          1
         ],
         "yaxis": "y"
        },
        {
         "alignmentgroup": "True",
         "customdata": [
          [
           "sport : multisports",
           1,
           71
          ],
          [
           "sport : multisports",
           1,
           15
          ],
          [
           "sport : multisports",
           6,
           58.833333333333336
          ]
         ],
         "hovertemplate": "category_text=%{customdata[0]}<br>channel_name=%{x}<br>sum=%{y}<br>count=%{customdata[1]}<br>mean=%{customdata[2]}<extra></extra>",
         "legendgroup": "sport : multisports",
         "marker": {
          "color": "#FECB52",
          "pattern": {
           "shape": ""
          }
         },
         "name": "sport : multisports",
         "offsetgroup": "sport : multisports",
         "orientation": "v",
         "showlegend": true,
         "textposition": "auto",
         "type": "bar",
         "x": [
          "Canal+",
          "France 3",
          "L'Equipe"
         ],
         "xaxis": "x",
         "y": [
          71,
          15,
          353
         ],
         "yaxis": "y"
        },
        {
         "alignmentgroup": "True",
         "customdata": [
          [
           "sport : rugby",
           4,
           72.5
          ],
          [
           "sport : rugby",
           1,
           135
          ],
          [
           "sport : rugby",
           1,
           30
          ],
          [
           "sport : rugby",
           3,
           81.66666666666667
          ],
          [
           "sport : rugby",
           5,
           62.6
          ]
         ],
         "hovertemplate": "category_text=%{customdata[0]}<br>channel_name=%{x}<br>sum=%{y}<br>count=%{customdata[1]}<br>mean=%{customdata[2]}<extra></extra>",
         "legendgroup": "sport : rugby",
         "marker": {
          "color": "#636efa",
          "pattern": {
           "shape": ""
          }
         },
         "name": "sport : rugby",
         "offsetgroup": "sport : rugby",
         "orientation": "v",
         "showlegend": true,
         "textposition": "auto",
         "type": "bar",
         "x": [
          "Canal+",
          "France 2",
          "France 3",
          "L'Equipe",
          "TF1"
         ],
         "xaxis": "x",
         "y": [
          290,
          135,
          30,
          245,
          313
         ],
         "yaxis": "y"
        },
        {
         "alignmentgroup": "True",
         "customdata": [
          [
           "série dramatique",
           2,
           53.5
          ],
          [
           "série dramatique",
           2,
           65
          ]
         ],
         "hovertemplate": "category_text=%{customdata[0]}<br>channel_name=%{x}<br>sum=%{y}<br>count=%{customdata[1]}<br>mean=%{customdata[2]}<extra></extra>",
         "legendgroup": "série dramatique",
         "marker": {
          "color": "#EF553B",
          "pattern": {
           "shape": ""
          }
         },
         "name": "série dramatique",
         "offsetgroup": "série dramatique",
         "orientation": "v",
         "showlegend": true,
         "textposition": "auto",
         "type": "bar",
         "x": [
          "Canal+",
          "Chérie 25"
         ],
         "xaxis": "x",
         "y": [
          107,
          130
         ],
         "yaxis": "y"
        },
        {
         "alignmentgroup": "True",
         "customdata": [
          [
           "série historique",
           2,
           55
          ]
         ],
         "hovertemplate": "category_text=%{customdata[0]}<br>channel_name=%{x}<br>sum=%{y}<br>count=%{customdata[1]}<br>mean=%{customdata[2]}<extra></extra>",
         "legendgroup": "série historique",
         "marker": {
          "color": "#00cc96",
          "pattern": {
           "shape": ""
          }
         },
         "name": "série historique",
         "offsetgroup": "série historique",
         "orientation": "v",
         "showlegend": true,
         "textposition": "auto",
         "type": "bar",
         "x": [
          "Canal+"
         ],
         "xaxis": "x",
         "y": [
          110
         ],
         "yaxis": "y"
        },
        {
         "alignmentgroup": "True",
         "customdata": [
          [
           "divertissement : jeu",
           8,
           40
          ],
          [
           "divertissement : jeu",
           5,
           42
          ],
          [
           "divertissement : jeu",
           1,
           109
          ],
          [
           "divertissement : jeu",
           1,
           305
          ],
          [
           "divertissement : jeu",
           1,
           60
          ]
         ],
         "hovertemplate": "category_text=%{customdata[0]}<br>channel_name=%{x}<br>sum=%{y}<br>count=%{customdata[1]}<br>mean=%{customdata[2]}<extra></extra>",
         "legendgroup": "divertissement : jeu",
         "marker": {
          "color": "#ab63fa",
          "pattern": {
           "shape": ""
          }
         },
         "name": "divertissement : jeu",
         "offsetgroup": "divertissement : jeu",
         "orientation": "v",
         "showlegend": true,
         "textposition": "auto",
         "type": "bar",
         "x": [
          "France 2",
          "France 3",
          "L'Equipe",
          "M6",
          "TF1"
         ],
         "xaxis": "x",
         "y": [
          320,
          210,
          109,
          305,
          60
         ],
         "yaxis": "y"
        },
        {
         "alignmentgroup": "True",
         "customdata": [
          [
           "documentaire découvertes",
           2,
           5
          ],
          [
           "documentaire découvertes",
           3,
           48.333333333333336
          ],
          [
           "documentaire découvertes",
           1,
           70
          ],
          [
           "documentaire découvertes",
           3,
           65
          ]
         ],
         "hovertemplate": "category_text=%{customdata[0]}<br>channel_name=%{x}<br>sum=%{y}<br>count=%{customdata[1]}<br>mean=%{customdata[2]}<extra></extra>",
         "legendgroup": "documentaire découvertes",
         "marker": {
          "color": "#FFA15A",
          "pattern": {
           "shape": ""
          }
         },
         "name": "documentaire découvertes",
         "offsetgroup": "documentaire découvertes",
         "orientation": "v",
         "showlegend": true,
         "textposition": "auto",
         "type": "bar",
         "x": [
          "France 2",
          "France 5",
          "RMC Découverte",
          "RMC Story"
         ],
         "xaxis": "x",
         "y": [
          10,
          145,
          70,
          195
         ],
         "yaxis": "y"
        },
        {
         "alignmentgroup": "True",
         "customdata": [
          [
           "magazine de l'art de vivre",
           3,
           40
          ]
         ],
         "hovertemplate": "category_text=%{customdata[0]}<br>channel_name=%{x}<br>sum=%{y}<br>count=%{customdata[1]}<br>mean=%{customdata[2]}<extra></extra>",
         "legendgroup": "magazine de l'art de vivre",
         "marker": {
          "color": "#19d3f3",
          "pattern": {
           "shape": ""
          }
         },
         "name": "magazine de l'art de vivre",
         "offsetgroup": "magazine de l'art de vivre",
         "orientation": "v",
         "showlegend": true,
         "textposition": "auto",
         "type": "bar",
         "x": [
          "France 2"
         ],
         "xaxis": "x",
         "y": [
          120
         ],
         "yaxis": "y"
        },
        {
         "alignmentgroup": "True",
         "customdata": [
          [
           "magazine de services",
           2,
           82.5
          ],
          [
           "magazine de services",
           1,
           5
          ],
          [
           "magazine de services",
           4,
           4.25
          ]
         ],
         "hovertemplate": "category_text=%{customdata[0]}<br>channel_name=%{x}<br>sum=%{y}<br>count=%{customdata[1]}<br>mean=%{customdata[2]}<extra></extra>",
         "legendgroup": "magazine de services",
         "marker": {
          "color": "#FF6692",
          "pattern": {
           "shape": ""
          }
         },
         "name": "magazine de services",
         "offsetgroup": "magazine de services",
         "orientation": "v",
         "showlegend": true,
         "textposition": "auto",
         "type": "bar",
         "x": [
          "France 2",
          "France 5",
          "TF1"
         ],
         "xaxis": "x",
         "y": [
          165,
          5,
          17
         ],
         "yaxis": "y"
        },
        {
         "alignmentgroup": "True",
         "customdata": [
          [
           "magazine du consommateur",
           1,
           5
          ],
          [
           "magazine du consommateur",
           1,
           10
          ],
          [
           "magazine du consommateur",
           1,
           5
          ]
         ],
         "hovertemplate": "category_text=%{customdata[0]}<br>channel_name=%{x}<br>sum=%{y}<br>count=%{customdata[1]}<br>mean=%{customdata[2]}<extra></extra>",
         "legendgroup": "magazine du consommateur",
         "marker": {
          "color": "#B6E880",
          "pattern": {
           "shape": ""
          }
         },
         "name": "magazine du consommateur",
         "offsetgroup": "magazine du consommateur",
         "orientation": "v",
         "showlegend": true,
         "textposition": "auto",
         "type": "bar",
         "x": [
          "France 2",
          "France 3",
          "France 4"
         ],
         "xaxis": "x",
         "y": [
          5,
          10,
          5
         ],
         "yaxis": "y"
        },
        {
         "alignmentgroup": "True",
         "customdata": [
          [
           "magazine judiciaire",
           2,
           52.5
          ]
         ],
         "hovertemplate": "category_text=%{customdata[0]}<br>channel_name=%{x}<br>sum=%{y}<br>count=%{customdata[1]}<br>mean=%{customdata[2]}<extra></extra>",
         "legendgroup": "magazine judiciaire",
         "marker": {
          "color": "#FF97FF",
          "pattern": {
           "shape": ""
          }
         },
         "name": "magazine judiciaire",
         "offsetgroup": "magazine judiciaire",
         "orientation": "v",
         "showlegend": true,
         "textposition": "auto",
         "type": "bar",
         "x": [
          "France 2"
         ],
         "xaxis": "x",
         "y": [
          105
         ],
         "yaxis": "y"
        },
        {
         "alignmentgroup": "True",
         "customdata": [
          [
           "magazine sportif",
           2,
           7.5
          ],
          [
           "magazine sportif",
           1,
           5
          ],
          [
           "magazine sportif",
           1,
           5
          ],
          [
           "magazine sportif",
           1,
           5
          ]
         ],
         "hovertemplate": "category_text=%{customdata[0]}<br>channel_name=%{x}<br>sum=%{y}<br>count=%{customdata[1]}<br>mean=%{customdata[2]}<extra></extra>",
         "legendgroup": "magazine sportif",
         "marker": {
          "color": "#FECB52",
          "pattern": {
           "shape": ""
          }
         },
         "name": "magazine sportif",
         "offsetgroup": "magazine sportif",
         "orientation": "v",
         "showlegend": true,
         "textposition": "auto",
         "type": "bar",
         "x": [
          "France 2",
          "France 3",
          "France 5",
          "TF1"
         ],
         "xaxis": "x",
         "y": [
          15,
          5,
          5,
          5
         ],
         "yaxis": "y"
        },
        {
         "alignmentgroup": "True",
         "customdata": [
          [
           "série de suspense",
           2,
           57.5
          ]
         ],
         "hovertemplate": "category_text=%{customdata[0]}<br>channel_name=%{x}<br>sum=%{y}<br>count=%{customdata[1]}<br>mean=%{customdata[2]}<extra></extra>",
         "legendgroup": "série de suspense",
         "marker": {
          "color": "#636efa",
          "pattern": {
           "shape": ""
          }
         },
         "name": "série de suspense",
         "offsetgroup": "série de suspense",
         "orientation": "v",
         "showlegend": true,
         "textposition": "auto",
         "type": "bar",
         "x": [
          "France 2"
         ],
         "xaxis": "x",
         "y": [
          115
         ],
         "yaxis": "y"
        },
        {
         "alignmentgroup": "True",
         "customdata": [
          [
           "talk-show",
           2,
           97.5
          ],
          [
           "talk-show",
           4,
           48.75
          ]
         ],
         "hovertemplate": "category_text=%{customdata[0]}<br>channel_name=%{x}<br>sum=%{y}<br>count=%{customdata[1]}<br>mean=%{customdata[2]}<extra></extra>",
         "legendgroup": "talk-show",
         "marker": {
          "color": "#EF553B",
          "pattern": {
           "shape": ""
          }
         },
         "name": "talk-show",
         "offsetgroup": "talk-show",
         "orientation": "v",
         "showlegend": true,
         "textposition": "auto",
         "type": "bar",
         "x": [
          "France 2",
          "France 5"
         ],
         "xaxis": "x",
         "y": [
          195,
          195
         ],
         "yaxis": "y"
        },
        {
         "alignmentgroup": "True",
         "customdata": [
          [
           "documentaire musique",
           1,
           70
          ]
         ],
         "hovertemplate": "category_text=%{customdata[0]}<br>channel_name=%{x}<br>sum=%{y}<br>count=%{customdata[1]}<br>mean=%{customdata[2]}<extra></extra>",
         "legendgroup": "documentaire musique",
         "marker": {
          "color": "#00cc96",
          "pattern": {
           "shape": ""
          }
         },
         "name": "documentaire musique",
         "offsetgroup": "documentaire musique",
         "orientation": "v",
         "showlegend": true,
         "textposition": "auto",
         "type": "bar",
         "x": [
          "France 3"
         ],
         "xaxis": "x",
         "y": [
          70
         ],
         "yaxis": "y"
        },
        {
         "alignmentgroup": "True",
         "customdata": [
          [
           "feuilleton réaliste",
           1,
           25
          ]
         ],
         "hovertemplate": "category_text=%{customdata[0]}<br>channel_name=%{x}<br>sum=%{y}<br>count=%{customdata[1]}<br>mean=%{customdata[2]}<extra></extra>",
         "legendgroup": "feuilleton réaliste",
         "marker": {
          "color": "#ab63fa",
          "pattern": {
           "shape": ""
          }
         },
         "name": "feuilleton réaliste",
         "offsetgroup": "feuilleton réaliste",
         "orientation": "v",
         "showlegend": true,
         "textposition": "auto",
         "type": "bar",
         "x": [
          "France 3"
         ],
         "xaxis": "x",
         "y": [
          25
         ],
         "yaxis": "y"
        },
        {
         "alignmentgroup": "True",
         "customdata": [
          [
           "film : drame",
           1,
           83
          ]
         ],
         "hovertemplate": "category_text=%{customdata[0]}<br>channel_name=%{x}<br>sum=%{y}<br>count=%{customdata[1]}<br>mean=%{customdata[2]}<extra></extra>",
         "legendgroup": "film : drame",
         "marker": {
          "color": "#FFA15A",
          "pattern": {
           "shape": ""
          }
         },
         "name": "film : drame",
         "offsetgroup": "film : drame",
         "orientation": "v",
         "showlegend": true,
         "textposition": "auto",
         "type": "bar",
         "x": [
          "France 3"
         ],
         "xaxis": "x",
         "y": [
          83
         ],
         "yaxis": "y"
        },
        {
         "alignmentgroup": "True",
         "customdata": [
          [
           "jeunesse : dessin animé dessin animé",
           17,
           7.0588235294117645
          ],
          [
           "jeunesse : dessin animé dessin animé",
           3,
           21.666666666666668
          ],
          [
           "jeunesse : dessin animé dessin animé",
           26,
           12.884615384615385
          ],
          [
           "jeunesse : dessin animé dessin animé",
           9,
           28.333333333333332
          ]
         ],
         "hovertemplate": "category_text=%{customdata[0]}<br>channel_name=%{x}<br>sum=%{y}<br>count=%{customdata[1]}<br>mean=%{customdata[2]}<extra></extra>",
         "legendgroup": "jeunesse : dessin animé dessin animé",
         "marker": {
          "color": "#19d3f3",
          "pattern": {
           "shape": ""
          }
         },
         "name": "jeunesse : dessin animé dessin animé",
         "offsetgroup": "jeunesse : dessin animé dessin animé",
         "orientation": "v",
         "showlegend": true,
         "textposition": "auto",
         "type": "bar",
         "x": [
          "France 3",
          "France 4",
          "Gulli",
          "TFX"
         ],
         "xaxis": "x",
         "y": [
          120,
          65,
          335,
          255
         ],
         "yaxis": "y"
        },
        {
         "alignmentgroup": "True",
         "customdata": [
          [
           "jeunesse : emission jeunesse",
           1,
           5
          ],
          [
           "jeunesse : emission jeunesse",
           3,
           3.6666666666666665
          ],
          [
           "jeunesse : emission jeunesse",
           1,
           1
          ]
         ],
         "hovertemplate": "category_text=%{customdata[0]}<br>channel_name=%{x}<br>sum=%{y}<br>count=%{customdata[1]}<br>mean=%{customdata[2]}<extra></extra>",
         "legendgroup": "jeunesse : emission jeunesse",
         "marker": {
          "color": "#FF6692",
          "pattern": {
           "shape": ""
          }
         },
         "name": "jeunesse : emission jeunesse",
         "offsetgroup": "jeunesse : emission jeunesse",
         "orientation": "v",
         "showlegend": true,
         "textposition": "auto",
         "type": "bar",
         "x": [
          "France 3",
          "France 4",
          "France 5"
         ],
         "xaxis": "x",
         "y": [
          5,
          11,
          1
         ],
         "yaxis": "y"
        },
        {
         "alignmentgroup": "True",
         "customdata": [
          [
           "magazine de la décoration",
           1,
           8
          ]
         ],
         "hovertemplate": "category_text=%{customdata[0]}<br>channel_name=%{x}<br>sum=%{y}<br>count=%{customdata[1]}<br>mean=%{customdata[2]}<extra></extra>",
         "legendgroup": "magazine de la décoration",
         "marker": {
          "color": "#B6E880",
          "pattern": {
           "shape": ""
          }
         },
         "name": "magazine de la décoration",
         "offsetgroup": "magazine de la décoration",
         "orientation": "v",
         "showlegend": true,
         "textposition": "auto",
         "type": "bar",
         "x": [
          "France 3"
         ],
         "xaxis": "x",
         "y": [
          8
         ],
         "yaxis": "y"
        },
        {
         "alignmentgroup": "True",
         "customdata": [
          [
           "magazine littéraire",
           2,
           3
          ],
          [
           "magazine littéraire",
           1,
           5
          ]
         ],
         "hovertemplate": "category_text=%{customdata[0]}<br>channel_name=%{x}<br>sum=%{y}<br>count=%{customdata[1]}<br>mean=%{customdata[2]}<extra></extra>",
         "legendgroup": "magazine littéraire",
         "marker": {
          "color": "#FF97FF",
          "pattern": {
           "shape": ""
          }
         },
         "name": "magazine littéraire",
         "offsetgroup": "magazine littéraire",
         "orientation": "v",
         "showlegend": true,
         "textposition": "auto",
         "type": "bar",
         "x": [
          "France 3",
          "France 5"
         ],
         "xaxis": "x",
         "y": [
          6,
          5
         ],
         "yaxis": "y"
        },
        {
         "alignmentgroup": "True",
         "customdata": [
          [
           "magazine régional",
           2,
           35
          ]
         ],
         "hovertemplate": "category_text=%{customdata[0]}<br>channel_name=%{x}<br>sum=%{y}<br>count=%{customdata[1]}<br>mean=%{customdata[2]}<extra></extra>",
         "legendgroup": "magazine régional",
         "marker": {
          "color": "#FECB52",
          "pattern": {
           "shape": ""
          }
         },
         "name": "magazine régional",
         "offsetgroup": "magazine régional",
         "orientation": "v",
         "showlegend": true,
         "textposition": "auto",
         "type": "bar",
         "x": [
          "France 3"
         ],
         "xaxis": "x",
         "y": [
          70
         ],
         "yaxis": "y"
        },
        {
         "alignmentgroup": "True",
         "customdata": [
          [
           "sport : patinage artistique",
           1,
           105
          ]
         ],
         "hovertemplate": "category_text=%{customdata[0]}<br>channel_name=%{x}<br>sum=%{y}<br>count=%{customdata[1]}<br>mean=%{customdata[2]}<extra></extra>",
         "legendgroup": "sport : patinage artistique",
         "marker": {
          "color": "#636efa",
          "pattern": {
           "shape": ""
          }
         },
         "name": "sport : patinage artistique",
         "offsetgroup": "sport : patinage artistique",
         "orientation": "v",
         "showlegend": true,
         "textposition": "auto",
         "type": "bar",
         "x": [
          "France 3"
         ],
         "xaxis": "x",
         "y": [
          105
         ],
         "yaxis": "y"
        },
        {
         "alignmentgroup": "True",
         "customdata": [
          [
           "série d'animation",
           16,
           7.1875
          ],
          [
           "série d'animation",
           64,
           10.140625
          ],
          [
           "série d'animation",
           35,
           8.4
          ],
          [
           "série d'animation",
           36,
           13.916666666666666
          ]
         ],
         "hovertemplate": "category_text=%{customdata[0]}<br>channel_name=%{x}<br>sum=%{y}<br>count=%{customdata[1]}<br>mean=%{customdata[2]}<extra></extra>",
         "legendgroup": "série d'animation",
         "marker": {
          "color": "#EF553B",
          "pattern": {
           "shape": ""
          }
         },
         "name": "série d'animation",
         "offsetgroup": "série d'animation",
         "orientation": "v",
         "showlegend": true,
         "textposition": "auto",
         "type": "bar",
         "x": [
          "France 3",
          "France 4",
          "France 5",
          "Gulli"
         ],
         "xaxis": "x",
         "y": [
          115,
          649,
          294,
          501
         ],
         "yaxis": "y"
        },
        {
         "alignmentgroup": "True",
         "customdata": [
          [
           "magazine jeunesse",
           3,
           11.666666666666666
          ]
         ],
         "hovertemplate": "category_text=%{customdata[0]}<br>channel_name=%{x}<br>sum=%{y}<br>count=%{customdata[1]}<br>mean=%{customdata[2]}<extra></extra>",
         "legendgroup": "magazine jeunesse",
         "marker": {
          "color": "#00cc96",
          "pattern": {
           "shape": ""
          }
         },
         "name": "magazine jeunesse",
         "offsetgroup": "magazine jeunesse",
         "orientation": "v",
         "showlegend": true,
         "textposition": "auto",
         "type": "bar",
         "x": [
          "France 4"
         ],
         "xaxis": "x",
         "y": [
          35
         ],
         "yaxis": "y"
        },
        {
         "alignmentgroup": "True",
         "customdata": [
          [
           "musique : contemporain",
           1,
           115
          ]
         ],
         "hovertemplate": "category_text=%{customdata[0]}<br>channel_name=%{x}<br>sum=%{y}<br>count=%{customdata[1]}<br>mean=%{customdata[2]}<extra></extra>",
         "legendgroup": "musique : contemporain",
         "marker": {
          "color": "#ab63fa",
          "pattern": {
           "shape": ""
          }
         },
         "name": "musique : contemporain",
         "offsetgroup": "musique : contemporain",
         "orientation": "v",
         "showlegend": true,
         "textposition": "auto",
         "type": "bar",
         "x": [
          "France 4"
         ],
         "xaxis": "x",
         "y": [
          115
         ],
         "yaxis": "y"
        },
        {
         "alignmentgroup": "True",
         "customdata": [
          [
           "série jeunesse",
           6,
           21.666666666666668
          ]
         ],
         "hovertemplate": "category_text=%{customdata[0]}<br>channel_name=%{x}<br>sum=%{y}<br>count=%{customdata[1]}<br>mean=%{customdata[2]}<extra></extra>",
         "legendgroup": "série jeunesse",
         "marker": {
          "color": "#FFA15A",
          "pattern": {
           "shape": ""
          }
         },
         "name": "série jeunesse",
         "offsetgroup": "série jeunesse",
         "orientation": "v",
         "showlegend": true,
         "textposition": "auto",
         "type": "bar",
         "x": [
          "France 4"
         ],
         "xaxis": "x",
         "y": [
          130
         ],
         "yaxis": "y"
        },
        {
         "alignmentgroup": "True",
         "customdata": [
          [
           "documentaire aventures",
           1,
           60
          ],
          [
           "documentaire aventures",
           4,
           53
          ]
         ],
         "hovertemplate": "category_text=%{customdata[0]}<br>channel_name=%{x}<br>sum=%{y}<br>count=%{customdata[1]}<br>mean=%{customdata[2]}<extra></extra>",
         "legendgroup": "documentaire aventures",
         "marker": {
          "color": "#19d3f3",
          "pattern": {
           "shape": ""
          }
         },
         "name": "documentaire aventures",
         "offsetgroup": "documentaire aventures",
         "orientation": "v",
         "showlegend": true,
         "textposition": "auto",
         "type": "bar",
         "x": [
          "France 5",
          "RMC Découverte"
         ],
         "xaxis": "x",
         "y": [
          60,
          212
         ],
         "yaxis": "y"
        },
        {
         "alignmentgroup": "True",
         "customdata": [
          [
           "documentaire santé",
           1,
           60
          ]
         ],
         "hovertemplate": "category_text=%{customdata[0]}<br>channel_name=%{x}<br>sum=%{y}<br>count=%{customdata[1]}<br>mean=%{customdata[2]}<extra></extra>",
         "legendgroup": "documentaire santé",
         "marker": {
          "color": "#FF6692",
          "pattern": {
           "shape": ""
          }
         },
         "name": "documentaire santé",
         "offsetgroup": "documentaire santé",
         "orientation": "v",
         "showlegend": true,
         "textposition": "auto",
         "type": "bar",
         "x": [
          "France 5"
         ],
         "xaxis": "x",
         "y": [
          60
         ],
         "yaxis": "y"
        },
        {
         "alignmentgroup": "True",
         "customdata": [
          [
           "magazine du jardinage",
           2,
           57.5
          ]
         ],
         "hovertemplate": "category_text=%{customdata[0]}<br>channel_name=%{x}<br>sum=%{y}<br>count=%{customdata[1]}<br>mean=%{customdata[2]}<extra></extra>",
         "legendgroup": "magazine du jardinage",
         "marker": {
          "color": "#B6E880",
          "pattern": {
           "shape": ""
          }
         },
         "name": "magazine du jardinage",
         "offsetgroup": "magazine du jardinage",
         "orientation": "v",
         "showlegend": true,
         "textposition": "auto",
         "type": "bar",
         "x": [
          "France 5"
         ],
         "xaxis": "x",
         "y": [
          115
         ],
         "yaxis": "y"
        },
        {
         "alignmentgroup": "True",
         "customdata": [
          [
           "magazine éducatif",
           1,
           5
          ],
          [
           "magazine éducatif",
           2,
           1
          ]
         ],
         "hovertemplate": "category_text=%{customdata[0]}<br>channel_name=%{x}<br>sum=%{y}<br>count=%{customdata[1]}<br>mean=%{customdata[2]}<extra></extra>",
         "legendgroup": "magazine éducatif",
         "marker": {
          "color": "#FF97FF",
          "pattern": {
           "shape": ""
          }
         },
         "name": "magazine éducatif",
         "offsetgroup": "magazine éducatif",
         "orientation": "v",
         "showlegend": true,
         "textposition": "auto",
         "type": "bar",
         "x": [
          "France 5",
          "Gulli"
         ],
         "xaxis": "x",
         "y": [
          5,
          2
         ],
         "yaxis": "y"
        },
        {
         "alignmentgroup": "True",
         "customdata": [
          [
           "débat",
           1,
           56
          ],
          [
           "débat",
           4,
           39.25
          ]
         ],
         "hovertemplate": "category_text=%{customdata[0]}<br>channel_name=%{x}<br>sum=%{y}<br>count=%{customdata[1]}<br>mean=%{customdata[2]}<extra></extra>",
         "legendgroup": "débat",
         "marker": {
          "color": "#FECB52",
          "pattern": {
           "shape": ""
          }
         },
         "name": "débat",
         "offsetgroup": "débat",
         "orientation": "v",
         "showlegend": true,
         "textposition": "auto",
         "type": "bar",
         "x": [
          "Franceinfo",
          "La Chaîne parlementaire"
         ],
         "xaxis": "x",
         "y": [
          56,
          157
         ],
         "yaxis": "y"
        },
        {
         "alignmentgroup": "True",
         "customdata": [
          [
           "interview",
           1,
           8
          ]
         ],
         "hovertemplate": "category_text=%{customdata[0]}<br>channel_name=%{x}<br>sum=%{y}<br>count=%{customdata[1]}<br>mean=%{customdata[2]}<extra></extra>",
         "legendgroup": "interview",
         "marker": {
          "color": "#636efa",
          "pattern": {
           "shape": ""
          }
         },
         "name": "interview",
         "offsetgroup": "interview",
         "orientation": "v",
         "showlegend": true,
         "textposition": "auto",
         "type": "bar",
         "x": [
          "Franceinfo"
         ],
         "xaxis": "x",
         "y": [
          8
         ],
         "yaxis": "y"
        },
        {
         "alignmentgroup": "True",
         "customdata": [
          [
           "film d'animation",
           2,
           90
          ]
         ],
         "hovertemplate": "category_text=%{customdata[0]}<br>channel_name=%{x}<br>sum=%{y}<br>count=%{customdata[1]}<br>mean=%{customdata[2]}<extra></extra>",
         "legendgroup": "film d'animation",
         "marker": {
          "color": "#EF553B",
          "pattern": {
           "shape": ""
          }
         },
         "name": "film d'animation",
         "offsetgroup": "film d'animation",
         "orientation": "v",
         "showlegend": true,
         "textposition": "auto",
         "type": "bar",
         "x": [
          "Gulli"
         ],
         "xaxis": "x",
         "y": [
          180
         ],
         "yaxis": "y"
        },
        {
         "alignmentgroup": "True",
         "customdata": [
          [
           "jeunesse : dessin animé manga",
           3,
           26.666666666666668
          ]
         ],
         "hovertemplate": "category_text=%{customdata[0]}<br>channel_name=%{x}<br>sum=%{y}<br>count=%{customdata[1]}<br>mean=%{customdata[2]}<extra></extra>",
         "legendgroup": "jeunesse : dessin animé manga",
         "marker": {
          "color": "#00cc96",
          "pattern": {
           "shape": ""
          }
         },
         "name": "jeunesse : dessin animé manga",
         "offsetgroup": "jeunesse : dessin animé manga",
         "orientation": "v",
         "showlegend": true,
         "textposition": "auto",
         "type": "bar",
         "x": [
          "Gulli"
         ],
         "xaxis": "x",
         "y": [
          80
         ],
         "yaxis": "y"
        },
        {
         "alignmentgroup": "True",
         "customdata": [
          [
           "magazine de l'environnement",
           1,
           2
          ],
          [
           "magazine de l'environnement",
           1,
           70
          ]
         ],
         "hovertemplate": "category_text=%{customdata[0]}<br>channel_name=%{x}<br>sum=%{y}<br>count=%{customdata[1]}<br>mean=%{customdata[2]}<extra></extra>",
         "legendgroup": "magazine de l'environnement",
         "marker": {
          "color": "#ab63fa",
          "pattern": {
           "shape": ""
          }
         },
         "name": "magazine de l'environnement",
         "offsetgroup": "magazine de l'environnement",
         "orientation": "v",
         "showlegend": true,
         "textposition": "auto",
         "type": "bar",
         "x": [
          "Gulli",
          "TF1"
         ],
         "xaxis": "x",
         "y": [
          2,
          70
         ],
         "yaxis": "y"
        },
        {
         "alignmentgroup": "True",
         "customdata": [
          [
           "série d'aventures",
           2,
           27.5
          ]
         ],
         "hovertemplate": "category_text=%{customdata[0]}<br>channel_name=%{x}<br>sum=%{y}<br>count=%{customdata[1]}<br>mean=%{customdata[2]}<extra></extra>",
         "legendgroup": "série d'aventures",
         "marker": {
          "color": "#FFA15A",
          "pattern": {
           "shape": ""
          }
         },
         "name": "série d'aventures",
         "offsetgroup": "série d'aventures",
         "orientation": "v",
         "showlegend": true,
         "textposition": "auto",
         "type": "bar",
         "x": [
          "Gulli"
         ],
         "xaxis": "x",
         "y": [
          55
         ],
         "yaxis": "y"
        },
        {
         "alignmentgroup": "True",
         "customdata": [
          [
           "série de science-fiction",
           3,
           30
          ]
         ],
         "hovertemplate": "category_text=%{customdata[0]}<br>channel_name=%{x}<br>sum=%{y}<br>count=%{customdata[1]}<br>mean=%{customdata[2]}<extra></extra>",
         "legendgroup": "série de science-fiction",
         "marker": {
          "color": "#19d3f3",
          "pattern": {
           "shape": ""
          }
         },
         "name": "série de science-fiction",
         "offsetgroup": "série de science-fiction",
         "orientation": "v",
         "showlegend": true,
         "textposition": "auto",
         "type": "bar",
         "x": [
          "Gulli"
         ],
         "xaxis": "x",
         "y": [
          90
         ],
         "yaxis": "y"
        },
        {
         "alignmentgroup": "True",
         "customdata": [
          [
           "série humoristique",
           3,
           31.666666666666668
          ],
          [
           "série humoristique",
           2,
           60
          ],
          [
           "série humoristique",
           24,
           29.375
          ],
          [
           "série humoristique",
           1,
           175
          ],
          [
           "série humoristique",
           3,
           156.66666666666666
          ]
         ],
         "hovertemplate": "category_text=%{customdata[0]}<br>channel_name=%{x}<br>sum=%{y}<br>count=%{customdata[1]}<br>mean=%{customdata[2]}<extra></extra>",
         "legendgroup": "série humoristique",
         "marker": {
          "color": "#FF6692",
          "pattern": {
           "shape": ""
          }
         },
         "name": "série humoristique",
         "offsetgroup": "série humoristique",
         "orientation": "v",
         "showlegend": true,
         "textposition": "auto",
         "type": "bar",
         "x": [
          "Gulli",
          "M6",
          "NRJ 12",
          "TF1 Séries Films",
          "W9"
         ],
         "xaxis": "x",
         "y": [
          95,
          120,
          705,
          175,
          470
         ],
         "yaxis": "y"
        },
        {
         "alignmentgroup": "True",
         "customdata": [
          [
           "téléfilm fantastique",
           1,
           95
          ]
         ],
         "hovertemplate": "category_text=%{customdata[0]}<br>channel_name=%{x}<br>sum=%{y}<br>count=%{customdata[1]}<br>mean=%{customdata[2]}<extra></extra>",
         "legendgroup": "téléfilm fantastique",
         "marker": {
          "color": "#B6E880",
          "pattern": {
           "shape": ""
          }
         },
         "name": "téléfilm fantastique",
         "offsetgroup": "téléfilm fantastique",
         "orientation": "v",
         "showlegend": true,
         "textposition": "auto",
         "type": "bar",
         "x": [
          "Gulli"
         ],
         "xaxis": "x",
         "y": [
          95
         ],
         "yaxis": "y"
        },
        {
         "alignmentgroup": "True",
         "customdata": [
          [
           "sport : football",
           3,
           45.333333333333336
          ]
         ],
         "hovertemplate": "category_text=%{customdata[0]}<br>channel_name=%{x}<br>sum=%{y}<br>count=%{customdata[1]}<br>mean=%{customdata[2]}<extra></extra>",
         "legendgroup": "sport : football",
         "marker": {
          "color": "#FF97FF",
          "pattern": {
           "shape": ""
          }
         },
         "name": "sport : football",
         "offsetgroup": "sport : football",
         "orientation": "v",
         "showlegend": true,
         "textposition": "auto",
         "type": "bar",
         "x": [
          "L'Equipe"
         ],
         "xaxis": "x",
         "y": [
          136
         ],
         "yaxis": "y"
        },
        {
         "alignmentgroup": "True",
         "customdata": [
          [
           "sport : mma",
           1,
           155
          ]
         ],
         "hovertemplate": "category_text=%{customdata[0]}<br>channel_name=%{x}<br>sum=%{y}<br>count=%{customdata[1]}<br>mean=%{customdata[2]}<extra></extra>",
         "legendgroup": "sport : mma",
         "marker": {
          "color": "#FECB52",
          "pattern": {
           "shape": ""
          }
         },
         "name": "sport : mma",
         "offsetgroup": "sport : mma",
         "orientation": "v",
         "showlegend": true,
         "textposition": "auto",
         "type": "bar",
         "x": [
          "L'Equipe"
         ],
         "xaxis": "x",
         "y": [
          155
         ],
         "yaxis": "y"
        },
        {
         "alignmentgroup": "True",
         "customdata": [
          [
           "sport : voile",
           3,
           35
          ]
         ],
         "hovertemplate": "category_text=%{customdata[0]}<br>channel_name=%{x}<br>sum=%{y}<br>count=%{customdata[1]}<br>mean=%{customdata[2]}<extra></extra>",
         "legendgroup": "sport : voile",
         "marker": {
          "color": "#636efa",
          "pattern": {
           "shape": ""
          }
         },
         "name": "sport : voile",
         "offsetgroup": "sport : voile",
         "orientation": "v",
         "showlegend": true,
         "textposition": "auto",
         "type": "bar",
         "x": [
          "L'Equipe"
         ],
         "xaxis": "x",
         "y": [
          105
         ],
         "yaxis": "y"
        },
        {
         "alignmentgroup": "True",
         "customdata": [
          [
           "documentaire politique",
           1,
           60
          ]
         ],
         "hovertemplate": "category_text=%{customdata[0]}<br>channel_name=%{x}<br>sum=%{y}<br>count=%{customdata[1]}<br>mean=%{customdata[2]}<extra></extra>",
         "legendgroup": "documentaire politique",
         "marker": {
          "color": "#EF553B",
          "pattern": {
           "shape": ""
          }
         },
         "name": "documentaire politique",
         "offsetgroup": "documentaire politique",
         "orientation": "v",
         "showlegend": true,
         "textposition": "auto",
         "type": "bar",
         "x": [
          "La Chaîne parlementaire"
         ],
         "xaxis": "x",
         "y": [
          60
         ],
         "yaxis": "y"
        },
        {
         "alignmentgroup": "True",
         "customdata": [
          [
           "débat parlementaire",
           3,
           60
          ]
         ],
         "hovertemplate": "category_text=%{customdata[0]}<br>channel_name=%{x}<br>sum=%{y}<br>count=%{customdata[1]}<br>mean=%{customdata[2]}<extra></extra>",
         "legendgroup": "débat parlementaire",
         "marker": {
          "color": "#00cc96",
          "pattern": {
           "shape": ""
          }
         },
         "name": "débat parlementaire",
         "offsetgroup": "débat parlementaire",
         "orientation": "v",
         "showlegend": true,
         "textposition": "auto",
         "type": "bar",
         "x": [
          "La Chaîne parlementaire"
         ],
         "xaxis": "x",
         "y": [
          180
         ],
         "yaxis": "y"
        },
        {
         "alignmentgroup": "True",
         "customdata": [
          [
           "magazine des médias",
           1,
           120
          ]
         ],
         "hovertemplate": "category_text=%{customdata[0]}<br>channel_name=%{x}<br>sum=%{y}<br>count=%{customdata[1]}<br>mean=%{customdata[2]}<extra></extra>",
         "legendgroup": "magazine des médias",
         "marker": {
          "color": "#ab63fa",
          "pattern": {
           "shape": ""
          }
         },
         "name": "magazine des médias",
         "offsetgroup": "magazine des médias",
         "orientation": "v",
         "showlegend": true,
         "textposition": "auto",
         "type": "bar",
         "x": [
          "La Chaîne parlementaire"
         ],
         "xaxis": "x",
         "y": [
          120
         ],
         "yaxis": "y"
        },
        {
         "alignmentgroup": "True",
         "customdata": [
          [
           "film : thriller",
           1,
           90
          ]
         ],
         "hovertemplate": "category_text=%{customdata[0]}<br>channel_name=%{x}<br>sum=%{y}<br>count=%{customdata[1]}<br>mean=%{customdata[2]}<extra></extra>",
         "legendgroup": "film : thriller",
         "marker": {
          "color": "#FFA15A",
          "pattern": {
           "shape": ""
          }
         },
         "name": "film : thriller",
         "offsetgroup": "film : thriller",
         "orientation": "v",
         "showlegend": true,
         "textposition": "auto",
         "type": "bar",
         "x": [
          "M6"
         ],
         "xaxis": "x",
         "y": [
          90
         ],
         "yaxis": "y"
        },
        {
         "alignmentgroup": "True",
         "customdata": [
          [
           "magazine du show-biz",
           1,
           190
          ],
          [
           "magazine du show-biz",
           2,
           50
          ]
         ],
         "hovertemplate": "category_text=%{customdata[0]}<br>channel_name=%{x}<br>sum=%{y}<br>count=%{customdata[1]}<br>mean=%{customdata[2]}<extra></extra>",
         "legendgroup": "magazine du show-biz",
         "marker": {
          "color": "#19d3f3",
          "pattern": {
           "shape": ""
          }
         },
         "name": "magazine du show-biz",
         "offsetgroup": "magazine du show-biz",
         "orientation": "v",
         "showlegend": true,
         "textposition": "auto",
         "type": "bar",
         "x": [
          "M6",
          "TF1"
         ],
         "xaxis": "x",
         "y": [
          190,
          100
         ],
         "yaxis": "y"
        },
        {
         "alignmentgroup": "True",
         "customdata": [
          [
           "série d'action",
           3,
           48.333333333333336
          ]
         ],
         "hovertemplate": "category_text=%{customdata[0]}<br>channel_name=%{x}<br>sum=%{y}<br>count=%{customdata[1]}<br>mean=%{customdata[2]}<extra></extra>",
         "legendgroup": "série d'action",
         "marker": {
          "color": "#FF6692",
          "pattern": {
           "shape": ""
          }
         },
         "name": "série d'action",
         "offsetgroup": "série d'action",
         "orientation": "v",
         "showlegend": true,
         "textposition": "auto",
         "type": "bar",
         "x": [
          "M6"
         ],
         "xaxis": "x",
         "y": [
          145
         ],
         "yaxis": "y"
        },
        {
         "alignmentgroup": "True",
         "customdata": [
          [
           "série fantastique",
           4,
           50
          ]
         ],
         "hovertemplate": "category_text=%{customdata[0]}<br>channel_name=%{x}<br>sum=%{y}<br>count=%{customdata[1]}<br>mean=%{customdata[2]}<extra></extra>",
         "legendgroup": "série fantastique",
         "marker": {
          "color": "#B6E880",
          "pattern": {
           "shape": ""
          }
         },
         "name": "série fantastique",
         "offsetgroup": "série fantastique",
         "orientation": "v",
         "showlegend": true,
         "textposition": "auto",
         "type": "bar",
         "x": [
          "NRJ 12"
         ],
         "xaxis": "x",
         "y": [
          200
         ],
         "yaxis": "y"
        },
        {
         "alignmentgroup": "True",
         "customdata": [
          [
           "documentaire beaux-arts",
           1,
           80
          ]
         ],
         "hovertemplate": "category_text=%{customdata[0]}<br>channel_name=%{x}<br>sum=%{y}<br>count=%{customdata[1]}<br>mean=%{customdata[2]}<extra></extra>",
         "legendgroup": "documentaire beaux-arts",
         "marker": {
          "color": "#FF97FF",
          "pattern": {
           "shape": ""
          }
         },
         "name": "documentaire beaux-arts",
         "offsetgroup": "documentaire beaux-arts",
         "orientation": "v",
         "showlegend": true,
         "textposition": "auto",
         "type": "bar",
         "x": [
          "RMC Découverte"
         ],
         "xaxis": "x",
         "y": [
          80
         ],
         "yaxis": "y"
        },
        {
         "alignmentgroup": "True",
         "customdata": [
          [
           "documentaire sciences et technique",
           2,
           67.5
          ]
         ],
         "hovertemplate": "category_text=%{customdata[0]}<br>channel_name=%{x}<br>sum=%{y}<br>count=%{customdata[1]}<br>mean=%{customdata[2]}<extra></extra>",
         "legendgroup": "documentaire sciences et technique",
         "marker": {
          "color": "#FECB52",
          "pattern": {
           "shape": ""
          }
         },
         "name": "documentaire sciences et technique",
         "offsetgroup": "documentaire sciences et technique",
         "orientation": "v",
         "showlegend": true,
         "textposition": "auto",
         "type": "bar",
         "x": [
          "RMC Découverte"
         ],
         "xaxis": "x",
         "y": [
          135
         ],
         "yaxis": "y"
        },
        {
         "alignmentgroup": "True",
         "customdata": [
          [
           "sport : hippisme",
           1,
           10
          ]
         ],
         "hovertemplate": "category_text=%{customdata[0]}<br>channel_name=%{x}<br>sum=%{y}<br>count=%{customdata[1]}<br>mean=%{customdata[2]}<extra></extra>",
         "legendgroup": "sport : hippisme",
         "marker": {
          "color": "#636efa",
          "pattern": {
           "shape": ""
          }
         },
         "name": "sport : hippisme",
         "offsetgroup": "sport : hippisme",
         "orientation": "v",
         "showlegend": true,
         "textposition": "auto",
         "type": "bar",
         "x": [
          "RMC Découverte"
         ],
         "xaxis": "x",
         "y": [
          10
         ],
         "yaxis": "y"
        },
        {
         "alignmentgroup": "True",
         "customdata": [
          [
           "documentaire justice",
           2,
           80
          ]
         ],
         "hovertemplate": "category_text=%{customdata[0]}<br>channel_name=%{x}<br>sum=%{y}<br>count=%{customdata[1]}<br>mean=%{customdata[2]}<extra></extra>",
         "legendgroup": "documentaire justice",
         "marker": {
          "color": "#EF553B",
          "pattern": {
           "shape": ""
          }
         },
         "name": "documentaire justice",
         "offsetgroup": "documentaire justice",
         "orientation": "v",
         "showlegend": true,
         "textposition": "auto",
         "type": "bar",
         "x": [
          "RMC Story"
         ],
         "xaxis": "x",
         "y": [
          160
         ],
         "yaxis": "y"
        },
        {
         "alignmentgroup": "True",
         "customdata": [
          [
           "loterie",
           2,
           5
          ]
         ],
         "hovertemplate": "category_text=%{customdata[0]}<br>channel_name=%{x}<br>sum=%{y}<br>count=%{customdata[1]}<br>mean=%{customdata[2]}<extra></extra>",
         "legendgroup": "loterie",
         "marker": {
          "color": "#00cc96",
          "pattern": {
           "shape": ""
          }
         },
         "name": "loterie",
         "offsetgroup": "loterie",
         "orientation": "v",
         "showlegend": true,
         "textposition": "auto",
         "type": "bar",
         "x": [
          "TF1"
         ],
         "xaxis": "x",
         "y": [
          10
         ],
         "yaxis": "y"
        },
        {
         "alignmentgroup": "True",
         "customdata": [
          [
           "magazine de la gastronomie",
           1,
           5
          ],
          [
           "magazine de la gastronomie",
           1,
           5
          ],
          [
           "magazine de la gastronomie",
           2,
           5
          ]
         ],
         "hovertemplate": "category_text=%{customdata[0]}<br>channel_name=%{x}<br>sum=%{y}<br>count=%{customdata[1]}<br>mean=%{customdata[2]}<extra></extra>",
         "legendgroup": "magazine de la gastronomie",
         "marker": {
          "color": "#ab63fa",
          "pattern": {
           "shape": ""
          }
         },
         "name": "magazine de la gastronomie",
         "offsetgroup": "magazine de la gastronomie",
         "orientation": "v",
         "showlegend": true,
         "textposition": "auto",
         "type": "bar",
         "x": [
          "TF1",
          "TF1 Séries Films",
          "TFX"
         ],
         "xaxis": "x",
         "y": [
          5,
          5,
          10
         ],
         "yaxis": "y"
        },
        {
         "alignmentgroup": "True",
         "customdata": [
          [
           "téléréalité",
           3,
           91.66666666666667
          ],
          [
           "téléréalité",
           19,
           37.10526315789474
          ]
         ],
         "hovertemplate": "category_text=%{customdata[0]}<br>channel_name=%{x}<br>sum=%{y}<br>count=%{customdata[1]}<br>mean=%{customdata[2]}<extra></extra>",
         "legendgroup": "téléréalité",
         "marker": {
          "color": "#FFA15A",
          "pattern": {
           "shape": ""
          }
         },
         "name": "téléréalité",
         "offsetgroup": "téléréalité",
         "orientation": "v",
         "showlegend": true,
         "textposition": "auto",
         "type": "bar",
         "x": [
          "TF1",
          "TFX"
         ],
         "xaxis": "x",
         "y": [
          275,
          705
         ],
         "yaxis": "y"
        },
        {
         "alignmentgroup": "True",
         "customdata": [
          [
           "série réaliste",
           2,
           25
          ]
         ],
         "hovertemplate": "category_text=%{customdata[0]}<br>channel_name=%{x}<br>sum=%{y}<br>count=%{customdata[1]}<br>mean=%{customdata[2]}<extra></extra>",
         "legendgroup": "série réaliste",
         "marker": {
          "color": "#19d3f3",
          "pattern": {
           "shape": ""
          }
         },
         "name": "série réaliste",
         "offsetgroup": "série réaliste",
         "orientation": "v",
         "showlegend": true,
         "textposition": "auto",
         "type": "bar",
         "x": [
          "TF1 Séries Films"
         ],
         "xaxis": "x",
         "y": [
          50
         ],
         "yaxis": "y"
        },
        {
         "alignmentgroup": "True",
         "customdata": [
          [
           "série sentimentale",
           3,
           73.33333333333333
          ],
          [
           "série sentimentale",
           1,
           70
          ]
         ],
         "hovertemplate": "category_text=%{customdata[0]}<br>channel_name=%{x}<br>sum=%{y}<br>count=%{customdata[1]}<br>mean=%{customdata[2]}<extra></extra>",
         "legendgroup": "série sentimentale",
         "marker": {
          "color": "#FF6692",
          "pattern": {
           "shape": ""
          }
         },
         "name": "série sentimentale",
         "offsetgroup": "série sentimentale",
         "orientation": "v",
         "showlegend": true,
         "textposition": "auto",
         "type": "bar",
         "x": [
          "TF1 Séries Films",
          "TMC"
         ],
         "xaxis": "x",
         "y": [
          220,
          70
         ],
         "yaxis": "y"
        },
        {
         "alignmentgroup": "True",
         "customdata": [
          [
           "téléfilm sentimental",
           6,
           96.66666666666667
          ],
          [
           "téléfilm sentimental",
           2,
           115
          ],
          [
           "téléfilm sentimental",
           3,
           103.33333333333333
          ]
         ],
         "hovertemplate": "category_text=%{customdata[0]}<br>channel_name=%{x}<br>sum=%{y}<br>count=%{customdata[1]}<br>mean=%{customdata[2]}<extra></extra>",
         "legendgroup": "téléfilm sentimental",
         "marker": {
          "color": "#B6E880",
          "pattern": {
           "shape": ""
          }
         },
         "name": "téléfilm sentimental",
         "offsetgroup": "téléfilm sentimental",
         "orientation": "v",
         "showlegend": true,
         "textposition": "auto",
         "type": "bar",
         "x": [
          "TF1 Séries Films",
          "TMC",
          "W9"
         ],
         "xaxis": "x",
         "y": [
          580,
          230,
          310
         ],
         "yaxis": "y"
        },
        {
         "alignmentgroup": "True",
         "customdata": [
          [
           "sport : handball",
           1,
           120
          ]
         ],
         "hovertemplate": "category_text=%{customdata[0]}<br>channel_name=%{x}<br>sum=%{y}<br>count=%{customdata[1]}<br>mean=%{customdata[2]}<extra></extra>",
         "legendgroup": "sport : handball",
         "marker": {
          "color": "#FF97FF",
          "pattern": {
           "shape": ""
          }
         },
         "name": "sport : handball",
         "offsetgroup": "sport : handball",
         "orientation": "v",
         "showlegend": true,
         "textposition": "auto",
         "type": "bar",
         "x": [
          "TMC"
         ],
         "xaxis": "x",
         "y": [
          120
         ],
         "yaxis": "y"
        }
       ],
       "layout": {
        "annotations": [
         {
          "font": {
           "color": "black",
           "size": 12
          },
          "showarrow": false,
          "text": "24 hours of content",
          "x": 0,
          "xanchor": "left",
          "xref": "x domain",
          "y": 1440,
          "yanchor": "bottom",
          "yref": "y"
         }
        ],
        "barmode": "relative",
        "legend": {
         "title": {
          "text": "category_text"
         },
         "tracegroupgap": 0
        },
        "shapes": [
         {
          "line": {
           "dash": "dot"
          },
          "type": "line",
          "x0": 0,
          "x1": 1,
          "xref": "x domain",
          "y0": 1440,
          "y1": 1440,
          "yref": "y"
         }
        ],
        "template": {
         "data": {
          "bar": [
           {
            "error_x": {
             "color": "#2a3f5f"
            },
            "error_y": {
             "color": "#2a3f5f"
            },
            "marker": {
             "line": {
              "color": "#E5ECF6",
              "width": 0.5
             },
             "pattern": {
              "fillmode": "overlay",
              "size": 10,
              "solidity": 0.2
             }
            },
            "type": "bar"
           }
          ],
          "barpolar": [
           {
            "marker": {
             "line": {
              "color": "#E5ECF6",
              "width": 0.5
             },
             "pattern": {
              "fillmode": "overlay",
              "size": 10,
              "solidity": 0.2
             }
            },
            "type": "barpolar"
           }
          ],
          "carpet": [
           {
            "aaxis": {
             "endlinecolor": "#2a3f5f",
             "gridcolor": "white",
             "linecolor": "white",
             "minorgridcolor": "white",
             "startlinecolor": "#2a3f5f"
            },
            "baxis": {
             "endlinecolor": "#2a3f5f",
             "gridcolor": "white",
             "linecolor": "white",
             "minorgridcolor": "white",
             "startlinecolor": "#2a3f5f"
            },
            "type": "carpet"
           }
          ],
          "choropleth": [
           {
            "colorbar": {
             "outlinewidth": 0,
             "ticks": ""
            },
            "type": "choropleth"
           }
          ],
          "contour": [
           {
            "colorbar": {
             "outlinewidth": 0,
             "ticks": ""
            },
            "colorscale": [
             [
              0,
              "#0d0887"
             ],
             [
              0.1111111111111111,
              "#46039f"
             ],
             [
              0.2222222222222222,
              "#7201a8"
             ],
             [
              0.3333333333333333,
              "#9c179e"
             ],
             [
              0.4444444444444444,
              "#bd3786"
             ],
             [
              0.5555555555555556,
              "#d8576b"
             ],
             [
              0.6666666666666666,
              "#ed7953"
             ],
             [
              0.7777777777777778,
              "#fb9f3a"
             ],
             [
              0.8888888888888888,
              "#fdca26"
             ],
             [
              1,
              "#f0f921"
             ]
            ],
            "type": "contour"
           }
          ],
          "contourcarpet": [
           {
            "colorbar": {
             "outlinewidth": 0,
             "ticks": ""
            },
            "type": "contourcarpet"
           }
          ],
          "heatmap": [
           {
            "colorbar": {
             "outlinewidth": 0,
             "ticks": ""
            },
            "colorscale": [
             [
              0,
              "#0d0887"
             ],
             [
              0.1111111111111111,
              "#46039f"
             ],
             [
              0.2222222222222222,
              "#7201a8"
             ],
             [
              0.3333333333333333,
              "#9c179e"
             ],
             [
              0.4444444444444444,
              "#bd3786"
             ],
             [
              0.5555555555555556,
              "#d8576b"
             ],
             [
              0.6666666666666666,
              "#ed7953"
             ],
             [
              0.7777777777777778,
              "#fb9f3a"
             ],
             [
              0.8888888888888888,
              "#fdca26"
             ],
             [
              1,
              "#f0f921"
             ]
            ],
            "type": "heatmap"
           }
          ],
          "heatmapgl": [
           {
            "colorbar": {
             "outlinewidth": 0,
             "ticks": ""
            },
            "colorscale": [
             [
              0,
              "#0d0887"
             ],
             [
              0.1111111111111111,
              "#46039f"
             ],
             [
              0.2222222222222222,
              "#7201a8"
             ],
             [
              0.3333333333333333,
              "#9c179e"
             ],
             [
              0.4444444444444444,
              "#bd3786"
             ],
             [
              0.5555555555555556,
              "#d8576b"
             ],
             [
              0.6666666666666666,
              "#ed7953"
             ],
             [
              0.7777777777777778,
              "#fb9f3a"
             ],
             [
              0.8888888888888888,
              "#fdca26"
             ],
             [
              1,
              "#f0f921"
             ]
            ],
            "type": "heatmapgl"
           }
          ],
          "histogram": [
           {
            "marker": {
             "pattern": {
              "fillmode": "overlay",
              "size": 10,
              "solidity": 0.2
             }
            },
            "type": "histogram"
           }
          ],
          "histogram2d": [
           {
            "colorbar": {
             "outlinewidth": 0,
             "ticks": ""
            },
            "colorscale": [
             [
              0,
              "#0d0887"
             ],
             [
              0.1111111111111111,
              "#46039f"
             ],
             [
              0.2222222222222222,
              "#7201a8"
             ],
             [
              0.3333333333333333,
              "#9c179e"
             ],
             [
              0.4444444444444444,
              "#bd3786"
             ],
             [
              0.5555555555555556,
              "#d8576b"
             ],
             [
              0.6666666666666666,
              "#ed7953"
             ],
             [
              0.7777777777777778,
              "#fb9f3a"
             ],
             [
              0.8888888888888888,
              "#fdca26"
             ],
             [
              1,
              "#f0f921"
             ]
            ],
            "type": "histogram2d"
           }
          ],
          "histogram2dcontour": [
           {
            "colorbar": {
             "outlinewidth": 0,
             "ticks": ""
            },
            "colorscale": [
             [
              0,
              "#0d0887"
             ],
             [
              0.1111111111111111,
              "#46039f"
             ],
             [
              0.2222222222222222,
              "#7201a8"
             ],
             [
              0.3333333333333333,
              "#9c179e"
             ],
             [
              0.4444444444444444,
              "#bd3786"
             ],
             [
              0.5555555555555556,
              "#d8576b"
             ],
             [
              0.6666666666666666,
              "#ed7953"
             ],
             [
              0.7777777777777778,
              "#fb9f3a"
             ],
             [
              0.8888888888888888,
              "#fdca26"
             ],
             [
              1,
              "#f0f921"
             ]
            ],
            "type": "histogram2dcontour"
           }
          ],
          "mesh3d": [
           {
            "colorbar": {
             "outlinewidth": 0,
             "ticks": ""
            },
            "type": "mesh3d"
           }
          ],
          "parcoords": [
           {
            "line": {
             "colorbar": {
              "outlinewidth": 0,
              "ticks": ""
             }
            },
            "type": "parcoords"
           }
          ],
          "pie": [
           {
            "automargin": true,
            "type": "pie"
           }
          ],
          "scatter": [
           {
            "fillpattern": {
             "fillmode": "overlay",
             "size": 10,
             "solidity": 0.2
            },
            "type": "scatter"
           }
          ],
          "scatter3d": [
           {
            "line": {
             "colorbar": {
              "outlinewidth": 0,
              "ticks": ""
             }
            },
            "marker": {
             "colorbar": {
              "outlinewidth": 0,
              "ticks": ""
             }
            },
            "type": "scatter3d"
           }
          ],
          "scattercarpet": [
           {
            "marker": {
             "colorbar": {
              "outlinewidth": 0,
              "ticks": ""
             }
            },
            "type": "scattercarpet"
           }
          ],
          "scattergeo": [
           {
            "marker": {
             "colorbar": {
              "outlinewidth": 0,
              "ticks": ""
             }
            },
            "type": "scattergeo"
           }
          ],
          "scattergl": [
           {
            "marker": {
             "colorbar": {
              "outlinewidth": 0,
              "ticks": ""
             }
            },
            "type": "scattergl"
           }
          ],
          "scattermapbox": [
           {
            "marker": {
             "colorbar": {
              "outlinewidth": 0,
              "ticks": ""
             }
            },
            "type": "scattermapbox"
           }
          ],
          "scatterpolar": [
           {
            "marker": {
             "colorbar": {
              "outlinewidth": 0,
              "ticks": ""
             }
            },
            "type": "scatterpolar"
           }
          ],
          "scatterpolargl": [
           {
            "marker": {
             "colorbar": {
              "outlinewidth": 0,
              "ticks": ""
             }
            },
            "type": "scatterpolargl"
           }
          ],
          "scatterternary": [
           {
            "marker": {
             "colorbar": {
              "outlinewidth": 0,
              "ticks": ""
             }
            },
            "type": "scatterternary"
           }
          ],
          "surface": [
           {
            "colorbar": {
             "outlinewidth": 0,
             "ticks": ""
            },
            "colorscale": [
             [
              0,
              "#0d0887"
             ],
             [
              0.1111111111111111,
              "#46039f"
             ],
             [
              0.2222222222222222,
              "#7201a8"
             ],
             [
              0.3333333333333333,
              "#9c179e"
             ],
             [
              0.4444444444444444,
              "#bd3786"
             ],
             [
              0.5555555555555556,
              "#d8576b"
             ],
             [
              0.6666666666666666,
              "#ed7953"
             ],
             [
              0.7777777777777778,
              "#fb9f3a"
             ],
             [
              0.8888888888888888,
              "#fdca26"
             ],
             [
              1,
              "#f0f921"
             ]
            ],
            "type": "surface"
           }
          ],
          "table": [
           {
            "cells": {
             "fill": {
              "color": "#EBF0F8"
             },
             "line": {
              "color": "white"
             }
            },
            "header": {
             "fill": {
              "color": "#C8D4E3"
             },
             "line": {
              "color": "white"
             }
            },
            "type": "table"
           }
          ]
         },
         "layout": {
          "annotationdefaults": {
           "arrowcolor": "#2a3f5f",
           "arrowhead": 0,
           "arrowwidth": 1
          },
          "autotypenumbers": "strict",
          "coloraxis": {
           "colorbar": {
            "outlinewidth": 0,
            "ticks": ""
           }
          },
          "colorscale": {
           "diverging": [
            [
             0,
             "#8e0152"
            ],
            [
             0.1,
             "#c51b7d"
            ],
            [
             0.2,
             "#de77ae"
            ],
            [
             0.3,
             "#f1b6da"
            ],
            [
             0.4,
             "#fde0ef"
            ],
            [
             0.5,
             "#f7f7f7"
            ],
            [
             0.6,
             "#e6f5d0"
            ],
            [
             0.7,
             "#b8e186"
            ],
            [
             0.8,
             "#7fbc41"
            ],
            [
             0.9,
             "#4d9221"
            ],
            [
             1,
             "#276419"
            ]
           ],
           "sequential": [
            [
             0,
             "#0d0887"
            ],
            [
             0.1111111111111111,
             "#46039f"
            ],
            [
             0.2222222222222222,
             "#7201a8"
            ],
            [
             0.3333333333333333,
             "#9c179e"
            ],
            [
             0.4444444444444444,
             "#bd3786"
            ],
            [
             0.5555555555555556,
             "#d8576b"
            ],
            [
             0.6666666666666666,
             "#ed7953"
            ],
            [
             0.7777777777777778,
             "#fb9f3a"
            ],
            [
             0.8888888888888888,
             "#fdca26"
            ],
            [
             1,
             "#f0f921"
            ]
           ],
           "sequentialminus": [
            [
             0,
             "#0d0887"
            ],
            [
             0.1111111111111111,
             "#46039f"
            ],
            [
             0.2222222222222222,
             "#7201a8"
            ],
            [
             0.3333333333333333,
             "#9c179e"
            ],
            [
             0.4444444444444444,
             "#bd3786"
            ],
            [
             0.5555555555555556,
             "#d8576b"
            ],
            [
             0.6666666666666666,
             "#ed7953"
            ],
            [
             0.7777777777777778,
             "#fb9f3a"
            ],
            [
             0.8888888888888888,
             "#fdca26"
            ],
            [
             1,
             "#f0f921"
            ]
           ]
          },
          "colorway": [
           "#636efa",
           "#EF553B",
           "#00cc96",
           "#ab63fa",
           "#FFA15A",
           "#19d3f3",
           "#FF6692",
           "#B6E880",
           "#FF97FF",
           "#FECB52"
          ],
          "font": {
           "color": "#2a3f5f"
          },
          "geo": {
           "bgcolor": "white",
           "lakecolor": "white",
           "landcolor": "#E5ECF6",
           "showlakes": true,
           "showland": true,
           "subunitcolor": "white"
          },
          "hoverlabel": {
           "align": "left"
          },
          "hovermode": "closest",
          "mapbox": {
           "style": "light"
          },
          "paper_bgcolor": "white",
          "plot_bgcolor": "#E5ECF6",
          "polar": {
           "angularaxis": {
            "gridcolor": "white",
            "linecolor": "white",
            "ticks": ""
           },
           "bgcolor": "#E5ECF6",
           "radialaxis": {
            "gridcolor": "white",
            "linecolor": "white",
            "ticks": ""
           }
          },
          "scene": {
           "xaxis": {
            "backgroundcolor": "#E5ECF6",
            "gridcolor": "white",
            "gridwidth": 2,
            "linecolor": "white",
            "showbackground": true,
            "ticks": "",
            "zerolinecolor": "white"
           },
           "yaxis": {
            "backgroundcolor": "#E5ECF6",
            "gridcolor": "white",
            "gridwidth": 2,
            "linecolor": "white",
            "showbackground": true,
            "ticks": "",
            "zerolinecolor": "white"
           },
           "zaxis": {
            "backgroundcolor": "#E5ECF6",
            "gridcolor": "white",
            "gridwidth": 2,
            "linecolor": "white",
            "showbackground": true,
            "ticks": "",
            "zerolinecolor": "white"
           }
          },
          "shapedefaults": {
           "line": {
            "color": "#2a3f5f"
           }
          },
          "ternary": {
           "aaxis": {
            "gridcolor": "white",
            "linecolor": "white",
            "ticks": ""
           },
           "baxis": {
            "gridcolor": "white",
            "linecolor": "white",
            "ticks": ""
           },
           "bgcolor": "#E5ECF6",
           "caxis": {
            "gridcolor": "white",
            "linecolor": "white",
            "ticks": ""
           }
          },
          "title": {
           "x": 0.05
          },
          "xaxis": {
           "automargin": true,
           "gridcolor": "white",
           "linecolor": "white",
           "ticks": "",
           "title": {
            "standoff": 15
           },
           "zerolinecolor": "white",
           "zerolinewidth": 2
          },
          "yaxis": {
           "automargin": true,
           "gridcolor": "white",
           "linecolor": "white",
           "ticks": "",
           "title": {
            "standoff": 15
           },
           "zerolinecolor": "white",
           "zerolinewidth": 2
          }
         }
        },
        "title": {
         "text": "Number of minutes for each channel & category for 2022-11-05"
        },
        "xaxis": {
         "anchor": "y",
         "domain": [
          0,
          1
         ],
         "title": {
          "text": ""
         }
        },
        "yaxis": {
         "anchor": "x",
         "domain": [
          0,
          1
         ],
         "title": {
          "text": ""
         }
        }
       }
      }
     },
     "metadata": {},
     "output_type": "display_data"
    },
    {
     "data": {
      "application/vnd.plotly.v1+json": {
       "config": {
        "plotlyServerURL": "https://plot.ly"
       },
       "data": [
        {
         "alignmentgroup": "True",
         "customdata": [
          [
           "6ter",
           6,
           30
          ],
          [
           "6ter",
           12,
           28.75
          ],
          [
           "6ter",
           3,
           85
          ],
          [
           "6ter",
           1,
           125
          ],
          [
           "6ter",
           1,
           290
          ],
          [
           "6ter",
           1,
           50
          ],
          [
           "6ter",
           1,
           105
          ],
          [
           "6ter",
           1,
           105
          ]
         ],
         "hovertemplate": "channel_name=%{customdata[0]}<br>category_text=%{x}<br>sum=%{y}<br>count=%{customdata[1]}<br>mean=%{customdata[2]}<extra></extra>",
         "legendgroup": "6ter",
         "marker": {
          "color": "#636efa",
          "pattern": {
           "shape": ""
          }
         },
         "name": "6ter",
         "offsetgroup": "6ter",
         "orientation": "v",
         "showlegend": true,
         "textposition": "auto",
         "type": "bar",
         "x": [
          "documentaire animalier",
          "documentaire téléréalité",
          "magazine culinaire",
          "magazine de télé-achat",
          "programme indéterminé",
          "série policière",
          "téléfilm dramatique",
          "téléfilm humoristique"
         ],
         "xaxis": "x",
         "y": [
          180,
          345,
          255,
          125,
          290,
          50,
          105,
          105
         ],
         "yaxis": "y"
        },
        {
         "alignmentgroup": "True",
         "customdata": [
          [
           "Arte",
           1,
           0
          ],
          [
           "Arte",
           1,
           45
          ],
          [
           "Arte",
           1,
           31
          ],
          [
           "Arte",
           1,
           90
          ],
          [
           "Arte",
           1,
           10
          ],
          [
           "Arte",
           1,
           20
          ],
          [
           "Arte",
           1,
           30
          ]
         ],
         "hovertemplate": "channel_name=%{customdata[0]}<br>category_text=%{x}<br>sum=%{y}<br>count=%{customdata[1]}<br>mean=%{customdata[2]}<extra></extra>",
         "legendgroup": "Arte",
         "marker": {
          "color": "#EF553B",
          "pattern": {
           "shape": ""
          }
         },
         "name": "Arte",
         "offsetgroup": "Arte",
         "orientation": "v",
         "showlegend": true,
         "textposition": "auto",
         "type": "bar",
         "x": [
          "autre",
          "documentaire nature",
          "documentaire société",
          "film : comédie",
          "magazine culturel",
          "magazine historique",
          "magazine musical"
         ],
         "xaxis": "x",
         "y": [
          0,
          45,
          31,
          90,
          10,
          20,
          30
         ],
         "yaxis": "y"
        },
        {
         "alignmentgroup": "True",
         "customdata": [
          [
           "BFMTV",
           1,
           240
          ],
          [
           "BFMTV",
           4,
           135
          ],
          [
           "BFMTV",
           3,
           100
          ],
          [
           "BFMTV",
           1,
           360
          ]
         ],
         "hovertemplate": "channel_name=%{customdata[0]}<br>category_text=%{x}<br>sum=%{y}<br>count=%{customdata[1]}<br>mean=%{customdata[2]}<extra></extra>",
         "legendgroup": "BFMTV",
         "marker": {
          "color": "#00cc96",
          "pattern": {
           "shape": ""
          }
         },
         "name": "BFMTV",
         "offsetgroup": "BFMTV",
         "orientation": "v",
         "showlegend": true,
         "textposition": "auto",
         "type": "bar",
         "x": [
          "journal",
          "magazine d'actualité",
          "magazine d'information",
          "programme indéterminé"
         ],
         "xaxis": "x",
         "y": [
          240,
          540,
          300,
          360
         ],
         "yaxis": "y"
        },
        {
         "alignmentgroup": "True",
         "customdata": [
          [
           "C8",
           1,
           126
          ],
          [
           "C8",
           3,
           63
          ],
          [
           "C8",
           1,
           1
          ],
          [
           "C8",
           1,
           2
          ],
          [
           "C8",
           3,
           76
          ],
          [
           "C8",
           1,
           20
          ],
          [
           "C8",
           2,
           104.5
          ],
          [
           "C8",
           1,
           169
          ],
          [
           "C8",
           1,
           69
          ],
          [
           "C8",
           1,
           95
          ],
          [
           "C8",
           1,
           309
          ]
         ],
         "hovertemplate": "channel_name=%{customdata[0]}<br>category_text=%{x}<br>sum=%{y}<br>count=%{customdata[1]}<br>mean=%{customdata[2]}<extra></extra>",
         "legendgroup": "C8",
         "marker": {
          "color": "#ab63fa",
          "pattern": {
           "shape": ""
          }
         },
         "name": "C8",
         "offsetgroup": "C8",
         "orientation": "v",
         "showlegend": true,
         "textposition": "auto",
         "type": "bar",
         "x": [
          "divertissement-humour",
          "documentaire histoire",
          "journal",
          "magazine de découvertes",
          "magazine de l'automobile",
          "magazine de l'emploi",
          "magazine de société",
          "magazine de télé-achat",
          "musique : dance music",
          "programme indéterminé",
          "sport : tennis"
         ],
         "xaxis": "x",
         "y": [
          126,
          189,
          1,
          2,
          228,
          20,
          209,
          169,
          69,
          95,
          309
         ],
         "yaxis": "y"
        },
        {
         "alignmentgroup": "True",
         "customdata": [
          [
           "CNEWS",
           4,
           3.25
          ],
          [
           "CNEWS",
           18,
           31.38888888888889
          ],
          [
           "CNEWS",
           3,
           23
          ],
          [
           "CNEWS",
           2,
           60.5
          ],
          [
           "CNEWS",
           2,
           132.5
          ],
          [
           "CNEWS",
           7,
           8.142857142857142
          ],
          [
           "CNEWS",
           1,
           27
          ],
          [
           "CNEWS",
           1,
           59
          ],
          [
           "CNEWS",
           2,
           28.5
          ],
          [
           "CNEWS",
           2,
           88
          ],
          [
           "CNEWS",
           23,
           1.3043478260869565
          ]
         ],
         "hovertemplate": "channel_name=%{customdata[0]}<br>category_text=%{x}<br>sum=%{y}<br>count=%{customdata[1]}<br>mean=%{customdata[2]}<extra></extra>",
         "legendgroup": "CNEWS",
         "marker": {
          "color": "#FFA15A",
          "pattern": {
           "shape": ""
          }
         },
         "name": "CNEWS",
         "offsetgroup": "CNEWS",
         "orientation": "v",
         "showlegend": true,
         "textposition": "auto",
         "type": "bar",
         "x": [
          "divertissement",
          "journal",
          "magazine culturel",
          "magazine d'actualité",
          "magazine d'information",
          "magazine de l'économie",
          "magazine de la santé",
          "magazine de société",
          "magazine historique",
          "magazine politique",
          "météo"
         ],
         "xaxis": "x",
         "y": [
          13,
          565,
          69,
          121,
          265,
          57,
          27,
          59,
          57,
          176,
          30
         ],
         "yaxis": "y"
        },
        {
         "alignmentgroup": "True",
         "customdata": [
          [
           "CSTAR",
           7,
           97.14285714285714
          ],
          [
           "CSTAR",
           1,
           4
          ],
          [
           "CSTAR",
           5,
           25
          ],
          [
           "CSTAR",
           7,
           34.285714285714285
          ],
          [
           "CSTAR",
           4,
           101.5
          ]
         ],
         "hovertemplate": "channel_name=%{customdata[0]}<br>category_text=%{x}<br>sum=%{y}<br>count=%{customdata[1]}<br>mean=%{customdata[2]}<extra></extra>",
         "legendgroup": "CSTAR",
         "marker": {
          "color": "#19d3f3",
          "pattern": {
           "shape": ""
          }
         },
         "name": "CSTAR",
         "offsetgroup": "CSTAR",
         "orientation": "v",
         "showlegend": true,
         "textposition": "auto",
         "type": "bar",
         "x": [
          "clips",
          "divertissement",
          "documentaire société",
          "documentaire téléréalité",
          "magazine de reportages"
         ],
         "xaxis": "x",
         "y": [
          680,
          4,
          125,
          240,
          406
         ],
         "yaxis": "y"
        },
        {
         "alignmentgroup": "True",
         "customdata": [
          [
           "Canal+",
           3,
           28.333333333333332
          ],
          [
           "Canal+",
           1,
           18
          ],
          [
           "Canal+",
           1,
           44
          ],
          [
           "Canal+",
           2,
           89.5
          ],
          [
           "Canal+",
           1,
           18
          ],
          [
           "Canal+",
           1,
           109
          ],
          [
           "Canal+",
           1,
           111
          ],
          [
           "Canal+",
           1,
           119
          ],
          [
           "Canal+",
           2,
           35.5
          ],
          [
           "Canal+",
           1,
           71
          ],
          [
           "Canal+",
           4,
           72.5
          ],
          [
           "Canal+",
           2,
           53.5
          ],
          [
           "Canal+",
           2,
           55
          ]
         ],
         "hovertemplate": "channel_name=%{customdata[0]}<br>category_text=%{x}<br>sum=%{y}<br>count=%{customdata[1]}<br>mean=%{customdata[2]}<extra></extra>",
         "legendgroup": "Canal+",
         "marker": {
          "color": "#FF6692",
          "pattern": {
           "shape": ""
          }
         },
         "name": "Canal+",
         "offsetgroup": "Canal+",
         "orientation": "v",
         "showlegend": true,
         "textposition": "auto",
         "type": "bar",
         "x": [
          "divertissement",
          "documentaire culture",
          "documentaire nature",
          "film : comédie",
          "film : court métrage",
          "film d'aventures",
          "film d'horreur",
          "film pour la jeunesse",
          "magazine du cinéma",
          "sport : multisports",
          "sport : rugby",
          "série dramatique",
          "série historique"
         ],
         "xaxis": "x",
         "y": [
          85,
          18,
          44,
          179,
          18,
          109,
          111,
          119,
          71,
          71,
          290,
          107,
          110
         ],
         "yaxis": "y"
        },
        {
         "alignmentgroup": "True",
         "customdata": [
          [
           "Chérie 25",
           12,
           69.16666666666667
          ],
          [
           "Chérie 25",
           1,
           180
          ],
          [
           "Chérie 25",
           1,
           325
          ],
          [
           "Chérie 25",
           2,
           65
          ]
         ],
         "hovertemplate": "channel_name=%{customdata[0]}<br>category_text=%{x}<br>sum=%{y}<br>count=%{customdata[1]}<br>mean=%{customdata[2]}<extra></extra>",
         "legendgroup": "Chérie 25",
         "marker": {
          "color": "#B6E880",
          "pattern": {
           "shape": ""
          }
         },
         "name": "Chérie 25",
         "offsetgroup": "Chérie 25",
         "orientation": "v",
         "showlegend": true,
         "textposition": "auto",
         "type": "bar",
         "x": [
          "magazine de société",
          "magazine de télé-achat",
          "programme indéterminé",
          "série dramatique"
         ],
         "xaxis": "x",
         "y": [
          830,
          180,
          325,
          130
         ],
         "yaxis": "y"
        },
        {
         "alignmentgroup": "True",
         "customdata": [
          [
           "France 2",
           8,
           40
          ],
          [
           "France 2",
           2,
           5
          ],
          [
           "France 2",
           1,
           10
          ],
          [
           "France 2",
           4,
           23.75
          ],
          [
           "France 2",
           1,
           35
          ],
          [
           "France 2",
           2,
           12.5
          ],
          [
           "France 2",
           3,
           40
          ],
          [
           "France 2",
           2,
           82.5
          ],
          [
           "France 2",
           1,
           59
          ],
          [
           "France 2",
           1,
           5
          ],
          [
           "France 2",
           2,
           52.5
          ],
          [
           "France 2",
           2,
           7.5
          ],
          [
           "France 2",
           4,
           6.5
          ],
          [
           "France 2",
           1,
           135
          ],
          [
           "France 2",
           2,
           57.5
          ],
          [
           "France 2",
           2,
           97.5
          ]
         ],
         "hovertemplate": "channel_name=%{customdata[0]}<br>category_text=%{x}<br>sum=%{y}<br>count=%{customdata[1]}<br>mean=%{customdata[2]}<extra></extra>",
         "legendgroup": "France 2",
         "marker": {
          "color": "#FF97FF",
          "pattern": {
           "shape": ""
          }
         },
         "name": "France 2",
         "offsetgroup": "France 2",
         "orientation": "v",
         "showlegend": true,
         "textposition": "auto",
         "type": "bar",
         "x": [
          "divertissement : jeu",
          "documentaire découvertes",
          "documentaire nature",
          "journal",
          "magazine d'actualité",
          "magazine d'information",
          "magazine de l'art de vivre",
          "magazine de services",
          "magazine de société",
          "magazine du consommateur",
          "magazine judiciaire",
          "magazine sportif",
          "météo",
          "sport : rugby",
          "série de suspense",
          "talk-show"
         ],
         "xaxis": "x",
         "y": [
          320,
          10,
          10,
          95,
          35,
          25,
          120,
          165,
          59,
          5,
          105,
          15,
          26,
          135,
          115,
          195
         ],
         "yaxis": "y"
        },
        {
         "alignmentgroup": "True",
         "customdata": [
          [
           "France 3",
           5,
           42
          ],
          [
           "France 3",
           1,
           100
          ],
          [
           "France 3",
           1,
           70
          ],
          [
           "France 3",
           1,
           31
          ],
          [
           "France 3",
           1,
           25
          ],
          [
           "France 3",
           1,
           83
          ],
          [
           "France 3",
           17,
           7.0588235294117645
          ],
          [
           "France 3",
           1,
           5
          ],
          [
           "France 3",
           5,
           22
          ],
          [
           "France 3",
           4,
           20
          ],
          [
           "France 3",
           1,
           8
          ],
          [
           "France 3",
           1,
           1
          ],
          [
           "France 3",
           1,
           10
          ],
          [
           "France 3",
           2,
           3
          ],
          [
           "France 3",
           1,
           30
          ],
          [
           "France 3",
           2,
           2.5
          ],
          [
           "France 3",
           2,
           35
          ],
          [
           "France 3",
           1,
           5
          ],
          [
           "France 3",
           6,
           5.166666666666667
          ],
          [
           "France 3",
           1,
           15
          ],
          [
           "France 3",
           1,
           105
          ],
          [
           "France 3",
           1,
           30
          ],
          [
           "France 3",
           16,
           7.1875
          ],
          [
           "France 3",
           2,
           92.5
          ]
         ],
         "hovertemplate": "channel_name=%{customdata[0]}<br>category_text=%{x}<br>sum=%{y}<br>count=%{customdata[1]}<br>mean=%{customdata[2]}<extra></extra>",
         "legendgroup": "France 3",
         "marker": {
          "color": "#FECB52",
          "pattern": {
           "shape": ""
          }
         },
         "name": "France 3",
         "offsetgroup": "France 3",
         "orientation": "v",
         "showlegend": true,
         "textposition": "auto",
         "type": "bar",
         "x": [
          "divertissement : jeu",
          "divertissement-humour",
          "documentaire musique",
          "documentaire société",
          "feuilleton réaliste",
          "film : drame",
          "jeunesse : dessin animé dessin animé",
          "jeunesse : emission jeunesse",
          "journal",
          "magazine culinaire",
          "magazine de la décoration",
          "magazine du cinéma",
          "magazine du consommateur",
          "magazine littéraire",
          "magazine musical",
          "magazine politique",
          "magazine régional",
          "magazine sportif",
          "météo",
          "sport : multisports",
          "sport : patinage artistique",
          "sport : rugby",
          "série d'animation",
          "série policière"
         ],
         "xaxis": "x",
         "y": [
          210,
          100,
          70,
          31,
          25,
          83,
          120,
          5,
          110,
          80,
          8,
          1,
          10,
          6,
          30,
          5,
          70,
          5,
          31,
          15,
          105,
          30,
          115,
          185
         ],
         "yaxis": "y"
        },
        {
         "alignmentgroup": "True",
         "customdata": [
          [
           "France 4",
           3,
           13.333333333333334
          ],
          [
           "France 4",
           2,
           30
          ],
          [
           "France 4",
           1,
           60
          ],
          [
           "France 4",
           3,
           21.666666666666668
          ],
          [
           "France 4",
           3,
           3.6666666666666665
          ],
          [
           "France 4",
           1,
           5
          ],
          [
           "France 4",
           3,
           11.666666666666666
          ],
          [
           "France 4",
           2,
           37.5
          ],
          [
           "France 4",
           1,
           115
          ],
          [
           "France 4",
           64,
           10.140625
          ],
          [
           "France 4",
           6,
           21.666666666666668
          ]
         ],
         "hovertemplate": "channel_name=%{customdata[0]}<br>category_text=%{x}<br>sum=%{y}<br>count=%{customdata[1]}<br>mean=%{customdata[2]}<extra></extra>",
         "legendgroup": "France 4",
         "marker": {
          "color": "#636efa",
          "pattern": {
           "shape": ""
          }
         },
         "name": "France 4",
         "offsetgroup": "France 4",
         "orientation": "v",
         "showlegend": true,
         "textposition": "auto",
         "type": "bar",
         "x": [
          "documentaire animalier",
          "documentaire culture",
          "documentaire société",
          "jeunesse : dessin animé dessin animé",
          "jeunesse : emission jeunesse",
          "magazine du consommateur",
          "magazine jeunesse",
          "magazine musical",
          "musique : contemporain",
          "série d'animation",
          "série jeunesse"
         ],
         "xaxis": "x",
         "y": [
          40,
          60,
          60,
          65,
          11,
          5,
          35,
          75,
          115,
          649,
          130
         ],
         "yaxis": "y"
        },
        {
         "alignmentgroup": "True",
         "customdata": [
          [
           "France 5",
           1,
           35
          ],
          [
           "France 5",
           1,
           60
          ],
          [
           "France 5",
           3,
           48.333333333333336
          ],
          [
           "France 5",
           1,
           60
          ],
          [
           "France 5",
           1,
           60
          ],
          [
           "France 5",
           1,
           1
          ],
          [
           "France 5",
           2,
           40
          ],
          [
           "France 5",
           2,
           90
          ],
          [
           "France 5",
           1,
           130
          ],
          [
           "France 5",
           1,
           5
          ],
          [
           "France 5",
           2,
           57.5
          ],
          [
           "France 5",
           1,
           5
          ],
          [
           "France 5",
           1,
           5
          ],
          [
           "France 5",
           1,
           5
          ],
          [
           "France 5",
           35,
           8.4
          ],
          [
           "France 5",
           4,
           48.75
          ]
         ],
         "hovertemplate": "channel_name=%{customdata[0]}<br>category_text=%{x}<br>sum=%{y}<br>count=%{customdata[1]}<br>mean=%{customdata[2]}<extra></extra>",
         "legendgroup": "France 5",
         "marker": {
          "color": "#EF553B",
          "pattern": {
           "shape": ""
          }
         },
         "name": "France 5",
         "offsetgroup": "France 5",
         "orientation": "v",
         "showlegend": true,
         "textposition": "auto",
         "type": "bar",
         "x": [
          "documentaire animalier",
          "documentaire aventures",
          "documentaire découvertes",
          "documentaire histoire",
          "documentaire santé",
          "jeunesse : emission jeunesse",
          "magazine d'information",
          "magazine de découvertes",
          "magazine de reportages",
          "magazine de services",
          "magazine du jardinage",
          "magazine littéraire",
          "magazine sportif",
          "magazine éducatif",
          "série d'animation",
          "talk-show"
         ],
         "xaxis": "x",
         "y": [
          35,
          60,
          145,
          60,
          60,
          1,
          80,
          180,
          130,
          5,
          115,
          5,
          5,
          5,
          294,
          195
         ],
         "yaxis": "y"
        },
        {
         "alignmentgroup": "True",
         "customdata": [
          [
           "Franceinfo",
           2,
           26
          ],
          [
           "Franceinfo",
           1,
           56
          ],
          [
           "Franceinfo",
           1,
           8
          ],
          [
           "Franceinfo",
           9,
           80
          ],
          [
           "Franceinfo",
           5,
           34.2
          ],
          [
           "Franceinfo",
           1,
           389
          ],
          [
           "Franceinfo",
           1,
           18
          ],
          [
           "Franceinfo",
           1,
           26
          ]
         ],
         "hovertemplate": "channel_name=%{customdata[0]}<br>category_text=%{x}<br>sum=%{y}<br>count=%{customdata[1]}<br>mean=%{customdata[2]}<extra></extra>",
         "legendgroup": "Franceinfo",
         "marker": {
          "color": "#00cc96",
          "pattern": {
           "shape": ""
          }
         },
         "name": "Franceinfo",
         "offsetgroup": "Franceinfo",
         "orientation": "v",
         "showlegend": true,
         "textposition": "auto",
         "type": "bar",
         "x": [
          "documentaire société",
          "débat",
          "interview",
          "journal",
          "magazine d'actualité",
          "magazine d'information",
          "magazine de l'économie",
          "magazine politique"
         ],
         "xaxis": "x",
         "y": [
          52,
          56,
          8,
          720,
          171,
          389,
          18,
          26
         ],
         "yaxis": "y"
        },
        {
         "alignmentgroup": "True",
         "customdata": [
          [
           "Gulli",
           2,
           90
          ],
          [
           "Gulli",
           26,
           12.884615384615385
          ],
          [
           "Gulli",
           3,
           26.666666666666668
          ],
          [
           "Gulli",
           1,
           2
          ],
          [
           "Gulli",
           2,
           1
          ],
          [
           "Gulli",
           36,
           13.916666666666666
          ],
          [
           "Gulli",
           2,
           27.5
          ],
          [
           "Gulli",
           3,
           30
          ],
          [
           "Gulli",
           3,
           31.666666666666668
          ],
          [
           "Gulli",
           1,
           95
          ]
         ],
         "hovertemplate": "channel_name=%{customdata[0]}<br>category_text=%{x}<br>sum=%{y}<br>count=%{customdata[1]}<br>mean=%{customdata[2]}<extra></extra>",
         "legendgroup": "Gulli",
         "marker": {
          "color": "#ab63fa",
          "pattern": {
           "shape": ""
          }
         },
         "name": "Gulli",
         "offsetgroup": "Gulli",
         "orientation": "v",
         "showlegend": true,
         "textposition": "auto",
         "type": "bar",
         "x": [
          "film d'animation",
          "jeunesse : dessin animé dessin animé",
          "jeunesse : dessin animé manga",
          "magazine de l'environnement",
          "magazine éducatif",
          "série d'animation",
          "série d'aventures",
          "série de science-fiction",
          "série humoristique",
          "téléfilm fantastique"
         ],
         "xaxis": "x",
         "y": [
          180,
          335,
          80,
          2,
          2,
          501,
          55,
          90,
          95,
          95
         ],
         "yaxis": "y"
        },
        {
         "alignmentgroup": "True",
         "customdata": [
          [
           "L'Equipe",
           1,
           109
          ],
          [
           "L'Equipe",
           6,
           60
          ],
          [
           "L'Equipe",
           3,
           45.333333333333336
          ],
          [
           "L'Equipe",
           1,
           155
          ],
          [
           "L'Equipe",
           6,
           58.833333333333336
          ],
          [
           "L'Equipe",
           3,
           81.66666666666667
          ],
          [
           "L'Equipe",
           3,
           35
          ]
         ],
         "hovertemplate": "channel_name=%{customdata[0]}<br>category_text=%{x}<br>sum=%{y}<br>count=%{customdata[1]}<br>mean=%{customdata[2]}<extra></extra>",
         "legendgroup": "L'Equipe",
         "marker": {
          "color": "#FFA15A",
          "pattern": {
           "shape": ""
          }
         },
         "name": "L'Equipe",
         "offsetgroup": "L'Equipe",
         "orientation": "v",
         "showlegend": true,
         "textposition": "auto",
         "type": "bar",
         "x": [
          "divertissement : jeu",
          "magazine de l'automobile",
          "sport : football",
          "sport : mma",
          "sport : multisports",
          "sport : rugby",
          "sport : voile"
         ],
         "xaxis": "x",
         "y": [
          109,
          360,
          136,
          155,
          353,
          245,
          105
         ],
         "yaxis": "y"
        },
        {
         "alignmentgroup": "True",
         "customdata": [
          [
           "LCI",
           6,
           155
          ],
          [
           "LCI",
           1,
           120
          ],
          [
           "LCI",
           1,
           390
          ]
         ],
         "hovertemplate": "channel_name=%{customdata[0]}<br>category_text=%{x}<br>sum=%{y}<br>count=%{customdata[1]}<br>mean=%{customdata[2]}<extra></extra>",
         "legendgroup": "LCI",
         "marker": {
          "color": "#19d3f3",
          "pattern": {
           "shape": ""
          }
         },
         "name": "LCI",
         "offsetgroup": "LCI",
         "orientation": "v",
         "showlegend": true,
         "textposition": "auto",
         "type": "bar",
         "x": [
          "magazine d'actualité",
          "magazine politique",
          "programme indéterminé"
         ],
         "xaxis": "x",
         "y": [
          930,
          120,
          390
         ],
         "yaxis": "y"
        },
        {
         "alignmentgroup": "True",
         "customdata": [
          [
           "La Chaîne parlementaire",
           2,
           56
          ],
          [
           "La Chaîne parlementaire",
           1,
           60
          ],
          [
           "La Chaîne parlementaire",
           4,
           41.75
          ],
          [
           "La Chaîne parlementaire",
           4,
           39.25
          ],
          [
           "La Chaîne parlementaire",
           3,
           60
          ],
          [
           "La Chaîne parlementaire",
           2,
           30
          ],
          [
           "La Chaîne parlementaire",
           2,
           28.5
          ],
          [
           "La Chaîne parlementaire",
           1,
           30
          ],
          [
           "La Chaîne parlementaire",
           2,
           28.5
          ],
          [
           "La Chaîne parlementaire",
           1,
           120
          ],
          [
           "La Chaîne parlementaire",
           11,
           38.45454545454545
          ]
         ],
         "hovertemplate": "channel_name=%{customdata[0]}<br>category_text=%{x}<br>sum=%{y}<br>count=%{customdata[1]}<br>mean=%{customdata[2]}<extra></extra>",
         "legendgroup": "La Chaîne parlementaire",
         "marker": {
          "color": "#FF6692",
          "pattern": {
           "shape": ""
          }
         },
         "name": "La Chaîne parlementaire",
         "offsetgroup": "La Chaîne parlementaire",
         "orientation": "v",
         "showlegend": true,
         "textposition": "auto",
         "type": "bar",
         "x": [
          "documentaire histoire",
          "documentaire politique",
          "documentaire société",
          "débat",
          "débat parlementaire",
          "magazine d'actualité",
          "magazine d'information",
          "magazine de découvertes",
          "magazine de société",
          "magazine des médias",
          "magazine politique"
         ],
         "xaxis": "x",
         "y": [
          112,
          60,
          167,
          157,
          180,
          60,
          57,
          30,
          57,
          120,
          423
         ],
         "yaxis": "y"
        },
        {
         "alignmentgroup": "True",
         "customdata": [
          [
           "M6",
           1,
           60
          ],
          [
           "M6",
           1,
           305
          ],
          [
           "M6",
           1,
           90
          ],
          [
           "M6",
           2,
           32.5
          ],
          [
           "M6",
           3,
           50
          ],
          [
           "M6",
           1,
           190
          ],
          [
           "M6",
           3,
           8.333333333333334
          ],
          [
           "M6",
           1,
           195
          ],
          [
           "M6",
           3,
           48.333333333333336
          ],
          [
           "M6",
           2,
           60
          ],
          [
           "M6",
           1,
           55
          ]
         ],
         "hovertemplate": "channel_name=%{customdata[0]}<br>category_text=%{x}<br>sum=%{y}<br>count=%{customdata[1]}<br>mean=%{customdata[2]}<extra></extra>",
         "legendgroup": "M6",
         "marker": {
          "color": "#B6E880",
          "pattern": {
           "shape": ""
          }
         },
         "name": "M6",
         "offsetgroup": "M6",
         "orientation": "v",
         "showlegend": true,
         "textposition": "auto",
         "type": "bar",
         "x": [
          "clips",
          "divertissement : jeu",
          "film : thriller",
          "journal",
          "magazine d'actualité",
          "magazine du show-biz",
          "météo",
          "programme indéterminé",
          "série d'action",
          "série humoristique",
          "série policière"
         ],
         "xaxis": "x",
         "y": [
          60,
          305,
          90,
          65,
          150,
          190,
          25,
          195,
          145,
          120,
          55
         ],
         "yaxis": "y"
        },
        {
         "alignmentgroup": "True",
         "customdata": [
          [
           "NRJ 12",
           2,
           47.5
          ],
          [
           "NRJ 12",
           1,
           180
          ],
          [
           "NRJ 12",
           1,
           250
          ],
          [
           "NRJ 12",
           4,
           50
          ],
          [
           "NRJ 12",
           24,
           29.375
          ]
         ],
         "hovertemplate": "channel_name=%{customdata[0]}<br>category_text=%{x}<br>sum=%{y}<br>count=%{customdata[1]}<br>mean=%{customdata[2]}<extra></extra>",
         "legendgroup": "NRJ 12",
         "marker": {
          "color": "#FF97FF",
          "pattern": {
           "shape": ""
          }
         },
         "name": "NRJ 12",
         "offsetgroup": "NRJ 12",
         "orientation": "v",
         "showlegend": true,
         "textposition": "auto",
         "type": "bar",
         "x": [
          "divertissement-humour",
          "magazine de télé-achat",
          "programme indéterminé",
          "série fantastique",
          "série humoristique"
         ],
         "xaxis": "x",
         "y": [
          95,
          180,
          250,
          200,
          705
         ],
         "yaxis": "y"
        },
        {
         "alignmentgroup": "True",
         "customdata": [
          [
           "RMC Découverte",
           1,
           273
          ],
          [
           "RMC Découverte",
           4,
           53
          ],
          [
           "RMC Découverte",
           1,
           80
          ],
          [
           "RMC Découverte",
           1,
           70
          ],
          [
           "RMC Découverte",
           2,
           67.5
          ],
          [
           "RMC Découverte",
           11,
           55.90909090909091
          ],
          [
           "RMC Découverte",
           1,
           10
          ]
         ],
         "hovertemplate": "channel_name=%{customdata[0]}<br>category_text=%{x}<br>sum=%{y}<br>count=%{customdata[1]}<br>mean=%{customdata[2]}<extra></extra>",
         "legendgroup": "RMC Découverte",
         "marker": {
          "color": "#FECB52",
          "pattern": {
           "shape": ""
          }
         },
         "name": "RMC Découverte",
         "offsetgroup": "RMC Découverte",
         "orientation": "v",
         "showlegend": true,
         "textposition": "auto",
         "type": "bar",
         "x": [
          "autre",
          "documentaire aventures",
          "documentaire beaux-arts",
          "documentaire découvertes",
          "documentaire sciences et technique",
          "documentaire téléréalité",
          "sport : hippisme"
         ],
         "xaxis": "x",
         "y": [
          273,
          212,
          80,
          70,
          135,
          615,
          10
         ],
         "yaxis": "y"
        },
        {
         "alignmentgroup": "True",
         "customdata": [
          [
           "RMC Story",
           1,
           170
          ],
          [
           "RMC Story",
           3,
           65
          ],
          [
           "RMC Story",
           2,
           80
          ],
          [
           "RMC Story",
           4,
           68.75
          ],
          [
           "RMC Story",
           2,
           87.5
          ],
          [
           "RMC Story",
           8,
           55.625
          ]
         ],
         "hovertemplate": "channel_name=%{customdata[0]}<br>category_text=%{x}<br>sum=%{y}<br>count=%{customdata[1]}<br>mean=%{customdata[2]}<extra></extra>",
         "legendgroup": "RMC Story",
         "marker": {
          "color": "#636efa",
          "pattern": {
           "shape": ""
          }
         },
         "name": "RMC Story",
         "offsetgroup": "RMC Story",
         "orientation": "v",
         "showlegend": true,
         "textposition": "auto",
         "type": "bar",
         "x": [
          "autre",
          "documentaire découvertes",
          "documentaire justice",
          "documentaire société",
          "magazine de société",
          "série policière"
         ],
         "xaxis": "x",
         "y": [
          170,
          195,
          160,
          275,
          175,
          445
         ],
         "yaxis": "y"
        },
        {
         "alignmentgroup": "True",
         "customdata": [
          [
           "TF1",
           2,
           55
          ],
          [
           "TF1",
           1,
           60
          ],
          [
           "TF1",
           1,
           45
          ],
          [
           "TF1",
           2,
           40
          ],
          [
           "TF1",
           2,
           5
          ],
          [
           "TF1",
           1,
           70
          ],
          [
           "TF1",
           1,
           5
          ],
          [
           "TF1",
           2,
           77.5
          ],
          [
           "TF1",
           4,
           4.25
          ],
          [
           "TF1",
           1,
           65
          ],
          [
           "TF1",
           1,
           20
          ],
          [
           "TF1",
           2,
           50
          ],
          [
           "TF1",
           1,
           5
          ],
          [
           "TF1",
           3,
           6.666666666666667
          ],
          [
           "TF1",
           1,
           135
          ],
          [
           "TF1",
           5,
           62.6
          ],
          [
           "TF1",
           3,
           91.66666666666667
          ]
         ],
         "hovertemplate": "channel_name=%{customdata[0]}<br>category_text=%{x}<br>sum=%{y}<br>count=%{customdata[1]}<br>mean=%{customdata[2]}<extra></extra>",
         "legendgroup": "TF1",
         "marker": {
          "color": "#EF553B",
          "pattern": {
           "shape": ""
          }
         },
         "name": "TF1",
         "offsetgroup": "TF1",
         "orientation": "v",
         "showlegend": true,
         "textposition": "auto",
         "type": "bar",
         "x": [
          "divertissement",
          "divertissement : jeu",
          "divertissement-humour",
          "journal",
          "loterie",
          "magazine de l'environnement",
          "magazine de la gastronomie",
          "magazine de reportages",
          "magazine de services",
          "magazine de société",
          "magazine de télé-achat",
          "magazine du show-biz",
          "magazine sportif",
          "météo",
          "programme indéterminé",
          "sport : rugby",
          "téléréalité"
         ],
         "xaxis": "x",
         "y": [
          110,
          60,
          45,
          80,
          10,
          70,
          5,
          155,
          17,
          65,
          20,
          100,
          5,
          20,
          135,
          313,
          275
         ],
         "yaxis": "y"
        },
        {
         "alignmentgroup": "True",
         "customdata": [
          [
           "TF1 Séries Films",
           1,
           5
          ],
          [
           "TF1 Séries Films",
           1,
           295
          ],
          [
           "TF1 Séries Films",
           1,
           175
          ],
          [
           "TF1 Séries Films",
           2,
           25
          ],
          [
           "TF1 Séries Films",
           3,
           73.33333333333333
          ],
          [
           "TF1 Séries Films",
           1,
           100
          ],
          [
           "TF1 Séries Films",
           6,
           96.66666666666667
          ]
         ],
         "hovertemplate": "channel_name=%{customdata[0]}<br>category_text=%{x}<br>sum=%{y}<br>count=%{customdata[1]}<br>mean=%{customdata[2]}<extra></extra>",
         "legendgroup": "TF1 Séries Films",
         "marker": {
          "color": "#00cc96",
          "pattern": {
           "shape": ""
          }
         },
         "name": "TF1 Séries Films",
         "offsetgroup": "TF1 Séries Films",
         "orientation": "v",
         "showlegend": true,
         "textposition": "auto",
         "type": "bar",
         "x": [
          "magazine de la gastronomie",
          "programme indéterminé",
          "série humoristique",
          "série réaliste",
          "série sentimentale",
          "téléfilm dramatique",
          "téléfilm sentimental"
         ],
         "xaxis": "x",
         "y": [
          5,
          295,
          175,
          50,
          220,
          100,
          580
         ],
         "yaxis": "y"
        },
        {
         "alignmentgroup": "True",
         "customdata": [
          [
           "TFX",
           9,
           28.333333333333332
          ],
          [
           "TFX",
           1,
           5
          ],
          [
           "TFX",
           2,
           5
          ],
          [
           "TFX",
           2,
           132.5
          ],
          [
           "TFX",
           1,
           275
          ],
          [
           "TFX",
           19,
           37.10526315789474
          ]
         ],
         "hovertemplate": "channel_name=%{customdata[0]}<br>category_text=%{x}<br>sum=%{y}<br>count=%{customdata[1]}<br>mean=%{customdata[2]}<extra></extra>",
         "legendgroup": "TFX",
         "marker": {
          "color": "#ab63fa",
          "pattern": {
           "shape": ""
          }
         },
         "name": "TFX",
         "offsetgroup": "TFX",
         "orientation": "v",
         "showlegend": true,
         "textposition": "auto",
         "type": "bar",
         "x": [
          "jeunesse : dessin animé dessin animé",
          "journal",
          "magazine de la gastronomie",
          "magazine de société",
          "programme indéterminé",
          "téléréalité"
         ],
         "xaxis": "x",
         "y": [
          255,
          5,
          10,
          265,
          275,
          705
         ],
         "yaxis": "y"
        },
        {
         "alignmentgroup": "True",
         "customdata": [
          [
           "TMC",
           1,
           100
          ],
          [
           "TMC",
           1,
           5
          ],
          [
           "TMC",
           1,
           120
          ],
          [
           "TMC",
           2,
           5
          ],
          [
           "TMC",
           1,
           335
          ],
          [
           "TMC",
           1,
           120
          ],
          [
           "TMC",
           6,
           70.83333333333333
          ],
          [
           "TMC",
           1,
           70
          ],
          [
           "TMC",
           2,
           115
          ]
         ],
         "hovertemplate": "channel_name=%{customdata[0]}<br>category_text=%{x}<br>sum=%{y}<br>count=%{customdata[1]}<br>mean=%{customdata[2]}<extra></extra>",
         "legendgroup": "TMC",
         "marker": {
          "color": "#FFA15A",
          "pattern": {
           "shape": ""
          }
         },
         "name": "TMC",
         "offsetgroup": "TMC",
         "orientation": "v",
         "showlegend": true,
         "textposition": "auto",
         "type": "bar",
         "x": [
          "divertissement",
          "magazine de société",
          "magazine de télé-achat",
          "météo",
          "programme indéterminé",
          "sport : handball",
          "série policière",
          "série sentimentale",
          "téléfilm sentimental"
         ],
         "xaxis": "x",
         "y": [
          100,
          5,
          120,
          10,
          335,
          120,
          425,
          70,
          230
         ],
         "yaxis": "y"
        },
        {
         "alignmentgroup": "True",
         "customdata": [
          [
           "W9",
           2,
           117.5
          ],
          [
           "W9",
           2,
           90
          ],
          [
           "W9",
           1,
           170
          ],
          [
           "W9",
           1,
           5
          ],
          [
           "W9",
           1,
           180
          ],
          [
           "W9",
           3,
           156.66666666666666
          ],
          [
           "W9",
           3,
           103.33333333333333
          ]
         ],
         "hovertemplate": "channel_name=%{customdata[0]}<br>category_text=%{x}<br>sum=%{y}<br>count=%{customdata[1]}<br>mean=%{customdata[2]}<extra></extra>",
         "legendgroup": "W9",
         "marker": {
          "color": "#19d3f3",
          "pattern": {
           "shape": ""
          }
         },
         "name": "W9",
         "offsetgroup": "W9",
         "orientation": "v",
         "showlegend": true,
         "textposition": "auto",
         "type": "bar",
         "x": [
          "clips",
          "magazine de société",
          "magazine de télé-achat",
          "météo",
          "programme indéterminé",
          "série humoristique",
          "téléfilm sentimental"
         ],
         "xaxis": "x",
         "y": [
          235,
          180,
          170,
          5,
          180,
          470,
          310
         ],
         "yaxis": "y"
        }
       ],
       "layout": {
        "barmode": "relative",
        "legend": {
         "title": {
          "text": "channel_name"
         },
         "tracegroupgap": 0
        },
        "template": {
         "data": {
          "bar": [
           {
            "error_x": {
             "color": "#2a3f5f"
            },
            "error_y": {
             "color": "#2a3f5f"
            },
            "marker": {
             "line": {
              "color": "#E5ECF6",
              "width": 0.5
             },
             "pattern": {
              "fillmode": "overlay",
              "size": 10,
              "solidity": 0.2
             }
            },
            "type": "bar"
           }
          ],
          "barpolar": [
           {
            "marker": {
             "line": {
              "color": "#E5ECF6",
              "width": 0.5
             },
             "pattern": {
              "fillmode": "overlay",
              "size": 10,
              "solidity": 0.2
             }
            },
            "type": "barpolar"
           }
          ],
          "carpet": [
           {
            "aaxis": {
             "endlinecolor": "#2a3f5f",
             "gridcolor": "white",
             "linecolor": "white",
             "minorgridcolor": "white",
             "startlinecolor": "#2a3f5f"
            },
            "baxis": {
             "endlinecolor": "#2a3f5f",
             "gridcolor": "white",
             "linecolor": "white",
             "minorgridcolor": "white",
             "startlinecolor": "#2a3f5f"
            },
            "type": "carpet"
           }
          ],
          "choropleth": [
           {
            "colorbar": {
             "outlinewidth": 0,
             "ticks": ""
            },
            "type": "choropleth"
           }
          ],
          "contour": [
           {
            "colorbar": {
             "outlinewidth": 0,
             "ticks": ""
            },
            "colorscale": [
             [
              0,
              "#0d0887"
             ],
             [
              0.1111111111111111,
              "#46039f"
             ],
             [
              0.2222222222222222,
              "#7201a8"
             ],
             [
              0.3333333333333333,
              "#9c179e"
             ],
             [
              0.4444444444444444,
              "#bd3786"
             ],
             [
              0.5555555555555556,
              "#d8576b"
             ],
             [
              0.6666666666666666,
              "#ed7953"
             ],
             [
              0.7777777777777778,
              "#fb9f3a"
             ],
             [
              0.8888888888888888,
              "#fdca26"
             ],
             [
              1,
              "#f0f921"
             ]
            ],
            "type": "contour"
           }
          ],
          "contourcarpet": [
           {
            "colorbar": {
             "outlinewidth": 0,
             "ticks": ""
            },
            "type": "contourcarpet"
           }
          ],
          "heatmap": [
           {
            "colorbar": {
             "outlinewidth": 0,
             "ticks": ""
            },
            "colorscale": [
             [
              0,
              "#0d0887"
             ],
             [
              0.1111111111111111,
              "#46039f"
             ],
             [
              0.2222222222222222,
              "#7201a8"
             ],
             [
              0.3333333333333333,
              "#9c179e"
             ],
             [
              0.4444444444444444,
              "#bd3786"
             ],
             [
              0.5555555555555556,
              "#d8576b"
             ],
             [
              0.6666666666666666,
              "#ed7953"
             ],
             [
              0.7777777777777778,
              "#fb9f3a"
             ],
             [
              0.8888888888888888,
              "#fdca26"
             ],
             [
              1,
              "#f0f921"
             ]
            ],
            "type": "heatmap"
           }
          ],
          "heatmapgl": [
           {
            "colorbar": {
             "outlinewidth": 0,
             "ticks": ""
            },
            "colorscale": [
             [
              0,
              "#0d0887"
             ],
             [
              0.1111111111111111,
              "#46039f"
             ],
             [
              0.2222222222222222,
              "#7201a8"
             ],
             [
              0.3333333333333333,
              "#9c179e"
             ],
             [
              0.4444444444444444,
              "#bd3786"
             ],
             [
              0.5555555555555556,
              "#d8576b"
             ],
             [
              0.6666666666666666,
              "#ed7953"
             ],
             [
              0.7777777777777778,
              "#fb9f3a"
             ],
             [
              0.8888888888888888,
              "#fdca26"
             ],
             [
              1,
              "#f0f921"
             ]
            ],
            "type": "heatmapgl"
           }
          ],
          "histogram": [
           {
            "marker": {
             "pattern": {
              "fillmode": "overlay",
              "size": 10,
              "solidity": 0.2
             }
            },
            "type": "histogram"
           }
          ],
          "histogram2d": [
           {
            "colorbar": {
             "outlinewidth": 0,
             "ticks": ""
            },
            "colorscale": [
             [
              0,
              "#0d0887"
             ],
             [
              0.1111111111111111,
              "#46039f"
             ],
             [
              0.2222222222222222,
              "#7201a8"
             ],
             [
              0.3333333333333333,
              "#9c179e"
             ],
             [
              0.4444444444444444,
              "#bd3786"
             ],
             [
              0.5555555555555556,
              "#d8576b"
             ],
             [
              0.6666666666666666,
              "#ed7953"
             ],
             [
              0.7777777777777778,
              "#fb9f3a"
             ],
             [
              0.8888888888888888,
              "#fdca26"
             ],
             [
              1,
              "#f0f921"
             ]
            ],
            "type": "histogram2d"
           }
          ],
          "histogram2dcontour": [
           {
            "colorbar": {
             "outlinewidth": 0,
             "ticks": ""
            },
            "colorscale": [
             [
              0,
              "#0d0887"
             ],
             [
              0.1111111111111111,
              "#46039f"
             ],
             [
              0.2222222222222222,
              "#7201a8"
             ],
             [
              0.3333333333333333,
              "#9c179e"
             ],
             [
              0.4444444444444444,
              "#bd3786"
             ],
             [
              0.5555555555555556,
              "#d8576b"
             ],
             [
              0.6666666666666666,
              "#ed7953"
             ],
             [
              0.7777777777777778,
              "#fb9f3a"
             ],
             [
              0.8888888888888888,
              "#fdca26"
             ],
             [
              1,
              "#f0f921"
             ]
            ],
            "type": "histogram2dcontour"
           }
          ],
          "mesh3d": [
           {
            "colorbar": {
             "outlinewidth": 0,
             "ticks": ""
            },
            "type": "mesh3d"
           }
          ],
          "parcoords": [
           {
            "line": {
             "colorbar": {
              "outlinewidth": 0,
              "ticks": ""
             }
            },
            "type": "parcoords"
           }
          ],
          "pie": [
           {
            "automargin": true,
            "type": "pie"
           }
          ],
          "scatter": [
           {
            "fillpattern": {
             "fillmode": "overlay",
             "size": 10,
             "solidity": 0.2
            },
            "type": "scatter"
           }
          ],
          "scatter3d": [
           {
            "line": {
             "colorbar": {
              "outlinewidth": 0,
              "ticks": ""
             }
            },
            "marker": {
             "colorbar": {
              "outlinewidth": 0,
              "ticks": ""
             }
            },
            "type": "scatter3d"
           }
          ],
          "scattercarpet": [
           {
            "marker": {
             "colorbar": {
              "outlinewidth": 0,
              "ticks": ""
             }
            },
            "type": "scattercarpet"
           }
          ],
          "scattergeo": [
           {
            "marker": {
             "colorbar": {
              "outlinewidth": 0,
              "ticks": ""
             }
            },
            "type": "scattergeo"
           }
          ],
          "scattergl": [
           {
            "marker": {
             "colorbar": {
              "outlinewidth": 0,
              "ticks": ""
             }
            },
            "type": "scattergl"
           }
          ],
          "scattermapbox": [
           {
            "marker": {
             "colorbar": {
              "outlinewidth": 0,
              "ticks": ""
             }
            },
            "type": "scattermapbox"
           }
          ],
          "scatterpolar": [
           {
            "marker": {
             "colorbar": {
              "outlinewidth": 0,
              "ticks": ""
             }
            },
            "type": "scatterpolar"
           }
          ],
          "scatterpolargl": [
           {
            "marker": {
             "colorbar": {
              "outlinewidth": 0,
              "ticks": ""
             }
            },
            "type": "scatterpolargl"
           }
          ],
          "scatterternary": [
           {
            "marker": {
             "colorbar": {
              "outlinewidth": 0,
              "ticks": ""
             }
            },
            "type": "scatterternary"
           }
          ],
          "surface": [
           {
            "colorbar": {
             "outlinewidth": 0,
             "ticks": ""
            },
            "colorscale": [
             [
              0,
              "#0d0887"
             ],
             [
              0.1111111111111111,
              "#46039f"
             ],
             [
              0.2222222222222222,
              "#7201a8"
             ],
             [
              0.3333333333333333,
              "#9c179e"
             ],
             [
              0.4444444444444444,
              "#bd3786"
             ],
             [
              0.5555555555555556,
              "#d8576b"
             ],
             [
              0.6666666666666666,
              "#ed7953"
             ],
             [
              0.7777777777777778,
              "#fb9f3a"
             ],
             [
              0.8888888888888888,
              "#fdca26"
             ],
             [
              1,
              "#f0f921"
             ]
            ],
            "type": "surface"
           }
          ],
          "table": [
           {
            "cells": {
             "fill": {
              "color": "#EBF0F8"
             },
             "line": {
              "color": "white"
             }
            },
            "header": {
             "fill": {
              "color": "#C8D4E3"
             },
             "line": {
              "color": "white"
             }
            },
            "type": "table"
           }
          ]
         },
         "layout": {
          "annotationdefaults": {
           "arrowcolor": "#2a3f5f",
           "arrowhead": 0,
           "arrowwidth": 1
          },
          "autotypenumbers": "strict",
          "coloraxis": {
           "colorbar": {
            "outlinewidth": 0,
            "ticks": ""
           }
          },
          "colorscale": {
           "diverging": [
            [
             0,
             "#8e0152"
            ],
            [
             0.1,
             "#c51b7d"
            ],
            [
             0.2,
             "#de77ae"
            ],
            [
             0.3,
             "#f1b6da"
            ],
            [
             0.4,
             "#fde0ef"
            ],
            [
             0.5,
             "#f7f7f7"
            ],
            [
             0.6,
             "#e6f5d0"
            ],
            [
             0.7,
             "#b8e186"
            ],
            [
             0.8,
             "#7fbc41"
            ],
            [
             0.9,
             "#4d9221"
            ],
            [
             1,
             "#276419"
            ]
           ],
           "sequential": [
            [
             0,
             "#0d0887"
            ],
            [
             0.1111111111111111,
             "#46039f"
            ],
            [
             0.2222222222222222,
             "#7201a8"
            ],
            [
             0.3333333333333333,
             "#9c179e"
            ],
            [
             0.4444444444444444,
             "#bd3786"
            ],
            [
             0.5555555555555556,
             "#d8576b"
            ],
            [
             0.6666666666666666,
             "#ed7953"
            ],
            [
             0.7777777777777778,
             "#fb9f3a"
            ],
            [
             0.8888888888888888,
             "#fdca26"
            ],
            [
             1,
             "#f0f921"
            ]
           ],
           "sequentialminus": [
            [
             0,
             "#0d0887"
            ],
            [
             0.1111111111111111,
             "#46039f"
            ],
            [
             0.2222222222222222,
             "#7201a8"
            ],
            [
             0.3333333333333333,
             "#9c179e"
            ],
            [
             0.4444444444444444,
             "#bd3786"
            ],
            [
             0.5555555555555556,
             "#d8576b"
            ],
            [
             0.6666666666666666,
             "#ed7953"
            ],
            [
             0.7777777777777778,
             "#fb9f3a"
            ],
            [
             0.8888888888888888,
             "#fdca26"
            ],
            [
             1,
             "#f0f921"
            ]
           ]
          },
          "colorway": [
           "#636efa",
           "#EF553B",
           "#00cc96",
           "#ab63fa",
           "#FFA15A",
           "#19d3f3",
           "#FF6692",
           "#B6E880",
           "#FF97FF",
           "#FECB52"
          ],
          "font": {
           "color": "#2a3f5f"
          },
          "geo": {
           "bgcolor": "white",
           "lakecolor": "white",
           "landcolor": "#E5ECF6",
           "showlakes": true,
           "showland": true,
           "subunitcolor": "white"
          },
          "hoverlabel": {
           "align": "left"
          },
          "hovermode": "closest",
          "mapbox": {
           "style": "light"
          },
          "paper_bgcolor": "white",
          "plot_bgcolor": "#E5ECF6",
          "polar": {
           "angularaxis": {
            "gridcolor": "white",
            "linecolor": "white",
            "ticks": ""
           },
           "bgcolor": "#E5ECF6",
           "radialaxis": {
            "gridcolor": "white",
            "linecolor": "white",
            "ticks": ""
           }
          },
          "scene": {
           "xaxis": {
            "backgroundcolor": "#E5ECF6",
            "gridcolor": "white",
            "gridwidth": 2,
            "linecolor": "white",
            "showbackground": true,
            "ticks": "",
            "zerolinecolor": "white"
           },
           "yaxis": {
            "backgroundcolor": "#E5ECF6",
            "gridcolor": "white",
            "gridwidth": 2,
            "linecolor": "white",
            "showbackground": true,
            "ticks": "",
            "zerolinecolor": "white"
           },
           "zaxis": {
            "backgroundcolor": "#E5ECF6",
            "gridcolor": "white",
            "gridwidth": 2,
            "linecolor": "white",
            "showbackground": true,
            "ticks": "",
            "zerolinecolor": "white"
           }
          },
          "shapedefaults": {
           "line": {
            "color": "#2a3f5f"
           }
          },
          "ternary": {
           "aaxis": {
            "gridcolor": "white",
            "linecolor": "white",
            "ticks": ""
           },
           "baxis": {
            "gridcolor": "white",
            "linecolor": "white",
            "ticks": ""
           },
           "bgcolor": "#E5ECF6",
           "caxis": {
            "gridcolor": "white",
            "linecolor": "white",
            "ticks": ""
           }
          },
          "title": {
           "x": 0.05
          },
          "xaxis": {
           "automargin": true,
           "gridcolor": "white",
           "linecolor": "white",
           "ticks": "",
           "title": {
            "standoff": 15
           },
           "zerolinecolor": "white",
           "zerolinewidth": 2
          },
          "yaxis": {
           "automargin": true,
           "gridcolor": "white",
           "linecolor": "white",
           "ticks": "",
           "title": {
            "standoff": 15
           },
           "zerolinecolor": "white",
           "zerolinewidth": 2
          }
         }
        },
        "title": {
         "text": "Number of minutes for each category & channel 2022-11-05"
        },
        "xaxis": {
         "anchor": "y",
         "domain": [
          0,
          1
         ],
         "title": {
          "text": ""
         }
        },
        "yaxis": {
         "anchor": "x",
         "domain": [
          0,
          1
         ],
         "title": {
          "text": ""
         }
        }
       }
      }
     },
     "metadata": {},
     "output_type": "display_data"
    }
   ],
   "source": [
    "df1 = df_day.groupby([\"channel_name\", \"category_text\"]).length_minutes.agg([\"count\", \"sum\", \"mean\"]).reset_index()\n",
    "df1\n",
    "fig1 = px.bar(df1,\n",
    "              x=\"channel_name\",\n",
    "              y=\"sum\",\n",
    "              color=\"category_text\",\n",
    "              title=f\"Number of minutes for each channel & category for {start_date}\",\n",
    "              hover_data=df1.columns)\n",
    "_ = fig1.add_hline(\n",
    "    y=1440,\n",
    "    line_dash=\"dot\",\n",
    "    annotation_text=\"24 hours of content\", \n",
    "    annotation_position=\"top left\",\n",
    "    annotation_font_size=12,\n",
    "    annotation_font_color=\"black\"\n",
    ")\n",
    "_ = fig1.update_yaxes(title=\"\")\n",
    "_ = fig1.update_xaxes(title=\"\")\n",
    "fig1.show()\n",
    "\n",
    "fig2 = px.bar(df1,\n",
    "              x=\"category_text\",\n",
    "              y=\"sum\",\n",
    "              color=\"channel_name\",\n",
    "              title=f\"Number of minutes for each category & channel {start_date}\",\n",
    "              hover_data=df1.columns)\n",
    "_ = fig2.update_yaxes(title=\"\")\n",
    "_ = fig2.update_xaxes(title=\"\")\n",
    "fig2.show()"
   ]
  },
  {
   "cell_type": "code",
   "execution_count": 114,
   "id": "8db38253",
   "metadata": {},
   "outputs": [
    {
     "data": {
      "text/plain": [
       "[\"série d'animation\",\n",
       " 'journal',\n",
       " 'jeunesse : dessin animé dessin animé',\n",
       " 'météo',\n",
       " 'série humoristique',\n",
       " \"magazine d'actualité\",\n",
       " 'série policière',\n",
       " 'magazine de société',\n",
       " 'documentaire téléréalité',\n",
       " 'divertissement',\n",
       " 'divertissement : jeu',\n",
       " 'documentaire société',\n",
       " 'magazine politique',\n",
       " \"magazine d'information\",\n",
       " 'clips',\n",
       " 'sport : multisports',\n",
       " 'téléréalité',\n",
       " 'programme indéterminé',\n",
       " 'série réaliste',\n",
       " \"magazine de l'économie\",\n",
       " 'téléfilm sentimental',\n",
       " 'documentaire découvertes',\n",
       " 'magazine jeunesse',\n",
       " 'talk-show',\n",
       " 'série sentimentale',\n",
       " 'magazine de télé-achat',\n",
       " 'divertissement-humour',\n",
       " 'magazine de reportages',\n",
       " 'magazine de la gastronomie',\n",
       " 'magazine musical',\n",
       " 'magazine littéraire',\n",
       " 'magazine de services',\n",
       " 'série dramatique',\n",
       " 'magazine du consommateur',\n",
       " 'débat',\n",
       " 'documentaire animalier',\n",
       " 'jeunesse : emission jeunesse',\n",
       " 'magazine culturel',\n",
       " 'série fantastique',\n",
       " 'documentaire sciences et technique',\n",
       " 'magazine du cinéma',\n",
       " \"magazine de l'art de vivre\",\n",
       " 'magazine judiciaire',\n",
       " 'documentaire histoire',\n",
       " 'interview',\n",
       " 'sport : rugby',\n",
       " 'magazine de découvertes',\n",
       " 'magazine éducatif',\n",
       " 'magazine culinaire',\n",
       " 'magazine sportif',\n",
       " 'débat parlementaire',\n",
       " 'autre',\n",
       " 'série jeunesse',\n",
       " 'film : comédie',\n",
       " 'sport : football',\n",
       " \"film d'action\",\n",
       " \"magazine de l'automobile\",\n",
       " 'documentaire justice',\n",
       " 'documentaire culture',\n",
       " 'film : drame',\n",
       " 'magazine de la santé',\n",
       " 'téléfilm dramatique',\n",
       " 'documentaire nature',\n",
       " 'documentaire aventures',\n",
       " \"film d'animation\",\n",
       " 'feuilleton réaliste',\n",
       " \"série d'aventures\",\n",
       " \"magazine de l'environnement\",\n",
       " 'sport : fitness',\n",
       " 'feuilleton policier',\n",
       " 'documentaire civilisations',\n",
       " 'film : thriller',\n",
       " 'feuilleton sentimental',\n",
       " 'magazine animalier',\n",
       " 'film : court métrage',\n",
       " 'série historique',\n",
       " 'magazine historique',\n",
       " 'magazine religieux',\n",
       " 'magazine de la décoration',\n",
       " 'magazine régional',\n",
       " 'documentaire cinéma',\n",
       " 'film : comédie dramatique',\n",
       " 'sport : hippisme',\n",
       " 'documentaire gastronomie',\n",
       " 'documentaire environnement',\n",
       " 'documentaire pêche',\n",
       " 'film fantastique',\n",
       " 'documentaire sport',\n",
       " 'sport : biathlon',\n",
       " 'loterie',\n",
       " 'jeunesse : dessin animé manga',\n",
       " 'documentaire voyage',\n",
       " 'documentaire musique',\n",
       " 'théâtre : pièce de théâtre',\n",
       " \"série d'action\",\n",
       " 'humour',\n",
       " 'sport de force',\n",
       " 'sport : formule 1',\n",
       " 'magazine des médias',\n",
       " \"film d'aventures\",\n",
       " 'film de science-fiction',\n",
       " 'téléfilm romanesque',\n",
       " 'sport : golf',\n",
       " 'magazine du show-biz',\n",
       " 'sport : voile',\n",
       " 'documentaire politique',\n",
       " 'téléfilm policier',\n",
       " 'film de guerre',\n",
       " 'magazine du jardinage',\n",
       " 'série de science-fiction',\n",
       " 'documentaire santé',\n",
       " 'série de téléréalité',\n",
       " 'magazine de la mer',\n",
       " 'série culinaire',\n",
       " 'sport : motocyclisme',\n",
       " 'emission politique',\n",
       " 'sport : basket-ball',\n",
       " 'sport : mma',\n",
       " 'documentaire beaux-arts',\n",
       " 'film policier',\n",
       " 'documentaire art de vivre',\n",
       " \"film : court métrage d'animation\",\n",
       " 'musique : variétés',\n",
       " 'emission musicale',\n",
       " 'série de suspense',\n",
       " 'téléfilm humoristique',\n",
       " 'musique : pop %26 rock',\n",
       " 'musique : contemporain',\n",
       " \"film d'horreur\",\n",
       " 'sport : football américain',\n",
       " 'sports mécaniques',\n",
       " 'musique : jazz',\n",
       " 'documentaire education',\n",
       " 'magazine du court métrage',\n",
       " 'musique : reggae',\n",
       " 'film : comédie romantique',\n",
       " 'film pour la jeunesse',\n",
       " 'magazine du tourisme',\n",
       " 'série hospitalière',\n",
       " 'emission religieuse',\n",
       " 'opéra comique',\n",
       " 'film catastrophe',\n",
       " 'téléfilm érotique',\n",
       " 'sport : patinage artistique',\n",
       " 'documentaire fiction',\n",
       " 'variétés',\n",
       " 'musique : techno',\n",
       " 'sport : marathon',\n",
       " 'documentaire autre',\n",
       " \"magazine de l'emploi\",\n",
       " 'sport : tennis',\n",
       " 'téléfilm catastrophe',\n",
       " 'film : western',\n",
       " 'magazine scientifique',\n",
       " 'téléfilm fantastique',\n",
       " 'film : comédie sentimentale',\n",
       " 'sport : jt sport',\n",
       " 'musique : blues %26 soul',\n",
       " 'sport : endurance',\n",
       " 'sport : ski freestyle',\n",
       " 'sport : cyclo-cross',\n",
       " 'documentaire géopolitique',\n",
       " 'musique : rap',\n",
       " 'film : court métrage burlesque',\n",
       " 'film : court métrage dramatique',\n",
       " 'musical',\n",
       " \"téléfilm d'animation\",\n",
       " 'magazine médical',\n",
       " 'emission du bien-être',\n",
       " 'documentaire musique classique',\n",
       " 'musique : dance music',\n",
       " 'sport : handball',\n",
       " 'magazine de géopolitique',\n",
       " 'classique',\n",
       " 'magazine pornographique',\n",
       " 'film pornographique',\n",
       " 'film documentaire',\n",
       " 'film : drame historique',\n",
       " 'film : biographie',\n",
       " 'documentaire lettres',\n",
       " 'sport : triathlon',\n",
       " 'emission spéciale',\n",
       " 'jeunesse : dessin animé jeunesse',\n",
       " 'sport : cyclisme',\n",
       " 'film sentimental',\n",
       " 'documentaire rock-pop']"
      ]
     },
     "execution_count": 114,
     "metadata": {},
     "output_type": "execute_result"
    },
    {
     "data": {
      "text/plain": [
       "0  1                 \n",
       "   d'animation           1337\n",
       "   humoristique           504\n",
       "   policière              321\n",
       "   réaliste               135\n",
       "   sentimentale            87\n",
       "   dramatique              65\n",
       "   fantastique             53\n",
       "   jeunesse                30\n",
       "   d'aventures             18\n",
       "   historique              16\n",
       "   d'action                 9\n",
       "   culinaire                6\n",
       "   de science-fiction       6\n",
       "   de téléréalité           6\n",
       "   de suspense              4\n",
       "   hospitalière             2\n",
       "dtype: int64"
      ]
     },
     "execution_count": 114,
     "metadata": {},
     "output_type": "execute_result"
    },
    {
     "data": {
      "text/plain": [
       "0     1                        \n",
       "télé  sentimental                  117\n",
       "      comédie                       30\n",
       "      d'action                      29\n",
       "      drame                         23\n",
       "télé  dramatique                    20\n",
       "      d'animation                   19\n",
       "      thriller                      17\n",
       "      court métrage                 16\n",
       "      comédie dramatique            13\n",
       "      fantastique                   11\n",
       "      d'aventures                    8\n",
       "      de science-fiction             7\n",
       "télé  romanesque                     7\n",
       "      policier                       6\n",
       "      de guerre                      6\n",
       "      policier                       5\n",
       "      court métrage d'animation      4\n",
       "      d'horreur                      4\n",
       "télé  humoristique                   4\n",
       "      comédie romantique             3\n",
       "      pour la jeunesse               3\n",
       "télé  fantastique                    2\n",
       "      catastrophe                    2\n",
       "      western                        2\n",
       "télé  érotique                       2\n",
       "      catastrophe                    2\n",
       "      comédie sentimentale           2\n",
       "      sentimental                    1\n",
       "      pornographique                 1\n",
       "télé  d'animation                    1\n",
       "      drame historique               1\n",
       "      documentaire                   1\n",
       "      court métrage dramatique       1\n",
       "      court métrage burlesque        1\n",
       "      biographie                     1\n",
       "dtype: int64"
      ]
     },
     "execution_count": 114,
     "metadata": {},
     "output_type": "execute_result"
    },
    {
     "data": {
      "text/plain": [
       "0  1                        \n",
       "   dessin animé dessin animé    636\n",
       "   emission jeunesse             59\n",
       "   dessin animé manga            10\n",
       "   dessin animé jeunesse          1\n",
       "dtype: int64"
      ]
     },
     "execution_count": 114,
     "metadata": {},
     "output_type": "execute_result"
    },
    {
     "data": {
      "text/plain": [
       "0  1  \n",
       "   jeu    210\n",
       "dtype: int64"
      ]
     },
     "execution_count": 114,
     "metadata": {},
     "output_type": "execute_result"
    },
    {
     "data": {
      "text/plain": [
       "0  1                  \n",
       "   multisports            159\n",
       "   rugby                   44\n",
       "   football                29\n",
       "   fitness                 18\n",
       "   hippisme                13\n",
       "   biathlon                10\n",
       "   de force                 9\n",
       "   formule 1                8\n",
       "   golf                     7\n",
       "   voile                    7\n",
       "   mma                      5\n",
       "   motocyclisme             5\n",
       "   basket-ball              5\n",
       "   football américain       3\n",
       "   jt sport                 2\n",
       "   marathon                 2\n",
       "   patinage artistique      2\n",
       "   tennis                   2\n",
       "   handball                 1\n",
       "   endurance                1\n",
       "   cyclo-cross              1\n",
       "   cyclisme                 1\n",
       "   ski freestyle            1\n",
       "   triathlon                1\n",
       "dtype: int64"
      ]
     },
     "execution_count": 114,
     "metadata": {},
     "output_type": "execute_result"
    },
    {
     "data": {
      "text/plain": [
       "0  1                 \n",
       "   d'actualité           348\n",
       "   de société            311\n",
       "   politique             195\n",
       "   d'information         186\n",
       "   de l'économie         129\n",
       "   jeunesse               87\n",
       "   de télé-achat          84\n",
       "   de reportages          75\n",
       "   de la gastronomie      73\n",
       "   musical                71\n",
       "   littéraire             67\n",
       "   de services            65\n",
       "   du consommateur        64\n",
       "   culturel               57\n",
       "   du cinéma              50\n",
       "   de l'art de vivre      47\n",
       "   judiciaire             46\n",
       "   de découvertes         42\n",
       "   éducatif               37\n",
       "   culinaire              36\n",
       "   sportif                34\n",
       "   de l'automobile        29\n",
       "   de la santé            21\n",
       "   de l'environnement     18\n",
       "   animalier              17\n",
       "   historique             16\n",
       "   religieux              15\n",
       "   de la décoration       14\n",
       "   régional               14\n",
       "   des médias              8\n",
       "   du show-biz             7\n",
       "   du jardinage            6\n",
       "   de la mer               6\n",
       "   du tourisme             3\n",
       "   du court métrage        3\n",
       "   de l'emploi             2\n",
       "   scientifique            2\n",
       "   médical                 1\n",
       "   pornographique          1\n",
       "   de géopolitique         1\n",
       "dtype: int64"
      ]
     },
     "execution_count": 114,
     "metadata": {},
     "output_type": "execute_result"
    },
    {
     "data": {
      "text/plain": [
       "0  1                    \n",
       "   téléréalité              288\n",
       "   société                  201\n",
       "   découvertes               99\n",
       "   animalier                 60\n",
       "   sciences et technique     52\n",
       "   histoire                  45\n",
       "   justice                   24\n",
       "   culture                   23\n",
       "   nature                    20\n",
       "   aventures                 19\n",
       "   civilisations             17\n",
       "   cinéma                    14\n",
       "   gastronomie               12\n",
       "   sport                     11\n",
       "   environnement             11\n",
       "   pêche                     11\n",
       "   musique                   10\n",
       "   voyage                    10\n",
       "   politique                  7\n",
       "   santé                      6\n",
       "   beaux-arts                 5\n",
       "   art de vivre               4\n",
       "   education                  3\n",
       "   fiction                    2\n",
       "   autre                      2\n",
       "   lettres                    1\n",
       "   musique classique          1\n",
       "   géopolitique               1\n",
       "   rock-pop                   1\n",
       "dtype: int64"
      ]
     },
     "execution_count": 114,
     "metadata": {},
     "output_type": "execute_result"
    }
   ],
   "source": [
    "# Try to make sub-categories\n",
    "df_programs.category_text.value_counts().index.tolist()\n",
    "\n",
    "df_programs.category_text = df_programs.category_text.str.replace(\" : \", \" \")\n",
    "df_programs.category_text.str.split(\"série \", expand=True).value_counts()\n",
    "df_programs.category_text.str.split(\"film \", expand=True).value_counts()\n",
    "df_programs.category_text.str.split(\"jeunesse \", expand=True).value_counts()\n",
    "df_programs.category_text.str.split(\"divertissement \", expand=True).value_counts()\n",
    "df_programs.category_text.str.split(\"sport \", expand=True).value_counts()\n",
    "df_programs.category_text.str.split(\"magazine \", expand=True).value_counts()\n",
    "df_programs.category_text.str.split(\"documentaire \", expand=True).value_counts()"
   ]
  },
  {
   "cell_type": "code",
   "execution_count": 121,
   "id": "68806811",
   "metadata": {},
   "outputs": [],
   "source": [
    "def removeprefix(text):\n",
    "    for prefix in [\"de \", \"de la \", \"du \", \"de l'\", \"d'\"]:   \n",
    "        if text.startswith(prefix):\n",
    "            return text[len(prefix):]\n",
    "        return text\n",
    "\n",
    "cat_prefixes = [\n",
    "    \"série\",\n",
    "    \"film\",\n",
    "    \"jeunesse\",\n",
    "    \"divertissement\",\n",
    "    \"sport\",\n",
    "    \"magazine\",\n",
    "    \"documentaire\",\n",
    "]\n",
    "\n",
    "def split_category(cat_text):\n",
    "    main_cat = cat_text\n",
    "    sub_cat = None\n",
    "    \n",
    "    for cat_prefix in cat_prefixes:\n",
    "        if cat_text.startswith(cat_prefix + \" \"):\n",
    "            main_cat = cat_prefix\n",
    "            sub_cat = cat_text.split(cat_prefix + \" \")[1].removeprefix()\n",
    "        \n",
    "            return main_cat, sub_cat\n",
    "    \n",
    "    return main_cat, sub_cat"
   ]
  },
  {
   "cell_type": "code",
   "execution_count": 120,
   "id": "f58323c5",
   "metadata": {},
   "outputs": [
    {
     "data": {
      "text/plain": [
       "sentimental                  118\n",
       "comédie                       30\n",
       "d'action                      29\n",
       "drame                         23\n",
       "d'animation                   20\n",
       "dramatique                    20\n",
       "thriller                      17\n",
       "court métrage                 16\n",
       "comédie dramatique            13\n",
       "fantastique                   13\n",
       "policier                      11\n",
       "d'aventures                    8\n",
       "romanesque                     7\n",
       "de science-fiction             7\n",
       "de guerre                      6\n",
       "catastrophe                    4\n",
       "court métrage d'animation      4\n",
       "humoristique                   4\n",
       "d'horreur                      4\n",
       "pour la jeunesse               3\n",
       "comédie romantique             3\n",
       "érotique                       2\n",
       "western                        2\n",
       "comédie sentimentale           2\n",
       "pornographique                 1\n",
       "biographie                     1\n",
       "drame historique               1\n",
       "documentaire                   1\n",
       "court métrage burlesque        1\n",
       "court métrage dramatique       1\n",
       "Name: 1, dtype: int64"
      ]
     },
     "execution_count": 120,
     "metadata": {},
     "output_type": "execute_result"
    }
   ],
   "source": [
    "df_programs.category_text.str.split(\"film \", expand=True)[1].value_counts()\n",
    "\n",
    "cat_text = df_programs.category_text.tolist()\n",
    "\n",
    "for split_category in [\"film\"]:\n",
    "    if split_category + \" \" in cat_text:\n",
    "        main_cat = split_category\n",
    "        sub_cat = cat_text.split(split_category + \" \")[1].removeprefix()"
   ]
  }
 ],
 "metadata": {
  "kernelspec": {
   "display_name": "quotaclimat",
   "language": "python",
   "name": "quotaclimat"
  },
  "language_info": {
   "codemirror_mode": {
    "name": "ipython",
    "version": 3
   },
   "file_extension": ".py",
   "mimetype": "text/x-python",
   "name": "python",
   "nbconvert_exporter": "python",
   "pygments_lexer": "ipython3",
   "version": "3.10.6"
  }
 },
 "nbformat": 4,
 "nbformat_minor": 5
}
