{
 "cells": [
  {
   "cell_type": "markdown",
   "id": "62a82991-9ba7-4f27-8f77-9efb4063242a",
   "metadata": {},
   "source": [
    "# Parse the XMLtv file from [XMLtv.ch](xmltv.ch)"
   ]
  },
  {
   "cell_type": "code",
   "execution_count": 45,
   "id": "95492133-3fcd-4ed6-93fd-8074dd24708c",
   "metadata": {},
   "outputs": [],
   "source": [
    "from io import BytesIO\n",
    "import pandas as pd\n",
    "from PIL import Image\n",
    "import requests\n",
    "import xmltodict\n",
    "import plotly.express as px\n",
    "\n",
    "pd.options.plotting.backend = \"plotly\"\n"
   ]
  },
  {
   "cell_type": "code",
   "execution_count": 46,
   "id": "df75165b-32fc-44f0-aa84-440aae067923",
   "metadata": {},
   "outputs": [],
   "source": [
    "# Get the latest verion of the file\n",
    "headers = {'User-Agent': 'Mozilla'}\n",
    "URL = \"https://xmltv.ch/xmltv/xmltv-tnt.xml\"\n",
    "\n",
    "response = requests.get(URL, headers=headers)\n",
    "with open(\"../data/xmltv-tnt.xml\", 'wb') as outfile:\n",
    "    _ = outfile.write(response.content)"
   ]
  },
  {
   "cell_type": "code",
   "execution_count": 47,
   "id": "0fbb6feb-2ec0-4cbd-9a49-ccad2e873634",
   "metadata": {},
   "outputs": [],
   "source": [
    "# Reading the data inside the xml\n",
    "with open('../data/xmltv-tnt.xml', 'r', encoding='utf-8') as f:\n",
    "    data = f.read()\n",
    "\n",
    "# Parsing\n",
    "data = xmltodict.parse(data)"
   ]
  },
  {
   "cell_type": "code",
   "execution_count": 48,
   "id": "dcb41bee-b4ad-4140-b491-25b5dbb36736",
   "metadata": {},
   "outputs": [
    {
     "data": {
      "text/html": [
       "<div>\n",
       "<style scoped>\n",
       "    .dataframe tbody tr th:only-of-type {\n",
       "        vertical-align: middle;\n",
       "    }\n",
       "\n",
       "    .dataframe tbody tr th {\n",
       "        vertical-align: top;\n",
       "    }\n",
       "\n",
       "    .dataframe thead th {\n",
       "        text-align: right;\n",
       "    }\n",
       "</style>\n",
       "<table border=\"1\" class=\"dataframe\">\n",
       "  <thead>\n",
       "    <tr style=\"text-align: right;\">\n",
       "      <th></th>\n",
       "      <th>channel_id</th>\n",
       "      <th>channel_name</th>\n",
       "      <th>channel_icon</th>\n",
       "    </tr>\n",
       "  </thead>\n",
       "  <tbody>\n",
       "    <tr>\n",
       "      <th>0</th>\n",
       "      <td>C192.api.telerama.fr</td>\n",
       "      <td>TF1</td>\n",
       "      <td>https://television.telerama.fr/sites/tr_master...</td>\n",
       "    </tr>\n",
       "    <tr>\n",
       "      <th>1</th>\n",
       "      <td>C4.api.telerama.fr</td>\n",
       "      <td>France 2</td>\n",
       "      <td>https://television.telerama.fr/sites/tr_master...</td>\n",
       "    </tr>\n",
       "    <tr>\n",
       "      <th>2</th>\n",
       "      <td>C80.api.telerama.fr</td>\n",
       "      <td>France 3</td>\n",
       "      <td>https://television.telerama.fr/sites/tr_master...</td>\n",
       "    </tr>\n",
       "    <tr>\n",
       "      <th>3</th>\n",
       "      <td>C34.api.telerama.fr</td>\n",
       "      <td>Canal+</td>\n",
       "      <td>https://television.telerama.fr/sites/tr_master...</td>\n",
       "    </tr>\n",
       "    <tr>\n",
       "      <th>4</th>\n",
       "      <td>C111.api.telerama.fr</td>\n",
       "      <td>Arte</td>\n",
       "      <td>https://television.telerama.fr/sites/tr_master...</td>\n",
       "    </tr>\n",
       "  </tbody>\n",
       "</table>\n",
       "</div>"
      ],
      "text/plain": [
       "             channel_id channel_name  \\\n",
       "0  C192.api.telerama.fr          TF1   \n",
       "1    C4.api.telerama.fr     France 2   \n",
       "2   C80.api.telerama.fr     France 3   \n",
       "3   C34.api.telerama.fr       Canal+   \n",
       "4  C111.api.telerama.fr         Arte   \n",
       "\n",
       "                                        channel_icon  \n",
       "0  https://television.telerama.fr/sites/tr_master...  \n",
       "1  https://television.telerama.fr/sites/tr_master...  \n",
       "2  https://television.telerama.fr/sites/tr_master...  \n",
       "3  https://television.telerama.fr/sites/tr_master...  \n",
       "4  https://television.telerama.fr/sites/tr_master...  "
      ]
     },
     "execution_count": 48,
     "metadata": {},
     "output_type": "execute_result"
    }
   ],
   "source": [
    "# channels to dataframe\n",
    "df_channels = pd.DataFrame(data[\"tv\"][\"channel\"])\n",
    "df_channels = pd.json_normalize(df_channels.to_dict(orient=\"records\"))\n",
    "df_channels.rename(columns={\"@id\": \"channel_id\", \"icon.@src\": \"channel_icon\", \"display-name\": \"channel_name\"}, inplace=True)\n",
    "\n",
    "df_channels.head()"
   ]
  },
  {
   "cell_type": "code",
   "execution_count": 49,
   "id": "48a123f4-cfb6-421b-beff-99263bbc7360",
   "metadata": {},
   "outputs": [
    {
     "data": {
      "text/html": [
       "<div>\n",
       "<style scoped>\n",
       "    .dataframe tbody tr th:only-of-type {\n",
       "        vertical-align: middle;\n",
       "    }\n",
       "\n",
       "    .dataframe tbody tr th {\n",
       "        vertical-align: top;\n",
       "    }\n",
       "\n",
       "    .dataframe thead th {\n",
       "        text-align: right;\n",
       "    }\n",
       "</style>\n",
       "<table border=\"1\" class=\"dataframe\">\n",
       "  <thead>\n",
       "    <tr style=\"text-align: right;\">\n",
       "      <th></th>\n",
       "      <th>start</th>\n",
       "      <th>stop</th>\n",
       "      <th>channel</th>\n",
       "      <th>title</th>\n",
       "      <th>subtitle</th>\n",
       "      <th>date</th>\n",
       "      <th>desc_lang</th>\n",
       "      <th>desc_text</th>\n",
       "      <th>category_lang</th>\n",
       "      <th>category_text</th>\n",
       "      <th>...</th>\n",
       "      <th>audio_stereo</th>\n",
       "      <th>rating_system</th>\n",
       "      <th>rating_value</th>\n",
       "      <th>rating_icon_src</th>\n",
       "      <th>starrating_value</th>\n",
       "      <th>subtitles_type</th>\n",
       "      <th>subtitles_language</th>\n",
       "      <th>channel_name</th>\n",
       "      <th>channel_icon</th>\n",
       "      <th>day</th>\n",
       "    </tr>\n",
       "  </thead>\n",
       "  <tbody>\n",
       "    <tr>\n",
       "      <th>0</th>\n",
       "      <td>2022-11-08 00:05:00+01:00</td>\n",
       "      <td>2022-11-08 00:55:00+01:00</td>\n",
       "      <td>C192.api.telerama.fr</td>\n",
       "      <td>New York : crime organisé</td>\n",
       "      <td>Une opération à risques</td>\n",
       "      <td>2021</td>\n",
       "      <td>fr</td>\n",
       "      <td>Saison:1 - Episode:7 - La famille de Bell rend...</td>\n",
       "      <td>fr</td>\n",
       "      <td>série policière</td>\n",
       "      <td>...</td>\n",
       "      <td>bilingual</td>\n",
       "      <td>CSA</td>\n",
       "      <td>-10</td>\n",
       "      <td>http://upload.wikimedia.org/wikipedia/commons/...</td>\n",
       "      <td>NaN</td>\n",
       "      <td>NaN</td>\n",
       "      <td>NaN</td>\n",
       "      <td>TF1</td>\n",
       "      <td>https://television.telerama.fr/sites/tr_master...</td>\n",
       "      <td>2022-11-08 00:00:00+01:00</td>\n",
       "    </tr>\n",
       "    <tr>\n",
       "      <th>1</th>\n",
       "      <td>2022-11-08 00:55:00+01:00</td>\n",
       "      <td>2022-11-08 01:40:00+01:00</td>\n",
       "      <td>C192.api.telerama.fr</td>\n",
       "      <td>New York Unité Spéciale</td>\n",
       "      <td>Un moment de faiblesse</td>\n",
       "      <td>2021</td>\n",
       "      <td>fr</td>\n",
       "      <td>Saison:22 - Episode:12 - Olivia entre dans un ...</td>\n",
       "      <td>fr</td>\n",
       "      <td>série policière</td>\n",
       "      <td>...</td>\n",
       "      <td>bilingual</td>\n",
       "      <td>CSA</td>\n",
       "      <td>-10</td>\n",
       "      <td>http://upload.wikimedia.org/wikipedia/commons/...</td>\n",
       "      <td>NaN</td>\n",
       "      <td>NaN</td>\n",
       "      <td>NaN</td>\n",
       "      <td>TF1</td>\n",
       "      <td>https://television.telerama.fr/sites/tr_master...</td>\n",
       "      <td>2022-11-08 00:00:00+01:00</td>\n",
       "    </tr>\n",
       "    <tr>\n",
       "      <th>2</th>\n",
       "      <td>2022-11-08 01:40:00+01:00</td>\n",
       "      <td>2022-11-08 02:35:00+01:00</td>\n",
       "      <td>C192.api.telerama.fr</td>\n",
       "      <td>New York : crime organisé</td>\n",
       "      <td>La mort en ligne</td>\n",
       "      <td>2021</td>\n",
       "      <td>fr</td>\n",
       "      <td>Saison:1 - Episode:4 - Alors que la famille Wh...</td>\n",
       "      <td>fr</td>\n",
       "      <td>série policière</td>\n",
       "      <td>...</td>\n",
       "      <td>bilingual</td>\n",
       "      <td>CSA</td>\n",
       "      <td>-10</td>\n",
       "      <td>http://upload.wikimedia.org/wikipedia/commons/...</td>\n",
       "      <td>NaN</td>\n",
       "      <td>NaN</td>\n",
       "      <td>NaN</td>\n",
       "      <td>TF1</td>\n",
       "      <td>https://television.telerama.fr/sites/tr_master...</td>\n",
       "      <td>2022-11-08 00:00:00+01:00</td>\n",
       "    </tr>\n",
       "  </tbody>\n",
       "</table>\n",
       "<p>3 rows × 25 columns</p>\n",
       "</div>"
      ],
      "text/plain": [
       "                      start                      stop               channel  \\\n",
       "0 2022-11-08 00:05:00+01:00 2022-11-08 00:55:00+01:00  C192.api.telerama.fr   \n",
       "1 2022-11-08 00:55:00+01:00 2022-11-08 01:40:00+01:00  C192.api.telerama.fr   \n",
       "2 2022-11-08 01:40:00+01:00 2022-11-08 02:35:00+01:00  C192.api.telerama.fr   \n",
       "\n",
       "                       title                 subtitle  date desc_lang  \\\n",
       "0  New York : crime organisé  Une opération à risques  2021        fr   \n",
       "1    New York Unité Spéciale   Un moment de faiblesse  2021        fr   \n",
       "2  New York : crime organisé         La mort en ligne  2021        fr   \n",
       "\n",
       "                                           desc_text category_lang  \\\n",
       "0  Saison:1 - Episode:7 - La famille de Bell rend...            fr   \n",
       "1  Saison:22 - Episode:12 - Olivia entre dans un ...            fr   \n",
       "2  Saison:1 - Episode:4 - Alors que la famille Wh...            fr   \n",
       "\n",
       "     category_text  ... audio_stereo rating_system rating_value  \\\n",
       "0  série policière  ...    bilingual           CSA          -10   \n",
       "1  série policière  ...    bilingual           CSA          -10   \n",
       "2  série policière  ...    bilingual           CSA          -10   \n",
       "\n",
       "                                     rating_icon_src starrating_value  \\\n",
       "0  http://upload.wikimedia.org/wikipedia/commons/...              NaN   \n",
       "1  http://upload.wikimedia.org/wikipedia/commons/...              NaN   \n",
       "2  http://upload.wikimedia.org/wikipedia/commons/...              NaN   \n",
       "\n",
       "  subtitles_type subtitles_language channel_name  \\\n",
       "0            NaN                NaN          TF1   \n",
       "1            NaN                NaN          TF1   \n",
       "2            NaN                NaN          TF1   \n",
       "\n",
       "                                        channel_icon                       day  \n",
       "0  https://television.telerama.fr/sites/tr_master... 2022-11-08 00:00:00+01:00  \n",
       "1  https://television.telerama.fr/sites/tr_master... 2022-11-08 00:00:00+01:00  \n",
       "2  https://television.telerama.fr/sites/tr_master... 2022-11-08 00:00:00+01:00  \n",
       "\n",
       "[3 rows x 25 columns]"
      ]
     },
     "execution_count": 49,
     "metadata": {},
     "output_type": "execute_result"
    }
   ],
   "source": [
    "# programs to dataframe\n",
    "df_programs = pd.DataFrame(data[\"tv\"][\"programme\"])\n",
    "df_programs = pd.json_normalize(df_programs.to_dict(orient=\"records\"), sep=\"_\")\n",
    "# Clean column names \n",
    "df_programs.columns = [col.replace(\"@\", \"\").replace(\"#\", \"\").replace(\"-\", \"\") for col in df_programs.columns]\n",
    "# Join with df_channels \n",
    "df_programs = df_programs.join(df_channels.set_index(\"channel_id\"), on=\"channel\")\n",
    "# Drop empty columns\n",
    "df_programs.dropna(axis=1, how='all', inplace=True)\n",
    "# Convert some columns to datetime\n",
    "df_programs[\"start\"] = pd.to_datetime(df_programs[\"start\"], infer_datetime_format=True)\n",
    "df_programs[\"stop\"] = pd.to_datetime(df_programs[\"stop\"], infer_datetime_format=True)\n",
    "df_programs[\"day\"] = df_programs[\"start\"].dt.floor('d')\n",
    "\n",
    "df_programs.head(3)"
   ]
  },
  {
   "cell_type": "code",
   "execution_count": 50,
   "id": "411eb901-b7b2-42ee-b49b-24b11fe99340",
   "metadata": {
    "tags": []
   },
   "outputs": [],
   "source": [
    "# Compute duration in minutes\n",
    "# With this we can ignore \"length.units\" and \"length.text\" which is too convoluted\n",
    "df_programs[\"length_minutes\"] = (df_programs[\"stop\"] - df_programs[\"start\"]).apply(lambda x: int(x.total_seconds() / 60))"
   ]
  },
  {
   "cell_type": "code",
   "execution_count": 51,
   "id": "9648e185-218d-43e2-b52c-e957fb614a96",
   "metadata": {},
   "outputs": [
    {
     "data": {
      "text/plain": [
       "2022     468\n",
       "2021     405\n",
       "2020     274\n",
       "2019     409\n",
       "2018     223\n",
       "2017     345\n",
       "2016     176\n",
       "2015     159\n",
       "2014      87\n",
       "2013     199\n",
       "2012      57\n",
       "2011     103\n",
       "2010     187\n",
       "2009      82\n",
       "2008      47\n",
       "2007      17\n",
       "2006      61\n",
       "2005      14\n",
       "2004      39\n",
       "2003      13\n",
       "2002       3\n",
       "2001      37\n",
       "2000       7\n",
       "1999      26\n",
       "1997       2\n",
       "1996      95\n",
       "1995      41\n",
       "1994      43\n",
       "1993       5\n",
       "1992      42\n",
       "1991       1\n",
       "1990       3\n",
       "1989       3\n",
       "1988       1\n",
       "1985       1\n",
       "1984       4\n",
       "1983      14\n",
       "1981       1\n",
       "1980      36\n",
       "1978       1\n",
       "1976       1\n",
       "1974       2\n",
       "1971       1\n",
       "1969       1\n",
       "1966       1\n",
       "1964       1\n",
       "1957       1\n",
       "1953       1\n",
       "1938       1\n",
       "1933       1\n",
       "NaN     6324\n",
       "Name: date, dtype: int64"
      ]
     },
     "execution_count": 51,
     "metadata": {},
     "output_type": "execute_result"
    }
   ],
   "source": [
    "df_programs[\"desc_lang\"].value_counts(dropna=False)\n",
    "df_programs[\"category_lang\"].value_counts(dropna=False)\n",
    "df_programs[\"category_text\"].value_counts(dropna=False)\n",
    "df_programs[\"date\"].value_counts(dropna=False).sort_index(ascending=False)"
   ]
  },
  {
   "cell_type": "code",
   "execution_count": 66,
   "id": "df824e97-2986-4916-acb6-dc2e3ea07a92",
   "metadata": {
    "tags": []
   },
   "outputs": [],
   "source": [
    "# Select only relevant columns\n",
    "columns = [\n",
    "    'start',\n",
    "    'stop',\n",
    "    'day',\n",
    "    'length_minutes',\n",
    "    'channel_name',\n",
    "    'title',\n",
    "    'subtitle',\n",
    "    'date',\n",
    "    'desc_text',\n",
    "    'category_text',\n",
    "]\n",
    "df = df_programs[columns]"
   ]
  },
  {
   "cell_type": "code",
   "execution_count": 53,
   "id": "a81390f6",
   "metadata": {},
   "outputs": [
    {
     "name": "stderr",
     "output_type": "stream",
     "text": [
      "C:\\Users\\Gregoire\\AppData\\Local\\Temp\\ipykernel_12636\\2884002236.py:1: FutureWarning:\n",
      "\n",
      "Treating datetime data as categorical rather than numeric in `.describe` is deprecated and will be removed in a future version of pandas. Specify `datetime_is_numeric=True` to silence this warning and adopt the future behavior now.\n",
      "\n",
      "C:\\Users\\Gregoire\\AppData\\Local\\Temp\\ipykernel_12636\\2884002236.py:1: FutureWarning:\n",
      "\n",
      "Treating datetime data as categorical rather than numeric in `.describe` is deprecated and will be removed in a future version of pandas. Specify `datetime_is_numeric=True` to silence this warning and adopt the future behavior now.\n",
      "\n"
     ]
    },
    {
     "data": {
      "text/html": [
       "<div>\n",
       "<style scoped>\n",
       "    .dataframe tbody tr th:only-of-type {\n",
       "        vertical-align: middle;\n",
       "    }\n",
       "\n",
       "    .dataframe tbody tr th {\n",
       "        vertical-align: top;\n",
       "    }\n",
       "\n",
       "    .dataframe thead th {\n",
       "        text-align: right;\n",
       "    }\n",
       "</style>\n",
       "<table border=\"1\" class=\"dataframe\">\n",
       "  <thead>\n",
       "    <tr style=\"text-align: right;\">\n",
       "      <th></th>\n",
       "      <th>start</th>\n",
       "      <th>stop</th>\n",
       "      <th>length_minutes</th>\n",
       "      <th>channel_name</th>\n",
       "      <th>title</th>\n",
       "      <th>subtitle</th>\n",
       "      <th>date</th>\n",
       "      <th>desc_text</th>\n",
       "      <th>category_text</th>\n",
       "    </tr>\n",
       "  </thead>\n",
       "  <tbody>\n",
       "    <tr>\n",
       "      <th>count</th>\n",
       "      <td>10066</td>\n",
       "      <td>10066</td>\n",
       "      <td>10066.000000</td>\n",
       "      <td>10066</td>\n",
       "      <td>10066</td>\n",
       "      <td>4916</td>\n",
       "      <td>3742</td>\n",
       "      <td>9003</td>\n",
       "      <td>10066</td>\n",
       "    </tr>\n",
       "    <tr>\n",
       "      <th>unique</th>\n",
       "      <td>5369</td>\n",
       "      <td>5370</td>\n",
       "      <td>NaN</td>\n",
       "      <td>26</td>\n",
       "      <td>1416</td>\n",
       "      <td>3421</td>\n",
       "      <td>50</td>\n",
       "      <td>4194</td>\n",
       "      <td>184</td>\n",
       "    </tr>\n",
       "    <tr>\n",
       "      <th>top</th>\n",
       "      <td>2022-11-11 06:00:00+01:00</td>\n",
       "      <td>2022-11-11 06:00:00+01:00</td>\n",
       "      <td>NaN</td>\n",
       "      <td>Gulli</td>\n",
       "      <td>Météo</td>\n",
       "      <td>Prévisions pour le lendemain</td>\n",
       "      <td>2022</td>\n",
       "      <td>Un journal télévisé complet qui revient en dét...</td>\n",
       "      <td>série d'animation</td>\n",
       "    </tr>\n",
       "    <tr>\n",
       "      <th>freq</th>\n",
       "      <td>15</td>\n",
       "      <td>15</td>\n",
       "      <td>NaN</td>\n",
       "      <td>1113</td>\n",
       "      <td>208</td>\n",
       "      <td>145</td>\n",
       "      <td>468</td>\n",
       "      <td>171</td>\n",
       "      <td>1314</td>\n",
       "    </tr>\n",
       "    <tr>\n",
       "      <th>first</th>\n",
       "      <td>2022-11-08 00:00:00+01:00</td>\n",
       "      <td>2022-11-08 00:22:00+01:00</td>\n",
       "      <td>NaN</td>\n",
       "      <td>NaN</td>\n",
       "      <td>NaN</td>\n",
       "      <td>NaN</td>\n",
       "      <td>NaN</td>\n",
       "      <td>NaN</td>\n",
       "      <td>NaN</td>\n",
       "    </tr>\n",
       "    <tr>\n",
       "      <th>last</th>\n",
       "      <td>2022-11-21 04:59:00+01:00</td>\n",
       "      <td>2022-11-21 07:30:00+01:00</td>\n",
       "      <td>NaN</td>\n",
       "      <td>NaN</td>\n",
       "      <td>NaN</td>\n",
       "      <td>NaN</td>\n",
       "      <td>NaN</td>\n",
       "      <td>NaN</td>\n",
       "      <td>NaN</td>\n",
       "    </tr>\n",
       "    <tr>\n",
       "      <th>mean</th>\n",
       "      <td>NaN</td>\n",
       "      <td>NaN</td>\n",
       "      <td>48.235744</td>\n",
       "      <td>NaN</td>\n",
       "      <td>NaN</td>\n",
       "      <td>NaN</td>\n",
       "      <td>NaN</td>\n",
       "      <td>NaN</td>\n",
       "      <td>NaN</td>\n",
       "    </tr>\n",
       "    <tr>\n",
       "      <th>std</th>\n",
       "      <td>NaN</td>\n",
       "      <td>NaN</td>\n",
       "      <td>55.776730</td>\n",
       "      <td>NaN</td>\n",
       "      <td>NaN</td>\n",
       "      <td>NaN</td>\n",
       "      <td>NaN</td>\n",
       "      <td>NaN</td>\n",
       "      <td>NaN</td>\n",
       "    </tr>\n",
       "    <tr>\n",
       "      <th>min</th>\n",
       "      <td>NaN</td>\n",
       "      <td>NaN</td>\n",
       "      <td>1.000000</td>\n",
       "      <td>NaN</td>\n",
       "      <td>NaN</td>\n",
       "      <td>NaN</td>\n",
       "      <td>NaN</td>\n",
       "      <td>NaN</td>\n",
       "      <td>NaN</td>\n",
       "    </tr>\n",
       "    <tr>\n",
       "      <th>25%</th>\n",
       "      <td>NaN</td>\n",
       "      <td>NaN</td>\n",
       "      <td>11.000000</td>\n",
       "      <td>NaN</td>\n",
       "      <td>NaN</td>\n",
       "      <td>NaN</td>\n",
       "      <td>NaN</td>\n",
       "      <td>NaN</td>\n",
       "      <td>NaN</td>\n",
       "    </tr>\n",
       "    <tr>\n",
       "      <th>50%</th>\n",
       "      <td>NaN</td>\n",
       "      <td>NaN</td>\n",
       "      <td>30.000000</td>\n",
       "      <td>NaN</td>\n",
       "      <td>NaN</td>\n",
       "      <td>NaN</td>\n",
       "      <td>NaN</td>\n",
       "      <td>NaN</td>\n",
       "      <td>NaN</td>\n",
       "    </tr>\n",
       "    <tr>\n",
       "      <th>75%</th>\n",
       "      <td>NaN</td>\n",
       "      <td>NaN</td>\n",
       "      <td>60.000000</td>\n",
       "      <td>NaN</td>\n",
       "      <td>NaN</td>\n",
       "      <td>NaN</td>\n",
       "      <td>NaN</td>\n",
       "      <td>NaN</td>\n",
       "      <td>NaN</td>\n",
       "    </tr>\n",
       "    <tr>\n",
       "      <th>max</th>\n",
       "      <td>NaN</td>\n",
       "      <td>NaN</td>\n",
       "      <td>540.000000</td>\n",
       "      <td>NaN</td>\n",
       "      <td>NaN</td>\n",
       "      <td>NaN</td>\n",
       "      <td>NaN</td>\n",
       "      <td>NaN</td>\n",
       "      <td>NaN</td>\n",
       "    </tr>\n",
       "  </tbody>\n",
       "</table>\n",
       "</div>"
      ],
      "text/plain": [
       "                            start                       stop  length_minutes  \\\n",
       "count                       10066                      10066    10066.000000   \n",
       "unique                       5369                       5370             NaN   \n",
       "top     2022-11-11 06:00:00+01:00  2022-11-11 06:00:00+01:00             NaN   \n",
       "freq                           15                         15             NaN   \n",
       "first   2022-11-08 00:00:00+01:00  2022-11-08 00:22:00+01:00             NaN   \n",
       "last    2022-11-21 04:59:00+01:00  2022-11-21 07:30:00+01:00             NaN   \n",
       "mean                          NaN                        NaN       48.235744   \n",
       "std                           NaN                        NaN       55.776730   \n",
       "min                           NaN                        NaN        1.000000   \n",
       "25%                           NaN                        NaN       11.000000   \n",
       "50%                           NaN                        NaN       30.000000   \n",
       "75%                           NaN                        NaN       60.000000   \n",
       "max                           NaN                        NaN      540.000000   \n",
       "\n",
       "       channel_name  title                      subtitle  date  \\\n",
       "count         10066  10066                          4916  3742   \n",
       "unique           26   1416                          3421    50   \n",
       "top           Gulli  Météo  Prévisions pour le lendemain  2022   \n",
       "freq           1113    208                           145   468   \n",
       "first           NaN    NaN                           NaN   NaN   \n",
       "last            NaN    NaN                           NaN   NaN   \n",
       "mean            NaN    NaN                           NaN   NaN   \n",
       "std             NaN    NaN                           NaN   NaN   \n",
       "min             NaN    NaN                           NaN   NaN   \n",
       "25%             NaN    NaN                           NaN   NaN   \n",
       "50%             NaN    NaN                           NaN   NaN   \n",
       "75%             NaN    NaN                           NaN   NaN   \n",
       "max             NaN    NaN                           NaN   NaN   \n",
       "\n",
       "                                                desc_text      category_text  \n",
       "count                                                9003              10066  \n",
       "unique                                               4194                184  \n",
       "top     Un journal télévisé complet qui revient en dét...  série d'animation  \n",
       "freq                                                  171               1314  \n",
       "first                                                 NaN                NaN  \n",
       "last                                                  NaN                NaN  \n",
       "mean                                                  NaN                NaN  \n",
       "std                                                   NaN                NaN  \n",
       "min                                                   NaN                NaN  \n",
       "25%                                                   NaN                NaN  \n",
       "50%                                                   NaN                NaN  \n",
       "75%                                                   NaN                NaN  \n",
       "max                                                   NaN                NaN  "
      ]
     },
     "execution_count": 53,
     "metadata": {},
     "output_type": "execute_result"
    }
   ],
   "source": [
    "df.describe(include='all')"
   ]
  },
  {
   "cell_type": "code",
   "execution_count": 54,
   "id": "86d539cc-1283-41b6-931c-258efb5ef5e7",
   "metadata": {},
   "outputs": [
    {
     "data": {
      "application/vnd.plotly.v1+json": {
       "config": {
        "plotlyServerURL": "https://plot.ly"
       },
       "data": [
        {
         "alignmentgroup": "True",
         "hovertemplate": "variable=length_minutes<br>value=%{x}<br>category_text=%{y}<extra></extra>",
         "legendgroup": "length_minutes",
         "marker": {
          "color": "#636efa",
          "pattern": {
           "shape": ""
          }
         },
         "name": "length_minutes",
         "offsetgroup": "length_minutes",
         "orientation": "h",
         "showlegend": true,
         "textposition": "auto",
         "type": "bar",
         "x": [
          3045,
          1775,
          1710,
          1655,
          1290,
          1160,
          1090,
          825,
          600,
          585,
          545,
          415,
          405,
          390,
          345,
          318,
          260,
          255,
          220,
          205,
          200,
          148,
          145,
          135,
          130,
          120,
          115,
          110,
          105,
          105,
          105,
          105,
          100,
          100,
          94,
          75,
          50,
          45,
          20
         ],
         "xaxis": "x",
         "y": [
          "programme indéterminé",
          "magazine jeunesse",
          "téléréalité",
          "série dramatique",
          "téléfilm sentimental",
          "série policière",
          "journal",
          "divertissement : jeu",
          "magazine de télé-achat",
          "divertissement",
          "magazine de reportages",
          "magazine de société",
          "feuilleton sentimental",
          "météo",
          "série d'aventures",
          "sport : rugby",
          "sport : football",
          "film : comédie",
          "téléfilm dramatique",
          "emission spéciale",
          "magazine du show-biz",
          "magazine de la gastronomie",
          "film d'action",
          "magazine de l'environnement",
          "téléfilm humoristique",
          "film : thriller",
          "documentaire sport",
          "téléfilm romanesque",
          "film : comédie dramatique",
          "film : comédie sentimentale",
          "film sentimental",
          "film d'animation",
          "divertissement-humour",
          "sports mécaniques",
          "magazine de services",
          "documentaire société",
          "autre",
          "loterie",
          "magazine sportif"
         ],
         "yaxis": "y"
        }
       ],
       "layout": {
        "barmode": "relative",
        "legend": {
         "title": {
          "text": "variable"
         },
         "tracegroupgap": 0
        },
        "margin": {
         "t": 60
        },
        "template": {
         "data": {
          "bar": [
           {
            "error_x": {
             "color": "#2a3f5f"
            },
            "error_y": {
             "color": "#2a3f5f"
            },
            "marker": {
             "line": {
              "color": "#E5ECF6",
              "width": 0.5
             },
             "pattern": {
              "fillmode": "overlay",
              "size": 10,
              "solidity": 0.2
             }
            },
            "type": "bar"
           }
          ],
          "barpolar": [
           {
            "marker": {
             "line": {
              "color": "#E5ECF6",
              "width": 0.5
             },
             "pattern": {
              "fillmode": "overlay",
              "size": 10,
              "solidity": 0.2
             }
            },
            "type": "barpolar"
           }
          ],
          "carpet": [
           {
            "aaxis": {
             "endlinecolor": "#2a3f5f",
             "gridcolor": "white",
             "linecolor": "white",
             "minorgridcolor": "white",
             "startlinecolor": "#2a3f5f"
            },
            "baxis": {
             "endlinecolor": "#2a3f5f",
             "gridcolor": "white",
             "linecolor": "white",
             "minorgridcolor": "white",
             "startlinecolor": "#2a3f5f"
            },
            "type": "carpet"
           }
          ],
          "choropleth": [
           {
            "colorbar": {
             "outlinewidth": 0,
             "ticks": ""
            },
            "type": "choropleth"
           }
          ],
          "contour": [
           {
            "colorbar": {
             "outlinewidth": 0,
             "ticks": ""
            },
            "colorscale": [
             [
              0,
              "#0d0887"
             ],
             [
              0.1111111111111111,
              "#46039f"
             ],
             [
              0.2222222222222222,
              "#7201a8"
             ],
             [
              0.3333333333333333,
              "#9c179e"
             ],
             [
              0.4444444444444444,
              "#bd3786"
             ],
             [
              0.5555555555555556,
              "#d8576b"
             ],
             [
              0.6666666666666666,
              "#ed7953"
             ],
             [
              0.7777777777777778,
              "#fb9f3a"
             ],
             [
              0.8888888888888888,
              "#fdca26"
             ],
             [
              1,
              "#f0f921"
             ]
            ],
            "type": "contour"
           }
          ],
          "contourcarpet": [
           {
            "colorbar": {
             "outlinewidth": 0,
             "ticks": ""
            },
            "type": "contourcarpet"
           }
          ],
          "heatmap": [
           {
            "colorbar": {
             "outlinewidth": 0,
             "ticks": ""
            },
            "colorscale": [
             [
              0,
              "#0d0887"
             ],
             [
              0.1111111111111111,
              "#46039f"
             ],
             [
              0.2222222222222222,
              "#7201a8"
             ],
             [
              0.3333333333333333,
              "#9c179e"
             ],
             [
              0.4444444444444444,
              "#bd3786"
             ],
             [
              0.5555555555555556,
              "#d8576b"
             ],
             [
              0.6666666666666666,
              "#ed7953"
             ],
             [
              0.7777777777777778,
              "#fb9f3a"
             ],
             [
              0.8888888888888888,
              "#fdca26"
             ],
             [
              1,
              "#f0f921"
             ]
            ],
            "type": "heatmap"
           }
          ],
          "heatmapgl": [
           {
            "colorbar": {
             "outlinewidth": 0,
             "ticks": ""
            },
            "colorscale": [
             [
              0,
              "#0d0887"
             ],
             [
              0.1111111111111111,
              "#46039f"
             ],
             [
              0.2222222222222222,
              "#7201a8"
             ],
             [
              0.3333333333333333,
              "#9c179e"
             ],
             [
              0.4444444444444444,
              "#bd3786"
             ],
             [
              0.5555555555555556,
              "#d8576b"
             ],
             [
              0.6666666666666666,
              "#ed7953"
             ],
             [
              0.7777777777777778,
              "#fb9f3a"
             ],
             [
              0.8888888888888888,
              "#fdca26"
             ],
             [
              1,
              "#f0f921"
             ]
            ],
            "type": "heatmapgl"
           }
          ],
          "histogram": [
           {
            "marker": {
             "pattern": {
              "fillmode": "overlay",
              "size": 10,
              "solidity": 0.2
             }
            },
            "type": "histogram"
           }
          ],
          "histogram2d": [
           {
            "colorbar": {
             "outlinewidth": 0,
             "ticks": ""
            },
            "colorscale": [
             [
              0,
              "#0d0887"
             ],
             [
              0.1111111111111111,
              "#46039f"
             ],
             [
              0.2222222222222222,
              "#7201a8"
             ],
             [
              0.3333333333333333,
              "#9c179e"
             ],
             [
              0.4444444444444444,
              "#bd3786"
             ],
             [
              0.5555555555555556,
              "#d8576b"
             ],
             [
              0.6666666666666666,
              "#ed7953"
             ],
             [
              0.7777777777777778,
              "#fb9f3a"
             ],
             [
              0.8888888888888888,
              "#fdca26"
             ],
             [
              1,
              "#f0f921"
             ]
            ],
            "type": "histogram2d"
           }
          ],
          "histogram2dcontour": [
           {
            "colorbar": {
             "outlinewidth": 0,
             "ticks": ""
            },
            "colorscale": [
             [
              0,
              "#0d0887"
             ],
             [
              0.1111111111111111,
              "#46039f"
             ],
             [
              0.2222222222222222,
              "#7201a8"
             ],
             [
              0.3333333333333333,
              "#9c179e"
             ],
             [
              0.4444444444444444,
              "#bd3786"
             ],
             [
              0.5555555555555556,
              "#d8576b"
             ],
             [
              0.6666666666666666,
              "#ed7953"
             ],
             [
              0.7777777777777778,
              "#fb9f3a"
             ],
             [
              0.8888888888888888,
              "#fdca26"
             ],
             [
              1,
              "#f0f921"
             ]
            ],
            "type": "histogram2dcontour"
           }
          ],
          "mesh3d": [
           {
            "colorbar": {
             "outlinewidth": 0,
             "ticks": ""
            },
            "type": "mesh3d"
           }
          ],
          "parcoords": [
           {
            "line": {
             "colorbar": {
              "outlinewidth": 0,
              "ticks": ""
             }
            },
            "type": "parcoords"
           }
          ],
          "pie": [
           {
            "automargin": true,
            "type": "pie"
           }
          ],
          "scatter": [
           {
            "fillpattern": {
             "fillmode": "overlay",
             "size": 10,
             "solidity": 0.2
            },
            "type": "scatter"
           }
          ],
          "scatter3d": [
           {
            "line": {
             "colorbar": {
              "outlinewidth": 0,
              "ticks": ""
             }
            },
            "marker": {
             "colorbar": {
              "outlinewidth": 0,
              "ticks": ""
             }
            },
            "type": "scatter3d"
           }
          ],
          "scattercarpet": [
           {
            "marker": {
             "colorbar": {
              "outlinewidth": 0,
              "ticks": ""
             }
            },
            "type": "scattercarpet"
           }
          ],
          "scattergeo": [
           {
            "marker": {
             "colorbar": {
              "outlinewidth": 0,
              "ticks": ""
             }
            },
            "type": "scattergeo"
           }
          ],
          "scattergl": [
           {
            "marker": {
             "colorbar": {
              "outlinewidth": 0,
              "ticks": ""
             }
            },
            "type": "scattergl"
           }
          ],
          "scattermapbox": [
           {
            "marker": {
             "colorbar": {
              "outlinewidth": 0,
              "ticks": ""
             }
            },
            "type": "scattermapbox"
           }
          ],
          "scatterpolar": [
           {
            "marker": {
             "colorbar": {
              "outlinewidth": 0,
              "ticks": ""
             }
            },
            "type": "scatterpolar"
           }
          ],
          "scatterpolargl": [
           {
            "marker": {
             "colorbar": {
              "outlinewidth": 0,
              "ticks": ""
             }
            },
            "type": "scatterpolargl"
           }
          ],
          "scatterternary": [
           {
            "marker": {
             "colorbar": {
              "outlinewidth": 0,
              "ticks": ""
             }
            },
            "type": "scatterternary"
           }
          ],
          "surface": [
           {
            "colorbar": {
             "outlinewidth": 0,
             "ticks": ""
            },
            "colorscale": [
             [
              0,
              "#0d0887"
             ],
             [
              0.1111111111111111,
              "#46039f"
             ],
             [
              0.2222222222222222,
              "#7201a8"
             ],
             [
              0.3333333333333333,
              "#9c179e"
             ],
             [
              0.4444444444444444,
              "#bd3786"
             ],
             [
              0.5555555555555556,
              "#d8576b"
             ],
             [
              0.6666666666666666,
              "#ed7953"
             ],
             [
              0.7777777777777778,
              "#fb9f3a"
             ],
             [
              0.8888888888888888,
              "#fdca26"
             ],
             [
              1,
              "#f0f921"
             ]
            ],
            "type": "surface"
           }
          ],
          "table": [
           {
            "cells": {
             "fill": {
              "color": "#EBF0F8"
             },
             "line": {
              "color": "white"
             }
            },
            "header": {
             "fill": {
              "color": "#C8D4E3"
             },
             "line": {
              "color": "white"
             }
            },
            "type": "table"
           }
          ]
         },
         "layout": {
          "annotationdefaults": {
           "arrowcolor": "#2a3f5f",
           "arrowhead": 0,
           "arrowwidth": 1
          },
          "autotypenumbers": "strict",
          "coloraxis": {
           "colorbar": {
            "outlinewidth": 0,
            "ticks": ""
           }
          },
          "colorscale": {
           "diverging": [
            [
             0,
             "#8e0152"
            ],
            [
             0.1,
             "#c51b7d"
            ],
            [
             0.2,
             "#de77ae"
            ],
            [
             0.3,
             "#f1b6da"
            ],
            [
             0.4,
             "#fde0ef"
            ],
            [
             0.5,
             "#f7f7f7"
            ],
            [
             0.6,
             "#e6f5d0"
            ],
            [
             0.7,
             "#b8e186"
            ],
            [
             0.8,
             "#7fbc41"
            ],
            [
             0.9,
             "#4d9221"
            ],
            [
             1,
             "#276419"
            ]
           ],
           "sequential": [
            [
             0,
             "#0d0887"
            ],
            [
             0.1111111111111111,
             "#46039f"
            ],
            [
             0.2222222222222222,
             "#7201a8"
            ],
            [
             0.3333333333333333,
             "#9c179e"
            ],
            [
             0.4444444444444444,
             "#bd3786"
            ],
            [
             0.5555555555555556,
             "#d8576b"
            ],
            [
             0.6666666666666666,
             "#ed7953"
            ],
            [
             0.7777777777777778,
             "#fb9f3a"
            ],
            [
             0.8888888888888888,
             "#fdca26"
            ],
            [
             1,
             "#f0f921"
            ]
           ],
           "sequentialminus": [
            [
             0,
             "#0d0887"
            ],
            [
             0.1111111111111111,
             "#46039f"
            ],
            [
             0.2222222222222222,
             "#7201a8"
            ],
            [
             0.3333333333333333,
             "#9c179e"
            ],
            [
             0.4444444444444444,
             "#bd3786"
            ],
            [
             0.5555555555555556,
             "#d8576b"
            ],
            [
             0.6666666666666666,
             "#ed7953"
            ],
            [
             0.7777777777777778,
             "#fb9f3a"
            ],
            [
             0.8888888888888888,
             "#fdca26"
            ],
            [
             1,
             "#f0f921"
            ]
           ]
          },
          "colorway": [
           "#636efa",
           "#EF553B",
           "#00cc96",
           "#ab63fa",
           "#FFA15A",
           "#19d3f3",
           "#FF6692",
           "#B6E880",
           "#FF97FF",
           "#FECB52"
          ],
          "font": {
           "color": "#2a3f5f"
          },
          "geo": {
           "bgcolor": "white",
           "lakecolor": "white",
           "landcolor": "#E5ECF6",
           "showlakes": true,
           "showland": true,
           "subunitcolor": "white"
          },
          "hoverlabel": {
           "align": "left"
          },
          "hovermode": "closest",
          "mapbox": {
           "style": "light"
          },
          "paper_bgcolor": "white",
          "plot_bgcolor": "#E5ECF6",
          "polar": {
           "angularaxis": {
            "gridcolor": "white",
            "linecolor": "white",
            "ticks": ""
           },
           "bgcolor": "#E5ECF6",
           "radialaxis": {
            "gridcolor": "white",
            "linecolor": "white",
            "ticks": ""
           }
          },
          "scene": {
           "xaxis": {
            "backgroundcolor": "#E5ECF6",
            "gridcolor": "white",
            "gridwidth": 2,
            "linecolor": "white",
            "showbackground": true,
            "ticks": "",
            "zerolinecolor": "white"
           },
           "yaxis": {
            "backgroundcolor": "#E5ECF6",
            "gridcolor": "white",
            "gridwidth": 2,
            "linecolor": "white",
            "showbackground": true,
            "ticks": "",
            "zerolinecolor": "white"
           },
           "zaxis": {
            "backgroundcolor": "#E5ECF6",
            "gridcolor": "white",
            "gridwidth": 2,
            "linecolor": "white",
            "showbackground": true,
            "ticks": "",
            "zerolinecolor": "white"
           }
          },
          "shapedefaults": {
           "line": {
            "color": "#2a3f5f"
           }
          },
          "ternary": {
           "aaxis": {
            "gridcolor": "white",
            "linecolor": "white",
            "ticks": ""
           },
           "baxis": {
            "gridcolor": "white",
            "linecolor": "white",
            "ticks": ""
           },
           "bgcolor": "#E5ECF6",
           "caxis": {
            "gridcolor": "white",
            "linecolor": "white",
            "ticks": ""
           }
          },
          "title": {
           "x": 0.05
          },
          "xaxis": {
           "automargin": true,
           "gridcolor": "white",
           "linecolor": "white",
           "ticks": "",
           "title": {
            "standoff": 15
           },
           "zerolinecolor": "white",
           "zerolinewidth": 2
          },
          "yaxis": {
           "automargin": true,
           "gridcolor": "white",
           "linecolor": "white",
           "ticks": "",
           "title": {
            "standoff": 15
           },
           "zerolinecolor": "white",
           "zerolinewidth": 2
          }
         }
        },
        "xaxis": {
         "anchor": "y",
         "domain": [
          0,
          1
         ],
         "title": {
          "text": "value"
         }
        },
        "yaxis": {
         "anchor": "x",
         "domain": [
          0,
          1
         ],
         "title": {
          "text": "category_text"
         }
        }
       }
      }
     },
     "metadata": {},
     "output_type": "display_data"
    },
    {
     "data": {
      "application/vnd.jupyter.widget-view+json": {
       "model_id": "cce0d561fb554a22a63c910fdc7fb3c5",
       "version_major": 2,
       "version_minor": 0
      },
      "text/plain": [
       "VBox(children=(VBox(children=(Dropdown(description='Channel:', options=('TF1', 'France 2', 'France 3', 'Canal+…"
      ]
     },
     "metadata": {},
     "output_type": "display_data"
    }
   ],
   "source": [
    "import ipywidgets as widgets\n",
    "\n",
    "import warnings\n",
    "warnings.filterwarnings(\"ignore\", category=DeprecationWarning) \n",
    "\n",
    "\n",
    "a = widgets.Dropdown(\n",
    "    options=df_channels.channel_name.unique(),\n",
    "    value='TF1',\n",
    "    description='Channel:',\n",
    "    disabled=False,\n",
    ")\n",
    "\n",
    "def fn(a):\n",
    "    print(f' Viewing data for {a}')\n",
    "    df_a = df[df.channel_name == a]\n",
    "    grouped = df_a.groupby(\"category_text\").length_minutes.sum().sort_values(ascending=False)\n",
    "    fig = grouped.plot.barh()\n",
    "    fig.show()\n",
    "\n",
    "out = widgets.interactive_output(fn, {'a': a})\n",
    "\n",
    "widgets.VBox([widgets.VBox([a]), out])"
   ]
  },
  {
   "cell_type": "code",
   "execution_count": 55,
   "id": "5fa56edb",
   "metadata": {},
   "outputs": [
    {
     "data": {
      "application/vnd.plotly.v1+json": {
       "config": {
        "plotlyServerURL": "https://plot.ly"
       },
       "data": [
        {
         "alignmentgroup": "True",
         "hovertemplate": "variable=length_minutes<br>value=%{x}<br>category_text=%{y}<extra></extra>",
         "legendgroup": "length_minutes",
         "marker": {
          "color": "#636efa",
          "pattern": {
           "shape": ""
          }
         },
         "name": "length_minutes",
         "offsetgroup": "length_minutes",
         "orientation": "h",
         "showlegend": true,
         "textposition": "auto",
         "type": "bar",
         "x": [
          3045,
          1775,
          1710,
          1655,
          1290,
          1160,
          1090,
          825,
          600,
          585,
          545,
          415,
          405,
          390,
          345,
          318,
          260,
          255,
          220,
          205,
          200,
          148,
          145,
          135,
          130,
          120,
          115,
          110,
          105,
          105,
          105,
          105,
          100,
          100,
          94,
          75,
          50,
          45,
          20
         ],
         "xaxis": "x",
         "y": [
          "programme indéterminé",
          "magazine jeunesse",
          "téléréalité",
          "série dramatique",
          "téléfilm sentimental",
          "série policière",
          "journal",
          "divertissement : jeu",
          "magazine de télé-achat",
          "divertissement",
          "magazine de reportages",
          "magazine de société",
          "feuilleton sentimental",
          "météo",
          "série d'aventures",
          "sport : rugby",
          "sport : football",
          "film : comédie",
          "téléfilm dramatique",
          "emission spéciale",
          "magazine du show-biz",
          "magazine de la gastronomie",
          "film d'action",
          "magazine de l'environnement",
          "téléfilm humoristique",
          "film : thriller",
          "documentaire sport",
          "téléfilm romanesque",
          "film : comédie dramatique",
          "film : comédie sentimentale",
          "film sentimental",
          "film d'animation",
          "divertissement-humour",
          "sports mécaniques",
          "magazine de services",
          "documentaire société",
          "autre",
          "loterie",
          "magazine sportif"
         ],
         "yaxis": "y"
        }
       ],
       "layout": {
        "barmode": "relative",
        "legend": {
         "title": {
          "text": "variable"
         },
         "tracegroupgap": 0
        },
        "margin": {
         "t": 60
        },
        "template": {
         "data": {
          "bar": [
           {
            "error_x": {
             "color": "#2a3f5f"
            },
            "error_y": {
             "color": "#2a3f5f"
            },
            "marker": {
             "line": {
              "color": "#E5ECF6",
              "width": 0.5
             },
             "pattern": {
              "fillmode": "overlay",
              "size": 10,
              "solidity": 0.2
             }
            },
            "type": "bar"
           }
          ],
          "barpolar": [
           {
            "marker": {
             "line": {
              "color": "#E5ECF6",
              "width": 0.5
             },
             "pattern": {
              "fillmode": "overlay",
              "size": 10,
              "solidity": 0.2
             }
            },
            "type": "barpolar"
           }
          ],
          "carpet": [
           {
            "aaxis": {
             "endlinecolor": "#2a3f5f",
             "gridcolor": "white",
             "linecolor": "white",
             "minorgridcolor": "white",
             "startlinecolor": "#2a3f5f"
            },
            "baxis": {
             "endlinecolor": "#2a3f5f",
             "gridcolor": "white",
             "linecolor": "white",
             "minorgridcolor": "white",
             "startlinecolor": "#2a3f5f"
            },
            "type": "carpet"
           }
          ],
          "choropleth": [
           {
            "colorbar": {
             "outlinewidth": 0,
             "ticks": ""
            },
            "type": "choropleth"
           }
          ],
          "contour": [
           {
            "colorbar": {
             "outlinewidth": 0,
             "ticks": ""
            },
            "colorscale": [
             [
              0,
              "#0d0887"
             ],
             [
              0.1111111111111111,
              "#46039f"
             ],
             [
              0.2222222222222222,
              "#7201a8"
             ],
             [
              0.3333333333333333,
              "#9c179e"
             ],
             [
              0.4444444444444444,
              "#bd3786"
             ],
             [
              0.5555555555555556,
              "#d8576b"
             ],
             [
              0.6666666666666666,
              "#ed7953"
             ],
             [
              0.7777777777777778,
              "#fb9f3a"
             ],
             [
              0.8888888888888888,
              "#fdca26"
             ],
             [
              1,
              "#f0f921"
             ]
            ],
            "type": "contour"
           }
          ],
          "contourcarpet": [
           {
            "colorbar": {
             "outlinewidth": 0,
             "ticks": ""
            },
            "type": "contourcarpet"
           }
          ],
          "heatmap": [
           {
            "colorbar": {
             "outlinewidth": 0,
             "ticks": ""
            },
            "colorscale": [
             [
              0,
              "#0d0887"
             ],
             [
              0.1111111111111111,
              "#46039f"
             ],
             [
              0.2222222222222222,
              "#7201a8"
             ],
             [
              0.3333333333333333,
              "#9c179e"
             ],
             [
              0.4444444444444444,
              "#bd3786"
             ],
             [
              0.5555555555555556,
              "#d8576b"
             ],
             [
              0.6666666666666666,
              "#ed7953"
             ],
             [
              0.7777777777777778,
              "#fb9f3a"
             ],
             [
              0.8888888888888888,
              "#fdca26"
             ],
             [
              1,
              "#f0f921"
             ]
            ],
            "type": "heatmap"
           }
          ],
          "heatmapgl": [
           {
            "colorbar": {
             "outlinewidth": 0,
             "ticks": ""
            },
            "colorscale": [
             [
              0,
              "#0d0887"
             ],
             [
              0.1111111111111111,
              "#46039f"
             ],
             [
              0.2222222222222222,
              "#7201a8"
             ],
             [
              0.3333333333333333,
              "#9c179e"
             ],
             [
              0.4444444444444444,
              "#bd3786"
             ],
             [
              0.5555555555555556,
              "#d8576b"
             ],
             [
              0.6666666666666666,
              "#ed7953"
             ],
             [
              0.7777777777777778,
              "#fb9f3a"
             ],
             [
              0.8888888888888888,
              "#fdca26"
             ],
             [
              1,
              "#f0f921"
             ]
            ],
            "type": "heatmapgl"
           }
          ],
          "histogram": [
           {
            "marker": {
             "pattern": {
              "fillmode": "overlay",
              "size": 10,
              "solidity": 0.2
             }
            },
            "type": "histogram"
           }
          ],
          "histogram2d": [
           {
            "colorbar": {
             "outlinewidth": 0,
             "ticks": ""
            },
            "colorscale": [
             [
              0,
              "#0d0887"
             ],
             [
              0.1111111111111111,
              "#46039f"
             ],
             [
              0.2222222222222222,
              "#7201a8"
             ],
             [
              0.3333333333333333,
              "#9c179e"
             ],
             [
              0.4444444444444444,
              "#bd3786"
             ],
             [
              0.5555555555555556,
              "#d8576b"
             ],
             [
              0.6666666666666666,
              "#ed7953"
             ],
             [
              0.7777777777777778,
              "#fb9f3a"
             ],
             [
              0.8888888888888888,
              "#fdca26"
             ],
             [
              1,
              "#f0f921"
             ]
            ],
            "type": "histogram2d"
           }
          ],
          "histogram2dcontour": [
           {
            "colorbar": {
             "outlinewidth": 0,
             "ticks": ""
            },
            "colorscale": [
             [
              0,
              "#0d0887"
             ],
             [
              0.1111111111111111,
              "#46039f"
             ],
             [
              0.2222222222222222,
              "#7201a8"
             ],
             [
              0.3333333333333333,
              "#9c179e"
             ],
             [
              0.4444444444444444,
              "#bd3786"
             ],
             [
              0.5555555555555556,
              "#d8576b"
             ],
             [
              0.6666666666666666,
              "#ed7953"
             ],
             [
              0.7777777777777778,
              "#fb9f3a"
             ],
             [
              0.8888888888888888,
              "#fdca26"
             ],
             [
              1,
              "#f0f921"
             ]
            ],
            "type": "histogram2dcontour"
           }
          ],
          "mesh3d": [
           {
            "colorbar": {
             "outlinewidth": 0,
             "ticks": ""
            },
            "type": "mesh3d"
           }
          ],
          "parcoords": [
           {
            "line": {
             "colorbar": {
              "outlinewidth": 0,
              "ticks": ""
             }
            },
            "type": "parcoords"
           }
          ],
          "pie": [
           {
            "automargin": true,
            "type": "pie"
           }
          ],
          "scatter": [
           {
            "fillpattern": {
             "fillmode": "overlay",
             "size": 10,
             "solidity": 0.2
            },
            "type": "scatter"
           }
          ],
          "scatter3d": [
           {
            "line": {
             "colorbar": {
              "outlinewidth": 0,
              "ticks": ""
             }
            },
            "marker": {
             "colorbar": {
              "outlinewidth": 0,
              "ticks": ""
             }
            },
            "type": "scatter3d"
           }
          ],
          "scattercarpet": [
           {
            "marker": {
             "colorbar": {
              "outlinewidth": 0,
              "ticks": ""
             }
            },
            "type": "scattercarpet"
           }
          ],
          "scattergeo": [
           {
            "marker": {
             "colorbar": {
              "outlinewidth": 0,
              "ticks": ""
             }
            },
            "type": "scattergeo"
           }
          ],
          "scattergl": [
           {
            "marker": {
             "colorbar": {
              "outlinewidth": 0,
              "ticks": ""
             }
            },
            "type": "scattergl"
           }
          ],
          "scattermapbox": [
           {
            "marker": {
             "colorbar": {
              "outlinewidth": 0,
              "ticks": ""
             }
            },
            "type": "scattermapbox"
           }
          ],
          "scatterpolar": [
           {
            "marker": {
             "colorbar": {
              "outlinewidth": 0,
              "ticks": ""
             }
            },
            "type": "scatterpolar"
           }
          ],
          "scatterpolargl": [
           {
            "marker": {
             "colorbar": {
              "outlinewidth": 0,
              "ticks": ""
             }
            },
            "type": "scatterpolargl"
           }
          ],
          "scatterternary": [
           {
            "marker": {
             "colorbar": {
              "outlinewidth": 0,
              "ticks": ""
             }
            },
            "type": "scatterternary"
           }
          ],
          "surface": [
           {
            "colorbar": {
             "outlinewidth": 0,
             "ticks": ""
            },
            "colorscale": [
             [
              0,
              "#0d0887"
             ],
             [
              0.1111111111111111,
              "#46039f"
             ],
             [
              0.2222222222222222,
              "#7201a8"
             ],
             [
              0.3333333333333333,
              "#9c179e"
             ],
             [
              0.4444444444444444,
              "#bd3786"
             ],
             [
              0.5555555555555556,
              "#d8576b"
             ],
             [
              0.6666666666666666,
              "#ed7953"
             ],
             [
              0.7777777777777778,
              "#fb9f3a"
             ],
             [
              0.8888888888888888,
              "#fdca26"
             ],
             [
              1,
              "#f0f921"
             ]
            ],
            "type": "surface"
           }
          ],
          "table": [
           {
            "cells": {
             "fill": {
              "color": "#EBF0F8"
             },
             "line": {
              "color": "white"
             }
            },
            "header": {
             "fill": {
              "color": "#C8D4E3"
             },
             "line": {
              "color": "white"
             }
            },
            "type": "table"
           }
          ]
         },
         "layout": {
          "annotationdefaults": {
           "arrowcolor": "#2a3f5f",
           "arrowhead": 0,
           "arrowwidth": 1
          },
          "autotypenumbers": "strict",
          "coloraxis": {
           "colorbar": {
            "outlinewidth": 0,
            "ticks": ""
           }
          },
          "colorscale": {
           "diverging": [
            [
             0,
             "#8e0152"
            ],
            [
             0.1,
             "#c51b7d"
            ],
            [
             0.2,
             "#de77ae"
            ],
            [
             0.3,
             "#f1b6da"
            ],
            [
             0.4,
             "#fde0ef"
            ],
            [
             0.5,
             "#f7f7f7"
            ],
            [
             0.6,
             "#e6f5d0"
            ],
            [
             0.7,
             "#b8e186"
            ],
            [
             0.8,
             "#7fbc41"
            ],
            [
             0.9,
             "#4d9221"
            ],
            [
             1,
             "#276419"
            ]
           ],
           "sequential": [
            [
             0,
             "#0d0887"
            ],
            [
             0.1111111111111111,
             "#46039f"
            ],
            [
             0.2222222222222222,
             "#7201a8"
            ],
            [
             0.3333333333333333,
             "#9c179e"
            ],
            [
             0.4444444444444444,
             "#bd3786"
            ],
            [
             0.5555555555555556,
             "#d8576b"
            ],
            [
             0.6666666666666666,
             "#ed7953"
            ],
            [
             0.7777777777777778,
             "#fb9f3a"
            ],
            [
             0.8888888888888888,
             "#fdca26"
            ],
            [
             1,
             "#f0f921"
            ]
           ],
           "sequentialminus": [
            [
             0,
             "#0d0887"
            ],
            [
             0.1111111111111111,
             "#46039f"
            ],
            [
             0.2222222222222222,
             "#7201a8"
            ],
            [
             0.3333333333333333,
             "#9c179e"
            ],
            [
             0.4444444444444444,
             "#bd3786"
            ],
            [
             0.5555555555555556,
             "#d8576b"
            ],
            [
             0.6666666666666666,
             "#ed7953"
            ],
            [
             0.7777777777777778,
             "#fb9f3a"
            ],
            [
             0.8888888888888888,
             "#fdca26"
            ],
            [
             1,
             "#f0f921"
            ]
           ]
          },
          "colorway": [
           "#636efa",
           "#EF553B",
           "#00cc96",
           "#ab63fa",
           "#FFA15A",
           "#19d3f3",
           "#FF6692",
           "#B6E880",
           "#FF97FF",
           "#FECB52"
          ],
          "font": {
           "color": "#2a3f5f"
          },
          "geo": {
           "bgcolor": "white",
           "lakecolor": "white",
           "landcolor": "#E5ECF6",
           "showlakes": true,
           "showland": true,
           "subunitcolor": "white"
          },
          "hoverlabel": {
           "align": "left"
          },
          "hovermode": "closest",
          "mapbox": {
           "style": "light"
          },
          "paper_bgcolor": "white",
          "plot_bgcolor": "#E5ECF6",
          "polar": {
           "angularaxis": {
            "gridcolor": "white",
            "linecolor": "white",
            "ticks": ""
           },
           "bgcolor": "#E5ECF6",
           "radialaxis": {
            "gridcolor": "white",
            "linecolor": "white",
            "ticks": ""
           }
          },
          "scene": {
           "xaxis": {
            "backgroundcolor": "#E5ECF6",
            "gridcolor": "white",
            "gridwidth": 2,
            "linecolor": "white",
            "showbackground": true,
            "ticks": "",
            "zerolinecolor": "white"
           },
           "yaxis": {
            "backgroundcolor": "#E5ECF6",
            "gridcolor": "white",
            "gridwidth": 2,
            "linecolor": "white",
            "showbackground": true,
            "ticks": "",
            "zerolinecolor": "white"
           },
           "zaxis": {
            "backgroundcolor": "#E5ECF6",
            "gridcolor": "white",
            "gridwidth": 2,
            "linecolor": "white",
            "showbackground": true,
            "ticks": "",
            "zerolinecolor": "white"
           }
          },
          "shapedefaults": {
           "line": {
            "color": "#2a3f5f"
           }
          },
          "ternary": {
           "aaxis": {
            "gridcolor": "white",
            "linecolor": "white",
            "ticks": ""
           },
           "baxis": {
            "gridcolor": "white",
            "linecolor": "white",
            "ticks": ""
           },
           "bgcolor": "#E5ECF6",
           "caxis": {
            "gridcolor": "white",
            "linecolor": "white",
            "ticks": ""
           }
          },
          "title": {
           "x": 0.05
          },
          "xaxis": {
           "automargin": true,
           "gridcolor": "white",
           "linecolor": "white",
           "ticks": "",
           "title": {
            "standoff": 15
           },
           "zerolinecolor": "white",
           "zerolinewidth": 2
          },
          "yaxis": {
           "automargin": true,
           "gridcolor": "white",
           "linecolor": "white",
           "ticks": "",
           "title": {
            "standoff": 15
           },
           "zerolinecolor": "white",
           "zerolinewidth": 2
          }
         }
        },
        "xaxis": {
         "anchor": "y",
         "domain": [
          0,
          1
         ],
         "title": {
          "text": "value"
         }
        },
        "yaxis": {
         "anchor": "x",
         "domain": [
          0,
          1
         ],
         "title": {
          "text": "category_text"
         }
        }
       }
      }
     },
     "metadata": {},
     "output_type": "display_data"
    }
   ],
   "source": [
    "# The widgets might not work so here's an example\n",
    "selected_channel = \"TF1\"\n",
    "df_a = df[df.channel_name == selected_channel]\n",
    "grouped = df_a.groupby(\"category_text\").length_minutes.sum().sort_values(ascending=False)\n",
    "fig = grouped.plot.barh()\n",
    "fig.show()"
   ]
  },
  {
   "cell_type": "code",
   "execution_count": 56,
   "id": "998ab401",
   "metadata": {},
   "outputs": [
    {
     "data": {
      "text/html": [
       "<div>\n",
       "<style scoped>\n",
       "    .dataframe tbody tr th:only-of-type {\n",
       "        vertical-align: middle;\n",
       "    }\n",
       "\n",
       "    .dataframe tbody tr th {\n",
       "        vertical-align: top;\n",
       "    }\n",
       "\n",
       "    .dataframe thead th {\n",
       "        text-align: right;\n",
       "    }\n",
       "</style>\n",
       "<table border=\"1\" class=\"dataframe\">\n",
       "  <thead>\n",
       "    <tr style=\"text-align: right;\">\n",
       "      <th></th>\n",
       "      <th>category_text</th>\n",
       "      <th>channel_name</th>\n",
       "      <th>length_minutes</th>\n",
       "    </tr>\n",
       "  </thead>\n",
       "  <tbody>\n",
       "    <tr>\n",
       "      <th>0</th>\n",
       "      <td>autre</td>\n",
       "      <td>Arte</td>\n",
       "      <td>19</td>\n",
       "    </tr>\n",
       "    <tr>\n",
       "      <th>1</th>\n",
       "      <td>autre</td>\n",
       "      <td>RMC Découverte</td>\n",
       "      <td>354</td>\n",
       "    </tr>\n",
       "    <tr>\n",
       "      <th>2</th>\n",
       "      <td>autre</td>\n",
       "      <td>RMC Story</td>\n",
       "      <td>785</td>\n",
       "    </tr>\n",
       "    <tr>\n",
       "      <th>3</th>\n",
       "      <td>autre</td>\n",
       "      <td>TF1</td>\n",
       "      <td>50</td>\n",
       "    </tr>\n",
       "    <tr>\n",
       "      <th>4</th>\n",
       "      <td>clips</td>\n",
       "      <td>CSTAR</td>\n",
       "      <td>906</td>\n",
       "    </tr>\n",
       "    <tr>\n",
       "      <th>...</th>\n",
       "      <td>...</td>\n",
       "      <td>...</td>\n",
       "      <td>...</td>\n",
       "    </tr>\n",
       "    <tr>\n",
       "      <th>253</th>\n",
       "      <td>téléfilm sentimental</td>\n",
       "      <td>TF1</td>\n",
       "      <td>110</td>\n",
       "    </tr>\n",
       "    <tr>\n",
       "      <th>254</th>\n",
       "      <td>téléfilm sentimental</td>\n",
       "      <td>TMC</td>\n",
       "      <td>300</td>\n",
       "    </tr>\n",
       "    <tr>\n",
       "      <th>255</th>\n",
       "      <td>téléfilm sentimental</td>\n",
       "      <td>W9</td>\n",
       "      <td>230</td>\n",
       "    </tr>\n",
       "    <tr>\n",
       "      <th>256</th>\n",
       "      <td>téléréalité</td>\n",
       "      <td>TF1</td>\n",
       "      <td>155</td>\n",
       "    </tr>\n",
       "    <tr>\n",
       "      <th>257</th>\n",
       "      <td>téléréalité</td>\n",
       "      <td>TFX</td>\n",
       "      <td>440</td>\n",
       "    </tr>\n",
       "  </tbody>\n",
       "</table>\n",
       "<p>258 rows × 3 columns</p>\n",
       "</div>"
      ],
      "text/plain": [
       "            category_text    channel_name  length_minutes\n",
       "0                   autre            Arte              19\n",
       "1                   autre  RMC Découverte             354\n",
       "2                   autre       RMC Story             785\n",
       "3                   autre             TF1              50\n",
       "4                   clips           CSTAR             906\n",
       "..                    ...             ...             ...\n",
       "253  téléfilm sentimental             TF1             110\n",
       "254  téléfilm sentimental             TMC             300\n",
       "255  téléfilm sentimental              W9             230\n",
       "256           téléréalité             TF1             155\n",
       "257           téléréalité             TFX             440\n",
       "\n",
       "[258 rows x 3 columns]"
      ]
     },
     "execution_count": 56,
     "metadata": {},
     "output_type": "execute_result"
    }
   ],
   "source": [
    "# Show one day of data\n",
    "start_date = \"2022-11-10\"\n",
    "end_date = \"2022-11-11\"\n",
    "\n",
    "df_day = df_programs[(df_programs.start >= start_date) & (df_programs.stop < end_date)]\n",
    "df_day = df_programs[(df_programs.start >= start_date) & (df_programs.start < end_date)]\n",
    "\n",
    "df_day.groupby([\"channel_name\", \"category_text\"]).length_minutes.sum()\n",
    "\n",
    "df_day.groupby([\"category_text\", \"channel_name\"]).length_minutes.sum().reset_index()"
   ]
  },
  {
   "cell_type": "code",
   "execution_count": 57,
   "id": "ecb4186f",
   "metadata": {},
   "outputs": [
    {
     "data": {
      "text/html": [
       "<div>\n",
       "<style scoped>\n",
       "    .dataframe tbody tr th:only-of-type {\n",
       "        vertical-align: middle;\n",
       "    }\n",
       "\n",
       "    .dataframe tbody tr th {\n",
       "        vertical-align: top;\n",
       "    }\n",
       "\n",
       "    .dataframe thead th {\n",
       "        text-align: right;\n",
       "    }\n",
       "</style>\n",
       "<table border=\"1\" class=\"dataframe\">\n",
       "  <thead>\n",
       "    <tr style=\"text-align: right;\">\n",
       "      <th></th>\n",
       "      <th>category_text</th>\n",
       "      <th>channel_name</th>\n",
       "      <th>count</th>\n",
       "      <th>sum</th>\n",
       "    </tr>\n",
       "  </thead>\n",
       "  <tbody>\n",
       "    <tr>\n",
       "      <th>0</th>\n",
       "      <td>autre</td>\n",
       "      <td>Arte</td>\n",
       "      <td>1</td>\n",
       "      <td>19</td>\n",
       "    </tr>\n",
       "    <tr>\n",
       "      <th>1</th>\n",
       "      <td>autre</td>\n",
       "      <td>RMC Découverte</td>\n",
       "      <td>1</td>\n",
       "      <td>354</td>\n",
       "    </tr>\n",
       "    <tr>\n",
       "      <th>2</th>\n",
       "      <td>autre</td>\n",
       "      <td>RMC Story</td>\n",
       "      <td>2</td>\n",
       "      <td>785</td>\n",
       "    </tr>\n",
       "    <tr>\n",
       "      <th>3</th>\n",
       "      <td>autre</td>\n",
       "      <td>TF1</td>\n",
       "      <td>1</td>\n",
       "      <td>50</td>\n",
       "    </tr>\n",
       "    <tr>\n",
       "      <th>4</th>\n",
       "      <td>clips</td>\n",
       "      <td>CSTAR</td>\n",
       "      <td>10</td>\n",
       "      <td>906</td>\n",
       "    </tr>\n",
       "    <tr>\n",
       "      <th>...</th>\n",
       "      <td>...</td>\n",
       "      <td>...</td>\n",
       "      <td>...</td>\n",
       "      <td>...</td>\n",
       "    </tr>\n",
       "    <tr>\n",
       "      <th>253</th>\n",
       "      <td>téléfilm sentimental</td>\n",
       "      <td>TF1</td>\n",
       "      <td>1</td>\n",
       "      <td>110</td>\n",
       "    </tr>\n",
       "    <tr>\n",
       "      <th>254</th>\n",
       "      <td>téléfilm sentimental</td>\n",
       "      <td>TMC</td>\n",
       "      <td>3</td>\n",
       "      <td>300</td>\n",
       "    </tr>\n",
       "    <tr>\n",
       "      <th>255</th>\n",
       "      <td>téléfilm sentimental</td>\n",
       "      <td>W9</td>\n",
       "      <td>2</td>\n",
       "      <td>230</td>\n",
       "    </tr>\n",
       "    <tr>\n",
       "      <th>256</th>\n",
       "      <td>téléréalité</td>\n",
       "      <td>TF1</td>\n",
       "      <td>4</td>\n",
       "      <td>155</td>\n",
       "    </tr>\n",
       "    <tr>\n",
       "      <th>257</th>\n",
       "      <td>téléréalité</td>\n",
       "      <td>TFX</td>\n",
       "      <td>7</td>\n",
       "      <td>440</td>\n",
       "    </tr>\n",
       "  </tbody>\n",
       "</table>\n",
       "<p>258 rows × 4 columns</p>\n",
       "</div>"
      ],
      "text/plain": [
       "            category_text    channel_name  count  sum\n",
       "0                   autre            Arte      1   19\n",
       "1                   autre  RMC Découverte      1  354\n",
       "2                   autre       RMC Story      2  785\n",
       "3                   autre             TF1      1   50\n",
       "4                   clips           CSTAR     10  906\n",
       "..                    ...             ...    ...  ...\n",
       "253  téléfilm sentimental             TF1      1  110\n",
       "254  téléfilm sentimental             TMC      3  300\n",
       "255  téléfilm sentimental              W9      2  230\n",
       "256           téléréalité             TF1      4  155\n",
       "257           téléréalité             TFX      7  440\n",
       "\n",
       "[258 rows x 4 columns]"
      ]
     },
     "execution_count": 57,
     "metadata": {},
     "output_type": "execute_result"
    }
   ],
   "source": [
    "df_day.groupby([\"category_text\", \"channel_name\"]).length_minutes.agg([\"count\", \"sum\"]).reset_index()"
   ]
  },
  {
   "cell_type": "code",
   "execution_count": 58,
   "id": "8d0dd169",
   "metadata": {},
   "outputs": [
    {
     "data": {
      "application/vnd.plotly.v1+json": {
       "config": {
        "plotlyServerURL": "https://plot.ly"
       },
       "data": [
        {
         "alignmentgroup": "True",
         "customdata": [
          [
           "documentaire société",
           8,
           49.375
          ],
          [
           "documentaire société",
           2,
           33
          ],
          [
           "documentaire société",
           2,
           33
          ],
          [
           "documentaire société",
           1,
           70
          ],
          [
           "documentaire société",
           3,
           53.666666666666664
          ],
          [
           "documentaire société",
           1,
           60
          ],
          [
           "documentaire société",
           1,
           105
          ]
         ],
         "hovertemplate": "category_text=%{customdata[0]}<br>channel_name=%{x}<br>sum=%{y}<br>count=%{customdata[1]}<br>mean=%{customdata[2]}<extra></extra>",
         "legendgroup": "documentaire société",
         "marker": {
          "color": "#636efa",
          "pattern": {
           "shape": ""
          }
         },
         "name": "documentaire société",
         "offsetgroup": "documentaire société",
         "orientation": "v",
         "showlegend": true,
         "textposition": "auto",
         "type": "bar",
         "x": [
          "6ter",
          "Arte",
          "CSTAR",
          "France 2",
          "France 3",
          "La Chaîne parlementaire",
          "TMC"
         ],
         "xaxis": "x",
         "y": [
          395,
          66,
          66,
          70,
          161,
          60,
          105
         ],
         "yaxis": "y"
        },
        {
         "alignmentgroup": "True",
         "customdata": [
          [
           "film : drame",
           1,
           175
          ],
          [
           "film : drame",
           1,
           100
          ],
          [
           "film : drame",
           1,
           135
          ],
          [
           "film : drame",
           2,
           130
          ]
         ],
         "hovertemplate": "category_text=%{customdata[0]}<br>channel_name=%{x}<br>sum=%{y}<br>count=%{customdata[1]}<br>mean=%{customdata[2]}<extra></extra>",
         "legendgroup": "film : drame",
         "marker": {
          "color": "#EF553B",
          "pattern": {
           "shape": ""
          }
         },
         "name": "film : drame",
         "offsetgroup": "film : drame",
         "orientation": "v",
         "showlegend": true,
         "textposition": "auto",
         "type": "bar",
         "x": [
          "6ter",
          "CSTAR",
          "Canal+",
          "Chérie 25"
         ],
         "xaxis": "x",
         "y": [
          175,
          100,
          135,
          260
         ],
         "yaxis": "y"
        },
        {
         "alignmentgroup": "True",
         "customdata": [
          [
           "programme indéterminé",
           1,
           230
          ],
          [
           "programme indéterminé",
           1,
           320
          ],
          [
           "programme indéterminé",
           1,
           360
          ],
          [
           "programme indéterminé",
           1,
           245
          ],
          [
           "programme indéterminé",
           1,
           245
          ],
          [
           "programme indéterminé",
           1,
           305
          ],
          [
           "programme indéterminé",
           1,
           375
          ],
          [
           "programme indéterminé",
           1,
           380
          ],
          [
           "programme indéterminé",
           1,
           220
          ]
         ],
         "hovertemplate": "category_text=%{customdata[0]}<br>channel_name=%{x}<br>sum=%{y}<br>count=%{customdata[1]}<br>mean=%{customdata[2]}<extra></extra>",
         "legendgroup": "programme indéterminé",
         "marker": {
          "color": "#00cc96",
          "pattern": {
           "shape": ""
          }
         },
         "name": "programme indéterminé",
         "offsetgroup": "programme indéterminé",
         "orientation": "v",
         "showlegend": true,
         "textposition": "auto",
         "type": "bar",
         "x": [
          "6ter",
          "Chérie 25",
          "LCI",
          "M6",
          "NRJ 12",
          "TF1 Séries Films",
          "TFX",
          "TMC",
          "W9"
         ],
         "xaxis": "x",
         "y": [
          230,
          320,
          360,
          245,
          245,
          305,
          375,
          380,
          220
         ],
         "yaxis": "y"
        },
        {
         "alignmentgroup": "True",
         "customdata": [
          [
           "série policière",
           5,
           54
          ],
          [
           "série policière",
           3,
           112.66666666666667
          ],
          [
           "série policière",
           2,
           46
          ],
          [
           "série policière",
           3,
           55
          ],
          [
           "série policière",
           3,
           45
          ],
          [
           "série policière",
           2,
           50
          ],
          [
           "série policière",
           1,
           50
          ],
          [
           "série policière",
           5,
           55
          ]
         ],
         "hovertemplate": "category_text=%{customdata[0]}<br>channel_name=%{x}<br>sum=%{y}<br>count=%{customdata[1]}<br>mean=%{customdata[2]}<extra></extra>",
         "legendgroup": "série policière",
         "marker": {
          "color": "#ab63fa",
          "pattern": {
           "shape": ""
          }
         },
         "name": "série policière",
         "offsetgroup": "série policière",
         "orientation": "v",
         "showlegend": true,
         "textposition": "auto",
         "type": "bar",
         "x": [
          "6ter",
          "C8",
          "Canal+",
          "Chérie 25",
          "France 3",
          "TF1",
          "TF1 Séries Films",
          "TMC"
         ],
         "xaxis": "x",
         "y": [
          270,
          338,
          92,
          165,
          135,
          100,
          50,
          275
         ],
         "yaxis": "y"
        },
        {
         "alignmentgroup": "True",
         "customdata": [
          [
           "série sentimentale",
           4,
           60
          ],
          [
           "série sentimentale",
           5,
           55
          ]
         ],
         "hovertemplate": "category_text=%{customdata[0]}<br>channel_name=%{x}<br>sum=%{y}<br>count=%{customdata[1]}<br>mean=%{customdata[2]}<extra></extra>",
         "legendgroup": "série sentimentale",
         "marker": {
          "color": "#FFA15A",
          "pattern": {
           "shape": ""
          }
         },
         "name": "série sentimentale",
         "offsetgroup": "série sentimentale",
         "orientation": "v",
         "showlegend": true,
         "textposition": "auto",
         "type": "bar",
         "x": [
          "6ter",
          "TFX"
         ],
         "xaxis": "x",
         "y": [
          240,
          275
         ],
         "yaxis": "y"
        },
        {
         "alignmentgroup": "True",
         "customdata": [
          [
           "téléfilm sentimental",
           1,
           95
          ],
          [
           "téléfilm sentimental",
           1,
           100
          ],
          [
           "téléfilm sentimental",
           1,
           110
          ],
          [
           "téléfilm sentimental",
           3,
           100
          ],
          [
           "téléfilm sentimental",
           2,
           115
          ]
         ],
         "hovertemplate": "category_text=%{customdata[0]}<br>channel_name=%{x}<br>sum=%{y}<br>count=%{customdata[1]}<br>mean=%{customdata[2]}<extra></extra>",
         "legendgroup": "téléfilm sentimental",
         "marker": {
          "color": "#19d3f3",
          "pattern": {
           "shape": ""
          }
         },
         "name": "téléfilm sentimental",
         "offsetgroup": "téléfilm sentimental",
         "orientation": "v",
         "showlegend": true,
         "textposition": "auto",
         "type": "bar",
         "x": [
          "6ter",
          "Gulli",
          "TF1",
          "TMC",
          "W9"
         ],
         "xaxis": "x",
         "y": [
          95,
          100,
          110,
          300,
          230
         ],
         "yaxis": "y"
        },
        {
         "alignmentgroup": "True",
         "customdata": [
          [
           "autre",
           1,
           19
          ],
          [
           "autre",
           1,
           354
          ],
          [
           "autre",
           2,
           392.5
          ],
          [
           "autre",
           1,
           50
          ]
         ],
         "hovertemplate": "category_text=%{customdata[0]}<br>channel_name=%{x}<br>sum=%{y}<br>count=%{customdata[1]}<br>mean=%{customdata[2]}<extra></extra>",
         "legendgroup": "autre",
         "marker": {
          "color": "#FF6692",
          "pattern": {
           "shape": ""
          }
         },
         "name": "autre",
         "offsetgroup": "autre",
         "orientation": "v",
         "showlegend": true,
         "textposition": "auto",
         "type": "bar",
         "x": [
          "Arte",
          "RMC Découverte",
          "RMC Story",
          "TF1"
         ],
         "xaxis": "x",
         "y": [
          19,
          354,
          785,
          50
         ],
         "yaxis": "y"
        },
        {
         "alignmentgroup": "True",
         "customdata": [
          [
           "documentaire animalier",
           1,
           45
          ],
          [
           "documentaire animalier",
           4,
           22.25
          ],
          [
           "documentaire animalier",
           2,
           54.5
          ]
         ],
         "hovertemplate": "category_text=%{customdata[0]}<br>channel_name=%{x}<br>sum=%{y}<br>count=%{customdata[1]}<br>mean=%{customdata[2]}<extra></extra>",
         "legendgroup": "documentaire animalier",
         "marker": {
          "color": "#B6E880",
          "pattern": {
           "shape": ""
          }
         },
         "name": "documentaire animalier",
         "offsetgroup": "documentaire animalier",
         "orientation": "v",
         "showlegend": true,
         "textposition": "auto",
         "type": "bar",
         "x": [
          "Arte",
          "France 4",
          "France 5"
         ],
         "xaxis": "x",
         "y": [
          45,
          89,
          109
         ],
         "yaxis": "y"
        },
        {
         "alignmentgroup": "True",
         "customdata": [
          [
           "documentaire découvertes",
           1,
           95
          ],
          [
           "documentaire découvertes",
           1,
           54
          ],
          [
           "documentaire découvertes",
           1,
           5
          ],
          [
           "documentaire découvertes",
           2,
           18
          ]
         ],
         "hovertemplate": "category_text=%{customdata[0]}<br>channel_name=%{x}<br>sum=%{y}<br>count=%{customdata[1]}<br>mean=%{customdata[2]}<extra></extra>",
         "legendgroup": "documentaire découvertes",
         "marker": {
          "color": "#FF97FF",
          "pattern": {
           "shape": ""
          }
         },
         "name": "documentaire découvertes",
         "offsetgroup": "documentaire découvertes",
         "orientation": "v",
         "showlegend": true,
         "textposition": "auto",
         "type": "bar",
         "x": [
          "Arte",
          "Canal+",
          "France 2",
          "France 5"
         ],
         "xaxis": "x",
         "y": [
          95,
          54,
          5,
          36
         ],
         "yaxis": "y"
        },
        {
         "alignmentgroup": "True",
         "customdata": [
          [
           "documentaire environnement",
           1,
           55
          ]
         ],
         "hovertemplate": "category_text=%{customdata[0]}<br>channel_name=%{x}<br>sum=%{y}<br>count=%{customdata[1]}<br>mean=%{customdata[2]}<extra></extra>",
         "legendgroup": "documentaire environnement",
         "marker": {
          "color": "#FECB52",
          "pattern": {
           "shape": ""
          }
         },
         "name": "documentaire environnement",
         "offsetgroup": "documentaire environnement",
         "orientation": "v",
         "showlegend": true,
         "textposition": "auto",
         "type": "bar",
         "x": [
          "Arte"
         ],
         "xaxis": "x",
         "y": [
          55
         ],
         "yaxis": "y"
        },
        {
         "alignmentgroup": "True",
         "customdata": [
          [
           "documentaire histoire",
           2,
           55
          ],
          [
           "documentaire histoire",
           1,
           55
          ],
          [
           "documentaire histoire",
           1,
           60
          ]
         ],
         "hovertemplate": "category_text=%{customdata[0]}<br>channel_name=%{x}<br>sum=%{y}<br>count=%{customdata[1]}<br>mean=%{customdata[2]}<extra></extra>",
         "legendgroup": "documentaire histoire",
         "marker": {
          "color": "#636efa",
          "pattern": {
           "shape": ""
          }
         },
         "name": "documentaire histoire",
         "offsetgroup": "documentaire histoire",
         "orientation": "v",
         "showlegend": true,
         "textposition": "auto",
         "type": "bar",
         "x": [
          "Arte",
          "France 5",
          "La Chaîne parlementaire"
         ],
         "xaxis": "x",
         "y": [
          110,
          55,
          60
         ],
         "yaxis": "y"
        },
        {
         "alignmentgroup": "True",
         "customdata": [
          [
           "documentaire musique",
           1,
           75
          ],
          [
           "documentaire musique",
           1,
           35
          ]
         ],
         "hovertemplate": "category_text=%{customdata[0]}<br>channel_name=%{x}<br>sum=%{y}<br>count=%{customdata[1]}<br>mean=%{customdata[2]}<extra></extra>",
         "legendgroup": "documentaire musique",
         "marker": {
          "color": "#EF553B",
          "pattern": {
           "shape": ""
          }
         },
         "name": "documentaire musique",
         "offsetgroup": "documentaire musique",
         "orientation": "v",
         "showlegend": true,
         "textposition": "auto",
         "type": "bar",
         "x": [
          "Arte",
          "France 4"
         ],
         "xaxis": "x",
         "y": [
          75,
          35
         ],
         "yaxis": "y"
        },
        {
         "alignmentgroup": "True",
         "customdata": [
          [
           "documentaire nature",
           3,
           40
          ],
          [
           "documentaire nature",
           1,
           60
          ]
         ],
         "hovertemplate": "category_text=%{customdata[0]}<br>channel_name=%{x}<br>sum=%{y}<br>count=%{customdata[1]}<br>mean=%{customdata[2]}<extra></extra>",
         "legendgroup": "documentaire nature",
         "marker": {
          "color": "#00cc96",
          "pattern": {
           "shape": ""
          }
         },
         "name": "documentaire nature",
         "offsetgroup": "documentaire nature",
         "orientation": "v",
         "showlegend": true,
         "textposition": "auto",
         "type": "bar",
         "x": [
          "Arte",
          "France 5"
         ],
         "xaxis": "x",
         "y": [
          120,
          60
         ],
         "yaxis": "y"
        },
        {
         "alignmentgroup": "True",
         "customdata": [
          [
           "documentaire politique",
           2,
           80
          ]
         ],
         "hovertemplate": "category_text=%{customdata[0]}<br>channel_name=%{x}<br>sum=%{y}<br>count=%{customdata[1]}<br>mean=%{customdata[2]}<extra></extra>",
         "legendgroup": "documentaire politique",
         "marker": {
          "color": "#ab63fa",
          "pattern": {
           "shape": ""
          }
         },
         "name": "documentaire politique",
         "offsetgroup": "documentaire politique",
         "orientation": "v",
         "showlegend": true,
         "textposition": "auto",
         "type": "bar",
         "x": [
          "Arte"
         ],
         "xaxis": "x",
         "y": [
          160
         ],
         "yaxis": "y"
        },
        {
         "alignmentgroup": "True",
         "customdata": [
          [
           "documentaire santé",
           1,
           55
          ]
         ],
         "hovertemplate": "category_text=%{customdata[0]}<br>channel_name=%{x}<br>sum=%{y}<br>count=%{customdata[1]}<br>mean=%{customdata[2]}<extra></extra>",
         "legendgroup": "documentaire santé",
         "marker": {
          "color": "#FFA15A",
          "pattern": {
           "shape": ""
          }
         },
         "name": "documentaire santé",
         "offsetgroup": "documentaire santé",
         "orientation": "v",
         "showlegend": true,
         "textposition": "auto",
         "type": "bar",
         "x": [
          "Arte"
         ],
         "xaxis": "x",
         "y": [
          55
         ],
         "yaxis": "y"
        },
        {
         "alignmentgroup": "True",
         "customdata": [
          [
           "film d'aventures",
           1,
           100
          ]
         ],
         "hovertemplate": "category_text=%{customdata[0]}<br>channel_name=%{x}<br>sum=%{y}<br>count=%{customdata[1]}<br>mean=%{customdata[2]}<extra></extra>",
         "legendgroup": "film d'aventures",
         "marker": {
          "color": "#19d3f3",
          "pattern": {
           "shape": ""
          }
         },
         "name": "film d'aventures",
         "offsetgroup": "film d'aventures",
         "orientation": "v",
         "showlegend": true,
         "textposition": "auto",
         "type": "bar",
         "x": [
          "Arte"
         ],
         "xaxis": "x",
         "y": [
          100
         ],
         "yaxis": "y"
        },
        {
         "alignmentgroup": "True",
         "customdata": [
          [
           "journal",
           1,
           20
          ],
          [
           "journal",
           5,
           160
          ],
          [
           "journal",
           16,
           40
          ],
          [
           "journal",
           4,
           31
          ],
          [
           "journal",
           8,
           20.125
          ],
          [
           "journal",
           13,
           43.92307692307692
          ],
          [
           "journal",
           2,
           32.5
          ],
          [
           "journal",
           2,
           42.5
          ],
          [
           "journal",
           1,
           5
          ]
         ],
         "hovertemplate": "category_text=%{customdata[0]}<br>channel_name=%{x}<br>sum=%{y}<br>count=%{customdata[1]}<br>mean=%{customdata[2]}<extra></extra>",
         "legendgroup": "journal",
         "marker": {
          "color": "#FF6692",
          "pattern": {
           "shape": ""
          }
         },
         "name": "journal",
         "offsetgroup": "journal",
         "orientation": "v",
         "showlegend": true,
         "textposition": "auto",
         "type": "bar",
         "x": [
          "Arte",
          "BFMTV",
          "CNEWS",
          "France 2",
          "France 3",
          "Franceinfo",
          "M6",
          "TF1",
          "TFX"
         ],
         "xaxis": "x",
         "y": [
          20,
          800,
          640,
          124,
          161,
          571,
          65,
          85,
          5
         ],
         "yaxis": "y"
        },
        {
         "alignmentgroup": "True",
         "customdata": [
          [
           "magazine d'actualité",
           1,
           45
          ],
          [
           "magazine d'actualité",
           4,
           127.5
          ],
          [
           "magazine d'actualité",
           4,
           83.5
          ],
          [
           "magazine d'actualité",
           3,
           41.333333333333336
          ],
          [
           "magazine d'actualité",
           8,
           34.625
          ],
          [
           "magazine d'actualité",
           7,
           150
          ],
          [
           "magazine d'actualité",
           1,
           10
          ],
          [
           "magazine d'actualité",
           1,
           150
          ]
         ],
         "hovertemplate": "category_text=%{customdata[0]}<br>channel_name=%{x}<br>sum=%{y}<br>count=%{customdata[1]}<br>mean=%{customdata[2]}<extra></extra>",
         "legendgroup": "magazine d'actualité",
         "marker": {
          "color": "#B6E880",
          "pattern": {
           "shape": ""
          }
         },
         "name": "magazine d'actualité",
         "offsetgroup": "magazine d'actualité",
         "orientation": "v",
         "showlegend": true,
         "textposition": "auto",
         "type": "bar",
         "x": [
          "Arte",
          "BFMTV",
          "CNEWS",
          "Canal+",
          "Franceinfo",
          "LCI",
          "M6",
          "RMC Story"
         ],
         "xaxis": "x",
         "y": [
          45,
          510,
          334,
          124,
          277,
          1050,
          10,
          150
         ],
         "yaxis": "y"
        },
        {
         "alignmentgroup": "True",
         "customdata": [
          [
           "magazine de découvertes",
           1,
           30
          ],
          [
           "magazine de découvertes",
           3,
           40
          ]
         ],
         "hovertemplate": "category_text=%{customdata[0]}<br>channel_name=%{x}<br>sum=%{y}<br>count=%{customdata[1]}<br>mean=%{customdata[2]}<extra></extra>",
         "legendgroup": "magazine de découvertes",
         "marker": {
          "color": "#FF97FF",
          "pattern": {
           "shape": ""
          }
         },
         "name": "magazine de découvertes",
         "offsetgroup": "magazine de découvertes",
         "orientation": "v",
         "showlegend": true,
         "textposition": "auto",
         "type": "bar",
         "x": [
          "Arte",
          "France 3"
         ],
         "xaxis": "x",
         "y": [
          30,
          120
         ],
         "yaxis": "y"
        },
        {
         "alignmentgroup": "True",
         "customdata": [
          [
           "magazine de géopolitique",
           1,
           5
          ]
         ],
         "hovertemplate": "category_text=%{customdata[0]}<br>channel_name=%{x}<br>sum=%{y}<br>count=%{customdata[1]}<br>mean=%{customdata[2]}<extra></extra>",
         "legendgroup": "magazine de géopolitique",
         "marker": {
          "color": "#FECB52",
          "pattern": {
           "shape": ""
          }
         },
         "name": "magazine de géopolitique",
         "offsetgroup": "magazine de géopolitique",
         "orientation": "v",
         "showlegend": true,
         "textposition": "auto",
         "type": "bar",
         "x": [
          "Arte"
         ],
         "xaxis": "x",
         "y": [
          5
         ],
         "yaxis": "y"
        },
        {
         "alignmentgroup": "True",
         "customdata": [
          [
           "magazine du tourisme",
           3,
           46.666666666666664
          ]
         ],
         "hovertemplate": "category_text=%{customdata[0]}<br>channel_name=%{x}<br>sum=%{y}<br>count=%{customdata[1]}<br>mean=%{customdata[2]}<extra></extra>",
         "legendgroup": "magazine du tourisme",
         "marker": {
          "color": "#636efa",
          "pattern": {
           "shape": ""
          }
         },
         "name": "magazine du tourisme",
         "offsetgroup": "magazine du tourisme",
         "orientation": "v",
         "showlegend": true,
         "textposition": "auto",
         "type": "bar",
         "x": [
          "Arte"
         ],
         "xaxis": "x",
         "y": [
          140
         ],
         "yaxis": "y"
        },
        {
         "alignmentgroup": "True",
         "customdata": [
          [
           "magazine jeunesse",
           1,
           5
          ],
          [
           "magazine jeunesse",
           2,
           7.5
          ],
          [
           "magazine jeunesse",
           3,
           4.666666666666667
          ],
          [
           "magazine jeunesse",
           1,
           120
          ]
         ],
         "hovertemplate": "category_text=%{customdata[0]}<br>channel_name=%{x}<br>sum=%{y}<br>count=%{customdata[1]}<br>mean=%{customdata[2]}<extra></extra>",
         "legendgroup": "magazine jeunesse",
         "marker": {
          "color": "#EF553B",
          "pattern": {
           "shape": ""
          }
         },
         "name": "magazine jeunesse",
         "offsetgroup": "magazine jeunesse",
         "orientation": "v",
         "showlegend": true,
         "textposition": "auto",
         "type": "bar",
         "x": [
          "Arte",
          "France 4",
          "Gulli",
          "TF1"
         ],
         "xaxis": "x",
         "y": [
          5,
          15,
          14,
          120
         ],
         "yaxis": "y"
        },
        {
         "alignmentgroup": "True",
         "customdata": [
          [
           "série dramatique",
           5,
           48
          ],
          [
           "série dramatique",
           1,
           30
          ],
          [
           "série dramatique",
           11,
           45.90909090909091
          ],
          [
           "série dramatique",
           2,
           50
          ]
         ],
         "hovertemplate": "category_text=%{customdata[0]}<br>channel_name=%{x}<br>sum=%{y}<br>count=%{customdata[1]}<br>mean=%{customdata[2]}<extra></extra>",
         "legendgroup": "série dramatique",
         "marker": {
          "color": "#00cc96",
          "pattern": {
           "shape": ""
          }
         },
         "name": "série dramatique",
         "offsetgroup": "série dramatique",
         "orientation": "v",
         "showlegend": true,
         "textposition": "auto",
         "type": "bar",
         "x": [
          "Arte",
          "Canal+",
          "TF1",
          "W9"
         ],
         "xaxis": "x",
         "y": [
          240,
          30,
          505,
          100
         ],
         "yaxis": "y"
        },
        {
         "alignmentgroup": "True",
         "customdata": [
          [
           "magazine d'information",
           1,
           100
          ],
          [
           "magazine d'information",
           3,
           72
          ],
          [
           "magazine d'information",
           3,
           63.333333333333336
          ],
          [
           "magazine d'information",
           1,
           2
          ],
          [
           "magazine d'information",
           3,
           51.666666666666664
          ],
          [
           "magazine d'information",
           1,
           387
          ],
          [
           "magazine d'information",
           4,
           75
          ]
         ],
         "hovertemplate": "category_text=%{customdata[0]}<br>channel_name=%{x}<br>sum=%{y}<br>count=%{customdata[1]}<br>mean=%{customdata[2]}<extra></extra>",
         "legendgroup": "magazine d'information",
         "marker": {
          "color": "#ab63fa",
          "pattern": {
           "shape": ""
          }
         },
         "name": "magazine d'information",
         "offsetgroup": "magazine d'information",
         "orientation": "v",
         "showlegend": true,
         "textposition": "auto",
         "type": "bar",
         "x": [
          "BFMTV",
          "CNEWS",
          "France 2",
          "France 3",
          "France 5",
          "Franceinfo",
          "La Chaîne parlementaire"
         ],
         "xaxis": "x",
         "y": [
          100,
          216,
          190,
          2,
          155,
          387,
          300
         ],
         "yaxis": "y"
        },
        {
         "alignmentgroup": "True",
         "customdata": [
          [
           "magazine politique",
           1,
           30
          ],
          [
           "magazine politique",
           1,
           133
          ],
          [
           "magazine politique",
           2,
           5
          ],
          [
           "magazine politique",
           1,
           60
          ],
          [
           "magazine politique",
           6,
           80
          ]
         ],
         "hovertemplate": "category_text=%{customdata[0]}<br>channel_name=%{x}<br>sum=%{y}<br>count=%{customdata[1]}<br>mean=%{customdata[2]}<extra></extra>",
         "legendgroup": "magazine politique",
         "marker": {
          "color": "#FFA15A",
          "pattern": {
           "shape": ""
          }
         },
         "name": "magazine politique",
         "offsetgroup": "magazine politique",
         "orientation": "v",
         "showlegend": true,
         "textposition": "auto",
         "type": "bar",
         "x": [
          "BFMTV",
          "CNEWS",
          "France 5",
          "Franceinfo",
          "La Chaîne parlementaire"
         ],
         "xaxis": "x",
         "y": [
          30,
          133,
          10,
          60,
          480
         ],
         "yaxis": "y"
        },
        {
         "alignmentgroup": "True",
         "customdata": [
          [
           "divertissement",
           1,
           67
          ],
          [
           "divertissement",
           5,
           7
          ],
          [
           "divertissement",
           3,
           7.666666666666667
          ],
          [
           "divertissement",
           7,
           22.571428571428573
          ],
          [
           "divertissement",
           1,
           70
          ],
          [
           "divertissement",
           2,
           70
          ],
          [
           "divertissement",
           3,
           55
          ],
          [
           "divertissement",
           1,
           120
          ]
         ],
         "hovertemplate": "category_text=%{customdata[0]}<br>channel_name=%{x}<br>sum=%{y}<br>count=%{customdata[1]}<br>mean=%{customdata[2]}<extra></extra>",
         "legendgroup": "divertissement",
         "marker": {
          "color": "#19d3f3",
          "pattern": {
           "shape": ""
          }
         },
         "name": "divertissement",
         "offsetgroup": "divertissement",
         "orientation": "v",
         "showlegend": true,
         "textposition": "auto",
         "type": "bar",
         "x": [
          "C8",
          "CNEWS",
          "CSTAR",
          "Canal+",
          "France 4",
          "M6",
          "TMC",
          "W9"
         ],
         "xaxis": "x",
         "y": [
          67,
          35,
          23,
          158,
          70,
          140,
          165,
          120
         ],
         "yaxis": "y"
        },
        {
         "alignmentgroup": "True",
         "customdata": [
          [
           "divertissement-humour",
           7,
           39.57142857142857
          ],
          [
           "divertissement-humour",
           2,
           35
          ],
          [
           "divertissement-humour",
           1,
           15
          ]
         ],
         "hovertemplate": "category_text=%{customdata[0]}<br>channel_name=%{x}<br>sum=%{y}<br>count=%{customdata[1]}<br>mean=%{customdata[2]}<extra></extra>",
         "legendgroup": "divertissement-humour",
         "marker": {
          "color": "#FF6692",
          "pattern": {
           "shape": ""
          }
         },
         "name": "divertissement-humour",
         "offsetgroup": "divertissement-humour",
         "orientation": "v",
         "showlegend": true,
         "textposition": "auto",
         "type": "bar",
         "x": [
          "C8",
          "France 4",
          "TF1"
         ],
         "xaxis": "x",
         "y": [
          277,
          70,
          15
         ],
         "yaxis": "y"
        },
        {
         "alignmentgroup": "True",
         "customdata": [
          [
           "interview",
           1,
           36
          ],
          [
           "interview",
           2,
           21
          ],
          [
           "interview",
           1,
           30
          ]
         ],
         "hovertemplate": "category_text=%{customdata[0]}<br>channel_name=%{x}<br>sum=%{y}<br>count=%{customdata[1]}<br>mean=%{customdata[2]}<extra></extra>",
         "legendgroup": "interview",
         "marker": {
          "color": "#B6E880",
          "pattern": {
           "shape": ""
          }
         },
         "name": "interview",
         "offsetgroup": "interview",
         "orientation": "v",
         "showlegend": true,
         "textposition": "auto",
         "type": "bar",
         "x": [
          "C8",
          "Franceinfo",
          "LCI"
         ],
         "xaxis": "x",
         "y": [
          36,
          42,
          30
         ],
         "yaxis": "y"
        },
        {
         "alignmentgroup": "True",
         "customdata": [
          [
           "magazine de reportages",
           1,
           132
          ],
          [
           "magazine de reportages",
           2,
           110
          ],
          [
           "magazine de reportages",
           1,
           110
          ],
          [
           "magazine de reportages",
           1,
           145
          ],
          [
           "magazine de reportages",
           3,
           46.666666666666664
          ]
         ],
         "hovertemplate": "category_text=%{customdata[0]}<br>channel_name=%{x}<br>sum=%{y}<br>count=%{customdata[1]}<br>mean=%{customdata[2]}<extra></extra>",
         "legendgroup": "magazine de reportages",
         "marker": {
          "color": "#FF97FF",
          "pattern": {
           "shape": ""
          }
         },
         "name": "magazine de reportages",
         "offsetgroup": "magazine de reportages",
         "orientation": "v",
         "showlegend": true,
         "textposition": "auto",
         "type": "bar",
         "x": [
          "C8",
          "CSTAR",
          "France 3",
          "France 5",
          "M6"
         ],
         "xaxis": "x",
         "y": [
          132,
          220,
          110,
          145,
          140
         ],
         "yaxis": "y"
        },
        {
         "alignmentgroup": "True",
         "customdata": [
          [
           "magazine de société",
           4,
           75
          ],
          [
           "magazine de société",
           10,
           33
          ],
          [
           "magazine de société",
           4,
           45
          ],
          [
           "magazine de société",
           1,
           10
          ],
          [
           "magazine de société",
           2,
           30
          ],
          [
           "magazine de société",
           2,
           107.5
          ],
          [
           "magazine de société",
           1,
           110
          ]
         ],
         "hovertemplate": "category_text=%{customdata[0]}<br>channel_name=%{x}<br>sum=%{y}<br>count=%{customdata[1]}<br>mean=%{customdata[2]}<extra></extra>",
         "legendgroup": "magazine de société",
         "marker": {
          "color": "#FECB52",
          "pattern": {
           "shape": ""
          }
         },
         "name": "magazine de société",
         "offsetgroup": "magazine de société",
         "orientation": "v",
         "showlegend": true,
         "textposition": "auto",
         "type": "bar",
         "x": [
          "C8",
          "Chérie 25",
          "France 2",
          "Gulli",
          "La Chaîne parlementaire",
          "RMC Story",
          "W9"
         ],
         "xaxis": "x",
         "y": [
          300,
          330,
          180,
          10,
          60,
          215,
          110
         ],
         "yaxis": "y"
        },
        {
         "alignmentgroup": "True",
         "customdata": [
          [
           "magazine de télé-achat",
           1,
           150
          ],
          [
           "magazine de télé-achat",
           1,
           180
          ],
          [
           "magazine de télé-achat",
           1,
           75
          ],
          [
           "magazine de télé-achat",
           1,
           180
          ],
          [
           "magazine de télé-achat",
           1,
           50
          ],
          [
           "magazine de télé-achat",
           1,
           120
          ],
          [
           "magazine de télé-achat",
           1,
           105
          ]
         ],
         "hovertemplate": "category_text=%{customdata[0]}<br>channel_name=%{x}<br>sum=%{y}<br>count=%{customdata[1]}<br>mean=%{customdata[2]}<extra></extra>",
         "legendgroup": "magazine de télé-achat",
         "marker": {
          "color": "#636efa",
          "pattern": {
           "shape": ""
          }
         },
         "name": "magazine de télé-achat",
         "offsetgroup": "magazine de télé-achat",
         "orientation": "v",
         "showlegend": true,
         "textposition": "auto",
         "type": "bar",
         "x": [
          "C8",
          "Chérie 25",
          "M6",
          "NRJ 12",
          "TF1",
          "TFX",
          "TMC"
         ],
         "xaxis": "x",
         "y": [
          150,
          180,
          75,
          180,
          50,
          120,
          105
         ],
         "yaxis": "y"
        },
        {
         "alignmentgroup": "True",
         "customdata": [
          [
           "musique : techno",
           1,
           70
          ]
         ],
         "hovertemplate": "category_text=%{customdata[0]}<br>channel_name=%{x}<br>sum=%{y}<br>count=%{customdata[1]}<br>mean=%{customdata[2]}<extra></extra>",
         "legendgroup": "musique : techno",
         "marker": {
          "color": "#EF553B",
          "pattern": {
           "shape": ""
          }
         },
         "name": "musique : techno",
         "offsetgroup": "musique : techno",
         "orientation": "v",
         "showlegend": true,
         "textposition": "auto",
         "type": "bar",
         "x": [
          "C8"
         ],
         "xaxis": "x",
         "y": [
          70
         ],
         "yaxis": "y"
        },
        {
         "alignmentgroup": "True",
         "customdata": [
          [
           "sport : fitness",
           2,
           30
          ]
         ],
         "hovertemplate": "category_text=%{customdata[0]}<br>channel_name=%{x}<br>sum=%{y}<br>count=%{customdata[1]}<br>mean=%{customdata[2]}<extra></extra>",
         "legendgroup": "sport : fitness",
         "marker": {
          "color": "#00cc96",
          "pattern": {
           "shape": ""
          }
         },
         "name": "sport : fitness",
         "offsetgroup": "sport : fitness",
         "orientation": "v",
         "showlegend": true,
         "textposition": "auto",
         "type": "bar",
         "x": [
          "C8"
         ],
         "xaxis": "x",
         "y": [
          60
         ],
         "yaxis": "y"
        },
        {
         "alignmentgroup": "True",
         "customdata": [
          [
           "magazine culturel",
           2,
           11
          ],
          [
           "magazine culturel",
           1,
           25
          ],
          [
           "magazine culturel",
           1,
           5
          ]
         ],
         "hovertemplate": "category_text=%{customdata[0]}<br>channel_name=%{x}<br>sum=%{y}<br>count=%{customdata[1]}<br>mean=%{customdata[2]}<extra></extra>",
         "legendgroup": "magazine culturel",
         "marker": {
          "color": "#ab63fa",
          "pattern": {
           "shape": ""
          }
         },
         "name": "magazine culturel",
         "offsetgroup": "magazine culturel",
         "orientation": "v",
         "showlegend": true,
         "textposition": "auto",
         "type": "bar",
         "x": [
          "CNEWS",
          "France 4",
          "Franceinfo"
         ],
         "xaxis": "x",
         "y": [
          22,
          25,
          5
         ],
         "yaxis": "y"
        },
        {
         "alignmentgroup": "True",
         "customdata": [
          [
           "magazine de l'économie",
           5,
           5.4
          ],
          [
           "magazine de l'économie",
           2,
           8
          ],
          [
           "magazine de l'économie",
           1,
           205
          ]
         ],
         "hovertemplate": "category_text=%{customdata[0]}<br>channel_name=%{x}<br>sum=%{y}<br>count=%{customdata[1]}<br>mean=%{customdata[2]}<extra></extra>",
         "legendgroup": "magazine de l'économie",
         "marker": {
          "color": "#FFA15A",
          "pattern": {
           "shape": ""
          }
         },
         "name": "magazine de l'économie",
         "offsetgroup": "magazine de l'économie",
         "orientation": "v",
         "showlegend": true,
         "textposition": "auto",
         "type": "bar",
         "x": [
          "CNEWS",
          "Franceinfo",
          "RMC Découverte"
         ],
         "xaxis": "x",
         "y": [
          27,
          16,
          205
         ],
         "yaxis": "y"
        },
        {
         "alignmentgroup": "True",
         "customdata": [
          [
           "météo",
           19,
           1.7894736842105263
          ],
          [
           "météo",
           6,
           4.833333333333333
          ],
          [
           "météo",
           7,
           4.714285714285714
          ],
          [
           "météo",
           4,
           8.75
          ],
          [
           "météo",
           5,
           7
          ],
          [
           "météo",
           2,
           5
          ],
          [
           "météo",
           2,
           5
          ]
         ],
         "hovertemplate": "category_text=%{customdata[0]}<br>channel_name=%{x}<br>sum=%{y}<br>count=%{customdata[1]}<br>mean=%{customdata[2]}<extra></extra>",
         "legendgroup": "météo",
         "marker": {
          "color": "#19d3f3",
          "pattern": {
           "shape": ""
          }
         },
         "name": "météo",
         "offsetgroup": "météo",
         "orientation": "v",
         "showlegend": true,
         "textposition": "auto",
         "type": "bar",
         "x": [
          "CNEWS",
          "France 2",
          "France 3",
          "M6",
          "TF1",
          "TMC",
          "W9"
         ],
         "xaxis": "x",
         "y": [
          34,
          29,
          33,
          35,
          35,
          10,
          10
         ],
         "yaxis": "y"
        },
        {
         "alignmentgroup": "True",
         "customdata": [
          [
           "clips",
           10,
           90.6
          ],
          [
           "clips",
           1,
           50
          ],
          [
           "clips",
           4,
           63.75
          ]
         ],
         "hovertemplate": "category_text=%{customdata[0]}<br>channel_name=%{x}<br>sum=%{y}<br>count=%{customdata[1]}<br>mean=%{customdata[2]}<extra></extra>",
         "legendgroup": "clips",
         "marker": {
          "color": "#FF6692",
          "pattern": {
           "shape": ""
          }
         },
         "name": "clips",
         "offsetgroup": "clips",
         "orientation": "v",
         "showlegend": true,
         "textposition": "auto",
         "type": "bar",
         "x": [
          "CSTAR",
          "M6",
          "W9"
         ],
         "xaxis": "x",
         "y": [
          906,
          50,
          255
         ],
         "yaxis": "y"
        },
        {
         "alignmentgroup": "True",
         "customdata": [
          [
           "documentaire téléréalité",
           2,
           55
          ],
          [
           "documentaire téléréalité",
           1,
           103
          ],
          [
           "documentaire téléréalité",
           10,
           61
          ],
          [
           "documentaire téléréalité",
           3,
           51.666666666666664
          ]
         ],
         "hovertemplate": "category_text=%{customdata[0]}<br>channel_name=%{x}<br>sum=%{y}<br>count=%{customdata[1]}<br>mean=%{customdata[2]}<extra></extra>",
         "legendgroup": "documentaire téléréalité",
         "marker": {
          "color": "#B6E880",
          "pattern": {
           "shape": ""
          }
         },
         "name": "documentaire téléréalité",
         "offsetgroup": "documentaire téléréalité",
         "orientation": "v",
         "showlegend": true,
         "textposition": "auto",
         "type": "bar",
         "x": [
          "CSTAR",
          "Gulli",
          "RMC Découverte",
          "RMC Story"
         ],
         "xaxis": "x",
         "y": [
          110,
          103,
          610,
          155
         ],
         "yaxis": "y"
        },
        {
         "alignmentgroup": "True",
         "customdata": [
          [
           "documentaire culture",
           1,
           18
          ],
          [
           "documentaire culture",
           1,
           110
          ]
         ],
         "hovertemplate": "category_text=%{customdata[0]}<br>channel_name=%{x}<br>sum=%{y}<br>count=%{customdata[1]}<br>mean=%{customdata[2]}<extra></extra>",
         "legendgroup": "documentaire culture",
         "marker": {
          "color": "#FF97FF",
          "pattern": {
           "shape": ""
          }
         },
         "name": "documentaire culture",
         "offsetgroup": "documentaire culture",
         "orientation": "v",
         "showlegend": true,
         "textposition": "auto",
         "type": "bar",
         "x": [
          "Canal+",
          "NRJ 12"
         ],
         "xaxis": "x",
         "y": [
          18,
          110
         ],
         "yaxis": "y"
        },
        {
         "alignmentgroup": "True",
         "customdata": [
          [
           "film : court métrage",
           1,
           29
          ]
         ],
         "hovertemplate": "category_text=%{customdata[0]}<br>channel_name=%{x}<br>sum=%{y}<br>count=%{customdata[1]}<br>mean=%{customdata[2]}<extra></extra>",
         "legendgroup": "film : court métrage",
         "marker": {
          "color": "#FECB52",
          "pattern": {
           "shape": ""
          }
         },
         "name": "film : court métrage",
         "offsetgroup": "film : court métrage",
         "orientation": "v",
         "showlegend": true,
         "textposition": "auto",
         "type": "bar",
         "x": [
          "Canal+"
         ],
         "xaxis": "x",
         "y": [
          29
         ],
         "yaxis": "y"
        },
        {
         "alignmentgroup": "True",
         "customdata": [
          [
           "film : drame historique",
           1,
           96
          ]
         ],
         "hovertemplate": "category_text=%{customdata[0]}<br>channel_name=%{x}<br>sum=%{y}<br>count=%{customdata[1]}<br>mean=%{customdata[2]}<extra></extra>",
         "legendgroup": "film : drame historique",
         "marker": {
          "color": "#636efa",
          "pattern": {
           "shape": ""
          }
         },
         "name": "film : drame historique",
         "offsetgroup": "film : drame historique",
         "orientation": "v",
         "showlegend": true,
         "textposition": "auto",
         "type": "bar",
         "x": [
          "Canal+"
         ],
         "xaxis": "x",
         "y": [
          96
         ],
         "yaxis": "y"
        },
        {
         "alignmentgroup": "True",
         "customdata": [
          [
           "film : thriller",
           1,
           145
          ]
         ],
         "hovertemplate": "category_text=%{customdata[0]}<br>channel_name=%{x}<br>sum=%{y}<br>count=%{customdata[1]}<br>mean=%{customdata[2]}<extra></extra>",
         "legendgroup": "film : thriller",
         "marker": {
          "color": "#EF553B",
          "pattern": {
           "shape": ""
          }
         },
         "name": "film : thriller",
         "offsetgroup": "film : thriller",
         "orientation": "v",
         "showlegend": true,
         "textposition": "auto",
         "type": "bar",
         "x": [
          "Canal+"
         ],
         "xaxis": "x",
         "y": [
          145
         ],
         "yaxis": "y"
        },
        {
         "alignmentgroup": "True",
         "customdata": [
          [
           "film fantastique",
           1,
           139
          ]
         ],
         "hovertemplate": "category_text=%{customdata[0]}<br>channel_name=%{x}<br>sum=%{y}<br>count=%{customdata[1]}<br>mean=%{customdata[2]}<extra></extra>",
         "legendgroup": "film fantastique",
         "marker": {
          "color": "#00cc96",
          "pattern": {
           "shape": ""
          }
         },
         "name": "film fantastique",
         "offsetgroup": "film fantastique",
         "orientation": "v",
         "showlegend": true,
         "textposition": "auto",
         "type": "bar",
         "x": [
          "Canal+"
         ],
         "xaxis": "x",
         "y": [
          139
         ],
         "yaxis": "y"
        },
        {
         "alignmentgroup": "True",
         "customdata": [
          [
           "magazine du cinéma",
           1,
           14
          ],
          [
           "magazine du cinéma",
           2,
           5
          ]
         ],
         "hovertemplate": "category_text=%{customdata[0]}<br>channel_name=%{x}<br>sum=%{y}<br>count=%{customdata[1]}<br>mean=%{customdata[2]}<extra></extra>",
         "legendgroup": "magazine du cinéma",
         "marker": {
          "color": "#ab63fa",
          "pattern": {
           "shape": ""
          }
         },
         "name": "magazine du cinéma",
         "offsetgroup": "magazine du cinéma",
         "orientation": "v",
         "showlegend": true,
         "textposition": "auto",
         "type": "bar",
         "x": [
          "Canal+",
          "France 4"
         ],
         "xaxis": "x",
         "y": [
          14,
          10
         ],
         "yaxis": "y"
        },
        {
         "alignmentgroup": "True",
         "customdata": [
          [
           "sport : golf",
           1,
           152
          ]
         ],
         "hovertemplate": "category_text=%{customdata[0]}<br>channel_name=%{x}<br>sum=%{y}<br>count=%{customdata[1]}<br>mean=%{customdata[2]}<extra></extra>",
         "legendgroup": "sport : golf",
         "marker": {
          "color": "#FFA15A",
          "pattern": {
           "shape": ""
          }
         },
         "name": "sport : golf",
         "offsetgroup": "sport : golf",
         "orientation": "v",
         "showlegend": true,
         "textposition": "auto",
         "type": "bar",
         "x": [
          "Canal+"
         ],
         "xaxis": "x",
         "y": [
          152
         ],
         "yaxis": "y"
        },
        {
         "alignmentgroup": "True",
         "customdata": [
          [
           "série d'animation",
           1,
           4
          ],
          [
           "série d'animation",
           9,
           9
          ],
          [
           "série d'animation",
           68,
           10.455882352941176
          ],
          [
           "série d'animation",
           35,
           6.742857142857143
          ],
          [
           "série d'animation",
           40,
           11.975
          ],
          [
           "série d'animation",
           5,
           16
          ]
         ],
         "hovertemplate": "category_text=%{customdata[0]}<br>channel_name=%{x}<br>sum=%{y}<br>count=%{customdata[1]}<br>mean=%{customdata[2]}<extra></extra>",
         "legendgroup": "série d'animation",
         "marker": {
          "color": "#19d3f3",
          "pattern": {
           "shape": ""
          }
         },
         "name": "série d'animation",
         "offsetgroup": "série d'animation",
         "orientation": "v",
         "showlegend": true,
         "textposition": "auto",
         "type": "bar",
         "x": [
          "Canal+",
          "France 3",
          "France 4",
          "France 5",
          "Gulli",
          "M6"
         ],
         "xaxis": "x",
         "y": [
          4,
          81,
          711,
          236,
          479,
          80
         ],
         "yaxis": "y"
        },
        {
         "alignmentgroup": "True",
         "customdata": [
          [
           "série historique",
           4,
           54.75
          ]
         ],
         "hovertemplate": "category_text=%{customdata[0]}<br>channel_name=%{x}<br>sum=%{y}<br>count=%{customdata[1]}<br>mean=%{customdata[2]}<extra></extra>",
         "legendgroup": "série historique",
         "marker": {
          "color": "#FF6692",
          "pattern": {
           "shape": ""
          }
         },
         "name": "série historique",
         "offsetgroup": "série historique",
         "orientation": "v",
         "showlegend": true,
         "textposition": "auto",
         "type": "bar",
         "x": [
          "Canal+"
         ],
         "xaxis": "x",
         "y": [
          219
         ],
         "yaxis": "y"
        },
        {
         "alignmentgroup": "True",
         "customdata": [
          [
           "talk-show",
           1,
           42
          ],
          [
           "talk-show",
           5,
           59
          ],
          [
           "talk-show",
           2,
           180
          ]
         ],
         "hovertemplate": "category_text=%{customdata[0]}<br>channel_name=%{x}<br>sum=%{y}<br>count=%{customdata[1]}<br>mean=%{customdata[2]}<extra></extra>",
         "legendgroup": "talk-show",
         "marker": {
          "color": "#B6E880",
          "pattern": {
           "shape": ""
          }
         },
         "name": "talk-show",
         "offsetgroup": "talk-show",
         "orientation": "v",
         "showlegend": true,
         "textposition": "auto",
         "type": "bar",
         "x": [
          "Canal+",
          "France 5",
          "RMC Story"
         ],
         "xaxis": "x",
         "y": [
          42,
          295,
          360
         ],
         "yaxis": "y"
        },
        {
         "alignmentgroup": "True",
         "customdata": [
          [
           "documentaire justice",
           2,
           55
          ],
          [
           "documentaire justice",
           2,
           77.5
          ]
         ],
         "hovertemplate": "category_text=%{customdata[0]}<br>channel_name=%{x}<br>sum=%{y}<br>count=%{customdata[1]}<br>mean=%{customdata[2]}<extra></extra>",
         "legendgroup": "documentaire justice",
         "marker": {
          "color": "#FF97FF",
          "pattern": {
           "shape": ""
          }
         },
         "name": "documentaire justice",
         "offsetgroup": "documentaire justice",
         "orientation": "v",
         "showlegend": true,
         "textposition": "auto",
         "type": "bar",
         "x": [
          "Chérie 25",
          "RMC Story"
         ],
         "xaxis": "x",
         "y": [
          110,
          155
         ],
         "yaxis": "y"
        },
        {
         "alignmentgroup": "True",
         "customdata": [
          [
           "magazine judiciaire",
           4,
           30
          ]
         ],
         "hovertemplate": "category_text=%{customdata[0]}<br>channel_name=%{x}<br>sum=%{y}<br>count=%{customdata[1]}<br>mean=%{customdata[2]}<extra></extra>",
         "legendgroup": "magazine judiciaire",
         "marker": {
          "color": "#FECB52",
          "pattern": {
           "shape": ""
          }
         },
         "name": "magazine judiciaire",
         "offsetgroup": "magazine judiciaire",
         "orientation": "v",
         "showlegend": true,
         "textposition": "auto",
         "type": "bar",
         "x": [
          "Chérie 25"
         ],
         "xaxis": "x",
         "y": [
          120
         ],
         "yaxis": "y"
        },
        {
         "alignmentgroup": "True",
         "customdata": [
          [
           "divertissement : jeu",
           8,
           38.75
          ],
          [
           "divertissement : jeu",
           6,
           38.666666666666664
          ],
          [
           "divertissement : jeu",
           3,
           83.33333333333333
          ],
          [
           "divertissement : jeu",
           1,
           65
          ],
          [
           "divertissement : jeu",
           3,
           63.333333333333336
          ]
         ],
         "hovertemplate": "category_text=%{customdata[0]}<br>channel_name=%{x}<br>sum=%{y}<br>count=%{customdata[1]}<br>mean=%{customdata[2]}<extra></extra>",
         "legendgroup": "divertissement : jeu",
         "marker": {
          "color": "#636efa",
          "pattern": {
           "shape": ""
          }
         },
         "name": "divertissement : jeu",
         "offsetgroup": "divertissement : jeu",
         "orientation": "v",
         "showlegend": true,
         "textposition": "auto",
         "type": "bar",
         "x": [
          "France 2",
          "France 3",
          "M6",
          "TF1",
          "W9"
         ],
         "xaxis": "x",
         "y": [
          310,
          232,
          250,
          65,
          190
         ],
         "yaxis": "y"
        },
        {
         "alignmentgroup": "True",
         "customdata": [
          [
           "feuilleton policier",
           2,
           27.5
          ]
         ],
         "hovertemplate": "category_text=%{customdata[0]}<br>channel_name=%{x}<br>sum=%{y}<br>count=%{customdata[1]}<br>mean=%{customdata[2]}<extra></extra>",
         "legendgroup": "feuilleton policier",
         "marker": {
          "color": "#EF553B",
          "pattern": {
           "shape": ""
          }
         },
         "name": "feuilleton policier",
         "offsetgroup": "feuilleton policier",
         "orientation": "v",
         "showlegend": true,
         "textposition": "auto",
         "type": "bar",
         "x": [
          "France 2"
         ],
         "xaxis": "x",
         "y": [
          55
         ],
         "yaxis": "y"
        },
        {
         "alignmentgroup": "True",
         "customdata": [
          [
           "feuilleton sentimental",
           1,
           20
          ],
          [
           "feuilleton sentimental",
           1,
           45
          ]
         ],
         "hovertemplate": "category_text=%{customdata[0]}<br>channel_name=%{x}<br>sum=%{y}<br>count=%{customdata[1]}<br>mean=%{customdata[2]}<extra></extra>",
         "legendgroup": "feuilleton sentimental",
         "marker": {
          "color": "#00cc96",
          "pattern": {
           "shape": ""
          }
         },
         "name": "feuilleton sentimental",
         "offsetgroup": "feuilleton sentimental",
         "orientation": "v",
         "showlegend": true,
         "textposition": "auto",
         "type": "bar",
         "x": [
          "France 2",
          "TF1"
         ],
         "xaxis": "x",
         "y": [
          20,
          45
         ],
         "yaxis": "y"
        },
        {
         "alignmentgroup": "True",
         "customdata": [
          [
           "magazine de l'art de vivre",
           3,
           36.666666666666664
          ]
         ],
         "hovertemplate": "category_text=%{customdata[0]}<br>channel_name=%{x}<br>sum=%{y}<br>count=%{customdata[1]}<br>mean=%{customdata[2]}<extra></extra>",
         "legendgroup": "magazine de l'art de vivre",
         "marker": {
          "color": "#ab63fa",
          "pattern": {
           "shape": ""
          }
         },
         "name": "magazine de l'art de vivre",
         "offsetgroup": "magazine de l'art de vivre",
         "orientation": "v",
         "showlegend": true,
         "textposition": "auto",
         "type": "bar",
         "x": [
          "France 2"
         ],
         "xaxis": "x",
         "y": [
          110
         ],
         "yaxis": "y"
        },
        {
         "alignmentgroup": "True",
         "customdata": [
          [
           "magazine de la décoration",
           1,
           2
          ]
         ],
         "hovertemplate": "category_text=%{customdata[0]}<br>channel_name=%{x}<br>sum=%{y}<br>count=%{customdata[1]}<br>mean=%{customdata[2]}<extra></extra>",
         "legendgroup": "magazine de la décoration",
         "marker": {
          "color": "#FFA15A",
          "pattern": {
           "shape": ""
          }
         },
         "name": "magazine de la décoration",
         "offsetgroup": "magazine de la décoration",
         "orientation": "v",
         "showlegend": true,
         "textposition": "auto",
         "type": "bar",
         "x": [
          "France 2"
         ],
         "xaxis": "x",
         "y": [
          2
         ],
         "yaxis": "y"
        },
        {
         "alignmentgroup": "True",
         "customdata": [
          [
           "magazine de services",
           3,
           56.666666666666664
          ]
         ],
         "hovertemplate": "category_text=%{customdata[0]}<br>channel_name=%{x}<br>sum=%{y}<br>count=%{customdata[1]}<br>mean=%{customdata[2]}<extra></extra>",
         "legendgroup": "magazine de services",
         "marker": {
          "color": "#19d3f3",
          "pattern": {
           "shape": ""
          }
         },
         "name": "magazine de services",
         "offsetgroup": "magazine de services",
         "orientation": "v",
         "showlegend": true,
         "textposition": "auto",
         "type": "bar",
         "x": [
          "France 2"
         ],
         "xaxis": "x",
         "y": [
          170
         ],
         "yaxis": "y"
        },
        {
         "alignmentgroup": "True",
         "customdata": [
          [
           "magazine du consommateur",
           1,
           10
          ],
          [
           "magazine du consommateur",
           1,
           5
          ],
          [
           "magazine du consommateur",
           1,
           1
          ],
          [
           "magazine du consommateur",
           1,
           5
          ],
          [
           "magazine du consommateur",
           2,
           77.5
          ],
          [
           "magazine du consommateur",
           1,
           15
          ]
         ],
         "hovertemplate": "category_text=%{customdata[0]}<br>channel_name=%{x}<br>sum=%{y}<br>count=%{customdata[1]}<br>mean=%{customdata[2]}<extra></extra>",
         "legendgroup": "magazine du consommateur",
         "marker": {
          "color": "#FF6692",
          "pattern": {
           "shape": ""
          }
         },
         "name": "magazine du consommateur",
         "offsetgroup": "magazine du consommateur",
         "orientation": "v",
         "showlegend": true,
         "textposition": "auto",
         "type": "bar",
         "x": [
          "France 2",
          "France 3",
          "France 4",
          "France 5",
          "M6",
          "TMC"
         ],
         "xaxis": "x",
         "y": [
          10,
          5,
          1,
          5,
          155,
          15
         ],
         "yaxis": "y"
        },
        {
         "alignmentgroup": "True",
         "customdata": [
          [
           "magazine littéraire",
           1,
           5
          ],
          [
           "magazine littéraire",
           2,
           8
          ],
          [
           "magazine littéraire",
           2,
           7.5
          ]
         ],
         "hovertemplate": "category_text=%{customdata[0]}<br>channel_name=%{x}<br>sum=%{y}<br>count=%{customdata[1]}<br>mean=%{customdata[2]}<extra></extra>",
         "legendgroup": "magazine littéraire",
         "marker": {
          "color": "#B6E880",
          "pattern": {
           "shape": ""
          }
         },
         "name": "magazine littéraire",
         "offsetgroup": "magazine littéraire",
         "orientation": "v",
         "showlegend": true,
         "textposition": "auto",
         "type": "bar",
         "x": [
          "France 2",
          "France 3",
          "France 5"
         ],
         "xaxis": "x",
         "y": [
          5,
          16,
          15
         ],
         "yaxis": "y"
        },
        {
         "alignmentgroup": "True",
         "customdata": [
          [
           "magazine musical",
           1,
           2
          ],
          [
           "magazine musical",
           1,
           25
          ],
          [
           "magazine musical",
           2,
           47.5
          ]
         ],
         "hovertemplate": "category_text=%{customdata[0]}<br>channel_name=%{x}<br>sum=%{y}<br>count=%{customdata[1]}<br>mean=%{customdata[2]}<extra></extra>",
         "legendgroup": "magazine musical",
         "marker": {
          "color": "#FF97FF",
          "pattern": {
           "shape": ""
          }
         },
         "name": "magazine musical",
         "offsetgroup": "magazine musical",
         "orientation": "v",
         "showlegend": true,
         "textposition": "auto",
         "type": "bar",
         "x": [
          "France 2",
          "France 3",
          "France 4"
         ],
         "xaxis": "x",
         "y": [
          2,
          25,
          95
         ],
         "yaxis": "y"
        },
        {
         "alignmentgroup": "True",
         "customdata": [
          [
           "magazine religieux",
           1,
           55
          ]
         ],
         "hovertemplate": "category_text=%{customdata[0]}<br>channel_name=%{x}<br>sum=%{y}<br>count=%{customdata[1]}<br>mean=%{customdata[2]}<extra></extra>",
         "legendgroup": "magazine religieux",
         "marker": {
          "color": "#FECB52",
          "pattern": {
           "shape": ""
          }
         },
         "name": "magazine religieux",
         "offsetgroup": "magazine religieux",
         "orientation": "v",
         "showlegend": true,
         "textposition": "auto",
         "type": "bar",
         "x": [
          "France 2"
         ],
         "xaxis": "x",
         "y": [
          55
         ],
         "yaxis": "y"
        },
        {
         "alignmentgroup": "True",
         "customdata": [
          [
           "sport : rugby",
           1,
           3
          ]
         ],
         "hovertemplate": "category_text=%{customdata[0]}<br>channel_name=%{x}<br>sum=%{y}<br>count=%{customdata[1]}<br>mean=%{customdata[2]}<extra></extra>",
         "legendgroup": "sport : rugby",
         "marker": {
          "color": "#636efa",
          "pattern": {
           "shape": ""
          }
         },
         "name": "sport : rugby",
         "offsetgroup": "sport : rugby",
         "orientation": "v",
         "showlegend": true,
         "textposition": "auto",
         "type": "bar",
         "x": [
          "France 2"
         ],
         "xaxis": "x",
         "y": [
          3
         ],
         "yaxis": "y"
        },
        {
         "alignmentgroup": "True",
         "customdata": [
          [
           "téléfilm dramatique",
           1,
           90
          ],
          [
           "téléfilm dramatique",
           1,
           100
          ]
         ],
         "hovertemplate": "category_text=%{customdata[0]}<br>channel_name=%{x}<br>sum=%{y}<br>count=%{customdata[1]}<br>mean=%{customdata[2]}<extra></extra>",
         "legendgroup": "téléfilm dramatique",
         "marker": {
          "color": "#EF553B",
          "pattern": {
           "shape": ""
          }
         },
         "name": "téléfilm dramatique",
         "offsetgroup": "téléfilm dramatique",
         "orientation": "v",
         "showlegend": true,
         "textposition": "auto",
         "type": "bar",
         "x": [
          "France 2",
          "W9"
         ],
         "xaxis": "x",
         "y": [
          90,
          100
         ],
         "yaxis": "y"
        },
        {
         "alignmentgroup": "True",
         "customdata": [
          [
           "feuilleton réaliste",
           2,
           27.5
          ]
         ],
         "hovertemplate": "category_text=%{customdata[0]}<br>channel_name=%{x}<br>sum=%{y}<br>count=%{customdata[1]}<br>mean=%{customdata[2]}<extra></extra>",
         "legendgroup": "feuilleton réaliste",
         "marker": {
          "color": "#00cc96",
          "pattern": {
           "shape": ""
          }
         },
         "name": "feuilleton réaliste",
         "offsetgroup": "feuilleton réaliste",
         "orientation": "v",
         "showlegend": true,
         "textposition": "auto",
         "type": "bar",
         "x": [
          "France 3"
         ],
         "xaxis": "x",
         "y": [
          55
         ],
         "yaxis": "y"
        },
        {
         "alignmentgroup": "True",
         "customdata": [
          [
           "jeunesse : dessin animé dessin animé",
           10,
           6.4
          ],
          [
           "jeunesse : dessin animé dessin animé",
           2,
           22.5
          ],
          [
           "jeunesse : dessin animé dessin animé",
           3,
           8
          ],
          [
           "jeunesse : dessin animé dessin animé",
           38,
           15.394736842105264
          ],
          [
           "jeunesse : dessin animé dessin animé",
           3,
           13.333333333333334
          ]
         ],
         "hovertemplate": "category_text=%{customdata[0]}<br>channel_name=%{x}<br>sum=%{y}<br>count=%{customdata[1]}<br>mean=%{customdata[2]}<extra></extra>",
         "legendgroup": "jeunesse : dessin animé dessin animé",
         "marker": {
          "color": "#ab63fa",
          "pattern": {
           "shape": ""
          }
         },
         "name": "jeunesse : dessin animé dessin animé",
         "offsetgroup": "jeunesse : dessin animé dessin animé",
         "orientation": "v",
         "showlegend": true,
         "textposition": "auto",
         "type": "bar",
         "x": [
          "France 3",
          "France 4",
          "France 5",
          "Gulli",
          "M6"
         ],
         "xaxis": "x",
         "y": [
          64,
          45,
          24,
          585,
          40
         ],
         "yaxis": "y"
        },
        {
         "alignmentgroup": "True",
         "customdata": [
          [
           "jeunesse : dessin animé jeunesse",
           1,
           5
          ]
         ],
         "hovertemplate": "category_text=%{customdata[0]}<br>channel_name=%{x}<br>sum=%{y}<br>count=%{customdata[1]}<br>mean=%{customdata[2]}<extra></extra>",
         "legendgroup": "jeunesse : dessin animé jeunesse",
         "marker": {
          "color": "#FFA15A",
          "pattern": {
           "shape": ""
          }
         },
         "name": "jeunesse : dessin animé jeunesse",
         "offsetgroup": "jeunesse : dessin animé jeunesse",
         "orientation": "v",
         "showlegend": true,
         "textposition": "auto",
         "type": "bar",
         "x": [
          "France 3"
         ],
         "xaxis": "x",
         "y": [
          5
         ],
         "yaxis": "y"
        },
        {
         "alignmentgroup": "True",
         "customdata": [
          [
           "magazine culinaire",
           1,
           20
          ],
          [
           "magazine culinaire",
           1,
           65
          ]
         ],
         "hovertemplate": "category_text=%{customdata[0]}<br>channel_name=%{x}<br>sum=%{y}<br>count=%{customdata[1]}<br>mean=%{customdata[2]}<extra></extra>",
         "legendgroup": "magazine culinaire",
         "marker": {
          "color": "#19d3f3",
          "pattern": {
           "shape": ""
          }
         },
         "name": "magazine culinaire",
         "offsetgroup": "magazine culinaire",
         "orientation": "v",
         "showlegend": true,
         "textposition": "auto",
         "type": "bar",
         "x": [
          "France 3",
          "M6"
         ],
         "xaxis": "x",
         "y": [
          20,
          65
         ],
         "yaxis": "y"
        },
        {
         "alignmentgroup": "True",
         "customdata": [
          [
           "magazine de la mer",
           1,
           54
          ]
         ],
         "hovertemplate": "category_text=%{customdata[0]}<br>channel_name=%{x}<br>sum=%{y}<br>count=%{customdata[1]}<br>mean=%{customdata[2]}<extra></extra>",
         "legendgroup": "magazine de la mer",
         "marker": {
          "color": "#FF6692",
          "pattern": {
           "shape": ""
          }
         },
         "name": "magazine de la mer",
         "offsetgroup": "magazine de la mer",
         "orientation": "v",
         "showlegend": true,
         "textposition": "auto",
         "type": "bar",
         "x": [
          "France 3"
         ],
         "xaxis": "x",
         "y": [
          54
         ],
         "yaxis": "y"
        },
        {
         "alignmentgroup": "True",
         "customdata": [
          [
           "magazine régional",
           2,
           43
          ]
         ],
         "hovertemplate": "category_text=%{customdata[0]}<br>channel_name=%{x}<br>sum=%{y}<br>count=%{customdata[1]}<br>mean=%{customdata[2]}<extra></extra>",
         "legendgroup": "magazine régional",
         "marker": {
          "color": "#B6E880",
          "pattern": {
           "shape": ""
          }
         },
         "name": "magazine régional",
         "offsetgroup": "magazine régional",
         "orientation": "v",
         "showlegend": true,
         "textposition": "auto",
         "type": "bar",
         "x": [
          "France 3"
         ],
         "xaxis": "x",
         "y": [
          86
         ],
         "yaxis": "y"
        },
        {
         "alignmentgroup": "True",
         "customdata": [
          [
           "magazine sportif",
           1,
           5
          ]
         ],
         "hovertemplate": "category_text=%{customdata[0]}<br>channel_name=%{x}<br>sum=%{y}<br>count=%{customdata[1]}<br>mean=%{customdata[2]}<extra></extra>",
         "legendgroup": "magazine sportif",
         "marker": {
          "color": "#FF97FF",
          "pattern": {
           "shape": ""
          }
         },
         "name": "magazine sportif",
         "offsetgroup": "magazine sportif",
         "orientation": "v",
         "showlegend": true,
         "textposition": "auto",
         "type": "bar",
         "x": [
          "France 3"
         ],
         "xaxis": "x",
         "y": [
          5
         ],
         "yaxis": "y"
        },
        {
         "alignmentgroup": "True",
         "customdata": [
          [
           "sport : multisports",
           1,
           10
          ],
          [
           "sport : multisports",
           15,
           57.53333333333333
          ]
         ],
         "hovertemplate": "category_text=%{customdata[0]}<br>channel_name=%{x}<br>sum=%{y}<br>count=%{customdata[1]}<br>mean=%{customdata[2]}<extra></extra>",
         "legendgroup": "sport : multisports",
         "marker": {
          "color": "#FECB52",
          "pattern": {
           "shape": ""
          }
         },
         "name": "sport : multisports",
         "offsetgroup": "sport : multisports",
         "orientation": "v",
         "showlegend": true,
         "textposition": "auto",
         "type": "bar",
         "x": [
          "France 3",
          "L'Equipe"
         ],
         "xaxis": "x",
         "y": [
          10,
          863
         ],
         "yaxis": "y"
        },
        {
         "alignmentgroup": "True",
         "customdata": [
          [
           "téléfilm policier",
           1,
           95
          ],
          [
           "téléfilm policier",
           1,
           110
          ]
         ],
         "hovertemplate": "category_text=%{customdata[0]}<br>channel_name=%{x}<br>sum=%{y}<br>count=%{customdata[1]}<br>mean=%{customdata[2]}<extra></extra>",
         "legendgroup": "téléfilm policier",
         "marker": {
          "color": "#636efa",
          "pattern": {
           "shape": ""
          }
         },
         "name": "téléfilm policier",
         "offsetgroup": "téléfilm policier",
         "orientation": "v",
         "showlegend": true,
         "textposition": "auto",
         "type": "bar",
         "x": [
          "France 3",
          "NRJ 12"
         ],
         "xaxis": "x",
         "y": [
          95,
          110
         ],
         "yaxis": "y"
        },
        {
         "alignmentgroup": "True",
         "customdata": [
          [
           "jeunesse : emission jeunesse",
           5,
           4.2
          ]
         ],
         "hovertemplate": "category_text=%{customdata[0]}<br>channel_name=%{x}<br>sum=%{y}<br>count=%{customdata[1]}<br>mean=%{customdata[2]}<extra></extra>",
         "legendgroup": "jeunesse : emission jeunesse",
         "marker": {
          "color": "#EF553B",
          "pattern": {
           "shape": ""
          }
         },
         "name": "jeunesse : emission jeunesse",
         "offsetgroup": "jeunesse : emission jeunesse",
         "orientation": "v",
         "showlegend": true,
         "textposition": "auto",
         "type": "bar",
         "x": [
          "France 4"
         ],
         "xaxis": "x",
         "y": [
          21
         ],
         "yaxis": "y"
        },
        {
         "alignmentgroup": "True",
         "customdata": [
          [
           "magazine médical",
           1,
           100
          ]
         ],
         "hovertemplate": "category_text=%{customdata[0]}<br>channel_name=%{x}<br>sum=%{y}<br>count=%{customdata[1]}<br>mean=%{customdata[2]}<extra></extra>",
         "legendgroup": "magazine médical",
         "marker": {
          "color": "#00cc96",
          "pattern": {
           "shape": ""
          }
         },
         "name": "magazine médical",
         "offsetgroup": "magazine médical",
         "orientation": "v",
         "showlegend": true,
         "textposition": "auto",
         "type": "bar",
         "x": [
          "France 4"
         ],
         "xaxis": "x",
         "y": [
          100
         ],
         "yaxis": "y"
        },
        {
         "alignmentgroup": "True",
         "customdata": [
          [
           "série culinaire",
           1,
           9
          ]
         ],
         "hovertemplate": "category_text=%{customdata[0]}<br>channel_name=%{x}<br>sum=%{y}<br>count=%{customdata[1]}<br>mean=%{customdata[2]}<extra></extra>",
         "legendgroup": "série culinaire",
         "marker": {
          "color": "#ab63fa",
          "pattern": {
           "shape": ""
          }
         },
         "name": "série culinaire",
         "offsetgroup": "série culinaire",
         "orientation": "v",
         "showlegend": true,
         "textposition": "auto",
         "type": "bar",
         "x": [
          "France 4"
         ],
         "xaxis": "x",
         "y": [
          9
         ],
         "yaxis": "y"
        },
        {
         "alignmentgroup": "True",
         "customdata": [
          [
           "série jeunesse",
           3,
           11.333333333333334
          ]
         ],
         "hovertemplate": "category_text=%{customdata[0]}<br>channel_name=%{x}<br>sum=%{y}<br>count=%{customdata[1]}<br>mean=%{customdata[2]}<extra></extra>",
         "legendgroup": "série jeunesse",
         "marker": {
          "color": "#FFA15A",
          "pattern": {
           "shape": ""
          }
         },
         "name": "série jeunesse",
         "offsetgroup": "série jeunesse",
         "orientation": "v",
         "showlegend": true,
         "textposition": "auto",
         "type": "bar",
         "x": [
          "France 4"
         ],
         "xaxis": "x",
         "y": [
          34
         ],
         "yaxis": "y"
        },
        {
         "alignmentgroup": "True",
         "customdata": [
          [
           "théâtre : pièce de théâtre",
           1,
           75
          ]
         ],
         "hovertemplate": "category_text=%{customdata[0]}<br>channel_name=%{x}<br>sum=%{y}<br>count=%{customdata[1]}<br>mean=%{customdata[2]}<extra></extra>",
         "legendgroup": "théâtre : pièce de théâtre",
         "marker": {
          "color": "#19d3f3",
          "pattern": {
           "shape": ""
          }
         },
         "name": "théâtre : pièce de théâtre",
         "offsetgroup": "théâtre : pièce de théâtre",
         "orientation": "v",
         "showlegend": true,
         "textposition": "auto",
         "type": "bar",
         "x": [
          "France 4"
         ],
         "xaxis": "x",
         "y": [
          75
         ],
         "yaxis": "y"
        },
        {
         "alignmentgroup": "True",
         "customdata": [
          [
           "documentaire gastronomie",
           1,
           40
          ],
          [
           "documentaire gastronomie",
           1,
           35
          ]
         ],
         "hovertemplate": "category_text=%{customdata[0]}<br>channel_name=%{x}<br>sum=%{y}<br>count=%{customdata[1]}<br>mean=%{customdata[2]}<extra></extra>",
         "legendgroup": "documentaire gastronomie",
         "marker": {
          "color": "#FF6692",
          "pattern": {
           "shape": ""
          }
         },
         "name": "documentaire gastronomie",
         "offsetgroup": "documentaire gastronomie",
         "orientation": "v",
         "showlegend": true,
         "textposition": "auto",
         "type": "bar",
         "x": [
          "France 5",
          "M6"
         ],
         "xaxis": "x",
         "y": [
          40,
          35
         ],
         "yaxis": "y"
        },
        {
         "alignmentgroup": "True",
         "customdata": [
          [
           "documentaire sciences et technique",
           2,
           72.5
          ],
          [
           "documentaire sciences et technique",
           3,
           71.66666666666667
          ]
         ],
         "hovertemplate": "category_text=%{customdata[0]}<br>channel_name=%{x}<br>sum=%{y}<br>count=%{customdata[1]}<br>mean=%{customdata[2]}<extra></extra>",
         "legendgroup": "documentaire sciences et technique",
         "marker": {
          "color": "#B6E880",
          "pattern": {
           "shape": ""
          }
         },
         "name": "documentaire sciences et technique",
         "offsetgroup": "documentaire sciences et technique",
         "orientation": "v",
         "showlegend": true,
         "textposition": "auto",
         "type": "bar",
         "x": [
          "France 5",
          "RMC Découverte"
         ],
         "xaxis": "x",
         "y": [
          145,
          215
         ],
         "yaxis": "y"
        },
        {
         "alignmentgroup": "True",
         "customdata": [
          [
           "magazine de la santé",
           2,
           55
          ]
         ],
         "hovertemplate": "category_text=%{customdata[0]}<br>channel_name=%{x}<br>sum=%{y}<br>count=%{customdata[1]}<br>mean=%{customdata[2]}<extra></extra>",
         "legendgroup": "magazine de la santé",
         "marker": {
          "color": "#FF97FF",
          "pattern": {
           "shape": ""
          }
         },
         "name": "magazine de la santé",
         "offsetgroup": "magazine de la santé",
         "orientation": "v",
         "showlegend": true,
         "textposition": "auto",
         "type": "bar",
         "x": [
          "France 5"
         ],
         "xaxis": "x",
         "y": [
          110
         ],
         "yaxis": "y"
        },
        {
         "alignmentgroup": "True",
         "customdata": [
          [
           "débat",
           2,
           41
          ],
          [
           "débat",
           2,
           30
          ]
         ],
         "hovertemplate": "category_text=%{customdata[0]}<br>channel_name=%{x}<br>sum=%{y}<br>count=%{customdata[1]}<br>mean=%{customdata[2]}<extra></extra>",
         "legendgroup": "débat",
         "marker": {
          "color": "#FECB52",
          "pattern": {
           "shape": ""
          }
         },
         "name": "débat",
         "offsetgroup": "débat",
         "orientation": "v",
         "showlegend": true,
         "textposition": "auto",
         "type": "bar",
         "x": [
          "Franceinfo",
          "La Chaîne parlementaire"
         ],
         "xaxis": "x",
         "y": [
          82,
          60
         ],
         "yaxis": "y"
        },
        {
         "alignmentgroup": "True",
         "customdata": [
          [
           "magazine de l'environnement",
           1,
           2
          ]
         ],
         "hovertemplate": "category_text=%{customdata[0]}<br>channel_name=%{x}<br>sum=%{y}<br>count=%{customdata[1]}<br>mean=%{customdata[2]}<extra></extra>",
         "legendgroup": "magazine de l'environnement",
         "marker": {
          "color": "#636efa",
          "pattern": {
           "shape": ""
          }
         },
         "name": "magazine de l'environnement",
         "offsetgroup": "magazine de l'environnement",
         "orientation": "v",
         "showlegend": true,
         "textposition": "auto",
         "type": "bar",
         "x": [
          "Gulli"
         ],
         "xaxis": "x",
         "y": [
          2
         ],
         "yaxis": "y"
        },
        {
         "alignmentgroup": "True",
         "customdata": [
          [
           "magazine éducatif",
           2,
           1
          ]
         ],
         "hovertemplate": "category_text=%{customdata[0]}<br>channel_name=%{x}<br>sum=%{y}<br>count=%{customdata[1]}<br>mean=%{customdata[2]}<extra></extra>",
         "legendgroup": "magazine éducatif",
         "marker": {
          "color": "#EF553B",
          "pattern": {
           "shape": ""
          }
         },
         "name": "magazine éducatif",
         "offsetgroup": "magazine éducatif",
         "orientation": "v",
         "showlegend": true,
         "textposition": "auto",
         "type": "bar",
         "x": [
          "Gulli"
         ],
         "xaxis": "x",
         "y": [
          2
         ],
         "yaxis": "y"
        },
        {
         "alignmentgroup": "True",
         "customdata": [
          [
           "série humoristique",
           2,
           27.5
          ],
          [
           "série humoristique",
           2,
           30
          ],
          [
           "série humoristique",
           13,
           33.84615384615385
          ],
          [
           "série humoristique",
           19,
           27.105263157894736
          ]
         ],
         "hovertemplate": "category_text=%{customdata[0]}<br>channel_name=%{x}<br>sum=%{y}<br>count=%{customdata[1]}<br>mean=%{customdata[2]}<extra></extra>",
         "legendgroup": "série humoristique",
         "marker": {
          "color": "#00cc96",
          "pattern": {
           "shape": ""
          }
         },
         "name": "série humoristique",
         "offsetgroup": "série humoristique",
         "orientation": "v",
         "showlegend": true,
         "textposition": "auto",
         "type": "bar",
         "x": [
          "Gulli",
          "M6",
          "NRJ 12",
          "TF1 Séries Films"
         ],
         "xaxis": "x",
         "y": [
          55,
          60,
          440,
          515
         ],
         "yaxis": "y"
        },
        {
         "alignmentgroup": "True",
         "customdata": [
          [
           "téléfilm romanesque",
           1,
           90
          ]
         ],
         "hovertemplate": "category_text=%{customdata[0]}<br>channel_name=%{x}<br>sum=%{y}<br>count=%{customdata[1]}<br>mean=%{customdata[2]}<extra></extra>",
         "legendgroup": "téléfilm romanesque",
         "marker": {
          "color": "#ab63fa",
          "pattern": {
           "shape": ""
          }
         },
         "name": "téléfilm romanesque",
         "offsetgroup": "téléfilm romanesque",
         "orientation": "v",
         "showlegend": true,
         "textposition": "auto",
         "type": "bar",
         "x": [
          "Gulli"
         ],
         "xaxis": "x",
         "y": [
          90
         ],
         "yaxis": "y"
        },
        {
         "alignmentgroup": "True",
         "customdata": [
          [
           "magazine de l'automobile",
           4,
           58.5
          ]
         ],
         "hovertemplate": "category_text=%{customdata[0]}<br>channel_name=%{x}<br>sum=%{y}<br>count=%{customdata[1]}<br>mean=%{customdata[2]}<extra></extra>",
         "legendgroup": "magazine de l'automobile",
         "marker": {
          "color": "#FFA15A",
          "pattern": {
           "shape": ""
          }
         },
         "name": "magazine de l'automobile",
         "offsetgroup": "magazine de l'automobile",
         "orientation": "v",
         "showlegend": true,
         "textposition": "auto",
         "type": "bar",
         "x": [
          "L'Equipe"
         ],
         "xaxis": "x",
         "y": [
          234
         ],
         "yaxis": "y"
        },
        {
         "alignmentgroup": "True",
         "customdata": [
          [
           "sport : basket-ball",
           1,
           115
          ]
         ],
         "hovertemplate": "category_text=%{customdata[0]}<br>channel_name=%{x}<br>sum=%{y}<br>count=%{customdata[1]}<br>mean=%{customdata[2]}<extra></extra>",
         "legendgroup": "sport : basket-ball",
         "marker": {
          "color": "#19d3f3",
          "pattern": {
           "shape": ""
          }
         },
         "name": "sport : basket-ball",
         "offsetgroup": "sport : basket-ball",
         "orientation": "v",
         "showlegend": true,
         "textposition": "auto",
         "type": "bar",
         "x": [
          "L'Equipe"
         ],
         "xaxis": "x",
         "y": [
          115
         ],
         "yaxis": "y"
        },
        {
         "alignmentgroup": "True",
         "customdata": [
          [
           "sport : football",
           1,
           75
          ]
         ],
         "hovertemplate": "category_text=%{customdata[0]}<br>channel_name=%{x}<br>sum=%{y}<br>count=%{customdata[1]}<br>mean=%{customdata[2]}<extra></extra>",
         "legendgroup": "sport : football",
         "marker": {
          "color": "#FF6692",
          "pattern": {
           "shape": ""
          }
         },
         "name": "sport : football",
         "offsetgroup": "sport : football",
         "orientation": "v",
         "showlegend": true,
         "textposition": "auto",
         "type": "bar",
         "x": [
          "L'Equipe"
         ],
         "xaxis": "x",
         "y": [
          75
         ],
         "yaxis": "y"
        },
        {
         "alignmentgroup": "True",
         "customdata": [
          [
           "sport de force",
           1,
           180
          ]
         ],
         "hovertemplate": "category_text=%{customdata[0]}<br>channel_name=%{x}<br>sum=%{y}<br>count=%{customdata[1]}<br>mean=%{customdata[2]}<extra></extra>",
         "legendgroup": "sport de force",
         "marker": {
          "color": "#B6E880",
          "pattern": {
           "shape": ""
          }
         },
         "name": "sport de force",
         "offsetgroup": "sport de force",
         "orientation": "v",
         "showlegend": true,
         "textposition": "auto",
         "type": "bar",
         "x": [
          "L'Equipe"
         ],
         "xaxis": "x",
         "y": [
          180
         ],
         "yaxis": "y"
        },
        {
         "alignmentgroup": "True",
         "customdata": [
          [
           "débat parlementaire",
           4,
           82.5
          ]
         ],
         "hovertemplate": "category_text=%{customdata[0]}<br>channel_name=%{x}<br>sum=%{y}<br>count=%{customdata[1]}<br>mean=%{customdata[2]}<extra></extra>",
         "legendgroup": "débat parlementaire",
         "marker": {
          "color": "#FF97FF",
          "pattern": {
           "shape": ""
          }
         },
         "name": "débat parlementaire",
         "offsetgroup": "débat parlementaire",
         "orientation": "v",
         "showlegend": true,
         "textposition": "auto",
         "type": "bar",
         "x": [
          "La Chaîne parlementaire"
         ],
         "xaxis": "x",
         "y": [
          330
         ],
         "yaxis": "y"
        },
        {
         "alignmentgroup": "True",
         "customdata": [
          [
           "emission politique",
           1,
           90
          ]
         ],
         "hovertemplate": "category_text=%{customdata[0]}<br>channel_name=%{x}<br>sum=%{y}<br>count=%{customdata[1]}<br>mean=%{customdata[2]}<extra></extra>",
         "legendgroup": "emission politique",
         "marker": {
          "color": "#FECB52",
          "pattern": {
           "shape": ""
          }
         },
         "name": "emission politique",
         "offsetgroup": "emission politique",
         "orientation": "v",
         "showlegend": true,
         "textposition": "auto",
         "type": "bar",
         "x": [
          "La Chaîne parlementaire"
         ],
         "xaxis": "x",
         "y": [
          90
         ],
         "yaxis": "y"
        },
        {
         "alignmentgroup": "True",
         "customdata": [
          [
           "humour",
           1,
           105
          ]
         ],
         "hovertemplate": "category_text=%{customdata[0]}<br>channel_name=%{x}<br>sum=%{y}<br>count=%{customdata[1]}<br>mean=%{customdata[2]}<extra></extra>",
         "legendgroup": "humour",
         "marker": {
          "color": "#636efa",
          "pattern": {
           "shape": ""
          }
         },
         "name": "humour",
         "offsetgroup": "humour",
         "orientation": "v",
         "showlegend": true,
         "textposition": "auto",
         "type": "bar",
         "x": [
          "NRJ 12"
         ],
         "xaxis": "x",
         "y": [
          105
         ],
         "yaxis": "y"
        },
        {
         "alignmentgroup": "True",
         "customdata": [
          [
           "série fantastique",
           5,
           52
          ]
         ],
         "hovertemplate": "category_text=%{customdata[0]}<br>channel_name=%{x}<br>sum=%{y}<br>count=%{customdata[1]}<br>mean=%{customdata[2]}<extra></extra>",
         "legendgroup": "série fantastique",
         "marker": {
          "color": "#EF553B",
          "pattern": {
           "shape": ""
          }
         },
         "name": "série fantastique",
         "offsetgroup": "série fantastique",
         "orientation": "v",
         "showlegend": true,
         "textposition": "auto",
         "type": "bar",
         "x": [
          "NRJ 12"
         ],
         "xaxis": "x",
         "y": [
          260
         ],
         "yaxis": "y"
        },
        {
         "alignmentgroup": "True",
         "customdata": [
          [
           "sport : hippisme",
           1,
           50
          ]
         ],
         "hovertemplate": "category_text=%{customdata[0]}<br>channel_name=%{x}<br>sum=%{y}<br>count=%{customdata[1]}<br>mean=%{customdata[2]}<extra></extra>",
         "legendgroup": "sport : hippisme",
         "marker": {
          "color": "#00cc96",
          "pattern": {
           "shape": ""
          }
         },
         "name": "sport : hippisme",
         "offsetgroup": "sport : hippisme",
         "orientation": "v",
         "showlegend": true,
         "textposition": "auto",
         "type": "bar",
         "x": [
          "RMC Découverte"
         ],
         "xaxis": "x",
         "y": [
          50
         ],
         "yaxis": "y"
        },
        {
         "alignmentgroup": "True",
         "customdata": [
          [
           "film sentimental",
           1,
           105
          ]
         ],
         "hovertemplate": "category_text=%{customdata[0]}<br>channel_name=%{x}<br>sum=%{y}<br>count=%{customdata[1]}<br>mean=%{customdata[2]}<extra></extra>",
         "legendgroup": "film sentimental",
         "marker": {
          "color": "#ab63fa",
          "pattern": {
           "shape": ""
          }
         },
         "name": "film sentimental",
         "offsetgroup": "film sentimental",
         "orientation": "v",
         "showlegend": true,
         "textposition": "auto",
         "type": "bar",
         "x": [
          "TF1"
         ],
         "xaxis": "x",
         "y": [
          105
         ],
         "yaxis": "y"
        },
        {
         "alignmentgroup": "True",
         "customdata": [
          [
           "magazine de la gastronomie",
           3,
           5
          ],
          [
           "magazine de la gastronomie",
           2,
           5
          ],
          [
           "magazine de la gastronomie",
           2,
           5
          ]
         ],
         "hovertemplate": "category_text=%{customdata[0]}<br>channel_name=%{x}<br>sum=%{y}<br>count=%{customdata[1]}<br>mean=%{customdata[2]}<extra></extra>",
         "legendgroup": "magazine de la gastronomie",
         "marker": {
          "color": "#FFA15A",
          "pattern": {
           "shape": ""
          }
         },
         "name": "magazine de la gastronomie",
         "offsetgroup": "magazine de la gastronomie",
         "orientation": "v",
         "showlegend": true,
         "textposition": "auto",
         "type": "bar",
         "x": [
          "TF1",
          "TF1 Séries Films",
          "TFX"
         ],
         "xaxis": "x",
         "y": [
          15,
          10,
          10
         ],
         "yaxis": "y"
        },
        {
         "alignmentgroup": "True",
         "customdata": [
          [
           "téléréalité",
           4,
           38.75
          ],
          [
           "téléréalité",
           7,
           62.857142857142854
          ]
         ],
         "hovertemplate": "category_text=%{customdata[0]}<br>channel_name=%{x}<br>sum=%{y}<br>count=%{customdata[1]}<br>mean=%{customdata[2]}<extra></extra>",
         "legendgroup": "téléréalité",
         "marker": {
          "color": "#19d3f3",
          "pattern": {
           "shape": ""
          }
         },
         "name": "téléréalité",
         "offsetgroup": "téléréalité",
         "orientation": "v",
         "showlegend": true,
         "textposition": "auto",
         "type": "bar",
         "x": [
          "TF1",
          "TFX"
         ],
         "xaxis": "x",
         "y": [
          155,
          440
         ],
         "yaxis": "y"
        },
        {
         "alignmentgroup": "True",
         "customdata": [
          [
           "film d'action",
           1,
           115
          ]
         ],
         "hovertemplate": "category_text=%{customdata[0]}<br>channel_name=%{x}<br>sum=%{y}<br>count=%{customdata[1]}<br>mean=%{customdata[2]}<extra></extra>",
         "legendgroup": "film d'action",
         "marker": {
          "color": "#FF6692",
          "pattern": {
           "shape": ""
          }
         },
         "name": "film d'action",
         "offsetgroup": "film d'action",
         "orientation": "v",
         "showlegend": true,
         "textposition": "auto",
         "type": "bar",
         "x": [
          "TF1 Séries Films"
         ],
         "xaxis": "x",
         "y": [
          115
         ],
         "yaxis": "y"
        },
        {
         "alignmentgroup": "True",
         "customdata": [
          [
           "film de science-fiction",
           1,
           115
          ]
         ],
         "hovertemplate": "category_text=%{customdata[0]}<br>channel_name=%{x}<br>sum=%{y}<br>count=%{customdata[1]}<br>mean=%{customdata[2]}<extra></extra>",
         "legendgroup": "film de science-fiction",
         "marker": {
          "color": "#B6E880",
          "pattern": {
           "shape": ""
          }
         },
         "name": "film de science-fiction",
         "offsetgroup": "film de science-fiction",
         "orientation": "v",
         "showlegend": true,
         "textposition": "auto",
         "type": "bar",
         "x": [
          "TF1 Séries Films"
         ],
         "xaxis": "x",
         "y": [
          115
         ],
         "yaxis": "y"
        },
        {
         "alignmentgroup": "True",
         "customdata": [
          [
           "série réaliste",
           11,
           31.818181818181817
          ]
         ],
         "hovertemplate": "category_text=%{customdata[0]}<br>channel_name=%{x}<br>sum=%{y}<br>count=%{customdata[1]}<br>mean=%{customdata[2]}<extra></extra>",
         "legendgroup": "série réaliste",
         "marker": {
          "color": "#FF97FF",
          "pattern": {
           "shape": ""
          }
         },
         "name": "série réaliste",
         "offsetgroup": "série réaliste",
         "orientation": "v",
         "showlegend": true,
         "textposition": "auto",
         "type": "bar",
         "x": [
          "TF1 Séries Films"
         ],
         "xaxis": "x",
         "y": [
          350
         ],
         "yaxis": "y"
        },
        {
         "alignmentgroup": "True",
         "customdata": [
          [
           "film d'animation",
           2,
           110
          ]
         ],
         "hovertemplate": "category_text=%{customdata[0]}<br>channel_name=%{x}<br>sum=%{y}<br>count=%{customdata[1]}<br>mean=%{customdata[2]}<extra></extra>",
         "legendgroup": "film d'animation",
         "marker": {
          "color": "#FECB52",
          "pattern": {
           "shape": ""
          }
         },
         "name": "film d'animation",
         "offsetgroup": "film d'animation",
         "orientation": "v",
         "showlegend": true,
         "textposition": "auto",
         "type": "bar",
         "x": [
          "TFX"
         ],
         "xaxis": "x",
         "y": [
          220
         ],
         "yaxis": "y"
        },
        {
         "alignmentgroup": "True",
         "customdata": [
          [
           "magazine du show-biz",
           1,
           110
          ]
         ],
         "hovertemplate": "category_text=%{customdata[0]}<br>channel_name=%{x}<br>sum=%{y}<br>count=%{customdata[1]}<br>mean=%{customdata[2]}<extra></extra>",
         "legendgroup": "magazine du show-biz",
         "marker": {
          "color": "#636efa",
          "pattern": {
           "shape": ""
          }
         },
         "name": "magazine du show-biz",
         "offsetgroup": "magazine du show-biz",
         "orientation": "v",
         "showlegend": true,
         "textposition": "auto",
         "type": "bar",
         "x": [
          "TMC"
         ],
         "xaxis": "x",
         "y": [
          110
         ],
         "yaxis": "y"
        },
        {
         "alignmentgroup": "True",
         "customdata": [
          [
           "film catastrophe",
           1,
           115
          ]
         ],
         "hovertemplate": "category_text=%{customdata[0]}<br>channel_name=%{x}<br>sum=%{y}<br>count=%{customdata[1]}<br>mean=%{customdata[2]}<extra></extra>",
         "legendgroup": "film catastrophe",
         "marker": {
          "color": "#EF553B",
          "pattern": {
           "shape": ""
          }
         },
         "name": "film catastrophe",
         "offsetgroup": "film catastrophe",
         "orientation": "v",
         "showlegend": true,
         "textposition": "auto",
         "type": "bar",
         "x": [
          "W9"
         ],
         "xaxis": "x",
         "y": [
          115
         ],
         "yaxis": "y"
        }
       ],
       "layout": {
        "annotations": [
         {
          "font": {
           "color": "black",
           "size": 12
          },
          "showarrow": false,
          "text": "24 hours of content",
          "x": 0,
          "xanchor": "left",
          "xref": "x domain",
          "y": 1440,
          "yanchor": "bottom",
          "yref": "y"
         }
        ],
        "barmode": "relative",
        "legend": {
         "title": {
          "text": "category_text"
         },
         "tracegroupgap": 0
        },
        "shapes": [
         {
          "line": {
           "dash": "dot"
          },
          "type": "line",
          "x0": 0,
          "x1": 1,
          "xref": "x domain",
          "y0": 1440,
          "y1": 1440,
          "yref": "y"
         }
        ],
        "template": {
         "data": {
          "bar": [
           {
            "error_x": {
             "color": "#2a3f5f"
            },
            "error_y": {
             "color": "#2a3f5f"
            },
            "marker": {
             "line": {
              "color": "#E5ECF6",
              "width": 0.5
             },
             "pattern": {
              "fillmode": "overlay",
              "size": 10,
              "solidity": 0.2
             }
            },
            "type": "bar"
           }
          ],
          "barpolar": [
           {
            "marker": {
             "line": {
              "color": "#E5ECF6",
              "width": 0.5
             },
             "pattern": {
              "fillmode": "overlay",
              "size": 10,
              "solidity": 0.2
             }
            },
            "type": "barpolar"
           }
          ],
          "carpet": [
           {
            "aaxis": {
             "endlinecolor": "#2a3f5f",
             "gridcolor": "white",
             "linecolor": "white",
             "minorgridcolor": "white",
             "startlinecolor": "#2a3f5f"
            },
            "baxis": {
             "endlinecolor": "#2a3f5f",
             "gridcolor": "white",
             "linecolor": "white",
             "minorgridcolor": "white",
             "startlinecolor": "#2a3f5f"
            },
            "type": "carpet"
           }
          ],
          "choropleth": [
           {
            "colorbar": {
             "outlinewidth": 0,
             "ticks": ""
            },
            "type": "choropleth"
           }
          ],
          "contour": [
           {
            "colorbar": {
             "outlinewidth": 0,
             "ticks": ""
            },
            "colorscale": [
             [
              0,
              "#0d0887"
             ],
             [
              0.1111111111111111,
              "#46039f"
             ],
             [
              0.2222222222222222,
              "#7201a8"
             ],
             [
              0.3333333333333333,
              "#9c179e"
             ],
             [
              0.4444444444444444,
              "#bd3786"
             ],
             [
              0.5555555555555556,
              "#d8576b"
             ],
             [
              0.6666666666666666,
              "#ed7953"
             ],
             [
              0.7777777777777778,
              "#fb9f3a"
             ],
             [
              0.8888888888888888,
              "#fdca26"
             ],
             [
              1,
              "#f0f921"
             ]
            ],
            "type": "contour"
           }
          ],
          "contourcarpet": [
           {
            "colorbar": {
             "outlinewidth": 0,
             "ticks": ""
            },
            "type": "contourcarpet"
           }
          ],
          "heatmap": [
           {
            "colorbar": {
             "outlinewidth": 0,
             "ticks": ""
            },
            "colorscale": [
             [
              0,
              "#0d0887"
             ],
             [
              0.1111111111111111,
              "#46039f"
             ],
             [
              0.2222222222222222,
              "#7201a8"
             ],
             [
              0.3333333333333333,
              "#9c179e"
             ],
             [
              0.4444444444444444,
              "#bd3786"
             ],
             [
              0.5555555555555556,
              "#d8576b"
             ],
             [
              0.6666666666666666,
              "#ed7953"
             ],
             [
              0.7777777777777778,
              "#fb9f3a"
             ],
             [
              0.8888888888888888,
              "#fdca26"
             ],
             [
              1,
              "#f0f921"
             ]
            ],
            "type": "heatmap"
           }
          ],
          "heatmapgl": [
           {
            "colorbar": {
             "outlinewidth": 0,
             "ticks": ""
            },
            "colorscale": [
             [
              0,
              "#0d0887"
             ],
             [
              0.1111111111111111,
              "#46039f"
             ],
             [
              0.2222222222222222,
              "#7201a8"
             ],
             [
              0.3333333333333333,
              "#9c179e"
             ],
             [
              0.4444444444444444,
              "#bd3786"
             ],
             [
              0.5555555555555556,
              "#d8576b"
             ],
             [
              0.6666666666666666,
              "#ed7953"
             ],
             [
              0.7777777777777778,
              "#fb9f3a"
             ],
             [
              0.8888888888888888,
              "#fdca26"
             ],
             [
              1,
              "#f0f921"
             ]
            ],
            "type": "heatmapgl"
           }
          ],
          "histogram": [
           {
            "marker": {
             "pattern": {
              "fillmode": "overlay",
              "size": 10,
              "solidity": 0.2
             }
            },
            "type": "histogram"
           }
          ],
          "histogram2d": [
           {
            "colorbar": {
             "outlinewidth": 0,
             "ticks": ""
            },
            "colorscale": [
             [
              0,
              "#0d0887"
             ],
             [
              0.1111111111111111,
              "#46039f"
             ],
             [
              0.2222222222222222,
              "#7201a8"
             ],
             [
              0.3333333333333333,
              "#9c179e"
             ],
             [
              0.4444444444444444,
              "#bd3786"
             ],
             [
              0.5555555555555556,
              "#d8576b"
             ],
             [
              0.6666666666666666,
              "#ed7953"
             ],
             [
              0.7777777777777778,
              "#fb9f3a"
             ],
             [
              0.8888888888888888,
              "#fdca26"
             ],
             [
              1,
              "#f0f921"
             ]
            ],
            "type": "histogram2d"
           }
          ],
          "histogram2dcontour": [
           {
            "colorbar": {
             "outlinewidth": 0,
             "ticks": ""
            },
            "colorscale": [
             [
              0,
              "#0d0887"
             ],
             [
              0.1111111111111111,
              "#46039f"
             ],
             [
              0.2222222222222222,
              "#7201a8"
             ],
             [
              0.3333333333333333,
              "#9c179e"
             ],
             [
              0.4444444444444444,
              "#bd3786"
             ],
             [
              0.5555555555555556,
              "#d8576b"
             ],
             [
              0.6666666666666666,
              "#ed7953"
             ],
             [
              0.7777777777777778,
              "#fb9f3a"
             ],
             [
              0.8888888888888888,
              "#fdca26"
             ],
             [
              1,
              "#f0f921"
             ]
            ],
            "type": "histogram2dcontour"
           }
          ],
          "mesh3d": [
           {
            "colorbar": {
             "outlinewidth": 0,
             "ticks": ""
            },
            "type": "mesh3d"
           }
          ],
          "parcoords": [
           {
            "line": {
             "colorbar": {
              "outlinewidth": 0,
              "ticks": ""
             }
            },
            "type": "parcoords"
           }
          ],
          "pie": [
           {
            "automargin": true,
            "type": "pie"
           }
          ],
          "scatter": [
           {
            "fillpattern": {
             "fillmode": "overlay",
             "size": 10,
             "solidity": 0.2
            },
            "type": "scatter"
           }
          ],
          "scatter3d": [
           {
            "line": {
             "colorbar": {
              "outlinewidth": 0,
              "ticks": ""
             }
            },
            "marker": {
             "colorbar": {
              "outlinewidth": 0,
              "ticks": ""
             }
            },
            "type": "scatter3d"
           }
          ],
          "scattercarpet": [
           {
            "marker": {
             "colorbar": {
              "outlinewidth": 0,
              "ticks": ""
             }
            },
            "type": "scattercarpet"
           }
          ],
          "scattergeo": [
           {
            "marker": {
             "colorbar": {
              "outlinewidth": 0,
              "ticks": ""
             }
            },
            "type": "scattergeo"
           }
          ],
          "scattergl": [
           {
            "marker": {
             "colorbar": {
              "outlinewidth": 0,
              "ticks": ""
             }
            },
            "type": "scattergl"
           }
          ],
          "scattermapbox": [
           {
            "marker": {
             "colorbar": {
              "outlinewidth": 0,
              "ticks": ""
             }
            },
            "type": "scattermapbox"
           }
          ],
          "scatterpolar": [
           {
            "marker": {
             "colorbar": {
              "outlinewidth": 0,
              "ticks": ""
             }
            },
            "type": "scatterpolar"
           }
          ],
          "scatterpolargl": [
           {
            "marker": {
             "colorbar": {
              "outlinewidth": 0,
              "ticks": ""
             }
            },
            "type": "scatterpolargl"
           }
          ],
          "scatterternary": [
           {
            "marker": {
             "colorbar": {
              "outlinewidth": 0,
              "ticks": ""
             }
            },
            "type": "scatterternary"
           }
          ],
          "surface": [
           {
            "colorbar": {
             "outlinewidth": 0,
             "ticks": ""
            },
            "colorscale": [
             [
              0,
              "#0d0887"
             ],
             [
              0.1111111111111111,
              "#46039f"
             ],
             [
              0.2222222222222222,
              "#7201a8"
             ],
             [
              0.3333333333333333,
              "#9c179e"
             ],
             [
              0.4444444444444444,
              "#bd3786"
             ],
             [
              0.5555555555555556,
              "#d8576b"
             ],
             [
              0.6666666666666666,
              "#ed7953"
             ],
             [
              0.7777777777777778,
              "#fb9f3a"
             ],
             [
              0.8888888888888888,
              "#fdca26"
             ],
             [
              1,
              "#f0f921"
             ]
            ],
            "type": "surface"
           }
          ],
          "table": [
           {
            "cells": {
             "fill": {
              "color": "#EBF0F8"
             },
             "line": {
              "color": "white"
             }
            },
            "header": {
             "fill": {
              "color": "#C8D4E3"
             },
             "line": {
              "color": "white"
             }
            },
            "type": "table"
           }
          ]
         },
         "layout": {
          "annotationdefaults": {
           "arrowcolor": "#2a3f5f",
           "arrowhead": 0,
           "arrowwidth": 1
          },
          "autotypenumbers": "strict",
          "coloraxis": {
           "colorbar": {
            "outlinewidth": 0,
            "ticks": ""
           }
          },
          "colorscale": {
           "diverging": [
            [
             0,
             "#8e0152"
            ],
            [
             0.1,
             "#c51b7d"
            ],
            [
             0.2,
             "#de77ae"
            ],
            [
             0.3,
             "#f1b6da"
            ],
            [
             0.4,
             "#fde0ef"
            ],
            [
             0.5,
             "#f7f7f7"
            ],
            [
             0.6,
             "#e6f5d0"
            ],
            [
             0.7,
             "#b8e186"
            ],
            [
             0.8,
             "#7fbc41"
            ],
            [
             0.9,
             "#4d9221"
            ],
            [
             1,
             "#276419"
            ]
           ],
           "sequential": [
            [
             0,
             "#0d0887"
            ],
            [
             0.1111111111111111,
             "#46039f"
            ],
            [
             0.2222222222222222,
             "#7201a8"
            ],
            [
             0.3333333333333333,
             "#9c179e"
            ],
            [
             0.4444444444444444,
             "#bd3786"
            ],
            [
             0.5555555555555556,
             "#d8576b"
            ],
            [
             0.6666666666666666,
             "#ed7953"
            ],
            [
             0.7777777777777778,
             "#fb9f3a"
            ],
            [
             0.8888888888888888,
             "#fdca26"
            ],
            [
             1,
             "#f0f921"
            ]
           ],
           "sequentialminus": [
            [
             0,
             "#0d0887"
            ],
            [
             0.1111111111111111,
             "#46039f"
            ],
            [
             0.2222222222222222,
             "#7201a8"
            ],
            [
             0.3333333333333333,
             "#9c179e"
            ],
            [
             0.4444444444444444,
             "#bd3786"
            ],
            [
             0.5555555555555556,
             "#d8576b"
            ],
            [
             0.6666666666666666,
             "#ed7953"
            ],
            [
             0.7777777777777778,
             "#fb9f3a"
            ],
            [
             0.8888888888888888,
             "#fdca26"
            ],
            [
             1,
             "#f0f921"
            ]
           ]
          },
          "colorway": [
           "#636efa",
           "#EF553B",
           "#00cc96",
           "#ab63fa",
           "#FFA15A",
           "#19d3f3",
           "#FF6692",
           "#B6E880",
           "#FF97FF",
           "#FECB52"
          ],
          "font": {
           "color": "#2a3f5f"
          },
          "geo": {
           "bgcolor": "white",
           "lakecolor": "white",
           "landcolor": "#E5ECF6",
           "showlakes": true,
           "showland": true,
           "subunitcolor": "white"
          },
          "hoverlabel": {
           "align": "left"
          },
          "hovermode": "closest",
          "mapbox": {
           "style": "light"
          },
          "paper_bgcolor": "white",
          "plot_bgcolor": "#E5ECF6",
          "polar": {
           "angularaxis": {
            "gridcolor": "white",
            "linecolor": "white",
            "ticks": ""
           },
           "bgcolor": "#E5ECF6",
           "radialaxis": {
            "gridcolor": "white",
            "linecolor": "white",
            "ticks": ""
           }
          },
          "scene": {
           "xaxis": {
            "backgroundcolor": "#E5ECF6",
            "gridcolor": "white",
            "gridwidth": 2,
            "linecolor": "white",
            "showbackground": true,
            "ticks": "",
            "zerolinecolor": "white"
           },
           "yaxis": {
            "backgroundcolor": "#E5ECF6",
            "gridcolor": "white",
            "gridwidth": 2,
            "linecolor": "white",
            "showbackground": true,
            "ticks": "",
            "zerolinecolor": "white"
           },
           "zaxis": {
            "backgroundcolor": "#E5ECF6",
            "gridcolor": "white",
            "gridwidth": 2,
            "linecolor": "white",
            "showbackground": true,
            "ticks": "",
            "zerolinecolor": "white"
           }
          },
          "shapedefaults": {
           "line": {
            "color": "#2a3f5f"
           }
          },
          "ternary": {
           "aaxis": {
            "gridcolor": "white",
            "linecolor": "white",
            "ticks": ""
           },
           "baxis": {
            "gridcolor": "white",
            "linecolor": "white",
            "ticks": ""
           },
           "bgcolor": "#E5ECF6",
           "caxis": {
            "gridcolor": "white",
            "linecolor": "white",
            "ticks": ""
           }
          },
          "title": {
           "x": 0.05
          },
          "xaxis": {
           "automargin": true,
           "gridcolor": "white",
           "linecolor": "white",
           "ticks": "",
           "title": {
            "standoff": 15
           },
           "zerolinecolor": "white",
           "zerolinewidth": 2
          },
          "yaxis": {
           "automargin": true,
           "gridcolor": "white",
           "linecolor": "white",
           "ticks": "",
           "title": {
            "standoff": 15
           },
           "zerolinecolor": "white",
           "zerolinewidth": 2
          }
         }
        },
        "title": {
         "text": "Number of minutes for each channel & category for 2022-11-10"
        },
        "xaxis": {
         "anchor": "y",
         "domain": [
          0,
          1
         ],
         "title": {
          "text": ""
         }
        },
        "yaxis": {
         "anchor": "x",
         "domain": [
          0,
          1
         ],
         "title": {
          "text": ""
         }
        }
       }
      }
     },
     "metadata": {},
     "output_type": "display_data"
    },
    {
     "data": {
      "application/vnd.plotly.v1+json": {
       "config": {
        "plotlyServerURL": "https://plot.ly"
       },
       "data": [
        {
         "alignmentgroup": "True",
         "customdata": [
          [
           "6ter",
           8,
           49.375
          ],
          [
           "6ter",
           1,
           175
          ],
          [
           "6ter",
           1,
           230
          ],
          [
           "6ter",
           5,
           54
          ],
          [
           "6ter",
           4,
           60
          ],
          [
           "6ter",
           1,
           95
          ]
         ],
         "hovertemplate": "channel_name=%{customdata[0]}<br>category_text=%{x}<br>sum=%{y}<br>count=%{customdata[1]}<br>mean=%{customdata[2]}<extra></extra>",
         "legendgroup": "6ter",
         "marker": {
          "color": "#636efa",
          "pattern": {
           "shape": ""
          }
         },
         "name": "6ter",
         "offsetgroup": "6ter",
         "orientation": "v",
         "showlegend": true,
         "textposition": "auto",
         "type": "bar",
         "x": [
          "documentaire société",
          "film : drame",
          "programme indéterminé",
          "série policière",
          "série sentimentale",
          "téléfilm sentimental"
         ],
         "xaxis": "x",
         "y": [
          395,
          175,
          230,
          270,
          240,
          95
         ],
         "yaxis": "y"
        },
        {
         "alignmentgroup": "True",
         "customdata": [
          [
           "Arte",
           1,
           19
          ],
          [
           "Arte",
           1,
           45
          ],
          [
           "Arte",
           1,
           95
          ],
          [
           "Arte",
           1,
           55
          ],
          [
           "Arte",
           2,
           55
          ],
          [
           "Arte",
           1,
           75
          ],
          [
           "Arte",
           3,
           40
          ],
          [
           "Arte",
           2,
           80
          ],
          [
           "Arte",
           1,
           55
          ],
          [
           "Arte",
           2,
           33
          ],
          [
           "Arte",
           1,
           100
          ],
          [
           "Arte",
           1,
           20
          ],
          [
           "Arte",
           1,
           45
          ],
          [
           "Arte",
           1,
           30
          ],
          [
           "Arte",
           1,
           5
          ],
          [
           "Arte",
           3,
           46.666666666666664
          ],
          [
           "Arte",
           1,
           5
          ],
          [
           "Arte",
           5,
           48
          ]
         ],
         "hovertemplate": "channel_name=%{customdata[0]}<br>category_text=%{x}<br>sum=%{y}<br>count=%{customdata[1]}<br>mean=%{customdata[2]}<extra></extra>",
         "legendgroup": "Arte",
         "marker": {
          "color": "#EF553B",
          "pattern": {
           "shape": ""
          }
         },
         "name": "Arte",
         "offsetgroup": "Arte",
         "orientation": "v",
         "showlegend": true,
         "textposition": "auto",
         "type": "bar",
         "x": [
          "autre",
          "documentaire animalier",
          "documentaire découvertes",
          "documentaire environnement",
          "documentaire histoire",
          "documentaire musique",
          "documentaire nature",
          "documentaire politique",
          "documentaire santé",
          "documentaire société",
          "film d'aventures",
          "journal",
          "magazine d'actualité",
          "magazine de découvertes",
          "magazine de géopolitique",
          "magazine du tourisme",
          "magazine jeunesse",
          "série dramatique"
         ],
         "xaxis": "x",
         "y": [
          19,
          45,
          95,
          55,
          110,
          75,
          120,
          160,
          55,
          66,
          100,
          20,
          45,
          30,
          5,
          140,
          5,
          240
         ],
         "yaxis": "y"
        },
        {
         "alignmentgroup": "True",
         "customdata": [
          [
           "BFMTV",
           5,
           160
          ],
          [
           "BFMTV",
           4,
           127.5
          ],
          [
           "BFMTV",
           1,
           100
          ],
          [
           "BFMTV",
           1,
           30
          ]
         ],
         "hovertemplate": "channel_name=%{customdata[0]}<br>category_text=%{x}<br>sum=%{y}<br>count=%{customdata[1]}<br>mean=%{customdata[2]}<extra></extra>",
         "legendgroup": "BFMTV",
         "marker": {
          "color": "#00cc96",
          "pattern": {
           "shape": ""
          }
         },
         "name": "BFMTV",
         "offsetgroup": "BFMTV",
         "orientation": "v",
         "showlegend": true,
         "textposition": "auto",
         "type": "bar",
         "x": [
          "journal",
          "magazine d'actualité",
          "magazine d'information",
          "magazine politique"
         ],
         "xaxis": "x",
         "y": [
          800,
          510,
          100,
          30
         ],
         "yaxis": "y"
        },
        {
         "alignmentgroup": "True",
         "customdata": [
          [
           "C8",
           1,
           67
          ],
          [
           "C8",
           7,
           39.57142857142857
          ],
          [
           "C8",
           1,
           36
          ],
          [
           "C8",
           1,
           132
          ],
          [
           "C8",
           4,
           75
          ],
          [
           "C8",
           1,
           150
          ],
          [
           "C8",
           1,
           70
          ],
          [
           "C8",
           2,
           30
          ],
          [
           "C8",
           3,
           112.66666666666667
          ]
         ],
         "hovertemplate": "channel_name=%{customdata[0]}<br>category_text=%{x}<br>sum=%{y}<br>count=%{customdata[1]}<br>mean=%{customdata[2]}<extra></extra>",
         "legendgroup": "C8",
         "marker": {
          "color": "#ab63fa",
          "pattern": {
           "shape": ""
          }
         },
         "name": "C8",
         "offsetgroup": "C8",
         "orientation": "v",
         "showlegend": true,
         "textposition": "auto",
         "type": "bar",
         "x": [
          "divertissement",
          "divertissement-humour",
          "interview",
          "magazine de reportages",
          "magazine de société",
          "magazine de télé-achat",
          "musique : techno",
          "sport : fitness",
          "série policière"
         ],
         "xaxis": "x",
         "y": [
          67,
          277,
          36,
          132,
          300,
          150,
          70,
          60,
          338
         ],
         "yaxis": "y"
        },
        {
         "alignmentgroup": "True",
         "customdata": [
          [
           "CNEWS",
           5,
           7
          ],
          [
           "CNEWS",
           16,
           40
          ],
          [
           "CNEWS",
           2,
           11
          ],
          [
           "CNEWS",
           4,
           83.5
          ],
          [
           "CNEWS",
           3,
           72
          ],
          [
           "CNEWS",
           5,
           5.4
          ],
          [
           "CNEWS",
           1,
           133
          ],
          [
           "CNEWS",
           19,
           1.7894736842105263
          ]
         ],
         "hovertemplate": "channel_name=%{customdata[0]}<br>category_text=%{x}<br>sum=%{y}<br>count=%{customdata[1]}<br>mean=%{customdata[2]}<extra></extra>",
         "legendgroup": "CNEWS",
         "marker": {
          "color": "#FFA15A",
          "pattern": {
           "shape": ""
          }
         },
         "name": "CNEWS",
         "offsetgroup": "CNEWS",
         "orientation": "v",
         "showlegend": true,
         "textposition": "auto",
         "type": "bar",
         "x": [
          "divertissement",
          "journal",
          "magazine culturel",
          "magazine d'actualité",
          "magazine d'information",
          "magazine de l'économie",
          "magazine politique",
          "météo"
         ],
         "xaxis": "x",
         "y": [
          35,
          640,
          22,
          334,
          216,
          27,
          133,
          34
         ],
         "yaxis": "y"
        },
        {
         "alignmentgroup": "True",
         "customdata": [
          [
           "CSTAR",
           10,
           90.6
          ],
          [
           "CSTAR",
           3,
           7.666666666666667
          ],
          [
           "CSTAR",
           2,
           33
          ],
          [
           "CSTAR",
           2,
           55
          ],
          [
           "CSTAR",
           1,
           100
          ],
          [
           "CSTAR",
           2,
           110
          ]
         ],
         "hovertemplate": "channel_name=%{customdata[0]}<br>category_text=%{x}<br>sum=%{y}<br>count=%{customdata[1]}<br>mean=%{customdata[2]}<extra></extra>",
         "legendgroup": "CSTAR",
         "marker": {
          "color": "#19d3f3",
          "pattern": {
           "shape": ""
          }
         },
         "name": "CSTAR",
         "offsetgroup": "CSTAR",
         "orientation": "v",
         "showlegend": true,
         "textposition": "auto",
         "type": "bar",
         "x": [
          "clips",
          "divertissement",
          "documentaire société",
          "documentaire téléréalité",
          "film : drame",
          "magazine de reportages"
         ],
         "xaxis": "x",
         "y": [
          906,
          23,
          66,
          110,
          100,
          220
         ],
         "yaxis": "y"
        },
        {
         "alignmentgroup": "True",
         "customdata": [
          [
           "Canal+",
           7,
           22.571428571428573
          ],
          [
           "Canal+",
           1,
           18
          ],
          [
           "Canal+",
           1,
           54
          ],
          [
           "Canal+",
           1,
           29
          ],
          [
           "Canal+",
           1,
           135
          ],
          [
           "Canal+",
           1,
           96
          ],
          [
           "Canal+",
           1,
           145
          ],
          [
           "Canal+",
           1,
           139
          ],
          [
           "Canal+",
           3,
           41.333333333333336
          ],
          [
           "Canal+",
           1,
           14
          ],
          [
           "Canal+",
           1,
           152
          ],
          [
           "Canal+",
           1,
           4
          ],
          [
           "Canal+",
           1,
           30
          ],
          [
           "Canal+",
           4,
           54.75
          ],
          [
           "Canal+",
           2,
           46
          ],
          [
           "Canal+",
           1,
           42
          ]
         ],
         "hovertemplate": "channel_name=%{customdata[0]}<br>category_text=%{x}<br>sum=%{y}<br>count=%{customdata[1]}<br>mean=%{customdata[2]}<extra></extra>",
         "legendgroup": "Canal+",
         "marker": {
          "color": "#FF6692",
          "pattern": {
           "shape": ""
          }
         },
         "name": "Canal+",
         "offsetgroup": "Canal+",
         "orientation": "v",
         "showlegend": true,
         "textposition": "auto",
         "type": "bar",
         "x": [
          "divertissement",
          "documentaire culture",
          "documentaire découvertes",
          "film : court métrage",
          "film : drame",
          "film : drame historique",
          "film : thriller",
          "film fantastique",
          "magazine d'actualité",
          "magazine du cinéma",
          "sport : golf",
          "série d'animation",
          "série dramatique",
          "série historique",
          "série policière",
          "talk-show"
         ],
         "xaxis": "x",
         "y": [
          158,
          18,
          54,
          29,
          135,
          96,
          145,
          139,
          124,
          14,
          152,
          4,
          30,
          219,
          92,
          42
         ],
         "yaxis": "y"
        },
        {
         "alignmentgroup": "True",
         "customdata": [
          [
           "Chérie 25",
           2,
           55
          ],
          [
           "Chérie 25",
           2,
           130
          ],
          [
           "Chérie 25",
           10,
           33
          ],
          [
           "Chérie 25",
           1,
           180
          ],
          [
           "Chérie 25",
           4,
           30
          ],
          [
           "Chérie 25",
           1,
           320
          ],
          [
           "Chérie 25",
           3,
           55
          ]
         ],
         "hovertemplate": "channel_name=%{customdata[0]}<br>category_text=%{x}<br>sum=%{y}<br>count=%{customdata[1]}<br>mean=%{customdata[2]}<extra></extra>",
         "legendgroup": "Chérie 25",
         "marker": {
          "color": "#B6E880",
          "pattern": {
           "shape": ""
          }
         },
         "name": "Chérie 25",
         "offsetgroup": "Chérie 25",
         "orientation": "v",
         "showlegend": true,
         "textposition": "auto",
         "type": "bar",
         "x": [
          "documentaire justice",
          "film : drame",
          "magazine de société",
          "magazine de télé-achat",
          "magazine judiciaire",
          "programme indéterminé",
          "série policière"
         ],
         "xaxis": "x",
         "y": [
          110,
          260,
          330,
          180,
          120,
          320,
          165
         ],
         "yaxis": "y"
        },
        {
         "alignmentgroup": "True",
         "customdata": [
          [
           "France 2",
           8,
           38.75
          ],
          [
           "France 2",
           1,
           5
          ],
          [
           "France 2",
           1,
           70
          ],
          [
           "France 2",
           2,
           27.5
          ],
          [
           "France 2",
           1,
           20
          ],
          [
           "France 2",
           4,
           31
          ],
          [
           "France 2",
           3,
           63.333333333333336
          ],
          [
           "France 2",
           3,
           36.666666666666664
          ],
          [
           "France 2",
           1,
           2
          ],
          [
           "France 2",
           3,
           56.666666666666664
          ],
          [
           "France 2",
           4,
           45
          ],
          [
           "France 2",
           1,
           10
          ],
          [
           "France 2",
           1,
           5
          ],
          [
           "France 2",
           1,
           2
          ],
          [
           "France 2",
           1,
           55
          ],
          [
           "France 2",
           6,
           4.833333333333333
          ],
          [
           "France 2",
           1,
           3
          ],
          [
           "France 2",
           1,
           90
          ]
         ],
         "hovertemplate": "channel_name=%{customdata[0]}<br>category_text=%{x}<br>sum=%{y}<br>count=%{customdata[1]}<br>mean=%{customdata[2]}<extra></extra>",
         "legendgroup": "France 2",
         "marker": {
          "color": "#FF97FF",
          "pattern": {
           "shape": ""
          }
         },
         "name": "France 2",
         "offsetgroup": "France 2",
         "orientation": "v",
         "showlegend": true,
         "textposition": "auto",
         "type": "bar",
         "x": [
          "divertissement : jeu",
          "documentaire découvertes",
          "documentaire société",
          "feuilleton policier",
          "feuilleton sentimental",
          "journal",
          "magazine d'information",
          "magazine de l'art de vivre",
          "magazine de la décoration",
          "magazine de services",
          "magazine de société",
          "magazine du consommateur",
          "magazine littéraire",
          "magazine musical",
          "magazine religieux",
          "météo",
          "sport : rugby",
          "téléfilm dramatique"
         ],
         "xaxis": "x",
         "y": [
          310,
          5,
          70,
          55,
          20,
          124,
          190,
          110,
          2,
          170,
          180,
          10,
          5,
          2,
          55,
          29,
          3,
          90
         ],
         "yaxis": "y"
        },
        {
         "alignmentgroup": "True",
         "customdata": [
          [
           "France 3",
           6,
           38.666666666666664
          ],
          [
           "France 3",
           3,
           53.666666666666664
          ],
          [
           "France 3",
           2,
           27.5
          ],
          [
           "France 3",
           10,
           6.4
          ],
          [
           "France 3",
           1,
           5
          ],
          [
           "France 3",
           8,
           20.125
          ],
          [
           "France 3",
           1,
           20
          ],
          [
           "France 3",
           1,
           2
          ],
          [
           "France 3",
           3,
           40
          ],
          [
           "France 3",
           1,
           54
          ],
          [
           "France 3",
           1,
           110
          ],
          [
           "France 3",
           1,
           5
          ],
          [
           "France 3",
           2,
           8
          ],
          [
           "France 3",
           1,
           25
          ],
          [
           "France 3",
           2,
           43
          ],
          [
           "France 3",
           1,
           5
          ],
          [
           "France 3",
           7,
           4.714285714285714
          ],
          [
           "France 3",
           1,
           10
          ],
          [
           "France 3",
           9,
           9
          ],
          [
           "France 3",
           3,
           45
          ],
          [
           "France 3",
           1,
           95
          ]
         ],
         "hovertemplate": "channel_name=%{customdata[0]}<br>category_text=%{x}<br>sum=%{y}<br>count=%{customdata[1]}<br>mean=%{customdata[2]}<extra></extra>",
         "legendgroup": "France 3",
         "marker": {
          "color": "#FECB52",
          "pattern": {
           "shape": ""
          }
         },
         "name": "France 3",
         "offsetgroup": "France 3",
         "orientation": "v",
         "showlegend": true,
         "textposition": "auto",
         "type": "bar",
         "x": [
          "divertissement : jeu",
          "documentaire société",
          "feuilleton réaliste",
          "jeunesse : dessin animé dessin animé",
          "jeunesse : dessin animé jeunesse",
          "journal",
          "magazine culinaire",
          "magazine d'information",
          "magazine de découvertes",
          "magazine de la mer",
          "magazine de reportages",
          "magazine du consommateur",
          "magazine littéraire",
          "magazine musical",
          "magazine régional",
          "magazine sportif",
          "météo",
          "sport : multisports",
          "série d'animation",
          "série policière",
          "téléfilm policier"
         ],
         "xaxis": "x",
         "y": [
          232,
          161,
          55,
          64,
          5,
          161,
          20,
          2,
          120,
          54,
          110,
          5,
          16,
          25,
          86,
          5,
          33,
          10,
          81,
          135,
          95
         ],
         "yaxis": "y"
        },
        {
         "alignmentgroup": "True",
         "customdata": [
          [
           "France 4",
           1,
           70
          ],
          [
           "France 4",
           2,
           35
          ],
          [
           "France 4",
           4,
           22.25
          ],
          [
           "France 4",
           1,
           35
          ],
          [
           "France 4",
           2,
           22.5
          ],
          [
           "France 4",
           5,
           4.2
          ],
          [
           "France 4",
           1,
           25
          ],
          [
           "France 4",
           2,
           5
          ],
          [
           "France 4",
           1,
           1
          ],
          [
           "France 4",
           2,
           7.5
          ],
          [
           "France 4",
           2,
           47.5
          ],
          [
           "France 4",
           1,
           100
          ],
          [
           "France 4",
           1,
           9
          ],
          [
           "France 4",
           68,
           10.455882352941176
          ],
          [
           "France 4",
           3,
           11.333333333333334
          ],
          [
           "France 4",
           1,
           75
          ]
         ],
         "hovertemplate": "channel_name=%{customdata[0]}<br>category_text=%{x}<br>sum=%{y}<br>count=%{customdata[1]}<br>mean=%{customdata[2]}<extra></extra>",
         "legendgroup": "France 4",
         "marker": {
          "color": "#636efa",
          "pattern": {
           "shape": ""
          }
         },
         "name": "France 4",
         "offsetgroup": "France 4",
         "orientation": "v",
         "showlegend": true,
         "textposition": "auto",
         "type": "bar",
         "x": [
          "divertissement",
          "divertissement-humour",
          "documentaire animalier",
          "documentaire musique",
          "jeunesse : dessin animé dessin animé",
          "jeunesse : emission jeunesse",
          "magazine culturel",
          "magazine du cinéma",
          "magazine du consommateur",
          "magazine jeunesse",
          "magazine musical",
          "magazine médical",
          "série culinaire",
          "série d'animation",
          "série jeunesse",
          "théâtre : pièce de théâtre"
         ],
         "xaxis": "x",
         "y": [
          70,
          70,
          89,
          35,
          45,
          21,
          25,
          10,
          1,
          15,
          95,
          100,
          9,
          711,
          34,
          75
         ],
         "yaxis": "y"
        },
        {
         "alignmentgroup": "True",
         "customdata": [
          [
           "France 5",
           2,
           54.5
          ],
          [
           "France 5",
           2,
           18
          ],
          [
           "France 5",
           1,
           40
          ],
          [
           "France 5",
           1,
           55
          ],
          [
           "France 5",
           1,
           60
          ],
          [
           "France 5",
           2,
           72.5
          ],
          [
           "France 5",
           3,
           8
          ],
          [
           "France 5",
           3,
           51.666666666666664
          ],
          [
           "France 5",
           2,
           55
          ],
          [
           "France 5",
           1,
           145
          ],
          [
           "France 5",
           1,
           5
          ],
          [
           "France 5",
           2,
           7.5
          ],
          [
           "France 5",
           2,
           5
          ],
          [
           "France 5",
           35,
           6.742857142857143
          ],
          [
           "France 5",
           5,
           59
          ]
         ],
         "hovertemplate": "channel_name=%{customdata[0]}<br>category_text=%{x}<br>sum=%{y}<br>count=%{customdata[1]}<br>mean=%{customdata[2]}<extra></extra>",
         "legendgroup": "France 5",
         "marker": {
          "color": "#EF553B",
          "pattern": {
           "shape": ""
          }
         },
         "name": "France 5",
         "offsetgroup": "France 5",
         "orientation": "v",
         "showlegend": true,
         "textposition": "auto",
         "type": "bar",
         "x": [
          "documentaire animalier",
          "documentaire découvertes",
          "documentaire gastronomie",
          "documentaire histoire",
          "documentaire nature",
          "documentaire sciences et technique",
          "jeunesse : dessin animé dessin animé",
          "magazine d'information",
          "magazine de la santé",
          "magazine de reportages",
          "magazine du consommateur",
          "magazine littéraire",
          "magazine politique",
          "série d'animation",
          "talk-show"
         ],
         "xaxis": "x",
         "y": [
          109,
          36,
          40,
          55,
          60,
          145,
          24,
          155,
          110,
          145,
          5,
          15,
          10,
          236,
          295
         ],
         "yaxis": "y"
        },
        {
         "alignmentgroup": "True",
         "customdata": [
          [
           "Franceinfo",
           2,
           41
          ],
          [
           "Franceinfo",
           2,
           21
          ],
          [
           "Franceinfo",
           13,
           43.92307692307692
          ],
          [
           "Franceinfo",
           1,
           5
          ],
          [
           "Franceinfo",
           8,
           34.625
          ],
          [
           "Franceinfo",
           1,
           387
          ],
          [
           "Franceinfo",
           2,
           8
          ],
          [
           "Franceinfo",
           1,
           60
          ]
         ],
         "hovertemplate": "channel_name=%{customdata[0]}<br>category_text=%{x}<br>sum=%{y}<br>count=%{customdata[1]}<br>mean=%{customdata[2]}<extra></extra>",
         "legendgroup": "Franceinfo",
         "marker": {
          "color": "#00cc96",
          "pattern": {
           "shape": ""
          }
         },
         "name": "Franceinfo",
         "offsetgroup": "Franceinfo",
         "orientation": "v",
         "showlegend": true,
         "textposition": "auto",
         "type": "bar",
         "x": [
          "débat",
          "interview",
          "journal",
          "magazine culturel",
          "magazine d'actualité",
          "magazine d'information",
          "magazine de l'économie",
          "magazine politique"
         ],
         "xaxis": "x",
         "y": [
          82,
          42,
          571,
          5,
          277,
          387,
          16,
          60
         ],
         "yaxis": "y"
        },
        {
         "alignmentgroup": "True",
         "customdata": [
          [
           "Gulli",
           1,
           103
          ],
          [
           "Gulli",
           38,
           15.394736842105264
          ],
          [
           "Gulli",
           1,
           2
          ],
          [
           "Gulli",
           1,
           10
          ],
          [
           "Gulli",
           3,
           4.666666666666667
          ],
          [
           "Gulli",
           2,
           1
          ],
          [
           "Gulli",
           40,
           11.975
          ],
          [
           "Gulli",
           2,
           27.5
          ],
          [
           "Gulli",
           1,
           90
          ],
          [
           "Gulli",
           1,
           100
          ]
         ],
         "hovertemplate": "channel_name=%{customdata[0]}<br>category_text=%{x}<br>sum=%{y}<br>count=%{customdata[1]}<br>mean=%{customdata[2]}<extra></extra>",
         "legendgroup": "Gulli",
         "marker": {
          "color": "#ab63fa",
          "pattern": {
           "shape": ""
          }
         },
         "name": "Gulli",
         "offsetgroup": "Gulli",
         "orientation": "v",
         "showlegend": true,
         "textposition": "auto",
         "type": "bar",
         "x": [
          "documentaire téléréalité",
          "jeunesse : dessin animé dessin animé",
          "magazine de l'environnement",
          "magazine de société",
          "magazine jeunesse",
          "magazine éducatif",
          "série d'animation",
          "série humoristique",
          "téléfilm romanesque",
          "téléfilm sentimental"
         ],
         "xaxis": "x",
         "y": [
          103,
          585,
          2,
          10,
          14,
          2,
          479,
          55,
          90,
          100
         ],
         "yaxis": "y"
        },
        {
         "alignmentgroup": "True",
         "customdata": [
          [
           "L'Equipe",
           4,
           58.5
          ],
          [
           "L'Equipe",
           1,
           115
          ],
          [
           "L'Equipe",
           1,
           75
          ],
          [
           "L'Equipe",
           15,
           57.53333333333333
          ],
          [
           "L'Equipe",
           1,
           180
          ]
         ],
         "hovertemplate": "channel_name=%{customdata[0]}<br>category_text=%{x}<br>sum=%{y}<br>count=%{customdata[1]}<br>mean=%{customdata[2]}<extra></extra>",
         "legendgroup": "L'Equipe",
         "marker": {
          "color": "#FFA15A",
          "pattern": {
           "shape": ""
          }
         },
         "name": "L'Equipe",
         "offsetgroup": "L'Equipe",
         "orientation": "v",
         "showlegend": true,
         "textposition": "auto",
         "type": "bar",
         "x": [
          "magazine de l'automobile",
          "sport : basket-ball",
          "sport : football",
          "sport : multisports",
          "sport de force"
         ],
         "xaxis": "x",
         "y": [
          234,
          115,
          75,
          863,
          180
         ],
         "yaxis": "y"
        },
        {
         "alignmentgroup": "True",
         "customdata": [
          [
           "LCI",
           1,
           30
          ],
          [
           "LCI",
           7,
           150
          ],
          [
           "LCI",
           1,
           360
          ]
         ],
         "hovertemplate": "channel_name=%{customdata[0]}<br>category_text=%{x}<br>sum=%{y}<br>count=%{customdata[1]}<br>mean=%{customdata[2]}<extra></extra>",
         "legendgroup": "LCI",
         "marker": {
          "color": "#19d3f3",
          "pattern": {
           "shape": ""
          }
         },
         "name": "LCI",
         "offsetgroup": "LCI",
         "orientation": "v",
         "showlegend": true,
         "textposition": "auto",
         "type": "bar",
         "x": [
          "interview",
          "magazine d'actualité",
          "programme indéterminé"
         ],
         "xaxis": "x",
         "y": [
          30,
          1050,
          360
         ],
         "yaxis": "y"
        },
        {
         "alignmentgroup": "True",
         "customdata": [
          [
           "La Chaîne parlementaire",
           1,
           60
          ],
          [
           "La Chaîne parlementaire",
           1,
           60
          ],
          [
           "La Chaîne parlementaire",
           2,
           30
          ],
          [
           "La Chaîne parlementaire",
           4,
           82.5
          ],
          [
           "La Chaîne parlementaire",
           1,
           90
          ],
          [
           "La Chaîne parlementaire",
           4,
           75
          ],
          [
           "La Chaîne parlementaire",
           2,
           30
          ],
          [
           "La Chaîne parlementaire",
           6,
           80
          ]
         ],
         "hovertemplate": "channel_name=%{customdata[0]}<br>category_text=%{x}<br>sum=%{y}<br>count=%{customdata[1]}<br>mean=%{customdata[2]}<extra></extra>",
         "legendgroup": "La Chaîne parlementaire",
         "marker": {
          "color": "#FF6692",
          "pattern": {
           "shape": ""
          }
         },
         "name": "La Chaîne parlementaire",
         "offsetgroup": "La Chaîne parlementaire",
         "orientation": "v",
         "showlegend": true,
         "textposition": "auto",
         "type": "bar",
         "x": [
          "documentaire histoire",
          "documentaire société",
          "débat",
          "débat parlementaire",
          "emission politique",
          "magazine d'information",
          "magazine de société",
          "magazine politique"
         ],
         "xaxis": "x",
         "y": [
          60,
          60,
          60,
          330,
          90,
          300,
          60,
          480
         ],
         "yaxis": "y"
        },
        {
         "alignmentgroup": "True",
         "customdata": [
          [
           "M6",
           1,
           50
          ],
          [
           "M6",
           2,
           70
          ],
          [
           "M6",
           3,
           83.33333333333333
          ],
          [
           "M6",
           1,
           35
          ],
          [
           "M6",
           3,
           13.333333333333334
          ],
          [
           "M6",
           2,
           32.5
          ],
          [
           "M6",
           1,
           65
          ],
          [
           "M6",
           1,
           10
          ],
          [
           "M6",
           3,
           46.666666666666664
          ],
          [
           "M6",
           1,
           75
          ],
          [
           "M6",
           2,
           77.5
          ],
          [
           "M6",
           4,
           8.75
          ],
          [
           "M6",
           1,
           245
          ],
          [
           "M6",
           5,
           16
          ],
          [
           "M6",
           2,
           30
          ]
         ],
         "hovertemplate": "channel_name=%{customdata[0]}<br>category_text=%{x}<br>sum=%{y}<br>count=%{customdata[1]}<br>mean=%{customdata[2]}<extra></extra>",
         "legendgroup": "M6",
         "marker": {
          "color": "#B6E880",
          "pattern": {
           "shape": ""
          }
         },
         "name": "M6",
         "offsetgroup": "M6",
         "orientation": "v",
         "showlegend": true,
         "textposition": "auto",
         "type": "bar",
         "x": [
          "clips",
          "divertissement",
          "divertissement : jeu",
          "documentaire gastronomie",
          "jeunesse : dessin animé dessin animé",
          "journal",
          "magazine culinaire",
          "magazine d'actualité",
          "magazine de reportages",
          "magazine de télé-achat",
          "magazine du consommateur",
          "météo",
          "programme indéterminé",
          "série d'animation",
          "série humoristique"
         ],
         "xaxis": "x",
         "y": [
          50,
          140,
          250,
          35,
          40,
          65,
          65,
          10,
          140,
          75,
          155,
          35,
          245,
          80,
          60
         ],
         "yaxis": "y"
        },
        {
         "alignmentgroup": "True",
         "customdata": [
          [
           "NRJ 12",
           1,
           110
          ],
          [
           "NRJ 12",
           1,
           105
          ],
          [
           "NRJ 12",
           1,
           180
          ],
          [
           "NRJ 12",
           1,
           245
          ],
          [
           "NRJ 12",
           5,
           52
          ],
          [
           "NRJ 12",
           13,
           33.84615384615385
          ],
          [
           "NRJ 12",
           1,
           110
          ]
         ],
         "hovertemplate": "channel_name=%{customdata[0]}<br>category_text=%{x}<br>sum=%{y}<br>count=%{customdata[1]}<br>mean=%{customdata[2]}<extra></extra>",
         "legendgroup": "NRJ 12",
         "marker": {
          "color": "#FF97FF",
          "pattern": {
           "shape": ""
          }
         },
         "name": "NRJ 12",
         "offsetgroup": "NRJ 12",
         "orientation": "v",
         "showlegend": true,
         "textposition": "auto",
         "type": "bar",
         "x": [
          "documentaire culture",
          "humour",
          "magazine de télé-achat",
          "programme indéterminé",
          "série fantastique",
          "série humoristique",
          "téléfilm policier"
         ],
         "xaxis": "x",
         "y": [
          110,
          105,
          180,
          245,
          260,
          440,
          110
         ],
         "yaxis": "y"
        },
        {
         "alignmentgroup": "True",
         "customdata": [
          [
           "RMC Découverte",
           1,
           354
          ],
          [
           "RMC Découverte",
           3,
           71.66666666666667
          ],
          [
           "RMC Découverte",
           10,
           61
          ],
          [
           "RMC Découverte",
           1,
           205
          ],
          [
           "RMC Découverte",
           1,
           50
          ]
         ],
         "hovertemplate": "channel_name=%{customdata[0]}<br>category_text=%{x}<br>sum=%{y}<br>count=%{customdata[1]}<br>mean=%{customdata[2]}<extra></extra>",
         "legendgroup": "RMC Découverte",
         "marker": {
          "color": "#FECB52",
          "pattern": {
           "shape": ""
          }
         },
         "name": "RMC Découverte",
         "offsetgroup": "RMC Découverte",
         "orientation": "v",
         "showlegend": true,
         "textposition": "auto",
         "type": "bar",
         "x": [
          "autre",
          "documentaire sciences et technique",
          "documentaire téléréalité",
          "magazine de l'économie",
          "sport : hippisme"
         ],
         "xaxis": "x",
         "y": [
          354,
          215,
          610,
          205,
          50
         ],
         "yaxis": "y"
        },
        {
         "alignmentgroup": "True",
         "customdata": [
          [
           "RMC Story",
           2,
           392.5
          ],
          [
           "RMC Story",
           2,
           77.5
          ],
          [
           "RMC Story",
           3,
           51.666666666666664
          ],
          [
           "RMC Story",
           1,
           150
          ],
          [
           "RMC Story",
           2,
           107.5
          ],
          [
           "RMC Story",
           2,
           180
          ]
         ],
         "hovertemplate": "channel_name=%{customdata[0]}<br>category_text=%{x}<br>sum=%{y}<br>count=%{customdata[1]}<br>mean=%{customdata[2]}<extra></extra>",
         "legendgroup": "RMC Story",
         "marker": {
          "color": "#636efa",
          "pattern": {
           "shape": ""
          }
         },
         "name": "RMC Story",
         "offsetgroup": "RMC Story",
         "orientation": "v",
         "showlegend": true,
         "textposition": "auto",
         "type": "bar",
         "x": [
          "autre",
          "documentaire justice",
          "documentaire téléréalité",
          "magazine d'actualité",
          "magazine de société",
          "talk-show"
         ],
         "xaxis": "x",
         "y": [
          785,
          155,
          155,
          150,
          215,
          360
         ],
         "yaxis": "y"
        },
        {
         "alignmentgroup": "True",
         "customdata": [
          [
           "TF1",
           1,
           50
          ],
          [
           "TF1",
           1,
           65
          ],
          [
           "TF1",
           1,
           15
          ],
          [
           "TF1",
           1,
           45
          ],
          [
           "TF1",
           1,
           105
          ],
          [
           "TF1",
           2,
           42.5
          ],
          [
           "TF1",
           3,
           5
          ],
          [
           "TF1",
           1,
           50
          ],
          [
           "TF1",
           1,
           120
          ],
          [
           "TF1",
           5,
           7
          ],
          [
           "TF1",
           11,
           45.90909090909091
          ],
          [
           "TF1",
           2,
           50
          ],
          [
           "TF1",
           1,
           110
          ],
          [
           "TF1",
           4,
           38.75
          ]
         ],
         "hovertemplate": "channel_name=%{customdata[0]}<br>category_text=%{x}<br>sum=%{y}<br>count=%{customdata[1]}<br>mean=%{customdata[2]}<extra></extra>",
         "legendgroup": "TF1",
         "marker": {
          "color": "#EF553B",
          "pattern": {
           "shape": ""
          }
         },
         "name": "TF1",
         "offsetgroup": "TF1",
         "orientation": "v",
         "showlegend": true,
         "textposition": "auto",
         "type": "bar",
         "x": [
          "autre",
          "divertissement : jeu",
          "divertissement-humour",
          "feuilleton sentimental",
          "film sentimental",
          "journal",
          "magazine de la gastronomie",
          "magazine de télé-achat",
          "magazine jeunesse",
          "météo",
          "série dramatique",
          "série policière",
          "téléfilm sentimental",
          "téléréalité"
         ],
         "xaxis": "x",
         "y": [
          50,
          65,
          15,
          45,
          105,
          85,
          15,
          50,
          120,
          35,
          505,
          100,
          110,
          155
         ],
         "yaxis": "y"
        },
        {
         "alignmentgroup": "True",
         "customdata": [
          [
           "TF1 Séries Films",
           1,
           115
          ],
          [
           "TF1 Séries Films",
           1,
           115
          ],
          [
           "TF1 Séries Films",
           2,
           5
          ],
          [
           "TF1 Séries Films",
           1,
           305
          ],
          [
           "TF1 Séries Films",
           19,
           27.105263157894736
          ],
          [
           "TF1 Séries Films",
           1,
           50
          ],
          [
           "TF1 Séries Films",
           11,
           31.818181818181817
          ]
         ],
         "hovertemplate": "channel_name=%{customdata[0]}<br>category_text=%{x}<br>sum=%{y}<br>count=%{customdata[1]}<br>mean=%{customdata[2]}<extra></extra>",
         "legendgroup": "TF1 Séries Films",
         "marker": {
          "color": "#00cc96",
          "pattern": {
           "shape": ""
          }
         },
         "name": "TF1 Séries Films",
         "offsetgroup": "TF1 Séries Films",
         "orientation": "v",
         "showlegend": true,
         "textposition": "auto",
         "type": "bar",
         "x": [
          "film d'action",
          "film de science-fiction",
          "magazine de la gastronomie",
          "programme indéterminé",
          "série humoristique",
          "série policière",
          "série réaliste"
         ],
         "xaxis": "x",
         "y": [
          115,
          115,
          10,
          305,
          515,
          50,
          350
         ],
         "yaxis": "y"
        },
        {
         "alignmentgroup": "True",
         "customdata": [
          [
           "TFX",
           2,
           110
          ],
          [
           "TFX",
           1,
           5
          ],
          [
           "TFX",
           2,
           5
          ],
          [
           "TFX",
           1,
           120
          ],
          [
           "TFX",
           1,
           375
          ],
          [
           "TFX",
           5,
           55
          ],
          [
           "TFX",
           7,
           62.857142857142854
          ]
         ],
         "hovertemplate": "channel_name=%{customdata[0]}<br>category_text=%{x}<br>sum=%{y}<br>count=%{customdata[1]}<br>mean=%{customdata[2]}<extra></extra>",
         "legendgroup": "TFX",
         "marker": {
          "color": "#ab63fa",
          "pattern": {
           "shape": ""
          }
         },
         "name": "TFX",
         "offsetgroup": "TFX",
         "orientation": "v",
         "showlegend": true,
         "textposition": "auto",
         "type": "bar",
         "x": [
          "film d'animation",
          "journal",
          "magazine de la gastronomie",
          "magazine de télé-achat",
          "programme indéterminé",
          "série sentimentale",
          "téléréalité"
         ],
         "xaxis": "x",
         "y": [
          220,
          5,
          10,
          120,
          375,
          275,
          440
         ],
         "yaxis": "y"
        },
        {
         "alignmentgroup": "True",
         "customdata": [
          [
           "TMC",
           3,
           55
          ],
          [
           "TMC",
           1,
           105
          ],
          [
           "TMC",
           1,
           105
          ],
          [
           "TMC",
           1,
           15
          ],
          [
           "TMC",
           1,
           110
          ],
          [
           "TMC",
           2,
           5
          ],
          [
           "TMC",
           1,
           380
          ],
          [
           "TMC",
           5,
           55
          ],
          [
           "TMC",
           3,
           100
          ]
         ],
         "hovertemplate": "channel_name=%{customdata[0]}<br>category_text=%{x}<br>sum=%{y}<br>count=%{customdata[1]}<br>mean=%{customdata[2]}<extra></extra>",
         "legendgroup": "TMC",
         "marker": {
          "color": "#FFA15A",
          "pattern": {
           "shape": ""
          }
         },
         "name": "TMC",
         "offsetgroup": "TMC",
         "orientation": "v",
         "showlegend": true,
         "textposition": "auto",
         "type": "bar",
         "x": [
          "divertissement",
          "documentaire société",
          "magazine de télé-achat",
          "magazine du consommateur",
          "magazine du show-biz",
          "météo",
          "programme indéterminé",
          "série policière",
          "téléfilm sentimental"
         ],
         "xaxis": "x",
         "y": [
          165,
          105,
          105,
          15,
          110,
          10,
          380,
          275,
          300
         ],
         "yaxis": "y"
        },
        {
         "alignmentgroup": "True",
         "customdata": [
          [
           "W9",
           4,
           63.75
          ],
          [
           "W9",
           1,
           120
          ],
          [
           "W9",
           3,
           63.333333333333336
          ],
          [
           "W9",
           1,
           115
          ],
          [
           "W9",
           1,
           110
          ],
          [
           "W9",
           2,
           5
          ],
          [
           "W9",
           1,
           220
          ],
          [
           "W9",
           2,
           50
          ],
          [
           "W9",
           1,
           100
          ],
          [
           "W9",
           2,
           115
          ]
         ],
         "hovertemplate": "channel_name=%{customdata[0]}<br>category_text=%{x}<br>sum=%{y}<br>count=%{customdata[1]}<br>mean=%{customdata[2]}<extra></extra>",
         "legendgroup": "W9",
         "marker": {
          "color": "#19d3f3",
          "pattern": {
           "shape": ""
          }
         },
         "name": "W9",
         "offsetgroup": "W9",
         "orientation": "v",
         "showlegend": true,
         "textposition": "auto",
         "type": "bar",
         "x": [
          "clips",
          "divertissement",
          "divertissement : jeu",
          "film catastrophe",
          "magazine de société",
          "météo",
          "programme indéterminé",
          "série dramatique",
          "téléfilm dramatique",
          "téléfilm sentimental"
         ],
         "xaxis": "x",
         "y": [
          255,
          120,
          190,
          115,
          110,
          10,
          220,
          100,
          100,
          230
         ],
         "yaxis": "y"
        }
       ],
       "layout": {
        "barmode": "relative",
        "legend": {
         "title": {
          "text": "channel_name"
         },
         "tracegroupgap": 0
        },
        "template": {
         "data": {
          "bar": [
           {
            "error_x": {
             "color": "#2a3f5f"
            },
            "error_y": {
             "color": "#2a3f5f"
            },
            "marker": {
             "line": {
              "color": "#E5ECF6",
              "width": 0.5
             },
             "pattern": {
              "fillmode": "overlay",
              "size": 10,
              "solidity": 0.2
             }
            },
            "type": "bar"
           }
          ],
          "barpolar": [
           {
            "marker": {
             "line": {
              "color": "#E5ECF6",
              "width": 0.5
             },
             "pattern": {
              "fillmode": "overlay",
              "size": 10,
              "solidity": 0.2
             }
            },
            "type": "barpolar"
           }
          ],
          "carpet": [
           {
            "aaxis": {
             "endlinecolor": "#2a3f5f",
             "gridcolor": "white",
             "linecolor": "white",
             "minorgridcolor": "white",
             "startlinecolor": "#2a3f5f"
            },
            "baxis": {
             "endlinecolor": "#2a3f5f",
             "gridcolor": "white",
             "linecolor": "white",
             "minorgridcolor": "white",
             "startlinecolor": "#2a3f5f"
            },
            "type": "carpet"
           }
          ],
          "choropleth": [
           {
            "colorbar": {
             "outlinewidth": 0,
             "ticks": ""
            },
            "type": "choropleth"
           }
          ],
          "contour": [
           {
            "colorbar": {
             "outlinewidth": 0,
             "ticks": ""
            },
            "colorscale": [
             [
              0,
              "#0d0887"
             ],
             [
              0.1111111111111111,
              "#46039f"
             ],
             [
              0.2222222222222222,
              "#7201a8"
             ],
             [
              0.3333333333333333,
              "#9c179e"
             ],
             [
              0.4444444444444444,
              "#bd3786"
             ],
             [
              0.5555555555555556,
              "#d8576b"
             ],
             [
              0.6666666666666666,
              "#ed7953"
             ],
             [
              0.7777777777777778,
              "#fb9f3a"
             ],
             [
              0.8888888888888888,
              "#fdca26"
             ],
             [
              1,
              "#f0f921"
             ]
            ],
            "type": "contour"
           }
          ],
          "contourcarpet": [
           {
            "colorbar": {
             "outlinewidth": 0,
             "ticks": ""
            },
            "type": "contourcarpet"
           }
          ],
          "heatmap": [
           {
            "colorbar": {
             "outlinewidth": 0,
             "ticks": ""
            },
            "colorscale": [
             [
              0,
              "#0d0887"
             ],
             [
              0.1111111111111111,
              "#46039f"
             ],
             [
              0.2222222222222222,
              "#7201a8"
             ],
             [
              0.3333333333333333,
              "#9c179e"
             ],
             [
              0.4444444444444444,
              "#bd3786"
             ],
             [
              0.5555555555555556,
              "#d8576b"
             ],
             [
              0.6666666666666666,
              "#ed7953"
             ],
             [
              0.7777777777777778,
              "#fb9f3a"
             ],
             [
              0.8888888888888888,
              "#fdca26"
             ],
             [
              1,
              "#f0f921"
             ]
            ],
            "type": "heatmap"
           }
          ],
          "heatmapgl": [
           {
            "colorbar": {
             "outlinewidth": 0,
             "ticks": ""
            },
            "colorscale": [
             [
              0,
              "#0d0887"
             ],
             [
              0.1111111111111111,
              "#46039f"
             ],
             [
              0.2222222222222222,
              "#7201a8"
             ],
             [
              0.3333333333333333,
              "#9c179e"
             ],
             [
              0.4444444444444444,
              "#bd3786"
             ],
             [
              0.5555555555555556,
              "#d8576b"
             ],
             [
              0.6666666666666666,
              "#ed7953"
             ],
             [
              0.7777777777777778,
              "#fb9f3a"
             ],
             [
              0.8888888888888888,
              "#fdca26"
             ],
             [
              1,
              "#f0f921"
             ]
            ],
            "type": "heatmapgl"
           }
          ],
          "histogram": [
           {
            "marker": {
             "pattern": {
              "fillmode": "overlay",
              "size": 10,
              "solidity": 0.2
             }
            },
            "type": "histogram"
           }
          ],
          "histogram2d": [
           {
            "colorbar": {
             "outlinewidth": 0,
             "ticks": ""
            },
            "colorscale": [
             [
              0,
              "#0d0887"
             ],
             [
              0.1111111111111111,
              "#46039f"
             ],
             [
              0.2222222222222222,
              "#7201a8"
             ],
             [
              0.3333333333333333,
              "#9c179e"
             ],
             [
              0.4444444444444444,
              "#bd3786"
             ],
             [
              0.5555555555555556,
              "#d8576b"
             ],
             [
              0.6666666666666666,
              "#ed7953"
             ],
             [
              0.7777777777777778,
              "#fb9f3a"
             ],
             [
              0.8888888888888888,
              "#fdca26"
             ],
             [
              1,
              "#f0f921"
             ]
            ],
            "type": "histogram2d"
           }
          ],
          "histogram2dcontour": [
           {
            "colorbar": {
             "outlinewidth": 0,
             "ticks": ""
            },
            "colorscale": [
             [
              0,
              "#0d0887"
             ],
             [
              0.1111111111111111,
              "#46039f"
             ],
             [
              0.2222222222222222,
              "#7201a8"
             ],
             [
              0.3333333333333333,
              "#9c179e"
             ],
             [
              0.4444444444444444,
              "#bd3786"
             ],
             [
              0.5555555555555556,
              "#d8576b"
             ],
             [
              0.6666666666666666,
              "#ed7953"
             ],
             [
              0.7777777777777778,
              "#fb9f3a"
             ],
             [
              0.8888888888888888,
              "#fdca26"
             ],
             [
              1,
              "#f0f921"
             ]
            ],
            "type": "histogram2dcontour"
           }
          ],
          "mesh3d": [
           {
            "colorbar": {
             "outlinewidth": 0,
             "ticks": ""
            },
            "type": "mesh3d"
           }
          ],
          "parcoords": [
           {
            "line": {
             "colorbar": {
              "outlinewidth": 0,
              "ticks": ""
             }
            },
            "type": "parcoords"
           }
          ],
          "pie": [
           {
            "automargin": true,
            "type": "pie"
           }
          ],
          "scatter": [
           {
            "fillpattern": {
             "fillmode": "overlay",
             "size": 10,
             "solidity": 0.2
            },
            "type": "scatter"
           }
          ],
          "scatter3d": [
           {
            "line": {
             "colorbar": {
              "outlinewidth": 0,
              "ticks": ""
             }
            },
            "marker": {
             "colorbar": {
              "outlinewidth": 0,
              "ticks": ""
             }
            },
            "type": "scatter3d"
           }
          ],
          "scattercarpet": [
           {
            "marker": {
             "colorbar": {
              "outlinewidth": 0,
              "ticks": ""
             }
            },
            "type": "scattercarpet"
           }
          ],
          "scattergeo": [
           {
            "marker": {
             "colorbar": {
              "outlinewidth": 0,
              "ticks": ""
             }
            },
            "type": "scattergeo"
           }
          ],
          "scattergl": [
           {
            "marker": {
             "colorbar": {
              "outlinewidth": 0,
              "ticks": ""
             }
            },
            "type": "scattergl"
           }
          ],
          "scattermapbox": [
           {
            "marker": {
             "colorbar": {
              "outlinewidth": 0,
              "ticks": ""
             }
            },
            "type": "scattermapbox"
           }
          ],
          "scatterpolar": [
           {
            "marker": {
             "colorbar": {
              "outlinewidth": 0,
              "ticks": ""
             }
            },
            "type": "scatterpolar"
           }
          ],
          "scatterpolargl": [
           {
            "marker": {
             "colorbar": {
              "outlinewidth": 0,
              "ticks": ""
             }
            },
            "type": "scatterpolargl"
           }
          ],
          "scatterternary": [
           {
            "marker": {
             "colorbar": {
              "outlinewidth": 0,
              "ticks": ""
             }
            },
            "type": "scatterternary"
           }
          ],
          "surface": [
           {
            "colorbar": {
             "outlinewidth": 0,
             "ticks": ""
            },
            "colorscale": [
             [
              0,
              "#0d0887"
             ],
             [
              0.1111111111111111,
              "#46039f"
             ],
             [
              0.2222222222222222,
              "#7201a8"
             ],
             [
              0.3333333333333333,
              "#9c179e"
             ],
             [
              0.4444444444444444,
              "#bd3786"
             ],
             [
              0.5555555555555556,
              "#d8576b"
             ],
             [
              0.6666666666666666,
              "#ed7953"
             ],
             [
              0.7777777777777778,
              "#fb9f3a"
             ],
             [
              0.8888888888888888,
              "#fdca26"
             ],
             [
              1,
              "#f0f921"
             ]
            ],
            "type": "surface"
           }
          ],
          "table": [
           {
            "cells": {
             "fill": {
              "color": "#EBF0F8"
             },
             "line": {
              "color": "white"
             }
            },
            "header": {
             "fill": {
              "color": "#C8D4E3"
             },
             "line": {
              "color": "white"
             }
            },
            "type": "table"
           }
          ]
         },
         "layout": {
          "annotationdefaults": {
           "arrowcolor": "#2a3f5f",
           "arrowhead": 0,
           "arrowwidth": 1
          },
          "autotypenumbers": "strict",
          "coloraxis": {
           "colorbar": {
            "outlinewidth": 0,
            "ticks": ""
           }
          },
          "colorscale": {
           "diverging": [
            [
             0,
             "#8e0152"
            ],
            [
             0.1,
             "#c51b7d"
            ],
            [
             0.2,
             "#de77ae"
            ],
            [
             0.3,
             "#f1b6da"
            ],
            [
             0.4,
             "#fde0ef"
            ],
            [
             0.5,
             "#f7f7f7"
            ],
            [
             0.6,
             "#e6f5d0"
            ],
            [
             0.7,
             "#b8e186"
            ],
            [
             0.8,
             "#7fbc41"
            ],
            [
             0.9,
             "#4d9221"
            ],
            [
             1,
             "#276419"
            ]
           ],
           "sequential": [
            [
             0,
             "#0d0887"
            ],
            [
             0.1111111111111111,
             "#46039f"
            ],
            [
             0.2222222222222222,
             "#7201a8"
            ],
            [
             0.3333333333333333,
             "#9c179e"
            ],
            [
             0.4444444444444444,
             "#bd3786"
            ],
            [
             0.5555555555555556,
             "#d8576b"
            ],
            [
             0.6666666666666666,
             "#ed7953"
            ],
            [
             0.7777777777777778,
             "#fb9f3a"
            ],
            [
             0.8888888888888888,
             "#fdca26"
            ],
            [
             1,
             "#f0f921"
            ]
           ],
           "sequentialminus": [
            [
             0,
             "#0d0887"
            ],
            [
             0.1111111111111111,
             "#46039f"
            ],
            [
             0.2222222222222222,
             "#7201a8"
            ],
            [
             0.3333333333333333,
             "#9c179e"
            ],
            [
             0.4444444444444444,
             "#bd3786"
            ],
            [
             0.5555555555555556,
             "#d8576b"
            ],
            [
             0.6666666666666666,
             "#ed7953"
            ],
            [
             0.7777777777777778,
             "#fb9f3a"
            ],
            [
             0.8888888888888888,
             "#fdca26"
            ],
            [
             1,
             "#f0f921"
            ]
           ]
          },
          "colorway": [
           "#636efa",
           "#EF553B",
           "#00cc96",
           "#ab63fa",
           "#FFA15A",
           "#19d3f3",
           "#FF6692",
           "#B6E880",
           "#FF97FF",
           "#FECB52"
          ],
          "font": {
           "color": "#2a3f5f"
          },
          "geo": {
           "bgcolor": "white",
           "lakecolor": "white",
           "landcolor": "#E5ECF6",
           "showlakes": true,
           "showland": true,
           "subunitcolor": "white"
          },
          "hoverlabel": {
           "align": "left"
          },
          "hovermode": "closest",
          "mapbox": {
           "style": "light"
          },
          "paper_bgcolor": "white",
          "plot_bgcolor": "#E5ECF6",
          "polar": {
           "angularaxis": {
            "gridcolor": "white",
            "linecolor": "white",
            "ticks": ""
           },
           "bgcolor": "#E5ECF6",
           "radialaxis": {
            "gridcolor": "white",
            "linecolor": "white",
            "ticks": ""
           }
          },
          "scene": {
           "xaxis": {
            "backgroundcolor": "#E5ECF6",
            "gridcolor": "white",
            "gridwidth": 2,
            "linecolor": "white",
            "showbackground": true,
            "ticks": "",
            "zerolinecolor": "white"
           },
           "yaxis": {
            "backgroundcolor": "#E5ECF6",
            "gridcolor": "white",
            "gridwidth": 2,
            "linecolor": "white",
            "showbackground": true,
            "ticks": "",
            "zerolinecolor": "white"
           },
           "zaxis": {
            "backgroundcolor": "#E5ECF6",
            "gridcolor": "white",
            "gridwidth": 2,
            "linecolor": "white",
            "showbackground": true,
            "ticks": "",
            "zerolinecolor": "white"
           }
          },
          "shapedefaults": {
           "line": {
            "color": "#2a3f5f"
           }
          },
          "ternary": {
           "aaxis": {
            "gridcolor": "white",
            "linecolor": "white",
            "ticks": ""
           },
           "baxis": {
            "gridcolor": "white",
            "linecolor": "white",
            "ticks": ""
           },
           "bgcolor": "#E5ECF6",
           "caxis": {
            "gridcolor": "white",
            "linecolor": "white",
            "ticks": ""
           }
          },
          "title": {
           "x": 0.05
          },
          "xaxis": {
           "automargin": true,
           "gridcolor": "white",
           "linecolor": "white",
           "ticks": "",
           "title": {
            "standoff": 15
           },
           "zerolinecolor": "white",
           "zerolinewidth": 2
          },
          "yaxis": {
           "automargin": true,
           "gridcolor": "white",
           "linecolor": "white",
           "ticks": "",
           "title": {
            "standoff": 15
           },
           "zerolinecolor": "white",
           "zerolinewidth": 2
          }
         }
        },
        "title": {
         "text": "Number of minutes for each category & channel 2022-11-10"
        },
        "xaxis": {
         "anchor": "y",
         "domain": [
          0,
          1
         ],
         "title": {
          "text": ""
         }
        },
        "yaxis": {
         "anchor": "x",
         "domain": [
          0,
          1
         ],
         "title": {
          "text": ""
         }
        }
       }
      }
     },
     "metadata": {},
     "output_type": "display_data"
    }
   ],
   "source": [
    "df1 = df_day.groupby([\"channel_name\", \"category_text\"]).length_minutes.agg([\"count\", \"sum\", \"mean\"]).reset_index()\n",
    "df1\n",
    "fig1 = px.bar(df1,\n",
    "              x=\"channel_name\",\n",
    "              y=\"sum\",\n",
    "              color=\"category_text\",\n",
    "              title=f\"Number of minutes for each channel & category for {start_date}\",\n",
    "              hover_data=df1.columns)\n",
    "_ = fig1.add_hline(\n",
    "    y=1440,\n",
    "    line_dash=\"dot\",\n",
    "    annotation_text=\"24 hours of content\", \n",
    "    annotation_position=\"top left\",\n",
    "    annotation_font_size=12,\n",
    "    annotation_font_color=\"black\"\n",
    ")\n",
    "_ = fig1.update_yaxes(title=\"\")\n",
    "_ = fig1.update_xaxes(title=\"\")\n",
    "fig1.show()\n",
    "\n",
    "fig2 = px.bar(df1,\n",
    "              x=\"category_text\",\n",
    "              y=\"sum\",\n",
    "              color=\"channel_name\",\n",
    "              title=f\"Number of minutes for each category & channel {start_date}\",\n",
    "              hover_data=df1.columns)\n",
    "_ = fig2.update_yaxes(title=\"\")\n",
    "_ = fig2.update_xaxes(title=\"\")\n",
    "fig2.show()"
   ]
  },
  {
   "cell_type": "code",
   "execution_count": 59,
   "id": "8db38253",
   "metadata": {},
   "outputs": [
    {
     "data": {
      "text/plain": [
       "0  1                    \n",
       "   téléréalité              271\n",
       "   société                  210\n",
       "   découvertes              125\n",
       "   sciences et technique     64\n",
       "   animalier                 56\n",
       "   histoire                  43\n",
       "   nature                    31\n",
       "   justice                   30\n",
       "   culture                   23\n",
       "   civilisations             19\n",
       "   aventures                 18\n",
       "   cinéma                    16\n",
       "   sport                     15\n",
       "   environnement             15\n",
       "   gastronomie               15\n",
       "   politique                 12\n",
       "   voyage                    12\n",
       "   pêche                     10\n",
       "   musique                   10\n",
       "   beaux-arts                 6\n",
       "   santé                      5\n",
       "   musique classique          3\n",
       "   education                  3\n",
       "   art de vivre               2\n",
       "   rock-pop                   2\n",
       "   autre                      2\n",
       "   lettres                    1\n",
       "   géopolitique               1\n",
       "   fiction                    1\n",
       "dtype: int64"
      ]
     },
     "execution_count": 59,
     "metadata": {},
     "output_type": "execute_result"
    }
   ],
   "source": [
    "# Try to make sub-categories\n",
    "df_programs.category_text.value_counts().index.tolist()\n",
    "\n",
    "df_programs.category_text = df_programs.category_text.str.replace(\" : \", \" \")\n",
    "df_programs.category_text.str.split(\"série \", expand=True).value_counts()\n",
    "df_programs.category_text.str.split(\"film \", expand=True).value_counts()\n",
    "df_programs.category_text.str.split(\"jeunesse \", expand=True).value_counts()\n",
    "df_programs.category_text.str.split(\"divertissement \", expand=True).value_counts()\n",
    "df_programs.category_text.str.split(\"sport \", expand=True).value_counts()\n",
    "df_programs.category_text.str.split(\"magazine \", expand=True).value_counts()\n",
    "df_programs.category_text.str.split(\"documentaire \", expand=True).value_counts()"
   ]
  },
  {
   "cell_type": "code",
   "execution_count": 60,
   "id": "68806811",
   "metadata": {},
   "outputs": [],
   "source": [
    "def removeprefix(text):\n",
    "    for prefix in [\"de \", \"de la \", \"du \", \"de l'\", \"d'\"]:   \n",
    "        if text.startswith(prefix):\n",
    "            return text[len(prefix):]\n",
    "        return text\n",
    "\n",
    "cat_prefixes = [\n",
    "    \"série\",\n",
    "    \"film\",\n",
    "    \"jeunesse\",\n",
    "    \"divertissement\",\n",
    "    \"sport\",\n",
    "    \"magazine\",\n",
    "    \"documentaire\",\n",
    "]\n",
    "\n",
    "def split_category(cat_text):\n",
    "    main_cat = cat_text\n",
    "    sub_cat = None\n",
    "    \n",
    "    for cat_prefix in cat_prefixes:\n",
    "        if cat_text.startswith(cat_prefix + \" \"):\n",
    "            main_cat = cat_prefix\n",
    "            sub_cat = cat_text.split(cat_prefix + \" \")[1].removeprefix()\n",
    "        \n",
    "            return main_cat, sub_cat\n",
    "    \n",
    "    return main_cat, sub_cat"
   ]
  },
  {
   "cell_type": "code",
   "execution_count": 61,
   "id": "f58323c5",
   "metadata": {},
   "outputs": [],
   "source": [
    "df_programs.category_text.str.split(\"film \", expand=True)[1].value_counts()\n",
    "\n",
    "cat_text = df_programs.category_text.tolist()\n",
    "\n",
    "for split_category in [\"film\"]:\n",
    "    if split_category + \" \" in cat_text:\n",
    "        main_cat = split_category\n",
    "        sub_cat = cat_text.split(split_category + \" \")[1].removeprefix()"
   ]
  },
  {
   "cell_type": "code",
   "execution_count": 62,
   "id": "6be43ced",
   "metadata": {},
   "outputs": [
    {
     "data": {
      "text/html": [
       "<div>\n",
       "<style scoped>\n",
       "    .dataframe tbody tr th:only-of-type {\n",
       "        vertical-align: middle;\n",
       "    }\n",
       "\n",
       "    .dataframe tbody tr th {\n",
       "        vertical-align: top;\n",
       "    }\n",
       "\n",
       "    .dataframe thead th {\n",
       "        text-align: right;\n",
       "    }\n",
       "</style>\n",
       "<table border=\"1\" class=\"dataframe\">\n",
       "  <thead>\n",
       "    <tr style=\"text-align: right;\">\n",
       "      <th></th>\n",
       "      <th>start</th>\n",
       "      <th>stop</th>\n",
       "      <th>length_minutes</th>\n",
       "      <th>channel_name</th>\n",
       "      <th>title</th>\n",
       "      <th>subtitle</th>\n",
       "      <th>date</th>\n",
       "      <th>desc_text</th>\n",
       "      <th>category_text</th>\n",
       "    </tr>\n",
       "  </thead>\n",
       "  <tbody>\n",
       "    <tr>\n",
       "      <th>0</th>\n",
       "      <td>2022-11-08 00:05:00+01:00</td>\n",
       "      <td>2022-11-08 00:55:00+01:00</td>\n",
       "      <td>50</td>\n",
       "      <td>TF1</td>\n",
       "      <td>New York : crime organisé</td>\n",
       "      <td>Une opération à risques</td>\n",
       "      <td>2021</td>\n",
       "      <td>Saison:1 - Episode:7 - La famille de Bell rend...</td>\n",
       "      <td>série policière</td>\n",
       "    </tr>\n",
       "    <tr>\n",
       "      <th>1</th>\n",
       "      <td>2022-11-08 00:55:00+01:00</td>\n",
       "      <td>2022-11-08 01:40:00+01:00</td>\n",
       "      <td>45</td>\n",
       "      <td>TF1</td>\n",
       "      <td>New York Unité Spéciale</td>\n",
       "      <td>Un moment de faiblesse</td>\n",
       "      <td>2021</td>\n",
       "      <td>Saison:22 - Episode:12 - Olivia entre dans un ...</td>\n",
       "      <td>série policière</td>\n",
       "    </tr>\n",
       "    <tr>\n",
       "      <th>2</th>\n",
       "      <td>2022-11-08 01:40:00+01:00</td>\n",
       "      <td>2022-11-08 02:35:00+01:00</td>\n",
       "      <td>55</td>\n",
       "      <td>TF1</td>\n",
       "      <td>New York : crime organisé</td>\n",
       "      <td>La mort en ligne</td>\n",
       "      <td>2021</td>\n",
       "      <td>Saison:1 - Episode:4 - Alors que la famille Wh...</td>\n",
       "      <td>série policière</td>\n",
       "    </tr>\n",
       "    <tr>\n",
       "      <th>3</th>\n",
       "      <td>2022-11-08 02:35:00+01:00</td>\n",
       "      <td>2022-11-08 06:25:00+01:00</td>\n",
       "      <td>230</td>\n",
       "      <td>TF1</td>\n",
       "      <td>Programmes de la nuit</td>\n",
       "      <td>NaN</td>\n",
       "      <td>NaN</td>\n",
       "      <td>Retrouvez tous vos programmes de nuit.</td>\n",
       "      <td>programme indéterminé</td>\n",
       "    </tr>\n",
       "    <tr>\n",
       "      <th>4</th>\n",
       "      <td>2022-11-08 06:25:00+01:00</td>\n",
       "      <td>2022-11-08 08:25:00+01:00</td>\n",
       "      <td>120</td>\n",
       "      <td>TF1</td>\n",
       "      <td>TFou</td>\n",
       "      <td>NaN</td>\n",
       "      <td>NaN</td>\n",
       "      <td>MolangBarbapapa en Famille (ST)Thomas et ses a...</td>\n",
       "      <td>magazine jeunesse</td>\n",
       "    </tr>\n",
       "  </tbody>\n",
       "</table>\n",
       "</div>"
      ],
      "text/plain": [
       "                      start                      stop  length_minutes  \\\n",
       "0 2022-11-08 00:05:00+01:00 2022-11-08 00:55:00+01:00              50   \n",
       "1 2022-11-08 00:55:00+01:00 2022-11-08 01:40:00+01:00              45   \n",
       "2 2022-11-08 01:40:00+01:00 2022-11-08 02:35:00+01:00              55   \n",
       "3 2022-11-08 02:35:00+01:00 2022-11-08 06:25:00+01:00             230   \n",
       "4 2022-11-08 06:25:00+01:00 2022-11-08 08:25:00+01:00             120   \n",
       "\n",
       "  channel_name                      title                 subtitle  date  \\\n",
       "0          TF1  New York : crime organisé  Une opération à risques  2021   \n",
       "1          TF1    New York Unité Spéciale   Un moment de faiblesse  2021   \n",
       "2          TF1  New York : crime organisé         La mort en ligne  2021   \n",
       "3          TF1      Programmes de la nuit                      NaN   NaN   \n",
       "4          TF1                       TFou                      NaN   NaN   \n",
       "\n",
       "                                           desc_text          category_text  \n",
       "0  Saison:1 - Episode:7 - La famille de Bell rend...        série policière  \n",
       "1  Saison:22 - Episode:12 - Olivia entre dans un ...        série policière  \n",
       "2  Saison:1 - Episode:4 - Alors que la famille Wh...        série policière  \n",
       "3             Retrouvez tous vos programmes de nuit.  programme indéterminé  \n",
       "4  MolangBarbapapa en Famille (ST)Thomas et ses a...      magazine jeunesse  "
      ]
     },
     "execution_count": 62,
     "metadata": {},
     "output_type": "execute_result"
    }
   ],
   "source": [
    "df.head()"
   ]
  },
  {
   "cell_type": "code",
   "execution_count": 79,
   "id": "de22b3f2",
   "metadata": {},
   "outputs": [
    {
     "data": {
      "application/vnd.plotly.v1+json": {
       "config": {
        "plotlyServerURL": "https://plot.ly"
       },
       "data": [
        {
         "alignmentgroup": "True",
         "base": [
          "2022-11-08T13:00:00+01:00",
          "2022-11-08T20:00:00+01:00",
          "2022-11-08T06:00:00+01:00",
          "2022-11-08T08:00:00+01:00",
          "2022-11-08T13:00:00+01:00",
          "2022-11-08T20:00:00+01:00",
          "2022-11-08T11:35:00+01:00",
          "2022-11-08T11:50:00+01:00",
          "2022-11-08T12:00:00+01:00",
          "2022-11-08T12:25:00+01:00",
          "2022-11-08T18:30:00+01:00",
          "2022-11-08T18:50:00+01:00",
          "2022-11-08T19:00:00+01:00",
          "2022-11-08T19:30:00+01:00",
          "2022-11-08T19:45:00+01:00",
          "2022-11-08T12:45:00+01:00",
          "2022-11-08T19:45:00+01:00",
          "2022-11-08T09:00:00+01:00",
          "2022-11-08T00:00:00+01:00",
          "2022-11-08T04:30:00+01:00",
          "2022-11-08T06:00:00+01:00",
          "2022-11-08T12:00:00+01:00",
          "2022-11-08T14:00:00+01:00",
          "2022-11-08T00:00:00+01:00",
          "2022-11-08T00:31:00+01:00",
          "2022-11-08T01:00:00+01:00",
          "2022-11-08T01:30:00+01:00",
          "2022-11-08T01:58:00+01:00",
          "2022-11-08T02:26:00+01:00",
          "2022-11-08T02:51:00+01:00",
          "2022-11-08T03:19:00+01:00",
          "2022-11-08T03:47:00+01:00",
          "2022-11-08T04:12:00+01:00",
          "2022-11-08T04:59:00+01:00",
          "2022-11-08T05:27:00+01:00",
          "2022-11-08T05:54:00+01:00",
          "2022-11-08T05:58:00+01:00",
          "2022-11-08T15:29:00+01:00",
          "2022-11-08T21:59:00+01:00",
          "2022-11-08T06:59:00+01:00",
          "2022-11-08T08:58:00+01:00",
          "2022-11-08T10:20:00+01:00",
          "2022-11-08T10:28:00+01:00",
          "2022-11-08T10:59:00+01:00",
          "2022-11-08T13:50:00+01:00",
          "2022-11-08T13:59:00+01:00",
          "2022-11-08T14:59:00+01:00",
          "2022-11-08T15:59:00+01:00",
          "2022-11-08T16:59:00+01:00",
          "2022-11-08T18:59:00+01:00",
          "2022-11-08T20:59:00+01:00",
          "2022-11-08T21:59:00+01:00",
          "2022-11-09T13:00:00+01:00",
          "2022-11-09T20:00:00+01:00",
          "2022-11-09T06:00:00+01:00",
          "2022-11-09T08:00:00+01:00",
          "2022-11-09T13:00:00+01:00",
          "2022-11-09T20:00:00+01:00",
          "2022-11-09T11:35:00+01:00",
          "2022-11-09T11:50:00+01:00",
          "2022-11-09T12:00:00+01:00",
          "2022-11-09T12:25:00+01:00",
          "2022-11-09T18:30:00+01:00",
          "2022-11-09T18:50:00+01:00",
          "2022-11-09T19:00:00+01:00",
          "2022-11-09T19:30:00+01:00",
          "2022-11-09T19:45:00+01:00",
          "2022-11-09T12:45:00+01:00",
          "2022-11-09T19:45:00+01:00",
          "2022-11-09T09:25:00+01:00",
          "2022-11-09T00:00:00+01:00",
          "2022-11-09T04:30:00+01:00",
          "2022-11-09T06:00:00+01:00",
          "2022-11-09T12:00:00+01:00",
          "2022-11-09T14:00:00+01:00",
          "2022-11-09T00:01:00+01:00",
          "2022-11-09T00:31:00+01:00",
          "2022-11-09T01:00:00+01:00",
          "2022-11-09T01:30:00+01:00",
          "2022-11-09T01:58:00+01:00",
          "2022-11-09T02:27:00+01:00",
          "2022-11-09T02:55:00+01:00",
          "2022-11-09T03:23:00+01:00",
          "2022-11-09T03:52:00+01:00",
          "2022-11-09T04:16:00+01:00",
          "2022-11-09T04:59:00+01:00",
          "2022-11-09T05:26:00+01:00",
          "2022-11-09T05:54:00+01:00",
          "2022-11-09T05:58:00+01:00",
          "2022-11-09T15:28:00+01:00",
          "2022-11-09T21:58:00+01:00",
          "2022-11-09T06:59:00+01:00",
          "2022-11-09T08:58:00+01:00",
          "2022-11-09T10:20:00+01:00",
          "2022-11-09T10:28:00+01:00",
          "2022-11-09T10:59:00+01:00",
          "2022-11-09T13:50:00+01:00",
          "2022-11-09T13:59:00+01:00",
          "2022-11-09T14:59:00+01:00",
          "2022-11-09T15:59:00+01:00",
          "2022-11-09T16:59:00+01:00",
          "2022-11-09T18:59:00+01:00",
          "2022-11-09T20:59:00+01:00",
          "2022-11-09T21:59:00+01:00",
          "2022-11-10T13:00:00+01:00",
          "2022-11-10T20:00:00+01:00",
          "2022-11-10T06:00:00+01:00",
          "2022-11-10T08:00:00+01:00",
          "2022-11-10T13:00:00+01:00",
          "2022-11-10T20:00:00+01:00",
          "2022-11-10T11:35:00+01:00",
          "2022-11-10T11:50:00+01:00",
          "2022-11-10T12:00:00+01:00",
          "2022-11-10T12:25:00+01:00",
          "2022-11-10T18:30:00+01:00",
          "2022-11-10T18:50:00+01:00",
          "2022-11-10T19:00:00+01:00",
          "2022-11-10T19:30:00+01:00",
          "2022-11-10T19:45:00+01:00",
          "2022-11-10T12:45:00+01:00",
          "2022-11-10T19:45:00+01:00",
          "2022-11-10T09:00:00+01:00",
          "2022-11-10T00:00:00+01:00",
          "2022-11-10T04:30:00+01:00",
          "2022-11-10T06:00:00+01:00",
          "2022-11-10T12:00:00+01:00",
          "2022-11-10T14:00:00+01:00",
          "2022-11-10T00:00:00+01:00",
          "2022-11-10T00:30:00+01:00",
          "2022-11-10T01:00:00+01:00",
          "2022-11-10T01:29:00+01:00",
          "2022-11-10T01:57:00+01:00",
          "2022-11-10T02:26:00+01:00",
          "2022-11-10T02:56:00+01:00",
          "2022-11-10T03:24:00+01:00",
          "2022-11-10T03:52:00+01:00",
          "2022-11-10T04:17:00+01:00",
          "2022-11-10T04:59:00+01:00",
          "2022-11-10T05:26:00+01:00",
          "2022-11-10T05:54:00+01:00",
          "2022-11-10T05:58:00+01:00",
          "2022-11-10T15:29:00+01:00",
          "2022-11-10T21:59:00+01:00",
          "2022-11-10T06:59:00+01:00",
          "2022-11-10T08:58:00+01:00",
          "2022-11-10T10:20:00+01:00",
          "2022-11-10T10:28:00+01:00",
          "2022-11-10T10:59:00+01:00",
          "2022-11-10T13:50:00+01:00",
          "2022-11-10T13:59:00+01:00",
          "2022-11-10T14:59:00+01:00",
          "2022-11-10T15:59:00+01:00",
          "2022-11-10T16:59:00+01:00",
          "2022-11-10T18:59:00+01:00",
          "2022-11-10T20:59:00+01:00",
          "2022-11-10T21:59:00+01:00",
          "2022-11-11T13:00:00+01:00",
          "2022-11-11T20:00:00+01:00",
          "2022-11-11T06:00:00+01:00",
          "2022-11-11T08:00:00+01:00",
          "2022-11-11T13:00:00+01:00",
          "2022-11-11T20:00:00+01:00",
          "2022-11-11T11:35:00+01:00",
          "2022-11-11T11:50:00+01:00",
          "2022-11-11T12:00:00+01:00",
          "2022-11-11T12:25:00+01:00",
          "2022-11-11T18:30:00+01:00",
          "2022-11-11T18:50:00+01:00",
          "2022-11-11T19:00:00+01:00",
          "2022-11-11T19:30:00+01:00",
          "2022-11-11T19:45:00+01:00",
          "2022-11-11T12:45:00+01:00",
          "2022-11-11T19:45:00+01:00",
          "2022-11-11T08:46:00+01:00",
          "2022-11-11T09:05:00+01:00",
          "2022-11-11T09:00:00+01:00",
          "2022-11-11T00:00:00+01:00",
          "2022-11-11T04:30:00+01:00",
          "2022-11-11T06:00:00+01:00",
          "2022-11-11T12:00:00+01:00",
          "2022-11-11T14:00:00+01:00",
          "2022-11-11T00:01:00+01:00",
          "2022-11-11T00:31:00+01:00",
          "2022-11-11T01:00:00+01:00",
          "2022-11-11T01:30:00+01:00",
          "2022-11-11T01:58:00+01:00",
          "2022-11-11T02:26:00+01:00",
          "2022-11-11T02:55:00+01:00",
          "2022-11-11T03:19:00+01:00",
          "2022-11-11T03:47:00+01:00",
          "2022-11-11T04:12:00+01:00",
          "2022-11-11T04:59:00+01:00",
          "2022-11-11T05:27:00+01:00",
          "2022-11-11T05:55:00+01:00",
          "2022-11-11T05:58:00+01:00",
          "2022-11-11T15:29:00+01:00",
          "2022-11-11T21:59:00+01:00",
          "2022-11-11T06:59:00+01:00",
          "2022-11-11T08:58:00+01:00",
          "2022-11-11T10:20:00+01:00",
          "2022-11-11T10:28:00+01:00",
          "2022-11-11T10:59:00+01:00",
          "2022-11-11T13:50:00+01:00",
          "2022-11-11T13:59:00+01:00",
          "2022-11-11T14:59:00+01:00",
          "2022-11-11T15:59:00+01:00",
          "2022-11-11T16:59:00+01:00",
          "2022-11-11T18:59:00+01:00",
          "2022-11-11T20:59:00+01:00",
          "2022-11-11T21:59:00+01:00",
          "2022-11-11T22:35:00+01:00",
          "2022-11-11T22:59:00+01:00",
          "2022-11-12T13:00:00+01:00",
          "2022-11-12T20:00:00+01:00",
          "2022-11-12T06:00:00+01:00",
          "2022-11-12T08:00:00+01:00",
          "2022-11-12T13:00:00+01:00",
          "2022-11-12T20:00:00+01:00",
          "2022-11-12T11:15:00+01:00",
          "2022-11-12T12:00:00+01:00",
          "2022-11-12T12:25:00+01:00",
          "2022-11-12T19:00:00+01:00",
          "2022-11-12T19:30:00+01:00",
          "2022-11-12T19:45:00+01:00",
          "2022-11-12T12:45:00+01:00",
          "2022-11-12T19:45:00+01:00",
          "2022-11-12T09:05:00+01:00",
          "2022-11-12T07:05:00+01:00",
          "2022-11-12T06:00:00+01:00",
          "2022-11-12T00:01:00+01:00",
          "2022-11-12T00:32:00+01:00",
          "2022-11-12T01:01:00+01:00",
          "2022-11-12T01:29:00+01:00",
          "2022-11-12T01:58:00+01:00",
          "2022-11-12T02:26:00+01:00",
          "2022-11-12T02:54:00+01:00",
          "2022-11-12T03:23:00+01:00",
          "2022-11-12T03:47:00+01:00",
          "2022-11-12T04:15:00+01:00",
          "2022-11-12T04:59:00+01:00",
          "2022-11-12T05:27:00+01:00",
          "2022-11-12T05:56:00+01:00",
          "2022-11-12T06:15:00+01:00",
          "2022-11-12T06:36:00+01:00",
          "2022-11-12T10:29:00+01:00",
          "2022-11-12T15:29:00+01:00",
          "2022-11-12T20:58:00+01:00",
          "2022-11-12T06:59:00+01:00",
          "2022-11-12T10:55:00+01:00",
          "2022-11-12T11:59:00+01:00",
          "2022-11-12T13:29:00+01:00",
          "2022-11-12T13:50:00+01:00",
          "2022-11-12T13:59:00+01:00",
          "2022-11-12T16:50:00+01:00",
          "2022-11-12T17:55:00+01:00",
          "2022-11-12T19:58:00+01:00",
          "2022-11-12T20:59:00+01:00",
          "2022-11-12T21:54:00+01:00",
          "2022-11-12T22:26:00+01:00",
          "2022-11-12T22:59:00+01:00",
          "2022-11-13T13:00:00+01:00",
          "2022-11-13T20:00:00+01:00",
          "2022-11-13T06:00:00+01:00",
          "2022-11-13T08:00:00+01:00",
          "2022-11-13T13:00:00+01:00",
          "2022-11-13T20:00:00+01:00",
          "2022-11-13T11:15:00+01:00",
          "2022-11-13T12:00:00+01:00",
          "2022-11-13T19:00:00+01:00",
          "2022-11-13T19:30:00+01:00",
          "2022-11-13T19:45:00+01:00",
          "2022-11-13T12:45:00+01:00",
          "2022-11-13T19:45:00+01:00",
          "2022-11-13T09:17:00+01:00",
          "2022-11-13T08:25:00+01:00",
          "2022-11-13T06:00:00+01:00",
          "2022-11-13T14:00:00+01:00",
          "2022-11-13T00:00:00+01:00",
          "2022-11-13T00:29:00+01:00",
          "2022-11-13T00:59:00+01:00",
          "2022-11-13T01:27:00+01:00",
          "2022-11-13T01:55:00+01:00",
          "2022-11-13T02:20:00+01:00",
          "2022-11-13T02:48:00+01:00",
          "2022-11-13T03:16:00+01:00",
          "2022-11-13T03:41:00+01:00",
          "2022-11-13T04:09:00+01:00",
          "2022-11-13T04:59:00+01:00",
          "2022-11-13T05:27:00+01:00",
          "2022-11-13T05:57:00+01:00",
          "2022-11-13T06:15:00+01:00",
          "2022-11-13T06:36:00+01:00",
          "2022-11-13T15:28:00+01:00",
          "2022-11-13T21:58:00+01:00",
          "2022-11-13T06:59:00+01:00",
          "2022-11-13T10:55:00+01:00",
          "2022-11-13T11:57:00+01:00",
          "2022-11-13T13:29:00+01:00",
          "2022-11-13T13:50:00+01:00",
          "2022-11-13T13:59:00+01:00",
          "2022-11-13T16:50:00+01:00",
          "2022-11-13T17:41:00+01:00",
          "2022-11-13T19:58:00+01:00",
          "2022-11-13T20:59:00+01:00",
          "2022-11-13T21:36:00+01:00",
          "2022-11-13T21:58:00+01:00",
          "2022-11-13T22:59:00+01:00",
          "2022-11-14T13:00:00+01:00",
          "2022-11-14T20:00:00+01:00",
          "2022-11-14T06:00:00+01:00",
          "2022-11-14T08:00:00+01:00",
          "2022-11-14T13:00:00+01:00",
          "2022-11-14T20:00:00+01:00",
          "2022-11-14T11:35:00+01:00",
          "2022-11-14T11:50:00+01:00",
          "2022-11-14T12:00:00+01:00",
          "2022-11-14T12:25:00+01:00",
          "2022-11-14T18:30:00+01:00",
          "2022-11-14T18:50:00+01:00",
          "2022-11-14T19:00:00+01:00",
          "2022-11-14T19:30:00+01:00",
          "2022-11-14T19:45:00+01:00",
          "2022-11-14T12:45:00+01:00",
          "2022-11-14T19:45:00+01:00",
          "2022-11-14T09:00:00+01:00",
          "2022-11-14T04:30:00+01:00",
          "2022-11-14T06:00:00+01:00",
          "2022-11-14T12:00:00+01:00",
          "2022-11-14T14:00:00+01:00",
          "2022-11-14T00:00:00+01:00",
          "2022-11-14T00:30:00+01:00",
          "2022-11-14T00:59:00+01:00",
          "2022-11-14T01:27:00+01:00",
          "2022-11-14T01:56:00+01:00",
          "2022-11-14T02:24:00+01:00",
          "2022-11-14T02:52:00+01:00",
          "2022-11-14T03:21:00+01:00",
          "2022-11-14T03:45:00+01:00",
          "2022-11-14T04:14:00+01:00",
          "2022-11-14T04:59:00+01:00",
          "2022-11-14T05:27:00+01:00",
          "2022-11-14T05:54:00+01:00",
          "2022-11-14T05:58:00+01:00",
          "2022-11-14T15:29:00+01:00",
          "2022-11-14T21:59:00+01:00",
          "2022-11-14T06:59:00+01:00",
          "2022-11-14T08:58:00+01:00",
          "2022-11-14T10:20:00+01:00",
          "2022-11-14T10:28:00+01:00",
          "2022-11-14T10:59:00+01:00",
          "2022-11-14T13:50:00+01:00",
          "2022-11-14T13:59:00+01:00",
          "2022-11-14T14:59:00+01:00",
          "2022-11-14T15:59:00+01:00",
          "2022-11-14T16:59:00+01:00",
          "2022-11-14T18:59:00+01:00",
          "2022-11-14T20:59:00+01:00",
          "2022-11-14T21:59:00+01:00",
          "2022-11-15T13:00:00+01:00",
          "2022-11-15T20:00:00+01:00",
          "2022-11-15T06:00:00+01:00",
          "2022-11-15T08:00:00+01:00",
          "2022-11-15T13:00:00+01:00",
          "2022-11-15T20:00:00+01:00",
          "2022-11-15T11:35:00+01:00",
          "2022-11-15T11:50:00+01:00",
          "2022-11-15T12:00:00+01:00",
          "2022-11-15T12:25:00+01:00",
          "2022-11-15T18:30:00+01:00",
          "2022-11-15T18:50:00+01:00",
          "2022-11-15T19:00:00+01:00",
          "2022-11-15T19:30:00+01:00",
          "2022-11-15T19:45:00+01:00",
          "2022-11-15T12:45:00+01:00",
          "2022-11-15T19:45:00+01:00",
          "2022-11-15T09:00:00+01:00",
          "2022-11-15T00:00:00+01:00",
          "2022-11-15T04:30:00+01:00",
          "2022-11-15T06:00:00+01:00",
          "2022-11-15T12:00:00+01:00",
          "2022-11-15T14:00:00+01:00",
          "2022-11-15T00:00:00+01:00",
          "2022-11-15T00:31:00+01:00",
          "2022-11-15T01:00:00+01:00",
          "2022-11-15T01:30:00+01:00",
          "2022-11-15T01:58:00+01:00",
          "2022-11-15T02:26:00+01:00",
          "2022-11-15T02:51:00+01:00",
          "2022-11-15T03:19:00+01:00",
          "2022-11-15T03:47:00+01:00",
          "2022-11-15T04:12:00+01:00",
          "2022-11-15T04:59:00+01:00",
          "2022-11-15T05:27:00+01:00",
          "2022-11-15T05:54:00+01:00",
          "2022-11-15T05:58:00+01:00",
          "2022-11-15T15:29:00+01:00",
          "2022-11-15T21:59:00+01:00",
          "2022-11-15T06:59:00+01:00",
          "2022-11-15T08:58:00+01:00",
          "2022-11-15T10:20:00+01:00",
          "2022-11-15T10:28:00+01:00",
          "2022-11-15T10:59:00+01:00",
          "2022-11-15T13:50:00+01:00",
          "2022-11-15T13:59:00+01:00",
          "2022-11-15T14:59:00+01:00",
          "2022-11-15T15:59:00+01:00",
          "2022-11-15T16:59:00+01:00",
          "2022-11-15T18:59:00+01:00",
          "2022-11-15T20:59:00+01:00",
          "2022-11-15T21:59:00+01:00",
          "2022-11-16T13:00:00+01:00",
          "2022-11-16T20:00:00+01:00",
          "2022-11-16T06:00:00+01:00",
          "2022-11-16T08:00:00+01:00",
          "2022-11-16T13:00:00+01:00",
          "2022-11-16T20:00:00+01:00",
          "2022-11-16T11:35:00+01:00",
          "2022-11-16T11:50:00+01:00",
          "2022-11-16T12:00:00+01:00",
          "2022-11-16T12:25:00+01:00",
          "2022-11-16T18:30:00+01:00",
          "2022-11-16T18:50:00+01:00",
          "2022-11-16T19:00:00+01:00",
          "2022-11-16T19:30:00+01:00",
          "2022-11-16T12:45:00+01:00",
          "2022-11-16T19:45:00+01:00",
          "2022-11-16T09:25:00+01:00",
          "2022-11-16T00:00:00+01:00",
          "2022-11-16T04:30:00+01:00",
          "2022-11-16T06:00:00+01:00",
          "2022-11-16T12:00:00+01:00",
          "2022-11-16T14:00:00+01:00",
          "2022-11-16T00:01:00+01:00",
          "2022-11-16T00:31:00+01:00",
          "2022-11-16T01:00:00+01:00",
          "2022-11-16T01:30:00+01:00",
          "2022-11-16T01:58:00+01:00",
          "2022-11-16T02:27:00+01:00",
          "2022-11-16T02:55:00+01:00",
          "2022-11-16T03:23:00+01:00",
          "2022-11-16T03:52:00+01:00",
          "2022-11-16T04:16:00+01:00",
          "2022-11-16T04:59:00+01:00",
          "2022-11-16T05:26:00+01:00",
          "2022-11-16T05:54:00+01:00",
          "2022-11-16T05:58:00+01:00",
          "2022-11-16T15:28:00+01:00",
          "2022-11-16T21:58:00+01:00",
          "2022-11-16T06:59:00+01:00",
          "2022-11-16T08:58:00+01:00",
          "2022-11-16T10:20:00+01:00",
          "2022-11-16T10:28:00+01:00",
          "2022-11-16T10:59:00+01:00",
          "2022-11-16T13:50:00+01:00",
          "2022-11-16T13:59:00+01:00",
          "2022-11-16T14:59:00+01:00",
          "2022-11-16T15:59:00+01:00",
          "2022-11-16T16:59:00+01:00",
          "2022-11-16T18:59:00+01:00",
          "2022-11-16T20:59:00+01:00",
          "2022-11-16T21:59:00+01:00",
          "2022-11-17T13:00:00+01:00",
          "2022-11-17T20:00:00+01:00",
          "2022-11-17T06:00:00+01:00",
          "2022-11-17T08:00:00+01:00",
          "2022-11-17T13:00:00+01:00",
          "2022-11-17T20:00:00+01:00",
          "2022-11-17T11:35:00+01:00",
          "2022-11-17T11:50:00+01:00",
          "2022-11-17T12:00:00+01:00",
          "2022-11-17T12:25:00+01:00",
          "2022-11-17T18:30:00+01:00",
          "2022-11-17T18:50:00+01:00",
          "2022-11-17T19:00:00+01:00",
          "2022-11-17T19:30:00+01:00",
          "2022-11-17T12:45:00+01:00",
          "2022-11-17T19:45:00+01:00",
          "2022-11-17T09:00:00+01:00",
          "2022-11-17T00:00:00+01:00",
          "2022-11-17T04:30:00+01:00",
          "2022-11-17T06:00:00+01:00",
          "2022-11-17T12:00:00+01:00",
          "2022-11-17T14:00:00+01:00",
          "2022-11-17T00:00:00+01:00",
          "2022-11-17T00:30:00+01:00",
          "2022-11-17T01:00:00+01:00",
          "2022-11-17T01:29:00+01:00",
          "2022-11-17T01:57:00+01:00",
          "2022-11-17T02:26:00+01:00",
          "2022-11-17T02:56:00+01:00",
          "2022-11-17T03:24:00+01:00",
          "2022-11-17T03:52:00+01:00",
          "2022-11-17T04:17:00+01:00",
          "2022-11-17T04:59:00+01:00",
          "2022-11-17T05:26:00+01:00",
          "2022-11-17T05:54:00+01:00",
          "2022-11-17T05:58:00+01:00",
          "2022-11-17T15:29:00+01:00",
          "2022-11-17T21:59:00+01:00",
          "2022-11-17T06:59:00+01:00",
          "2022-11-17T08:58:00+01:00",
          "2022-11-17T10:20:00+01:00",
          "2022-11-17T10:28:00+01:00",
          "2022-11-17T10:59:00+01:00",
          "2022-11-17T13:50:00+01:00",
          "2022-11-17T13:59:00+01:00",
          "2022-11-17T14:59:00+01:00",
          "2022-11-17T15:59:00+01:00",
          "2022-11-17T16:59:00+01:00",
          "2022-11-17T18:59:00+01:00",
          "2022-11-17T20:59:00+01:00",
          "2022-11-17T21:59:00+01:00",
          "2022-11-18T13:00:00+01:00",
          "2022-11-18T20:00:00+01:00",
          "2022-11-18T06:00:00+01:00",
          "2022-11-18T08:00:00+01:00",
          "2022-11-18T13:00:00+01:00",
          "2022-11-18T20:00:00+01:00",
          "2022-11-18T11:35:00+01:00",
          "2022-11-18T11:50:00+01:00",
          "2022-11-18T12:00:00+01:00",
          "2022-11-18T12:25:00+01:00",
          "2022-11-18T18:30:00+01:00",
          "2022-11-18T18:50:00+01:00",
          "2022-11-18T19:00:00+01:00",
          "2022-11-18T19:30:00+01:00",
          "2022-11-18T12:45:00+01:00",
          "2022-11-18T19:45:00+01:00",
          "2022-11-18T09:00:00+01:00",
          "2022-11-18T00:00:00+01:00",
          "2022-11-18T04:30:00+01:00",
          "2022-11-18T06:00:00+01:00",
          "2022-11-18T12:00:00+01:00",
          "2022-11-18T14:00:00+01:00",
          "2022-11-18T00:01:00+01:00",
          "2022-11-18T00:31:00+01:00",
          "2022-11-18T01:00:00+01:00",
          "2022-11-18T01:30:00+01:00",
          "2022-11-18T01:58:00+01:00",
          "2022-11-18T02:26:00+01:00",
          "2022-11-18T02:55:00+01:00",
          "2022-11-18T03:19:00+01:00",
          "2022-11-18T03:47:00+01:00",
          "2022-11-18T04:12:00+01:00",
          "2022-11-18T04:59:00+01:00",
          "2022-11-18T05:27:00+01:00",
          "2022-11-18T05:55:00+01:00",
          "2022-11-18T05:58:00+01:00",
          "2022-11-18T15:29:00+01:00",
          "2022-11-18T21:59:00+01:00",
          "2022-11-18T06:59:00+01:00",
          "2022-11-18T08:58:00+01:00",
          "2022-11-18T10:20:00+01:00",
          "2022-11-18T10:28:00+01:00",
          "2022-11-18T10:59:00+01:00",
          "2022-11-18T13:50:00+01:00",
          "2022-11-18T13:59:00+01:00",
          "2022-11-18T14:59:00+01:00",
          "2022-11-18T15:59:00+01:00",
          "2022-11-18T16:59:00+01:00",
          "2022-11-18T18:59:00+01:00",
          "2022-11-18T20:59:00+01:00",
          "2022-11-18T21:59:00+01:00",
          "2022-11-18T22:35:00+01:00",
          "2022-11-18T22:59:00+01:00",
          "2022-11-19T13:00:00+01:00",
          "2022-11-19T20:00:00+01:00",
          "2022-11-19T06:00:00+01:00",
          "2022-11-19T08:00:00+01:00",
          "2022-11-19T13:00:00+01:00",
          "2022-11-19T20:00:00+01:00",
          "2022-11-19T11:15:00+01:00",
          "2022-11-19T12:00:00+01:00",
          "2022-11-19T12:25:00+01:00",
          "2022-11-19T19:00:00+01:00",
          "2022-11-19T19:30:00+01:00",
          "2022-11-19T12:45:00+01:00",
          "2022-11-19T19:45:00+01:00",
          "2022-11-19T09:05:00+01:00",
          "2022-11-19T15:05:00+01:00",
          "2022-11-19T07:05:00+01:00",
          "2022-11-19T06:00:00+01:00",
          "2022-11-19T00:01:00+01:00",
          "2022-11-19T00:32:00+01:00",
          "2022-11-19T01:01:00+01:00",
          "2022-11-19T01:29:00+01:00",
          "2022-11-19T01:58:00+01:00",
          "2022-11-19T02:26:00+01:00",
          "2022-11-19T02:54:00+01:00",
          "2022-11-19T03:23:00+01:00",
          "2022-11-19T03:47:00+01:00",
          "2022-11-19T04:15:00+01:00",
          "2022-11-19T04:59:00+01:00",
          "2022-11-19T05:27:00+01:00",
          "2022-11-19T05:56:00+01:00",
          "2022-11-19T06:15:00+01:00",
          "2022-11-19T06:36:00+01:00",
          "2022-11-19T10:29:00+01:00",
          "2022-11-19T15:29:00+01:00",
          "2022-11-19T20:58:00+01:00",
          "2022-11-19T06:59:00+01:00",
          "2022-11-19T10:55:00+01:00",
          "2022-11-19T11:59:00+01:00",
          "2022-11-19T13:29:00+01:00",
          "2022-11-19T13:50:00+01:00",
          "2022-11-19T13:59:00+01:00",
          "2022-11-19T16:50:00+01:00",
          "2022-11-19T17:55:00+01:00",
          "2022-11-19T19:58:00+01:00",
          "2022-11-19T20:59:00+01:00",
          "2022-11-19T21:54:00+01:00",
          "2022-11-19T22:26:00+01:00",
          "2022-11-19T22:59:00+01:00",
          "2022-11-20T13:00:00+01:00",
          "2022-11-20T20:00:00+01:00",
          "2022-11-20T06:00:00+01:00",
          "2022-11-20T08:00:00+01:00",
          "2022-11-20T13:00:00+01:00",
          "2022-11-20T20:00:00+01:00",
          "2022-11-20T11:15:00+01:00",
          "2022-11-20T12:00:00+01:00",
          "2022-11-20T19:00:00+01:00",
          "2022-11-20T19:30:00+01:00",
          "2022-11-20T12:45:00+01:00",
          "2022-11-20T19:45:00+01:00",
          "2022-11-20T09:05:00+01:00",
          "2022-11-20T21:00:00+01:00",
          "2022-11-20T08:45:00+01:00",
          "2022-11-20T06:00:00+01:00",
          "2022-11-20T14:00:00+01:00",
          "2022-11-20T00:00:00+01:00",
          "2022-11-20T00:29:00+01:00",
          "2022-11-20T00:59:00+01:00",
          "2022-11-20T01:27:00+01:00",
          "2022-11-20T01:55:00+01:00",
          "2022-11-20T02:20:00+01:00",
          "2022-11-20T02:48:00+01:00",
          "2022-11-20T03:16:00+01:00",
          "2022-11-20T03:41:00+01:00",
          "2022-11-20T04:09:00+01:00",
          "2022-11-20T04:59:00+01:00",
          "2022-11-20T05:27:00+01:00",
          "2022-11-20T05:57:00+01:00",
          "2022-11-20T06:15:00+01:00",
          "2022-11-20T06:36:00+01:00",
          "2022-11-20T15:28:00+01:00",
          "2022-11-20T21:58:00+01:00",
          "2022-11-20T06:59:00+01:00",
          "2022-11-20T10:55:00+01:00",
          "2022-11-20T11:57:00+01:00",
          "2022-11-20T13:29:00+01:00",
          "2022-11-20T13:50:00+01:00",
          "2022-11-20T13:59:00+01:00",
          "2022-11-20T16:50:00+01:00",
          "2022-11-20T17:41:00+01:00",
          "2022-11-20T19:58:00+01:00",
          "2022-11-20T20:59:00+01:00",
          "2022-11-20T21:36:00+01:00",
          "2022-11-20T21:58:00+01:00",
          "2022-11-20T22:59:00+01:00",
          "2022-11-21T04:30:00+01:00",
          "2022-11-21T00:00:00+01:00",
          "2022-11-21T00:30:00+01:00",
          "2022-11-21T00:59:00+01:00",
          "2022-11-21T01:27:00+01:00",
          "2022-11-21T01:56:00+01:00",
          "2022-11-21T02:24:00+01:00",
          "2022-11-21T02:52:00+01:00",
          "2022-11-21T03:21:00+01:00",
          "2022-11-21T03:45:00+01:00",
          "2022-11-21T04:14:00+01:00",
          "2022-11-21T04:59:00+01:00"
         ],
         "hovertemplate": "category_text=journal<br>start=%{base}<br>stop=%{x}<br>channel_name=%{y}<extra></extra>",
         "legendgroup": "journal",
         "marker": {
          "color": "#636efa",
          "pattern": {
           "shape": ""
          }
         },
         "name": "journal",
         "offsetgroup": "journal",
         "orientation": "h",
         "showlegend": true,
         "textposition": "auto",
         "type": "bar",
         "x": [
          2400000,
          2700000,
          1800000,
          900000,
          2640000,
          2100000,
          840000,
          600000,
          1080000,
          2100000,
          1200000,
          600000,
          1440000,
          1800000,
          1200000,
          2400000,
          1500000,
          300000,
          16200000,
          5400000,
          9000000,
          7200000,
          10200000,
          1320000,
          1680000,
          1320000,
          1260000,
          1320000,
          540000,
          1260000,
          1320000,
          540000,
          1260000,
          1620000,
          1620000,
          120000,
          10260000,
          4680000,
          6540000,
          3060000,
          300000,
          480000,
          1860000,
          3600000,
          540000,
          3600000,
          3600000,
          3600000,
          3600000,
          1800000,
          1260000,
          6960000,
          2400000,
          2700000,
          1800000,
          900000,
          2640000,
          2100000,
          840000,
          600000,
          1080000,
          1800000,
          1200000,
          600000,
          1440000,
          1800000,
          1200000,
          2400000,
          1500000,
          300000,
          16200000,
          5400000,
          9000000,
          7200000,
          10200000,
          1260000,
          1680000,
          1680000,
          1260000,
          1320000,
          1260000,
          1320000,
          1320000,
          1260000,
          1320000,
          1560000,
          1680000,
          120000,
          10260000,
          4680000,
          6540000,
          3060000,
          300000,
          480000,
          1860000,
          3600000,
          540000,
          3600000,
          3600000,
          3600000,
          3600000,
          1800000,
          1260000,
          6960000,
          2400000,
          2700000,
          1800000,
          900000,
          2640000,
          2100000,
          840000,
          600000,
          1080000,
          2100000,
          1200000,
          600000,
          1440000,
          1800000,
          1200000,
          2400000,
          1500000,
          300000,
          16200000,
          5400000,
          9000000,
          7200000,
          10200000,
          1260000,
          1680000,
          1680000,
          1320000,
          1320000,
          1260000,
          1260000,
          1260000,
          1320000,
          1260000,
          1560000,
          1680000,
          120000,
          10260000,
          4620000,
          6540000,
          3060000,
          300000,
          480000,
          1860000,
          3600000,
          540000,
          3600000,
          3600000,
          3600000,
          3600000,
          1800000,
          1260000,
          6960000,
          2400000,
          2700000,
          1800000,
          900000,
          2640000,
          2100000,
          840000,
          600000,
          1080000,
          2100000,
          1200000,
          600000,
          1440000,
          1800000,
          1200000,
          2400000,
          1500000,
          60000,
          300000,
          300000,
          16200000,
          5400000,
          9000000,
          7200000,
          10800000,
          1260000,
          1680000,
          1680000,
          1260000,
          1320000,
          1320000,
          1260000,
          1320000,
          1320000,
          1260000,
          1620000,
          1680000,
          120000,
          10260000,
          4740000,
          6540000,
          3060000,
          300000,
          480000,
          1860000,
          3600000,
          540000,
          3600000,
          3600000,
          3600000,
          3600000,
          1800000,
          1260000,
          960000,
          1440000,
          3360000,
          2400000,
          2400000,
          1800000,
          900000,
          1200000,
          1800000,
          840000,
          1080000,
          1800000,
          1380000,
          1500000,
          1200000,
          2400000,
          1500000,
          300000,
          300000,
          14400000,
          1500000,
          1680000,
          1260000,
          1320000,
          1260000,
          1320000,
          1320000,
          1260000,
          1320000,
          1320000,
          1320000,
          1320000,
          1020000,
          1260000,
          1200000,
          1800000,
          5280000,
          10320000,
          780000,
          1380000,
          1200000,
          1260000,
          540000,
          8700000,
          1500000,
          6900000,
          300000,
          660000,
          1560000,
          1980000,
          3660000,
          2400000,
          2400000,
          1740000,
          900000,
          1200000,
          1800000,
          900000,
          300000,
          1380000,
          2100000,
          1200000,
          2400000,
          1200000,
          180000,
          300000,
          14400000,
          10800000,
          1680000,
          1680000,
          1260000,
          1320000,
          1320000,
          1260000,
          1320000,
          1320000,
          1260000,
          1320000,
          1320000,
          1680000,
          960000,
          1260000,
          1200000,
          5040000,
          7260000,
          780000,
          1380000,
          480000,
          1260000,
          540000,
          8700000,
          1500000,
          7740000,
          300000,
          660000,
          840000,
          3660000,
          3660000,
          2400000,
          2700000,
          1800000,
          900000,
          2400000,
          2100000,
          840000,
          600000,
          1080000,
          1800000,
          1200000,
          600000,
          1440000,
          1800000,
          1200000,
          2400000,
          1500000,
          300000,
          5400000,
          9000000,
          7200000,
          10200000,
          1680000,
          1680000,
          1320000,
          1320000,
          1260000,
          1320000,
          1320000,
          1260000,
          1320000,
          1260000,
          1560000,
          1620000,
          180000,
          10260000,
          4620000,
          6480000,
          780000,
          300000,
          480000,
          1860000,
          3600000,
          540000,
          3600000,
          3600000,
          3600000,
          3600000,
          1800000,
          1260000,
          6960000,
          2400000,
          2700000,
          1800000,
          900000,
          2400000,
          2100000,
          840000,
          600000,
          1080000,
          1800000,
          1200000,
          600000,
          1440000,
          1800000,
          1200000,
          2400000,
          1500000,
          300000,
          16200000,
          5400000,
          9000000,
          7200000,
          10200000,
          1320000,
          1680000,
          1680000,
          1260000,
          1320000,
          1320000,
          1260000,
          1320000,
          1320000,
          1260000,
          1620000,
          1620000,
          120000,
          10260000,
          4680000,
          6540000,
          780000,
          300000,
          480000,
          1860000,
          3600000,
          540000,
          3600000,
          3600000,
          3600000,
          3600000,
          1800000,
          1260000,
          6960000,
          2400000,
          2700000,
          1800000,
          900000,
          2400000,
          2100000,
          840000,
          600000,
          1080000,
          1800000,
          1200000,
          600000,
          1440000,
          1800000,
          2400000,
          1500000,
          300000,
          16200000,
          5400000,
          9000000,
          7200000,
          10200000,
          1260000,
          1680000,
          1680000,
          1260000,
          1320000,
          1260000,
          1320000,
          1320000,
          1260000,
          1320000,
          1560000,
          1680000,
          120000,
          10260000,
          4680000,
          6540000,
          780000,
          300000,
          480000,
          1860000,
          3600000,
          540000,
          3600000,
          3600000,
          3600000,
          3600000,
          1800000,
          1260000,
          6960000,
          2400000,
          2700000,
          1800000,
          900000,
          2400000,
          2100000,
          840000,
          600000,
          1080000,
          1800000,
          1200000,
          600000,
          1440000,
          1800000,
          2400000,
          1500000,
          300000,
          16200000,
          5400000,
          9000000,
          7200000,
          10200000,
          1260000,
          1680000,
          1680000,
          1320000,
          1320000,
          1260000,
          1260000,
          1260000,
          1320000,
          1260000,
          1560000,
          1680000,
          120000,
          10260000,
          4620000,
          6540000,
          780000,
          300000,
          480000,
          1860000,
          3600000,
          540000,
          3600000,
          3600000,
          3600000,
          3600000,
          1800000,
          1260000,
          6960000,
          2400000,
          2700000,
          1800000,
          900000,
          2400000,
          1800000,
          840000,
          600000,
          1080000,
          1800000,
          1200000,
          600000,
          1440000,
          2400000,
          2400000,
          1500000,
          300000,
          16200000,
          5400000,
          9000000,
          7200000,
          10800000,
          1260000,
          1680000,
          1680000,
          1260000,
          1320000,
          1320000,
          1260000,
          1320000,
          1320000,
          1260000,
          1620000,
          1680000,
          120000,
          10260000,
          4740000,
          6540000,
          780000,
          300000,
          480000,
          1860000,
          3600000,
          540000,
          3600000,
          3600000,
          3600000,
          3600000,
          1800000,
          1260000,
          960000,
          1440000,
          3360000,
          2400000,
          2400000,
          1800000,
          900000,
          1200000,
          1920000,
          840000,
          1080000,
          1800000,
          1380000,
          1500000,
          2400000,
          1500000,
          300000,
          300000,
          300000,
          14400000,
          1500000,
          1680000,
          1260000,
          1320000,
          1260000,
          1320000,
          1320000,
          1260000,
          1320000,
          1320000,
          1320000,
          1320000,
          1020000,
          1260000,
          1200000,
          1800000,
          5280000,
          10320000,
          780000,
          1380000,
          1200000,
          1260000,
          540000,
          8700000,
          1500000,
          6900000,
          300000,
          660000,
          1560000,
          1980000,
          3660000,
          2400000,
          2700000,
          1800000,
          900000,
          1800000,
          1800000,
          900000,
          300000,
          1380000,
          2100000,
          2400000,
          1200000,
          300000,
          300000,
          300000,
          14400000,
          10800000,
          1680000,
          1680000,
          1260000,
          1320000,
          1320000,
          1260000,
          1320000,
          1320000,
          1260000,
          1320000,
          1320000,
          1680000,
          960000,
          1260000,
          1200000,
          5040000,
          7260000,
          780000,
          1380000,
          480000,
          1260000,
          540000,
          8700000,
          1500000,
          7740000,
          300000,
          660000,
          840000,
          3660000,
          3660000,
          5400000,
          1680000,
          1680000,
          1320000,
          1320000,
          1260000,
          1320000,
          1320000,
          1260000,
          1320000,
          1260000,
          1560000
         ],
         "xaxis": "x",
         "y": [
          "TF1",
          "TF1",
          "France 2",
          "France 2",
          "France 2",
          "France 2",
          "France 3",
          "France 3",
          "France 3",
          "France 3",
          "France 3",
          "France 3",
          "France 3",
          "France 3",
          "Arte",
          "M6",
          "M6",
          "TFX",
          "BFMTV",
          "BFMTV",
          "BFMTV",
          "BFMTV",
          "BFMTV",
          "CNEWS",
          "CNEWS",
          "CNEWS",
          "CNEWS",
          "CNEWS",
          "CNEWS",
          "CNEWS",
          "CNEWS",
          "CNEWS",
          "CNEWS",
          "CNEWS",
          "CNEWS",
          "CNEWS",
          "CNEWS",
          "CNEWS",
          "CNEWS",
          "Franceinfo",
          "Franceinfo",
          "Franceinfo",
          "Franceinfo",
          "Franceinfo",
          "Franceinfo",
          "Franceinfo",
          "Franceinfo",
          "Franceinfo",
          "Franceinfo",
          "Franceinfo",
          "Franceinfo",
          "Franceinfo",
          "TF1",
          "TF1",
          "France 2",
          "France 2",
          "France 2",
          "France 2",
          "France 3",
          "France 3",
          "France 3",
          "France 3",
          "France 3",
          "France 3",
          "France 3",
          "France 3",
          "Arte",
          "M6",
          "M6",
          "TFX",
          "BFMTV",
          "BFMTV",
          "BFMTV",
          "BFMTV",
          "BFMTV",
          "CNEWS",
          "CNEWS",
          "CNEWS",
          "CNEWS",
          "CNEWS",
          "CNEWS",
          "CNEWS",
          "CNEWS",
          "CNEWS",
          "CNEWS",
          "CNEWS",
          "CNEWS",
          "CNEWS",
          "CNEWS",
          "CNEWS",
          "CNEWS",
          "Franceinfo",
          "Franceinfo",
          "Franceinfo",
          "Franceinfo",
          "Franceinfo",
          "Franceinfo",
          "Franceinfo",
          "Franceinfo",
          "Franceinfo",
          "Franceinfo",
          "Franceinfo",
          "Franceinfo",
          "Franceinfo",
          "TF1",
          "TF1",
          "France 2",
          "France 2",
          "France 2",
          "France 2",
          "France 3",
          "France 3",
          "France 3",
          "France 3",
          "France 3",
          "France 3",
          "France 3",
          "France 3",
          "Arte",
          "M6",
          "M6",
          "TFX",
          "BFMTV",
          "BFMTV",
          "BFMTV",
          "BFMTV",
          "BFMTV",
          "CNEWS",
          "CNEWS",
          "CNEWS",
          "CNEWS",
          "CNEWS",
          "CNEWS",
          "CNEWS",
          "CNEWS",
          "CNEWS",
          "CNEWS",
          "CNEWS",
          "CNEWS",
          "CNEWS",
          "CNEWS",
          "CNEWS",
          "CNEWS",
          "Franceinfo",
          "Franceinfo",
          "Franceinfo",
          "Franceinfo",
          "Franceinfo",
          "Franceinfo",
          "Franceinfo",
          "Franceinfo",
          "Franceinfo",
          "Franceinfo",
          "Franceinfo",
          "Franceinfo",
          "Franceinfo",
          "TF1",
          "TF1",
          "France 2",
          "France 2",
          "France 2",
          "France 2",
          "France 3",
          "France 3",
          "France 3",
          "France 3",
          "France 3",
          "France 3",
          "France 3",
          "France 3",
          "Arte",
          "M6",
          "M6",
          "C8",
          "C8",
          "TFX",
          "BFMTV",
          "BFMTV",
          "BFMTV",
          "BFMTV",
          "BFMTV",
          "CNEWS",
          "CNEWS",
          "CNEWS",
          "CNEWS",
          "CNEWS",
          "CNEWS",
          "CNEWS",
          "CNEWS",
          "CNEWS",
          "CNEWS",
          "CNEWS",
          "CNEWS",
          "CNEWS",
          "CNEWS",
          "CNEWS",
          "CNEWS",
          "Franceinfo",
          "Franceinfo",
          "Franceinfo",
          "Franceinfo",
          "Franceinfo",
          "Franceinfo",
          "Franceinfo",
          "Franceinfo",
          "Franceinfo",
          "Franceinfo",
          "Franceinfo",
          "Franceinfo",
          "Franceinfo",
          "Franceinfo",
          "Franceinfo",
          "TF1",
          "TF1",
          "France 2",
          "France 2",
          "France 2",
          "France 2",
          "France 3",
          "France 3",
          "France 3",
          "France 3",
          "France 3",
          "Arte",
          "M6",
          "M6",
          "C8",
          "TFX",
          "BFMTV",
          "CNEWS",
          "CNEWS",
          "CNEWS",
          "CNEWS",
          "CNEWS",
          "CNEWS",
          "CNEWS",
          "CNEWS",
          "CNEWS",
          "CNEWS",
          "CNEWS",
          "CNEWS",
          "CNEWS",
          "CNEWS",
          "CNEWS",
          "CNEWS",
          "CNEWS",
          "CNEWS",
          "Franceinfo",
          "Franceinfo",
          "Franceinfo",
          "Franceinfo",
          "Franceinfo",
          "Franceinfo",
          "Franceinfo",
          "Franceinfo",
          "Franceinfo",
          "Franceinfo",
          "Franceinfo",
          "Franceinfo",
          "Franceinfo",
          "TF1",
          "TF1",
          "France 2",
          "France 2",
          "France 2",
          "France 2",
          "France 3",
          "France 3",
          "France 3",
          "France 3",
          "Arte",
          "M6",
          "M6",
          "C8",
          "TFX",
          "BFMTV",
          "BFMTV",
          "CNEWS",
          "CNEWS",
          "CNEWS",
          "CNEWS",
          "CNEWS",
          "CNEWS",
          "CNEWS",
          "CNEWS",
          "CNEWS",
          "CNEWS",
          "CNEWS",
          "CNEWS",
          "CNEWS",
          "CNEWS",
          "CNEWS",
          "CNEWS",
          "CNEWS",
          "Franceinfo",
          "Franceinfo",
          "Franceinfo",
          "Franceinfo",
          "Franceinfo",
          "Franceinfo",
          "Franceinfo",
          "Franceinfo",
          "Franceinfo",
          "Franceinfo",
          "Franceinfo",
          "Franceinfo",
          "Franceinfo",
          "TF1",
          "TF1",
          "France 2",
          "France 2",
          "France 2",
          "France 2",
          "France 3",
          "France 3",
          "France 3",
          "France 3",
          "France 3",
          "France 3",
          "France 3",
          "France 3",
          "Arte",
          "M6",
          "M6",
          "TFX",
          "BFMTV",
          "BFMTV",
          "BFMTV",
          "BFMTV",
          "CNEWS",
          "CNEWS",
          "CNEWS",
          "CNEWS",
          "CNEWS",
          "CNEWS",
          "CNEWS",
          "CNEWS",
          "CNEWS",
          "CNEWS",
          "CNEWS",
          "CNEWS",
          "CNEWS",
          "CNEWS",
          "CNEWS",
          "CNEWS",
          "Franceinfo",
          "Franceinfo",
          "Franceinfo",
          "Franceinfo",
          "Franceinfo",
          "Franceinfo",
          "Franceinfo",
          "Franceinfo",
          "Franceinfo",
          "Franceinfo",
          "Franceinfo",
          "Franceinfo",
          "Franceinfo",
          "TF1",
          "TF1",
          "France 2",
          "France 2",
          "France 2",
          "France 2",
          "France 3",
          "France 3",
          "France 3",
          "France 3",
          "France 3",
          "France 3",
          "France 3",
          "France 3",
          "Arte",
          "M6",
          "M6",
          "TFX",
          "BFMTV",
          "BFMTV",
          "BFMTV",
          "BFMTV",
          "BFMTV",
          "CNEWS",
          "CNEWS",
          "CNEWS",
          "CNEWS",
          "CNEWS",
          "CNEWS",
          "CNEWS",
          "CNEWS",
          "CNEWS",
          "CNEWS",
          "CNEWS",
          "CNEWS",
          "CNEWS",
          "CNEWS",
          "CNEWS",
          "CNEWS",
          "Franceinfo",
          "Franceinfo",
          "Franceinfo",
          "Franceinfo",
          "Franceinfo",
          "Franceinfo",
          "Franceinfo",
          "Franceinfo",
          "Franceinfo",
          "Franceinfo",
          "Franceinfo",
          "Franceinfo",
          "Franceinfo",
          "TF1",
          "TF1",
          "France 2",
          "France 2",
          "France 2",
          "France 2",
          "France 3",
          "France 3",
          "France 3",
          "France 3",
          "France 3",
          "France 3",
          "France 3",
          "France 3",
          "M6",
          "M6",
          "TFX",
          "BFMTV",
          "BFMTV",
          "BFMTV",
          "BFMTV",
          "BFMTV",
          "CNEWS",
          "CNEWS",
          "CNEWS",
          "CNEWS",
          "CNEWS",
          "CNEWS",
          "CNEWS",
          "CNEWS",
          "CNEWS",
          "CNEWS",
          "CNEWS",
          "CNEWS",
          "CNEWS",
          "CNEWS",
          "CNEWS",
          "CNEWS",
          "Franceinfo",
          "Franceinfo",
          "Franceinfo",
          "Franceinfo",
          "Franceinfo",
          "Franceinfo",
          "Franceinfo",
          "Franceinfo",
          "Franceinfo",
          "Franceinfo",
          "Franceinfo",
          "Franceinfo",
          "Franceinfo",
          "TF1",
          "TF1",
          "France 2",
          "France 2",
          "France 2",
          "France 2",
          "France 3",
          "France 3",
          "France 3",
          "France 3",
          "France 3",
          "France 3",
          "France 3",
          "France 3",
          "M6",
          "M6",
          "TFX",
          "BFMTV",
          "BFMTV",
          "BFMTV",
          "BFMTV",
          "BFMTV",
          "CNEWS",
          "CNEWS",
          "CNEWS",
          "CNEWS",
          "CNEWS",
          "CNEWS",
          "CNEWS",
          "CNEWS",
          "CNEWS",
          "CNEWS",
          "CNEWS",
          "CNEWS",
          "CNEWS",
          "CNEWS",
          "CNEWS",
          "CNEWS",
          "Franceinfo",
          "Franceinfo",
          "Franceinfo",
          "Franceinfo",
          "Franceinfo",
          "Franceinfo",
          "Franceinfo",
          "Franceinfo",
          "Franceinfo",
          "Franceinfo",
          "Franceinfo",
          "Franceinfo",
          "Franceinfo",
          "TF1",
          "TF1",
          "France 2",
          "France 2",
          "France 2",
          "France 2",
          "France 3",
          "France 3",
          "France 3",
          "France 3",
          "France 3",
          "France 3",
          "France 3",
          "France 3",
          "M6",
          "M6",
          "TFX",
          "BFMTV",
          "BFMTV",
          "BFMTV",
          "BFMTV",
          "BFMTV",
          "CNEWS",
          "CNEWS",
          "CNEWS",
          "CNEWS",
          "CNEWS",
          "CNEWS",
          "CNEWS",
          "CNEWS",
          "CNEWS",
          "CNEWS",
          "CNEWS",
          "CNEWS",
          "CNEWS",
          "CNEWS",
          "CNEWS",
          "CNEWS",
          "Franceinfo",
          "Franceinfo",
          "Franceinfo",
          "Franceinfo",
          "Franceinfo",
          "Franceinfo",
          "Franceinfo",
          "Franceinfo",
          "Franceinfo",
          "Franceinfo",
          "Franceinfo",
          "Franceinfo",
          "Franceinfo",
          "Franceinfo",
          "Franceinfo",
          "TF1",
          "TF1",
          "France 2",
          "France 2",
          "France 2",
          "France 2",
          "France 3",
          "France 3",
          "France 3",
          "France 3",
          "France 3",
          "M6",
          "M6",
          "C8",
          "TMC",
          "TFX",
          "BFMTV",
          "CNEWS",
          "CNEWS",
          "CNEWS",
          "CNEWS",
          "CNEWS",
          "CNEWS",
          "CNEWS",
          "CNEWS",
          "CNEWS",
          "CNEWS",
          "CNEWS",
          "CNEWS",
          "CNEWS",
          "CNEWS",
          "CNEWS",
          "CNEWS",
          "CNEWS",
          "CNEWS",
          "Franceinfo",
          "Franceinfo",
          "Franceinfo",
          "Franceinfo",
          "Franceinfo",
          "Franceinfo",
          "Franceinfo",
          "Franceinfo",
          "Franceinfo",
          "Franceinfo",
          "Franceinfo",
          "Franceinfo",
          "Franceinfo",
          "TF1",
          "TF1",
          "France 2",
          "France 2",
          "France 2",
          "France 2",
          "France 3",
          "France 3",
          "France 3",
          "France 3",
          "M6",
          "M6",
          "C8",
          "TMC",
          "TFX",
          "BFMTV",
          "BFMTV",
          "CNEWS",
          "CNEWS",
          "CNEWS",
          "CNEWS",
          "CNEWS",
          "CNEWS",
          "CNEWS",
          "CNEWS",
          "CNEWS",
          "CNEWS",
          "CNEWS",
          "CNEWS",
          "CNEWS",
          "CNEWS",
          "CNEWS",
          "CNEWS",
          "CNEWS",
          "Franceinfo",
          "Franceinfo",
          "Franceinfo",
          "Franceinfo",
          "Franceinfo",
          "Franceinfo",
          "Franceinfo",
          "Franceinfo",
          "Franceinfo",
          "Franceinfo",
          "Franceinfo",
          "Franceinfo",
          "Franceinfo",
          "BFMTV",
          "CNEWS",
          "CNEWS",
          "CNEWS",
          "CNEWS",
          "CNEWS",
          "CNEWS",
          "CNEWS",
          "CNEWS",
          "CNEWS",
          "CNEWS",
          "CNEWS"
         ],
         "yaxis": "y"
        }
       ],
       "layout": {
        "barmode": "overlay",
        "legend": {
         "title": {
          "text": "category_text"
         },
         "tracegroupgap": 0
        },
        "margin": {
         "t": 60
        },
        "template": {
         "data": {
          "bar": [
           {
            "error_x": {
             "color": "#2a3f5f"
            },
            "error_y": {
             "color": "#2a3f5f"
            },
            "marker": {
             "line": {
              "color": "#E5ECF6",
              "width": 0.5
             },
             "pattern": {
              "fillmode": "overlay",
              "size": 10,
              "solidity": 0.2
             }
            },
            "type": "bar"
           }
          ],
          "barpolar": [
           {
            "marker": {
             "line": {
              "color": "#E5ECF6",
              "width": 0.5
             },
             "pattern": {
              "fillmode": "overlay",
              "size": 10,
              "solidity": 0.2
             }
            },
            "type": "barpolar"
           }
          ],
          "carpet": [
           {
            "aaxis": {
             "endlinecolor": "#2a3f5f",
             "gridcolor": "white",
             "linecolor": "white",
             "minorgridcolor": "white",
             "startlinecolor": "#2a3f5f"
            },
            "baxis": {
             "endlinecolor": "#2a3f5f",
             "gridcolor": "white",
             "linecolor": "white",
             "minorgridcolor": "white",
             "startlinecolor": "#2a3f5f"
            },
            "type": "carpet"
           }
          ],
          "choropleth": [
           {
            "colorbar": {
             "outlinewidth": 0,
             "ticks": ""
            },
            "type": "choropleth"
           }
          ],
          "contour": [
           {
            "colorbar": {
             "outlinewidth": 0,
             "ticks": ""
            },
            "colorscale": [
             [
              0,
              "#0d0887"
             ],
             [
              0.1111111111111111,
              "#46039f"
             ],
             [
              0.2222222222222222,
              "#7201a8"
             ],
             [
              0.3333333333333333,
              "#9c179e"
             ],
             [
              0.4444444444444444,
              "#bd3786"
             ],
             [
              0.5555555555555556,
              "#d8576b"
             ],
             [
              0.6666666666666666,
              "#ed7953"
             ],
             [
              0.7777777777777778,
              "#fb9f3a"
             ],
             [
              0.8888888888888888,
              "#fdca26"
             ],
             [
              1,
              "#f0f921"
             ]
            ],
            "type": "contour"
           }
          ],
          "contourcarpet": [
           {
            "colorbar": {
             "outlinewidth": 0,
             "ticks": ""
            },
            "type": "contourcarpet"
           }
          ],
          "heatmap": [
           {
            "colorbar": {
             "outlinewidth": 0,
             "ticks": ""
            },
            "colorscale": [
             [
              0,
              "#0d0887"
             ],
             [
              0.1111111111111111,
              "#46039f"
             ],
             [
              0.2222222222222222,
              "#7201a8"
             ],
             [
              0.3333333333333333,
              "#9c179e"
             ],
             [
              0.4444444444444444,
              "#bd3786"
             ],
             [
              0.5555555555555556,
              "#d8576b"
             ],
             [
              0.6666666666666666,
              "#ed7953"
             ],
             [
              0.7777777777777778,
              "#fb9f3a"
             ],
             [
              0.8888888888888888,
              "#fdca26"
             ],
             [
              1,
              "#f0f921"
             ]
            ],
            "type": "heatmap"
           }
          ],
          "heatmapgl": [
           {
            "colorbar": {
             "outlinewidth": 0,
             "ticks": ""
            },
            "colorscale": [
             [
              0,
              "#0d0887"
             ],
             [
              0.1111111111111111,
              "#46039f"
             ],
             [
              0.2222222222222222,
              "#7201a8"
             ],
             [
              0.3333333333333333,
              "#9c179e"
             ],
             [
              0.4444444444444444,
              "#bd3786"
             ],
             [
              0.5555555555555556,
              "#d8576b"
             ],
             [
              0.6666666666666666,
              "#ed7953"
             ],
             [
              0.7777777777777778,
              "#fb9f3a"
             ],
             [
              0.8888888888888888,
              "#fdca26"
             ],
             [
              1,
              "#f0f921"
             ]
            ],
            "type": "heatmapgl"
           }
          ],
          "histogram": [
           {
            "marker": {
             "pattern": {
              "fillmode": "overlay",
              "size": 10,
              "solidity": 0.2
             }
            },
            "type": "histogram"
           }
          ],
          "histogram2d": [
           {
            "colorbar": {
             "outlinewidth": 0,
             "ticks": ""
            },
            "colorscale": [
             [
              0,
              "#0d0887"
             ],
             [
              0.1111111111111111,
              "#46039f"
             ],
             [
              0.2222222222222222,
              "#7201a8"
             ],
             [
              0.3333333333333333,
              "#9c179e"
             ],
             [
              0.4444444444444444,
              "#bd3786"
             ],
             [
              0.5555555555555556,
              "#d8576b"
             ],
             [
              0.6666666666666666,
              "#ed7953"
             ],
             [
              0.7777777777777778,
              "#fb9f3a"
             ],
             [
              0.8888888888888888,
              "#fdca26"
             ],
             [
              1,
              "#f0f921"
             ]
            ],
            "type": "histogram2d"
           }
          ],
          "histogram2dcontour": [
           {
            "colorbar": {
             "outlinewidth": 0,
             "ticks": ""
            },
            "colorscale": [
             [
              0,
              "#0d0887"
             ],
             [
              0.1111111111111111,
              "#46039f"
             ],
             [
              0.2222222222222222,
              "#7201a8"
             ],
             [
              0.3333333333333333,
              "#9c179e"
             ],
             [
              0.4444444444444444,
              "#bd3786"
             ],
             [
              0.5555555555555556,
              "#d8576b"
             ],
             [
              0.6666666666666666,
              "#ed7953"
             ],
             [
              0.7777777777777778,
              "#fb9f3a"
             ],
             [
              0.8888888888888888,
              "#fdca26"
             ],
             [
              1,
              "#f0f921"
             ]
            ],
            "type": "histogram2dcontour"
           }
          ],
          "mesh3d": [
           {
            "colorbar": {
             "outlinewidth": 0,
             "ticks": ""
            },
            "type": "mesh3d"
           }
          ],
          "parcoords": [
           {
            "line": {
             "colorbar": {
              "outlinewidth": 0,
              "ticks": ""
             }
            },
            "type": "parcoords"
           }
          ],
          "pie": [
           {
            "automargin": true,
            "type": "pie"
           }
          ],
          "scatter": [
           {
            "fillpattern": {
             "fillmode": "overlay",
             "size": 10,
             "solidity": 0.2
            },
            "type": "scatter"
           }
          ],
          "scatter3d": [
           {
            "line": {
             "colorbar": {
              "outlinewidth": 0,
              "ticks": ""
             }
            },
            "marker": {
             "colorbar": {
              "outlinewidth": 0,
              "ticks": ""
             }
            },
            "type": "scatter3d"
           }
          ],
          "scattercarpet": [
           {
            "marker": {
             "colorbar": {
              "outlinewidth": 0,
              "ticks": ""
             }
            },
            "type": "scattercarpet"
           }
          ],
          "scattergeo": [
           {
            "marker": {
             "colorbar": {
              "outlinewidth": 0,
              "ticks": ""
             }
            },
            "type": "scattergeo"
           }
          ],
          "scattergl": [
           {
            "marker": {
             "colorbar": {
              "outlinewidth": 0,
              "ticks": ""
             }
            },
            "type": "scattergl"
           }
          ],
          "scattermapbox": [
           {
            "marker": {
             "colorbar": {
              "outlinewidth": 0,
              "ticks": ""
             }
            },
            "type": "scattermapbox"
           }
          ],
          "scatterpolar": [
           {
            "marker": {
             "colorbar": {
              "outlinewidth": 0,
              "ticks": ""
             }
            },
            "type": "scatterpolar"
           }
          ],
          "scatterpolargl": [
           {
            "marker": {
             "colorbar": {
              "outlinewidth": 0,
              "ticks": ""
             }
            },
            "type": "scatterpolargl"
           }
          ],
          "scatterternary": [
           {
            "marker": {
             "colorbar": {
              "outlinewidth": 0,
              "ticks": ""
             }
            },
            "type": "scatterternary"
           }
          ],
          "surface": [
           {
            "colorbar": {
             "outlinewidth": 0,
             "ticks": ""
            },
            "colorscale": [
             [
              0,
              "#0d0887"
             ],
             [
              0.1111111111111111,
              "#46039f"
             ],
             [
              0.2222222222222222,
              "#7201a8"
             ],
             [
              0.3333333333333333,
              "#9c179e"
             ],
             [
              0.4444444444444444,
              "#bd3786"
             ],
             [
              0.5555555555555556,
              "#d8576b"
             ],
             [
              0.6666666666666666,
              "#ed7953"
             ],
             [
              0.7777777777777778,
              "#fb9f3a"
             ],
             [
              0.8888888888888888,
              "#fdca26"
             ],
             [
              1,
              "#f0f921"
             ]
            ],
            "type": "surface"
           }
          ],
          "table": [
           {
            "cells": {
             "fill": {
              "color": "#EBF0F8"
             },
             "line": {
              "color": "white"
             }
            },
            "header": {
             "fill": {
              "color": "#C8D4E3"
             },
             "line": {
              "color": "white"
             }
            },
            "type": "table"
           }
          ]
         },
         "layout": {
          "annotationdefaults": {
           "arrowcolor": "#2a3f5f",
           "arrowhead": 0,
           "arrowwidth": 1
          },
          "autotypenumbers": "strict",
          "coloraxis": {
           "colorbar": {
            "outlinewidth": 0,
            "ticks": ""
           }
          },
          "colorscale": {
           "diverging": [
            [
             0,
             "#8e0152"
            ],
            [
             0.1,
             "#c51b7d"
            ],
            [
             0.2,
             "#de77ae"
            ],
            [
             0.3,
             "#f1b6da"
            ],
            [
             0.4,
             "#fde0ef"
            ],
            [
             0.5,
             "#f7f7f7"
            ],
            [
             0.6,
             "#e6f5d0"
            ],
            [
             0.7,
             "#b8e186"
            ],
            [
             0.8,
             "#7fbc41"
            ],
            [
             0.9,
             "#4d9221"
            ],
            [
             1,
             "#276419"
            ]
           ],
           "sequential": [
            [
             0,
             "#0d0887"
            ],
            [
             0.1111111111111111,
             "#46039f"
            ],
            [
             0.2222222222222222,
             "#7201a8"
            ],
            [
             0.3333333333333333,
             "#9c179e"
            ],
            [
             0.4444444444444444,
             "#bd3786"
            ],
            [
             0.5555555555555556,
             "#d8576b"
            ],
            [
             0.6666666666666666,
             "#ed7953"
            ],
            [
             0.7777777777777778,
             "#fb9f3a"
            ],
            [
             0.8888888888888888,
             "#fdca26"
            ],
            [
             1,
             "#f0f921"
            ]
           ],
           "sequentialminus": [
            [
             0,
             "#0d0887"
            ],
            [
             0.1111111111111111,
             "#46039f"
            ],
            [
             0.2222222222222222,
             "#7201a8"
            ],
            [
             0.3333333333333333,
             "#9c179e"
            ],
            [
             0.4444444444444444,
             "#bd3786"
            ],
            [
             0.5555555555555556,
             "#d8576b"
            ],
            [
             0.6666666666666666,
             "#ed7953"
            ],
            [
             0.7777777777777778,
             "#fb9f3a"
            ],
            [
             0.8888888888888888,
             "#fdca26"
            ],
            [
             1,
             "#f0f921"
            ]
           ]
          },
          "colorway": [
           "#636efa",
           "#EF553B",
           "#00cc96",
           "#ab63fa",
           "#FFA15A",
           "#19d3f3",
           "#FF6692",
           "#B6E880",
           "#FF97FF",
           "#FECB52"
          ],
          "font": {
           "color": "#2a3f5f"
          },
          "geo": {
           "bgcolor": "white",
           "lakecolor": "white",
           "landcolor": "#E5ECF6",
           "showlakes": true,
           "showland": true,
           "subunitcolor": "white"
          },
          "hoverlabel": {
           "align": "left"
          },
          "hovermode": "closest",
          "mapbox": {
           "style": "light"
          },
          "paper_bgcolor": "white",
          "plot_bgcolor": "#E5ECF6",
          "polar": {
           "angularaxis": {
            "gridcolor": "white",
            "linecolor": "white",
            "ticks": ""
           },
           "bgcolor": "#E5ECF6",
           "radialaxis": {
            "gridcolor": "white",
            "linecolor": "white",
            "ticks": ""
           }
          },
          "scene": {
           "xaxis": {
            "backgroundcolor": "#E5ECF6",
            "gridcolor": "white",
            "gridwidth": 2,
            "linecolor": "white",
            "showbackground": true,
            "ticks": "",
            "zerolinecolor": "white"
           },
           "yaxis": {
            "backgroundcolor": "#E5ECF6",
            "gridcolor": "white",
            "gridwidth": 2,
            "linecolor": "white",
            "showbackground": true,
            "ticks": "",
            "zerolinecolor": "white"
           },
           "zaxis": {
            "backgroundcolor": "#E5ECF6",
            "gridcolor": "white",
            "gridwidth": 2,
            "linecolor": "white",
            "showbackground": true,
            "ticks": "",
            "zerolinecolor": "white"
           }
          },
          "shapedefaults": {
           "line": {
            "color": "#2a3f5f"
           }
          },
          "ternary": {
           "aaxis": {
            "gridcolor": "white",
            "linecolor": "white",
            "ticks": ""
           },
           "baxis": {
            "gridcolor": "white",
            "linecolor": "white",
            "ticks": ""
           },
           "bgcolor": "#E5ECF6",
           "caxis": {
            "gridcolor": "white",
            "linecolor": "white",
            "ticks": ""
           }
          },
          "title": {
           "x": 0.05
          },
          "xaxis": {
           "automargin": true,
           "gridcolor": "white",
           "linecolor": "white",
           "ticks": "",
           "title": {
            "standoff": 15
           },
           "zerolinecolor": "white",
           "zerolinewidth": 2
          },
          "yaxis": {
           "automargin": true,
           "gridcolor": "white",
           "linecolor": "white",
           "ticks": "",
           "title": {
            "standoff": 15
           },
           "zerolinecolor": "white",
           "zerolinewidth": 2
          }
         }
        },
        "xaxis": {
         "anchor": "y",
         "domain": [
          0,
          1
         ],
         "type": "date"
        },
        "yaxis": {
         "anchor": "x",
         "domain": [
          0,
          1
         ],
         "title": {
          "text": "channel_name"
         }
        }
       }
      }
     },
     "metadata": {},
     "output_type": "display_data"
    }
   ],
   "source": [
    "# fig = px.timeline(df[(df.channel_name == \"TF1\") & (df_programs.start >= start_date) & (df_programs.stop < end_date)], x_start='start', x_end=\"stop\", y=\"channel_name\", color=\"category_text\")\n",
    "# fig = px.timeline(df[(df.channel_name == \"CSTAR\")], x_start='start', x_end=\"stop\", y=\"channel_name\", color=\"category_text\")\n",
    "fig = px.timeline(df[df.category_text == \"journal\"], x_start='start', x_end=\"stop\", y=\"channel_name\", color=\"category_text\")\n",
    "# fig = px.timeline(df, x_start='start', x_end=\"stop\", y=\"channel_name\", color=\"category_text\")\n",
    "fig.show()"
   ]
  },
  {
   "cell_type": "code",
   "execution_count": 81,
   "id": "0966a30c",
   "metadata": {},
   "outputs": [
    {
     "data": {
      "text/plain": [
       "184"
      ]
     },
     "execution_count": 81,
     "metadata": {},
     "output_type": "execute_result"
    }
   ],
   "source": [
    "df.category_text.nunique()"
   ]
  },
  {
   "cell_type": "code",
   "execution_count": 67,
   "id": "579fcebb",
   "metadata": {},
   "outputs": [
    {
     "data": {
      "text/html": [
       "<div>\n",
       "<style scoped>\n",
       "    .dataframe tbody tr th:only-of-type {\n",
       "        vertical-align: middle;\n",
       "    }\n",
       "\n",
       "    .dataframe tbody tr th {\n",
       "        vertical-align: top;\n",
       "    }\n",
       "\n",
       "    .dataframe thead th {\n",
       "        text-align: right;\n",
       "    }\n",
       "</style>\n",
       "<table border=\"1\" class=\"dataframe\">\n",
       "  <thead>\n",
       "    <tr style=\"text-align: right;\">\n",
       "      <th></th>\n",
       "      <th>start</th>\n",
       "      <th>stop</th>\n",
       "      <th>day</th>\n",
       "      <th>length_minutes</th>\n",
       "      <th>channel_name</th>\n",
       "      <th>title</th>\n",
       "      <th>subtitle</th>\n",
       "      <th>date</th>\n",
       "      <th>desc_text</th>\n",
       "      <th>category_text</th>\n",
       "    </tr>\n",
       "  </thead>\n",
       "  <tbody>\n",
       "    <tr>\n",
       "      <th>0</th>\n",
       "      <td>2022-11-08 00:05:00+01:00</td>\n",
       "      <td>2022-11-08 00:55:00+01:00</td>\n",
       "      <td>2022-11-08 00:00:00+01:00</td>\n",
       "      <td>50</td>\n",
       "      <td>TF1</td>\n",
       "      <td>New York : crime organisé</td>\n",
       "      <td>Une opération à risques</td>\n",
       "      <td>2021</td>\n",
       "      <td>Saison:1 - Episode:7 - La famille de Bell rend...</td>\n",
       "      <td>série policière</td>\n",
       "    </tr>\n",
       "    <tr>\n",
       "      <th>1</th>\n",
       "      <td>2022-11-08 00:55:00+01:00</td>\n",
       "      <td>2022-11-08 01:40:00+01:00</td>\n",
       "      <td>2022-11-08 00:00:00+01:00</td>\n",
       "      <td>45</td>\n",
       "      <td>TF1</td>\n",
       "      <td>New York Unité Spéciale</td>\n",
       "      <td>Un moment de faiblesse</td>\n",
       "      <td>2021</td>\n",
       "      <td>Saison:22 - Episode:12 - Olivia entre dans un ...</td>\n",
       "      <td>série policière</td>\n",
       "    </tr>\n",
       "    <tr>\n",
       "      <th>2</th>\n",
       "      <td>2022-11-08 01:40:00+01:00</td>\n",
       "      <td>2022-11-08 02:35:00+01:00</td>\n",
       "      <td>2022-11-08 00:00:00+01:00</td>\n",
       "      <td>55</td>\n",
       "      <td>TF1</td>\n",
       "      <td>New York : crime organisé</td>\n",
       "      <td>La mort en ligne</td>\n",
       "      <td>2021</td>\n",
       "      <td>Saison:1 - Episode:4 - Alors que la famille Wh...</td>\n",
       "      <td>série policière</td>\n",
       "    </tr>\n",
       "    <tr>\n",
       "      <th>3</th>\n",
       "      <td>2022-11-08 02:35:00+01:00</td>\n",
       "      <td>2022-11-08 06:25:00+01:00</td>\n",
       "      <td>2022-11-08 00:00:00+01:00</td>\n",
       "      <td>230</td>\n",
       "      <td>TF1</td>\n",
       "      <td>Programmes de la nuit</td>\n",
       "      <td>NaN</td>\n",
       "      <td>NaN</td>\n",
       "      <td>Retrouvez tous vos programmes de nuit.</td>\n",
       "      <td>programme indéterminé</td>\n",
       "    </tr>\n",
       "    <tr>\n",
       "      <th>4</th>\n",
       "      <td>2022-11-08 06:25:00+01:00</td>\n",
       "      <td>2022-11-08 08:25:00+01:00</td>\n",
       "      <td>2022-11-08 00:00:00+01:00</td>\n",
       "      <td>120</td>\n",
       "      <td>TF1</td>\n",
       "      <td>TFou</td>\n",
       "      <td>NaN</td>\n",
       "      <td>NaN</td>\n",
       "      <td>MolangBarbapapa en Famille (ST)Thomas et ses a...</td>\n",
       "      <td>magazine jeunesse</td>\n",
       "    </tr>\n",
       "  </tbody>\n",
       "</table>\n",
       "</div>"
      ],
      "text/plain": [
       "                      start                      stop  \\\n",
       "0 2022-11-08 00:05:00+01:00 2022-11-08 00:55:00+01:00   \n",
       "1 2022-11-08 00:55:00+01:00 2022-11-08 01:40:00+01:00   \n",
       "2 2022-11-08 01:40:00+01:00 2022-11-08 02:35:00+01:00   \n",
       "3 2022-11-08 02:35:00+01:00 2022-11-08 06:25:00+01:00   \n",
       "4 2022-11-08 06:25:00+01:00 2022-11-08 08:25:00+01:00   \n",
       "\n",
       "                        day  length_minutes channel_name  \\\n",
       "0 2022-11-08 00:00:00+01:00              50          TF1   \n",
       "1 2022-11-08 00:00:00+01:00              45          TF1   \n",
       "2 2022-11-08 00:00:00+01:00              55          TF1   \n",
       "3 2022-11-08 00:00:00+01:00             230          TF1   \n",
       "4 2022-11-08 00:00:00+01:00             120          TF1   \n",
       "\n",
       "                       title                 subtitle  date  \\\n",
       "0  New York : crime organisé  Une opération à risques  2021   \n",
       "1    New York Unité Spéciale   Un moment de faiblesse  2021   \n",
       "2  New York : crime organisé         La mort en ligne  2021   \n",
       "3      Programmes de la nuit                      NaN   NaN   \n",
       "4                       TFou                      NaN   NaN   \n",
       "\n",
       "                                           desc_text          category_text  \n",
       "0  Saison:1 - Episode:7 - La famille de Bell rend...        série policière  \n",
       "1  Saison:22 - Episode:12 - Olivia entre dans un ...        série policière  \n",
       "2  Saison:1 - Episode:4 - Alors que la famille Wh...        série policière  \n",
       "3             Retrouvez tous vos programmes de nuit.  programme indéterminé  \n",
       "4  MolangBarbapapa en Famille (ST)Thomas et ses a...      magazine jeunesse  "
      ]
     },
     "execution_count": 67,
     "metadata": {},
     "output_type": "execute_result"
    }
   ],
   "source": [
    "df.head()"
   ]
  },
  {
   "cell_type": "code",
   "execution_count": 70,
   "id": "679b529b",
   "metadata": {},
   "outputs": [
    {
     "data": {
      "text/html": [
       "<div>\n",
       "<style scoped>\n",
       "    .dataframe tbody tr th:only-of-type {\n",
       "        vertical-align: middle;\n",
       "    }\n",
       "\n",
       "    .dataframe tbody tr th {\n",
       "        vertical-align: top;\n",
       "    }\n",
       "\n",
       "    .dataframe thead th {\n",
       "        text-align: right;\n",
       "    }\n",
       "</style>\n",
       "<table border=\"1\" class=\"dataframe\">\n",
       "  <thead>\n",
       "    <tr style=\"text-align: right;\">\n",
       "      <th>day</th>\n",
       "      <th>2022-11-08 00:00:00+01:00</th>\n",
       "      <th>2022-11-09 00:00:00+01:00</th>\n",
       "      <th>2022-11-10 00:00:00+01:00</th>\n",
       "      <th>2022-11-11 00:00:00+01:00</th>\n",
       "      <th>2022-11-12 00:00:00+01:00</th>\n",
       "      <th>2022-11-13 00:00:00+01:00</th>\n",
       "      <th>2022-11-14 00:00:00+01:00</th>\n",
       "      <th>2022-11-15 00:00:00+01:00</th>\n",
       "      <th>2022-11-16 00:00:00+01:00</th>\n",
       "      <th>2022-11-17 00:00:00+01:00</th>\n",
       "      <th>2022-11-18 00:00:00+01:00</th>\n",
       "      <th>2022-11-19 00:00:00+01:00</th>\n",
       "      <th>2022-11-20 00:00:00+01:00</th>\n",
       "      <th>2022-11-21 00:00:00+01:00</th>\n",
       "    </tr>\n",
       "    <tr>\n",
       "      <th>channel_name</th>\n",
       "      <th></th>\n",
       "      <th></th>\n",
       "      <th></th>\n",
       "      <th></th>\n",
       "      <th></th>\n",
       "      <th></th>\n",
       "      <th></th>\n",
       "      <th></th>\n",
       "      <th></th>\n",
       "      <th></th>\n",
       "      <th></th>\n",
       "      <th></th>\n",
       "      <th></th>\n",
       "      <th></th>\n",
       "    </tr>\n",
       "  </thead>\n",
       "  <tbody>\n",
       "    <tr>\n",
       "      <th>6ter</th>\n",
       "      <td>1385.0</td>\n",
       "      <td>1470.0</td>\n",
       "      <td>1405.0</td>\n",
       "      <td>1465.0</td>\n",
       "      <td>1435.0</td>\n",
       "      <td>1480.0</td>\n",
       "      <td>1450.0</td>\n",
       "      <td>1415.0</td>\n",
       "      <td>1425.0</td>\n",
       "      <td>1460.0</td>\n",
       "      <td>1410.0</td>\n",
       "      <td>1450.0</td>\n",
       "      <td>1460.0</td>\n",
       "      <td>340.0</td>\n",
       "    </tr>\n",
       "    <tr>\n",
       "      <th>Arte</th>\n",
       "      <td>1430.0</td>\n",
       "      <td>1525.0</td>\n",
       "      <td>1385.0</td>\n",
       "      <td>1460.0</td>\n",
       "      <td>1420.0</td>\n",
       "      <td>1435.0</td>\n",
       "      <td>615.0</td>\n",
       "      <td>375.0</td>\n",
       "      <td>NaN</td>\n",
       "      <td>NaN</td>\n",
       "      <td>NaN</td>\n",
       "      <td>NaN</td>\n",
       "      <td>NaN</td>\n",
       "      <td>NaN</td>\n",
       "    </tr>\n",
       "    <tr>\n",
       "      <th>BFMTV</th>\n",
       "      <td>1440.0</td>\n",
       "      <td>1440.0</td>\n",
       "      <td>1440.0</td>\n",
       "      <td>1440.0</td>\n",
       "      <td>1440.0</td>\n",
       "      <td>1440.0</td>\n",
       "      <td>1440.0</td>\n",
       "      <td>1440.0</td>\n",
       "      <td>1440.0</td>\n",
       "      <td>1440.0</td>\n",
       "      <td>1440.0</td>\n",
       "      <td>1440.0</td>\n",
       "      <td>1440.0</td>\n",
       "      <td>360.0</td>\n",
       "    </tr>\n",
       "    <tr>\n",
       "      <th>C8</th>\n",
       "      <td>1434.0</td>\n",
       "      <td>1438.0</td>\n",
       "      <td>1430.0</td>\n",
       "      <td>1456.0</td>\n",
       "      <td>1394.0</td>\n",
       "      <td>1445.0</td>\n",
       "      <td>1465.0</td>\n",
       "      <td>1460.0</td>\n",
       "      <td>1420.0</td>\n",
       "      <td>1440.0</td>\n",
       "      <td>1470.0</td>\n",
       "      <td>1790.0</td>\n",
       "      <td>1380.0</td>\n",
       "      <td>NaN</td>\n",
       "    </tr>\n",
       "    <tr>\n",
       "      <th>CNEWS</th>\n",
       "      <td>1441.0</td>\n",
       "      <td>1439.0</td>\n",
       "      <td>1441.0</td>\n",
       "      <td>1439.0</td>\n",
       "      <td>1440.0</td>\n",
       "      <td>1440.0</td>\n",
       "      <td>1440.0</td>\n",
       "      <td>1441.0</td>\n",
       "      <td>1439.0</td>\n",
       "      <td>1441.0</td>\n",
       "      <td>1439.0</td>\n",
       "      <td>1440.0</td>\n",
       "      <td>1440.0</td>\n",
       "      <td>325.0</td>\n",
       "    </tr>\n",
       "    <tr>\n",
       "      <th>CSTAR</th>\n",
       "      <td>1328.0</td>\n",
       "      <td>1485.0</td>\n",
       "      <td>1425.0</td>\n",
       "      <td>1390.0</td>\n",
       "      <td>1460.0</td>\n",
       "      <td>1450.0</td>\n",
       "      <td>1415.0</td>\n",
       "      <td>1450.0</td>\n",
       "      <td>1497.0</td>\n",
       "      <td>1408.0</td>\n",
       "      <td>1420.0</td>\n",
       "      <td>1550.0</td>\n",
       "      <td>1340.0</td>\n",
       "      <td>330.0</td>\n",
       "    </tr>\n",
       "    <tr>\n",
       "      <th>Canal+</th>\n",
       "      <td>1394.0</td>\n",
       "      <td>1491.0</td>\n",
       "      <td>1451.0</td>\n",
       "      <td>1397.0</td>\n",
       "      <td>1413.0</td>\n",
       "      <td>1432.0</td>\n",
       "      <td>1469.0</td>\n",
       "      <td>1409.0</td>\n",
       "      <td>1483.0</td>\n",
       "      <td>1439.0</td>\n",
       "      <td>1450.0</td>\n",
       "      <td>1359.0</td>\n",
       "      <td>1445.0</td>\n",
       "      <td>294.0</td>\n",
       "    </tr>\n",
       "    <tr>\n",
       "      <th>Chérie 25</th>\n",
       "      <td>1435.0</td>\n",
       "      <td>1450.0</td>\n",
       "      <td>1485.0</td>\n",
       "      <td>1395.0</td>\n",
       "      <td>1460.0</td>\n",
       "      <td>1430.0</td>\n",
       "      <td>1420.0</td>\n",
       "      <td>1435.0</td>\n",
       "      <td>1430.0</td>\n",
       "      <td>1455.0</td>\n",
       "      <td>1470.0</td>\n",
       "      <td>1440.0</td>\n",
       "      <td>1430.0</td>\n",
       "      <td>310.0</td>\n",
       "    </tr>\n",
       "    <tr>\n",
       "      <th>France 2</th>\n",
       "      <td>1495.0</td>\n",
       "      <td>1380.0</td>\n",
       "      <td>1430.0</td>\n",
       "      <td>1440.0</td>\n",
       "      <td>1494.0</td>\n",
       "      <td>1381.0</td>\n",
       "      <td>1460.0</td>\n",
       "      <td>1450.0</td>\n",
       "      <td>1410.0</td>\n",
       "      <td>1445.0</td>\n",
       "      <td>1440.0</td>\n",
       "      <td>1505.0</td>\n",
       "      <td>1360.0</td>\n",
       "      <td>310.0</td>\n",
       "    </tr>\n",
       "    <tr>\n",
       "      <th>France 3</th>\n",
       "      <td>1415.0</td>\n",
       "      <td>1435.0</td>\n",
       "      <td>1475.0</td>\n",
       "      <td>1466.0</td>\n",
       "      <td>1389.0</td>\n",
       "      <td>1435.0</td>\n",
       "      <td>1480.0</td>\n",
       "      <td>1405.0</td>\n",
       "      <td>1426.0</td>\n",
       "      <td>1474.0</td>\n",
       "      <td>1500.0</td>\n",
       "      <td>1360.0</td>\n",
       "      <td>1435.0</td>\n",
       "      <td>295.0</td>\n",
       "    </tr>\n",
       "    <tr>\n",
       "      <th>France 4</th>\n",
       "      <td>1415.0</td>\n",
       "      <td>1485.0</td>\n",
       "      <td>1405.0</td>\n",
       "      <td>1415.0</td>\n",
       "      <td>1435.0</td>\n",
       "      <td>1480.0</td>\n",
       "      <td>1400.0</td>\n",
       "      <td>1435.0</td>\n",
       "      <td>1485.0</td>\n",
       "      <td>1440.0</td>\n",
       "      <td>1449.0</td>\n",
       "      <td>1426.0</td>\n",
       "      <td>1395.0</td>\n",
       "      <td>295.0</td>\n",
       "    </tr>\n",
       "    <tr>\n",
       "      <th>France 5</th>\n",
       "      <td>1440.0</td>\n",
       "      <td>1490.0</td>\n",
       "      <td>1440.0</td>\n",
       "      <td>1430.0</td>\n",
       "      <td>1354.0</td>\n",
       "      <td>1455.0</td>\n",
       "      <td>1464.0</td>\n",
       "      <td>1367.0</td>\n",
       "      <td>1470.0</td>\n",
       "      <td>1450.0</td>\n",
       "      <td>1395.0</td>\n",
       "      <td>1425.0</td>\n",
       "      <td>1485.0</td>\n",
       "      <td>255.0</td>\n",
       "    </tr>\n",
       "    <tr>\n",
       "      <th>Franceinfo</th>\n",
       "      <td>1440.0</td>\n",
       "      <td>1440.0</td>\n",
       "      <td>1440.0</td>\n",
       "      <td>1440.0</td>\n",
       "      <td>1440.0</td>\n",
       "      <td>1440.0</td>\n",
       "      <td>1440.0</td>\n",
       "      <td>1440.0</td>\n",
       "      <td>1440.0</td>\n",
       "      <td>1440.0</td>\n",
       "      <td>1440.0</td>\n",
       "      <td>1440.0</td>\n",
       "      <td>1440.0</td>\n",
       "      <td>387.0</td>\n",
       "    </tr>\n",
       "    <tr>\n",
       "      <th>Gulli</th>\n",
       "      <td>1450.0</td>\n",
       "      <td>1430.0</td>\n",
       "      <td>1440.0</td>\n",
       "      <td>1445.0</td>\n",
       "      <td>1445.0</td>\n",
       "      <td>1460.0</td>\n",
       "      <td>1420.0</td>\n",
       "      <td>1440.0</td>\n",
       "      <td>1415.0</td>\n",
       "      <td>1465.0</td>\n",
       "      <td>1430.0</td>\n",
       "      <td>1455.0</td>\n",
       "      <td>1455.0</td>\n",
       "      <td>259.0</td>\n",
       "    </tr>\n",
       "    <tr>\n",
       "      <th>L'Equipe</th>\n",
       "      <td>1448.0</td>\n",
       "      <td>1413.0</td>\n",
       "      <td>1467.0</td>\n",
       "      <td>1440.0</td>\n",
       "      <td>1473.0</td>\n",
       "      <td>1380.0</td>\n",
       "      <td>1467.0</td>\n",
       "      <td>1453.0</td>\n",
       "      <td>1440.0</td>\n",
       "      <td>1440.0</td>\n",
       "      <td>1427.0</td>\n",
       "      <td>1433.0</td>\n",
       "      <td>1439.0</td>\n",
       "      <td>241.0</td>\n",
       "    </tr>\n",
       "    <tr>\n",
       "      <th>LCI</th>\n",
       "      <td>1440.0</td>\n",
       "      <td>1440.0</td>\n",
       "      <td>1440.0</td>\n",
       "      <td>1440.0</td>\n",
       "      <td>1440.0</td>\n",
       "      <td>1440.0</td>\n",
       "      <td>1440.0</td>\n",
       "      <td>1440.0</td>\n",
       "      <td>1440.0</td>\n",
       "      <td>1440.0</td>\n",
       "      <td>1440.0</td>\n",
       "      <td>1440.0</td>\n",
       "      <td>1440.0</td>\n",
       "      <td>360.0</td>\n",
       "    </tr>\n",
       "    <tr>\n",
       "      <th>La Chaîne parlementaire</th>\n",
       "      <td>1440.0</td>\n",
       "      <td>1440.0</td>\n",
       "      <td>1440.0</td>\n",
       "      <td>1440.0</td>\n",
       "      <td>1410.0</td>\n",
       "      <td>1440.0</td>\n",
       "      <td>1470.0</td>\n",
       "      <td>1443.0</td>\n",
       "      <td>1438.0</td>\n",
       "      <td>1443.0</td>\n",
       "      <td>1438.0</td>\n",
       "      <td>1438.0</td>\n",
       "      <td>1410.0</td>\n",
       "      <td>450.0</td>\n",
       "    </tr>\n",
       "    <tr>\n",
       "      <th>M6</th>\n",
       "      <td>1430.0</td>\n",
       "      <td>1450.0</td>\n",
       "      <td>1445.0</td>\n",
       "      <td>1475.0</td>\n",
       "      <td>1415.0</td>\n",
       "      <td>1435.0</td>\n",
       "      <td>1420.0</td>\n",
       "      <td>1445.0</td>\n",
       "      <td>1450.0</td>\n",
       "      <td>1450.0</td>\n",
       "      <td>1485.0</td>\n",
       "      <td>1395.0</td>\n",
       "      <td>1435.0</td>\n",
       "      <td>335.0</td>\n",
       "    </tr>\n",
       "    <tr>\n",
       "      <th>NRJ 12</th>\n",
       "      <td>1440.0</td>\n",
       "      <td>1425.0</td>\n",
       "      <td>1450.0</td>\n",
       "      <td>1415.0</td>\n",
       "      <td>1420.0</td>\n",
       "      <td>1490.0</td>\n",
       "      <td>1440.0</td>\n",
       "      <td>1410.0</td>\n",
       "      <td>1480.0</td>\n",
       "      <td>1415.0</td>\n",
       "      <td>1420.0</td>\n",
       "      <td>1425.0</td>\n",
       "      <td>1540.0</td>\n",
       "      <td>290.0</td>\n",
       "    </tr>\n",
       "    <tr>\n",
       "      <th>RMC Découverte</th>\n",
       "      <td>1449.0</td>\n",
       "      <td>1430.0</td>\n",
       "      <td>1434.0</td>\n",
       "      <td>1465.0</td>\n",
       "      <td>1415.0</td>\n",
       "      <td>1452.0</td>\n",
       "      <td>1454.0</td>\n",
       "      <td>1437.0</td>\n",
       "      <td>1417.0</td>\n",
       "      <td>1440.0</td>\n",
       "      <td>1457.0</td>\n",
       "      <td>1439.0</td>\n",
       "      <td>1451.0</td>\n",
       "      <td>333.0</td>\n",
       "    </tr>\n",
       "    <tr>\n",
       "      <th>RMC Story</th>\n",
       "      <td>1420.0</td>\n",
       "      <td>1390.0</td>\n",
       "      <td>1820.0</td>\n",
       "      <td>1085.0</td>\n",
       "      <td>1410.0</td>\n",
       "      <td>1825.0</td>\n",
       "      <td>1070.0</td>\n",
       "      <td>1435.0</td>\n",
       "      <td>1440.0</td>\n",
       "      <td>1815.0</td>\n",
       "      <td>1055.0</td>\n",
       "      <td>1795.0</td>\n",
       "      <td>1080.0</td>\n",
       "      <td>390.0</td>\n",
       "    </tr>\n",
       "    <tr>\n",
       "      <th>TF1</th>\n",
       "      <td>1460.0</td>\n",
       "      <td>1445.0</td>\n",
       "      <td>1455.0</td>\n",
       "      <td>1410.0</td>\n",
       "      <td>1475.0</td>\n",
       "      <td>1435.0</td>\n",
       "      <td>1505.0</td>\n",
       "      <td>1330.0</td>\n",
       "      <td>1470.0</td>\n",
       "      <td>1450.0</td>\n",
       "      <td>1435.0</td>\n",
       "      <td>1455.0</td>\n",
       "      <td>1395.0</td>\n",
       "      <td>380.0</td>\n",
       "    </tr>\n",
       "    <tr>\n",
       "      <th>TF1 Séries Films</th>\n",
       "      <td>1430.0</td>\n",
       "      <td>1445.0</td>\n",
       "      <td>1460.0</td>\n",
       "      <td>1460.0</td>\n",
       "      <td>1430.0</td>\n",
       "      <td>1440.0</td>\n",
       "      <td>1440.0</td>\n",
       "      <td>1440.0</td>\n",
       "      <td>1410.0</td>\n",
       "      <td>1425.0</td>\n",
       "      <td>1485.0</td>\n",
       "      <td>1430.0</td>\n",
       "      <td>1410.0</td>\n",
       "      <td>365.0</td>\n",
       "    </tr>\n",
       "    <tr>\n",
       "      <th>TFX</th>\n",
       "      <td>1465.0</td>\n",
       "      <td>1440.0</td>\n",
       "      <td>1445.0</td>\n",
       "      <td>1395.0</td>\n",
       "      <td>1505.0</td>\n",
       "      <td>1420.0</td>\n",
       "      <td>1415.0</td>\n",
       "      <td>1510.0</td>\n",
       "      <td>1395.0</td>\n",
       "      <td>1430.0</td>\n",
       "      <td>1475.0</td>\n",
       "      <td>1415.0</td>\n",
       "      <td>1435.0</td>\n",
       "      <td>380.0</td>\n",
       "    </tr>\n",
       "    <tr>\n",
       "      <th>TMC</th>\n",
       "      <td>1340.0</td>\n",
       "      <td>1450.0</td>\n",
       "      <td>1465.0</td>\n",
       "      <td>1435.0</td>\n",
       "      <td>1440.0</td>\n",
       "      <td>1440.0</td>\n",
       "      <td>1505.0</td>\n",
       "      <td>1350.0</td>\n",
       "      <td>1495.0</td>\n",
       "      <td>1425.0</td>\n",
       "      <td>1395.0</td>\n",
       "      <td>1475.0</td>\n",
       "      <td>1430.0</td>\n",
       "      <td>365.0</td>\n",
       "    </tr>\n",
       "    <tr>\n",
       "      <th>W9</th>\n",
       "      <td>1475.0</td>\n",
       "      <td>1435.0</td>\n",
       "      <td>1450.0</td>\n",
       "      <td>1465.0</td>\n",
       "      <td>1485.0</td>\n",
       "      <td>1360.0</td>\n",
       "      <td>1490.0</td>\n",
       "      <td>1390.0</td>\n",
       "      <td>1420.0</td>\n",
       "      <td>1460.0</td>\n",
       "      <td>1410.0</td>\n",
       "      <td>1550.0</td>\n",
       "      <td>1410.0</td>\n",
       "      <td>280.0</td>\n",
       "    </tr>\n",
       "  </tbody>\n",
       "</table>\n",
       "</div>"
      ],
      "text/plain": [
       "day                      2022-11-08 00:00:00+01:00  2022-11-09 00:00:00+01:00  \\\n",
       "channel_name                                                                    \n",
       "6ter                                        1385.0                     1470.0   \n",
       "Arte                                        1430.0                     1525.0   \n",
       "BFMTV                                       1440.0                     1440.0   \n",
       "C8                                          1434.0                     1438.0   \n",
       "CNEWS                                       1441.0                     1439.0   \n",
       "CSTAR                                       1328.0                     1485.0   \n",
       "Canal+                                      1394.0                     1491.0   \n",
       "Chérie 25                                   1435.0                     1450.0   \n",
       "France 2                                    1495.0                     1380.0   \n",
       "France 3                                    1415.0                     1435.0   \n",
       "France 4                                    1415.0                     1485.0   \n",
       "France 5                                    1440.0                     1490.0   \n",
       "Franceinfo                                  1440.0                     1440.0   \n",
       "Gulli                                       1450.0                     1430.0   \n",
       "L'Equipe                                    1448.0                     1413.0   \n",
       "LCI                                         1440.0                     1440.0   \n",
       "La Chaîne parlementaire                     1440.0                     1440.0   \n",
       "M6                                          1430.0                     1450.0   \n",
       "NRJ 12                                      1440.0                     1425.0   \n",
       "RMC Découverte                              1449.0                     1430.0   \n",
       "RMC Story                                   1420.0                     1390.0   \n",
       "TF1                                         1460.0                     1445.0   \n",
       "TF1 Séries Films                            1430.0                     1445.0   \n",
       "TFX                                         1465.0                     1440.0   \n",
       "TMC                                         1340.0                     1450.0   \n",
       "W9                                          1475.0                     1435.0   \n",
       "\n",
       "day                      2022-11-10 00:00:00+01:00  2022-11-11 00:00:00+01:00  \\\n",
       "channel_name                                                                    \n",
       "6ter                                        1405.0                     1465.0   \n",
       "Arte                                        1385.0                     1460.0   \n",
       "BFMTV                                       1440.0                     1440.0   \n",
       "C8                                          1430.0                     1456.0   \n",
       "CNEWS                                       1441.0                     1439.0   \n",
       "CSTAR                                       1425.0                     1390.0   \n",
       "Canal+                                      1451.0                     1397.0   \n",
       "Chérie 25                                   1485.0                     1395.0   \n",
       "France 2                                    1430.0                     1440.0   \n",
       "France 3                                    1475.0                     1466.0   \n",
       "France 4                                    1405.0                     1415.0   \n",
       "France 5                                    1440.0                     1430.0   \n",
       "Franceinfo                                  1440.0                     1440.0   \n",
       "Gulli                                       1440.0                     1445.0   \n",
       "L'Equipe                                    1467.0                     1440.0   \n",
       "LCI                                         1440.0                     1440.0   \n",
       "La Chaîne parlementaire                     1440.0                     1440.0   \n",
       "M6                                          1445.0                     1475.0   \n",
       "NRJ 12                                      1450.0                     1415.0   \n",
       "RMC Découverte                              1434.0                     1465.0   \n",
       "RMC Story                                   1820.0                     1085.0   \n",
       "TF1                                         1455.0                     1410.0   \n",
       "TF1 Séries Films                            1460.0                     1460.0   \n",
       "TFX                                         1445.0                     1395.0   \n",
       "TMC                                         1465.0                     1435.0   \n",
       "W9                                          1450.0                     1465.0   \n",
       "\n",
       "day                      2022-11-12 00:00:00+01:00  2022-11-13 00:00:00+01:00  \\\n",
       "channel_name                                                                    \n",
       "6ter                                        1435.0                     1480.0   \n",
       "Arte                                        1420.0                     1435.0   \n",
       "BFMTV                                       1440.0                     1440.0   \n",
       "C8                                          1394.0                     1445.0   \n",
       "CNEWS                                       1440.0                     1440.0   \n",
       "CSTAR                                       1460.0                     1450.0   \n",
       "Canal+                                      1413.0                     1432.0   \n",
       "Chérie 25                                   1460.0                     1430.0   \n",
       "France 2                                    1494.0                     1381.0   \n",
       "France 3                                    1389.0                     1435.0   \n",
       "France 4                                    1435.0                     1480.0   \n",
       "France 5                                    1354.0                     1455.0   \n",
       "Franceinfo                                  1440.0                     1440.0   \n",
       "Gulli                                       1445.0                     1460.0   \n",
       "L'Equipe                                    1473.0                     1380.0   \n",
       "LCI                                         1440.0                     1440.0   \n",
       "La Chaîne parlementaire                     1410.0                     1440.0   \n",
       "M6                                          1415.0                     1435.0   \n",
       "NRJ 12                                      1420.0                     1490.0   \n",
       "RMC Découverte                              1415.0                     1452.0   \n",
       "RMC Story                                   1410.0                     1825.0   \n",
       "TF1                                         1475.0                     1435.0   \n",
       "TF1 Séries Films                            1430.0                     1440.0   \n",
       "TFX                                         1505.0                     1420.0   \n",
       "TMC                                         1440.0                     1440.0   \n",
       "W9                                          1485.0                     1360.0   \n",
       "\n",
       "day                      2022-11-14 00:00:00+01:00  2022-11-15 00:00:00+01:00  \\\n",
       "channel_name                                                                    \n",
       "6ter                                        1450.0                     1415.0   \n",
       "Arte                                         615.0                      375.0   \n",
       "BFMTV                                       1440.0                     1440.0   \n",
       "C8                                          1465.0                     1460.0   \n",
       "CNEWS                                       1440.0                     1441.0   \n",
       "CSTAR                                       1415.0                     1450.0   \n",
       "Canal+                                      1469.0                     1409.0   \n",
       "Chérie 25                                   1420.0                     1435.0   \n",
       "France 2                                    1460.0                     1450.0   \n",
       "France 3                                    1480.0                     1405.0   \n",
       "France 4                                    1400.0                     1435.0   \n",
       "France 5                                    1464.0                     1367.0   \n",
       "Franceinfo                                  1440.0                     1440.0   \n",
       "Gulli                                       1420.0                     1440.0   \n",
       "L'Equipe                                    1467.0                     1453.0   \n",
       "LCI                                         1440.0                     1440.0   \n",
       "La Chaîne parlementaire                     1470.0                     1443.0   \n",
       "M6                                          1420.0                     1445.0   \n",
       "NRJ 12                                      1440.0                     1410.0   \n",
       "RMC Découverte                              1454.0                     1437.0   \n",
       "RMC Story                                   1070.0                     1435.0   \n",
       "TF1                                         1505.0                     1330.0   \n",
       "TF1 Séries Films                            1440.0                     1440.0   \n",
       "TFX                                         1415.0                     1510.0   \n",
       "TMC                                         1505.0                     1350.0   \n",
       "W9                                          1490.0                     1390.0   \n",
       "\n",
       "day                      2022-11-16 00:00:00+01:00  2022-11-17 00:00:00+01:00  \\\n",
       "channel_name                                                                    \n",
       "6ter                                        1425.0                     1460.0   \n",
       "Arte                                           NaN                        NaN   \n",
       "BFMTV                                       1440.0                     1440.0   \n",
       "C8                                          1420.0                     1440.0   \n",
       "CNEWS                                       1439.0                     1441.0   \n",
       "CSTAR                                       1497.0                     1408.0   \n",
       "Canal+                                      1483.0                     1439.0   \n",
       "Chérie 25                                   1430.0                     1455.0   \n",
       "France 2                                    1410.0                     1445.0   \n",
       "France 3                                    1426.0                     1474.0   \n",
       "France 4                                    1485.0                     1440.0   \n",
       "France 5                                    1470.0                     1450.0   \n",
       "Franceinfo                                  1440.0                     1440.0   \n",
       "Gulli                                       1415.0                     1465.0   \n",
       "L'Equipe                                    1440.0                     1440.0   \n",
       "LCI                                         1440.0                     1440.0   \n",
       "La Chaîne parlementaire                     1438.0                     1443.0   \n",
       "M6                                          1450.0                     1450.0   \n",
       "NRJ 12                                      1480.0                     1415.0   \n",
       "RMC Découverte                              1417.0                     1440.0   \n",
       "RMC Story                                   1440.0                     1815.0   \n",
       "TF1                                         1470.0                     1450.0   \n",
       "TF1 Séries Films                            1410.0                     1425.0   \n",
       "TFX                                         1395.0                     1430.0   \n",
       "TMC                                         1495.0                     1425.0   \n",
       "W9                                          1420.0                     1460.0   \n",
       "\n",
       "day                      2022-11-18 00:00:00+01:00  2022-11-19 00:00:00+01:00  \\\n",
       "channel_name                                                                    \n",
       "6ter                                        1410.0                     1450.0   \n",
       "Arte                                           NaN                        NaN   \n",
       "BFMTV                                       1440.0                     1440.0   \n",
       "C8                                          1470.0                     1790.0   \n",
       "CNEWS                                       1439.0                     1440.0   \n",
       "CSTAR                                       1420.0                     1550.0   \n",
       "Canal+                                      1450.0                     1359.0   \n",
       "Chérie 25                                   1470.0                     1440.0   \n",
       "France 2                                    1440.0                     1505.0   \n",
       "France 3                                    1500.0                     1360.0   \n",
       "France 4                                    1449.0                     1426.0   \n",
       "France 5                                    1395.0                     1425.0   \n",
       "Franceinfo                                  1440.0                     1440.0   \n",
       "Gulli                                       1430.0                     1455.0   \n",
       "L'Equipe                                    1427.0                     1433.0   \n",
       "LCI                                         1440.0                     1440.0   \n",
       "La Chaîne parlementaire                     1438.0                     1438.0   \n",
       "M6                                          1485.0                     1395.0   \n",
       "NRJ 12                                      1420.0                     1425.0   \n",
       "RMC Découverte                              1457.0                     1439.0   \n",
       "RMC Story                                   1055.0                     1795.0   \n",
       "TF1                                         1435.0                     1455.0   \n",
       "TF1 Séries Films                            1485.0                     1430.0   \n",
       "TFX                                         1475.0                     1415.0   \n",
       "TMC                                         1395.0                     1475.0   \n",
       "W9                                          1410.0                     1550.0   \n",
       "\n",
       "day                      2022-11-20 00:00:00+01:00  2022-11-21 00:00:00+01:00  \n",
       "channel_name                                                                   \n",
       "6ter                                        1460.0                      340.0  \n",
       "Arte                                           NaN                        NaN  \n",
       "BFMTV                                       1440.0                      360.0  \n",
       "C8                                          1380.0                        NaN  \n",
       "CNEWS                                       1440.0                      325.0  \n",
       "CSTAR                                       1340.0                      330.0  \n",
       "Canal+                                      1445.0                      294.0  \n",
       "Chérie 25                                   1430.0                      310.0  \n",
       "France 2                                    1360.0                      310.0  \n",
       "France 3                                    1435.0                      295.0  \n",
       "France 4                                    1395.0                      295.0  \n",
       "France 5                                    1485.0                      255.0  \n",
       "Franceinfo                                  1440.0                      387.0  \n",
       "Gulli                                       1455.0                      259.0  \n",
       "L'Equipe                                    1439.0                      241.0  \n",
       "LCI                                         1440.0                      360.0  \n",
       "La Chaîne parlementaire                     1410.0                      450.0  \n",
       "M6                                          1435.0                      335.0  \n",
       "NRJ 12                                      1540.0                      290.0  \n",
       "RMC Découverte                              1451.0                      333.0  \n",
       "RMC Story                                   1080.0                      390.0  \n",
       "TF1                                         1395.0                      380.0  \n",
       "TF1 Séries Films                            1410.0                      365.0  \n",
       "TFX                                         1435.0                      380.0  \n",
       "TMC                                         1430.0                      365.0  \n",
       "W9                                          1410.0                      280.0  "
      ]
     },
     "execution_count": 70,
     "metadata": {},
     "output_type": "execute_result"
    }
   ],
   "source": [
    "df.groupby([\"channel_name\", \"day\"])[\"length_minutes\"].sum().unstack(\"day\")"
   ]
  },
  {
   "cell_type": "code",
   "execution_count": 75,
   "id": "65a2af70",
   "metadata": {},
   "outputs": [],
   "source": [
    "start_date = \"2022-11-08\"\n",
    "end_date = \"2022-11-13\"\n",
    "\n",
    "df_extract = df[(df.start >= start_date) & (df.stop <= end_date)]\n",
    "df_extract.to_csv(\"../data/20221108_20221113_Programme_TV.csv\", index=False)"
   ]
  },
  {
   "cell_type": "code",
   "execution_count": 76,
   "id": "ae5548f5",
   "metadata": {},
   "outputs": [],
   "source": [
    "df_test = pd.read_csv(\"../data/20221108_20221113_Programme_TV.csv\")"
   ]
  },
  {
   "cell_type": "code",
   "execution_count": 77,
   "id": "99f525e3",
   "metadata": {},
   "outputs": [
    {
     "data": {
      "text/html": [
       "<div>\n",
       "<style scoped>\n",
       "    .dataframe tbody tr th:only-of-type {\n",
       "        vertical-align: middle;\n",
       "    }\n",
       "\n",
       "    .dataframe tbody tr th {\n",
       "        vertical-align: top;\n",
       "    }\n",
       "\n",
       "    .dataframe thead th {\n",
       "        text-align: right;\n",
       "    }\n",
       "</style>\n",
       "<table border=\"1\" class=\"dataframe\">\n",
       "  <thead>\n",
       "    <tr style=\"text-align: right;\">\n",
       "      <th></th>\n",
       "      <th>start</th>\n",
       "      <th>stop</th>\n",
       "      <th>day</th>\n",
       "      <th>length_minutes</th>\n",
       "      <th>channel_name</th>\n",
       "      <th>title</th>\n",
       "      <th>subtitle</th>\n",
       "      <th>date</th>\n",
       "      <th>desc_text</th>\n",
       "      <th>category_text</th>\n",
       "    </tr>\n",
       "  </thead>\n",
       "  <tbody>\n",
       "    <tr>\n",
       "      <th>0</th>\n",
       "      <td>2022-11-08 00:05:00+01:00</td>\n",
       "      <td>2022-11-08 00:55:00+01:00</td>\n",
       "      <td>2022-11-08 00:00:00+01:00</td>\n",
       "      <td>50</td>\n",
       "      <td>TF1</td>\n",
       "      <td>New York : crime organisé</td>\n",
       "      <td>Une opération à risques</td>\n",
       "      <td>2021.0</td>\n",
       "      <td>Saison:1 - Episode:7 - La famille de Bell rend...</td>\n",
       "      <td>série policière</td>\n",
       "    </tr>\n",
       "    <tr>\n",
       "      <th>1</th>\n",
       "      <td>2022-11-08 00:55:00+01:00</td>\n",
       "      <td>2022-11-08 01:40:00+01:00</td>\n",
       "      <td>2022-11-08 00:00:00+01:00</td>\n",
       "      <td>45</td>\n",
       "      <td>TF1</td>\n",
       "      <td>New York Unité Spéciale</td>\n",
       "      <td>Un moment de faiblesse</td>\n",
       "      <td>2021.0</td>\n",
       "      <td>Saison:22 - Episode:12 - Olivia entre dans un ...</td>\n",
       "      <td>série policière</td>\n",
       "    </tr>\n",
       "    <tr>\n",
       "      <th>2</th>\n",
       "      <td>2022-11-08 01:40:00+01:00</td>\n",
       "      <td>2022-11-08 02:35:00+01:00</td>\n",
       "      <td>2022-11-08 00:00:00+01:00</td>\n",
       "      <td>55</td>\n",
       "      <td>TF1</td>\n",
       "      <td>New York : crime organisé</td>\n",
       "      <td>La mort en ligne</td>\n",
       "      <td>2021.0</td>\n",
       "      <td>Saison:1 - Episode:4 - Alors que la famille Wh...</td>\n",
       "      <td>série policière</td>\n",
       "    </tr>\n",
       "    <tr>\n",
       "      <th>3</th>\n",
       "      <td>2022-11-08 02:35:00+01:00</td>\n",
       "      <td>2022-11-08 06:25:00+01:00</td>\n",
       "      <td>2022-11-08 00:00:00+01:00</td>\n",
       "      <td>230</td>\n",
       "      <td>TF1</td>\n",
       "      <td>Programmes de la nuit</td>\n",
       "      <td>NaN</td>\n",
       "      <td>NaN</td>\n",
       "      <td>Retrouvez tous vos programmes de nuit.</td>\n",
       "      <td>programme indéterminé</td>\n",
       "    </tr>\n",
       "    <tr>\n",
       "      <th>4</th>\n",
       "      <td>2022-11-08 06:25:00+01:00</td>\n",
       "      <td>2022-11-08 08:25:00+01:00</td>\n",
       "      <td>2022-11-08 00:00:00+01:00</td>\n",
       "      <td>120</td>\n",
       "      <td>TF1</td>\n",
       "      <td>TFou</td>\n",
       "      <td>NaN</td>\n",
       "      <td>NaN</td>\n",
       "      <td>MolangBarbapapa en Famille (ST)Thomas et ses a...</td>\n",
       "      <td>magazine jeunesse</td>\n",
       "    </tr>\n",
       "  </tbody>\n",
       "</table>\n",
       "</div>"
      ],
      "text/plain": [
       "                       start                       stop  \\\n",
       "0  2022-11-08 00:05:00+01:00  2022-11-08 00:55:00+01:00   \n",
       "1  2022-11-08 00:55:00+01:00  2022-11-08 01:40:00+01:00   \n",
       "2  2022-11-08 01:40:00+01:00  2022-11-08 02:35:00+01:00   \n",
       "3  2022-11-08 02:35:00+01:00  2022-11-08 06:25:00+01:00   \n",
       "4  2022-11-08 06:25:00+01:00  2022-11-08 08:25:00+01:00   \n",
       "\n",
       "                         day  length_minutes channel_name  \\\n",
       "0  2022-11-08 00:00:00+01:00              50          TF1   \n",
       "1  2022-11-08 00:00:00+01:00              45          TF1   \n",
       "2  2022-11-08 00:00:00+01:00              55          TF1   \n",
       "3  2022-11-08 00:00:00+01:00             230          TF1   \n",
       "4  2022-11-08 00:00:00+01:00             120          TF1   \n",
       "\n",
       "                       title                 subtitle    date  \\\n",
       "0  New York : crime organisé  Une opération à risques  2021.0   \n",
       "1    New York Unité Spéciale   Un moment de faiblesse  2021.0   \n",
       "2  New York : crime organisé         La mort en ligne  2021.0   \n",
       "3      Programmes de la nuit                      NaN     NaN   \n",
       "4                       TFou                      NaN     NaN   \n",
       "\n",
       "                                           desc_text          category_text  \n",
       "0  Saison:1 - Episode:7 - La famille de Bell rend...        série policière  \n",
       "1  Saison:22 - Episode:12 - Olivia entre dans un ...        série policière  \n",
       "2  Saison:1 - Episode:4 - Alors que la famille Wh...        série policière  \n",
       "3             Retrouvez tous vos programmes de nuit.  programme indéterminé  \n",
       "4  MolangBarbapapa en Famille (ST)Thomas et ses a...      magazine jeunesse  "
      ]
     },
     "execution_count": 77,
     "metadata": {},
     "output_type": "execute_result"
    }
   ],
   "source": [
    "df_test.head()"
   ]
  },
  {
   "cell_type": "code",
   "execution_count": null,
   "id": "65f354b1",
   "metadata": {},
   "outputs": [],
   "source": []
  }
 ],
 "metadata": {
  "kernelspec": {
   "display_name": "Python 3.10.5 ('quotaclimat')",
   "language": "python",
   "name": "python3"
  },
  "language_info": {
   "codemirror_mode": {
    "name": "ipython",
    "version": 3
   },
   "file_extension": ".py",
   "mimetype": "text/x-python",
   "name": "python",
   "nbconvert_exporter": "python",
   "pygments_lexer": "ipython3",
   "version": "3.10.5"
  },
  "vscode": {
   "interpreter": {
    "hash": "b841845b27b8c69fcb4b40deb2f6b6285a40a87379e4c1cb9a4e3ac80431c2ca"
   }
  }
 },
 "nbformat": 4,
 "nbformat_minor": 5
}
