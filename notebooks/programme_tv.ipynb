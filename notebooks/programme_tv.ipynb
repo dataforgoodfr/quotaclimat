{
 "cells": [
  {
   "cell_type": "markdown",
   "id": "62a82991-9ba7-4f27-8f77-9efb4063242a",
   "metadata": {},
   "source": [
    "# Parse the XMLtv file from [XMLtv.ch](xmltv.ch)"
   ]
  },
  {
   "cell_type": "code",
   "execution_count": 1,
   "id": "95492133-3fcd-4ed6-93fd-8074dd24708c",
   "metadata": {},
   "outputs": [],
   "source": [
    "from io import BytesIO\n",
    "import pandas as pd\n",
    "from PIL import Image\n",
    "import requests\n",
    "import xmltodict\n",
    "import plotly.express as px\n",
    "\n",
    "pd.options.plotting.backend = \"plotly\"\n"
   ]
  },
  {
   "cell_type": "code",
   "execution_count": 2,
   "id": "df75165b-32fc-44f0-aa84-440aae067923",
   "metadata": {},
   "outputs": [],
   "source": [
    "# Get the latest verion of the file\n",
    "headers = {'User-Agent': 'Mozilla'}\n",
    "URL = \"https://xmltv.ch/xmltv/xmltv-tnt.xml\"\n",
    "\n",
    "response = requests.get(URL, headers=headers)\n",
    "with open(\"../data/xmltv-tnt.xml\", 'wb') as outfile:\n",
    "    _ = outfile.write(response.content)"
   ]
  },
  {
   "cell_type": "code",
   "execution_count": 3,
   "id": "0fbb6feb-2ec0-4cbd-9a49-ccad2e873634",
   "metadata": {},
   "outputs": [],
   "source": [
    "# Reading the data inside the xml\n",
    "with open('../data/xmltv-tnt.xml', 'r', encoding='utf-8') as f:\n",
    "    data = f.read()\n",
    "\n",
    "# Parsing\n",
    "data = xmltodict.parse(data)"
   ]
  },
  {
   "cell_type": "code",
   "execution_count": 4,
   "id": "dcb41bee-b4ad-4140-b491-25b5dbb36736",
   "metadata": {},
   "outputs": [
    {
     "data": {
      "text/html": [
       "<div>\n",
       "<style scoped>\n",
       "    .dataframe tbody tr th:only-of-type {\n",
       "        vertical-align: middle;\n",
       "    }\n",
       "\n",
       "    .dataframe tbody tr th {\n",
       "        vertical-align: top;\n",
       "    }\n",
       "\n",
       "    .dataframe thead th {\n",
       "        text-align: right;\n",
       "    }\n",
       "</style>\n",
       "<table border=\"1\" class=\"dataframe\">\n",
       "  <thead>\n",
       "    <tr style=\"text-align: right;\">\n",
       "      <th></th>\n",
       "      <th>channel_id</th>\n",
       "      <th>channel_name</th>\n",
       "      <th>channel_icon</th>\n",
       "    </tr>\n",
       "  </thead>\n",
       "  <tbody>\n",
       "    <tr>\n",
       "      <th>0</th>\n",
       "      <td>C192.api.telerama.fr</td>\n",
       "      <td>TF1</td>\n",
       "      <td>https://television.telerama.fr/sites/tr_master...</td>\n",
       "    </tr>\n",
       "    <tr>\n",
       "      <th>1</th>\n",
       "      <td>C4.api.telerama.fr</td>\n",
       "      <td>France 2</td>\n",
       "      <td>https://television.telerama.fr/sites/tr_master...</td>\n",
       "    </tr>\n",
       "    <tr>\n",
       "      <th>2</th>\n",
       "      <td>C80.api.telerama.fr</td>\n",
       "      <td>France 3</td>\n",
       "      <td>https://television.telerama.fr/sites/tr_master...</td>\n",
       "    </tr>\n",
       "    <tr>\n",
       "      <th>3</th>\n",
       "      <td>C34.api.telerama.fr</td>\n",
       "      <td>Canal+</td>\n",
       "      <td>https://television.telerama.fr/sites/tr_master...</td>\n",
       "    </tr>\n",
       "    <tr>\n",
       "      <th>4</th>\n",
       "      <td>C111.api.telerama.fr</td>\n",
       "      <td>Arte</td>\n",
       "      <td>https://television.telerama.fr/sites/tr_master...</td>\n",
       "    </tr>\n",
       "  </tbody>\n",
       "</table>\n",
       "</div>"
      ],
      "text/plain": [
       "             channel_id channel_name  \\\n",
       "0  C192.api.telerama.fr          TF1   \n",
       "1    C4.api.telerama.fr     France 2   \n",
       "2   C80.api.telerama.fr     France 3   \n",
       "3   C34.api.telerama.fr       Canal+   \n",
       "4  C111.api.telerama.fr         Arte   \n",
       "\n",
       "                                        channel_icon  \n",
       "0  https://television.telerama.fr/sites/tr_master...  \n",
       "1  https://television.telerama.fr/sites/tr_master...  \n",
       "2  https://television.telerama.fr/sites/tr_master...  \n",
       "3  https://television.telerama.fr/sites/tr_master...  \n",
       "4  https://television.telerama.fr/sites/tr_master...  "
      ]
     },
     "execution_count": 4,
     "metadata": {},
     "output_type": "execute_result"
    }
   ],
   "source": [
    "# channels to dataframe\n",
    "df_channels = pd.DataFrame(data[\"tv\"][\"channel\"])\n",
    "df_channels = pd.json_normalize(df_channels.to_dict(orient=\"records\"))\n",
    "df_channels.rename(columns={\"@id\": \"channel_id\", \"icon.@src\": \"channel_icon\", \"display-name\": \"channel_name\"}, inplace=True)\n",
    "\n",
    "df_channels.head()"
   ]
  },
  {
   "cell_type": "code",
   "execution_count": 5,
   "id": "48a123f4-cfb6-421b-beff-99263bbc7360",
   "metadata": {},
   "outputs": [
    {
     "data": {
      "text/html": [
       "<div>\n",
       "<style scoped>\n",
       "    .dataframe tbody tr th:only-of-type {\n",
       "        vertical-align: middle;\n",
       "    }\n",
       "\n",
       "    .dataframe tbody tr th {\n",
       "        vertical-align: top;\n",
       "    }\n",
       "\n",
       "    .dataframe thead th {\n",
       "        text-align: right;\n",
       "    }\n",
       "</style>\n",
       "<table border=\"1\" class=\"dataframe\">\n",
       "  <thead>\n",
       "    <tr style=\"text-align: right;\">\n",
       "      <th></th>\n",
       "      <th>start</th>\n",
       "      <th>stop</th>\n",
       "      <th>channel</th>\n",
       "      <th>title</th>\n",
       "      <th>subtitle</th>\n",
       "      <th>date</th>\n",
       "      <th>desc_lang</th>\n",
       "      <th>desc_text</th>\n",
       "      <th>category_lang</th>\n",
       "      <th>category_text</th>\n",
       "      <th>...</th>\n",
       "      <th>episodenum_text</th>\n",
       "      <th>audio_stereo</th>\n",
       "      <th>rating_system</th>\n",
       "      <th>rating_value</th>\n",
       "      <th>rating_icon_src</th>\n",
       "      <th>starrating_value</th>\n",
       "      <th>subtitles_type</th>\n",
       "      <th>subtitles_language</th>\n",
       "      <th>channel_name</th>\n",
       "      <th>channel_icon</th>\n",
       "    </tr>\n",
       "  </thead>\n",
       "  <tbody>\n",
       "    <tr>\n",
       "      <th>0</th>\n",
       "      <td>2022-11-03 00:30:00+01:00</td>\n",
       "      <td>2022-11-03 01:15:00+01:00</td>\n",
       "      <td>C192.api.telerama.fr</td>\n",
       "      <td>Debris</td>\n",
       "      <td>Nous ne sommes pas seuls</td>\n",
       "      <td>2021</td>\n",
       "      <td>fr</td>\n",
       "      <td>Saison:1 - Episode:2 - Finola Jones, agente du...</td>\n",
       "      <td>fr</td>\n",
       "      <td>série dramatique</td>\n",
       "      <td>...</td>\n",
       "      <td>0.1.</td>\n",
       "      <td>bilingual</td>\n",
       "      <td>CSA</td>\n",
       "      <td>-10</td>\n",
       "      <td>http://upload.wikimedia.org/wikipedia/commons/...</td>\n",
       "      <td>4/5</td>\n",
       "      <td>NaN</td>\n",
       "      <td>NaN</td>\n",
       "      <td>TF1</td>\n",
       "      <td>https://television.telerama.fr/sites/tr_master...</td>\n",
       "    </tr>\n",
       "    <tr>\n",
       "      <th>1</th>\n",
       "      <td>2022-11-03 01:15:00+01:00</td>\n",
       "      <td>2022-11-03 02:05:00+01:00</td>\n",
       "      <td>C192.api.telerama.fr</td>\n",
       "      <td>Debris</td>\n",
       "      <td>Le rectangle</td>\n",
       "      <td>2021</td>\n",
       "      <td>fr</td>\n",
       "      <td>Saison:1 - Episode:3 - Un mystérieux objet rec...</td>\n",
       "      <td>fr</td>\n",
       "      <td>série dramatique</td>\n",
       "      <td>...</td>\n",
       "      <td>0.2.</td>\n",
       "      <td>bilingual</td>\n",
       "      <td>CSA</td>\n",
       "      <td>-10</td>\n",
       "      <td>http://upload.wikimedia.org/wikipedia/commons/...</td>\n",
       "      <td>4/5</td>\n",
       "      <td>NaN</td>\n",
       "      <td>NaN</td>\n",
       "      <td>TF1</td>\n",
       "      <td>https://television.telerama.fr/sites/tr_master...</td>\n",
       "    </tr>\n",
       "    <tr>\n",
       "      <th>2</th>\n",
       "      <td>2022-11-03 02:05:00+01:00</td>\n",
       "      <td>2022-11-03 02:50:00+01:00</td>\n",
       "      <td>C192.api.telerama.fr</td>\n",
       "      <td>Debris</td>\n",
       "      <td>Pluie toxique</td>\n",
       "      <td>2021</td>\n",
       "      <td>fr</td>\n",
       "      <td>Saison:1 - Episode:4 - Finola Jones, agente du...</td>\n",
       "      <td>fr</td>\n",
       "      <td>série dramatique</td>\n",
       "      <td>...</td>\n",
       "      <td>0.3.</td>\n",
       "      <td>bilingual</td>\n",
       "      <td>CSA</td>\n",
       "      <td>-10</td>\n",
       "      <td>http://upload.wikimedia.org/wikipedia/commons/...</td>\n",
       "      <td>4/5</td>\n",
       "      <td>NaN</td>\n",
       "      <td>NaN</td>\n",
       "      <td>TF1</td>\n",
       "      <td>https://television.telerama.fr/sites/tr_master...</td>\n",
       "    </tr>\n",
       "  </tbody>\n",
       "</table>\n",
       "<p>3 rows × 24 columns</p>\n",
       "</div>"
      ],
      "text/plain": [
       "                      start                      stop               channel  \\\n",
       "0 2022-11-03 00:30:00+01:00 2022-11-03 01:15:00+01:00  C192.api.telerama.fr   \n",
       "1 2022-11-03 01:15:00+01:00 2022-11-03 02:05:00+01:00  C192.api.telerama.fr   \n",
       "2 2022-11-03 02:05:00+01:00 2022-11-03 02:50:00+01:00  C192.api.telerama.fr   \n",
       "\n",
       "    title                  subtitle  date desc_lang  \\\n",
       "0  Debris  Nous ne sommes pas seuls  2021        fr   \n",
       "1  Debris              Le rectangle  2021        fr   \n",
       "2  Debris             Pluie toxique  2021        fr   \n",
       "\n",
       "                                           desc_text category_lang  \\\n",
       "0  Saison:1 - Episode:2 - Finola Jones, agente du...            fr   \n",
       "1  Saison:1 - Episode:3 - Un mystérieux objet rec...            fr   \n",
       "2  Saison:1 - Episode:4 - Finola Jones, agente du...            fr   \n",
       "\n",
       "      category_text  ... episodenum_text audio_stereo rating_system  \\\n",
       "0  série dramatique  ...            0.1.    bilingual           CSA   \n",
       "1  série dramatique  ...            0.2.    bilingual           CSA   \n",
       "2  série dramatique  ...            0.3.    bilingual           CSA   \n",
       "\n",
       "  rating_value                                    rating_icon_src  \\\n",
       "0          -10  http://upload.wikimedia.org/wikipedia/commons/...   \n",
       "1          -10  http://upload.wikimedia.org/wikipedia/commons/...   \n",
       "2          -10  http://upload.wikimedia.org/wikipedia/commons/...   \n",
       "\n",
       "  starrating_value subtitles_type subtitles_language channel_name  \\\n",
       "0              4/5            NaN                NaN          TF1   \n",
       "1              4/5            NaN                NaN          TF1   \n",
       "2              4/5            NaN                NaN          TF1   \n",
       "\n",
       "                                        channel_icon  \n",
       "0  https://television.telerama.fr/sites/tr_master...  \n",
       "1  https://television.telerama.fr/sites/tr_master...  \n",
       "2  https://television.telerama.fr/sites/tr_master...  \n",
       "\n",
       "[3 rows x 24 columns]"
      ]
     },
     "execution_count": 5,
     "metadata": {},
     "output_type": "execute_result"
    }
   ],
   "source": [
    "# programs to dataframe\n",
    "df_programs = pd.DataFrame(data[\"tv\"][\"programme\"])\n",
    "df_programs = pd.json_normalize(df_programs.to_dict(orient=\"records\"), sep=\"_\")\n",
    "# Clean column names \n",
    "df_programs.columns = [col.replace(\"@\", \"\").replace(\"#\", \"\").replace(\"-\", \"\") for col in df_programs.columns]\n",
    "# Join with df_channels \n",
    "df_programs = df_programs.join(df_channels.set_index(\"channel_id\"), on=\"channel\")\n",
    "# Drop empty columns\n",
    "df_programs.dropna(axis=1, how='all', inplace=True)\n",
    "# Convert some columns to datetime\n",
    "df_programs[\"start\"] = pd.to_datetime(df_programs[\"start\"], infer_datetime_format=True)\n",
    "df_programs[\"stop\"] = pd.to_datetime(df_programs[\"stop\"], infer_datetime_format=True)\n",
    "\n",
    "df_programs.head(3)"
   ]
  },
  {
   "cell_type": "code",
   "execution_count": 6,
   "id": "6e6d9ef8-785b-4165-b139-9d807849f4e7",
   "metadata": {},
   "outputs": [
    {
     "data": {
      "text/plain": [
       "['start',\n",
       " 'stop',\n",
       " 'channel',\n",
       " 'title',\n",
       " 'subtitle',\n",
       " 'date',\n",
       " 'desc_lang',\n",
       " 'desc_text',\n",
       " 'category_lang',\n",
       " 'category_text',\n",
       " 'length_units',\n",
       " 'length_text',\n",
       " 'icon_src',\n",
       " 'episodenum_system',\n",
       " 'episodenum_text',\n",
       " 'audio_stereo',\n",
       " 'rating_system',\n",
       " 'rating_value',\n",
       " 'rating_icon_src',\n",
       " 'starrating_value',\n",
       " 'subtitles_type',\n",
       " 'subtitles_language',\n",
       " 'channel_name',\n",
       " 'channel_icon']"
      ]
     },
     "execution_count": 6,
     "metadata": {},
     "output_type": "execute_result"
    }
   ],
   "source": [
    "df_programs.columns.tolist()"
   ]
  },
  {
   "cell_type": "code",
   "execution_count": 7,
   "id": "411eb901-b7b2-42ee-b49b-24b11fe99340",
   "metadata": {
    "tags": []
   },
   "outputs": [],
   "source": [
    "# Compute duration in minutes\n",
    "# With this we can ignore \"length.units\" and \"length.text\" which is too convoluted\n",
    "df_programs[\"length_minutes\"] = (df_programs[\"stop\"] - df_programs[\"start\"]).apply(lambda x: int(x.total_seconds() / 60))"
   ]
  },
  {
   "cell_type": "code",
   "execution_count": 8,
   "id": "9648e185-218d-43e2-b52c-e957fb614a96",
   "metadata": {},
   "outputs": [
    {
     "data": {
      "text/plain": [
       "fr     8906\n",
       "NaN    1062\n",
       "Name: desc_lang, dtype: int64"
      ]
     },
     "execution_count": 8,
     "metadata": {},
     "output_type": "execute_result"
    },
    {
     "data": {
      "text/plain": [
       "fr    9968\n",
       "Name: category_lang, dtype: int64"
      ]
     },
     "execution_count": 8,
     "metadata": {},
     "output_type": "execute_result"
    },
    {
     "data": {
      "text/plain": [
       "série d'animation                       1342\n",
       "journal                                  654\n",
       "jeunesse : dessin animé dessin animé     639\n",
       "météo                                    583\n",
       "série humoristique                       511\n",
       "                                        ... \n",
       "film : biographie                          1\n",
       "documentaire lettres                       1\n",
       "sport : triathlon                          1\n",
       "emission spéciale                          1\n",
       "film : court métrage dramatique            1\n",
       "Name: category_text, Length: 187, dtype: int64"
      ]
     },
     "execution_count": 8,
     "metadata": {},
     "output_type": "execute_result"
    },
    {
     "data": {
      "text/plain": [
       "2022     410\n",
       "2021     456\n",
       "2020     337\n",
       "2019     343\n",
       "2018     307\n",
       "2017     307\n",
       "2016     151\n",
       "2015     165\n",
       "2014     114\n",
       "2013     164\n",
       "2012      89\n",
       "2011      84\n",
       "2010     168\n",
       "2009      93\n",
       "2008      28\n",
       "2007      29\n",
       "2006      66\n",
       "2005      44\n",
       "2004      38\n",
       "2003       7\n",
       "2002       2\n",
       "2001      37\n",
       "2000       8\n",
       "1999      27\n",
       "1997       3\n",
       "1996      51\n",
       "1995      85\n",
       "1993      23\n",
       "1992      78\n",
       "1990       3\n",
       "1989       3\n",
       "1988       2\n",
       "1985       2\n",
       "1984       2\n",
       "1983      18\n",
       "1981       1\n",
       "1980      36\n",
       "1976       2\n",
       "1974       1\n",
       "1972       1\n",
       "1969       1\n",
       "1966       1\n",
       "1957       1\n",
       "1937       1\n",
       "1933       1\n",
       "NaN     6178\n",
       "Name: date, dtype: int64"
      ]
     },
     "execution_count": 8,
     "metadata": {},
     "output_type": "execute_result"
    }
   ],
   "source": [
    "df_programs[\"desc_lang\"].value_counts(dropna=False)\n",
    "df_programs[\"category_lang\"].value_counts(dropna=False)\n",
    "df_programs[\"category_text\"].value_counts(dropna=False)\n",
    "df_programs[\"date\"].value_counts(dropna=False).sort_index(ascending=False)"
   ]
  },
  {
   "cell_type": "code",
   "execution_count": 9,
   "id": "df824e97-2986-4916-acb6-dc2e3ea07a92",
   "metadata": {
    "tags": []
   },
   "outputs": [],
   "source": [
    "# Select only relevant columns\n",
    "columns = [\n",
    "    'start',\n",
    "    'stop',\n",
    "    'length_minutes',\n",
    "    'channel_name',\n",
    "    'title',\n",
    "    'subtitle',\n",
    "    'date',\n",
    "    'desc_text',\n",
    "    'category_text',\n",
    "]\n",
    "df = df_programs[columns]"
   ]
  },
  {
   "cell_type": "code",
   "execution_count": 10,
   "id": "86d539cc-1283-41b6-931c-258efb5ef5e7",
   "metadata": {},
   "outputs": [],
   "source": [
    "import ipywidgets as widgets\n",
    "\n",
    "import warnings\n",
    "warnings.filterwarnings(\"ignore\", category=DeprecationWarning) "
   ]
  },
  {
   "cell_type": "code",
   "execution_count": 11,
   "id": "020ebd0b-90f6-48b3-a164-4c9172ea298c",
   "metadata": {},
   "outputs": [
    {
     "data": {
      "application/vnd.jupyter.widget-view+json": {
       "model_id": "93d6da401aac4cbfb56c9e01cd46de66",
       "version_major": 2,
       "version_minor": 0
      },
      "text/plain": [
       "VBox(children=(VBox(children=(Dropdown(description='Channel:', options=('TF1', 'France 2', 'France 3', 'Canal+…"
      ]
     },
     "execution_count": 11,
     "metadata": {},
     "output_type": "execute_result"
    }
   ],
   "source": [
    "a = widgets.Dropdown(\n",
    "    options=df_channels.channel_name.unique(),\n",
    "    value='TF1',\n",
    "    description='Channel:',\n",
    "    disabled=False,\n",
    ")\n",
    "\n",
    "def fn(a):\n",
    "    print(f' Viewing data for {a}')\n",
    "    df_a = df[df.channel_name == a]\n",
    "    grouped = df_a.groupby(\"category_text\").length_minutes.sum().sort_values(ascending=False)\n",
    "    fig = grouped.plot.barh()\n",
    "    fig.show()\n",
    "\n",
    "out = widgets.interactive_output(fn, {'a': a})\n",
    "\n",
    "widgets.VBox([widgets.VBox([a]), out])"
   ]
  }
 ],
 "metadata": {
  "kernelspec": {
   "display_name": "quotaclimat",
   "language": "python",
   "name": "quotaclimat"
  },
  "language_info": {
   "codemirror_mode": {
    "name": "ipython",
    "version": 3
   },
   "file_extension": ".py",
   "mimetype": "text/x-python",
   "name": "python",
   "nbconvert_exporter": "python",
   "pygments_lexer": "ipython3",
   "version": "3.10.6"
  }
 },
 "nbformat": 4,
 "nbformat_minor": 5
}
